{
 "cells": [
  {
   "cell_type": "code",
   "execution_count": 1,
   "metadata": {},
   "outputs": [
    {
     "name": "stderr",
     "output_type": "stream",
     "text": [
      "c:\\users\\maison\\appdata\\local\\programs\\python\\python36\\lib\\importlib\\_bootstrap.py:219: RuntimeWarning: spacy.morphology.Morphology size changed, may indicate binary incompatibility. Expected 104 from C header, got 112 from PyObject\n",
      "  return f(*args, **kwds)\n",
      "c:\\users\\maison\\appdata\\local\\programs\\python\\python36\\lib\\importlib\\_bootstrap.py:219: RuntimeWarning: spacy.vocab.Vocab size changed, may indicate binary incompatibility. Expected 96 from C header, got 104 from PyObject\n",
      "  return f(*args, **kwds)\n"
     ]
    }
   ],
   "source": [
    "import spacy\n",
    "import pandas as pd\n",
    "import numpy as np\n",
    "import neuralcoref\n",
    "import ast\n",
    "import random\n",
    "from tqdm import tqdm_notebook"
   ]
  },
  {
   "cell_type": "code",
   "execution_count": 4,
   "metadata": {},
   "outputs": [
    {
     "name": "stderr",
     "output_type": "stream",
     "text": [
      "C:\\Users\\Maison\\AppData\\Roaming\\Python\\Python36\\site-packages\\IPython\\core\\interactiveshell.py:3049: DtypeWarning: Columns (10,15,17,23,24,29,30,37) have mixed types. Specify dtype option on import or set low_memory=False.\n",
      "  interactivity=interactivity, compiler=compiler, result=result)\n"
     ]
    }
   ],
   "source": [
    "depeches = pd.read_csv(\"depeches.csv\")\n",
    "photos = pd.read_csv(\"photos.csv\",encoding='latin-1')\n",
    "\n",
    "depeches_treated = pd.read_pickle(\"final_dataframe.csv\")\n",
    "photos_treated = pd.read_pickle(\"photos_treated.csv\")"
   ]
  },
  {
   "cell_type": "code",
   "execution_count": 5,
   "metadata": {},
   "outputs": [],
   "source": [
    "scoring = pd.read_csv('scoring.csv', delimiter = \";\")\n",
    "dict_val = {}\n",
    "for i in range(scoring.shape[0]):\n",
    "    dict_val[scoring['function'][i]] = scoring['score_norm'][i]"
   ]
  },
  {
   "cell_type": "code",
   "execution_count": 6,
   "metadata": {},
   "outputs": [],
   "source": [
    "def dep_to_value(dep):\n",
    "    if(dep in dict_val.keys()):\n",
    "        return(dict_val[dep])\n",
    "    else:\n",
    "        return(0)\n",
    "    \n",
    "def dic_to_score(dic):\n",
    "    new_dic = {}\n",
    "    for key in dic.keys():\n",
    "        key_list = dic[key]\n",
    "        score_dep = [[dep_to_value(dep) for dep in l] for l in key_list]\n",
    "        score_dep_max = sum([max(l) for l in score_dep])\n",
    "        new_dic[key] = score_dep_max\n",
    "    return(new_dic)\n",
    "\n",
    "def corefs_to_score(dic):\n",
    "    new_dic = {}\n",
    "    for key in dic.keys():\n",
    "        key_list = dic[key]\n",
    "        if(key_list == []):\n",
    "            score_dep_max = 0\n",
    "        else:\n",
    "            score_dep = [[dep_to_value(dep) for dep in l[1]] for l in key_list]\n",
    "            score_dep_max = sum([max(l) for l in score_dep])\n",
    "        new_dic[key] = score_dep_max\n",
    "    return(new_dic)\n",
    "\n",
    "def dic_to_freq(dic):\n",
    "    new_dic = {}\n",
    "    s = 0\n",
    "    for key in dic.keys():\n",
    "        s += len(dic[key])\n",
    "    for key in dic.keys():\n",
    "        new_dic[key] = len(dic[key])/s\n",
    "    return(new_dic)\n",
    "\n",
    "def dic_to_occ(dic):\n",
    "    new_dic = {}\n",
    "    for key in dic.keys():\n",
    "        new_dic[key] = len(dic[key])\n",
    "    return(new_dic)"
   ]
  },
  {
   "cell_type": "code",
   "execution_count": 7,
   "metadata": {},
   "outputs": [],
   "source": [
    "depeches_treated.Ents = depeches_treated.Ents.apply(dic_to_score)\n",
    "photos_treated.Ents = photos_treated.Ents.apply(dic_to_score)\n",
    "\n",
    "depeches_treated.Corefs = depeches_treated.Corefs.apply(corefs_to_score)\n",
    "photos_treated.Corefs = photos_treated.Corefs.apply(corefs_to_score)\n",
    "\n",
    "depeches_treated.Freqs = depeches_treated.Labels.apply(dic_to_freq)\n",
    "photos_treated.Freqs = photos_treated.Labels.apply(dic_to_freq)\n",
    "\n",
    "depeches_treated.Occs = depeches_treated.Labels.apply(dic_to_occ)\n",
    "photos_treated.Occs = photos_treated.Labels.apply(dic_to_occ)"
   ]
  },
  {
   "cell_type": "code",
   "execution_count": 21,
   "metadata": {},
   "outputs": [],
   "source": [
    "def good_ent_type(ent):\n",
    "    if('LAW' in ent or 'QUANTITY' in ent or 'ORDINAL' in ent or \n",
    "       'CARDINAL' in ent or 'MONEY' in ent or 'TIME' in ent or \n",
    "       'PRODUCT' in ent or 'PERCENT' in ent):\n",
    "        return(False)\n",
    "    else:\n",
    "        return(True)"
   ]
  },
  {
   "cell_type": "code",
   "execution_count": 22,
   "metadata": {},
   "outputs": [],
   "source": [
    "photos = photos.loc[list(photos_treated.index), :]"
   ]
  },
  {
   "cell_type": "code",
   "execution_count": 27,
   "metadata": {},
   "outputs": [
    {
     "name": "stdout",
     "output_type": "stream",
     "text": [
      "13335\n",
      "16052\n"
     ]
    }
   ],
   "source": [
    "ev_depeches = []\n",
    "for ev in depeches.event:\n",
    "    for _ev in ev[1:-1].replace(\"'\",\"\").split(', '):\n",
    "        if(_ev not in ev_depeches):\n",
    "            ev_depeches.append(_ev)\n",
    "print(len(ev_depeches))\n",
    "\n",
    "ev_photos = []\n",
    "for ev in photos.event:\n",
    "    if(type(ev) != float):\n",
    "        for _ev in ev[1:-1].replace(\"'\",\"\").split(', '):\n",
    "            if(_ev not in ev_photos):\n",
    "                ev_photos.append(_ev)\n",
    "print(len(ev_photos))"
   ]
  },
  {
   "cell_type": "code",
   "execution_count": 30,
   "metadata": {},
   "outputs": [],
   "source": [
    "ev_inter = list(set(ev_depeches).intersection(ev_photos))\n",
    "in_inter_depeches = []\n",
    "in_inter_photos = []\n",
    "for ev in depeches.event:\n",
    "    if(set(ev[1:-1].replace(\"'\",\"\").split(', ')).intersection(ev_inter) != set()):\n",
    "        in_inter_depeches.append(True)\n",
    "    else:\n",
    "        in_inter_depeches.append(False)\n",
    "for ev in photos.event:\n",
    "    if(type(ev) == float):\n",
    "        in_inter_photos.append(False)\n",
    "    elif(set(ev[1:-1].replace(\"'\",\"\").split(', ')).intersection(ev_inter) != set()):\n",
    "        in_inter_photos.append(True)\n",
    "    else:\n",
    "        in_inter_photos.append(False)"
   ]
  },
  {
   "cell_type": "code",
   "execution_count": 32,
   "metadata": {},
   "outputs": [
    {
     "name": "stdout",
     "output_type": "stream",
     "text": [
      "10197\n",
      "49543\n"
     ]
    }
   ],
   "source": [
    "print(sum(in_inter_depeches))\n",
    "print(sum(in_inter_photos))"
   ]
  },
  {
   "cell_type": "code",
   "execution_count": 33,
   "metadata": {},
   "outputs": [],
   "source": [
    "new_depeches = depeches[in_inter_depeches]\n",
    "new_depeches_treated = depeches_treated[in_inter_depeches]\n",
    "\n",
    "new_photos = photos[in_inter_photos]\n",
    "new_photos_treated = photos_treated[in_inter_photos]"
   ]
  },
  {
   "cell_type": "code",
   "execution_count": 67,
   "metadata": {},
   "outputs": [],
   "source": [
    "def new_score(dic_list, w1 = 1, w2 = 1, w3 = 1):\n",
    "    final_dict = {}\n",
    "    for key in dic_list[0].keys():\n",
    "        score_key = 0\n",
    "        if(good_ent_type(dic_list[0][key])):\n",
    "            score_key = w1*(dic_list[1][key]/dic_list[4][key])+w2*(dic_list[2][key])+w3*(dic_list[3][key])\n",
    "        final_dict[key] = score_key\n",
    "    return(final_dict)\n",
    "\n",
    "def new_score_2(dic_list):\n",
    "    final_dict = {}\n",
    "    for key in dic_list[0].keys():\n",
    "        score_key = 0\n",
    "        if(good_ent_type(dic_list[0][key])):\n",
    "            score_key = (dic_list[1][key]+dic_list[2][key])*dic_list[3][key]\n",
    "        final_dict[key] = score_key\n",
    "    return(final_dict)\n",
    "\n",
    "def new_score_3(dic_list, w1 = 1, w2 = 1, w3 = 1):\n",
    "    final_dict = {}\n",
    "    for key in dic_list[0].keys():\n",
    "        score_key = 0\n",
    "        if(good_ent_type(dic_list[0][key])):\n",
    "            score_key = w1*(dic_list[1][key])+w2*(dic_list[2][key])+w3*(dic_list[3][key])\n",
    "        final_dict[key] = score_key\n",
    "    return(final_dict)"
   ]
  },
  {
   "cell_type": "code",
   "execution_count": 68,
   "metadata": {},
   "outputs": [
    {
     "name": "stderr",
     "output_type": "stream",
     "text": [
      "C:\\Users\\Maison\\AppData\\Roaming\\Python\\Python36\\site-packages\\ipykernel_launcher.py:1: TqdmDeprecationWarning: This function will be removed in tqdm==5.0.0\n",
      "Please use `tqdm.notebook.tqdm` instead of `tqdm.tqdm_notebook`\n",
      "  \"\"\"Entry point for launching an IPython kernel.\n"
     ]
    },
    {
     "data": {
      "application/vnd.jupyter.widget-view+json": {
       "model_id": "62764c1141464476a20a4a36328fbc52",
       "version_major": 2,
       "version_minor": 0
      },
      "text/plain": [
       "HBox(children=(FloatProgress(value=0.0, max=10197.0), HTML(value='')))"
      ]
     },
     "metadata": {},
     "output_type": "display_data"
    },
    {
     "name": "stdout",
     "output_type": "stream",
     "text": [
      "\n"
     ]
    },
    {
     "name": "stderr",
     "output_type": "stream",
     "text": [
      "C:\\Users\\Maison\\AppData\\Roaming\\Python\\Python36\\site-packages\\ipykernel_launcher.py:2: TqdmDeprecationWarning: This function will be removed in tqdm==5.0.0\n",
      "Please use `tqdm.notebook.tqdm` instead of `tqdm.tqdm_notebook`\n",
      "  \n"
     ]
    },
    {
     "data": {
      "application/vnd.jupyter.widget-view+json": {
       "model_id": "e83707298cf3479a98c7b77598bb53c1",
       "version_major": 2,
       "version_minor": 0
      },
      "text/plain": [
       "HBox(children=(FloatProgress(value=0.0, max=49543.0), HTML(value='')))"
      ]
     },
     "metadata": {},
     "output_type": "display_data"
    },
    {
     "name": "stdout",
     "output_type": "stream",
     "text": [
      "\n"
     ]
    }
   ],
   "source": [
    "final_score_depeches = [new_score_3(new_depeches_treated.iloc[i]) for i in tqdm_notebook(range(new_depeches_treated.shape[0]))]\n",
    "final_score_photos = [new_score_3(new_photos_treated.iloc[i]) for i in tqdm_notebook(range(new_photos_treated.shape[0]))]"
   ]
  },
  {
   "cell_type": "code",
   "execution_count": 39,
   "metadata": {},
   "outputs": [],
   "source": [
    "def dict_score(d1,d2):\n",
    "    keys = set(d1.keys()).intersection(d2.keys())\n",
    "    score = [d1[key]+d2[key] for key in keys]\n",
    "    return(sum(score))"
   ]
  },
  {
   "cell_type": "code",
   "execution_count": 69,
   "metadata": {},
   "outputs": [
    {
     "name": "stderr",
     "output_type": "stream",
     "text": [
      "C:\\Users\\Maison\\AppData\\Roaming\\Python\\Python36\\site-packages\\ipykernel_launcher.py:2: TqdmDeprecationWarning: This function will be removed in tqdm==5.0.0\n",
      "Please use `tqdm.notebook.tqdm` instead of `tqdm.tqdm_notebook`\n",
      "  \n"
     ]
    },
    {
     "data": {
      "application/vnd.jupyter.widget-view+json": {
       "model_id": "f55a660b19c14b9aac6bd0ab8162e95e",
       "version_major": 2,
       "version_minor": 0
      },
      "text/plain": [
       "HBox(children=(FloatProgress(value=0.0, max=10197.0), HTML(value='')))"
      ]
     },
     "metadata": {},
     "output_type": "display_data"
    },
    {
     "name": "stdout",
     "output_type": "stream",
     "text": [
      "\n"
     ]
    }
   ],
   "source": [
    "M = np.zeros((new_depeches_treated.shape[0], new_photos_treated.shape[0]))\n",
    "for i in tqdm_notebook(range(new_depeches_treated.shape[0])):\n",
    "    for j in range(new_photos_treated.shape[0]):\n",
    "        M[i,j] = dict_score(final_score_depeches[i], final_score_photos[j])"
   ]
  },
  {
   "cell_type": "code",
   "execution_count": 62,
   "metadata": {},
   "outputs": [],
   "source": [
    "def best_score(i,n):\n",
    "    L = [(j,M[i,j]) for j in range(M.shape[1])]\n",
    "    score = sorted(L, key = lambda tup: tup[1], reverse = True)\n",
    "    return(score[:n])\n",
    "\n",
    "def is_good_event(i,n):\n",
    "    events = new_depeches.iloc[i].event[1:-1].replace(\"'\",\"\").split(', ')\n",
    "    scores = best_score(i, n)\n",
    "    for p in scores:\n",
    "        if(type(new_photos.iloc[p[0]].event) != float):\n",
    "            photos_events = new_photos.iloc[p[0]].event[1:-1].replace(\"'\",\"\").split(', ')\n",
    "            if set(events).intersection(set(photos_events)) != set():\n",
    "                return(True)\n",
    "    return(False)\n",
    "\n",
    "def global_good_event(i,n):\n",
    "    score_global = [is_good_event(_i, n) for _i in tqdm_notebook(range(i))]\n",
    "    return(score_global)"
   ]
  },
  {
   "cell_type": "code",
   "execution_count": 70,
   "metadata": {},
   "outputs": [
    {
     "name": "stderr",
     "output_type": "stream",
     "text": [
      "C:\\Users\\Maison\\AppData\\Roaming\\Python\\Python36\\site-packages\\ipykernel_launcher.py:17: TqdmDeprecationWarning: This function will be removed in tqdm==5.0.0\n",
      "Please use `tqdm.notebook.tqdm` instead of `tqdm.tqdm_notebook`\n"
     ]
    },
    {
     "data": {
      "application/vnd.jupyter.widget-view+json": {
       "model_id": "7574c02c9a764ebc91e75f45334403bf",
       "version_major": 2,
       "version_minor": 0
      },
      "text/plain": [
       "HBox(children=(FloatProgress(value=0.0, max=10197.0), HTML(value='')))"
      ]
     },
     "metadata": {},
     "output_type": "display_data"
    },
    {
     "name": "stdout",
     "output_type": "stream",
     "text": [
      "\n"
     ]
    }
   ],
   "source": [
    "test = global_good_event(M.shape[0],6)"
   ]
  },
  {
   "cell_type": "code",
   "execution_count": 71,
   "metadata": {},
   "outputs": [
    {
     "data": {
      "text/plain": [
       "0.5264293419633226"
      ]
     },
     "execution_count": 71,
     "metadata": {},
     "output_type": "execute_result"
    }
   ],
   "source": [
    "np.mean(test)"
   ]
  }
 ],
 "metadata": {
  "kernelspec": {
   "display_name": "Python 3",
   "language": "python",
   "name": "python3"
  },
  "language_info": {
   "codemirror_mode": {
    "name": "ipython",
    "version": 3
   },
   "file_extension": ".py",
   "mimetype": "text/x-python",
   "name": "python",
   "nbconvert_exporter": "python",
   "pygments_lexer": "ipython3",
   "version": "3.6.8"
  },
  "latex_envs": {
   "LaTeX_envs_menu_present": true,
   "autoclose": false,
   "autocomplete": true,
   "bibliofile": "biblio.bib",
   "cite_by": "apalike",
   "current_citInitial": 1,
   "eqLabelWithNumbers": true,
   "eqNumInitial": 1,
   "hotkeys": {
    "equation": "Ctrl-E",
    "itemize": "Ctrl-I"
   },
   "labels_anchors": false,
   "latex_user_defs": false,
   "report_style_numbering": false,
   "user_envs_cfg": false
  },
  "varInspector": {
   "cols": {
    "lenName": 16,
    "lenType": 16,
    "lenVar": 40
   },
   "kernels_config": {
    "python": {
     "delete_cmd_postfix": "",
     "delete_cmd_prefix": "del ",
     "library": "var_list.py",
     "varRefreshCmd": "print(var_dic_list())"
    },
    "r": {
     "delete_cmd_postfix": ") ",
     "delete_cmd_prefix": "rm(",
     "library": "var_list.r",
     "varRefreshCmd": "cat(var_dic_list()) "
    }
   },
   "types_to_exclude": [
    "module",
    "function",
    "builtin_function_or_method",
    "instance",
    "_Feature"
   ],
   "window_display": false
  }
 },
 "nbformat": 4,
 "nbformat_minor": 2
}
