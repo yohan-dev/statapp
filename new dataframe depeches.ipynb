{
 "cells": [
  {
   "cell_type": "code",
   "execution_count": 1,
   "metadata": {},
   "outputs": [
    {
     "name": "stderr",
     "output_type": "stream",
     "text": [
      "c:\\users\\maison\\appdata\\local\\programs\\python\\python36\\lib\\importlib\\_bootstrap.py:219: RuntimeWarning: spacy.morphology.Morphology size changed, may indicate binary incompatibility. Expected 104 from C header, got 112 from PyObject\n",
      "  return f(*args, **kwds)\n",
      "c:\\users\\maison\\appdata\\local\\programs\\python\\python36\\lib\\importlib\\_bootstrap.py:219: RuntimeWarning: spacy.vocab.Vocab size changed, may indicate binary incompatibility. Expected 96 from C header, got 104 from PyObject\n",
      "  return f(*args, **kwds)\n",
      "C:\\Users\\Maison\\AppData\\Roaming\\Python\\Python36\\site-packages\\IPython\\core\\interactiveshell.py:3049: DtypeWarning: Columns (10,15,17,23,24,29,30,37) have mixed types. Specify dtype option on import or set low_memory=False.\n",
      "  interactivity=interactivity, compiler=compiler, result=result)\n"
     ]
    }
   ],
   "source": [
    "import spacy\n",
    "import pandas as pd\n",
    "import numpy as np\n",
    "import neuralcoref\n",
    "import ast\n",
    "import random\n",
    "from tqdm import tqdm_notebook\n",
    "\n",
    "depeches = pd.read_csv(\"depeches.csv\")\n",
    "photos = pd.read_csv(\"photos.csv\",encoding='latin-1')"
   ]
  },
  {
   "cell_type": "code",
   "execution_count": null,
   "metadata": {},
   "outputs": [],
   "source": [
    "nlp=spacy.load(\"en_core_web_md\")  \n",
    "neuralcoref.add_to_pipe(nlp,greedyness=0.5)"
   ]
  },
  {
   "cell_type": "code",
   "execution_count": 4,
   "metadata": {},
   "outputs": [
    {
     "name": "stderr",
     "output_type": "stream",
     "text": [
      "C:\\Users\\Maison\\AppData\\Roaming\\Python\\Python36\\site-packages\\ipykernel_launcher.py:1: TqdmDeprecationWarning: This function will be removed in tqdm==5.0.0\n",
      "Please use `tqdm.notebook.tqdm` instead of `tqdm.tqdm_notebook`\n",
      "  \"\"\"Entry point for launching an IPython kernel.\n"
     ]
    },
    {
     "data": {
      "application/vnd.jupyter.widget-view+json": {
       "model_id": "df3f621768ea415ab70d9629fcccae39",
       "version_major": 2,
       "version_minor": 0
      },
      "text/plain": [
       "HBox(children=(FloatProgress(value=0.0, max=19975.0), HTML(value='')))"
      ]
     },
     "metadata": {},
     "output_type": "display_data"
    },
    {
     "name": "stdout",
     "output_type": "stream",
     "text": [
      "\n"
     ]
    }
   ],
   "source": [
    "nlp_depeches = [nlp(depeches.news2[i]) for i in tqdm_notebook(range(depeches.shape[0]))]"
   ]
  },
  {
   "cell_type": "code",
   "execution_count": 60,
   "metadata": {},
   "outputs": [],
   "source": [
    "ents_dict = []\n",
    "for document in nlp_depeches:\n",
    "    dictionary = {}\n",
    "    for ent in document.ents:\n",
    "        dep_list = []\n",
    "        start = ent.start\n",
    "        end = ent.end\n",
    "        for i in range(start,end):\n",
    "            word = document[i]\n",
    "            if(word.head.text not in ent.text and (word.dep_ == 'compound' or word.dep_ == 'conj')):\n",
    "                while(word.dep_ == 'compound' or word.dep_ == 'conj'):\n",
    "                    word = word.head\n",
    "                dep_list.append(word.dep_)\n",
    "            else:\n",
    "                dep_list.append(word.dep_)\n",
    "        if(ent.text in dictionary.keys()):\n",
    "            dictionary[ent.text] += dep_list\n",
    "        else:\n",
    "            dictionary[ent.text] = dep_list\n",
    "    ents_dict.append(dictionary)"
   ]
  },
  {
   "cell_type": "code",
   "execution_count": 69,
   "metadata": {},
   "outputs": [],
   "source": [
    "ents_dict_str = [str(ents_dictionary) for ents_dictionary in ents_dict]\n",
    "ents_dict_df = pd.DataFrame(ents_dict_str)\n",
    "ents_dict_df.to_csv(\"ents_dict_depeches.csv\")"
   ]
  },
  {
   "cell_type": "code",
   "execution_count": 109,
   "metadata": {},
   "outputs": [],
   "source": [
    "def mentioned(ent, cluster):\n",
    "    for mention in cluster.mentions:\n",
    "        if(ent.text in mention.text):\n",
    "            return(True)"
   ]
  },
  {
   "cell_type": "code",
   "execution_count": 112,
   "metadata": {},
   "outputs": [],
   "source": [
    "corefs_dict = []\n",
    "for document in nlp_depeches:\n",
    "    dictionary = {}\n",
    "    clusters = document._.coref_clusters\n",
    "    for ent in document.ents:\n",
    "        corefs_list = []\n",
    "        for cluster in clusters:\n",
    "            if(mentioned(ent,cluster)):\n",
    "                for mention in cluster.mentions:\n",
    "                    mention_deps = []\n",
    "                    start = mention.start\n",
    "                    end = mention.end\n",
    "                    for i in range(start,end):\n",
    "                        word = document[i]\n",
    "                        if(word.head.text not in mention.text and (word.dep_ == 'compound' or word.dep_ == 'conj')):\n",
    "                            while(word.dep_ == 'compound' or word.dep_ == 'conj'):\n",
    "                                word = word.head\n",
    "                            mention_deps.append(word.dep_)\n",
    "                        else:\n",
    "                            mention_deps.append(word.dep_)\n",
    "                    corefs_list.append((mention.text, mention_deps))     \n",
    "        if(ent.text not in dictionary.keys()):\n",
    "            dictionary[ent.text] = corefs_list\n",
    "    corefs_dict.append(dictionary)"
   ]
  },
  {
   "cell_type": "code",
   "execution_count": 116,
   "metadata": {},
   "outputs": [],
   "source": [
    "corefs_dict_str = [str(corefs_dictionary) for corefs_dictionary in corefs_dict]\n",
    "corefs_dict_df = pd.DataFrame(corefs_dict_str)\n",
    "corefs_dict_df.to_csv(\"corefs_dict_depeches.csv\")"
   ]
  },
  {
   "cell_type": "code",
   "execution_count": 120,
   "metadata": {},
   "outputs": [],
   "source": [
    "labels_dict = []\n",
    "for document in nlp_depeches:\n",
    "    dictionary = {}\n",
    "    for ent in document.ents:\n",
    "        if(ent.text not in dictionary.keys()):\n",
    "            dictionary[ent.text] = [ent.label_]\n",
    "        else:\n",
    "            dictionary[ent.text] += [ent.label_]\n",
    "    labels_dict.append(dictionary)"
   ]
  },
  {
   "cell_type": "code",
   "execution_count": 121,
   "metadata": {},
   "outputs": [],
   "source": [
    "labels_dict_str = [str(labels_dictionary) for labels_dictionary in labels_dict]\n",
    "labels_dict_df = pd.DataFrame(labels_dict_str)\n",
    "labels_dict_df.to_csv(\"labels_dict_depeches.csv\")"
   ]
  },
  {
   "cell_type": "code",
   "execution_count": 126,
   "metadata": {},
   "outputs": [],
   "source": [
    "final_dataframe = pd.DataFrame({'Labels' : labels_dict, 'Ents' : ents_dict, 'Corefs' : corefs_dict})\n",
    "final_dataframe.to_pickle('final_dataframe.csv')"
   ]
  },
  {
   "cell_type": "code",
   "execution_count": 128,
   "metadata": {},
   "outputs": [
    {
     "data": {
      "text/html": [
       "<div>\n",
       "<style scoped>\n",
       "    .dataframe tbody tr th:only-of-type {\n",
       "        vertical-align: middle;\n",
       "    }\n",
       "\n",
       "    .dataframe tbody tr th {\n",
       "        vertical-align: top;\n",
       "    }\n",
       "\n",
       "    .dataframe thead th {\n",
       "        text-align: right;\n",
       "    }\n",
       "</style>\n",
       "<table border=\"1\" class=\"dataframe\">\n",
       "  <thead>\n",
       "    <tr style=\"text-align: right;\">\n",
       "      <th></th>\n",
       "      <th>Labels</th>\n",
       "      <th>Ents</th>\n",
       "      <th>Corefs</th>\n",
       "    </tr>\n",
       "  </thead>\n",
       "  <tbody>\n",
       "    <tr>\n",
       "      <th>0</th>\n",
       "      <td>{'Iranian': ['NORP'], '24': ['CARDINAL'], 'ISN...</td>\n",
       "      <td>{'Iranian': ['amod'], '24': ['nummod'], 'ISNA'...</td>\n",
       "      <td>{'Iranian': [], '24': [], 'ISNA': [], 'Wednesd...</td>\n",
       "    </tr>\n",
       "    <tr>\n",
       "      <th>1</th>\n",
       "      <td>{'Faf du Plessis': ['PERSON'], 'South Africa':...</td>\n",
       "      <td>{'Faf du Plessis': ['compound', 'compound', 'n...</td>\n",
       "      <td>{'Faf du Plessis': [], 'South Africa': [], 'th...</td>\n",
       "    </tr>\n",
       "    <tr>\n",
       "      <th>2</th>\n",
       "      <td>{'Malaysia': ['GPE', 'GPE'], 'Wednesday': ['DA...</td>\n",
       "      <td>{'Malaysia': ['nsubjpass', 'appos'], 'Wednesda...</td>\n",
       "      <td>{'Malaysia': [('Malaysia', ['nsubjpass']), ('M...</td>\n",
       "    </tr>\n",
       "    <tr>\n",
       "      <th>3</th>\n",
       "      <td>{'Frank Lampard': ['PERSON'], 'first': ['ORDIN...</td>\n",
       "      <td>{'Frank Lampard': ['compound', 'nsubj'], 'firs...</td>\n",
       "      <td>{'Frank Lampard': [('Frank Lampard', ['compoun...</td>\n",
       "    </tr>\n",
       "    <tr>\n",
       "      <th>4</th>\n",
       "      <td>{'each day': ['DATE'], 'China': ['GPE', 'GPE']...</td>\n",
       "      <td>{'each day': ['det', 'npadvmod'], 'China': ['p...</td>\n",
       "      <td>{'each day': [], 'China': [('China', ['pobj'])...</td>\n",
       "    </tr>\n",
       "  </tbody>\n",
       "</table>\n",
       "</div>"
      ],
      "text/plain": [
       "                                              Labels  \\\n",
       "0  {'Iranian': ['NORP'], '24': ['CARDINAL'], 'ISN...   \n",
       "1  {'Faf du Plessis': ['PERSON'], 'South Africa':...   \n",
       "2  {'Malaysia': ['GPE', 'GPE'], 'Wednesday': ['DA...   \n",
       "3  {'Frank Lampard': ['PERSON'], 'first': ['ORDIN...   \n",
       "4  {'each day': ['DATE'], 'China': ['GPE', 'GPE']...   \n",
       "\n",
       "                                                Ents  \\\n",
       "0  {'Iranian': ['amod'], '24': ['nummod'], 'ISNA'...   \n",
       "1  {'Faf du Plessis': ['compound', 'compound', 'n...   \n",
       "2  {'Malaysia': ['nsubjpass', 'appos'], 'Wednesda...   \n",
       "3  {'Frank Lampard': ['compound', 'nsubj'], 'firs...   \n",
       "4  {'each day': ['det', 'npadvmod'], 'China': ['p...   \n",
       "\n",
       "                                              Corefs  \n",
       "0  {'Iranian': [], '24': [], 'ISNA': [], 'Wednesd...  \n",
       "1  {'Faf du Plessis': [], 'South Africa': [], 'th...  \n",
       "2  {'Malaysia': [('Malaysia', ['nsubjpass']), ('M...  \n",
       "3  {'Frank Lampard': [('Frank Lampard', ['compoun...  \n",
       "4  {'each day': [], 'China': [('China', ['pobj'])...  "
      ]
     },
     "execution_count": 128,
     "metadata": {},
     "output_type": "execute_result"
    }
   ],
   "source": [
    "final_dataframe.head()"
   ]
  },
  {
   "cell_type": "code",
   "execution_count": 127,
   "metadata": {},
   "outputs": [
    {
     "data": {
      "text/html": [
       "<div>\n",
       "<style scoped>\n",
       "    .dataframe tbody tr th:only-of-type {\n",
       "        vertical-align: middle;\n",
       "    }\n",
       "\n",
       "    .dataframe tbody tr th {\n",
       "        vertical-align: top;\n",
       "    }\n",
       "\n",
       "    .dataframe thead th {\n",
       "        text-align: right;\n",
       "    }\n",
       "</style>\n",
       "<table border=\"1\" class=\"dataframe\">\n",
       "  <thead>\n",
       "    <tr style=\"text-align: right;\">\n",
       "      <th></th>\n",
       "      <th>Labels</th>\n",
       "      <th>Ents</th>\n",
       "      <th>Corefs</th>\n",
       "    </tr>\n",
       "  </thead>\n",
       "  <tbody>\n",
       "    <tr>\n",
       "      <th>0</th>\n",
       "      <td>{'Iranian': ['NORP'], '24': ['CARDINAL'], 'ISN...</td>\n",
       "      <td>{'Iranian': ['amod'], '24': ['nummod'], 'ISNA'...</td>\n",
       "      <td>{'Iranian': [], '24': [], 'ISNA': [], 'Wednesd...</td>\n",
       "    </tr>\n",
       "    <tr>\n",
       "      <th>1</th>\n",
       "      <td>{'Faf du Plessis': ['PERSON'], 'South Africa':...</td>\n",
       "      <td>{'Faf du Plessis': ['compound', 'compound', 'n...</td>\n",
       "      <td>{'Faf du Plessis': [], 'South Africa': [], 'th...</td>\n",
       "    </tr>\n",
       "    <tr>\n",
       "      <th>2</th>\n",
       "      <td>{'Malaysia': ['GPE', 'GPE'], 'Wednesday': ['DA...</td>\n",
       "      <td>{'Malaysia': ['nsubjpass', 'appos'], 'Wednesda...</td>\n",
       "      <td>{'Malaysia': [('Malaysia', ['nsubjpass']), ('M...</td>\n",
       "    </tr>\n",
       "    <tr>\n",
       "      <th>3</th>\n",
       "      <td>{'Frank Lampard': ['PERSON'], 'first': ['ORDIN...</td>\n",
       "      <td>{'Frank Lampard': ['compound', 'nsubj'], 'firs...</td>\n",
       "      <td>{'Frank Lampard': [('Frank Lampard', ['compoun...</td>\n",
       "    </tr>\n",
       "    <tr>\n",
       "      <th>4</th>\n",
       "      <td>{'each day': ['DATE'], 'China': ['GPE', 'GPE']...</td>\n",
       "      <td>{'each day': ['det', 'npadvmod'], 'China': ['p...</td>\n",
       "      <td>{'each day': [], 'China': [('China', ['pobj'])...</td>\n",
       "    </tr>\n",
       "  </tbody>\n",
       "</table>\n",
       "</div>"
      ],
      "text/plain": [
       "                                              Labels  \\\n",
       "0  {'Iranian': ['NORP'], '24': ['CARDINAL'], 'ISN...   \n",
       "1  {'Faf du Plessis': ['PERSON'], 'South Africa':...   \n",
       "2  {'Malaysia': ['GPE', 'GPE'], 'Wednesday': ['DA...   \n",
       "3  {'Frank Lampard': ['PERSON'], 'first': ['ORDIN...   \n",
       "4  {'each day': ['DATE'], 'China': ['GPE', 'GPE']...   \n",
       "\n",
       "                                                Ents  \\\n",
       "0  {'Iranian': ['amod'], '24': ['nummod'], 'ISNA'...   \n",
       "1  {'Faf du Plessis': ['compound', 'compound', 'n...   \n",
       "2  {'Malaysia': ['nsubjpass', 'appos'], 'Wednesda...   \n",
       "3  {'Frank Lampard': ['compound', 'nsubj'], 'firs...   \n",
       "4  {'each day': ['det', 'npadvmod'], 'China': ['p...   \n",
       "\n",
       "                                              Corefs  \n",
       "0  {'Iranian': [], '24': [], 'ISNA': [], 'Wednesd...  \n",
       "1  {'Faf du Plessis': [], 'South Africa': [], 'th...  \n",
       "2  {'Malaysia': [('Malaysia', ['nsubjpass']), ('M...  \n",
       "3  {'Frank Lampard': [('Frank Lampard', ['compoun...  \n",
       "4  {'each day': [], 'China': [('China', ['pobj'])...  "
      ]
     },
     "execution_count": 127,
     "metadata": {},
     "output_type": "execute_result"
    }
   ],
   "source": [
    "test_dataframe = pd.read_pickle('final_dataframe.csv')\n",
    "test_dataframe.head()"
   ]
  },
  {
   "cell_type": "code",
   "execution_count": 130,
   "metadata": {},
   "outputs": [
    {
     "data": {
      "text/plain": [
       "True"
      ]
     },
     "execution_count": 130,
     "metadata": {},
     "output_type": "execute_result"
    }
   ],
   "source": [
    "final_dataframe.equals(test_dataframe)"
   ]
  }
 ],
 "metadata": {
  "kernelspec": {
   "display_name": "Python 3",
   "language": "python",
   "name": "python3"
  },
  "language_info": {
   "codemirror_mode": {
    "name": "ipython",
    "version": 3
   },
   "file_extension": ".py",
   "mimetype": "text/x-python",
   "name": "python",
   "nbconvert_exporter": "python",
   "pygments_lexer": "ipython3",
   "version": "3.6.8"
  },
  "varInspector": {
   "cols": {
    "lenName": 16,
    "lenType": 16,
    "lenVar": 40
   },
   "kernels_config": {
    "python": {
     "delete_cmd_postfix": "",
     "delete_cmd_prefix": "del ",
     "library": "var_list.py",
     "varRefreshCmd": "print(var_dic_list())"
    },
    "r": {
     "delete_cmd_postfix": ") ",
     "delete_cmd_prefix": "rm(",
     "library": "var_list.r",
     "varRefreshCmd": "cat(var_dic_list()) "
    }
   },
   "types_to_exclude": [
    "module",
    "function",
    "builtin_function_or_method",
    "instance",
    "_Feature"
   ],
   "window_display": false
  }
 },
 "nbformat": 4,
 "nbformat_minor": 2
}
