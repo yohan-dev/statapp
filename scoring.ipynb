{
 "cells": [
  {
   "cell_type": "code",
   "execution_count": 1,
   "metadata": {},
   "outputs": [
    {
     "name": "stderr",
     "output_type": "stream",
     "text": [
      "c:\\users\\dimit\\appdata\\local\\programs\\python\\python37\\lib\\site-packages\\IPython\\core\\interactiveshell.py:3057: DtypeWarning: Columns (3,21,22,33,35,39,43) have mixed types. Specify dtype option on import or set low_memory=False.\n",
      "  interactivity=interactivity, compiler=compiler, result=result)\n"
     ]
    }
   ],
   "source": [
    "import time\n",
    "import pandas as pd\n",
    "import spacy\n",
    "import en_core_web_sm\n",
    "from spacy import displacy\n",
    "from collections import Counter\n",
    "pd.set_option('mode.chained_assignment', None)\n",
    "\n",
    "nlp = en_core_web_sm.load()\n",
    "\n",
    "data_raw = pd.read_csv('pictures_sample.csv')"
   ]
  },
  {
   "cell_type": "code",
   "execution_count": 2,
   "metadata": {},
   "outputs": [
    {
     "data": {
      "text/plain": [
       "162"
      ]
     },
     "execution_count": 2,
     "metadata": {},
     "output_type": "execute_result"
    }
   ],
   "source": [
    "from bs4 import BeautifulSoup\n",
    "import requests\n",
    "import re\n",
    "\n",
    "def url_to_string(url):\n",
    "    res = requests.get(url)\n",
    "    html = res.text\n",
    "    soup = BeautifulSoup(html, 'html5lib')\n",
    "    for script in soup([\"script\", \"style\", 'aside']):\n",
    "        script.extract()\n",
    "    return \" \".join(re.split(r'[\\n\\t]+', soup.get_text()))\n",
    "\n",
    "ny_bb = url_to_string('https://www.nytimes.com/2018/08/13/us/politics/peter-strzok-fired-fbi.html?hp&action=click&pgtype=Homepage&clickSource=story-heading&module=first-column-region&region=top-news&WT.nav=top-news')\n",
    "article = nlp(ny_bb)\n",
    "len(article.ents)"
   ]
  },
  {
   "cell_type": "markdown",
   "metadata": {},
   "source": [
    "# Nettoyage de la base de données\n",
    "\n",
    "Enlevage des doublons et des données de langue différente de l'anglais puis sélection des articles en rapport."
   ]
  },
  {
   "cell_type": "code",
   "execution_count": 10,
   "metadata": {},
   "outputs": [
    {
     "name": "stdout",
     "output_type": "stream",
     "text": [
      "US-British actress Sienna Miller poses after unveiling her dedicated beach locker room on the Promenade des Planches at the 45th Deauville US Film Festival in Deauville, western France, on September 11, 2019. \n",
      "LOIC VENANCE / AFP\n",
      "(221764, 54)\n",
      "US-British actress Sienna Miller poses after unveiling her dedicated beach locker room on the Promenade des Planches at the 45th Deauville US Film Festival in Deauville, western France, on September 11, 2019. \n",
      "LOIC VENANCE / AFP\n",
      "(221764, 54)\n"
     ]
    }
   ],
   "source": [
    "print(data_raw.Description[0])\n",
    "print(data_raw.shape)"
   ]
  },
  {
   "cell_type": "code",
   "execution_count": 3,
   "metadata": {},
   "outputs": [
    {
     "name": "stdout",
     "output_type": "stream",
     "text": [
      "(179392, 54)\n"
     ]
    }
   ],
   "source": [
    "data_english = data_raw[data_raw.Language == 'EN']\n",
    "print(data_english.shape)"
   ]
  },
  {
   "cell_type": "code",
   "execution_count": 4,
   "metadata": {},
   "outputs": [],
   "source": [
    "def author_del(text):\n",
    "    text_s = text\n",
    "    while(text_s[-1] != '\\n' and len(text_s) > 1):\n",
    "        text_s = text_s[:-1]\n",
    "    if(len(text_s) <= 1):\n",
    "        return(text)\n",
    "    return(text_s[:-1])"
   ]
  },
  {
   "cell_type": "code",
   "execution_count": 5,
   "metadata": {},
   "outputs": [
    {
     "name": "stdout",
     "output_type": "stream",
     "text": [
      "(82608, 54)\n"
     ]
    }
   ],
   "source": [
    "data_english.Description = data_english.Description.apply(author_del)\n",
    "data_english.drop_duplicates(subset='Description', keep='first', inplace=True)\n",
    "print(data_english.shape)"
   ]
  },
  {
   "cell_type": "code",
   "execution_count": 6,
   "metadata": {},
   "outputs": [],
   "source": [
    "def contains(text, word_list):\n",
    "    counter = False\n",
    "    for word in word_list:\n",
    "        if(word in text):\n",
    "            counter = True\n",
    "    return(counter)"
   ]
  },
  {
   "cell_type": "code",
   "execution_count": 7,
   "metadata": {},
   "outputs": [],
   "source": [
    "def unique(list):\n",
    "    L = []\n",
    "    for l in list:\n",
    "        if(l not in L):\n",
    "            L.append(l)\n",
    "    return(L)"
   ]
  },
  {
   "cell_type": "code",
   "execution_count": 8,
   "metadata": {},
   "outputs": [
    {
     "name": "stdout",
     "output_type": "stream",
     "text": [
      "['F.B.I.', 'Peter Strzok', 'Texts', 'The New York Times', 'InLog InToday', 'byContinue', 'FiredPeter Strzok', 'Trump', 'The New York TimesBy Adam', 'Michael S. SchmidtAug', '2018WASHINGTON', 'Hillary Clinton', 'Russia', 'Strzok', 'Lisa Page', 'Robert S. Mueller III', 'Office of Professional Responsibility', 'House', 'David Bowdich', 'the Office of Professional Responsibility', 'Bowdich', 'Christopher A. Wray', 'Aitan Goelman', 'Wray', 'Congress', 'Goelman', 'Page', 'Michael E. Horowitz', 'Clinton', 'Horowitz', 'Mueller', 'Anthony D. Weiner', 'Weiner', 'James B. Comey', 'Andrew G. McCabe', 'McCabe', 'Georgetown University', 'Army', 'C.I.A.', 'China', 'the United States', 'ed columnistseditorialsop-ed', 'artsart & designbooksdancemoviesmusicPop Culturetelevisiontheaterwatchingvideo', 'CenterWirecutterLive EventsThe Learning Networktools & servicesN.Y.C.', 'ServiceTerms of SaleSite MapHelpSubscriptions']\n"
     ]
    }
   ],
   "source": [
    "important_entities = []\n",
    "\n",
    "for ent in article.ents:\n",
    "    if(ent.label_ == \"PERSON\" or ent.label_ == \"GPE\" or ent.label_ == \"ORG\"):\n",
    "        important_entities.append(ent.text)\n",
    "\n",
    "important_entities = unique(important_entities)\n",
    "print(important_entities)"
   ]
  },
  {
   "cell_type": "code",
   "execution_count": 9,
   "metadata": {},
   "outputs": [],
   "source": [
    "related = [contains(text, important_entities) for text in data_english.Description]"
   ]
  },
  {
   "cell_type": "code",
   "execution_count": 10,
   "metadata": {},
   "outputs": [
    {
     "name": "stdout",
     "output_type": "stream",
     "text": [
      "(8108, 54)\n"
     ]
    }
   ],
   "source": [
    "reduced_data = data_english[related]\n",
    "print(reduced_data.shape)"
   ]
  },
  {
   "cell_type": "markdown",
   "metadata": {},
   "source": [
    "# Scoring entre le texte et les descriptions\n",
    "\n",
    "### I) Méthode brute, phrase par phrase.\n",
    "\n",
    "On reprend l'article du début."
   ]
  },
  {
   "cell_type": "code",
   "execution_count": 11,
   "metadata": {},
   "outputs": [],
   "source": [
    "sentences = [x for x in article.sents]   "
   ]
  },
  {
   "cell_type": "code",
   "execution_count": 32,
   "metadata": {},
   "outputs": [],
   "source": [
    "scoring = pd.read_csv('scoring.csv', delimiter = \";\")"
   ]
  },
  {
   "cell_type": "code",
   "execution_count": 34,
   "metadata": {},
   "outputs": [],
   "source": [
    "def imp(t):\n",
    "    return(float(scoring[scoring['function'] == t].score_norm))\n",
    "\n",
    "def find(sentence, word):\n",
    "    f = []\n",
    "    for i in range(len(sentence)):\n",
    "        if str(sentence[i]) == word:\n",
    "            f.append(i)\n",
    "    return(f)\n",
    "\n",
    "def importance(s):\n",
    "    L = {}\n",
    "    for ent in s.ents:\n",
    "        m = 0\n",
    "        for e in ent.text.split():\n",
    "            ent_indexes = find(s, e)   \n",
    "            for index in ent_indexes:\n",
    "                p = s[index]\n",
    "                score = imp(p.dep_)\n",
    "                if score > m:\n",
    "                    m = score\n",
    "        if ent.text not in L.keys():\n",
    "            L[ent.text] = m\n",
    "        else:\n",
    "            L[ent.text] += m\n",
    "    return(L)\n",
    "    \n",
    "def similarity(s1, s2):\n",
    "    score = 0\n",
    "    i1 = importance(s1)\n",
    "    i2 = importance(s2)\n",
    "    for i in i1.keys():\n",
    "        if i in i2.keys():\n",
    "            score += (i1[i]+i2[i])/2\n",
    "    return(score)    \n",
    "\n",
    "def sim(desc, art):\n",
    "    score = 0\n",
    "    s1 = [x for x in desc.sents] \n",
    "    for x in s1:\n",
    "        for y in art:\n",
    "            score += similarity(x,y)\n",
    "    return(score)"
   ]
  },
  {
   "cell_type": "code",
   "execution_count": 13,
   "metadata": {},
   "outputs": [],
   "source": [
    "L = [nlp(i) for i in reduced_data.Description]"
   ]
  },
  {
   "cell_type": "code",
   "execution_count": 35,
   "metadata": {},
   "outputs": [
    {
     "ename": "KeyboardInterrupt",
     "evalue": "",
     "output_type": "error",
     "traceback": [
      "\u001b[1;31m---------------------------------------------------------------------------\u001b[0m",
      "\u001b[1;31mKeyboardInterrupt\u001b[0m                         Traceback (most recent call last)",
      "\u001b[1;32m<ipython-input-35-67ff13be9e86>\u001b[0m in \u001b[0;36m<module>\u001b[1;34m\u001b[0m\n\u001b[1;32m----> 1\u001b[1;33m \u001b[0mL_score\u001b[0m \u001b[1;33m=\u001b[0m \u001b[1;33m[\u001b[0m\u001b[0msim\u001b[0m\u001b[1;33m(\u001b[0m\u001b[0mi\u001b[0m\u001b[1;33m,\u001b[0m \u001b[0msentences\u001b[0m\u001b[1;33m)\u001b[0m \u001b[1;32mfor\u001b[0m \u001b[0mi\u001b[0m \u001b[1;32min\u001b[0m \u001b[0mL\u001b[0m\u001b[1;33m]\u001b[0m\u001b[1;33m\u001b[0m\u001b[1;33m\u001b[0m\u001b[0m\n\u001b[0m",
      "\u001b[1;32m<ipython-input-35-67ff13be9e86>\u001b[0m in \u001b[0;36m<listcomp>\u001b[1;34m(.0)\u001b[0m\n\u001b[1;32m----> 1\u001b[1;33m \u001b[0mL_score\u001b[0m \u001b[1;33m=\u001b[0m \u001b[1;33m[\u001b[0m\u001b[0msim\u001b[0m\u001b[1;33m(\u001b[0m\u001b[0mi\u001b[0m\u001b[1;33m,\u001b[0m \u001b[0msentences\u001b[0m\u001b[1;33m)\u001b[0m \u001b[1;32mfor\u001b[0m \u001b[0mi\u001b[0m \u001b[1;32min\u001b[0m \u001b[0mL\u001b[0m\u001b[1;33m]\u001b[0m\u001b[1;33m\u001b[0m\u001b[1;33m\u001b[0m\u001b[0m\n\u001b[0m",
      "\u001b[1;32m<ipython-input-34-f0bf5726a99e>\u001b[0m in \u001b[0;36msim\u001b[1;34m(desc, art)\u001b[0m\n\u001b[0;32m     40\u001b[0m     \u001b[1;32mfor\u001b[0m \u001b[0mx\u001b[0m \u001b[1;32min\u001b[0m \u001b[0ms1\u001b[0m\u001b[1;33m:\u001b[0m\u001b[1;33m\u001b[0m\u001b[1;33m\u001b[0m\u001b[0m\n\u001b[0;32m     41\u001b[0m         \u001b[1;32mfor\u001b[0m \u001b[0my\u001b[0m \u001b[1;32min\u001b[0m \u001b[0mart\u001b[0m\u001b[1;33m:\u001b[0m\u001b[1;33m\u001b[0m\u001b[1;33m\u001b[0m\u001b[0m\n\u001b[1;32m---> 42\u001b[1;33m             \u001b[0mscore\u001b[0m \u001b[1;33m+=\u001b[0m \u001b[0msimilarity\u001b[0m\u001b[1;33m(\u001b[0m\u001b[0mx\u001b[0m\u001b[1;33m,\u001b[0m\u001b[0my\u001b[0m\u001b[1;33m)\u001b[0m\u001b[1;33m\u001b[0m\u001b[1;33m\u001b[0m\u001b[0m\n\u001b[0m\u001b[0;32m     43\u001b[0m     \u001b[1;32mreturn\u001b[0m\u001b[1;33m(\u001b[0m\u001b[0mscore\u001b[0m\u001b[1;33m)\u001b[0m\u001b[1;33m\u001b[0m\u001b[1;33m\u001b[0m\u001b[0m\n",
      "\u001b[1;32m<ipython-input-34-f0bf5726a99e>\u001b[0m in \u001b[0;36msimilarity\u001b[1;34m(s1, s2)\u001b[0m\n\u001b[0;32m     28\u001b[0m \u001b[1;32mdef\u001b[0m \u001b[0msimilarity\u001b[0m\u001b[1;33m(\u001b[0m\u001b[0ms1\u001b[0m\u001b[1;33m,\u001b[0m \u001b[0ms2\u001b[0m\u001b[1;33m)\u001b[0m\u001b[1;33m:\u001b[0m\u001b[1;33m\u001b[0m\u001b[1;33m\u001b[0m\u001b[0m\n\u001b[0;32m     29\u001b[0m     \u001b[0mscore\u001b[0m \u001b[1;33m=\u001b[0m \u001b[1;36m0\u001b[0m\u001b[1;33m\u001b[0m\u001b[1;33m\u001b[0m\u001b[0m\n\u001b[1;32m---> 30\u001b[1;33m     \u001b[0mi1\u001b[0m \u001b[1;33m=\u001b[0m \u001b[0mimportance\u001b[0m\u001b[1;33m(\u001b[0m\u001b[0ms1\u001b[0m\u001b[1;33m)\u001b[0m\u001b[1;33m\u001b[0m\u001b[1;33m\u001b[0m\u001b[0m\n\u001b[0m\u001b[0;32m     31\u001b[0m     \u001b[0mi2\u001b[0m \u001b[1;33m=\u001b[0m \u001b[0mimportance\u001b[0m\u001b[1;33m(\u001b[0m\u001b[0ms2\u001b[0m\u001b[1;33m)\u001b[0m\u001b[1;33m\u001b[0m\u001b[1;33m\u001b[0m\u001b[0m\n\u001b[0;32m     32\u001b[0m     \u001b[1;32mfor\u001b[0m \u001b[0mi\u001b[0m \u001b[1;32min\u001b[0m \u001b[0mi1\u001b[0m\u001b[1;33m.\u001b[0m\u001b[0mkeys\u001b[0m\u001b[1;33m(\u001b[0m\u001b[1;33m)\u001b[0m\u001b[1;33m:\u001b[0m\u001b[1;33m\u001b[0m\u001b[1;33m\u001b[0m\u001b[0m\n",
      "\u001b[1;32m<ipython-input-34-f0bf5726a99e>\u001b[0m in \u001b[0;36mimportance\u001b[1;34m(s)\u001b[0m\n\u001b[0;32m     17\u001b[0m             \u001b[1;32mfor\u001b[0m \u001b[0mindex\u001b[0m \u001b[1;32min\u001b[0m \u001b[0ment_indexes\u001b[0m\u001b[1;33m:\u001b[0m\u001b[1;33m\u001b[0m\u001b[1;33m\u001b[0m\u001b[0m\n\u001b[0;32m     18\u001b[0m                 \u001b[0mp\u001b[0m \u001b[1;33m=\u001b[0m \u001b[0ms\u001b[0m\u001b[1;33m[\u001b[0m\u001b[0mindex\u001b[0m\u001b[1;33m]\u001b[0m\u001b[1;33m\u001b[0m\u001b[1;33m\u001b[0m\u001b[0m\n\u001b[1;32m---> 19\u001b[1;33m                 \u001b[0mscore\u001b[0m \u001b[1;33m=\u001b[0m \u001b[0mimp\u001b[0m\u001b[1;33m(\u001b[0m\u001b[0mp\u001b[0m\u001b[1;33m.\u001b[0m\u001b[0mdep_\u001b[0m\u001b[1;33m)\u001b[0m\u001b[1;33m\u001b[0m\u001b[1;33m\u001b[0m\u001b[0m\n\u001b[0m\u001b[0;32m     20\u001b[0m                 \u001b[1;32mif\u001b[0m \u001b[0mscore\u001b[0m \u001b[1;33m>\u001b[0m \u001b[0mm\u001b[0m\u001b[1;33m:\u001b[0m\u001b[1;33m\u001b[0m\u001b[1;33m\u001b[0m\u001b[0m\n\u001b[0;32m     21\u001b[0m                     \u001b[0mm\u001b[0m \u001b[1;33m=\u001b[0m \u001b[0mscore\u001b[0m\u001b[1;33m\u001b[0m\u001b[1;33m\u001b[0m\u001b[0m\n",
      "\u001b[1;32m<ipython-input-34-f0bf5726a99e>\u001b[0m in \u001b[0;36mimp\u001b[1;34m(t)\u001b[0m\n\u001b[0;32m      1\u001b[0m \u001b[1;32mdef\u001b[0m \u001b[0mimp\u001b[0m\u001b[1;33m(\u001b[0m\u001b[0mt\u001b[0m\u001b[1;33m)\u001b[0m\u001b[1;33m:\u001b[0m\u001b[1;33m\u001b[0m\u001b[1;33m\u001b[0m\u001b[0m\n\u001b[1;32m----> 2\u001b[1;33m     \u001b[1;32mreturn\u001b[0m\u001b[1;33m(\u001b[0m\u001b[0mfloat\u001b[0m\u001b[1;33m(\u001b[0m\u001b[0mscoring\u001b[0m\u001b[1;33m[\u001b[0m\u001b[0mscoring\u001b[0m\u001b[1;33m[\u001b[0m\u001b[1;34m'function'\u001b[0m\u001b[1;33m]\u001b[0m \u001b[1;33m==\u001b[0m \u001b[0mt\u001b[0m\u001b[1;33m]\u001b[0m\u001b[1;33m.\u001b[0m\u001b[0mscore_norm\u001b[0m\u001b[1;33m)\u001b[0m\u001b[1;33m)\u001b[0m\u001b[1;33m\u001b[0m\u001b[1;33m\u001b[0m\u001b[0m\n\u001b[0m\u001b[0;32m      3\u001b[0m \u001b[1;33m\u001b[0m\u001b[0m\n\u001b[0;32m      4\u001b[0m \u001b[1;32mdef\u001b[0m \u001b[0mfind\u001b[0m\u001b[1;33m(\u001b[0m\u001b[0msentence\u001b[0m\u001b[1;33m,\u001b[0m \u001b[0mword\u001b[0m\u001b[1;33m)\u001b[0m\u001b[1;33m:\u001b[0m\u001b[1;33m\u001b[0m\u001b[1;33m\u001b[0m\u001b[0m\n\u001b[0;32m      5\u001b[0m     \u001b[0mf\u001b[0m \u001b[1;33m=\u001b[0m \u001b[1;33m[\u001b[0m\u001b[1;33m]\u001b[0m\u001b[1;33m\u001b[0m\u001b[1;33m\u001b[0m\u001b[0m\n",
      "\u001b[1;32mc:\\users\\dimit\\appdata\\local\\programs\\python\\python37\\lib\\site-packages\\pandas\\core\\frame.py\u001b[0m in \u001b[0;36m__getitem__\u001b[1;34m(self, key)\u001b[0m\n\u001b[0;32m   2916\u001b[0m         \u001b[1;31m# Do we have a (boolean) 1d indexer?\u001b[0m\u001b[1;33m\u001b[0m\u001b[1;33m\u001b[0m\u001b[1;33m\u001b[0m\u001b[0m\n\u001b[0;32m   2917\u001b[0m         \u001b[1;32mif\u001b[0m \u001b[0mcom\u001b[0m\u001b[1;33m.\u001b[0m\u001b[0mis_bool_indexer\u001b[0m\u001b[1;33m(\u001b[0m\u001b[0mkey\u001b[0m\u001b[1;33m)\u001b[0m\u001b[1;33m:\u001b[0m\u001b[1;33m\u001b[0m\u001b[1;33m\u001b[0m\u001b[0m\n\u001b[1;32m-> 2918\u001b[1;33m             \u001b[1;32mreturn\u001b[0m \u001b[0mself\u001b[0m\u001b[1;33m.\u001b[0m\u001b[0m_getitem_bool_array\u001b[0m\u001b[1;33m(\u001b[0m\u001b[0mkey\u001b[0m\u001b[1;33m)\u001b[0m\u001b[1;33m\u001b[0m\u001b[1;33m\u001b[0m\u001b[0m\n\u001b[0m\u001b[0;32m   2919\u001b[0m \u001b[1;33m\u001b[0m\u001b[0m\n\u001b[0;32m   2920\u001b[0m         \u001b[1;31m# We are left with two options: a single key, and a collection of keys,\u001b[0m\u001b[1;33m\u001b[0m\u001b[1;33m\u001b[0m\u001b[1;33m\u001b[0m\u001b[0m\n",
      "\u001b[1;32mc:\\users\\dimit\\appdata\\local\\programs\\python\\python37\\lib\\site-packages\\pandas\\core\\frame.py\u001b[0m in \u001b[0;36m_getitem_bool_array\u001b[1;34m(self, key)\u001b[0m\n\u001b[0;32m   2967\u001b[0m         \u001b[0mkey\u001b[0m \u001b[1;33m=\u001b[0m \u001b[0mcheck_bool_indexer\u001b[0m\u001b[1;33m(\u001b[0m\u001b[0mself\u001b[0m\u001b[1;33m.\u001b[0m\u001b[0mindex\u001b[0m\u001b[1;33m,\u001b[0m \u001b[0mkey\u001b[0m\u001b[1;33m)\u001b[0m\u001b[1;33m\u001b[0m\u001b[1;33m\u001b[0m\u001b[0m\n\u001b[0;32m   2968\u001b[0m         \u001b[0mindexer\u001b[0m \u001b[1;33m=\u001b[0m \u001b[0mkey\u001b[0m\u001b[1;33m.\u001b[0m\u001b[0mnonzero\u001b[0m\u001b[1;33m(\u001b[0m\u001b[1;33m)\u001b[0m\u001b[1;33m[\u001b[0m\u001b[1;36m0\u001b[0m\u001b[1;33m]\u001b[0m\u001b[1;33m\u001b[0m\u001b[1;33m\u001b[0m\u001b[0m\n\u001b[1;32m-> 2969\u001b[1;33m         \u001b[1;32mreturn\u001b[0m \u001b[0mself\u001b[0m\u001b[1;33m.\u001b[0m\u001b[0m_take\u001b[0m\u001b[1;33m(\u001b[0m\u001b[0mindexer\u001b[0m\u001b[1;33m,\u001b[0m \u001b[0maxis\u001b[0m\u001b[1;33m=\u001b[0m\u001b[1;36m0\u001b[0m\u001b[1;33m)\u001b[0m\u001b[1;33m\u001b[0m\u001b[1;33m\u001b[0m\u001b[0m\n\u001b[0m\u001b[0;32m   2970\u001b[0m \u001b[1;33m\u001b[0m\u001b[0m\n\u001b[0;32m   2971\u001b[0m     \u001b[1;32mdef\u001b[0m \u001b[0m_getitem_multilevel\u001b[0m\u001b[1;33m(\u001b[0m\u001b[0mself\u001b[0m\u001b[1;33m,\u001b[0m \u001b[0mkey\u001b[0m\u001b[1;33m)\u001b[0m\u001b[1;33m:\u001b[0m\u001b[1;33m\u001b[0m\u001b[1;33m\u001b[0m\u001b[0m\n",
      "\u001b[1;32mc:\\users\\dimit\\appdata\\local\\programs\\python\\python37\\lib\\site-packages\\pandas\\core\\generic.py\u001b[0m in \u001b[0;36m_take\u001b[1;34m(self, indices, axis, is_copy)\u001b[0m\n\u001b[0;32m   3357\u001b[0m         new_data = self._data.take(indices,\n\u001b[0;32m   3358\u001b[0m                                    \u001b[0maxis\u001b[0m\u001b[1;33m=\u001b[0m\u001b[0mself\u001b[0m\u001b[1;33m.\u001b[0m\u001b[0m_get_block_manager_axis\u001b[0m\u001b[1;33m(\u001b[0m\u001b[0maxis\u001b[0m\u001b[1;33m)\u001b[0m\u001b[1;33m,\u001b[0m\u001b[1;33m\u001b[0m\u001b[1;33m\u001b[0m\u001b[0m\n\u001b[1;32m-> 3359\u001b[1;33m                                    verify=True)\n\u001b[0m\u001b[0;32m   3360\u001b[0m         \u001b[0mresult\u001b[0m \u001b[1;33m=\u001b[0m \u001b[0mself\u001b[0m\u001b[1;33m.\u001b[0m\u001b[0m_constructor\u001b[0m\u001b[1;33m(\u001b[0m\u001b[0mnew_data\u001b[0m\u001b[1;33m)\u001b[0m\u001b[1;33m.\u001b[0m\u001b[0m__finalize__\u001b[0m\u001b[1;33m(\u001b[0m\u001b[0mself\u001b[0m\u001b[1;33m)\u001b[0m\u001b[1;33m\u001b[0m\u001b[1;33m\u001b[0m\u001b[0m\n\u001b[0;32m   3361\u001b[0m \u001b[1;33m\u001b[0m\u001b[0m\n",
      "\u001b[1;32mc:\\users\\dimit\\appdata\\local\\programs\\python\\python37\\lib\\site-packages\\pandas\\core\\internals\\managers.py\u001b[0m in \u001b[0;36mtake\u001b[1;34m(self, indexer, axis, verify, convert)\u001b[0m\n\u001b[0;32m   1348\u001b[0m         \u001b[0mnew_labels\u001b[0m \u001b[1;33m=\u001b[0m \u001b[0mself\u001b[0m\u001b[1;33m.\u001b[0m\u001b[0maxes\u001b[0m\u001b[1;33m[\u001b[0m\u001b[0maxis\u001b[0m\u001b[1;33m]\u001b[0m\u001b[1;33m.\u001b[0m\u001b[0mtake\u001b[0m\u001b[1;33m(\u001b[0m\u001b[0mindexer\u001b[0m\u001b[1;33m)\u001b[0m\u001b[1;33m\u001b[0m\u001b[1;33m\u001b[0m\u001b[0m\n\u001b[0;32m   1349\u001b[0m         return self.reindex_indexer(new_axis=new_labels, indexer=indexer,\n\u001b[1;32m-> 1350\u001b[1;33m                                     axis=axis, allow_dups=True)\n\u001b[0m\u001b[0;32m   1351\u001b[0m \u001b[1;33m\u001b[0m\u001b[0m\n\u001b[0;32m   1352\u001b[0m     \u001b[1;32mdef\u001b[0m \u001b[0mmerge\u001b[0m\u001b[1;33m(\u001b[0m\u001b[0mself\u001b[0m\u001b[1;33m,\u001b[0m \u001b[0mother\u001b[0m\u001b[1;33m,\u001b[0m \u001b[0mlsuffix\u001b[0m\u001b[1;33m=\u001b[0m\u001b[1;34m''\u001b[0m\u001b[1;33m,\u001b[0m \u001b[0mrsuffix\u001b[0m\u001b[1;33m=\u001b[0m\u001b[1;34m''\u001b[0m\u001b[1;33m)\u001b[0m\u001b[1;33m:\u001b[0m\u001b[1;33m\u001b[0m\u001b[1;33m\u001b[0m\u001b[0m\n",
      "\u001b[1;32mc:\\users\\dimit\\appdata\\local\\programs\\python\\python37\\lib\\site-packages\\pandas\\core\\internals\\managers.py\u001b[0m in \u001b[0;36mreindex_indexer\u001b[1;34m(self, new_axis, indexer, axis, fill_value, allow_dups, copy)\u001b[0m\n\u001b[0;32m   1237\u001b[0m         \u001b[0mnew_axes\u001b[0m \u001b[1;33m=\u001b[0m \u001b[0mlist\u001b[0m\u001b[1;33m(\u001b[0m\u001b[0mself\u001b[0m\u001b[1;33m.\u001b[0m\u001b[0maxes\u001b[0m\u001b[1;33m)\u001b[0m\u001b[1;33m\u001b[0m\u001b[1;33m\u001b[0m\u001b[0m\n\u001b[0;32m   1238\u001b[0m         \u001b[0mnew_axes\u001b[0m\u001b[1;33m[\u001b[0m\u001b[0maxis\u001b[0m\u001b[1;33m]\u001b[0m \u001b[1;33m=\u001b[0m \u001b[0mnew_axis\u001b[0m\u001b[1;33m\u001b[0m\u001b[1;33m\u001b[0m\u001b[0m\n\u001b[1;32m-> 1239\u001b[1;33m         \u001b[1;32mreturn\u001b[0m \u001b[0mself\u001b[0m\u001b[1;33m.\u001b[0m\u001b[0m__class__\u001b[0m\u001b[1;33m(\u001b[0m\u001b[0mnew_blocks\u001b[0m\u001b[1;33m,\u001b[0m \u001b[0mnew_axes\u001b[0m\u001b[1;33m)\u001b[0m\u001b[1;33m\u001b[0m\u001b[1;33m\u001b[0m\u001b[0m\n\u001b[0m\u001b[0;32m   1240\u001b[0m \u001b[1;33m\u001b[0m\u001b[0m\n\u001b[0;32m   1241\u001b[0m     \u001b[1;32mdef\u001b[0m \u001b[0m_slice_take_blocks_ax0\u001b[0m\u001b[1;33m(\u001b[0m\u001b[0mself\u001b[0m\u001b[1;33m,\u001b[0m \u001b[0mslice_or_indexer\u001b[0m\u001b[1;33m,\u001b[0m \u001b[0mfill_tuple\u001b[0m\u001b[1;33m=\u001b[0m\u001b[1;32mNone\u001b[0m\u001b[1;33m)\u001b[0m\u001b[1;33m:\u001b[0m\u001b[1;33m\u001b[0m\u001b[1;33m\u001b[0m\u001b[0m\n",
      "\u001b[1;32mc:\\users\\dimit\\appdata\\local\\programs\\python\\python37\\lib\\site-packages\\pandas\\core\\internals\\managers.py\u001b[0m in \u001b[0;36m__init__\u001b[1;34m(self, blocks, axes, do_integrity_check)\u001b[0m\n\u001b[0;32m    116\u001b[0m         \u001b[0mself\u001b[0m\u001b[1;33m.\u001b[0m\u001b[0m_consolidate_check\u001b[0m\u001b[1;33m(\u001b[0m\u001b[1;33m)\u001b[0m\u001b[1;33m\u001b[0m\u001b[1;33m\u001b[0m\u001b[0m\n\u001b[0;32m    117\u001b[0m \u001b[1;33m\u001b[0m\u001b[0m\n\u001b[1;32m--> 118\u001b[1;33m         \u001b[0mself\u001b[0m\u001b[1;33m.\u001b[0m\u001b[0m_rebuild_blknos_and_blklocs\u001b[0m\u001b[1;33m(\u001b[0m\u001b[1;33m)\u001b[0m\u001b[1;33m\u001b[0m\u001b[1;33m\u001b[0m\u001b[0m\n\u001b[0m\u001b[0;32m    119\u001b[0m \u001b[1;33m\u001b[0m\u001b[0m\n\u001b[0;32m    120\u001b[0m     \u001b[1;32mdef\u001b[0m \u001b[0mmake_empty\u001b[0m\u001b[1;33m(\u001b[0m\u001b[0mself\u001b[0m\u001b[1;33m,\u001b[0m \u001b[0maxes\u001b[0m\u001b[1;33m=\u001b[0m\u001b[1;32mNone\u001b[0m\u001b[1;33m)\u001b[0m\u001b[1;33m:\u001b[0m\u001b[1;33m\u001b[0m\u001b[1;33m\u001b[0m\u001b[0m\n",
      "\u001b[1;32mc:\\users\\dimit\\appdata\\local\\programs\\python\\python37\\lib\\site-packages\\pandas\\core\\internals\\managers.py\u001b[0m in \u001b[0;36m_rebuild_blknos_and_blklocs\u001b[1;34m(self)\u001b[0m\n\u001b[0;32m    196\u001b[0m             \u001b[0mrl\u001b[0m \u001b[1;33m=\u001b[0m \u001b[0mblk\u001b[0m\u001b[1;33m.\u001b[0m\u001b[0mmgr_locs\u001b[0m\u001b[1;33m\u001b[0m\u001b[1;33m\u001b[0m\u001b[0m\n\u001b[0;32m    197\u001b[0m             \u001b[0mnew_blknos\u001b[0m\u001b[1;33m[\u001b[0m\u001b[0mrl\u001b[0m\u001b[1;33m.\u001b[0m\u001b[0mindexer\u001b[0m\u001b[1;33m]\u001b[0m \u001b[1;33m=\u001b[0m \u001b[0mblkno\u001b[0m\u001b[1;33m\u001b[0m\u001b[1;33m\u001b[0m\u001b[0m\n\u001b[1;32m--> 198\u001b[1;33m             \u001b[0mnew_blklocs\u001b[0m\u001b[1;33m[\u001b[0m\u001b[0mrl\u001b[0m\u001b[1;33m.\u001b[0m\u001b[0mindexer\u001b[0m\u001b[1;33m]\u001b[0m \u001b[1;33m=\u001b[0m \u001b[0mnp\u001b[0m\u001b[1;33m.\u001b[0m\u001b[0marange\u001b[0m\u001b[1;33m(\u001b[0m\u001b[0mlen\u001b[0m\u001b[1;33m(\u001b[0m\u001b[0mrl\u001b[0m\u001b[1;33m)\u001b[0m\u001b[1;33m)\u001b[0m\u001b[1;33m\u001b[0m\u001b[1;33m\u001b[0m\u001b[0m\n\u001b[0m\u001b[0;32m    199\u001b[0m \u001b[1;33m\u001b[0m\u001b[0m\n\u001b[0;32m    200\u001b[0m         \u001b[1;32mif\u001b[0m \u001b[1;33m(\u001b[0m\u001b[0mnew_blknos\u001b[0m \u001b[1;33m==\u001b[0m \u001b[1;33m-\u001b[0m\u001b[1;36m1\u001b[0m\u001b[1;33m)\u001b[0m\u001b[1;33m.\u001b[0m\u001b[0many\u001b[0m\u001b[1;33m(\u001b[0m\u001b[1;33m)\u001b[0m\u001b[1;33m:\u001b[0m\u001b[1;33m\u001b[0m\u001b[1;33m\u001b[0m\u001b[0m\n",
      "\u001b[1;31mKeyboardInterrupt\u001b[0m: "
     ]
    }
   ],
   "source": [
    "L_score = [sim(i, sentences) for i in L]"
   ]
  },
  {
   "cell_type": "code",
   "execution_count": 247,
   "metadata": {},
   "outputs": [
    {
     "data": {
      "text/plain": [
       "373"
      ]
     },
     "execution_count": 247,
     "metadata": {},
     "output_type": "execute_result"
    },
    {
     "data": {
      "text/plain": [
       "373"
      ]
     },
     "execution_count": 247,
     "metadata": {},
     "output_type": "execute_result"
    }
   ],
   "source": [
    "import numpy as np\n",
    "\n",
    "np.argmax(L_score)"
   ]
  },
  {
   "cell_type": "code",
   "execution_count": 16,
   "metadata": {},
   "outputs": [
    {
     "data": {
      "text/plain": [
       "'Central American migrants taking part in a caravan called \"Migrant Viacrucis\" towards the United States, hold Honduran (bottom) and Guatemalan (top) national flags during a march to protest against US President Donald Trump\\'s policies as they remain stranded in Matias Romero, Oaxaca State, Mexico, on April 3, 2018.  The hundreds of Central Americans in the \"Way of the Cross\" migrant caravan have infuriated Trump, but they are not moving very fast -- if at all -- and remain far from the US border. As Trump vowed Tuesday to send troops to secure the southern US border, the caravan was camped out for the third straight day in the town of Matias Romero, in southern Mexico, more than 3,000 kilometers (1,800 miles) from the United States.\\n'"
      ]
     },
     "execution_count": 16,
     "metadata": {},
     "output_type": "execute_result"
    }
   ],
   "source": [
    "reduced_data.Description[list(reduced_data.index)[373]]"
   ]
  },
  {
   "cell_type": "code",
   "execution_count": 254,
   "metadata": {},
   "outputs": [
    {
     "data": {
      "text/plain": [
       "(Central American,\n",
       " Migrant Viacrucis,\n",
       " the United States,\n",
       " Honduran,\n",
       " Guatemalan,\n",
       " US,\n",
       " Donald Trump,\n",
       " Matias Romero,\n",
       " Oaxaca State,\n",
       " Mexico,\n",
       " April 3, 2018,\n",
       " hundreds,\n",
       " Central Americans,\n",
       " Way of the Cross,\n",
       " Trump,\n",
       " US,\n",
       " Trump,\n",
       " Tuesday,\n",
       " US,\n",
       " the third straight day,\n",
       " Matias Romero,\n",
       " Mexico,\n",
       " more than 3,000 kilometers,\n",
       " 1,800 miles,\n",
       " the United States)"
      ]
     },
     "execution_count": 254,
     "metadata": {},
     "output_type": "execute_result"
    },
    {
     "data": {
      "text/plain": [
       "(Central American,\n",
       " Migrant Viacrucis,\n",
       " the United States,\n",
       " Honduran,\n",
       " Guatemalan,\n",
       " US,\n",
       " Donald Trump,\n",
       " Matias Romero,\n",
       " Oaxaca State,\n",
       " Mexico,\n",
       " April 3, 2018,\n",
       " hundreds,\n",
       " Central Americans,\n",
       " Way of the Cross,\n",
       " Trump,\n",
       " US,\n",
       " Trump,\n",
       " Tuesday,\n",
       " US,\n",
       " the third straight day,\n",
       " Matias Romero,\n",
       " Mexico,\n",
       " more than 3,000 kilometers,\n",
       " 1,800 miles,\n",
       " the United States)"
      ]
     },
     "execution_count": 254,
     "metadata": {},
     "output_type": "execute_result"
    }
   ],
   "source": [
    "nlp(reduced_data.Description[1934]).ents"
   ]
  },
  {
   "cell_type": "code",
   "execution_count": 253,
   "metadata": {},
   "outputs": [
    {
     "data": {
      "text/plain": [
       "(F.B.I.,\n",
       " Peter Strzok,\n",
       " Texts,\n",
       " The New York Times,\n",
       " InLog InToday,\n",
       " Peter Strzok,\n",
       " Texts,\n",
       " byContinue,\n",
       " Peter Strzok,\n",
       " Texts,\n",
       " FiredPeter Strzok,\n",
       " F.B.I.,\n",
       " Trump,\n",
       " The New York TimesBy Adam,\n",
       " Michael S. SchmidtAug,\n",
       " 13,\n",
       " 2018WASHINGTON,\n",
       " Peter Strzok,\n",
       " F.B.I.,\n",
       " Trump,\n",
       " Hillary Clinton,\n",
       " Russia,\n",
       " Strzok,\n",
       " Monday,\n",
       " Trump,\n",
       " 2016,\n",
       " F.B.I.,\n",
       " Lisa Page,\n",
       " Russia,\n",
       " Strzok,\n",
       " 20 years,\n",
       " F.B.I.,\n",
       " the early months,\n",
       " Strzok,\n",
       " F.B.I.,\n",
       " Trump,\n",
       " Strzok,\n",
       " last summer,\n",
       " Robert S. Mueller III,\n",
       " Strzok,\n",
       " Monday,\n",
       " Trump,\n",
       " June,\n",
       " Strzok,\n",
       " F.B.I.,\n",
       " Hillary Clinton,\n",
       " 2016,\n",
       " Strzok,\n",
       " Office of Professional Responsibility,\n",
       " Strzok,\n",
       " 60 days,\n",
       " Strzok,\n",
       " House,\n",
       " July,\n",
       " Strzok,\n",
       " F.B.I.,\n",
       " David Bowdich,\n",
       " the Office of Professional Responsibility,\n",
       " Strzok,\n",
       " F.B.I.,\n",
       " Strzok,\n",
       " Strzok,\n",
       " Trump,\n",
       " F.B.I.,\n",
       " Bowdich,\n",
       " F.B.I.,\n",
       " Christopher A. Wray,\n",
       " Aitan Goelman,\n",
       " Strzok,\n",
       " Wray,\n",
       " Congress,\n",
       " F.B.I.,\n",
       " Goelman,\n",
       " Americans,\n",
       " Goelman,\n",
       " Page,\n",
       " Trump,\n",
       " one,\n",
       " Page,\n",
       " Trump,\n",
       " Strzok,\n",
       " Michael E. Horowitz,\n",
       " Strzok,\n",
       " Strzok,\n",
       " Clinton,\n",
       " just weeks,\n",
       " 2016,\n",
       " Horowitz,\n",
       " Hundreds,\n",
       " over months,\n",
       " Trump,\n",
       " Clinton,\n",
       " Strzok,\n",
       " Trump,\n",
       " Trump,\n",
       " Strzok,\n",
       " Strzok,\n",
       " Strzok,\n",
       " Russia,\n",
       " Trump,\n",
       " Horowitz,\n",
       " Mueller,\n",
       " Strzok,\n",
       " F.B.I.,\n",
       " Page,\n",
       " Mueller,\n",
       " F.B.I.,\n",
       " May,\n",
       " Strzok,\n",
       " F.B.I.,\n",
       " Clinton,\n",
       " Midyear Exam,\n",
       " Anthony D. Weiner,\n",
       " Clinton,\n",
       " Strzok,\n",
       " Trump,\n",
       " Russia,\n",
       " nearly a month,\n",
       " Weiner,\n",
       " Horowitz,\n",
       " Strzok,\n",
       " Clinton,\n",
       " Strzok,\n",
       " Russia,\n",
       " Midyear,\n",
       " Weiner,\n",
       " Strzok,\n",
       " last month,\n",
       " Today,\n",
       " James B. Comey,\n",
       " F.B.I.,\n",
       " Congress,\n",
       " days,\n",
       " Strzok,\n",
       " last month,\n",
       " Strzok,\n",
       " Russia,\n",
       " second,\n",
       " F.B.I.,\n",
       " March,\n",
       " Andrew G. McCabe,\n",
       " McCabe,\n",
       " 48,\n",
       " Georgetown University,\n",
       " Army,\n",
       " F.B.I.,\n",
       " F.B.I.,\n",
       " one,\n",
       " C.I.A.,\n",
       " China,\n",
       " Russian,\n",
       " the United States,\n",
       " ed columnistseditorialsop-ed,\n",
       " Contributorsletterssunday,\n",
       " artsart & designbooksdancemoviesmusicPop Culturetelevisiontheaterwatchingvideo,\n",
       " CenterWirecutterLive EventsThe Learning Networktools & servicesN.Y.C.,\n",
       " ed columnistseditorialsop-ed,\n",
       " Contributorsletterssunday,\n",
       " artsart & designbooksdancemoviesmusicPop Culturetelevisiontheaterwatchingvideo,\n",
       " CenterWirecutterLive EventsThe Learning Networktools & servicesN.Y.C.,\n",
       " The New York Times,\n",
       " ServiceTerms of SaleSite MapHelpSubscriptions)"
      ]
     },
     "execution_count": 253,
     "metadata": {},
     "output_type": "execute_result"
    },
    {
     "data": {
      "text/plain": [
       "(F.B.I.,\n",
       " Peter Strzok,\n",
       " Texts,\n",
       " The New York Times,\n",
       " InLog InToday,\n",
       " Peter Strzok,\n",
       " Texts,\n",
       " byContinue,\n",
       " Peter Strzok,\n",
       " Texts,\n",
       " FiredPeter Strzok,\n",
       " F.B.I.,\n",
       " Trump,\n",
       " The New York TimesBy Adam,\n",
       " Michael S. SchmidtAug,\n",
       " 13,\n",
       " 2018WASHINGTON,\n",
       " Peter Strzok,\n",
       " F.B.I.,\n",
       " Trump,\n",
       " Hillary Clinton,\n",
       " Russia,\n",
       " Strzok,\n",
       " Monday,\n",
       " Trump,\n",
       " 2016,\n",
       " F.B.I.,\n",
       " Lisa Page,\n",
       " Russia,\n",
       " Strzok,\n",
       " 20 years,\n",
       " F.B.I.,\n",
       " the early months,\n",
       " Strzok,\n",
       " F.B.I.,\n",
       " Trump,\n",
       " Strzok,\n",
       " last summer,\n",
       " Robert S. Mueller III,\n",
       " Strzok,\n",
       " Monday,\n",
       " Trump,\n",
       " June,\n",
       " Strzok,\n",
       " F.B.I.,\n",
       " Hillary Clinton,\n",
       " 2016,\n",
       " Strzok,\n",
       " Office of Professional Responsibility,\n",
       " Strzok,\n",
       " 60 days,\n",
       " Strzok,\n",
       " House,\n",
       " July,\n",
       " Strzok,\n",
       " F.B.I.,\n",
       " David Bowdich,\n",
       " the Office of Professional Responsibility,\n",
       " Strzok,\n",
       " F.B.I.,\n",
       " Strzok,\n",
       " Strzok,\n",
       " Trump,\n",
       " F.B.I.,\n",
       " Bowdich,\n",
       " F.B.I.,\n",
       " Christopher A. Wray,\n",
       " Aitan Goelman,\n",
       " Strzok,\n",
       " Wray,\n",
       " Congress,\n",
       " F.B.I.,\n",
       " Goelman,\n",
       " Americans,\n",
       " Goelman,\n",
       " Page,\n",
       " Trump,\n",
       " one,\n",
       " Page,\n",
       " Trump,\n",
       " Strzok,\n",
       " Michael E. Horowitz,\n",
       " Strzok,\n",
       " Strzok,\n",
       " Clinton,\n",
       " just weeks,\n",
       " 2016,\n",
       " Horowitz,\n",
       " Hundreds,\n",
       " over months,\n",
       " Trump,\n",
       " Clinton,\n",
       " Strzok,\n",
       " Trump,\n",
       " Trump,\n",
       " Strzok,\n",
       " Strzok,\n",
       " Strzok,\n",
       " Russia,\n",
       " Trump,\n",
       " Horowitz,\n",
       " Mueller,\n",
       " Strzok,\n",
       " F.B.I.,\n",
       " Page,\n",
       " Mueller,\n",
       " F.B.I.,\n",
       " May,\n",
       " Strzok,\n",
       " F.B.I.,\n",
       " Clinton,\n",
       " Midyear Exam,\n",
       " Anthony D. Weiner,\n",
       " Clinton,\n",
       " Strzok,\n",
       " Trump,\n",
       " Russia,\n",
       " nearly a month,\n",
       " Weiner,\n",
       " Horowitz,\n",
       " Strzok,\n",
       " Clinton,\n",
       " Strzok,\n",
       " Russia,\n",
       " Midyear,\n",
       " Weiner,\n",
       " Strzok,\n",
       " last month,\n",
       " Today,\n",
       " James B. Comey,\n",
       " F.B.I.,\n",
       " Congress,\n",
       " days,\n",
       " Strzok,\n",
       " last month,\n",
       " Strzok,\n",
       " Russia,\n",
       " second,\n",
       " F.B.I.,\n",
       " March,\n",
       " Andrew G. McCabe,\n",
       " McCabe,\n",
       " 48,\n",
       " Georgetown University,\n",
       " Army,\n",
       " F.B.I.,\n",
       " F.B.I.,\n",
       " one,\n",
       " C.I.A.,\n",
       " China,\n",
       " Russian,\n",
       " the United States,\n",
       " ed columnistseditorialsop-ed,\n",
       " Contributorsletterssunday,\n",
       " artsart & designbooksdancemoviesmusicPop Culturetelevisiontheaterwatchingvideo,\n",
       " CenterWirecutterLive EventsThe Learning Networktools & servicesN.Y.C.,\n",
       " ed columnistseditorialsop-ed,\n",
       " Contributorsletterssunday,\n",
       " artsart & designbooksdancemoviesmusicPop Culturetelevisiontheaterwatchingvideo,\n",
       " CenterWirecutterLive EventsThe Learning Networktools & servicesN.Y.C.,\n",
       " The New York Times,\n",
       " ServiceTerms of SaleSite MapHelpSubscriptions)"
      ]
     },
     "execution_count": 253,
     "metadata": {},
     "output_type": "execute_result"
    }
   ],
   "source": [
    "article.ents"
   ]
  },
  {
   "cell_type": "code",
   "execution_count": 24,
   "metadata": {},
   "outputs": [
    {
     "data": {
      "text/plain": [
       "{'4': 1}"
      ]
     },
     "execution_count": 24,
     "metadata": {},
     "output_type": "execute_result"
    }
   ],
   "source": [
    "dict([('4',1)])"
   ]
  }
 ],
 "metadata": {
  "kernelspec": {
   "display_name": "Python 3",
   "language": "python",
   "name": "python3"
  },
  "language_info": {
   "codemirror_mode": {
    "name": "ipython",
    "version": 3
   },
   "file_extension": ".py",
   "mimetype": "text/x-python",
   "name": "python",
   "nbconvert_exporter": "python",
   "pygments_lexer": "ipython3",
   "version": "3.7.4"
  },
  "varInspector": {
   "cols": {
    "lenName": 16,
    "lenType": 16,
    "lenVar": 40
   },
   "kernels_config": {
    "python": {
     "delete_cmd_postfix": "",
     "delete_cmd_prefix": "del ",
     "library": "var_list.py",
     "varRefreshCmd": "print(var_dic_list())"
    },
    "r": {
     "delete_cmd_postfix": ") ",
     "delete_cmd_prefix": "rm(",
     "library": "var_list.r",
     "varRefreshCmd": "cat(var_dic_list()) "
    }
   },
   "types_to_exclude": [
    "module",
    "function",
    "builtin_function_or_method",
    "instance",
    "_Feature"
   ],
   "window_display": false
  }
 },
 "nbformat": 4,
 "nbformat_minor": 2
}
