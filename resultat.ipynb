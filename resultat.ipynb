{
 "cells": [
  {
   "cell_type": "code",
   "execution_count": 76,
   "metadata": {},
   "outputs": [
    {
     "data": {
      "text/html": [
       "<div>\n",
       "<style scoped>\n",
       "    .dataframe tbody tr th:only-of-type {\n",
       "        vertical-align: middle;\n",
       "    }\n",
       "\n",
       "    .dataframe tbody tr th {\n",
       "        vertical-align: top;\n",
       "    }\n",
       "\n",
       "    .dataframe thead th {\n",
       "        text-align: right;\n",
       "    }\n",
       "</style>\n",
       "<table border=\"1\" class=\"dataframe\">\n",
       "  <thead>\n",
       "    <tr style=\"text-align: right;\">\n",
       "      <th></th>\n",
       "      <th>Unnamed: 0</th>\n",
       "      <th>0</th>\n",
       "    </tr>\n",
       "  </thead>\n",
       "  <tbody>\n",
       "    <tr>\n",
       "      <th>0</th>\n",
       "      <td>0</td>\n",
       "      <td>True</td>\n",
       "    </tr>\n",
       "    <tr>\n",
       "      <th>1</th>\n",
       "      <td>1</td>\n",
       "      <td>False</td>\n",
       "    </tr>\n",
       "    <tr>\n",
       "      <th>2</th>\n",
       "      <td>2</td>\n",
       "      <td>False</td>\n",
       "    </tr>\n",
       "    <tr>\n",
       "      <th>3</th>\n",
       "      <td>3</td>\n",
       "      <td>True</td>\n",
       "    </tr>\n",
       "    <tr>\n",
       "      <th>4</th>\n",
       "      <td>4</td>\n",
       "      <td>True</td>\n",
       "    </tr>\n",
       "    <tr>\n",
       "      <th>5</th>\n",
       "      <td>5</td>\n",
       "      <td>True</td>\n",
       "    </tr>\n",
       "    <tr>\n",
       "      <th>6</th>\n",
       "      <td>6</td>\n",
       "      <td>False</td>\n",
       "    </tr>\n",
       "    <tr>\n",
       "      <th>7</th>\n",
       "      <td>7</td>\n",
       "      <td>True</td>\n",
       "    </tr>\n",
       "    <tr>\n",
       "      <th>8</th>\n",
       "      <td>8</td>\n",
       "      <td>False</td>\n",
       "    </tr>\n",
       "    <tr>\n",
       "      <th>9</th>\n",
       "      <td>9</td>\n",
       "      <td>True</td>\n",
       "    </tr>\n",
       "    <tr>\n",
       "      <th>10</th>\n",
       "      <td>10</td>\n",
       "      <td>False</td>\n",
       "    </tr>\n",
       "    <tr>\n",
       "      <th>11</th>\n",
       "      <td>11</td>\n",
       "      <td>False</td>\n",
       "    </tr>\n",
       "    <tr>\n",
       "      <th>12</th>\n",
       "      <td>12</td>\n",
       "      <td>False</td>\n",
       "    </tr>\n",
       "    <tr>\n",
       "      <th>13</th>\n",
       "      <td>13</td>\n",
       "      <td>False</td>\n",
       "    </tr>\n",
       "    <tr>\n",
       "      <th>14</th>\n",
       "      <td>14</td>\n",
       "      <td>True</td>\n",
       "    </tr>\n",
       "    <tr>\n",
       "      <th>15</th>\n",
       "      <td>15</td>\n",
       "      <td>False</td>\n",
       "    </tr>\n",
       "    <tr>\n",
       "      <th>16</th>\n",
       "      <td>16</td>\n",
       "      <td>False</td>\n",
       "    </tr>\n",
       "    <tr>\n",
       "      <th>17</th>\n",
       "      <td>17</td>\n",
       "      <td>False</td>\n",
       "    </tr>\n",
       "    <tr>\n",
       "      <th>18</th>\n",
       "      <td>18</td>\n",
       "      <td>False</td>\n",
       "    </tr>\n",
       "    <tr>\n",
       "      <th>19</th>\n",
       "      <td>19</td>\n",
       "      <td>True</td>\n",
       "    </tr>\n",
       "    <tr>\n",
       "      <th>20</th>\n",
       "      <td>20</td>\n",
       "      <td>True</td>\n",
       "    </tr>\n",
       "    <tr>\n",
       "      <th>21</th>\n",
       "      <td>21</td>\n",
       "      <td>False</td>\n",
       "    </tr>\n",
       "    <tr>\n",
       "      <th>22</th>\n",
       "      <td>22</td>\n",
       "      <td>True</td>\n",
       "    </tr>\n",
       "    <tr>\n",
       "      <th>23</th>\n",
       "      <td>23</td>\n",
       "      <td>True</td>\n",
       "    </tr>\n",
       "    <tr>\n",
       "      <th>24</th>\n",
       "      <td>24</td>\n",
       "      <td>False</td>\n",
       "    </tr>\n",
       "    <tr>\n",
       "      <th>25</th>\n",
       "      <td>25</td>\n",
       "      <td>False</td>\n",
       "    </tr>\n",
       "    <tr>\n",
       "      <th>26</th>\n",
       "      <td>26</td>\n",
       "      <td>False</td>\n",
       "    </tr>\n",
       "    <tr>\n",
       "      <th>27</th>\n",
       "      <td>27</td>\n",
       "      <td>False</td>\n",
       "    </tr>\n",
       "    <tr>\n",
       "      <th>28</th>\n",
       "      <td>28</td>\n",
       "      <td>False</td>\n",
       "    </tr>\n",
       "    <tr>\n",
       "      <th>29</th>\n",
       "      <td>29</td>\n",
       "      <td>False</td>\n",
       "    </tr>\n",
       "    <tr>\n",
       "      <th>...</th>\n",
       "      <td>...</td>\n",
       "      <td>...</td>\n",
       "    </tr>\n",
       "    <tr>\n",
       "      <th>222070</th>\n",
       "      <td>222070</td>\n",
       "      <td>False</td>\n",
       "    </tr>\n",
       "    <tr>\n",
       "      <th>222071</th>\n",
       "      <td>222071</td>\n",
       "      <td>False</td>\n",
       "    </tr>\n",
       "    <tr>\n",
       "      <th>222072</th>\n",
       "      <td>222072</td>\n",
       "      <td>False</td>\n",
       "    </tr>\n",
       "    <tr>\n",
       "      <th>222073</th>\n",
       "      <td>222073</td>\n",
       "      <td>False</td>\n",
       "    </tr>\n",
       "    <tr>\n",
       "      <th>222074</th>\n",
       "      <td>222074</td>\n",
       "      <td>False</td>\n",
       "    </tr>\n",
       "    <tr>\n",
       "      <th>222075</th>\n",
       "      <td>222075</td>\n",
       "      <td>False</td>\n",
       "    </tr>\n",
       "    <tr>\n",
       "      <th>222076</th>\n",
       "      <td>222076</td>\n",
       "      <td>False</td>\n",
       "    </tr>\n",
       "    <tr>\n",
       "      <th>222077</th>\n",
       "      <td>222077</td>\n",
       "      <td>False</td>\n",
       "    </tr>\n",
       "    <tr>\n",
       "      <th>222078</th>\n",
       "      <td>222078</td>\n",
       "      <td>False</td>\n",
       "    </tr>\n",
       "    <tr>\n",
       "      <th>222079</th>\n",
       "      <td>222079</td>\n",
       "      <td>False</td>\n",
       "    </tr>\n",
       "    <tr>\n",
       "      <th>222080</th>\n",
       "      <td>222080</td>\n",
       "      <td>False</td>\n",
       "    </tr>\n",
       "    <tr>\n",
       "      <th>222081</th>\n",
       "      <td>222081</td>\n",
       "      <td>False</td>\n",
       "    </tr>\n",
       "    <tr>\n",
       "      <th>222082</th>\n",
       "      <td>222082</td>\n",
       "      <td>False</td>\n",
       "    </tr>\n",
       "    <tr>\n",
       "      <th>222083</th>\n",
       "      <td>222083</td>\n",
       "      <td>False</td>\n",
       "    </tr>\n",
       "    <tr>\n",
       "      <th>222084</th>\n",
       "      <td>222084</td>\n",
       "      <td>False</td>\n",
       "    </tr>\n",
       "    <tr>\n",
       "      <th>222085</th>\n",
       "      <td>222085</td>\n",
       "      <td>False</td>\n",
       "    </tr>\n",
       "    <tr>\n",
       "      <th>222086</th>\n",
       "      <td>222086</td>\n",
       "      <td>False</td>\n",
       "    </tr>\n",
       "    <tr>\n",
       "      <th>222087</th>\n",
       "      <td>222087</td>\n",
       "      <td>False</td>\n",
       "    </tr>\n",
       "    <tr>\n",
       "      <th>222088</th>\n",
       "      <td>222088</td>\n",
       "      <td>False</td>\n",
       "    </tr>\n",
       "    <tr>\n",
       "      <th>222089</th>\n",
       "      <td>222089</td>\n",
       "      <td>False</td>\n",
       "    </tr>\n",
       "    <tr>\n",
       "      <th>222090</th>\n",
       "      <td>222090</td>\n",
       "      <td>False</td>\n",
       "    </tr>\n",
       "    <tr>\n",
       "      <th>222091</th>\n",
       "      <td>222091</td>\n",
       "      <td>False</td>\n",
       "    </tr>\n",
       "    <tr>\n",
       "      <th>222092</th>\n",
       "      <td>222092</td>\n",
       "      <td>False</td>\n",
       "    </tr>\n",
       "    <tr>\n",
       "      <th>222093</th>\n",
       "      <td>222093</td>\n",
       "      <td>False</td>\n",
       "    </tr>\n",
       "    <tr>\n",
       "      <th>222094</th>\n",
       "      <td>222094</td>\n",
       "      <td>False</td>\n",
       "    </tr>\n",
       "    <tr>\n",
       "      <th>222095</th>\n",
       "      <td>222095</td>\n",
       "      <td>False</td>\n",
       "    </tr>\n",
       "    <tr>\n",
       "      <th>222096</th>\n",
       "      <td>222096</td>\n",
       "      <td>False</td>\n",
       "    </tr>\n",
       "    <tr>\n",
       "      <th>222097</th>\n",
       "      <td>222097</td>\n",
       "      <td>False</td>\n",
       "    </tr>\n",
       "    <tr>\n",
       "      <th>222098</th>\n",
       "      <td>222098</td>\n",
       "      <td>False</td>\n",
       "    </tr>\n",
       "    <tr>\n",
       "      <th>222099</th>\n",
       "      <td>222099</td>\n",
       "      <td>False</td>\n",
       "    </tr>\n",
       "  </tbody>\n",
       "</table>\n",
       "<p>222100 rows × 2 columns</p>\n",
       "</div>"
      ],
      "text/plain": [
       "        Unnamed: 0      0\n",
       "0                0   True\n",
       "1                1  False\n",
       "2                2  False\n",
       "3                3   True\n",
       "4                4   True\n",
       "5                5   True\n",
       "6                6  False\n",
       "7                7   True\n",
       "8                8  False\n",
       "9                9   True\n",
       "10              10  False\n",
       "11              11  False\n",
       "12              12  False\n",
       "13              13  False\n",
       "14              14   True\n",
       "15              15  False\n",
       "16              16  False\n",
       "17              17  False\n",
       "18              18  False\n",
       "19              19   True\n",
       "20              20   True\n",
       "21              21  False\n",
       "22              22   True\n",
       "23              23   True\n",
       "24              24  False\n",
       "25              25  False\n",
       "26              26  False\n",
       "27              27  False\n",
       "28              28  False\n",
       "29              29  False\n",
       "...            ...    ...\n",
       "222070      222070  False\n",
       "222071      222071  False\n",
       "222072      222072  False\n",
       "222073      222073  False\n",
       "222074      222074  False\n",
       "222075      222075  False\n",
       "222076      222076  False\n",
       "222077      222077  False\n",
       "222078      222078  False\n",
       "222079      222079  False\n",
       "222080      222080  False\n",
       "222081      222081  False\n",
       "222082      222082  False\n",
       "222083      222083  False\n",
       "222084      222084  False\n",
       "222085      222085  False\n",
       "222086      222086  False\n",
       "222087      222087  False\n",
       "222088      222088  False\n",
       "222089      222089  False\n",
       "222090      222090  False\n",
       "222091      222091  False\n",
       "222092      222092  False\n",
       "222093      222093  False\n",
       "222094      222094  False\n",
       "222095      222095  False\n",
       "222096      222096  False\n",
       "222097      222097  False\n",
       "222098      222098  False\n",
       "222099      222099  False\n",
       "\n",
       "[222100 rows x 2 columns]"
      ]
     },
     "execution_count": 76,
     "metadata": {},
     "output_type": "execute_result"
    }
   ],
   "source": [
    "ind_photos"
   ]
  },
  {
   "cell_type": "code",
   "execution_count": 198,
   "metadata": {},
   "outputs": [],
   "source": [
    "import pandas as pd \n",
    "#photos = pd.read_csv(\"photos.csv\",encoding='latin-1')\n",
    "photos_treated = pd.read_pickle(\"photos_treated.csv\")\n",
    "ind_photos = pd.read_csv(\"ind_photos.csv\")\n",
    "ind_depeches = pd.read_csv(\"ind_depeches.csv\")\n",
    "depeches = pd.read_csv(\"depeches.csv\")"
   ]
  },
  {
   "cell_type": "code",
   "execution_count": 199,
   "metadata": {},
   "outputs": [
    {
     "data": {
      "text/plain": [
       "<spacy.lang.en.English at 0x13d0e9e80>"
      ]
     },
     "execution_count": 199,
     "metadata": {},
     "output_type": "execute_result"
    }
   ],
   "source": [
    "\n",
    "import spacy\n",
    "import pandas as pd\n",
    "import numpy as np\n",
    "import neuralcoref\n",
    "import ast\n",
    "import random\n",
    "from tqdm import tqdm_notebook\n",
    "import urllib.request\n",
    "from PIL import Image\n",
    "\n",
    "\n",
    "scoring = pd.read_csv('scoring.csv', delimiter = \";\")\n",
    "dict_val = {}\n",
    "\n",
    "for i in range(48):\n",
    "    dict_val[scoring['function'][i]] = scoring['score_norm'][i]\n",
    "\n",
    "nlp=spacy.load(\"en_core_web_md\")\n",
    "neuralcoref.add_to_pipe(nlp,greedyness=0.5)"
   ]
  },
  {
   "cell_type": "code",
   "execution_count": 200,
   "metadata": {},
   "outputs": [
    {
     "name": "stderr",
     "output_type": "stream",
     "text": [
      "/Users/ya/miniconda3/lib/python3.7/site-packages/IPython/core/interactiveshell.py:3049: DtypeWarning: Columns (11,16,24,25,30,31,38) have mixed types. Specify dtype option on import or set low_memory=False.\n",
      "  interactivity=interactivity, compiler=compiler, result=result)\n"
     ]
    }
   ],
   "source": [
    "\n",
    "\n",
    "def author_del_photos(text):\n",
    "    text_s = text\n",
    "    while(text_s[-7:] != ' / AFP ' and len(text_s) > 1): \n",
    "        text_s = text_s[:-1]\n",
    "    if(len(text_s) <= 1):\n",
    "        return(text)\n",
    "    return(text_s[:-7])\n",
    "\n",
    "\n",
    "def transfo_event(ev):\n",
    "    res=ev\n",
    "    return res[1:-1].replace(\"'\",\"\").split(', ')\n",
    "\n",
    "df_depeche=pd.read_csv('depeches_clean.csv',index_col='Unnamed: 0')\n",
    "df_depeche.event=df_depeche.event.apply(transfo_event)\n",
    "\n",
    "df2=pd.read_csv('photos_clean.csv',index_col='Unnamed: 0')\n",
    "df2.event=df2.event.apply(transfo_event)\n",
    "\n",
    "df2.caption = df2.caption.apply(author_del_photos)"
   ]
  },
  {
   "cell_type": "code",
   "execution_count": 79,
   "metadata": {},
   "outputs": [
    {
     "data": {
      "text/html": [
       "<div>\n",
       "<style scoped>\n",
       "    .dataframe tbody tr th:only-of-type {\n",
       "        vertical-align: middle;\n",
       "    }\n",
       "\n",
       "    .dataframe tbody tr th {\n",
       "        vertical-align: top;\n",
       "    }\n",
       "\n",
       "    .dataframe thead th {\n",
       "        text-align: right;\n",
       "    }\n",
       "</style>\n",
       "<table border=\"1\" class=\"dataframe\">\n",
       "  <thead>\n",
       "    <tr style=\"text-align: right;\">\n",
       "      <th></th>\n",
       "      <th>Unnamed: 0.1</th>\n",
       "      <th>Uno</th>\n",
       "      <th>caption</th>\n",
       "      <th>city</th>\n",
       "      <th>contributor</th>\n",
       "      <th>country</th>\n",
       "      <th>country_only</th>\n",
       "      <th>country_out</th>\n",
       "      <th>created</th>\n",
       "      <th>creator</th>\n",
       "      <th>...</th>\n",
       "      <th>revision</th>\n",
       "      <th>rules</th>\n",
       "      <th>signal</th>\n",
       "      <th>slug</th>\n",
       "      <th>source</th>\n",
       "      <th>status</th>\n",
       "      <th>title</th>\n",
       "      <th>topic</th>\n",
       "      <th>urgency</th>\n",
       "      <th>url_extracted</th>\n",
       "    </tr>\n",
       "  </thead>\n",
       "  <tbody>\n",
       "    <tr>\n",
       "      <th>0</th>\n",
       "      <td>0</td>\n",
       "      <td>AFP_1P577M</td>\n",
       "      <td>Portugal's Prime Minister Antonio Costa (2ndL)...</td>\n",
       "      <td>Brussels</td>\n",
       "      <td>NaN</td>\n",
       "      <td>BEL</td>\n",
       "      <td>['ALL']</td>\n",
       "      <td>NaN</td>\n",
       "      <td>2020-02-20T16:22:04Z</td>\n",
       "      <td>LUDOVIC MARIN</td>\n",
       "      <td>...</td>\n",
       "      <td>1</td>\n",
       "      <td>NaN</td>\n",
       "      <td>NaN</td>\n",
       "      <td>['belgium', 'eu', 'politics', 'summit']</td>\n",
       "      <td>AFP</td>\n",
       "      <td>Usable</td>\n",
       "      <td>BELGIUM-EU-POLITICS-SUMMIT</td>\n",
       "      <td>['AFP-FORUM', 'AFP-PH-EUR', 'AFP-PH-AMN', 'AFP...</td>\n",
       "      <td>5</td>\n",
       "      <td>https://api.afp.com/objects/api/medias?id=a1kk...</td>\n",
       "    </tr>\n",
       "    <tr>\n",
       "      <th>12</th>\n",
       "      <td>12</td>\n",
       "      <td>AFP_1P57CA</td>\n",
       "      <td>President of the European Commission Ursula vo...</td>\n",
       "      <td>Brussels</td>\n",
       "      <td>NaN</td>\n",
       "      <td>BEL</td>\n",
       "      <td>['ALL']</td>\n",
       "      <td>NaN</td>\n",
       "      <td>2020-02-20T16:21:34Z</td>\n",
       "      <td>LUDOVIC MARIN</td>\n",
       "      <td>...</td>\n",
       "      <td>1</td>\n",
       "      <td>NaN</td>\n",
       "      <td>NaN</td>\n",
       "      <td>['belgium', 'eu', 'politics', 'summit']</td>\n",
       "      <td>AFP</td>\n",
       "      <td>Usable</td>\n",
       "      <td>BELGIUM-EU-POLITICS-SUMMIT</td>\n",
       "      <td>['AFP-FORUM', 'AFP-PH-EUR', 'AFP-PH-AMN', 'AFP...</td>\n",
       "      <td>5</td>\n",
       "      <td>https://api.afp.com/objects/api/medias?id=a1kk...</td>\n",
       "    </tr>\n",
       "    <tr>\n",
       "      <th>13</th>\n",
       "      <td>13</td>\n",
       "      <td>AFP_1P57CD</td>\n",
       "      <td>Denmark's Prime Minister Mette Frederiksen (L)...</td>\n",
       "      <td>Brussels</td>\n",
       "      <td>NaN</td>\n",
       "      <td>BEL</td>\n",
       "      <td>['ALL']</td>\n",
       "      <td>NaN</td>\n",
       "      <td>2020-02-20T16:21:20Z</td>\n",
       "      <td>LUDOVIC MARIN</td>\n",
       "      <td>...</td>\n",
       "      <td>1</td>\n",
       "      <td>NaN</td>\n",
       "      <td>NaN</td>\n",
       "      <td>['belgium', 'eu', 'politics', 'summit']</td>\n",
       "      <td>AFP</td>\n",
       "      <td>Usable</td>\n",
       "      <td>BELGIUM-EU-POLITICS-SUMMIT</td>\n",
       "      <td>['AFP-FORUM', 'AFP-PH-EUR', 'AFP-PH-AMN', 'AFP...</td>\n",
       "      <td>5</td>\n",
       "      <td>https://api.afp.com/objects/api/medias?id=a1kk...</td>\n",
       "    </tr>\n",
       "    <tr>\n",
       "      <th>14</th>\n",
       "      <td>14</td>\n",
       "      <td>AFP_1P57C6</td>\n",
       "      <td>Police officers put up a vision barries in fro...</td>\n",
       "      <td>Hanau</td>\n",
       "      <td>NaN</td>\n",
       "      <td>DEU</td>\n",
       "      <td>['ALL']</td>\n",
       "      <td>NaN</td>\n",
       "      <td>2020-02-20T16:20:21Z</td>\n",
       "      <td>PATRICK HERTZOG</td>\n",
       "      <td>...</td>\n",
       "      <td>1</td>\n",
       "      <td>NaN</td>\n",
       "      <td>NaN</td>\n",
       "      <td>['germany', 'attack', 'racism']</td>\n",
       "      <td>AFP</td>\n",
       "      <td>Usable</td>\n",
       "      <td>GERMANY-ATTACK-RACISM</td>\n",
       "      <td>['AFP-FORUM', 'AFP-PH-EUR', 'AFP-PH-AMN', 'AFP...</td>\n",
       "      <td>5</td>\n",
       "      <td>https://api.afp.com/objects/api/medias?id=a1kk...</td>\n",
       "    </tr>\n",
       "    <tr>\n",
       "      <th>20</th>\n",
       "      <td>20</td>\n",
       "      <td>AFP_1P57CE</td>\n",
       "      <td>Denmark's Prime Minister Mette Frederiksen att...</td>\n",
       "      <td>Brussels</td>\n",
       "      <td>NaN</td>\n",
       "      <td>BEL</td>\n",
       "      <td>['ALL']</td>\n",
       "      <td>NaN</td>\n",
       "      <td>2020-02-20T16:19:38Z</td>\n",
       "      <td>LUDOVIC MARIN</td>\n",
       "      <td>...</td>\n",
       "      <td>1</td>\n",
       "      <td>NaN</td>\n",
       "      <td>NaN</td>\n",
       "      <td>['belgium', 'eu', 'politics', 'summit']</td>\n",
       "      <td>AFP</td>\n",
       "      <td>Usable</td>\n",
       "      <td>BELGIUM-EU-POLITICS-SUMMIT</td>\n",
       "      <td>['AFP-FORUM', 'AFP-PH-EUR', 'AFP-PH-AMN', 'AFP...</td>\n",
       "      <td>5</td>\n",
       "      <td>https://api.afp.com/objects/api/medias?id=a1kk...</td>\n",
       "    </tr>\n",
       "    <tr>\n",
       "      <th>22</th>\n",
       "      <td>22</td>\n",
       "      <td>AFP_1P576Z</td>\n",
       "      <td>Austria's Chancellor Sebastian Kurz (R) and Es...</td>\n",
       "      <td>Brussels</td>\n",
       "      <td>NaN</td>\n",
       "      <td>BEL</td>\n",
       "      <td>['ALL']</td>\n",
       "      <td>NaN</td>\n",
       "      <td>2020-02-20T16:19:06Z</td>\n",
       "      <td>LUDOVIC MARIN</td>\n",
       "      <td>...</td>\n",
       "      <td>1</td>\n",
       "      <td>NaN</td>\n",
       "      <td>NaN</td>\n",
       "      <td>['belgium', 'eu', 'politics', 'summit']</td>\n",
       "      <td>AFP</td>\n",
       "      <td>Usable</td>\n",
       "      <td>BELGIUM-EU-POLITICS-SUMMIT</td>\n",
       "      <td>['AFP-FORUM', 'AFP-PH-EUR', 'AFP-PH-AMN', 'AFP...</td>\n",
       "      <td>5</td>\n",
       "      <td>https://api.afp.com/objects/api/medias?id=a1kk...</td>\n",
       "    </tr>\n",
       "    <tr>\n",
       "      <th>27</th>\n",
       "      <td>27</td>\n",
       "      <td>AFP_1P5770</td>\n",
       "      <td>Austria's Chancellor Sebastian Kurz (R) and Es...</td>\n",
       "      <td>Brussels</td>\n",
       "      <td>NaN</td>\n",
       "      <td>BEL</td>\n",
       "      <td>['ALL']</td>\n",
       "      <td>NaN</td>\n",
       "      <td>2020-02-20T16:18:50Z</td>\n",
       "      <td>LUDOVIC MARIN</td>\n",
       "      <td>...</td>\n",
       "      <td>1</td>\n",
       "      <td>NaN</td>\n",
       "      <td>NaN</td>\n",
       "      <td>['belgium', 'eu', 'politics', 'summit']</td>\n",
       "      <td>AFP</td>\n",
       "      <td>Usable</td>\n",
       "      <td>BELGIUM-EU-POLITICS-SUMMIT</td>\n",
       "      <td>['AFP-FORUM', 'AFP-PH-EUR', 'AFP-PH-AMN', 'AFP...</td>\n",
       "      <td>5</td>\n",
       "      <td>https://api.afp.com/objects/api/medias?id=a1kk...</td>\n",
       "    </tr>\n",
       "    <tr>\n",
       "      <th>33</th>\n",
       "      <td>33</td>\n",
       "      <td>AFP_1P55WW</td>\n",
       "      <td>TOPSHOT - Harvey Weinstein arrives at Manhatta...</td>\n",
       "      <td>New York</td>\n",
       "      <td>NaN</td>\n",
       "      <td>USA</td>\n",
       "      <td>['ALL']</td>\n",
       "      <td>NaN</td>\n",
       "      <td>2020-02-20T14:45:32Z</td>\n",
       "      <td>TIMOTHY A. CLARY</td>\n",
       "      <td>...</td>\n",
       "      <td>3</td>\n",
       "      <td>NaN</td>\n",
       "      <td>NaN</td>\n",
       "      <td>['topshot', 'us', 'entertainment', 'assault', ...</td>\n",
       "      <td>AFP</td>\n",
       "      <td>Usable</td>\n",
       "      <td>TOPSHOT - Harvey Weinstein arrives at Manhatta...</td>\n",
       "      <td>['AFP-FORUM', 'AFP-PH-EUR', 'AFP-PH-AMN', 'AFP...</td>\n",
       "      <td>1</td>\n",
       "      <td>https://api.afp.com/objects/api/medias?id=a1kk...</td>\n",
       "    </tr>\n",
       "    <tr>\n",
       "      <th>34</th>\n",
       "      <td>34</td>\n",
       "      <td>AFP_1P55NU</td>\n",
       "      <td>TOPSHOT - (From Bottom) Estonian Rene Zahkna, ...</td>\n",
       "      <td>Antholz</td>\n",
       "      <td>NaN</td>\n",
       "      <td>ITA</td>\n",
       "      <td>['ALL']</td>\n",
       "      <td>NaN</td>\n",
       "      <td>2020-02-20T14:41:45Z</td>\n",
       "      <td>TIZIANA FABI</td>\n",
       "      <td>...</td>\n",
       "      <td>3</td>\n",
       "      <td>NaN</td>\n",
       "      <td>NaN</td>\n",
       "      <td>['topshot', 'biathlon', 'wc', 'ita', 'single',...</td>\n",
       "      <td>AFP</td>\n",
       "      <td>Usable</td>\n",
       "      <td>TOPSHOT - (From Bottom) Estonian Rene Zahkna, ...</td>\n",
       "      <td>['AFP-FORUM', 'AFP-PH-EUR', 'AFP-PH-AMN', 'AFP...</td>\n",
       "      <td>1</td>\n",
       "      <td>https://api.afp.com/objects/api/medias?id=a1kk...</td>\n",
       "    </tr>\n",
       "    <tr>\n",
       "      <th>36</th>\n",
       "      <td>36</td>\n",
       "      <td>AFP_1P55NZ</td>\n",
       "      <td>TOPSHOT - Harvey Weinstein arrives at Manhatta...</td>\n",
       "      <td>New York</td>\n",
       "      <td>NaN</td>\n",
       "      <td>USA</td>\n",
       "      <td>['ALL']</td>\n",
       "      <td>NaN</td>\n",
       "      <td>2020-02-20T14:47:50Z</td>\n",
       "      <td>ANGELA WEISS</td>\n",
       "      <td>...</td>\n",
       "      <td>3</td>\n",
       "      <td>NaN</td>\n",
       "      <td>NaN</td>\n",
       "      <td>['topshot', 'us', 'entertainment', 'assault', ...</td>\n",
       "      <td>AFP</td>\n",
       "      <td>Usable</td>\n",
       "      <td>TOPSHOT - Harvey Weinstein arrives at Manhatta...</td>\n",
       "      <td>['AFP-FORUM', 'AFP-PH-EUR', 'AFP-PH-AMN', 'AFP...</td>\n",
       "      <td>1</td>\n",
       "      <td>https://api.afp.com/objects/api/medias?id=a1kk...</td>\n",
       "    </tr>\n",
       "    <tr>\n",
       "      <th>37</th>\n",
       "      <td>37</td>\n",
       "      <td>AFP_1P556D</td>\n",
       "      <td>TOPSHOT - Roger Stone(C), former advisor to US...</td>\n",
       "      <td>Washington</td>\n",
       "      <td>NaN</td>\n",
       "      <td>USA</td>\n",
       "      <td>['ALL']</td>\n",
       "      <td>NaN</td>\n",
       "      <td>2020-02-20T14:02:31Z</td>\n",
       "      <td>ALEX EDELMAN</td>\n",
       "      <td>...</td>\n",
       "      <td>4</td>\n",
       "      <td>NaN</td>\n",
       "      <td>NaN</td>\n",
       "      <td>['topshot', 'us', 'politics', 'justice', 'ston...</td>\n",
       "      <td>AFP</td>\n",
       "      <td>Usable</td>\n",
       "      <td>TOPSHOT - Roger Stone(C), former advisor to US...</td>\n",
       "      <td>['AFP-FORUM', 'AFP-PH-EUR', 'AFP-PH-AMN', 'AFP...</td>\n",
       "      <td>1</td>\n",
       "      <td>https://api.afp.com/objects/api/medias?id=a1kk...</td>\n",
       "    </tr>\n",
       "    <tr>\n",
       "      <th>59</th>\n",
       "      <td>59</td>\n",
       "      <td>AFP_1P5771</td>\n",
       "      <td>Austria's Chancellor Sebastian Kurz (R) and Lu...</td>\n",
       "      <td>Brussels</td>\n",
       "      <td>NaN</td>\n",
       "      <td>BEL</td>\n",
       "      <td>['ALL']</td>\n",
       "      <td>NaN</td>\n",
       "      <td>2020-02-20T16:18:14Z</td>\n",
       "      <td>LUDOVIC MARIN</td>\n",
       "      <td>...</td>\n",
       "      <td>1</td>\n",
       "      <td>NaN</td>\n",
       "      <td>NaN</td>\n",
       "      <td>['belgium', 'eu', 'politics', 'summit']</td>\n",
       "      <td>AFP</td>\n",
       "      <td>Usable</td>\n",
       "      <td>BELGIUM-EU-POLITICS-SUMMIT</td>\n",
       "      <td>['AFP-FORUM', 'AFP-PH-EUR', 'AFP-PH-AMN', 'AFP...</td>\n",
       "      <td>5</td>\n",
       "      <td>https://api.afp.com/objects/api/medias?id=a1kk...</td>\n",
       "    </tr>\n",
       "    <tr>\n",
       "      <th>75</th>\n",
       "      <td>75</td>\n",
       "      <td>AFP_1P576E</td>\n",
       "      <td>Croatia's Prime Minister Andrej Plenkovic (L) ...</td>\n",
       "      <td>Brussels</td>\n",
       "      <td>NaN</td>\n",
       "      <td>BEL</td>\n",
       "      <td>['ALL']</td>\n",
       "      <td>NaN</td>\n",
       "      <td>2020-02-20T16:17:24Z</td>\n",
       "      <td>LUDOVIC MARIN</td>\n",
       "      <td>...</td>\n",
       "      <td>1</td>\n",
       "      <td>NaN</td>\n",
       "      <td>NaN</td>\n",
       "      <td>['belgium', 'eu', 'politics', 'summit']</td>\n",
       "      <td>AFP</td>\n",
       "      <td>Usable</td>\n",
       "      <td>BELGIUM-EU-POLITICS-SUMMIT</td>\n",
       "      <td>['AFP-FORUM', 'AFP-PH-EUR', 'AFP-PH-AMN', 'AFP...</td>\n",
       "      <td>5</td>\n",
       "      <td>https://api.afp.com/objects/api/medias?id=a1kk...</td>\n",
       "    </tr>\n",
       "    <tr>\n",
       "      <th>83</th>\n",
       "      <td>83</td>\n",
       "      <td>AFP_1P577D</td>\n",
       "      <td>Ferrari's German driver Sebastian Vettel drive...</td>\n",
       "      <td>Montmeló</td>\n",
       "      <td>NaN</td>\n",
       "      <td>ESP</td>\n",
       "      <td>['ALL']</td>\n",
       "      <td>NaN</td>\n",
       "      <td>2020-02-20T16:15:38Z</td>\n",
       "      <td>LLUIS GENE</td>\n",
       "      <td>...</td>\n",
       "      <td>1</td>\n",
       "      <td>NaN</td>\n",
       "      <td>NaN</td>\n",
       "      <td>['auto', 'prix', 'auto', 'prix', 'f1', 'esp', ...</td>\n",
       "      <td>AFP</td>\n",
       "      <td>Usable</td>\n",
       "      <td>auto-prix-AUTO-PRIX-F1-ESP-TEST</td>\n",
       "      <td>['AFP-FORUM', 'AFP-PH-EUR', 'AFP-PH-AMN', 'AFP...</td>\n",
       "      <td>5</td>\n",
       "      <td>https://api.afp.com/objects/api/medias?id=a1kk...</td>\n",
       "    </tr>\n",
       "    <tr>\n",
       "      <th>85</th>\n",
       "      <td>85</td>\n",
       "      <td>AFP_1P5766</td>\n",
       "      <td>(LtoR) President of the European Commission Ur...</td>\n",
       "      <td>Brussels</td>\n",
       "      <td>NaN</td>\n",
       "      <td>BEL</td>\n",
       "      <td>['ALL']</td>\n",
       "      <td>NaN</td>\n",
       "      <td>2020-02-20T16:14:55Z</td>\n",
       "      <td>LUDOVIC MARIN</td>\n",
       "      <td>...</td>\n",
       "      <td>1</td>\n",
       "      <td>NaN</td>\n",
       "      <td>NaN</td>\n",
       "      <td>['belgium', 'eu', 'politics', 'summit']</td>\n",
       "      <td>AFP</td>\n",
       "      <td>Usable</td>\n",
       "      <td>BELGIUM-EU-POLITICS-SUMMIT</td>\n",
       "      <td>['AFP-FORUM', 'AFP-PH-EUR', 'AFP-PH-AMN', 'AFP...</td>\n",
       "      <td>5</td>\n",
       "      <td>https://api.afp.com/objects/api/medias?id=a1kk...</td>\n",
       "    </tr>\n",
       "    <tr>\n",
       "      <th>87</th>\n",
       "      <td>87</td>\n",
       "      <td>AFP_1P576L</td>\n",
       "      <td>(LtoR) European Parliament President David-Mar...</td>\n",
       "      <td>Brussels</td>\n",
       "      <td>NaN</td>\n",
       "      <td>BEL</td>\n",
       "      <td>['ALL']</td>\n",
       "      <td>NaN</td>\n",
       "      <td>2020-02-20T16:14:28Z</td>\n",
       "      <td>LUDOVIC MARIN</td>\n",
       "      <td>...</td>\n",
       "      <td>1</td>\n",
       "      <td>NaN</td>\n",
       "      <td>NaN</td>\n",
       "      <td>['belgium', 'eu', 'politics', 'summit']</td>\n",
       "      <td>AFP</td>\n",
       "      <td>Usable</td>\n",
       "      <td>BELGIUM-EU-POLITICS-SUMMIT</td>\n",
       "      <td>['AFP-FORUM', 'AFP-PH-EUR', 'AFP-PH-AMN', 'AFP...</td>\n",
       "      <td>5</td>\n",
       "      <td>https://api.afp.com/objects/api/medias?id=a1kk...</td>\n",
       "    </tr>\n",
       "    <tr>\n",
       "      <th>88</th>\n",
       "      <td>88</td>\n",
       "      <td>AFP_1P576W</td>\n",
       "      <td>(LtoR) European Parliament President David-Mar...</td>\n",
       "      <td>Brussels</td>\n",
       "      <td>NaN</td>\n",
       "      <td>BEL</td>\n",
       "      <td>['ALL']</td>\n",
       "      <td>NaN</td>\n",
       "      <td>2020-02-20T16:14:17Z</td>\n",
       "      <td>LUDOVIC MARIN</td>\n",
       "      <td>...</td>\n",
       "      <td>1</td>\n",
       "      <td>NaN</td>\n",
       "      <td>NaN</td>\n",
       "      <td>['belgium', 'eu', 'politics', 'summit']</td>\n",
       "      <td>AFP</td>\n",
       "      <td>Usable</td>\n",
       "      <td>BELGIUM-EU-POLITICS-SUMMIT</td>\n",
       "      <td>['AFP-FORUM', 'AFP-PH-EUR', 'AFP-PH-AMN', 'AFP...</td>\n",
       "      <td>5</td>\n",
       "      <td>https://api.afp.com/objects/api/medias?id=a1kk...</td>\n",
       "    </tr>\n",
       "    <tr>\n",
       "      <th>89</th>\n",
       "      <td>89</td>\n",
       "      <td>AFP_1P576M</td>\n",
       "      <td>A man prays at a makeshift memorial of flowers...</td>\n",
       "      <td>Hanau</td>\n",
       "      <td>NaN</td>\n",
       "      <td>DEU</td>\n",
       "      <td>['ALL']</td>\n",
       "      <td>NaN</td>\n",
       "      <td>2020-02-20T16:14:04Z</td>\n",
       "      <td>PATRICK HERTZOG</td>\n",
       "      <td>...</td>\n",
       "      <td>1</td>\n",
       "      <td>NaN</td>\n",
       "      <td>NaN</td>\n",
       "      <td>['germany', 'attack', 'racism']</td>\n",
       "      <td>AFP</td>\n",
       "      <td>Usable</td>\n",
       "      <td>GERMANY-ATTACK-RACISM</td>\n",
       "      <td>['AFP-FORUM', 'AFP-PH-EUR', 'AFP-PH-AMN', 'AFP...</td>\n",
       "      <td>5</td>\n",
       "      <td>https://api.afp.com/objects/api/medias?id=a1kk...</td>\n",
       "    </tr>\n",
       "    <tr>\n",
       "      <th>90</th>\n",
       "      <td>90</td>\n",
       "      <td>AFP_1P56XI</td>\n",
       "      <td>Petra Martic of Croatia reacts during her Duba...</td>\n",
       "      <td>Dubai</td>\n",
       "      <td>NaN</td>\n",
       "      <td>ARE</td>\n",
       "      <td>['ALL']</td>\n",
       "      <td>NaN</td>\n",
       "      <td>2020-02-20T16:13:47Z</td>\n",
       "      <td>KARIM SAHIB</td>\n",
       "      <td>...</td>\n",
       "      <td>1</td>\n",
       "      <td>NaN</td>\n",
       "      <td>NaN</td>\n",
       "      <td>['tennis', 'wta', 'dubai', 'uae']</td>\n",
       "      <td>AFP</td>\n",
       "      <td>Usable</td>\n",
       "      <td>TENNIS-WTA-DUBAI-UAE</td>\n",
       "      <td>['AFP-FORUM', 'AFP-PH-EUR', 'AFP-PH-AMN', 'AFP...</td>\n",
       "      <td>5</td>\n",
       "      <td>https://api.afp.com/objects/api/medias?id=a1kk...</td>\n",
       "    </tr>\n",
       "    <tr>\n",
       "      <th>91</th>\n",
       "      <td>91</td>\n",
       "      <td>AFP_1P56X1</td>\n",
       "      <td>Petra Martic of Croatia returns the ball to An...</td>\n",
       "      <td>Dubai</td>\n",
       "      <td>NaN</td>\n",
       "      <td>ARE</td>\n",
       "      <td>['ALL']</td>\n",
       "      <td>NaN</td>\n",
       "      <td>2020-02-20T16:13:47Z</td>\n",
       "      <td>KARIM SAHIB</td>\n",
       "      <td>...</td>\n",
       "      <td>1</td>\n",
       "      <td>NaN</td>\n",
       "      <td>NaN</td>\n",
       "      <td>['tennis', 'wta', 'dubai', 'uae']</td>\n",
       "      <td>AFP</td>\n",
       "      <td>Usable</td>\n",
       "      <td>TENNIS-WTA-DUBAI-UAE</td>\n",
       "      <td>['AFP-FORUM', 'AFP-PH-EUR', 'AFP-PH-AMN', 'AFP...</td>\n",
       "      <td>5</td>\n",
       "      <td>https://api.afp.com/objects/api/medias?id=a1kk...</td>\n",
       "    </tr>\n",
       "    <tr>\n",
       "      <th>92</th>\n",
       "      <td>92</td>\n",
       "      <td>AFP_1P576T</td>\n",
       "      <td>Anett Kontaveit of Estonia reacts during her D...</td>\n",
       "      <td>Dubai</td>\n",
       "      <td>NaN</td>\n",
       "      <td>ARE</td>\n",
       "      <td>['ALL']</td>\n",
       "      <td>NaN</td>\n",
       "      <td>2020-02-20T16:13:47Z</td>\n",
       "      <td>KARIM SAHIB</td>\n",
       "      <td>...</td>\n",
       "      <td>1</td>\n",
       "      <td>NaN</td>\n",
       "      <td>NaN</td>\n",
       "      <td>['tennis', 'wta', 'dubai', 'uae']</td>\n",
       "      <td>AFP</td>\n",
       "      <td>Usable</td>\n",
       "      <td>TENNIS-WTA-DUBAI-UAE</td>\n",
       "      <td>['AFP-FORUM', 'AFP-PH-EUR', 'AFP-PH-AMN', 'AFP...</td>\n",
       "      <td>5</td>\n",
       "      <td>https://api.afp.com/objects/api/medias?id=a1kk...</td>\n",
       "    </tr>\n",
       "    <tr>\n",
       "      <th>97</th>\n",
       "      <td>97</td>\n",
       "      <td>AFP_1P576P</td>\n",
       "      <td>Anett Kontaveit of Estonia serves the ball to ...</td>\n",
       "      <td>Dubai</td>\n",
       "      <td>NaN</td>\n",
       "      <td>ARE</td>\n",
       "      <td>['ALL']</td>\n",
       "      <td>NaN</td>\n",
       "      <td>2020-02-20T16:13:44Z</td>\n",
       "      <td>KARIM SAHIB</td>\n",
       "      <td>...</td>\n",
       "      <td>1</td>\n",
       "      <td>NaN</td>\n",
       "      <td>NaN</td>\n",
       "      <td>['tennis', 'wta', 'dubai', 'uae']</td>\n",
       "      <td>AFP</td>\n",
       "      <td>Usable</td>\n",
       "      <td>TENNIS-WTA-DUBAI-UAE</td>\n",
       "      <td>['AFP-FORUM', 'AFP-PH-EUR', 'AFP-PH-AMN', 'AFP...</td>\n",
       "      <td>5</td>\n",
       "      <td>https://api.afp.com/objects/api/medias?id=a1kk...</td>\n",
       "    </tr>\n",
       "    <tr>\n",
       "      <th>99</th>\n",
       "      <td>99</td>\n",
       "      <td>AFP_1P576N</td>\n",
       "      <td>Sweden's Prime Minister Stefan Lofven (C) and ...</td>\n",
       "      <td>Brussels</td>\n",
       "      <td>NaN</td>\n",
       "      <td>BEL</td>\n",
       "      <td>['ALL']</td>\n",
       "      <td>NaN</td>\n",
       "      <td>2020-02-20T16:13:24Z</td>\n",
       "      <td>LUDOVIC MARIN</td>\n",
       "      <td>...</td>\n",
       "      <td>1</td>\n",
       "      <td>NaN</td>\n",
       "      <td>NaN</td>\n",
       "      <td>['belgium', 'eu', 'politics', 'summit']</td>\n",
       "      <td>AFP</td>\n",
       "      <td>Usable</td>\n",
       "      <td>BELGIUM-EU-POLITICS-SUMMIT</td>\n",
       "      <td>['AFP-FORUM', 'AFP-PH-EUR', 'AFP-PH-AMN', 'AFP...</td>\n",
       "      <td>5</td>\n",
       "      <td>https://api.afp.com/objects/api/medias?id=a1kk...</td>\n",
       "    </tr>\n",
       "    <tr>\n",
       "      <th>102</th>\n",
       "      <td>102</td>\n",
       "      <td>AFP_1P56Y3</td>\n",
       "      <td>Anett Kontaveit of Estonia returns the ball to...</td>\n",
       "      <td>Dubai</td>\n",
       "      <td>NaN</td>\n",
       "      <td>ARE</td>\n",
       "      <td>['ALL']</td>\n",
       "      <td>NaN</td>\n",
       "      <td>2020-02-20T16:13:06Z</td>\n",
       "      <td>KARIM SAHIB</td>\n",
       "      <td>...</td>\n",
       "      <td>1</td>\n",
       "      <td>NaN</td>\n",
       "      <td>NaN</td>\n",
       "      <td>['tennis', 'wta', 'dubai', 'uae']</td>\n",
       "      <td>AFP</td>\n",
       "      <td>Usable</td>\n",
       "      <td>TENNIS-WTA-DUBAI-UAE</td>\n",
       "      <td>['AFP-FORUM', 'AFP-PH-EUR', 'AFP-PH-AMN', 'AFP...</td>\n",
       "      <td>5</td>\n",
       "      <td>https://api.afp.com/objects/api/medias?id=a1kk...</td>\n",
       "    </tr>\n",
       "    <tr>\n",
       "      <th>110</th>\n",
       "      <td>110</td>\n",
       "      <td>AFP_1P5790</td>\n",
       "      <td>A picture obtained from the Twitter account of...</td>\n",
       "      <td>Addis Ababa</td>\n",
       "      <td>NaN</td>\n",
       "      <td>ETH</td>\n",
       "      <td>['ALL']</td>\n",
       "      <td>NaN</td>\n",
       "      <td>2020-02-20T16:12:52Z</td>\n",
       "      <td>-</td>\n",
       "      <td>...</td>\n",
       "      <td>1</td>\n",
       "      <td>['RESTRICTED TO EDITORIAL USE', 'NO MARKETING'...</td>\n",
       "      <td>NaN</td>\n",
       "      <td>['ethiopia', 'netherlands', 'religion', 'cultu...</td>\n",
       "      <td>Twitter account of the Office of the Prime Min...</td>\n",
       "      <td>Usable</td>\n",
       "      <td>ETHIOPIA-NETHERLANDS-RELIGION-CULTURE-religion</td>\n",
       "      <td>['AFP-FORUM', 'AFP-PH-EUR', 'AFP-PH-AMN', 'AFP...</td>\n",
       "      <td>5</td>\n",
       "      <td>https://api.afp.com/objects/api/medias?id=a1kk...</td>\n",
       "    </tr>\n",
       "    <tr>\n",
       "      <th>111</th>\n",
       "      <td>111</td>\n",
       "      <td>AFP_1P576I</td>\n",
       "      <td>HAAS F1 Team's French driver Romain Grosjean d...</td>\n",
       "      <td>Montmeló</td>\n",
       "      <td>NaN</td>\n",
       "      <td>ESP</td>\n",
       "      <td>['ALL']</td>\n",
       "      <td>NaN</td>\n",
       "      <td>2020-02-20T16:12:52Z</td>\n",
       "      <td>LLUIS GENE</td>\n",
       "      <td>...</td>\n",
       "      <td>1</td>\n",
       "      <td>NaN</td>\n",
       "      <td>NaN</td>\n",
       "      <td>['auto', 'prix', 'auto', 'prix', 'f1', 'esp', ...</td>\n",
       "      <td>AFP</td>\n",
       "      <td>Usable</td>\n",
       "      <td>auto-prix-AUTO-PRIX-F1-ESP-TEST</td>\n",
       "      <td>['AFP-FORUM', 'AFP-PH-EUR', 'AFP-PH-AMN', 'AFP...</td>\n",
       "      <td>5</td>\n",
       "      <td>https://api.afp.com/objects/api/medias?id=a1kk...</td>\n",
       "    </tr>\n",
       "    <tr>\n",
       "      <th>116</th>\n",
       "      <td>116</td>\n",
       "      <td>AFP_1P574X</td>\n",
       "      <td>Luxembourg's Prime Minister Xavier Bettel (C) ...</td>\n",
       "      <td>Brussels</td>\n",
       "      <td>NaN</td>\n",
       "      <td>BEL</td>\n",
       "      <td>['ALL']</td>\n",
       "      <td>NaN</td>\n",
       "      <td>2020-02-20T16:12:48Z</td>\n",
       "      <td>LUDOVIC MARIN</td>\n",
       "      <td>...</td>\n",
       "      <td>1</td>\n",
       "      <td>NaN</td>\n",
       "      <td>NaN</td>\n",
       "      <td>['belgium', 'eu', 'politics', 'summit']</td>\n",
       "      <td>AFP</td>\n",
       "      <td>Usable</td>\n",
       "      <td>BELGIUM-EU-POLITICS-SUMMIT</td>\n",
       "      <td>['AFP-FORUM', 'AFP-PH-EUR', 'AFP-PH-AMN', 'AFP...</td>\n",
       "      <td>5</td>\n",
       "      <td>https://api.afp.com/objects/api/medias?id=a1kk...</td>\n",
       "    </tr>\n",
       "    <tr>\n",
       "      <th>141</th>\n",
       "      <td>141</td>\n",
       "      <td>AFP_1P56XX</td>\n",
       "      <td>French President Emmanuel Macron (C) and Europ...</td>\n",
       "      <td>Brussels</td>\n",
       "      <td>NaN</td>\n",
       "      <td>BEL</td>\n",
       "      <td>['ALL']</td>\n",
       "      <td>NaN</td>\n",
       "      <td>2020-02-20T16:12:16Z</td>\n",
       "      <td>LUDOVIC MARIN</td>\n",
       "      <td>...</td>\n",
       "      <td>1</td>\n",
       "      <td>NaN</td>\n",
       "      <td>NaN</td>\n",
       "      <td>['belgium', 'eu', 'politics', 'summit']</td>\n",
       "      <td>AFP</td>\n",
       "      <td>Usable</td>\n",
       "      <td>BELGIUM-EU-POLITICS-SUMMIT</td>\n",
       "      <td>['AFP-FORUM', 'AFP-PH-EUR', 'AFP-PH-AMN', 'AFP...</td>\n",
       "      <td>5</td>\n",
       "      <td>https://api.afp.com/objects/api/medias?id=a1kk...</td>\n",
       "    </tr>\n",
       "    <tr>\n",
       "      <th>154</th>\n",
       "      <td>154</td>\n",
       "      <td>AFP_1P574Z</td>\n",
       "      <td>French President Emmanuel Macron (C) attends a...</td>\n",
       "      <td>Brussels</td>\n",
       "      <td>NaN</td>\n",
       "      <td>BEL</td>\n",
       "      <td>['ALL']</td>\n",
       "      <td>NaN</td>\n",
       "      <td>2020-02-20T16:11:57Z</td>\n",
       "      <td>LUDOVIC MARIN</td>\n",
       "      <td>...</td>\n",
       "      <td>1</td>\n",
       "      <td>NaN</td>\n",
       "      <td>NaN</td>\n",
       "      <td>['belgium', 'eu', 'politics', 'summit']</td>\n",
       "      <td>AFP</td>\n",
       "      <td>Usable</td>\n",
       "      <td>BELGIUM-EU-POLITICS-SUMMIT</td>\n",
       "      <td>['AFP-FORUM', 'AFP-PH-EUR', 'AFP-PH-AMN', 'AFP...</td>\n",
       "      <td>5</td>\n",
       "      <td>https://api.afp.com/objects/api/medias?id=a1kk...</td>\n",
       "    </tr>\n",
       "    <tr>\n",
       "      <th>165</th>\n",
       "      <td>165</td>\n",
       "      <td>AFP_1P576O</td>\n",
       "      <td>Williams' British driver George Russell drives...</td>\n",
       "      <td>Montmeló</td>\n",
       "      <td>NaN</td>\n",
       "      <td>ESP</td>\n",
       "      <td>['ALL']</td>\n",
       "      <td>NaN</td>\n",
       "      <td>2020-02-20T16:10:51Z</td>\n",
       "      <td>LLUIS GENE</td>\n",
       "      <td>...</td>\n",
       "      <td>1</td>\n",
       "      <td>NaN</td>\n",
       "      <td>NaN</td>\n",
       "      <td>['auto', 'prix', 'auto', 'prix', 'f1', 'esp', ...</td>\n",
       "      <td>AFP</td>\n",
       "      <td>Usable</td>\n",
       "      <td>auto-prix-AUTO-PRIX-F1-ESP-TEST</td>\n",
       "      <td>['AFP-FORUM', 'AFP-PH-EUR', 'AFP-PH-AMN', 'AFP...</td>\n",
       "      <td>5</td>\n",
       "      <td>https://api.afp.com/objects/api/medias?id=a1kk...</td>\n",
       "    </tr>\n",
       "    <tr>\n",
       "      <th>...</th>\n",
       "      <td>...</td>\n",
       "      <td>...</td>\n",
       "      <td>...</td>\n",
       "      <td>...</td>\n",
       "      <td>...</td>\n",
       "      <td>...</td>\n",
       "      <td>...</td>\n",
       "      <td>...</td>\n",
       "      <td>...</td>\n",
       "      <td>...</td>\n",
       "      <td>...</td>\n",
       "      <td>...</td>\n",
       "      <td>...</td>\n",
       "      <td>...</td>\n",
       "      <td>...</td>\n",
       "      <td>...</td>\n",
       "      <td>...</td>\n",
       "      <td>...</td>\n",
       "      <td>...</td>\n",
       "      <td>...</td>\n",
       "      <td>...</td>\n",
       "    </tr>\n",
       "    <tr>\n",
       "      <th>353358</th>\n",
       "      <td>353358</td>\n",
       "      <td>AFP_1E294X</td>\n",
       "      <td>Gael Monfils of France serves the ball to Gree...</td>\n",
       "      <td>Dubai</td>\n",
       "      <td>NaN</td>\n",
       "      <td>ARE</td>\n",
       "      <td>['ALL']</td>\n",
       "      <td>NaN</td>\n",
       "      <td>2019-03-01T15:23:07Z</td>\n",
       "      <td>KARIM SAHIB</td>\n",
       "      <td>...</td>\n",
       "      <td>1</td>\n",
       "      <td>NaN</td>\n",
       "      <td>NaN</td>\n",
       "      <td>['tennis', 'atp', 'uae', 'dubai']</td>\n",
       "      <td>AFP</td>\n",
       "      <td>Usable</td>\n",
       "      <td>tennis-atp-uae-dubai</td>\n",
       "      <td>['AFP-FORUM', 'AFP-PH-EUR', 'AFP-PH-AMN', 'AFP...</td>\n",
       "      <td>5</td>\n",
       "      <td>https://api.afp.com/objects/api/medias?id=a1kk...</td>\n",
       "    </tr>\n",
       "    <tr>\n",
       "      <th>353437</th>\n",
       "      <td>353437</td>\n",
       "      <td>AFP_1E284B</td>\n",
       "      <td>TOPSHOT - Gael Monfils of France returns the b...</td>\n",
       "      <td>Dubai</td>\n",
       "      <td>NaN</td>\n",
       "      <td>ARE</td>\n",
       "      <td>['ALL']</td>\n",
       "      <td>NaN</td>\n",
       "      <td>2019-03-01T14:25:32Z</td>\n",
       "      <td>KARIM SAHIB</td>\n",
       "      <td>...</td>\n",
       "      <td>4</td>\n",
       "      <td>NaN</td>\n",
       "      <td>NaN</td>\n",
       "      <td>['topshots', 'topshot', 'tennis', 'atp', 'uae'...</td>\n",
       "      <td>AFP</td>\n",
       "      <td>Usable</td>\n",
       "      <td>TOPSHOT - Gael Monfils of France returns the b...</td>\n",
       "      <td>['AFP-FORUM', 'AFP-PH-EUR', 'AFP-PH-AMN', 'AFP...</td>\n",
       "      <td>1</td>\n",
       "      <td>https://api.afp.com/objects/api/medias?id=a1kk...</td>\n",
       "    </tr>\n",
       "    <tr>\n",
       "      <th>353505</th>\n",
       "      <td>353505</td>\n",
       "      <td>AFP_1E2846</td>\n",
       "      <td>Gael Monfils of France reacts as he plays agai...</td>\n",
       "      <td>Dubai</td>\n",
       "      <td>NaN</td>\n",
       "      <td>ARE</td>\n",
       "      <td>['ALL']</td>\n",
       "      <td>NaN</td>\n",
       "      <td>2019-03-01T14:31:37Z</td>\n",
       "      <td>KARIM SAHIB</td>\n",
       "      <td>...</td>\n",
       "      <td>1</td>\n",
       "      <td>NaN</td>\n",
       "      <td>NaN</td>\n",
       "      <td>['tennis', 'atp', 'uae', 'dubai']</td>\n",
       "      <td>AFP</td>\n",
       "      <td>Usable</td>\n",
       "      <td>tennis-atp-uae-dubai</td>\n",
       "      <td>['AFP-FORUM', 'AFP-PH-EUR', 'AFP-PH-AMN', 'AFP...</td>\n",
       "      <td>5</td>\n",
       "      <td>https://api.afp.com/objects/api/medias?id=a1kk...</td>\n",
       "    </tr>\n",
       "    <tr>\n",
       "      <th>353542</th>\n",
       "      <td>353542</td>\n",
       "      <td>AFP_1E284K</td>\n",
       "      <td>Gael Monfils of France returns the ball to Ste...</td>\n",
       "      <td>Dubai</td>\n",
       "      <td>NaN</td>\n",
       "      <td>ARE</td>\n",
       "      <td>['ALL']</td>\n",
       "      <td>NaN</td>\n",
       "      <td>2019-03-01T14:25:33Z</td>\n",
       "      <td>KARIM SAHIB</td>\n",
       "      <td>...</td>\n",
       "      <td>1</td>\n",
       "      <td>NaN</td>\n",
       "      <td>NaN</td>\n",
       "      <td>['tennis', 'atp', 'uae', 'dubai']</td>\n",
       "      <td>AFP</td>\n",
       "      <td>Usable</td>\n",
       "      <td>tennis-atp-uae-dubai</td>\n",
       "      <td>['AFP-FORUM', 'AFP-PH-EUR', 'AFP-PH-AMN', 'AFP...</td>\n",
       "      <td>5</td>\n",
       "      <td>https://api.afp.com/objects/api/medias?id=a1kk...</td>\n",
       "    </tr>\n",
       "    <tr>\n",
       "      <th>353547</th>\n",
       "      <td>353547</td>\n",
       "      <td>AFP_1E2852</td>\n",
       "      <td>Gael Monfils of France serves the ball to Stef...</td>\n",
       "      <td>Dubai</td>\n",
       "      <td>NaN</td>\n",
       "      <td>ARE</td>\n",
       "      <td>['ALL']</td>\n",
       "      <td>NaN</td>\n",
       "      <td>2019-03-01T14:25:31Z</td>\n",
       "      <td>KARIM SAHIB</td>\n",
       "      <td>...</td>\n",
       "      <td>1</td>\n",
       "      <td>NaN</td>\n",
       "      <td>NaN</td>\n",
       "      <td>['tennis', 'atp', 'uae', 'dubai']</td>\n",
       "      <td>AFP</td>\n",
       "      <td>Usable</td>\n",
       "      <td>tennis-atp-uae-dubai</td>\n",
       "      <td>['AFP-FORUM', 'AFP-PH-EUR', 'AFP-PH-AMN', 'AFP...</td>\n",
       "      <td>5</td>\n",
       "      <td>https://api.afp.com/objects/api/medias?id=a1kk...</td>\n",
       "    </tr>\n",
       "    <tr>\n",
       "      <th>354293</th>\n",
       "      <td>354293</td>\n",
       "      <td>AFP_1E11SM</td>\n",
       "      <td>Greek Stefanos Tsitsipas returns to Polish Hub...</td>\n",
       "      <td>Dubai</td>\n",
       "      <td>NaN</td>\n",
       "      <td>ARE</td>\n",
       "      <td>['ALL']</td>\n",
       "      <td>NaN</td>\n",
       "      <td>2019-02-28T15:18:11Z</td>\n",
       "      <td>KARIM SAHIB</td>\n",
       "      <td>...</td>\n",
       "      <td>1</td>\n",
       "      <td>NaN</td>\n",
       "      <td>NaN</td>\n",
       "      <td>['tennis', 'uae', 'atp', 'dubai']</td>\n",
       "      <td>AFP</td>\n",
       "      <td>Usable</td>\n",
       "      <td>tennis-uae-atp-dubai</td>\n",
       "      <td>['AFP-FORUM', 'AFP-PH-EUR', 'AFP-PH-AMN', 'AFP...</td>\n",
       "      <td>5</td>\n",
       "      <td>https://api.afp.com/objects/api/medias?id=a1kk...</td>\n",
       "    </tr>\n",
       "    <tr>\n",
       "      <th>354299</th>\n",
       "      <td>354299</td>\n",
       "      <td>AFP_1E11MH</td>\n",
       "      <td>Polish Hubert Hurkacz serves to Greek Stefanos...</td>\n",
       "      <td>Dubai</td>\n",
       "      <td>NaN</td>\n",
       "      <td>ARE</td>\n",
       "      <td>['ALL']</td>\n",
       "      <td>NaN</td>\n",
       "      <td>2019-02-28T15:18:10Z</td>\n",
       "      <td>KARIM SAHIB</td>\n",
       "      <td>...</td>\n",
       "      <td>1</td>\n",
       "      <td>NaN</td>\n",
       "      <td>NaN</td>\n",
       "      <td>['tennis', 'uae', 'atp', 'dubai']</td>\n",
       "      <td>AFP</td>\n",
       "      <td>Usable</td>\n",
       "      <td>tennis-uae-atp-dubai</td>\n",
       "      <td>['AFP-FORUM', 'AFP-PH-EUR', 'AFP-PH-AMN', 'AFP...</td>\n",
       "      <td>5</td>\n",
       "      <td>https://api.afp.com/objects/api/medias?id=a1kk...</td>\n",
       "    </tr>\n",
       "    <tr>\n",
       "      <th>354302</th>\n",
       "      <td>354302</td>\n",
       "      <td>AFP_1E11S6</td>\n",
       "      <td>Polish Hubert Hurkacz  returns to Greek Stefan...</td>\n",
       "      <td>Dubai</td>\n",
       "      <td>NaN</td>\n",
       "      <td>ARE</td>\n",
       "      <td>['ALL']</td>\n",
       "      <td>NaN</td>\n",
       "      <td>2019-02-28T15:18:09Z</td>\n",
       "      <td>KARIM SAHIB</td>\n",
       "      <td>...</td>\n",
       "      <td>1</td>\n",
       "      <td>NaN</td>\n",
       "      <td>NaN</td>\n",
       "      <td>['tennis', 'uae', 'atp', 'dubai']</td>\n",
       "      <td>AFP</td>\n",
       "      <td>Usable</td>\n",
       "      <td>tennis-uae-atp-dubai</td>\n",
       "      <td>['AFP-FORUM', 'AFP-PH-EUR', 'AFP-PH-AMN', 'AFP...</td>\n",
       "      <td>5</td>\n",
       "      <td>https://api.afp.com/objects/api/medias?id=a1kk...</td>\n",
       "    </tr>\n",
       "    <tr>\n",
       "      <th>354310</th>\n",
       "      <td>354310</td>\n",
       "      <td>AFP_1E11U2</td>\n",
       "      <td>Greek Stefanos Tsitsipas saves to Polish Huber...</td>\n",
       "      <td>Dubai</td>\n",
       "      <td>NaN</td>\n",
       "      <td>ARE</td>\n",
       "      <td>['ALL']</td>\n",
       "      <td>NaN</td>\n",
       "      <td>2019-02-28T15:18:06Z</td>\n",
       "      <td>KARIM SAHIB</td>\n",
       "      <td>...</td>\n",
       "      <td>1</td>\n",
       "      <td>NaN</td>\n",
       "      <td>NaN</td>\n",
       "      <td>['tennis', 'uae', 'atp', 'dubai']</td>\n",
       "      <td>AFP</td>\n",
       "      <td>Usable</td>\n",
       "      <td>tennis-uae-atp-dubai</td>\n",
       "      <td>['AFP-FORUM', 'AFP-PH-EUR', 'AFP-PH-AMN', 'AFP...</td>\n",
       "      <td>5</td>\n",
       "      <td>https://api.afp.com/objects/api/medias?id=a1kk...</td>\n",
       "    </tr>\n",
       "    <tr>\n",
       "      <th>354605</th>\n",
       "      <td>354605</td>\n",
       "      <td>AFP_1E10FV</td>\n",
       "      <td>TOPSHOT - Gael Monfils of France returns the b...</td>\n",
       "      <td>Dubai</td>\n",
       "      <td>NaN</td>\n",
       "      <td>ARE</td>\n",
       "      <td>['ALL']</td>\n",
       "      <td>NaN</td>\n",
       "      <td>2019-02-28T12:58:17Z</td>\n",
       "      <td>KARIM SAHIB</td>\n",
       "      <td>...</td>\n",
       "      <td>6</td>\n",
       "      <td>NaN</td>\n",
       "      <td>NaN</td>\n",
       "      <td>['topshots', 'topshot', 'tennis', 'uae', 'atp'...</td>\n",
       "      <td>AFP</td>\n",
       "      <td>Usable</td>\n",
       "      <td>TOPSHOT - Gael Monfils of France returns the b...</td>\n",
       "      <td>['AFP-FORUM', 'AFP-PH-EUR', 'AFP-PH-AMN', 'AFP...</td>\n",
       "      <td>1</td>\n",
       "      <td>https://api.afp.com/objects/api/medias?id=a1kk...</td>\n",
       "    </tr>\n",
       "    <tr>\n",
       "      <th>354686</th>\n",
       "      <td>354686</td>\n",
       "      <td>AFP_1E10T0</td>\n",
       "      <td>France's Gael Monfils celebrate after winning ...</td>\n",
       "      <td>Dubai</td>\n",
       "      <td>NaN</td>\n",
       "      <td>ARE</td>\n",
       "      <td>['ALL']</td>\n",
       "      <td>NaN</td>\n",
       "      <td>2019-02-28T13:24:33Z</td>\n",
       "      <td>KARIM SAHIB</td>\n",
       "      <td>...</td>\n",
       "      <td>1</td>\n",
       "      <td>NaN</td>\n",
       "      <td>NaN</td>\n",
       "      <td>['tennis', 'uae', 'atp', 'dubai']</td>\n",
       "      <td>AFP</td>\n",
       "      <td>Usable</td>\n",
       "      <td>tennis-uae-atp-dubai</td>\n",
       "      <td>['AFP-FORUM', 'AFP-PH-EUR', 'AFP-PH-AMN', 'AFP...</td>\n",
       "      <td>5</td>\n",
       "      <td>https://api.afp.com/objects/api/medias?id=a1kk...</td>\n",
       "    </tr>\n",
       "    <tr>\n",
       "      <th>354706</th>\n",
       "      <td>354706</td>\n",
       "      <td>AFP_1E10NJ</td>\n",
       "      <td>Gael Monfils of France looks on as he plays ag...</td>\n",
       "      <td>Dubai</td>\n",
       "      <td>NaN</td>\n",
       "      <td>ARE</td>\n",
       "      <td>['ALL']</td>\n",
       "      <td>NaN</td>\n",
       "      <td>2019-02-28T13:14:57Z</td>\n",
       "      <td>KARIM SAHIB</td>\n",
       "      <td>...</td>\n",
       "      <td>1</td>\n",
       "      <td>NaN</td>\n",
       "      <td>NaN</td>\n",
       "      <td>['tennis', 'uae', 'atp', 'dubai']</td>\n",
       "      <td>AFP</td>\n",
       "      <td>Usable</td>\n",
       "      <td>tennis-uae-atp-dubai</td>\n",
       "      <td>['AFP-FORUM', 'AFP-PH-EUR', 'AFP-PH-AMN', 'AFP...</td>\n",
       "      <td>5</td>\n",
       "      <td>https://api.afp.com/objects/api/medias?id=a1kk...</td>\n",
       "    </tr>\n",
       "    <tr>\n",
       "      <th>354713</th>\n",
       "      <td>354713</td>\n",
       "      <td>AFP_1E10MV</td>\n",
       "      <td>Ricardas Berankis of Lithuania returns the bal...</td>\n",
       "      <td>Dubai</td>\n",
       "      <td>NaN</td>\n",
       "      <td>ARE</td>\n",
       "      <td>['ALL']</td>\n",
       "      <td>NaN</td>\n",
       "      <td>2019-02-28T13:12:13Z</td>\n",
       "      <td>KARIM SAHIB</td>\n",
       "      <td>...</td>\n",
       "      <td>1</td>\n",
       "      <td>NaN</td>\n",
       "      <td>NaN</td>\n",
       "      <td>['tennis', 'uae', 'atp', 'dubai']</td>\n",
       "      <td>AFP</td>\n",
       "      <td>Usable</td>\n",
       "      <td>tennis-uae-atp-dubai</td>\n",
       "      <td>['AFP-FORUM', 'AFP-PH-EUR', 'AFP-PH-AMN', 'AFP...</td>\n",
       "      <td>5</td>\n",
       "      <td>https://api.afp.com/objects/api/medias?id=a1kk...</td>\n",
       "    </tr>\n",
       "    <tr>\n",
       "      <th>354714</th>\n",
       "      <td>354714</td>\n",
       "      <td>AFP_1E10M8</td>\n",
       "      <td>Ricardas Berankis of Lithuania serves the ball...</td>\n",
       "      <td>Dubai</td>\n",
       "      <td>NaN</td>\n",
       "      <td>ARE</td>\n",
       "      <td>['ALL']</td>\n",
       "      <td>NaN</td>\n",
       "      <td>2019-02-28T13:12:13Z</td>\n",
       "      <td>KARIM SAHIB</td>\n",
       "      <td>...</td>\n",
       "      <td>1</td>\n",
       "      <td>NaN</td>\n",
       "      <td>NaN</td>\n",
       "      <td>['tennis', 'uae', 'atp', 'dubai']</td>\n",
       "      <td>AFP</td>\n",
       "      <td>Usable</td>\n",
       "      <td>tennis-uae-atp-dubai</td>\n",
       "      <td>['AFP-FORUM', 'AFP-PH-EUR', 'AFP-PH-AMN', 'AFP...</td>\n",
       "      <td>5</td>\n",
       "      <td>https://api.afp.com/objects/api/medias?id=a1kk...</td>\n",
       "    </tr>\n",
       "    <tr>\n",
       "      <th>354725</th>\n",
       "      <td>354725</td>\n",
       "      <td>AFP_1E10GX</td>\n",
       "      <td>Gael Monfils of France serves the ball to Lith...</td>\n",
       "      <td>Dubai</td>\n",
       "      <td>NaN</td>\n",
       "      <td>ARE</td>\n",
       "      <td>['ALL']</td>\n",
       "      <td>NaN</td>\n",
       "      <td>2019-02-28T13:08:00Z</td>\n",
       "      <td>KARIM SAHIB</td>\n",
       "      <td>...</td>\n",
       "      <td>1</td>\n",
       "      <td>NaN</td>\n",
       "      <td>NaN</td>\n",
       "      <td>['tennis', 'uae', 'atp', 'dubai']</td>\n",
       "      <td>AFP</td>\n",
       "      <td>Usable</td>\n",
       "      <td>tennis-uae-atp-dubai</td>\n",
       "      <td>['AFP-FORUM', 'AFP-PH-EUR', 'AFP-PH-AMN', 'AFP...</td>\n",
       "      <td>5</td>\n",
       "      <td>https://api.afp.com/objects/api/medias?id=a1kk...</td>\n",
       "    </tr>\n",
       "    <tr>\n",
       "      <th>354808</th>\n",
       "      <td>354808</td>\n",
       "      <td>AFP_1E10FS</td>\n",
       "      <td>Gael Monfils of France returns the ball to Lit...</td>\n",
       "      <td>Dubai</td>\n",
       "      <td>NaN</td>\n",
       "      <td>ARE</td>\n",
       "      <td>['ALL']</td>\n",
       "      <td>NaN</td>\n",
       "      <td>2019-02-28T12:58:16Z</td>\n",
       "      <td>KARIM SAHIB</td>\n",
       "      <td>...</td>\n",
       "      <td>1</td>\n",
       "      <td>NaN</td>\n",
       "      <td>NaN</td>\n",
       "      <td>['tennis', 'uae', 'atp', 'dubai']</td>\n",
       "      <td>AFP</td>\n",
       "      <td>Usable</td>\n",
       "      <td>tennis-uae-atp-dubai</td>\n",
       "      <td>['AFP-FORUM', 'AFP-PH-EUR', 'AFP-PH-AMN', 'AFP...</td>\n",
       "      <td>5</td>\n",
       "      <td>https://api.afp.com/objects/api/medias?id=a1kk...</td>\n",
       "    </tr>\n",
       "    <tr>\n",
       "      <th>355002</th>\n",
       "      <td>355002</td>\n",
       "      <td>AFP_1DZ6GB</td>\n",
       "      <td>TOPSHOT - Roger Federer of Switzerland serves ...</td>\n",
       "      <td>Dubai</td>\n",
       "      <td>NaN</td>\n",
       "      <td>ARE</td>\n",
       "      <td>['ALL']</td>\n",
       "      <td>NaN</td>\n",
       "      <td>2019-02-27T16:54:42Z</td>\n",
       "      <td>-</td>\n",
       "      <td>...</td>\n",
       "      <td>3</td>\n",
       "      <td>NaN</td>\n",
       "      <td>NaN</td>\n",
       "      <td>['topshots', 'topshot', 'tennis', 'atp', 'duba...</td>\n",
       "      <td>AFP</td>\n",
       "      <td>Usable</td>\n",
       "      <td>TOPSHOT - Roger Federer of Switzerland serves ...</td>\n",
       "      <td>['AFP-FORUM', 'AFP-PH-EUR', 'AFP-PH-AMN', 'AFP...</td>\n",
       "      <td>1</td>\n",
       "      <td>https://api.afp.com/objects/api/medias?id=a1kk...</td>\n",
       "    </tr>\n",
       "    <tr>\n",
       "      <th>355090</th>\n",
       "      <td>355090</td>\n",
       "      <td>AFP_1DZ6G9</td>\n",
       "      <td>Fernando Verdasco of Spain serves the ball to ...</td>\n",
       "      <td>Dubai</td>\n",
       "      <td>NaN</td>\n",
       "      <td>ARE</td>\n",
       "      <td>['ALL']</td>\n",
       "      <td>NaN</td>\n",
       "      <td>2019-02-27T16:54:44Z</td>\n",
       "      <td>-</td>\n",
       "      <td>...</td>\n",
       "      <td>1</td>\n",
       "      <td>NaN</td>\n",
       "      <td>NaN</td>\n",
       "      <td>['tennis', 'atp', 'dubai', 'uae']</td>\n",
       "      <td>AFP</td>\n",
       "      <td>Usable</td>\n",
       "      <td>tennis-atp-dubai-uae</td>\n",
       "      <td>['AFP-FORUM', 'AFP-PH-EUR', 'AFP-PH-AMN', 'AFP...</td>\n",
       "      <td>5</td>\n",
       "      <td>https://api.afp.com/objects/api/medias?id=a1kk...</td>\n",
       "    </tr>\n",
       "    <tr>\n",
       "      <th>355091</th>\n",
       "      <td>355091</td>\n",
       "      <td>AFP_1DZ6G3</td>\n",
       "      <td>Roger Federer of Switzerland returns the ball ...</td>\n",
       "      <td>Dubai</td>\n",
       "      <td>NaN</td>\n",
       "      <td>ARE</td>\n",
       "      <td>['ALL']</td>\n",
       "      <td>NaN</td>\n",
       "      <td>2019-02-27T16:54:43Z</td>\n",
       "      <td>-</td>\n",
       "      <td>...</td>\n",
       "      <td>1</td>\n",
       "      <td>NaN</td>\n",
       "      <td>NaN</td>\n",
       "      <td>['tennis', 'atp', 'dubai', 'uae']</td>\n",
       "      <td>AFP</td>\n",
       "      <td>Usable</td>\n",
       "      <td>tennis-atp-dubai-uae</td>\n",
       "      <td>['AFP-FORUM', 'AFP-PH-EUR', 'AFP-PH-AMN', 'AFP...</td>\n",
       "      <td>5</td>\n",
       "      <td>https://api.afp.com/objects/api/medias?id=a1kk...</td>\n",
       "    </tr>\n",
       "    <tr>\n",
       "      <th>355092</th>\n",
       "      <td>355092</td>\n",
       "      <td>AFP_1DZ6G5</td>\n",
       "      <td>Fernando Verdasco of Spain returns the ball to...</td>\n",
       "      <td>Dubai</td>\n",
       "      <td>NaN</td>\n",
       "      <td>ARE</td>\n",
       "      <td>['ALL']</td>\n",
       "      <td>NaN</td>\n",
       "      <td>2019-02-27T16:54:43Z</td>\n",
       "      <td>-</td>\n",
       "      <td>...</td>\n",
       "      <td>1</td>\n",
       "      <td>NaN</td>\n",
       "      <td>NaN</td>\n",
       "      <td>['tennis', 'atp', 'dubai', 'uae']</td>\n",
       "      <td>AFP</td>\n",
       "      <td>Usable</td>\n",
       "      <td>tennis-atp-dubai-uae</td>\n",
       "      <td>['AFP-FORUM', 'AFP-PH-EUR', 'AFP-PH-AMN', 'AFP...</td>\n",
       "      <td>5</td>\n",
       "      <td>https://api.afp.com/objects/api/medias?id=a1kk...</td>\n",
       "    </tr>\n",
       "    <tr>\n",
       "      <th>355098</th>\n",
       "      <td>355098</td>\n",
       "      <td>AFP_1DZ6GA</td>\n",
       "      <td>Roger Federer of Switzerland serves the ball t...</td>\n",
       "      <td>Dubai</td>\n",
       "      <td>NaN</td>\n",
       "      <td>ARE</td>\n",
       "      <td>['ALL']</td>\n",
       "      <td>NaN</td>\n",
       "      <td>2019-02-27T16:54:40Z</td>\n",
       "      <td>-</td>\n",
       "      <td>...</td>\n",
       "      <td>1</td>\n",
       "      <td>NaN</td>\n",
       "      <td>NaN</td>\n",
       "      <td>['tennis', 'atp', 'dubai', 'uae']</td>\n",
       "      <td>AFP</td>\n",
       "      <td>Usable</td>\n",
       "      <td>tennis-atp-dubai-uae</td>\n",
       "      <td>['AFP-FORUM', 'AFP-PH-EUR', 'AFP-PH-AMN', 'AFP...</td>\n",
       "      <td>5</td>\n",
       "      <td>https://api.afp.com/objects/api/medias?id=a1kk...</td>\n",
       "    </tr>\n",
       "    <tr>\n",
       "      <th>358389</th>\n",
       "      <td>358389</td>\n",
       "      <td>AFP_1DT710</td>\n",
       "      <td>Greece's Stefanos Tsitsipas poses with the tro...</td>\n",
       "      <td>Marseille</td>\n",
       "      <td>NaN</td>\n",
       "      <td>FRA</td>\n",
       "      <td>['ALL']</td>\n",
       "      <td>NaN</td>\n",
       "      <td>2019-02-24T16:14:27Z</td>\n",
       "      <td>CHRISTOPHE SIMON</td>\n",
       "      <td>...</td>\n",
       "      <td>1</td>\n",
       "      <td>NaN</td>\n",
       "      <td>NaN</td>\n",
       "      <td>['tennis', 'atp', 'fra', 'marseille']</td>\n",
       "      <td>AFP</td>\n",
       "      <td>Usable</td>\n",
       "      <td>tennis-atp-fra-marseille</td>\n",
       "      <td>['AFP-FORUM', 'AFP-PH-EUR', 'AFP-PH-AMN', 'AFP...</td>\n",
       "      <td>5</td>\n",
       "      <td>https://api.afp.com/objects/api/medias?id=a1kk...</td>\n",
       "    </tr>\n",
       "    <tr>\n",
       "      <th>358411</th>\n",
       "      <td>358411</td>\n",
       "      <td>AFP_1DT6QT</td>\n",
       "      <td>Greece's Stefanos Tsitsipas returns the ball t...</td>\n",
       "      <td>Marseille</td>\n",
       "      <td>NaN</td>\n",
       "      <td>FRA</td>\n",
       "      <td>['ALL']</td>\n",
       "      <td>NaN</td>\n",
       "      <td>2019-02-24T16:10:02Z</td>\n",
       "      <td>CHRISTOPHE SIMON</td>\n",
       "      <td>...</td>\n",
       "      <td>1</td>\n",
       "      <td>NaN</td>\n",
       "      <td>NaN</td>\n",
       "      <td>['tennis', 'atp', 'fra', 'marseille']</td>\n",
       "      <td>AFP</td>\n",
       "      <td>Usable</td>\n",
       "      <td>tennis-atp-fra-marseille</td>\n",
       "      <td>['AFP-FORUM', 'AFP-PH-EUR', 'AFP-PH-AMN', 'AFP...</td>\n",
       "      <td>5</td>\n",
       "      <td>https://api.afp.com/objects/api/medias?id=a1kk...</td>\n",
       "    </tr>\n",
       "    <tr>\n",
       "      <th>358583</th>\n",
       "      <td>358583</td>\n",
       "      <td>AFP_1DT70U</td>\n",
       "      <td>Greece's Stefanos Tsitsipas kisses the trophy ...</td>\n",
       "      <td>Marseille</td>\n",
       "      <td>NaN</td>\n",
       "      <td>FRA</td>\n",
       "      <td>['ALL']</td>\n",
       "      <td>NaN</td>\n",
       "      <td>2019-02-24T15:46:32Z</td>\n",
       "      <td>CHRISTOPHE SIMON</td>\n",
       "      <td>...</td>\n",
       "      <td>1</td>\n",
       "      <td>NaN</td>\n",
       "      <td>NaN</td>\n",
       "      <td>['tennis', 'atp', 'fra', 'marseille']</td>\n",
       "      <td>AFP</td>\n",
       "      <td>Usable</td>\n",
       "      <td>tennis-atp-fra-marseille</td>\n",
       "      <td>['AFP-FORUM', 'AFP-PH-EUR', 'AFP-PH-AMN', 'AFP...</td>\n",
       "      <td>5</td>\n",
       "      <td>https://api.afp.com/objects/api/medias?id=a1kk...</td>\n",
       "    </tr>\n",
       "    <tr>\n",
       "      <th>358592</th>\n",
       "      <td>358592</td>\n",
       "      <td>AFP_1DT6QX</td>\n",
       "      <td>Greece's Stefanos Tsitsipas celebrates after w...</td>\n",
       "      <td>Marseille</td>\n",
       "      <td>NaN</td>\n",
       "      <td>FRA</td>\n",
       "      <td>['ALL']</td>\n",
       "      <td>NaN</td>\n",
       "      <td>2019-02-24T15:44:16Z</td>\n",
       "      <td>CHRISTOPHE SIMON</td>\n",
       "      <td>...</td>\n",
       "      <td>1</td>\n",
       "      <td>NaN</td>\n",
       "      <td>NaN</td>\n",
       "      <td>['tennis', 'atp', 'fra', 'marseille']</td>\n",
       "      <td>AFP</td>\n",
       "      <td>Usable</td>\n",
       "      <td>tennis-atp-fra-marseille</td>\n",
       "      <td>['AFP-FORUM', 'AFP-PH-EUR', 'AFP-PH-AMN', 'AFP...</td>\n",
       "      <td>5</td>\n",
       "      <td>https://api.afp.com/objects/api/medias?id=a1kk...</td>\n",
       "    </tr>\n",
       "    <tr>\n",
       "      <th>358610</th>\n",
       "      <td>358610</td>\n",
       "      <td>AFP_1DT72A</td>\n",
       "      <td>Winner Greece's Stefanos Tsitsipas (L) and sec...</td>\n",
       "      <td>Marseille</td>\n",
       "      <td>NaN</td>\n",
       "      <td>FRA</td>\n",
       "      <td>['ALL']</td>\n",
       "      <td>NaN</td>\n",
       "      <td>2019-02-24T15:41:17Z</td>\n",
       "      <td>CHRISTOPHE SIMON</td>\n",
       "      <td>...</td>\n",
       "      <td>1</td>\n",
       "      <td>NaN</td>\n",
       "      <td>NaN</td>\n",
       "      <td>['tennis', 'atp', 'fra', 'marseille']</td>\n",
       "      <td>AFP</td>\n",
       "      <td>Usable</td>\n",
       "      <td>tennis-atp-fra-marseille</td>\n",
       "      <td>['AFP-FORUM', 'AFP-PH-EUR', 'AFP-PH-AMN', 'AFP...</td>\n",
       "      <td>5</td>\n",
       "      <td>https://api.afp.com/objects/api/medias?id=a1kk...</td>\n",
       "    </tr>\n",
       "    <tr>\n",
       "      <th>358824</th>\n",
       "      <td>358824</td>\n",
       "      <td>AFP_1DT6DV</td>\n",
       "      <td>Greece's Stefanos Tsitsipas  returns the ball ...</td>\n",
       "      <td>Marseille</td>\n",
       "      <td>NaN</td>\n",
       "      <td>FRA</td>\n",
       "      <td>['ALL']</td>\n",
       "      <td>NaN</td>\n",
       "      <td>2019-02-24T15:04:23Z</td>\n",
       "      <td>CHRISTOPHE SIMON</td>\n",
       "      <td>...</td>\n",
       "      <td>1</td>\n",
       "      <td>NaN</td>\n",
       "      <td>NaN</td>\n",
       "      <td>['tennis', 'atp', 'fra', 'marseille']</td>\n",
       "      <td>AFP</td>\n",
       "      <td>Usable</td>\n",
       "      <td>tennis-atp-fra-marseille</td>\n",
       "      <td>['AFP-FORUM', 'AFP-PH-EUR', 'AFP-PH-AMN', 'AFP...</td>\n",
       "      <td>5</td>\n",
       "      <td>https://api.afp.com/objects/api/medias?id=a1kk...</td>\n",
       "    </tr>\n",
       "    <tr>\n",
       "      <th>358833</th>\n",
       "      <td>358833</td>\n",
       "      <td>AFP_1DT6DQ</td>\n",
       "      <td>Greece's Stefanos returns the ball to Tsitsipa...</td>\n",
       "      <td>Marseille</td>\n",
       "      <td>NaN</td>\n",
       "      <td>FRA</td>\n",
       "      <td>['ALL']</td>\n",
       "      <td>NaN</td>\n",
       "      <td>2019-02-24T15:03:18Z</td>\n",
       "      <td>CHRISTOPHE SIMON</td>\n",
       "      <td>...</td>\n",
       "      <td>1</td>\n",
       "      <td>NaN</td>\n",
       "      <td>NaN</td>\n",
       "      <td>['tennis', 'atp', 'fra', 'marseille']</td>\n",
       "      <td>AFP</td>\n",
       "      <td>Usable</td>\n",
       "      <td>tennis-atp-fra-marseille</td>\n",
       "      <td>['AFP-FORUM', 'AFP-PH-EUR', 'AFP-PH-AMN', 'AFP...</td>\n",
       "      <td>5</td>\n",
       "      <td>https://api.afp.com/objects/api/medias?id=a1kk...</td>\n",
       "    </tr>\n",
       "    <tr>\n",
       "      <th>358840</th>\n",
       "      <td>358840</td>\n",
       "      <td>AFP_1DT6E0</td>\n",
       "      <td>Kazakhstan's Mikhail Kukushkin returns the bal...</td>\n",
       "      <td>Marseille</td>\n",
       "      <td>NaN</td>\n",
       "      <td>FRA</td>\n",
       "      <td>['ALL']</td>\n",
       "      <td>NaN</td>\n",
       "      <td>2019-02-24T15:02:15Z</td>\n",
       "      <td>CHRISTOPHE SIMON</td>\n",
       "      <td>...</td>\n",
       "      <td>1</td>\n",
       "      <td>NaN</td>\n",
       "      <td>NaN</td>\n",
       "      <td>['tennis', 'atp', 'fra', 'marseille']</td>\n",
       "      <td>AFP</td>\n",
       "      <td>Usable</td>\n",
       "      <td>tennis-atp-fra-marseille</td>\n",
       "      <td>['AFP-FORUM', 'AFP-PH-EUR', 'AFP-PH-AMN', 'AFP...</td>\n",
       "      <td>5</td>\n",
       "      <td>https://api.afp.com/objects/api/medias?id=a1kk...</td>\n",
       "    </tr>\n",
       "    <tr>\n",
       "      <th>358853</th>\n",
       "      <td>358853</td>\n",
       "      <td>AFP_1DT6DL</td>\n",
       "      <td>Kazakhstan's Mikhail Kukushkin reacts as he co...</td>\n",
       "      <td>Marseille</td>\n",
       "      <td>NaN</td>\n",
       "      <td>FRA</td>\n",
       "      <td>['ALL']</td>\n",
       "      <td>NaN</td>\n",
       "      <td>2019-02-24T15:00:33Z</td>\n",
       "      <td>CHRISTOPHE SIMON</td>\n",
       "      <td>...</td>\n",
       "      <td>1</td>\n",
       "      <td>NaN</td>\n",
       "      <td>NaN</td>\n",
       "      <td>['tennis', 'atp', 'fra', 'marseille']</td>\n",
       "      <td>AFP</td>\n",
       "      <td>Usable</td>\n",
       "      <td>tennis-atp-fra-marseille</td>\n",
       "      <td>['AFP-FORUM', 'AFP-PH-EUR', 'AFP-PH-AMN', 'AFP...</td>\n",
       "      <td>5</td>\n",
       "      <td>https://api.afp.com/objects/api/medias?id=a1kk...</td>\n",
       "    </tr>\n",
       "  </tbody>\n",
       "</table>\n",
       "<p>49549 rows × 45 columns</p>\n",
       "</div>"
      ],
      "text/plain": [
       "        Unnamed: 0.1         Uno  \\\n",
       "0                  0  AFP_1P577M   \n",
       "12                12  AFP_1P57CA   \n",
       "13                13  AFP_1P57CD   \n",
       "14                14  AFP_1P57C6   \n",
       "20                20  AFP_1P57CE   \n",
       "22                22  AFP_1P576Z   \n",
       "27                27  AFP_1P5770   \n",
       "33                33  AFP_1P55WW   \n",
       "34                34  AFP_1P55NU   \n",
       "36                36  AFP_1P55NZ   \n",
       "37                37  AFP_1P556D   \n",
       "59                59  AFP_1P5771   \n",
       "75                75  AFP_1P576E   \n",
       "83                83  AFP_1P577D   \n",
       "85                85  AFP_1P5766   \n",
       "87                87  AFP_1P576L   \n",
       "88                88  AFP_1P576W   \n",
       "89                89  AFP_1P576M   \n",
       "90                90  AFP_1P56XI   \n",
       "91                91  AFP_1P56X1   \n",
       "92                92  AFP_1P576T   \n",
       "97                97  AFP_1P576P   \n",
       "99                99  AFP_1P576N   \n",
       "102              102  AFP_1P56Y3   \n",
       "110              110  AFP_1P5790   \n",
       "111              111  AFP_1P576I   \n",
       "116              116  AFP_1P574X   \n",
       "141              141  AFP_1P56XX   \n",
       "154              154  AFP_1P574Z   \n",
       "165              165  AFP_1P576O   \n",
       "...              ...         ...   \n",
       "353358        353358  AFP_1E294X   \n",
       "353437        353437  AFP_1E284B   \n",
       "353505        353505  AFP_1E2846   \n",
       "353542        353542  AFP_1E284K   \n",
       "353547        353547  AFP_1E2852   \n",
       "354293        354293  AFP_1E11SM   \n",
       "354299        354299  AFP_1E11MH   \n",
       "354302        354302  AFP_1E11S6   \n",
       "354310        354310  AFP_1E11U2   \n",
       "354605        354605  AFP_1E10FV   \n",
       "354686        354686  AFP_1E10T0   \n",
       "354706        354706  AFP_1E10NJ   \n",
       "354713        354713  AFP_1E10MV   \n",
       "354714        354714  AFP_1E10M8   \n",
       "354725        354725  AFP_1E10GX   \n",
       "354808        354808  AFP_1E10FS   \n",
       "355002        355002  AFP_1DZ6GB   \n",
       "355090        355090  AFP_1DZ6G9   \n",
       "355091        355091  AFP_1DZ6G3   \n",
       "355092        355092  AFP_1DZ6G5   \n",
       "355098        355098  AFP_1DZ6GA   \n",
       "358389        358389  AFP_1DT710   \n",
       "358411        358411  AFP_1DT6QT   \n",
       "358583        358583  AFP_1DT70U   \n",
       "358592        358592  AFP_1DT6QX   \n",
       "358610        358610  AFP_1DT72A   \n",
       "358824        358824  AFP_1DT6DV   \n",
       "358833        358833  AFP_1DT6DQ   \n",
       "358840        358840  AFP_1DT6E0   \n",
       "358853        358853  AFP_1DT6DL   \n",
       "\n",
       "                                                  caption         city  \\\n",
       "0       Portugal's Prime Minister Antonio Costa (2ndL)...     Brussels   \n",
       "12      President of the European Commission Ursula vo...     Brussels   \n",
       "13      Denmark's Prime Minister Mette Frederiksen (L)...     Brussels   \n",
       "14      Police officers put up a vision barries in fro...        Hanau   \n",
       "20      Denmark's Prime Minister Mette Frederiksen att...     Brussels   \n",
       "22      Austria's Chancellor Sebastian Kurz (R) and Es...     Brussels   \n",
       "27      Austria's Chancellor Sebastian Kurz (R) and Es...     Brussels   \n",
       "33      TOPSHOT - Harvey Weinstein arrives at Manhatta...     New York   \n",
       "34      TOPSHOT - (From Bottom) Estonian Rene Zahkna, ...      Antholz   \n",
       "36      TOPSHOT - Harvey Weinstein arrives at Manhatta...     New York   \n",
       "37      TOPSHOT - Roger Stone(C), former advisor to US...   Washington   \n",
       "59      Austria's Chancellor Sebastian Kurz (R) and Lu...     Brussels   \n",
       "75      Croatia's Prime Minister Andrej Plenkovic (L) ...     Brussels   \n",
       "83      Ferrari's German driver Sebastian Vettel drive...     Montmeló   \n",
       "85      (LtoR) President of the European Commission Ur...     Brussels   \n",
       "87      (LtoR) European Parliament President David-Mar...     Brussels   \n",
       "88      (LtoR) European Parliament President David-Mar...     Brussels   \n",
       "89      A man prays at a makeshift memorial of flowers...        Hanau   \n",
       "90      Petra Martic of Croatia reacts during her Duba...        Dubai   \n",
       "91      Petra Martic of Croatia returns the ball to An...        Dubai   \n",
       "92      Anett Kontaveit of Estonia reacts during her D...        Dubai   \n",
       "97      Anett Kontaveit of Estonia serves the ball to ...        Dubai   \n",
       "99      Sweden's Prime Minister Stefan Lofven (C) and ...     Brussels   \n",
       "102     Anett Kontaveit of Estonia returns the ball to...        Dubai   \n",
       "110     A picture obtained from the Twitter account of...  Addis Ababa   \n",
       "111     HAAS F1 Team's French driver Romain Grosjean d...     Montmeló   \n",
       "116     Luxembourg's Prime Minister Xavier Bettel (C) ...     Brussels   \n",
       "141     French President Emmanuel Macron (C) and Europ...     Brussels   \n",
       "154     French President Emmanuel Macron (C) attends a...     Brussels   \n",
       "165     Williams' British driver George Russell drives...     Montmeló   \n",
       "...                                                   ...          ...   \n",
       "353358  Gael Monfils of France serves the ball to Gree...        Dubai   \n",
       "353437  TOPSHOT - Gael Monfils of France returns the b...        Dubai   \n",
       "353505  Gael Monfils of France reacts as he plays agai...        Dubai   \n",
       "353542  Gael Monfils of France returns the ball to Ste...        Dubai   \n",
       "353547  Gael Monfils of France serves the ball to Stef...        Dubai   \n",
       "354293  Greek Stefanos Tsitsipas returns to Polish Hub...        Dubai   \n",
       "354299  Polish Hubert Hurkacz serves to Greek Stefanos...        Dubai   \n",
       "354302  Polish Hubert Hurkacz  returns to Greek Stefan...        Dubai   \n",
       "354310  Greek Stefanos Tsitsipas saves to Polish Huber...        Dubai   \n",
       "354605  TOPSHOT - Gael Monfils of France returns the b...        Dubai   \n",
       "354686  France's Gael Monfils celebrate after winning ...        Dubai   \n",
       "354706  Gael Monfils of France looks on as he plays ag...        Dubai   \n",
       "354713  Ricardas Berankis of Lithuania returns the bal...        Dubai   \n",
       "354714  Ricardas Berankis of Lithuania serves the ball...        Dubai   \n",
       "354725  Gael Monfils of France serves the ball to Lith...        Dubai   \n",
       "354808  Gael Monfils of France returns the ball to Lit...        Dubai   \n",
       "355002  TOPSHOT - Roger Federer of Switzerland serves ...        Dubai   \n",
       "355090  Fernando Verdasco of Spain serves the ball to ...        Dubai   \n",
       "355091  Roger Federer of Switzerland returns the ball ...        Dubai   \n",
       "355092  Fernando Verdasco of Spain returns the ball to...        Dubai   \n",
       "355098  Roger Federer of Switzerland serves the ball t...        Dubai   \n",
       "358389  Greece's Stefanos Tsitsipas poses with the tro...    Marseille   \n",
       "358411  Greece's Stefanos Tsitsipas returns the ball t...    Marseille   \n",
       "358583  Greece's Stefanos Tsitsipas kisses the trophy ...    Marseille   \n",
       "358592  Greece's Stefanos Tsitsipas celebrates after w...    Marseille   \n",
       "358610  Winner Greece's Stefanos Tsitsipas (L) and sec...    Marseille   \n",
       "358824  Greece's Stefanos Tsitsipas  returns the ball ...    Marseille   \n",
       "358833  Greece's Stefanos returns the ball to Tsitsipa...    Marseille   \n",
       "358840  Kazakhstan's Mikhail Kukushkin returns the bal...    Marseille   \n",
       "358853  Kazakhstan's Mikhail Kukushkin reacts as he co...    Marseille   \n",
       "\n",
       "       contributor country country_only country_out               created  \\\n",
       "0              NaN     BEL      ['ALL']         NaN  2020-02-20T16:22:04Z   \n",
       "12             NaN     BEL      ['ALL']         NaN  2020-02-20T16:21:34Z   \n",
       "13             NaN     BEL      ['ALL']         NaN  2020-02-20T16:21:20Z   \n",
       "14             NaN     DEU      ['ALL']         NaN  2020-02-20T16:20:21Z   \n",
       "20             NaN     BEL      ['ALL']         NaN  2020-02-20T16:19:38Z   \n",
       "22             NaN     BEL      ['ALL']         NaN  2020-02-20T16:19:06Z   \n",
       "27             NaN     BEL      ['ALL']         NaN  2020-02-20T16:18:50Z   \n",
       "33             NaN     USA      ['ALL']         NaN  2020-02-20T14:45:32Z   \n",
       "34             NaN     ITA      ['ALL']         NaN  2020-02-20T14:41:45Z   \n",
       "36             NaN     USA      ['ALL']         NaN  2020-02-20T14:47:50Z   \n",
       "37             NaN     USA      ['ALL']         NaN  2020-02-20T14:02:31Z   \n",
       "59             NaN     BEL      ['ALL']         NaN  2020-02-20T16:18:14Z   \n",
       "75             NaN     BEL      ['ALL']         NaN  2020-02-20T16:17:24Z   \n",
       "83             NaN     ESP      ['ALL']         NaN  2020-02-20T16:15:38Z   \n",
       "85             NaN     BEL      ['ALL']         NaN  2020-02-20T16:14:55Z   \n",
       "87             NaN     BEL      ['ALL']         NaN  2020-02-20T16:14:28Z   \n",
       "88             NaN     BEL      ['ALL']         NaN  2020-02-20T16:14:17Z   \n",
       "89             NaN     DEU      ['ALL']         NaN  2020-02-20T16:14:04Z   \n",
       "90             NaN     ARE      ['ALL']         NaN  2020-02-20T16:13:47Z   \n",
       "91             NaN     ARE      ['ALL']         NaN  2020-02-20T16:13:47Z   \n",
       "92             NaN     ARE      ['ALL']         NaN  2020-02-20T16:13:47Z   \n",
       "97             NaN     ARE      ['ALL']         NaN  2020-02-20T16:13:44Z   \n",
       "99             NaN     BEL      ['ALL']         NaN  2020-02-20T16:13:24Z   \n",
       "102            NaN     ARE      ['ALL']         NaN  2020-02-20T16:13:06Z   \n",
       "110            NaN     ETH      ['ALL']         NaN  2020-02-20T16:12:52Z   \n",
       "111            NaN     ESP      ['ALL']         NaN  2020-02-20T16:12:52Z   \n",
       "116            NaN     BEL      ['ALL']         NaN  2020-02-20T16:12:48Z   \n",
       "141            NaN     BEL      ['ALL']         NaN  2020-02-20T16:12:16Z   \n",
       "154            NaN     BEL      ['ALL']         NaN  2020-02-20T16:11:57Z   \n",
       "165            NaN     ESP      ['ALL']         NaN  2020-02-20T16:10:51Z   \n",
       "...            ...     ...          ...         ...                   ...   \n",
       "353358         NaN     ARE      ['ALL']         NaN  2019-03-01T15:23:07Z   \n",
       "353437         NaN     ARE      ['ALL']         NaN  2019-03-01T14:25:32Z   \n",
       "353505         NaN     ARE      ['ALL']         NaN  2019-03-01T14:31:37Z   \n",
       "353542         NaN     ARE      ['ALL']         NaN  2019-03-01T14:25:33Z   \n",
       "353547         NaN     ARE      ['ALL']         NaN  2019-03-01T14:25:31Z   \n",
       "354293         NaN     ARE      ['ALL']         NaN  2019-02-28T15:18:11Z   \n",
       "354299         NaN     ARE      ['ALL']         NaN  2019-02-28T15:18:10Z   \n",
       "354302         NaN     ARE      ['ALL']         NaN  2019-02-28T15:18:09Z   \n",
       "354310         NaN     ARE      ['ALL']         NaN  2019-02-28T15:18:06Z   \n",
       "354605         NaN     ARE      ['ALL']         NaN  2019-02-28T12:58:17Z   \n",
       "354686         NaN     ARE      ['ALL']         NaN  2019-02-28T13:24:33Z   \n",
       "354706         NaN     ARE      ['ALL']         NaN  2019-02-28T13:14:57Z   \n",
       "354713         NaN     ARE      ['ALL']         NaN  2019-02-28T13:12:13Z   \n",
       "354714         NaN     ARE      ['ALL']         NaN  2019-02-28T13:12:13Z   \n",
       "354725         NaN     ARE      ['ALL']         NaN  2019-02-28T13:08:00Z   \n",
       "354808         NaN     ARE      ['ALL']         NaN  2019-02-28T12:58:16Z   \n",
       "355002         NaN     ARE      ['ALL']         NaN  2019-02-27T16:54:42Z   \n",
       "355090         NaN     ARE      ['ALL']         NaN  2019-02-27T16:54:44Z   \n",
       "355091         NaN     ARE      ['ALL']         NaN  2019-02-27T16:54:43Z   \n",
       "355092         NaN     ARE      ['ALL']         NaN  2019-02-27T16:54:43Z   \n",
       "355098         NaN     ARE      ['ALL']         NaN  2019-02-27T16:54:40Z   \n",
       "358389         NaN     FRA      ['ALL']         NaN  2019-02-24T16:14:27Z   \n",
       "358411         NaN     FRA      ['ALL']         NaN  2019-02-24T16:10:02Z   \n",
       "358583         NaN     FRA      ['ALL']         NaN  2019-02-24T15:46:32Z   \n",
       "358592         NaN     FRA      ['ALL']         NaN  2019-02-24T15:44:16Z   \n",
       "358610         NaN     FRA      ['ALL']         NaN  2019-02-24T15:41:17Z   \n",
       "358824         NaN     FRA      ['ALL']         NaN  2019-02-24T15:04:23Z   \n",
       "358833         NaN     FRA      ['ALL']         NaN  2019-02-24T15:03:18Z   \n",
       "358840         NaN     FRA      ['ALL']         NaN  2019-02-24T15:02:15Z   \n",
       "358853         NaN     FRA      ['ALL']         NaN  2019-02-24T15:00:33Z   \n",
       "\n",
       "                 creator  ... revision  \\\n",
       "0          LUDOVIC MARIN  ...        1   \n",
       "12         LUDOVIC MARIN  ...        1   \n",
       "13         LUDOVIC MARIN  ...        1   \n",
       "14       PATRICK HERTZOG  ...        1   \n",
       "20         LUDOVIC MARIN  ...        1   \n",
       "22         LUDOVIC MARIN  ...        1   \n",
       "27         LUDOVIC MARIN  ...        1   \n",
       "33      TIMOTHY A. CLARY  ...        3   \n",
       "34          TIZIANA FABI  ...        3   \n",
       "36          ANGELA WEISS  ...        3   \n",
       "37          ALEX EDELMAN  ...        4   \n",
       "59         LUDOVIC MARIN  ...        1   \n",
       "75         LUDOVIC MARIN  ...        1   \n",
       "83            LLUIS GENE  ...        1   \n",
       "85         LUDOVIC MARIN  ...        1   \n",
       "87         LUDOVIC MARIN  ...        1   \n",
       "88         LUDOVIC MARIN  ...        1   \n",
       "89       PATRICK HERTZOG  ...        1   \n",
       "90           KARIM SAHIB  ...        1   \n",
       "91           KARIM SAHIB  ...        1   \n",
       "92           KARIM SAHIB  ...        1   \n",
       "97           KARIM SAHIB  ...        1   \n",
       "99         LUDOVIC MARIN  ...        1   \n",
       "102          KARIM SAHIB  ...        1   \n",
       "110                    -  ...        1   \n",
       "111           LLUIS GENE  ...        1   \n",
       "116        LUDOVIC MARIN  ...        1   \n",
       "141        LUDOVIC MARIN  ...        1   \n",
       "154        LUDOVIC MARIN  ...        1   \n",
       "165           LLUIS GENE  ...        1   \n",
       "...                  ...  ...      ...   \n",
       "353358       KARIM SAHIB  ...        1   \n",
       "353437       KARIM SAHIB  ...        4   \n",
       "353505       KARIM SAHIB  ...        1   \n",
       "353542       KARIM SAHIB  ...        1   \n",
       "353547       KARIM SAHIB  ...        1   \n",
       "354293       KARIM SAHIB  ...        1   \n",
       "354299       KARIM SAHIB  ...        1   \n",
       "354302       KARIM SAHIB  ...        1   \n",
       "354310       KARIM SAHIB  ...        1   \n",
       "354605       KARIM SAHIB  ...        6   \n",
       "354686       KARIM SAHIB  ...        1   \n",
       "354706       KARIM SAHIB  ...        1   \n",
       "354713       KARIM SAHIB  ...        1   \n",
       "354714       KARIM SAHIB  ...        1   \n",
       "354725       KARIM SAHIB  ...        1   \n",
       "354808       KARIM SAHIB  ...        1   \n",
       "355002                 -  ...        3   \n",
       "355090                 -  ...        1   \n",
       "355091                 -  ...        1   \n",
       "355092                 -  ...        1   \n",
       "355098                 -  ...        1   \n",
       "358389  CHRISTOPHE SIMON  ...        1   \n",
       "358411  CHRISTOPHE SIMON  ...        1   \n",
       "358583  CHRISTOPHE SIMON  ...        1   \n",
       "358592  CHRISTOPHE SIMON  ...        1   \n",
       "358610  CHRISTOPHE SIMON  ...        1   \n",
       "358824  CHRISTOPHE SIMON  ...        1   \n",
       "358833  CHRISTOPHE SIMON  ...        1   \n",
       "358840  CHRISTOPHE SIMON  ...        1   \n",
       "358853  CHRISTOPHE SIMON  ...        1   \n",
       "\n",
       "                                                    rules signal  \\\n",
       "0                                                     NaN    NaN   \n",
       "12                                                    NaN    NaN   \n",
       "13                                                    NaN    NaN   \n",
       "14                                                    NaN    NaN   \n",
       "20                                                    NaN    NaN   \n",
       "22                                                    NaN    NaN   \n",
       "27                                                    NaN    NaN   \n",
       "33                                                    NaN    NaN   \n",
       "34                                                    NaN    NaN   \n",
       "36                                                    NaN    NaN   \n",
       "37                                                    NaN    NaN   \n",
       "59                                                    NaN    NaN   \n",
       "75                                                    NaN    NaN   \n",
       "83                                                    NaN    NaN   \n",
       "85                                                    NaN    NaN   \n",
       "87                                                    NaN    NaN   \n",
       "88                                                    NaN    NaN   \n",
       "89                                                    NaN    NaN   \n",
       "90                                                    NaN    NaN   \n",
       "91                                                    NaN    NaN   \n",
       "92                                                    NaN    NaN   \n",
       "97                                                    NaN    NaN   \n",
       "99                                                    NaN    NaN   \n",
       "102                                                   NaN    NaN   \n",
       "110     ['RESTRICTED TO EDITORIAL USE', 'NO MARKETING'...    NaN   \n",
       "111                                                   NaN    NaN   \n",
       "116                                                   NaN    NaN   \n",
       "141                                                   NaN    NaN   \n",
       "154                                                   NaN    NaN   \n",
       "165                                                   NaN    NaN   \n",
       "...                                                   ...    ...   \n",
       "353358                                                NaN    NaN   \n",
       "353437                                                NaN    NaN   \n",
       "353505                                                NaN    NaN   \n",
       "353542                                                NaN    NaN   \n",
       "353547                                                NaN    NaN   \n",
       "354293                                                NaN    NaN   \n",
       "354299                                                NaN    NaN   \n",
       "354302                                                NaN    NaN   \n",
       "354310                                                NaN    NaN   \n",
       "354605                                                NaN    NaN   \n",
       "354686                                                NaN    NaN   \n",
       "354706                                                NaN    NaN   \n",
       "354713                                                NaN    NaN   \n",
       "354714                                                NaN    NaN   \n",
       "354725                                                NaN    NaN   \n",
       "354808                                                NaN    NaN   \n",
       "355002                                                NaN    NaN   \n",
       "355090                                                NaN    NaN   \n",
       "355091                                                NaN    NaN   \n",
       "355092                                                NaN    NaN   \n",
       "355098                                                NaN    NaN   \n",
       "358389                                                NaN    NaN   \n",
       "358411                                                NaN    NaN   \n",
       "358583                                                NaN    NaN   \n",
       "358592                                                NaN    NaN   \n",
       "358610                                                NaN    NaN   \n",
       "358824                                                NaN    NaN   \n",
       "358833                                                NaN    NaN   \n",
       "358840                                                NaN    NaN   \n",
       "358853                                                NaN    NaN   \n",
       "\n",
       "                                                     slug  \\\n",
       "0                 ['belgium', 'eu', 'politics', 'summit']   \n",
       "12                ['belgium', 'eu', 'politics', 'summit']   \n",
       "13                ['belgium', 'eu', 'politics', 'summit']   \n",
       "14                        ['germany', 'attack', 'racism']   \n",
       "20                ['belgium', 'eu', 'politics', 'summit']   \n",
       "22                ['belgium', 'eu', 'politics', 'summit']   \n",
       "27                ['belgium', 'eu', 'politics', 'summit']   \n",
       "33      ['topshot', 'us', 'entertainment', 'assault', ...   \n",
       "34      ['topshot', 'biathlon', 'wc', 'ita', 'single',...   \n",
       "36      ['topshot', 'us', 'entertainment', 'assault', ...   \n",
       "37      ['topshot', 'us', 'politics', 'justice', 'ston...   \n",
       "59                ['belgium', 'eu', 'politics', 'summit']   \n",
       "75                ['belgium', 'eu', 'politics', 'summit']   \n",
       "83      ['auto', 'prix', 'auto', 'prix', 'f1', 'esp', ...   \n",
       "85                ['belgium', 'eu', 'politics', 'summit']   \n",
       "87                ['belgium', 'eu', 'politics', 'summit']   \n",
       "88                ['belgium', 'eu', 'politics', 'summit']   \n",
       "89                        ['germany', 'attack', 'racism']   \n",
       "90                      ['tennis', 'wta', 'dubai', 'uae']   \n",
       "91                      ['tennis', 'wta', 'dubai', 'uae']   \n",
       "92                      ['tennis', 'wta', 'dubai', 'uae']   \n",
       "97                      ['tennis', 'wta', 'dubai', 'uae']   \n",
       "99                ['belgium', 'eu', 'politics', 'summit']   \n",
       "102                     ['tennis', 'wta', 'dubai', 'uae']   \n",
       "110     ['ethiopia', 'netherlands', 'religion', 'cultu...   \n",
       "111     ['auto', 'prix', 'auto', 'prix', 'f1', 'esp', ...   \n",
       "116               ['belgium', 'eu', 'politics', 'summit']   \n",
       "141               ['belgium', 'eu', 'politics', 'summit']   \n",
       "154               ['belgium', 'eu', 'politics', 'summit']   \n",
       "165     ['auto', 'prix', 'auto', 'prix', 'f1', 'esp', ...   \n",
       "...                                                   ...   \n",
       "353358                  ['tennis', 'atp', 'uae', 'dubai']   \n",
       "353437  ['topshots', 'topshot', 'tennis', 'atp', 'uae'...   \n",
       "353505                  ['tennis', 'atp', 'uae', 'dubai']   \n",
       "353542                  ['tennis', 'atp', 'uae', 'dubai']   \n",
       "353547                  ['tennis', 'atp', 'uae', 'dubai']   \n",
       "354293                  ['tennis', 'uae', 'atp', 'dubai']   \n",
       "354299                  ['tennis', 'uae', 'atp', 'dubai']   \n",
       "354302                  ['tennis', 'uae', 'atp', 'dubai']   \n",
       "354310                  ['tennis', 'uae', 'atp', 'dubai']   \n",
       "354605  ['topshots', 'topshot', 'tennis', 'uae', 'atp'...   \n",
       "354686                  ['tennis', 'uae', 'atp', 'dubai']   \n",
       "354706                  ['tennis', 'uae', 'atp', 'dubai']   \n",
       "354713                  ['tennis', 'uae', 'atp', 'dubai']   \n",
       "354714                  ['tennis', 'uae', 'atp', 'dubai']   \n",
       "354725                  ['tennis', 'uae', 'atp', 'dubai']   \n",
       "354808                  ['tennis', 'uae', 'atp', 'dubai']   \n",
       "355002  ['topshots', 'topshot', 'tennis', 'atp', 'duba...   \n",
       "355090                  ['tennis', 'atp', 'dubai', 'uae']   \n",
       "355091                  ['tennis', 'atp', 'dubai', 'uae']   \n",
       "355092                  ['tennis', 'atp', 'dubai', 'uae']   \n",
       "355098                  ['tennis', 'atp', 'dubai', 'uae']   \n",
       "358389              ['tennis', 'atp', 'fra', 'marseille']   \n",
       "358411              ['tennis', 'atp', 'fra', 'marseille']   \n",
       "358583              ['tennis', 'atp', 'fra', 'marseille']   \n",
       "358592              ['tennis', 'atp', 'fra', 'marseille']   \n",
       "358610              ['tennis', 'atp', 'fra', 'marseille']   \n",
       "358824              ['tennis', 'atp', 'fra', 'marseille']   \n",
       "358833              ['tennis', 'atp', 'fra', 'marseille']   \n",
       "358840              ['tennis', 'atp', 'fra', 'marseille']   \n",
       "358853              ['tennis', 'atp', 'fra', 'marseille']   \n",
       "\n",
       "                                                   source  status  \\\n",
       "0                                                     AFP  Usable   \n",
       "12                                                    AFP  Usable   \n",
       "13                                                    AFP  Usable   \n",
       "14                                                    AFP  Usable   \n",
       "20                                                    AFP  Usable   \n",
       "22                                                    AFP  Usable   \n",
       "27                                                    AFP  Usable   \n",
       "33                                                    AFP  Usable   \n",
       "34                                                    AFP  Usable   \n",
       "36                                                    AFP  Usable   \n",
       "37                                                    AFP  Usable   \n",
       "59                                                    AFP  Usable   \n",
       "75                                                    AFP  Usable   \n",
       "83                                                    AFP  Usable   \n",
       "85                                                    AFP  Usable   \n",
       "87                                                    AFP  Usable   \n",
       "88                                                    AFP  Usable   \n",
       "89                                                    AFP  Usable   \n",
       "90                                                    AFP  Usable   \n",
       "91                                                    AFP  Usable   \n",
       "92                                                    AFP  Usable   \n",
       "97                                                    AFP  Usable   \n",
       "99                                                    AFP  Usable   \n",
       "102                                                   AFP  Usable   \n",
       "110     Twitter account of the Office of the Prime Min...  Usable   \n",
       "111                                                   AFP  Usable   \n",
       "116                                                   AFP  Usable   \n",
       "141                                                   AFP  Usable   \n",
       "154                                                   AFP  Usable   \n",
       "165                                                   AFP  Usable   \n",
       "...                                                   ...     ...   \n",
       "353358                                                AFP  Usable   \n",
       "353437                                                AFP  Usable   \n",
       "353505                                                AFP  Usable   \n",
       "353542                                                AFP  Usable   \n",
       "353547                                                AFP  Usable   \n",
       "354293                                                AFP  Usable   \n",
       "354299                                                AFP  Usable   \n",
       "354302                                                AFP  Usable   \n",
       "354310                                                AFP  Usable   \n",
       "354605                                                AFP  Usable   \n",
       "354686                                                AFP  Usable   \n",
       "354706                                                AFP  Usable   \n",
       "354713                                                AFP  Usable   \n",
       "354714                                                AFP  Usable   \n",
       "354725                                                AFP  Usable   \n",
       "354808                                                AFP  Usable   \n",
       "355002                                                AFP  Usable   \n",
       "355090                                                AFP  Usable   \n",
       "355091                                                AFP  Usable   \n",
       "355092                                                AFP  Usable   \n",
       "355098                                                AFP  Usable   \n",
       "358389                                                AFP  Usable   \n",
       "358411                                                AFP  Usable   \n",
       "358583                                                AFP  Usable   \n",
       "358592                                                AFP  Usable   \n",
       "358610                                                AFP  Usable   \n",
       "358824                                                AFP  Usable   \n",
       "358833                                                AFP  Usable   \n",
       "358840                                                AFP  Usable   \n",
       "358853                                                AFP  Usable   \n",
       "\n",
       "                                                    title  \\\n",
       "0                              BELGIUM-EU-POLITICS-SUMMIT   \n",
       "12                             BELGIUM-EU-POLITICS-SUMMIT   \n",
       "13                             BELGIUM-EU-POLITICS-SUMMIT   \n",
       "14                                  GERMANY-ATTACK-RACISM   \n",
       "20                             BELGIUM-EU-POLITICS-SUMMIT   \n",
       "22                             BELGIUM-EU-POLITICS-SUMMIT   \n",
       "27                             BELGIUM-EU-POLITICS-SUMMIT   \n",
       "33      TOPSHOT - Harvey Weinstein arrives at Manhatta...   \n",
       "34      TOPSHOT - (From Bottom) Estonian Rene Zahkna, ...   \n",
       "36      TOPSHOT - Harvey Weinstein arrives at Manhatta...   \n",
       "37      TOPSHOT - Roger Stone(C), former advisor to US...   \n",
       "59                             BELGIUM-EU-POLITICS-SUMMIT   \n",
       "75                             BELGIUM-EU-POLITICS-SUMMIT   \n",
       "83                        auto-prix-AUTO-PRIX-F1-ESP-TEST   \n",
       "85                             BELGIUM-EU-POLITICS-SUMMIT   \n",
       "87                             BELGIUM-EU-POLITICS-SUMMIT   \n",
       "88                             BELGIUM-EU-POLITICS-SUMMIT   \n",
       "89                                  GERMANY-ATTACK-RACISM   \n",
       "90                                   TENNIS-WTA-DUBAI-UAE   \n",
       "91                                   TENNIS-WTA-DUBAI-UAE   \n",
       "92                                   TENNIS-WTA-DUBAI-UAE   \n",
       "97                                   TENNIS-WTA-DUBAI-UAE   \n",
       "99                             BELGIUM-EU-POLITICS-SUMMIT   \n",
       "102                                  TENNIS-WTA-DUBAI-UAE   \n",
       "110        ETHIOPIA-NETHERLANDS-RELIGION-CULTURE-religion   \n",
       "111                       auto-prix-AUTO-PRIX-F1-ESP-TEST   \n",
       "116                            BELGIUM-EU-POLITICS-SUMMIT   \n",
       "141                            BELGIUM-EU-POLITICS-SUMMIT   \n",
       "154                            BELGIUM-EU-POLITICS-SUMMIT   \n",
       "165                       auto-prix-AUTO-PRIX-F1-ESP-TEST   \n",
       "...                                                   ...   \n",
       "353358                               tennis-atp-uae-dubai   \n",
       "353437  TOPSHOT - Gael Monfils of France returns the b...   \n",
       "353505                               tennis-atp-uae-dubai   \n",
       "353542                               tennis-atp-uae-dubai   \n",
       "353547                               tennis-atp-uae-dubai   \n",
       "354293                               tennis-uae-atp-dubai   \n",
       "354299                               tennis-uae-atp-dubai   \n",
       "354302                               tennis-uae-atp-dubai   \n",
       "354310                               tennis-uae-atp-dubai   \n",
       "354605  TOPSHOT - Gael Monfils of France returns the b...   \n",
       "354686                               tennis-uae-atp-dubai   \n",
       "354706                               tennis-uae-atp-dubai   \n",
       "354713                               tennis-uae-atp-dubai   \n",
       "354714                               tennis-uae-atp-dubai   \n",
       "354725                               tennis-uae-atp-dubai   \n",
       "354808                               tennis-uae-atp-dubai   \n",
       "355002  TOPSHOT - Roger Federer of Switzerland serves ...   \n",
       "355090                               tennis-atp-dubai-uae   \n",
       "355091                               tennis-atp-dubai-uae   \n",
       "355092                               tennis-atp-dubai-uae   \n",
       "355098                               tennis-atp-dubai-uae   \n",
       "358389                           tennis-atp-fra-marseille   \n",
       "358411                           tennis-atp-fra-marseille   \n",
       "358583                           tennis-atp-fra-marseille   \n",
       "358592                           tennis-atp-fra-marseille   \n",
       "358610                           tennis-atp-fra-marseille   \n",
       "358824                           tennis-atp-fra-marseille   \n",
       "358833                           tennis-atp-fra-marseille   \n",
       "358840                           tennis-atp-fra-marseille   \n",
       "358853                           tennis-atp-fra-marseille   \n",
       "\n",
       "                                                    topic urgency  \\\n",
       "0       ['AFP-FORUM', 'AFP-PH-EUR', 'AFP-PH-AMN', 'AFP...       5   \n",
       "12      ['AFP-FORUM', 'AFP-PH-EUR', 'AFP-PH-AMN', 'AFP...       5   \n",
       "13      ['AFP-FORUM', 'AFP-PH-EUR', 'AFP-PH-AMN', 'AFP...       5   \n",
       "14      ['AFP-FORUM', 'AFP-PH-EUR', 'AFP-PH-AMN', 'AFP...       5   \n",
       "20      ['AFP-FORUM', 'AFP-PH-EUR', 'AFP-PH-AMN', 'AFP...       5   \n",
       "22      ['AFP-FORUM', 'AFP-PH-EUR', 'AFP-PH-AMN', 'AFP...       5   \n",
       "27      ['AFP-FORUM', 'AFP-PH-EUR', 'AFP-PH-AMN', 'AFP...       5   \n",
       "33      ['AFP-FORUM', 'AFP-PH-EUR', 'AFP-PH-AMN', 'AFP...       1   \n",
       "34      ['AFP-FORUM', 'AFP-PH-EUR', 'AFP-PH-AMN', 'AFP...       1   \n",
       "36      ['AFP-FORUM', 'AFP-PH-EUR', 'AFP-PH-AMN', 'AFP...       1   \n",
       "37      ['AFP-FORUM', 'AFP-PH-EUR', 'AFP-PH-AMN', 'AFP...       1   \n",
       "59      ['AFP-FORUM', 'AFP-PH-EUR', 'AFP-PH-AMN', 'AFP...       5   \n",
       "75      ['AFP-FORUM', 'AFP-PH-EUR', 'AFP-PH-AMN', 'AFP...       5   \n",
       "83      ['AFP-FORUM', 'AFP-PH-EUR', 'AFP-PH-AMN', 'AFP...       5   \n",
       "85      ['AFP-FORUM', 'AFP-PH-EUR', 'AFP-PH-AMN', 'AFP...       5   \n",
       "87      ['AFP-FORUM', 'AFP-PH-EUR', 'AFP-PH-AMN', 'AFP...       5   \n",
       "88      ['AFP-FORUM', 'AFP-PH-EUR', 'AFP-PH-AMN', 'AFP...       5   \n",
       "89      ['AFP-FORUM', 'AFP-PH-EUR', 'AFP-PH-AMN', 'AFP...       5   \n",
       "90      ['AFP-FORUM', 'AFP-PH-EUR', 'AFP-PH-AMN', 'AFP...       5   \n",
       "91      ['AFP-FORUM', 'AFP-PH-EUR', 'AFP-PH-AMN', 'AFP...       5   \n",
       "92      ['AFP-FORUM', 'AFP-PH-EUR', 'AFP-PH-AMN', 'AFP...       5   \n",
       "97      ['AFP-FORUM', 'AFP-PH-EUR', 'AFP-PH-AMN', 'AFP...       5   \n",
       "99      ['AFP-FORUM', 'AFP-PH-EUR', 'AFP-PH-AMN', 'AFP...       5   \n",
       "102     ['AFP-FORUM', 'AFP-PH-EUR', 'AFP-PH-AMN', 'AFP...       5   \n",
       "110     ['AFP-FORUM', 'AFP-PH-EUR', 'AFP-PH-AMN', 'AFP...       5   \n",
       "111     ['AFP-FORUM', 'AFP-PH-EUR', 'AFP-PH-AMN', 'AFP...       5   \n",
       "116     ['AFP-FORUM', 'AFP-PH-EUR', 'AFP-PH-AMN', 'AFP...       5   \n",
       "141     ['AFP-FORUM', 'AFP-PH-EUR', 'AFP-PH-AMN', 'AFP...       5   \n",
       "154     ['AFP-FORUM', 'AFP-PH-EUR', 'AFP-PH-AMN', 'AFP...       5   \n",
       "165     ['AFP-FORUM', 'AFP-PH-EUR', 'AFP-PH-AMN', 'AFP...       5   \n",
       "...                                                   ...     ...   \n",
       "353358  ['AFP-FORUM', 'AFP-PH-EUR', 'AFP-PH-AMN', 'AFP...       5   \n",
       "353437  ['AFP-FORUM', 'AFP-PH-EUR', 'AFP-PH-AMN', 'AFP...       1   \n",
       "353505  ['AFP-FORUM', 'AFP-PH-EUR', 'AFP-PH-AMN', 'AFP...       5   \n",
       "353542  ['AFP-FORUM', 'AFP-PH-EUR', 'AFP-PH-AMN', 'AFP...       5   \n",
       "353547  ['AFP-FORUM', 'AFP-PH-EUR', 'AFP-PH-AMN', 'AFP...       5   \n",
       "354293  ['AFP-FORUM', 'AFP-PH-EUR', 'AFP-PH-AMN', 'AFP...       5   \n",
       "354299  ['AFP-FORUM', 'AFP-PH-EUR', 'AFP-PH-AMN', 'AFP...       5   \n",
       "354302  ['AFP-FORUM', 'AFP-PH-EUR', 'AFP-PH-AMN', 'AFP...       5   \n",
       "354310  ['AFP-FORUM', 'AFP-PH-EUR', 'AFP-PH-AMN', 'AFP...       5   \n",
       "354605  ['AFP-FORUM', 'AFP-PH-EUR', 'AFP-PH-AMN', 'AFP...       1   \n",
       "354686  ['AFP-FORUM', 'AFP-PH-EUR', 'AFP-PH-AMN', 'AFP...       5   \n",
       "354706  ['AFP-FORUM', 'AFP-PH-EUR', 'AFP-PH-AMN', 'AFP...       5   \n",
       "354713  ['AFP-FORUM', 'AFP-PH-EUR', 'AFP-PH-AMN', 'AFP...       5   \n",
       "354714  ['AFP-FORUM', 'AFP-PH-EUR', 'AFP-PH-AMN', 'AFP...       5   \n",
       "354725  ['AFP-FORUM', 'AFP-PH-EUR', 'AFP-PH-AMN', 'AFP...       5   \n",
       "354808  ['AFP-FORUM', 'AFP-PH-EUR', 'AFP-PH-AMN', 'AFP...       5   \n",
       "355002  ['AFP-FORUM', 'AFP-PH-EUR', 'AFP-PH-AMN', 'AFP...       1   \n",
       "355090  ['AFP-FORUM', 'AFP-PH-EUR', 'AFP-PH-AMN', 'AFP...       5   \n",
       "355091  ['AFP-FORUM', 'AFP-PH-EUR', 'AFP-PH-AMN', 'AFP...       5   \n",
       "355092  ['AFP-FORUM', 'AFP-PH-EUR', 'AFP-PH-AMN', 'AFP...       5   \n",
       "355098  ['AFP-FORUM', 'AFP-PH-EUR', 'AFP-PH-AMN', 'AFP...       5   \n",
       "358389  ['AFP-FORUM', 'AFP-PH-EUR', 'AFP-PH-AMN', 'AFP...       5   \n",
       "358411  ['AFP-FORUM', 'AFP-PH-EUR', 'AFP-PH-AMN', 'AFP...       5   \n",
       "358583  ['AFP-FORUM', 'AFP-PH-EUR', 'AFP-PH-AMN', 'AFP...       5   \n",
       "358592  ['AFP-FORUM', 'AFP-PH-EUR', 'AFP-PH-AMN', 'AFP...       5   \n",
       "358610  ['AFP-FORUM', 'AFP-PH-EUR', 'AFP-PH-AMN', 'AFP...       5   \n",
       "358824  ['AFP-FORUM', 'AFP-PH-EUR', 'AFP-PH-AMN', 'AFP...       5   \n",
       "358833  ['AFP-FORUM', 'AFP-PH-EUR', 'AFP-PH-AMN', 'AFP...       5   \n",
       "358840  ['AFP-FORUM', 'AFP-PH-EUR', 'AFP-PH-AMN', 'AFP...       5   \n",
       "358853  ['AFP-FORUM', 'AFP-PH-EUR', 'AFP-PH-AMN', 'AFP...       5   \n",
       "\n",
       "                                            url_extracted  \n",
       "0       https://api.afp.com/objects/api/medias?id=a1kk...  \n",
       "12      https://api.afp.com/objects/api/medias?id=a1kk...  \n",
       "13      https://api.afp.com/objects/api/medias?id=a1kk...  \n",
       "14      https://api.afp.com/objects/api/medias?id=a1kk...  \n",
       "20      https://api.afp.com/objects/api/medias?id=a1kk...  \n",
       "22      https://api.afp.com/objects/api/medias?id=a1kk...  \n",
       "27      https://api.afp.com/objects/api/medias?id=a1kk...  \n",
       "33      https://api.afp.com/objects/api/medias?id=a1kk...  \n",
       "34      https://api.afp.com/objects/api/medias?id=a1kk...  \n",
       "36      https://api.afp.com/objects/api/medias?id=a1kk...  \n",
       "37      https://api.afp.com/objects/api/medias?id=a1kk...  \n",
       "59      https://api.afp.com/objects/api/medias?id=a1kk...  \n",
       "75      https://api.afp.com/objects/api/medias?id=a1kk...  \n",
       "83      https://api.afp.com/objects/api/medias?id=a1kk...  \n",
       "85      https://api.afp.com/objects/api/medias?id=a1kk...  \n",
       "87      https://api.afp.com/objects/api/medias?id=a1kk...  \n",
       "88      https://api.afp.com/objects/api/medias?id=a1kk...  \n",
       "89      https://api.afp.com/objects/api/medias?id=a1kk...  \n",
       "90      https://api.afp.com/objects/api/medias?id=a1kk...  \n",
       "91      https://api.afp.com/objects/api/medias?id=a1kk...  \n",
       "92      https://api.afp.com/objects/api/medias?id=a1kk...  \n",
       "97      https://api.afp.com/objects/api/medias?id=a1kk...  \n",
       "99      https://api.afp.com/objects/api/medias?id=a1kk...  \n",
       "102     https://api.afp.com/objects/api/medias?id=a1kk...  \n",
       "110     https://api.afp.com/objects/api/medias?id=a1kk...  \n",
       "111     https://api.afp.com/objects/api/medias?id=a1kk...  \n",
       "116     https://api.afp.com/objects/api/medias?id=a1kk...  \n",
       "141     https://api.afp.com/objects/api/medias?id=a1kk...  \n",
       "154     https://api.afp.com/objects/api/medias?id=a1kk...  \n",
       "165     https://api.afp.com/objects/api/medias?id=a1kk...  \n",
       "...                                                   ...  \n",
       "353358  https://api.afp.com/objects/api/medias?id=a1kk...  \n",
       "353437  https://api.afp.com/objects/api/medias?id=a1kk...  \n",
       "353505  https://api.afp.com/objects/api/medias?id=a1kk...  \n",
       "353542  https://api.afp.com/objects/api/medias?id=a1kk...  \n",
       "353547  https://api.afp.com/objects/api/medias?id=a1kk...  \n",
       "354293  https://api.afp.com/objects/api/medias?id=a1kk...  \n",
       "354299  https://api.afp.com/objects/api/medias?id=a1kk...  \n",
       "354302  https://api.afp.com/objects/api/medias?id=a1kk...  \n",
       "354310  https://api.afp.com/objects/api/medias?id=a1kk...  \n",
       "354605  https://api.afp.com/objects/api/medias?id=a1kk...  \n",
       "354686  https://api.afp.com/objects/api/medias?id=a1kk...  \n",
       "354706  https://api.afp.com/objects/api/medias?id=a1kk...  \n",
       "354713  https://api.afp.com/objects/api/medias?id=a1kk...  \n",
       "354714  https://api.afp.com/objects/api/medias?id=a1kk...  \n",
       "354725  https://api.afp.com/objects/api/medias?id=a1kk...  \n",
       "354808  https://api.afp.com/objects/api/medias?id=a1kk...  \n",
       "355002  https://api.afp.com/objects/api/medias?id=a1kk...  \n",
       "355090  https://api.afp.com/objects/api/medias?id=a1kk...  \n",
       "355091  https://api.afp.com/objects/api/medias?id=a1kk...  \n",
       "355092  https://api.afp.com/objects/api/medias?id=a1kk...  \n",
       "355098  https://api.afp.com/objects/api/medias?id=a1kk...  \n",
       "358389  https://api.afp.com/objects/api/medias?id=a1kk...  \n",
       "358411  https://api.afp.com/objects/api/medias?id=a1kk...  \n",
       "358583  https://api.afp.com/objects/api/medias?id=a1kk...  \n",
       "358592  https://api.afp.com/objects/api/medias?id=a1kk...  \n",
       "358610  https://api.afp.com/objects/api/medias?id=a1kk...  \n",
       "358824  https://api.afp.com/objects/api/medias?id=a1kk...  \n",
       "358833  https://api.afp.com/objects/api/medias?id=a1kk...  \n",
       "358840  https://api.afp.com/objects/api/medias?id=a1kk...  \n",
       "358853  https://api.afp.com/objects/api/medias?id=a1kk...  \n",
       "\n",
       "[49549 rows x 45 columns]"
      ]
     },
     "execution_count": 79,
     "metadata": {},
     "output_type": "execute_result"
    }
   ],
   "source": [
    "df2"
   ]
  },
  {
   "cell_type": "code",
   "execution_count": 201,
   "metadata": {},
   "outputs": [],
   "source": [
    "def read_scores(csv):\n",
    "    file=pd.read_csv(csv)\n",
    "    res=[]\n",
    "    for string in file.scores:\n",
    "        res.append(ast.literal_eval(string))\n",
    "    return res\n",
    "\n",
    "\n",
    "#liste_score2=read_scores(\"event_score_2.csv\")\n",
    "liste_score4=read_scores(\"event_score_4.csv\")\n",
    "\n",
    "#liste_score2_d=read_scores(\"depeche_score_2.csv\")\n",
    "liste_score4_d=read_scores(\"depeche_score_4.csv\")"
   ]
  },
  {
   "cell_type": "code",
   "execution_count": 202,
   "metadata": {},
   "outputs": [],
   "source": [
    "\n",
    "def ev_match(ev_list1,ev_list2):\n",
    "    for ev in ev_list1:\n",
    "        if ev in ev_list2:\n",
    "            return True\n",
    "    return False"
   ]
  },
  {
   "cell_type": "markdown",
   "metadata": {},
   "source": [
    "# Score naif "
   ]
  },
  {
   "cell_type": "code",
   "execution_count": 203,
   "metadata": {},
   "outputs": [],
   "source": [
    "def score_sim(score_doc,liste_scores,k):\n",
    "    res=0\n",
    "    score_image=liste_scores[k]\n",
    "    if len(score_image.values())==0 or len(score_doc.values())==0:\n",
    "        return 0\n",
    "    max_doc=max(score_doc.values())\n",
    "    max_im=max(score_image.values())\n",
    "    for i in score_doc.keys():\n",
    "        if i in score_image.keys():\n",
    "            if max_doc==0 or max_im==0:\n",
    "                return 0\n",
    "            res += score_doc[i]/max_doc +score_image[i]/max_im\n",
    "    return res\n",
    "\n",
    "def score_sim1(score_doc,liste_scores,k):\n",
    "    res=5\n",
    "    score_image=liste_scores[k]\n",
    "    if len(score_image.values())==0 or len(score_doc.values())==0:\n",
    "        return 5\n",
    "    max_doc=max(score_doc.values())\n",
    "    max_im=max(score_image.values())\n",
    "    for i in score_doc.keys():\n",
    "        if i in score_image.keys():\n",
    "            if max_doc==0 or max_im==0:\n",
    "                return 5\n",
    "            res -= (score_doc[i]-score_image[i])**2\n",
    "    return res\n",
    "\n",
    "def best_images1(j,liste_score, liste_scores_d):\n",
    "    doc_score= liste_scores_d[j]\n",
    "    L=[]\n",
    "    for k in range(len(liste_score)):\n",
    "        L.append((k,score_sim1(doc_score,liste_score,k)))\n",
    "    L.sort( key = lambda x :x[1])\n",
    "    return L\n",
    "\n",
    "def best_images(j,liste_score, liste_scores_d):\n",
    "    doc_score= liste_scores_d[j]\n",
    "    L=[]\n",
    "    for k in range(len(liste_score)):\n",
    "        L.append((k,score_sim(doc_score,liste_score,k)))\n",
    "    L.sort(reverse=True, key = lambda x :x[1])\n",
    "    return L\n",
    "\n",
    "\n",
    "\n",
    "def best5_image_test(j,liste_scores,liste_scores_d=None):\n",
    "    rel_descr=range(len(liste_scores))\n",
    "    \n",
    "    if liste_scores_d == None:\n",
    "        doc_score=liste_scores[j]\n",
    "    else:\n",
    "        doc_score=liste_scores_d[j]\n",
    "        \n",
    "    best_scores=[(i,score_sim(doc_score,liste_scores,i)) for i in rel_descr[:5]]\n",
    "    best_scores.sort(key = lambda x : x[1])\n",
    "    for k in rel_descr[5:]:\n",
    "        score_simil=score_sim(doc_score,liste_scores,k)\n",
    "        if score_simil > best_scores[0][1]:\n",
    "            best_scores.pop(0)\n",
    "            best_scores.append((k,score_sim(doc_score,liste_scores,k)))\n",
    "            best_scores.sort(key = lambda x : x[1])\n",
    "    return best_scores"
   ]
  },
  {
   "cell_type": "markdown",
   "metadata": {},
   "source": [
    "# Score scalaire"
   ]
  },
  {
   "cell_type": "code",
   "execution_count": 204,
   "metadata": {},
   "outputs": [],
   "source": [
    "def normaliser_dict(l):\n",
    "    \n",
    "    for dico in l:\n",
    "        m=0\n",
    "        if len(dico) != 0 :\n",
    "            m = max(dico.values())\n",
    "            if m >0 : # Possible que m =0 si description en Francais...\n",
    "                for k in dico.keys():\n",
    "                    dico[k] /= m \n",
    "\n",
    "normaliser_dict(liste_score4)\n",
    "normaliser_dict(liste_score4_d)"
   ]
  },
  {
   "cell_type": "code",
   "execution_count": 205,
   "metadata": {},
   "outputs": [],
   "source": [
    "def score_sim_scalaire(score_doc,liste_scores,k, malus=False, position =False ):\n",
    "    res=0\n",
    "    score_image=liste_scores[k]\n",
    "    if len(score_image.values())==0 or len(score_doc.values())==0:\n",
    "        return 0\n",
    "    \n",
    "    for i in score_doc.keys():\n",
    "        if i in score_image.keys():\n",
    "            res += score_doc[i]*score_image[i]\n",
    "    if malus : \n",
    "        score_depeche_tri = tri_dict(score_doc)\n",
    "        c = 0 \n",
    "        for i in score_depeche_tri.keys():\n",
    "            c+=1\n",
    "            if i not in score_image.keys():\n",
    "\n",
    "                res -= score_depeche_tri[i] \n",
    "    if position : \n",
    "        score_depeche_tri = tri_dict(score_doc)\n",
    "        c = 0 \n",
    "        for i in score_depeche_tri.keys():\n",
    "            c+=1\n",
    "            if i not in score_image.keys():\n",
    "\n",
    "                res -= 1/(c+1)**2\n",
    "    return res\n",
    "\n",
    "\n",
    "def best_images_scalaire(j,liste_score, liste_scores_d, malus=False, position =False ):\n",
    "    doc_score= liste_scores_d[j]\n",
    "    L=[]\n",
    "    for k in range(len(liste_score)):\n",
    "        L.append((k,score_sim_scalaire(doc_score,liste_score,k, malus=False, position =False )))\n",
    "    L.sort(reverse=True, key = lambda x :x[1])\n",
    "    return L\n",
    "        \n",
    "                   \n",
    "                   \n",
    "def best5_image_test_scalaire(j,liste_scores,liste_scores_d=None):\n",
    "    rel_descr=range(len(liste_scores))\n",
    "    \n",
    "    if liste_scores_d == None:\n",
    "        doc_score=liste_scores[j]\n",
    "    else:\n",
    "        doc_score=liste_scores_d[j]\n",
    "        \n",
    "    best_scores=[(i,score_sim_scalaire(doc_score,liste_scores,i)) for i in rel_descr[:5]]\n",
    "    best_scores.sort(key = lambda x : x[1])\n",
    "    for k in rel_descr[5:]:\n",
    "        score_simil=score_sim_scalaire(doc_score,liste_scores,k)\n",
    "        if score_simil > best_scores[0][1]:\n",
    "            best_scores.pop(0)\n",
    "            best_scores.append((k,score_sim_scalaire(doc_score,liste_scores,k)))\n",
    "            best_scores.sort(key = lambda x : x[1])\n",
    "    return best_scores"
   ]
  },
  {
   "cell_type": "markdown",
   "metadata": {},
   "source": [
    "# Score malus position \n"
   ]
  },
  {
   "cell_type": "code",
   "execution_count": 206,
   "metadata": {},
   "outputs": [],
   "source": [
    "def tri_dict(d): \n",
    "    \"\"\"Tri décroissant \"\"\"\n",
    "\n",
    "    d_sort = {}\n",
    "    for k,v in sorted(d.items(), key =lambda x :x[1], reverse= True):\n",
    "        d_sort[k]=v\n",
    "    return d_sort\n",
    "    \n",
    "\n",
    "\n",
    "def score_sim_malus_position(score_doc,liste_scores,k):\n",
    "    res=0\n",
    "    score_image=liste_scores[k]\n",
    "    if len(score_image.values())==0 or len(score_doc.values())==0:\n",
    "        return 0\n",
    "    max_doc=max(score_doc.values())\n",
    "    max_im=max(score_image.values())\n",
    "    for i in score_doc.keys():\n",
    "        if i in score_image.keys():\n",
    "            if max_doc==0 or max_im==0:\n",
    "                return 0\n",
    "            res += score_doc[i] + score_image[i]\n",
    "            \n",
    "    score_depeche_tri = tri_dict(score_doc)\n",
    "    c = 0 \n",
    "    for i in score_depeche_tri.keys():\n",
    "        c+=1\n",
    "        if i not in score_image.keys():\n",
    "            \n",
    "            res -= 1/(c+1)**2       \n",
    "    return res\n",
    "\n",
    "def score_sim_malus_position2(score_doc,liste_scores,k):\n",
    "    res=0\n",
    "    score_image=liste_scores[k]\n",
    "    if len(score_image.values())==0 or len(score_doc.values())==0:\n",
    "        return 0\n",
    "    max_doc=max(score_doc.values())\n",
    "    max_im=max(score_image.values())\n",
    "    for i in score_doc.keys():\n",
    "        if i in score_image.keys():\n",
    "            if max_doc==0 or max_im==0:\n",
    "                return 0\n",
    "            res += score_doc[i] + score_image[i]\n",
    "            \n",
    "    score_depeche_tri = tri_dict(score_doc)\n",
    "    c = 0 \n",
    "    for i in score_depeche_tri.keys():\n",
    "        c+=1\n",
    "        if i not in score_image.keys():\n",
    "            \n",
    "            res -= 1/(c+1)       \n",
    "    return res\n",
    "\n",
    "\n",
    "def best_images_malus_position(j,liste_score, liste_scores_d):\n",
    "    doc_score= liste_scores_d[j]\n",
    "    L=[]\n",
    "    for k in range(len(liste_score)):\n",
    "        L.append((k,score_sim_malus_position(doc_score,liste_score,k)))\n",
    "    L.sort(reverse=True,key =lambda x : x[1])\n",
    "    return L \n",
    "\n",
    "def best_images_malus_position2(j,liste_score, liste_scores_d):\n",
    "    doc_score= liste_scores_d[j]\n",
    "    L=[]\n",
    "    for k in range(len(liste_score)):\n",
    "        L.append((k,score_sim_malus_position2(doc_score,liste_score,k)))\n",
    "    L.sort(reverse=True,key =lambda x : x[1])\n",
    "    return L "
   ]
  },
  {
   "cell_type": "markdown",
   "metadata": {},
   "source": [
    "# Score Malus "
   ]
  },
  {
   "cell_type": "code",
   "execution_count": 207,
   "metadata": {},
   "outputs": [],
   "source": [
    "def tri_dict(d): \n",
    "    \"\"\"Tri décroissant \"\"\"\n",
    "\n",
    "    d_sort = {}\n",
    "    for k,v in sorted(d.items(), key =lambda x :x[1], reverse= True):\n",
    "        d_sort[k]=v\n",
    "    return d_sort\n",
    "    \n",
    "\n",
    "\n",
    "def score_sim_malus(score_doc,liste_scores,k):\n",
    "    res=0\n",
    "    score_image=liste_scores[k]\n",
    "    if len(score_image.values())==0 or len(score_doc.values())==0:\n",
    "        return 0\n",
    "    max_doc=max(score_doc.values())\n",
    "    max_im=max(score_image.values())\n",
    "    for i in score_doc.keys():\n",
    "        if i in score_image.keys():\n",
    "            if max_doc==0 or max_im==0:\n",
    "                return 0\n",
    "            res += score_doc[i] +score_image[i]\n",
    "            \n",
    "    score_depeche_tri = tri_dict(score_doc)\n",
    "    c = 0 \n",
    "    for i in score_depeche_tri.keys():\n",
    "        c+=1\n",
    "        if i not in score_image.keys():\n",
    "            \n",
    "            res -= score_depeche_tri[i]       \n",
    "    return res\n",
    "\n",
    "def best_images_malus(j,liste_score, liste_scores_d):\n",
    "    doc_score= liste_scores_d[j]\n",
    "    L=[]\n",
    "    for k in range(len(liste_score)):\n",
    "        L.append((k,score_sim_malus(doc_score,liste_score,k)))\n",
    "    L.sort(reverse=True,key =lambda x : x[1])\n",
    "    return L "
   ]
  },
  {
   "cell_type": "markdown",
   "metadata": {},
   "source": [
    "# Resultat malus \n"
   ]
  },
  {
   "cell_type": "code",
   "execution_count": 210,
   "metadata": {},
   "outputs": [],
   "source": [
    "# Generer les 1000 photos aléatoirement\n",
    "\n",
    "df2.reset_index(drop=True,inplace=True)\n",
    "df_depeche.reset_index(drop=True,inplace=True)\n",
    "L1=[]\n",
    "for k in range(1000):\n",
    "    l=np.random.randint(0,len(df_depeche))\n",
    "    while l in L1:\n",
    "        l=np.random.randint(0,len(df_depeche))\n",
    "    L1.append(l)"
   ]
  },
  {
   "cell_type": "code",
   "execution_count": 211,
   "metadata": {},
   "outputs": [
    {
     "name": "stderr",
     "output_type": "stream",
     "text": [
      "/Users/ya/miniconda3/lib/python3.7/site-packages/ipykernel_launcher.py:3: TqdmDeprecationWarning: This function will be removed in tqdm==5.0.0\n",
      "Please use `tqdm.notebook.tqdm` instead of `tqdm.tqdm_notebook`\n",
      "  This is separate from the ipykernel package so we can avoid doing imports until\n"
     ]
    },
    {
     "data": {
      "application/vnd.jupyter.widget-view+json": {
       "model_id": "821517144fad4bd8bc39e1658de9882f",
       "version_major": 2,
       "version_minor": 0
      },
      "text/plain": [
       "HBox(children=(FloatProgress(value=0.0, max=1000.0), HTML(value='')))"
      ]
     },
     "metadata": {},
     "output_type": "display_data"
    },
    {
     "name": "stdout",
     "output_type": "stream",
     "text": [
      "\n"
     ]
    }
   ],
   "source": [
    "P_malus=[]\n",
    "\n",
    "    \n",
    "for i in tqdm_notebook(L1):\n",
    "    L=best_images_malus(i,liste_score4,liste_score4_d)\n",
    "    \n",
    "\n",
    "   \n",
    "    if  L != [] :\n",
    "                \n",
    "        position = -20\n",
    "        posi = 0\n",
    "        for tup in L : \n",
    "            posi += 1\n",
    "            if ev_match(df_depeche.event[i],df2.event[tup[0]]):\n",
    "                position = posi \n",
    "                break\n",
    "        P_malus.append(position)\n"
   ]
  },
  {
   "cell_type": "code",
   "execution_count": 262,
   "metadata": {},
   "outputs": [
    {
     "name": "stderr",
     "output_type": "stream",
     "text": [
      "/Users/ya/miniconda3/lib/python3.7/site-packages/ipykernel_launcher.py:4: TqdmDeprecationWarning: This function will be removed in tqdm==5.0.0\n",
      "Please use `tqdm.notebook.tqdm` instead of `tqdm.tqdm_notebook`\n",
      "  after removing the cwd from sys.path.\n"
     ]
    },
    {
     "data": {
      "application/vnd.jupyter.widget-view+json": {
       "model_id": "3e86001b815243cfaef8dec1c3326eb6",
       "version_major": 2,
       "version_minor": 0
      },
      "text/plain": [
       "HBox(children=(FloatProgress(value=0.0, max=1000.0), HTML(value='')))"
      ]
     },
     "metadata": {},
     "output_type": "display_data"
    },
    {
     "name": "stdout",
     "output_type": "stream",
     "text": [
      "\n"
     ]
    }
   ],
   "source": [
    "P_distance=[]\n",
    "\n",
    "    \n",
    "for i in tqdm_notebook(L1):\n",
    "    L=best_images1(i,liste_score4,liste_score4_d)\n",
    "    \n",
    "\n",
    "   \n",
    "    if  L != [] :\n",
    "                \n",
    "        position = -20\n",
    "        posi = 0\n",
    "        for tup in L : \n",
    "            posi += 1\n",
    "            if ev_match(df_depeche.event[i],df2.event[tup[0]]):\n",
    "                position = posi \n",
    "                break\n",
    "        P_distance.append(position)"
   ]
  },
  {
   "cell_type": "code",
   "execution_count": 281,
   "metadata": {},
   "outputs": [
    {
     "name": "stdout",
     "output_type": "stream",
     "text": [
      "                  0\n",
      "count   1000.000000\n",
      "mean    1159.722000\n",
      "std     4214.373794\n",
      "min        1.000000\n",
      "25%        1.000000\n",
      "50%       14.000000\n",
      "75%      202.000000\n",
      "max    43225.000000\n",
      "quantile a 66 0    62.0\n",
      "Name: 0.66, dtype: float64\n"
     ]
    },
    {
     "data": {
      "text/plain": [
       "(array([465.,  73.,  47.,  26.,  24.,  17.,  17.,   9.,  19.,   8.]),\n",
       " array([  0.,  10.,  20.,  30.,  40.,  50.,  60.,  70.,  80.,  90., 100.]),\n",
       " <a list of 10 Patch objects>)"
      ]
     },
     "execution_count": 281,
     "metadata": {},
     "output_type": "execute_result"
    },
    {
     "data": {
      "image/png": "[encoded data removed]",
      "text/plain": [
       "<Figure size 432x288 with 1 Axes>"
      ]
     },
     "metadata": {
      "needs_background": "light"
     },
     "output_type": "display_data"
    }
   ],
   "source": [
    "res_malus = pd.DataFrame(P_distance)\n",
    "print(res_malus.describe())\n",
    "print('quantile a 66', res_malus.quantile(0.66))\n",
    "plt.xlabel('Positions_malus')\n",
    "plt.title('Histogramme des positions')\n",
    "plt.hist(P_distance, range=(0,100), bins= 10, edgecolor = 'black' )"
   ]
  },
  {
   "cell_type": "code",
   "execution_count": 280,
   "metadata": {},
   "outputs": [
    {
     "name": "stdout",
     "output_type": "stream",
     "text": [
      "                 0\n",
      "count   1000.00000\n",
      "mean     712.96700\n",
      "std     3410.60379\n",
      "min        1.00000\n",
      "25%        1.00000\n",
      "50%        3.00000\n",
      "75%       27.00000\n",
      "max    43225.00000\n",
      "quantile a 66 0    11.0\n",
      "Name: 0.66, dtype: float64\n"
     ]
    },
    {
     "data": {
      "text/plain": [
       "(array([644.,  83.,  31.,  21.,  13.,  13.,   7.,   7.,   4.,   2.]),\n",
       " array([  0.,  10.,  20.,  30.,  40.,  50.,  60.,  70.,  80.,  90., 100.]),\n",
       " <a list of 10 Patch objects>)"
      ]
     },
     "execution_count": 280,
     "metadata": {},
     "output_type": "execute_result"
    },
    {
     "data": {
      "image/png": "[encoded data removed]",
      "text/plain": [
       "<Figure size 432x288 with 1 Axes>"
      ]
     },
     "metadata": {
      "needs_background": "light"
     },
     "output_type": "display_data"
    }
   ],
   "source": [
    "res_malus = pd.DataFrame(P_malus)\n",
    "print(res_malus.describe())\n",
    "print('quantile a 66', res_malus.quantile(0.66))\n",
    "plt.xlabel('Positions_malus')\n",
    "plt.title('Histogramme des positions')\n",
    "plt.hist(P_malus, range=(0,100), bins= 10, edgecolor = 'black' )"
   ]
  },
  {
   "cell_type": "markdown",
   "metadata": {},
   "source": [
    "# Resultat malus position \n"
   ]
  },
  {
   "cell_type": "code",
   "execution_count": 213,
   "metadata": {},
   "outputs": [
    {
     "name": "stderr",
     "output_type": "stream",
     "text": [
      "/Users/ya/miniconda3/lib/python3.7/site-packages/ipykernel_launcher.py:5: TqdmDeprecationWarning: This function will be removed in tqdm==5.0.0\n",
      "Please use `tqdm.notebook.tqdm` instead of `tqdm.tqdm_notebook`\n",
      "  \"\"\"\n"
     ]
    },
    {
     "data": {
      "application/vnd.jupyter.widget-view+json": {
       "model_id": "2526f6222d034802a57f149d619751d5",
       "version_major": 2,
       "version_minor": 0
      },
      "text/plain": [
       "HBox(children=(FloatProgress(value=0.0, max=1000.0), HTML(value='')))"
      ]
     },
     "metadata": {},
     "output_type": "display_data"
    },
    {
     "name": "stdout",
     "output_type": "stream",
     "text": [
      "\n"
     ]
    }
   ],
   "source": [
    "\n",
    "P_malus_position=[]\n",
    "\n",
    "    \n",
    "for i in tqdm_notebook(L1):\n",
    "    L=best_images_malus_position(i,liste_score4,liste_score4_d)\n",
    "    \n",
    "\n",
    "   \n",
    "    if  L != [] :\n",
    "                \n",
    "        position = -20\n",
    "        posi = 0\n",
    "        for tup in L : \n",
    "            posi += 1\n",
    "            if ev_match(df_depeche.event[i],df2.event[tup[0]]):\n",
    "                position = posi \n",
    "                break\n",
    "        P_malus_position.append(position)\n"
   ]
  },
  {
   "cell_type": "code",
   "execution_count": 284,
   "metadata": {},
   "outputs": [
    {
     "name": "stdout",
     "output_type": "stream",
     "text": [
      "                  0\n",
      "count   1000.000000\n",
      "mean     711.341000\n",
      "std     3409.874726\n",
      "min        1.000000\n",
      "25%        1.000000\n",
      "50%        2.000000\n",
      "75%       24.000000\n",
      "max    43225.000000\n",
      "quantile a 66 0    10.0\n",
      "Name: 0.66, dtype: float64\n"
     ]
    },
    {
     "data": {
      "text/plain": [
       "(array([656.,  82.,  24.,  20.,  15.,   6.,  11.,   9.,   1.,   4.]),\n",
       " array([  0.,  10.,  20.,  30.,  40.,  50.,  60.,  70.,  80.,  90., 100.]),\n",
       " <a list of 10 Patch objects>)"
      ]
     },
     "execution_count": 284,
     "metadata": {},
     "output_type": "execute_result"
    },
    {
     "data": {
      "image/png": "[encoded data removed]",
      "text/plain": [
       "<Figure size 432x288 with 1 Axes>"
      ]
     },
     "metadata": {
      "needs_background": "light"
     },
     "output_type": "display_data"
    }
   ],
   "source": [
    "res_malus_position = pd.DataFrame(P_malus_position)\n",
    "print(res_malus_position.describe())\n",
    "print('quantile a 66', res_malus_position.quantile(0.66))\n",
    "\n",
    "plt.xlabel('Positions_malus_position')\n",
    "plt.title('Histogramme des positions')\n",
    "plt.hist(P_malus_position, range=(0,100), bins= 10, edgecolor = 'black' )"
   ]
  },
  {
   "cell_type": "markdown",
   "metadata": {},
   "source": [
    "# Resultat malus position 2 "
   ]
  },
  {
   "cell_type": "code",
   "execution_count": 276,
   "metadata": {},
   "outputs": [
    {
     "name": "stderr",
     "output_type": "stream",
     "text": [
      "/Users/ya/miniconda3/lib/python3.7/site-packages/ipykernel_launcher.py:5: TqdmDeprecationWarning: This function will be removed in tqdm==5.0.0\n",
      "Please use `tqdm.notebook.tqdm` instead of `tqdm.tqdm_notebook`\n",
      "  \"\"\"\n"
     ]
    },
    {
     "data": {
      "application/vnd.jupyter.widget-view+json": {
       "model_id": "36ca89a931834267ad091058468eaf51",
       "version_major": 2,
       "version_minor": 0
      },
      "text/plain": [
       "HBox(children=(FloatProgress(value=0.0, max=1000.0), HTML(value='')))"
      ]
     },
     "metadata": {},
     "output_type": "display_data"
    },
    {
     "name": "stdout",
     "output_type": "stream",
     "text": [
      "\n",
      "                  0\n",
      "count   1000.000000\n",
      "mean     712.154000\n",
      "std     3410.781483\n",
      "min        1.000000\n",
      "25%        1.000000\n",
      "50%        3.000000\n",
      "75%       24.000000\n",
      "max    43225.000000\n",
      "quantile a 66 0    10.0\n",
      "Name: 0.66, dtype: float64\n"
     ]
    },
    {
     "data": {
      "text/plain": [
       "(array([794.,  35.,  16.,  12.,  13.,  11.,   3.,   8.,   3.,   1.]),\n",
       " array([  0.,  50., 100., 150., 200., 250., 300., 350., 400., 450., 500.]),\n",
       " <a list of 10 Patch objects>)"
      ]
     },
     "execution_count": 276,
     "metadata": {},
     "output_type": "execute_result"
    },
    {
     "data": {
      "image/png": "[encoded data removed]",
      "text/plain": [
       "<Figure size 432x288 with 1 Axes>"
      ]
     },
     "metadata": {
      "needs_background": "light"
     },
     "output_type": "display_data"
    }
   ],
   "source": [
    "\n",
    "P_malus_position2=[]\n",
    "\n",
    "    \n",
    "for i in tqdm_notebook(L1):\n",
    "    L=best_images_malus_position2(i,liste_score4,liste_score4_d)\n",
    "    \n",
    "\n",
    "   \n",
    "    if  L != [] :\n",
    "                \n",
    "        position = -20\n",
    "        posi = 0\n",
    "        for tup in L : \n",
    "            posi += 1\n",
    "            if ev_match(df_depeche.event[i],df2.event[tup[0]]):\n",
    "                position = posi \n",
    "                break\n",
    "        P_malus_position2.append(position)\n"
   ]
  },
  {
   "cell_type": "code",
   "execution_count": 285,
   "metadata": {},
   "outputs": [
    {
     "name": "stdout",
     "output_type": "stream",
     "text": [
      "                  0\n",
      "count   1000.000000\n",
      "mean     712.154000\n",
      "std     3410.781483\n",
      "min        1.000000\n",
      "25%        1.000000\n",
      "50%        3.000000\n",
      "75%       24.000000\n",
      "max    43225.000000\n",
      "quantile a 66 0    10.0\n",
      "Name: 0.66, dtype: float64\n"
     ]
    },
    {
     "data": {
      "text/plain": [
       "(array([656.,  77.,  32.,  16.,  13.,  13.,  10.,   5.,   3.,   5.]),\n",
       " array([  0.,  10.,  20.,  30.,  40.,  50.,  60.,  70.,  80.,  90., 100.]),\n",
       " <a list of 10 Patch objects>)"
      ]
     },
     "execution_count": 285,
     "metadata": {},
     "output_type": "execute_result"
    },
    {
     "data": {
      "image/png": "[encoded data removed]",
      "text/plain": [
       "<Figure size 432x288 with 1 Axes>"
      ]
     },
     "metadata": {
      "needs_background": "light"
     },
     "output_type": "display_data"
    }
   ],
   "source": [
    "res_malus_position2 = pd.DataFrame(P_malus_position2)\n",
    "print(res_malus_position2.describe())\n",
    "print('quantile a 66', res_malus_position2.quantile(0.66))\n",
    "\n",
    "plt.xlabel('Positions_malus_position2')\n",
    "plt.title('Histogramme des positions')\n",
    "plt.hist(P_malus_position2, range=(0,100), bins= 10, edgecolor = 'black' )"
   ]
  },
  {
   "cell_type": "markdown",
   "metadata": {},
   "source": [
    "# Resultat scalaire\n"
   ]
  },
  {
   "cell_type": "code",
   "execution_count": 216,
   "metadata": {},
   "outputs": [
    {
     "name": "stderr",
     "output_type": "stream",
     "text": [
      "/Users/ya/miniconda3/lib/python3.7/site-packages/ipykernel_launcher.py:6: TqdmDeprecationWarning: This function will be removed in tqdm==5.0.0\n",
      "Please use `tqdm.notebook.tqdm` instead of `tqdm.tqdm_notebook`\n",
      "  \n"
     ]
    },
    {
     "data": {
      "application/vnd.jupyter.widget-view+json": {
       "model_id": "aaff02e90cbc4aef8cdde98b8d445f97",
       "version_major": 2,
       "version_minor": 0
      },
      "text/plain": [
       "HBox(children=(FloatProgress(value=0.0, max=1000.0), HTML(value='')))"
      ]
     },
     "metadata": {},
     "output_type": "display_data"
    },
    {
     "name": "stdout",
     "output_type": "stream",
     "text": [
      "\n"
     ]
    }
   ],
   "source": [
    "\n",
    "P_scalaire=[]\n",
    "\n",
    "    \n",
    "count=[0 for k in range(2)]\n",
    "for i in tqdm_notebook(L1):\n",
    "    L=best_images_scalaire(i,liste_score4,liste_score4_d)\n",
    "    \n",
    "\n",
    "   \n",
    "    if  L != [] :\n",
    "                \n",
    "        position = -20\n",
    "        posi = 0\n",
    "        for tup in L : \n",
    "            posi += 1\n",
    "            if ev_match(df_depeche.event[i],df2.event[tup[0]]):\n",
    "                position = posi \n",
    "                break\n",
    "        P_scalaire.append(position)\n",
    "\n",
    "        \n"
   ]
  },
  {
   "cell_type": "code",
   "execution_count": 266,
   "metadata": {},
   "outputs": [
    {
     "name": "stdout",
     "output_type": "stream",
     "text": [
      "                  0\n",
      "count   1000.000000\n",
      "mean     730.827000\n",
      "std     3407.016504\n",
      "min        1.000000\n",
      "25%        1.000000\n",
      "50%        3.000000\n",
      "75%       49.000000\n",
      "max    43225.000000\n",
      "quantile a 66 0    15.0\n",
      "Name: 0.66, dtype: float64\n"
     ]
    },
    {
     "data": {
      "text/plain": [
       "(array([620.,  65.,  26.,  22.,  18.,  15.,  12.,  12.,   6.,   8.]),\n",
       " array([  0.,  10.,  20.,  30.,  40.,  50.,  60.,  70.,  80.,  90., 100.]),\n",
       " <a list of 10 Patch objects>)"
      ]
     },
     "execution_count": 266,
     "metadata": {},
     "output_type": "execute_result"
    },
    {
     "data": {
      "image/png": "[encoded data removed]",
      "text/plain": [
       "<Figure size 432x288 with 1 Axes>"
      ]
     },
     "metadata": {
      "needs_background": "light"
     },
     "output_type": "display_data"
    }
   ],
   "source": [
    "\n",
    "res_scalaire = pd.DataFrame(P_scalaire)\n",
    "print(res_scalaire.describe())\n",
    "print('quantile a 66', res_scalaire.quantile(0.66))\n",
    "\n",
    "plt.xlabel('Positions_scalaire')\n",
    "plt.title('Histogramme des positions')\n",
    "plt.hist(P_scalaire, range=(0,100), bins= 10, edgecolor = 'black' )"
   ]
  },
  {
   "cell_type": "markdown",
   "metadata": {},
   "source": [
    "# Resultat scalaire malus position et malus "
   ]
  },
  {
   "cell_type": "code",
   "execution_count": 275,
   "metadata": {},
   "outputs": [
    {
     "name": "stderr",
     "output_type": "stream",
     "text": [
      "/Users/ya/miniconda3/lib/python3.7/site-packages/ipykernel_launcher.py:5: TqdmDeprecationWarning: This function will be removed in tqdm==5.0.0\n",
      "Please use `tqdm.notebook.tqdm` instead of `tqdm.tqdm_notebook`\n",
      "  \"\"\"\n"
     ]
    },
    {
     "data": {
      "application/vnd.jupyter.widget-view+json": {
       "model_id": "0163a1de063443a697f48fb3858be580",
       "version_major": 2,
       "version_minor": 0
      },
      "text/plain": [
       "HBox(children=(FloatProgress(value=0.0, max=500.0), HTML(value='')))"
      ]
     },
     "metadata": {},
     "output_type": "display_data"
    },
    {
     "name": "stdout",
     "output_type": "stream",
     "text": [
      "\n"
     ]
    }
   ],
   "source": [
    "\n",
    "P_scalaire_malus=[]\n",
    "P_scalaire_position = []\n",
    "\n",
    "for i in tqdm_notebook(L1[:500]):\n",
    "    L = best_images_scalaire(i,liste_score4,liste_score4_d, malus= True)\n",
    "    L_p = best_images_scalaire(i,liste_score4,liste_score4_d, position= True)\n",
    "    \n",
    "\n",
    "   \n",
    "    if  L != [] :\n",
    "                \n",
    "        position = -20\n",
    "        posi = 0\n",
    "        for tup in L : \n",
    "            posi += 1\n",
    "            if ev_match(df_depeche.event[i],df2.event[tup[0]]):\n",
    "                position = posi \n",
    "                break\n",
    "        P_scalaire_malus.append(position)\n",
    "    \n",
    "\n",
    "    if  L_p != [] :\n",
    "                \n",
    "        position_scalaire_position = -20\n",
    "        posi = 0\n",
    "        for tup in L : \n",
    "            posi += 1\n",
    "            if ev_match(df_depeche.event[i],df2.event[tup[0]]):\n",
    "                position_scalaire_position = posi \n",
    "                break\n",
    "        P_scalaire_position.append(position_scalaire_position)"
   ]
  },
  {
   "cell_type": "code",
   "execution_count": 290,
   "metadata": {},
   "outputs": [
    {
     "data": {
      "text/plain": [
       "[]"
      ]
     },
     "execution_count": 290,
     "metadata": {},
     "output_type": "execute_result"
    }
   ],
   "source": [
    "P_scalaire_malus"
   ]
  },
  {
   "cell_type": "code",
   "execution_count": 287,
   "metadata": {},
   "outputs": [
    {
     "ename": "ValueError",
     "evalue": "Cannot describe a DataFrame without columns",
     "output_type": "error",
     "traceback": [
      "\u001b[0;31m---------------------------------------------------------------------------\u001b[0m",
      "\u001b[0;31mValueError\u001b[0m                                Traceback (most recent call last)",
      "\u001b[0;32m<ipython-input-287-7dd3ca40c754>\u001b[0m in \u001b[0;36m<module>\u001b[0;34m\u001b[0m\n\u001b[1;32m      1\u001b[0m \u001b[0;34m\u001b[0m\u001b[0m\n\u001b[1;32m      2\u001b[0m \u001b[0mres_scalaire_malus\u001b[0m \u001b[0;34m=\u001b[0m \u001b[0mpd\u001b[0m\u001b[0;34m.\u001b[0m\u001b[0mDataFrame\u001b[0m\u001b[0;34m(\u001b[0m\u001b[0mP_scalaire_malus\u001b[0m\u001b[0;34m)\u001b[0m\u001b[0;34m\u001b[0m\u001b[0;34m\u001b[0m\u001b[0m\n\u001b[0;32m----> 3\u001b[0;31m \u001b[0mprint\u001b[0m\u001b[0;34m(\u001b[0m\u001b[0mres_scalaire_malus\u001b[0m\u001b[0;34m.\u001b[0m\u001b[0mdescribe\u001b[0m\u001b[0;34m(\u001b[0m\u001b[0;34m)\u001b[0m\u001b[0;34m)\u001b[0m\u001b[0;34m\u001b[0m\u001b[0;34m\u001b[0m\u001b[0m\n\u001b[0m\u001b[1;32m      4\u001b[0m \u001b[0mprint\u001b[0m\u001b[0;34m(\u001b[0m\u001b[0;34m'quantile a 66'\u001b[0m\u001b[0;34m,\u001b[0m \u001b[0mres_scalaire_malus\u001b[0m\u001b[0;34m.\u001b[0m\u001b[0mquantile\u001b[0m\u001b[0;34m(\u001b[0m\u001b[0;36m0.66\u001b[0m\u001b[0;34m)\u001b[0m\u001b[0;34m)\u001b[0m\u001b[0;34m\u001b[0m\u001b[0;34m\u001b[0m\u001b[0m\n\u001b[1;32m      5\u001b[0m \u001b[0;34m\u001b[0m\u001b[0m\n",
      "\u001b[0;32m~/miniconda3/lib/python3.7/site-packages/pandas/core/generic.py\u001b[0m in \u001b[0;36mdescribe\u001b[0;34m(self, percentiles, include, exclude)\u001b[0m\n\u001b[1;32m   9719\u001b[0m             \u001b[0;32mraise\u001b[0m \u001b[0mNotImplementedError\u001b[0m\u001b[0;34m(\u001b[0m\u001b[0mmsg\u001b[0m\u001b[0;34m)\u001b[0m\u001b[0;34m\u001b[0m\u001b[0;34m\u001b[0m\u001b[0m\n\u001b[1;32m   9720\u001b[0m         \u001b[0;32melif\u001b[0m \u001b[0mself\u001b[0m\u001b[0;34m.\u001b[0m\u001b[0mndim\u001b[0m \u001b[0;34m==\u001b[0m \u001b[0;36m2\u001b[0m \u001b[0;32mand\u001b[0m \u001b[0mself\u001b[0m\u001b[0;34m.\u001b[0m\u001b[0mcolumns\u001b[0m\u001b[0;34m.\u001b[0m\u001b[0msize\u001b[0m \u001b[0;34m==\u001b[0m \u001b[0;36m0\u001b[0m\u001b[0;34m:\u001b[0m\u001b[0;34m\u001b[0m\u001b[0;34m\u001b[0m\u001b[0m\n\u001b[0;32m-> 9721\u001b[0;31m             \u001b[0;32mraise\u001b[0m \u001b[0mValueError\u001b[0m\u001b[0;34m(\u001b[0m\u001b[0;34m\"Cannot describe a DataFrame without columns\"\u001b[0m\u001b[0;34m)\u001b[0m\u001b[0;34m\u001b[0m\u001b[0;34m\u001b[0m\u001b[0m\n\u001b[0m\u001b[1;32m   9722\u001b[0m \u001b[0;34m\u001b[0m\u001b[0m\n\u001b[1;32m   9723\u001b[0m         \u001b[0;32mif\u001b[0m \u001b[0mpercentiles\u001b[0m \u001b[0;32mis\u001b[0m \u001b[0;32mnot\u001b[0m \u001b[0;32mNone\u001b[0m\u001b[0;34m:\u001b[0m\u001b[0;34m\u001b[0m\u001b[0;34m\u001b[0m\u001b[0m\n",
      "\u001b[0;31mValueError\u001b[0m: Cannot describe a DataFrame without columns"
     ]
    }
   ],
   "source": [
    "\n",
    "res_scalaire_malus = pd.DataFrame(P_scalaire_malus)\n",
    "print(res_scalaire_malus.describe())\n",
    "print('quantile a 66', res_scalaire_malus.quantile(0.66))\n",
    "\n",
    "plt.xlabel('Positions_scalaire_malus')\n",
    "plt.title('Histogramme des positions')\n",
    "plt.hist(P_scalaire_malus, range=(0,100), bins= 10, edgecolor = 'black' )"
   ]
  },
  {
   "cell_type": "code",
   "execution_count": 291,
   "metadata": {},
   "outputs": [
    {
     "name": "stdout",
     "output_type": "stream",
     "text": [
      "                  0\n",
      "count    500.000000\n",
      "mean     693.234000\n",
      "std     3413.496008\n",
      "min        1.000000\n",
      "25%        1.000000\n",
      "50%        3.000000\n",
      "75%       35.000000\n",
      "max    43225.000000\n",
      "quantile a 66 0    10.0\n",
      "Name: 0.66, dtype: float64\n"
     ]
    },
    {
     "data": {
      "text/plain": [
       "(array([326.,  30.,  10.,  12.,   9.,   6.,   6.,   4.,   4.,   2.]),\n",
       " array([  0.,  10.,  20.,  30.,  40.,  50.,  60.,  70.,  80.,  90., 100.]),\n",
       " <a list of 10 Patch objects>)"
      ]
     },
     "execution_count": 291,
     "metadata": {},
     "output_type": "execute_result"
    },
    {
     "data": {
      "image/png": "[encoded data removed]",
      "text/plain": [
       "<Figure size 432x288 with 1 Axes>"
      ]
     },
     "metadata": {
      "needs_background": "light"
     },
     "output_type": "display_data"
    }
   ],
   "source": [
    "\n",
    "res_scalaire_position = pd.DataFrame(P_scalaire_position)\n",
    "print(res_scalaire_position.describe())\n",
    "print('quantile a 66', res_scalaire_position.quantile(0.66))\n",
    "\n",
    "plt.xlabel('Positions_scalaire_position')\n",
    "plt.title('Histogramme des positions')\n",
    "plt.hist(P_scalaire_position, range=(00,100), bins= 10, edgecolor = 'black' )"
   ]
  },
  {
   "cell_type": "markdown",
   "metadata": {},
   "source": [
    "# Resultat naif\n"
   ]
  },
  {
   "cell_type": "code",
   "execution_count": 223,
   "metadata": {},
   "outputs": [
    {
     "name": "stderr",
     "output_type": "stream",
     "text": [
      "/Users/ya/miniconda3/lib/python3.7/site-packages/ipykernel_launcher.py:4: TqdmDeprecationWarning: This function will be removed in tqdm==5.0.0\n",
      "Please use `tqdm.notebook.tqdm` instead of `tqdm.tqdm_notebook`\n",
      "  after removing the cwd from sys.path.\n"
     ]
    },
    {
     "data": {
      "application/vnd.jupyter.widget-view+json": {
       "model_id": "4ebd2afe778f4a70ad2a32d90fee66d5",
       "version_major": 2,
       "version_minor": 0
      },
      "text/plain": [
       "HBox(children=(FloatProgress(value=0.0, max=1000.0), HTML(value='')))"
      ]
     },
     "metadata": {},
     "output_type": "display_data"
    },
    {
     "name": "stdout",
     "output_type": "stream",
     "text": [
      "\n"
     ]
    }
   ],
   "source": [
    "\n",
    "P=[]\n",
    "\n",
    "for i in tqdm_notebook(L1):\n",
    "    L=best_images(i,liste_score4,liste_score4_d)\n",
    "    \n",
    "\n",
    "   \n",
    "    if  L != [] :\n",
    "                \n",
    "        position = -20\n",
    "        posi = 0\n",
    "        for tup in L : \n",
    "            posi += 1\n",
    "            if ev_match(df_depeche.event[i],df2.event[tup[0]]):\n",
    "                position = posi \n",
    "                break\n",
    "        P.append(position)\n"
   ]
  },
  {
   "cell_type": "code",
   "execution_count": 196,
   "metadata": {},
   "outputs": [
    {
     "data": {
      "text/plain": [
       "0    10.0\n",
       "Name: 0.66, dtype: float64"
      ]
     },
     "execution_count": 196,
     "metadata": {},
     "output_type": "execute_result"
    }
   ],
   "source": []
  },
  {
   "cell_type": "code",
   "execution_count": 292,
   "metadata": {},
   "outputs": [
    {
     "name": "stdout",
     "output_type": "stream",
     "text": [
      "                  0\n",
      "count   1000.000000\n",
      "mean     706.756000\n",
      "std     3406.922868\n",
      "min        1.000000\n",
      "25%        1.000000\n",
      "50%        2.000000\n",
      "75%       23.250000\n",
      "max    43225.000000\n",
      "quantile a 66  9.0\n"
     ]
    },
    {
     "data": {
      "image/png": "[encoded data removed]",
      "text/plain": [
       "<Figure size 432x288 with 1 Axes>"
      ]
     },
     "metadata": {
      "needs_background": "light"
     },
     "output_type": "display_data"
    }
   ],
   "source": [
    "res = pd.DataFrame(P)\n",
    "print(res.describe())\n",
    "plt.xlabel('Positions_naif')\n",
    "plt.title('Histogramme des positions')\n",
    "plt.hist(P, range=(0,100), bins= 10, edgecolor = 'black' )\n",
    "print(\"quantile a 66 \" , res.quantile(0.66)[0])"
   ]
  },
  {
   "cell_type": "code",
   "execution_count": 101,
   "metadata": {},
   "outputs": [
    {
     "name": "stderr",
     "output_type": "stream",
     "text": [
      "/Users/ya/miniconda3/lib/python3.7/site-packages/ipykernel_launcher.py:12: TqdmDeprecationWarning: This function will be removed in tqdm==5.0.0\n",
      "Please use `tqdm.notebook.tqdm` instead of `tqdm.tqdm_notebook`\n",
      "  if sys.path[0] == '':\n"
     ]
    },
    {
     "data": {
      "application/vnd.jupyter.widget-view+json": {
       "model_id": "a9d3aad590964bfca61025eee61c2506",
       "version_major": 2,
       "version_minor": 0
      },
      "text/plain": [
       "HBox(children=(FloatProgress(value=0.0, max=300.0), HTML(value='')))"
      ]
     },
     "metadata": {},
     "output_type": "display_data"
    },
    {
     "name": "stdout",
     "output_type": "stream",
     "text": [
      "\n"
     ]
    },
    {
     "data": {
      "text/plain": [
       "[189, 178]"
      ]
     },
     "execution_count": 101,
     "metadata": {},
     "output_type": "execute_result"
    }
   ],
   "source": [
    "%%time \n",
    "df2.reset_index(drop=True,inplace=True)\n",
    "df_depeche.reset_index(drop=True,inplace=True)\n",
    "\n",
    "L=[]\n",
    "for k in range(300):\n",
    "    l=np.random.randint(0,len(df_depeche))\n",
    "    while l in L:\n",
    "        l=np.random.randint(0,len(df_depeche))\n",
    "    L.append(l)\n",
    "    \n",
    "count=[0 for k in range(2)]\n",
    "for i in tqdm_notebook(L):\n",
    "    a2=best5_image_test(i,liste_score4,liste_score4_d)\n",
    "    \n",
    "    \n",
    "    a4=best5_image_test_scalaire(i,liste_score4,liste_score4_d)\n",
    "    \n",
    "    for tup in a2:\n",
    "        if ev_match(df_depeche.event[i],df2.event[tup[0]]):\n",
    "            count[0]+=1\n",
    "            break\n",
    "  \n",
    "    for tup in a4:\n",
    "        if ev_match(df_depeche.event[i],df2.event[tup[0]]):\n",
    "            count[1]+=1\n",
    "            break\n",
    "\n",
    "count"
   ]
  },
  {
   "cell_type": "code",
   "execution_count": null,
   "metadata": {},
   "outputs": [],
   "source": []
  },
  {
   "cell_type": "code",
   "execution_count": 310,
   "metadata": {},
   "outputs": [
    {
     "data": {
      "image/png": "[encoded data removed]",
      "text/plain": [
       "<Figure size 432x288 with 1 Axes>"
      ]
     },
     "metadata": {
      "needs_background": "light"
     },
     "output_type": "display_data"
    }
   ],
   "source": [
    "plt.title('Histogramme des positions')\n",
    "plt.hist([P_scalaire, P_malus_position], range=(0,100), bins=10, color = ['lightblue','lightcoral'], label='score naïf')\n",
    "\n",
    "plt.show()"
   ]
  },
  {
   "cell_type": "code",
   "execution_count": 308,
   "metadata": {},
   "outputs": [
    {
     "data": {
      "image/png": "[encoded data removed]",
      "text/plain": [
       "<Figure size 432x288 with 1 Axes>"
      ]
     },
     "metadata": {
      "needs_background": "light"
     },
     "output_type": "display_data"
    }
   ],
   "source": [
    "plt.title('Histogramme des positions')\n",
    "plt.hist([P_malus, P_malus_position], range=(0,100), bins=10, color = ['lightblue','lightcoral'], label='score naïf')\n",
    "\n",
    "plt.show()"
   ]
  },
  {
   "cell_type": "code",
   "execution_count": null,
   "metadata": {},
   "outputs": [],
   "source": [
    "plt.title('Histogramme des positions')\n",
    "plt.hist([P, P_malus_position], range=(0,100), bins=10, color = ['lightblue','lightcoral'], label='score naïf')\n",
    "\n",
    "plt.show()"
   ]
  },
  {
   "cell_type": "code",
   "execution_count": 306,
   "metadata": {},
   "outputs": [
    {
     "data": {
      "image/png": "[encoded data removed]",
      "text/plain": [
       "<Figure size 432x288 with 1 Axes>"
      ]
     },
     "metadata": {
      "needs_background": "light"
     },
     "output_type": "display_data"
    }
   ],
   "source": [
    "red_patch = mpatches.Patch(color='lightblue', label='Score naïf')\n",
    "light_coral = mpatches.Patch(color='lightcoral', label='Produit scalaire')\n",
    "plt.legend(handles=[red_patch,light_coral])\n",
    "\n",
    "plt.title('Histogramme des positions')\n",
    "plt.hist([P, P_scalaire], range=(0,100), bins=10, color = ['lightblue','lightcoral'], label='score naïf')\n",
    "plt.show()"
   ]
  },
  {
   "cell_type": "code",
   "execution_count": 305,
   "metadata": {},
   "outputs": [
    {
     "data": {
      "image/png": "[encoded data removed]",
      "text/plain": [
       "<Figure size 432x288 with 1 Axes>"
      ]
     },
     "metadata": {
      "needs_background": "light"
     },
     "output_type": "display_data"
    }
   ],
   "source": [
    "red_patch = mpatches.Patch(color='lightblue', label='Score naïf')\n",
    "light_coral = mpatches.Patch(color='lightcoral', label='Score malus position')\n",
    "plt.legend(handles=[red_patch,light_coral])\n",
    "\n",
    "plt.title('Histogramme des positions')\n",
    "plt.hist([P, P_malus_position], range=(0,100), bins=10, color = ['lightblue','lightcoral'], label='score naïf')\n",
    "plt.show()"
   ]
  },
  {
   "cell_type": "code",
   "execution_count": 324,
   "metadata": {},
   "outputs": [
    {
     "name": "stdout",
     "output_type": "stream",
     "text": [
      "357 375\n"
     ]
    }
   ],
   "source": [
    "c1,c2 = 0,0 \n",
    "a=20\n",
    "for k in range(500):\n",
    "    if P_scalaire_position[k]<=a:\n",
    "        c1+=1\n",
    "    if P_malus_position[k]<=a:\n",
    "        c2+=1\n",
    "print(c1,c2)"
   ]
  },
  {
   "cell_type": "code",
   "execution_count": 322,
   "metadata": {},
   "outputs": [
    {
     "data": {
      "text/plain": [
       "500"
      ]
     },
     "execution_count": 322,
     "metadata": {},
     "output_type": "execute_result"
    }
   ],
   "source": [
    "len(P_scalaire_position)"
   ]
  },
  {
   "cell_type": "code",
   "execution_count": null,
   "metadata": {},
   "outputs": [],
   "source": []
  },
  {
   "cell_type": "code",
   "execution_count": 328,
   "metadata": {},
   "outputs": [
    {
     "data": {
      "image/png": "[encoded data removed]",
      "text/plain": [
       "<Figure size 432x288 with 1 Axes>"
      ]
     },
     "metadata": {
      "needs_background": "light"
     },
     "output_type": "display_data"
    }
   ],
   "source": [
    "import matplotlib.patches as mpatches\n",
    "\n",
    "red_patch = mpatches.Patch(color='lightblue', label='Score Malus position')\n",
    "light_coral = mpatches.Patch(color='lightcoral', label='Score malus')\n",
    "plt.legend(handles=[red_patch,light_coral])\n",
    "plt.title('Histogramme des positions')\n",
    "plt.hist([P_malus_position, P_malus], range=(0,100), bins=10, color = ['lightblue','lightcoral'], label='score naïf')\n",
    "plt.show()"
   ]
  },
  {
   "cell_type": "code",
   "execution_count": 208,
   "metadata": {},
   "outputs": [],
   "source": [
    "def dep_ent(ent, doc):\n",
    "    \"\"\" Retourne la fonction grammaticale :  la 'dep', d'une entité. Cette fonction est nécessaire car elle permet d'affecter\n",
    "    une dep à une entité composée de plusieurs mots ayant chacun une dep de base.\n",
    "    Traite aussi le cas particulier des mots étant des conj ou des compound : leur vrai dep et celle du mot auxquels\n",
    "    ils sont associés en tant que conj ou compound.\"\"\"\n",
    "    start= ent.start\n",
    "    end=ent.end\n",
    "    for k in range(start,end):\n",
    "        if doc[k].head.text not in ent.text: \n",
    "            if doc[k].dep_=='conj':     \n",
    "                tok=doc[k]            \n",
    "                while tok.dep_=='conj':\n",
    "                    tok=tok.head      \n",
    "                return(tok.dep_)\n",
    "            \n",
    "            if doc[k].dep_=='compound':   \n",
    "                tok=doc[k]            \n",
    "                while tok.dep_=='compound':\n",
    "                    tok=tok.head      \n",
    "                return(tok.dep_)\n",
    "            return(doc[k].dep_)    \n",
    "    return doc[start].dep_\n",
    "\n",
    "## RAJOUT DE FAC\n",
    "def ent_good_type(ent): #filtre les entités selon leur type \n",
    "    return (ent.label_ == \"PERSON\"or ent.label_ == \"NORP\" or ent.label_ == \"ORG\" or ent.label_ == \"GPE\" or ent.label_ == \"EVENT\" or ent.label_ == \"LOC\" or ent.label_ == \"FAC\")\n",
    "\n",
    "def sort_ent(doc):\n",
    "    \"\"\"Retourne la liste des entités en les filtrant selon leur type et en les triant de manière à avoir au début de\n",
    "    la liste les entités ayant des coréférences.\"\"\"\n",
    "    ent_coref=[ent for ent in doc.ents if ent._.is_coref and ent_good_type(ent)]\n",
    "    ent_vanilla=[ent for ent in doc.ents if ent_good_type(ent) and not ent._.is_coref]\n",
    "    return ent_coref + ent_vanilla\n",
    "\n",
    "def scores_doc(doc):\n",
    "    \"\"\"Retourne le score de chaque entité pour la méthode sans neuralcoref.\"\"\"\n",
    "    res={}\n",
    "    for ent in doc.ents:\n",
    "        if ent.text not in res.keys():\n",
    "            res[ent.text]=dict_val[dep_ent(ent,doc)]\n",
    "        else:\n",
    "            res[ent.text]+=dict_val[dep_ent(ent,doc)]\n",
    "    return res\n",
    "\n",
    "def scores_doc_coref1(doc):\n",
    "    \"\"\"Retourne le score de chaque entité pour la méthode de base opérée sur le document resolved.\n",
    "    Le document resolved est le document de base dans lequel toutes les références à un groupe de mot sont remplacées\n",
    "    par celui-ci.\n",
    "    Par exemple : My dad is home. He watches TV devient My dad is home. My dad watches TV.\n",
    "    En raisonnant avec le nlp sur le document resolved, le nlp va détecter beaucoup plus de fois la même entité.\n",
    "    Le principal inconvénient est que toutes les références sont remplacées, y compris celles qui ne sont pas associées \n",
    "    à des entités mais plutôt à des très longs bouts de phrase qui sont repris par un pronom comme \"it\"  \"\"\"\n",
    "    \n",
    "    doc=nlp(doc._.coref_resolved)\n",
    "    res={}\n",
    "    for ent in doc.ents:\n",
    "        if ent_good_type(ent):\n",
    "            if ent.text not in res.keys():\n",
    "                res[ent.text]=dict_val[dep_ent(ent,doc)]\n",
    "            else:\n",
    "                res[ent.text]+=dict_val[dep_ent(ent,doc)]\n",
    "    #normaliser_dict\n",
    "    m=0\n",
    "    if len(res) != 0 :\n",
    "        m = max(res.values())\n",
    "    if m >0 : # Possible que m =0 si description en Francais...\n",
    "        for k in res.keys():\n",
    "            res[k] /= m \n",
    "\n",
    "    return res\n",
    "\n",
    "def is_in_cluster(ent,cluster):  #détermine si une entité est dans une des mentions d'un cluster\n",
    "    for span in cluster.mentions:\n",
    "        if ent.text in span.text:\n",
    "            return True\n",
    "    return False\n",
    "\n",
    "\n",
    "\n",
    "def freq_dict(L):\n",
    "    n = len(L)\n",
    "    L_unique = list(set(L))\n",
    "    d = {}\n",
    "    for a in L_unique:\n",
    "        for b in L:\n",
    "            if a == b:\n",
    "                if a in d.keys():\n",
    "                    d[a] += 1/n\n",
    "                else:\n",
    "                    d[a] = 1/n\n",
    "    return(d)"
   ]
  },
  {
   "cell_type": "code",
   "execution_count": 209,
   "metadata": {},
   "outputs": [],
   "source": [
    "base_ar = pd.read_csv('base_articles.csv')"
   ]
  },
  {
   "cell_type": "code",
   "execution_count": 16,
   "metadata": {},
   "outputs": [
    {
     "data": {
      "text/plain": [
       "'The 26-year old tech worker spent the last year jumping from one startup to another in what already felt like a precarious job market . But when he was laid off again in January, this time from a Beijing-based internet company, he never expected things to become as difficult as they are\\n\\nLast year \"already felt like living in a hell mode,\" Wang told CNN Business in a telephone interview. \"But 2020 is even worse. The coronavirus is like a head-on blow.\"\\n\\nWang is not his full name. He asked CNN Business to not use his entire name because he didn\\'t want friends or family to know the details of his unemployment — a fear echoed by others in China who spoke about losing their jobs. Some also voiced concerns that making their personal predicament public could hurt their chances of finding work.\\n\\nThe pandemic all but shut down China for several weeks this year, wreaking havoc on the world\\'s second largest economy and forcing millions of people out of work.\\n\\nThe full scale of how many people have lost their jobs in the country is hard to capture. Data from Beijing is notoriously opaque, and the official unemployment rate — which only tracks jobless numbers in urban areas — has barely moved beyond 4% to just over 5% for years.\\n\\nBut even the official tally has started to register a spike. Unemployment in March was 5.9%, just shy of the record 6.2% reported a month earlier. That would represent more than 27 million people out of work, according to a CNN Business calculation using government data.\\n\\n\"China\\'s unemployment could be seriously understated,\" said Willy Lam, an adjunct professor for the Center of China Studies at the Chinese University of Hong Kong . \"It\\'s unusual they are willing to report that bad data. Given the government often massages the figures, the real situation must be worse.\"\\n\\nAn \\'unprecedented\\' problem\\n\\nBeijing\\'s data, after all, does not include people in rural communities or a large number of the 290 million migrant workers who work in construction, manufacturing and other low paying but vital activities. If those migrants are included, as many as 80 million people could have been out of work at the end of March, according to an article co-authored last month by Zhang Bin, an economist at the Chinese Academy of Social Sciences, a think tank run by the government.\\n\\nOther experts say that the 80 million figure is likely much closer to reality. It\\'s also a lot more disturbing — it would mean that nearly 10% of people in China who are supposed to be employed are actually out of work, according to economists at Société Générale.\\n\\n\"The Covid-19 shock to the job market is unprecedented in its scale, length and nature,\" wrote Wei Yao and Michelle Lam in a research report last week.\\n\\nThe Ministry of Commerce did not respond to a request from CNN Business for comment on this story. Speaking last month, a spokesman for China\\'s National Bureau of Statistics acknowledged that the labor market was under a lot of pressure, but he insisted overall employment was \"stable.\"\\n\\n\"Although the coronavirus has had a severe impact [on jobs], there are no massive layoffs in the country,\" Mao Shengyong said at a press conference.\\n\\nBut Beijing is bracing for additional pain in the coming months. A record number of people are graduating from universities this year, which will put more pressure on the job market. And while the economy may still eke out some growth in 2020, its road to a full recovery will likely be a long one.\\n\\nThe Chinese government has never been candid about its economic woes. But recent messaging from officials has made it clear that unemployment is a big problem.\\n\\nEconomic growth was already the weakest in decades before the outbreak pushed the country into its first contraction since 1976, when Communist Party leader Mao Zedong\\'s death ended a decade of social and economic tumult.\\n\\nShoring up the economy — and preventing the jobless rate from spiraling out of control — has only gotten more critical in recent months. In April, the Communist Party\\'s Politburo, its top ruling body, told all government officials to prioritize job security and social stability above anything else, according to the state news agency Xinhua.\\n\\nGetting people back to work is important in part because authorities fear a wave of unemployment could lead to social unrest, creating a massive political headache, according to Lam, the Chinese University of Hong Kong professor.\\n\\n\"Beijing\\'s biggest concern is not GDP growth, but employment,\" he said.\\n\\n\\'I feel miserable\\'\\n\\nJob seekers aren\\'t optimistic that the situation will improve soon. Wang, the tech worker from Beijing, said it seems life is tough for everyone right now.\\n\\n\"I feel miserable, but I can\\'t do anything about it,\" he said. \"I don\\'t think anyone can.\"\\n\\nWang said the current environment contrasts starkly to when he graduated from college in 2015. Beijing at that time was offering subsidies and other forms of financial support to startups, which encouraged entrepreneurs to create millions of new companies. The unemployment rate that year was about 5%.\\n\\nEven before the coronavirus outbreak, Wang said offers were drying up. The tech startups he worked at in 2018 and 2019 ran out of cash as Beijing tightened regulations on how they could obtain investment.\\n\\nBut now he says finding work is almost impossible. He and his friends have started lowering their expectations, and some of them aren\\'t even sure whether they can stay in Beijing.\\n\\n\"There were already signs last year [of mass unemployment], but this year it\\'s getting worse, \" Wang said. \"I don\\'t know when things will turn better ... I\\'ll just wait.\"\\n\\nThere is evidence that it\\'s gotten tougher to find work. Job vacancies plunged 28% in the first three months of 2020 compared to the fourth quarter of last year, according to a recent survey by the China Institute for Employment Research and Zhaopin.com, one of China\\'s largest job sites. Competition, meanwhile, was fiercer: The number of job seekers jumped nearly 9% in the first quarter, the survey showed.\\n\\nAnd companies in China\\'s services sector — which accounts for almost half of all jobs in the country — shed workers at a record rate in April, according to survey data released Thursday by media group Caixin and research firm Markit.\\n\\n\"I feel that the job market is shrinking at a rapid pace,\" said Yi Feng, 32, who lost his job in March at a logistics firm in Shanghai. Yi requested that CNN Business use an alias for him, which he chose, adding that he feared talking openly about his troubles would amount to burning bridges with potential employers. \"It\\'s extremely difficult to find a job now, because most companies have frozen their hiring since the end of March.\"\\n\\nAn influx of job seekers\\n\\nThe landscape might get even more difficult in the coming weeks. Beijing expects about 8.7 million people will graduate from colleges and universities this year, creating even more competition for work.\\n\\n\"Leading up to my graduation, I had my mind set on becoming a journalist. But this year it is really too hard,\" said Andrea Yao, a 22-year-old senior at the Communication University of China in Beijing. She said she was supposed to interview with a newspaper in Wuxi last month, but couldn\\'t go because she couldn\\'t obtain the \"health code\" required to enter the city.\\n\\nYao told CNN Business that she reached out to 61 companies about jobs, but only five asked for her resume. Many companies wanted candidates who already had experience.\\n\\nRecently, \"when I was taking the subway to [an internship], I suddenly felt a burst of anxiety through my heart when I thought of the fact that I haven\\'t settled on a job,\" she said.\\n\\nOthers said the coronavirus has disrupted their plans. Li Cuiyu, who is graduating from the Beijing-based China Agriculture University with a master\\'s degree, said she wanted to become a civil servant so she could obtain a highly coveted \"hukou,\" or household registration permit, in the Chinese capital. But the annual exam required for that work was postponed because of the outbreak.\\n\\nWhile Li is weighing other options — she had been looking for jobs at foreign companies in Beijing, for example — that hasn\\'t been easy, either.\\n\\n\"There are simply not many recruitment ads out there, and some foreign companies are already laying off staff,\" she said.\\n\\nA job applicant makes a call at an on-site job fair in Wuhan last month. The landscape for job hunters might get even more difficult in the coming weeks as about 8.7 million people graduate from colleges and universities.\\n\\nAid from the top\\n\\nBeijing is aware of the looming wave of new job seekers. The government this week unveiled a plan to help new graduates find jobs as teachers and create other \"grassroots level\" positions, according to Xinhua . The project also includes a proposal to expand enrollment in postgraduate programs.\\n\\nBut authorities still have a tough task ahead of them as they try to help others who have lost their jobs.\\n\\n\"A particular concern is that the safety net doesn\\'t catch the most vulnerable,\" wrote Mark Williams, chief Asia economist for Capital Economics, in a recent research note.\\n\\nAll employers in China are legally required to provide unemployment insurance. But less than half of the urban labor force was covered by that program at the end of last year, according to data from the Ministry of Human Resources and Social Security. And experts, including the economists at Société Générale, have noted that the program is ill-equipped to deal with the massive surge in jobless figures.\\n\\nThe government seems to have recognized these issues, Williams added, since it recently pledged to help those without jobs access insurance.\\n\\nBut other experts have pointed out that there are other challenges facing Beijing as it tries to push its citizens back to work.\\n\\nChina is already struggling with mounting debt , which makes it tough to spend more on infrastructure projects that could create more jobs, according to Joseph Cheng, a democracy activist and a retired professor of political science at the City University of Hong Kong. Chinese state media has suggested recently that regional governments could invest $1.1 trillion in roads, airports and other projects, but those funds haven\\'t actually been set aside yet and it\\'s not clear whether such targets could be reached.\\n\\nSeveral experts have said that policymakers in China should put more effort toward ensuring that people can meet their basic, daily needs. The Société Générale economists, for example, said a \"more direct but audacious measure\" would be to give cash directly to low income households, so as to circumvent the need for an unemployment insurance program.\\n\\nEven Zhang, the state think tank economist, floated a similar proposal. He said the government\\'s response to the economic fallout from the virus — which totals tens of billions of dollars in financial relief and stimulus — should include cash handouts for the poor.'"
      ]
     },
     "execution_count": 16,
     "metadata": {},
     "output_type": "execute_result"
    }
   ],
   "source": [
    "base_ar.Article[1]"
   ]
  },
  {
   "cell_type": "code",
   "execution_count": 210,
   "metadata": {},
   "outputs": [
    {
     "name": "stdout",
     "output_type": "stream",
     "text": [
      "CPU times: user 5 µs, sys: 0 ns, total: 5 µs\n",
      "Wall time: 17.2 µs\n"
     ]
    }
   ],
   "source": [
    "%%time \n",
    "\n",
    "\n",
    "def article_best_images(article, malus):\n",
    "    \"\"\" Retourne les  meilleures ( best score) photos de la k eme dépèche\"\"\"\n",
    "    doc = nlp(article)\n",
    "    #doc = nlp(depeches.news2[10])\n",
    "    L_score =[]\n",
    "    score_doc=scores_doc_coref1(doc)\n",
    "    #rel = related_descr(doc)\n",
    "    if malus : \n",
    "        for j in range(len(liste_score4)):\n",
    "            L_score.append( (score_sim_malus_position(score_doc,liste_score4,j),j)) \n",
    "    else : \n",
    "         for j in range(len(liste_score4)):\n",
    "            L_score.append( (score_sim(score_doc,liste_score4,j),j)) \n",
    "    L_score.sort(reverse=True)\n",
    "    \n",
    "    return L_score\n"
   ]
  },
  {
   "cell_type": "code",
   "execution_count": 51,
   "metadata": {},
   "outputs": [],
   "source": [
    "d = article_best_images(base_ar.Article[1],True)"
   ]
  },
  {
   "cell_type": "code",
   "execution_count": 81,
   "metadata": {
    "scrolled": false
   },
   "outputs": [
    {
     "data": {
      "text/plain": [
       "(-0.6219465733112316, 49548)"
      ]
     },
     "execution_count": 81,
     "metadata": {},
     "output_type": "execute_result"
    }
   ],
   "source": [
    "d.sort(key= lambda x : x[1])\n",
    "d[-1]"
   ]
  },
  {
   "cell_type": "code",
   "execution_count": 69,
   "metadata": {},
   "outputs": [
    {
     "ename": "NameError",
     "evalue": "name 'ind' is not defined",
     "output_type": "error",
     "traceback": [
      "\u001b[0;31m---------------------------------------------------------------------------\u001b[0m",
      "\u001b[0;31mNameError\u001b[0m                                 Traceback (most recent call last)",
      "\u001b[0;32m<ipython-input-69-950cb90295dd>\u001b[0m in \u001b[0;36m<module>\u001b[0;34m\u001b[0m\n\u001b[0;32m----> 1\u001b[0;31m \u001b[0mind\u001b[0m\u001b[0;34m\u001b[0m\u001b[0;34m\u001b[0m\u001b[0m\n\u001b[0m",
      "\u001b[0;31mNameError\u001b[0m: name 'ind' is not defined"
     ]
    }
   ],
   "source": [
    "df"
   ]
  },
  {
   "cell_type": "code",
   "execution_count": 133,
   "metadata": {},
   "outputs": [
    {
     "data": {
      "text/plain": [
       "([(0, 49548),\n",
       "  (0, 49547),\n",
       "  (0, 49546),\n",
       "  (0, 49545),\n",
       "  (0, 49544),\n",
       "  (0, 49543),\n",
       "  (0, 49542),\n",
       "  (0, 49541),\n",
       "  (0, 49540),\n",
       "  (0, 49539)],\n",
       " [(0, 39669),\n",
       "  (0, 29422),\n",
       "  (-0.5961632439130233, 49548),\n",
       "  (-0.5961632439130233, 49547),\n",
       "  (-0.5961632439130233, 49546),\n",
       "  (-0.5961632439130233, 49545),\n",
       "  (-0.5961632439130233, 49544),\n",
       "  (-0.5961632439130233, 49543),\n",
       "  (-0.5961632439130233, 49542),\n",
       "  (-0.5961632439130233, 49541)])"
      ]
     },
     "execution_count": 133,
     "metadata": {},
     "output_type": "execute_result"
    }
   ],
   "source": [
    "L1,L2"
   ]
  },
  {
   "cell_type": "code",
   "execution_count": 272,
   "metadata": {},
   "outputs": [
    {
     "data": {
      "text/plain": [
       "'London (CNN) The UK Parliament is expected on Thursday to approve plans that would see lawmakers hold the government to account via a video link, as the country\\'s legislative chamber returns from its Easter recess on Monday.\\n\\nProposals for the so-called \"virtual parliament\" will allow Members of Parliament to question government ministers on their handling of the coronavirus pandemic, while also observing social distancing measures.\\n\\nHowever, the proposals only allow for limited parliamentary work to take place and are causing alarm among some that MPs will not be adequately capable of holding the government to account. Boris Johnson\\'s Conservative government is facing serious criticism over its handling of the Covid-19 pandemic.\\n\\nThe move also comes as trust between the main opposition Labour Party and the Conservatives is particularly low, following four years of bitter divisions over Brexit.\\n\\nThe proposals will allow MPs to grill ministers on the government\\'s coronavirus response as the UK enters what most experts agree will be its peak of the crisis, but Parliament will still be far from operating as usual. While it will still be possible for votes (known in the UK as \"divisions\") to take place in the House of Commons -- the means by which legislation receives Parliamentary approval -- these will still be restricted to members sat in the chamber itself.\\n\\nIn a letter to MPs, Hoyle said \"I am aware of interest among colleagues in the possibility of using technology to allow Members to participate in divisions without being present on the Estate,\" adding that he had asked parliamentary staff \"to undertake preparatory work as a matter of urgency on a system of remote voting in divisions of the House.\"\\n\\nJUST WATCHED Tiny Louisiana parish has highest Covid-19 death rate in US Replay More Videos ... MUST WATCH Tiny Louisiana parish has highest Covid-19 death rate in US 03:15\\n\\nThe issue of only a handful of MPs being able to vote on government business is concerning some in opposition.\\n\\n\"It\\'s vital parliament can do its business of questioning the government and holding it to account -- especially now,\" says Chris Bryant, an influential member of parliament for the Labour Party. \"The government should commit to only bringing forward business that has complete agreement from both sides of the House until there is a temporary means of voting remotely.\"\\n\\nThis view is shared by a Labour Party source, who told CNN that they \"strongly support a fully virtual parliament including the ability to have divisions for the duration of this crisis. This should be delivered as quickly as technologically possible.\"\\n\\nVotes are not the only problem that a physical absence poses to Parliament. Tom Tugendhat, chairman of the Parliamentary Foreign Affairs Select Committee, says \"the major issue with not being in Parliament is that a lot of our work is done by bumping into each other and working out small problems informally.\"\\n\\nThe move to a virtual parliament in Westminster comes at a time of wider uncertainty about Parliament\\'s future. The building is in desperate need of repair and modernizing. There are currently plans in place to vacate the estate in order to carry out this work, which would include: replacing heating, water and drainage systems and installing technology. One stark example of how badly the work is needed: part of the refurbishment will include replacing the sewage ejector system, which the Parliamentary website says was \"installed in 1888 and is still in use today.\"\\n\\nOther legislative chambers around the world -- including the devolved administration in Scotland -- have introduced measures allowing lawmakers to carry out their usual work with as little disruption as possible. This varies from agreeing to smaller gatherings of lawmakers in Ireland and Germany to physically distancing despatch boxes in Australia so that politicians can observe social distancing.\\n\\nHowever, Westminster is both larger than many of these bodies and more divided. Unlike many European nations, British politicians are not historically good at working across party lines at the highest level, meaning agreements will be harder to reach.\\n\\nParliament will return on Monday, where the leader of the House of Commons, Jacob Rees-Mogg, will lay down the government\\'s business for the day. Precisely what happens after that -- and in the coming weeks -- is still up in the air.'"
      ]
     },
     "execution_count": 272,
     "metadata": {},
     "output_type": "execute_result"
    }
   ],
   "source": [
    "base_ar.Article[33]"
   ]
  },
  {
   "cell_type": "code",
   "execution_count": 30,
   "metadata": {},
   "outputs": [
    {
     "data": {
      "text/plain": [
       "False"
      ]
     },
     "execution_count": 30,
     "metadata": {},
     "output_type": "execute_result"
    }
   ],
   "source": [
    "article_best_images(base_ar.Article[1],False) == article_best_images(base_ar.Article[1],True)"
   ]
  },
  {
   "cell_type": "code",
   "execution_count": 211,
   "metadata": {},
   "outputs": [
    {
     "name": "stdout",
     "output_type": "stream",
     "text": [
      "[4, 22, 29, 33, 37, 39, 41, 62, 71, 74, 89, 95]\n"
     ]
    }
   ],
   "source": [
    "c= []\n",
    "for d in range(1,100):\n",
    "    L1,L2 = article_best_images(base_ar.Article[d],False)[:10],article_best_images(base_ar.Article[d],True )[:10]\n",
    "    for k in range(3):\n",
    "        if  not (L1[k][1]==L2[k][1]):\n",
    "            \n",
    "            c.append(d)\n",
    "            break\n",
    "        \n",
    "        \n",
    "    \n",
    "    \n",
    "    \n",
    "print(c)"
   ]
  },
  {
   "cell_type": "code",
   "execution_count": 137,
   "metadata": {},
   "outputs": [],
   "source": [
    "article_time= 'Jerusalem (CNN) The mourners gathered by the hundreds, packed tightly on to the evening streets of Bnei Brak. There was no social distancing -- no two meters between them -- as they made their way down the roads of this ultra-Orthodox town near Tel Aviv for the Saturday night funeral of Rabbi Tzvi Shenkar.\\n\\nDespite a police presence, the crowd mingled freely, apparently unconcerned about the government restrictions on large gatherings, or the reason behind them.\\n\\nAs Israel has battled the spread of coronavirus , the government has imposed increasingly tighter restrictions on the public in an attempt to slow the rate of infection. As of Tuesday morning, Israel had 4,831 confirmed cases of coronavirus and 17 deaths as a result of the disease.\\n\\nThough police say the majority of the public has heeded the instructions, the seriousness of the situation seems yet to have fully penetrated the ultra-Orthodox community.\\n\\nMore than a week earlier, an ultra-Orthodox wedding in Bet Shemesh near Jerusalem drew a crowd of 150, police said, in violation of government restrictions which limited weddings to ten people. One of those in attendance was supposed to be in quarantine, police said. He was one of three people arrested for endangering public health.\\n\\n\"With the ultra-religious communities, we are definitely emphasizing police units being inside and dispersing people,\" said police spokesman Micky Rosenfeld. \"We\\'re seeing gatherings of more than ten people which is against the law,\" Rosenfeld said, emphasizing instances of religious schools that have remained open, despite orders to close.\\n\\nIn the ongoing fight against coronavirus, the ultra-Orthodox communities have become the front line. Police officers and SWAT teams have gone into these neighborhoods, warning people of the new restrictions on public gathering and issuing tickets to those who ignore the rules. But too often, the Haredim view civil laws and restrictions as an intrusion into their conservative, strictly religious, lifestyle.\\n\\nIn Mea Shearim, video from Israel police showed officers showered with cries of \"Nazis\" and \"murderers\" as they made their way down the labyrinthine alleys of the insular Jerusalem neighborhood. A medical team from Magen David Adom (MDA), Israel\\'s emergency response service, was pelted with rocks in the same neighborhood while trying to carry out a coronavirus test, a spokesman from MDA said.\\n\\nIsraeli security forces arrest an ultra-Orthodox Jewish man as they close a synagogue in Jerusalem on Monday.\\n\\nInfection rates in ultra-Orthodox communities are markedly higher than the rest of the country. The ultra-Orthodox communities in Bnei Brak, Mea Shearim, and Kiryat Yearim, which lies between Jerusalem and Tel Aviv, have among the highest infection rates in Israel, Rosenfeld said. A spokesman for the mayor of Bnei Brak said health officials had confirmed the town had the single highest infection rate in the entire country.\\n\\nIsrael\\'s ultra-Orthodox, also known as the Haredim, make up just 14% of the country\\'s total population but comprises a disproportionately large number of coronavirus patients. At Tel Hashomer hospital outside Tel Aviv, 60% of the coronavirus patients are ultra-Orthodox, spokesman Steve Walz tells CNN\\n\\nHaredi communities routinely shun modern technology like internet and smart phones. Despite a gradual modernization movement, the community still relies on posters and signs plastered on street corners to spread important messages and news. On one corner in Mea Shearim, a sign implores the community to heed the government\\'s instructions, saying, \"Danger! Responsibility Demands,\" and explains who need to enter self-quarantine. But the sign was ripped apart, with the middle section torn out.\\n\\nA number of signs nearby shared a very different message about a \"Terrible Discovery\" that the \"Corona Epidemic = A Lack of Modesty.\" The poster implored women and girls to dress modestly and adhere to religion according to the demands of Jewish law.\\n\\nA poster with instructions on how to properly sneeze in Jerusalem on Sunday.\\n\\nDespite outward appearances, the ultra-Orthodox community is not homogenous. Instead it is divided into many different factions and groups, each with its own rabbis and leaders. A directive from one rabbi may not hold sway over the followers of a different rabbi. Some of the groups are defiantly opposed to the existence of the state of Israel, believing it makes less likely the arrival of the Messiah. One of the most radical is known as the Jerusalem faction, which regularly organizes protests against the Israeli government. Police say it was this group that held the funeral in Bnei Brak over the weekend.\\n\\nEven so, some leading ultra-Orthodox rabbis have begun to instruct their followers to obey government restrictions. Rabbi Chaim Kanievsky, one of the most prominent Haredi religious leaders, warned on religious media outlets that anyone who doesn\\'t obey the instructions of the Ministry of Health should be turned over to police.\\n\\nIn an extraordinary move, he even allowed ultra-Orthodox Jews to answer their phone on the Sabbath -- when use of technology and electricity are strictly forbidden -- if they\\'re expecting results of a coronavirus test. Kanievsky\\'s intervention was all the more remarkable because in an earlier announcement about the virus he had told his followers to continue their communal study of the Torah, in direct contradiction to government instructions.\\n\\nJews attended a special prayer last Wednesday at the Western Wall for the end of the coronavirus pandemic while keeping a distance of two meters from one another.\\n\\nThe mayor of Bnei Brak, Avraham Rubinstein also warned the ultra-Orthodox community in no uncertain terms to \"Wake Up!\" in a recorded message that went out to residents via telephone. Rubinstein himself is under quarantine from the spread of coronavirus within Bnei Brak.\\n\\nThe phone call itself provides an illustration of one of the most difficult aspects of disseminating a message to the Haredi community -- when an entire population shuns the internet, smart phones and other modern means of communication, spreading urgent news and the latest directives is incredibly challenging.\\n\\n\"Inside these religious communities, they are not online and they are not using communicative systems, such as smart phone and televisions,\" said Micky Rosenfeld. \"They don\\'t exist inside these neighborhoods.\"\\n\\nMayor Rubinstein followed up his recorded warning with an interview Monday morning on a Haredi radio station, saying \"Bnei Brak has done, is doing, and will do, everything to prevent people gathering and to do everything the Ministry of Health instructs.\" But he acknowledged the town had little power to close private religious institutions that refused to comply.\\n\\n\"We\\'re in a war,\" Moti Ravid, head of the Mayanei Hayeshua hospital in Bnei Brak, told public broadcaster Kan on Sunday. \"I warned a month ago that there would be a catastrophe in the city if they did not stop the gatherings and close the synagogues and the yeshivas, and everyone yelled at me, \\'How dare you?\\'\"\\n\\n\"Today, they say, \\'It\\'s a pity we didn\\'t listen to you then.\\'\"\\n\\nIn the face of an epidemic that is decidedly worse in one specific community, the government has contemplated quarantining the ultra-Orthodox neighborhoods.\\n\\nOn Army Radio Sunday morning, Ministry of Health Director-General Moshe Bar Siman Tov said officials were looking into the possibility. \"We are checking this,\" said Siman Tov. \"If we get to the conclusion that this will be an effective step, we will recommend it.\"'\n",
    "article_time = article_time.replace(\"\\n\",\" \")\n",
    "b,n = article_best_images(article_time,False)[:20],article_best_images(article_time,True )[:20]"
   ]
  },
  {
   "cell_type": "code",
   "execution_count": 273,
   "metadata": {},
   "outputs": [],
   "source": [
    "d=33\n",
    "L1,L2 = article_best_images(base_ar.Article[d],False)[:10],article_best_images(base_ar.Article[d],True )[:10]\n"
   ]
  },
  {
   "cell_type": "code",
   "execution_count": 274,
   "metadata": {},
   "outputs": [
    {
     "name": "stdout",
     "output_type": "stream",
     "text": [
      "True\n",
      "False\n",
      "False\n",
      "False\n",
      "False\n",
      "True\n",
      "True\n",
      "False\n",
      "False\n",
      "False\n"
     ]
    }
   ],
   "source": [
    "for k in range(10):\n",
    "    print((L1[k][1]==L2[k][1]))\n",
    "            \n",
    "           "
   ]
  },
  {
   "cell_type": "code",
   "execution_count": 271,
   "metadata": {},
   "outputs": [
    {
     "data": {
      "text/plain": [
       "[(0, 39669),\n",
       " (0, 29422),\n",
       " (-0.3611111111111111, 49548),\n",
       " (-0.3611111111111111, 49547),\n",
       " (-0.3611111111111111, 49546),\n",
       " (-0.3611111111111111, 49545),\n",
       " (-0.3611111111111111, 49544),\n",
       " (-0.3611111111111111, 49543),\n",
       " (-0.3611111111111111, 49542),\n",
       " (-0.3611111111111111, 49541)]"
      ]
     },
     "execution_count": 271,
     "metadata": {},
     "output_type": "execute_result"
    }
   ],
   "source": [
    "L2"
   ]
  },
  {
   "cell_type": "code",
   "execution_count": 251,
   "metadata": {},
   "outputs": [
    {
     "data": {
      "text/plain": [
       "'(CNN) The lineup for Sunday\\'s \"The Disney Family Singalong: Volume II\" is looking rather magical.\\n\\nABC announced Wednesday that John Legend , Katy Perry, Tituss Burgess, Sabrina Carpenter, Jennifer Hudson , Lang Lang and more stars have been added to the roster for the next edition of the TV event, which is set to air Sunday at 7 p.m. ET on ABC\\n\\nThe first \"Disney Family Singalong,\" which aired last month, notched more than 10 million viewers and featured a buzzy surprise appearance by Beyoncé.\\n\\nPreviously announced performers for the second installment include Chloe x Halle, Billy Eichner, Donald Glover, Idina Menzel, Miguel, and Shakira.\\n\\nChristina Aguilera, Josh Gad, Derek Hough and Julianne Hough are set to make return appearances.\\n\\nRead More'"
      ]
     },
     "execution_count": 251,
     "metadata": {},
     "output_type": "execute_result"
    }
   ],
   "source": [
    "base_ar.Article[41]\n"
   ]
  },
  {
   "cell_type": "code",
   "execution_count": 275,
   "metadata": {},
   "outputs": [
    {
     "data": {
      "text/plain": [
       "{'London': 0.12686567159860215,\n",
       " 'CNN': 0.15298507472436787,\n",
       " 'The UK Parliament': 0.17164179101729227,\n",
       " 'UK': 0.51492537322725,\n",
       " 'Parliament Easter': 0.14552238806689966,\n",
       " 'Parliament': 1.0,\n",
       " 'Labour Party': 0.2910447761337993,\n",
       " 'Conservatives': 0.14552238806689966,\n",
       " 'Brexit': 0.14552238806689966,\n",
       " 'the House of Commons': 0.3694029851603503,\n",
       " 'Parliamentary': 0.3283582090703943,\n",
       " 'MPs, Hoyle': 0.14552238806689966,\n",
       " 'Estate': 0.14552238806689966,\n",
       " 'Hoyle': 0.1753731343460264,\n",
       " 'Louisiana': 0.3507462686920528,\n",
       " 'US': 0.2910447761337993,\n",
       " 'Chris Bryant': 0.1753731343460264,\n",
       " 'the Labour Party': 0.14552238806689966,\n",
       " 'Tom Tugendhat': 0.1753731343460264,\n",
       " 'the Parliamentary Foreign Affairs Select Committee': 0.14552238806689966,\n",
       " 'Westminster': 0.320895522412926,\n",
       " 'Scotland': 0.14552238806689966,\n",
       " 'Ireland': 0.14552238806689966,\n",
       " 'Germany': 0.14552238806689966,\n",
       " 'Australia': 0.14552238806689966,\n",
       " 'European': 0.08582089550864613,\n",
       " 'British': 0.08582089550864613,\n",
       " 'Jacob Rees-Mogg': 0.08208955217991201}"
      ]
     },
     "execution_count": 275,
     "metadata": {},
     "output_type": "execute_result"
    }
   ],
   "source": [
    "scores_doc_coref1(nlp(base_ar.Article[d]))"
   ]
  },
  {
   "cell_type": "code",
   "execution_count": 276,
   "metadata": {},
   "outputs": [
    {
     "data": {
      "text/plain": [
       "([(4.056559309616167, 20492),\n",
       "  (4.02670856333704, 20523),\n",
       "  (3.9033848616177993, 21322),\n",
       "  (3.8283582103117078, 7031),\n",
       "  (3.6962686570481833, 21323),\n",
       "  (3.6688138265209735, 20485),\n",
       "  (3.565059319095018, 20318),\n",
       "  (3.525007939241048, 9982),\n",
       "  (3.525007939241048, 9981),\n",
       "  (3.5069296372659546, 6438)],\n",
       " [(3.6444790750553837, 20492),\n",
       "  (3.621950145068142, 21322),\n",
       "  (3.6098451655109507, 20523),\n",
       "  (3.399208940498526, 21323),\n",
       "  (3.345715491497964, 7031),\n",
       "  (3.251950428694884, 20485),\n",
       "  (3.1364771712689286, 20318),\n",
       "  (3.0242869184522108, 6438),\n",
       "  (3.0242869184522108, 6432),\n",
       "  (2.9992089406431415, 20789)])"
      ]
     },
     "execution_count": 276,
     "metadata": {},
     "output_type": "execute_result"
    }
   ],
   "source": [
    "L1,L2"
   ]
  },
  {
   "cell_type": "code",
   "execution_count": 188,
   "metadata": {},
   "outputs": [
    {
     "name": "stderr",
     "output_type": "stream",
     "text": [
      "/Users/ya/miniconda3/lib/python3.7/site-packages/IPython/core/interactiveshell.py:3049: DtypeWarning: Columns (11,16,24,25,30,31,38) have mixed types. Specify dtype option on import or set low_memory=False.\n",
      "  interactivity=interactivity, compiler=compiler, result=result)\n"
     ]
    }
   ],
   "source": [
    "clean = pd.read_csv(\"photos_clean.csv\")"
   ]
  },
  {
   "cell_type": "code",
   "execution_count": 268,
   "metadata": {},
   "outputs": [
    {
     "data": {
      "text/plain": [
       "{'Maren': 0.7361963189954083,\n",
       " 'Ricardo Chamorro': 0.7361963189954083,\n",
       " 'L-R': 0.20858895698622454,\n",
       " 'Johanna': 0.23926380369513345,\n",
       " 'Johan': 1.0,\n",
       " 'Thomas': 0.5276073620091837,\n",
       " 'Henry': 0.13496932505784937,\n",
       " 'AFP': 0.23926380369513345,\n",
       " 'McLean': 0.23926380369513345,\n",
       " 'Virginia': 0.13496932505784937,\n",
       " 'Michael Keller': 0.23926380369513345,\n",
       " \"Children's National Hospital\": 0.11042944774839096,\n",
       " 'Washington': 0.23926380369513345,\n",
       " 'DC': 0.13496932505784937,\n",
       " 'Keller': 0.2883435583140502,\n",
       " \"Ivan COURONNE '\": 0.20858895698622454}"
      ]
     },
     "execution_count": 268,
     "metadata": {},
     "output_type": "execute_result"
    }
   ],
   "source": [
    "scores_doc_coref1(nlp(clean.caption[L2[1][1]]))"
   ]
  },
  {
   "cell_type": "code",
   "execution_count": 265,
   "metadata": {},
   "outputs": [
    {
     "data": {
      "text/plain": [
       "{'New York': 1.0,\n",
       " 'Bill de Blasio': 1.0,\n",
       " 'US': 1.0,\n",
       " 'Donald Trump': 1.0,\n",
       " 'the New York City Veterans Day Parade': 0.8297872340000001,\n",
       " 'AFP / Brendan Smialowski': 0.723404255}"
      ]
     },
     "execution_count": 265,
     "metadata": {},
     "output_type": "execute_result"
    }
   ],
   "source": [
    "scores_doc_coref1(nlp(clean.caption[32655]))"
   ]
  },
  {
   "cell_type": "code",
   "execution_count": 180,
   "metadata": {},
   "outputs": [
    {
     "name": "stdout",
     "output_type": "stream",
     "text": [
      "5715\n"
     ]
    }
   ],
   "source": [
    "c=0\n",
    "for k in photos_treated.index == 11313:\n",
    "    c+=1\n",
    "    if k :\n",
    "        print(c)\n",
    "        break"
   ]
  },
  {
   "cell_type": "code",
   "execution_count": 249,
   "metadata": {},
   "outputs": [
    {
     "data": {
      "text/plain": [
       "[(1.4933416302594569, 9846),\n",
       " (1.469680790518636, 9231),\n",
       " (1.469680790518636, 9212),\n",
       " (1.4696113538818882, 38266),\n",
       " (1.4696113538818882, 38258),\n",
       " (1.4696113538818882, 38257),\n",
       " (1.4696113538818882, 38254),\n",
       " (1.4696113538818882, 6701),\n",
       " (1.4696113538818882, 6502),\n",
       " (1.4696113538818882, 6499)]"
      ]
     },
     "execution_count": 249,
     "metadata": {},
     "output_type": "execute_result"
    }
   ],
   "source": [
    "L2"
   ]
  },
  {
   "cell_type": "code",
   "execution_count": 277,
   "metadata": {},
   "outputs": [
    {
     "data": {
      "text/html": [
       "<img src=\"https://api.afp.com/objects/api/medias?id=a1kkIS0nShZdX1sxTF9RGkJYQkxZNm0ZCx0FcwdqAnZwHQMDcBsAAxQZCHcaDm8QFHxBXFFbQVdZLmxHSVULIl4hDSg8XFBAN1FnMC0iBFJUWFk1SkgZVl5VQF1YMS9ISlNHZ0YsVH4NSFYDN3ozK2I0VlVIC0kwUE5fWV1fRh5TPTJES1dHfAZzAXByBwMAcQ1wc3Q%3D.jpg\"/>"
      ],
      "text/plain": [
       "<IPython.core.display.Image object>"
      ]
     },
     "metadata": {},
     "output_type": "display_data"
    },
    {
     "data": {
      "text/html": [
       "<img src=\"https://api.afp.com/objects/api/medias?id=a1kkIS0nShZdX1sxTF9RGkJYQkxZNm0cCgcbcwZwH3JyCh4BdAVuBAIWZghjAQAKDwBlQFtTRlRZKikDU0JTflQsVH4uS19RNEckYzEvXQRGT1YkSV5RGFFcSFVTKzZAXEFVMhE0WSd4ektXd0cPNypgS1ZBUwU0TERXXl5fQlMQIDpdUEBRMgp0BnJ2BQQCdAF4d3N1.jpg\"/>"
      ],
      "text/plain": [
       "<IPython.core.display.Image object>"
      ]
     },
     "metadata": {},
     "output_type": "display_data"
    },
    {
     "data": {
      "text/html": [
       "<img src=\"https://api.afp.com/objects/api/medias?id=a1kkIS0nShZdX1sxTF9RGkJYQkxZNm0cDwMbcA98H3F1Bh4BfAZuBAIWZghjAwpxYwBlQFtTRlRZKikDU0JTflQsVH4uS19RNEckYzEvXQRGT1YkSV5RGFFcSFVTKzZAXEFVMhE0WSd4d1RWDXEgPTNgS1ZBUwU0TERXXl5fQlMQIDpdUEBRMgp0BnJ2BQQCdAJ1fHd0.jpg\"/>"
      ],
      "text/plain": [
       "<IPython.core.display.Image object>"
      ]
     },
     "metadata": {},
     "output_type": "display_data"
    },
    {
     "data": {
      "text/html": [
       "<img src=\"https://api.afp.com/objects/api/medias?id=a1kkIS0nShZdX1sxTF9RGkJYQkxZNm0bCx0FdAJqAXRqAAAGa3UHFRt3dn4UZwFoaFhdVllcQlddayhdXg1XKFN4WzorU0FDIRI0LCB7UkBDV0g2XABXWVddSFZCKCdeWEESMF4hDXskVnRidwcsYzYpVVwQR00sWkZYWl1bC11ONStfXEEJcAF0A3RwAwgFdgZ5cQ%3D%3D.jpg\"/>"
      ],
      "text/plain": [
       "<IPython.core.display.Image object>"
      ]
     },
     "metadata": {},
     "output_type": "display_data"
    },
    {
     "data": {
      "text/html": [
       "<img src=\"https://api.afp.com/objects/api/medias?id=a1kkIS0nShZdX1sxTF9RGkJYQkxZNm0cDwobcwJ1H3J3Bx4BcANuBAIWZghjAwpwCQBlQFtTRlRZKikDU0JTflQsVH4uS19RNEckYzEvXQRGT1YkSV5RGFFcSFVTKzZAXEFVMhE0WSd4d1RWDXEgPTNgS1ZBUwU0TERXXl5fQlMQIDpdUEBRMgp0BnJ2BQQCdAJ1fHdy.jpg\"/>"
      ],
      "text/plain": [
       "<IPython.core.display.Image object>"
      ]
     },
     "metadata": {},
     "output_type": "display_data"
    },
    {
     "data": {
      "text/html": [
       "<img src=\"https://api.afp.com/objects/api/medias?id=a1kkIS0nShZdX1sxTF9RGkJYQkxZNm0cCgIbcgVqCHRqAwUGa3UHFRt3dw4UBHFoaFhdVllcQlddayhdXg1XKFN4WzorU0FDIRI0LCB7UkBDV0g2XABXWVddSFZCKCdeWEESMF4hDQs%2FVQJDCkYvYzYpVVwQR00sWkZYWl1bC11ONStfXEEJcAF0A3RwAAEFfQVycg%3D%3D.jpg\"/>"
      ],
      "text/plain": [
       "<IPython.core.display.Image object>"
      ]
     },
     "metadata": {},
     "output_type": "display_data"
    },
    {
     "data": {
      "text/html": [
       "<img src=\"https://api.afp.com/objects/api/medias?id=a1kkIS0nShZdX1sxTF9RGkJYQkxZNm0cAAMbcAJ8H3F2Bh4EcRsAAxQZCHcVB3oTFHxBXFFbQVdZLmxHSVULIl4hDSg8XFBAN1FnMC0iBFJUWFk1SkgZVl5VQF1YMS9ISlNHZ0YsVH4NSFYDN3ozK2I0VlVIC0kwUE5fWV1fRh5TPTJES1dHfAZzAXByBwMAcQx3dnU%3D.jpg\"/>"
      ],
      "text/plain": [
       "<IPython.core.display.Image object>"
      ]
     },
     "metadata": {},
     "output_type": "display_data"
    },
    {
     "data": {
      "text/html": [
       "<img src=\"https://api.afp.com/objects/api/medias?id=a1kkIS0nShZdX1sxTF9RGkJYQkxZNm0cCwAbcwZwH3RyHQAFchsAAxQZCHYdDggPFHxBXFFbQVdZLmxHSVULIl4hDSg8XFBAN1FnMC0iBFJUWFk1SkgZVl5VQF1YMS9ISlNHZ0YsVH4jYgRVIHovHWI0VlVIC0kwUE5fWV1fRh5TPTJES1dHfAZzAXByBwAJcgJ5d3E%3D.jpg\"/>"
      ],
      "text/plain": [
       "<IPython.core.display.Image object>"
      ]
     },
     "metadata": {},
     "output_type": "display_data"
    },
    {
     "data": {
      "text/html": [
       "<img src=\"https://api.afp.com/objects/api/medias?id=a1kkIS0nShZdX1sxTF9RGkJYQkxZNm0cCAsbcwFqAXVxHQABcRsAAxQZCHYdDggOFHxBXFFbQVdZLmxHSVULIl4hDSg8XFBAN1FnMC0iBFJUWFk1SkgZVl5VQF1YMS9ISlNHZ0YsVH4jYgRVIHovHWI0VlVIC0kwUE5fWV1fRh5TPTJES1dHfAZzAXByBwAJcgJ5d3U%3D.jpg\"/>"
      ],
      "text/plain": [
       "<IPython.core.display.Image object>"
      ]
     },
     "metadata": {},
     "output_type": "display_data"
    },
    {
     "data": {
      "text/html": [
       "<img src=\"https://api.afp.com/objects/api/medias?id=a1kkIS0nShZdX1sxTF9RGkJYQkxZNm0fDAEbcAF1H3d3HQAIa3UHFRt3dnMYYHJoaFhdVllcQlddayhdXg1XKFN4WzorU0FDIRI0LCB7UkBDV0g2XABXWVddSFZCKCdeWEESMF4hDSUcdXx9EFcTYzYpVVwQR00sWkZYWl1bC11ONStfXEEJcAF0A3RwAwgEdQV2fA%3D%3D.jpg\"/>"
      ],
      "text/plain": [
       "<IPython.core.display.Image object>"
      ]
     },
     "metadata": {},
     "output_type": "display_data"
    }
   ],
   "source": [
    "from IPython.display import Image\n",
    "from IPython.core.display import HTML \n",
    "L = [ df2.url_extracted[k[1]] for k in L1[:10] ] \n",
    "for i in L :\n",
    "    display(Image(url= i))\n",
    "    "
   ]
  },
  {
   "cell_type": "code",
   "execution_count": 278,
   "metadata": {},
   "outputs": [
    {
     "data": {
      "text/html": [
       "<img src=\"https://api.afp.com/objects/api/medias?id=a1kkIS0nShZdX1sxTF9RGkJYQkxZNm0ZCx0FcwdqAnZwHQMDcBsAAxQZCHcaDm8QFHxBXFFbQVdZLmxHSVULIl4hDSg8XFBAN1FnMC0iBFJUWFk1SkgZVl5VQF1YMS9ISlNHZ0YsVH4NSFYDN3ozK2I0VlVIC0kwUE5fWV1fRh5TPTJES1dHfAZzAXByBwMAcQ1wc3Q%3D.jpg\"/>"
      ],
      "text/plain": [
       "<IPython.core.display.Image object>"
      ]
     },
     "metadata": {},
     "output_type": "display_data"
    },
    {
     "data": {
      "text/html": [
       "<img src=\"https://api.afp.com/objects/api/medias?id=a1kkIS0nShZdX1sxTF9RGkJYQkxZNm0cDwMbcA98H3F1Bh4BfAZuBAIWZghjAwpxYwBlQFtTRlRZKikDU0JTflQsVH4uS19RNEckYzEvXQRGT1YkSV5RGFFcSFVTKzZAXEFVMhE0WSd4d1RWDXEgPTNgS1ZBUwU0TERXXl5fQlMQIDpdUEBRMgp0BnJ2BQQCdAJ1fHd0.jpg\"/>"
      ],
      "text/plain": [
       "<IPython.core.display.Image object>"
      ]
     },
     "metadata": {},
     "output_type": "display_data"
    },
    {
     "data": {
      "text/html": [
       "<img src=\"https://api.afp.com/objects/api/medias?id=a1kkIS0nShZdX1sxTF9RGkJYQkxZNm0cCgcbcwZwH3JyCh4BdAVuBAIWZghjAQAKDwBlQFtTRlRZKikDU0JTflQsVH4uS19RNEckYzEvXQRGT1YkSV5RGFFcSFVTKzZAXEFVMhE0WSd4ektXd0cPNypgS1ZBUwU0TERXXl5fQlMQIDpdUEBRMgp0BnJ2BQQCdAF4d3N1.jpg\"/>"
      ],
      "text/plain": [
       "<IPython.core.display.Image object>"
      ]
     },
     "metadata": {},
     "output_type": "display_data"
    },
    {
     "data": {
      "text/html": [
       "<img src=\"https://api.afp.com/objects/api/medias?id=a1kkIS0nShZdX1sxTF9RGkJYQkxZNm0cDwobcwJ1H3J3Bx4BcANuBAIWZghjAwpwCQBlQFtTRlRZKikDU0JTflQsVH4uS19RNEckYzEvXQRGT1YkSV5RGFFcSFVTKzZAXEFVMhE0WSd4d1RWDXEgPTNgS1ZBUwU0TERXXl5fQlMQIDpdUEBRMgp0BnJ2BQQCdAJ1fHdy.jpg\"/>"
      ],
      "text/plain": [
       "<IPython.core.display.Image object>"
      ]
     },
     "metadata": {},
     "output_type": "display_data"
    },
    {
     "data": {
      "text/html": [
       "<img src=\"https://api.afp.com/objects/api/medias?id=a1kkIS0nShZdX1sxTF9RGkJYQkxZNm0bCx0FdAJqAXRqAAAGa3UHFRt3dn4UZwFoaFhdVllcQlddayhdXg1XKFN4WzorU0FDIRI0LCB7UkBDV0g2XABXWVddSFZCKCdeWEESMF4hDXskVnRidwcsYzYpVVwQR00sWkZYWl1bC11ONStfXEEJcAF0A3RwAwgFdgZ5cQ%3D%3D.jpg\"/>"
      ],
      "text/plain": [
       "<IPython.core.display.Image object>"
      ]
     },
     "metadata": {},
     "output_type": "display_data"
    },
    {
     "data": {
      "text/html": [
       "<img src=\"https://api.afp.com/objects/api/medias?id=a1kkIS0nShZdX1sxTF9RGkJYQkxZNm0cCgIbcgVqCHRqAwUGa3UHFRt3dw4UBHFoaFhdVllcQlddayhdXg1XKFN4WzorU0FDIRI0LCB7UkBDV0g2XABXWVddSFZCKCdeWEESMF4hDQs%2FVQJDCkYvYzYpVVwQR00sWkZYWl1bC11ONStfXEEJcAF0A3RwAAEFfQVycg%3D%3D.jpg\"/>"
      ],
      "text/plain": [
       "<IPython.core.display.Image object>"
      ]
     },
     "metadata": {},
     "output_type": "display_data"
    },
    {
     "data": {
      "text/html": [
       "<img src=\"https://api.afp.com/objects/api/medias?id=a1kkIS0nShZdX1sxTF9RGkJYQkxZNm0cAAMbcAJ8H3F2Bh4EcRsAAxQZCHcVB3oTFHxBXFFbQVdZLmxHSVULIl4hDSg8XFBAN1FnMC0iBFJUWFk1SkgZVl5VQF1YMS9ISlNHZ0YsVH4NSFYDN3ozK2I0VlVIC0kwUE5fWV1fRh5TPTJES1dHfAZzAXByBwMAcQx3dnU%3D.jpg\"/>"
      ],
      "text/plain": [
       "<IPython.core.display.Image object>"
      ]
     },
     "metadata": {},
     "output_type": "display_data"
    },
    {
     "data": {
      "text/html": [
       "<img src=\"https://api.afp.com/objects/api/medias?id=a1kkIS0nShZdX1sxTF9RGkJYQkxZNm0fDAEbcAF1H3d3HQAIa3UHFRt3dnMYYHJoaFhdVllcQlddayhdXg1XKFN4WzorU0FDIRI0LCB7UkBDV0g2XABXWVddSFZCKCdeWEESMF4hDSUcdXx9EFcTYzYpVVwQR00sWkZYWl1bC11ONStfXEEJcAF0A3RwAwgEdQV2fA%3D%3D.jpg\"/>"
      ],
      "text/plain": [
       "<IPython.core.display.Image object>"
      ]
     },
     "metadata": {},
     "output_type": "display_data"
    },
    {
     "data": {
      "text/html": [
       "<img src=\"https://api.afp.com/objects/api/medias?id=a1kkIS0nShZdX1sxTF9RGkJYQkxZNm0cCh0FdgFqBXtqAQUfBXIRGnUJcw50bxUUTERXXl5fQlMYLzJKBlFdJQouSS0kQkJVYkEoIXktQFdMRksgFE5YUF9VQ0xbIDFMShRFKFN4VhoCf3xkJ2ZnNysqXARcQ1EmUkFbWlkWSEBGLDBISg8FdwZ2B3Z0CwUBdQF0.jpg\"/>"
      ],
      "text/plain": [
       "<IPython.core.display.Image object>"
      ]
     },
     "metadata": {},
     "output_type": "display_data"
    },
    {
     "data": {
      "text/html": [
       "<img src=\"https://api.afp.com/objects/api/medias?id=a1kkIS0nShZdX1sxTF9RGkJYQkxZNm0cCAIbdAVqBnRqCggfBXIRGnUIDgkUZhUUTERXXl5fQlMYLzJKBlFdJQouSS0kQkJVYkEoIXktQFdMRksgFE5YUF9VQ0xbIDFMShRFKFN4eXUHAHYJMXdnNysqXARcQ1EmUkFbWlkWSEBGLDBISg8FdwZ2B3Z3AgcBdQB4.jpg\"/>"
      ],
      "text/plain": [
       "<IPython.core.display.Image object>"
      ]
     },
     "metadata": {},
     "output_type": "display_data"
    }
   ],
   "source": [
    "df2.reset_index(drop=True,inplace=True)\n",
    "\n",
    "from IPython.display import Image\n",
    "from IPython.core.display import HTML \n",
    "L = [ df2.url_extracted[k[1]] for k in L2[:10] ] \n",
    "for i in L :\n",
    "    display(Image(url= i))"
   ]
  },
  {
   "cell_type": "code",
   "execution_count": null,
   "metadata": {},
   "outputs": [],
   "source": []
  },
  {
   "cell_type": "code",
   "execution_count": 229,
   "metadata": {},
   "outputs": [
    {
     "data": {
      "text/html": [
       "<img src=\"https://api.afp.com/objects/api/medias?id=a1kkIS0nShZdXlcxVgJEXV1EQksZd3YUFnNyEWh0eBJ9a3AedQRzcWkXTFBOXVQqVkYaX0JXEltfIX9GQFxVMUQgFjYsVgxbPVogNTcjFFpBU1UgV1lZUEFRXh5HLCYQXAB%2BeG0MXhVjQF5cIQkwMC0lUlVCWVNjXFVEXEBVXgUHc3MeDgcAdQBxCHB3.jpg\"/>"
      ],
      "text/plain": [
       "<IPython.core.display.Image object>"
      ]
     },
     "metadata": {},
     "output_type": "display_data"
    },
    {
     "data": {
      "text/html": [
       "<img src=\"https://api.afp.com/objects/api/medias?id=a1kkIS0nShZdX1sxTF9RGkJYQkxZNm0dDR0NdhhxAGx3AQYfBXIRGnUJaQFrYBUUTERXXl5fQlMYLzJKBlFdJQouSS0kQkJVYkEoIXktQFdMRksgFE5YUF9VQ0xbIDFMShRFKFN4VQkUAABBLENnNysqXARcQ1EmUkFbWlkWSEBGLDBISg8FdwZ2B3Z0CwIAdw1z.jpg\"/>"
      ],
      "text/plain": [
       "<IPython.core.display.Image object>"
      ]
     },
     "metadata": {},
     "output_type": "display_data"
    },
    {
     "data": {
      "text/html": [
       "<img src=\"https://api.afp.com/objects/api/medias?id=a1kkIS0nShZdXlcxVgJEXV1EQksZd3YZFnNyEWh0ew19e2YedQRzcWkXTFBOXVQqVkYaX0JXEltfIX9GQFxVMUQgFjYsVgxbPVogNTcjFFpBU1UgV1lZUEFRXh5HLCYQdHtiLEIqYg5jQF5cIQkwMC0lUlVCWVNjXFVEXEBVXgUHc3MeDgcAcQVzAXZ9.jpg\"/>"
      ],
      "text/plain": [
       "<IPython.core.display.Image object>"
      ]
     },
     "metadata": {},
     "output_type": "display_data"
    },
    {
     "data": {
      "text/html": [
       "<img src=\"https://api.afp.com/objects/api/medias?id=a1kkIS0nShZdXlcxVgJEXV1EQksZd3ceFnNyEWh0ew19dXoedQRzcWkXTFBOXVQqVkYaX0JXEltfIX9GQFxVMUQgFjYsVgxbPVogNTcjFFpBU1UgV1lZUEFRXh5HLCYQdHtiLEIqYg5jQF5cIQkwMC0lUlVCWVNjXFVEXEBVXgUHc3MeDgcAcQVzAXZz.jpg\"/>"
      ],
      "text/plain": [
       "<IPython.core.display.Image object>"
      ]
     },
     "metadata": {},
     "output_type": "display_data"
    },
    {
     "data": {
      "text/html": [
       "<img src=\"https://api.afp.com/objects/api/medias?id=a1kkIS0nShZdXlcxVgJEXV1EQksZd3IUFnNyEWh0ew19ZQQedQRzcWkXTFBOXVQqVkYaX0JXEltfIX9GQFxVMUQgFjYsVgxbPVogNTcjFFpBU1UgV1lZUEFRXh5HLCYQdHtiLEIqYg5jQF5cIQkwMC0lUlVCWVNjXFVEXEBVXgUHc3MeDgcAcQVzAXJx.jpg\"/>"
      ],
      "text/plain": [
       "<IPython.core.display.Image object>"
      ]
     },
     "metadata": {},
     "output_type": "display_data"
    },
    {
     "data": {
      "text/html": [
       "<img src=\"https://api.afp.com/objects/api/medias?id=a1kkIS0nShZdXlcxVgJEXV1EQksZdXcCeHRkHgYOfnsUex8BdAZ1aBUzUFpGWlcqUgNeRVUPTlFSeClUV1NEMlJjRSohD1pJKlUxNiFrWlVIW10rTUBRRlNDC0lfIX9gcGRZNFgXfWU3XV1VeUU0LCctVVZCXR4gQV1dR1dDEAkAdHEaDAYEcwF0AXM%3D.jpg\"/>"
      ],
      "text/plain": [
       "<IPython.core.display.Image object>"
      ]
     },
     "metadata": {},
     "output_type": "display_data"
    },
    {
     "data": {
      "text/html": [
       "<img src=\"https://api.afp.com/objects/api/medias?id=a1kkIS0nShZdX1sxTF9RGkJYQkxZNm0cDgEbcAByH3B8HQcBa3UHFRt3dAEYcn9oaFhdVllcQlddayhdXg1XKFN4WzorU0FDIRI0LCB7UkBDV0g2XABXWVddSFZCKCdeWEESMF4hDXUhcUEId2wjYzYpVVwQR00sWkZYWl1bC11ONStfXEEJcAF0A3RwAAAHdgN1fA%3D%3D.jpg\"/>"
      ],
      "text/plain": [
       "<IPython.core.display.Image object>"
      ]
     },
     "metadata": {},
     "output_type": "display_data"
    },
    {
     "data": {
      "text/html": [
       "<img src=\"https://api.afp.com/objects/api/medias?id=a1kkIS0nShZdX1sxTF9RGkJYQkxZNm0aAR0FdgZqAnF3HQQFa3UHFRt3dmkVdwtoaFhdVllcQlddayhdXg1XKFN4WzorU0FDIRI0LCB7UkBDV0g2XABXWVddSFZCKCdeWEESMF4hDSYPYwMBNVw2YzYpVVwQR00sWkZYWl1bC11ONStfXEEJcAF0A3RwAwgDdABxdA%3D%3D.jpg\"/>"
      ],
      "text/plain": [
       "<IPython.core.display.Image object>"
      ]
     },
     "metadata": {},
     "output_type": "display_data"
    },
    {
     "data": {
      "text/html": [
       "<img src=\"https://api.afp.com/objects/api/medias?id=a1kkIS0nShZdX1sxTF9RGkJYQkxZNm0cDgsbeQFqA3BqAAECa3UHFRt3dmkVdwxoaFhdVllcQlddayhdXg1XKFN4WzorU0FDIRI0LCB7UkBDV0g2XABXWVddSFZCKCdeWEESMF4hDSYPYwMBNVw2YzYpVVwQR00sWkZYWl1bC11ONStfXEEJcAF0A3RwAwgDdABxdA%3D%3D.jpg\"/>"
      ],
      "text/plain": [
       "<IPython.core.display.Image object>"
      ]
     },
     "metadata": {},
     "output_type": "display_data"
    },
    {
     "data": {
      "text/html": [
       "<img src=\"https://api.afp.com/objects/api/medias?id=a1kkIS0nShZdX1sxTF9RGkJYQkxZNm0fDAcbcAF3H3F0AR4CdhsAAxQZCHZ9Dn4cFHxBXFFbQVdZLmxHSVULIl4hDSg8XFBAN1FnMC0iBFJUWFk1SkgZVl5VQF1YMS9ISlNHZ0YsVH4geGACdUUpMmI0VlVIC0kwUE5fWV1fRh5TPTJES1dHfAZzAXByBwAJdwRyfHU%3D.jpg\"/>"
      ],
      "text/plain": [
       "<IPython.core.display.Image object>"
      ]
     },
     "metadata": {},
     "output_type": "display_data"
    }
   ],
   "source": []
  }
 ],
 "metadata": {
  "hide_input": false,
  "kernelspec": {
   "display_name": "Python 3",
   "language": "python",
   "name": "python3"
  },
  "language_info": {
   "codemirror_mode": {
    "name": "ipython",
    "version": 3
   },
   "file_extension": ".py",
   "mimetype": "text/x-python",
   "name": "python",
   "nbconvert_exporter": "python",
   "pygments_lexer": "ipython3",
   "version": "3.7.3"
  }
 },
 "nbformat": 4,
 "nbformat_minor": 2
}
