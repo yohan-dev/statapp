{
 "cells": [
  {
   "cell_type": "code",
   "execution_count": 10,
   "metadata": {},
   "outputs": [],
   "source": [
    "import pandas as pd\n",
    "import spacy\n",
    "import en_core_web_sm\n",
    "import random"
   ]
  },
  {
   "cell_type": "code",
   "execution_count": 5,
   "metadata": {},
   "outputs": [],
   "source": [
    "### Procédure de nettoyage ###\n",
    "data_raw = pd.read_csv('pictures_sample.csv')\n",
    "data_english = data_raw[data_raw.Language == 'EN']\n",
    "def author_del(text):\n",
    "    text_s = text\n",
    "    while(text_s[-1] != '\\n' and len(text_s) > 1): \n",
    "        text_s = text_s[:-1]\n",
    "    if(len(text_s) <= 1):\n",
    "        return(text)\n",
    "    return(text_s[:-1])\n",
    "data_english.Description = data_english.Description.apply(author_del)          \n",
    "data_english.drop_duplicates(subset='Description', keep='first', inplace=True)\n",
    "ind = list(data_english.index)\n",
    "##############################"
   ]
  },
  {
   "cell_type": "code",
   "execution_count": 6,
   "metadata": {},
   "outputs": [],
   "source": [
    "### Procédure de lecture ###\n",
    "ent_load = pd.read_pickle(\"ent.csv\")\n",
    "M = ent_load.to_numpy()\n",
    "M[M == None] = 0\n",
    "for i in range(M.shape[0]):\n",
    "    for j in range(M.shape[1]):\n",
    "        if M[i,j] == 0:\n",
    "            M[i,j] = []\n",
    "for i in range(M.shape[0]):\n",
    "    for j in range(M.shape[1]):\n",
    "        if M[i,j] != []:\n",
    "            M[i,j] = [M[i,j]]\n",
    "M = list(M.sum(axis = 1))\n",
    "scoring = pd.read_csv('scoring.csv', delimiter = \";\")\n",
    "dict_val = {}\n",
    "for i in range(48):\n",
    "    dict_val[scoring['function'][i]] = scoring['score_norm'][i]\n",
    "def dep_to_val(l):\n",
    "    L = []\n",
    "    for i in range(len(l)):\n",
    "        if l[i] in dict_val.keys():\n",
    "            L.append(dict_val[l[i]])\n",
    "        else:\n",
    "            L.append(0)\n",
    "    return(max(L))\n",
    "def final(l):\n",
    "    L = [] \n",
    "    for i in l:\n",
    "        ll = [] \n",
    "        for ii in i:\n",
    "            ll.append((ii[0], dep_to_val(ii[1])))\n",
    "        L.append(ll)\n",
    "    for i in range(len(L)):\n",
    "        name = L[i][0][0]\n",
    "        score = 0\n",
    "        for ii in L[i]:\n",
    "            score += ii[1]\n",
    "        L[i] = (name, score)\n",
    "    return(L)\n",
    "def clean_final(l):\n",
    "    L = []\n",
    "    for i in l:\n",
    "        ll = []\n",
    "        for ii in i:\n",
    "            if ii not in ll:\n",
    "                ll.append(ii)\n",
    "        L.append(ll)\n",
    "    return(L)\n",
    "M = [final(m) for m in M]\n",
    "M = clean_final(M)\n",
    "M = [dict(m) for m in M]\n",
    "############################"
   ]
  },
  {
   "cell_type": "code",
   "execution_count": 7,
   "metadata": {},
   "outputs": [],
   "source": [
    "# On définit le score entre deux descriptions comme la somme des moyennes des scores pour chaque entité contenue dans les deux\n",
    "# textes en même temps\n",
    "\n",
    "def similarity_text(s1, s2):\n",
    "    score = 0\n",
    "    for i in s1.keys():\n",
    "        if i in s2.keys():\n",
    "            score += (s1[i]+s2[i])/2\n",
    "    return(score)    "
   ]
  },
  {
   "cell_type": "code",
   "execution_count": 27,
   "metadata": {
    "scrolled": false
   },
   "outputs": [
    {
     "name": "stdout",
     "output_type": "stream",
     "text": [
      "0.5\n"
     ]
    }
   ],
   "source": [
    "# On affiche le score pour 100 descriptions aléatoires où le score est définit comme 1 si la description associée est la même\n",
    "# et 0 sinon\n",
    "\n",
    "r = []\n",
    "\n",
    "n = 100\n",
    "\n",
    "for _i in range(n):\n",
    "    num = random.randint(0, data_english.shape[0])\n",
    "    while(num in r):\n",
    "        num = random.randint(0, data_english.shape[0])\n",
    "    r.append(num)\n",
    "    \n",
    "somme = 0\n",
    "\n",
    "for i in range(n):\n",
    "    Scores = []\n",
    "    for j in range(data_english.shape[0]):\n",
    "        Scores.append(similarity_text(M[r[i]], M[j]))\n",
    "    if np.argmax(Scores) == r[i]:\n",
    "        somme += 1\n",
    "        \n",
    "score_moyen = somme/n\n",
    "\n",
    "print(score_moyen)"
   ]
  }
 ],
 "metadata": {
  "kernelspec": {
   "display_name": "Python 3",
   "language": "python",
   "name": "python3"
  },
  "language_info": {
   "codemirror_mode": {
    "name": "ipython",
    "version": 3
   },
   "file_extension": ".py",
   "mimetype": "text/x-python",
   "name": "python",
   "nbconvert_exporter": "python",
   "pygments_lexer": "ipython3",
   "version": "3.7.4"
  },
  "varInspector": {
   "cols": {
    "lenName": 16,
    "lenType": 16,
    "lenVar": 40
   },
   "kernels_config": {
    "python": {
     "delete_cmd_postfix": "",
     "delete_cmd_prefix": "del ",
     "library": "var_list.py",
     "varRefreshCmd": "print(var_dic_list())"
    },
    "r": {
     "delete_cmd_postfix": ") ",
     "delete_cmd_prefix": "rm(",
     "library": "var_list.r",
     "varRefreshCmd": "cat(var_dic_list()) "
    }
   },
   "types_to_exclude": [
    "module",
    "function",
    "builtin_function_or_method",
    "instance",
    "_Feature"
   ],
   "window_display": false
  }
 },
 "nbformat": 4,
 "nbformat_minor": 2
}
