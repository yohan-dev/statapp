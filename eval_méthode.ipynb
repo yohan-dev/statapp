{
 "cells": [
  {
   "cell_type": "code",
   "execution_count": 2,
   "metadata": {},
   "outputs": [],
   "source": [
    "import pandas as pd\n",
    "import spacy\n",
    "import en_core_web_sm\n",
    "import random"
   ]
  },
  {
   "cell_type": "code",
   "execution_count": 33,
   "metadata": {},
   "outputs": [
    {
     "name": "stderr",
     "output_type": "stream",
     "text": [
      "c:\\users\\dimit\\appdata\\local\\programs\\python\\python37\\lib\\site-packages\\IPython\\core\\interactiveshell.py:3057: DtypeWarning: Columns (3,21,22,33,35,39,43) have mixed types. Specify dtype option on import or set low_memory=False.\n",
      "  interactivity=interactivity, compiler=compiler, result=result)\n",
      "c:\\users\\dimit\\appdata\\local\\programs\\python\\python37\\lib\\site-packages\\pandas\\core\\generic.py:5096: SettingWithCopyWarning: \n",
      "A value is trying to be set on a copy of a slice from a DataFrame.\n",
      "Try using .loc[row_indexer,col_indexer] = value instead\n",
      "\n",
      "See the caveats in the documentation: http://pandas.pydata.org/pandas-docs/stable/indexing.html#indexing-view-versus-copy\n",
      "  self[name] = value\n",
      "c:\\users\\dimit\\appdata\\local\\programs\\python\\python37\\lib\\site-packages\\ipykernel_launcher.py:12: SettingWithCopyWarning: \n",
      "A value is trying to be set on a copy of a slice from a DataFrame\n",
      "\n",
      "See the caveats in the documentation: http://pandas.pydata.org/pandas-docs/stable/indexing.html#indexing-view-versus-copy\n",
      "  if sys.path[0] == '':\n"
     ]
    }
   ],
   "source": [
    "### Procédure de nettoyage ###\n",
    "data_raw = pd.read_csv('pictures_sample.csv')\n",
    "data_english = data_raw[data_raw.Language == 'EN']\n",
    "def author_del(text):\n",
    "    text_s = text\n",
    "    while(text_s[-1] != '\\n' and len(text_s) > 1): \n",
    "        text_s = text_s[:-1]\n",
    "    if(len(text_s) <= 1):\n",
    "        return(text)\n",
    "    return(text_s[:-1])\n",
    "data_english.Description = data_english.Description.apply(author_del)          \n",
    "data_english.drop_duplicates(subset='Description', keep='first', inplace=True)\n",
    "ind = list(data_english.index)\n",
    "##############################"
   ]
  },
  {
   "cell_type": "code",
   "execution_count": 54,
   "metadata": {},
   "outputs": [],
   "source": [
    "### Procédure de lecture ###\n",
    "ent_load = pd.read_pickle(\"ent.csv\")\n",
    "M = ent_load.to_numpy()\n",
    "M[M == None] = 0\n",
    "for i in range(M.shape[0]):\n",
    "    for j in range(M.shape[1]):\n",
    "        if M[i,j] == 0:\n",
    "            M[i,j] = []\n",
    "for i in range(M.shape[0]):\n",
    "    for j in range(M.shape[1]):\n",
    "        if M[i,j] != []:\n",
    "            M[i,j] = [M[i,j]]\n",
    "M = list(M.sum(axis = 1))\n",
    "def freq(L):\n",
    "    List = [l[0][0] for l in L]\n",
    "    List_unique = list(set(List))\n",
    "    freqs = []\n",
    "    for l in List_unique:\n",
    "        f = 0\n",
    "        for ll in List:\n",
    "            if l == ll:\n",
    "                f+=1\n",
    "        f /= len(List)\n",
    "        freqs.append(f)\n",
    "    freqs = [(List_unique[i], freqs[i]) for i in range(len(List_unique))]\n",
    "    return(dict(freqs))\n",
    "Freq = [freq(m) for m in M]\n",
    "scoring = pd.read_csv('scoring.csv', delimiter = \";\")\n",
    "dict_val = {}\n",
    "for i in range(48):\n",
    "    dict_val[scoring['function'][i]] = scoring['score_norm'][i]\n",
    "def dep_to_val(l):\n",
    "    L = []\n",
    "    for i in range(len(l)):\n",
    "        if l[i] in dict_val.keys():\n",
    "            L.append(dict_val[l[i]])\n",
    "        else:\n",
    "            L.append(0)\n",
    "    return(max(L))\n",
    "def final(l):\n",
    "    L = [] \n",
    "    for i in l:\n",
    "        ll = [] \n",
    "        for ii in i:\n",
    "            ll.append((ii[0], dep_to_val(ii[1])))\n",
    "        L.append(ll)\n",
    "    for i in range(len(L)):\n",
    "        name = L[i][0][0]\n",
    "        score = 0\n",
    "        for ii in L[i]:\n",
    "            score += ii[1]\n",
    "        L[i] = (name, score)\n",
    "    return(L)\n",
    "def clean_final(l):\n",
    "    L = []\n",
    "    for i in l:\n",
    "        ll = []\n",
    "        for ii in i:\n",
    "            if ii not in ll:\n",
    "                ll.append(ii)\n",
    "        L.append(ll)\n",
    "    return(L)\n",
    "M = [final(m) for m in M]\n",
    "M = clean_final(M)\n",
    "M = [dict(m) for m in M]\n",
    "############################"
   ]
  },
  {
   "cell_type": "code",
   "execution_count": 69,
   "metadata": {},
   "outputs": [],
   "source": [
    "# On définit le score entre deux descriptions comme la somme des moyennes des scores pour chaque entité contenue dans les deux\n",
    "# textes en même temps\n",
    "\n",
    "def similarity_text(s1, s2, a, b):\n",
    "    score = 0\n",
    "    for i in s1.keys():\n",
    "        if i in s2.keys():\n",
    "            score += (s1[i]+s2[i])/2 - abs(Freq[a][i]-Freq[b][i])/2\n",
    "    return(score)    "
   ]
  },
  {
   "cell_type": "code",
   "execution_count": 73,
   "metadata": {
    "scrolled": false
   },
   "outputs": [
    {
     "name": "stdout",
     "output_type": "stream",
     "text": [
      "0.98\n"
     ]
    }
   ],
   "source": [
    "# On crée une fonction qui renvoit les indices des n plus grands éléments de la liste\n",
    "\n",
    "def n_best(l, n):\n",
    "    return([j[0] for j in sorted([(i,l[i]) for i in range(len(l))],key=lambda tup: tup[1], reverse = True)[0:n+1]])\n",
    "\n",
    "# On affiche le score pour 100 descriptions aléatoires où le score est définit comme 1 si la description associée est la même\n",
    "# et 0 sinon\n",
    "\n",
    "r = []\n",
    "R = []\n",
    "D = []\n",
    "\n",
    "n = 100\n",
    "\n",
    "for _i in range(n):\n",
    "    num = random.randint(0, data_english.shape[0])\n",
    "    while(num in r):\n",
    "        num = random.randint(0, data_english.shape[0])\n",
    "    r.append(num)\n",
    "    \n",
    "somme = 0\n",
    "\n",
    "for i in range(n):\n",
    "    Scores = []\n",
    "    for j in range(data_english.shape[0]):\n",
    "        Scores.append(similarity_text(M[r[i]], M[j], r[i], j))\n",
    "    Scores_argmax = n_best(Scores, 100)\n",
    "    if r[i] in Scores_argmax:\n",
    "        somme += 1\n",
    "    else:\n",
    "        R.append(r[i])\n",
    "        D.append(Scores_argmax)\n",
    "        \n",
    "score_moyen = somme/n\n",
    "\n",
    "print(score_moyen)"
   ]
  },
  {
   "cell_type": "code",
   "execution_count": 74,
   "metadata": {
    "scrolled": true
   },
   "outputs": [
    {
     "name": "stdout",
     "output_type": "stream",
     "text": [
      "A metro driver take the start at an Athens' metro station on January 11, 2013.      AFP PHOTO / ARIS MESSINIS\n",
      "\n",
      "\n",
      "\n",
      "\n",
      "Protesters stand near the Athens court, during a demonstration in Athens on January 12, 2013. Several thousand people demonstrated in Athens to protest recent police operations against squatters in public buildings that have been condemned by the opposition. The protesters -- estimated by police at around 3,500 and nearly double that by media -- marched to the Athens court complex and police headquarters to demand the release of scores of individuals arrested in the sweeps. One of the central Athens buildings, a 19th-century former school, had been occupied for over two decades. The other is a stately block of flats whose former occupants include legendary soprano Maria Callas before her rise to fame. AFP PHOTO/ LOUISA GOULIAMAKI\n",
      "\n",
      "\n",
      "Protesters clash with the riot police during a demonstration in Athens on January 12, 2013. Several thousand people demonstrated in Athens to protest recent police operations against squatters in public buildings that have been condemned by the opposition. The protesters -- estimated by police at around 3,500 and nearly double that by media -- marched to the Athens court complex and police headquarters to demand the release of scores of individuals arrested in the sweeps. One of the central Athens buildings, a 19th-century former school, had been occupied for over two decades. The other is a stately block of flats whose former occupants include legendary soprano Maria Callas before her rise to fame. AFP PHOTO/ LOUISA GOULIAMAKI\n",
      "\n",
      "\n",
      "Protesters march behind a banner reading 'hands off the squats' in Athens on January 12, 2013. Several thousand people demonstrated in Athens to protest recent police operations against squatters in public buildings that have been condemned by the opposition. The protesters -- estimated by police at around 3,500 and nearly double that by media -- marched to the Athens court complex and police headquarters to demand the release of scores of individuals arrested in the sweeps. One of the central Athens buildings, a 19th-century former school, had been occupied for over two decades. The other is a stately block of flats whose former occupants include legendary soprano Maria Callas before her rise to fame. AFP PHOTO/ LOUISA GOULIAMAKI\n",
      "\n",
      "\n",
      "Protesters clash with police during a demonstration in Athens on January 12, 2013. Several thousand people demonstrated in Athens on January 12 to protest recent police operations against squatters in public buildings that have been condemned by the opposition. The protesters -- estimated by police at around 3,500 and nearly double that by media -- marched to the Athens court complex and police headquarters to demand the release of scores of individuals arrested in the sweeps. One of the central Athens buildings, a 19th-century former school, had been occupied for over two decades. The other is a stately block of flats whose former occupants include legendary soprano Maria Callas before her rise to fame.   AFP PHOTO/ LOUISA GOULIAMAKI\n",
      "\n",
      "\n",
      "Protesters march behind a banner reading 'hands off the squats' in Athens on January 12, 2013. Several thousand people demonstrated in Athens to protest recent police operations against squatters in public buildings that have been condemned by the opposition. The protesters -- estimated by police at around 3,500 and nearly double that by media -- marched to the Athens court complex and police headquarters to demand the release of scores of individuals arrested in the sweeps. One of the central Athens buildings, a 19th-century former school, had been occupied for over two decades. The other is a stately block of flats whose former occupants include legendary soprano Maria Callas before her rise to fame. AFP PHOTO/ Louisa Gouliamaki\n",
      "\n",
      "\n",
      "A protester marches behind a banner, during a demonstration in Athens on January 12, 2013. Several thousand people demonstrated in Athens on Saturday to protest recent police operations against squatters in public buildings that have been condemned by the opposition. The protesters -- estimated by police at around 3,500 and nearly double that by media -- marched to the Athens court complex and police headquarters to demand the release of scores of individuals arrested in the sweeps. One of the central Athens buildings, a 19th-century former school, had been occupied for over two decades. The other is a stately block of flats whose former occupants include legendary soprano Maria Callas before her rise to fame.  AFP PHOTO/ LOUISA GOULIAMAKI\n",
      "\n",
      "\n",
      "Thousands of Greek taxi owners and drivers march during an anti-government demonstration in Athens 24 September 2003. Hundreds of striking taxi drivers jammed traffic in downtown Athens stepping up protest against stricter regulations in advance of next year's Athens Olympics, while the government vowed to bring order into trade which it sad was discrediting Greece.        AFP PHOTO / FAYEZ NURELDINE\n",
      "\n",
      "\n",
      "A Greek taxi driver shouts anti-government slogans during a demonstration held by taxi drivers in Athens 24 September 2003. Hundreds of striking taxi drivers jammed traffic in downtown Athens stepping up protest against stricter regulations in advance of next year's Athens Olympics, while the government vowed to bring order into trade which it sad was discrediting Greece.          AFP PHOTO / FAYEZ NURELDINE\n",
      "\n",
      "\n",
      "A Greek man walks behind posters calling Greeks to demonstrate against a visit of US Secretary of State Colin Powell reading \"The assassin comes to Athens\" during a protest held in downtown Athens 16 October 2003. Powell is due to visit Athens October 22.  AFP PHOTO/ FAYEZ NURELDINE\n",
      "\n",
      "\n",
      "Greek women walk behind a poster calling Greeks to demonstrate against a visit of US Secretary of State Colin Powell reading \"The assassin comes to Athens\" during a protest held in downtown Athens 16 October 2003. Powell is due to visit Athens October 22.  AFP PHOTO/ FAYEZ NURELDINE\n",
      "\n",
      "\n"
     ]
    }
   ],
   "source": [
    "print(data_english.Description[ind[R[0]]])\n",
    "print('\\n')\n",
    "print('\\n')\n",
    "for i in range(10):\n",
    "    print(data_english.Description[ind[D[0][i]]])\n",
    "    print('\\n')"
   ]
  }
 ],
 "metadata": {
  "kernelspec": {
   "display_name": "Python 3",
   "language": "python",
   "name": "python3"
  },
  "language_info": {
   "codemirror_mode": {
    "name": "ipython",
    "version": 3
   },
   "file_extension": ".py",
   "mimetype": "text/x-python",
   "name": "python",
   "nbconvert_exporter": "python",
   "pygments_lexer": "ipython3",
   "version": "3.7.4"
  },
  "varInspector": {
   "cols": {
    "lenName": 16,
    "lenType": 16,
    "lenVar": 40
   },
   "kernels_config": {
    "python": {
     "delete_cmd_postfix": "",
     "delete_cmd_prefix": "del ",
     "library": "var_list.py",
     "varRefreshCmd": "print(var_dic_list())"
    },
    "r": {
     "delete_cmd_postfix": ") ",
     "delete_cmd_prefix": "rm(",
     "library": "var_list.r",
     "varRefreshCmd": "cat(var_dic_list()) "
    }
   },
   "types_to_exclude": [
    "module",
    "function",
    "builtin_function_or_method",
    "instance",
    "_Feature"
   ],
   "window_display": false
  }
 },
 "nbformat": 4,
 "nbformat_minor": 2
}
