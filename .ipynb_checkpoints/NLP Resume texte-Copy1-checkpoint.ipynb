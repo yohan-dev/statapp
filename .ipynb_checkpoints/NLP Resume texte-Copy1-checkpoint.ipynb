{
 "cells": [
  {
   "cell_type": "markdown",
   "metadata": {},
   "source": [
    "## NLP Resumé extractif\n"
   ]
  },
  {
   "cell_type": "code",
   "execution_count": 2,
   "metadata": {},
   "outputs": [],
   "source": [
    "import spacy \n",
    "from spacy.lang.en.stop_words import STOP_WORDS\n",
    "from string import punctuation\n"
   ]
  },
  {
   "cell_type": "code",
   "execution_count": 14,
   "metadata": {},
   "outputs": [
    {
     "data": {
      "text/plain": [
       "False"
      ]
     },
     "execution_count": 14,
     "metadata": {},
     "output_type": "execute_result"
    }
   ],
   "source": [
    "stopwords = list(STOP_WORDS)\n"
   ]
  },
  {
   "cell_type": "code",
   "execution_count": 22,
   "metadata": {},
   "outputs": [
    {
     "data": {
      "text/plain": [
       "'Machine learning (ML) is the scientific study of algorithms and statistical models that computer systems use to progressively improve their performance on a specific task. Machine learning algorithms build a mathematical model of sample data, known as \"training data\", in order to make predictions or decisions without being explicitly programmed to perform the task. Machine learning algorithms are used in the applications of email filtering, detection of network intruders, and computer vision, where it is infeasible to develop an algorithm of specific instructions for performing the task. Machine learning is closely related to computational statistics, which focuses on making predictions using computers. The study of mathematical optimization delivers methods, theory and application domains to the field of machine learning. Data mining is a field of study within machine learning, and focuses on exploratory data analysis through unsupervised learning.In its application across business problems, machine learning is also referred to as predictive analytics.'"
      ]
     },
     "execution_count": 22,
     "metadata": {},
     "output_type": "execute_result"
    }
   ],
   "source": [
    "# Two examples to sum up\n",
    "\n",
    "document1 =\"\"\"Machine learning (ML) is the scientific study of algorithms and statistical models that computer systems use to progressively improve their performance on a specific task. Machine learning algorithms build a mathematical model of sample data, known as \"training data\", in order to make predictions or decisions without being explicitly programmed to perform the task. Machine learning algorithms are used in the applications of email filtering, detection of network intruders, and computer vision, where it is infeasible to develop an algorithm of specific instructions for performing the task. Machine learning is closely related to computational statistics, which focuses on making predictions using computers. The study of mathematical optimization delivers methods, theory and application domains to the field of machine learning. Data mining is a field of study within machine learning, and focuses on exploratory data analysis through unsupervised learning.In its application across business problems, machine learning is also referred to as predictive analytics.\"\"\"\n",
    "document2 = \"\"\"Our Father who art in heaven, hallowed be thy name. Thy kingdom come. Thy will be done, on earth as it is in heaven. Give us this day our daily bread; and forgive us our trespasses, as we forgive those who trespass against us; and lead us not into temptation, but deliver us from evil\n",
    "\"\"\"\n",
    "document1"
   ]
  },
  {
   "cell_type": "code",
   "execution_count": 25,
   "metadata": {},
   "outputs": [],
   "source": [
    "nlp = spacy.load('en_core_web_sm')\n",
    "docx = nlp(document1)\n",
    "# Tokenisation of Text \n",
    "mytokens = [token.text for token in docx]\n"
   ]
  },
  {
   "cell_type": "code",
   "execution_count": 27,
   "metadata": {},
   "outputs": [
    {
     "data": {
      "text/plain": [
       "Machine"
      ]
     },
     "execution_count": 27,
     "metadata": {},
     "output_type": "execute_result"
    }
   ],
   "source": [
    "docx[0]"
   ]
  },
  {
   "cell_type": "code",
   "execution_count": 32,
   "metadata": {},
   "outputs": [],
   "source": [
    "# Create a word frequency table \n",
    "word_frequencies = {}\n",
    "for word in docx: \n",
    "    \n",
    "    if word.text not in stopwords: # word.text == str(word)\n",
    "        if word.text not in word_frequencies.keys():\n",
    "            \n",
    "            word_frequencies[word.text] =1 \n",
    "        else : \n",
    "            word_frequencies[word.text] += 1 \n",
    "            \n",
    "            "
   ]
  },
  {
   "cell_type": "code",
   "execution_count": 38,
   "metadata": {},
   "outputs": [],
   "source": [
    "maximum_frequency = max(word_frequencies.values())\n",
    "for word in word_frequencies.keys():  \n",
    "        word_frequencies[word] = (word_frequencies[word]/maximum_frequency)"
   ]
  },
  {
   "cell_type": "code",
   "execution_count": 51,
   "metadata": {},
   "outputs": [
    {
     "data": {
      "text/plain": [
       "15"
      ]
     },
     "execution_count": 51,
     "metadata": {},
     "output_type": "execute_result"
    }
   ],
   "source": [
    "# Sentence token ( decoupage des phrases )\n",
    "sentence_list = [ s for s in docx.sents]\n",
    "len(sentence_list[3].text.split(' '))"
   ]
  },
  {
   "cell_type": "code",
   "execution_count": 77,
   "metadata": {},
   "outputs": [
    {
     "name": "stdout",
     "output_type": "stream",
     "text": [
      "2\n"
     ]
    }
   ],
   "source": [
    "# Sentence score  \n",
    "# somme de chaque frequence d'un mot pour chaque phrase \n",
    "sentence_scores = {}  \n",
    "for sent in sentence_list:  \n",
    "        for word in sent:\n",
    "            if word.text.lower() in word_frequencies.keys(): # filter les stopwords\n",
    "                if len(sent.text.split(' ')) < 30:\n",
    "                    if sent not in sentence_scores.keys():\n",
    "                        sentence_scores[sent] = word_frequencies[word.text.lower()]\n",
    "                    else:\n",
    "                        sentence_scores[sent] += word_frequencies[word.text.lower()]\n",
    "                        \n"
   ]
  },
  {
   "cell_type": "code",
   "execution_count": 112,
   "metadata": {},
   "outputs": [
    {
     "data": {
      "text/plain": [
       "{Machine learning (ML) is the scientific study of algorithms and statistical models that computer systems use to progressively improve their performance on a specific task.: 4.555555555555556,\n",
       " Machine learning algorithms build a mathematical model of sample data, known as \"training data\", in order to make predictions or decisions without being explicitly programmed to perform the task.: 7.333333333333331,\n",
       " Machine learning is closely related to computational statistics, which focuses on making predictions using computers.: 4.111111111111112,\n",
       " The study of mathematical optimization delivers methods, theory and application domains to the field of machine learning.: 4.555555555555556,\n",
       " Data mining is a field of study within machine learning, and focuses on exploratory data analysis through unsupervised learning.: 5.777777777777778,\n",
       " In its application across business problems, machine learning is also referred to as predictive analytics.: 3.7777777777777777}"
      ]
     },
     "execution_count": 112,
     "metadata": {},
     "output_type": "execute_result"
    }
   ],
   "source": [
    "sentence_scores1 = {}  \n",
    "for sent in sentence_list:  \n",
    "        for word in sent:\n",
    "            if word.text.lower() in word_frequencies.keys(): # filter les stopwords\n",
    "               \n",
    "                    if sent not in sentence_scores1.keys():\n",
    "                        sentence_scores1[sent] = word_frequencies[word.text.lower()]\n",
    "                    else:\n",
    "                        sentence_scores1[sent] += word_frequencies[word.text.lower()]\n",
    "                        \n",
    "sentence_scores"
   ]
  },
  {
   "cell_type": "code",
   "execution_count": 111,
   "metadata": {},
   "outputs": [
    {
     "data": {
      "text/plain": [
       "[Machine learning algorithms are used in the applications of email filtering, detection of network intruders, and computer vision, where it is infeasible to develop an algorithm of specific instructions for performing the task.,\n",
       " Machine learning algorithms build a mathematical model of sample data, known as \"training data\", in order to make predictions or decisions without being explicitly programmed to perform the task.]"
      ]
     },
     "execution_count": 111,
     "metadata": {},
     "output_type": "execute_result"
    }
   ],
   "source": [
    "# Findind top N sentence with largest score\n",
    "# Better way for finding n greater elements of a list ( dictionnaries etc... )\n",
    "import heapq  \n",
    "from heapq import nlargest \n",
    "summarized_sentences = nlargest(7, sentence_scores , key=sentence_scores.get)\n",
    "summarized_sentences1 = nlargest(2, sentence_scores1 , key=sentence_scores1.get)\n",
    "summarized_sentences1"
   ]
  },
  {
   "cell_type": "code",
   "execution_count": 109,
   "metadata": {},
   "outputs": [
    {
     "data": {
      "text/plain": [
       "'Machine learning algorithms build a mathematical model of sample data, known as \"training data\", in order to make predictions or decisions without being explicitly programmed to perform the task. Data mining is a field of study within machine learning, and focuses on exploratory data analysis through unsupervised learning. Machine learning (ML) is the scientific study of algorithms and statistical models that computer systems use to progressively improve their performance on a specific task. The study of mathematical optimization delivers methods, theory and application domains to the field of machine learning. Machine learning is closely related to computational statistics, which focuses on making predictions using computers. In its application across business problems, machine learning is also referred to as predictive analytics.'"
      ]
     },
     "execution_count": 109,
     "metadata": {},
     "output_type": "execute_result"
    }
   ],
   "source": [
    "final_sentences = [ w.text for w in summarized_sentences ]\n",
    "final_sentences1 = [ w.text for w in summarized_sentences1 ]\n",
    "\n",
    "summary1 = ' '.join(final_sentences1)\n",
    "\n",
    "summary = ' '.join(final_sentences)\n"
   ]
  },
  {
   "cell_type": "code",
   "execution_count": 125,
   "metadata": {},
   "outputs": [
    {
     "data": {
      "text/plain": [
       "'Machine learning algorithms build a mathematical model of sample data, known as \"training data\", in order to make predictions or decisions without being explicitly programmed to perform the task.'"
      ]
     },
     "execution_count": 125,
     "metadata": {},
     "output_type": "execute_result"
    }
   ],
   "source": [
    "# Autre méthode utilisant le package gensim \n",
    "from gensim.summarization import summarize\n",
    "summarize(document1)\n"
   ]
  },
  {
   "cell_type": "markdown",
   "metadata": {},
   "source": [
    "## Création de la fonction sum_up \n",
    "* Concaténation des points vus précédemment"
   ]
  },
  {
   "cell_type": "code",
   "execution_count": 144,
   "metadata": {},
   "outputs": [],
   "source": [
    "def sum_up(text): \n",
    "    docx = nlp(text)\n",
    "    word_frequencies = {}\n",
    "    for word in docx: \n",
    "    \n",
    "        if word.text not in stopwords: # word.text == str(word)\n",
    "            if word.text not in word_frequencies.keys():\n",
    "\n",
    "                word_frequencies[word.text] =1 \n",
    "            else : \n",
    "                word_frequencies[word.text] += 1 \n",
    "    maximum_frequency = max(word_frequencies.values())\n",
    "    for word in word_frequencies.keys():  \n",
    "        word_frequencies[word] = (word_frequencies[word]/maximum_frequency)\n",
    "    sentence_list = [ s for s in docx.sents]\n",
    "    sentence_scores = {}  \n",
    "    #print(len(sentence_list))\n",
    "    for sent in sentence_list:  \n",
    "        for word in sent:\n",
    "            if word.text.lower() in word_frequencies.keys(): # filter les stopwords\n",
    "              #  if len(sent.text.split(' ')) < 30:  # Longueur des phrases ( seuil arbitraire)\n",
    "                    if sent not in sentence_scores.keys():\n",
    "                        sentence_scores[sent] = word_frequencies[word.text.lower()]\n",
    "                    else:\n",
    "                        sentence_scores[sent] += word_frequencies[word.text.lower()]\n",
    "                        \n",
    "    n = max(int(0.2*len(sentence_list)),1)\n",
    "   # print(sentence_scores)\n",
    "    summarized_sentences = nlargest(n, sentence_scores , key=sentence_scores.get)\n",
    "    final_sentences = [ w.text for w in summarized_sentences ]\n",
    "    summary = ' '.join(final_sentences)\n",
    "    \n",
    "    return summary\n",
    "\n",
    "\n",
    "\n",
    "\n",
    "    "
   ]
  },
  {
   "cell_type": "markdown",
   "metadata": {},
   "source": [
    "Résumer un article du guardian \n",
    "https://www.theguardian.com/society/2020/feb/05/alarm-raised-at-hancock-hospital-self-injecting-doctor-whistleblower-scandal "
   ]
  },
  {
   "cell_type": "code",
   "execution_count": 145,
   "metadata": {},
   "outputs": [
    {
     "data": {
      "text/plain": [
       "'In an anonymous letter to widower Jon Warby, the whistleblower told him that the self-injecting doctor was later present when medical blunders were made before the death of his 57-year-old wife, Susan, in August 2018. On the self-injecting doctor she said: “The individual no longer works at the trust, but as part of our duty of care support was provided to ensure they were fit and well to be at work during their time here.” After we first revealed the trust’s tactics, managers delivered written apologies “for the stress and upset caused” to all staff involved and said it “no intention of pursuing fingerprint requests further”. A letter from a consultant sent to the trust’s medical director Dr Nick Jenkins in March 2018, confirmed there was “a great deal of concern” after the self-injecting episode was logged as a patient safety incident. Dozens of staff had accessed Warby’s hospital records, but it was those who had expressed concern about the drug taking doctor who were asked to provide fingerprint and handwriting samples, insiders claim. A doctor said: “Staff who were asked for their fingerprints were the doctors who had raised concerns about the drug-injecting doctor. She said: “In these complex cases, an independent review with maximum transparency is the right way forward, and we are in support of this approach.”'"
      ]
     },
     "execution_count": 145,
     "metadata": {},
     "output_type": "execute_result"
    }
   ],
   "source": [
    "\n",
    "article_guardian = \"A whistleblower raised the alarm over patient safety at Matt Hancock’s local hospital because of concerns about the behaviour of a doctor who had been seen injecting himself with drugs, the Guardian can reveal.The incident had already prompted internal complaints from senior staff at West Suffolk hospital, but the whistleblower decided to take matters a step further when the same doctor was later involved in a potentially botched operation. The whistleblower then wrote to relatives of a dead patient and urged them to ask questions about conduct of the doctor and his background. When they did this, the hospital launched what has been called an “unprecedented” witch-hunt in an attempt to find out the identity of the leaker. The doctor’s drug use which the trust has never acknowledged until now, helps explain why it demanded fingerprint and handwriting samples from staff – tactics which the NHS regulator roundly condemned in a hard-hitting report last week. Last month Hancock ordered the trust to undergo a rapid review from which he recused himself after failing to act on doctors concerns about bullying. In an anonymous letter to widower Jon Warby, the whistleblower told him that the self-injecting doctor was later present when medical blunders were made before the death of his 57-year-old wife, Susan, in August 2018. The letter said: “He had injected himself with drugs before, while in charge of a patient and it was all hushed up.” “You need to ask questions about this doctor and what investigations had been [made] about him before. We think there is a big cover up.” Consultants at the trust had already raised the alarm about the doctor’s use of injected drugs could pose a risk to patients by impairing his judgment and coordination. But rather than address the criticism of its handling of the problem, the trust’s management launched an extraordinary hunt to identify the whistleblower. The Care Quality Commission described the lengths to which hospital was going to find the whistleblower were “unprecedented and concerning” as it handed out its biggest ever rating downgrade. It said the “questionable” tactics left doctors feeling intimidated, at loggerheads with bosses who it said was too focused on who sent the letter rather than why they had done so. One doctor at the trust told the Guardian “more than 10 people felt really concerned” about the doctor’s behaviour after he was seen injecting himself intravenously with magnesium sulphate and another drug used as painkiller. They claimed the trust failed to properly respond to the incident and offer the doctor appropriate support and time off work. A letter from a consultant sent to the trust’s medical director Dr Nick Jenkins in March 2018, confirmed there was “a great deal of concern” after the self-injecting episode was logged as a patient safety incident. The letter, one of four formal complaints on the issue, said: “Rapid IV administration of magnesium can cause arrhythmias and hypotension and it is only given in this way in monitored patients. The self-administration of this drug intravenously whilst being on call can therefore only put patient safety at risk.” It recommended that the doctor be given a “a period of leave whilst doubts are put to rest”. A trust investigation into the incident found the doctor had done no harm to patients. The General Medical Council was informed but recommended no disciplinary sanctions. Dozens of staff had accessed Warby’s hospital records, but it was those who had expressed concern about the drug taking doctor who were asked to provide fingerprint and handwriting samples, insiders claim. A doctor said: “Staff who were asked for their fingerprints were the doctors who had raised concerns about the drug-injecting doctor. Many colleagues raised concerns about him and his patient’s safety, that were ignored.” The Guardian can also disclose that the trust is still trying to discipline a suspected whistleblower using handwriting samples and demands for fingerprints despite being heavily criticised for it by CQC and publicly stating it had stopped using the tactics. After we first revealed the trust’s tactics, managers delivered written apologies “for the stress and upset caused” to all staff involved and said it “no intention of pursuing fingerprint requests further”. Despite this public display of contrition, bosses have since refused to drop disciplinary action against a doctor accused of being the mole on the basis of handwriting samples and their refusal to provide fingerprints. The trust’s chief executive, Steve Dunn, personally assured a meeting of consultants that the management would no longer be using handwriting and fingerprints to pursue the matter. But a consultant remains formally accused of writing the anonymous letter on the basis of handwriting samples and a continuing refusal to provide fingerprints. A doctor said: “There is no contrition. The trust continued to pursue an aggressive and intimidatory campaign based on biometrics culminating in accusing an entirely blameless individual.” A spokeswoman for the trust refused to discuss the investigation directly but pointed out that it was now subject to the rapid review, being overseen by health minister Edward Argar. She said: “In these complex cases, an independent review with maximum transparency is the right way forward, and we are in support of this approach.” On the self-injecting doctor she said: “The individual no longer works at the trust, but as part of our duty of care support was provided to ensure they were fit and well to be at work during their time here.” The doctor’s lawyer refused to comment. The letter to Warby prompted Suffolk’s senior coroner to refer the drug claim to the police. Suffolk police decided not to investigate after establishing that no illegal drugs were involved.\"\n",
    "sum_up(article_guardian)\n"
   ]
  },
  {
   "cell_type": "code",
   "execution_count": 146,
   "metadata": {},
   "outputs": [
    {
     "data": {
      "text/plain": [
       "'A whistleblower raised the alarm over patient safety at Matt Hancock’s local hospital because of concerns about the behaviour of a doctor who had been seen injecting himself with drugs, the Guardian can reveal.The incident had already prompted internal complaints from senior staff at West Suffolk hospital, but the whistleblower decided to take matters a step further when the same doctor was later involved in a potentially botched operation.\\nThe letter said: “He had injected himself with drugs before, while in charge of a patient and it was all hushed up.” “You need to ask questions about this doctor and what investigations had been [made] about him before.\\nA letter from a consultant sent to the trust’s medical director Dr Nick Jenkins in March 2018, confirmed there was “a great deal of concern” after the self-injecting episode was logged as a patient safety incident.\\nDozens of staff had accessed Warby’s hospital records, but it was those who had expressed concern about the drug taking doctor who were asked to provide fingerprint and handwriting samples, insiders claim.\\nMany colleagues raised concerns about him and his patient’s safety, that were ignored.” The Guardian can also disclose that the trust is still trying to discipline a suspected whistleblower using handwriting samples and demands for fingerprints despite being heavily criticised for it by CQC and publicly stating it had stopped using the tactics.\\nBut a consultant remains formally accused of writing the anonymous letter on the basis of handwriting samples and a continuing refusal to provide fingerprints.'"
      ]
     },
     "execution_count": 146,
     "metadata": {},
     "output_type": "execute_result"
    }
   ],
   "source": [
    "# Avec le package gen\n",
    "summarize(article_guardian)"
   ]
  }
 ],
 "metadata": {
  "hide_input": false,
  "kernelspec": {
   "display_name": "Python 3",
   "language": "python",
   "name": "python3"
  },
  "language_info": {
   "codemirror_mode": {
    "name": "ipython",
    "version": 3
   },
   "file_extension": ".py",
   "mimetype": "text/x-python",
   "name": "python",
   "nbconvert_exporter": "python",
   "pygments_lexer": "ipython3",
   "version": "3.7.3"
  }
 },
 "nbformat": 4,
 "nbformat_minor": 2
}
