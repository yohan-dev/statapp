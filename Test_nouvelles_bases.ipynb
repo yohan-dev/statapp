{
 "cells": [
  {
   "cell_type": "code",
   "execution_count": 1,
   "metadata": {},
   "outputs": [
    {
     "name": "stderr",
     "output_type": "stream",
     "text": [
      "/Users/ya/miniconda3/lib/python3.7/site-packages/IPython/core/interactiveshell.py:3049: DtypeWarning: Columns (10,15,17,23,24,29,30,37) have mixed types. Specify dtype option on import or set low_memory=False.\n",
      "  interactivity=interactivity, compiler=compiler, result=result)\n"
     ]
    }
   ],
   "source": [
    "import pandas as pd\n",
    "\n",
    "photos = pd.read_csv('photos.csv',encoding='latin-1')\n",
    "depeches = pd.read_csv('depeches.csv')\n",
    "score_photos = pd.read_csv(\"scores_freq_photos1.csv\")\n",
    "score_depeches = pd.read_csv(\"scores_freq_depeches.csv\")"
   ]
  },
  {
   "cell_type": "code",
   "execution_count": 2,
   "metadata": {},
   "outputs": [],
   "source": [
    "pd.set_option(\"display.max_colwidth\",100)\n",
    "pd.set_option(\"display.max_columns\",500)\n"
   ]
  },
  {
   "cell_type": "code",
   "execution_count": 6,
   "metadata": {},
   "outputs": [],
   "source": [
    "photos.dropna(subset=['event'], inplace= True)\n",
    "depeches.drop_duplicates(subset=['news2','event'], keep='first', inplace=True)\n",
    "depeches.shape\n",
    "photos.drop_duplicates(subset='caption', keep='first', inplace=True)\n",
    "photos.shape\n",
    "def author_del_photos(text):\n",
    "    text_s = text\n",
    "    while(text_s[-7:] != ' / AFP ' and len(text_s) > 1): \n",
    "        text_s = text_s[:-1]\n",
    "    if(len(text_s) <= 1):\n",
    "        return(text)\n",
    "    return(text_s[:-7])\n",
    "photos.caption = photos.caption.apply(author_del_photos)      \n",
    "depeches.news2 = depeches.news2.apply(lambda x: x.replace('\\n', ' '))"
   ]
  },
  {
   "cell_type": "code",
   "execution_count": 7,
   "metadata": {},
   "outputs": [
    {
     "name": "stdout",
     "output_type": "stream",
     "text": [
      "13335\n",
      "16052\n"
     ]
    }
   ],
   "source": [
    "liste_ev_unique_depeches, liste_ev_unique_photos = [],[]\n",
    "for ev in depeches.event:\n",
    "    for _ev in ev[1:-1].replace(\"'\",\"\").split(', '):\n",
    "        if _ev not in liste_ev_unique_depeches:\n",
    "            liste_ev_unique_depeches.append(_ev)\n",
    "print(len(liste_ev_unique_depeches))\n",
    "liste_ev_unique_photos = []\n",
    "for ev in photos.event:\n",
    "\n",
    "    for _ev in ev[1:-1].replace(\"'\",\"\").split(', '):\n",
    "        if _ev not in liste_ev_unique_photos:\n",
    "            liste_ev_unique_photos.append(_ev)\n",
    "print(len(liste_ev_unique_photos))"
   ]
  },
  {
   "cell_type": "code",
   "execution_count": 8,
   "metadata": {},
   "outputs": [
    {
     "name": "stdout",
     "output_type": "stream",
     "text": [
      "Il y a 10356  evenements parmi 13335  evenements dans depeches qui ne sont pas dans photos\n",
      "Il y a 13073  evenements parmi  16052  dans photos qui ne sont pas dans depeches\n"
     ]
    }
   ],
   "source": [
    "# Combien d'evenements sont dans depeches mais pas dans  photos? \n",
    "c=0 \n",
    "for k in liste_ev_unique_depeches:\n",
    "    if k not in liste_ev_unique_photos:\n",
    "        c+=1 \n",
    "print( \"Il y a\",c,\" evenements parmi\", len(liste_ev_unique_depeches),\" evenements dans depeches qui ne sont pas dans photos\")\n",
    "\n",
    "c=0 \n",
    "for k in liste_ev_unique_photos:\n",
    "    if k not in liste_ev_unique_depeches:\n",
    "        c+=1 \n",
    "print( \"Il y a\",c,\" evenements parmi \", len(liste_ev_unique_photos),\" dans photos qui ne sont pas dans depeches\")\n",
    "# Combien de depeches ont des evenements dans photos ? \n"
   ]
  },
  {
   "cell_type": "code",
   "execution_count": 9,
   "metadata": {},
   "outputs": [
    {
     "name": "stderr",
     "output_type": "stream",
     "text": [
      "/Users/ya/miniconda3/lib/python3.7/site-packages/ipykernel_launcher.py:6: TqdmDeprecationWarning: This function will be removed in tqdm==5.0.0\n",
      "Please use `tqdm.notebook.tqdm` instead of `tqdm.tqdm_notebook`\n",
      "  \n"
     ]
    },
    {
     "data": {
      "application/vnd.jupyter.widget-view+json": {
       "model_id": "b9dbc2eaf33f4233892b2deefe2cfcc5",
       "version_major": 2,
       "version_minor": 0
      },
      "text/plain": [
       "HBox(children=(FloatProgress(value=0.0, max=19858.0), HTML(value='')))"
      ]
     },
     "metadata": {},
     "output_type": "display_data"
    },
    {
     "name": "stdout",
     "output_type": "stream",
     "text": [
      "\n"
     ]
    },
    {
     "data": {
      "text/plain": [
       "10137"
      ]
     },
     "execution_count": 9,
     "metadata": {},
     "output_type": "execute_result"
    }
   ],
   "source": [
    "# Combien de depeches ont au moins un evenement en commun avec une photo  ? \n",
    "# Index_inter est l'index des depeches qui ont au moins un evenement en commun avec une photo. \n",
    "from tqdm import tqdm_notebook\n",
    "c= 0 \n",
    "index_inter = []\n",
    "for i in tqdm_notebook((depeches.index)):\n",
    "    L = depeches.event[i][1:-1].replace(\"'\",\"\").split(', ')\n",
    "    nb = len(L)\n",
    "    for j in L:\n",
    "        if j in liste_ev_unique_photos and nb>1:\n",
    "            c+=1\n",
    "            index_inter.append(i)\n",
    "            break\n",
    "        if j in liste_ev_unique_photos and nb==1:\n",
    "            c+=1\n",
    "            index_inter.append(i)\n",
    "c\n",
    "     "
   ]
  },
  {
   "cell_type": "code",
   "execution_count": null,
   "metadata": {},
   "outputs": [],
   "source": [
    "index_inter"
   ]
  },
  {
   "cell_type": "markdown",
   "metadata": {},
   "source": [
    "# Test d'association des depeches avec des photos\n",
    ">  Pour les 100 premieres depeches."
   ]
  },
  {
   "cell_type": "code",
   "execution_count": 10,
   "metadata": {},
   "outputs": [
    {
     "name": "stderr",
     "output_type": "stream",
     "text": [
      "/Users/ya/miniconda3/lib/python3.7/site-packages/ipykernel_launcher.py:4: TqdmDeprecationWarning: This function will be removed in tqdm==5.0.0\n",
      "Please use `tqdm.notebook.tqdm` instead of `tqdm.tqdm_notebook`\n",
      "  after removing the cwd from sys.path.\n"
     ]
    },
    {
     "data": {
      "application/vnd.jupyter.widget-view+json": {
       "model_id": "b59e3a2f4af94ad79963be2ce25d4117",
       "version_major": 2,
       "version_minor": 0
      },
      "text/plain": [
       "HBox(children=(FloatProgress(value=0.0, max=150536.0), HTML(value='')))"
      ]
     },
     "metadata": {},
     "output_type": "display_data"
    },
    {
     "name": "stdout",
     "output_type": "stream",
     "text": [
      "\n"
     ]
    }
   ],
   "source": [
    "from tqdm import tqdm_notebook as tq\n",
    "import ast \n",
    "liste_scores1_photos=[]\n",
    "for string in tq(score_photos.scores):\n",
    "    liste_scores1_photos.append(ast.literal_eval(string))   \n",
    "\n",
    "#liste_scores1_depeches=[]\n",
    "#for string in score_depeches.scores:\n",
    "#    liste_scores2.append(ast.literal_eval(string))    "
   ]
  },
  {
   "cell_type": "code",
   "execution_count": 11,
   "metadata": {},
   "outputs": [],
   "source": [
    "def normaliser_dict(l):\n",
    "    for dico in l:\n",
    "        if len(dico) != 0 :\n",
    "            m = max(dico.values())\n",
    "            if m >0 : # Possible que m =0 si description en Francais...\n",
    "                for k in dico.keys():\n",
    "                    dico[k] /= m \n",
    "                    \n",
    "normaliser_dict(liste_scores1_photos)\n"
   ]
  },
  {
   "cell_type": "code",
   "execution_count": 12,
   "metadata": {},
   "outputs": [
    {
     "name": "stderr",
     "output_type": "stream",
     "text": [
      "/Users/ya/miniconda3/lib/python3.7/importlib/_bootstrap.py:219: RuntimeWarning: spacy.morphology.Morphology size changed, may indicate binary incompatibility. Expected 104 from C header, got 112 from PyObject\n",
      "  return f(*args, **kwds)\n",
      "/Users/ya/miniconda3/lib/python3.7/importlib/_bootstrap.py:219: RuntimeWarning: spacy.vocab.Vocab size changed, may indicate binary incompatibility. Expected 96 from C header, got 104 from PyObject\n",
      "  return f(*args, **kwds)\n"
     ]
    },
    {
     "data": {
      "text/plain": [
       "<spacy.lang.en.English at 0x149d207b8>"
      ]
     },
     "execution_count": 12,
     "metadata": {},
     "output_type": "execute_result"
    }
   ],
   "source": [
    "import spacy \n",
    "import neuralcoref\n",
    "#Toute cette cellule est issue de l'autre notebook (création du csv) et permet donc d'avoir toutes les fonctions\n",
    "#définies dans ce dernier à disposition.\n",
    "\n",
    "\n",
    "#On importe le fichier contenant les scores de chaque fonction grammaticale\n",
    "scoring = pd.read_csv('scoring.csv', delimiter = \";\")\n",
    "dict_val = {}\n",
    "\n",
    "for i in range(48):\n",
    "    dict_val[scoring['function'][i]] = scoring['score_norm'][i]\n",
    "\n",
    "#On importe un modèle md pour avoir des mots vectorisés\n",
    "nlp=spacy.load(\"en_core_web_md\")  \n",
    "neuralcoref.add_to_pipe(nlp,greedyness=0.5)"
   ]
  },
  {
   "cell_type": "code",
   "execution_count": 13,
   "metadata": {},
   "outputs": [],
   "source": [
    "def dep_ent(ent, doc):\n",
    "    \"\"\" Retourne la fonction grammaticale :  la 'dep', d'une entité. Cette fonction est nécessaire car elle permet d'affecter\n",
    "    une dep à une entité composée de plusieurs mots ayant chacun une dep de base.\n",
    "    Traite aussi le cas particulier des mots étant des conj ou des compound : leur vrai dep et celle du mot auxquels\n",
    "    ils sont associés en tant que conj ou compound.\"\"\"\n",
    "    start= ent.start\n",
    "    end=ent.end\n",
    "    for k in range(start,end):\n",
    "        if doc[k].head.text not in ent.text: \n",
    "            if doc[k].dep_=='conj':     \n",
    "                tok=doc[k]            \n",
    "                while tok.dep_=='conj':\n",
    "                    tok=tok.head      \n",
    "                return(tok.dep_)\n",
    "            \n",
    "            if doc[k].dep_=='compound':   \n",
    "                tok=doc[k]            \n",
    "                while tok.dep_=='compound':\n",
    "                    tok=tok.head      \n",
    "                return(tok.dep_)\n",
    "            return(doc[k].dep_)    \n",
    "    return doc[start].dep_\n",
    "\n",
    "## RAJOUT DE FAC\n",
    "def ent_good_type(ent): #filtre les entités selon leur type \n",
    "    return (ent.label_ == \"PERSON\"or ent.label_ == \"NORP\" or ent.label_ == \"ORG\" or ent.label_ == \"GPE\" or ent.label_ == \"EVENT\" or ent.label_ == \"LOC\" or ent.label_ == \"FAC\")\n",
    "\n",
    "def sort_ent(doc):\n",
    "    \"\"\"Retourne la liste des entités en les filtrant selon leur type et en les triant de manière à avoir au début de\n",
    "    la liste les entités ayant des coréférences.\"\"\"\n",
    "    ent_coref=[ent for ent in doc.ents if ent._.is_coref and ent_good_type(ent)]\n",
    "    ent_vanilla=[ent for ent in doc.ents if ent_good_type(ent) and not ent._.is_coref]\n",
    "    return ent_coref + ent_vanilla\n",
    "\n",
    "def scores_doc(doc):\n",
    "    \"\"\"Retourne le score de chaque entité pour la méthode sans neuralcoref.\"\"\"\n",
    "    res={}\n",
    "    for ent in doc.ents:\n",
    "        if ent.text not in res.keys():\n",
    "            res[ent.text]=dict_val[dep_ent(ent,doc)]\n",
    "        else:\n",
    "            res[ent.text]+=dict_val[dep_ent(ent,doc)]\n",
    "    return res\n",
    "\n",
    "def scores_doc_coref1(doc):\n",
    "    \"\"\"Retourne le score de chaque entité pour la méthode de base opérée sur le document resolved.\n",
    "    Le document resolved est le document de base dans lequel toutes les références à un groupe de mot sont remplacées\n",
    "    par celui-ci.\n",
    "    Par exemple : My dad is home. He watches TV devient My dad is home. My dad watches TV.\n",
    "    En raisonnant avec le nlp sur le document resolved, le nlp va détecter beaucoup plus de fois la même entité.\n",
    "    Le principal inconvénient est que toutes les références sont remplacées, y compris celles qui ne sont pas associées \n",
    "    à des entités mais plutôt à des très longs bouts de phrase qui sont repris par un pronom comme \"it\"  \"\"\"\n",
    "    \n",
    "    doc=nlp(doc._.coref_resolved)\n",
    "    res={}\n",
    "    for ent in doc.ents:\n",
    "        if ent_good_type(ent):\n",
    "            if ent.text not in res.keys():\n",
    "                res[ent.text]=dict_val[dep_ent(ent,doc)]\n",
    "            else:\n",
    "                res[ent.text]+=dict_val[dep_ent(ent,doc)]\n",
    "    #normaliser_dict\n",
    "    if len(res) != 0 :\n",
    "        m = max(res.values())\n",
    "    if m >0 : # Possible que m =0 si description en Francais...\n",
    "        for k in res.keys():\n",
    "            res[k] /= m \n",
    "\n",
    "    return res\n",
    "\n",
    "def is_in_cluster(ent,cluster):  #détermine si une entité est dans une des mentions d'un cluster\n",
    "    for span in cluster.mentions:\n",
    "        if ent.text in span.text:\n",
    "            return True\n",
    "    return False\n",
    "\n",
    "\n",
    "\n",
    "def freq_dict(L):\n",
    "    n = len(L)\n",
    "    L_unique = list(set(L))\n",
    "    d = {}\n",
    "    for a in L_unique:\n",
    "        for b in L:\n",
    "            if a == b:\n",
    "                if a in d.keys():\n",
    "                    d[a] += 1/n\n",
    "                else:\n",
    "                    d[a] = 1/n\n",
    "    return(d)"
   ]
  },
  {
   "cell_type": "code",
   "execution_count": 14,
   "metadata": {},
   "outputs": [],
   "source": [
    "\n",
    "def score_sim1(doc,score_doc,k):\n",
    "    \"\"\"Prend en paramètre un doc, le fichier de scores associés à ce doc et un entier k correspondant à l'indice de la \n",
    "    description avec laquelle on veut comparer le doc. Retourne le score de similarité entre le doc et la description.\n",
    "    Ici on calcule le score avec la méthode neuralcoref1 : on utilise liste_scores1.\"\"\"\n",
    "    res=0\n",
    "    score_image=liste_scores1_photos[k]\n",
    "    for i in score_doc.keys():\n",
    "        if i in score_image.keys():\n",
    "            res += (score_doc[i]+score_image[i])/2 #- abs(freq_doc[i]-freq_image[i])/2\n",
    "    return res\n",
    "\n",
    "def score_sim11(doc,score_doc,k):\n",
    "    \"\"\"Prend en paramètre un doc, le fichier de scores associés à ce doc et un entier k correspondant à l'indice de la \n",
    "    description avec laquelle on veut comparer le doc. Retourne le score de similarité entre le doc et la description.\n",
    "    Ici on calcule le score avec la méthode neuralcoref1 : on utilise liste_scores1.\n",
    "    Rajout d'une pénalité par entité différentes \n",
    "    \"\"\"\n",
    "    res=0\n",
    "    score_image=liste_scores1_photos[k]\n",
    "    for i in score_doc.keys():\n",
    "        if i in score_image.keys():\n",
    "            res += (score_doc[i]+score_image[i])/2 #- abs(freq_doc[i]-freq_image[i])/2\n",
    "    score_image_tri = tri_dict(score_image)\n",
    "    c = 0 \n",
    "    for i in score_image_tri.keys():\n",
    "        c+=1\n",
    "        if i not in score_doc.keys():\n",
    "            \n",
    "            res -= 1/(c+1)**2\n",
    "        \n",
    "    return res\n",
    "\n",
    "\n",
    "def related_descr(doc):\n",
    "    \"\"\"Retourne la liste des indices correspondant aux descriptions ayant au moins 1 entité en commun avec le doc.\n",
    "    Permet d'effectuer moins de comparaison dans la fonction best_image.\"\"\"\n",
    "    index_list=[]\n",
    "    for k in range(len(liste_scores1_photos)):\n",
    "        for ent in doc.ents:\n",
    "            if ent.text in liste_scores1_photos[k].keys():\n",
    "                index_list.append(k)\n",
    "                break\n",
    "    return index_list\n",
    "\n",
    "def best_image1(doc):\n",
    "    \"\"\"Retourne l'indice de l'image dont la description correspond le plus au doc passé en paramètre.\n",
    "    La correspondance (matching) se fait avec score_sim1.\"\"\"\n",
    "    best_score=0\n",
    "    best_descr=0\n",
    "    score_doc=scores_doc_coref1(doc)\n",
    "    for k in related_descr(doc):\n",
    "        if score_sim1(doc,score_doc,k) > best_score:\n",
    "            best_score=score_sim1(doc,score_doc,k)\n",
    "            best_descr=k\n",
    "    return best_descr\n",
    "\n",
    "\n",
    "\n",
    "def best_image11(doc):\n",
    "    \"\"\"Retourne l'indice de l'image dont la description correspond le plus au doc passé en paramètre.\n",
    "    La correspondance (matching) se fait avec score_sim1.\"\"\"\n",
    "    best_score=0\n",
    "    best_descr=0\n",
    "    score_doc=scores_doc_coref1(doc)\n",
    "    for k in related_descr(doc):\n",
    "        if score_sim11(doc,score_doc,k) > best_score:\n",
    "            best_score=score_sim11(doc,score_doc,k)\n",
    "            best_descr=k\n",
    "    return best_descr\n"
   ]
  },
  {
   "cell_type": "code",
   "execution_count": 15,
   "metadata": {},
   "outputs": [],
   "source": [
    "photos['index'] = range(photos.shape[0])\n",
    "photos.set_index('index',inplace=True)"
   ]
  },
  {
   "cell_type": "code",
   "execution_count": 16,
   "metadata": {},
   "outputs": [
    {
     "data": {
      "text/plain": [
       "11100"
      ]
     },
     "execution_count": 16,
     "metadata": {},
     "output_type": "execute_result"
    }
   ],
   "source": [
    "def tri_dict(d): \n",
    "    \"\"\"Tri décroissant \"\"\"\n",
    "\n",
    "    d_sort = {}\n",
    "    for k,v in sorted(d.items(), key =lambda x :x[1], reverse= True):\n",
    "        d_sort[k]=v\n",
    "    return d_sort\n",
    "    \n",
    "best_image11(nlp(depeches.news2[4]))"
   ]
  },
  {
   "cell_type": "code",
   "execution_count": 17,
   "metadata": {},
   "outputs": [
    {
     "name": "stdout",
     "output_type": "stream",
     "text": [
      "CPU times: user 6 µs, sys: 0 ns, total: 6 µs\n",
      "Wall time: 9.78 µs\n"
     ]
    }
   ],
   "source": [
    "%%time\n",
    "def event_commun(k): \n",
    "    L = []\n",
    "    event = depeches.event[k][1:-1].split((','))\n",
    "    for c in event: \n",
    "        for i in range(photos.shape[0]):\n",
    "            if c in (photos.event[i][1:-1].split(',')):\n",
    "                L.append(i)\n",
    "    return L\n",
    "            \n"
   ]
  },
  {
   "cell_type": "code",
   "execution_count": 18,
   "metadata": {},
   "outputs": [],
   "source": [
    "def best_images(k, malus):\n",
    "    \"\"\" Retourne les  meilleures ( best score) photos de la k eme dépèche\"\"\"\n",
    "    doc = nlp(depeches.news2[k])\n",
    "    L_score =[]\n",
    "    score_doc=scores_doc_coref1(doc)\n",
    "    if malus : \n",
    "        for k in related_descr(doc):\n",
    "            L_score.append( (score_sim11(doc,score_doc,k),k)) \n",
    "    else : \n",
    "         for k in related_descr(doc):\n",
    "            L_score.append( (score_sim1(doc,score_doc,k),k)) \n",
    "    L_score.sort(reverse=True)\n",
    "    \n",
    "    return L_score\n"
   ]
  },
  {
   "cell_type": "markdown",
   "metadata": {},
   "source": [
    "### Comment tester : \n",
    "> Chaque point un nouveau compteur\n",
    "*  Compter un si la meilleure photo a des evenements en commun avec la depeche\n",
    "*  Compter un si une des 10 meilleures photos a des evenements en commun avec la depèche \n",
    "*  De meme avec 5. \n",
    "*  Faire le graphe la position de la premiere photo ayant un evenement en commun \n",
    "*  Faire la différence des scores entre la meilleure photo et la meilleure photo ayant un evenement en commun."
   ]
  },
  {
   "cell_type": "code",
   "execution_count": 25,
   "metadata": {},
   "outputs": [
    {
     "name": "stderr",
     "output_type": "stream",
     "text": [
      "/Users/ya/miniconda3/lib/python3.7/site-packages/ipykernel_launcher.py:7: TqdmDeprecationWarning: This function will be removed in tqdm==5.0.0\n",
      "Please use `tqdm.notebook.tqdm` instead of `tqdm.tqdm_notebook`\n",
      "  import sys\n"
     ]
    },
    {
     "data": {
      "application/vnd.jupyter.widget-view+json": {
       "model_id": "e81ce673c8374fdab79ec0f0b6a604d7",
       "version_major": 2,
       "version_minor": 0
      },
      "text/plain": [
       "HBox(children=(FloatProgress(value=0.0, max=50.0), HTML(value='')))"
      ]
     },
     "metadata": {},
     "output_type": "display_data"
    },
    {
     "name": "stdout",
     "output_type": "stream",
     "text": [
      "\n",
      "CPU times: user 11min 11s, sys: 4.54 s, total: 11min 16s\n",
      "Wall time: 11min 13s\n"
     ]
    }
   ],
   "source": [
    "%%time\n",
    "import matplotlib.pyplot as plt\n",
    "P = []\n",
    "c1 = 0 \n",
    "c2 = 0 \n",
    "c3 = 0 \n",
    "index_inter.remove(60)\n",
    "for k in tqdm_notebook(index_inter[:50]):\n",
    "    liste_event_commun = event_commun(k)\n",
    "    L = best_images(k,True)\n",
    "   \n",
    "    if  L != [] :\n",
    "        if L[0][1] in liste_event_commun:\n",
    "                c1+=1\n",
    "        position = -1000\n",
    "        j=0\n",
    "        while position == -1000 and j<len(L):\n",
    "\n",
    "            if L[j][1] in liste_event_commun:\n",
    "                position = j + 1\n",
    "                score_com = L[j][0]\n",
    "\n",
    "            j+=1\n",
    "        if position<=5 and position != -1000: \n",
    "            c2+=1\n",
    "        if position<=10 and position != -1000:\n",
    "            c3+=1\n",
    "        P.append(position)\n",
    "\n",
    "        \n",
    "    \n",
    "    \n",
    "    \n"
   ]
  },
  {
   "cell_type": "code",
   "execution_count": 26,
   "metadata": {},
   "outputs": [
    {
     "data": {
      "image/png": "[encoded data removed]",
      "text/plain": [
       "<Figure size 432x288 with 1 Axes>"
      ]
     },
     "metadata": {
      "needs_background": "light"
     },
     "output_type": "display_data"
    }
   ],
   "source": [
    "plt.xlabel(\"dépèches\")  \n",
    "plt.ylabel(\"Position de la meilleure photo ayant un event en commun \")\n",
    "plt.plot(range(len(P)),P)  \n",
    "plt.show()\n",
    "    \n"
   ]
  },
  {
   "cell_type": "code",
   "execution_count": 27,
   "metadata": {},
   "outputs": [
    {
     "name": "stdout",
     "output_type": "stream",
     "text": [
      "Nombre perfect match 2 \n",
      " <=5 5  \n",
      " <=10 8  sur 50 photos\n"
     ]
    }
   ],
   "source": [
    "print(\"Nombre perfect match\" , c1, \"\\n <=5\", c2 , \" \\n <=10\", c3 , \" sur 50 photos\" )"
   ]
  },
  {
   "cell_type": "code",
   "execution_count": 28,
   "metadata": {},
   "outputs": [
    {
     "name": "stderr",
     "output_type": "stream",
     "text": [
      "/Users/ya/miniconda3/lib/python3.7/site-packages/ipykernel_launcher.py:3: TqdmDeprecationWarning: This function will be removed in tqdm==5.0.0\n",
      "Please use `tqdm.notebook.tqdm` instead of `tqdm.tqdm_notebook`\n",
      "  This is separate from the ipykernel package so we can avoid doing imports until\n"
     ]
    },
    {
     "data": {
      "application/vnd.jupyter.widget-view+json": {
       "model_id": "dacec8ba9cef43ef9f42ab6c1b73d8e9",
       "version_major": 2,
       "version_minor": 0
      },
      "text/plain": [
       "HBox(children=(FloatProgress(value=0.0), HTML(value='')))"
      ]
     },
     "metadata": {},
     "output_type": "display_data"
    },
    {
     "ename": "UnboundLocalError",
     "evalue": "local variable 'm' referenced before assignment",
     "output_type": "error",
     "traceback": [
      "\u001b[0;31m---------------------------------------------------------------------------\u001b[0m",
      "\u001b[0;31mUnboundLocalError\u001b[0m                         Traceback (most recent call last)",
      "\u001b[0;32m<timed exec>\u001b[0m in \u001b[0;36m<module>\u001b[0;34m\u001b[0m\n",
      "\u001b[0;32m<ipython-input-18-dda392bad78d>\u001b[0m in \u001b[0;36mbest_images\u001b[0;34m(k, malus)\u001b[0m\n\u001b[1;32m      3\u001b[0m     \u001b[0mdoc\u001b[0m \u001b[0;34m=\u001b[0m \u001b[0mnlp\u001b[0m\u001b[0;34m(\u001b[0m\u001b[0mdepeches\u001b[0m\u001b[0;34m.\u001b[0m\u001b[0mnews2\u001b[0m\u001b[0;34m[\u001b[0m\u001b[0mk\u001b[0m\u001b[0;34m]\u001b[0m\u001b[0;34m)\u001b[0m\u001b[0;34m\u001b[0m\u001b[0;34m\u001b[0m\u001b[0m\n\u001b[1;32m      4\u001b[0m     \u001b[0mL_score\u001b[0m \u001b[0;34m=\u001b[0m\u001b[0;34m[\u001b[0m\u001b[0;34m]\u001b[0m\u001b[0;34m\u001b[0m\u001b[0;34m\u001b[0m\u001b[0m\n\u001b[0;32m----> 5\u001b[0;31m     \u001b[0mscore_doc\u001b[0m\u001b[0;34m=\u001b[0m\u001b[0mscores_doc_coref1\u001b[0m\u001b[0;34m(\u001b[0m\u001b[0mdoc\u001b[0m\u001b[0;34m)\u001b[0m\u001b[0;34m\u001b[0m\u001b[0;34m\u001b[0m\u001b[0m\n\u001b[0m\u001b[1;32m      6\u001b[0m     \u001b[0;32mif\u001b[0m \u001b[0mmalus\u001b[0m \u001b[0;34m:\u001b[0m\u001b[0;34m\u001b[0m\u001b[0;34m\u001b[0m\u001b[0m\n\u001b[1;32m      7\u001b[0m         \u001b[0;32mfor\u001b[0m \u001b[0mk\u001b[0m \u001b[0;32min\u001b[0m \u001b[0mrelated_descr\u001b[0m\u001b[0;34m(\u001b[0m\u001b[0mdoc\u001b[0m\u001b[0;34m)\u001b[0m\u001b[0;34m:\u001b[0m\u001b[0;34m\u001b[0m\u001b[0;34m\u001b[0m\u001b[0m\n",
      "\u001b[0;32m<ipython-input-13-3db8c37d154b>\u001b[0m in \u001b[0;36mscores_doc_coref1\u001b[0;34m(doc)\u001b[0m\n\u001b[1;32m     63\u001b[0m     \u001b[0;32mif\u001b[0m \u001b[0mlen\u001b[0m\u001b[0;34m(\u001b[0m\u001b[0mres\u001b[0m\u001b[0;34m)\u001b[0m \u001b[0;34m!=\u001b[0m \u001b[0;36m0\u001b[0m \u001b[0;34m:\u001b[0m\u001b[0;34m\u001b[0m\u001b[0;34m\u001b[0m\u001b[0m\n\u001b[1;32m     64\u001b[0m         \u001b[0mm\u001b[0m \u001b[0;34m=\u001b[0m \u001b[0mmax\u001b[0m\u001b[0;34m(\u001b[0m\u001b[0mres\u001b[0m\u001b[0;34m.\u001b[0m\u001b[0mvalues\u001b[0m\u001b[0;34m(\u001b[0m\u001b[0;34m)\u001b[0m\u001b[0;34m)\u001b[0m\u001b[0;34m\u001b[0m\u001b[0;34m\u001b[0m\u001b[0m\n\u001b[0;32m---> 65\u001b[0;31m     \u001b[0;32mif\u001b[0m \u001b[0mm\u001b[0m \u001b[0;34m>\u001b[0m\u001b[0;36m0\u001b[0m \u001b[0;34m:\u001b[0m \u001b[0;31m# Possible que m =0 si description en Francais...\u001b[0m\u001b[0;34m\u001b[0m\u001b[0;34m\u001b[0m\u001b[0m\n\u001b[0m\u001b[1;32m     66\u001b[0m         \u001b[0;32mfor\u001b[0m \u001b[0mk\u001b[0m \u001b[0;32min\u001b[0m \u001b[0mres\u001b[0m\u001b[0;34m.\u001b[0m\u001b[0mkeys\u001b[0m\u001b[0;34m(\u001b[0m\u001b[0;34m)\u001b[0m\u001b[0;34m:\u001b[0m\u001b[0;34m\u001b[0m\u001b[0;34m\u001b[0m\u001b[0m\n\u001b[1;32m     67\u001b[0m             \u001b[0mres\u001b[0m\u001b[0;34m[\u001b[0m\u001b[0mk\u001b[0m\u001b[0;34m]\u001b[0m \u001b[0;34m/=\u001b[0m \u001b[0mm\u001b[0m\u001b[0;34m\u001b[0m\u001b[0;34m\u001b[0m\u001b[0m\n",
      "\u001b[0;31mUnboundLocalError\u001b[0m: local variable 'm' referenced before assignment"
     ]
    }
   ],
   "source": [
    "%%time\n",
    "import matplotlib.pyplot as plt\n",
    "\n",
    "for k in tqdm_notebook(index_inter[50:150]):\n",
    "    liste_event_commun = event_commun(k)\n",
    "    L = best_images(k,True)\n",
    "   \n",
    "    if  L != [] :\n",
    "        if L[0][1] in liste_event_commun:\n",
    "                c1+=1\n",
    "        position = -1000\n",
    "        j=0\n",
    "        while position == -1000 and j<len(L):\n",
    "\n",
    "            if L[j][1] in liste_event_commun:\n",
    "                position = j + 1\n",
    "                score_com = L[j][0]\n",
    "\n",
    "            j+=1\n",
    "        if position<=5 and position != -1000: \n",
    "            c2+=1\n",
    "        if position<=10 and position != -1000:\n",
    "            c3+=1\n",
    "        P.append(position)\n",
    "\n",
    "        "
   ]
  },
  {
   "cell_type": "code",
   "execution_count": 29,
   "metadata": {},
   "outputs": [
    {
     "data": {
      "image/png": "[encoded data removed]",
      "text/plain": [
       "<Figure size 432x288 with 1 Axes>"
      ]
     },
     "metadata": {
      "needs_background": "light"
     },
     "output_type": "display_data"
    }
   ],
   "source": [
    "plt.xlabel(\"dépèches\")  \n",
    "plt.ylabel(\"Position de la meilleure photo ayant un event en commun \")\n",
    "plt.plot(range(len(P)),P)  \n",
    "plt.show()\n",
    "    "
   ]
  },
  {
   "cell_type": "code",
   "execution_count": 30,
   "metadata": {},
   "outputs": [
    {
     "name": "stdout",
     "output_type": "stream",
     "text": [
      "Nombre perfect match 3 \n",
      " <=5 8  \n",
      " <=10 13  sur 150 photos\n"
     ]
    }
   ],
   "source": [
    "print(\"Nombre perfect match\" , c1, \"\\n <=5\", c2 , \" \\n <=10\", c3 , \" sur 150 photos\" )"
   ]
  }
 ],
 "metadata": {
  "hide_input": false,
  "kernelspec": {
   "display_name": "Python 3",
   "language": "python",
   "name": "python3"
  },
  "language_info": {
   "codemirror_mode": {
    "name": "ipython",
    "version": 3
   },
   "file_extension": ".py",
   "mimetype": "text/x-python",
   "name": "python",
   "nbconvert_exporter": "python",
   "pygments_lexer": "ipython3",
   "version": "3.7.3"
  }
 },
 "nbformat": 4,
 "nbformat_minor": 2
}
