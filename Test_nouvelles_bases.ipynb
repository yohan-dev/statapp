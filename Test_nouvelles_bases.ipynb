{
 "cells": [
  {
   "cell_type": "code",
   "execution_count": 6,
   "metadata": {},
   "outputs": [
    {
     "name": "stderr",
     "output_type": "stream",
     "text": [
      "/Users/ya/miniconda3/lib/python3.7/site-packages/IPython/core/interactiveshell.py:3049: DtypeWarning: Columns (10,15,17,23,24,29,30,37) have mixed types. Specify dtype option on import or set low_memory=False.\n",
      "  interactivity=interactivity, compiler=compiler, result=result)\n"
     ]
    }
   ],
   "source": [
    "import pandas as pd\n",
    "\n",
    "photos = pd.read_csv('photos.csv',encoding='latin-1')\n",
    "depeches = pd.read_csv('depeches.csv')\n",
    "score_photos = pd.read_csv(\"scores_freq_photos1.csv\")\n",
    "score_depeches = pd.read_csv(\"scores_freq_depeches.csv\")"
   ]
  },
  {
   "cell_type": "code",
   "execution_count": 7,
   "metadata": {},
   "outputs": [],
   "source": [
    "import pandas as pd\n",
    "\n",
    "score_photos = pd.read_csv(\"scores_freq_photos1.csv\")\n",
    "#score_depeches = pd.read_csv(\"scores_freq_depeches.csv\")\n",
    "#score_depeches"
   ]
  },
  {
   "cell_type": "code",
   "execution_count": 4,
   "metadata": {},
   "outputs": [
    {
     "data": {
      "text/plain": [
       "(150536, 3)"
      ]
     },
     "execution_count": 4,
     "metadata": {},
     "output_type": "execute_result"
    }
   ],
   "source": [
    "score_photos.shape"
   ]
  },
  {
   "cell_type": "code",
   "execution_count": 2,
   "metadata": {},
   "outputs": [],
   "source": [
    "pd.set_option(\"display.max_colwidth\",100)\n",
    "pd.set_option(\"display.max_columns\",500)\n"
   ]
  },
  {
   "cell_type": "code",
   "execution_count": 8,
   "metadata": {},
   "outputs": [],
   "source": [
    "photos.dropna(subset=['event'], inplace= True)\n",
    "depeches.drop_duplicates(subset=['news2','event'], keep='first', inplace=True)\n",
    "depeches.shape\n",
    "photos.drop_duplicates(subset='caption', keep='first', inplace=True)\n",
    "photos.shape\n",
    "def author_del_photos(text):\n",
    "    text_s = text\n",
    "    while(text_s[-7:] != ' / AFP ' and len(text_s) > 1): \n",
    "        text_s = text_s[:-1]\n",
    "    if(len(text_s) <= 1):\n",
    "        return(text)\n",
    "    return(text_s[:-7])\n",
    "photos.caption = photos.caption.apply(author_del_photos)      \n",
    "depeches.news2 = depeches.news2.apply(lambda x: x.replace('\\n', ' '))"
   ]
  },
  {
   "cell_type": "code",
   "execution_count": 9,
   "metadata": {},
   "outputs": [
    {
     "name": "stdout",
     "output_type": "stream",
     "text": [
      "13335\n",
      "16055\n"
     ]
    }
   ],
   "source": [
    "liste_ev_unique_depeches, liste_ev_unique_photos = [],[]\n",
    "for ev in depeches.event:\n",
    "    for _ev in ev[1:-1].replace(\"'\",\"\").split(', '):\n",
    "        if _ev not in liste_ev_unique_depeches:\n",
    "            liste_ev_unique_depeches.append(_ev)\n",
    "print(len(liste_ev_unique_depeches))\n",
    "liste_ev_unique_photos = []\n",
    "for ev in photos.event:\n",
    "\n",
    "    for _ev in ev[1:-1].replace(\"'\",\"\").split(', '):\n",
    "        if _ev not in liste_ev_unique_photos:\n",
    "            liste_ev_unique_photos.append(_ev)\n",
    "print(len(liste_ev_unique_photos))"
   ]
  },
  {
   "cell_type": "code",
   "execution_count": 10,
   "metadata": {},
   "outputs": [
    {
     "name": "stdout",
     "output_type": "stream",
     "text": [
      "Il y a 10356  evenements parmi 13335  evenements dans depeches qui ne sont pas dans photos\n",
      "Il y a 13076  evenements parmi  16055  dans photos qui ne sont pas dans depeches\n"
     ]
    }
   ],
   "source": [
    "# Combien d'evenements sont dans depeches mais pas dans  photos? \n",
    "c=0 \n",
    "for k in liste_ev_unique_depeches:\n",
    "    if k not in liste_ev_unique_photos:\n",
    "        c+=1 \n",
    "print( \"Il y a\",c,\" evenements parmi\", len(liste_ev_unique_depeches),\" evenements dans depeches qui ne sont pas dans photos\")\n",
    "\n",
    "c=0 \n",
    "for k in liste_ev_unique_photos:\n",
    "    if k not in liste_ev_unique_depeches:\n",
    "        c+=1 \n",
    "print( \"Il y a\",c,\" evenements parmi \", len(liste_ev_unique_photos),\" dans photos qui ne sont pas dans depeches\")\n",
    "# Combien de depeches ont des evenements dans photos ? \n"
   ]
  },
  {
   "cell_type": "code",
   "execution_count": 11,
   "metadata": {},
   "outputs": [
    {
     "name": "stderr",
     "output_type": "stream",
     "text": [
      "/Users/ya/miniconda3/lib/python3.7/site-packages/ipykernel_launcher.py:6: TqdmDeprecationWarning: This function will be removed in tqdm==5.0.0\n",
      "Please use `tqdm.notebook.tqdm` instead of `tqdm.tqdm_notebook`\n",
      "  \n"
     ]
    },
    {
     "data": {
      "application/vnd.jupyter.widget-view+json": {
       "model_id": "34a07d2f0d9c4223873d7f4dadc095c0",
       "version_major": 2,
       "version_minor": 0
      },
      "text/plain": [
       "HBox(children=(FloatProgress(value=0.0, max=19858.0), HTML(value='')))"
      ]
     },
     "metadata": {},
     "output_type": "display_data"
    },
    {
     "name": "stdout",
     "output_type": "stream",
     "text": [
      "\n"
     ]
    },
    {
     "data": {
      "text/plain": [
       "10137"
      ]
     },
     "execution_count": 11,
     "metadata": {},
     "output_type": "execute_result"
    }
   ],
   "source": [
    "# Combien de depeches ont au moins un evenement en commun avec une photo  ? \n",
    "# Index_inter est l'index des depeches qui ont au moins un evenement en commun avec une photo. \n",
    "from tqdm import tqdm_notebook\n",
    "c= 0 \n",
    "index_inter = []\n",
    "for i in tqdm_notebook((depeches.index)):\n",
    "    L = depeches.event[i][1:-1].replace(\"'\",\"\").split(', ')\n",
    "    nb = len(L)\n",
    "    for j in L:\n",
    "        if j in liste_ev_unique_photos and nb>1:\n",
    "            c+=1\n",
    "            index_inter.append(i)\n",
    "            break\n",
    "        if j in liste_ev_unique_photos and nb==1:\n",
    "            c+=1\n",
    "            index_inter.append(i)\n",
    "c\n",
    "     "
   ]
  },
  {
   "cell_type": "code",
   "execution_count": null,
   "metadata": {},
   "outputs": [],
   "source": [
    "index_inter"
   ]
  },
  {
   "cell_type": "markdown",
   "metadata": {},
   "source": [
    "# Test d'association des depeches avec des photos\n",
    ">  Pour les 100 premieres depeches."
   ]
  },
  {
   "cell_type": "code",
   "execution_count": 12,
   "metadata": {},
   "outputs": [
    {
     "name": "stderr",
     "output_type": "stream",
     "text": [
      "/Users/ya/miniconda3/lib/python3.7/site-packages/ipykernel_launcher.py:4: TqdmDeprecationWarning: This function will be removed in tqdm==5.0.0\n",
      "Please use `tqdm.notebook.tqdm` instead of `tqdm.tqdm_notebook`\n",
      "  after removing the cwd from sys.path.\n"
     ]
    },
    {
     "data": {
      "application/vnd.jupyter.widget-view+json": {
       "model_id": "e26e81ad455e4191ad8d833f9480f2e8",
       "version_major": 2,
       "version_minor": 0
      },
      "text/plain": [
       "HBox(children=(FloatProgress(value=0.0, max=150536.0), HTML(value='')))"
      ]
     },
     "metadata": {},
     "output_type": "display_data"
    },
    {
     "name": "stdout",
     "output_type": "stream",
     "text": [
      "\n"
     ]
    }
   ],
   "source": [
    "from tqdm import tqdm_notebook as tq\n",
    "import ast \n",
    "liste_scores1_photos=[]\n",
    "for string in tq(score_photos.scores):\n",
    "    liste_scores1_photos.append(ast.literal_eval(string))   \n",
    "\n",
    "#liste_scores1_depeches=[]\n",
    "#for string in score_depeches.scores:\n",
    "#    liste_scores2.append(ast.literal_eval(string))    "
   ]
  },
  {
   "cell_type": "code",
   "execution_count": 13,
   "metadata": {},
   "outputs": [],
   "source": [
    "def normaliser_dict(l):\n",
    "    \n",
    "    for dico in l:\n",
    "        m=0\n",
    "        if len(dico) != 0 :\n",
    "            m = max(dico.values())\n",
    "            if m >0 : # Possible que m =0 si description en Francais...\n",
    "                for k in dico.keys():\n",
    "                    dico[k] /= m \n",
    "                    \n",
    "normaliser_dict(liste_scores1_photos)\n"
   ]
  },
  {
   "cell_type": "code",
   "execution_count": 14,
   "metadata": {},
   "outputs": [
    {
     "name": "stderr",
     "output_type": "stream",
     "text": [
      "/Users/ya/miniconda3/lib/python3.7/importlib/_bootstrap.py:219: RuntimeWarning: spacy.morphology.Morphology size changed, may indicate binary incompatibility. Expected 104 from C header, got 112 from PyObject\n",
      "  return f(*args, **kwds)\n",
      "/Users/ya/miniconda3/lib/python3.7/importlib/_bootstrap.py:219: RuntimeWarning: spacy.vocab.Vocab size changed, may indicate binary incompatibility. Expected 96 from C header, got 104 from PyObject\n",
      "  return f(*args, **kwds)\n"
     ]
    },
    {
     "data": {
      "text/plain": [
       "<spacy.lang.en.English at 0x1095a9f28>"
      ]
     },
     "execution_count": 14,
     "metadata": {},
     "output_type": "execute_result"
    }
   ],
   "source": [
    "import spacy \n",
    "import neuralcoref\n",
    "#Toute cette cellule est issue de l'autre notebook (création du csv) et permet donc d'avoir toutes les fonctions\n",
    "#définies dans ce dernier à disposition.\n",
    "\n",
    "\n",
    "#On importe le fichier contenant les scores de chaque fonction grammaticale\n",
    "scoring = pd.read_csv('scoring.csv', delimiter = \";\")\n",
    "dict_val = {}\n",
    "\n",
    "for i in range(48):\n",
    "    dict_val[scoring['function'][i]] = scoring['score_norm'][i]\n",
    "\n",
    "#On importe un modèle md pour avoir des mots vectorisés\n",
    "nlp=spacy.load(\"en_core_web_md\")  \n",
    "neuralcoref.add_to_pipe(nlp,greedyness=0.5)"
   ]
  },
  {
   "cell_type": "code",
   "execution_count": 45,
   "metadata": {},
   "outputs": [],
   "source": [
    "def dep_ent(ent, doc):\n",
    "    \"\"\" Retourne la fonction grammaticale :  la 'dep', d'une entité. Cette fonction est nécessaire car elle permet d'affecter\n",
    "    une dep à une entité composée de plusieurs mots ayant chacun une dep de base.\n",
    "    Traite aussi le cas particulier des mots étant des conj ou des compound : leur vrai dep et celle du mot auxquels\n",
    "    ils sont associés en tant que conj ou compound.\"\"\"\n",
    "    start= ent.start\n",
    "    end=ent.end\n",
    "    for k in range(start,end):\n",
    "        if doc[k].head.text not in ent.text: \n",
    "            if doc[k].dep_=='conj':     \n",
    "                tok=doc[k]            \n",
    "                while tok.dep_=='conj':\n",
    "                    tok=tok.head      \n",
    "                return(tok.dep_)\n",
    "            \n",
    "            if doc[k].dep_=='compound':   \n",
    "                tok=doc[k]            \n",
    "                while tok.dep_=='compound':\n",
    "                    tok=tok.head      \n",
    "                return(tok.dep_)\n",
    "            return(doc[k].dep_)    \n",
    "    return doc[start].dep_\n",
    "\n",
    "## RAJOUT DE FAC\n",
    "def ent_good_type(ent): #filtre les entités selon leur type \n",
    "    return (ent.label_ == \"PERSON\"or ent.label_ == \"NORP\" or ent.label_ == \"ORG\" or ent.label_ == \"GPE\" or ent.label_ == \"EVENT\" or ent.label_ == \"LOC\" or ent.label_ == \"FAC\")\n",
    "\n",
    "def sort_ent(doc):\n",
    "    \"\"\"Retourne la liste des entités en les filtrant selon leur type et en les triant de manière à avoir au début de\n",
    "    la liste les entités ayant des coréférences.\"\"\"\n",
    "    ent_coref=[ent for ent in doc.ents if ent._.is_coref and ent_good_type(ent)]\n",
    "    ent_vanilla=[ent for ent in doc.ents if ent_good_type(ent) and not ent._.is_coref]\n",
    "    return ent_coref + ent_vanilla\n",
    "\n",
    "def scores_doc(doc):\n",
    "    \"\"\"Retourne le score de chaque entité pour la méthode sans neuralcoref.\"\"\"\n",
    "    res={}\n",
    "    for ent in doc.ents:\n",
    "        if ent.text not in res.keys():\n",
    "            res[ent.text]=dict_val[dep_ent(ent,doc)]\n",
    "        else:\n",
    "            res[ent.text]+=dict_val[dep_ent(ent,doc)]\n",
    "    return res\n",
    "\n",
    "def scores_doc_coref1(doc):\n",
    "    \"\"\"Retourne le score de chaque entité pour la méthode de base opérée sur le document resolved.\n",
    "    Le document resolved est le document de base dans lequel toutes les références à un groupe de mot sont remplacées\n",
    "    par celui-ci.\n",
    "    Par exemple : My dad is home. He watches TV devient My dad is home. My dad watches TV.\n",
    "    En raisonnant avec le nlp sur le document resolved, le nlp va détecter beaucoup plus de fois la même entité.\n",
    "    Le principal inconvénient est que toutes les références sont remplacées, y compris celles qui ne sont pas associées \n",
    "    à des entités mais plutôt à des très longs bouts de phrase qui sont repris par un pronom comme \"it\"  \"\"\"\n",
    "    \n",
    "    doc=nlp(doc._.coref_resolved)\n",
    "    res={}\n",
    "    for ent in doc.ents:\n",
    "        if ent_good_type(ent):\n",
    "            if ent.text not in res.keys():\n",
    "                res[ent.text]=dict_val[dep_ent(ent,doc)]\n",
    "            else:\n",
    "                res[ent.text]+=dict_val[dep_ent(ent,doc)]\n",
    "    #normaliser_dict\n",
    "    m=0\n",
    "    if len(res) != 0 :\n",
    "        m = max(res.values())\n",
    "    if m >0 : # Possible que m =0 si description en Francais...\n",
    "        for k in res.keys():\n",
    "            res[k] /= m \n",
    "\n",
    "    return res\n",
    "\n",
    "def is_in_cluster(ent,cluster):  #détermine si une entité est dans une des mentions d'un cluster\n",
    "    for span in cluster.mentions:\n",
    "        if ent.text in span.text:\n",
    "            return True\n",
    "    return False\n",
    "\n",
    "\n",
    "\n",
    "def freq_dict(L):\n",
    "    n = len(L)\n",
    "    L_unique = list(set(L))\n",
    "    d = {}\n",
    "    for a in L_unique:\n",
    "        for b in L:\n",
    "            if a == b:\n",
    "                if a in d.keys():\n",
    "                    d[a] += 1/n\n",
    "                else:\n",
    "                    d[a] = 1/n\n",
    "    return(d)"
   ]
  },
  {
   "cell_type": "code",
   "execution_count": 16,
   "metadata": {},
   "outputs": [],
   "source": [
    "\n",
    "def score_sim1(doc,score_doc,k):\n",
    "    \"\"\"Prend en paramètre un doc, le fichier de scores associés à ce doc et un entier k correspondant à l'indice de la \n",
    "    description avec laquelle on veut comparer le doc. Retourne le score de similarité entre le doc et la description.\n",
    "    Ici on calcule le score avec la méthode neuralcoref1 : on utilise liste_scores1.\"\"\"\n",
    "    res=0\n",
    "    score_image=liste_scores1_photos[k]\n",
    "    for i in score_doc.keys():\n",
    "        if i in score_image.keys():\n",
    "            res += (score_doc[i]+score_image[i])/2 #- abs(freq_doc[i]-freq_image[i])/2\n",
    "    return res\n",
    "\n",
    "def score_sim11(doc,score_doc,k):\n",
    "    \"\"\"Prend en paramètre un doc, le fichier de scores associés à ce doc et un entier k correspondant à l'indice de la \n",
    "    description avec laquelle on veut comparer le doc. Retourne le score de similarité entre le doc et la description.\n",
    "    Ici on calcule le score avec la méthode neuralcoref1 : on utilise liste_scores1.\n",
    "    Rajout d'une pénalité par entité différentes \n",
    "    \"\"\"\n",
    "    res=0\n",
    "    score_image=liste_scores1_photos[k]\n",
    "    for i in score_doc.keys():\n",
    "        if i in score_image.keys():\n",
    "            res += (score_doc[i]+score_image[i])/2 #- abs(freq_doc[i]-freq_image[i])/2\n",
    "    score_image_tri = tri_dict(score_image)\n",
    "    c = 0 \n",
    "    for i in score_image_tri.keys():\n",
    "        c+=1\n",
    "        if i not in score_doc.keys():\n",
    "            \n",
    "            res -= 1/(c+1)**2\n",
    "        \n",
    "    return res\n",
    "\n",
    "\n",
    "def related_descr(doc):\n",
    "    \"\"\"Retourne la liste des indices correspondant aux descriptions ayant au moins 1 entité en commun avec le doc.\n",
    "    Permet d'effectuer moins de comparaison dans la fonction best_image.\"\"\"\n",
    "    index_list=[]\n",
    "    for k in range(len(liste_scores1_photos)):\n",
    "        for ent in doc.ents:\n",
    "            if ent.text in liste_scores1_photos[k].keys():\n",
    "                index_list.append(k)\n",
    "                break\n",
    "    return index_list\n",
    "\n",
    "def best_image1(doc):\n",
    "    \"\"\"Retourne l'indice de l'image dont la description correspond le plus au doc passé en paramètre.\n",
    "    La correspondance (matching) se fait avec score_sim1.\"\"\"\n",
    "    best_score=0\n",
    "    best_descr=0\n",
    "    score_doc=scores_doc_coref1(doc)\n",
    "    for k in range(len(liste_scores1_photos):\n",
    "        if score_sim1(doc,score_doc,k) > best_score:\n",
    "            best_score=score_sim1(doc,score_doc,k)\n",
    "            best_descr=k\n",
    "    return best_descr\n",
    "\n",
    "\n",
    "\n",
    "def best_image11(doc):\n",
    "    \"\"\"Retourne l'indice de l'image dont la description correspond le plus au doc passé en paramètre.\n",
    "    La correspondance (matching) se fait avec score_sim1.\"\"\"\n",
    "    best_score=0\n",
    "    best_descr=0\n",
    "    score_doc=scores_doc_coref1(doc)\n",
    "    for k in range(len(liste_scores1_photos):\n",
    "        if score_sim11(doc,score_doc,k) > best_score:\n",
    "            best_score=score_sim11(doc,score_doc,k)\n",
    "            best_descr=k\n",
    "    return best_descr\n"
   ]
  },
  {
   "cell_type": "code",
   "execution_count": 129,
   "metadata": {},
   "outputs": [],
   "source": [
    "photos['index'] = range(photos.shape[0])\n",
    "photos.set_index('index',inplace=True)"
   ]
  },
  {
   "cell_type": "code",
   "execution_count": 18,
   "metadata": {},
   "outputs": [
    {
     "data": {
      "text/plain": [
       "11100"
      ]
     },
     "execution_count": 18,
     "metadata": {},
     "output_type": "execute_result"
    }
   ],
   "source": [
    "def tri_dict(d): \n",
    "    \"\"\"Tri décroissant \"\"\"\n",
    "\n",
    "    d_sort = {}\n",
    "    for k,v in sorted(d.items(), key =lambda x :x[1], reverse= True):\n",
    "        d_sort[k]=v\n",
    "    return d_sort\n",
    "    \n",
    "best_image11(nlp(depeches.news2[4]))"
   ]
  },
  {
   "cell_type": "code",
   "execution_count": 19,
   "metadata": {},
   "outputs": [
    {
     "name": "stdout",
     "output_type": "stream",
     "text": [
      "CPU times: user 3 µs, sys: 0 ns, total: 3 µs\n",
      "Wall time: 5.96 µs\n"
     ]
    }
   ],
   "source": [
    "%%time\n",
    "def event_commun(k): \n",
    "    L = []\n",
    "    event = depeches.event[k][1:-1].split((','))\n",
    "    for c in event: \n",
    "        for i in range(photos.shape[0]):\n",
    "            if c in (photos.event[i][1:-1].split(',')):\n",
    "                L.append(i)\n",
    "    return L\n",
    "            \n"
   ]
  },
  {
   "cell_type": "code",
   "execution_count": 121,
   "metadata": {},
   "outputs": [],
   "source": [
    "def best_images(k, malus):\n",
    "    \"\"\" Retourne les  meilleures ( best score) photos de la k eme dépèche\"\"\"\n",
    "    doc = nlp(depeches.news2[k])\n",
    "    L_score =[]\n",
    "    score_doc=scores_doc_coref1(doc)\n",
    "    if malus : \n",
    "        for j in range(len(liste_scores1_photos)):\n",
    "            L_score.append( (score_sim11(doc,score_doc,j),j)) \n",
    "    else : \n",
    "         for j in range(len(liste_scores1_photos)):\n",
    "            L_score.append( (score_sim1(doc,score_doc,j),j)) \n",
    "    L_score.sort(reverse=True)\n",
    "    \n",
    "    return L_score\n"
   ]
  },
  {
   "cell_type": "markdown",
   "metadata": {},
   "source": [
    "### Comment tester : \n",
    "> Chaque point un nouveau compteur\n",
    "*  Compter un si la meilleure photo a des evenements en commun avec la depeche\n",
    "*  Compter un si une des 10 meilleures photos a des evenements en commun avec la depèche \n",
    "*  De meme avec 5. \n",
    "*  Faire le graphe la position de la premiere photo ayant un evenement en commun \n",
    "\n",
    "\n",
    "# Afficher la distibution "
   ]
  },
  {
   "cell_type": "markdown",
   "metadata": {},
   "source": [
    "Avec malus"
   ]
  },
  {
   "cell_type": "code",
   "execution_count": 46,
   "metadata": {},
   "outputs": [
    {
     "name": "stderr",
     "output_type": "stream",
     "text": [
      "/Users/ya/miniconda3/lib/python3.7/site-packages/ipykernel_launcher.py:6: TqdmDeprecationWarning: This function will be removed in tqdm==5.0.0\n",
      "Please use `tqdm.notebook.tqdm` instead of `tqdm.tqdm_notebook`\n",
      "  \n"
     ]
    },
    {
     "data": {
      "application/vnd.jupyter.widget-view+json": {
       "model_id": "1c0071b9aa9946e4ad259ab4ea0e9353",
       "version_major": 2,
       "version_minor": 0
      },
      "text/plain": [
       "HBox(children=(FloatProgress(value=0.0, max=206.0), HTML(value='')))"
      ]
     },
     "metadata": {},
     "output_type": "display_data"
    },
    {
     "name": "stdout",
     "output_type": "stream",
     "text": [
      "\n",
      "CPU times: user 1h 22min 20s, sys: 30 s, total: 1h 22min 50s\n",
      "Wall time: 6h 32min 30s\n"
     ]
    }
   ],
   "source": [
    "%%time\n",
    "import matplotlib.pyplot as plt\n",
    "#P = []\n",
    "#c1 = 0 \n",
    "#c2 = 0 \n",
    "#c3 = 0\n",
    "for k in tqdm_notebook(index_inter[94:300]):\n",
    "    liste_event_commun = event_commun(k)\n",
    "    L = best_images(k,True)\n",
    "   \n",
    "    if  L != [] :\n",
    "        if L[0][1] in liste_event_commun:\n",
    "                c1+=1\n",
    "        position = -20\n",
    "        j=0\n",
    "        while position == -20 and j<len(L):\n",
    "\n",
    "            if L[j][1] in liste_event_commun:\n",
    "                position = j + 1\n",
    "                score_com = L[j][0]\n",
    "\n",
    "            j+=1\n",
    "        if position<=5 and position != -20: \n",
    "            c2+=1\n",
    "        if position<=10 and position != -20:\n",
    "            c3+=1\n",
    "        P.append(position)\n",
    "\n",
    "        \n",
    "    \n",
    "    \n",
    "    \n"
   ]
  },
  {
   "cell_type": "code",
   "execution_count": 40,
   "metadata": {},
   "outputs": [
    {
     "data": {
      "text/plain": [
       "19973"
      ]
     },
     "execution_count": 40,
     "metadata": {},
     "output_type": "execute_result"
    }
   ],
   "source": []
  },
  {
   "cell_type": "code",
   "execution_count": 47,
   "metadata": {},
   "outputs": [
    {
     "data": {
      "text/plain": [
       "(array([95., 31., 13., 18., 12.,  9.,  6.,  5.,  3.,  5.,  3.,  7.,  3.,\n",
       "         3.,  5.,  3.,  4.,  3.,  1.,  0.,  2.,  1.,  3.,  2.,  1.,  0.]),\n",
       " array([-20.,   0.,  20.,  40.,  60.,  80., 100., 120., 140., 160., 180.,\n",
       "        200., 220., 240., 260., 280., 300., 320., 340., 360., 380., 400.,\n",
       "        420., 440., 460., 480., 500.]),\n",
       " <a list of 26 Patch objects>)"
      ]
     },
     "execution_count": 47,
     "metadata": {},
     "output_type": "execute_result"
    },
    {
     "data": {
      "image/png": "[encoded data removed]",
      "text/plain": [
       "<Figure size 432x288 with 1 Axes>"
      ]
     },
     "metadata": {
      "needs_background": "light"
     },
     "output_type": "display_data"
    }
   ],
   "source": [
    "plt.xlabel('Positions')\n",
    "plt.title('Histogramme des positions')\n",
    "plt.hist(P, range=(-20,500), bins= 26, edgecolor = 'black' )\n"
   ]
  },
  {
   "cell_type": "code",
   "execution_count": 50,
   "metadata": {},
   "outputs": [
    {
     "name": "stderr",
     "output_type": "stream",
     "text": [
      "/Users/ya/miniconda3/lib/python3.7/site-packages/ipykernel_launcher.py:6: TqdmDeprecationWarning: This function will be removed in tqdm==5.0.0\n",
      "Please use `tqdm.notebook.tqdm` instead of `tqdm.tqdm_notebook`\n",
      "  \n"
     ]
    },
    {
     "data": {
      "application/vnd.jupyter.widget-view+json": {
       "model_id": "d3162cc0e1d54eff959a31c3d26d55ca",
       "version_major": 2,
       "version_minor": 0
      },
      "text/plain": [
       "HBox(children=(FloatProgress(value=0.0, max=144.0), HTML(value='')))"
      ]
     },
     "metadata": {},
     "output_type": "display_data"
    },
    {
     "name": "stdout",
     "output_type": "stream",
     "text": [
      "\n",
      "CPU times: user 48min 50s, sys: 31.2 s, total: 49min 21s\n",
      "Wall time: 1h 6min 27s\n"
     ]
    }
   ],
   "source": [
    "%%time\n",
    "import matplotlib.pyplot as plt\n",
    "#P_sansmalus = []\n",
    "#c1 = 0 \n",
    "#c2 = 0 \n",
    "#c3 = 0\n",
    "for k in tqdm_notebook(index_inter[156:300]):\n",
    "    liste_event_commun = event_commun(k)\n",
    "    L = best_images(k,False)\n",
    "   \n",
    "    if  L != [] :\n",
    "        if L[0][1] in liste_event_commun:\n",
    "                c1+=1\n",
    "        position = -20\n",
    "        j=0\n",
    "        while position == -20 and j<len(L):\n",
    "\n",
    "            if L[j][1] in liste_event_commun:\n",
    "                position = j + 1\n",
    "                score_com = L[j][0]\n",
    "\n",
    "            j+=1\n",
    "        if position<=5 and position != -20: \n",
    "            c2+=1\n",
    "        if position<=10 and position != -20:\n",
    "            c3+=1\n",
    "        P_sansmalus.append(position)\n",
    "\n",
    "        \n",
    "    \n",
    "    \n",
    "    "
   ]
  },
  {
   "cell_type": "code",
   "execution_count": 52,
   "metadata": {},
   "outputs": [
    {
     "data": {
      "text/plain": [
       "(array([95., 25., 15.,  6.,  7.,  2.,  6.,  2.,  2.,  6.,  3.,  3.,  4.,\n",
       "         4.,  2.,  5.,  4.,  2.,  4.,  4.,  2.,  1.,  2.,  2.,  1.,  0.]),\n",
       " array([-20.,   0.,  20.,  40.,  60.,  80., 100., 120., 140., 160., 180.,\n",
       "        200., 220., 240., 260., 280., 300., 320., 340., 360., 380., 400.,\n",
       "        420., 440., 460., 480., 500.]),\n",
       " <a list of 26 Patch objects>)"
      ]
     },
     "execution_count": 52,
     "metadata": {},
     "output_type": "execute_result"
    },
    {
     "data": {
      "image/png": "[encoded data removed]",
      "text/plain": [
       "<Figure size 432x288 with 1 Axes>"
      ]
     },
     "metadata": {
      "needs_background": "light"
     },
     "output_type": "display_data"
    }
   ],
   "source": [
    "plt.xlabel('Positions_sansmalus')\n",
    "plt.title('Histogramme des positions')\n",
    "plt.hist(P_sansmalus, range=(-20,500), bins= 26, edgecolor = 'black' )\n"
   ]
  },
  {
   "cell_type": "code",
   "execution_count": 119,
   "metadata": {},
   "outputs": [
    {
     "data": {
      "image/png": "[encoded data removed]",
      "text/plain": [
       "<Figure size 432x288 with 1 Axes>"
      ]
     },
     "metadata": {
      "needs_background": "light"
     },
     "output_type": "display_data"
    }
   ],
   "source": [
    "%matplotlib inline\n",
    "plt.hist([P, P_sansmalus], bins =26,range= (-20,500), color = ['yellow', 'green'], edgecolor = 'black', hatch = '/', label = ['avec malus', 'sans malus'], histtype = 'bar')\n",
    "plt.show()\n",
    "# bar est le defaut"
   ]
  },
  {
   "cell_type": "code",
   "execution_count": 58,
   "metadata": {},
   "outputs": [
    {
     "name": "stdout",
     "output_type": "stream",
     "text": [
      "le nombre de dépeches dans le top 100 sans malus est de 55 \n",
      "le nombre de dépeches dans le top 100 avec malus est de 83\n"
     ]
    }
   ],
   "source": [
    "d = 0 \n",
    "v= 0 \n",
    "for k in P: \n",
    "    if 0<=k<=100:\n",
    "        d+=1\n",
    "for k in P_sansmalus:\n",
    "    if 0<=k<=100:\n",
    "        v+=1\n",
    "print('le nombre de dépeches dans le top 100 sans malus est de' ,v , '\\nle nombre de dépeches dans le top 100 avec malus est de' ,d)\n",
    "        \n"
   ]
  },
  {
   "cell_type": "code",
   "execution_count": 59,
   "metadata": {},
   "outputs": [
    {
     "name": "stdout",
     "output_type": "stream",
     "text": [
      "le nombre de dépeches dans le top 10 sans malus est de 15 \n",
      "le nombre de dépeches dans le top 10 avec malus est de 20\n"
     ]
    }
   ],
   "source": [
    "d = 0 \n",
    "v= 0 \n",
    "for k in P: \n",
    "    if 0<=k<=10:\n",
    "        d+=1\n",
    "for k in P_sansmalus:\n",
    "    if 0<=k<=10:\n",
    "        v+=1\n",
    "\n",
    "print('le nombre de dépeches dans le top 10 sans malus est de' ,v , '\\nle nombre de dépeches dans le top 10 avec malus est de' ,d)\n",
    "        "
   ]
  },
  {
   "cell_type": "code",
   "execution_count": 35,
   "metadata": {},
   "outputs": [
    {
     "name": "stderr",
     "output_type": "stream",
     "text": [
      "/Users/ya/miniconda3/lib/python3.7/site-packages/ipykernel_launcher.py:3: TqdmDeprecationWarning: This function will be removed in tqdm==5.0.0\n",
      "Please use `tqdm.notebook.tqdm` instead of `tqdm.tqdm_notebook`\n",
      "  This is separate from the ipykernel package so we can avoid doing imports until\n"
     ]
    },
    {
     "data": {
      "application/vnd.jupyter.widget-view+json": {
       "model_id": "59311e573b204d2081bc41a05b2fb826",
       "version_major": 2,
       "version_minor": 0
      },
      "text/plain": [
       "HBox(children=(FloatProgress(value=0.0, max=33.0), HTML(value='')))"
      ]
     },
     "metadata": {},
     "output_type": "display_data"
    },
    {
     "name": "stdout",
     "output_type": "stream",
     "text": [
      "\n",
      "CPU times: user 11min 4s, sys: 10.5 s, total: 11min 14s\n",
      "Wall time: 11min 50s\n"
     ]
    }
   ],
   "source": [
    "%%time\n",
    "import matplotlib.pyplot as plt\n",
    "\n",
    "for k in tqdm_notebook(index_inter[95+22:150]):\n",
    "    liste_event_commun = event_commun(k)\n",
    "    L = best_images(k,True)\n",
    "   \n",
    "    if  L != [] :\n",
    "        if L[0][1] in liste_event_commun:\n",
    "                c1+=1\n",
    "        position = -1000\n",
    "        j=0\n",
    "        while position == -1000 and j<len(L):\n",
    "\n",
    "            if L[j][1] in liste_event_commun:\n",
    "                position = j + 1\n",
    "                score_com = L[j][0]\n",
    "\n",
    "            j+=1\n",
    "        if position<=5 and position != -1000: \n",
    "            c2+=1\n",
    "        if position<=10 and position != -1000:\n",
    "            c3+=1\n",
    "        P.append(position)\n",
    "\n",
    "        "
   ]
  },
  {
   "cell_type": "code",
   "execution_count": 29,
   "metadata": {},
   "outputs": [
    {
     "data": {
      "image/png": "[encoded data removed]",
      "text/plain": [
       "<Figure size 432x288 with 1 Axes>"
      ]
     },
     "metadata": {
      "needs_background": "light"
     },
     "output_type": "display_data"
    }
   ],
   "source": [
    "plt.xlabel(\"dépèches\")  \n",
    "plt.ylabel(\"Position de la meilleure photo ayant un event en commun \")\n",
    "plt.plot(range(len(P)),P)  \n",
    "plt.show()\n",
    "    "
   ]
  },
  {
   "cell_type": "code",
   "execution_count": 30,
   "metadata": {},
   "outputs": [
    {
     "name": "stdout",
     "output_type": "stream",
     "text": [
      "Nombre perfect match 3 \n",
      " <=5 8  \n",
      " <=10 13  sur 150 photos\n"
     ]
    }
   ],
   "source": [
    "print(\"Nombre perfect match\" , c1, \"\\n <=5\", c2 , \" \\n <=10\", c3 , \" sur 150 photos\" )"
   ]
  },
  {
   "cell_type": "markdown",
   "metadata": {},
   "source": [
    "## Test article "
   ]
  },
  {
   "cell_type": "code",
   "execution_count": 155,
   "metadata": {},
   "outputs": [],
   "source": [
    "df = pd.read_csv('scraping_by_keyword.csv')\n",
    "df = df.dropna(subset= ['Article'])\n",
    "df.Article = df.Article.apply(lambda x: x.replace(\"\\n\",\" \"))"
   ]
  },
  {
   "cell_type": "code",
   "execution_count": 157,
   "metadata": {},
   "outputs": [
    {
     "data": {
      "text/plain": [
       "(5, 3)"
      ]
     },
     "execution_count": 157,
     "metadata": {},
     "output_type": "execute_result"
    }
   ],
   "source": [
    "df.shape"
   ]
  },
  {
   "cell_type": "code",
   "execution_count": 75,
   "metadata": {},
   "outputs": [
    {
     "name": "stdout",
     "output_type": "stream",
     "text": [
      "CPU times: user 3.18 s, sys: 297 ms, total: 3.47 s\n",
      "Wall time: 2.52 s\n"
     ]
    }
   ],
   "source": [
    "%%time\n",
    "v =nlp(df.Article[0])"
   ]
  },
  {
   "cell_type": "code",
   "execution_count": 74,
   "metadata": {},
   "outputs": [],
   "source": [
    "a = scores_doc_coref1(nlp(df.Article[0]))"
   ]
  },
  {
   "cell_type": "code",
   "execution_count": 109,
   "metadata": {},
   "outputs": [
    {
     "name": "stdout",
     "output_type": "stream",
     "text": [
      "CPU times: user 8.79 s, sys: 626 ms, total: 9.41 s\n",
      "Wall time: 7.47 s\n"
     ]
    }
   ],
   "source": [
    "%%time \n",
    "def article_best_images(article, malus):\n",
    "    \"\"\" Retourne les  meilleures ( best score) photos de la k eme dépèche\"\"\"\n",
    "    doc = nlp(article)\n",
    "    #doc = nlp(depeches.news2[10])\n",
    "    L_score =[]\n",
    "    score_doc=scores_doc_coref1(doc)\n",
    "    #rel = related_descr(doc)\n",
    "    if malus : \n",
    "        for j in range(len(liste_scores1_photos)):\n",
    "            L_score.append( (score_sim11(doc,score_doc,j),j)) \n",
    "    else : \n",
    "         for j in range(len(liste_scores1_photos)):\n",
    "            L_score.append( (score_sim1(doc,score_doc,j),j)) \n",
    "    L_score.sort(reverse=True)\n",
    "    \n",
    "    return L_score\n",
    "\n"
   ]
  },
  {
   "cell_type": "code",
   "execution_count": 158,
   "metadata": {},
   "outputs": [],
   "source": [
    "# df base de 5 articles sur la korea \n",
    "result_malus =article_best_images(df.Article[0], True)\n",
    "result = article_best_images(df.Article[0], False)\n"
   ]
  },
  {
   "cell_type": "code",
   "execution_count": 141,
   "metadata": {},
   "outputs": [
    {
     "data": {
      "text/plain": [
       "46798"
      ]
     },
     "execution_count": 141,
     "metadata": {},
     "output_type": "execute_result"
    }
   ],
   "source": []
  },
  {
   "cell_type": "code",
   "execution_count": 161,
   "metadata": {},
   "outputs": [
    {
     "data": {
      "text/plain": [
       "\"Early this week, a news site in Seoul reported that North Korean leader Kim Jong-un had undergone heart surgery. CNN and Reuters picked up the story, sending speculation rampant. As the coronavirus has quickly reclaimed our total attention, the world is left wondering two things: what’s the actual state of Kim’s health, and how much does it really matter?  Why It Matters:  Let’s start with the fact that there is no way to know what the real situation is with Kim’s health. South Korea has been downplaying the reports for the last few days, saying it has detected “no unusual developments” in the country; but Pyongyang, which is quick to issue denials of news stories it takes even the slightest issue with, has been noticeably silent.  In a pre-Covid-19 world, Kim Jong-un was a comparatively significant world leader on stage, in the sense that he controlled a rogue nuclear power. Well, almost rogue—while North Korea likes to present itself as a self-sufficient power in its own right that can go toe-to-toe with Western powers, the reality is that the Hermit Kingdom relies heavily on China. As recently as 2017, China was responsible for 90 percent of North Korea’s trade. China has been acting as a sort of check on North Korea for decades now, both out of political/ideological solidarity and for fear that a regime collapse would send thousands of refugees streaming across Chinese borders. And with Donald Trump’s arrival on the political stage, China’s sway over North Korea became yet one more lever for Beijing to use in its evolving rivalry with the U.S. The end result was U.S.-North Korean nuclear talks that were more flash than substance. That’s where they’ve remained since.  On that front, Kim’s incapacitation or even death would have a sizeable impact, as Trump would suddenly lose his main interlocutor. But Kim was never serious about nuclear disarmament, just as the Trump administration was never seriously pushing for such comprehensive measures. And all that was before coronavirus hit and the U.S. presidential election was in full swing, which Trump will need to win for these talks to pick back up again.  What Happens Next:  The real question is what an ailing Kim might mean for North Koreans. After all, the vast majority of North Koreans have only lived under the rule of Kim, his father or his grandfather. The Kim regime has options, like rerunning old footage of Kim for North Koreans, which would buy them time at home but risk prompting outside observers to think change is afoot. Yet the news of an incapacitated Kim is unlikely to lead to massive political change in North Korea. Why? The J-curve.  Years ago, I wrote this book about how countries need to balance the openness of a society with the stability of its political regime. The graph looks like this:  Countries on the left hand side, or the shorter part of the letter “J”, are stable precisely because they are closed off from the rest of the world and repress their populations; countries on the right hand side of the curve tend to be even more stable as open systems allow for easier transition from one person in power to the next without threatening the entire system.  When I wrote this book, North Korea was firmly on the left-hand side of the graph, and it’s stayed there—today, North Korea’s political stability very much depends on remaining closed off from the world and tightly controlling the populace.  That isolation and repression makes things easier for the ruling elite, many of whom have tied their fates to Kim and the system he has put in place. Even without Kim, that system will remain in place, as the people in power have all the incentive in the world to keep their privileged positions in it.  Should Kim be permanently incapacitated—still a massive unknown—his sister Kim Yo-jong is the frontrunner to replace him as head of the country. That’s because Kim’s children are too young to take up the mantle, and his older brother (Kim had a half-brother assassinated in Malaysia) seems more interested playing guitar than running a murderous regime (well, wouldn’t you be?). And keeping leadership in the family is crucial—North Korea’s political mythology circles around the Kim family specifically. It is also possible that she remains in place until one of Kim’s children is old enough to assume the country’s leadership.  But as the world has recently taught us, there’s also value in expecting the unexpected. So what happens if the transition of power doesn’t go smoothly to either his sister or some other trusted member of the country’s ruling cabal? In that instance, the upheaval in North Korea would mean the international community will have three distinct priorities. The first will be to track, locate and lock down all the loose nukes up for grabs as the North Korean regime implodes; the second priority will be to manage the inevitable refugee waves set to come, both into South Korea as well as into China. The third priority, and one way further down the list, is building the country back up.  Global cooperation has seen better days; as the country of scale with the most investment into North Korea—and not to mention proximity—expect China to play a leading role by default.  The One Major Misconception About It:  That coronavirus is nothing but bad news for a country as impoverished as North Korea… and one that borders China. That said, it may turn out to be a blessing in disguise for the country’s leadership, as it gives them more cover to make any political transition necessary out of the glare of the world’s spotlight as countries remain focused on their own pandemic responses at home.  The One Thing to Say About It on a Zoom conference call:  The only things worse than a healthy Kim ruling over North Korea is an ailing and paranoid Kim to be ruling over North Korea.  Sign up for Inside TIME. Be the first to see the new cover of TIME and get our most compelling stories delivered straight to your inbox. Please enter a valid email address. Sign Up Now Check the box if you do not wish to receive promotional offers via email from TIME. You can unsubscribe at any time. By signing up you are agreeing to our Terms of Use and Privacy Policy Thank you! For your security, we've sent a confirmation email to the address you entered. Click the link to confirm your subscription and begin receiving our newsletters. If you don't get the confirmation within 10 minutes, please check your spam folder.  Contact us at editors@time.com.\""
      ]
     },
     "execution_count": 161,
     "metadata": {},
     "output_type": "execute_result"
    }
   ],
   "source": [
    "df.Article[0]"
   ]
  },
  {
   "cell_type": "code",
   "execution_count": 159,
   "metadata": {},
   "outputs": [
    {
     "data": {
      "text/html": [
       "<img src=\"https://api.afp.com/objects/api/medias?id=a1kkIS0nShZdXlcxVgJEXV1EQksZdHsUFnNyEWh0eA12ZQMedQRzcWkXTFBOXVQqVkYaX0JXEltfIX9GQFxVMUQgFjYsVgxbPVogNTcjFFpBU1UgV1lZUEFRXh5HLCYQUGN5OHYBWSpjQF5cIQkwMC0lUlVCWVNjXFVEXEBVXgUHc3MeDgcAdQ5xB3B9.jpg\"/>"
      ],
      "text/plain": [
       "<IPython.core.display.Image object>"
      ]
     },
     "metadata": {},
     "output_type": "display_data"
    },
    {
     "data": {
      "text/html": [
       "<img src=\"https://api.afp.com/objects/api/medias?id=a1kkIS0nShZdXlcxVgJEXV1EQksZdHEUFnNyEWh0eA1xAwUedQRzcWkXTFBOXVQqVkYaX0JXEltfIX9GQFxVMUQgFjYsVgxbPVogNTcjFFpBU1UgV1lZUEFRXh5HLCYQUGN5OHYBWSpjQF5cIQkwMC0lUlVCWVNjXFVEXEBVXgUHc3MeDgcAdQ5xB3N8.jpg\"/>"
      ],
      "text/plain": [
       "<IPython.core.display.Image object>"
      ]
     },
     "metadata": {},
     "output_type": "display_data"
    },
    {
     "data": {
      "text/html": [
       "<img src=\"https://api.afp.com/objects/api/medias?id=a1kkIS0nShZdXlcxVgJEXV1EQksZdHMUFnNyEWh0enp0CnIedQRzcWkXTFBOXVQqVkYaX0JXEltfIX9GQFxVMUQgFjYsVgxbPVogNTcjFFpBU1UgV1lZUEFRXh5HLCYQaAtSGWE%2FZzdjQF5cIQkwMC0lUlVCWVNjXFVEXEBVXgUHc3MeDgcAcw9xB3p8.jpg\"/>"
      ],
      "text/plain": [
       "<IPython.core.display.Image object>"
      ]
     },
     "metadata": {},
     "output_type": "display_data"
    },
    {
     "data": {
      "text/html": [
       "<img src=\"https://api.afp.com/objects/api/medias?id=a1kkIS0nShZdXlcxVgJEXV1EQksZdXYCeHRkHgYNYHsSdB8BdAZ1aBUzUFpGWlcqUgNeRVUPTlFSeClUV1NEMlJjRSohD1pJKlUxNiFrWlVIW10rTUBRRlNDC0lfIX9gYWZACngRA2U3XV1VeUU0LCctVVZCXR4gQV1dR1dDEAkAdHEaDAYAdg52BXY%3D.jpg\"/>"
      ],
      "text/plain": [
       "<IPython.core.display.Image object>"
      ]
     },
     "metadata": {},
     "output_type": "display_data"
    },
    {
     "data": {
      "text/html": [
       "<img src=\"https://api.afp.com/objects/api/medias?id=a1kkIS0nShZdXlcxVgJEXV1EQksZdHYdFnNyEWh0enp0CnAedQRzcWkXTFBOXVQqVkYaX0JXEltfIX9GQFxVMUQgFjYsVgxbPVogNTcjFFpBU1UgV1lZUEFRXh5HLCYQaAtSGWE%2FZzdjQF5cIQkwMC0lUlVCWVNjXFVEXEBVXgUHc3MeDgcAcw9xAndy.jpg\"/>"
      ],
      "text/plain": [
       "<IPython.core.display.Image object>"
      ]
     },
     "metadata": {},
     "output_type": "display_data"
    },
    {
     "data": {
      "text/html": [
       "<img src=\"https://api.afp.com/objects/api/medias?id=a1kkIS0nShZdXlcxVgJEXV1EQksZdHscFnNyEWh0dxJ3YAAedQRzcWkXTFBOXVQqVkYaX0JXEltfIX9GQFxVMUQgFjYsVgxbPVogNTcjFFpBU1UgV1lZUEFRXh5HLCYQaHRXIgcCUzJjQF5cIQkwMC0lUlVCWVNjXFVEXEBVXgUHc3MeDgcAdwd1CXNy.jpg\"/>"
      ],
      "text/plain": [
       "<IPython.core.display.Image object>"
      ]
     },
     "metadata": {},
     "output_type": "display_data"
    },
    {
     "data": {
      "text/html": [
       "<img src=\"https://api.afp.com/objects/api/medias?id=a1kkIS0nShZdXlcxVgJEXV1EQksZdXMCeHRkHgYCYXELZB8BdAZ1aBUzUFpGWlcqUgNeRVUPTlFSeClUV1NEMlJjRSohD1pJKlUxNiFrWlVIW10rTUBRRlNDC0lfIX98f1FXcXAmQWU3XV1VeUU0LCctVVZCXR4gQV1dR1dDEAkAdHEaDAYCcQd8AHU%3D.jpg\"/>"
      ],
      "text/plain": [
       "<IPython.core.display.Image object>"
      ]
     },
     "metadata": {},
     "output_type": "display_data"
    },
    {
     "data": {
      "text/html": [
       "<img src=\"https://api.afp.com/objects/api/medias?id=a1kkIS0nShZdXlcxVgJEXV1EQksZdHsUFnNyEWh0eBN9eAYedQRzcWkXTFBOXVQqVkYaX0JXEltfIX9GQFxVMUQgFjYsVgxbPVogNTcjFFpBU1UgV1lZUEFRXh5HLCYQdGpgNXwKZHBjQF5cIQkwMC0lUlVCWVNjXFVEXEBVXgUHc3MeDgcAdQB8BHRw.jpg\"/>"
      ],
      "text/plain": [
       "<IPython.core.display.Image object>"
      ]
     },
     "metadata": {},
     "output_type": "display_data"
    },
    {
     "data": {
      "text/html": [
       "<img src=\"https://api.afp.com/objects/api/medias?id=a1kkIS0nShZdXlcxVgJEXV1EQksZd3IcFnNyEWh0eA12ZAUedQRzcWkXTFBOXVQqVkYaX0JXEltfIX9GQFxVMUQgFjYsVgxbPVogNTcjFFpBU1UgV1lZUEFRXh5HLCYQUGN5OHYBWSpjQF5cIQkwMC0lUlVCWVNjXFVEXEBVXgUHc3MeDgcAdQ5xB3Bw.jpg\"/>"
      ],
      "text/plain": [
       "<IPython.core.display.Image object>"
      ]
     },
     "metadata": {},
     "output_type": "display_data"
    },
    {
     "data": {
      "text/html": [
       "<img src=\"https://api.afp.com/objects/api/medias?id=a1kkIS0nShZdXlcxVgJEXV1EQksZdHMVFnNyEWh0eA1xAwIedQRzcWkXTFBOXVQqVkYaX0JXEltfIX9GQFxVMUQgFjYsVgxbPVogNTcjFFpBU1UgV1lZUEFRXh5HLCYQUGN5OHYBWSpjQF5cIQkwMC0lUlVCWVNjXFVEXEBVXgUHc3MeDgcAdQ5xB3J1.jpg\"/>"
      ],
      "text/plain": [
       "<IPython.core.display.Image object>"
      ]
     },
     "metadata": {},
     "output_type": "display_data"
    }
   ],
   "source": [
    "from IPython.display import Image\n",
    "from IPython.core.display import HTML \n",
    "L = [ photos.url_extracted[k[1]] for k in result[:10] ] \n",
    "for i in L :\n",
    "    display(Image(url= i))\n",
    "    "
   ]
  },
  {
   "cell_type": "code",
   "execution_count": 160,
   "metadata": {},
   "outputs": [
    {
     "data": {
      "text/html": [
       "<img src=\"https://api.afp.com/objects/api/medias?id=a1kkIS0nShZdXlcxVgJEXV1EQksZdHsUFnNyEWh0eA12ZQMedQRzcWkXTFBOXVQqVkYaX0JXEltfIX9GQFxVMUQgFjYsVgxbPVogNTcjFFpBU1UgV1lZUEFRXh5HLCYQUGN5OHYBWSpjQF5cIQkwMC0lUlVCWVNjXFVEXEBVXgUHc3MeDgcAdQ5xB3B9.jpg\"/>"
      ],
      "text/plain": [
       "<IPython.core.display.Image object>"
      ]
     },
     "metadata": {},
     "output_type": "display_data"
    },
    {
     "data": {
      "text/html": [
       "<img src=\"https://api.afp.com/objects/api/medias?id=a1kkIS0nShZdXlcxVgJEXV1EQksZdHEUFnNyEWh0eA1xAwUedQRzcWkXTFBOXVQqVkYaX0JXEltfIX9GQFxVMUQgFjYsVgxbPVogNTcjFFpBU1UgV1lZUEFRXh5HLCYQUGN5OHYBWSpjQF5cIQkwMC0lUlVCWVNjXFVEXEBVXgUHc3MeDgcAdQ5xB3N8.jpg\"/>"
      ],
      "text/plain": [
       "<IPython.core.display.Image object>"
      ]
     },
     "metadata": {},
     "output_type": "display_data"
    },
    {
     "data": {
      "text/html": [
       "<img src=\"https://api.afp.com/objects/api/medias?id=a1kkIS0nShZdXlcxVgJEXV1EQksZdXYCeHRkHgYNYHsSdB8BdAZ1aBUzUFpGWlcqUgNeRVUPTlFSeClUV1NEMlJjRSohD1pJKlUxNiFrWlVIW10rTUBRRlNDC0lfIX9gYWZACngRA2U3XV1VeUU0LCctVVZCXR4gQV1dR1dDEAkAdHEaDAYAdg52BXY%3D.jpg\"/>"
      ],
      "text/plain": [
       "<IPython.core.display.Image object>"
      ]
     },
     "metadata": {},
     "output_type": "display_data"
    },
    {
     "data": {
      "text/html": [
       "<img src=\"https://api.afp.com/objects/api/medias?id=a1kkIS0nShZdXlcxVgJEXV1EQksZdXACeHRkHgYPcnoTex8BdAZ1aBUzUFpGWlcqUgNeRVUPTlFSeClUV1NEMlJjRSohD1pJKlUxNiFrWlVIW10rTUBRRlNDC0lfIX97bFdjFFsdXmU3XV1VeUU0LCctVVZCXR4gQV1dR1dDEAkAdHEaDAYGdQdwBHI%3D.jpg\"/>"
      ],
      "text/plain": [
       "<IPython.core.display.Image object>"
      ]
     },
     "metadata": {},
     "output_type": "display_data"
    },
    {
     "data": {
      "text/html": [
       "<img src=\"https://api.afp.com/objects/api/medias?id=a1kkIS0nShZdXlcxVgJEXV1EQksZd3ccFnNyEWh0egF8ZHcedQRzcWkXTFBOXVQqVkYaX0JXEltfIX9GQFxVMUQgFjYsVgxbPVogNTcjFFpBU1UgV1lZUEFRXh5HLCYQb2dRFmIpaC1jQF5cIQkwMC0lUlVCWVNjXFVEXEBVXgUHc3MeDgcAcwN1BXd1.jpg\"/>"
      ],
      "text/plain": [
       "<IPython.core.display.Image object>"
      ]
     },
     "metadata": {},
     "output_type": "display_data"
    },
    {
     "data": {
      "text/html": [
       "<img src=\"https://api.afp.com/objects/api/medias?id=a1kkIS0nShZdXlcxVgJEXV1EQksZdXICeHRkHgYPcnoTeB8BdAZ1aBUzUFpGWlcqUgNeRVUPTlFSeClUV1NEMlJjRSohD1pJKlUxNiFrWlVIW10rTUBRRlNDC0lfIX97bFdjFFsdXmU3XV1VeUU0LCctVVZCXR4gQV1dR1dDEAkAdHEaDAYGdQdwA3o%3D.jpg\"/>"
      ],
      "text/plain": [
       "<IPython.core.display.Image object>"
      ]
     },
     "metadata": {},
     "output_type": "display_data"
    },
    {
     "data": {
      "text/html": [
       "<img src=\"https://api.afp.com/objects/api/medias?id=a1kkIS0nShZdXlcxVgJEXV1EQksZd3ceFnNyEWh0egF8ZHYedQRzcWkXTFBOXVQqVkYaX0JXEltfIX9GQFxVMUQgFjYsVgxbPVogNTcjFFpBU1UgV1lZUEFRXh5HLCYQb2dRFmIpaC1jQF5cIQkwMC0lUlVCWVNjXFVEXEBVXgUHc3MeDgcAcwN1BXB8.jpg\"/>"
      ],
      "text/plain": [
       "<IPython.core.display.Image object>"
      ]
     },
     "metadata": {},
     "output_type": "display_data"
    },
    {
     "data": {
      "text/html": [
       "<img src=\"https://api.afp.com/objects/api/medias?id=a1kkIS0nShZdXlcxVgJEXV1EQksZd3IcFnNyEWh0eA12ZAUedQRzcWkXTFBOXVQqVkYaX0JXEltfIX9GQFxVMUQgFjYsVgxbPVogNTcjFFpBU1UgV1lZUEFRXh5HLCYQUGN5OHYBWSpjQF5cIQkwMC0lUlVCWVNjXFVEXEBVXgUHc3MeDgcAdQ5xB3Bw.jpg\"/>"
      ],
      "text/plain": [
       "<IPython.core.display.Image object>"
      ]
     },
     "metadata": {},
     "output_type": "display_data"
    },
    {
     "data": {
      "text/html": [
       "<img src=\"https://api.afp.com/objects/api/medias?id=a1kkIS0nShZdXlcxVgJEXV1EQksZdHMVFnNyEWh0eA1xAwIedQRzcWkXTFBOXVQqVkYaX0JXEltfIX9GQFxVMUQgFjYsVgxbPVogNTcjFFpBU1UgV1lZUEFRXh5HLCYQUGN5OHYBWSpjQF5cIQkwMC0lUlVCWVNjXFVEXEBVXgUHc3MeDgcAdQ5xB3J1.jpg\"/>"
      ],
      "text/plain": [
       "<IPython.core.display.Image object>"
      ]
     },
     "metadata": {},
     "output_type": "display_data"
    },
    {
     "data": {
      "text/html": [
       "<img src=\"https://api.afp.com/objects/api/medias?id=a1kkIS0nShZdXlcxVgJEXV1EQksZdHYcFnNyEWh0eA1xAwQedQRzcWkXTFBOXVQqVkYaX0JXEltfIX9GQFxVMUQgFjYsVgxbPVogNTcjFFpBU1UgV1lZUEFRXh5HLCYQUGN5OHYBWSpjQF5cIQkwMC0lUlVCWVNjXFVEXEBVXgUHc3MeDgcAdQ5xB3N9.jpg\"/>"
      ],
      "text/plain": [
       "<IPython.core.display.Image object>"
      ]
     },
     "metadata": {},
     "output_type": "display_data"
    }
   ],
   "source": [
    "from IPython.display import Image\n",
    "from IPython.core.display import HTML \n",
    "L = [ photos.url_extracted[k[1]] for k in result_malus[:10] ] \n",
    "for i in L :\n",
    "    display(Image(url= i))\n",
    "    "
   ]
  },
  {
   "cell_type": "code",
   "execution_count": 173,
   "metadata": {},
   "outputs": [],
   "source": [
    "def display_phto(k,nb_photo):\n",
    "    result_malus =article_best_images(df.Article[k], True)\n",
    "    result_sansmalus =article_best_images(df.Article[k], False)\n",
    "    print(df.Article[k])\n",
    "    L_malus = [ photos.url_extracted[k[1]] for k in result_malus[:nb_photo] ] \n",
    "    L_sansmalus= [ photos.url_extracted[k[1]] for k in result_sansmalus[:nb_photo] ] \n",
    "    print('Sans malus')\n",
    "    for i in L_sansmalus :\n",
    "        display(Image(url= i))\n",
    "    \n",
    "    print('malus')\n",
    "    for i in L_malus  :\n",
    "        display(Image(url=i))\n",
    "        \n",
    "    "
   ]
  },
  {
   "cell_type": "code",
   "execution_count": 174,
   "metadata": {},
   "outputs": [
    {
     "name": "stdout",
     "output_type": "stream",
     "text": [
      "Get all the latest news on coronavirus and more delivered daily to your inbox. Sign up here.  The signature train belonging to North Korean leader Kim Jong Un has been spotted on satellite images parked at a station on the nation's eastern coast since last week, according to a U.S. monitor, as questions swirl over the dictator's health.  Since Kim missed an April 15 commemoration of the 108th birthday of his grandfather, North Korea founder Kim Il Sung, unverified reports have emerged about his health.  On Sunday, a key aide to the president of South Korea insisted Kim, who is believed to be 36, was \"alive and well.\"  \"Our government position is firm,\" Chung-in Moon, foreign policy adviser to South Korean President Moon Jae-in, told Fox News. \"Kim Jong Un is alive and well. He has been staying in the Wonsan area since April 13. No suspicious movements have so far been detected.\"  THE MYSTERY SURROUNDING KIM JONG UN: WHAT'S GOING ON WITH THE NORTH KOREAN DICTATOR'S HEALTH?  Satellite photos released on Saturday echo South Korean government intelligence that Kim is staying outside of the capital, Pyongyang. The photos released by 38 North, a Washington-based website specializing in North Korea studies, show that activity has increased in the resort town of Wonsan in April.  Kim Jong Un's train has been parked at the Leadership Railway Station servicing his Wonsan compound since at least April 21, the website 38 North said Saturday, citing an analysis of recent satellite photos of the area.  The railway station in Wonson is reserved for use by the Kim family.  The website said the approximately 820-foot-long train wasn’t present on April 15, but was present on both April 21 and 23.  \"The train’s presence does not prove the whereabouts of the North Korean leader or indicate anything about his health, but it does lend weight to reports that Kim is staying at an elite area on the country’s eastern coast,\" the group said.  The photos indicate the train arrived before April 21 and was still present on April 23, when it appeared to be repositioned for departure.  \"However, there was no indication when that departure might take place,\" the group said.  US HAS EXTENSIVE CONTINGENCY PLANS IN CASE OF KIM JONG UN DEATH: SOURCES  North Korea's dictator has taken his distinct armored green and yellow train to recent summits in Russia and Vietnam.  Kim’s preferred travel method is by train — like his late father Kim Jong Il and grandfather Kim Il Sung. Kim’s father loathed flying and made all his trips abroad, almost all to China, by rail.  The train cars are reportedly bulletproof, making them heavier than normal carriages — and much slower when traveling, according to a 2009 report by Chosun Ilbo. It travels an average speed of 37 mph.  The train, originally owned by Kim's father, appears to provide a lot of comfort for the North Korean leaders. Kim reportedly is known for traveling with a big entourage — possibly more than 200 people — and lots of supplies.  His train, unmistakable with its dark green paint job and yellow piping, is perfect for that.  Its 90 carriages are said to contain bedrooms, conference rooms and a chamber equipped with satellite phones and flat-screen televisions, as well as cases of Bordeaux and Beaujolais wine flown from Paris, Konstantin Pulikovsky, a Russian official who accompanied Kim Jong ll on a three-week trip to Moscow in 2001, said in an account published in 2002.  Passengers could also reportedly feast on live lobster and pork barbecue.  For security reasons, officials reportedly make sure to collect Kim's bodily waste and even his cigarette butts to prevent foreign intelligence agencies from collecting and analyzing them for clues into the leader's health.  One source in South Korea told Fox News on Sunday the 38 North report on the train was \"significant,\" and there have been other sightings of him at the coastal resort.  Kim could be recuperating in Wonson from an operation. He has reportedly been sending messages to various officials, according to state media.  WITH KIM JONG UN’S HEALTH UNCERTAIN, FOCUS SHIFTS TO POWERFUL SISTER KIM YO JONG  The South Korean source told Fox News the regime wouldn’t put on that charade if it was getting ready to announce Kim's death.  He also told downplayed reports that Kim was in a “vegetative state,\" saying if any Chinese medical experts had any stature, they would not blow Beijing’s cover.  “It was just too matter-of-fact,” the source told Fox News on Sunday.  Kim is the third generation of his family to rule North Korea, and he hadn’t missed the April 15 event, one of the year's most important for the North, since assuming power after his father Kim Jong Il’s death in late 2011.  Kim's health is of crucial importance because of worries that a serious illness or death could cause instability in the impoverished, nuclear-armed country.  North Korea exerts extremely tight control over information about its leadership, making it virtually impossible for outsiders to find out what’s going on at senior levels. When Kim Jong Il died in December 2011, for instance, few outsiders knew it until it was reported by North Korea’s state media two days later.  A senior U.S. official told Fox News on Saturday there is no definitive intelligence suggesting that Kim Jong Un is dead and that officials are watching the situation carefully.  While he has ruled with an iron fist, the North Korean leader has had health issues. In 2014, he vanished from the public eye for nearly six weeks before reappearing with a cane. South Korea’s spy agency said days later that he had a cyst removed from his ankle.  CLICK HERE FOR THE FOX NEWS APP  Foreigners who were in proximity to Kim during the last Trump-Kim Summit in 2019 noted unusually heavy breathing for someone in his mid-30s.  Kim also appeared winded while walking slowly, a likely sign of the underlying heart condition that’s plagued him for years, an intelligence source told Fox News at the time.  Fox News' Tucker Carlson -- who witnessed President Trump become the first sitting U.S. president to enter North Korea and shake hands with Kim in the Demilitarized Zone last summer -- described Kim as “wheezing like an emphysema patient, not a healthy guy.”  Fox News' Jennifer Griffin, Gillian Turner, Katherine Lam, Michael Ruiz, and the Associated Press contributed to this report.\n",
      "Sans malus\n"
     ]
    },
    {
     "data": {
      "text/html": [
       "<img src=\"https://api.afp.com/objects/api/medias?id=a1kkIS0nShZdXlcxVgJEXV1EQksZdHoaFnNyEWh0dBB3YAAedQRzcWkXTFBOXVQqVkYaX0JXEltfIX9GQFxVMUQgFjYsVgxbPVogNTcjFFpBU1UgV1lZUEFRXh5HLCYQClEMM28QYxJjQF5cIQkwMC0lUlVCWVNjXFVEXEBVXgUHc3MeDgcBcAJxCXJ2.jpg\"/>"
      ],
      "text/plain": [
       "<IPython.core.display.Image object>"
      ]
     },
     "metadata": {},
     "output_type": "display_data"
    },
    {
     "data": {
      "text/html": [
       "<img src=\"https://api.afp.com/objects/api/medias?id=a1kkIS0nShZdXlcxVgJEXV1EQksZdHoCeHRkHgYBY3ENYR8BdAZ1aBUzUFpGWlcqUgNeRVUPTlFSeClUV1NEMlJjRSohD1pJKlUxNiFrWlVIW10rTUBRRlNDC0lfIX8eWgpGGWIWYWU3XV1VeUU0LCctVVZCXR4gQV1dR1dDEAkAdHEaDAcFdAJ1AXs%3D.jpg\"/>"
      ],
      "text/plain": [
       "<IPython.core.display.Image object>"
      ]
     },
     "metadata": {},
     "output_type": "display_data"
    },
    {
     "data": {
      "text/html": [
       "<img src=\"https://api.afp.com/objects/api/medias?id=a1kkIS0nShZdXlcxVgJEXV1EQksZdHYCeHRkHgYBYXEQfx8BdAZ1aBUzUFpGWlcqUgNeRVUPTlFSeClUV1NEMlJjRSohD1pJKlUxNiFrWlVIW10rTUBRRlNDC0lfIX9rcwd%2BN3MpAWU3XV1VeUU0LCctVVZCXR4gQV1dR1dDEAkAdHEaDAcFdwd9A3Q%3D.jpg\"/>"
      ],
      "text/plain": [
       "<IPython.core.display.Image object>"
      ]
     },
     "metadata": {},
     "output_type": "display_data"
    },
    {
     "data": {
      "text/html": [
       "<img src=\"https://api.afp.com/objects/api/medias?id=a1kkIS0nShZdXlcxVgJEXV1EQksZdHsUFnNyEWh0eA12ZQMedQRzcWkXTFBOXVQqVkYaX0JXEltfIX9GQFxVMUQgFjYsVgxbPVogNTcjFFpBU1UgV1lZUEFRXh5HLCYQUGN5OHYBWSpjQF5cIQkwMC0lUlVCWVNjXFVEXEBVXgUHc3MeDgcAdQ5xB3B9.jpg\"/>"
      ],
      "text/plain": [
       "<IPython.core.display.Image object>"
      ]
     },
     "metadata": {},
     "output_type": "display_data"
    },
    {
     "data": {
      "text/html": [
       "<img src=\"https://api.afp.com/objects/api/medias?id=a1kkIS0nShZdXlcxVgJEXV1EQksZdHEUFnNyEWh0eA1xAwUedQRzcWkXTFBOXVQqVkYaX0JXEltfIX9GQFxVMUQgFjYsVgxbPVogNTcjFFpBU1UgV1lZUEFRXh5HLCYQUGN5OHYBWSpjQF5cIQkwMC0lUlVCWVNjXFVEXEBVXgUHc3MeDgcAdQ5xB3N8.jpg\"/>"
      ],
      "text/plain": [
       "<IPython.core.display.Image object>"
      ]
     },
     "metadata": {},
     "output_type": "display_data"
    },
    {
     "data": {
      "text/html": [
       "<img src=\"https://api.afp.com/objects/api/medias?id=a1kkIS0nShZdX1sxTF9RGkJYQkxZNm0fDQcbcAdwH3B3HQMEcRsAAxQZCHR%2BAnQMFHxBXFFbQVdZLmxHSVULIl4hDSg8XFBAN1FnMC0iBFJUWFk1SkgZVl5VQF1YMS9ISlNHZ0YsVH4VCmdpK2N2E2I0VlVIC0kwUE5fWV1fRh5TPTJES1dHfAZzAXByBwMAfAZ2c30%3D.jpg\"/>"
      ],
      "text/plain": [
       "<IPython.core.display.Image object>"
      ]
     },
     "metadata": {},
     "output_type": "display_data"
    },
    {
     "name": "stdout",
     "output_type": "stream",
     "text": [
      "malus\n"
     ]
    },
    {
     "data": {
      "text/html": [
       "<img src=\"https://api.afp.com/objects/api/medias?id=a1kkIS0nShZdXlcxVgJEXV1EQksZdHoaFnNyEWh0dBB3YAAedQRzcWkXTFBOXVQqVkYaX0JXEltfIX9GQFxVMUQgFjYsVgxbPVogNTcjFFpBU1UgV1lZUEFRXh5HLCYQClEMM28QYxJjQF5cIQkwMC0lUlVCWVNjXFVEXEBVXgUHc3MeDgcBcAJxCXJ2.jpg\"/>"
      ],
      "text/plain": [
       "<IPython.core.display.Image object>"
      ]
     },
     "metadata": {},
     "output_type": "display_data"
    },
    {
     "data": {
      "text/html": [
       "<img src=\"https://api.afp.com/objects/api/medias?id=a1kkIS0nShZdXlcxVgJEXV1EQksZdHoCeHRkHgYBY3ENYR8BdAZ1aBUzUFpGWlcqUgNeRVUPTlFSeClUV1NEMlJjRSohD1pJKlUxNiFrWlVIW10rTUBRRlNDC0lfIX8eWgpGGWIWYWU3XV1VeUU0LCctVVZCXR4gQV1dR1dDEAkAdHEaDAcFdAJ1AXs%3D.jpg\"/>"
      ],
      "text/plain": [
       "<IPython.core.display.Image object>"
      ]
     },
     "metadata": {},
     "output_type": "display_data"
    },
    {
     "data": {
      "text/html": [
       "<img src=\"https://api.afp.com/objects/api/medias?id=a1kkIS0nShZdX1sxTF9RGkJYQkxZNm0fDQcbcAdwH3B3HQMEcRsAAxQZCHR%2BAnQMFHxBXFFbQVdZLmxHSVULIl4hDSg8XFBAN1FnMC0iBFJUWFk1SkgZVl5VQF1YMS9ISlNHZ0YsVH4VCmdpK2N2E2I0VlVIC0kwUE5fWV1fRh5TPTJES1dHfAZzAXByBwMAfAZ2c30%3D.jpg\"/>"
      ],
      "text/plain": [
       "<IPython.core.display.Image object>"
      ]
     },
     "metadata": {},
     "output_type": "display_data"
    },
    {
     "data": {
      "text/html": [
       "<img src=\"https://api.afp.com/objects/api/medias?id=a1kkIS0nShZdXlcxVgJEXV1EQksZdHsUFnNyEWh0eA12ZQMedQRzcWkXTFBOXVQqVkYaX0JXEltfIX9GQFxVMUQgFjYsVgxbPVogNTcjFFpBU1UgV1lZUEFRXh5HLCYQUGN5OHYBWSpjQF5cIQkwMC0lUlVCWVNjXFVEXEBVXgUHc3MeDgcAdQ5xB3B9.jpg\"/>"
      ],
      "text/plain": [
       "<IPython.core.display.Image object>"
      ]
     },
     "metadata": {},
     "output_type": "display_data"
    },
    {
     "data": {
      "text/html": [
       "<img src=\"https://api.afp.com/objects/api/medias?id=a1kkIS0nShZdXlcxVgJEXV1EQksZdHEUFnNyEWh0eA1xAwUedQRzcWkXTFBOXVQqVkYaX0JXEltfIX9GQFxVMUQgFjYsVgxbPVogNTcjFFpBU1UgV1lZUEFRXh5HLCYQUGN5OHYBWSpjQF5cIQkwMC0lUlVCWVNjXFVEXEBVXgUHc3MeDgcAdQ5xB3N8.jpg\"/>"
      ],
      "text/plain": [
       "<IPython.core.display.Image object>"
      ]
     },
     "metadata": {},
     "output_type": "display_data"
    },
    {
     "data": {
      "text/html": [
       "<img src=\"https://api.afp.com/objects/api/medias?id=a1kkIS0nShZdXlcxVgJEXV1EQksZdHMUFnNyEWh0enp0CnIedQRzcWkXTFBOXVQqVkYaX0JXEltfIX9GQFxVMUQgFjYsVgxbPVogNTcjFFpBU1UgV1lZUEFRXh5HLCYQaAtSGWE%2FZzdjQF5cIQkwMC0lUlVCWVNjXFVEXEBVXgUHc3MeDgcAcw9xB3p8.jpg\"/>"
      ],
      "text/plain": [
       "<IPython.core.display.Image object>"
      ]
     },
     "metadata": {},
     "output_type": "display_data"
    }
   ],
   "source": [
    "display_phto(4,6)"
   ]
  },
  {
   "cell_type": "code",
   "execution_count": 192,
   "metadata": {},
   "outputs": [],
   "source": [
    "article_time= 'Jerusalem (CNN) The mourners gathered by the hundreds, packed tightly on to the evening streets of Bnei Brak. There was no social distancing -- no two meters between them -- as they made their way down the roads of this ultra-Orthodox town near Tel Aviv for the Saturday night funeral of Rabbi Tzvi Shenkar.\\n\\nDespite a police presence, the crowd mingled freely, apparently unconcerned about the government restrictions on large gatherings, or the reason behind them.\\n\\nAs Israel has battled the spread of coronavirus , the government has imposed increasingly tighter restrictions on the public in an attempt to slow the rate of infection. As of Tuesday morning, Israel had 4,831 confirmed cases of coronavirus and 17 deaths as a result of the disease.\\n\\nThough police say the majority of the public has heeded the instructions, the seriousness of the situation seems yet to have fully penetrated the ultra-Orthodox community.\\n\\nMore than a week earlier, an ultra-Orthodox wedding in Bet Shemesh near Jerusalem drew a crowd of 150, police said, in violation of government restrictions which limited weddings to ten people. One of those in attendance was supposed to be in quarantine, police said. He was one of three people arrested for endangering public health.\\n\\n\"With the ultra-religious communities, we are definitely emphasizing police units being inside and dispersing people,\" said police spokesman Micky Rosenfeld. \"We\\'re seeing gatherings of more than ten people which is against the law,\" Rosenfeld said, emphasizing instances of religious schools that have remained open, despite orders to close.\\n\\nIn the ongoing fight against coronavirus, the ultra-Orthodox communities have become the front line. Police officers and SWAT teams have gone into these neighborhoods, warning people of the new restrictions on public gathering and issuing tickets to those who ignore the rules. But too often, the Haredim view civil laws and restrictions as an intrusion into their conservative, strictly religious, lifestyle.\\n\\nIn Mea Shearim, video from Israel police showed officers showered with cries of \"Nazis\" and \"murderers\" as they made their way down the labyrinthine alleys of the insular Jerusalem neighborhood. A medical team from Magen David Adom (MDA), Israel\\'s emergency response service, was pelted with rocks in the same neighborhood while trying to carry out a coronavirus test, a spokesman from MDA said.\\n\\nIsraeli security forces arrest an ultra-Orthodox Jewish man as they close a synagogue in Jerusalem on Monday.\\n\\nInfection rates in ultra-Orthodox communities are markedly higher than the rest of the country. The ultra-Orthodox communities in Bnei Brak, Mea Shearim, and Kiryat Yearim, which lies between Jerusalem and Tel Aviv, have among the highest infection rates in Israel, Rosenfeld said. A spokesman for the mayor of Bnei Brak said health officials had confirmed the town had the single highest infection rate in the entire country.\\n\\nIsrael\\'s ultra-Orthodox, also known as the Haredim, make up just 14% of the country\\'s total population but comprises a disproportionately large number of coronavirus patients. At Tel Hashomer hospital outside Tel Aviv, 60% of the coronavirus patients are ultra-Orthodox, spokesman Steve Walz tells CNN\\n\\nHaredi communities routinely shun modern technology like internet and smart phones. Despite a gradual modernization movement, the community still relies on posters and signs plastered on street corners to spread important messages and news. On one corner in Mea Shearim, a sign implores the community to heed the government\\'s instructions, saying, \"Danger! Responsibility Demands,\" and explains who need to enter self-quarantine. But the sign was ripped apart, with the middle section torn out.\\n\\nA number of signs nearby shared a very different message about a \"Terrible Discovery\" that the \"Corona Epidemic = A Lack of Modesty.\" The poster implored women and girls to dress modestly and adhere to religion according to the demands of Jewish law.\\n\\nA poster with instructions on how to properly sneeze in Jerusalem on Sunday.\\n\\nDespite outward appearances, the ultra-Orthodox community is not homogenous. Instead it is divided into many different factions and groups, each with its own rabbis and leaders. A directive from one rabbi may not hold sway over the followers of a different rabbi. Some of the groups are defiantly opposed to the existence of the state of Israel, believing it makes less likely the arrival of the Messiah. One of the most radical is known as the Jerusalem faction, which regularly organizes protests against the Israeli government. Police say it was this group that held the funeral in Bnei Brak over the weekend.\\n\\nEven so, some leading ultra-Orthodox rabbis have begun to instruct their followers to obey government restrictions. Rabbi Chaim Kanievsky, one of the most prominent Haredi religious leaders, warned on religious media outlets that anyone who doesn\\'t obey the instructions of the Ministry of Health should be turned over to police.\\n\\nIn an extraordinary move, he even allowed ultra-Orthodox Jews to answer their phone on the Sabbath -- when use of technology and electricity are strictly forbidden -- if they\\'re expecting results of a coronavirus test. Kanievsky\\'s intervention was all the more remarkable because in an earlier announcement about the virus he had told his followers to continue their communal study of the Torah, in direct contradiction to government instructions.\\n\\nJews attended a special prayer last Wednesday at the Western Wall for the end of the coronavirus pandemic while keeping a distance of two meters from one another.\\n\\nThe mayor of Bnei Brak, Avraham Rubinstein also warned the ultra-Orthodox community in no uncertain terms to \"Wake Up!\" in a recorded message that went out to residents via telephone. Rubinstein himself is under quarantine from the spread of coronavirus within Bnei Brak.\\n\\nThe phone call itself provides an illustration of one of the most difficult aspects of disseminating a message to the Haredi community -- when an entire population shuns the internet, smart phones and other modern means of communication, spreading urgent news and the latest directives is incredibly challenging.\\n\\n\"Inside these religious communities, they are not online and they are not using communicative systems, such as smart phone and televisions,\" said Micky Rosenfeld. \"They don\\'t exist inside these neighborhoods.\"\\n\\nMayor Rubinstein followed up his recorded warning with an interview Monday morning on a Haredi radio station, saying \"Bnei Brak has done, is doing, and will do, everything to prevent people gathering and to do everything the Ministry of Health instructs.\" But he acknowledged the town had little power to close private religious institutions that refused to comply.\\n\\n\"We\\'re in a war,\" Moti Ravid, head of the Mayanei Hayeshua hospital in Bnei Brak, told public broadcaster Kan on Sunday. \"I warned a month ago that there would be a catastrophe in the city if they did not stop the gatherings and close the synagogues and the yeshivas, and everyone yelled at me, \\'How dare you?\\'\"\\n\\n\"Today, they say, \\'It\\'s a pity we didn\\'t listen to you then.\\'\"\\n\\nIn the face of an epidemic that is decidedly worse in one specific community, the government has contemplated quarantining the ultra-Orthodox neighborhoods.\\n\\nOn Army Radio Sunday morning, Ministry of Health Director-General Moshe Bar Siman Tov said officials were looking into the possibility. \"We are checking this,\" said Siman Tov. \"If we get to the conclusion that this will be an effective step, we will recommend it.\"'\n",
    "article_time = article_time.replace(\"\\n\",\" \")"
   ]
  },
  {
   "cell_type": "code",
   "execution_count": 193,
   "metadata": {},
   "outputs": [
    {
     "name": "stdout",
     "output_type": "stream",
     "text": [
      "Jerusalem (CNN) The mourners gathered by the hundreds, packed tightly on to the evening streets of Bnei Brak. There was no social distancing -- no two meters between them -- as they made their way down the roads of this ultra-Orthodox town near Tel Aviv for the Saturday night funeral of Rabbi Tzvi Shenkar.  Despite a police presence, the crowd mingled freely, apparently unconcerned about the government restrictions on large gatherings, or the reason behind them.  As Israel has battled the spread of coronavirus , the government has imposed increasingly tighter restrictions on the public in an attempt to slow the rate of infection. As of Tuesday morning, Israel had 4,831 confirmed cases of coronavirus and 17 deaths as a result of the disease.  Though police say the majority of the public has heeded the instructions, the seriousness of the situation seems yet to have fully penetrated the ultra-Orthodox community.  More than a week earlier, an ultra-Orthodox wedding in Bet Shemesh near Jerusalem drew a crowd of 150, police said, in violation of government restrictions which limited weddings to ten people. One of those in attendance was supposed to be in quarantine, police said. He was one of three people arrested for endangering public health.  \"With the ultra-religious communities, we are definitely emphasizing police units being inside and dispersing people,\" said police spokesman Micky Rosenfeld. \"We're seeing gatherings of more than ten people which is against the law,\" Rosenfeld said, emphasizing instances of religious schools that have remained open, despite orders to close.  In the ongoing fight against coronavirus, the ultra-Orthodox communities have become the front line. Police officers and SWAT teams have gone into these neighborhoods, warning people of the new restrictions on public gathering and issuing tickets to those who ignore the rules. But too often, the Haredim view civil laws and restrictions as an intrusion into their conservative, strictly religious, lifestyle.  In Mea Shearim, video from Israel police showed officers showered with cries of \"Nazis\" and \"murderers\" as they made their way down the labyrinthine alleys of the insular Jerusalem neighborhood. A medical team from Magen David Adom (MDA), Israel's emergency response service, was pelted with rocks in the same neighborhood while trying to carry out a coronavirus test, a spokesman from MDA said.  Israeli security forces arrest an ultra-Orthodox Jewish man as they close a synagogue in Jerusalem on Monday.  Infection rates in ultra-Orthodox communities are markedly higher than the rest of the country. The ultra-Orthodox communities in Bnei Brak, Mea Shearim, and Kiryat Yearim, which lies between Jerusalem and Tel Aviv, have among the highest infection rates in Israel, Rosenfeld said. A spokesman for the mayor of Bnei Brak said health officials had confirmed the town had the single highest infection rate in the entire country.  Israel's ultra-Orthodox, also known as the Haredim, make up just 14% of the country's total population but comprises a disproportionately large number of coronavirus patients. At Tel Hashomer hospital outside Tel Aviv, 60% of the coronavirus patients are ultra-Orthodox, spokesman Steve Walz tells CNN  Haredi communities routinely shun modern technology like internet and smart phones. Despite a gradual modernization movement, the community still relies on posters and signs plastered on street corners to spread important messages and news. On one corner in Mea Shearim, a sign implores the community to heed the government's instructions, saying, \"Danger! Responsibility Demands,\" and explains who need to enter self-quarantine. But the sign was ripped apart, with the middle section torn out.  A number of signs nearby shared a very different message about a \"Terrible Discovery\" that the \"Corona Epidemic = A Lack of Modesty.\" The poster implored women and girls to dress modestly and adhere to religion according to the demands of Jewish law.  A poster with instructions on how to properly sneeze in Jerusalem on Sunday.  Despite outward appearances, the ultra-Orthodox community is not homogenous. Instead it is divided into many different factions and groups, each with its own rabbis and leaders. A directive from one rabbi may not hold sway over the followers of a different rabbi. Some of the groups are defiantly opposed to the existence of the state of Israel, believing it makes less likely the arrival of the Messiah. One of the most radical is known as the Jerusalem faction, which regularly organizes protests against the Israeli government. Police say it was this group that held the funeral in Bnei Brak over the weekend.  Even so, some leading ultra-Orthodox rabbis have begun to instruct their followers to obey government restrictions. Rabbi Chaim Kanievsky, one of the most prominent Haredi religious leaders, warned on religious media outlets that anyone who doesn't obey the instructions of the Ministry of Health should be turned over to police.  In an extraordinary move, he even allowed ultra-Orthodox Jews to answer their phone on the Sabbath -- when use of technology and electricity are strictly forbidden -- if they're expecting results of a coronavirus test. Kanievsky's intervention was all the more remarkable because in an earlier announcement about the virus he had told his followers to continue their communal study of the Torah, in direct contradiction to government instructions.  Jews attended a special prayer last Wednesday at the Western Wall for the end of the coronavirus pandemic while keeping a distance of two meters from one another.  The mayor of Bnei Brak, Avraham Rubinstein also warned the ultra-Orthodox community in no uncertain terms to \"Wake Up!\" in a recorded message that went out to residents via telephone. Rubinstein himself is under quarantine from the spread of coronavirus within Bnei Brak.  The phone call itself provides an illustration of one of the most difficult aspects of disseminating a message to the Haredi community -- when an entire population shuns the internet, smart phones and other modern means of communication, spreading urgent news and the latest directives is incredibly challenging.  \"Inside these religious communities, they are not online and they are not using communicative systems, such as smart phone and televisions,\" said Micky Rosenfeld. \"They don't exist inside these neighborhoods.\"  Mayor Rubinstein followed up his recorded warning with an interview Monday morning on a Haredi radio station, saying \"Bnei Brak has done, is doing, and will do, everything to prevent people gathering and to do everything the Ministry of Health instructs.\" But he acknowledged the town had little power to close private religious institutions that refused to comply.  \"We're in a war,\" Moti Ravid, head of the Mayanei Hayeshua hospital in Bnei Brak, told public broadcaster Kan on Sunday. \"I warned a month ago that there would be a catastrophe in the city if they did not stop the gatherings and close the synagogues and the yeshivas, and everyone yelled at me, 'How dare you?'\"  \"Today, they say, 'It's a pity we didn't listen to you then.'\"  In the face of an epidemic that is decidedly worse in one specific community, the government has contemplated quarantining the ultra-Orthodox neighborhoods.  On Army Radio Sunday morning, Ministry of Health Director-General Moshe Bar Siman Tov said officials were looking into the possibility. \"We are checking this,\" said Siman Tov. \"If we get to the conclusion that this will be an effective step, we will recommend it.\"\n",
      "Sans malus\n"
     ]
    },
    {
     "data": {
      "text/html": [
       "<img src=\"https://api.afp.com/objects/api/medias?id=a1kkIS0nShZdX1sxTF9RGkJYQkxZNm0cCgsbdQFqAXtxHQgFa3UHFRt3dgEYcw9oaFhdVllcQlddayhdXg1XKFN4WzorU0FDIRI0LCB7UkBDV0g2XABXWVddSFZCKCdeWEESMF4hDRcwYVVYCV4jYzYpVVwQR00sWkZYWl1bC11ONStfXEEJcAF0A3RwAwgGdAxzdw%3D%3D.jpg\"/>"
      ],
      "text/plain": [
       "<IPython.core.display.Image object>"
      ]
     },
     "metadata": {},
     "output_type": "display_data"
    },
    {
     "data": {
      "text/html": [
       "<img src=\"https://api.afp.com/objects/api/medias?id=a1kkIS0nShZdX1sxTF9RGkJYQkxZNm0cDgYbcAZqAXF8HQAAcBsAAxQZCHYVBQ5zFHxBXFFbQVdZLmxHSVULIl4hDSg8XFBAN1FnMC0iBFJUWFk1SkgZVl5VQF1YMS9ISlNHZ0YsVH4RR2JULHkrJ2I0VlVIC0kwUE5fWV1fRh5TPTJES1dHfAZzAXByBwAJcgVydn0%3D.jpg\"/>"
      ],
      "text/plain": [
       "<IPython.core.display.Image object>"
      ]
     },
     "metadata": {},
     "output_type": "display_data"
    },
    {
     "data": {
      "text/html": [
       "<img src=\"https://api.afp.com/objects/api/medias?id=a1kkIS0nShZdX1sxTF9RGkJYQkxZNm0cAAMbeA9qAnBzHQUDa3UHFRt3dgEbc3BoaFhdVllcQlddayhdXg1XKFN4WzorU0FDIRI0LCB7UkBDV0g2XABXWVddSFZCKCdeWEESMF4hDRcwYVVYCV4jYzYpVVwQR00sWkZYWl1bC11ONStfXEEJcAF0A3RwAwgGdAJwdQ%3D%3D.jpg\"/>"
      ],
      "text/plain": [
       "<IPython.core.display.Image object>"
      ]
     },
     "metadata": {},
     "output_type": "display_data"
    },
    {
     "data": {
      "text/html": [
       "<img src=\"https://api.afp.com/objects/api/medias?id=a1kkIS0nShZdX1sxTF9RGkJYQkxZNm0cCwAbcwZwH3RyHQAFchsAAxQZCHYVBQ4GFHxBXFFbQVdZLmxHSVULIl4hDSg8XFBAN1FnMC0iBFJUWFk1SkgZVl5VQF1YMS9ISlNHZ0YsVH4RR2JULHkrJ2I0VlVIC0kwUE5fWV1fRh5TPTJES1dHfAZzAXByBwAJcgVydnY%3D.jpg\"/>"
      ],
      "text/plain": [
       "<IPython.core.display.Image object>"
      ]
     },
     "metadata": {},
     "output_type": "display_data"
    },
    {
     "data": {
      "text/html": [
       "<img src=\"https://api.afp.com/objects/api/medias?id=a1kkIS0nShZdX1sxTF9RGkJYQkxZNm0VCx0FdgJqA3RqAwgGa3UHFRt3dgEff3poaFhdVllcQlddayhdXg1XKFN4WzorU0FDIRI0LCB7UkBDV0g2XABXWVddSFZCKCdeWEESMF4hDRcwYVVYCV4jYzYpVVwQR00sWkZYWl1bC11ONStfXEEJcAF0A3RwAwgGdQdwfA%3D%3D.jpg\"/>"
      ],
      "text/plain": [
       "<IPython.core.display.Image object>"
      ]
     },
     "metadata": {},
     "output_type": "display_data"
    },
    {
     "data": {
      "text/html": [
       "<img src=\"https://api.afp.com/objects/api/medias?id=a1kkIS0nShZdX1sxTF9RGkJYQkxZNm0cCAYbcwdyH3V8HQAGcBsAAxQZCHYVAnRzFHxBXFFbQVdZLmxHSVULIl4hDSg8XFBAN1FnMC0iBFJUWFk1SkgZVl5VQF1YMS9ISlNHZ0YsVH4RR2JULHkrJ2I0VlVIC0kwUE5fWV1fRh5TPTJES1dHfAZzAXByBwAJcgVwdXU%3D.jpg\"/>"
      ],
      "text/plain": [
       "<IPython.core.display.Image object>"
      ]
     },
     "metadata": {},
     "output_type": "display_data"
    },
    {
     "data": {
      "text/html": [
       "<img src=\"https://api.afp.com/objects/api/medias?id=a1kkIS0nShZdX1sxTF9RGkJYQkxZNm0cCAYbcwdyH3V8HQAGcBsAAxQZCHYVAnR3FHxBXFFbQVdZLmxHSVULIl4hDSg8XFBAN1FnMC0iBFJUWFk1SkgZVl5VQF1YMS9ISlNHZ0YsVH4RR2JULHkrJ2I0VlVIC0kwUE5fWV1fRh5TPTJES1dHfAZzAXByBwAJcgVxc3M%3D.jpg\"/>"
      ],
      "text/plain": [
       "<IPython.core.display.Image object>"
      ]
     },
     "metadata": {},
     "output_type": "display_data"
    },
    {
     "data": {
      "text/html": [
       "<img src=\"https://api.afp.com/objects/api/medias?id=a1kkIS0nShZdX1sxTF9RGkJYQkxZNm0bCR0FdARqAXZqAAAIa3UHFRt3dgEZe35oaFhdVllcQlddayhdXg1XKFN4WzorU0FDIRI0LCB7UkBDV0g2XABXWVddSFZCKCdeWEESMF4hDRcwYVVYCV4jYzYpVVwQR00sWkZYWl1bC11ONStfXEEJcAF0A3RwAwgGdQRxcQ%3D%3D.jpg\"/>"
      ],
      "text/plain": [
       "<IPython.core.display.Image object>"
      ]
     },
     "metadata": {},
     "output_type": "display_data"
    },
    {
     "data": {
      "text/html": [
       "<img src=\"https://api.afp.com/objects/api/medias?id=a1kkIS0nShZdX1sxTF9RGkJYQkxZNm0cCAYbcwdyH3V8HQAGcBsAAxQZCHYVA2tyFHxBXFFbQVdZLmxHSVULIl4hDSg8XFBAN1FnMC0iBFJUWFk1SkgZVl5VQF1YMS9ISlNHZ0YsVH4RR2JULHkrJ2I0VlVIC0kwUE5fWV1fRh5TPTJES1dHfAZzAXByBwAJcgR3fHc%3D.jpg\"/>"
      ],
      "text/plain": [
       "<IPython.core.display.Image object>"
      ]
     },
     "metadata": {},
     "output_type": "display_data"
    },
    {
     "data": {
      "text/html": [
       "<img src=\"https://api.afp.com/objects/api/medias?id=a1kkIS0nShZdX1sxTF9RGkJYQkxZNm0YDx0FdQ5qAXJqAAMCa3UHFRt3dgkVZW1oaFhdVllcQlddayhdXg1XKFN4WzorU0FDIRI0LCB7UkBDV0g2XABXWVddSFZCKCdeWEESMF4hDSUVB1RUCloZYzYpVVwQR00sWkZYWl1bC11ONStfXEEJcAF0A3RwAwgGcgN4cQ%3D%3D.jpg\"/>"
      ],
      "text/plain": [
       "<IPython.core.display.Image object>"
      ]
     },
     "metadata": {},
     "output_type": "display_data"
    },
    {
     "name": "stdout",
     "output_type": "stream",
     "text": [
      "\n",
      " Malus\n"
     ]
    },
    {
     "data": {
      "text/html": [
       "<img src=\"https://api.afp.com/objects/api/medias?id=a1kkIS0nShZdX1sxTF9RGkJYQkxZNm0cCgsbdQFqAXtxHQgFa3UHFRt3dgEYcw9oaFhdVllcQlddayhdXg1XKFN4WzorU0FDIRI0LCB7UkBDV0g2XABXWVddSFZCKCdeWEESMF4hDRcwYVVYCV4jYzYpVVwQR00sWkZYWl1bC11ONStfXEEJcAF0A3RwAwgGdAxzdw%3D%3D.jpg\"/>"
      ],
      "text/plain": [
       "<IPython.core.display.Image object>"
      ]
     },
     "metadata": {},
     "output_type": "display_data"
    },
    {
     "data": {
      "text/html": [
       "<img src=\"https://api.afp.com/objects/api/medias?id=a1kkIS0nShZdX1sxTF9RGkJYQkxZNm0cDgYbcAZqAXF8HQAAcBsAAxQZCHYVBQ5zFHxBXFFbQVdZLmxHSVULIl4hDSg8XFBAN1FnMC0iBFJUWFk1SkgZVl5VQF1YMS9ISlNHZ0YsVH4RR2JULHkrJ2I0VlVIC0kwUE5fWV1fRh5TPTJES1dHfAZzAXByBwAJcgVydn0%3D.jpg\"/>"
      ],
      "text/plain": [
       "<IPython.core.display.Image object>"
      ]
     },
     "metadata": {},
     "output_type": "display_data"
    },
    {
     "data": {
      "text/html": [
       "<img src=\"https://api.afp.com/objects/api/medias?id=a1kkIS0nShZdX1sxTF9RGkJYQkxZNm0cAAMbeA9qAnBzHQUDa3UHFRt3dgEbc3BoaFhdVllcQlddayhdXg1XKFN4WzorU0FDIRI0LCB7UkBDV0g2XABXWVddSFZCKCdeWEESMF4hDRcwYVVYCV4jYzYpVVwQR00sWkZYWl1bC11ONStfXEEJcAF0A3RwAwgGdAJwdQ%3D%3D.jpg\"/>"
      ],
      "text/plain": [
       "<IPython.core.display.Image object>"
      ]
     },
     "metadata": {},
     "output_type": "display_data"
    },
    {
     "data": {
      "text/html": [
       "<img src=\"https://api.afp.com/objects/api/medias?id=a1kkIS0nShZdX1sxTF9RGkJYQkxZNm0VCR0FdgRqA3ZqAwgIa3UHFRt3dgEYdH1oaFhdVllcQlddayhdXg1XKFN4WzorU0FDIRI0LCB7UkBDV0g2XABXWVddSFZCKCdeWEESMF4hDRcwYVVYCV4jYzYpVVwQR00sWkZYWl1bC11ONStfXEEJcAF0A3RwAwgGdAx2cg%3D%3D.jpg\"/>"
      ],
      "text/plain": [
       "<IPython.core.display.Image object>"
      ]
     },
     "metadata": {},
     "output_type": "display_data"
    },
    {
     "data": {
      "text/html": [
       "<img src=\"https://api.afp.com/objects/api/medias?id=a1kkIS0nShZdX1sxTF9RGkJYQkxZNm0YDx0FdQ5qAXJqAAMCa3UHFRt3dgkVZW1oaFhdVllcQlddayhdXg1XKFN4WzorU0FDIRI0LCB7UkBDV0g2XABXWVddSFZCKCdeWEESMF4hDSUVB1RUCloZYzYpVVwQR00sWkZYWl1bC11ONStfXEEJcAF0A3RwAwgGcgN4cQ%3D%3D.jpg\"/>"
      ],
      "text/plain": [
       "<IPython.core.display.Image object>"
      ]
     },
     "metadata": {},
     "output_type": "display_data"
    },
    {
     "data": {
      "text/html": [
       "<img src=\"https://api.afp.com/objects/api/medias?id=a1kkIS0nShZdX1sxTF9RGkJYQkxZNm0cDQEbdAdqAXt9HQgBa3UHFRt3dgkVYw5oaFhdVllcQlddayhdXg1XKFN4WzorU0FDIRI0LCB7UkBDV0g2XABXWVddSFZCKCdeWEESMF4hDSUVB1RUCloZYzYpVVwQR00sWkZYWl1bC11ONStfXEEJcAF0A3RwAwgGcgFxfA%3D%3D.jpg\"/>"
      ],
      "text/plain": [
       "<IPython.core.display.Image object>"
      ]
     },
     "metadata": {},
     "output_type": "display_data"
    },
    {
     "data": {
      "text/html": [
       "<img src=\"https://api.afp.com/objects/api/medias?id=a1kkIS0nShZdX1sxTF9RGkJYQkxZNm0YCx0FdQJqAHRqAAMGa3UHFRt3dgkVZW5oaFhdVllcQlddayhdXg1XKFN4WzorU0FDIRI0LCB7UkBDV0g2XABXWVddSFZCKCdeWEESMF4hDSUVB1RUCloZYzYpVVwQR00sWkZYWl1bC11ONStfXEEJcAF0A3RwAwgGcgN4dg%3D%3D.jpg\"/>"
      ],
      "text/plain": [
       "<IPython.core.display.Image object>"
      ]
     },
     "metadata": {},
     "output_type": "display_data"
    },
    {
     "data": {
      "text/html": [
       "<img src=\"https://api.afp.com/objects/api/medias?id=a1kkIS0nShZdX1sxTF9RGkJYQkxZNm0VCx0FdgJqA3RqAwgGa3UHFRt3dgEff3poaFhdVllcQlddayhdXg1XKFN4WzorU0FDIRI0LCB7UkBDV0g2XABXWVddSFZCKCdeWEESMF4hDRcwYVVYCV4jYzYpVVwQR00sWkZYWl1bC11ONStfXEEJcAF0A3RwAwgGdQdwfA%3D%3D.jpg\"/>"
      ],
      "text/plain": [
       "<IPython.core.display.Image object>"
      ]
     },
     "metadata": {},
     "output_type": "display_data"
    },
    {
     "data": {
      "text/html": [
       "<img src=\"https://api.afp.com/objects/api/medias?id=a1kkIS0nShZdX1sxTF9RGkJYQkxZNm0cCAYbcwdyH3V8HQAGcBsAAxQZCHYVA2tyFHxBXFFbQVdZLmxHSVULIl4hDSg8XFBAN1FnMC0iBFJUWFk1SkgZVl5VQF1YMS9ISlNHZ0YsVH4RR2JULHkrJ2I0VlVIC0kwUE5fWV1fRh5TPTJES1dHfAZzAXByBwAJcgR3fHc%3D.jpg\"/>"
      ],
      "text/plain": [
       "<IPython.core.display.Image object>"
      ]
     },
     "metadata": {},
     "output_type": "display_data"
    },
    {
     "data": {
      "text/html": [
       "<img src=\"https://api.afp.com/objects/api/medias?id=a1kkIS0nShZdX1sxTF9RGkJYQkxZNm0cCwAbcwZwH3RyHQAFchsAAxQZCHYVBQ4GFHxBXFFbQVdZLmxHSVULIl4hDSg8XFBAN1FnMC0iBFJUWFk1SkgZVl5VQF1YMS9ISlNHZ0YsVH4RR2JULHkrJ2I0VlVIC0kwUE5fWV1fRh5TPTJES1dHfAZzAXByBwAJcgVydnY%3D.jpg\"/>"
      ],
      "text/plain": [
       "<IPython.core.display.Image object>"
      ]
     },
     "metadata": {},
     "output_type": "display_data"
    },
    {
     "name": "stdout",
     "output_type": "stream",
     "text": [
      "CPU times: user 12.6 s, sys: 1.57 s, total: 14.1 s\n",
      "Wall time: 11.7 s\n"
     ]
    }
   ],
   "source": [
    "%%time\n",
    "nb_photo = 10 \n",
    "result_malus = article_best_images(article_time, True)\n",
    "result_sansmalus =article_best_images(article_time, False)\n",
    "print(article_time)\n",
    "L_malus = [ photos.url_extracted[k[1]] for k in result_malus[:nb_photo] ] \n",
    "L_sansmalus= [ photos.url_extracted[k[1]] for k in result_sansmalus[:nb_photo] ] \n",
    "print('Sans malus')\n",
    "for i in L_sansmalus :\n",
    "    display(Image(url= i))\n",
    "\n",
    "print('\\n Malus')\n",
    "for i in L_malus  :\n",
    "    display(Image(url=i))\n",
    "        "
   ]
  },
  {
   "cell_type": "code",
   "execution_count": 194,
   "metadata": {},
   "outputs": [
    {
     "data": {
      "text/plain": [
       "(2.748826807084824, 11538)"
      ]
     },
     "execution_count": 194,
     "metadata": {},
     "output_type": "execute_result"
    }
   ],
   "source": [
    "result_malus[4]"
   ]
  },
  {
   "cell_type": "code",
   "execution_count": 196,
   "metadata": {},
   "outputs": [
    {
     "data": {
      "text/plain": [
       "'A visitor walks past a photo of a defaced Jewish shop at the Yad Vashem Holocaust memorial center in Jerusalem on January 20, 2020. World leaders are to travel to Israel this week to mark 75 years since the Red Army liberated Auschwitz, the extermination camp where the Nazis killed over a million Jews.'"
      ]
     },
     "execution_count": 196,
     "metadata": {},
     "output_type": "execute_result"
    }
   ],
   "source": [
    "photos.caption[11538]"
   ]
  }
 ],
 "metadata": {
  "hide_input": false,
  "kernelspec": {
   "display_name": "Python 3",
   "language": "python",
   "name": "python3"
  },
  "language_info": {
   "codemirror_mode": {
    "name": "ipython",
    "version": 3
   },
   "file_extension": ".py",
   "mimetype": "text/x-python",
   "name": "python",
   "nbconvert_exporter": "python",
   "pygments_lexer": "ipython3",
   "version": "3.7.3"
  }
 },
 "nbformat": 4,
 "nbformat_minor": 2
}
