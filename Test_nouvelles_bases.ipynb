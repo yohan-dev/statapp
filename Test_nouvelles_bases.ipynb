{
 "cells": [
  {
   "cell_type": "code",
   "execution_count": 3,
   "metadata": {},
   "outputs": [],
   "source": [
    "import pandas as pd\n",
    "\n",
    "photos = pd.read_csv('photos.csv',encoding='latin-1')\n",
    "depeches = pd.read_csv('depeches.csv')\n",
    "score_photos = pd.read_csv(\"scores_freq_photos1.csv\")\n",
    "score_depeches = pd.read_csv(\"scores_freq_depeches.csv\")"
   ]
  },
  {
   "cell_type": "code",
   "execution_count": 2,
   "metadata": {},
   "outputs": [
    {
     "data": {
      "text/plain": [
       "(150536, 3)"
      ]
     },
     "execution_count": 2,
     "metadata": {},
     "output_type": "execute_result"
    }
   ],
   "source": [
    "score_photos.shape"
   ]
  },
  {
   "cell_type": "code",
   "execution_count": 2,
   "metadata": {},
   "outputs": [],
   "source": [
    "import pandas as pd\n",
    "\n",
    "score_photos = pd.read_csv(\"scores_freq_photos1.csv\")\n",
    "#score_depeches = pd.read_csv(\"scores_freq_depeches.csv\")\n",
    "#score_depeches"
   ]
  },
  {
   "cell_type": "code",
   "execution_count": 15,
   "metadata": {},
   "outputs": [
    {
     "data": {
      "text/plain": [
       "\"{'Anett Kontaveit': 1.829787234, 'Estonia': 0.8297872340000001, 'Estonia Dubai Tennis Championships': 0.8297872340000001, 'Petra Martic': 0.8297872340000001, 'Croatia': 0.8297872340000001, 'Dubai': 0.8297872340000001}\""
      ]
     },
     "execution_count": 15,
     "metadata": {},
     "output_type": "execute_result"
    }
   ],
   "source": [
    "score_photos.scores[19]"
   ]
  },
  {
   "cell_type": "code",
   "execution_count": 6,
   "metadata": {},
   "outputs": [
    {
     "data": {
      "text/plain": [
       "(360999, 45)"
      ]
     },
     "execution_count": 6,
     "metadata": {},
     "output_type": "execute_result"
    }
   ],
   "source": [
    "photos.shape"
   ]
  },
  {
   "cell_type": "code",
   "execution_count": 4,
   "metadata": {},
   "outputs": [],
   "source": [
    "pd.set_option(\"display.max_colwidth\",100)\n",
    "pd.set_option(\"display.max_columns\",500)\n"
   ]
  },
  {
   "cell_type": "code",
   "execution_count": 5,
   "metadata": {},
   "outputs": [],
   "source": [
    "photos.dropna(subset=['event'], inplace= True)\n",
    "depeches.drop_duplicates(subset=['news2','event'], keep='first', inplace=True)\n",
    "depeches.shape\n",
    "photos.drop_duplicates(subset='caption', keep='first', inplace=True)\n",
    "photos.shape\n",
    "def author_del_photos(text):\n",
    "    text_s = text\n",
    "    while(text_s[-7:] != ' / AFP ' and len(text_s) > 1): \n",
    "        text_s = text_s[:-1]\n",
    "    if(len(text_s) <= 1):\n",
    "        return(text)\n",
    "    return(text_s[:-7])\n",
    "photos.caption = photos.caption.apply(author_del_photos)      \n",
    "depeches.news2 = depeches.news2.apply(lambda x: x.replace('\\n', ' '))"
   ]
  },
  {
   "cell_type": "code",
   "execution_count": 4,
   "metadata": {},
   "outputs": [
    {
     "name": "stdout",
     "output_type": "stream",
     "text": [
      "13335\n",
      "16055\n"
     ]
    }
   ],
   "source": [
    "liste_ev_unique_depeches, liste_ev_unique_photos = [],[]\n",
    "for ev in depeches.event:\n",
    "    for _ev in ev[1:-1].replace(\"'\",\"\").split(', '):\n",
    "        if _ev not in liste_ev_unique_depeches:\n",
    "            liste_ev_unique_depeches.append(_ev)\n",
    "print(len(liste_ev_unique_depeches))\n",
    "liste_ev_unique_photos = []\n",
    "for ev in photos.event:\n",
    "\n",
    "    for _ev in ev[1:-1].replace(\"'\",\"\").split(', '):\n",
    "        if _ev not in liste_ev_unique_photos:\n",
    "            liste_ev_unique_photos.append(_ev)\n",
    "print(len(liste_ev_unique_photos))"
   ]
  },
  {
   "cell_type": "code",
   "execution_count": 10,
   "metadata": {},
   "outputs": [
    {
     "name": "stdout",
     "output_type": "stream",
     "text": [
      "Il y a 10356  evenements parmi 13335  evenements dans depeches qui ne sont pas dans photos\n",
      "Il y a 13076  evenements parmi  16055  dans photos qui ne sont pas dans depeches\n"
     ]
    }
   ],
   "source": [
    "# Combien d'evenements sont dans depeches mais pas dans  photos? \n",
    "c=0 \n",
    "for k in liste_ev_unique_depeches:\n",
    "    if k not in liste_ev_unique_photos:\n",
    "        c+=1 \n",
    "print( \"Il y a\",c,\" evenements parmi\", len(liste_ev_unique_depeches),\" evenements dans depeches qui ne sont pas dans photos\")\n",
    "\n",
    "c=0 \n",
    "for k in liste_ev_unique_photos:\n",
    "    if k not in liste_ev_unique_depeches:\n",
    "        c+=1 \n",
    "print( \"Il y a\",c,\" evenements parmi \", len(liste_ev_unique_photos),\" dans photos qui ne sont pas dans depeches\")\n",
    "# Combien de depeches ont des evenements dans photos ? \n"
   ]
  },
  {
   "cell_type": "code",
   "execution_count": 5,
   "metadata": {},
   "outputs": [
    {
     "name": "stderr",
     "output_type": "stream",
     "text": [
      "/Users/ya/miniconda3/lib/python3.7/site-packages/ipykernel_launcher.py:6: TqdmDeprecationWarning: This function will be removed in tqdm==5.0.0\n",
      "Please use `tqdm.notebook.tqdm` instead of `tqdm.tqdm_notebook`\n",
      "  \n"
     ]
    },
    {
     "data": {
      "application/vnd.jupyter.widget-view+json": {
       "model_id": "c48ab32caab0493a9e3b273dd74e939d",
       "version_major": 2,
       "version_minor": 0
      },
      "text/plain": [
       "HBox(children=(FloatProgress(value=0.0, max=19858.0), HTML(value='')))"
      ]
     },
     "metadata": {},
     "output_type": "display_data"
    },
    {
     "name": "stdout",
     "output_type": "stream",
     "text": [
      "\n"
     ]
    },
    {
     "data": {
      "text/plain": [
       "10137"
      ]
     },
     "execution_count": 5,
     "metadata": {},
     "output_type": "execute_result"
    }
   ],
   "source": [
    "# Combien de depeches ont au moins un evenement en commun avec une photo  ? \n",
    "# Index_inter est l'index des depeches qui ont au moins un evenement en commun avec une photo. \n",
    "from tqdm import tqdm_notebook\n",
    "c= 0 \n",
    "index_inter = []\n",
    "for i in tqdm_notebook((depeches.index)):\n",
    "    L = depeches.event[i][1:-1].replace(\"'\",\"\").split(', ')\n",
    "    nb = len(L)\n",
    "    for j in L:\n",
    "        if j in liste_ev_unique_photos and nb>1:\n",
    "            c+=1\n",
    "            index_inter.append(i)\n",
    "            break\n",
    "        if j in liste_ev_unique_photos and nb==1:\n",
    "            c+=1\n",
    "            index_inter.append(i)\n",
    "c\n",
    "     "
   ]
  },
  {
   "cell_type": "code",
   "execution_count": 43,
   "metadata": {},
   "outputs": [],
   "source": [
    "from tqdm import tqdm_notebook"
   ]
  },
  {
   "cell_type": "code",
   "execution_count": 20,
   "metadata": {},
   "outputs": [
    {
     "data": {
      "text/plain": [
       "[0,\n",
       " 4,\n",
       " 7,\n",
       " 14,\n",
       " 17,\n",
       " 19,\n",
       " 22,\n",
       " 25,\n",
       " 33,\n",
       " 35,\n",
       " 46,\n",
       " 50,\n",
       " 55,\n",
       " 58,\n",
       " 60,\n",
       " 61,\n",
       " 64,\n",
       " 65,\n",
       " 66,\n",
       " 71,\n",
       " 72,\n",
       " 73,\n",
       " 75,\n",
       " 78,\n",
       " 80,\n",
       " 81,\n",
       " 83,\n",
       " 84,\n",
       " 86,\n",
       " 88,\n",
       " 89,\n",
       " 94,\n",
       " 100,\n",
       " 102,\n",
       " 103,\n",
       " 106,\n",
       " 107,\n",
       " 111,\n",
       " 114,\n",
       " 115,\n",
       " 121,\n",
       " 122,\n",
       " 123,\n",
       " 127,\n",
       " 128,\n",
       " 132,\n",
       " 133,\n",
       " 135,\n",
       " 136,\n",
       " 138,\n",
       " 139,\n",
       " 140,\n",
       " 142,\n",
       " 143,\n",
       " 149,\n",
       " 151,\n",
       " 152,\n",
       " 155,\n",
       " 156,\n",
       " 157,\n",
       " 162,\n",
       " 165,\n",
       " 167,\n",
       " 169,\n",
       " 170,\n",
       " 171,\n",
       " 172,\n",
       " 174,\n",
       " 175,\n",
       " 177,\n",
       " 178,\n",
       " 185,\n",
       " 187,\n",
       " 195,\n",
       " 198,\n",
       " 201,\n",
       " 204,\n",
       " 205,\n",
       " 206,\n",
       " 208,\n",
       " 214,\n",
       " 217,\n",
       " 221,\n",
       " 222,\n",
       " 224,\n",
       " 229,\n",
       " 230,\n",
       " 232,\n",
       " 233,\n",
       " 234,\n",
       " 235,\n",
       " 238,\n",
       " 243,\n",
       " 244,\n",
       " 247,\n",
       " 248,\n",
       " 250,\n",
       " 253,\n",
       " 254,\n",
       " 256,\n",
       " 257,\n",
       " 258,\n",
       " 260,\n",
       " 261,\n",
       " 264,\n",
       " 270,\n",
       " 272,\n",
       " 276,\n",
       " 277,\n",
       " 281,\n",
       " 283,\n",
       " 288,\n",
       " 292,\n",
       " 293,\n",
       " 295,\n",
       " 298,\n",
       " 299,\n",
       " 300,\n",
       " 306,\n",
       " 308,\n",
       " 310,\n",
       " 317,\n",
       " 321,\n",
       " 322,\n",
       " 326,\n",
       " 331,\n",
       " 332,\n",
       " 333,\n",
       " 334,\n",
       " 336,\n",
       " 337,\n",
       " 339,\n",
       " 340,\n",
       " 341,\n",
       " 342,\n",
       " 344,\n",
       " 345,\n",
       " 348,\n",
       " 350,\n",
       " 351,\n",
       " 353,\n",
       " 354,\n",
       " 355,\n",
       " 367,\n",
       " 369,\n",
       " 371,\n",
       " 376,\n",
       " 383,\n",
       " 385,\n",
       " 389,\n",
       " 391,\n",
       " 396,\n",
       " 398,\n",
       " 407,\n",
       " 416,\n",
       " 418,\n",
       " 420,\n",
       " 427,\n",
       " 428,\n",
       " 432,\n",
       " 433,\n",
       " 445,\n",
       " 449,\n",
       " 450,\n",
       " 455,\n",
       " 457,\n",
       " 468,\n",
       " 469,\n",
       " 471,\n",
       " 472,\n",
       " 473,\n",
       " 475,\n",
       " 476,\n",
       " 477,\n",
       " 479,\n",
       " 486,\n",
       " 490,\n",
       " 491,\n",
       " 492,\n",
       " 496,\n",
       " 497,\n",
       " 498,\n",
       " 499,\n",
       " 501,\n",
       " 502,\n",
       " 503,\n",
       " 509,\n",
       " 510,\n",
       " 515,\n",
       " 518,\n",
       " 519,\n",
       " 521,\n",
       " 522,\n",
       " 524,\n",
       " 525,\n",
       " 529,\n",
       " 532,\n",
       " 533,\n",
       " 537,\n",
       " 539,\n",
       " 540,\n",
       " 541,\n",
       " 542,\n",
       " 547,\n",
       " 549,\n",
       " 550,\n",
       " 551,\n",
       " 552,\n",
       " 554,\n",
       " 555,\n",
       " 556,\n",
       " 558,\n",
       " 559,\n",
       " 560,\n",
       " 561,\n",
       " 565,\n",
       " 567,\n",
       " 568,\n",
       " 569,\n",
       " 570,\n",
       " 571,\n",
       " 574,\n",
       " 575,\n",
       " 576,\n",
       " 577,\n",
       " 578,\n",
       " 579,\n",
       " 581,\n",
       " 582,\n",
       " 583,\n",
       " 588,\n",
       " 592,\n",
       " 594,\n",
       " 595,\n",
       " 596,\n",
       " 599,\n",
       " 600,\n",
       " 601,\n",
       " 603,\n",
       " 605,\n",
       " 606,\n",
       " 612,\n",
       " 614,\n",
       " 615,\n",
       " 616,\n",
       " 617,\n",
       " 624,\n",
       " 626,\n",
       " 628,\n",
       " 631,\n",
       " 632,\n",
       " 634,\n",
       " 635,\n",
       " 640,\n",
       " 642,\n",
       " 643,\n",
       " 644,\n",
       " 645,\n",
       " 646,\n",
       " 647,\n",
       " 649,\n",
       " 650,\n",
       " 655,\n",
       " 659,\n",
       " 660,\n",
       " 663,\n",
       " 664,\n",
       " 667,\n",
       " 669,\n",
       " 670,\n",
       " 673,\n",
       " 674,\n",
       " 682,\n",
       " 684,\n",
       " 685,\n",
       " 686,\n",
       " 687,\n",
       " 688,\n",
       " 689,\n",
       " 691,\n",
       " 692,\n",
       " 694,\n",
       " 696,\n",
       " 698,\n",
       " 699,\n",
       " 702,\n",
       " 705,\n",
       " 707,\n",
       " 708,\n",
       " 709,\n",
       " 710,\n",
       " 712,\n",
       " 713,\n",
       " 715,\n",
       " 716,\n",
       " 717,\n",
       " 718,\n",
       " 721,\n",
       " 722,\n",
       " 723,\n",
       " 725,\n",
       " 726,\n",
       " 727,\n",
       " 728,\n",
       " 732,\n",
       " 733,\n",
       " 734,\n",
       " 736,\n",
       " 737,\n",
       " 738,\n",
       " 739,\n",
       " 740,\n",
       " 742,\n",
       " 743,\n",
       " 745,\n",
       " 747,\n",
       " 749,\n",
       " 751,\n",
       " 752,\n",
       " 753,\n",
       " 754,\n",
       " 763,\n",
       " 767,\n",
       " 769,\n",
       " 770,\n",
       " 775,\n",
       " 778,\n",
       " 779,\n",
       " 784,\n",
       " 788,\n",
       " 789,\n",
       " 794,\n",
       " 796,\n",
       " 798,\n",
       " 802,\n",
       " 805,\n",
       " 806,\n",
       " 810,\n",
       " 814,\n",
       " 819,\n",
       " 822,\n",
       " 824,\n",
       " 825,\n",
       " 828,\n",
       " 830,\n",
       " 831,\n",
       " 833,\n",
       " 834,\n",
       " 839,\n",
       " 840,\n",
       " 841,\n",
       " 843,\n",
       " 846,\n",
       " 849,\n",
       " 851,\n",
       " 853,\n",
       " 854,\n",
       " 856,\n",
       " 857,\n",
       " 861,\n",
       " 862,\n",
       " 867,\n",
       " 876,\n",
       " 877,\n",
       " 878,\n",
       " 879,\n",
       " 882,\n",
       " 888,\n",
       " 889,\n",
       " 892,\n",
       " 896,\n",
       " 897,\n",
       " 899,\n",
       " 901,\n",
       " 903,\n",
       " 906,\n",
       " 910,\n",
       " 917,\n",
       " 920,\n",
       " 923,\n",
       " 926,\n",
       " 927,\n",
       " 929,\n",
       " 932,\n",
       " 933,\n",
       " 934,\n",
       " 936,\n",
       " 939,\n",
       " 946,\n",
       " 948,\n",
       " 950,\n",
       " 951,\n",
       " 957,\n",
       " 958,\n",
       " 960,\n",
       " 961,\n",
       " 964,\n",
       " 965,\n",
       " 966,\n",
       " 968,\n",
       " 969,\n",
       " 971,\n",
       " 972,\n",
       " 977,\n",
       " 978,\n",
       " 979,\n",
       " 981,\n",
       " 983,\n",
       " 986,\n",
       " 989,\n",
       " 990,\n",
       " 991,\n",
       " 992,\n",
       " 994,\n",
       " 998,\n",
       " 1000,\n",
       " 1001,\n",
       " 1004,\n",
       " 1008,\n",
       " 1009,\n",
       " 1011,\n",
       " 1015,\n",
       " 1019,\n",
       " 1020,\n",
       " 1024,\n",
       " 1025,\n",
       " 1026,\n",
       " 1029,\n",
       " 1030,\n",
       " 1031,\n",
       " 1040,\n",
       " 1042,\n",
       " 1043,\n",
       " 1048,\n",
       " 1049,\n",
       " 1050,\n",
       " 1051,\n",
       " 1058,\n",
       " 1060,\n",
       " 1065,\n",
       " 1071,\n",
       " 1073,\n",
       " 1075,\n",
       " 1076,\n",
       " 1082,\n",
       " 1086,\n",
       " 1088,\n",
       " 1091,\n",
       " 1094,\n",
       " 1096,\n",
       " 1097,\n",
       " 1100,\n",
       " 1101,\n",
       " 1103,\n",
       " 1104,\n",
       " 1105,\n",
       " 1106,\n",
       " 1107,\n",
       " 1111,\n",
       " 1112,\n",
       " 1116,\n",
       " 1117,\n",
       " 1120,\n",
       " 1123,\n",
       " 1128,\n",
       " 1129,\n",
       " 1130,\n",
       " 1131,\n",
       " 1135,\n",
       " 1136,\n",
       " 1138,\n",
       " 1141,\n",
       " 1144,\n",
       " 1146,\n",
       " 1147,\n",
       " 1148,\n",
       " 1151,\n",
       " 1152,\n",
       " 1153,\n",
       " 1155,\n",
       " 1157,\n",
       " 1158,\n",
       " 1159,\n",
       " 1160,\n",
       " 1166,\n",
       " 1167,\n",
       " 1168,\n",
       " 1169,\n",
       " 1171,\n",
       " 1173,\n",
       " 1174,\n",
       " 1176,\n",
       " 1180,\n",
       " 1182,\n",
       " 1189,\n",
       " 1190,\n",
       " 1193,\n",
       " 1194,\n",
       " 1195,\n",
       " 1197,\n",
       " 1198,\n",
       " 1202,\n",
       " 1203,\n",
       " 1204,\n",
       " 1205,\n",
       " 1209,\n",
       " 1211,\n",
       " 1214,\n",
       " 1216,\n",
       " 1218,\n",
       " 1219,\n",
       " 1221,\n",
       " 1228,\n",
       " 1229,\n",
       " 1236,\n",
       " 1239,\n",
       " 1247,\n",
       " 1249,\n",
       " 1251,\n",
       " 1254,\n",
       " 1255,\n",
       " 1257,\n",
       " 1258,\n",
       " 1259,\n",
       " 1263,\n",
       " 1265,\n",
       " 1266,\n",
       " 1273,\n",
       " 1275,\n",
       " 1278,\n",
       " 1282,\n",
       " 1283,\n",
       " 1284,\n",
       " 1287,\n",
       " 1289,\n",
       " 1290,\n",
       " 1293,\n",
       " 1297,\n",
       " 1301,\n",
       " 1304,\n",
       " 1305,\n",
       " 1307,\n",
       " 1309,\n",
       " 1313,\n",
       " 1315,\n",
       " 1316,\n",
       " 1317,\n",
       " 1318,\n",
       " 1320,\n",
       " 1329,\n",
       " 1333,\n",
       " 1338,\n",
       " 1340,\n",
       " 1341,\n",
       " 1342,\n",
       " 1345,\n",
       " 1348,\n",
       " 1349,\n",
       " 1350,\n",
       " 1352,\n",
       " 1353,\n",
       " 1354,\n",
       " 1355,\n",
       " 1358,\n",
       " 1359,\n",
       " 1360,\n",
       " 1365,\n",
       " 1366,\n",
       " 1368,\n",
       " 1369,\n",
       " 1373,\n",
       " 1375,\n",
       " 1376,\n",
       " 1380,\n",
       " 1382,\n",
       " 1384,\n",
       " 1385,\n",
       " 1386,\n",
       " 1387,\n",
       " 1388,\n",
       " 1389,\n",
       " 1390,\n",
       " 1392,\n",
       " 1393,\n",
       " 1398,\n",
       " 1401,\n",
       " 1402,\n",
       " 1405,\n",
       " 1410,\n",
       " 1413,\n",
       " 1414,\n",
       " 1418,\n",
       " 1421,\n",
       " 1433,\n",
       " 1436,\n",
       " 1437,\n",
       " 1439,\n",
       " 1440,\n",
       " 1441,\n",
       " 1442,\n",
       " 1445,\n",
       " 1446,\n",
       " 1448,\n",
       " 1450,\n",
       " 1455,\n",
       " 1458,\n",
       " 1469,\n",
       " 1472,\n",
       " 1473,\n",
       " 1475,\n",
       " 1476,\n",
       " 1479,\n",
       " 1480,\n",
       " 1488,\n",
       " 1491,\n",
       " 1494,\n",
       " 1495,\n",
       " 1498,\n",
       " 1504,\n",
       " 1505,\n",
       " 1507,\n",
       " 1508,\n",
       " 1509,\n",
       " 1511,\n",
       " 1512,\n",
       " 1518,\n",
       " 1520,\n",
       " 1521,\n",
       " 1522,\n",
       " 1532,\n",
       " 1534,\n",
       " 1537,\n",
       " 1538,\n",
       " 1540,\n",
       " 1541,\n",
       " 1542,\n",
       " 1545,\n",
       " 1546,\n",
       " 1547,\n",
       " 1548,\n",
       " 1550,\n",
       " 1553,\n",
       " 1555,\n",
       " 1556,\n",
       " 1557,\n",
       " 1559,\n",
       " 1561,\n",
       " 1566,\n",
       " 1567,\n",
       " 1569,\n",
       " 1570,\n",
       " 1571,\n",
       " 1573,\n",
       " 1574,\n",
       " 1576,\n",
       " 1577,\n",
       " 1580,\n",
       " 1584,\n",
       " 1587,\n",
       " 1588,\n",
       " 1592,\n",
       " 1593,\n",
       " 1595,\n",
       " 1596,\n",
       " 1597,\n",
       " 1599,\n",
       " 1600,\n",
       " 1601,\n",
       " 1602,\n",
       " 1605,\n",
       " 1607,\n",
       " 1612,\n",
       " 1614,\n",
       " 1620,\n",
       " 1627,\n",
       " 1628,\n",
       " 1634,\n",
       " 1635,\n",
       " 1637,\n",
       " 1638,\n",
       " 1640,\n",
       " 1641,\n",
       " 1642,\n",
       " 1644,\n",
       " 1645,\n",
       " 1648,\n",
       " 1650,\n",
       " 1651,\n",
       " 1652,\n",
       " 1653,\n",
       " 1654,\n",
       " 1656,\n",
       " 1657,\n",
       " 1662,\n",
       " 1664,\n",
       " 1665,\n",
       " 1666,\n",
       " 1667,\n",
       " 1673,\n",
       " 1674,\n",
       " 1678,\n",
       " 1679,\n",
       " 1680,\n",
       " 1681,\n",
       " 1682,\n",
       " 1686,\n",
       " 1687,\n",
       " 1692,\n",
       " 1697,\n",
       " 1700,\n",
       " 1704,\n",
       " 1711,\n",
       " 1712,\n",
       " 1713,\n",
       " 1715,\n",
       " 1719,\n",
       " 1720,\n",
       " 1722,\n",
       " 1725,\n",
       " 1726,\n",
       " 1727,\n",
       " 1728,\n",
       " 1729,\n",
       " 1732,\n",
       " 1735,\n",
       " 1740,\n",
       " 1741,\n",
       " 1744,\n",
       " 1745,\n",
       " 1746,\n",
       " 1747,\n",
       " 1749,\n",
       " 1751,\n",
       " 1753,\n",
       " 1756,\n",
       " 1757,\n",
       " 1758,\n",
       " 1759,\n",
       " 1763,\n",
       " 1766,\n",
       " 1768,\n",
       " 1769,\n",
       " 1770,\n",
       " 1771,\n",
       " 1774,\n",
       " 1776,\n",
       " 1779,\n",
       " 1780,\n",
       " 1781,\n",
       " 1782,\n",
       " 1784,\n",
       " 1786,\n",
       " 1787,\n",
       " 1789,\n",
       " 1790,\n",
       " 1791,\n",
       " 1792,\n",
       " 1793,\n",
       " 1795,\n",
       " 1800,\n",
       " 1801,\n",
       " 1803,\n",
       " 1809,\n",
       " 1813,\n",
       " 1814,\n",
       " 1817,\n",
       " 1819,\n",
       " 1822,\n",
       " 1823,\n",
       " 1828,\n",
       " 1829,\n",
       " 1830,\n",
       " 1831,\n",
       " 1833,\n",
       " 1837,\n",
       " 1838,\n",
       " 1839,\n",
       " 1840,\n",
       " 1841,\n",
       " 1843,\n",
       " 1844,\n",
       " 1845,\n",
       " 1846,\n",
       " 1848,\n",
       " 1851,\n",
       " 1852,\n",
       " 1853,\n",
       " 1856,\n",
       " 1858,\n",
       " 1860,\n",
       " 1864,\n",
       " 1866,\n",
       " 1867,\n",
       " 1869,\n",
       " 1870,\n",
       " 1872,\n",
       " 1874,\n",
       " 1875,\n",
       " 1878,\n",
       " 1880,\n",
       " 1882,\n",
       " 1883,\n",
       " 1884,\n",
       " 1886,\n",
       " 1887,\n",
       " 1889,\n",
       " 1890,\n",
       " 1893,\n",
       " 1895,\n",
       " 1899,\n",
       " 1903,\n",
       " 1911,\n",
       " 1912,\n",
       " 1913,\n",
       " 1915,\n",
       " 1918,\n",
       " 1920,\n",
       " 1921,\n",
       " 1922,\n",
       " 1924,\n",
       " 1925,\n",
       " 1926,\n",
       " 1927,\n",
       " 1929,\n",
       " 1930,\n",
       " 1931,\n",
       " 1932,\n",
       " 1933,\n",
       " 1934,\n",
       " 1935,\n",
       " 1936,\n",
       " 1937,\n",
       " 1938,\n",
       " 1939,\n",
       " 1942,\n",
       " 1944,\n",
       " 1946,\n",
       " 1947,\n",
       " 1948,\n",
       " 1949,\n",
       " 1950,\n",
       " 1952,\n",
       " 1953,\n",
       " 1955,\n",
       " 1956,\n",
       " 1957,\n",
       " 1958,\n",
       " 1959,\n",
       " 1961,\n",
       " 1963,\n",
       " 1967,\n",
       " 1968,\n",
       " 1969,\n",
       " 1970,\n",
       " 1971,\n",
       " 1972,\n",
       " 1973,\n",
       " 1974,\n",
       " 1976,\n",
       " 1977,\n",
       " 1981,\n",
       " 1983,\n",
       " 1986,\n",
       " 1987,\n",
       " 1988,\n",
       " 1989,\n",
       " 1990,\n",
       " 1991,\n",
       " 1992,\n",
       " 1993,\n",
       " 1995,\n",
       " 1996,\n",
       " 1997,\n",
       " 1998,\n",
       " 1999,\n",
       " 2001,\n",
       " 2002,\n",
       " 2005,\n",
       " 2007,\n",
       " 2008,\n",
       " 2009,\n",
       " 2011,\n",
       " 2013,\n",
       " 2014,\n",
       " 2015,\n",
       " 2018,\n",
       " 2019,\n",
       " 2020,\n",
       " 2023,\n",
       " 2024,\n",
       " 2026,\n",
       " 2028,\n",
       " 2030,\n",
       " 2032,\n",
       " 2033,\n",
       " 2035,\n",
       " 2037,\n",
       " 2040,\n",
       " 2049,\n",
       " 2052,\n",
       " 2053,\n",
       " 2058,\n",
       " 2059,\n",
       " 2060,\n",
       " 2063,\n",
       " 2064,\n",
       " 2066,\n",
       " 2068,\n",
       " 2070,\n",
       " 2072,\n",
       " 2073,\n",
       " 2074,\n",
       " 2076,\n",
       " 2077,\n",
       " 2078,\n",
       " 2079,\n",
       " 2081,\n",
       " 2082,\n",
       " 2083,\n",
       " 2084,\n",
       " 2089,\n",
       " 2090,\n",
       " 2091,\n",
       " 2092,\n",
       " 2093,\n",
       " 2094,\n",
       " 2096,\n",
       " 2097,\n",
       " 2099,\n",
       " 2100,\n",
       " 2104,\n",
       " 2106,\n",
       " 2107,\n",
       " 2109,\n",
       " 2110,\n",
       " 2112,\n",
       " 2114,\n",
       " 2115,\n",
       " 2117,\n",
       " 2118,\n",
       " 2119,\n",
       " 2120,\n",
       " 2122,\n",
       " 2123,\n",
       " 2124,\n",
       " 2125,\n",
       " 2126,\n",
       " 2127,\n",
       " 2129,\n",
       " 2130,\n",
       " 2131,\n",
       " 2134,\n",
       " 2136,\n",
       " 2137,\n",
       " 2139,\n",
       " 2141,\n",
       " 2144,\n",
       " 2145,\n",
       " 2147,\n",
       " 2149,\n",
       " 2150,\n",
       " 2151,\n",
       " 2152,\n",
       " 2154,\n",
       " 2155,\n",
       " 2157,\n",
       " 2159,\n",
       " 2161,\n",
       " 2164,\n",
       " 2165,\n",
       " 2167,\n",
       " 2168,\n",
       " 2169,\n",
       " 2170,\n",
       " 2171,\n",
       " 2172,\n",
       " 2177,\n",
       " 2184,\n",
       " 2186,\n",
       " 2195,\n",
       " 2196,\n",
       " 2199,\n",
       " 2202,\n",
       " 2203,\n",
       " 2204,\n",
       " 2205,\n",
       " 2206,\n",
       " 2207,\n",
       " 2208,\n",
       " 2209,\n",
       " 2210,\n",
       " 2211,\n",
       " 2212,\n",
       " 2213,\n",
       " 2214,\n",
       " 2215,\n",
       " 2216,\n",
       " 2217,\n",
       " 2220,\n",
       " 2222,\n",
       " ...]"
      ]
     },
     "execution_count": 20,
     "metadata": {},
     "output_type": "execute_result"
    }
   ],
   "source": [
    "index_inter"
   ]
  },
  {
   "cell_type": "markdown",
   "metadata": {},
   "source": [
    "# Test d'association des depeches avec des photos\n",
    ">  Pour les 100 premieres depeches."
   ]
  },
  {
   "cell_type": "code",
   "execution_count": 6,
   "metadata": {},
   "outputs": [
    {
     "name": "stderr",
     "output_type": "stream",
     "text": [
      "/Users/ya/miniconda3/lib/python3.7/site-packages/ipykernel_launcher.py:4: TqdmDeprecationWarning: This function will be removed in tqdm==5.0.0\n",
      "Please use `tqdm.notebook.tqdm` instead of `tqdm.tqdm_notebook`\n",
      "  after removing the cwd from sys.path.\n"
     ]
    },
    {
     "data": {
      "application/vnd.jupyter.widget-view+json": {
       "model_id": "21ed01df89574fc29aeaa430686094bc",
       "version_major": 2,
       "version_minor": 0
      },
      "text/plain": [
       "HBox(children=(FloatProgress(value=0.0, max=150536.0), HTML(value='')))"
      ]
     },
     "metadata": {},
     "output_type": "display_data"
    },
    {
     "name": "stdout",
     "output_type": "stream",
     "text": [
      "\n"
     ]
    }
   ],
   "source": [
    "from tqdm import tqdm_notebook as tq\n",
    "import ast \n",
    "liste_scores1_photos=[]\n",
    "for string in tq(score_photos.scores):\n",
    "    liste_scores1_photos.append(ast.literal_eval(string))   \n",
    "\n",
    "#liste_scores1_depeches=[]\n",
    "#for string in score_depeches.scores:\n",
    "#    liste_scores2.append(ast.literal_eval(string))    "
   ]
  },
  {
   "cell_type": "code",
   "execution_count": 7,
   "metadata": {},
   "outputs": [],
   "source": [
    "def normaliser_dict(l):\n",
    "    \n",
    "    for dico in l:\n",
    "        m=0\n",
    "        if len(dico) != 0 :\n",
    "            m = max(dico.values())\n",
    "            if m >0 : # Possible que m =0 si description en Francais...\n",
    "                for k in dico.keys():\n",
    "                    dico[k] /= m \n",
    "                    \n",
    "normaliser_dict(liste_scores1_photos)\n",
    "scoring = pd.read_csv('scoring.csv', delimiter = \";\")\n",
    "dict_val = {}\n",
    "\n",
    "for i in range(48):\n",
    "    dict_val[scoring['function'][i]] = scoring['score_norm'][i]"
   ]
  },
  {
   "cell_type": "code",
   "execution_count": 8,
   "metadata": {},
   "outputs": [
    {
     "name": "stderr",
     "output_type": "stream",
     "text": [
      "/Users/ya/miniconda3/lib/python3.7/importlib/_bootstrap.py:219: RuntimeWarning: spacy.morphology.Morphology size changed, may indicate binary incompatibility. Expected 104 from C header, got 112 from PyObject\n",
      "  return f(*args, **kwds)\n",
      "/Users/ya/miniconda3/lib/python3.7/importlib/_bootstrap.py:219: RuntimeWarning: spacy.vocab.Vocab size changed, may indicate binary incompatibility. Expected 96 from C header, got 104 from PyObject\n",
      "  return f(*args, **kwds)\n"
     ]
    },
    {
     "data": {
      "text/plain": [
       "<spacy.lang.en.English at 0x120b97320>"
      ]
     },
     "execution_count": 8,
     "metadata": {},
     "output_type": "execute_result"
    }
   ],
   "source": [
    "import spacy \n",
    "import neuralcoref\n",
    "#Toute cette cellule est issue de l'autre notebook (création du csv) et permet donc d'avoir toutes les fonctions\n",
    "#définies dans ce dernier à disposition.\n",
    "\n",
    "\n",
    "#On importe le fichier contenant les scores de chaque fonction grammaticale\n",
    "\n",
    "\n",
    "#On importe un modèle md pour avoir des mots vectorisés\n",
    "nlp=spacy.load(\"en_core_web_md\")  \n",
    "neuralcoref.add_to_pipe(nlp,greedyness=0.5)"
   ]
  },
  {
   "cell_type": "code",
   "execution_count": 9,
   "metadata": {},
   "outputs": [],
   "source": [
    "def dep_ent(ent, doc):\n",
    "    \"\"\" Retourne la fonction grammaticale :  la 'dep', d'une entité. Cette fonction est nécessaire car elle permet d'affecter\n",
    "    une dep à une entité composée de plusieurs mots ayant chacun une dep de base.\n",
    "    Traite aussi le cas particulier des mots étant des conj ou des compound : leur vrai dep et celle du mot auxquels\n",
    "    ils sont associés en tant que conj ou compound.\"\"\"\n",
    "    start= ent.start\n",
    "    end=ent.end\n",
    "    for k in range(start,end):\n",
    "        if doc[k].head.text not in ent.text: \n",
    "            if doc[k].dep_=='conj':     \n",
    "                tok=doc[k]            \n",
    "                while tok.dep_=='conj':\n",
    "                    tok=tok.head      \n",
    "                return(tok.dep_)\n",
    "            \n",
    "            if doc[k].dep_=='compound':   \n",
    "                tok=doc[k]            \n",
    "                while tok.dep_=='compound':\n",
    "                    tok=tok.head      \n",
    "                return(tok.dep_)\n",
    "            return(doc[k].dep_)    \n",
    "    return doc[start].dep_\n",
    "\n",
    "## RAJOUT DE FAC\n",
    "def ent_good_type(ent): #filtre les entités selon leur type \n",
    "    return (ent.label_ == \"PERSON\"or ent.label_ == \"NORP\" or ent.label_ == \"ORG\" or ent.label_ == \"GPE\" or ent.label_ == \"EVENT\" or ent.label_ == \"LOC\" or ent.label_ == \"FAC\")\n",
    "\n",
    "def sort_ent(doc):\n",
    "    \"\"\"Retourne la liste des entités en les filtrant selon leur type et en les triant de manière à avoir au début de\n",
    "    la liste les entités ayant des coréférences.\"\"\"\n",
    "    ent_coref=[ent for ent in doc.ents if ent._.is_coref and ent_good_type(ent)]\n",
    "    ent_vanilla=[ent for ent in doc.ents if ent_good_type(ent) and not ent._.is_coref]\n",
    "    return ent_coref + ent_vanilla\n",
    "\n",
    "def scores_doc(doc):\n",
    "    \"\"\"Retourne le score de chaque entité pour la méthode sans neuralcoref.\"\"\"\n",
    "    res={}\n",
    "    for ent in doc.ents:\n",
    "        if ent.text not in res.keys():\n",
    "            res[ent.text]=dict_val[dep_ent(ent,doc)]\n",
    "        else:\n",
    "            res[ent.text]+=dict_val[dep_ent(ent,doc)]\n",
    "    return res\n",
    "\n",
    "def scores_doc_coref1(doc):\n",
    "    \"\"\"Retourne le score de chaque entité pour la méthode de base opérée sur le document resolved.\n",
    "    Le document resolved est le document de base dans lequel toutes les références à un groupe de mot sont remplacées\n",
    "    par celui-ci.\n",
    "    Par exemple : My dad is home. He watches TV devient My dad is home. My dad watches TV.\n",
    "    En raisonnant avec le nlp sur le document resolved, le nlp va détecter beaucoup plus de fois la même entité.\n",
    "    Le principal inconvénient est que toutes les références sont remplacées, y compris celles qui ne sont pas associées \n",
    "    à des entités mais plutôt à des très longs bouts de phrase qui sont repris par un pronom comme \"it\"  \"\"\"\n",
    "    \n",
    "    doc=nlp(doc._.coref_resolved)\n",
    "    res={}\n",
    "    for ent in doc.ents:\n",
    "        if ent_good_type(ent):\n",
    "            if ent.text not in res.keys():\n",
    "                res[ent.text]=dict_val[dep_ent(ent,doc)]\n",
    "            else:\n",
    "                res[ent.text]+=dict_val[dep_ent(ent,doc)]\n",
    "    #normaliser_dict\n",
    "    m=0\n",
    "    if len(res) != 0 :\n",
    "        m = max(res.values())\n",
    "    if m >0 : # Possible que m =0 si description en Francais...\n",
    "        for k in res.keys():\n",
    "            res[k] /= m \n",
    "\n",
    "    return res\n",
    "\n",
    "def is_in_cluster(ent,cluster):  #détermine si une entité est dans une des mentions d'un cluster\n",
    "    for span in cluster.mentions:\n",
    "        if ent.text in span.text:\n",
    "            return True\n",
    "    return False\n",
    "\n",
    "\n",
    "\n",
    "def freq_dict(L):\n",
    "    n = len(L)\n",
    "    L_unique = list(set(L))\n",
    "    d = {}\n",
    "    for a in L_unique:\n",
    "        for b in L:\n",
    "            if a == b:\n",
    "                if a in d.keys():\n",
    "                    d[a] += 1/n\n",
    "                else:\n",
    "                    d[a] = 1/n\n",
    "    return(d)"
   ]
  },
  {
   "cell_type": "code",
   "execution_count": 74,
   "metadata": {},
   "outputs": [],
   "source": [
    "\n",
    "def score_sim1(doc,score_doc,k):\n",
    "    \"\"\"Prend en paramètre un doc, le fichier de scores associés à ce doc et un entier k correspondant à l'indice de la \n",
    "    description avec laquelle on veut comparer le doc. Retourne le score de similarité entre le doc et la description.\n",
    "    Ici on calcule le score avec la méthode neuralcoref1 : on utilise liste_scores1.\"\"\"\n",
    "    res=0\n",
    "    score_image=liste_scores1_photos[k]\n",
    "    for i in score_doc.keys():\n",
    "        if i in score_image.keys():\n",
    "            res += (score_doc[i]+score_image[i])\n",
    "    return res\n",
    "\n",
    "\n",
    "def score_scalaire(doc,score_doc,k):\n",
    "    \"\"\"Prend en paramètre un doc, le fichier de scores associés à ce doc et un entier k correspondant à l'indice de la \n",
    "    description avec laquelle on veut comparer le doc. Retourne le score de similarité entre le doc et la description.\n",
    "    Ici on calcule le score avec la méthode neuralcoref1 : on utilise liste_scores1.\"\"\"\n",
    "    res=0\n",
    "    score_image=liste_scores1_photos[k]\n",
    "    for i in score_doc.keys():\n",
    "        if i in score_image.keys():\n",
    "            res += (score_doc[i]*score_image[i]) \n",
    "    return res\n",
    "\n",
    "def score_sim11(doc,score_doc,k):\n",
    "    \"\"\"Prend en paramètre un doc, le fichier de scores associés à ce doc et un entier k correspondant à l'indice de la \n",
    "    description avec laquelle on veut comparer le doc. Retourne le score de similarité entre le doc et la description.\n",
    "    Ici on calcule le score avec la méthode neuralcoref1 : on utilise liste_scores1.\n",
    "    Rajout d'une pénalité par entité différentes \n",
    "    \"\"\"\n",
    "    res=0\n",
    "    score_image=liste_scores1_photos[k]\n",
    "    for i in score_doc.keys():\n",
    "        if i in score_image.keys():\n",
    "            res += (score_doc[i]+score_image[i])\n",
    "    score_image_tri = tri_dict(score_image)\n",
    "    c = 0 \n",
    "    for i in score_doc.keys():\n",
    "        c+=1\n",
    "        if i not in score_image_tri.keys():\n",
    "            \n",
    "            res -= 1/c\n",
    "        \n",
    "    return res\n",
    "\n",
    "def score_sim11_malus(doc,score_doc,k):\n",
    "    \"\"\"Prend en paramètre un doc, le fichier de scores associés à ce doc et un entier k correspondant à l'indice de la \n",
    "    description avec laquelle on veut comparer le doc. Retourne le score de similarité entre le doc et la description.\n",
    "    Ici on calcule le score avec la méthode neuralcoref1 : on utilise liste_scores1.\n",
    "    Rajout d'une pénalité par entité différentes \n",
    "    \"\"\"\n",
    "    res=0\n",
    "    score_image=liste_scores1_photos[k]\n",
    "    for i in score_doc.keys():\n",
    "        if i in score_image.keys():\n",
    "            res += (score_doc[i]+score_image[i])\n",
    "    score_image_tri = tri_dict(score_image)\n",
    "    c = 0 \n",
    "    for i in score_doc.keys():\n",
    "        c+=1\n",
    "        if i not in score_image_tri.keys():\n",
    "            \n",
    "            res -= score_image_tri[i]\n",
    "        \n",
    "    return res\n",
    "\n",
    "\n",
    "def related_descr(doc):\n",
    "    \"\"\"Retourne la liste des indices correspondant aux descriptions ayant au moins 1 entité en commun avec le doc.\n",
    "    Permet d'effectuer moins de comparaison dans la fonction best_image.\"\"\"\n",
    "    index_list=[]\n",
    "    for k in range(len(liste_scores1_photos)):\n",
    "        for ent in doc.ents:\n",
    "            if ent.text in liste_scores1_photos[k].keys():\n",
    "                index_list.append(k)\n",
    "                break\n",
    "    return index_list\n",
    "\n",
    "def best_image1(doc):\n",
    "    \"\"\"Retourne l'indice de l'image dont la description correspond le plus au doc passé en paramètre.\n",
    "    La correspondance (matching) se fait avec score_sim1.\"\"\"\n",
    "    best_score=0\n",
    "    best_descr=0\n",
    "    score_doc=scores_doc_coref1(doc)\n",
    "    for k in range(len(liste_scores1_photos)):\n",
    "        if score_sim1(doc,score_doc,k) > best_score:\n",
    "            best_score=score_sim1(doc,score_doc,k)\n",
    "            best_descr=k\n",
    "    return best_descr\n",
    "\n",
    "\n",
    "\n",
    "def best_image11(doc):\n",
    "    \"\"\"Retourne l'indice de l'image dont la description correspond le plus au doc passé en paramètre.\n",
    "    La correspondance (matching) se fait avec score_sim11.\"\"\"\n",
    "    best_score=0\n",
    "    best_descr=0\n",
    "    score_doc=scores_doc_coref1(doc)\n",
    "    for k in range(len(liste_scores1_photos)):\n",
    "        if score_sim11(doc,score_doc,k) > best_score:\n",
    "            best_score=score_sim11(doc,score_doc,k)\n",
    "            best_descr=k\n",
    "    return best_descr\n",
    "                   \n",
    "                   \n",
    "\n",
    "def best_image11_malus(doc):\n",
    "    \"\"\"Retourne l'indice de l'image dont la description correspond le plus au doc passé en paramètre.\n",
    "    La correspondance (matching) se fait avec score_sim11.\"\"\"\n",
    "    best_score=0\n",
    "    best_descr=0\n",
    "    score_doc=scores_doc_coref1(doc)\n",
    "    for k in range(len(liste_scores1_photos)):\n",
    "        if score_sim11(doc,score_doc,k) > best_score:\n",
    "            best_score=score_sim11_malus(doc,score_doc,k)\n",
    "            best_descr=k\n",
    "    return best_descr\n",
    "\n",
    "\n",
    "def best_image_scalaire(doc):\n",
    "    \"\"\"Retourne l'indice de l'image dont la description correspond le plus au doc passé en paramètre.\n",
    "    La correspondance (matching) se fait avec score_sim11.\"\"\"\n",
    "    best_score=0\n",
    "    best_descr=0\n",
    "    score_doc=scores_doc_coref1(doc)\n",
    "    for k in range(len(liste_scores1_photos)):\n",
    "        if score_scalaire(doc,score_doc,k) > best_score:\n",
    "            best_score=score_sim11_malus(doc,score_doc,k)\n",
    "            best_descr=k\n",
    "    return best_descr\n",
    "                   \n"
   ]
  },
  {
   "cell_type": "code",
   "execution_count": 11,
   "metadata": {},
   "outputs": [],
   "source": [
    "photos['index'] = range(photos.shape[0])\n",
    "photos.set_index('index',inplace=True)"
   ]
  },
  {
   "cell_type": "code",
   "execution_count": 12,
   "metadata": {},
   "outputs": [
    {
     "data": {
      "text/plain": [
       "11100"
      ]
     },
     "execution_count": 12,
     "metadata": {},
     "output_type": "execute_result"
    }
   ],
   "source": [
    "def tri_dict(d): \n",
    "    \"\"\"Tri décroissant \"\"\"\n",
    "\n",
    "    d_sort = {}\n",
    "    for k,v in sorted(d.items(), key =lambda x :x[1], reverse= True):\n",
    "        d_sort[k]=v\n",
    "    return d_sort\n",
    "    \n",
    "best_image11_malus(nlp(depeches.news2[4]))"
   ]
  },
  {
   "cell_type": "code",
   "execution_count": 13,
   "metadata": {},
   "outputs": [
    {
     "name": "stdout",
     "output_type": "stream",
     "text": [
      "CPU times: user 5 µs, sys: 1 µs, total: 6 µs\n",
      "Wall time: 9.3 µs\n"
     ]
    }
   ],
   "source": [
    "%%time\n",
    "def event_commun(k): \n",
    "    L = []\n",
    "    event = depeches.event[k][1:-1].split((','))\n",
    "    for c in event: \n",
    "        for i in range(photos.shape[0]):\n",
    "            if c in (photos.event[i][1:-1].split(',')):\n",
    "                L.append(i)\n",
    "    return L\n",
    "            \n"
   ]
  },
  {
   "cell_type": "code",
   "execution_count": 56,
   "metadata": {},
   "outputs": [
    {
     "name": "stdout",
     "output_type": "stream",
     "text": [
      "CPU times: user 9.11 s, sys: 60 ms, total: 9.17 s\n",
      "Wall time: 9.58 s\n"
     ]
    },
    {
     "data": {
      "text/plain": [
       "[20598,\n",
       " 20654,\n",
       " 19930,\n",
       " 19931,\n",
       " 20233,\n",
       " 20238,\n",
       " 20239,\n",
       " 20240,\n",
       " 20255,\n",
       " 20261,\n",
       " 20263,\n",
       " 20265,\n",
       " 20266,\n",
       " 20268,\n",
       " 20269,\n",
       " 20280,\n",
       " 20281,\n",
       " 20397]"
      ]
     },
     "execution_count": 56,
     "metadata": {},
     "output_type": "execute_result"
    }
   ],
   "source": [
    "%%time\n",
    "event_commun(7)"
   ]
  },
  {
   "cell_type": "code",
   "execution_count": 14,
   "metadata": {},
   "outputs": [],
   "source": [
    "def best_images(k, malus1 = False, malus2 =False, scalaire=False ):\n",
    "    \"\"\" Retourne les  meilleures ( best score) photos de la k eme dépèche\"\"\"\n",
    "    doc = nlp(depeches.news2[k])\n",
    "    L_score =[]\n",
    "    score_doc=scores_doc_coref1(doc)\n",
    "\n",
    "    if malus1 : \n",
    "        for j in range(len(liste_scores1_photos)):\n",
    "            L_score.append( (score_sim11(doc,score_doc,j),j)) \n",
    "    elif malus2:\n",
    "        for j in range(len(liste_scores1_photos)):\n",
    "            L_score.append( (score_sim11_malus(doc,score_doc,j),j)) \n",
    "    elif scalaire:\n",
    "        for j in range(len(liste_scores1_photos)):\n",
    "            L_score.append( (score_scalaire(doc,score_doc,j),j)) \n",
    "            \n",
    "    else : \n",
    "         for j in range(len(liste_scores1_photos)):\n",
    "            L_score.append( (score_sim1(doc,score_doc,j),j)) \n",
    "    L_score.sort(reverse=True)\n",
    "    \n",
    "    return L_score\n"
   ]
  },
  {
   "cell_type": "code",
   "execution_count": 15,
   "metadata": {},
   "outputs": [],
   "source": [
    "def best_images_d(doc, malus1 = False, malus2 =False, scalaire=False ):\n",
    "    \"\"\" Retourne les  meilleures ( best score) photos de la k eme dépèche\"\"\"\n",
    "    #doc = nlp(depeches.news2[k])\n",
    "    L_score =[]\n",
    "    score_doc=scores_doc_coref1(doc)\n",
    "\n",
    "    if malus1 : \n",
    "        for j in range(len(liste_scores1_photos)):\n",
    "            L_score.append( (score_sim11(doc,score_doc,j),j)) \n",
    "    elif malus2:\n",
    "        for j in range(len(liste_scores1_photos)):\n",
    "            L_score.append( (score_sim11_malus(doc,score_doc,j),j)) \n",
    "    elif scalaire:\n",
    "        for j in range(len(liste_scores1_photos)):\n",
    "            L_score.append( (score_scalaire(doc,score_doc,j),j)) \n",
    "            \n",
    "    else : \n",
    "         for j in range(len(liste_scores1_photos)):\n",
    "            L_score.append( (score_sim1(doc,score_doc,j),j)) \n",
    "    L_score.sort(reverse=True)\n",
    "    \n",
    "    return L_score\n"
   ]
  },
  {
   "cell_type": "code",
   "execution_count": 64,
   "metadata": {},
   "outputs": [
    {
     "name": "stdout",
     "output_type": "stream",
     "text": [
      "CPU times: user 2.06 s, sys: 123 ms, total: 2.18 s\n",
      "Wall time: 1.65 s\n"
     ]
    },
    {
     "data": {
      "text/plain": [
       "[(6.535428459455265, 93240),\n",
       " (6.3625552188960555, 17325),\n",
       " (6.195879608250071, 9814),\n",
       " (6.118290064263026, 20142),\n",
       " (6.118290064263026, 20140),\n",
       " (6.0724185045073655, 17333),\n",
       " (5.651698053141142, 12834),\n",
       " (5.5911837076997655, 9365),\n",
       " (5.578216889708646, 20608),\n",
       " (5.5678313489198725, 20181),\n",
       " (5.537582488980954, 19947),\n",
       " (5.494436853483293, 8544),\n",
       " (5.479149290446865, 20024),\n",
       " (5.353452438715472, 18336),\n",
       " (5.347843060309739, 93343),\n",
       " (5.347843060309739, 93232),\n",
       " (5.320702034440267, 93164),\n",
       " (5.274448564873159, 93327),\n",
       " (5.274448564873159, 93285),\n",
       " (5.274448564873159, 93186),\n",
       " (5.274448564873159, 93181),\n",
       " (5.274448564873159, 93175),\n",
       " (5.210813976572764, 5168),\n",
       " (5.206129220919872, 105068),\n",
       " (5.114920328762185, 93390),\n",
       " (5.114920328762185, 93355),\n",
       " (5.114920328762185, 93351),\n",
       " (5.087397393081266, 93423),\n",
       " (5.072911637908441, 8948),\n",
       " (5.041525833325606, 93340),\n",
       " (5.027844842361409, 8542),\n",
       " (5.005897772683463, 93227),\n",
       " (4.974569451482407, 93348),\n",
       " (4.974569451482407, 93330),\n",
       " (4.974569451482407, 92985),\n",
       " (4.9663608569749975, 13202),\n",
       " (4.913729278201221, 20379),\n",
       " (4.906969259183105, 5158),\n",
       " (4.899404475131798, 18451),\n",
       " (4.87188153945088, 1332),\n",
       " (4.854337679584767, 8916),\n",
       " (4.826009979695219, 20391),\n",
       " (4.826009979695219, 5530),\n",
       " (4.826009979695219, 1331),\n",
       " (4.760687096817104, 100993),\n",
       " (4.757765975290692, 20039),\n",
       " (4.714620339361839, 20291),\n",
       " (4.714620339361839, 17475),\n",
       " (4.714620339361839, 12777),\n",
       " (4.714620339361839, 11671),\n",
       " (4.671334299346019, 10151),\n",
       " (4.67004667678469, 20041),\n",
       " (4.607589657676475, 18361),\n",
       " (4.601158860706129, 17394),\n",
       " (4.5638178017071755, 20605),\n",
       " (4.5638178017071755, 20138),\n",
       " (4.5638178017071755, 20137),\n",
       " (4.5638178017071755, 19946),\n",
       " (4.5638178017071755, 19944),\n",
       " (4.5638178017071755, 19943),\n",
       " (4.5638178017071755, 19941),\n",
       " (4.5638178017071755, 18322),\n",
       " (4.5638178017071755, 18321),\n",
       " (4.5638178017071755, 13245),\n",
       " (4.5638178017071755, 13243),\n",
       " (4.5638178017071755, 11669),\n",
       " (4.5638178017071755, 11647),\n",
       " (4.501529052985515, 8540),\n",
       " (4.474150027300267, 9262),\n",
       " (4.458554644159622, 20276),\n",
       " (4.457900101543283, 93279),\n",
       " (4.444331181381177, 12370),\n",
       " (4.444331181381177, 12356),\n",
       " (4.4338138921500825, 20028),\n",
       " (4.423466924427397, 17555),\n",
       " (4.423466924427397, 12754),\n",
       " (4.376382027473649, 9466),\n",
       " (4.3530933893975865, 93150),\n",
       " (4.3530933893975865, 92971),\n",
       " (4.3530933893975865, 92966),\n",
       " (4.34885909179273, 20056),\n",
       " (4.285369387238909, 106786),\n",
       " (4.285369387238909, 106785),\n",
       " (4.240231056482552, 20274),\n",
       " (4.222057807979645, 93163),\n",
       " (4.222057807979645, 93147),\n",
       " (4.210397554284352, 20033),\n",
       " (4.203919932775288, 1547),\n",
       " (4.203919932775288, 1545),\n",
       " (4.2017125386133936, 11648),\n",
       " (4.190906638480858, 93191),\n",
       " (4.171253822685352, 20440),\n",
       " (4.171253822685352, 8546),\n",
       " (4.164161624018686, 20857),\n",
       " (4.164161624018686, 20854),\n",
       " (4.164161624018686, 20442),\n",
       " (4.164161624018686, 20441),\n",
       " (4.164161624018686, 9984),\n",
       " (4.164161624018686, 9428),\n",
       " (4.164161624018686, 8989),\n",
       " (4.164161624018686, 8804),\n",
       " (4.164161624018686, 8799),\n",
       " (4.164161624018686, 8721),\n",
       " (4.164161624018686, 8628),\n",
       " (4.136638688337767, 109719),\n",
       " (4.136638688337767, 109663),\n",
       " (4.136638688337767, 20718),\n",
       " (4.136638688337767, 20367),\n",
       " (4.136638688337767, 20344),\n",
       " (4.136638688337767, 20339),\n",
       " (4.136638688337767, 20323),\n",
       " (4.136638688337767, 12488),\n",
       " (4.136638688337767, 12455),\n",
       " (4.136638688337767, 12300),\n",
       " (4.136638688337767, 12152),\n",
       " (4.136638688337767, 9443),\n",
       " (4.136638688337767, 9434),\n",
       " (4.136638688337767, 5488),\n",
       " (4.136638688337767, 5183),\n",
       " (4.136638688337767, 2798),\n",
       " (4.090767128582106, 109691),\n",
       " (4.090767128582106, 109684),\n",
       " (4.090767128582106, 109635),\n",
       " (4.090767128582106, 109612),\n",
       " (4.090767128582106, 109599),\n",
       " (4.090767128582106, 20853),\n",
       " (4.090767128582106, 20715),\n",
       " (4.090767128582106, 20381),\n",
       " (4.090767128582106, 20376),\n",
       " (4.090767128582106, 20153),\n",
       " (4.090767128582106, 20014),\n",
       " (4.090767128582106, 18503),\n",
       " (4.090767128582106, 18007),\n",
       " (4.090767128582106, 17862),\n",
       " (4.090767128582106, 17783),\n",
       " (4.090767128582106, 17728),\n",
       " (4.090767128582106, 17651),\n",
       " (4.090767128582106, 8797),\n",
       " (4.090767128582106, 1455),\n",
       " (4.068689719688639, 101147),\n",
       " (4.068689719688639, 9464),\n",
       " (4.03964613368534, 93118),\n",
       " (4.03964613368534, 93115),\n",
       " (4.022447784628819, 99198),\n",
       " (4.013359086364022, 20476),\n",
       " (4.013359086364022, 20029),\n",
       " (4.013359086364022, 8758),\n",
       " (4.013359086364022, 8687),\n",
       " (4.004986039005656, 101301),\n",
       " (3.9958152264979097, 9386),\n",
       " (3.9858361506831033, 109733),\n",
       " (3.9858361506831033, 109732),\n",
       " (3.9858361506831033, 109731),\n",
       " (3.9858361506831033, 109730),\n",
       " (3.9858361506831033, 109707),\n",
       " (3.9858361506831033, 18474),\n",
       " (3.9858361506831033, 18438),\n",
       " (3.9858361506831033, 18390),\n",
       " (3.9858361506831033, 18387),\n",
       " (3.9858361506831033, 17707),\n",
       " (3.9858361506831033, 17205),\n",
       " (3.9858361506831033, 17201),\n",
       " (3.9858361506831033, 16818),\n",
       " (3.9858361506831033, 13299),\n",
       " (3.9858361506831033, 13298),\n",
       " (3.9858361506831033, 12377),\n",
       " (3.9858361506831033, 12199),\n",
       " (3.9858361506831033, 8958),\n",
       " (3.9858361506831033, 5528),\n",
       " (3.9858361506831033, 5490),\n",
       " (3.9858361506831033, 5480),\n",
       " (3.9858361506831033, 5173),\n",
       " (3.972063185403752, 93223),\n",
       " (3.940484591143603, 96803),\n",
       " (3.939964590927443, 109685),\n",
       " (3.939964590927443, 109665),\n",
       " (3.939964590927443, 20725),\n",
       " (3.939964590927443, 20631),\n",
       " (3.939964590927443, 20609),\n",
       " (3.939964590927443, 20525),\n",
       " (3.939964590927443, 20384),\n",
       " (3.939964590927443, 20032),\n",
       " (3.939964590927443, 19920),\n",
       " (3.939964590927443, 19919),\n",
       " (3.939964590927443, 19918),\n",
       " (3.939964590927443, 18196),\n",
       " (3.939964590927443, 18192),\n",
       " (3.939964590927443, 18163),\n",
       " (3.939964590927443, 17929),\n",
       " (3.939964590927443, 17858),\n",
       " (3.939964590927443, 17814),\n",
       " (3.939964590927443, 17697),\n",
       " (3.939964590927443, 17032),\n",
       " (3.939964590927443, 17023),\n",
       " (3.939964590927443, 10234),\n",
       " (3.939964590927443, 9044),\n",
       " (3.939964590927443, 8951),\n",
       " (3.939964590927443, 8713),\n",
       " (3.939964590927443, 8566),\n",
       " (3.939964590927443, 8561),\n",
       " (3.9369635987996108, 5187),\n",
       " (3.934803825671577, 109606),\n",
       " (3.934803825671577, 20661),\n",
       " (3.934803825671577, 20656),\n",
       " (3.934803825671577, 20496),\n",
       " (3.934803825671577, 20398),\n",
       " (3.934803825671577, 20383),\n",
       " (3.934803825671577, 20172),\n",
       " (3.934803825671577, 20022),\n",
       " (3.934803825671577, 18360),\n",
       " (3.934803825671577, 18234),\n",
       " (3.934803825671577, 17432),\n",
       " (3.934803825671577, 17395),\n",
       " (3.934803825671577, 12752),\n",
       " (3.934803825671577, 12481),\n",
       " (3.934803825671577, 12395),\n",
       " (3.934803825671577, 10285),\n",
       " (3.934803825671577, 9935),\n",
       " (3.934803825671577, 9934),\n",
       " (3.934803825671577, 9228),\n",
       " (3.934803825671577, 5533),\n",
       " (3.934803825671577, 5507),\n",
       " (3.934803825671577, 5161),\n",
       " (3.934803825671577, 1676),\n",
       " (3.934803825671577, 1546),\n",
       " (3.934803825671577, 1536),\n",
       " (3.934803825671577, 1524),\n",
       " (3.934803825671577, 1463),\n",
       " (3.934803825671577, 1460),\n",
       " (3.934803825671577, 1359),\n",
       " (3.916650399727633, 92981),\n",
       " (3.9080959288164694, 109749),\n",
       " (3.9080959288164694, 109747),\n",
       " (3.8974442996251906, 20057),\n",
       " (3.8875658790186858, 10216),\n",
       " (3.8848331053618383, 12856),\n",
       " (3.8730082090842437, 109756),\n",
       " (3.8730082090842437, 109755),\n",
       " (3.8730082090842437, 109754),\n",
       " (3.8730082090842437, 109748),\n",
       " (3.8730082090842437, 109746),\n",
       " (3.8730082090842437, 109745),\n",
       " (3.8730082090842437, 109744),\n",
       " (3.8730082090842437, 109743),\n",
       " (3.8730082090842437, 109705),\n",
       " (3.8730082090842437, 109700),\n",
       " (3.8730082090842437, 20855),\n",
       " (3.8730082090842437, 20448),\n",
       " (3.8730082090842437, 20438),\n",
       " (3.8730082090842437, 20437),\n",
       " (3.8730082090842437, 18033),\n",
       " (3.8730082090842437, 18030),\n",
       " (3.8730082090842437, 18024),\n",
       " (3.8730082090842437, 18021),\n",
       " (3.8730082090842437, 18018),\n",
       " (3.8730082090842437, 18006),\n",
       " (3.8730082090842437, 17024),\n",
       " (3.8730082090842437, 9384),\n",
       " (3.8730082090842437, 8558),\n",
       " (3.8730082090842437, 8550),\n",
       " (3.8730082090842437, 8549),\n",
       " (3.8730082090842437, 8548),\n",
       " (3.860042943337767, 8961),\n",
       " (3.8591662643675217, 93445),\n",
       " (3.8591662643675217, 93375),\n",
       " (3.8591662643675217, 93350),\n",
       " (3.8591662643675217, 93219),\n",
       " (3.8591662643675217, 93008),\n",
       " (3.8591662643675217, 92999),\n",
       " (3.8591662643675217, 92976),\n",
       " (3.8591662643675217, 92974),\n",
       " (3.8522350186288197, 99335),\n",
       " (3.845485273403325, 109683),\n",
       " (3.845485273403325, 109680),\n",
       " (3.845485273403325, 109673),\n",
       " (3.845485273403325, 109672),\n",
       " (3.845485273403325, 109668),\n",
       " (3.845485273403325, 109631),\n",
       " (3.845485273403325, 20569),\n",
       " (3.845485273403325, 20312),\n",
       " (3.845485273403325, 16723),\n",
       " (3.845485273403325, 16719),\n",
       " (3.845485273403325, 16712),\n",
       " (3.8341156383334454, 19940),\n",
       " (3.8024594960186855, 101193),\n",
       " (3.8024594960186855, 101180),\n",
       " (3.8024594960186855, 101163),\n",
       " (3.8024594960186855, 101146),\n",
       " (3.8024594960186855, 96949),\n",
       " (3.8024594960186855, 96804),\n",
       " (3.8024594960186855, 96723),\n",
       " (3.8024594960186855, 96607),\n",
       " (3.8024594960186855, 96585),\n",
       " (3.8024594960186855, 96573),\n",
       " (3.8024594960186855, 96568),\n",
       " (3.7996137136476644, 109634),\n",
       " (3.7996137136476644, 109632),\n",
       " (3.7996137136476644, 109628),\n",
       " (3.7996137136476644, 109590),\n",
       " (3.7996137136476644, 20884),\n",
       " (3.7996137136476644, 20730),\n",
       " (3.7996137136476644, 20709),\n",
       " (3.7996137136476644, 20706),\n",
       " (3.7996137136476644, 20375),\n",
       " (3.7996137136476644, 20364),\n",
       " (3.7996137136476644, 20173),\n",
       " (3.7996137136476644, 18012),\n",
       " (3.7996137136476644, 18008),\n",
       " (3.7996137136476644, 17980),\n",
       " (3.7996137136476644, 17979),\n",
       " (3.7996137136476644, 17884),\n",
       " (3.7996137136476644, 17869),\n",
       " (3.7996137136476644, 17612),\n",
       " (3.7996137136476644, 17609),\n",
       " (3.7996137136476644, 16883),\n",
       " (3.7996137136476644, 16636),\n",
       " (3.7996137136476644, 16628),\n",
       " (3.7996137136476644, 16570),\n",
       " (3.7996137136476644, 16565),\n",
       " (3.7996137136476644, 9256),\n",
       " (3.7996137136476644, 9018),\n",
       " (3.7996137136476644, 8835),\n",
       " (3.7996137136476644, 8832),\n",
       " (3.7996137136476644, 8709),\n",
       " (3.7996137136476644, 1333),\n",
       " (3.7930899862817107, 112620),\n",
       " (3.7852889105782426, 20027),\n",
       " (3.7852889105782426, 8659),\n",
       " (3.7840012880169134, 20644),\n",
       " (3.7840012880169134, 20517),\n",
       " (3.7840012880169134, 20514),\n",
       " (3.7840012880169134, 20513),\n",
       " (3.7840012880169134, 20512),\n",
       " (3.7840012880169134, 20511),\n",
       " (3.7840012880169134, 20494),\n",
       " (3.7840012880169134, 20493),\n",
       " (3.7840012880169134, 20487),\n",
       " (3.7840012880169134, 20481),\n",
       " (3.7840012880169134, 20480),\n",
       " (3.7840012880169134, 20382),\n",
       " (3.7840012880169134, 20226),\n",
       " (3.7840012880169134, 20013),\n",
       " (3.7840012880169134, 19939),\n",
       " (3.7840012880169134, 19938),\n",
       " (3.7840012880169134, 19934),\n",
       " (3.7840012880169134, 19926),\n",
       " (3.7840012880169134, 19925),\n",
       " (3.7840012880169134, 19923),\n",
       " (3.7840012880169134, 19922),\n",
       " (3.7840012880169134, 19921),\n",
       " (3.7840012880169134, 18476),\n",
       " (3.7840012880169134, 18472),\n",
       " (3.7840012880169134, 18450),\n",
       " (3.7840012880169134, 18444),\n",
       " (3.7840012880169134, 18376),\n",
       " (3.7840012880169134, 18372),\n",
       " (3.7840012880169134, 18365),\n",
       " (3.7840012880169134, 18362),\n",
       " (3.7840012880169134, 18253),\n",
       " (3.7840012880169134, 18245),\n",
       " (3.7840012880169134, 18244),\n",
       " (3.7840012880169134, 17430),\n",
       " (3.7840012880169134, 17393),\n",
       " (3.7840012880169134, 17015),\n",
       " (3.7840012880169134, 17014),\n",
       " (3.7840012880169134, 17013),\n",
       " (3.7840012880169134, 17009),\n",
       " (3.7840012880169134, 13211),\n",
       " (3.7840012880169134, 13198),\n",
       " (3.7840012880169134, 10197),\n",
       " (3.7840012880169134, 10171),\n",
       " (3.7840012880169134, 9945),\n",
       " (3.7840012880169134, 9942),\n",
       " (3.7840012880169134, 9777),\n",
       " (3.7840012880169134, 9271),\n",
       " (3.7840012880169134, 9236),\n",
       " (3.7840012880169134, 8944),\n",
       " (3.7840012880169134, 8886),\n",
       " (3.7840012880169134, 8877),\n",
       " (3.7840012880169134, 8810),\n",
       " (3.7840012880169134, 8368),\n",
       " (3.7840012880169134, 8360),\n",
       " (3.7840012880169134, 8358),\n",
       " (3.7840012880169134, 5585),\n",
       " (3.7840012880169134, 5580),\n",
       " (3.7840012880169134, 5509),\n",
       " (3.7840012880169134, 5467),\n",
       " (3.7840012880169134, 5196),\n",
       " (3.7840012880169134, 2797),\n",
       " (3.7840012880169134, 2795),\n",
       " (3.7840012880169134, 1363),\n",
       " (3.7749365603377667, 105060),\n",
       " (3.7749365603377667, 101552),\n",
       " (3.7749365603377667, 96873),\n",
       " (3.7749365603377667, 96871),\n",
       " (3.7673731941144846, 93427),\n",
       " (3.766457428150801, 20377),\n",
       " (3.735613010707868, 60573),\n",
       " (3.729065000582106, 100957),\n",
       " (3.729065000582106, 100953),\n",
       " (3.6826367648210967, 16528),\n",
       " (3.6787381304693603, 109549),\n",
       " (3.6787381304693603, 109545),\n",
       " (3.6787381304693603, 109540),\n",
       " (3.6787381304693603, 109538),\n",
       " (3.6787381304693603, 109536),\n",
       " (3.6787381304693603, 109529),\n",
       " (3.6787381304693603, 109522),\n",
       " (3.6787381304693603, 109472),\n",
       " (3.6747999220186855, 96969),\n",
       " (3.6622494054584793, 20313),\n",
       " (3.643650410737135, 20662),\n",
       " (3.643650410737135, 20643),\n",
       " (3.643650410737135, 20634),\n",
       " (3.643650410737135, 20606),\n",
       " (3.643650410737135, 20397),\n",
       " (3.643650410737135, 20366),\n",
       " (3.643650410737135, 20019),\n",
       " (3.643650410737135, 20017),\n",
       " (3.643650410737135, 18149),\n",
       " (3.643650410737135, 13214),\n",
       " (3.643650410737135, 12375),\n",
       " (3.643650410737135, 10182),\n",
       " (3.643650410737135, 10159),\n",
       " (3.643650410737135, 9947),\n",
       " (3.643650410737135, 9811),\n",
       " (3.643650410737135, 8897),\n",
       " (3.643650410737135, 8888),\n",
       " (3.643650410737135, 5156),\n",
       " (3.632246730018686, 101136),\n",
       " (3.632246730018686, 96588),\n",
       " (3.631192660699606, 8768),\n",
       " (3.623730887589322, 20314),\n",
       " (3.623730887589322, 5531),\n",
       " (3.6208662255446455, 20840),\n",
       " (3.6208662255446455, 9375),\n",
       " (3.6013163141044693, 100826),\n",
       " (3.593343289863726, 20749),\n",
       " (3.593343289863726, 5564),\n",
       " (3.593343289863726, 5543),\n",
       " (3.593343289863726, 5532),\n",
       " (3.593343289863726, 5448),\n",
       " (3.593343289863726, 5447),\n",
       " (3.5778593278336617, 17740),\n",
       " (3.5747625946585746, 8750),\n",
       " (3.5747625946585746, 8592),\n",
       " (3.5747625946585746, 8556),\n",
       " (3.573101697671577, 106947),\n",
       " (3.573101697671577, 101017),\n",
       " (3.573101697671577, 100973),\n",
       " (3.573101697671577, 100971),\n",
       " (3.573101697671577, 100917),\n",
       " (3.573101697671577, 100910),\n",
       " (3.573101697671577, 100898),\n",
       " (3.573101697671577, 100897),\n",
       " (3.573101697671577, 96970),\n",
       " (3.573101697671577, 96958),\n",
       " (3.547471730108066, 20370),\n",
       " (3.547471730108066, 9468),\n",
       " (3.5472396589776554, 5218),\n",
       " (3.544587156520019, 109759),\n",
       " (3.544587156520019, 109758),\n",
       " (3.543236384164212, 113162),\n",
       " (3.5270349402163124, 23386),\n",
       " (3.5170642208391, 109678),\n",
       " (3.5170642208391, 20747),\n",
       " (3.476828980448064, 101306),\n",
       " (3.47119266108344, 109592),\n",
       " (3.47119266108344, 16623),\n",
       " (3.47119266108344, 16567),\n",
       " (3.47119266108344, 8539),\n",
       " (3.46041454279229, 20645),\n",
       " (3.46041454279229, 20380),\n",
       " (3.46041454279229, 16536),\n",
       " (3.46041454279229, 16531),\n",
       " (3.452064220616829, 20337),\n",
       " (3.445442123671577, 100956),\n",
       " (3.445442123671577, 100955),\n",
       " (3.445442123671577, 100954),\n",
       " (3.440027183429673, 8333),\n",
       " (3.431192660582106, 98411),\n",
       " (3.431192660582106, 98405),\n",
       " (3.431192660582106, 98403),\n",
       " (3.431192660582106, 98399),\n",
       " (3.431192660582106, 98384),\n",
       " (3.431192660582106, 98383),\n",
       " (3.431192660582106, 98379),\n",
       " (3.431192660582106, 98372),\n",
       " (3.431192660582106, 98367),\n",
       " (3.431192660582106, 98366),\n",
       " (3.431192660582106, 98365),\n",
       " (3.431192660582106, 98364),\n",
       " (3.431192660582106, 98349),\n",
       " (3.431192660582106, 98323),\n",
       " (3.431192660582106, 98322),\n",
       " (3.431192660582106, 98303),\n",
       " (3.431192660582106, 98301),\n",
       " (3.431192660582106, 98276),\n",
       " (3.431192660582106, 98269),\n",
       " (3.431192660582106, 98254),\n",
       " (3.431192660582106, 98253),\n",
       " (3.431192660582106, 98251),\n",
       " (3.431192660582106, 98250),\n",
       " (3.431192660582106, 98249),\n",
       " (3.431192660582106, 98248),\n",
       " (3.431192660582106, 98246),\n",
       " (3.431192660582106, 98233),\n",
       " (3.431192660582106, 98232),\n",
       " (3.431192660582106, 98231),\n",
       " (3.431192660582106, 98230),\n",
       " (3.431192660582106, 98229),\n",
       " (3.431192660582106, 98228),\n",
       " (3.431192660582106, 98209),\n",
       " (3.431192660582106, 98207),\n",
       " (3.431192660582106, 98202),\n",
       " (3.431192660582106, 98198),\n",
       " (3.431192660582106, 98196),\n",
       " (3.431192660582106, 98191),\n",
       " (3.431192660582106, 98190),\n",
       " (3.431192660582106, 98182),\n",
       " (3.431192660582106, 98173),\n",
       " (3.431192660582106, 98155),\n",
       " (3.431192660582106, 98144),\n",
       " (3.431192660582106, 98099),\n",
       " (3.431192660582106, 98094),\n",
       " (3.431192660582106, 98090),\n",
       " (3.431192660582106, 98089),\n",
       " (3.431192660582106, 98018),\n",
       " (3.431192660582106, 98013),\n",
       " (3.431192660582106, 97999),\n",
       " (3.431192660582106, 97996),\n",
       " (3.431192660582106, 97993),\n",
       " (3.431192660582106, 97973),\n",
       " (3.431192660582106, 97972),\n",
       " (3.431192660582106, 97947),\n",
       " (3.431192660582106, 97937),\n",
       " (3.431192660582106, 97936),\n",
       " (3.431192660582106, 97935),\n",
       " (3.431192660582106, 97933),\n",
       " (3.431192660582106, 97930),\n",
       " (3.431192660582106, 76585),\n",
       " (3.431192660582106, 76584),\n",
       " (3.431192660582106, 76548),\n",
       " (3.431192660582106, 76290),\n",
       " (3.431192660582106, 76289),\n",
       " (3.431192660582106, 76288),\n",
       " (3.431192660582106, 76287),\n",
       " (3.431192660582106, 76273),\n",
       " (3.431192660582106, 76272),\n",
       " (3.431192660582106, 76266),\n",
       " (3.431192660582106, 76265),\n",
       " (3.431192660582106, 76256),\n",
       " (3.431192660582106, 76255),\n",
       " (3.431192660582106, 76251),\n",
       " (3.431192660582106, 76247),\n",
       " (3.431192660582106, 76241),\n",
       " (3.431192660582106, 76229),\n",
       " (3.431192660582106, 76199),\n",
       " (3.431192660582106, 76198),\n",
       " (3.431192660582106, 76190),\n",
       " (3.431192660582106, 76187),\n",
       " (3.431192660582106, 76119),\n",
       " (3.431192660582106, 76118),\n",
       " (3.431192660582106, 76117),\n",
       " (3.431192660582106, 76116),\n",
       " (3.431192660582106, 76115),\n",
       " (3.431192660582106, 76095),\n",
       " (3.431192660582106, 76094),\n",
       " (3.431192660582106, 76082),\n",
       " (3.431192660582106, 76079),\n",
       " (3.431192660582106, 76045),\n",
       " (3.431192660582106, 76044),\n",
       " (3.431192660582106, 76037),\n",
       " (3.431192660582106, 76023),\n",
       " (3.431192660582106, 76022),\n",
       " (3.431192660582106, 76014),\n",
       " (3.431192660582106, 75953),\n",
       " (3.431192660582106, 75952),\n",
       " (3.431192660582106, 75951),\n",
       " (3.431192660582106, 75916),\n",
       " (3.431192660582106, 75912),\n",
       " (3.431192660582106, 75893),\n",
       " (3.431192660582106, 75827),\n",
       " (3.431192660582106, 75791),\n",
       " (3.431192660582106, 75790),\n",
       " (3.431192660582106, 75789),\n",
       " (3.431192660582106, 75784),\n",
       " (3.431192660582106, 75783),\n",
       " (3.431192660582106, 75781),\n",
       " (3.431192660582106, 75775),\n",
       " (3.431192660582106, 75774),\n",
       " (3.431192660582106, 75768),\n",
       " (3.431192660582106, 75766),\n",
       " (3.431192660582106, 75761),\n",
       " (3.431192660582106, 75760),\n",
       " (3.431192660582106, 75759),\n",
       " (3.431192660582106, 75757),\n",
       " (3.431192660582106, 75756),\n",
       " (3.431192660582106, 75752),\n",
       " (3.431192660582106, 75748),\n",
       " (3.431192660582106, 75735),\n",
       " (3.431192660582106, 75733),\n",
       " (3.431192660582106, 75732),\n",
       " (3.431192660582106, 75730),\n",
       " (3.431192660582106, 75722),\n",
       " (3.431192660582106, 75717),\n",
       " (3.431192660582106, 75710),\n",
       " (3.431192660582106, 75706),\n",
       " (3.431192660582106, 75701),\n",
       " (3.431192660582106, 75692),\n",
       " (3.431192660582106, 75690),\n",
       " (3.431192660582106, 75688),\n",
       " (3.431192660582106, 75682),\n",
       " (3.431192660582106, 75678),\n",
       " (3.431192660582106, 75578),\n",
       " (3.431192660582106, 75577),\n",
       " (3.431192660582106, 75576),\n",
       " (3.431192660582106, 75575),\n",
       " (3.431192660582106, 75502),\n",
       " (3.431192660582106, 75498),\n",
       " (3.431192660582106, 75494),\n",
       " (3.431192660582106, 75449),\n",
       " (3.431192660582106, 75436),\n",
       " (3.431192660582106, 75359),\n",
       " (3.431192660582106, 75345),\n",
       " (3.431192660582106, 75333),\n",
       " (3.431192660582106, 75332),\n",
       " (3.431192660582106, 75314),\n",
       " (3.431192660582106, 75308),\n",
       " (3.431192660582106, 75307),\n",
       " (3.431192660582106, 75302),\n",
       " (3.431192660582106, 75301),\n",
       " (3.431192660582106, 75258),\n",
       " (3.431192660582106, 75257),\n",
       " (3.431192660582106, 75252),\n",
       " (3.431192660582106, 75245),\n",
       " (3.431192660582106, 75232),\n",
       " (3.431192660582106, 75221),\n",
       " (3.431192660582106, 75212),\n",
       " (3.431192660582106, 75205),\n",
       " (3.431192660582106, 75204),\n",
       " (3.431192660582106, 75194),\n",
       " (3.431192660582106, 75193),\n",
       " (3.431192660582106, 75185),\n",
       " (3.431192660582106, 75149),\n",
       " (3.431192660582106, 75099),\n",
       " (3.431192660582106, 75088),\n",
       " (3.431192660582106, 75087),\n",
       " (3.431192660582106, 75086),\n",
       " (3.431192660582106, 75084),\n",
       " (3.431192660582106, 75076),\n",
       " (3.431192660582106, 75059),\n",
       " (3.431192660582106, 75058),\n",
       " (3.431192660582106, 75057),\n",
       " (3.431192660582106, 75056),\n",
       " (3.431192660582106, 75055),\n",
       " (3.431192660582106, 75048),\n",
       " (3.431192660582106, 75047),\n",
       " (3.431192660582106, 75046),\n",
       " (3.431192660582106, 75040),\n",
       " (3.431192660582106, 75039),\n",
       " (3.431192660582106, 74784),\n",
       " (3.431192660582106, 74743),\n",
       " (3.431192660582106, 74740),\n",
       " (3.431192660582106, 74694),\n",
       " (3.431192660582106, 74686),\n",
       " (3.431192660582106, 74685),\n",
       " (3.431192660582106, 74681),\n",
       " (3.431192660582106, 74680),\n",
       " (3.431192660582106, 74654),\n",
       " (3.431192660582106, 74653),\n",
       " (3.431192660582106, 74652),\n",
       " (3.431192660582106, 74603),\n",
       " (3.431192660582106, 74584),\n",
       " (3.431192660582106, 74583),\n",
       " (3.431192660582106, 74582),\n",
       " (3.431192660582106, 74562),\n",
       " (3.431192660582106, 74560),\n",
       " (3.431192660582106, 74557),\n",
       " (3.431192660582106, 74555),\n",
       " (3.431192660582106, 74554),\n",
       " (3.431192660582106, 74553),\n",
       " (3.431192660582106, 74550),\n",
       " (3.431192660582106, 74536),\n",
       " (3.431192660582106, 74535),\n",
       " (3.431192660582106, 74522),\n",
       " (3.431192660582106, 74509),\n",
       " (3.431192660582106, 74507),\n",
       " (3.431192660582106, 74494),\n",
       " (3.431192660582106, 63205),\n",
       " (3.431192660582106, 63199),\n",
       " (3.431192660582106, 63142),\n",
       " (3.431192660582106, 63093),\n",
       " (3.431192660582106, 63091),\n",
       " (3.431192660582106, 63079),\n",
       " (3.431192660582106, 63067),\n",
       " (3.431192660582106, 63057),\n",
       " (3.431192660582106, 63056),\n",
       " (3.431192660582106, 63055),\n",
       " (3.431192660582106, 63052),\n",
       " (3.431192660582106, 63032),\n",
       " (3.431192660582106, 63031),\n",
       " (3.431192660582106, 63030),\n",
       " (3.431192660582106, 63029),\n",
       " (3.431192660582106, 63028),\n",
       " (3.431192660582106, 63019),\n",
       " (3.431192660582106, 63018),\n",
       " (3.431192660582106, 63001),\n",
       " (3.431192660582106, 62992),\n",
       " (3.431192660582106, 62985),\n",
       " (3.431192660582106, 62970),\n",
       " (3.431192660582106, 62953),\n",
       " (3.431192660582106, 62932),\n",
       " (3.431192660582106, 62931),\n",
       " (3.431192660582106, 62920),\n",
       " (3.431192660582106, 62919),\n",
       " (3.431192660582106, 62913),\n",
       " (3.431192660582106, 62912),\n",
       " (3.431192660582106, 62899),\n",
       " (3.431192660582106, 62897),\n",
       " (3.431192660582106, 62869),\n",
       " (3.431192660582106, 62868),\n",
       " (3.431192660582106, 62867),\n",
       " (3.431192660582106, 62849),\n",
       " (3.431192660582106, 62833),\n",
       " (3.431192660582106, 62832),\n",
       " (3.431192660582106, 62824),\n",
       " (3.431192660582106, 62821),\n",
       " (3.431192660582106, 62809),\n",
       " (3.431192660582106, 62786),\n",
       " (3.431192660582106, 62784),\n",
       " (3.431192660582106, 62773),\n",
       " (3.431192660582106, 62767),\n",
       " (3.431192660582106, 62716),\n",
       " (3.431192660582106, 62715),\n",
       " (3.431192660582106, 62706),\n",
       " (3.431192660582106, 62641),\n",
       " (3.431192660582106, 62637),\n",
       " (3.431192660582106, 62569),\n",
       " (3.431192660582106, 62535),\n",
       " (3.431192660582106, 62530),\n",
       " (3.431192660582106, 62488),\n",
       " (3.431192660582106, 62471),\n",
       " (3.431192660582106, 62453),\n",
       " (3.431192660582106, 62423),\n",
       " (3.431192660582106, 62393),\n",
       " (3.431192660582106, 62390),\n",
       " (3.431192660582106, 62269),\n",
       " (3.431192660582106, 62136),\n",
       " (3.431192660582106, 62085),\n",
       " (3.431192660582106, 62080),\n",
       " (3.431192660582106, 62000),\n",
       " (3.431192660582106, 61772),\n",
       " (3.431192660582106, 61751),\n",
       " (3.431192660582106, 61723),\n",
       " (3.431192660582106, 61712),\n",
       " (3.431192660582106, 61695),\n",
       " (3.431192660582106, 61547),\n",
       " (3.431192660582106, 61546),\n",
       " (3.431192660582106, 61530),\n",
       " (3.431192660582106, 61518),\n",
       " (3.431192660582106, 61498),\n",
       " (3.431192660582106, 61452),\n",
       " (3.431192660582106, 61450),\n",
       " (3.431192660582106, 47998),\n",
       " (3.431192660582106, 42179),\n",
       " (3.431192660582106, 17914),\n",
       " (3.4311926605821057, 109717),\n",
       " (3.4311926605821057, 10243),\n",
       " (3.4311926605821057, 2209),\n",
       " (3.4218960249231323, 20572),\n",
       " (3.4218960249231323, 20030),\n",
       " (3.4218960249231323, 13252),\n",
       " (3.421042357615521, 112449),\n",
       " (3.4115639001793134, 109764),\n",
       " (3.4061926614339813, 108766),\n",
       " (3.4061926614339813, 91554),\n",
       " (3.4046411222928916, 5527),\n",
       " (3.4046411222928916, 5504),\n",
       " (3.4046411222928916, 5503),\n",
       " (3.3915084271975364, 8315),\n",
       " (3.3909507921152766, 10198),\n",
       " (3.3840409644983938, 109677),\n",
       " (3.380559749152047, 111869),\n",
       " (3.380559749152047, 90966),\n",
       " (3.380559749152047, 90933),\n",
       " (3.380559749152047, 90932),\n",
       " (3.380559749152047, 82005),\n",
       " (3.380559749152047, 81851),\n",
       " (3.380559749152047, 81223),\n",
       " (3.380559749152047, 81051),\n",
       " (3.380559749152047, 80236),\n",
       " (3.380559749152047, 80183),\n",
       " (3.380559749152047, 80182),\n",
       " (3.380559749152047, 80173),\n",
       " (3.380559749152047, 80049),\n",
       " (3.380559749152047, 71732),\n",
       " (3.380559749152047, 66576),\n",
       " (3.380559749152047, 65358),\n",
       " (3.380559749152047, 64703),\n",
       " (3.370386173903944, 93354),\n",
       " (3.370386173903944, 92996),\n",
       " (3.36561889005241, 112297),\n",
       " (3.36561889005241, 112241),\n",
       " (3.36561889005241, 112231),\n",
       " (3.36561889005241, 91220),\n",
       " (3.36561889005241, 91177),\n",
       " (3.36561889005241, 91176),\n",
       " (3.36561889005241, 91155),\n",
       " (3.36561889005241, 91124),\n",
       " (3.36561889005241, 91122),\n",
       " (3.36561889005241, 91090),\n",
       " (3.36561889005241, 91042),\n",
       " (3.36561889005241, 91034),\n",
       " (3.36561889005241, 90999),\n",
       " (3.36561889005241, 90998),\n",
       " (3.36561889005241, 90984),\n",
       " (3.36561889005241, 90981),\n",
       " (3.36561889005241, 82326),\n",
       " (3.36561889005241, 82220),\n",
       " (3.36561889005241, 82183),\n",
       " (3.36561889005241, 82180),\n",
       " (3.36561889005241, 82179),\n",
       " (3.36561889005241, 82142),\n",
       " (3.36561889005241, 82110),\n",
       " (3.36561889005241, 82109),\n",
       " (3.36561889005241, 82078),\n",
       " (3.36561889005241, 82060),\n",
       " (3.36561889005241, 82044),\n",
       " (3.36561889005241, 82040),\n",
       " (3.36561889005241, 82036),\n",
       " (3.36561889005241, 82025),\n",
       " (3.36561889005241, 82023),\n",
       " (3.36561889005241, 82010),\n",
       " (3.36561889005241, 82004),\n",
       " (3.36561889005241, 81980),\n",
       " (3.36561889005241, 81956),\n",
       " (3.36561889005241, 81897),\n",
       " (3.36561889005241, 81894),\n",
       " (3.36561889005241, 81893),\n",
       " (3.36561889005241, 81891),\n",
       " (3.36561889005241, 81883),\n",
       " (3.36561889005241, 81882),\n",
       " (3.36561889005241, 81877),\n",
       " (3.36561889005241, 81866),\n",
       " (3.36561889005241, 81862),\n",
       " (3.36561889005241, 81848),\n",
       " (3.36561889005241, 81790),\n",
       " (3.36561889005241, 81789),\n",
       " (3.36561889005241, 81753),\n",
       " (3.36561889005241, 81601),\n",
       " (3.36561889005241, 81600),\n",
       " (3.36561889005241, 81577),\n",
       " (3.36561889005241, 81488),\n",
       " (3.36561889005241, 81450),\n",
       " (3.36561889005241, 81383),\n",
       " (3.36561889005241, 81332),\n",
       " (3.36561889005241, 81323),\n",
       " (3.36561889005241, 81126),\n",
       " (3.36561889005241, 81071),\n",
       " (3.36561889005241, 81070),\n",
       " (3.36561889005241, 81031),\n",
       " (3.36561889005241, 81025),\n",
       " (3.36561889005241, 80935),\n",
       " (3.36561889005241, 80923),\n",
       " (3.36561889005241, 80868),\n",
       " (3.36561889005241, 80866),\n",
       " (3.36561889005241, 80531),\n",
       " (3.36561889005241, 80309),\n",
       " (3.36561889005241, 80290),\n",
       " (3.36561889005241, 80254),\n",
       " (3.36561889005241, 73435),\n",
       " (3.36561889005241, 73415),\n",
       " (3.36561889005241, 73411),\n",
       " (3.36561889005241, 73410),\n",
       " (3.36561889005241, 73409),\n",
       " (3.36561889005241, 73380),\n",
       " (3.36561889005241, 73379),\n",
       " (3.36561889005241, 73378),\n",
       " (3.36561889005241, 73046),\n",
       " (3.36561889005241, 73043),\n",
       " (3.36561889005241, 73041),\n",
       " (3.36561889005241, 72912),\n",
       " (3.36561889005241, 72809),\n",
       " (3.36561889005241, 72719),\n",
       " (3.36561889005241, 72511),\n",
       " (3.36561889005241, 72449),\n",
       " (3.36561889005241, 72420),\n",
       " (3.36561889005241, 72355),\n",
       " (3.36561889005241, 72305),\n",
       " (3.36561889005241, 72166),\n",
       " (3.36561889005241, 71988),\n",
       " (3.36561889005241, 71974),\n",
       " (3.36561889005241, 71750),\n",
       " (3.36561889005241, 71659),\n",
       " (3.36561889005241, 67396),\n",
       " (3.36561889005241, 67291),\n",
       " (3.36561889005241, 67290),\n",
       " (3.36561889005241, 67289),\n",
       " (3.36561889005241, 67288),\n",
       " (3.36561889005241, 67287),\n",
       " (3.36561889005241, 67283),\n",
       " (3.36561889005241, 67245),\n",
       " (3.36561889005241, 67228),\n",
       " (3.36561889005241, 66633),\n",
       " (3.36561889005241, 66631),\n",
       " (3.36561889005241, 66627),\n",
       " (3.36561889005241, 66620),\n",
       " (3.36561889005241, 66595),\n",
       " (3.36561889005241, 66583),\n",
       " (3.36561889005241, 66563),\n",
       " (3.36561889005241, 66478),\n",
       " (3.36561889005241, 66455),\n",
       " (3.36561889005241, 66423),\n",
       " (3.36561889005241, 66380),\n",
       " (3.36561889005241, 66378),\n",
       " (3.36561889005241, 66175),\n",
       " (3.36561889005241, 66148),\n",
       " (3.36561889005241, 66008),\n",
       " (3.36561889005241, 65977),\n",
       " (3.36561889005241, 65974),\n",
       " (3.36561889005241, 65969),\n",
       " (3.36561889005241, 65876),\n",
       " (3.36561889005241, 65863),\n",
       " (3.36561889005241, 65849),\n",
       " (3.36561889005241, 65802),\n",
       " (3.36561889005241, 65552),\n",
       " (3.36561889005241, 65360),\n",
       " (3.36561889005241, 65090),\n",
       " (3.36561889005241, 65048),\n",
       " (3.36561889005241, 65047),\n",
       " (3.36561889005241, 64885),\n",
       " (3.36561889005241, 64882),\n",
       " (3.36561889005241, 64855),\n",
       " (3.36561889005241, 64749),\n",
       " (3.36561889005241, 64746),\n",
       " (3.36561889005241, 64743),\n",
       " (3.3634278564343574, 109681),\n",
       " (3.354269582732007, 98589),\n",
       " (3.354269582732007, 98545),\n",
       " (3.3436926606775748, 109579),\n",
       " (3.341896025173799, 16509),\n",
       " (3.3381694047427333, 109639),\n",
       " (3.3381694047427333, 20729),\n",
       " (3.3381694047427333, 1540),\n",
       " (3.3276389322859763, 5516),\n",
       " (3.3200815492775795, 109662),\n",
       " (3.3200815492775795, 20026),\n",
       " (3.3175562966786973, 109607),\n",
       " (3.3175562966786973, 109588),\n",
       " (3.3157738982461953, 20745),\n",
       " (3.3152293581729104, 8884),\n",
       " (3.3082418409352368, 80470),\n",
       " (3.3082418409352368, 80468),\n",
       " (3.306912737223391, 96560),\n",
       " (3.306912737223391, 96558),\n",
       " (3.306912737223391, 96552),\n",
       " (3.306912737223391, 96548),\n",
       " (3.306912737223391, 96545),\n",
       " (3.306912737223391, 96544),\n",
       " (3.300757878077065, 42186),\n",
       " (3.300757878077065, 42182),\n",
       " (3.2668090991808114, 42174),\n",
       " (3.2645259934802544, 73010),\n",
       " (3.2645259934802544, 72919),\n",
       " (3.2645259934802544, 72647),\n",
       " (3.2645259934802544, 72354),\n",
       " (3.2645259934802544, 72264),\n",
       " (3.2645259934802544, 71651),\n",
       " (3.2623636070231052, 76779),\n",
       " (3.2460074754613926, 72729),\n",
       " (3.244525994082551, 82043),\n",
       " (3.244525994082551, 82006),\n",
       " (3.244525994082551, 81357),\n",
       " (3.244525994082551, 81220),\n",
       " (3.244525994082551, 81168),\n",
       " (3.244525994082551, 81110),\n",
       " (3.244525994082551, 80992),\n",
       " (3.244525994082551, 80348),\n",
       " (3.244525994082551, 73407),\n",
       " (3.244525994082551, 73382),\n",
       " (3.244525994082551, 73365),\n",
       " (3.244525994082551, 73359),\n",
       " (3.244525994082551, 71685),\n",
       " (3.244525994082551, 66200),\n",
       " (3.244525994082551, 66191),\n",
       " (3.244525994082551, 65610),\n",
       " (3.244525994082551, 64625),\n",
       " (3.242668070092923, 42180),\n",
       " (3.2381923207634835, 5433),\n",
       " (3.2357993357276325, 92946),\n",
       " (3.225929502476455, 80071),\n",
       " (3.225929502476455, 80046),\n",
       " (3.222859326759189, 73038),\n",
       " (3.222859326759189, 72805),\n",
       " (3.222859326759189, 72770),\n",
       " (3.222859326759189, 72745),\n",
       " (3.222859326759189, 72273),\n",
       " (3.222859326759189, 71916),\n",
       " (3.218895864572971, 102768),\n",
       " ...]"
      ]
     },
     "execution_count": 64,
     "metadata": {},
     "output_type": "execute_result"
    }
   ],
   "source": [
    "%%time\n",
    "best_images(1, scalaire=False)"
   ]
  },
  {
   "cell_type": "markdown",
   "metadata": {},
   "source": [
    "### Comment tester : \n",
    "> Chaque point un nouveau compteur\n",
    "*  Compter un si la meilleure photo a des evenements en commun avec la depeche\n",
    "*  Compter un si une des 10 meilleures photos a des evenements en commun avec la depèche \n",
    "*  De meme avec 5. \n",
    "*  Faire le graphe la position de la premiere photo ayant un evenement en commun \n",
    "\n",
    "\n",
    "# Afficher la distibution "
   ]
  },
  {
   "cell_type": "markdown",
   "metadata": {},
   "source": [
    "Avec malus"
   ]
  },
  {
   "cell_type": "code",
   "execution_count": 127,
   "metadata": {},
   "outputs": [
    {
     "name": "stderr",
     "output_type": "stream",
     "text": [
      "/Users/ya/miniconda3/lib/python3.7/site-packages/ipykernel_launcher.py:7: TqdmDeprecationWarning: This function will be removed in tqdm==5.0.0\n",
      "Please use `tqdm.notebook.tqdm` instead of `tqdm.tqdm_notebook`\n",
      "  import sys\n"
     ]
    },
    {
     "data": {
      "application/vnd.jupyter.widget-view+json": {
       "model_id": "30e64c4b38044c91a717a4380c3aca7e",
       "version_major": 2,
       "version_minor": 0
      },
      "text/plain": [
       "HBox(children=(FloatProgress(value=0.0, max=700.0), HTML(value='')))"
      ]
     },
     "metadata": {},
     "output_type": "display_data"
    },
    {
     "name": "stdout",
     "output_type": "stream",
     "text": [
      "\n",
      "CPU times: user 1h 44min 1s, sys: 1min 57s, total: 1h 45min 59s\n",
      "Wall time: 1h 41min 7s\n"
     ]
    }
   ],
   "source": [
    "%%time\n",
    "import matplotlib.pyplot as plt\n",
    "#P,P1,P11_malus,P_scalaire = [],[],[],[]\n",
    "#c1,c11,c11_malus = 0,0,0\n",
    "#c2,c22,c22_malus = 0,0,0 \n",
    "#c3,c33,c33_malus = 0,0,0\n",
    "\n",
    "for k in tqdm_notebook(index_inter_filtre[300:1000]): # 186 et 233 bug \n",
    "    doc = nlp(depeches.news2[k])\n",
    "    liste_event_commun = event_commun(k)\n",
    "    L = best_images_d(doc)\n",
    "   \n",
    "    if  L != [] :\n",
    "        if L[0][1] in liste_event_commun:\n",
    "                c1+=1\n",
    "        position = -20\n",
    "        j=0\n",
    "        while position == -20 and j<len(L):\n",
    "\n",
    "            if L[j][1] in liste_event_commun:\n",
    "                position = j + 1\n",
    "                score_com = L[j][0]\n",
    "\n",
    "            j+=1\n",
    "        if position<=5 and position != -20: \n",
    "            c2+=1\n",
    "        if position<=10 and position != -20:\n",
    "            c3+=1\n",
    "        P.append(position)\n",
    "\n",
    "    L1 = best_images_d(doc,malus1=True)\n",
    "   \n",
    "    if  L1 != [] :\n",
    "        if L1[0][1] in liste_event_commun:\n",
    "                c11+=1\n",
    "        position = -20\n",
    "        j=0\n",
    "        while position == -20 and j<len(L1):\n",
    "\n",
    "            if L1[j][1] in liste_event_commun:\n",
    "                position = j + 1\n",
    "                score_com = L1[j][0]\n",
    "\n",
    "            j+=1\n",
    "        if position<=5 and position != -20: \n",
    "            c22+=1\n",
    "        if position<=10 and position != -20:\n",
    "            c33+=1\n",
    "        P1.append(position)\n",
    "        \n",
    "        \n",
    "    L2 = best_images_d(doc,malus2=True)\n",
    "   \n",
    "    if  L2 != [] :\n",
    "        if L2[0][1] in liste_event_commun:\n",
    "                c11_malus+=1\n",
    "        position = -20\n",
    "        j=0\n",
    "        while position == -20 and j<len(L2):\n",
    "\n",
    "            if L2[j][1] in liste_event_commun:\n",
    "                position = j + 1\n",
    "                score_com = L2[j][0]\n",
    "\n",
    "            j+=1\n",
    "        if position<=5 and position != -20: \n",
    "            c22_malus+=1\n",
    "        if position<=10 and position != -20:\n",
    "            c33_malus+=1\n",
    "        P11_malus.append(position)\n",
    "\n",
    "    L3 = best_images_d(doc,scalaire=True)   \n",
    "    if  L3 != [] :\n",
    "       \n",
    "        position = -20\n",
    "        j=0\n",
    "        while position == -20 and j<len(L3):\n",
    "\n",
    "            if L3[j][1] in liste_event_commun:\n",
    "                position = j + 1\n",
    "                score_com = L3[j][0]\n",
    "\n",
    "            j+=1\n",
    "        \n",
    "        P_scalaire.append(position)\n",
    "\n",
    "    \n",
    "    \n"
   ]
  },
  {
   "cell_type": "code",
   "execution_count": 128,
   "metadata": {},
   "outputs": [],
   "source": [
    "c_naif, c_scalaire, c_pos, c_mal = 0,0,0,0\n",
    "for k in range(len(P)):\n",
    "    if P[k]<=20:\n",
    "        c_naif+=1\n",
    "    if P_scalaire[k]<=20:\n",
    "        c_scalaire+=1\n",
    "    if P1[k]<=20:\n",
    "        c_pos+=1\n",
    "    if P11_malus[k]<=20:\n",
    "        c_mal+=1\n",
    "        "
   ]
  },
  {
   "cell_type": "code",
   "execution_count": 131,
   "metadata": {},
   "outputs": [
    {
     "data": {
      "text/plain": [
       "[76,\n",
       " 604,\n",
       " 130001,\n",
       " 901,\n",
       " 139236,\n",
       " 26,\n",
       " 592,\n",
       " 632,\n",
       " 335,\n",
       " 430,\n",
       " 663,\n",
       " 711,\n",
       " -20,\n",
       " 743,\n",
       " 366,\n",
       " 149614,\n",
       " -20,\n",
       " 139245,\n",
       " 248,\n",
       " 149614,\n",
       " 1023,\n",
       " 64,\n",
       " 1686,\n",
       " 616,\n",
       " 5512,\n",
       " 3560,\n",
       " 149614,\n",
       " 171,\n",
       " 2291,\n",
       " 149614,\n",
       " 125229,\n",
       " 1651,\n",
       " 125657,\n",
       " 149748,\n",
       " 957,\n",
       " 65,\n",
       " 140494,\n",
       " -20,\n",
       " 125251,\n",
       " 10326,\n",
       " 145647,\n",
       " 1410,\n",
       " 189,\n",
       " 10,\n",
       " 831,\n",
       " 146782,\n",
       " 4888,\n",
       " 124972,\n",
       " 145199,\n",
       " 149764,\n",
       " -20,\n",
       " 125248,\n",
       " 147939,\n",
       " 10,\n",
       " -20,\n",
       " 905,\n",
       " 144961,\n",
       " 435,\n",
       " 160,\n",
       " 1238,\n",
       " 559,\n",
       " 1130,\n",
       " 591,\n",
       " 592,\n",
       " 29,\n",
       " 4035,\n",
       " -20,\n",
       " 2,\n",
       " 149803,\n",
       " 1166,\n",
       " 3475,\n",
       " 294,\n",
       " 130455,\n",
       " 5729,\n",
       " 648,\n",
       " 153,\n",
       " 334,\n",
       " 118,\n",
       " 592,\n",
       " -20,\n",
       " 282,\n",
       " 69346,\n",
       " -20,\n",
       " 1926,\n",
       " 863,\n",
       " 9409,\n",
       " 440,\n",
       " 72705,\n",
       " 579,\n",
       " 979,\n",
       " 563,\n",
       " 1294,\n",
       " -20,\n",
       " 898,\n",
       " 49,\n",
       " 139236,\n",
       " 2036,\n",
       " 560,\n",
       " 163,\n",
       " 139061,\n",
       " 569,\n",
       " 540,\n",
       " 104,\n",
       " 664,\n",
       " 69,\n",
       " 142453,\n",
       " 1,\n",
       " 182,\n",
       " 357,\n",
       " -20,\n",
       " 608,\n",
       " 142513,\n",
       " 102,\n",
       " 376,\n",
       " 299,\n",
       " -20,\n",
       " 886,\n",
       " -20,\n",
       " 12,\n",
       " 721,\n",
       " 149614,\n",
       " 4007,\n",
       " 604,\n",
       " 149642,\n",
       " 149634,\n",
       " 31,\n",
       " 65,\n",
       " 149638,\n",
       " 70060,\n",
       " 12,\n",
       " 26,\n",
       " 229,\n",
       " 111,\n",
       " 265,\n",
       " 148045,\n",
       " 144709,\n",
       " 147938,\n",
       " 147967,\n",
       " -20,\n",
       " 143348,\n",
       " 305,\n",
       " 148071,\n",
       " 8,\n",
       " 19,\n",
       " 136358,\n",
       " 75604,\n",
       " 238,\n",
       " 309,\n",
       " 130664,\n",
       " 2097,\n",
       " -20,\n",
       " 2803,\n",
       " 4,\n",
       " 915,\n",
       " 630,\n",
       " 3,\n",
       " 283,\n",
       " 166,\n",
       " 144958,\n",
       " 88,\n",
       " 889,\n",
       " 261,\n",
       " 142504,\n",
       " 147937,\n",
       " -20,\n",
       " 3,\n",
       " 145455,\n",
       " 6470,\n",
       " 15,\n",
       " 1571,\n",
       " 1074,\n",
       " 608,\n",
       " 72712,\n",
       " 595,\n",
       " 28,\n",
       " 291,\n",
       " 148459,\n",
       " 592,\n",
       " 280,\n",
       " -20,\n",
       " 380,\n",
       " 691,\n",
       " 879,\n",
       " 27,\n",
       " 28,\n",
       " -20,\n",
       " 10,\n",
       " 126743,\n",
       " 1095,\n",
       " -20,\n",
       " 126502,\n",
       " 240,\n",
       " 149614,\n",
       " 35,\n",
       " 126370,\n",
       " 204,\n",
       " 147713,\n",
       " 700,\n",
       " 147975,\n",
       " 149614,\n",
       " 150023,\n",
       " 1154,\n",
       " 231,\n",
       " -20,\n",
       " 1024,\n",
       " 349,\n",
       " 39,\n",
       " 232,\n",
       " 909,\n",
       " 635,\n",
       " -20,\n",
       " 82,\n",
       " 613,\n",
       " -20,\n",
       " 17959,\n",
       " 344,\n",
       " 124,\n",
       " 1,\n",
       " 74270,\n",
       " 1175,\n",
       " -20,\n",
       " 7,\n",
       " 125,\n",
       " -20,\n",
       " 178,\n",
       " 21,\n",
       " 35,\n",
       " 16,\n",
       " 56,\n",
       " -20,\n",
       " 125368,\n",
       " -20,\n",
       " 19,\n",
       " 113,\n",
       " 188,\n",
       " 254,\n",
       " 150172,\n",
       " 14,\n",
       " -20,\n",
       " 52,\n",
       " 130073,\n",
       " 689,\n",
       " 376,\n",
       " 604,\n",
       " 56,\n",
       " 362,\n",
       " 14,\n",
       " 142470,\n",
       " 29,\n",
       " 1201,\n",
       " 69291,\n",
       " 1198,\n",
       " 457,\n",
       " 8,\n",
       " 300,\n",
       " -20,\n",
       " 380,\n",
       " 57,\n",
       " 215,\n",
       " 2799,\n",
       " 164,\n",
       " 359,\n",
       " 6160,\n",
       " 62,\n",
       " 142386,\n",
       " 147740,\n",
       " -20,\n",
       " 1023,\n",
       " 695,\n",
       " 3277,\n",
       " 703,\n",
       " 147938,\n",
       " 108,\n",
       " 463,\n",
       " 155,\n",
       " 150016,\n",
       " 366,\n",
       " -20,\n",
       " 4280,\n",
       " 58,\n",
       " 125052,\n",
       " 8,\n",
       " 12,\n",
       " 1228,\n",
       " 20,\n",
       " 63,\n",
       " 208,\n",
       " 401,\n",
       " 22,\n",
       " 7,\n",
       " 18,\n",
       " 30,\n",
       " 76742,\n",
       " 3,\n",
       " 61,\n",
       " -20,\n",
       " 143761,\n",
       " 1288,\n",
       " 87,\n",
       " 66,\n",
       " 9,\n",
       " 4,\n",
       " 1,\n",
       " 220,\n",
       " 9,\n",
       " 71,\n",
       " 17,\n",
       " 133473,\n",
       " 150165,\n",
       " 979,\n",
       " -20,\n",
       " 142514,\n",
       " 150313,\n",
       " 131,\n",
       " 87,\n",
       " 2228,\n",
       " 139,\n",
       " -20,\n",
       " 57,\n",
       " 483,\n",
       " 120,\n",
       " 94285,\n",
       " -20,\n",
       " 155,\n",
       " 143508,\n",
       " 143521,\n",
       " 8387,\n",
       " 22,\n",
       " 198,\n",
       " 155,\n",
       " 20,\n",
       " 356,\n",
       " 150068,\n",
       " 812,\n",
       " 182,\n",
       " 5085,\n",
       " 155,\n",
       " 10,\n",
       " 10,\n",
       " 150170,\n",
       " 148080,\n",
       " -20,\n",
       " 15,\n",
       " 424,\n",
       " 139236,\n",
       " -20,\n",
       " -20,\n",
       " -20,\n",
       " 1,\n",
       " 150023,\n",
       " 780,\n",
       " 1,\n",
       " 150020,\n",
       " 131922,\n",
       " 91,\n",
       " 149666,\n",
       " 21,\n",
       " -20,\n",
       " 145429,\n",
       " 147624,\n",
       " 1578,\n",
       " 1,\n",
       " 1,\n",
       " 866,\n",
       " 18,\n",
       " 475,\n",
       " 273,\n",
       " 8,\n",
       " 4548,\n",
       " 131893,\n",
       " 19,\n",
       " 1198,\n",
       " 5530,\n",
       " 5,\n",
       " 344,\n",
       " 381,\n",
       " 1229,\n",
       " 131900,\n",
       " 4329,\n",
       " 23,\n",
       " 291,\n",
       " 508,\n",
       " 150049,\n",
       " 131893,\n",
       " 149297,\n",
       " 2,\n",
       " 4172,\n",
       " 1198,\n",
       " 560,\n",
       " 105,\n",
       " 70066,\n",
       " 12,\n",
       " 75,\n",
       " 150486,\n",
       " 239,\n",
       " 150380,\n",
       " 16,\n",
       " 18,\n",
       " 16,\n",
       " 101,\n",
       " -20,\n",
       " 145050,\n",
       " 149389,\n",
       " 74932,\n",
       " 1200,\n",
       " 34,\n",
       " -20,\n",
       " 198,\n",
       " 4037,\n",
       " -20,\n",
       " -20,\n",
       " 147583,\n",
       " 846,\n",
       " 173,\n",
       " 2134,\n",
       " 5,\n",
       " 150355,\n",
       " 356,\n",
       " 199,\n",
       " 1172,\n",
       " 198,\n",
       " 25,\n",
       " 150373,\n",
       " 24,\n",
       " 2,\n",
       " 150486,\n",
       " 2102,\n",
       " 10771,\n",
       " 54,\n",
       " -20,\n",
       " 149614,\n",
       " 592,\n",
       " 147960,\n",
       " 180,\n",
       " 117,\n",
       " 149638,\n",
       " -20,\n",
       " 131832,\n",
       " 150385,\n",
       " 1341,\n",
       " 30,\n",
       " 159,\n",
       " 79,\n",
       " 48,\n",
       " -20,\n",
       " 22,\n",
       " 1434,\n",
       " 149694,\n",
       " 149638,\n",
       " 331,\n",
       " 149689,\n",
       " 205,\n",
       " 59,\n",
       " 1510,\n",
       " 150452,\n",
       " 631,\n",
       " 1386,\n",
       " 45,\n",
       " 145416,\n",
       " 89513,\n",
       " 1081,\n",
       " 150527,\n",
       " 90040,\n",
       " 125,\n",
       " -20,\n",
       " -20,\n",
       " 20,\n",
       " 2,\n",
       " 7,\n",
       " 150486,\n",
       " 3,\n",
       " 52,\n",
       " -20,\n",
       " -20,\n",
       " 11,\n",
       " 1,\n",
       " -20,\n",
       " 1597,\n",
       " 150527,\n",
       " -20,\n",
       " -20,\n",
       " 2,\n",
       " 90,\n",
       " 150503,\n",
       " 1539,\n",
       " 3,\n",
       " 2,\n",
       " -20,\n",
       " 150527,\n",
       " -20,\n",
       " 965,\n",
       " 549,\n",
       " 179,\n",
       " -20,\n",
       " 10,\n",
       " 150438,\n",
       " 150382,\n",
       " 150023,\n",
       " 8,\n",
       " 60,\n",
       " 102,\n",
       " 306,\n",
       " 1061,\n",
       " 25,\n",
       " 1648,\n",
       " 719,\n",
       " 2038,\n",
       " 802,\n",
       " 150054,\n",
       " 608,\n",
       " 546,\n",
       " 29,\n",
       " 56,\n",
       " 31,\n",
       " 831,\n",
       " -20,\n",
       " 5,\n",
       " -20,\n",
       " 2,\n",
       " 385,\n",
       " 98,\n",
       " 149647,\n",
       " 150527,\n",
       " 616,\n",
       " 149638,\n",
       " 69,\n",
       " 41,\n",
       " 991,\n",
       " 608,\n",
       " 406,\n",
       " 895,\n",
       " -20,\n",
       " 198,\n",
       " 1199,\n",
       " -20,\n",
       " 149638,\n",
       " 149657,\n",
       " -20,\n",
       " 150228,\n",
       " 10157,\n",
       " 469,\n",
       " 144958,\n",
       " 47,\n",
       " -20,\n",
       " 38,\n",
       " 125044,\n",
       " 124978,\n",
       " -20,\n",
       " -20,\n",
       " 1434,\n",
       " 730,\n",
       " 125261,\n",
       " 60,\n",
       " 81,\n",
       " 135,\n",
       " -20,\n",
       " 38,\n",
       " 641,\n",
       " 761,\n",
       " 1989,\n",
       " 65,\n",
       " 142456,\n",
       " 4131,\n",
       " 47,\n",
       " 204,\n",
       " 5,\n",
       " 149313,\n",
       " 150043,\n",
       " 579,\n",
       " 765,\n",
       " 357,\n",
       " 1514,\n",
       " 1,\n",
       " 167,\n",
       " 133487,\n",
       " 10253,\n",
       " 69379,\n",
       " 2173,\n",
       " 954,\n",
       " 474,\n",
       " -20,\n",
       " 145413,\n",
       " 150196,\n",
       " 5,\n",
       " 150057,\n",
       " 1681,\n",
       " 67,\n",
       " -20,\n",
       " 150046,\n",
       " 148,\n",
       " 31,\n",
       " 150075,\n",
       " 541,\n",
       " 123,\n",
       " 149381,\n",
       " 150207,\n",
       " 4290,\n",
       " 1198,\n",
       " 2,\n",
       " 515,\n",
       " 20,\n",
       " 257,\n",
       " -20,\n",
       " 150090,\n",
       " 149614,\n",
       " 540,\n",
       " 691,\n",
       " 142453,\n",
       " 69,\n",
       " 10,\n",
       " 12103,\n",
       " 149614,\n",
       " 68,\n",
       " 145,\n",
       " 21,\n",
       " 149638,\n",
       " 149690,\n",
       " 93729,\n",
       " 10347,\n",
       " 4603,\n",
       " 1,\n",
       " 150057,\n",
       " 453,\n",
       " 13,\n",
       " 5606,\n",
       " 6,\n",
       " 149618,\n",
       " 9,\n",
       " 149971,\n",
       " 87,\n",
       " -20,\n",
       " -20,\n",
       " 6760,\n",
       " 149643,\n",
       " 149378,\n",
       " 1243,\n",
       " 577,\n",
       " 150204,\n",
       " 75591,\n",
       " -20,\n",
       " 180,\n",
       " 58,\n",
       " 7,\n",
       " 3355,\n",
       " 124968,\n",
       " 3027,\n",
       " -20,\n",
       " 3500,\n",
       " 149883,\n",
       " 1033,\n",
       " 4265,\n",
       " 1,\n",
       " 149632,\n",
       " 518,\n",
       " 149738,\n",
       " -20,\n",
       " 149744,\n",
       " 149788,\n",
       " 2680,\n",
       " 149938,\n",
       " 6613,\n",
       " 7,\n",
       " 149777,\n",
       " -20,\n",
       " 4150,\n",
       " 145533,\n",
       " 149661,\n",
       " 149876,\n",
       " 149616,\n",
       " 149841,\n",
       " 6571,\n",
       " 149791,\n",
       " 149824,\n",
       " 149630,\n",
       " 149738,\n",
       " 149744,\n",
       " 149726,\n",
       " 442,\n",
       " 29,\n",
       " 608,\n",
       " 26,\n",
       " 711,\n",
       " 592,\n",
       " -20,\n",
       " 149649,\n",
       " 82,\n",
       " 30,\n",
       " 149755,\n",
       " 2162,\n",
       " 226,\n",
       " 2796,\n",
       " 29,\n",
       " 219,\n",
       " 238,\n",
       " 176,\n",
       " -20,\n",
       " 19,\n",
       " 31,\n",
       " 791,\n",
       " 84,\n",
       " 35,\n",
       " 149638,\n",
       " 7,\n",
       " 308,\n",
       " 149614,\n",
       " 64,\n",
       " 126344,\n",
       " 149638,\n",
       " 18509,\n",
       " 149711,\n",
       " 22,\n",
       " 2167,\n",
       " 131893,\n",
       " 55,\n",
       " 388,\n",
       " 67,\n",
       " 9,\n",
       " 29,\n",
       " 2,\n",
       " 1438,\n",
       " 47,\n",
       " 46,\n",
       " 153,\n",
       " 125103,\n",
       " 795,\n",
       " 261,\n",
       " 341,\n",
       " 253,\n",
       " 796,\n",
       " 149535,\n",
       " 10495,\n",
       " 149858,\n",
       " 76745,\n",
       " 461,\n",
       " -20,\n",
       " 14032,\n",
       " 323,\n",
       " 4220,\n",
       " 149687,\n",
       " 133478,\n",
       " 835,\n",
       " 149689,\n",
       " 5734,\n",
       " 1,\n",
       " 149527,\n",
       " 7510,\n",
       " 4750,\n",
       " -20,\n",
       " 149425,\n",
       " 149141,\n",
       " 149494,\n",
       " 148946,\n",
       " 149476,\n",
       " 149561,\n",
       " 149400,\n",
       " 371,\n",
       " 149558,\n",
       " 149,\n",
       " 149496,\n",
       " 25,\n",
       " 1558,\n",
       " 149585,\n",
       " 146,\n",
       " 149335,\n",
       " 149309,\n",
       " 150046,\n",
       " 559,\n",
       " 149267,\n",
       " 149335,\n",
       " 149400,\n",
       " 2278,\n",
       " 149738,\n",
       " 592,\n",
       " 2047,\n",
       " 149416,\n",
       " 149247,\n",
       " 5971,\n",
       " 149409,\n",
       " 1,\n",
       " 3243,\n",
       " 52,\n",
       " 2102,\n",
       " 149614,\n",
       " 691,\n",
       " 149437,\n",
       " 149614,\n",
       " 313,\n",
       " 113,\n",
       " 149638,\n",
       " 301,\n",
       " 1,\n",
       " 149615,\n",
       " 25,\n",
       " 12,\n",
       " 3,\n",
       " 56,\n",
       " 150114,\n",
       " 147499,\n",
       " 21,\n",
       " 2,\n",
       " 276,\n",
       " 45,\n",
       " 147622,\n",
       " 615,\n",
       " 1027,\n",
       " 607,\n",
       " 2434,\n",
       " 527,\n",
       " 21,\n",
       " 85,\n",
       " 296,\n",
       " 149379,\n",
       " 131885,\n",
       " 11810,\n",
       " 354,\n",
       " 12,\n",
       " 131767,\n",
       " 83,\n",
       " 1074,\n",
       " 3,\n",
       " 12,\n",
       " -20,\n",
       " 243,\n",
       " 247,\n",
       " 79,\n",
       " 90,\n",
       " 73163,\n",
       " 1641,\n",
       " 1522,\n",
       " 1,\n",
       " 8,\n",
       " 19,\n",
       " 149683,\n",
       " 268,\n",
       " 4361,\n",
       " 5379,\n",
       " 10,\n",
       " 148946,\n",
       " 59,\n",
       " 364,\n",
       " 182,\n",
       " 9,\n",
       " 148983,\n",
       " 31,\n",
       " 542,\n",
       " 131789,\n",
       " 1316,\n",
       " 542,\n",
       " 25,\n",
       " 32,\n",
       " 1067,\n",
       " 1821,\n",
       " -20,\n",
       " 40,\n",
       " 1225,\n",
       " 149391,\n",
       " 628,\n",
       " 73,\n",
       " 148098,\n",
       " 3,\n",
       " 21,\n",
       " 148881,\n",
       " 1403,\n",
       " 149295,\n",
       " 6757,\n",
       " 674,\n",
       " 147434,\n",
       " 806,\n",
       " 7030,\n",
       " 12,\n",
       " 149363,\n",
       " 425,\n",
       " 757,\n",
       " -20,\n",
       " 149186,\n",
       " 51,\n",
       " 294,\n",
       " 578,\n",
       " 71239,\n",
       " 12439,\n",
       " 592,\n",
       " 38,\n",
       " 11025,\n",
       " 90,\n",
       " 18,\n",
       " 96,\n",
       " 580,\n",
       " 83,\n",
       " 3,\n",
       " 147767,\n",
       " 147580,\n",
       " -20,\n",
       " 147756,\n",
       " 2426,\n",
       " -20,\n",
       " 185,\n",
       " 69,\n",
       " 24,\n",
       " 93,\n",
       " 580,\n",
       " 1885,\n",
       " 125033,\n",
       " 137,\n",
       " 63,\n",
       " -20,\n",
       " 3163,\n",
       " 147575,\n",
       " 19,\n",
       " 58,\n",
       " 112191,\n",
       " 96,\n",
       " 527,\n",
       " 5123,\n",
       " -20,\n",
       " -20,\n",
       " 20,\n",
       " -20,\n",
       " 148476,\n",
       " 9148,\n",
       " 3,\n",
       " -20,\n",
       " 123,\n",
       " 2735,\n",
       " -20,\n",
       " 2,\n",
       " 1256,\n",
       " 73164,\n",
       " 150318,\n",
       " 620,\n",
       " 72,\n",
       " 7343,\n",
       " 1461,\n",
       " 3304,\n",
       " 12999,\n",
       " 4391,\n",
       " 149,\n",
       " 148487,\n",
       " 3515,\n",
       " 28,\n",
       " 35,\n",
       " 148555,\n",
       " 7,\n",
       " 17,\n",
       " 2246,\n",
       " 3064,\n",
       " 3257,\n",
       " 1050,\n",
       " 219,\n",
       " 148487,\n",
       " 2210,\n",
       " 592,\n",
       " 148969,\n",
       " 592,\n",
       " -20,\n",
       " 25,\n",
       " -20,\n",
       " -20,\n",
       " 147575,\n",
       " 147575,\n",
       " 112,\n",
       " 148135,\n",
       " -20,\n",
       " 592,\n",
       " 150056,\n",
       " 592,\n",
       " 1,\n",
       " 145427,\n",
       " 8,\n",
       " 8762,\n",
       " 137,\n",
       " 119,\n",
       " 148019,\n",
       " 147515,\n",
       " 14401,\n",
       " 542,\n",
       " 13,\n",
       " 675,\n",
       " 2542,\n",
       " 150024,\n",
       " 148071,\n",
       " 542,\n",
       " 47,\n",
       " 148272,\n",
       " 148318,\n",
       " 8137,\n",
       " -20,\n",
       " 5508,\n",
       " 4133,\n",
       " 151,\n",
       " 131902,\n",
       " 10,\n",
       " 399,\n",
       " 80226,\n",
       " 72,\n",
       " 79,\n",
       " 262,\n",
       " 6,\n",
       " 16295,\n",
       " 63]"
      ]
     },
     "execution_count": 131,
     "metadata": {},
     "output_type": "execute_result"
    }
   ],
   "source": [
    "P"
   ]
  },
  {
   "cell_type": "code",
   "execution_count": 113,
   "metadata": {},
   "outputs": [],
   "source": [
    "trop.remove(11595)\n",
    "trop.remove(11636)\n",
    "trop.remove(11726)\n",
    "trop.remove(15011)"
   ]
  },
  {
   "cell_type": "code",
   "execution_count": 117,
   "metadata": {},
   "outputs": [],
   "source": [
    "index_inter_filtre = [ k for k in index_inter if k not in trop]"
   ]
  },
  {
   "cell_type": "code",
   "execution_count": 120,
   "metadata": {},
   "outputs": [
    {
     "data": {
      "text/plain": [
       "9856"
      ]
     },
     "execution_count": 120,
     "metadata": {},
     "output_type": "execute_result"
    }
   ],
   "source": [
    "len(index_inter_filtre)"
   ]
  },
  {
   "cell_type": "code",
   "execution_count": 129,
   "metadata": {},
   "outputs": [
    {
     "name": "stdout",
     "output_type": "stream",
     "text": [
      " précision naive 0.2022022022022022 \n",
      " Precision scalaire 0.1981981981981982 \n",
      " Precison malus position 0.22022022022022023 \n",
      " Precision malus  0.2092092092092092\n"
     ]
    }
   ],
   "source": [
    "print(' précision naive', c_naif/len(P), \"\\n Precision scalaire\",c_scalaire/len(P), \"\\n Precison malus position\" , c_pos/len(P), \"\\n Precision malus \", c_mal/len(P) )"
   ]
  },
  {
   "cell_type": "code",
   "execution_count": 132,
   "metadata": {},
   "outputs": [
    {
     "data": {
      "text/plain": [
       "(array([ 93., 104.,  55.,  28.,  29.,  19.,  13.,  11.,  13.,  10.,  13.,\n",
       "          7.,   8.,   7.,   7.,   9.,   7.,   4.,  10.,   7.,   6.,   2.,\n",
       "          4.,   4.,   5.,   1.]),\n",
       " array([-20.,   0.,  20.,  40.,  60.,  80., 100., 120., 140., 160., 180.,\n",
       "        200., 220., 240., 260., 280., 300., 320., 340., 360., 380., 400.,\n",
       "        420., 440., 460., 480., 500.]),\n",
       " <a list of 26 Patch objects>)"
      ]
     },
     "execution_count": 132,
     "metadata": {},
     "output_type": "execute_result"
    },
    {
     "data": {
      "image/png": "[encoded data removed]",
      "text/plain": [
       "<Figure size 432x288 with 1 Axes>"
      ]
     },
     "metadata": {
      "needs_background": "light"
     },
     "output_type": "display_data"
    }
   ],
   "source": [
    "plt.xlabel('Positions')\n",
    "plt.title('Histogramme des positions')\n",
    "plt.hist(P, range=(-20,500), bins= 26, edgecolor = 'black' )"
   ]
  },
  {
   "cell_type": "code",
   "execution_count": 133,
   "metadata": {},
   "outputs": [
    {
     "data": {
      "text/plain": [
       "(array([ 93., 103.,  39.,  26.,  21.,  21.,  11.,  10.,   7.,  13.,  13.,\n",
       "         14.,   8.,   6.,   6.,   9.,   6.,   7.,   4.,   6.,   3.,   4.,\n",
       "          5.,   3.,   5.,   5.]),\n",
       " array([-20.,   0.,  20.,  40.,  60.,  80., 100., 120., 140., 160., 180.,\n",
       "        200., 220., 240., 260., 280., 300., 320., 340., 360., 380., 400.,\n",
       "        420., 440., 460., 480., 500.]),\n",
       " <a list of 26 Patch objects>)"
      ]
     },
     "execution_count": 133,
     "metadata": {},
     "output_type": "execute_result"
    },
    {
     "data": {
      "image/png": "[encoded data removed]",
      "text/plain": [
       "<Figure size 432x288 with 1 Axes>"
      ]
     },
     "metadata": {
      "needs_background": "light"
     },
     "output_type": "display_data"
    }
   ],
   "source": [
    "plt.xlabel('Positions')\n",
    "plt.title('Histogramme des positions')\n",
    "plt.hist(P_scalaire, range=(-20,500), bins= 26, edgecolor = 'black' )\n"
   ]
  },
  {
   "cell_type": "code",
   "execution_count": 134,
   "metadata": {},
   "outputs": [
    {
     "data": {
      "text/plain": [
       "(array([ 93., 120.,  48.,  54.,  34.,  32.,  15.,  13.,  16.,  15.,  16.,\n",
       "         16.,  11.,   5.,   9.,   5.,   7.,   2.,   3.,   5.,   5.,   5.,\n",
       "          7.,   7.,   3.,   3.]),\n",
       " array([-20.,   0.,  20.,  40.,  60.,  80., 100., 120., 140., 160., 180.,\n",
       "        200., 220., 240., 260., 280., 300., 320., 340., 360., 380., 400.,\n",
       "        420., 440., 460., 480., 500.]),\n",
       " <a list of 26 Patch objects>)"
      ]
     },
     "execution_count": 134,
     "metadata": {},
     "output_type": "execute_result"
    },
    {
     "data": {
      "image/png": "[encoded data removed]",
      "text/plain": [
       "<Figure size 432x288 with 1 Axes>"
      ]
     },
     "metadata": {
      "needs_background": "light"
     },
     "output_type": "display_data"
    }
   ],
   "source": [
    "plt.xlabel('Positions')\n",
    "plt.title('Histogramme des positions')\n",
    "plt.hist(P1,range=(-20,500), bins= 26, edgecolor = 'black' )\n"
   ]
  },
  {
   "cell_type": "code",
   "execution_count": 136,
   "metadata": {},
   "outputs": [
    {
     "data": {
      "text/plain": [
       "(array([ 93., 114.,  75.,  15.,  36.,  44.,  26.,  24.,  14.,  17.,   8.,\n",
       "          8.,  11.,   6.,  11.,   7.,   5.,   1.,   2.,   3.,   2.,   3.,\n",
       "          5.,   2.,   4.,   2.]),\n",
       " array([-20.,   0.,  20.,  40.,  60.,  80., 100., 120., 140., 160., 180.,\n",
       "        200., 220., 240., 260., 280., 300., 320., 340., 360., 380., 400.,\n",
       "        420., 440., 460., 480., 500.]),\n",
       " <a list of 26 Patch objects>)"
      ]
     },
     "execution_count": 136,
     "metadata": {},
     "output_type": "execute_result"
    },
    {
     "data": {
      "image/png": "[encoded data removed]",
      "text/plain": [
       "<Figure size 432x288 with 1 Axes>"
      ]
     },
     "metadata": {
      "needs_background": "light"
     },
     "output_type": "display_data"
    }
   ],
   "source": [
    "plt.xlabel('Positions')\n",
    "plt.title('Histogramme des positions')\n",
    "plt.hist(P11_malus,range=(-20,500), bins= 26, edgecolor = 'black' )\n"
   ]
  },
  {
   "cell_type": "code",
   "execution_count": 205,
   "metadata": {},
   "outputs": [
    {
     "name": "stderr",
     "output_type": "stream",
     "text": [
      "/Users/ya/miniconda3/lib/python3.7/site-packages/ipykernel_launcher.py:6: TqdmDeprecationWarning: This function will be removed in tqdm==5.0.0\n",
      "Please use `tqdm.notebook.tqdm` instead of `tqdm.tqdm_notebook`\n",
      "  \n"
     ]
    },
    {
     "data": {
      "application/vnd.jupyter.widget-view+json": {
       "model_id": "dd66e22ec7844309a498903cd7c0ff06",
       "version_major": 2,
       "version_minor": 0
      },
      "text/plain": [
       "HBox(children=(FloatProgress(value=0.0, max=9836.0), HTML(value='')))"
      ]
     },
     "metadata": {},
     "output_type": "display_data"
    },
    {
     "ename": "KeyboardInterrupt",
     "evalue": "",
     "output_type": "error",
     "traceback": [
      "\u001b[0;31m---------------------------------------------------------------------------\u001b[0m",
      "\u001b[0;31mKeyboardInterrupt\u001b[0m                         Traceback (most recent call last)",
      "\u001b[0;32m<timed exec>\u001b[0m in \u001b[0;36m<module>\u001b[0;34m\u001b[0m\n",
      "\u001b[0;32m<timed exec>\u001b[0m in \u001b[0;36mevent_commun\u001b[0;34m(k)\u001b[0m\n",
      "\u001b[0;32m~/miniconda3/lib/python3.7/site-packages/pandas/core/series.py\u001b[0m in \u001b[0;36m__getitem__\u001b[0;34m(self, key)\u001b[0m\n\u001b[1;32m    866\u001b[0m         \u001b[0mkey\u001b[0m \u001b[0;34m=\u001b[0m \u001b[0mcom\u001b[0m\u001b[0;34m.\u001b[0m\u001b[0mapply_if_callable\u001b[0m\u001b[0;34m(\u001b[0m\u001b[0mkey\u001b[0m\u001b[0;34m,\u001b[0m \u001b[0mself\u001b[0m\u001b[0;34m)\u001b[0m\u001b[0;34m\u001b[0m\u001b[0;34m\u001b[0m\u001b[0m\n\u001b[1;32m    867\u001b[0m         \u001b[0;32mtry\u001b[0m\u001b[0;34m:\u001b[0m\u001b[0;34m\u001b[0m\u001b[0;34m\u001b[0m\u001b[0m\n\u001b[0;32m--> 868\u001b[0;31m             \u001b[0mresult\u001b[0m \u001b[0;34m=\u001b[0m \u001b[0mself\u001b[0m\u001b[0;34m.\u001b[0m\u001b[0mindex\u001b[0m\u001b[0;34m.\u001b[0m\u001b[0mget_value\u001b[0m\u001b[0;34m(\u001b[0m\u001b[0mself\u001b[0m\u001b[0;34m,\u001b[0m \u001b[0mkey\u001b[0m\u001b[0;34m)\u001b[0m\u001b[0;34m\u001b[0m\u001b[0;34m\u001b[0m\u001b[0m\n\u001b[0m\u001b[1;32m    869\u001b[0m \u001b[0;34m\u001b[0m\u001b[0m\n\u001b[1;32m    870\u001b[0m             \u001b[0;32mif\u001b[0m \u001b[0;32mnot\u001b[0m \u001b[0mis_scalar\u001b[0m\u001b[0;34m(\u001b[0m\u001b[0mresult\u001b[0m\u001b[0;34m)\u001b[0m\u001b[0;34m:\u001b[0m\u001b[0;34m\u001b[0m\u001b[0;34m\u001b[0m\u001b[0m\n",
      "\u001b[0;32m~/miniconda3/lib/python3.7/site-packages/pandas/core/indexes/base.py\u001b[0m in \u001b[0;36mget_value\u001b[0;34m(self, series, key)\u001b[0m\n\u001b[1;32m   4368\u001b[0m \u001b[0;34m\u001b[0m\u001b[0m\n\u001b[1;32m   4369\u001b[0m         \u001b[0ms\u001b[0m \u001b[0;34m=\u001b[0m \u001b[0mcom\u001b[0m\u001b[0;34m.\u001b[0m\u001b[0mvalues_from_object\u001b[0m\u001b[0;34m(\u001b[0m\u001b[0mseries\u001b[0m\u001b[0;34m)\u001b[0m\u001b[0;34m\u001b[0m\u001b[0;34m\u001b[0m\u001b[0m\n\u001b[0;32m-> 4370\u001b[0;31m         \u001b[0mk\u001b[0m \u001b[0;34m=\u001b[0m \u001b[0mcom\u001b[0m\u001b[0;34m.\u001b[0m\u001b[0mvalues_from_object\u001b[0m\u001b[0;34m(\u001b[0m\u001b[0mkey\u001b[0m\u001b[0;34m)\u001b[0m\u001b[0;34m\u001b[0m\u001b[0;34m\u001b[0m\u001b[0m\n\u001b[0m\u001b[1;32m   4371\u001b[0m \u001b[0;34m\u001b[0m\u001b[0m\n\u001b[1;32m   4372\u001b[0m         \u001b[0mk\u001b[0m \u001b[0;34m=\u001b[0m \u001b[0mself\u001b[0m\u001b[0;34m.\u001b[0m\u001b[0m_convert_scalar_indexer\u001b[0m\u001b[0;34m(\u001b[0m\u001b[0mk\u001b[0m\u001b[0;34m,\u001b[0m \u001b[0mkind\u001b[0m\u001b[0;34m=\u001b[0m\u001b[0;34m'getitem'\u001b[0m\u001b[0;34m)\u001b[0m\u001b[0;34m\u001b[0m\u001b[0;34m\u001b[0m\u001b[0m\n",
      "\u001b[0;31mKeyboardInterrupt\u001b[0m: "
     ]
    }
   ],
   "source": [
    "%%time\n",
    "import matplotlib.pyplot as plt\n",
    "#P_sansmalus = []\n",
    "#c1 = 0 \n",
    "#c2 = 0 \n",
    "#c3 = 0\n",
    "for k in tqdm_notebook(index_inter[300:1000]):\n",
    "    liste_event_commun = event_commun(k)\n",
    "    L = best_images(k,False)\n",
    "   \n",
    "    if  L != [] :\n",
    "        if L[0][1] in liste_event_commun:\n",
    "                c1+=1\n",
    "        position = -20\n",
    "        j=0\n",
    "        while position == -20 and j<len(L):\n",
    "\n",
    "            if L[j][1] in liste_event_commun:\n",
    "                position = j + 1\n",
    "                score_com = L[j][0]\n",
    "\n",
    "            j+=1\n",
    "        if position<=5 and position != -20: \n",
    "            c2+=1\n",
    "        if position<=10 and position != -20:\n",
    "            c3+=1\n",
    "        P_sansmalus.append(position)\n",
    "\n",
    "        \n",
    "    \n",
    "    \n",
    "    "
   ]
  },
  {
   "cell_type": "code",
   "execution_count": 201,
   "metadata": {},
   "outputs": [
    {
     "data": {
      "text/plain": [
       "(array([96., 30., 15.,  6.,  7.,  2.,  6.,  3.,  2.,  6.,  3.,  3.,  4.,\n",
       "         4.,  2.,  5.,  4.,  2.,  4.,  4.,  2.,  1.,  2.,  2.,  1.,  0.]),\n",
       " array([-20.,   0.,  20.,  40.,  60.,  80., 100., 120., 140., 160., 180.,\n",
       "        200., 220., 240., 260., 280., 300., 320., 340., 360., 380., 400.,\n",
       "        420., 440., 460., 480., 500.]),\n",
       " <a list of 26 Patch objects>)"
      ]
     },
     "execution_count": 201,
     "metadata": {},
     "output_type": "execute_result"
    },
    {
     "data": {
      "image/png": "[encoded data removed]",
      "text/plain": [
       "<Figure size 432x288 with 1 Axes>"
      ]
     },
     "metadata": {
      "needs_background": "light"
     },
     "output_type": "display_data"
    }
   ],
   "source": [
    "plt.xlabel('Positions_sansmalus')\n",
    "plt.title('Histogramme des positions')\n",
    "plt.hist(P_sansmalus, range=(-20,500), bins= 26, edgecolor = 'black' )\n"
   ]
  },
  {
   "cell_type": "code",
   "execution_count": 202,
   "metadata": {},
   "outputs": [
    {
     "data": {
      "image/png": "[encoded data removed]",
      "text/plain": [
       "<Figure size 432x288 with 1 Axes>"
      ]
     },
     "metadata": {
      "needs_background": "light"
     },
     "output_type": "display_data"
    }
   ],
   "source": [
    "%matplotlib inline\n",
    "plt.hist([P, P_sansmalus], bins =26,range= (-20,500), color = ['yellow', 'green'], edgecolor = 'black', hatch = '/', label = ['avec malus', 'sans malus'], histtype = 'bar')\n",
    "plt.show()"
   ]
  },
  {
   "cell_type": "code",
   "execution_count": 52,
   "metadata": {},
   "outputs": [
    {
     "data": {
      "text/plain": [
       "(array([95., 25., 15.,  6.,  7.,  2.,  6.,  2.,  2.,  6.,  3.,  3.,  4.,\n",
       "         4.,  2.,  5.,  4.,  2.,  4.,  4.,  2.,  1.,  2.,  2.,  1.,  0.]),\n",
       " array([-20.,   0.,  20.,  40.,  60.,  80., 100., 120., 140., 160., 180.,\n",
       "        200., 220., 240., 260., 280., 300., 320., 340., 360., 380., 400.,\n",
       "        420., 440., 460., 480., 500.]),\n",
       " <a list of 26 Patch objects>)"
      ]
     },
     "execution_count": 52,
     "metadata": {},
     "output_type": "execute_result"
    },
    {
     "data": {
      "image/png": "[encoded data removed]",
      "text/plain": [
       "<Figure size 432x288 with 1 Axes>"
      ]
     },
     "metadata": {
      "needs_background": "light"
     },
     "output_type": "display_data"
    }
   ],
   "source": [
    "plt.xlabel('Positions_sansmalus')\n",
    "plt.title('Histogramme des positions')\n",
    "plt.hist(P_sansmalus, range=(-20,500), bins= 26, edgecolor = 'black' )\n"
   ]
  },
  {
   "cell_type": "code",
   "execution_count": 119,
   "metadata": {},
   "outputs": [
    {
     "data": {
      "image/png": "[encoded data removed]",
      "text/plain": [
       "<Figure size 432x288 with 1 Axes>"
      ]
     },
     "metadata": {
      "needs_background": "light"
     },
     "output_type": "display_data"
    }
   ],
   "source": [
    "%matplotlib inline\n",
    "plt.hist([P, P_sansmalus], bins =26,range= (-20,500), color = ['yellow', 'green'], edgecolor = 'black', hatch = '/', label = ['avec malus', 'sans malus'], histtype = 'bar')\n",
    "plt.show()\n",
    "# bar est le defaut"
   ]
  },
  {
   "cell_type": "code",
   "execution_count": 58,
   "metadata": {},
   "outputs": [
    {
     "name": "stdout",
     "output_type": "stream",
     "text": [
      "le nombre de dépeches dans le top 100 sans malus est de 55 \n",
      "le nombre de dépeches dans le top 100 avec malus est de 83\n"
     ]
    }
   ],
   "source": [
    "d = 0 \n",
    "v= 0 \n",
    "for k in P: \n",
    "    if 0<=k<=100:\n",
    "        d+=1\n",
    "for k in P_sansmalus:\n",
    "    if 0<=k<=100:\n",
    "        v+=1\n",
    "print('le nombre de dépeches dans le top 100 sans malus est de' ,v , '\\nle nombre de dépeches dans le top 100 avec malus est de' ,d)\n",
    "        \n"
   ]
  },
  {
   "cell_type": "code",
   "execution_count": 59,
   "metadata": {},
   "outputs": [
    {
     "name": "stdout",
     "output_type": "stream",
     "text": [
      "le nombre de dépeches dans le top 10 sans malus est de 15 \n",
      "le nombre de dépeches dans le top 10 avec malus est de 20\n"
     ]
    }
   ],
   "source": [
    "d = 0 \n",
    "v= 0 \n",
    "for k in P: \n",
    "    if 0<=k<=10:\n",
    "        d+=1\n",
    "for k in P_sansmalus:\n",
    "    if 0<=k<=10:\n",
    "        v+=1\n",
    "\n",
    "print('le nombre de dépeches dans le top 10 sans malus est de' ,v , '\\nle nombre de dépeches dans le top 10 avec malus est de' ,d)\n",
    "        "
   ]
  },
  {
   "cell_type": "code",
   "execution_count": 35,
   "metadata": {},
   "outputs": [
    {
     "name": "stderr",
     "output_type": "stream",
     "text": [
      "/Users/ya/miniconda3/lib/python3.7/site-packages/ipykernel_launcher.py:3: TqdmDeprecationWarning: This function will be removed in tqdm==5.0.0\n",
      "Please use `tqdm.notebook.tqdm` instead of `tqdm.tqdm_notebook`\n",
      "  This is separate from the ipykernel package so we can avoid doing imports until\n"
     ]
    },
    {
     "data": {
      "application/vnd.jupyter.widget-view+json": {
       "model_id": "59311e573b204d2081bc41a05b2fb826",
       "version_major": 2,
       "version_minor": 0
      },
      "text/plain": [
       "HBox(children=(FloatProgress(value=0.0, max=33.0), HTML(value='')))"
      ]
     },
     "metadata": {},
     "output_type": "display_data"
    },
    {
     "name": "stdout",
     "output_type": "stream",
     "text": [
      "\n",
      "CPU times: user 11min 4s, sys: 10.5 s, total: 11min 14s\n",
      "Wall time: 11min 50s\n"
     ]
    }
   ],
   "source": [
    "%%time\n",
    "import matplotlib.pyplot as plt\n",
    "\n",
    "for k in tqdm_notebook(index_inter[95+22:150]):\n",
    "    liste_event_commun = event_commun(k)\n",
    "    L = best_images(k,True)\n",
    "   \n",
    "    if  L != [] :\n",
    "        if L[0][1] in liste_event_commun:\n",
    "                c1+=1\n",
    "        position = -1000\n",
    "        j=0\n",
    "        while position == -1000 and j<len(L):\n",
    "\n",
    "            if L[j][1] in liste_event_commun:\n",
    "                position = j + 1\n",
    "                score_com = L[j][0]\n",
    "\n",
    "            j+=1\n",
    "        if position<=5 and position != -1000: \n",
    "            c2+=1\n",
    "        if position<=10 and position != -1000:\n",
    "            c3+=1\n",
    "        P.append(position)\n",
    "\n",
    "        "
   ]
  },
  {
   "cell_type": "code",
   "execution_count": 29,
   "metadata": {},
   "outputs": [
    {
     "data": {
      "image/png": "[encoded data removed]",
      "text/plain": [
       "<Figure size 432x288 with 1 Axes>"
      ]
     },
     "metadata": {
      "needs_background": "light"
     },
     "output_type": "display_data"
    }
   ],
   "source": [
    "plt.xlabel(\"dépèches\")  \n",
    "plt.ylabel(\"Position de la meilleure photo ayant un event en commun \")\n",
    "plt.plot(range(len(P)),P)  \n",
    "plt.show()\n",
    "    "
   ]
  },
  {
   "cell_type": "code",
   "execution_count": 30,
   "metadata": {},
   "outputs": [
    {
     "name": "stdout",
     "output_type": "stream",
     "text": [
      "Nombre perfect match 3 \n",
      " <=5 8  \n",
      " <=10 13  sur 150 photos\n"
     ]
    }
   ],
   "source": [
    "print(\"Nombre perfect match\" , c1, \"\\n <=5\", c2 , \" \\n <=10\", c3 , \" sur 150 photos\" )"
   ]
  },
  {
   "cell_type": "markdown",
   "metadata": {},
   "source": [
    "## Test article "
   ]
  },
  {
   "cell_type": "code",
   "execution_count": 16,
   "metadata": {},
   "outputs": [],
   "source": [
    "df = pd.read_csv('base_articles.csv')\n",
    "df = df.dropna(subset= ['Article'])\n",
    "df.Article = df.Article.apply(lambda x: x.replace(\"\\n\",\" \"))"
   ]
  },
  {
   "cell_type": "code",
   "execution_count": 157,
   "metadata": {},
   "outputs": [
    {
     "data": {
      "text/plain": [
       "(5, 3)"
      ]
     },
     "execution_count": 157,
     "metadata": {},
     "output_type": "execute_result"
    }
   ],
   "source": [
    "df.shape"
   ]
  },
  {
   "cell_type": "code",
   "execution_count": 75,
   "metadata": {},
   "outputs": [
    {
     "name": "stdout",
     "output_type": "stream",
     "text": [
      "CPU times: user 3.18 s, sys: 297 ms, total: 3.47 s\n",
      "Wall time: 2.52 s\n"
     ]
    }
   ],
   "source": [
    "%%time\n",
    "v =nlp(df.Article[0])"
   ]
  },
  {
   "cell_type": "code",
   "execution_count": 74,
   "metadata": {},
   "outputs": [],
   "source": [
    "a = scores_doc_coref1(nlp(df.Article[0]))"
   ]
  },
  {
   "cell_type": "code",
   "execution_count": 68,
   "metadata": {},
   "outputs": [
    {
     "name": "stdout",
     "output_type": "stream",
     "text": [
      "CPU times: user 43 µs, sys: 713 µs, total: 756 µs\n",
      "Wall time: 3.66 ms\n"
     ]
    }
   ],
   "source": [
    "%%time \n",
    "def article_best_images(article, malus):\n",
    "    \"\"\" Retourne les  meilleures ( best score) photos de la k eme dépèche\"\"\"\n",
    "    doc = nlp(article)\n",
    "    #doc = nlp(depeches.news2[10])\n",
    "    L_score =[]\n",
    "    score_doc=scores_doc_coref1(doc)\n",
    "    #rel = related_descr(doc)\n",
    "    if malus : \n",
    "        for j in range(len(liste_scores1_photos)):\n",
    "            L_score.append( (score_sim11(doc,score_doc,j),j)) \n",
    "    else : \n",
    "         for j in range(len(liste_scores1_photos)):\n",
    "            L_score.append( (score_sim1(doc,score_doc,j),j)) \n",
    "    L_score.sort(reverse=True)\n",
    "    \n",
    "    return L_score\n",
    "\n"
   ]
  },
  {
   "cell_type": "code",
   "execution_count": 33,
   "metadata": {},
   "outputs": [],
   "source": [
    "# df base de 5 articles sur la korea \n",
    "result_malus =article_best_images(df.Article[2], True)\n",
    "result = article_best_images(df.Article[2], False)\n"
   ]
  },
  {
   "cell_type": "code",
   "execution_count": 31,
   "metadata": {},
   "outputs": [
    {
     "data": {
      "text/plain": [
       "([(5.479528789009752, 55569),\n",
       "  (5.333246414559395, 6315),\n",
       "  (5.333246414559395, 6314),\n",
       "  (5.333246414559395, 6313),\n",
       "  (5.333246414559395, 6312),\n",
       "  (5.333246414559395, 6311),\n",
       "  (5.333246414559395, 6310),\n",
       "  (5.333246414559395, 6309),\n",
       "  (4.777401130009752, 55571),\n",
       "  (4.538374619749401, 7989),\n",
       "  (4.515432649978189, 7094),\n",
       "  (4.515432649978189, 7093),\n",
       "  (4.406752100434987, 124434),\n",
       "  (4.39508720259515, 69033),\n",
       "  (4.39508720259515, 66615),\n",
       "  (4.351099891817386, 7782),\n",
       "  (4.327371078236281, 10358),\n",
       "  (4.327371078236281, 7568),\n",
       "  (4.289178617946705, 80417),\n",
       "  (4.289178617946705, 80416),\n",
       "  (4.289178617946705, 80415),\n",
       "  (4.289178617946705, 80414),\n",
       "  (4.289178617946705, 66616),\n",
       "  (4.289178617946705, 66610),\n",
       "  (4.160973489401669, 78857),\n",
       "  (4.160973489401669, 78855),\n",
       "  (4.051990540058327, 7753),\n",
       "  (4.051990540058327, 7752),\n",
       "  (4.051990540058327, 7751),\n",
       "  (4.051990540058327, 7658),\n",
       "  (4.051990540058327, 7657),\n",
       "  (4.051990540058327, 7656),\n",
       "  (4.051990540058327, 7655),\n",
       "  (4.051990540058327, 7654),\n",
       "  (4.051990540058327, 7653),\n",
       "  (4.051990540058327, 7652),\n",
       "  (4.038374619749401, 8047),\n",
       "  (4.038374619749401, 8045),\n",
       "  (4.038374619749401, 8017),\n",
       "  (4.038374619749401, 8016),\n",
       "  (4.038374619749401, 8012),\n",
       "  (4.038374619749401, 7997),\n",
       "  (4.038374619749401, 7990),\n",
       "  (4.038374619749401, 7959),\n",
       "  (4.038374619749401, 7958),\n",
       "  (3.9702139482686087, 8304),\n",
       "  (3.9702139482686087, 8299),\n",
       "  (3.9656689502362807, 10456),\n",
       "  (3.9656689502362807, 10439),\n",
       "  (3.873853632888914, 58196),\n",
       "  (3.8483711983267184, 79840),\n",
       "  (3.8483711983267184, 66618),\n",
       "  (3.8483711983267184, 40746),\n",
       "  (3.8324206865623927, 7785),\n",
       "  (3.7916973720031435, 7052),\n",
       "  (3.7916973720031435, 7051),\n",
       "  (3.7916973720031435, 7045),\n",
       "  (3.7916973720031435, 7044),\n",
       "  (3.7916973720031435, 7011),\n",
       "  (3.7916973720031435, 6937),\n",
       "  (3.789178617946705, 6358),\n",
       "  (3.6857887873546993, 7054),\n",
       "  (3.6857887873546993, 7040),\n",
       "  (3.6857887873546993, 4839),\n",
       "  (3.6857887873546993, 4836),\n",
       "  (3.6857887873546993, 4835),\n",
       "  (3.6857887873546993, 4832),\n",
       "  (3.6857887873546993, 4830),\n",
       "  (3.6857887873546993, 4813),\n",
       "  (3.6857887873546993, 4810),\n",
       "  (3.654488386909293, 7794),\n",
       "  (3.6505418171558026, 8467),\n",
       "  (3.6505418171558026, 8466),\n",
       "  (3.6505418171558026, 8300),\n",
       "  (3.6505418171558026, 8298),\n",
       "  (3.6505418171558026, 7839),\n",
       "  (3.647457627204696, 79838),\n",
       "  (3.647457627204696, 73630),\n",
       "  (3.647457627204696, 73629),\n",
       "  (3.647457627204696, 73628),\n",
       "  (3.647457627204696, 73627),\n",
       "  (3.647457627204696, 73583),\n",
       "  (3.647457627204696, 73582),\n",
       "  (3.647457627204696, 73581),\n",
       "  (3.647457627204696, 67674),\n",
       "  (3.647457627204696, 67577),\n",
       "  (3.647457627204696, 66752),\n",
       "  (3.647457627204696, 66733),\n",
       "  (3.647457627204696, 5300),\n",
       "  (3.647457627204696, 5299),\n",
       "  (3.647457627204696, 5298),\n",
       "  (3.6210451998203377, 6296),\n",
       "  (3.6088657095046006, 7784),\n",
       "  (3.6036062024652473, 76909),\n",
       "  (3.597457628908446, 67594),\n",
       "  (3.5705345493545972, 67576),\n",
       "  (3.5705345493545972, 5304),\n",
       "  (3.5594598303153195, 4837),\n",
       "  (3.5551617869196583, 9269),\n",
       "  (3.53044837103761, 124534),\n",
       "  (3.517616845440355, 82470),\n",
       "  (3.517616845440355, 82392),\n",
       "  (3.493723225731406, 9590),\n",
       "  (3.493723225731406, 9584),\n",
       "  (3.493723225731406, 9528),\n",
       "  (3.493723225731406, 9527),\n",
       "  (3.493723225731406, 9472),\n",
       "  (3.493723225731406, 9471),\n",
       "  (3.493723225731406, 9439),\n",
       "  (3.493723225731406, 9418),\n",
       "  (3.4866690703267182, 124433),\n",
       "  (3.4866690703267182, 124400),\n",
       "  (3.4866690703267182, 124398),\n",
       "  (3.4820437233569637, 123166),\n",
       "  (3.4820437233569637, 123165),\n",
       "  (3.477244861204696, 10812),\n",
       "  (3.477244861204696, 10811),\n",
       "  (3.477244861204696, 10810),\n",
       "  (3.477244861204696, 10809),\n",
       "  (3.477244861204696, 10808),\n",
       "  (3.477244861204696, 10806),\n",
       "  (3.477244861204696, 10805),\n",
       "  (3.477244861204696, 10775),\n",
       "  (3.477244861204696, 10774),\n",
       "  (3.477244861204696, 10773),\n",
       "  (3.477244861204696, 10772),\n",
       "  (3.477244861204696, 10771),\n",
       "  (3.477244861204696, 10770),\n",
       "  (3.477244861204696, 10768),\n",
       "  (3.477244861204696, 10767),\n",
       "  (3.477244861204696, 10766),\n",
       "  (3.477244861204696, 10701),\n",
       "  (3.477244861204696, 10512),\n",
       "  (3.477244861204696, 10511),\n",
       "  (3.477244861204696, 10504),\n",
       "  (3.477244861204696, 10398),\n",
       "  (3.477244861204696, 10389),\n",
       "  (3.477244861204696, 10372),\n",
       "  (3.477244861204696, 10349),\n",
       "  (3.477244861204696, 7554),\n",
       "  (3.4713648533654995, 66609),\n",
       "  (3.423776289710349, 7940),\n",
       "  (3.421084513367318, 67317),\n",
       "  (3.4203652608086004, 6642),\n",
       "  (3.4203652608086004, 6633),\n",
       "  (3.4203652608086004, 6588),\n",
       "  (3.4203652608086004, 6587),\n",
       "  (3.4203652608086004, 6585),\n",
       "  (3.420184901291473, 67637),\n",
       "  (3.4201848993978783, 69007),\n",
       "  (3.4187332737671614, 65247),\n",
       "  (3.4187332737671614, 65237),\n",
       "  (3.401562687326718, 82478),\n",
       "  (3.401562687326718, 82477),\n",
       "  (3.401562687326718, 2927),\n",
       "  (3.3917427205417083, 101177),\n",
       "  (3.3917427205417083, 101161),\n",
       "  (3.3782268577421712, 70479),\n",
       "  (3.3782268577421712, 70478),\n",
       "  (3.3782268577421712, 70477),\n",
       "  (3.3782268577421712, 70475),\n",
       "  (3.3782268577421712, 70473),\n",
       "  (3.369679850152227, 5303),\n",
       "  (3.369679850152227, 5302),\n",
       "  (3.369679850152227, 5301),\n",
       "  (3.3520030822356874, 82579),\n",
       "  (3.3316681537374753, 69126),\n",
       "  (3.3316681537374753, 69110),\n",
       "  (3.3316681537374753, 69096),\n",
       "  (3.3316681537374753, 69090),\n",
       "  (3.3316681537374753, 69086),\n",
       "  (3.3316681537374753, 69056),\n",
       "  (3.3316681537374753, 69054),\n",
       "  (3.3316681537374753, 68973),\n",
       "  (3.3316681537374753, 68963),\n",
       "  (3.3316681537374753, 68955),\n",
       "  (3.3316681537374753, 68952),\n",
       "  (3.3316681537374753, 68922),\n",
       "  (3.3316681537374753, 67843),\n",
       "  (3.3316681537374753, 67832),\n",
       "  (3.3316681537374753, 67831),\n",
       "  (3.3316681537374753, 67816),\n",
       "  (3.3316681537374753, 67807),\n",
       "  (3.3316681537374753, 67800),\n",
       "  (3.3316681537374753, 67778),\n",
       "  (3.3316681537374753, 67770),\n",
       "  (3.3316681537374753, 67769),\n",
       "  (3.3316681537374753, 67763),\n",
       "  (3.3316681537374753, 67762),\n",
       "  (3.3316681537374753, 67759),\n",
       "  (3.3316681537374753, 67756),\n",
       "  (3.3316681537374753, 67729),\n",
       "  (3.3316681537374753, 67709),\n",
       "  (3.3316681537374753, 67705),\n",
       "  (3.3316681537374753, 67703),\n",
       "  (3.3316681537374753, 67702),\n",
       "  (3.3316681537374753, 67700),\n",
       "  (3.3316681537374753, 67699),\n",
       "  (3.3316681537374753, 67689),\n",
       "  (3.3316681537374753, 67568),\n",
       "  (3.3316681537374753, 67565),\n",
       "  (3.3316681537374753, 67562),\n",
       "  (3.3316681537374753, 67559),\n",
       "  (3.3316681537374753, 67521),\n",
       "  (3.3316681537374753, 66905),\n",
       "  (3.3316681537374753, 66889),\n",
       "  (3.3316681537374753, 66883),\n",
       "  (3.3316681537374753, 66879),\n",
       "  (3.3316681537374753, 66878),\n",
       "  (3.3316681537374753, 66815),\n",
       "  (3.3316681537374753, 66814),\n",
       "  (3.3316681537374753, 66813),\n",
       "  (3.3316681537374753, 66812),\n",
       "  (3.3316681537374753, 66767),\n",
       "  (3.3316681537374753, 66720),\n",
       "  (3.3316681537374753, 66718),\n",
       "  (3.3316681537374753, 66712),\n",
       "  (3.3316681537374753, 66611),\n",
       "  (3.3316681537374753, 7255),\n",
       "  (3.3316681537374753, 7154),\n",
       "  (3.3316681537374753, 1186),\n",
       "  (3.3316681537374753, 1185),\n",
       "  (3.3316681537374753, 1184),\n",
       "  (3.3316681537374753, 1183),\n",
       "  (3.3316681537374753, 1182),\n",
       "  (3.3316681537374753, 1180),\n",
       "  (3.3316681537374753, 1170),\n",
       "  (3.3316681537374753, 1169),\n",
       "  (3.3316681537374753, 1168),\n",
       "  (3.3316681537374753, 1167),\n",
       "  (3.3316681537374753, 1166),\n",
       "  (3.3316681537374753, 1140),\n",
       "  (3.3316681537374753, 1123),\n",
       "  (3.3316681537374753, 1122),\n",
       "  (3.3316681537374753, 1121),\n",
       "  (3.3316681537374753, 1120),\n",
       "  (3.3316681537374753, 1102),\n",
       "  (3.3316681537374753, 1101),\n",
       "  (3.3316681537374753, 1100),\n",
       "  (3.3316681537374753, 1099),\n",
       "  (3.330869686042997, 8536),\n",
       "  (3.330869686042997, 8535),\n",
       "  (3.330869686042997, 8534),\n",
       "  (3.330869686042997, 8532),\n",
       "  (3.330869686042997, 8531),\n",
       "  (3.330869686042997, 8530),\n",
       "  (3.330869686042997, 8529),\n",
       "  (3.330869686042997, 8524),\n",
       "  (3.330869686042997, 8523),\n",
       "  (3.323928215561962, 60859),\n",
       "  (3.323928215561962, 60847),\n",
       "  (3.323928215561962, 60838),\n",
       "  (3.307032095204696, 79839),\n",
       "  (3.307032095204696, 69446),\n",
       "  (3.307032095204696, 69279),\n",
       "  (3.307032095204696, 69103),\n",
       "  (3.307032095204696, 68993),\n",
       "  (3.307032095204696, 68947),\n",
       "  (3.307032095204696, 55168),\n",
       "  (3.307032095204696, 55166),\n",
       "  (3.307032095204696, 55164),\n",
       "  (3.307032095204696, 41266),\n",
       "  (3.307032095204696, 41265),\n",
       "  (3.307032095204696, 32178),\n",
       "  (3.307032095204696, 2200),\n",
       "  (3.307032095204696, 2199),\n",
       "  (3.307032095204696, 2198),\n",
       "  (3.307032095204696, 2194),\n",
       "  (3.307032095204696, 2193),\n",
       "  (3.307032095204696, 2176),\n",
       "  (3.307032095204696, 2172),\n",
       "  (3.294089526412389, 111561),\n",
       "  (3.2916973720031435, 4831),\n",
       "  (3.286801889676612, 130871),\n",
       "  (3.250075091038075, 7569),\n",
       "  (3.250021729799699, 10535),\n",
       "  (3.250021729799699, 10533),\n",
       "  (3.250021729799699, 10532),\n",
       "  (3.250021729799699, 10531),\n",
       "  (3.250021729799699, 10530),\n",
       "  (3.250021729799699, 10518),\n",
       "  (3.250021729799699, 10517),\n",
       "  (3.250021729799699, 10516),\n",
       "  (3.250021729799699, 10515),\n",
       "  (3.250021729799699, 10514),\n",
       "  (3.250021729799699, 10513),\n",
       "  (3.2474576273493114, 66729),\n",
       "  (3.2474576273493114, 66722),\n",
       "  (3.2474576273493114, 63626),\n",
       "  (3.2474576273493114, 63625),\n",
       "  (3.2449813677347126, 6938),\n",
       "  (3.2449813677347126, 6843),\n",
       "  (3.2449813677347126, 6842),\n",
       "  (3.2449813677347126, 6840),\n",
       "  (3.2449813677347126, 6838),\n",
       "  (3.2449813677347126, 6837),\n",
       "  (3.2449813677347126, 6836),\n",
       "  (3.2449813677347126, 6835),\n",
       "  (3.2449813677347126, 6834),\n",
       "  (3.2449813677347126, 6833),\n",
       "  (3.2449813677347126, 6603),\n",
       "  (3.2069174575200154, 9621),\n",
       "  (3.199435028746361, 124401),\n",
       "  (3.1857887873546993, 7969),\n",
       "  (3.1857887873546993, 4838),\n",
       "  (3.1857887873546993, 4834),\n",
       "  (3.1857887873546993, 4829),\n",
       "  (3.179372521204696, 64454),\n",
       "  (3.1785310734306655, 67858),\n",
       "  (3.1785310734306655, 66750),\n",
       "  (3.1674576274553625, 66950),\n",
       "  (3.1674576274553625, 66763),\n",
       "  (3.1481285312159404, 2908),\n",
       "  (3.147457627204696, 40744),\n",
       "  (3.14732724842965, 7708),\n",
       "  (3.14732724842965, 5770),\n",
       "  (3.14732724842965, 503),\n",
       "  (3.14732724842965, 502),\n",
       "  (3.141742720608338, 131547),\n",
       "  (3.141742720608338, 131546),\n",
       "  (3.141742720608338, 131543),\n",
       "  (3.1384594184098535, 117300),\n",
       "  (3.117784328436036, 7014),\n",
       "  (3.117784328436036, 7004),\n",
       "  (3.111979968871363, 9268),\n",
       "  (3.111979968871363, 9267),\n",
       "  (3.1089960882796466, 134971),\n",
       "  (3.1089960882796466, 134962),\n",
       "  (3.1089960882796466, 125229),\n",
       "  (3.1089960882796466, 125214),\n",
       "  (3.1089960882796466, 125212),\n",
       "  (3.1089960882796466, 125002),\n",
       "  (3.1089960882796466, 124979),\n",
       "  (3.1089960882796466, 124978),\n",
       "  (3.1089960882796466, 124970),\n",
       "  (3.1089960882796466, 124683),\n",
       "  (3.1089960882796466, 124682),\n",
       "  (3.1089960882796466, 124672),\n",
       "  (3.1089960882796466, 120240),\n",
       "  (3.1089960882796466, 120237),\n",
       "  (3.1089960882796466, 120058),\n",
       "  (3.1089960882796466, 101092),\n",
       "  (3.1089960882796466, 82581),\n",
       "  (3.1089960882796466, 82580),\n",
       "  (3.1089960882796466, 82576),\n",
       "  (3.1089960882796466, 82411),\n",
       "  (3.1089960882796466, 79142),\n",
       "  (3.1089960882796466, 79141),\n",
       "  (3.1089960882796466, 79140),\n",
       "  (3.1089960882796466, 70474),\n",
       "  (3.1089960882796466, 69263),\n",
       "  (3.1089960882796466, 65979),\n",
       "  (3.1089960882796466, 63666),\n",
       "  (3.1089960882796466, 45375),\n",
       "  (3.1089960882796466, 45374),\n",
       "  (3.1089960882796466, 45315),\n",
       "  (3.1089960882796466, 13056),\n",
       "  (3.1089960882796466, 13055),\n",
       "  (3.1089960882796466, 13054),\n",
       "  (3.1089960882796466, 13053),\n",
       "  (3.1089960882796466, 13052),\n",
       "  (3.1089960882796466, 2939),\n",
       "  (3.1089960882796466, 790),\n",
       "  (3.0897653183825806, 124595),\n",
       "  (3.080970096702528, 67859),\n",
       "  (3.076029055923691, 78653),\n",
       "  (3.0677474826621625, 63141),\n",
       "  (3.066062277935361, 142127),\n",
       "  (3.062351244204696, 51075),\n",
       "  (3.062351244204696, 10813),\n",
       "  (3.062351244204696, 10807),\n",
       "  (3.062351244204696, 10804),\n",
       "  (3.062351244204696, 7833),\n",
       "  (3.062351244204696, 7606),\n",
       "  (3.062351244204696, 6956),\n",
       "  (3.0472647082243025, 76656),\n",
       "  (3.0440677966126897, 8164),\n",
       "  (3.0440677966126897, 8163),\n",
       "  (3.0440677966126897, 8162),\n",
       "  (3.0440677966126897, 8161),\n",
       "  (3.0440677966126897, 8160),\n",
       "  (3.0440677966126897, 8159),\n",
       "  (3.0440677966126897, 8148),\n",
       "  (3.0440677966126897, 5316),\n",
       "  (3.0440677966126897, 5315),\n",
       "  (3.0440677966126897, 3774),\n",
       "  (3.0440677966126897, 3773),\n",
       "  (3.0440677966126897, 3772),\n",
       "  (3.0440677966126897, 3771),\n",
       "  (3.0440677966126897, 3770),\n",
       "  (3.0440677966126897, 3769),\n",
       "  (3.037701528385541, 30272),\n",
       "  (3.0199478484841804, 137176),\n",
       "  (3.0199478484841804, 137164),\n",
       "  (3.0191221206880323, 4828),\n",
       "  (3.0191221206880323, 2618),\n",
       "  (3.0158786802702546, 67794),\n",
       "  (3.0158786802702546, 67704),\n",
       "  (3.0158786802702546, 67570),\n",
       "  (3.0158786802702546, 67564),\n",
       "  (3.0158786802702546, 67563),\n",
       "  (3.0158786802702546, 66934),\n",
       "  (3.0158786802702546, 66721),\n",
       "  (3.0158786802702546, 66714),\n",
       "  (3.0158786802702546, 66713),\n",
       "  (3.0158786802702546, 66704),\n",
       "  (3.0158786802702546, 66682),\n",
       "  (3.0158786802702546, 66608),\n",
       "  (3.0158786802702546, 66548),\n",
       "  (3.015382155477302, 107522),\n",
       "  (3.015382155477302, 107521),\n",
       "  (3.015382155477302, 107520),\n",
       "  (3.015382155477302, 107519),\n",
       "  (3.015382155477302, 107392),\n",
       "  (3.015382155477302, 107391),\n",
       "  (3.015382155477302, 107356),\n",
       "  (3.015382155477302, 107355),\n",
       "  (3.015382155477302, 107354),\n",
       "  (3.015382155477302, 107353),\n",
       "  (3.015382155477302, 107352),\n",
       "  (3.015382155477302, 107351),\n",
       "  (3.015382155477302, 107350),\n",
       "  (3.015382155477302, 107287),\n",
       "  (3.0070307597045964, 7787),\n",
       "  (3.0031969127579536, 80088),\n",
       "  (3.0031969127579536, 80085),\n",
       "  (2.993481094537145, 82302),\n",
       "  (2.99139403477879, 5446),\n",
       "  (2.99139403477879, 5444),\n",
       "  (2.99139403477879, 5443),\n",
       "  (2.99139403477879, 5441),\n",
       "  (2.99139403477879, 5439),\n",
       "  (2.99139403477879, 2887),\n",
       "  (2.988634097519713, 52409),\n",
       "  (2.9747973471376823, 21316),\n",
       "  (2.9726392254239142, 61003),\n",
       "  (2.971977400911462, 123018),\n",
       "  (2.9632471006719165, 52410),\n",
       "  (2.9465068198845525, 5883),\n",
       "  (2.9465068198845525, 5281),\n",
       "  (2.9429121718581053, 124555),\n",
       "  (2.9429121718581053, 82391),\n",
       "  (2.942912171858105, 66816),\n",
       "  (2.942912171858105, 66811),\n",
       "  (2.940690709900835, 116235),\n",
       "  (2.940690709900835, 116234),\n",
       "  (2.9403988832162526, 137159),\n",
       "  (2.9381504610011024, 80408),\n",
       "  (2.936206274817386, 7831),\n",
       "  (2.936206274817386, 7605),\n",
       "  (2.9357887873546993, 4833),\n",
       "  (2.927457627580696, 66899),\n",
       "  (2.922132154167605, 7706),\n",
       "  (2.920588874467528, 131557),\n",
       "  (2.920588874467528, 131554),\n",
       "  (2.920588874467528, 131539),\n",
       "  (2.920588874467528, 131531),\n",
       "  (2.920588874467528, 131530),\n",
       "  (2.9158626680676534, 74092),\n",
       "  (2.9158626680676534, 74091),\n",
       "  (2.9158626680676534, 74090),\n",
       "  (2.9158626680676534, 74089),\n",
       "  (2.9158626680676534, 74088),\n",
       "  (2.9158626680676534, 74087),\n",
       "  (2.9158626680676534, 74086),\n",
       "  (2.9142270148483487, 10172),\n",
       "  (2.9141242940802514, 60844),\n",
       "  (2.899803488256238, 119396),\n",
       "  (2.890916992544706, 8081),\n",
       "  (2.890916992544706, 7968),\n",
       "  (2.890916992544706, 51),\n",
       "  (2.8909169925447054, 119187),\n",
       "  (2.8817646351220225, 2416),\n",
       "  (2.8782268577421712, 125102),\n",
       "  (2.8782268577421712, 125101),\n",
       "  (2.8782268577421712, 125038),\n",
       "  (2.8782268577421712, 125037),\n",
       "  (2.8782268577421712, 125036),\n",
       "  (2.8782268577421712, 125035),\n",
       "  (2.8782268577421712, 125034),\n",
       "  (2.8782268577421712, 125033),\n",
       "  (2.8782268577421712, 83361),\n",
       "  (2.8782268577421712, 83326),\n",
       "  (2.8782268577421712, 83315),\n",
       "  (2.8782268577421712, 66705),\n",
       "  (2.876965823673387, 52407),\n",
       "  (2.87385503061269, 9166),\n",
       "  (2.87385503061269, 9164),\n",
       "  (2.87385503061269, 9163),\n",
       "  (2.87385503061269, 9113),\n",
       "  (2.87385503061269, 9112),\n",
       "  (2.87385503061269, 8525),\n",
       "  (2.87385503061269, 7557),\n",
       "  (2.87385503061269, 6363),\n",
       "  (2.873853632888914, 79844),\n",
       "  (2.873853632888914, 79841),\n",
       "  (2.8677966104985773, 64455),\n",
       "  (2.8677966104985773, 64452),\n",
       "  (2.8673157832046963, 116240),\n",
       "  (2.8673157832046963, 116238),\n",
       "  (2.8659450219867733, 107390),\n",
       "  (2.863818590049931, 104577),\n",
       "  (2.863818590049931, 104576),\n",
       "  (2.863818590049931, 104575),\n",
       "  (2.863818590049931, 104426),\n",
       "  (2.860223584204696, 66882),\n",
       "  (2.8602235842046957, 142213),\n",
       "  (2.8602235842046957, 142211),\n",
       "  (2.8602235842046957, 142209),\n",
       "  (2.8602235842046957, 142200),\n",
       "  (2.8602235842046957, 142198),\n",
       "  (2.8602235842046957, 142131),\n",
       "  (2.8602235842046957, 142124),\n",
       "  (2.8602235842046957, 142121),\n",
       "  (2.8602235842046957, 142120),\n",
       "  (2.8602235842046957, 142114),\n",
       "  (2.8602235842046957, 134970),\n",
       "  (2.8602235842046957, 134969),\n",
       "  (2.8602235842046957, 134965),\n",
       "  (2.8602235842046957, 134964),\n",
       "  (2.8602235842046957, 134963),\n",
       "  (2.8602235842046957, 125231),\n",
       "  (2.8602235842046957, 125230),\n",
       "  (2.8602235842046957, 125228),\n",
       "  (2.8602235842046957, 125227),\n",
       "  (2.8602235842046957, 125226),\n",
       "  (2.8602235842046957, 125225),\n",
       "  (2.8602235842046957, 125224),\n",
       "  (2.8602235842046957, 125223),\n",
       "  (2.8602235842046957, 125213),\n",
       "  (2.8602235842046957, 125211),\n",
       "  (2.8602235842046957, 124687),\n",
       "  (2.8602235842046957, 124673),\n",
       "  (2.8602235842046957, 124671),\n",
       "  (2.8602235842046957, 124608),\n",
       "  (2.8602235842046957, 124607),\n",
       "  (2.8602235842046957, 124606),\n",
       "  (2.8602235842046957, 124596),\n",
       "  (2.8602235842046957, 124573),\n",
       "  (2.8602235842046957, 124572),\n",
       "  (2.8602235842046957, 124571),\n",
       "  (2.8602235842046957, 124570),\n",
       "  (2.8602235842046957, 124448),\n",
       "  (2.8602235842046957, 124446),\n",
       "  (2.8602235842046957, 120239),\n",
       "  (2.8602235842046957, 120238),\n",
       "  (2.8602235842046957, 120059),\n",
       "  (2.8602235842046957, 120057),\n",
       "  (2.8602235842046957, 120055),\n",
       "  (2.8602235842046957, 120054),\n",
       "  (2.8602235842046957, 101087),\n",
       "  (2.8602235842046957, 101070),\n",
       "  (2.8602235842046957, 82405),\n",
       "  (2.8602235842046957, 82403),\n",
       "  (2.8602235842046957, 69509),\n",
       "  (2.8602235842046957, 69508),\n",
       "  (2.8602235842046957, 69507),\n",
       "  (2.8602235842046957, 69356),\n",
       "  (2.8602235842046957, 69355),\n",
       "  (2.8602235842046957, 69345),\n",
       "  (2.8602235842046957, 69343),\n",
       "  (2.8602235842046957, 69331),\n",
       "  (2.8602235842046957, 69330),\n",
       "  (2.8602235842046957, 69329),\n",
       "  (2.8602235842046957, 69321),\n",
       "  (2.8602235842046957, 63668),\n",
       "  (2.8602235842046957, 63667),\n",
       "  (2.8602235842046957, 45379),\n",
       "  (2.8602235842046957, 45377),\n",
       "  (2.8602235842046957, 45373),\n",
       "  (2.8602235842046957, 45372),\n",
       "  (2.8602235842046957, 45371),\n",
       "  (2.8602235842046957, 45370),\n",
       "  (2.8602235842046957, 45369),\n",
       "  (2.8602235842046957, 45368),\n",
       "  (2.8602235842046957, 45352),\n",
       "  (2.8602235842046957, 45341),\n",
       "  (2.8602235842046957, 45338),\n",
       "  (2.8602235842046957, 45337),\n",
       "  (2.8602235842046957, 45316),\n",
       "  (2.8602235842046957, 5555),\n",
       "  (2.8602235842046957, 5554),\n",
       "  (2.8602235842046957, 5553),\n",
       "  (2.8602235842046957, 5552),\n",
       "  (2.8602235842046957, 5551),\n",
       "  (2.8602235842046957, 5550),\n",
       "  (2.8602235842046957, 5549),\n",
       "  (2.8602235842046957, 4764),\n",
       "  (2.8589949450684675, 10707),\n",
       "  (2.8521486051730407, 7791),\n",
       "  (2.8460451971472125, 5144),\n",
       "  (2.8460451971472125, 5142),\n",
       "  (2.8460451971472125, 4741),\n",
       "  (2.8460451971472125, 4740),\n",
       "  (2.8460451971472125, 4739),\n",
       "  (2.8460451971472125, 4738),\n",
       "  (2.8460451971472125, 4737),\n",
       "  (2.8460451971472125, 2917),\n",
       "  (2.837424509588458, 6297),\n",
       "  (2.837424509588458, 6295),\n",
       "  (2.826119078447667, 3764),\n",
       "  (2.826119078447667, 3763),\n",
       "  (2.8169754302165946, 7029),\n",
       "  (2.8169754302165946, 7028),\n",
       "  (2.8169754302165946, 7027),\n",
       "  (2.8169754302165946, 7026),\n",
       "  (2.8169754302165946, 7025),\n",
       "  (2.8169754302165946, 7024),\n",
       "  (2.8169754302165946, 7023),\n",
       "  (2.816795068805872, 123745),\n",
       "  (2.816795068805872, 58690),\n",
       "  (2.816795068805872, 8085),\n",
       "  (2.8013037807727432, 66736),\n",
       "  (2.8005906520131214, 8217),\n",
       "  (2.8005906520131214, 8214),\n",
       "  (2.8005906520131214, 8213),\n",
       "  (2.8005906520131214, 8204),\n",
       "  (2.8005906520131214, 8196),\n",
       "  (2.8005906520131214, 8195),\n",
       "  (2.792766509055392, 8112),\n",
       "  (2.7894350284865186, 73474),\n",
       "  (2.7894350284865186, 73402),\n",
       "  (2.7778633790188034, 5547),\n",
       "  (2.7778633790188034, 5546),\n",
       "  (2.76271186399967, 82301),\n",
       "  (2.761279726487355, 119397),\n",
       "  (2.761279726487355, 119395),\n",
       "  (2.7517829030316756, 6425),\n",
       "  (2.7483860772157107, 131505),\n",
       "  (2.7483860772157107, 131491),\n",
       "  (2.7483860772157107, 131426),\n",
       "  (2.74110169484379, 118914),\n",
       "  (2.74110169484379, 118913),\n",
       "  (2.7397199708811213, 5317),\n",
       "  (2.7397199708811213, 5312),\n",
       "  (2.7397199708811213, 5311),\n",
       "  (2.7394350280559983, 100374),\n",
       "  (2.7383667175796957, 66711),\n",
       "  (2.7368431020943684, 20970),\n",
       "  (2.7364720652348113, 124436),\n",
       "  (2.733142893376586, 118915),\n",
       "  (2.728278323145469, 125540),\n",
       "  (2.728278323145469, 123744),\n",
       "  (2.728278323145469, 7707),\n",
       "  (2.728278323145469, 7705),\n",
       "  (2.728278323145469, 7691),\n",
       "  (2.728278323145469, 7690),\n",
       "  (2.728278323145469, 7602),\n",
       "  (2.728278323145469, 1096),\n",
       "  (2.725076053674187, 137149),\n",
       "  (2.7197980526046956, 19110),\n",
       "  (2.7160451977911126, 9399),\n",
       "  (2.7160451977911126, 9397),\n",
       "  (2.713436502295771, 7110),\n",
       "  (2.7115518691220224, 126654),\n",
       "  (2.7115518691220224, 126651),\n",
       "  (2.7115518691220224, 125319),\n",
       "  (2.7115518691220224, 125275),\n",
       "  (2.7036422646126903, 125541),\n",
       "  (2.7036422646126903, 123743),\n",
       "  (2.7036422646126903, 104582),\n",
       "  (2.7036422646126903, 104581),\n",
       "  (2.7036422646126903, 104580),\n",
       "  (2.7036422646126903, 104579),\n",
       "  (2.7036422646126903, 59070),\n",
       "  (2.7036422646126903, 58691),\n",
       "  (2.7036422646126903, 58686),\n",
       "  (2.7036422646126903, 58685),\n",
       "  (2.7036422646126903, 1275),\n",
       "  (2.7036422646126903, 1274),\n",
       "  (2.7036422646126903, 1273),\n",
       "  (2.7036422646126903, 1272),\n",
       "  (2.7036422646126903, 1271),\n",
       "  (2.7036422646126903, 1270),\n",
       "  (2.7036422646126903, 1269),\n",
       "  (2.699435028326718, 92630),\n",
       "  (2.698739677899633, 62327),\n",
       "  (2.691525423817386, 145147),\n",
       "  (2.690010818704696, 63146),\n",
       "  (2.687457627706029, 66734),\n",
       "  (2.6866145147491376, 86966),\n",
       "  (2.6824121832864836, 104440),\n",
       "  (2.6797156921283865, 66894),\n",
       "  (2.676179214093619, 124435),\n",
       "  (2.676179214093619, 124399),\n",
       "  (2.6613524013859386, 90328),\n",
       "  (2.6498913518812213, 6844),\n",
       "  (2.6498913518812213, 6841),\n",
       "  (2.6477220811220223, 106166),\n",
       "  (2.6477220811220223, 106165),\n",
       "  (2.6477220811220223, 106162),\n",
       "  (2.6477220811220223, 106084),\n",
       "  (2.6477220811220223, 106080),\n",
       "  (2.6477220811220223, 104569),\n",
       "  (2.64745762780726, 67584),\n",
       "  (2.647457627204696, 137607),\n",
       "  (2.647457627204696, 137595),\n",
       "  (2.647457627204696, 137188),\n",
       "  (2.647457627204696, 137128),\n",
       "  (2.647457627204696, 136852),\n",
       "  (2.647457627204696, 136851),\n",
       "  (2.647457627204696, 136850),\n",
       "  (2.647457627204696, 77850),\n",
       "  (2.647457627204696, 77848),\n",
       "  (2.647457627204696, 77847),\n",
       "  (2.647457627204696, 41979),\n",
       "  (2.647457627204696, 41978),\n",
       "  (2.647457627204696, 41977),\n",
       "  (2.647457627204696, 41976),\n",
       "  (2.647457627204696, 41967),\n",
       "  (2.641720990742009, 101716),\n",
       "  (2.641720990742009, 95491),\n",
       "  (2.641720990742009, 51799),\n",
       "  (2.637305342819631, 20971),\n",
       "  (2.635073810987521, 126468),\n",
       "  (2.6315677964658146, 7795),\n",
       "  (2.6315677964658146, 7789),\n",
       "  (2.6177843284360356, 1291),\n",
       "  (2.6177843284360356, 1290),\n",
       "  (2.617194792544833, 77239),\n",
       "  (2.616728261122467, 35762),\n",
       "  (2.6156026928271663, 100289),\n",
       "  (2.6089960882796466, 142214),\n",
       "  (2.6089960882796466, 142199),\n",
       "  (2.6089960882796466, 142129),\n",
       "  (2.6089960882796466, 142128),\n",
       "  (2.6089960882796466, 142123),\n",
       "  (2.6089960882796466, 142122),\n",
       "  (2.6084290139518873, 125771),\n",
       "  (2.6084290139518873, 125770),\n",
       "  (2.606917086395224, 20834),\n",
       "  (2.601210653774731, 8573),\n",
       "  (2.601210653774731, 8572),\n",
       "  (2.601210653774731, 8571),\n",
       "  (2.601210653774731, 8570),\n",
       "  (2.601210653774731, 8569),\n",
       "  (2.601210653774731, 8568),\n",
       "  (2.601210653774731, 8567),\n",
       "  (2.601210653774731, 8527),\n",
       "  (2.601210653774731, 8501),\n",
       "  (2.601210653774731, 8498),\n",
       "  (2.59725928561269, 41014),\n",
       "  (2.5928776515048964, 73475),\n",
       "  (2.587546916392639, 131513),\n",
       "  (2.587546916392639, 131460),\n",
       "  (2.582529334332611, 61001),\n",
       "  (2.582529334332611, 60999),\n",
       "  (2.582529334332611, 60996),\n",
       "  (2.582529334332611, 60991),\n",
       "  (2.582529334332611, 60966),\n",
       "  (2.5808936831011033, 5772),\n",
       "  (2.5808936831011033, 5771),\n",
       "  (2.5784672864401417, 73473),\n",
       "  (2.5784672864401417, 73346),\n",
       "  (2.5737207424359427, 100342),\n",
       "  (2.5705345493545972, 146410),\n",
       "  (2.5647979128919105, 138026),\n",
       "  (2.5647979128919105, 138021),\n",
       "  (2.5647979128919105, 2935),\n",
       "  (2.5544343713653235, 67629),\n",
       "  (2.5544343713653235, 55217),\n",
       "  (2.5544343713653235, 55216),\n",
       "  (2.5544343713653235, 55167),\n",
       "  (2.5544343713653235, 55165),\n",
       "  (2.5544343713653235, 40781),\n",
       "  (2.5544343713653235, 40745),\n",
       "  (2.553840605804696, 19113),\n",
       "  (2.553840605804696, 19106),\n",
       "  (2.551977401122022, 123164),\n",
       "  (2.54827223745111, 77671),\n",
       "  (2.547261115460934, 82410),\n",
       "  (2.547261115460934, 82408),\n",
       "  (2.547261115460934, 52699),\n",
       "  (2.547261115460934, 45340),\n",
       "  (2.547261115460934, 34843),\n",
       "  (2.5440677966126897, 59071),\n",
       "  (2.5440677966126897, 59069),\n",
       "  (2.5440677966126897, 59068),\n",
       "  (2.5440677966126897, 53436),\n",
       "  (2.5440677966126897, 53435),\n",
       "  (2.5440677966126897, 47487),\n",
       "  (2.5440677966126897, 47481),\n",
       "  (2.5440677966126897, 5296),\n",
       "  (2.5440677966126897, 5295),\n",
       "  (2.5440677966126897, 5294),\n",
       "  (2.5440677966126897, 5293),\n",
       "  (2.5440677966126897, 2902),\n",
       "  (2.542088363221799, 9800),\n",
       "  (2.542088363221799, 9432),\n",
       "  (2.542088363221799, 9395),\n",
       "  (2.541074648204696, 82575),\n",
       "  (2.5383746197494013, 5670),\n",
       "  (2.5379056626984764, 5058),\n",
       "  (2.5379056626984764, 5057),\n",
       "  (2.5379056626984764, 5056),\n",
       "  (2.5379056626984764, 5054),\n",
       "  (2.5379056626984764, 5053),\n",
       "  (2.5379056626984764, 5052),\n",
       "  (2.5378685858883143, 20835),\n",
       "  (2.52279120061269, 7834),\n",
       "  (2.519550650015675, 124674),\n",
       "  (2.519550650015675, 124591),\n",
       "  (2.519550650015675, 52411),\n",
       "  (2.519550650015675, 52408),\n",
       "  (2.513515862196973, 78858),\n",
       "  (2.513515862196973, 78856),\n",
       "  (2.513515862196973, 78854),\n",
       "  (2.5079456663267186, 137051),\n",
       "  (2.5079456663267186, 124350),\n",
       "  (2.507435028272574, 79842),\n",
       "  (2.507435028272574, 79836),\n",
       "  (2.5056062576876403, 123747),\n",
       "  (2.5056062576876403, 97771),\n",
       "  (2.5056062576876403, 34073),\n",
       "  (2.5056062576876403, 6393),\n",
       "  (2.5056062576876403, 6390),\n",
       "  (2.5056062576876403, 2932),\n",
       "  (2.5056062576876403, 500),\n",
       "  (2.5022951978112093, 117793),\n",
       "  (2.5022951978112093, 117789),\n",
       "  (2.5022951978112093, 117768),\n",
       "  (2.5022951978112093, 117762),\n",
       "  (2.5022951978112093, 117761),\n",
       "  (2.5016949151487426, 129256),\n",
       "  (2.5016949151487426, 129255),\n",
       "  (2.5016949151487426, 129254),\n",
       "  (2.5016949151487426, 129241),\n",
       "  (2.5016949151487426, 129240),\n",
       "  (2.5016949151487426, 129163),\n",
       "  (2.5016949151487426, 129161),\n",
       "  (2.5016949151487426, 129127),\n",
       "  (2.4975561686930035, 129429),\n",
       "  (2.4975561686930035, 129428),\n",
       "  (2.4975561686930035, 129427),\n",
       "  (2.4975561686930035, 129426),\n",
       "  (2.4975561686930035, 129425),\n",
       "  (2.4975561686930035, 129424),\n",
       "  (2.4975561686930035, 129414),\n",
       "  (2.4892075908147038, 9336),\n",
       "  (2.4892075908147038, 9335),\n",
       "  (2.48466692975905, 66856),\n",
       "  (2.48466692975905, 64453),\n",
       "  (2.4772448612046962, 26306),\n",
       "  (2.4772448612046962, 26305),\n",
       "  (2.4772448612046962, 26304),\n",
       "  (2.477244861204696, 77849),\n",
       "  (2.477244861204696, 77846),\n",
       "  (2.477244861204696, 77845),\n",
       "  (2.477244861204696, 77802),\n",
       "  (2.477244861204696, 19108),\n",
       "  (2.4750543238744878, 29837),\n",
       "  (2.4744350280329686, 83261),\n",
       "  (2.473544583637588, 124445),\n",
       "  (2.4713322398643047, 118864),\n",
       "  (2.464522341666667, 8920),\n",
       "  (2.45896141361269, 7578),\n",
       "  (2.4582092111185565, 7786),\n",
       "  (2.4578609005639382, 5598),\n",
       "  (2.4572195973892788, 67733),\n",
       "  (2.4558452842116623, 87007),\n",
       "  (2.4558452842116623, 86981),\n",
       "  (2.4558452842116623, 86911),\n",
       "  (2.4558452842116623, 86895),\n",
       "  (2.4558452842116623, 86889),\n",
       "  (2.4558452842116623, 86885),\n",
       "  (2.4558452842116623, 86883),\n",
       "  (2.455486173095245, 139301),\n",
       "  (2.455486173095245, 97942),\n",
       "  (2.455486173095245, 51718),\n",
       "  (2.4523670367282384, 7793),\n",
       "  (2.450317796689187, 124581),\n",
       "  (2.445329967204696, 69354),\n",
       "  (2.4438712848689277, 7138),\n",
       "  (2.443281748637145, 137455),\n",
       "  (2.443281748637145, 137450),\n",
       "  (2.443281748637145, 137448),\n",
       "  (2.443281748637145, 137261),\n",
       "  (2.443281748637145, 76659),\n",
       "  (2.4418079094750818, 138848),\n",
       "  (2.4418079094750818, 138846),\n",
       "  (2.4401757693898185, 83262),\n",
       "  (2.4380071906671743, 7812),\n",
       "  (2.4365927855520026, 118685),\n",
       "  (2.4282795449070793, 83350),\n",
       "  (2.4282795449070793, 83349),\n",
       "  (2.4282795449070793, 83345),\n",
       "  (2.4282795449070793, 83325),\n",
       "  (2.4282795449070793, 83324),\n",
       "  (2.4282795449070793, 83323),\n",
       "  (2.4282795449070793, 83322),\n",
       "  (2.4282795449070793, 79961),\n",
       "  (2.4282795449070793, 79952),\n",
       "  (2.4282795449070793, 79951),\n",
       "  (2.4282795449070793, 79944),\n",
       "  (2.422945143008599, 125781),\n",
       "  (2.422945143008599, 125780),\n",
       "  (2.422945143008599, 125779),\n",
       "  (2.422945143008599, 125778),\n",
       "  (2.422945143008599, 125772),\n",
       "  (2.422945143008599, 125769),\n",
       "  (2.422945143008599, 125756),\n",
       "  (2.4227085734136136, 8526),\n",
       "  (2.4151941337347123, 38907),\n",
       "  (2.4139774508810525, 19115),\n",
       "  (2.4136795281220222, 137453),\n",
       "  (2.4136795281220222, 74661),\n",
       "  (2.4134150742046963, 101612),\n",
       "  (2.400814609699902, 104434),\n",
       "  (2.3974576273176766, 67619),\n",
       "  (2.3972372260764163, 131487),\n",
       "  (2.3972372260764163, 131486),\n",
       "  (2.3972372260764163, 131483),\n",
       "  (2.3910473701146238, 86777),\n",
       "  (2.3910473701146238, 86698),\n",
       "  (2.3910473701146238, 86697),\n",
       "  (2.3910473701146238, 86696),\n",
       "  (2.3910473701146238, 86695),\n",
       "  (2.3910473701146238, 86694),\n",
       "  (2.3910473701146238, 86585),\n",
       "  (2.390916992544706, 2780),\n",
       "  (2.390916992544706, 2750),\n",
       "  (2.390916992544706, 1294),\n",
       "  (2.390916992544706, 1292),\n",
       "  (2.379741091191738, 124615),\n",
       "  (2.379741091191738, 124604),\n",
       "  (2.3782268577421712, 142201),\n",
       "  (2.3782268577421712, 142115),\n",
       "  (2.3782268577421712, 137165),\n",
       "  (2.3782268577421712, 137163),\n",
       "  (2.3782268577421712, 137161),\n",
       "  (2.3782268577421712, 137160),\n",
       "  (2.3782268577421712, 120056),\n",
       "  (2.3711263371220226, 131442),\n",
       "  (2.3711263371220226, 51798),\n",
       "  (2.3711263371220226, 24321),\n",
       "  (2.3711263371220226, 15514),\n",
       "  (2.3711263371220226, 13668),\n",
       "  (2.3711263371220226, 4708),\n",
       "  (2.3692187803474205, 125987),\n",
       "  (2.368146684793202, 73472),\n",
       "  (2.3590094963267187, 65813),\n",
       "  (2.3590094963267187, 65811),\n",
       "  (2.3550047966186334, 74956),\n",
       "  (2.3511613307794557, 124605),\n",
       "  (2.3468491959320157, 137218),\n",
       "  (2.3468491959320157, 137204),\n",
       "  (2.3468491959320157, 137203),\n",
       "  (2.3468491959320157, 131479),\n",
       "  (2.3468491959320157, 131462),\n",
       "  (2.3468491959320157, 131458),\n",
       "  (2.3468491959320157, 131456),\n",
       "  (2.3468491959320157, 7916),\n",
       "  (2.3452104838181613, 76653),\n",
       "  (2.342575691205301, 138063),\n",
       "  (2.340639444985946, 100290),\n",
       "  (2.326119078447667, 6196),\n",
       "  (2.326119078447667, 6160),\n",
       "  (2.32066354061269, 61002),\n",
       "  (2.32066354061269, 60998),\n",
       "  (2.32066354061269, 60989),\n",
       "  (2.32066354061269, 60974),\n",
       "  (2.32066354061269, 60973),\n",
       "  (2.3194192615235907, 6635),\n",
       "  (2.3194192615235907, 6634),\n",
       "  (2.3194192615235907, 6586),\n",
       "  (2.31710048410401, 37260),\n",
       "  (2.31710048410401, 37244),\n",
       "  (2.3133410362839544, 17992),\n",
       "  (2.3133410362839544, 17991),\n",
       "  (2.3133410362839544, 17990),\n",
       "  (2.3102483246503422, 142212),\n",
       "  (2.3102483246503422, 142130),\n",
       "  (2.30937391908777, 6054),\n",
       "  (2.30937391908777, 6048),\n",
       "  (2.3083876570069664, 131451),\n",
       "  (2.307296549122022, 2940),\n",
       "  (2.293420359973455, 79938),\n",
       "  (2.293420359973455, 79932),\n",
       "  (2.293420359973455, 79898),\n",
       "  (2.293420359973455, 79895),\n",
       "  (2.293420359973455, 79891),\n",
       "  (2.293420359973455, 79815),\n",
       "  (2.293420359973455, 79814),\n",
       "  (2.2915607344502558, 131472),\n",
       "  (2.2915607344502558, 131471),\n",
       "  (2.2915607344502558, 131468),\n",
       "  (2.2915607344502558, 131454),\n",
       "  (2.2915607344502558, 131453),\n",
       "  (2.2915607344502558, 131452),\n",
       "  (2.2915607344502558, 69427),\n",
       "  (2.289178617946705, 136420),\n",
       "  (2.289178617946705, 136399),\n",
       "  (2.289178617946705, 136371),\n",
       "  (2.289178617946705, 136354),\n",
       "  (2.289178617946705, 124981),\n",
       "  (2.289178617946705, 124447),\n",
       "  (2.289178617946705, 124420),\n",
       "  (2.289178617946705, 124346),\n",
       "  (2.289178617946705, 86853),\n",
       "  (2.289178617946705, 86852),\n",
       "  ...],\n",
       " [(5.333246414559395, 6315),\n",
       "  (5.333246414559395, 6314),\n",
       "  (5.333246414559395, 6313),\n",
       "  (5.333246414559395, 6312),\n",
       "  (5.333246414559395, 6311),\n",
       "  (5.333246414559395, 6310),\n",
       "  (5.333246414559395, 6309),\n",
       "  (5.209120625744446, 55569),\n",
       "  (4.749623352231974, 55571),\n",
       "  (4.475874619749401, 7989),\n",
       "  (4.351099891817386, 7782),\n",
       "  (4.3418215388670784, 7094),\n",
       "  (4.3418215388670784, 7093),\n",
       "  (4.256198313706261, 69033),\n",
       "  (4.256198313706261, 66615),\n",
       "  (4.1784926769036215, 80417),\n",
       "  (4.1784926769036215, 80416),\n",
       "  (4.1784926769036215, 80415),\n",
       "  (4.1784926769036215, 80414),\n",
       "  (4.1680740260820865, 10358),\n",
       "  (4.12897432265721, 124434),\n",
       "  (4.051990540058327, 7753),\n",
       "  (4.051990540058327, 7752),\n",
       "  (4.051990540058327, 7751),\n",
       "  (4.051990540058327, 7658),\n",
       "  (4.051990540058327, 7657),\n",
       "  (4.051990540058327, 7656),\n",
       "  (4.051990540058327, 7655),\n",
       "  (4.051990540058327, 7654),\n",
       "  (4.051990540058327, 7653),\n",
       "  (4.051990540058327, 7652),\n",
       "  (4.038374619749401, 8047),\n",
       "  (4.038374619749401, 8045),\n",
       "  (4.038374619749401, 8017),\n",
       "  (4.038374619749401, 8016),\n",
       "  (4.038374619749401, 7990),\n",
       "  (4.038374619749401, 7959),\n",
       "  (4.011400840168927, 66616),\n",
       "  (4.011400840168927, 66610),\n",
       "  (3.994462914970975, 7568),\n",
       "  (3.9758746197494013, 8012),\n",
       "  (3.9758746197494013, 7997),\n",
       "  (3.9758746197494013, 7958),\n",
       "  (3.9302139482686087, 8304),\n",
       "  (3.9302139482686087, 8299),\n",
       "  (3.8145578391251695, 10456),\n",
       "  (3.7928484894016687, 78857),\n",
       "  (3.7928484894016687, 78855),\n",
       "  (3.7924206865623926, 7785),\n",
       "  (3.7920578391251696, 10439),\n",
       "  (3.7631676918458306, 58196),\n",
       "  (3.6144883869092927, 7794),\n",
       "  (3.5880418171558026, 8467),\n",
       "  (3.5880418171558026, 8466),\n",
       "  (3.5880418171558026, 8300),\n",
       "  (3.5880418171558026, 8298),\n",
       "  (3.574677676243588, 4839),\n",
       "  (3.574677676243588, 4836),\n",
       "  (3.574677676243588, 4835),\n",
       "  (3.574677676243588, 4832),\n",
       "  (3.574677676243588, 4830),\n",
       "  (3.574677676243588, 4813),\n",
       "  (3.574677676243588, 4810),\n",
       "  (3.560264039378025, 7839),\n",
       "  (3.544957627204696, 79838),\n",
       "  (3.544957627204696, 67577),\n",
       "  (3.544957627204696, 66752),\n",
       "  (3.544957627204696, 66733),\n",
       "  (3.5379630350614124, 79840),\n",
       "  (3.53713216729927, 7054),\n",
       "  (3.53713216729927, 7040),\n",
       "  (3.533492102982593, 6358),\n",
       "  (3.4977545983934895, 7784),\n",
       "  (3.4963465160935847, 67674),\n",
       "  (3.4668519239503013, 66618),\n",
       "  (3.4555407519477144, 7051),\n",
       "  (3.4555407519477144, 7045),\n",
       "  (3.4555407519477144, 7044),\n",
       "  (3.429312644113712, 7011),\n",
       "  (3.429312644113712, 6937),\n",
       "  (3.4194823094378295, 40746),\n",
       "  (3.397457627204696, 73629),\n",
       "  (3.397457627204696, 73628),\n",
       "  (3.397457627204696, 73627),\n",
       "  (3.383776289710349, 7940),\n",
       "  (3.3836990084887892, 76909),\n",
       "  (3.3661337500935846, 10812),\n",
       "  (3.3661337500935846, 10811),\n",
       "  (3.3661337500935846, 10810),\n",
       "  (3.3661337500935846, 10809),\n",
       "  (3.3661337500935846, 10808),\n",
       "  (3.3661337500935846, 10806),\n",
       "  (3.3661337500935846, 10805),\n",
       "  (3.3661337500935846, 10775),\n",
       "  (3.3661337500935846, 10774),\n",
       "  (3.3661337500935846, 10773),\n",
       "  (3.3661337500935846, 10772),\n",
       "  (3.3661337500935846, 10771),\n",
       "  (3.3661337500935846, 10770),\n",
       "  (3.3661337500935846, 10768),\n",
       "  (3.3661337500935846, 10767),\n",
       "  (3.3661337500935846, 10766),\n",
       "  (3.3661337500935846, 10701),\n",
       "  (3.3661337500935846, 10512),\n",
       "  (3.3661337500935846, 10511),\n",
       "  (3.3661337500935846, 10504),\n",
       "  (3.3661337500935846, 10398),\n",
       "  (3.3661337500935846, 10389),\n",
       "  (3.3661337500935846, 10372),\n",
       "  (3.3661337500935846, 10349),\n",
       "  (3.357457627204696, 73583),\n",
       "  (3.357457627204696, 73581),\n",
       "  (3.3562332737671614, 65247),\n",
       "  (3.3562332737671614, 65237),\n",
       "  (3.329679849426918, 73630),\n",
       "  (3.3241358570390314, 7052),\n",
       "  (3.280534549354597, 67576),\n",
       "  (3.2796798511306684, 67594),\n",
       "  (3.2711466861616123, 5300),\n",
       "  (3.2711466861616123, 5299),\n",
       "  (3.2711466861616123, 5298),\n",
       "  (3.258568738315807, 73582),\n",
       "  (3.2469598303153195, 4837),\n",
       "  (3.246754149697489, 6633),\n",
       "  (3.246754149697489, 6588),\n",
       "  (3.246754149697489, 6587),\n",
       "  (3.246754149697489, 6585),\n",
       "  (3.240654834468075, 123166),\n",
       "  (3.240654834468075, 123165),\n",
       "  (3.2323486083115136, 5304),\n",
       "  (3.2197585749318858, 8536),\n",
       "  (3.2197585749318858, 8535),\n",
       "  (3.2197585749318858, 8534),\n",
       "  (3.2197585749318858, 8532),\n",
       "  (3.2197585749318858, 8531),\n",
       "  (3.2197585749318858, 8530),\n",
       "  (3.2197585749318858, 8529),\n",
       "  (3.2197585749318858, 8524),\n",
       "  (3.2197585749318858, 8523),\n",
       "  (3.2189763719197115, 6642),\n",
       "  (3.2148840091418807, 9269),\n",
       "  (3.203723225731406, 9439),\n",
       "  (3.203723225731406, 9418),\n",
       "  (3.199839067662577, 82470),\n",
       "  (3.199839067662577, 82392),\n",
       "  (3.1974340887092265, 6296),\n",
       "  (3.193587075587722, 66609),\n",
       "  (3.190790961263338, 5302),\n",
       "  (3.190790961263338, 5301),\n",
       "  (3.1849576273493114, 63626),\n",
       "  (3.1849576273493114, 63625),\n",
       "  (3.181223225731406, 9590),\n",
       "  (3.181223225731406, 9584),\n",
       "  (3.181223225731406, 9528),\n",
       "  (3.181223225731406, 9527),\n",
       "  (3.181223225731406, 9472),\n",
       "  (3.181223225731406, 9471),\n",
       "  (3.180557042626364, 68922),\n",
       "  (3.180557042626364, 1186),\n",
       "  (3.180557042626364, 1185),\n",
       "  (3.180557042626364, 1184),\n",
       "  (3.180557042626364, 1183),\n",
       "  (3.180557042626364, 1182),\n",
       "  (3.180557042626364, 1180),\n",
       "  (3.180557042626364, 1170),\n",
       "  (3.180557042626364, 1169),\n",
       "  (3.180557042626364, 1168),\n",
       "  (3.180557042626364, 1167),\n",
       "  (3.180557042626364, 1166),\n",
       "  (3.180557042626364, 1140),\n",
       "  (3.180557042626364, 1122),\n",
       "  (3.180557042626364, 1121),\n",
       "  (3.180557042626364, 1102),\n",
       "  (3.180557042626364, 1101),\n",
       "  (3.180557042626364, 1100),\n",
       "  (3.180557042626364, 1099),\n",
       "  (3.1785310734306655, 67858),\n",
       "  (3.1785310734306655, 66750),\n",
       "  (3.170382797998032, 5303),\n",
       "  (3.1688912925489405, 124433),\n",
       "  (3.164744861204696, 7554),\n",
       "  (3.163811748634611, 111561),\n",
       "  (3.158057042626364, 7255),\n",
       "  (3.158057042626364, 7154),\n",
       "  (3.1527792648485864, 67568),\n",
       "  (3.147521729799699, 10535),\n",
       "  (3.147521729799699, 10533),\n",
       "  (3.147521729799699, 10532),\n",
       "  (3.147521729799699, 10531),\n",
       "  (3.147521729799699, 10530),\n",
       "  (3.147521729799699, 10518),\n",
       "  (3.147521729799699, 10517),\n",
       "  (3.147521729799699, 10516),\n",
       "  (3.147521729799699, 10515),\n",
       "  (3.147521729799699, 10514),\n",
       "  (3.147521729799699, 10513),\n",
       "  (3.1302792648485864, 69126),\n",
       "  (3.1302792648485864, 69086),\n",
       "  (3.1302792648485864, 68973),\n",
       "  (3.1302792648485864, 68955),\n",
       "  (3.1302792648485864, 67843),\n",
       "  (3.1302792648485864, 67832),\n",
       "  (3.1302792648485864, 67807),\n",
       "  (3.1302792648485864, 67769),\n",
       "  (3.1302792648485864, 67763),\n",
       "  (3.1302792648485864, 67756),\n",
       "  (3.1302792648485864, 66883),\n",
       "  (3.1302792648485864, 66815),\n",
       "  (3.1302792648485864, 66720),\n",
       "  (3.1302792648485864, 1123),\n",
       "  (3.1302792648485864, 1120),\n",
       "  (3.1232887873546993, 4838),\n",
       "  (3.1232887873546993, 4834),\n",
       "  (3.1232887873546993, 4829),\n",
       "  (3.1180110095769216, 7969),\n",
       "  (3.1098711015832805, 66611),\n",
       "  (3.1089960882796466, 79142),\n",
       "  (3.1089960882796466, 79141),\n",
       "  (3.1089960882796466, 79140),\n",
       "  (3.102407123513695, 67637),\n",
       "  (3.097648879361058, 67831),\n",
       "  (3.097648879361058, 67770),\n",
       "  (3.097648879361058, 67762),\n",
       "  (3.097648879361058, 67759),\n",
       "  (3.097648879361058, 66905),\n",
       "  (3.097648879361058, 66889),\n",
       "  (3.097648879361058, 66814),\n",
       "  (3.097648879361058, 66813),\n",
       "  (3.097648879361058, 66812),\n",
       "  (3.0963465162382002, 66729),\n",
       "  (3.0963465162382002, 66722),\n",
       "  (3.0856285312159404, 2908),\n",
       "  (3.0837849095489402, 82478),\n",
       "  (3.0837849095489402, 82477),\n",
       "  (3.082023879361058, 69110),\n",
       "  (3.082023879361058, 69090),\n",
       "  (3.082023879361058, 69054),\n",
       "  (3.082023879361058, 68963),\n",
       "  (3.082023879361058, 68952),\n",
       "  (3.082023879361058, 67816),\n",
       "  (3.082023879361058, 67709),\n",
       "  (3.082023879361058, 66878),\n",
       "  (3.0746542648485864, 67800),\n",
       "  (3.0746542648485864, 67778),\n",
       "  (3.065526318883415, 124534),\n",
       "  (3.0623085858362407, 69096),\n",
       "  (3.0623085858362407, 69056),\n",
       "  (3.0493798375224173, 130871),\n",
       "  (3.0464960882796466, 65979),\n",
       "  (3.0440677966126897, 3774),\n",
       "  (3.0440677966126897, 3773),\n",
       "  (3.0440677966126897, 3772),\n",
       "  (3.0440677966126897, 3771),\n",
       "  (3.0440677966126897, 3770),\n",
       "  (3.0440677966126897, 3769),\n",
       "  (3.0196551814378294, 124398),\n",
       "  (3.017032095204696, 2200),\n",
       "  (3.017032095204696, 2199),\n",
       "  (3.017032095204696, 2198),\n",
       "  (3.017032095204696, 2194),\n",
       "  (3.017032095204696, 2193),\n",
       "  (3.017032095204696, 2172),\n",
       "  (3.0163465163442513, 66950),\n",
       "  (3.013529055923691, 78653),\n",
       "  (3.0117253044579098, 82579),\n",
       "  (3.0108878472436835, 69007),\n",
       "  (3.0096551814378296, 124400),\n",
       "  (2.9978849771685354, 13056),\n",
       "  (2.9978849771685354, 13054),\n",
       "  (2.9978849771685354, 13053),\n",
       "  (2.9978849771685354, 13052),\n",
       "  (2.9978849771685354, 2939),\n",
       "  (2.9966413073865663, 5770),\n",
       "  (2.9893379688532824, 70479),\n",
       "  (2.9893379688532824, 70478),\n",
       "  (2.9893379688532824, 70477),\n",
       "  (2.9893379688532824, 70475),\n",
       "  (2.9893379688532824, 70473),\n",
       "  (2.9815677966126897, 8148),\n",
       "  (2.9791973720031435, 4831),\n",
       "  (2.9722527671529457, 101177),\n",
       "  (2.9722527671529457, 101161),\n",
       "  (2.9709822126943917, 67562),\n",
       "  (2.967203589956935, 6843),\n",
       "  (2.967203589956935, 6842),\n",
       "  (2.967203589956935, 6838),\n",
       "  (2.967203589956935, 6836),\n",
       "  (2.967203589956935, 6835),\n",
       "  (2.967203589956935, 6833),\n",
       "  (2.9667543174269184, 69446),\n",
       "  (2.9667543174269184, 69279),\n",
       "  (2.9633300971686376, 67317),\n",
       "  (2.9587599904721693, 67703),\n",
       "  (2.9587599904721693, 67702),\n",
       "  (2.9587599904721693, 67700),\n",
       "  (2.9587599904721693, 67699),\n",
       "  (2.9587599904721693, 67689),\n",
       "  (2.9587599904721693, 67565),\n",
       "  (2.9587599904721693, 67559),\n",
       "  (2.9587599904721693, 67521),\n",
       "  (2.9587599904721693, 66879),\n",
       "  (2.9587599904721693, 66767),\n",
       "  (2.9587599904721693, 66718),\n",
       "  (2.9587599904721693, 66712),\n",
       "  (2.9569174575200154, 9621),\n",
       "  (2.9566221206880323, 4828),\n",
       "  (2.951240133093585, 10813),\n",
       "  (2.951240133093585, 10807),\n",
       "  (2.951240133093585, 10804),\n",
       "  (2.946795426691629, 6840),\n",
       "  (2.946795426691629, 6837),\n",
       "  (2.946795426691629, 6834),\n",
       "  (2.946795426691629, 6603),\n",
       "  (2.9395071326966153, 60859),\n",
       "  (2.9395071326966153, 60847),\n",
       "  (2.9395071326966153, 60838),\n",
       "  (2.9357653759596976, 67705),\n",
       "  (2.93412393193939, 55166),\n",
       "  (2.9301071993907577, 125002),\n",
       "  (2.9301071993907577, 124970),\n",
       "  (2.918636533682046, 67729),\n",
       "  (2.9181432063158073, 2176),\n",
       "  (2.917166927772769, 7569),\n",
       "  (2.913438352828279, 40744),\n",
       "  (2.913307974053233, 503),\n",
       "  (2.913307974053233, 502),\n",
       "  (2.9076071993907577, 82411),\n",
       "  (2.9045307597045964, 7787),\n",
       "  (2.8977350430505013, 79839),\n",
       "  (2.8977350430505013, 69103),\n",
       "  (2.8977350430505013, 68993),\n",
       "  (2.8977350430505013, 68947),\n",
       "  (2.8953849771685354, 124979),\n",
       "  (2.8953849771685354, 124978),\n",
       "  (2.8953849771685354, 82581),\n",
       "  (2.8953849771685354, 82580),\n",
       "  (2.8953849771685354, 45315),\n",
       "  (2.893381855569606, 5316),\n",
       "  (2.893381855569606, 5315),\n",
       "  (2.888740133093585, 7833),\n",
       "  (2.8867095056959386, 2927),\n",
       "  (2.8732887873546993, 4833),\n",
       "  (2.869887820828279, 32178),\n",
       "  (2.8676071993907577, 124683),\n",
       "  (2.8676071993907577, 124682),\n",
       "  (2.8676071993907577, 124672),\n",
       "  (2.863012820828279, 55168),\n",
       "  (2.863012820828279, 55164),\n",
       "  (2.8609623553158072, 7606),\n",
       "  (2.848740133093585, 6956),\n",
       "  (2.8417710443661908, 107522),\n",
       "  (2.8417710443661908, 107520),\n",
       "  (2.8417710443661908, 107519),\n",
       "  (2.8417710443661908, 107392),\n",
       "  (2.8417710443661908, 107391),\n",
       "  (2.8417710443661908, 107356),\n",
       "  (2.8417710443661908, 107355),\n",
       "  (2.8417710443661908, 107354),\n",
       "  (2.8417710443661908, 107353),\n",
       "  (2.8417710443661908, 107352),\n",
       "  (2.8417710443661908, 107351),\n",
       "  (2.8417710443661908, 107350),\n",
       "  (2.830970096702528, 67859),\n",
       "  (2.8177332317991435, 2618),\n",
       "  (2.813993266588413, 107287),\n",
       "  (2.812351244204696, 51075),\n",
       "  (2.809048389046472, 142127),\n",
       "  (2.8017710443661907, 107521),\n",
       "  (2.8009620933582955, 6938),\n",
       "  (2.800639214766928, 7968),\n",
       "  (2.7964960882796466, 13055),\n",
       "  (2.7964960882796466, 790),\n",
       "  (2.7937503365350254, 61003),\n",
       "  (2.7855848902898757, 74092),\n",
       "  (2.7855848902898757, 74090),\n",
       "  (2.7855848902898757, 74088),\n",
       "  (2.7855848902898757, 74087),\n",
       "  (2.783320780856033, 123018),\n",
       "  (2.778801007399933, 66763),\n",
       "  (2.777915754369944, 124401),\n",
       "  (2.768718310501869, 134971),\n",
       "  (2.766546460285786, 41266),\n",
       "  (2.766546460285786, 41265),\n",
       "  (2.7655512551445476, 117300),\n",
       "  (2.7651767270245697, 74089),\n",
       "  (2.762743919501579, 7557),\n",
       "  (2.7605906520131214, 8204),\n",
       "  (2.7605906520131214, 8196),\n",
       "  (2.7605906520131214, 8195),\n",
       "  (2.7564960882796465, 134962),\n",
       "  (2.7564960882796465, 101092),\n",
       "  (2.7564960882796465, 82576),\n",
       "  (2.7564960882796465, 63666),\n",
       "  (2.7564960882796465, 45375),\n",
       "  (2.7564960882796465, 45374),\n",
       "  (2.7564949450684675, 10707),\n",
       "  (2.7540677966126896, 8164),\n",
       "  (2.7540677966126896, 8163),\n",
       "  (2.7540677966126896, 8162),\n",
       "  (2.7540677966126896, 8161),\n",
       "  (2.7540677966126896, 8160),\n",
       "  (2.7540677966126896, 8159),\n",
       "  (2.752028103655817, 8081),\n",
       "  (2.7496486051730407, 7791),\n",
       "  (2.7495517270245697, 74091),\n",
       "  (2.7495517270245697, 74086),\n",
       "  (2.74139403477879, 5446),\n",
       "  (2.74139403477879, 5444),\n",
       "  (2.74139403477879, 5443),\n",
       "  (2.74139403477879, 5441),\n",
       "  (2.7314733873929526, 7014),\n",
       "  (2.7314733873929526, 7004),\n",
       "  (2.722599415520769, 131547),\n",
       "  (2.7201071993907577, 70474),\n",
       "  (2.718438359540761, 7708),\n",
       "  (2.7152298010082974, 131546),\n",
       "  (2.7108688577602518, 9268),\n",
       "  (2.7108688577602518, 9267),\n",
       "  (2.709312641244984, 131543),\n",
       "  (2.70139403477879, 5439),\n",
       "  (2.700882729834562, 80408),\n",
       "  (2.70033510201341, 7706),\n",
       "  (2.690266509055392, 8112),\n",
       "  (2.6877907310812392, 64454),\n",
       "  (2.686697652438817, 7029),\n",
       "  (2.686697652438817, 7028),\n",
       "  (2.686697652438817, 7027),\n",
       "  (2.686697652438817, 7025),\n",
       "  (2.686697652438817, 7023),\n",
       "  (2.686206274817386, 7605),\n",
       "  (2.680468266228386, 124595),\n",
       "  (2.67889403477879, 2887),\n",
       "  (2.6776824887478154, 8217),\n",
       "  (2.6776824887478154, 8213),\n",
       "  (2.673903103655817, 51),\n",
       "  (2.6739031036558165, 119187),\n",
       "  (2.673316183665389, 82302),\n",
       "  (2.6725357570896975, 119396),\n",
       "  (2.66461574663106, 125102),\n",
       "  (2.66461574663106, 125101),\n",
       "  (2.66461574663106, 125037),\n",
       "  (2.66461574663106, 125035),\n",
       "  (2.66461574663106, 125034),\n",
       "  (2.66461574663106, 125033),\n",
       "  (2.66461574663106, 83361),\n",
       "  (2.66461574663106, 83326),\n",
       "  (2.66461574663106, 83315),\n",
       "  (2.6642270148483487, 10172),\n",
       "  (2.6520579784584952, 9166),\n",
       "  (2.6520579784584952, 9164),\n",
       "  (2.6520579784584952, 9113),\n",
       "  (2.6520579784584952, 9112),\n",
       "  (2.644207583365754, 125038),\n",
       "  (2.6440740361254518, 69263),\n",
       "  (2.6409229787342947, 116235),\n",
       "  (2.6380865413277057, 7026),\n",
       "  (2.6380865413277057, 7024),\n",
       "  (2.6380203337743025, 7831),\n",
       "  (2.632658515924377, 116234),\n",
       "  (2.626989791381366, 67794),\n",
       "  (2.626989791381366, 67704),\n",
       "  (2.626989791381366, 67570),\n",
       "  (2.626989791381366, 67564),\n",
       "  (2.626989791381366, 67563),\n",
       "  (2.626989791381366, 66934),\n",
       "  (2.626989791381366, 66721),\n",
       "  (2.626989791381366, 66714),\n",
       "  (2.626989791381366, 66713),\n",
       "  (2.626989791381366, 66704),\n",
       "  (2.626989791381366, 66682),\n",
       "  (2.626989791381366, 66608),\n",
       "  (2.624853357113106, 125214),\n",
       "  (2.624853357113106, 125212),\n",
       "  (2.624853357113106, 120237),\n",
       "  (2.6223426560701077, 76656),\n",
       "  (2.6146637494926477, 80085),\n",
       "  (2.612405067220788, 2416),\n",
       "  (2.611014056249158, 52410),\n",
       "  (2.6102235842046957, 124570),\n",
       "  (2.6102235842046957, 4764),\n",
       "  (2.60658162811606, 66548),\n",
       "  (2.6065713776367043, 8214),\n",
       "  (2.5993518139032297, 120058),\n",
       "  (2.596935028326718, 92630),\n",
       "  (2.59494845596783, 80088),\n",
       "  (2.5904121718581052, 124555),\n",
       "  (2.5904121718581052, 82391),\n",
       "  (2.588741672080966, 125229),\n",
       "  (2.5813720575684944, 120240),\n",
       "  (2.580414312706275, 145147),\n",
       "  (2.5752708442412597, 63141),\n",
       "  (2.5735986566192466, 5883),\n",
       "  (2.572779476231346, 30272),\n",
       "  (2.570004008592799, 66816),\n",
       "  (2.5690677964658146, 7795),\n",
       "  (2.563445469623608, 79844),\n",
       "  (2.563445469623608, 79841),\n",
       "  (2.5511466865376122, 66899),\n",
       "  (2.54938943425658, 7707),\n",
       "  (2.547009394080327, 66811),\n",
       "  (2.545627977606901, 5281),\n",
       "  (2.5290677964658146, 7789),\n",
       "  (2.5289812709912742, 7705),\n",
       "  (2.52688943425658, 7602),\n",
       "  (2.52688943425658, 1096),\n",
       "  (2.519945806426918, 124596),\n",
       "  (2.519945806426918, 82405),\n",
       "  (2.519945806426918, 82403),\n",
       "  (2.519945806426918, 63668),\n",
       "  (2.519945806426918, 63667),\n",
       "  (2.513445021986773, 107390),\n",
       "  (2.51173956619082, 60844),\n",
       "  (2.5077235842046957, 124571),\n",
       "  (2.5077235842046957, 101087),\n",
       "  (2.5077235842046957, 45352),\n",
       "  (2.5077235842046957, 45341),\n",
       "  (2.5077235842046957, 45338),\n",
       "  (2.5077235842046957, 45337),\n",
       "  (2.5064812709912743, 7691),\n",
       "  (2.5064812709912743, 7690),\n",
       "  (2.5053186944768653, 66705),\n",
       "  (2.5027074789388197, 104577),\n",
       "  (2.5027074789388197, 104576),\n",
       "  (2.5027074789388197, 104575),\n",
       "  (2.5017829030316756, 6425),\n",
       "  (2.4991124730935845, 69507),\n",
       "  (2.4991124730935845, 69355),\n",
       "  (2.4991124730935845, 69331),\n",
       "  (2.4991124730935845, 69329),\n",
       "  (2.4991124730935845, 5555),\n",
       "  (2.4991124730935845, 5554),\n",
       "  (2.4991124730935845, 5553),\n",
       "  (2.4991124730935845, 5552),\n",
       "  (2.4991124730935845, 5551),\n",
       "  (2.4991124730935845, 5550),\n",
       "  (2.4991124730935845, 5549),\n",
       "  (2.498710653774731, 8573),\n",
       "  (2.498710653774731, 8572),\n",
       "  (2.498710653774731, 8571),\n",
       "  (2.498710653774731, 8570),\n",
       "  (2.498710653774731, 8569),\n",
       "  (2.498710653774731, 8568),\n",
       "  (2.498710653774731, 8567),\n",
       "  (2.498710653774731, 8527),\n",
       "  (2.498710653774731, 8501),\n",
       "  (2.498710653774731, 8498),\n",
       "  (2.4979490799643935, 125036),\n",
       "  (2.497239991343048, 137176),\n",
       "  (2.497239991343048, 137164),\n",
       "  (2.4954377792364477, 21316),\n",
       "  (2.4942779334244447, 131539),\n",
       "  (2.4942779334244447, 131531),\n",
       "  (2.4877412902748275, 90328),\n",
       "  (2.48731542093939, 66882),\n",
       "  (2.4868431020943684, 20970),\n",
       "  (2.485321867347384, 9163),\n",
       "  (2.484966141723801, 8525),\n",
       "  (2.4814163292166866, 131530),\n",
       "  (2.479945806426918, 124673),\n",
       "  (2.479945806426918, 124446),\n",
       "  (2.471334695315807, 134969),\n",
       "  (2.471334695315807, 134965),\n",
       "  (2.471334695315807, 134963),\n",
       "  (2.471334695315807, 45379),\n",
       "  (2.47126443425658, 125540),\n",
       "  (2.47126443425658, 123744),\n",
       "  (2.4674552157534975, 5547),\n",
       "  (2.4674552157534975, 5546),\n",
       "  (2.4657674193694348, 4741),\n",
       "  (2.465518714486961, 52409),\n",
       "  (2.4591124730935845, 134964),\n",
       "  (2.4591124730935845, 124608),\n",
       "  (2.4591124730935845, 124606),\n",
       "  (2.4591124730935845, 101070),\n",
       "  (2.4591124730935845, 45373),\n",
       "  (2.4591124730935845, 45372),\n",
       "  (2.4591124730935845, 45371),\n",
       "  (2.4591124730935845, 45370),\n",
       "  (2.4591124730935845, 45369),\n",
       "  (2.4591124730935845, 45368),\n",
       "  (2.4591124730935845, 45316),\n",
       "  (2.455908865584436, 131554),\n",
       "  (2.454679670023212, 82301),\n",
       "  (2.452335756236273, 6363),\n",
       "  (2.4510048421616126, 116238),\n",
       "  (2.445359256104129, 4740),\n",
       "  (2.445359256104129, 4739),\n",
       "  (2.445359256104129, 4738),\n",
       "  (2.445359256104129, 4737),\n",
       "  (2.441902466624572, 9399),\n",
       "  (2.441902466624572, 9397),\n",
       "  (2.4403321018531203, 51799),\n",
       "  (2.4402074789388197, 104426),\n",
       "  (2.4387043098282786, 134970),\n",
       "  (2.4387043098282786, 124671),\n",
       "  (2.4387043098282786, 124448),\n",
       "  (2.4387043098282786, 45377),\n",
       "  (2.4347535511378755, 3764),\n",
       "  (2.4347535511378755, 3763),\n",
       "  (2.4329566855015785, 47487),\n",
       "  (2.4329566855015785, 47481),\n",
       "  (2.431334695315807, 69330),\n",
       "  (2.428659163149267, 116240),\n",
       "  (2.4199239385878144, 101716),\n",
       "  (2.416983337683156, 82410),\n",
       "  (2.4162043098282786, 124687),\n",
       "  (2.4124148918838544, 66736),\n",
       "  (2.408964349474173, 73474),\n",
       "  (2.408964349474173, 73402),\n",
       "  (2.408834695315807, 124573),\n",
       "  (2.408834695315807, 124572),\n",
       "  (2.3987746580402165, 131557),\n",
       "  (2.3974757640443825, 137159),\n",
       "  (2.397457627204696, 41979),\n",
       "  (2.397457627204696, 41978),\n",
       "  (2.397457627204696, 41977),\n",
       "  (2.397457627204696, 41976),\n",
       "  (2.397457627204696, 41967),\n",
       "  (2.3966145147491376, 86966),\n",
       "  (2.3966124730935845, 124607),\n",
       "  (2.3966124730935845, 69509),\n",
       "  (2.395123106431926, 119397),\n",
       "  (2.395123106431926, 119395),\n",
       "  (2.394495146576529, 2932),\n",
       "  (2.394495146576529, 500),\n",
       "  (2.3884370425973427, 64455),\n",
       "  (2.3884370425973427, 64452),\n",
       "  (2.3864450575818923, 129414),\n",
       "  (2.3859090298380377, 5312),\n",
       "  (2.3859090298380377, 5311),\n",
       "  (2.3858644868349126, 104581),\n",
       "  (2.3858644868349126, 104580),\n",
       "  (2.384402465980672, 5144),\n",
       "  (2.384402465980672, 5142),\n",
       "  (2.384402465980672, 2917),\n",
       "  (2.3840896423046094, 52407),\n",
       "  (2.3811612827853468, 125771),\n",
       "  (2.3811612827853468, 125770),\n",
       "  (2.3762043098282786, 142213),\n",
       "  (2.3762043098282786, 142211),\n",
       "  (2.3762043098282786, 142209),\n",
       "  (2.3762043098282786, 142114),\n",
       "  (2.3762043098282786, 69508),\n",
       "  (2.3762043098282786, 69356),\n",
       "  (2.3762043098282786, 69345),\n",
       "  (2.3762043098282786, 69343),\n",
       "  (2.373563350825692, 5317),\n",
       "  (2.372775794429455, 58690),\n",
       "  (2.3721135741034436, 6844),\n",
       "  (2.3721135741034436, 6841),\n",
       "  (2.3704566855015785, 5295),\n",
       "  (2.3704566855015785, 5294),\n",
       "  (2.368372226572045, 82408),\n",
       "  (2.365178907723801, 53435),\n",
       "  (2.36476350863829, 5670),\n",
       "  (2.363858630815933, 125230),\n",
       "  (2.363858630815933, 125224),\n",
       "  (2.363858630815933, 125211),\n",
       "  (2.363858630815933, 120059),\n",
       "  (2.363858630815933, 120054),\n",
       "  (2.361467719465001, 6297),\n",
       "  (2.361467719465001, 6295),\n",
       "  (2.356489016303461, 142200),\n",
       "  (2.356489016303461, 142198),\n",
       "  (2.356489016303461, 142124),\n",
       "  (2.356489016303461, 142121),\n",
       "  (2.356489016303461, 120238),\n",
       "  (2.353209695315807, 142131),\n",
       "  (2.353209695315807, 142120),\n",
       "  (2.347305342819631, 20971),\n",
       "  (2.345872226572045, 45340),\n",
       "  (2.343209695315807, 120057),\n",
       "  (2.343209695315807, 120055),\n",
       "  (2.342678907723801, 5296),\n",
       "  (2.342678907723801, 5293),\n",
       "  (2.342678907723801, 2902),\n",
       "  (2.342531153501579, 1275),\n",
       "  (2.342531153501579, 1274),\n",
       "  (2.342531153501579, 1273),\n",
       "  (2.342531153501579, 1272),\n",
       "  (2.342531153501579, 1271),\n",
       "  (2.342531153501579, 1270),\n",
       "  (2.342531153501579, 1269),\n",
       "  (2.339772740390638, 77239),\n",
       "  (2.336080853038155, 69321),\n",
       "  (2.334957627204696, 137607),\n",
       "  (2.334957627204696, 137595),\n",
       "  (2.334957627204696, 136852),\n",
       "  (2.334957627204696, 136851),\n",
       "  (2.3336500043498227, 34843),\n",
       "  (2.3325995534935435, 125231),\n",
       "  (2.3325995534935435, 125228),\n",
       "  (2.3325995534935435, 125226),\n",
       "  (2.3325995534935435, 125223),\n",
       "  (2.3325995534935435, 125213),\n",
       "  (2.3307341013473843, 59070),\n",
       "  (2.3307341013473843, 58691),\n",
       "  (2.3307341013473843, 58685),\n",
       "  (2.3304566855015785, 53436),\n",
       "  (2.329069665425501, 66711),\n",
       "  (2.3278163902282376, 125227),\n",
       "  (2.3278163902282376, 125225),\n",
       "  (2.3278163902282376, 120239),\n",
       "  (2.325464063306739, 52699),\n",
       "  (2.3239450575818923, 129429),\n",
       "  (2.3239450575818923, 129428),\n",
       "  (2.3239450575818923, 129426),\n",
       "  (2.3239450575818923, 129425),\n",
       "  (2.3239450575818923, 129424),\n",
       "  (2.3233239169218574, 83261),\n",
       "  (2.316917086395224, 20834),\n",
       "  (2.316515419430424, 7110),\n",
       "  (2.3130605009046374, 8085),\n",
       "  (2.3078503025015786, 7578),\n",
       "  (2.3046307862566757, 126654),\n",
       "  (2.3046307862566757, 125275),\n",
       "  (2.3028538832392527, 131505),\n",
       "  (2.3028538832392527, 131491),\n",
       "  (2.300485674437352, 118914),\n",
       "  (2.297628566788522, 62327),\n",
       "  (2.295901270621656, 123745),\n",
       "  (2.295393807822567, 125541),\n",
       "  (2.295393807822567, 123743),\n",
       "  (2.295383633621025, 118913),\n",
       "  (2.294876000450501, 19110),\n",
       "  (2.2943452124584955, 104582),\n",
       "  (2.2943452124584955, 104579),\n",
       "  (2.2917691820489177, 125319),\n",
       "  (2.289178617946705, 10012),\n",
       "  (2.289178617946705, 9953),\n",
       "  (2.289178617946705, 9952),\n",
       "  (2.289178617946705, 9928),\n",
       "  (2.2879056626984764, 5058),\n",
       "  (2.2879056626984764, 5057),\n",
       "  (2.2879056626984764, 5056),\n",
       "  (2.2879056626984764, 5054),\n",
       "  (2.2879056626984764, 5053),\n",
       "  (2.2879056626984764, 5052),\n",
       "  (2.287424832153821, 118915),\n",
       "  (2.286896079556063, 7812),\n",
       "  (2.2863465160935847, 137128),\n",
       "  (2.2863465160935847, 136850),\n",
       "  (2.2819516793825034, 131426),\n",
       "  (2.280609879630898, 95491),\n",
       "  (2.2804981456570146, 117793),\n",
       "  (2.2804981456570146, 117762),\n",
       "  (2.2804981456570146, 117761),\n",
       "  (2.2793203222296676, 7786),\n",
       "  (2.2768277908583943, 124436),\n",
       "  (2.2739626998764098, 126468),\n",
       "  (2.272575460154764, 100374),\n",
       "  (2.269550650015675, 124591),\n",
       "  (2.2679456320552585, 9800),\n",
       "  (2.2679456320552585, 9395),\n",
       "  (2.2625355755518344, 66734),\n",
       "  (2.2612868805009296, 83262),\n",
       "  (2.259622990236273, 58686),\n",
       "  (2.2585687389183713, 67584),\n",
       "  (2.2546663110676044, 9432),\n",
       "  (2.252527466644669, 117789),\n",
       "  (2.2516949151487426, 129256),\n",
       "  (2.2516949151487426, 129254),\n",
       "  (2.2478685858883143, 20835),\n",
       "  (2.2448761651707296, 1291),\n",
       "  (2.2448761651707296, 1290),\n",
       "  (2.2418750619841337, 139301),\n",
       "  (2.2405422798041146, 129427),\n",
       "  (2.238755925617127, 7793),\n",
       "  (2.2374717698276103, 63146),\n",
       "  (2.2366565935875458, 67629),\n",
       "  (2.2352018032394976, 66894),\n",
       "  (2.230029334332611, 60991),\n",
       "  (2.229670637526034, 137455),\n",
       "  (2.2281842055334455, 34073),\n",
       "  (2.2270695295618603, 100289),\n",
       "  (2.226678617946705, 55630),\n",
       "  (2.226678617946705, 55594),\n",
       "  (2.226678617946705, 55593),\n",
       "  (2.226678617946705, 10024),\n",
       "  (2.226678617946705, 10023),\n",
       "  (2.226678617946705, 9929),\n",
       "  (2.226678617946705, 9915),\n",
       "  (2.226678617946705, 9900),\n",
       "  (2.226678617946705, 9848),\n",
       "  (2.226678617946705, 6958),\n",
       "  (2.226678617946705, 6957),\n",
       "  (2.222935629909975, 117768),\n",
       "  (2.222564508662364, 73473),\n",
       "  (2.2214668987188277, 97942),\n",
       "  (2.2174901311322888, 104440),\n",
       "  (2.216534939717202, 124435),\n",
       "  (2.214097284206356, 51718),\n",
       "  (2.2102188296500183, 73346),\n",
       "  (2.209621171067305, 60999),\n",
       "  (2.2077886350986646, 138848),\n",
       "  (2.2077886350986646, 138846),\n",
       "  (2.2058452842116623, 87007),\n",
       "  (2.2058452842116623, 86981),\n",
       "  (2.2058452842116623, 86911),\n",
       "  (2.2058452842116623, 86895),\n",
       "  (2.2058452842116623, 86889),\n",
       "  (2.2058452842116623, 86885),\n",
       "  (2.2058452842116623, 86883),\n",
       "  (2.205013422834912, 7834),\n",
       "  (2.201892859748256, 137448),\n",
       "  (2.2010662342031124, 126651),\n",
       "  (2.1984250289678275, 106165),\n",
       "  (2.1984250289678275, 106084),\n",
       "  (2.1984250289678275, 104569),\n",
       "  (2.196943102982508, 124399),\n",
       "  (2.196068738315807, 137188),\n",
       "  (2.1933232602542123, 40781),\n",
       "  (2.1933232602542123, 40745),\n",
       "  (2.1891949151487426, 129255),\n",
       "  (2.1891949151487426, 129241),\n",
       "  (2.1891949151487426, 129163),\n",
       "  (2.1891949151487426, 129161),\n",
       "  (2.1891949151487426, 129127),\n",
       "  (2.188574648204696, 82575),\n",
       "  (2.1883637626160075, 73475),\n",
       "  (2.186678617946705, 124981),\n",
       "  (2.186678617946705, 82412),\n",
       "  (2.186678617946705, 45339),\n",
       "  (2.183917137370965, 129240),\n",
       "  (2.1828000289678275, 106166),\n",
       "  (2.1828000289678275, 106080),\n",
       "  (2.182535575050501, 77850),\n",
       "  (2.182535575050501, 77848),\n",
       "  (2.18148469648295, 137450),\n",
       "  (2.18148469648295, 137261),\n",
       "  (2.18148469648295, 76659),\n",
       "  (2.1756457249001926, 118864),\n",
       "  (2.1731774118420586, 125778),\n",
       "  (2.1731774118420586, 125772),\n",
       "  (2.1731774118420586, 125769),\n",
       "  (2.172940842247073, 8526),\n",
       "  (2.1711596333473837, 59071),\n",
       "  (2.1711596333473837, 59069),\n",
       "  (2.1711596333473837, 59068),\n",
       "  (2.1701459743108327, 137149),\n",
       "  (2.169759725283635, 124350),\n",
       "  (2.1661412928364814, 138026),\n",
       "  (2.163177411842059, 125781),\n",
       "  (2.1628957445349926, 124581),\n",
       "  (2.1603000289678276, 106162),\n",
       "  (2.1601898960381556, 77847),\n",
       "  (2.1589008401689274, 58958),\n",
       "  (2.157876830026564, 138021),\n",
       "  (2.1554722856458195, 100342),\n",
       "  (2.153640445443722, 61001),\n",
       "  (2.1520047942122145, 5772),\n",
       "  (2.1520047942122145, 5771),\n",
       "  (2.1509551896198364, 125780),\n",
       "  (2.1479685045876966, 125756),\n",
       "  (2.147259725283635, 137051),\n",
       "  (2.146923438243486, 146410),\n",
       "  (2.1458081504124795, 6635),\n",
       "  (2.1458081504124795, 6634),\n",
       "  (2.1458081504124795, 6586),\n",
       "  (2.1447086737639784, 131513),\n",
       "  (2.1447086737639784, 131460),\n",
       "  (2.14195104918088, 125987),\n",
       "  (2.1411868017807993, 2935),\n",
       "  (2.1357462823654743, 125779),\n",
       "  (2.13270898674605, 35762),\n",
       "  (2.1297599771685354, 142214),\n",
       "  (2.1297599771685354, 142199),\n",
       "  (2.1297599771685354, 142129),\n",
       "  (2.1297599771685354, 142128),\n",
       "  (2.1297599771685354, 142123),\n",
       "  (2.1297599771685354, 142122),\n",
       "  (2.129741091191738, 124604),\n",
       "  (2.128918553650501, 19113),\n",
       "  (2.128918553650501, 19106),\n",
       "  (2.1270553489678274, 123164),\n",
       "  (2.1253284799098626, 6393),\n",
       "  (2.1208866031660705, 60996),\n",
       "  (2.1208866031660705, 60966),\n",
       "  (2.118023174501579, 41014),\n",
       "  (2.114368382831404, 29837),\n",
       "  (2.1134670635049124, 9336),\n",
       "  (2.1134670635049124, 9335),\n",
       "  (2.1104150969889064, 55217),\n",
       "  (2.1104150969889064, 55216),\n",
       "  (2.1104150969889064, 55167),\n",
       "  (2.1104150969889064, 55165),\n",
       "  (2.1097034799098626, 123747),\n",
       "  (2.1049203166445567, 6390),\n",
       "  (2.1029211393836853, 79842),\n",
       "  (2.1029211393836853, 79836),\n",
       "  (2.0961084862781676, 67733),\n",
       "  (2.090661761126786, 124674),\n",
       "  (2.089741091191738, 124615),\n",
       "  (2.0883559723158074, 26305),\n",
       "  (2.084218856093585, 69354),\n",
       "  (2.0785473701146238, 86697),\n",
       "  (2.0785473701146238, 86696),\n",
       "  (2.0785473701146238, 86695),\n",
       "  (2.0758657216112377, 8920),\n",
       "  (2.071951866933575, 6048),\n",
       "  (2.0716436008556256, 4940),\n",
       "  (2.069105189558778, 6196),\n",
       "  (2.069105189558778, 6160),\n",
       "  (2.0679478090505015, 26304),\n",
       "  (2.067947809050501, 19108),\n",
       "  (2.067804436933941, 83260),\n",
       "  (2.066949637632211, 97771),\n",
       "  (2.054083022623601, 38907),\n",
       "  (2.049523968854049, 76653),\n",
       "  (2.046950202003581, 7138),\n",
       "  (2.044655694748699, 124445),\n",
       "  (2.0385473701146237, 86698),\n",
       "  (2.0385473701146237, 86694),\n",
       "  (2.0385473701146237, 86585),\n",
       "  (2.0342797510858617, 78858),\n",
       "  (2.0342797510858617, 78856),\n",
       "  (2.0342797510858617, 78854),\n",
       "  (2.0340184637684726, 138015),\n",
       "  (2.0334017503442445, 137453),\n",
       "  (2.033278040870161, 66856),\n",
       "  (2.033225586828279, 26306),\n",
       "  (2.0300143511865354, 6054),\n",
       "  (2.0299362590035126, 86777),\n",
       "  (2.029763682296061, 69427),\n",
       "  (2.029204280508509, 5598),\n",
       "  (2.0277978013759177, 137218),\n",
       "  (2.0277978013759177, 137203),\n",
       "  (2.0215109533033555, 137204),\n",
       "  (2.0204638022969084, 2885),\n",
       "  (2.0178231382612766, 145014),\n",
       "  (2.0178231382612766, 145005),\n",
       "  (2.0178231382612766, 125818),\n",
       "  (2.0178231382612766, 125762),\n",
       "  (2.0166854991251695, 10616),\n",
       "  (2.0130399749959706, 145023),\n",
       "  (2.0130399749959706, 145006),\n",
       "  (2.0130399749959706, 144987),\n",
       "  (2.0130399749959706, 144986),\n",
       "  (2.012322809050501, 77849),\n",
       "  (2.012322809050501, 77846),\n",
       "  (2.012322809050501, 77845),\n",
       "  (2.0074180032837154, 131472),\n",
       "  (2.00683375361269, 1097),\n",
       "  (2.006240685990695, 138005),\n",
       "  (1.9998982280030786, 73472),\n",
       "  (1.999178617946705, 40753),\n",
       "  (1.9991535404737981, 131471),\n",
       "  (1.9983522582422115, 118685),\n",
       "  (1.9982181738567164, 4708),\n",
       "  (1.9979853005031667, 137966),\n",
       "  (1.9975485220832778, 125761),\n",
       "  (1.9965045800813466, 77671),\n",
       "  (1.9935451977347123, 7815),\n",
       "  (1.9930702941160483, 82409),\n",
       "  (1.990615685990695, 137994),\n",
       "  (1.989822809050501, 77802),\n",
       "  (1.989803963093585, 101612),\n",
       "  (1.9889077213473918, 7571),\n",
       "  (1.9889077213473918, 7570),\n",
       "  (1.9886574892051447, 52411),\n",
       "  (1.9886574892051447, 52408),\n",
       "  (1.9883019763702872, 64453),\n",
       "  (1.9881605751634817, 67619),\n",
       "  (1.9873685870789386, 74661),\n",
       "  (1.9858325227253888, 137992),\n",
       "  (1.9858325227253888, 137988),\n",
       "  (1.9858325227253888, 137970),\n",
       "  (1.9858325227253888, 137968),\n",
       "  (1.9858325227253888, 137964),\n",
       "  (1.9858325227253888, 137963),\n",
       "  (1.9776113807104843, 131454),\n",
       "  (1.9776113807104843, 131453),\n",
       "  (1.9776113807104843, 131452),\n",
       "  (1.9758925575457071, 104434),\n",
       "  (1.9745539075708063, 145022),\n",
       "  (1.9745539075708063, 144985),\n",
       "  (1.9745539075708063, 125816),\n",
       "  (1.9745539075708063, 125815),\n",
       "  (1.9745539075708063, 125766),\n",
       "  (1.9745539075708063, 125763),\n",
       "  (1.9725093398941578, 131468),\n",
       "  (1.9722470140324622, 6593),\n",
       "  (1.9722470140324622, 6591),\n",
       "  (1.9722470140324622, 6590),\n",
       "  (1.9714008401689274, 136420),\n",
       "  (1.9714008401689274, 136399),\n",
       "  (1.9714008401689274, 136371),\n",
       "  (1.9714008401689274, 136354),\n",
       "  (1.9714008401689274, 82402),\n",
       "  (1.9709262850333324, 131487),\n",
       "  (1.9702075227253888, 137857),\n",
       "  (1.9693977181682885, 1294),\n",
       "  (1.9693977181682885, 1292),\n",
       "  (1.9684995580820857, 7572),\n",
       "  (1.963981840588888, 131486),\n",
       "  (1.963981840588888, 131483),\n",
       "  (1.9638946759279226, 144984),\n",
       "  (1.9602075227253888, 138004),\n",
       "  (1.9578983852156076, 65813),\n",
       "  (1.9578983852156076, 65811),\n",
       "  ...])"
      ]
     },
     "execution_count": 31,
     "metadata": {},
     "output_type": "execute_result"
    }
   ],
   "source": [
    "result,result_malus"
   ]
  },
  {
   "cell_type": "code",
   "execution_count": 32,
   "metadata": {},
   "outputs": [
    {
     "data": {
      "text/plain": [
       "'Written by Marianna Cerini, CNN  Priyanka Chopra is an actress, producer, philanthropist, singer and former Miss World. And, as has become evident in recent seasons, she is also a style icon.  Chopra\\'s aesthetic has evolved over the past few years, transforming her from girl next door to fashion queen, both on and off the red carpet.  -- in equal measure -- wearing international brands and championing Indian designers and classic Indian dress. Chopra even caused a spike in online searches for the terms \"golden saree\" and \"red lehenga\" when she wore them to her She\\'s done so by-- in equal measure -- wearing international brands and championing Indian designers and classic Indian dress. Chopra even caused a spike in online searches for the terms \"golden saree\" and \"red lehenga\" when she wore them to her wedding to pop singer Nick Jonas in December 2018.                      1 / 11 Priyanka Chopra attends the Met Gala on May 1, 2017 in New York City. Credit: Neilson Barnard/Getty Images  Red carpet queen  Chopra\\'s style is bold, polished and glamorous. Nowhere is that more evident than on the red carpet.  has since become a Hollywood regular after starring as an FBI agent in Chopra has been earning acting accolades since making her Bollywood debut in 2003. Shehas since become a Hollywood regular after starring as an FBI agent in ABC\\'s \"Quantico\" from 2015 to 2018.  In the US, Chopra started gravitating towards more relaxed fits and international designers, embracing retro jumpsuits and edgier leather looks. But it wasn\\'t until 2016, that her fashion credentials crystallized.  That year saw the star wearing one flawless outfit after the other -- a glam embellished white strapless gown by Lebanese designer Zuhair Murad at her maiden Oscars ceremony; a cerulean Atelier Versace stunner at the Billboard Music Awards; and a sharp white suit by ST.studio by Olcay Gulsen at the Time 100 Gala.  Priyanka Chopra attends 2016 Time 100 Gala. Credit: Dimitrios Kambouris/Getty Images  Chopra has also repeatedly shown she\\'s unafraid of taking risks.  For her Met Gala debut in 2017, Chopra wore custom-made Ralph Lauren trench coat with a dramatic collar and sweeping train. She followed it up in 2018 with an intricate beaded headdress.  Then, last year , she matched a feathery silver-and-pastel gown by Dior, with frizzled hair, silver-frosted brows and raspberry eyeshadow.  Priyanka Chopra attends The 2019 Met Gala \"Celebrating Camp: Notes on Fashion\". Credit: Dimitrios Kambouris/Getty Images  At the Golden Globes in 2017, she wore a body-hugging gold dress by Ralph Lauren. \"It\\'s my first time at the Golden Globes, so I wanted to be the golden globe,\" she told Vogue\\'s US edition . For her first Cannes Film Festival last year, she wore a dreamy white tulle Georges Hobeika tiered gown, which was actually a wedding dress.  \"She is like an artist; you can see she has fun with it and doesn\\'t like to get lost in a crowd,\" Chopra\\'s US stylist, Cristian Ehrlich, told Vogue India of her style. \"She likes to use her voice and fashion to express her different moods.\"  Chopra and Nick Jonas attend the screening of \"Les Plus Belles Annees D\\'Une Vie\" at the Cannes Film Festival on May 18, 2019. Credit: Andreas Rentz/Getty Images  Off-duty cool  Impressing on the red carpet is one thing, but repeatedly turning heads with your fashion is another altogether. And the 37-year-old has done so while experimenting with trends, making them a louder, bolder, bigger versions of themselves.  Last year\\'s monochrome look? She nailed it, and then elevated it to new heights with a series of head-to-toe one-tone ensembles in shades of bright pink, turquoise and mint.  The floral prints that were all over the spring-summer 2018 and 2019 collections, from Marni to Loewe? They turned up riotously in Chopra\\'s wardrobe. As did the \\'70s aesthetic seen at Gucci, Anna Sui and Alberta Ferretti.  Chopra has also combined clashing items, like a velvet bomber jacket and wool tweed palazzo pants, and stepped out in stunning dresses complete with fringing and a thigh-high splits.  Celebrating Indian fashion  While she\\'s made her love for couture and international brands clear, Chopra has also embraced designers from her native India.  Since the start of her career, the actress has proudly shown off her roots by supporting and showcasing Indian designers, from more established names like Sabyasachi, Anita Dongre and Manish Malhotra -- all fashion powerhouses in India -- to up-and-coming talents, like Masaba Gupta.  Priyanka Chopra attends the 18th Marrakech International Film Festival on December 05, 2019 in Marrakech, Morocco. Credit: Dominique Charriau/Getty Images  In February, she walked the finale of India\\'s Blenders Pride Fashion Tour, an annual event that scouts new talents in association with the Fashion Design Council of India, to show her support for local creatives.  But her Indian ancestry shone the brightest at her lavish five-day nuptials to Jonas, when she sported one elaborate traditional Indian dress after the other. They included a silver beaded lehenga from label Falguni Shane Peacock that took 12,000 hours of work, and a red one by designer Sabyasachi, stitched by 110 embroiderers.  Chopra\\'s enthusiasm for diverse looks that span cultures makes her a style icon worth watching -- at home and on the red carpet.'"
      ]
     },
     "execution_count": 32,
     "metadata": {},
     "output_type": "execute_result"
    }
   ],
   "source": [
    "df.Article[2]"
   ]
  },
  {
   "cell_type": "code",
   "execution_count": 34,
   "metadata": {},
   "outputs": [
    {
     "data": {
      "text/html": [
       "<img src=\"https://api.afp.com/objects/api/medias?id=a1kkIS0nShZdX1sxTF9RGkJYQkxZNm0bCx0FcQdqAXpqBgAfBXIRGnULYAxuAxUUTERXXl5fQlMYLzJKBlFdJQouSS0kQkJVYkEoIXktQFdMRksgFE5YUF9VQ0xbIDFMShRFKFN4URl1YWBnIVVnNysqXARcQ1EmUkFbWlkWSEBGLDBISg8FdwZ2B3Z3AgkAdgJ5.jpg\"/>"
      ],
      "text/plain": [
       "<IPython.core.display.Image object>"
      ]
     },
     "metadata": {},
     "output_type": "display_data"
    },
    {
     "data": {
      "text/html": [
       "<img src=\"https://api.afp.com/objects/api/medias?id=a1kkIS0nShZdXlcxVgJEXV1EQksZdHoaFnNyEWh0d3B3dWUedQRzcWkXTFBOXVQqVkYaX0JXEltfIX9GQFxVMUQgFjYsVgxbPVogNTcjFFpBU1UgV1lZUEFRXh5HLCYQTl8GFUIIAzJjQF5cIQkwMC0lUlVCWVNjXFVEXEBVXgUHc3MeDgcAdgNwCHdy.jpg\"/>"
      ],
      "text/plain": [
       "<IPython.core.display.Image object>"
      ]
     },
     "metadata": {},
     "output_type": "display_data"
    },
    {
     "data": {
      "text/html": [
       "<img src=\"https://api.afp.com/objects/api/medias?id=a1kkIS0nShZdXlcxVgJEXV1EQksZdHoaFnNyEWh0d3B3dGkedQRzcWkXTFBOXVQqVkYaX0JXEltfIX9GQFxVMUQgFjYsVgxbPVogNTcjFFpBU1UgV1lZUEFRXh5HLCYQTl8GFUIIAzJjQF5cIQkwMC0lUlVCWVNjXFVEXEBVXgUHc3MeDgcAdgNwCHdz.jpg\"/>"
      ],
      "text/plain": [
       "<IPython.core.display.Image object>"
      ]
     },
     "metadata": {},
     "output_type": "display_data"
    },
    {
     "data": {
      "text/html": [
       "<img src=\"https://api.afp.com/objects/api/medias?id=a1kkIS0nShZdX1sxTF9RGkJYQkxZNm0fDQEbcAdyH3B1HQEIa3UHFRt3dGAYdHloaFhdVllcQlddayhdXg1XKFN4WzorU0FDIRI0LCB7UkBDV0g2XABXWVddSFZCKCdeWEESMF4hDSIfAmJhE1EgYzYpVVwQR00sWkZYWl1bC11ONStfXEEJcAF0A3RwAAEIdAZ2dg%3D%3D.jpg\"/>"
      ],
      "text/plain": [
       "<IPython.core.display.Image object>"
      ]
     },
     "metadata": {},
     "output_type": "display_data"
    },
    {
     "data": {
      "text/html": [
       "<img src=\"https://api.afp.com/objects/api/medias?id=a1kkIS0nShZdXlcxVgJEXV1EQksZd3EVFnNyEWh0dxl3fGcedQRzcWkXTFBOXVQqVkYaX0JXEltfIX9GQFxVMUQgFjYsVgxbPVogNTcjFFpBU1UgV1lZUEFRXh5HLCYQfGhmJ1wCWjNjQF5cIQkwMC0lUlVCWVNjXFVEXEBVXgUHc3MeDgcAdA5zB3px.jpg\"/>"
      ],
      "text/plain": [
       "<IPython.core.display.Image object>"
      ]
     },
     "metadata": {},
     "output_type": "display_data"
    },
    {
     "data": {
      "text/html": [
       "<img src=\"https://api.afp.com/objects/api/medias?id=a1kkIS0nShZdX1sxTF9RGkJYQkxZNm0cCx0FdAdqAnFwHQMEcxsAAxQZCHR0A3sCFHxBXFFbQVdZLmxHSVULIl4hDSg8XFBAN1FnMC0iBFJUWFk1SkgZVl5VQF1YMS9ISlNHZ0YsVH4kaAFjFWMkJGI0VlVIC0kwUE5fWV1fRh5TPTJES1dHfAZzAXByBwMAfARzfXQ%3D.jpg\"/>"
      ],
      "text/plain": [
       "<IPython.core.display.Image object>"
      ]
     },
     "metadata": {},
     "output_type": "display_data"
    },
    {
     "data": {
      "text/html": [
       "<img src=\"https://api.afp.com/objects/api/medias?id=a1kkIS0nShZdXlcxVgJEXV1EQksZcnACeHRkHgYPcXpycB8BdAZ1aBUzUFpGWlcqUgNeRVUPTlFSeClUV1NEMlJjRSohD1pJKlUxNiFrWlVIW10rTUBRRlNDC0lfIX9CcHAFF2IWVGU3XV1VeUU0LCctVVZCXR4gQV1dR1dDEAkAdHEaDAYGdgB3Bno%3D.jpg\"/>"
      ],
      "text/plain": [
       "<IPython.core.display.Image object>"
      ]
     },
     "metadata": {},
     "output_type": "display_data"
    },
    {
     "data": {
      "text/html": [
       "<img src=\"https://api.afp.com/objects/api/medias?id=a1kkIS0nShZdXlcxVgJEXV1EQksZdHUYFnNyEWh0egJ8BXIedQRzcWkXTFBOXVQqVkYaX0JXEltfIX9GQFxVMUQgFjYsVgxbPVogNTcjFFpBU1UgV1lZUEFRXh5HLCYQVnt2cGEQYydjQF5cIQkwMC0lUlVCWVNjXFVEXEBVXgUHc3MeDgcAcwByAnV0.jpg\"/>"
      ],
      "text/plain": [
       "<IPython.core.display.Image object>"
      ]
     },
     "metadata": {},
     "output_type": "display_data"
    },
    {
     "data": {
      "text/html": [
       "<img src=\"https://api.afp.com/objects/api/medias?id=a1kkIS0nShZdXlcxVgJEXV1EQksZfXICeHRkHgYPcnBwfh8BdAZ1aBUzUFpGWlcqUgNeRVUPTlFSeClUV1NEMlJjRSohD1pJKlUxNiFrWlVIW10rTUBRRlNDC0lfIX9pcgJkA3okAmU3XV1VeUU0LCctVVZCXR4gQV1dR1dDEAkAdHEaDAYGdgN0Bns%3D.jpg\"/>"
      ],
      "text/plain": [
       "<IPython.core.display.Image object>"
      ]
     },
     "metadata": {},
     "output_type": "display_data"
    },
    {
     "data": {
      "text/html": [
       "<img src=\"https://api.afp.com/objects/api/medias?id=a1kkIS0nShZdX1sxTF9RGkJYQkxZNm0cAAEbcAJyH3J8HQUBa3UHFRt3dAEadWloaFhdVllcQlddayhdXg1XKFN4WzorU0FDIRI0LCB7UkBDV0g2XABXWVddSFZCKCdeWEESMF4hDXUhcUEId2wjYzYpVVwQR00sWkZYWl1bC11ONStfXEEJcAF0A3RwAAAHdgZ2dw%3D%3D.jpg\"/>"
      ],
      "text/plain": [
       "<IPython.core.display.Image object>"
      ]
     },
     "metadata": {},
     "output_type": "display_data"
    }
   ],
   "source": [
    "from IPython.display import Image\n",
    "from IPython.core.display import HTML \n",
    "L = [ photos.url_extracted[k[1]] for k in result[:10] ] \n",
    "for i in L :\n",
    "    display(Image(url= i))\n",
    "    "
   ]
  },
  {
   "cell_type": "code",
   "execution_count": 35,
   "metadata": {},
   "outputs": [
    {
     "data": {
      "text/html": [
       "<img src=\"https://api.afp.com/objects/api/medias?id=a1kkIS0nShZdX1sxTF9RGkJYQkxZNm0bCx0FcQdqAXpqBgAfBXIRGnULYAxuAxUUTERXXl5fQlMYLzJKBlFdJQouSS0kQkJVYkEoIXktQFdMRksgFE5YUF9VQ0xbIDFMShRFKFN4URl1YWBnIVVnNysqXARcQ1EmUkFbWlkWSEBGLDBISg8FdwZ2B3Z3AgkAdgJ5.jpg\"/>"
      ],
      "text/plain": [
       "<IPython.core.display.Image object>"
      ]
     },
     "metadata": {},
     "output_type": "display_data"
    },
    {
     "data": {
      "text/html": [
       "<img src=\"https://api.afp.com/objects/api/medias?id=a1kkIS0nShZdXlcxVgJEXV1EQksZdHoaFnNyEWh0d3B3dWUedQRzcWkXTFBOXVQqVkYaX0JXEltfIX9GQFxVMUQgFjYsVgxbPVogNTcjFFpBU1UgV1lZUEFRXh5HLCYQTl8GFUIIAzJjQF5cIQkwMC0lUlVCWVNjXFVEXEBVXgUHc3MeDgcAdgNwCHdy.jpg\"/>"
      ],
      "text/plain": [
       "<IPython.core.display.Image object>"
      ]
     },
     "metadata": {},
     "output_type": "display_data"
    },
    {
     "data": {
      "text/html": [
       "<img src=\"https://api.afp.com/objects/api/medias?id=a1kkIS0nShZdXlcxVgJEXV1EQksZdHoaFnNyEWh0d3B3dGkedQRzcWkXTFBOXVQqVkYaX0JXEltfIX9GQFxVMUQgFjYsVgxbPVogNTcjFFpBU1UgV1lZUEFRXh5HLCYQTl8GFUIIAzJjQF5cIQkwMC0lUlVCWVNjXFVEXEBVXgUHc3MeDgcAdgNwCHdz.jpg\"/>"
      ],
      "text/plain": [
       "<IPython.core.display.Image object>"
      ]
     },
     "metadata": {},
     "output_type": "display_data"
    },
    {
     "data": {
      "text/html": [
       "<img src=\"https://api.afp.com/objects/api/medias?id=a1kkIS0nShZdX1sxTF9RGkJYQkxZNm0fDQEbcAdyH3B1HQEIa3UHFRt3dGAYdHloaFhdVllcQlddayhdXg1XKFN4WzorU0FDIRI0LCB7UkBDV0g2XABXWVddSFZCKCdeWEESMF4hDSIfAmJhE1EgYzYpVVwQR00sWkZYWl1bC11ONStfXEEJcAF0A3RwAAEIdAZ2dg%3D%3D.jpg\"/>"
      ],
      "text/plain": [
       "<IPython.core.display.Image object>"
      ]
     },
     "metadata": {},
     "output_type": "display_data"
    },
    {
     "data": {
      "text/html": [
       "<img src=\"https://api.afp.com/objects/api/medias?id=a1kkIS0nShZdX1sxTF9RGkJYQkxZNm0cCx0FdAdqAnFwHQMEcxsAAxQZCHR0A3sCFHxBXFFbQVdZLmxHSVULIl4hDSg8XFBAN1FnMC0iBFJUWFk1SkgZVl5VQF1YMS9ISlNHZ0YsVH4kaAFjFWMkJGI0VlVIC0kwUE5fWV1fRh5TPTJES1dHfAZzAXByBwMAfARzfXQ%3D.jpg\"/>"
      ],
      "text/plain": [
       "<IPython.core.display.Image object>"
      ]
     },
     "metadata": {},
     "output_type": "display_data"
    },
    {
     "data": {
      "text/html": [
       "<img src=\"https://api.afp.com/objects/api/medias?id=a1kkIS0nShZdXlcxVgJEXV1EQksZd3EVFnNyEWh0dxl3fGcedQRzcWkXTFBOXVQqVkYaX0JXEltfIX9GQFxVMUQgFjYsVgxbPVogNTcjFFpBU1UgV1lZUEFRXh5HLCYQfGhmJ1wCWjNjQF5cIQkwMC0lUlVCWVNjXFVEXEBVXgUHc3MeDgcAdA5zB3px.jpg\"/>"
      ],
      "text/plain": [
       "<IPython.core.display.Image object>"
      ]
     },
     "metadata": {},
     "output_type": "display_data"
    },
    {
     "data": {
      "text/html": [
       "<img src=\"https://api.afp.com/objects/api/medias?id=a1kkIS0nShZdXlcxVgJEXV1EQksZfXICeHRkHgYPcnBwfh8BdAZ1aBUzUFpGWlcqUgNeRVUPTlFSeClUV1NEMlJjRSohD1pJKlUxNiFrWlVIW10rTUBRRlNDC0lfIX9pcgJkA3okAmU3XV1VeUU0LCctVVZCXR4gQV1dR1dDEAkAdHEaDAYGdgN0Bns%3D.jpg\"/>"
      ],
      "text/plain": [
       "<IPython.core.display.Image object>"
      ]
     },
     "metadata": {},
     "output_type": "display_data"
    },
    {
     "data": {
      "text/html": [
       "<img src=\"https://api.afp.com/objects/api/medias?id=a1kkIS0nShZdXlcxVgJEXV1EQksZdHUYFnNyEWh0egJ8BXIedQRzcWkXTFBOXVQqVkYaX0JXEltfIX9GQFxVMUQgFjYsVgxbPVogNTcjFFpBU1UgV1lZUEFRXh5HLCYQVnt2cGEQYydjQF5cIQkwMC0lUlVCWVNjXFVEXEBVXgUHc3MeDgcAcwByAnV0.jpg\"/>"
      ],
      "text/plain": [
       "<IPython.core.display.Image object>"
      ]
     },
     "metadata": {},
     "output_type": "display_data"
    },
    {
     "data": {
      "text/html": [
       "<img src=\"https://api.afp.com/objects/api/medias?id=a1kkIS0nShZdX1sxTF9RGkJYQkxZNm0cAAEbcAJyH3J8HQUBa3UHFRt3dAEadWloaFhdVllcQlddayhdXg1XKFN4WzorU0FDIRI0LCB7UkBDV0g2XABXWVddSFZCKCdeWEESMF4hDXUhcUEId2wjYzYpVVwQR00sWkZYWl1bC11ONStfXEEJcAF0A3RwAAAHdgZ2dw%3D%3D.jpg\"/>"
      ],
      "text/plain": [
       "<IPython.core.display.Image object>"
      ]
     },
     "metadata": {},
     "output_type": "display_data"
    },
    {
     "data": {
      "text/html": [
       "<img src=\"https://api.afp.com/objects/api/medias?id=a1kkIS0nShZdX1sxTF9RGkJYQkxZNm0cAAUbcAJ2H3JwHQIHa3UHFRt3dAEbZX9oaFhdVllcQlddayhdXg1XKFN4WzorU0FDIRI0LCB7UkBDV0g2XABXWVddSFZCKCdeWEESMF4hDXUhcUEId2wjYzYpVVwQR00sWkZYWl1bC11ONStfXEEJcAF0A3RwAAAHdgZ3cg%3D%3D.jpg\"/>"
      ],
      "text/plain": [
       "<IPython.core.display.Image object>"
      ]
     },
     "metadata": {},
     "output_type": "display_data"
    }
   ],
   "source": [
    "from IPython.display import Image\n",
    "from IPython.core.display import HTML \n",
    "L = [ photos.url_extracted[k[1]] for k in result_malus[:10] ] \n",
    "for i in L :\n",
    "    display(Image(url= i))\n",
    "    "
   ]
  },
  {
   "cell_type": "code",
   "execution_count": 37,
   "metadata": {},
   "outputs": [],
   "source": [
    "def display_phto(k,nb_photo):\n",
    "    result_malus =article_best_images(df.Article[k], True)\n",
    "    result_sansmalus =article_best_images(df.Article[k], False)\n",
    "    print(df.Article[k])\n",
    "    L_malus = [ photos.url_extracted[k[1]] for k in result_malus[:nb_photo] ] \n",
    "    L_sansmalus= [ photos.url_extracted[k[1]] for k in result_sansmalus[:nb_photo] ] \n",
    "    print('Sans malus')\n",
    "    for i in L_sansmalus :\n",
    "        display(Image(url= i))\n",
    "    \n",
    "    print('malus')\n",
    "    for i in L_malus  :\n",
    "        display(Image(url=i))\n",
    "        \n",
    "    "
   ]
  },
  {
   "cell_type": "code",
   "execution_count": 75,
   "metadata": {},
   "outputs": [
    {
     "name": "stderr",
     "output_type": "stream",
     "text": [
      "/Users/ya/miniconda3/lib/python3.7/site-packages/ipykernel_launcher.py:3: TqdmDeprecationWarning: This function will be removed in tqdm==5.0.0\n",
      "Please use `tqdm.notebook.tqdm` instead of `tqdm.tqdm_notebook`\n",
      "  This is separate from the ipykernel package so we can avoid doing imports until\n"
     ]
    },
    {
     "data": {
      "application/vnd.jupyter.widget-view+json": {
       "model_id": "4924b053a90642ffb031362cd3b80052",
       "version_major": 2,
       "version_minor": 0
      },
      "text/plain": [
       "HBox(children=(FloatProgress(value=0.0, max=99.0), HTML(value='')))"
      ]
     },
     "metadata": {},
     "output_type": "display_data"
    },
    {
     "name": "stdout",
     "output_type": "stream",
     "text": [
      "\n",
      "[2, 3, 4, 10, 11, 15, 16, 17, 19, 23, 26, 33, 35, 38, 39, 41, 42, 45, 51, 53, 54, 55, 61, 63, 68, 71, 72, 74, 75, 78, 79, 82, 83, 84, 85, 87, 88, 89, 91, 95, 96, 97]\n"
     ]
    }
   ],
   "source": [
    "c= []\n",
    "v = []\n",
    "for d in tqdm_notebook(range(1,100)):\n",
    "    L1,L2 = article_best_images(df.Article[d],False)[:10],article_best_images(df.Article[d],True )[:10]\n",
    "    for k in range(3):\n",
    "        if  not (L1[k][1]==L2[k][1]):\n",
    "            v.append((L1,L2))\n",
    "            c.append(d)\n",
    "            break\n",
    "        \n",
    "        \n",
    "    \n",
    "    \n",
    "    \n",
    "print(c)"
   ]
  },
  {
   "cell_type": "code",
   "execution_count": 52,
   "metadata": {},
   "outputs": [
    {
     "data": {
      "text/plain": [
       "[(5.479528789009752, 55569),\n",
       " (5.333246414559395, 6315),\n",
       " (5.333246414559395, 6314),\n",
       " (5.333246414559395, 6313),\n",
       " (5.333246414559395, 6312),\n",
       " (5.333246414559395, 6311)]"
      ]
     },
     "execution_count": 52,
     "metadata": {},
     "output_type": "execute_result"
    }
   ],
   "source": [
    "v[0][0][:6]"
   ]
  },
  {
   "cell_type": "code",
   "execution_count": 76,
   "metadata": {},
   "outputs": [
    {
     "name": "stdout",
     "output_type": "stream",
     "text": [
      "2 \n",
      " Written by Marianna Cerini, CNN  Priyanka Chopra is an actress, producer, philanthropist, singer and former Miss World. And, as has become evident in recent seasons, she is also a style icon.  Chopra's aesthetic has evolved over the past few years, transforming her from girl next door to fashion queen, both on and off the red carpet.  -- in equal measure -- wearing international brands and championing Indian designers and classic Indian dress. Chopra even caused a spike in online searches for the terms \"golden saree\" and \"red lehenga\" when she wore them to her She's done so by-- in equal measure -- wearing international brands and championing Indian designers and classic Indian dress. Chopra even caused a spike in online searches for the terms \"golden saree\" and \"red lehenga\" when she wore them to her wedding to pop singer Nick Jonas in December 2018.                      1 / 11 Priyanka Chopra attends the Met Gala on May 1, 2017 in New York City. Credit: Neilson Barnard/Getty Images  Red carpet queen  Chopra's style is bold, polished and glamorous. Nowhere is that more evident than on the red carpet.  has since become a Hollywood regular after starring as an FBI agent in Chopra has been earning acting accolades since making her Bollywood debut in 2003. Shehas since become a Hollywood regular after starring as an FBI agent in ABC's \"Quantico\" from 2015 to 2018.  In the US, Chopra started gravitating towards more relaxed fits and international designers, embracing retro jumpsuits and edgier leather looks. But it wasn't until 2016, that her fashion credentials crystallized.  That year saw the star wearing one flawless outfit after the other -- a glam embellished white strapless gown by Lebanese designer Zuhair Murad at her maiden Oscars ceremony; a cerulean Atelier Versace stunner at the Billboard Music Awards; and a sharp white suit by ST.studio by Olcay Gulsen at the Time 100 Gala.  Priyanka Chopra attends 2016 Time 100 Gala. Credit: Dimitrios Kambouris/Getty Images  Chopra has also repeatedly shown she's unafraid of taking risks.  For her Met Gala debut in 2017, Chopra wore custom-made Ralph Lauren trench coat with a dramatic collar and sweeping train. She followed it up in 2018 with an intricate beaded headdress.  Then, last year , she matched a feathery silver-and-pastel gown by Dior, with frizzled hair, silver-frosted brows and raspberry eyeshadow.  Priyanka Chopra attends The 2019 Met Gala \"Celebrating Camp: Notes on Fashion\". Credit: Dimitrios Kambouris/Getty Images  At the Golden Globes in 2017, she wore a body-hugging gold dress by Ralph Lauren. \"It's my first time at the Golden Globes, so I wanted to be the golden globe,\" she told Vogue's US edition . For her first Cannes Film Festival last year, she wore a dreamy white tulle Georges Hobeika tiered gown, which was actually a wedding dress.  \"She is like an artist; you can see she has fun with it and doesn't like to get lost in a crowd,\" Chopra's US stylist, Cristian Ehrlich, told Vogue India of her style. \"She likes to use her voice and fashion to express her different moods.\"  Chopra and Nick Jonas attend the screening of \"Les Plus Belles Annees D'Une Vie\" at the Cannes Film Festival on May 18, 2019. Credit: Andreas Rentz/Getty Images  Off-duty cool  Impressing on the red carpet is one thing, but repeatedly turning heads with your fashion is another altogether. And the 37-year-old has done so while experimenting with trends, making them a louder, bolder, bigger versions of themselves.  Last year's monochrome look? She nailed it, and then elevated it to new heights with a series of head-to-toe one-tone ensembles in shades of bright pink, turquoise and mint.  The floral prints that were all over the spring-summer 2018 and 2019 collections, from Marni to Loewe? They turned up riotously in Chopra's wardrobe. As did the '70s aesthetic seen at Gucci, Anna Sui and Alberta Ferretti.  Chopra has also combined clashing items, like a velvet bomber jacket and wool tweed palazzo pants, and stepped out in stunning dresses complete with fringing and a thigh-high splits.  Celebrating Indian fashion  While she's made her love for couture and international brands clear, Chopra has also embraced designers from her native India.  Since the start of her career, the actress has proudly shown off her roots by supporting and showcasing Indian designers, from more established names like Sabyasachi, Anita Dongre and Manish Malhotra -- all fashion powerhouses in India -- to up-and-coming talents, like Masaba Gupta.  Priyanka Chopra attends the 18th Marrakech International Film Festival on December 05, 2019 in Marrakech, Morocco. Credit: Dominique Charriau/Getty Images  In February, she walked the finale of India's Blenders Pride Fashion Tour, an annual event that scouts new talents in association with the Fashion Design Council of India, to show her support for local creatives.  But her Indian ancestry shone the brightest at her lavish five-day nuptials to Jonas, when she sported one elaborate traditional Indian dress after the other. They included a silver beaded lehenga from label Falguni Shane Peacock that took 12,000 hours of work, and a red one by designer Sabyasachi, stitched by 110 embroiderers.  Chopra's enthusiasm for diverse looks that span cultures makes her a style icon worth watching -- at home and on the red carpet.\n",
      "Sans malus\n"
     ]
    },
    {
     "data": {
      "text/html": [
       "<img src=\"https://api.afp.com/objects/api/medias?id=a1kkIS0nShZdX1sxTF9RGkJYQkxZNm0bCx0FcQdqAXpqBgAfBXIRGnULYAxuAxUUTERXXl5fQlMYLzJKBlFdJQouSS0kQkJVYkEoIXktQFdMRksgFE5YUF9VQ0xbIDFMShRFKFN4URl1YWBnIVVnNysqXARcQ1EmUkFbWlkWSEBGLDBISg8FdwZ2B3Z3AgkAdgJ5.jpg\"/>"
      ],
      "text/plain": [
       "<IPython.core.display.Image object>"
      ]
     },
     "metadata": {},
     "output_type": "display_data"
    },
    {
     "data": {
      "text/html": [
       "<img src=\"https://api.afp.com/objects/api/medias?id=a1kkIS0nShZdXlcxVgJEXV1EQksZdHoaFnNyEWh0d3B3dWUedQRzcWkXTFBOXVQqVkYaX0JXEltfIX9GQFxVMUQgFjYsVgxbPVogNTcjFFpBU1UgV1lZUEFRXh5HLCYQTl8GFUIIAzJjQF5cIQkwMC0lUlVCWVNjXFVEXEBVXgUHc3MeDgcAdgNwCHdy.jpg\"/>"
      ],
      "text/plain": [
       "<IPython.core.display.Image object>"
      ]
     },
     "metadata": {},
     "output_type": "display_data"
    },
    {
     "data": {
      "text/html": [
       "<img src=\"https://api.afp.com/objects/api/medias?id=a1kkIS0nShZdXlcxVgJEXV1EQksZdHoaFnNyEWh0d3B3dGkedQRzcWkXTFBOXVQqVkYaX0JXEltfIX9GQFxVMUQgFjYsVgxbPVogNTcjFFpBU1UgV1lZUEFRXh5HLCYQTl8GFUIIAzJjQF5cIQkwMC0lUlVCWVNjXFVEXEBVXgUHc3MeDgcAdgNwCHdz.jpg\"/>"
      ],
      "text/plain": [
       "<IPython.core.display.Image object>"
      ]
     },
     "metadata": {},
     "output_type": "display_data"
    },
    {
     "data": {
      "text/html": [
       "<img src=\"https://api.afp.com/objects/api/medias?id=a1kkIS0nShZdX1sxTF9RGkJYQkxZNm0fDQEbcAdyH3B1HQEIa3UHFRt3dGAYdHloaFhdVllcQlddayhdXg1XKFN4WzorU0FDIRI0LCB7UkBDV0g2XABXWVddSFZCKCdeWEESMF4hDSIfAmJhE1EgYzYpVVwQR00sWkZYWl1bC11ONStfXEEJcAF0A3RwAAEIdAZ2dg%3D%3D.jpg\"/>"
      ],
      "text/plain": [
       "<IPython.core.display.Image object>"
      ]
     },
     "metadata": {},
     "output_type": "display_data"
    },
    {
     "data": {
      "text/html": [
       "<img src=\"https://api.afp.com/objects/api/medias?id=a1kkIS0nShZdXlcxVgJEXV1EQksZd3EVFnNyEWh0dxl3fGcedQRzcWkXTFBOXVQqVkYaX0JXEltfIX9GQFxVMUQgFjYsVgxbPVogNTcjFFpBU1UgV1lZUEFRXh5HLCYQfGhmJ1wCWjNjQF5cIQkwMC0lUlVCWVNjXFVEXEBVXgUHc3MeDgcAdA5zB3px.jpg\"/>"
      ],
      "text/plain": [
       "<IPython.core.display.Image object>"
      ]
     },
     "metadata": {},
     "output_type": "display_data"
    },
    {
     "data": {
      "text/html": [
       "<img src=\"https://api.afp.com/objects/api/medias?id=a1kkIS0nShZdX1sxTF9RGkJYQkxZNm0cCx0FdAdqAnFwHQMEcxsAAxQZCHR0A3sCFHxBXFFbQVdZLmxHSVULIl4hDSg8XFBAN1FnMC0iBFJUWFk1SkgZVl5VQF1YMS9ISlNHZ0YsVH4kaAFjFWMkJGI0VlVIC0kwUE5fWV1fRh5TPTJES1dHfAZzAXByBwMAfARzfXQ%3D.jpg\"/>"
      ],
      "text/plain": [
       "<IPython.core.display.Image object>"
      ]
     },
     "metadata": {},
     "output_type": "display_data"
    },
    {
     "name": "stdout",
     "output_type": "stream",
     "text": [
      "malus\n"
     ]
    },
    {
     "data": {
      "text/html": [
       "<img src=\"https://api.afp.com/objects/api/medias?id=a1kkIS0nShZdX1sxTF9RGkJYQkxZNm0bCx0FcQdqAXpqBgAfBXIRGnULYAxuAxUUTERXXl5fQlMYLzJKBlFdJQouSS0kQkJVYkEoIXktQFdMRksgFE5YUF9VQ0xbIDFMShRFKFN4URl1YWBnIVVnNysqXARcQ1EmUkFbWlkWSEBGLDBISg8FdwZ2B3Z3AgkAdgJ5.jpg\"/>"
      ],
      "text/plain": [
       "<IPython.core.display.Image object>"
      ]
     },
     "metadata": {},
     "output_type": "display_data"
    },
    {
     "data": {
      "text/html": [
       "<img src=\"https://api.afp.com/objects/api/medias?id=a1kkIS0nShZdX1sxTF9RGkJYQkxZNm0fDQEbcAdyH3B1HQEIa3UHFRt3dGAYdHloaFhdVllcQlddayhdXg1XKFN4WzorU0FDIRI0LCB7UkBDV0g2XABXWVddSFZCKCdeWEESMF4hDSIfAmJhE1EgYzYpVVwQR00sWkZYWl1bC11ONStfXEEJcAF0A3RwAAEIdAZ2dg%3D%3D.jpg\"/>"
      ],
      "text/plain": [
       "<IPython.core.display.Image object>"
      ]
     },
     "metadata": {},
     "output_type": "display_data"
    },
    {
     "data": {
      "text/html": [
       "<img src=\"https://api.afp.com/objects/api/medias?id=a1kkIS0nShZdXlcxVgJEXV1EQksZdHoaFnNyEWh0d3B3dWUedQRzcWkXTFBOXVQqVkYaX0JXEltfIX9GQFxVMUQgFjYsVgxbPVogNTcjFFpBU1UgV1lZUEFRXh5HLCYQTl8GFUIIAzJjQF5cIQkwMC0lUlVCWVNjXFVEXEBVXgUHc3MeDgcAdgNwCHdy.jpg\"/>"
      ],
      "text/plain": [
       "<IPython.core.display.Image object>"
      ]
     },
     "metadata": {},
     "output_type": "display_data"
    },
    {
     "data": {
      "text/html": [
       "<img src=\"https://api.afp.com/objects/api/medias?id=a1kkIS0nShZdXlcxVgJEXV1EQksZdHoaFnNyEWh0d3B3dGkedQRzcWkXTFBOXVQqVkYaX0JXEltfIX9GQFxVMUQgFjYsVgxbPVogNTcjFFpBU1UgV1lZUEFRXh5HLCYQTl8GFUIIAzJjQF5cIQkwMC0lUlVCWVNjXFVEXEBVXgUHc3MeDgcAdgNwCHdz.jpg\"/>"
      ],
      "text/plain": [
       "<IPython.core.display.Image object>"
      ]
     },
     "metadata": {},
     "output_type": "display_data"
    },
    {
     "data": {
      "text/html": [
       "<img src=\"https://api.afp.com/objects/api/medias?id=a1kkIS0nShZdXlcxVgJEXV1EQksZcnACeHRkHgYPcXpycB8BdAZ1aBUzUFpGWlcqUgNeRVUPTlFSeClUV1NEMlJjRSohD1pJKlUxNiFrWlVIW10rTUBRRlNDC0lfIX9CcHAFF2IWVGU3XV1VeUU0LCctVVZCXR4gQV1dR1dDEAkAdHEaDAYGdgB3Bno%3D.jpg\"/>"
      ],
      "text/plain": [
       "<IPython.core.display.Image object>"
      ]
     },
     "metadata": {},
     "output_type": "display_data"
    },
    {
     "data": {
      "text/html": [
       "<img src=\"https://api.afp.com/objects/api/medias?id=a1kkIS0nShZdXlcxVgJEXV1EQksZdHUYFnNyEWh0egJ8BXIedQRzcWkXTFBOXVQqVkYaX0JXEltfIX9GQFxVMUQgFjYsVgxbPVogNTcjFFpBU1UgV1lZUEFRXh5HLCYQVnt2cGEQYydjQF5cIQkwMC0lUlVCWVNjXFVEXEBVXgUHc3MeDgcAcwByAnV0.jpg\"/>"
      ],
      "text/plain": [
       "<IPython.core.display.Image object>"
      ]
     },
     "metadata": {},
     "output_type": "display_data"
    },
    {
     "name": "stdout",
     "output_type": "stream",
     "text": [
      "3 \n",
      " (CNN) Three US Marines stepped in to detain a passenger who allegedly made threatening comments during a flight from Japan to Texas.  according to an Capt. Daniel Kult, Sgt. John Dietrick, and Pfc. Alexander Meinhardt were headed to Texas from Tokyo on Monday when a passenger on their flight barricaded himself inside a bathroom and began screaming,according to an online statement from the Marine Corps.  Dietrick said that even through the headphones he was wearing he could hear someone inside the bathroom who sounded \"distraught.\"  That's when the three Marines gathered outside the restroom while a flight attendant unlocked the door, according to the release. Once it was open, the Marines restrained the passenger with flex ties.  \"I knew I had to step in when he became a danger to others and himself,\" Meinhardt said. \"I didn't think twice about helping restrain him through the rest of the flight.\"  Read More\n",
      "Sans malus\n"
     ]
    },
    {
     "data": {
      "text/html": [
       "<img src=\"https://api.afp.com/objects/api/medias?id=a1kkIS0nShZdXlcxVgJEXV1EQksZc3oCeHRkHgYJfXMPCh8BdAZ1aBUzUFpGWlcqUgNeRVUPTlFSeClUV1NEMlJjRSohD1pJKlUxNiFrWlVIW10rTUBRRlNDC0lfIX93TQB6LFkqeGU3XV1VeUU0LCctVVZCXR4gQV1dR1dDEAkAdHEaDAENdQJ8CHQ%3D.jpg\"/>"
      ],
      "text/plain": [
       "<IPython.core.display.Image object>"
      ]
     },
     "metadata": {},
     "output_type": "display_data"
    },
    {
     "data": {
      "text/html": [
       "<img src=\"https://api.afp.com/objects/api/medias?id=a1kkIS0nShZdXlcxVgJEXV1EQksZdXYCeHRkHgYJfXMMah8BdAZ1aBUzUFpGWlcqUgNeRVUPTlFSeClUV1NEMlJjRSohD1pJKlUxNiFrWlVIW10rTUBRRlNDC0lfIX93TQB6LFkqeGU3XV1VeUU0LCctVVZCXR4gQV1dR1dDEAkAdHEaDAENdQJ8CHY%3D.jpg\"/>"
      ],
      "text/plain": [
       "<IPython.core.display.Image object>"
      ]
     },
     "metadata": {},
     "output_type": "display_data"
    },
    {
     "data": {
      "text/html": [
       "<img src=\"https://api.afp.com/objects/api/medias?id=a1kkIS0nShZdXlcxVgJEXV1EQksZd3YYFnNyEWh0fA51fXcedQRzcWkXTFBOXVQqVkYaX0JXEltfIX9GQFxVMUQgFjYsVgxbPVogNTcjFFpBU1UgV1lZUEFRXh5HLCYQY0YGD1orXwtjQF5cIQkwMC0lUlVCWVNjXFVEXEBVXgUHc3MeDgcHeANwCXZ3.jpg\"/>"
      ],
      "text/plain": [
       "<IPython.core.display.Image object>"
      ]
     },
     "metadata": {},
     "output_type": "display_data"
    },
    {
     "data": {
      "text/html": [
       "<img src=\"https://api.afp.com/objects/api/medias?id=a1kkIS0nShZdXlcxVgJEXV1EQksZdHcCeHRkHgYJfXMSah8BdAZ1aBUzUFpGWlcqUgNeRVUPTlFSeClUV1NEMlJjRSohD1pJKlUxNiFrWlVIW10rTUBRRlNDC0lfIX93TQB6LFkqeGU3XV1VeUU0LCctVVZCXR4gQV1dR1dDEAkAdHEaDAENdQJ8BHo%3D.jpg\"/>"
      ],
      "text/plain": [
       "<IPython.core.display.Image object>"
      ]
     },
     "metadata": {},
     "output_type": "display_data"
    },
    {
     "data": {
      "text/html": [
       "<img src=\"https://api.afp.com/objects/api/medias?id=a1kkIS0nShZdXlcxVgJEXV1EQksZdHAYFnNyEWh0fA50BAkedQRzcWkXTFBOXVQqVkYaX0JXEltfIX9GQFxVMUQgFjYsVgxbPVogNTcjFFpBU1UgV1lZUEFRXh5HLCYQY0YGD1orXwtjQF5cIQkwMC0lUlVCWVNjXFVEXEBVXgUHc3MeDgcHeANwCXN1.jpg\"/>"
      ],
      "text/plain": [
       "<IPython.core.display.Image object>"
      ]
     },
     "metadata": {},
     "output_type": "display_data"
    },
    {
     "data": {
      "text/html": [
       "<img src=\"https://api.afp.com/objects/api/medias?id=a1kkIS0nShZdXlcxVgJEXV1EQksZdHAZFnNyEWh0fA50BAQedQRzcWkXTFBOXVQqVkYaX0JXEltfIX9GQFxVMUQgFjYsVgxbPVogNTcjFFpBU1UgV1lZUEFRXh5HLCYQY0YGD1orXwtjQF5cIQkwMC0lUlVCWVNjXFVEXEBVXgUHc3MeDgcHeANwCHp0.jpg\"/>"
      ],
      "text/plain": [
       "<IPython.core.display.Image object>"
      ]
     },
     "metadata": {},
     "output_type": "display_data"
    },
    {
     "name": "stdout",
     "output_type": "stream",
     "text": [
      "malus\n"
     ]
    },
    {
     "data": {
      "text/html": [
       "<img src=\"https://api.afp.com/objects/api/medias?id=a1kkIS0nShZdX1sxTF9RGkJYQkxZNm0fDQAbdg5qAXpyHQMBfRsAAxQZCHd9D2ENFHxBXFFbQVdZLmxHSVULIl4hDSg8XFBAN1FnMC0iBFJUWFk1SkgZVl5VQF1YMS9ISlNHZ0YsVH4WalRRDlo3N2I0VlVIC0kwUE5fWV1fRh5TPTJES1dHfAZzAXByBwAJcwJ2cXQ%3D.jpg\"/>"
      ],
      "text/plain": [
       "<IPython.core.display.Image object>"
      ]
     },
     "metadata": {},
     "output_type": "display_data"
    },
    {
     "data": {
      "text/html": [
       "<img src=\"https://api.afp.com/objects/api/medias?id=a1kkIS0nShZdX1sxTF9RGkJYQkxZNm0fDQAbdg5qAXpyHQMBfRsAAxQZCHd9D2kcFHxBXFFbQVdZLmxHSVULIl4hDSg8XFBAN1FnMC0iBFJUWFk1SkgZVl5VQF1YMS9ISlNHZ0YsVH4WalRRDlo3N2I0VlVIC0kwUE5fWV1fRh5TPTJES1dHfAZzAXByBwAJcwJ2dnM%3D.jpg\"/>"
      ],
      "text/plain": [
       "<IPython.core.display.Image object>"
      ]
     },
     "metadata": {},
     "output_type": "display_data"
    },
    {
     "data": {
      "text/html": [
       "<img src=\"https://api.afp.com/objects/api/medias?id=a1kkIS0nShZdXlcxVgJEXV1EQksZc3oCeHRkHgYJfXMPCh8BdAZ1aBUzUFpGWlcqUgNeRVUPTlFSeClUV1NEMlJjRSohD1pJKlUxNiFrWlVIW10rTUBRRlNDC0lfIX93TQB6LFkqeGU3XV1VeUU0LCctVVZCXR4gQV1dR1dDEAkAdHEaDAENdQJ8CHQ%3D.jpg\"/>"
      ],
      "text/plain": [
       "<IPython.core.display.Image object>"
      ]
     },
     "metadata": {},
     "output_type": "display_data"
    },
    {
     "data": {
      "text/html": [
       "<img src=\"https://api.afp.com/objects/api/medias?id=a1kkIS0nShZdXlcxVgJEXV1EQksZdXYCeHRkHgYJfXMMah8BdAZ1aBUzUFpGWlcqUgNeRVUPTlFSeClUV1NEMlJjRSohD1pJKlUxNiFrWlVIW10rTUBRRlNDC0lfIX93TQB6LFkqeGU3XV1VeUU0LCctVVZCXR4gQV1dR1dDEAkAdHEaDAENdQJ8CHY%3D.jpg\"/>"
      ],
      "text/plain": [
       "<IPython.core.display.Image object>"
      ]
     },
     "metadata": {},
     "output_type": "display_data"
    },
    {
     "data": {
      "text/html": [
       "<img src=\"https://api.afp.com/objects/api/medias?id=a1kkIS0nShZdXlcxVgJEXV1EQksZd3YYFnNyEWh0fA51fXcedQRzcWkXTFBOXVQqVkYaX0JXEltfIX9GQFxVMUQgFjYsVgxbPVogNTcjFFpBU1UgV1lZUEFRXh5HLCYQY0YGD1orXwtjQF5cIQkwMC0lUlVCWVNjXFVEXEBVXgUHc3MeDgcHeANwCXZ3.jpg\"/>"
      ],
      "text/plain": [
       "<IPython.core.display.Image object>"
      ]
     },
     "metadata": {},
     "output_type": "display_data"
    },
    {
     "data": {
      "text/html": [
       "<img src=\"https://api.afp.com/objects/api/medias?id=a1kkIS0nShZdXlcxVgJEXV1EQksZdHcCeHRkHgYJfXMSah8BdAZ1aBUzUFpGWlcqUgNeRVUPTlFSeClUV1NEMlJjRSohD1pJKlUxNiFrWlVIW10rTUBRRlNDC0lfIX93TQB6LFkqeGU3XV1VeUU0LCctVVZCXR4gQV1dR1dDEAkAdHEaDAENdQJ8BHo%3D.jpg\"/>"
      ],
      "text/plain": [
       "<IPython.core.display.Image object>"
      ]
     },
     "metadata": {},
     "output_type": "display_data"
    },
    {
     "name": "stdout",
     "output_type": "stream",
     "text": [
      "4 \n",
      " Wellington, New Zealand (CNN) — It may be some time before tourists are traveling the globe again. But what if you could travel through designated, approved parts of it?  and New Zealand are discussing the possibility of opening up borders to each other, creating a travel corridor -- or \"travel bubble\" -- between the two nations. Politicians from Australia and New Zealand are discussing the possibility of opening up borders to each other, creating a travel corridor -- or \"travel bubble\" -- between the two nations.  \"If there is any country in the world with whom we can reconnect with first, undoubtedly that's New Zealand,\" Australian Prime Minister Scott Morrison said last month.  Related content 12 of New Zealand's most beautiful places  \"That is a situation we would all like to be in, but of course, our number one focus at the moment is making sure that both our countries are in the position where we're domestically managing Covid-19 to a point where we can with confidence open borders,\" New Zealand Prime Minister Jacinda Ardern said on April 27.  \"One thing I'm not willing to do is jeopardize the position that New Zealand has got itself into by moving too soon to open our borders -- even to Australia.\"  It's not clear when this \"bubble\" could become a reality -- currently both countries still have domestic travel restrictions in place, and all international arrivals are subject to a 14-day quarantine.  Travel industry experts say August is when the corridor is likely to be rolled out, possibly in time for the ski season in New Zealand and the school holidays in September.  A special relationship  There are a few reasons why New Zealand and Australia would be each other's first pick.  Although the two countries are separated by about 2,000 km (1,243 miles) of sea, they have one of the closest bilateral relationships in the world. Australian passport holders can travel and work in New Zealand indefinitely without a visa, and vice versa.  The two countries also contribute heavily to each other's tourism industry.  Australians make up almost 40% of international arrivals to New Zealand, and around 24% of New Zealand's international visitor spend. That's especially significant in New Zealand, where tourism is the country's biggest export industry . (Tourism is considered an export industry because it involves foreign cash being used to buy New Zealand's goods and services.)  Over in Australia, New Zealanders make up around 15% of the country's international visitors, and only about 6% of the international visitor spend. Tourism is still worth billions to Australia, although it is only the country's fourth biggest export industry  In both countries, tourism industries have taken a massive hit from the coronavirus outbreak -- so it's no surprise that industry representatives are welcoming the prospect of a travel bubble.  \"The message from the industry side is that the bubble is a goer,\" said Simon Westaway, the executive director of the Australian Tourism Industry Council, adding that it was the only way of getting international tourism into Australia in the near future.  Related content Couple tie the knot 37,000 feet in the air between Australia and New Zealand  \"If we can add in the Australians, that would be enormously beneficial for the survival of tourism businesses and thousands of jobs,\" said Chris Roberts, the chief executive of Tourism Industry Aotearoa, which represents the tourism industry in New Zealand. He added that the amount tourists spend in New Zealand had dropped by at least 2 billion New Zealand dollars ($1.22 billion) a month.  But Roberts isn't expecting the levels of Australian tourists that New Zealand had pre-Covid -- he thinks many would opt to just travel domestically.  In Australia, some tour operators had been focusing their attention on China, which makes up about 15% of travelers to Australia but 27% of total tourist spend. Westaway said those businesses would need to adapt and work out how to appeal to more Kiwi travelers.  Related content The most beautiful places in Australia  How would it work?  would need to undergo a One thing to keep in mind: Australia is made up of states and territories, and some of those currently have additional quarantine rules in place. For instance, a person traveling from Sydney (in New South Wales) to Brisbane (in Queensland)would need to undergo a 14-day self-quarantine period  Airports may also need to roll out new procedures.  Roberts envisions a future where tourists may turn up to the airport, be tested for Covid-19 and only be allowed on the plane once they've got a negative result. Once they are at their destination, they may have their temperature checked. Travelers may need to supply more information than usual so they can be easily traced, if necessary.  Related content Norfolk Island: Why residents want to ditch Australia for New Zealand  Both Roberts and Westaway believe the bubble would only work if the current 14-day quarantine period for anyone entering the country is removed.  Once the trans-Tasman bubble is tried and tested, New Zealand could look to include other territories in its bubble -- perhaps Taiwan and Hong Kong, Roberts said.  \"I think it will be on a country by country basis,\" he said. \"A general opening of borders could be a very long time away.\"  Could the bubble get bigger?  For the first time, drones have been allowed to fly inside Kakadu National Park in Australia. The resulting video is stunning.  There's also some discussion about broadening the bubble to include the Pacific Islands.  From a health perspective, the Pacific Island nations appear to have escaped the coronavirus outbreak largely unscathed. Fiji -- the worst affected Pacific Island nation -- has reported only 18 coronavirus cases and no deaths. Guam -- which is a US territory and not a nation -- has reported more than 140 coronavirus cases and five deaths  Many Pacific Island nations closed borders early to protect against potential spread.  But the pandemic has hurt tourism to the Pacific Islands, one of the most aid-dependent regions in the world  Ardern has urged caution on including the Pacific, saying: \"Our Pacific neighbors in large part have not been afflicted by Covid-19, and the last thing we would want is to risk that.\"  But broadening Australia and New Zealand's travel bubble to at least some Pacific Islands would help boost the islands' tourism industry, said Stephen Howes, the director of the Development Policy Center at Australian National University in Canberra.  \"For a lot of people, it's very tough,\" he said of the effect on tourism in the Pacific. \"Some have gone back to their village ... people are just struggling to get by.\"  \"Obviously no country would be forced to do this,\" he said, adding that the travel corridor could always be stopped if it didn't work. \"It would be a complex undertaking ... but it's certainly worth trying.\"  Related content The world's most powerful passports in the age of coronavirus  And including the Pacific would also help Australia and New Zealand, allowing migrant workers to enter both countries. The inclusion could also have a huge soft power impact in the region, which is of strategic importance to New Zealand, Australia and China.  \"This is a real test,\" Howes said. \"If Australia and New Zealand go ahead and just have a trans-Tasman partnership, they could really antagonize the Pacific. It would be like, 'well you don't really care.'\"  Roberts agreed that the bubble would benefit the Pacific, saying that without tourism, their economies are in significant trouble.  \"In terms of economic aid to our Pacific neighbors, that would be the best thing we could do for them -- as long as we could do it safely.\"  Is this the future of travel?  A potential Australia and New Zealand travel bubble may end up being a model for the rest of the world, Roberts and Westaway say.  Like other countries around the world, New Zealand and Australia will need to be careful not to move too fast and create a second Covid-19 wave.  Moving too fast could also jeopardize their image with international tourists, who view the countries as clean, trustworthy places.  But generally, Roberts and Westaway are hopeful.  \"If (the detail) can be worked out between New Zealand and Australia, then they can be applied to other places as well,\" Roberts said.\n",
      "Sans malus\n"
     ]
    },
    {
     "data": {
      "text/html": [
       "<img src=\"https://api.afp.com/objects/api/medias?id=a1kkIS0nShZdX1sxTF9RGkJYQkxZNm0eDx0FcwFqAHtqAAUCa3UHFRt3dAAVZW1oaFhdVllcQlddayhdXg1XKFN4WzorU0FDIRI0LCB7UkBDV0g2XABXWVddSFZCKCdeWEESMF4hDQwscFlpFHcYYzYpVVwQR00sWkZYWl1bC11ONStfXEEJcAF0A3RwAAAGfQBydg%3D%3D.jpg\"/>"
      ],
      "text/plain": [
       "<IPython.core.display.Image object>"
      ]
     },
     "metadata": {},
     "output_type": "display_data"
    },
    {
     "data": {
      "text/html": [
       "<img src=\"https://api.afp.com/objects/api/medias?id=a1kkIS0nShZdX1sxTF9RGkJYQkxZNm0cDwUbdgNqAnJ3HQcFa3UHFRt3d38cfAxoaFhdVllcQlddayhdXg1XKFN4WzorU0FDIRI0LCB7UkBDV0g2XABXWVddSFZCKCdeWEESMF4hDTANSmhfNHY5YzYpVVwQR00sWkZYWl1bC11ONStfXEEJcAF0A3RwAAEDdQB5dg%3D%3D.jpg\"/>"
      ],
      "text/plain": [
       "<IPython.core.display.Image object>"
      ]
     },
     "metadata": {},
     "output_type": "display_data"
    },
    {
     "data": {
      "text/html": [
       "<img src=\"https://api.afp.com/objects/api/medias?id=a1kkIS0nShZdX1sxTF9RGkJYQkxZNm0YAR0FdAZqAnd3HQMCdBsAAxQZCGkdBmAUFHxBXFFbQVdZLmxHSVULIl4hDSg8XFBAN1FnMC0iBFJUWFk1SkgZVl5VQF1YMS9ISlNHZ0YsVH4LZUN8NnkHMGI0VlVIC0kwUE5fWV1fRh5TPTJES1dHfAZzAXByBwAJdQB0dHE%3D.jpg\"/>"
      ],
      "text/plain": [
       "<IPython.core.display.Image object>"
      ]
     },
     "metadata": {},
     "output_type": "display_data"
    },
    {
     "data": {
      "text/html": [
       "<img src=\"https://api.afp.com/objects/api/medias?id=a1kkIS0nShZdXlcxVgJEXV1EQksZd3EcFnNyEWh0dg10eXgedQRzcWkXTFBOXVQqVkYaX0JXEltfIX9GQFxVMUQgFjYsVgxbPVogNTcjFFpBU1UgV1lZUEFRXh5HLCYQd1t%2FJn4ESgdjQF5cIQkwMC0lUlVCWVNjXFVEXEBVXgUHc3MeDgcAeQRwAHp9.jpg\"/>"
      ],
      "text/plain": [
       "<IPython.core.display.Image object>"
      ]
     },
     "metadata": {},
     "output_type": "display_data"
    },
    {
     "data": {
      "text/html": [
       "<img src=\"https://api.afp.com/objects/api/medias?id=a1kkIS0nShZdXlcxVgJEXV1EQksZdHACeHRkHgYDfnIOYh8BdAZ1aBUzUFpGWlcqUgNeRVUPTlFSeClUV1NEMlJjRSohD1pJKlUxNiFrWlVIW10rTUBRRlNDC0lfIX9jUHlTCHY%2FdGU3XV1VeUU0LCctVVZCXR4gQV1dR1dDEAkAdHEaDAYMcgJ1CXI%3D.jpg\"/>"
      ],
      "text/plain": [
       "<IPython.core.display.Image object>"
      ]
     },
     "metadata": {},
     "output_type": "display_data"
    },
    {
     "data": {
      "text/html": [
       "<img src=\"https://api.afp.com/objects/api/medias?id=a1kkIS0nShZdXlcxVgJEXV1EQksZd3AaFnNyEWh0dg10eXoedQRzcWkXTFBOXVQqVkYaX0JXEltfIX9GQFxVMUQgFjYsVgxbPVogNTcjFFpBU1UgV1lZUEFRXh5HLCYQd1t%2FJn4ESgdjQF5cIQkwMC0lUlVCWVNjXFVEXEBVXgUHc3MeDgcAeQRwAHV9.jpg\"/>"
      ],
      "text/plain": [
       "<IPython.core.display.Image object>"
      ]
     },
     "metadata": {},
     "output_type": "display_data"
    },
    {
     "name": "stdout",
     "output_type": "stream",
     "text": [
      "malus\n"
     ]
    },
    {
     "data": {
      "text/html": [
       "<img src=\"https://api.afp.com/objects/api/medias?id=a1kkIS0nShZdX1sxTF9RGkJYQkxZNm0YAR0FdAZqAnd3HQMCdBsAAxQZCGkdBmAUFHxBXFFbQVdZLmxHSVULIl4hDSg8XFBAN1FnMC0iBFJUWFk1SkgZVl5VQF1YMS9ISlNHZ0YsVH4LZUN8NnkHMGI0VlVIC0kwUE5fWV1fRh5TPTJES1dHfAZzAXByBwAJdQB0dHE%3D.jpg\"/>"
      ],
      "text/plain": [
       "<IPython.core.display.Image object>"
      ]
     },
     "metadata": {},
     "output_type": "display_data"
    },
    {
     "data": {
      "text/html": [
       "<img src=\"https://api.afp.com/objects/api/medias?id=a1kkIS0nShZdX1sxTF9RGkJYQkxZNm0eDx0FcwFqAHtqAAUCa3UHFRt3dAAVZW1oaFhdVllcQlddayhdXg1XKFN4WzorU0FDIRI0LCB7UkBDV0g2XABXWVddSFZCKCdeWEESMF4hDQwscFlpFHcYYzYpVVwQR00sWkZYWl1bC11ONStfXEEJcAF0A3RwAAAGfQBydg%3D%3D.jpg\"/>"
      ],
      "text/plain": [
       "<IPython.core.display.Image object>"
      ]
     },
     "metadata": {},
     "output_type": "display_data"
    },
    {
     "data": {
      "text/html": [
       "<img src=\"https://api.afp.com/objects/api/medias?id=a1kkIS0nShZdX1sxTF9RGkJYQkxZNm0cDwUbdgNqAnJ3HQcFa3UHFRt3d38cfAxoaFhdVllcQlddayhdXg1XKFN4WzorU0FDIRI0LCB7UkBDV0g2XABXWVddSFZCKCdeWEESMF4hDTANSmhfNHY5YzYpVVwQR00sWkZYWl1bC11ONStfXEEJcAF0A3RwAAEDdQB5dg%3D%3D.jpg\"/>"
      ],
      "text/plain": [
       "<IPython.core.display.Image object>"
      ]
     },
     "metadata": {},
     "output_type": "display_data"
    },
    {
     "data": {
      "text/html": [
       "<img src=\"https://api.afp.com/objects/api/medias?id=a1kkIS0nShZdXlcxVgJEXV1EQksZd3EcFnNyEWh0dg10eXgedQRzcWkXTFBOXVQqVkYaX0JXEltfIX9GQFxVMUQgFjYsVgxbPVogNTcjFFpBU1UgV1lZUEFRXh5HLCYQd1t%2FJn4ESgdjQF5cIQkwMC0lUlVCWVNjXFVEXEBVXgUHc3MeDgcAeQRwAHp9.jpg\"/>"
      ],
      "text/plain": [
       "<IPython.core.display.Image object>"
      ]
     },
     "metadata": {},
     "output_type": "display_data"
    },
    {
     "data": {
      "text/html": [
       "<img src=\"https://api.afp.com/objects/api/medias?id=a1kkIS0nShZdXlcxVgJEXV1EQksZdHACeHRkHgYDfnIOYh8BdAZ1aBUzUFpGWlcqUgNeRVUPTlFSeClUV1NEMlJjRSohD1pJKlUxNiFrWlVIW10rTUBRRlNDC0lfIX9jUHlTCHY%2FdGU3XV1VeUU0LCctVVZCXR4gQV1dR1dDEAkAdHEaDAYMcgJ1CXI%3D.jpg\"/>"
      ],
      "text/plain": [
       "<IPython.core.display.Image object>"
      ]
     },
     "metadata": {},
     "output_type": "display_data"
    },
    {
     "data": {
      "text/html": [
       "<img src=\"https://api.afp.com/objects/api/medias?id=a1kkIS0nShZdXlcxVgJEXV1EQksZd3AaFnNyEWh0dg10eXoedQRzcWkXTFBOXVQqVkYaX0JXEltfIX9GQFxVMUQgFjYsVgxbPVogNTcjFFpBU1UgV1lZUEFRXh5HLCYQd1t%2FJn4ESgdjQF5cIQkwMC0lUlVCWVNjXFVEXEBVXgUHc3MeDgcAeQRwAHV9.jpg\"/>"
      ],
      "text/plain": [
       "<IPython.core.display.Image object>"
      ]
     },
     "metadata": {},
     "output_type": "display_data"
    },
    {
     "name": "stdout",
     "output_type": "stream",
     "text": [
      "10 \n",
      " Accra, Ghana (CNN) Funerals are a big deal in Ghana and it is not uncommon, in some parts, for a ceremony to last up to seven days, drawing thousands of crowds adorned in flowing red and black robes and gold jewelry.  Some families even hire professional mourners to cry at the funeral of their loved one because \"it serves as a reward to the person who has died,\" says Adwoa Yeboah Agyei, who owns The Funeral Shop and Services, a franchise with locations across Accra.  Ghanaian funerals are heavily symbolic and rituals involved include giving offerings to the spirits of the ancestors and loud traditional dancing and drumming to accompany the dead on their journey.  Anguished families  But a centuries-old tradition has come to a halt.  Since Ghana's President Nana Akufo-Addo suspended all public gatherings in mid-March in the wake of the coronavirus pandemic, burials have been limited to no more than 25 people in the West African nation.  Obed Ampadu-Asiamah's 73-year-old father, Daniel, passed away soon after the announcement following complications from a stroke.  Obed has been scrambling to make painful phone calls send notices informing attendees he could only invite 25 family members and friends. They originally expected 2,000 people and an official funeral has been postponed to a later date.  \"We had to cut all the in-laws and the grandchildren. None were able to attend,\" he told CNN, his voice shaking.  \"We could only provide six slots for members on my father's side of the family and three for members of his church.\"  The large funeral home they rented to hold the ceremony was moved into a small, private chapel within the same venue.  Face masks concealed the anguish on the faces of mourners dressed in red and black, as they stood several feet apart with heads bowed in remembrance of a highly respected man, who established churches in parts of West Africa.  Livestreaming burials  At Transitions, Ghana's largest private funeral home, a once heavy flow of ceremonies now trickles at a slow pace.  Genevieve Carnelius, the general manager, stated that finances and operations have been badly affected, but says her priority now is to work with clients like Obed to remotely reschedule their loved ones' funerals to uncertain future dates.  The home currently offers online live streaming from their chapel, where Ampadu-Asiamah's burial service took place, and where mourners across the globe can view the ceremonies of their loved ones.  Photos: Journey to the other side in style Photos: Journey to the other side in style Get the party started – Funerals are often uplifting occasions in Ghana, where it is widely believed that death is the beginning of an afterlife, and the deceased should receive a rapturous send off.    A tradition has emerged within this culture of \"proverb coffins\" (abebuu adekai), which pay tribute to the occupant with a personalized and often spectacular design. Hide Caption 1 of 18 Photos: Journey to the other side in style The roots – According to legend, the first abebuu adekai was created in the 1950s when a \"palanquin\" carriage was made for a tribal leader in the shape of a cocoa pod. But the leader died suddenly, and quick-thinking subjects buried him in the pod.    This inspired young carpenter Seth Kane Kwei to establish his own novelty coffin studio in the town of Teshie, and the The Kane Kwei Carpentry Workshop (above) remains popular to this day. Hide Caption 2 of 18 Photos: Journey to the other side in style Maiden flight – One of the first creations of the workshop was this coffin for Kane Kwei's grandmother, who had never traveled in a plane but was fascinated by the new mode of transport.    Shortly after, a boat design was requested for a fisherman, and the practice was up and running. Hide Caption 3 of 18 Photos: Journey to the other side in style Chips off the block – The abebuu adekai spread rapidly through the Greater Accra Region, with many of the leading figures emerging from the Kane Kwei stable.    Legendary carpenter Paa Joe, seen with a piano design, was Kwei's nephew and apprentice, and he went on to establish his own popular studio. Hide Caption 4 of 18 Photos: Journey to the other side in style Spreading the wood – Daniel \"Hello\" Mensah, was an apprentice for Paa Joe, before launching his own practice the \"Hello Design Coffin Works.\" Hide Caption 5 of 18 Photos: Journey to the other side in style Artistic license – The coffins have become increasingly creative as the industry is established. This one is a crayfish at the \"Hello\" studio. Hide Caption 6 of 18 Photos: Journey to the other side in style Smile, please – This may have been ordered for a photographer. Hide Caption 7 of 18 Photos: Journey to the other side in style Departing in style – One customer will be well dressed at their funeral. Hide Caption 8 of 18 Photos: Journey to the other side in style Art and craft – Creating the coffins is intensive labor, and can take several weeks to produce.    The artisans typically use light, white wood from the indigenous Wawa tree, although mahogany is sometimes used for exports. Hide Caption 9 of 18 Photos: Journey to the other side in style Going global – Most of the coffins for local sales cost under $1,000, although pieces sold abroad can be more expensive.    The record price for abebuu adekai is a Paa Joe design that fetched $7930 through a London auction house. Hide Caption 10 of 18 Photos: Journey to the other side in style Fine art – Many works from Kane Kwei alumni have been featured at leading art galleries around the world, such as this piece from Paa Joe at the Jack Bell gallery in London. Hide Caption 11 of 18 Photos: Journey to the other side in style Red hot – This spicy design was on display in Osnabrueck, northern Germany, also from Paa Joe. Hide Caption 12 of 18 Photos: Journey to the other side in style Reptile house – This coffin carved in the shape of a frilled lizard was made by the Paa Joe workshop for Festival Melbourne 2006. Hide Caption 13 of 18 Photos: Journey to the other side in style Working overtime – The original Kane Kwei workshop is still thriving under the leadership of his son Cedi Anang and grandson Eric Adjetey Anang.    The shop reportedly produces up to 20 coffins each month, and sends around 100 abroad each year. Hide Caption 14 of 18 Photos: Journey to the other side in style Business booming – There are now at least a dozen workshops in the Accra region and a growing market for abebuu adekai. Hide Caption 15 of 18 Photos: Journey to the other side in style Pushing the boundaries – Few designs are off-limits, as this machine gun coffin indicates. Hide Caption 16 of 18 Photos: Journey to the other side in style Wildlife in death – Animals remain popular choice, such as this red rooster. Hide Caption 17 of 18 Photos: Journey to the other side in style First and last – The airplane design that was first created for Kane Kwei's grandmother remains a firm favorite. Hide Caption 18 of 18  Once a lucrative sector, businesses catering to funerals are reeling.  Maryam Abdullah is a fashion designer who sews traditional garments primarily for weddings and funerals.  In an empty shop once bustling with customers, she sighed as she explained how Covid-19 has affected her business.  \"No one is coming. Even the people who have already brought cloths for me to sew have not returned to pick them up, said Maryam. She understands why, though. \"If this is what it takes to stop the spread of this coronavirus, I am okay.\"  For now, she prefers her clients to stay at home because she feels more protected from contracting the virus herself, but it will only be a matter of time before funds run dry, she added.  A stray from traditional customs  Shaking hands with the family of the deceased is a deep-rooted tradition in many Ghanaian tribes that has taken place for hundreds of years and has become a mandatory part of ceremonies to show respect for the dead, says Queen Naa Tsotsoo Soyoo I, a Ghanaian Queen mother, who forms part of a powerful group of traditional women leaders.  She explained how significant the ban on mass funeral gatherings has affected the customs of such ceremonies.  \"A significant part of funerals is bringing families together to embrace through handshakes, hugs and to mourn in close proximity of one another,\" said Queen Naa.  \"The immediate implication of what is now taking place is that families will be unable to connect. This is something that has never happened in generations and it is definitely going to have a social impact.\"  Coffin made and painted to resemble a mermaid for Ga tribal priestess of sea god carried by funeral guests.  Despite all the sudden changes to traditional practices at funerals, she acknowledged that certain inherent rites will never go away. For example, in Islam, the second largest religion practiced in Ghana, senior Muslim members of the community must recite Quranic verses over the deceased immediately after designated family members perform a ritual cleansing of the body.  The person must be buried within 24 hours of death.  \"With all that is going on, the testament of a funeral will always be a view of how a person lived life and the core of every funeral is that the individual is sent off with respect and dignity,\" she added.  No one can predict how long the effects of Covid-19 will alter lives as we once knew it. But Queen Naa is certain of one thing thing. \"There will be many celebrations of life when this is all over.\"\n",
      "Sans malus\n"
     ]
    },
    {
     "data": {
      "text/html": [
       "<img src=\"https://api.afp.com/objects/api/medias?id=a1kkIS0nShZdXlcxVgJEXV1EQksZd3YVFnNyEWh0egJ9amgedQRzcWkXTFBOXVQqVkYaX0JXEltfIX9GQFxVMUQgFjYsVgxbPVogNTcjFFpBU1UgV1lZUEFRXh5HLCYQVnt2cGEQYydjQF5cIQkwMC0lUlVCWVNjXFVEXEBVXgUHc3MeDgcAcwByA3Zx.jpg\"/>"
      ],
      "text/plain": [
       "<IPython.core.display.Image object>"
      ]
     },
     "metadata": {},
     "output_type": "display_data"
    },
    {
     "data": {
      "text/html": [
       "<img src=\"https://api.afp.com/objects/api/medias?id=a1kkIS0nShZdX1sxTF9RGkJYQkxZNm0cDQcbdAVqAXp1HQkJa3UHFRt3dgsaYg1oaFhdVllcQlddayhdXg1XKFN4WzorU0FDIRI0LCB7UkBDV0g2XABXWVddSFZCKCdeWEESMF4hDQUDaFlaHncwYzYpVVwQR00sWkZYWl1bC11ONStfXEEJcAF0A3RwAwgGcQdxdQ%3D%3D.jpg\"/>"
      ],
      "text/plain": [
       "<IPython.core.display.Image object>"
      ]
     },
     "metadata": {},
     "output_type": "display_data"
    },
    {
     "data": {
      "text/html": [
       "<img src=\"https://api.afp.com/objects/api/medias?id=a1kkIS0nShZdXlcxVgJEXV1EQksZdnQCeHRkHgYDenEGdB8BdAZ1aBUzUFpGWlcqUgNeRVUPTlFSeClUV1NEMlJjRSohD1pJKlUxNiFrWlVIW10rTUBRRlNDC0lfIX9IWnYHdFoiWGU3XV1VeUU0LCctVVZCXR4gQV1dR1dDEAkAdHEaDAYMdAF0AXs%3D.jpg\"/>"
      ],
      "text/plain": [
       "<IPython.core.display.Image object>"
      ]
     },
     "metadata": {},
     "output_type": "display_data"
    },
    {
     "data": {
      "text/html": [
       "<img src=\"https://api.afp.com/objects/api/medias?id=a1kkIS0nShZdXlcxVgJEXV1EQksZc3YCeHRkHgYDenEcCx8BdAZ1aBUzUFpGWlcqUgNeRVUPTlFSeClUV1NEMlJjRSohD1pJKlUxNiFrWlVIW10rTUBRRlNDC0lfIX9IWnYHdFoiWGU3XV1VeUU0LCctVVZCXR4gQV1dR1dDEAkAdHEaDAYMdAF0AHo%3D.jpg\"/>"
      ],
      "text/plain": [
       "<IPython.core.display.Image object>"
      ]
     },
     "metadata": {},
     "output_type": "display_data"
    },
    {
     "data": {
      "text/html": [
       "<img src=\"https://api.afp.com/objects/api/medias?id=a1kkIS0nShZdX1sxTF9RGkJYQkxZNm0dAB0FdgVqBXdqAAMDa3UHFRt3d3EUe29oaFhdVllcQlddayhdXg1XKFN4WzorU0FDIRI0LCB7UkBDV0g2XABXWVddSFZCKCdeWEESMF4hDQczd1dHdXYmYzYpVVwQR00sWkZYWl1bC11ONStfXEEJcAF0A3RwAAECcAxwcw%3D%3D.jpg\"/>"
      ],
      "text/plain": [
       "<IPython.core.display.Image object>"
      ]
     },
     "metadata": {},
     "output_type": "display_data"
    },
    {
     "data": {
      "text/html": [
       "<img src=\"https://api.afp.com/objects/api/medias?id=a1kkIS0nShZdXlcxVgJEXV1EQksZdHsYFnNyEWh0enV0fHgedQRzcWkXTFBOXVQqVkYaX0JXEltfIX9GQFxVMUQgFjYsVgxbPVogNTcjFFpBU1UgV1lZUEFRXh5HLCYQWEt6E0IiQDZjQF5cIQkwMC0lUlVCWVNjXFVEXEBVXgUHc3MeDgcAcw58AXdw.jpg\"/>"
      ],
      "text/plain": [
       "<IPython.core.display.Image object>"
      ]
     },
     "metadata": {},
     "output_type": "display_data"
    },
    {
     "name": "stdout",
     "output_type": "stream",
     "text": [
      "malus\n"
     ]
    },
    {
     "data": {
      "text/html": [
       "<img src=\"https://api.afp.com/objects/api/medias?id=a1kkIS0nShZdXlcxVgJEXV1EQksZd3YVFnNyEWh0egJ9amgedQRzcWkXTFBOXVQqVkYaX0JXEltfIX9GQFxVMUQgFjYsVgxbPVogNTcjFFpBU1UgV1lZUEFRXh5HLCYQVnt2cGEQYydjQF5cIQkwMC0lUlVCWVNjXFVEXEBVXgUHc3MeDgcAcwByA3Zx.jpg\"/>"
      ],
      "text/plain": [
       "<IPython.core.display.Image object>"
      ]
     },
     "metadata": {},
     "output_type": "display_data"
    },
    {
     "data": {
      "text/html": [
       "<img src=\"https://api.afp.com/objects/api/medias?id=a1kkIS0nShZdXlcxVgJEXV1EQksZdHoYFnNyEWh0ehF3cAgedQRzcWkXTFBOXVQqVkYaX0JXEltfIX9GQFxVMUQgFjYsVgxbPVogNTcjFFpBU1UgV1lZUEFRXh5HLCYQQUNecVMWd3FjQF5cIQkwMC0lUlVCWVNjXFVEXEBVXgUHc3MeDgcAcAFzCXN2.jpg\"/>"
      ],
      "text/plain": [
       "<IPython.core.display.Image object>"
      ]
     },
     "metadata": {},
     "output_type": "display_data"
    },
    {
     "data": {
      "text/html": [
       "<img src=\"https://api.afp.com/objects/api/medias?id=a1kkIS0nShZdXlcxVgJEXV1EQksZd3EcFnNyEWh0ehF3c3QedQRzcWkXTFBOXVQqVkYaX0JXEltfIX9GQFxVMUQgFjYsVgxbPVogNTcjFFpBU1UgV1lZUEFRXh5HLCYQQUNecVMWd3FjQF5cIQkwMC0lUlVCWVNjXFVEXEBVXgUHc3MeDgcAcAFzCHpy.jpg\"/>"
      ],
      "text/plain": [
       "<IPython.core.display.Image object>"
      ]
     },
     "metadata": {},
     "output_type": "display_data"
    },
    {
     "data": {
      "text/html": [
       "<img src=\"https://api.afp.com/objects/api/medias?id=a1kkIS0nShZdX1sxTF9RGkJYQkxZNm0cDQcbdAVqAXp1HQkJa3UHFRt3dgsaYg1oaFhdVllcQlddayhdXg1XKFN4WzorU0FDIRI0LCB7UkBDV0g2XABXWVddSFZCKCdeWEESMF4hDQUDaFlaHncwYzYpVVwQR00sWkZYWl1bC11ONStfXEEJcAF0A3RwAwgGcQdxdQ%3D%3D.jpg\"/>"
      ],
      "text/plain": [
       "<IPython.core.display.Image object>"
      ]
     },
     "metadata": {},
     "output_type": "display_data"
    },
    {
     "data": {
      "text/html": [
       "<img src=\"https://api.afp.com/objects/api/medias?id=a1kkIS0nShZdXlcxVgJEXV1EQksZdHoeFnNyEWh0egJ9YgQedQRzcWkXTFBOXVQqVkYaX0JXEltfIX9GQFxVMUQgFjYsVgxbPVogNTcjFFpBU1UgV1lZUEFRXh5HLCYQVnt2cGEQYydjQF5cIQkwMC0lUlVCWVNjXFVEXEBVXgUHc3MeDgcAcwByA3Zz.jpg\"/>"
      ],
      "text/plain": [
       "<IPython.core.display.Image object>"
      ]
     },
     "metadata": {},
     "output_type": "display_data"
    },
    {
     "data": {
      "text/html": [
       "<img src=\"https://api.afp.com/objects/api/medias?id=a1kkIS0nShZdXlcxVgJEXV1EQksZdHsYFnNyEWh0enV0fHgedQRzcWkXTFBOXVQqVkYaX0JXEltfIX9GQFxVMUQgFjYsVgxbPVogNTcjFFpBU1UgV1lZUEFRXh5HLCYQWEt6E0IiQDZjQF5cIQkwMC0lUlVCWVNjXFVEXEBVXgUHc3MeDgcAcw58AXdw.jpg\"/>"
      ],
      "text/plain": [
       "<IPython.core.display.Image object>"
      ]
     },
     "metadata": {},
     "output_type": "display_data"
    },
    {
     "name": "stdout",
     "output_type": "stream",
     "text": [
      "11 \n",
      " (CNN) Collins Omondi Okello's mission was simple. Get his hero Steve Harvey to see the portrait he had made of him.  First, the Kenyan artist posted his unfinished drawing of Harvey, shared the process on Twitter and urged his followers to retweet and tag the US entertainer.  Once the drawing was complete, he posted the photo and tagged Steve Harvey, hoping he would see it.  \"Complete pencil drawing of @IAmSteveHarvey. Will be a real boost to my hustle if you have this in your gallery. Waiting with bated breath,\" Okello wrote on Twitter.  Complete! Pencil drawing of @IAmSteveHarvey. Will be a real boost to my hustle if you have this in your gallery. Waiting with bated breath🙏🙏🙏#steveharveypencil #JaduongArtWorks pic.twitter.com/MRxql0pbKh pic.twitter.com/gk2v7ki3bL — Collins Omondi Okello (@collimondi) March 1, 2020  His persistence paid off and three days and thousands of retweets later, Harvey replied.  Read More\n",
      "Sans malus\n"
     ]
    },
    {
     "data": {
      "text/html": [
       "<img src=\"https://api.afp.com/objects/api/medias?id=a1kkIS0nShZdX1sxTF9RGkJYQkxZNm0fDAIbeQBqAnNwHQMCcxsAAxQZCHd6BnYTFHxBXFFbQVdZLmxHSVULIl4hDSg8XFBAN1FnMC0iBFJUWFk1SkgZVl5VQF1YMS9ISlNHZ0YsVH4ARn12L1ACEmI0VlVIC0kwUE5fWV1fRh5TPTJES1dHfAZzAXByBwAJcwVxcXQ%3D.jpg\"/>"
      ],
      "text/plain": [
       "<IPython.core.display.Image object>"
      ]
     },
     "metadata": {},
     "output_type": "display_data"
    },
    {
     "data": {
      "text/html": [
       "<img src=\"https://api.afp.com/objects/api/medias?id=a1kkIS0nShZdXlcxVgJEXV1EQksZcnICeHRkHgYPcncSAB8BdAZ1aBUzUFpGWlcqUgNeRVUPTlFSeClUV1NEMlJjRSohD1pJKlUxNiFrWlVIW10rTUBRRlNDC0lfIX9pcgJkA3okAmU3XV1VeUU0LCctVVZCXR4gQV1dR1dDEAkAdHEaDAYGdgR9CXY%3D.jpg\"/>"
      ],
      "text/plain": [
       "<IPython.core.display.Image object>"
      ]
     },
     "metadata": {},
     "output_type": "display_data"
    },
    {
     "data": {
      "text/html": [
       "<img src=\"https://api.afp.com/objects/api/medias?id=a1kkIS0nShZdX1sxTF9RGkJYQkxZNm0fCR0FcARqAndqAAQDa3UHFRt3dnYdfXRoaFhdVllcQlddayhdXg1XKFN4WzorU0FDIRI0LCB7UkBDV0g2XABXWVddSFZCKCdeWEESMF4hDXIOXEJqDGQEYzYpVVwQR00sWkZYWl1bC11ONStfXEEJcAF0A3RwAwgDdwN1dQ%3D%3D.jpg\"/>"
      ],
      "text/plain": [
       "<IPython.core.display.Image object>"
      ]
     },
     "metadata": {},
     "output_type": "display_data"
    },
    {
     "data": {
      "text/html": [
       "<img src=\"https://api.afp.com/objects/api/medias?id=a1kkIS0nShZdXlcxVgJEXV1EQksZd3EZFnNyEWh0ehR8emQedQRzcWkXTFBOXVQqVkYaX0JXEltfIX9GQFxVMUQgFjYsVgxbPVogNTcjFFpBU1UgV1lZUEFRXh5HLCYQdAd3FwEMe3djQF5cIQkwMC0lUlVCWVNjXFVEXEBVXgUHc3MeDgcAcANxCHFy.jpg\"/>"
      ],
      "text/plain": [
       "<IPython.core.display.Image object>"
      ]
     },
     "metadata": {},
     "output_type": "display_data"
    },
    {
     "data": {
      "text/html": [
       "<img src=\"https://api.afp.com/objects/api/medias?id=a1kkIS0nShZdXlcxVgJEXV1EQksZdHoYFnNyEWh0egt1ZQUedQRzcWkXTFBOXVQqVkYaX0JXEltfIX9GQFxVMUQgFjYsVgxbPVogNTcjFFpBU1UgV1lZUEFRXh5HLCYQTWdFME0wQyljQF5cIQkwMC0lUlVCWVNjXFVEXEBVXgUHc3MeDgcAcwZ8A3Bx.jpg\"/>"
      ],
      "text/plain": [
       "<IPython.core.display.Image object>"
      ]
     },
     "metadata": {},
     "output_type": "display_data"
    },
    {
     "data": {
      "text/html": [
       "<img src=\"https://api.afp.com/objects/api/medias?id=a1kkIS0nShZdXlcxVgJEXV1EQksZcnICeHRkHgYPeHMSBx8BdAZ1aBUzUFpGWlcqUgNeRVUPTlFSeClUV1NEMlJjRSohD1pJKlUxNiFrWlVIW10rTUBRRlNDC0lfIX9ZbENFO0I2WmU3XV1VeUU0LCctVVZCXR4gQV1dR1dDEAkAdHEaDAYGcA52A3E%3D.jpg\"/>"
      ],
      "text/plain": [
       "<IPython.core.display.Image object>"
      ]
     },
     "metadata": {},
     "output_type": "display_data"
    },
    {
     "name": "stdout",
     "output_type": "stream",
     "text": [
      "malus\n"
     ]
    },
    {
     "data": {
      "text/html": [
       "<img src=\"https://api.afp.com/objects/api/medias?id=a1kkIS0nShZdXlcxVgJEXV1EQksZcnACeHRkHgYPcXpycB8BdAZ1aBUzUFpGWlcqUgNeRVUPTlFSeClUV1NEMlJjRSohD1pJKlUxNiFrWlVIW10rTUBRRlNDC0lfIX9CcHAFF2IWVGU3XV1VeUU0LCctVVZCXR4gQV1dR1dDEAkAdHEaDAYGdgB3Bno%3D.jpg\"/>"
      ],
      "text/plain": [
       "<IPython.core.display.Image object>"
      ]
     },
     "metadata": {},
     "output_type": "display_data"
    },
    {
     "data": {
      "text/html": [
       "<img src=\"https://api.afp.com/objects/api/medias?id=a1kkIS0nShZdXlcxVgJEXV1EQksZdHUYFnNyEWh0egJ8BXIedQRzcWkXTFBOXVQqVkYaX0JXEltfIX9GQFxVMUQgFjYsVgxbPVogNTcjFFpBU1UgV1lZUEFRXh5HLCYQVnt2cGEQYydjQF5cIQkwMC0lUlVCWVNjXFVEXEBVXgUHc3MeDgcAcwByAnV0.jpg\"/>"
      ],
      "text/plain": [
       "<IPython.core.display.Image object>"
      ]
     },
     "metadata": {},
     "output_type": "display_data"
    },
    {
     "data": {
      "text/html": [
       "<img src=\"https://api.afp.com/objects/api/medias?id=a1kkIS0nShZdXlcxVgJEXV1EQksZfXICeHRkHgYPcnBwfh8BdAZ1aBUzUFpGWlcqUgNeRVUPTlFSeClUV1NEMlJjRSohD1pJKlUxNiFrWlVIW10rTUBRRlNDC0lfIX9pcgJkA3okAmU3XV1VeUU0LCctVVZCXR4gQV1dR1dDEAkAdHEaDAYGdgN0Bns%3D.jpg\"/>"
      ],
      "text/plain": [
       "<IPython.core.display.Image object>"
      ]
     },
     "metadata": {},
     "output_type": "display_data"
    },
    {
     "data": {
      "text/html": [
       "<img src=\"https://api.afp.com/objects/api/medias?id=a1kkIS0nShZdX1sxTF9RGkJYQkxZNm0cAAEbcAJyH3J8HQUBa3UHFRt3dAEadWloaFhdVllcQlddayhdXg1XKFN4WzorU0FDIRI0LCB7UkBDV0g2XABXWVddSFZCKCdeWEESMF4hDXUhcUEId2wjYzYpVVwQR00sWkZYWl1bC11ONStfXEEJcAF0A3RwAAAHdgZ2dw%3D%3D.jpg\"/>"
      ],
      "text/plain": [
       "<IPython.core.display.Image object>"
      ]
     },
     "metadata": {},
     "output_type": "display_data"
    },
    {
     "data": {
      "text/html": [
       "<img src=\"https://api.afp.com/objects/api/medias?id=a1kkIS0nShZdX1sxTF9RGkJYQkxZNm0cAAUbcAJ2H3JwHQIHa3UHFRt3dAEbZX9oaFhdVllcQlddayhdXg1XKFN4WzorU0FDIRI0LCB7UkBDV0g2XABXWVddSFZCKCdeWEESMF4hDXUhcUEId2wjYzYpVVwQR00sWkZYWl1bC11ONStfXEEJcAF0A3RwAAAHdgZ3cg%3D%3D.jpg\"/>"
      ],
      "text/plain": [
       "<IPython.core.display.Image object>"
      ]
     },
     "metadata": {},
     "output_type": "display_data"
    },
    {
     "data": {
      "text/html": [
       "<img src=\"https://api.afp.com/objects/api/medias?id=a1kkIS0nShZdX1sxTF9RGkJYQkxZNm0fCgAbdw5qAXtyHQMAfRsAAxQZCHd9D2EUFHxBXFFbQVdZLmxHSVULIl4hDSg8XFBAN1FnMC0iBFJUWFk1SkgZVl5VQF1YMS9ISlNHZ0YsVH4WalRRDlo3N2I0VlVIC0kwUE5fWV1fRh5TPTJES1dHfAZzAXByBwAJcwJ2cXU%3D.jpg\"/>"
      ],
      "text/plain": [
       "<IPython.core.display.Image object>"
      ]
     },
     "metadata": {},
     "output_type": "display_data"
    },
    {
     "name": "stdout",
     "output_type": "stream",
     "text": [
      "15 \n",
      " San Francisco (CNN Business) Google's parent company is abandoning a controversial plan to turn Toronto's waterfront into a futuristic neighborhood.  Alphabet GOOG Sidewalk Labs, the subsidiary offocused on smart cities, will no longer help develop the Canadian city's Quayside neighborhood, it announced Thursday.  \"But as unprecedented economic uncertainty has set in around the world and in the Toronto real estate market, it has become too difficult to make the 12-acre project financially viable without sacrificing core parts of the plan,\" Daniel Doctoroff, chairman and CEO of Sidewalk Labs, said in a blog post . \"After a great deal of deliberation, we concluded that it no longer made sense to proceed.\"  Alphabet started working on the project in 2017, committing more than $50 million to reducing traffic congestion, carbon emissions and landfill waste using technology. But the plan quickly sparked controversy because of concerns over the amount of citizen data it would collect, and was widely slammed by privacy campaigners and politicians.  As part of a 1,524-page report laying out its vision, Sidewalk Labs proposed intersections with sensors, tracking the movement of all people and vehicles. The company said this would help move traffic swiftly and ensure walk signals leave added time for slow walkers, such as the elderly.  Read More\n",
      "Sans malus\n"
     ]
    },
    {
     "data": {
      "text/html": [
       "<img src=\"https://api.afp.com/objects/api/medias?id=a1kkIS0nShZdX1sxTF9RGkJYQkxZNm0cAAMbcAJ8H3F2Bh4CdQZuBAIWZghjAQgKegBlQFtTRlRZKikDU0JTflQsVH4uS19RNEckYzEvXQRGT1YkSV5RGFFcSFVTKzZAXEFVMhE0WSd4QFsDBwY0KjdgS1ZBUwU0TERXXl5fQlMQIDpdUEBRMgp0BnJ2BQQCdAB1fXF0.jpg\"/>"
      ],
      "text/plain": [
       "<IPython.core.display.Image object>"
      ]
     },
     "metadata": {},
     "output_type": "display_data"
    },
    {
     "data": {
      "text/html": [
       "<img src=\"https://api.afp.com/objects/api/medias?id=a1kkIS0nShZdX1sxTF9RGkJYQkxZNm0cDQEbcwdyH3J9BB4BcgBuBAIWZghjAQgKDABlQFtTRlRZKikDU0JTflQsVH4uS19RNEckYzEvXQRGT1YkSV5RGFFcSFVTKzZAXEFVMhE0WSd4QFsDBwY0KjdgS1ZBUwU0TERXXl5fQlMQIDpdUEBRMgp0BnJ2BQQCdAB1fXF2.jpg\"/>"
      ],
      "text/plain": [
       "<IPython.core.display.Image object>"
      ]
     },
     "metadata": {},
     "output_type": "display_data"
    },
    {
     "data": {
      "text/html": [
       "<img src=\"https://api.afp.com/objects/api/medias?id=a1kkIS0nShZdX1sxTF9RGkJYQkxZNm0cCAAbdAdqBnpqCwAfBXIRGnUIDgliBBUUTERXXl5fQlMYLzJKBlFdJQouSS0kQkJVYkEoIXktQFdMRksgFE5YUF9VQ0xbIDFMShRFKFN4Qil2cQNFK0dnNysqXARcQ1EmUkFbWlkWSEBGLDBISg8FdwZ2B3Z3AgUEfAB4.jpg\"/>"
      ],
      "text/plain": [
       "<IPython.core.display.Image object>"
      ]
     },
     "metadata": {},
     "output_type": "display_data"
    },
    {
     "data": {
      "text/html": [
       "<img src=\"https://api.afp.com/objects/api/medias?id=a1kkIS0nShZdX1sxTF9RGkJYQkxZNm0dCR0FdwVqAnJ2HQMAa3UHFRt3d3sae21oaFhdVllcQlddayhdXg1XKFN4WzorU0FDIRI0LCB7UkBDV0g2XABXWVddSFZCKCdeWEESMF4hDTEvAXICMVsyYzYpVVwQR00sWkZYWl1bC11ONStfXEEJcAF0A3RwAAEEcAx1cw%3D%3D.jpg\"/>"
      ],
      "text/plain": [
       "<IPython.core.display.Image object>"
      ]
     },
     "metadata": {},
     "output_type": "display_data"
    },
    {
     "data": {
      "text/html": [
       "<img src=\"https://api.afp.com/objects/api/medias?id=a1kkIS0nShZdX1sxTF9RGkJYQkxZNm0fDAMbeA5qA3tqAAUBa3UHFRt3d3sae25oaFhdVllcQlddayhdXg1XKFN4WzorU0FDIRI0LCB7UkBDV0g2XABXWVddSFZCKCdeWEESMF4hDTEvAXICMVsyYzYpVVwQR00sWkZYWl1bC11ONStfXEEJcAF0A3RwAAEEcAx1cw%3D%3D.jpg\"/>"
      ],
      "text/plain": [
       "<IPython.core.display.Image object>"
      ]
     },
     "metadata": {},
     "output_type": "display_data"
    },
    {
     "data": {
      "text/html": [
       "<img src=\"https://api.afp.com/objects/api/medias?id=a1kkIS0nShZdX1sxTF9RGkJYQkxZNm0bAR0NdRh3BWx3AgkfBXIRGnUIew5jAxUUTERXXl5fQlMYLzJKBlFdJQouSS0kQkJVYkEoIXktQFdMRksgFE5YUF9VQ0xbIDFMShRFKFN4Qil2cQNFK0dnNysqXARcQ1EmUkFbWlkWSEBGLDBISg8FdwZ2B3Z3AgUEfAd5.jpg\"/>"
      ],
      "text/plain": [
       "<IPython.core.display.Image object>"
      ]
     },
     "metadata": {},
     "output_type": "display_data"
    },
    {
     "name": "stdout",
     "output_type": "stream",
     "text": [
      "malus\n"
     ]
    },
    {
     "data": {
      "text/html": [
       "<img src=\"https://api.afp.com/objects/api/medias?id=a1kkIS0nShZdXlcxVgJEXV1EQksZdHoaFnNyEWh0dnB2cWYedQRzcWkXTFBOXVQqVkYaX0JXEltfIX9GQFxVMUQgFjYsVgxbPVogNTcjFFpBU1UgV1lZUEFRXh5HLCYQegpADkUXaCpjQF5cIQkwMC0lUlVCWVNjXFVEXEBVXgUHc3MeDgcAeAF3CHR3.jpg\"/>"
      ],
      "text/plain": [
       "<IPython.core.display.Image object>"
      ]
     },
     "metadata": {},
     "output_type": "display_data"
    },
    {
     "data": {
      "text/html": [
       "<img src=\"https://api.afp.com/objects/api/medias?id=a1kkIS0nShZdXlcxVgJEXV1EQksZdHEVFnNyEWh0dnB2dgYedQRzcWkXTFBOXVQqVkYaX0JXEltfIX9GQFxVMUQgFjYsVgxbPVogNTcjFFpBU1UgV1lZUEFRXh5HLCYQegpADkUXaCpjQF5cIQkwMC0lUlVCWVNjXFVEXEBVXgUHc3MeDgcAeAF3CHVw.jpg\"/>"
      ],
      "text/plain": [
       "<IPython.core.display.Image object>"
      ]
     },
     "metadata": {},
     "output_type": "display_data"
    },
    {
     "data": {
      "text/html": [
       "<img src=\"https://api.afp.com/objects/api/medias?id=a1kkIS0nShZdXlcxVgJEXV1EQksZdHMVFnNyEWh0dnFzB34edQRzcWkXTFBOXVQqVkYaX0JXEltfIX9GQFxVMUQgFjYsVgxbPVogNTcjFFpBU1UgV1lZUEFRXh5HLCYQegpADkUXaCpjQF5cIQkwMC0lUlVCWVNjXFVEXEBVXgUHc3MeDgcAeAF3CHVx.jpg\"/>"
      ],
      "text/plain": [
       "<IPython.core.display.Image object>"
      ]
     },
     "metadata": {},
     "output_type": "display_data"
    },
    {
     "data": {
      "text/html": [
       "<img src=\"https://api.afp.com/objects/api/medias?id=a1kkIS0nShZdX1sxTF9RGkJYQkxZNm0cAAMbcAJ8H3F2Bh4CdQZuBAIWZghjAQgKegBlQFtTRlRZKikDU0JTflQsVH4uS19RNEckYzEvXQRGT1YkSV5RGFFcSFVTKzZAXEFVMhE0WSd4QFsDBwY0KjdgS1ZBUwU0TERXXl5fQlMQIDpdUEBRMgp0BnJ2BQQCdAB1fXF0.jpg\"/>"
      ],
      "text/plain": [
       "<IPython.core.display.Image object>"
      ]
     },
     "metadata": {},
     "output_type": "display_data"
    },
    {
     "data": {
      "text/html": [
       "<img src=\"https://api.afp.com/objects/api/medias?id=a1kkIS0nShZdX1sxTF9RGkJYQkxZNm0cDQEbcwdyH3J9BB4BcgBuBAIWZghjAQgKDABlQFtTRlRZKikDU0JTflQsVH4uS19RNEckYzEvXQRGT1YkSV5RGFFcSFVTKzZAXEFVMhE0WSd4QFsDBwY0KjdgS1ZBUwU0TERXXl5fQlMQIDpdUEBRMgp0BnJ2BQQCdAB1fXF2.jpg\"/>"
      ],
      "text/plain": [
       "<IPython.core.display.Image object>"
      ]
     },
     "metadata": {},
     "output_type": "display_data"
    },
    {
     "data": {
      "text/html": [
       "<img src=\"https://api.afp.com/objects/api/medias?id=a1kkIS0nShZdX1sxTF9RGkJYQkxZNm0cCAAbdAdqBnpqCwAfBXIRGnUIDgliBBUUTERXXl5fQlMYLzJKBlFdJQouSS0kQkJVYkEoIXktQFdMRksgFE5YUF9VQ0xbIDFMShRFKFN4Qil2cQNFK0dnNysqXARcQ1EmUkFbWlkWSEBGLDBISg8FdwZ2B3Z3AgUEfAB4.jpg\"/>"
      ],
      "text/plain": [
       "<IPython.core.display.Image object>"
      ]
     },
     "metadata": {},
     "output_type": "display_data"
    },
    {
     "name": "stdout",
     "output_type": "stream",
     "text": [
      "16 \n",
      " (CNN) If you're looking for a reason to care about tree loss, this summer's record-breaking heat waves might be it. Trees can lower summer daytime temperatures by as much as 10 degrees Fahrenheit, according to a recent study .  But tree cover in US cities is shrinking. A study published last year by the US Forest Service found that we lost 36 million trees annually from urban and rural communities over a five-year period. That's a 1% drop from 2009 to 2014.  If we continue on this path, \"cities will become warmer, more polluted and generally more unhealthy for inhabitants,\" said David Nowak, a senior US Forest Service scientist and co-author of the study.  Nowak says there are many reasons our tree canopy is declining, including hurricanes, tornadoes, fires, insects and disease. But the one reason for tree loss that humans can control is sensible development.  \"We see the tree cover being swapped out for impervious cover, which means when we look at the photographs, what was there is now replaced with a parking lot or a building,\" Nowak said.  More than 80% of the US population lives in urban areas, and most Americans live in forested regions along the East and West coasts, Nowak says.  \"Every time we put a road down, we put a building and we cut a tree or add a tree, it not only affects that site, it affects the region.\"  The study placed a value on tree loss based on trees' role in air pollution removal and energy conservation.  The lost value amounted to $96 million a year.  Nowak lists 10 benefits trees provide to society:  Heat reduction: Trees Trees provide shade for homes, office buildings , parks and roadways, cooling surface temperatures. They also take in and evaporate water, cooling the air around them. \"Just walk in the shade of a tree on a hot day. You can't get that from grass,\" Nowak said. To get the full temperature benefit, tree canopy cover should exceed 40% of the area to be cooled, according to a recent study in the Proceedings of the National Academy of Sciences . \"A single city block would need to be nearly half-covered by a leafy green network of branches and leaves,\" the authors wrote.  Air pollution reduction: Trees absorb carbon and remove pollutants from the atmosphere.  Energy emissions reduction: Trees reduce energy costs by $4 billion a year, according to Nowak's study. \"The shading of those trees on buildings reduce your air conditioning costs. Take those trees away; now your buildings are heating up, you're running your air conditioning more, and you're burning more fuel from the power plants, so the pollution and emissions go up.\"  Water quality improvement: Trees act as water filters, taking in dirty surface water and absorbing nitrogen and phosphorus into the soil.  Flooding reduction: Trees reduce flooding by absorbing water and reducing runoff into streams.  Noise reduction: Trees can deflect sound, one reason you'll see them lining highways, along fences and between roads and neighborhoods. They can also add sound through birds chirping and wind blowing through leaves, noises that have shown Trees can deflect sound, one reason you'll see them lining highways, along fences and between roads and neighborhoods. They can also add sound through birds chirping and wind blowing through leaves, noises that have shown psychological benefits.  Protection from UV radiation: Trees absorb 96% of ultraviolet radiation, Nowak says.  Improved aesthetics: Ask any real estate agent, architect or city planner: Trees and leaf cover improve the looks and Ask any real estate agent, architect or city planner: Trees and leaf cover improve the looks and value of any property.  Wildlife habitat: Birds rely on trees for shelter, food and nesting. Worldwide, forests provide for a huge diversity of animal life.  Planning for trees  Nowak says there's a downside to trees too, such as pollen allergies or large falling branches in storms, \"and people don't like raking leaves.\" But, he says, there are ways cities and counties can manage trees to help communities thrive. \"You can't just say 'we're not going to have forests.' We might as well manage and work with the trees.\"  \"You don't want a tree in the middle of a baseball field. It's very difficult to play sports if you have trees in the way. Or trees in the middle of freeways.\"  Nowak says we can design and manage tree canopies in our cities to help \"affect the air, to affect the water, to affect our well-being.\"  Urban forests especially need our help to replace fallen trees. Unlike rural areas, it is very difficult for trees to repopulate themselves in a city environment with so much pavement and asphalt.  \"A lot of our native trees can't actually find a place to drop an acorn so they can regenerate,\" explains Greg Levine, co-executive director for Trees Atlanta.  \"That's why the community has to go in and actually plant a tree because the areas just aren't natural anymore.\"  The job is not complete when the saplings take root. Organizations like Trees Atlanta and their volunteers plan most of their year to care for these young trees until they're mature enough to thrive on their own.  \"We try to prune trees for 10 years to make sure they get a good healthy structure.\" Levine adds. \"We also add mulch around trees to help keep the moisture in the ground so the tree doesn't dry up. We have to have a lot of patience with planting trees around pavement, making sure that they can rise to the challenge. \"  How you can help stop tree loss  Protect what you have: Nowak says the first step is caring for the trees on your own property. \"We think we pay for our house, and so we must maintain it. But because we don't pay for nature, we don't need to. And that's not necessarily true.\"  Prune the dead limbs out of your trees: If they're small enough, do it yourself or hire a company. The risk of limbs damaging your house is significantly lowered when there's tree upkeep, Nowak said.  Notice where your trees may be in trouble: Often, you can observe when something's wrong, such as when branches are losing leaves and breaking or when mushrooms are growing at the base or on the trees. You can also hire an arborist or tree canopy expert to assess the health of your trees on an annual basis. Or you can contact your local agricultural extension office for advice.  Don't remove old trees if it's not necessary: Instead, try taking smaller actions like removing branches. \"It takes a long time for these big trees to get big: 50 to 100 years. And once they're established, they can live a long time. But taking a big tree out and saying 'we'll replant,' there's no guarantee small trees will make it, and it will take a very long time to grow.\"  Allow trees to grow on your property: Although everyone's aesthetic is different, it's the cheap way to get cooler yards and lower energy bills. It's also an inexpensive approach to flood and noise control.  Nowak says he laughs when his neighbors wonder why their property doesn't have more trees, because \"I hear people running their lawn mowers.\" Fallen seeds need a chance to implant, and constant mowing prevents that. If you don't like where a seedling is growing, you can dig it up and plant it or a new tree where you like.  Educate yourself about trees and get involved: Many cities have tree ordinances that seek to protect very old, significant trees. You can get involved by attending city council meetings. You can also help your city plant trees by joining local nonprofit groups.  Volunteer or donate to tree planting and research organizations:\n",
      "Sans malus\n"
     ]
    },
    {
     "data": {
      "text/html": [
       "<img src=\"https://api.afp.com/objects/api/medias?id=a1kkIS0nShZdXlcxVgJEXV1EQksZdHceFnNyEWh0e3dxCmQedQRzcWkXTFBOXVQqVkYaX0JXEltfIX9GQFxVMUQgFjYsVgxbPVogNTcjFFpBU1UgV1lZUEFRXh5HLCYQTXxXJlICfytjQF5cIQkwMC0lUlVCWVNjXFVEXEBVXgUHc3MeDgcAcAZzBnZ2.jpg\"/>"
      ],
      "text/plain": [
       "<IPython.core.display.Image object>"
      ]
     },
     "metadata": {},
     "output_type": "display_data"
    },
    {
     "data": {
      "text/html": [
       "<img src=\"https://api.afp.com/objects/api/medias?id=a1kkIS0nShZdXlcxVgJEXV1EQksZc3ICeHRkHgYCA3ISah8BdAZ1aBUzUFpGWlcqUgNeRVUPTlFSeClUV1NEMlJjRSohD1pJKlUxNiFrWlVIW10rTUBRRlNDC0lfIX9aVABgNHp2QWU3XV1VeUU0LCctVVZCXR4gQV1dR1dDEAkAdHEaDAYDdQF3AXY%3D.jpg\"/>"
      ],
      "text/plain": [
       "<IPython.core.display.Image object>"
      ]
     },
     "metadata": {},
     "output_type": "display_data"
    },
    {
     "data": {
      "text/html": [
       "<img src=\"https://api.afp.com/objects/api/medias?id=a1kkIS0nShZdXlcxVgJEXV1EQksZfXoCeHRkHgYCAncCdh8BdAZ1aBUzUFpGWlcqUgNeRVUPTlFSeClUV1NEMlJjRSohD1pJKlUxNiFrWlVIW10rTUBRRlNDC0lfIX9aVABgNHp2QWU3XV1VeUU0LCctVVZCXR4gQV1dR1dDEAkAdHEaDAYDdQF0BHY%3D.jpg\"/>"
      ],
      "text/plain": [
       "<IPython.core.display.Image object>"
      ]
     },
     "metadata": {},
     "output_type": "display_data"
    },
    {
     "data": {
      "text/html": [
       "<img src=\"https://api.afp.com/objects/api/medias?id=a1kkIS0nShZdXlcxVgJEXV1EQksZdHMeFnNyEWh0d3FxcAAedQRzcWkXTFBOXVQqVkYaX0JXEltfIX9GQFxVMUQgFjYsVgxbPVogNTcjFFpBU1UgV1lZUEFRXh5HLCYQTl8GFUIIAzJjQF5cIQkwMC0lUlVCWVNjXFVEXEBVXgUHc3MeDgcAdgNzAXdx.jpg\"/>"
      ],
      "text/plain": [
       "<IPython.core.display.Image object>"
      ]
     },
     "metadata": {},
     "output_type": "display_data"
    },
    {
     "data": {
      "text/html": [
       "<img src=\"https://api.afp.com/objects/api/medias?id=a1kkIS0nShZdX1sxTF9RGkJYQkxZNm0bDx0Ndxh3A3dqAAACa3UHFRt3dAwbZHZoaFhdVllcQlddayhdXg1XKFN4WzorU0FDIRI0LCB7UkBDV0g2XABXWVddSFZCKCdeWEESMF4hDXooS2IFcUIJYzYpVVwQR00sWkZYWl1bC11ONStfXEEJcAF0A3RwAAAHfQ14fA%3D%3D.jpg\"/>"
      ],
      "text/plain": [
       "<IPython.core.display.Image object>"
      ]
     },
     "metadata": {},
     "output_type": "display_data"
    },
    {
     "data": {
      "text/html": [
       "<img src=\"https://api.afp.com/objects/api/medias?id=a1kkIS0nShZdXlcxVgJEXV1EQksZcnACeHRkHgYPcXpycB8BdAZ1aBUzUFpGWlcqUgNeRVUPTlFSeClUV1NEMlJjRSohD1pJKlUxNiFrWlVIW10rTUBRRlNDC0lfIX9CcHAFF2IWVGU3XV1VeUU0LCctVVZCXR4gQV1dR1dDEAkAdHEaDAYGdgB3Bno%3D.jpg\"/>"
      ],
      "text/plain": [
       "<IPython.core.display.Image object>"
      ]
     },
     "metadata": {},
     "output_type": "display_data"
    },
    {
     "name": "stdout",
     "output_type": "stream",
     "text": [
      "malus\n"
     ]
    },
    {
     "data": {
      "text/html": [
       "<img src=\"https://api.afp.com/objects/api/medias?id=a1kkIS0nShZdXlcxVgJEXV1EQksZcnACeHRkHgYPcXpycB8BdAZ1aBUzUFpGWlcqUgNeRVUPTlFSeClUV1NEMlJjRSohD1pJKlUxNiFrWlVIW10rTUBRRlNDC0lfIX9CcHAFF2IWVGU3XV1VeUU0LCctVVZCXR4gQV1dR1dDEAkAdHEaDAYGdgB3Bno%3D.jpg\"/>"
      ],
      "text/plain": [
       "<IPython.core.display.Image object>"
      ]
     },
     "metadata": {},
     "output_type": "display_data"
    },
    {
     "data": {
      "text/html": [
       "<img src=\"https://api.afp.com/objects/api/medias?id=a1kkIS0nShZdXlcxVgJEXV1EQksZdHUYFnNyEWh0egJ8BXIedQRzcWkXTFBOXVQqVkYaX0JXEltfIX9GQFxVMUQgFjYsVgxbPVogNTcjFFpBU1UgV1lZUEFRXh5HLCYQVnt2cGEQYydjQF5cIQkwMC0lUlVCWVNjXFVEXEBVXgUHc3MeDgcAcwByAnV0.jpg\"/>"
      ],
      "text/plain": [
       "<IPython.core.display.Image object>"
      ]
     },
     "metadata": {},
     "output_type": "display_data"
    },
    {
     "data": {
      "text/html": [
       "<img src=\"https://api.afp.com/objects/api/medias?id=a1kkIS0nShZdXlcxVgJEXV1EQksZfXICeHRkHgYPcnBwfh8BdAZ1aBUzUFpGWlcqUgNeRVUPTlFSeClUV1NEMlJjRSohD1pJKlUxNiFrWlVIW10rTUBRRlNDC0lfIX9pcgJkA3okAmU3XV1VeUU0LCctVVZCXR4gQV1dR1dDEAkAdHEaDAYGdgN0Bns%3D.jpg\"/>"
      ],
      "text/plain": [
       "<IPython.core.display.Image object>"
      ]
     },
     "metadata": {},
     "output_type": "display_data"
    },
    {
     "data": {
      "text/html": [
       "<img src=\"https://api.afp.com/objects/api/medias?id=a1kkIS0nShZdX1sxTF9RGkJYQkxZNm0cAAEbcAJyH3J8HQUBa3UHFRt3dAEadWloaFhdVllcQlddayhdXg1XKFN4WzorU0FDIRI0LCB7UkBDV0g2XABXWVddSFZCKCdeWEESMF4hDXUhcUEId2wjYzYpVVwQR00sWkZYWl1bC11ONStfXEEJcAF0A3RwAAAHdgZ2dw%3D%3D.jpg\"/>"
      ],
      "text/plain": [
       "<IPython.core.display.Image object>"
      ]
     },
     "metadata": {},
     "output_type": "display_data"
    },
    {
     "data": {
      "text/html": [
       "<img src=\"https://api.afp.com/objects/api/medias?id=a1kkIS0nShZdX1sxTF9RGkJYQkxZNm0cAAUbcAJ2H3JwHQIHa3UHFRt3dAEbZX9oaFhdVllcQlddayhdXg1XKFN4WzorU0FDIRI0LCB7UkBDV0g2XABXWVddSFZCKCdeWEESMF4hDXUhcUEId2wjYzYpVVwQR00sWkZYWl1bC11ONStfXEEJcAF0A3RwAAAHdgZ3cg%3D%3D.jpg\"/>"
      ],
      "text/plain": [
       "<IPython.core.display.Image object>"
      ]
     },
     "metadata": {},
     "output_type": "display_data"
    },
    {
     "data": {
      "text/html": [
       "<img src=\"https://api.afp.com/objects/api/medias?id=a1kkIS0nShZdX1sxTF9RGkJYQkxZNm0fCgAbdw5qAXtyHQMAfRsAAxQZCHd9D2EUFHxBXFFbQVdZLmxHSVULIl4hDSg8XFBAN1FnMC0iBFJUWFk1SkgZVl5VQF1YMS9ISlNHZ0YsVH4WalRRDlo3N2I0VlVIC0kwUE5fWV1fRh5TPTJES1dHfAZzAXByBwAJcwJ2cXU%3D.jpg\"/>"
      ],
      "text/plain": [
       "<IPython.core.display.Image object>"
      ]
     },
     "metadata": {},
     "output_type": "display_data"
    },
    {
     "name": "stdout",
     "output_type": "stream",
     "text": [
      "17 \n",
      " (CNN) — Goodbye, breakfast buffets and bellhop service. Hello, temperature screening and keyless check-in.  While pandemic-era policies are still being developed at hotels around the globe and will no doubt vary widely, it's safe to say that guests will see big changes the next time they check in anywhere.  For the foreseeable future -- until a vaccine, widely effective treatment or instantaneous testing for coronavirus is available -- hotel stays are likely to be a stripped-down affair, particularly in higher-end hotels where personalized service and amenities have long been part of the draw, says Christopher Anderson, professor of business at Cornell University's Hotel School in Ithaca, New York.  There will be less communal access in hotels, \"so no buffets, no minibars,\" and many of the \"high-touch elements of luxury\" such as spa treatments and bellhop and valet service may be suspended, Anderson predicts.  Guests will want keyless and contactless check-in and checkout and few personalized interactions.  \"We're going to want to strip those away and basically walk into the hotel, go up the elevator by myself, enter my room without having to touch anything with some comfort that the service provider has completely disinfected that space prior to my arrival,\" he says.  In the United States, there are faint glimmers of a return in demand for hotel rooms, according to Jan Freitag, senior vice president of Lodging Insights for hospitality analysis firm STR.  Hotel occupancy for the week ending May 2 was at 28.6% in the US, giving STR its first \"solid evidence\" of a return of leisure demand, led by states that had eased restrictions.  Occupancy was still down 58% compared to the same week last year.  As demand creeps up, the hotel industry is trying to reassure potential guests that they've put additional measures in place to protect against coronavirus transmission as states and countries start to reopen.  Socially distant and cleaner than ever  Hygiene, of course, is a top concern, and the American Hotel & Lodging Association on Monday released industrywide Stay Safe standards (pdf) . Many major hotel groups have also outlined new policies.  Hotel behemoth Hilton is developing policies with help from the Mayo Clinic's Infection Prevention and Control team. Hilton is exploring the use of electrostatic sprayers -- which uniformly mist disinfectant across wide areas -- and ultraviolet light to sanitize surfaces and objects.  Marriott has already announced that it will use electrostatic sprayers to clean guest rooms and public areas and is testing ultraviolet light technology. Marriott and other brands will also be removing furniture and reconfiguring many areas to facilitate the six-foot social distancing space prescribed by health officials. The brand is considering plexiglass barriers at front desks to separate guests and hotel staff.  These new measures will certainly affect hotel owners' out-of-pocket costs, Freitag says, but whether guests will see those costs in room rates is unclear.  \"Maybe cleaning fees are the new resort fees,\" Freitag says. In either case, staying in a hotel in 2020 will \"absolutely\" be cheaper than it was last year.  Guests in more than 3,200 Marriott hotels can use their phones to check in, access their rooms and order specially packaged room service delivered to their door without contact.  Masks and gloves for staff will be ubiquitous at many hotels, and hand sanitizer and disinfectant wipes will be the latest additions to public spaces and personal care amenity kits.  The Venetian in Las Vegas is among many properties underlining the six-foot rule of social distancing with markings to indicate proper spacing at front desks, in elevator lobbies, coffee shops, entertainment venues and more.  Venetian reception employees will use every other workstation to properly distance and slot machines, restaurant tables, pool loungers and more have been spaced to comply with the rule.  The resort suggests no more than four guests in an elevator. The Hamilton Hotel in Washington, DC, urges guests to limit that number to two.  Properties are also outlining policies specific to suspected or confirmed cases of Covid-19 on site. Those measures often include intensive third-party disinfection measures of rooms occupied by guests who become ill.  Will guests be screened?  Temperature screening for guests and employees is one line of defense in detecting possible infection, but it's unclear how widely it will be implemented in hotels.  At The Venetian in Vegas, which has not yet reopened, thermal scanners will be used at every entry point \"allowing discreet and noninvasive temperature checks\" for staff and guests, according to the resort's new Venetian Clean policies  In Singapore, a national campaign called SG Clean has been rolled out across industries and includes a set of standards for hotels (pdf) , which includes temperature checks for guests, \"where feasible and applicable.\"  The Four Seasons in New York has been following an incredibly austere set of temporary protocols since it started hosting health care workers in early April.  Those policies, developed by travel risk management company International SOS, include a single point of entry for everyone where each person's temperature is checked and questions are asked by nurses staffing the entry 24 hours a day, according to the plan's architect, Dr. Robert Quigley, International SOS's senior vice president and regional medical director for the Americas.  Related content World's longest flight suspended by coronavirus  But asymptomatic transmission means that strict social distancing is also required, and Quigley predicts that best practices in screening at hotels could evolve with the availability of rapid diagnostic testing.  The Four Seasons playbook was International SOS's first set of coronavirus hygiene standards for a hotel and has been adapted for other hotels hosting medical workers, but Quigley said in the past couple of weeks, properties have started contacting the company about practices that could be used for traditional leisure and business travelers.  But the level of screening implemented at Four Seasons New York during this period is probably not feasible for every property, Quigley acknowledges.  \"It's not going to be realistic for hotels across the spectrum to have these extreme measures of mitigation that I'm talking about,\" he said. \"And so then they have to say, these hotels that don't have those capabilities or resources, 'What is our risk appetite? What is our duty of care to our employees and to our guests?' \"  Figuring out what's needed to keep guests safe  Rudy Tauscher, general manager at Four Seasons New York, has been at the forefront of that hotel's hosting of health care workers. He has been mulling how the traditional guest experience will change.  \"Is there a different time, for instance, between check-in and checkout? Very often hotels have a turnaround where you check out in the morning and in the evening, the room is occupied again. Would there be an extended period of time of let's say, 24 hours?\" Tauscher wondered, noting that he was shooting from the hip about possible modifications.  Cost structures and operational models would have to be considered, he said.  Related content The plane that's become a pandemic hero  Since the Four Seasons New York started hosting medical workers in the coronavirus epicenter, a cleaning protocol designed by International SOS has involved leaving rooms empty for long periods between a series of cleanings to make sure that any contamination is eliminated.  But that protocol was tailored to a very specific situation. The Four Seasons luxury brand is working on exactly what new measures guests will find at its hotels around the globe and at the property on New York's 57th Street when it reopens to guests who aren't health care workers.  Social distancing measures, reduced capacity public spaces and redesigned restaurants, bars and fitness facilities will be among the changes.  \"Once business levels resume, we recognize that the expectations and needs of hotel guests will have changed, and Four Seasons is well-positioned to emerge from this crisis with a new perspective on what luxury means for this new world: embracing technology, enhancing tools and training and strengthening our already stringent health, safety and cleanliness protocols,\" said Christian Clerc, Four Seasons' president of global operations, in a statement.  The future of high-touch spaces and services  Many of a hotel's public spaces and amenities will need an overhaul for the coronavirus era.  For example, room service might be preserved as there's more control in who touches what, says Anderson, from Cornell's Hotel School, but buffets are likely a no-go.  And he's not sure that services such as buffets -- whether hotel breakfast bars or full-blown Vegas-style spreads -- will ever come back.  \"I think just our awareness of transmission now is going to be heightened and so ... even though it might be safe and there might not be a pandemic scare, psychologically it might not be attractive anymore,\" he said.  Prewrapped, grab-and-go offerings are likely to be the solution in the near future, Anderson said.  High-touch public areas such as spas and gyms -- where it's also difficult to social distance -- pose a \"really, really high risk for transmission,\" Quigley said, with lots of handles and doorknobs that would need very attentive cleaning.  Related content Creating a spa of one's own  But not all hotels have given up on those services.  Bangkok-based Anantara Hotels, Resorts & Spas said in outlining its new policies that \"fiitness and holistic classes will be adapted for guests' optimum wellbeing,\" referencing private personal-training sessions.  And Mandarin Oriental also hopes to offer many of its personalized services. They are still working out details, but the luxury brand's spa director doesn't want to further deprive guests who were craving human contact even before the pandemic took hold.  \"If social touch becomes even more rare post-coronavirus, spas may provide a unique haven where people can experience touch in a clean and safe environment,\" said Jeremy McCarthy, the hotel group's director of spa and wellness.  It will require inspiring customer trust, he said.  Indeed.\n",
      "Sans malus\n"
     ]
    },
    {
     "data": {
      "text/html": [
       "<img src=\"https://api.afp.com/objects/api/medias?id=a1kkIS0nShZdXlcxVgJEXV1EQksZfHICeHRkHgYCBHICdh8BdAZ1aBUzUFpGWlcqUgNeRVUPTlFSeClUV1NEMlJjRSohD1pJKlUxNiFrWlVIW10rTUBRRlNDC0lfIX9iDgp4L3Y9XWU3XV1VeUU0LCctVVZCXR4gQV1dR1dDEAkAdHEaDAYDdQdyCHI%3D.jpg\"/>"
      ],
      "text/plain": [
       "<IPython.core.display.Image object>"
      ]
     },
     "metadata": {},
     "output_type": "display_data"
    },
    {
     "data": {
      "text/html": [
       "<img src=\"https://api.afp.com/objects/api/medias?id=a1kkIS0nShZdXlcxVgJEXV1EQksZd3ceFnNyEWh0ehVzeH4edQRzcWkXTFBOXVQqVkYaX0JXEltfIX9GQFxVMUQgFjYsVgxbPVogNTcjFFpBU1UgV1lZUEFRXh5HLCYQDnluKHx9dy9jQF5cIQkwMC0lUlVCWVNjXFVEXEBVXgUHc3MeDgcAcAN9B3d2.jpg\"/>"
      ],
      "text/plain": [
       "<IPython.core.display.Image object>"
      ]
     },
     "metadata": {},
     "output_type": "display_data"
    },
    {
     "data": {
      "text/html": [
       "<img src=\"https://api.afp.com/objects/api/medias?id=a1kkIS0nShZdXlcxVgJEXV1EQksZd3McFnNyEWh0exN9AmMedQRzcWkXTFBOXVQqVkYaX0JXEltfIX9GQFxVMUQgFjYsVgxbPVogNTcjFFpBU1UgV1lZUEFRXh5HLCYQUXNSNg51YHNjQF5cIQkwMC0lUlVCWVNjXFVEXEBVXgUHc3MeDgcAcQV3BXJz.jpg\"/>"
      ],
      "text/plain": [
       "<IPython.core.display.Image object>"
      ]
     },
     "metadata": {},
     "output_type": "display_data"
    },
    {
     "data": {
      "text/html": [
       "<img src=\"https://api.afp.com/objects/api/medias?id=a1kkIS0nShZdX1sxTF9RGkJYQkxZNm0dDh0MdhhwAmx3AAYfBXIRGnUKbQ50dxUUTERXXl5fQlMYLzJKBlFdJQouSS0kQkJVYkEoIXktQFdMRksgFE5YUF9VQ0xbIDFMShRFKFN4BicGQgkDHFZnNysqXARcQ1EmUkFbWlkWSEBGLDBISg8FdwZ2B3Z3AwYCcwR0.jpg\"/>"
      ],
      "text/plain": [
       "<IPython.core.display.Image object>"
      ]
     },
     "metadata": {},
     "output_type": "display_data"
    },
    {
     "data": {
      "text/html": [
       "<img src=\"https://api.afp.com/objects/api/medias?id=a1kkIS0nShZdX1sxTF9RGkJYQkxZNm0cAAMbcAJ8H3F2Bh4CdQZuBAIWZghgbw4ACwBlQFtTRlRZKikDU0JTflQsVH4uS19RNEckYzEvXQRGT1YkSV5RGFFcSFVTKzZAXEFVMhE0WSd4U2sAF2UWICVgS1ZBUwU0TERXXl5fQlMQIDpdUEBRMgp0BnJ2BQQCdAN4cnx3.jpg\"/>"
      ],
      "text/plain": [
       "<IPython.core.display.Image object>"
      ]
     },
     "metadata": {},
     "output_type": "display_data"
    },
    {
     "data": {
      "text/html": [
       "<img src=\"https://api.afp.com/objects/api/medias?id=a1kkIS0nShZdXlcxVgJEXV1EQksZdHoYFnNyEWh0eRB3AXMedQRzcWkXTFBOXVQqVkYaX0JXEltfIX9GQFxVMUQgFjYsVgxbPVogNTcjFFpBU1UgV1lZUEFRXh5HLCYQfUVaBkF8VA9jQF5cIQkwMC0lUlVCWVNjXFVEXEBVXgUHc3MeDgcAcgN9AnJ3.jpg\"/>"
      ],
      "text/plain": [
       "<IPython.core.display.Image object>"
      ]
     },
     "metadata": {},
     "output_type": "display_data"
    },
    {
     "name": "stdout",
     "output_type": "stream",
     "text": [
      "malus\n"
     ]
    },
    {
     "data": {
      "text/html": [
       "<img src=\"https://api.afp.com/objects/api/medias?id=a1kkIS0nShZdXlcxVgJEXV1EQksZcnACeHRkHgYPcXpycB8BdAZ1aBUzUFpGWlcqUgNeRVUPTlFSeClUV1NEMlJjRSohD1pJKlUxNiFrWlVIW10rTUBRRlNDC0lfIX9CcHAFF2IWVGU3XV1VeUU0LCctVVZCXR4gQV1dR1dDEAkAdHEaDAYGdgB3Bno%3D.jpg\"/>"
      ],
      "text/plain": [
       "<IPython.core.display.Image object>"
      ]
     },
     "metadata": {},
     "output_type": "display_data"
    },
    {
     "data": {
      "text/html": [
       "<img src=\"https://api.afp.com/objects/api/medias?id=a1kkIS0nShZdXlcxVgJEXV1EQksZdHUYFnNyEWh0egJ8BXIedQRzcWkXTFBOXVQqVkYaX0JXEltfIX9GQFxVMUQgFjYsVgxbPVogNTcjFFpBU1UgV1lZUEFRXh5HLCYQVnt2cGEQYydjQF5cIQkwMC0lUlVCWVNjXFVEXEBVXgUHc3MeDgcAcwByAnV0.jpg\"/>"
      ],
      "text/plain": [
       "<IPython.core.display.Image object>"
      ]
     },
     "metadata": {},
     "output_type": "display_data"
    },
    {
     "data": {
      "text/html": [
       "<img src=\"https://api.afp.com/objects/api/medias?id=a1kkIS0nShZdXlcxVgJEXV1EQksZfXICeHRkHgYPcnBwfh8BdAZ1aBUzUFpGWlcqUgNeRVUPTlFSeClUV1NEMlJjRSohD1pJKlUxNiFrWlVIW10rTUBRRlNDC0lfIX9pcgJkA3okAmU3XV1VeUU0LCctVVZCXR4gQV1dR1dDEAkAdHEaDAYGdgN0Bns%3D.jpg\"/>"
      ],
      "text/plain": [
       "<IPython.core.display.Image object>"
      ]
     },
     "metadata": {},
     "output_type": "display_data"
    },
    {
     "data": {
      "text/html": [
       "<img src=\"https://api.afp.com/objects/api/medias?id=a1kkIS0nShZdX1sxTF9RGkJYQkxZNm0cAAEbcAJyH3J8HQUBa3UHFRt3dAEadWloaFhdVllcQlddayhdXg1XKFN4WzorU0FDIRI0LCB7UkBDV0g2XABXWVddSFZCKCdeWEESMF4hDXUhcUEId2wjYzYpVVwQR00sWkZYWl1bC11ONStfXEEJcAF0A3RwAAAHdgZ2dw%3D%3D.jpg\"/>"
      ],
      "text/plain": [
       "<IPython.core.display.Image object>"
      ]
     },
     "metadata": {},
     "output_type": "display_data"
    },
    {
     "data": {
      "text/html": [
       "<img src=\"https://api.afp.com/objects/api/medias?id=a1kkIS0nShZdX1sxTF9RGkJYQkxZNm0cAAUbcAJ2H3JwHQIHa3UHFRt3dAEbZX9oaFhdVllcQlddayhdXg1XKFN4WzorU0FDIRI0LCB7UkBDV0g2XABXWVddSFZCKCdeWEESMF4hDXUhcUEId2wjYzYpVVwQR00sWkZYWl1bC11ONStfXEEJcAF0A3RwAAAHdgZ3cg%3D%3D.jpg\"/>"
      ],
      "text/plain": [
       "<IPython.core.display.Image object>"
      ]
     },
     "metadata": {},
     "output_type": "display_data"
    },
    {
     "data": {
      "text/html": [
       "<img src=\"https://api.afp.com/objects/api/medias?id=a1kkIS0nShZdX1sxTF9RGkJYQkxZNm0fCgAbdw5qAXtyHQMAfRsAAxQZCHd9D2EUFHxBXFFbQVdZLmxHSVULIl4hDSg8XFBAN1FnMC0iBFJUWFk1SkgZVl5VQF1YMS9ISlNHZ0YsVH4WalRRDlo3N2I0VlVIC0kwUE5fWV1fRh5TPTJES1dHfAZzAXByBwAJcwJ2cXU%3D.jpg\"/>"
      ],
      "text/plain": [
       "<IPython.core.display.Image object>"
      ]
     },
     "metadata": {},
     "output_type": "display_data"
    },
    {
     "name": "stdout",
     "output_type": "stream",
     "text": [
      "19 \n",
      " (CNN) How many of us have our best ideas on the toilet?  No really, it can happen. Take Zuraina Zaharin from Malaysia. She's built a business off the back of a loo break. Not just any loo break, of course. This one was near Everest in the early 2000s when she was climbing in the region -- and it was pretty bleak.  \"I was facing this problem: the toilet,\" she explains. \"It's easy for men to do their business; they can just do it anywhere. But not for the ladies. We have to wait until we find some nice spot. Even then, I can't do it. I just have to find the toilet.\"  Things didn't improve upon discovering the facilities, however. \"The last toilet at Everest base camp is a pit latrine,\" Zaharin continues. \"The smell, God knows... it's so stinky.\"  Zaharin had traveled to the Himalayas, only to encounter \"a mountain of poop.\"  Read More\n",
      "Sans malus\n"
     ]
    },
    {
     "data": {
      "text/html": [
       "<img src=\"https://api.afp.com/objects/api/medias?id=a1kkIS0nShZdXlcxVgJEXV1EQksZd3IUFnNyEWh0eHd8ZGEedQRzcWkXTFBOXVQqVkYaX0JXEltfIX9GQFxVMUQgFjYsVgxbPVogNTcjFFpBU1UgV1lZUEFRXh5HLCYQdmR4E38wYwJjQF5cIQkwMC0lUlVCWVNjXFVEXEBVXgUHc3MeDgcAdAB3B3px.jpg\"/>"
      ],
      "text/plain": [
       "<IPython.core.display.Image object>"
      ]
     },
     "metadata": {},
     "output_type": "display_data"
    },
    {
     "data": {
      "text/html": [
       "<img src=\"https://api.afp.com/objects/api/medias?id=a1kkIS0nShZdXlcxVgJEXV1EQksZd3MYFnNyEWh0eHV2a2sedQRzcWkXTFBOXVQqVkYaX0JXEltfIX9GQFxVMUQgFjYsVgxbPVogNTcjFFpBU1UgV1lZUEFRXh5HLCYQUkVWIm0BVQ1jQF5cIQkwMC0lUlVCWVNjXFVEXEBVXgUHc3MeDgcAdAFyCHB8.jpg\"/>"
      ],
      "text/plain": [
       "<IPython.core.display.Image object>"
      ]
     },
     "metadata": {},
     "output_type": "display_data"
    },
    {
     "data": {
      "text/html": [
       "<img src=\"https://api.afp.com/objects/api/medias?id=a1kkIS0nShZdXlcxVgJEXV1EQksZdXsCeHRkHgYJZXIfeB8BdAZ1aBUzUFpGWlcqUgNeRVUPTlFSeClUV1NEMlJjRSohD1pJKlUxNiFrWlVIW10rTUBRRlNDC0lfIX9KU2FjFWI3CGU3XV1VeUU0LCctVVZCXR4gQV1dR1dDEAkAdHEaDAAGcAd0Bns%3D.jpg\"/>"
      ],
      "text/plain": [
       "<IPython.core.display.Image object>"
      ]
     },
     "metadata": {},
     "output_type": "display_data"
    },
    {
     "data": {
      "text/html": [
       "<img src=\"https://api.afp.com/objects/api/medias?id=a1kkIS0nShZdXlcxVgJEXV1EQksZcnYCeHRkHgYNBnAAYR8BdAZ1aBUzUFpGWlcqUgNeRVUPTlFSeClUV1NEMlJjRSohD1pJKlUxNiFrWlVIW10rTUBRRlNDC0lfIX9GTlBXG3MgfmU3XV1VeUU0LCctVVZCXR4gQV1dR1dDEAkAdHEaDAYBdwB9A3Y%3D.jpg\"/>"
      ],
      "text/plain": [
       "<IPython.core.display.Image object>"
      ]
     },
     "metadata": {},
     "output_type": "display_data"
    },
    {
     "data": {
      "text/html": [
       "<img src=\"https://api.afp.com/objects/api/medias?id=a1kkIS0nShZdXlcxVgJEXV1EQksZcHYCeHRkHgYNBnAQZh8BdAZ1aBUzUFpGWlcqUgNeRVUPTlFSeClUV1NEMlJjRSohD1pJKlUxNiFrWlVIW10rTUBRRlNDC0lfIX9GTlBXG3MgfmU3XV1VeUU0LCctVVZCXR4gQV1dR1dDEAkAdHEaDAYBdwB9A3Q%3D.jpg\"/>"
      ],
      "text/plain": [
       "<IPython.core.display.Image object>"
      ]
     },
     "metadata": {},
     "output_type": "display_data"
    },
    {
     "data": {
      "text/html": [
       "<img src=\"https://api.afp.com/objects/api/medias?id=a1kkIS0nShZdXlcxVgJEXV1EQksZdHUYFnNyEWh0eHV2d3wedQRzcWkXTFBOXVQqVkYaX0JXEltfIX9GQFxVMUQgFjYsVgxbPVogNTcjFFpBU1UgV1lZUEFRXh5HLCYQUkVWIm0BVQ1jQF5cIQkwMC0lUlVCWVNjXFVEXEBVXgUHc3MeDgcAdAFyCHB2.jpg\"/>"
      ],
      "text/plain": [
       "<IPython.core.display.Image object>"
      ]
     },
     "metadata": {},
     "output_type": "display_data"
    },
    {
     "name": "stdout",
     "output_type": "stream",
     "text": [
      "malus\n"
     ]
    },
    {
     "data": {
      "text/html": [
       "<img src=\"https://api.afp.com/objects/api/medias?id=a1kkIS0nShZdXlcxVgJEXV1EQksZdnQCeHRkHgYDenEGdB8BdAZ1aBUzUFpGWlcqUgNeRVUPTlFSeClUV1NEMlJjRSohD1pJKlUxNiFrWlVIW10rTUBRRlNDC0lfIX9IWnYHdFoiWGU3XV1VeUU0LCctVVZCXR4gQV1dR1dDEAkAdHEaDAYMdAF0AXs%3D.jpg\"/>"
      ],
      "text/plain": [
       "<IPython.core.display.Image object>"
      ]
     },
     "metadata": {},
     "output_type": "display_data"
    },
    {
     "data": {
      "text/html": [
       "<img src=\"https://api.afp.com/objects/api/medias?id=a1kkIS0nShZdXlcxVgJEXV1EQksZc3YCeHRkHgYDenEcCx8BdAZ1aBUzUFpGWlcqUgNeRVUPTlFSeClUV1NEMlJjRSohD1pJKlUxNiFrWlVIW10rTUBRRlNDC0lfIX9IWnYHdFoiWGU3XV1VeUU0LCctVVZCXR4gQV1dR1dDEAkAdHEaDAYMdAF0AHo%3D.jpg\"/>"
      ],
      "text/plain": [
       "<IPython.core.display.Image object>"
      ]
     },
     "metadata": {},
     "output_type": "display_data"
    },
    {
     "data": {
      "text/html": [
       "<img src=\"https://api.afp.com/objects/api/medias?id=a1kkIS0nShZdXlcxVgJEXV1EQksZdHACeHRkHgYJeXMNZR8BdAZ1aBUzUFpGWlcqUgNeRVUPTlFSeClUV1NEMlJjRSohD1pJKlUxNiFrWlVIW10rTUBRRlNDC0lfIX8bTmcGFGMkCWU3XV1VeUU0LCctVVZCXR4gQV1dR1dDEAkAdHEaDAENdA9wCHM%3D.jpg\"/>"
      ],
      "text/plain": [
       "<IPython.core.display.Image object>"
      ]
     },
     "metadata": {},
     "output_type": "display_data"
    },
    {
     "data": {
      "text/html": [
       "<img src=\"https://api.afp.com/objects/api/medias?id=a1kkIS0nShZdXlcxVgJEXV1EQksZd3EaFnNyEWh0fAp1dWEedQRzcWkXTFBOXVQqVkYaX0JXEltfIX9GQFxVMUQgFjYsVgxbPVogNTcjFFpBU1UgV1lZUEFRXh5HLCYQD0Vhc2IRUXpjQF5cIQkwMC0lUlVCWVNjXFVEXEBVXgUHc3MeDgcHeAJ9BXRy.jpg\"/>"
      ],
      "text/plain": [
       "<IPython.core.display.Image object>"
      ]
     },
     "metadata": {},
     "output_type": "display_data"
    },
    {
     "data": {
      "text/html": [
       "<img src=\"https://api.afp.com/objects/api/medias?id=a1kkIS0nShZdXlcxVgJEXV1EQksZdHQCeHRkHgYJeXMXdB8BdAZ1aBUzUFpGWlcqUgNeRVUPTlFSeClUV1NEMlJjRSohD1pJKlUxNiFrWlVIW10rTUBRRlNDC0lfIX8bTmcGFGMkCWU3XV1VeUU0LCctVVZCXR4gQV1dR1dDEAkAdHEaDAENdA9wBXY%3D.jpg\"/>"
      ],
      "text/plain": [
       "<IPython.core.display.Image object>"
      ]
     },
     "metadata": {},
     "output_type": "display_data"
    },
    {
     "data": {
      "text/html": [
       "<img src=\"https://api.afp.com/objects/api/medias?id=a1kkIS0nShZdXlcxVgJEXV1EQksZd3cZFnNyEWh0fAp1amMedQRzcWkXTFBOXVQqVkYaX0JXEltfIX9GQFxVMUQgFjYsVgxbPVogNTcjFFpBU1UgV1lZUEFRXh5HLCYQD0Vhc2IRUXpjQF5cIQkwMC0lUlVCWVNjXFVEXEBVXgUHc3MeDgcHeAJ9BHN1.jpg\"/>"
      ],
      "text/plain": [
       "<IPython.core.display.Image object>"
      ]
     },
     "metadata": {},
     "output_type": "display_data"
    },
    {
     "name": "stdout",
     "output_type": "stream",
     "text": [
      "23 \n",
      " (CNN) For Mark Quale, an emergency room physician in Burlington, North Carolina, coming home after a long day at the hospital was as stressful as work itself. With two young boys, a wife and elderly mother-in-law at home, he knew that if he wasn't cautious, he could spread the novel coronavirus to his own family.  So just as he arrived home from work, he would strip off his scrubs on the front porch, walk the specific route to his bathroom that was cordoned off by a tarp and wash all the germs off in the shower.  But today, Quale's mind is more at peace because he's able to isolate himself in a 31-foot travel trailer, and it's all thanks to a Facebook group called RVs 4 MDs , which matches health care workers to local RV owners.  It started with a Facebook post  From an ICU nurse in Twin Cities, Minnesota, to an ER doctor in Lynchburg, Virginia, RVs 4 MDs has matched dozens of health care workers with RVs, trailers and campers in their area. The Facebook group has already racked up nearly 3,000 members, an incredible number given the fact that the group was created just one week ago.  Emily Phillips, her husband, Dr. Jason Phillips and their son, Beau. Emily started RVs for MDs to help connect health care workers with RVs so they could stay self-isolate while staying near their homes.  Last Monday, Emily Phillips, a mother of three from Celina, Texas, had posted on her Facebook asking if anybody had an RV her family could borrow as her husband was an ER doctor in the Dallas-Fort Worth area. A woman named Holly Haggard replied saying that Phillips could borrow hers.  \"Before the RV, I was a nervous wreck. Every time my husband walked in the door or put his hand on something, I thought we were going to get (Covid-19), including my baby,\" Phillips said. \"But now that he's in that RV, I'm back to my life, focused on my full-time job and my kids, and it's completely changed our situation.\"  Knowing that there were countless other families in similar situations as hers, Phillips took on Haggard as her business partner and the two created RVs 4 MDs, which went live last Tuesday night.  In a matter of one week, the two Texan moms have built the simple Facebook group into a robust volunteer organization, complete with a board of directors and network of volunteers spanning across the nation.  Kindness from complete strangers  Quale and his family were one of the first to be matched with an RV from a pair of kind strangers named Kelsey and Tim Webb. The two families had never met before, but Tim drove his trailer for 2.5 hours to Quale's home, gave Quale's wife, LaRayne, the keys and told her that they could use it for as long as they needed.  Tim Webb drove 2.5 hours to temporarily donate his travel trailer to LaRayne Quale (right).  \"It was such an emotional thing to go through and to have someone offer up their RV completely for free, I felt so blessed,\" LaRayne, who now volunteers with RVs 4 MDs said. \"I asked if they wanted us to cover the insurance, but they wanted nothing... They said that they are praying for us and rooting for us.\"  Kelsey, who normally makes money by renting out the trailer, said donating it to the Quales was a \"no-brainer.\"  \"This family was in need and this was the one way we could help,\" Kelsey told CNN. \"You can't put a price tag on this... It just makes my heart happy that we're able to do this for them and give them peace of mind.\"  Quale said he was extremely proud of his fellow health care workers on the front lines of this pandemic, but he added that this virus isn't something that can be defeated by the medical professionals alone.  \"(RVs 4 MDs) demonstrates that there is so much more to fighting the coronavirus than what happens at the hospital. There are layers upon layers of people fighting this in different ways. The reason I'm able to fight this right now is because of my wife and the work that these people are doing so we can focus on the medical portion and not have to worry about the rest,\" Quale said.  More volunteers are needed  Every hour, there are new posts on the Facebook page from spouses and family members looking to be matched with an RV.  \"Looking for an RV in Grapevine Texas. Wife is camping out on the apt patio,\" one post reads.  \"ER Doc in Rochester NY has been living in the garage for 3 weeks to protect our 3 kids and me,\" another post reads.  But with each new request, there's an equal amount of posts from RV owners saying that they want to help.  \"I have never seen anything like this in my entire life,\" Phillips said. \"The amount of people that are stepping up to help with a project where they aren't even getting a dime in return is unbelievable.\"  Dr. Jason Phillips (left) and Dr. Craig Reese Brockman with a donated camper that Brockman will use to prevent the risk of passing along the coronavirus to his family.  To keep up with this project that has spread like wildfire, Phillips has recruited the help of attorneys, people in insurance and IT, but what she needs the most right now are more volunteers, she said.  \"We need more volunteers to head up the different states,\" Phillips said. \"A lot of people are out there with nothing to do. Well, we got something to do and it can really help a lot.\"  Phillips and her team hope to expand the program into Canada, set up an official website, and even keep it going after the coronavirus crisis is over.  \"We're going to keep it running until there's not one person left on the planet that needs an RV or needs shelter,\" Phillips said. \"Whether it's a storm or whatever the case is, we'll have this organization for the next crisis because there's always going to be a need for shelter.\"\n",
      "Sans malus\n"
     ]
    },
    {
     "data": {
      "text/html": [
       "<img src=\"https://api.afp.com/objects/api/medias?id=a1kkIS0nShZdX1sxTF9RGkJYQkxZNm0fDQAbdg5qAXpyHQMBfRsAAxQZCHd9D2ENFHxBXFFbQVdZLmxHSVULIl4hDSg8XFBAN1FnMC0iBFJUWFk1SkgZVl5VQF1YMS9ISlNHZ0YsVH4WalRRDlo3N2I0VlVIC0kwUE5fWV1fRh5TPTJES1dHfAZzAXByBwAJcwJ2cXQ%3D.jpg\"/>"
      ],
      "text/plain": [
       "<IPython.core.display.Image object>"
      ]
     },
     "metadata": {},
     "output_type": "display_data"
    },
    {
     "data": {
      "text/html": [
       "<img src=\"https://api.afp.com/objects/api/medias?id=a1kkIS0nShZdX1sxTF9RGkJYQkxZNm0fDQAbdg5qAXpyHQMBfRsAAxQZCHd9D2kcFHxBXFFbQVdZLmxHSVULIl4hDSg8XFBAN1FnMC0iBFJUWFk1SkgZVl5VQF1YMS9ISlNHZ0YsVH4WalRRDlo3N2I0VlVIC0kwUE5fWV1fRh5TPTJES1dHfAZzAXByBwAJcwJ2dnM%3D.jpg\"/>"
      ],
      "text/plain": [
       "<IPython.core.display.Image object>"
      ]
     },
     "metadata": {},
     "output_type": "display_data"
    },
    {
     "data": {
      "text/html": [
       "<img src=\"https://api.afp.com/objects/api/medias?id=a1kkIS0nShZdXlcxVgJEXV1EQksZcHACeHRkHgYNYnoNCx8BdAZ1aBUzUFpGWlcqUgNeRVUPTlFSeClUV1NEMlJjRSohD1pJKlUxNiFrWlVIW10rTUBRRlNDC0lfIX96DGJ1LGI2amU3XV1VeUU0LCctVVZCXR4gQV1dR1dDEAkAdHEaDAYAdgd1AXc%3D.jpg\"/>"
      ],
      "text/plain": [
       "<IPython.core.display.Image object>"
      ]
     },
     "metadata": {},
     "output_type": "display_data"
    },
    {
     "data": {
      "text/html": [
       "<img src=\"https://api.afp.com/objects/api/medias?id=a1kkIS0nShZdXlcxVgJEXV1EQksZd3McFnNyEWh0dnt9YGkedQRzcWkXTFBOXVQqVkYaX0JXEltfIX9GQFxVMUQgFjYsVgxbPVogNTcjFFpBU1UgV1lZUEFRXh5HLCYQcHcNImV8YydjQF5cIQkwMC0lUlVCWVNjXFVEXEBVXgUHc3MeDgcAeAN3AHp8.jpg\"/>"
      ],
      "text/plain": [
       "<IPython.core.display.Image object>"
      ]
     },
     "metadata": {},
     "output_type": "display_data"
    },
    {
     "data": {
      "text/html": [
       "<img src=\"https://api.afp.com/objects/api/medias?id=a1kkIS0nShZdXlcxVgJEXV1EQksZd3YaFnNyEWh0dwhxd2YedQRzcWkXTFBOXVQqVkYaX0JXEltfIX9GQFxVMUQgFjYsVgxbPVogNTcjFFpBU1UgV1lZUEFRXh5HLCYQTH5mMkJyUidjQF5cIQkwMC0lUlVCWVNjXFVEXEBVXgUHc3MeDgcAdwN2Anty.jpg\"/>"
      ],
      "text/plain": [
       "<IPython.core.display.Image object>"
      ]
     },
     "metadata": {},
     "output_type": "display_data"
    },
    {
     "data": {
      "text/html": [
       "<img src=\"https://api.afp.com/objects/api/medias?id=a1kkIS0nShZdXlcxVgJEXV1EQksZdXcCeHRkHgYCe3cUYB8BdAZ1aBUzUFpGWlcqUgNeRVUPTlFSeClUV1NEMlJjRSohD1pJKlUxNiFrWlVIW10rTUBRRlNDC0lfIX9YdWBHNAAnVGU3XV1VeUU0LCctVVZCXR4gQV1dR1dDEAkAdHEaDAYCdQR3B3U%3D.jpg\"/>"
      ],
      "text/plain": [
       "<IPython.core.display.Image object>"
      ]
     },
     "metadata": {},
     "output_type": "display_data"
    },
    {
     "name": "stdout",
     "output_type": "stream",
     "text": [
      "malus\n"
     ]
    },
    {
     "data": {
      "text/html": [
       "<img src=\"https://api.afp.com/objects/api/medias?id=a1kkIS0nShZdX1sxTF9RGkJYQkxZNm0fDQAbdg5qAXpyHQMBfRsAAxQZCHd9D2ENFHxBXFFbQVdZLmxHSVULIl4hDSg8XFBAN1FnMC0iBFJUWFk1SkgZVl5VQF1YMS9ISlNHZ0YsVH4WalRRDlo3N2I0VlVIC0kwUE5fWV1fRh5TPTJES1dHfAZzAXByBwAJcwJ2cXQ%3D.jpg\"/>"
      ],
      "text/plain": [
       "<IPython.core.display.Image object>"
      ]
     },
     "metadata": {},
     "output_type": "display_data"
    },
    {
     "data": {
      "text/html": [
       "<img src=\"https://api.afp.com/objects/api/medias?id=a1kkIS0nShZdX1sxTF9RGkJYQkxZNm0fDQAbdg5qAXpyHQMBfRsAAxQZCHd9D2kcFHxBXFFbQVdZLmxHSVULIl4hDSg8XFBAN1FnMC0iBFJUWFk1SkgZVl5VQF1YMS9ISlNHZ0YsVH4WalRRDlo3N2I0VlVIC0kwUE5fWV1fRh5TPTJES1dHfAZzAXByBwAJcwJ2dnM%3D.jpg\"/>"
      ],
      "text/plain": [
       "<IPython.core.display.Image object>"
      ]
     },
     "metadata": {},
     "output_type": "display_data"
    },
    {
     "data": {
      "text/html": [
       "<img src=\"https://api.afp.com/objects/api/medias?id=a1kkIS0nShZdX1sxTF9RGkJYQkxZNm0cCwIbcwZ2H3RwHQAFfBsAAxQZCHYYAXZzFHxBXFFbQVdZLmxHSVULIl4hDSg8XFBAN1FnMC0iBFJUWFk1SkgZVl5VQF1YMS9ISlNHZ0YsVH52alpBKHUZK2I0VlVIC0kwUE5fWV1fRh5TPTJES1dHfAZzAXByBwAJcgZ4cH0%3D.jpg\"/>"
      ],
      "text/plain": [
       "<IPython.core.display.Image object>"
      ]
     },
     "metadata": {},
     "output_type": "display_data"
    },
    {
     "data": {
      "text/html": [
       "<img src=\"https://api.afp.com/objects/api/medias?id=a1kkIS0nShZdXlcxVgJEXV1EQksZdnQCeHRkHgYDenEGdB8BdAZ1aBUzUFpGWlcqUgNeRVUPTlFSeClUV1NEMlJjRSohD1pJKlUxNiFrWlVIW10rTUBRRlNDC0lfIX9IWnYHdFoiWGU3XV1VeUU0LCctVVZCXR4gQV1dR1dDEAkAdHEaDAYMdAF0AXs%3D.jpg\"/>"
      ],
      "text/plain": [
       "<IPython.core.display.Image object>"
      ]
     },
     "metadata": {},
     "output_type": "display_data"
    },
    {
     "data": {
      "text/html": [
       "<img src=\"https://api.afp.com/objects/api/medias?id=a1kkIS0nShZdXlcxVgJEXV1EQksZc3YCeHRkHgYDenEcCx8BdAZ1aBUzUFpGWlcqUgNeRVUPTlFSeClUV1NEMlJjRSohD1pJKlUxNiFrWlVIW10rTUBRRlNDC0lfIX9IWnYHdFoiWGU3XV1VeUU0LCctVVZCXR4gQV1dR1dDEAkAdHEaDAYMdAF0AHo%3D.jpg\"/>"
      ],
      "text/plain": [
       "<IPython.core.display.Image object>"
      ]
     },
     "metadata": {},
     "output_type": "display_data"
    },
    {
     "data": {
      "text/html": [
       "<img src=\"https://api.afp.com/objects/api/medias?id=a1kkIS0nShZdXlcxVgJEXV1EQksZdHACeHRkHgYJeXMNZR8BdAZ1aBUzUFpGWlcqUgNeRVUPTlFSeClUV1NEMlJjRSohD1pJKlUxNiFrWlVIW10rTUBRRlNDC0lfIX8bTmcGFGMkCWU3XV1VeUU0LCctVVZCXR4gQV1dR1dDEAkAdHEaDAENdA9wCHM%3D.jpg\"/>"
      ],
      "text/plain": [
       "<IPython.core.display.Image object>"
      ]
     },
     "metadata": {},
     "output_type": "display_data"
    },
    {
     "name": "stdout",
     "output_type": "stream",
     "text": [
      "26 \n",
      " A version of this story appeared in the May 8 edition of CNN's Coronavirus: Fact vs. Fiction newsletter. Sign up here to receive the need-to-know headlines every weekday  (CNN) More devastating unemployment data expected today will pour fuel on President Donald Trump's argument that the US economy cannot stay closed much longer.  But in his haste to convince states to return to normal life, the President appears to be turning a blind eye to warnings that reopening too quickly -- and without the right precautions in place -- could leave more Americans dead.  Yesterday, the White House rejected a new Centers for Disease Control and Prevention (CDC) report on how to reopen the country, as US jobless claims hit 33.3 million and the death toll from the coronavirus outbreak passed 75,000.  The document, which included step-by-step guidance on how and when local authorities should allow businesses to open doors and life to resume, was criticized as \"too prescriptive,\" sources told CNN.  Americans are concerned that lifting lockdowns right now will lead to a \"second wave\" of the virus. More than two-thirds of the nation — 68% — are worried about their respective states being reopened prematurely, according to a new poll from Pew Research Center  That fear has been echoed by former US Vice President Al Gore , who slammed the Trump administration's handling of the crisis, saying this about what could come next: \"I think we are seeing the start of a botched reopening.\"  YOU ASKED. WE ANSWERED  Q: Are things getting better or worse in the US?  A: A total of 44 US states are expected to partially reopen by Sunday — nearly the entire country. But the coronavirus crisis isn't getting better everywhere. There are signs of improvement in 16 states — but the situation is deteriorating in many more. Things are getting better in states like Montana, New York, and Colorado, where some schools are starting to reopen as new daily cases plateau or drop. But things are getting worse in places like Minnesota and Puerto Rico, where cases were up 50% between last week and the week before. Only a few states -- like California and Florida -- are holding steady. Take a look at our US Covid-19 tracking map.  Send your questions here . Are you a health care worker fighting Covid-19? Message us on WhatsApp about the challenges you're facing: +1 347-322-0415.  WHAT'S IMPORTANT TODAY  Trump to be tested daily  Trump and Vice President Mike Pence, as well as members of the White House staff, will be tested daily for the coronavirus after a military official identified as the President's personal valet was infected . A White House spokesperson said Trump and Pence had both tested negative for the virus since their exposure.  Meanwhile, the rollout of millions of antibody tests in the US has created frustration and division among state health departments due to a mix of questionable tests, shifting federal rules and a hodgepodge of different methods for tracking results. Despite public health experts advising that accurate testing and coordinated tracking of that data will help get Americans back to work, the Trump administration has left plans up to the states — now they're split on what to do.  Crisis mounts in Latin America  More than a month after Flavio Ramos' death, his family still hasn't buried him. They couldn't if they tried, because soon after his death, his son says hospital authorities lost the body. His disappearance illustrates how the healthcare system in Ecuador's second-largest city , roughly the size of Chicago, collapsed within a matter of weeks after the outbreak exploded in March.  And, in the same week that President Jair Bolsonaro declared that \"the worst had passed,\" Brazil has seen a surge in deaths — cases have spiked to more than 135,000, making it a global hotspot. Bolsonaro's own spokesman has tested positive too. Now, the nation's health ministry is admitting that stricter lockdowns may be necessary for the hardest-hit regions.  Australia's 3-step plan to reopen economy  Australia's Prime Minister has outlined a three-part plan for relaxing restrictions, which the country will take to achieve a \"Covid-safe economy in July of this year.\" But the final decision about easing lockdowns remains in the hands of state governments.  Virus could kill up to 190,000 in Africa  The coronavirus could kill as many as 190,000 people in Africa over the next 12 months, but is expected to \"smolder\" for years, the World Health Organization has warned. A study predicts that between 29 and 44 million people could become infected in the first year of the pandemic, if containment measures fail.  A recent survey of health services found an average of nine intensive care unit beds per 1 million people in 47 African countries, which the WHO called \"woefully inadequate.\"  \"Plandemic\" conspiracy video scrubbed  Social media companies, including Facebook and YouTube, say they will remove a viral video that made false medical claims about the coronavirus. \"Suggesting that wearing a mask can make you sick could lead to imminent harm, so we're removing the video,\" a Facebook spokesperson said  ON OUR RADAR  Socially distant diners at Mediamatic ETEN.  TOP TIPS  \"Think about yourself as a SWAT team member. Get in, get out, leave as little trace of yourself as possible.\" These aren't tips for a covert mission, but a trip to the grocery store. CNN Chief Medical Correspondent Dr. Sanjay Gupta has this advice for shopping safely during the pandemic: The key is to plan ahead — write a list! Next, make your visit as short as reasonably possible. You need to be efficient in the store and think about every surface you might touch. You do not want to dilly-dally. Try to limit your contact with items you aren't purchasing. Watch Dr. Gupta do his family's weekly shop  TODAY'S PODCAST  \" In the fall, if kids can't go back to school, if they have to learn online, I think that's going to really impact this whole generation.\" — Laurie Abrams, a special education teacher in New York\n",
      "Sans malus\n"
     ]
    },
    {
     "data": {
      "text/html": [
       "<img src=\"https://api.afp.com/objects/api/medias?id=a1kkIS0nShZdXlcxVgJEXV1EQksZcnQCeHRkHgYDfXYBAh8BdAZ1aBUzUFpGWlcqUgNeRVUPTlFSeClUV1NEMlJjRSohD1pJKlUxNiFrWlVIW10rTUBRRlNDC0lfIX98d0J6dQcsZGU3XV1VeUU0LCctVVZCXR4gQV1dR1dDEAkAdHEaDAYMcg5wBHo%3D.jpg\"/>"
      ],
      "text/plain": [
       "<IPython.core.display.Image object>"
      ]
     },
     "metadata": {},
     "output_type": "display_data"
    },
    {
     "data": {
      "text/html": [
       "<img src=\"https://api.afp.com/objects/api/medias?id=a1kkIS0nShZdXlcxVgJEXV1EQksZdHEaFnNyEWh0dndyeAMedQRzcWkXTFBOXVQqVkYaX0JXEltfIX9GQFxVMUQgFjYsVgxbPVogNTcjFFpBU1UgV1lZUEFRXh5HLCYQVnNgcmI0XzNjQF5cIQkwMC0lUlVCWVNjXFVEXEBVXgUHc3MeDgcAeAJ9AHNx.jpg\"/>"
      ],
      "text/plain": [
       "<IPython.core.display.Image object>"
      ]
     },
     "metadata": {},
     "output_type": "display_data"
    },
    {
     "data": {
      "text/html": [
       "<img src=\"https://api.afp.com/objects/api/medias?id=a1kkIS0nShZdXlcxVgJEXV1EQksZcnYCeHRkHgYOeHJwYh8BdAZ1aBUzUFpGWlcqUgNeRVUPTlFSeClUV1NEMlJjRSohD1pJKlUxNiFrWlVIW10rTUBRRlNDC0lfIX9FeFRDeAcVAGU3XV1VeUU0LCctVVZCXR4gQV1dR1dDEAkAdHEaDAYEcwR1AXE%3D.jpg\"/>"
      ],
      "text/plain": [
       "<IPython.core.display.Image object>"
      ]
     },
     "metadata": {},
     "output_type": "display_data"
    },
    {
     "data": {
      "text/html": [
       "<img src=\"https://api.afp.com/objects/api/medias?id=a1kkIS0nShZdXlcxVgJEXV1EQksZdHAeFnNyEWh0dnZ1A3sedQRzcWkXTFBOXVQqVkYaX0JXEltfIX9GQFxVMUQgFjYsVgxbPVogNTcjFFpBU1UgV1lZUEFRXh5HLCYQVnNgcmI0XzNjQF5cIQkwMC0lUlVCWVNjXFVEXEBVXgUHc3MeDgcAeAJyBHZz.jpg\"/>"
      ],
      "text/plain": [
       "<IPython.core.display.Image object>"
      ]
     },
     "metadata": {},
     "output_type": "display_data"
    },
    {
     "data": {
      "text/html": [
       "<img src=\"https://api.afp.com/objects/api/medias?id=a1kkIS0nShZdXlcxVgJEXV1EQksZdHMUFnNyEWh0dnZ1A3YedQRzcWkXTFBOXVQqVkYaX0JXEltfIX9GQFxVMUQgFjYsVgxbPVogNTcjFFpBU1UgV1lZUEFRXh5HLCYQVnNgcmI0XzNjQF5cIQkwMC0lUlVCWVNjXFVEXEBVXgUHc3MeDgcAeAJyBHZ3.jpg\"/>"
      ],
      "text/plain": [
       "<IPython.core.display.Image object>"
      ]
     },
     "metadata": {},
     "output_type": "display_data"
    },
    {
     "data": {
      "text/html": [
       "<img src=\"https://api.afp.com/objects/api/medias?id=a1kkIS0nShZdXlcxVgJEXV1EQksZdHAUFnNyEWh0egt9AwUedQRzcWkXTFBOXVQqVkYaX0JXEltfIX9GQFxVMUQgFjYsVgxbPVogNTcjFFpBU1UgV1lZUEFRXh5HLCYQcVwHM0YxQRBjQF5cIQkwMC0lUlVCWVNjXFVEXEBVXgUHc3MeDgcAcwZwAnZx.jpg\"/>"
      ],
      "text/plain": [
       "<IPython.core.display.Image object>"
      ]
     },
     "metadata": {},
     "output_type": "display_data"
    },
    {
     "name": "stdout",
     "output_type": "stream",
     "text": [
      "malus\n"
     ]
    },
    {
     "data": {
      "text/html": [
       "<img src=\"https://api.afp.com/objects/api/medias?id=a1kkIS0nShZdXlcxVgJEXV1EQksZcnQCeHRkHgYDfXYBAh8BdAZ1aBUzUFpGWlcqUgNeRVUPTlFSeClUV1NEMlJjRSohD1pJKlUxNiFrWlVIW10rTUBRRlNDC0lfIX98d0J6dQcsZGU3XV1VeUU0LCctVVZCXR4gQV1dR1dDEAkAdHEaDAYMcg5wBHo%3D.jpg\"/>"
      ],
      "text/plain": [
       "<IPython.core.display.Image object>"
      ]
     },
     "metadata": {},
     "output_type": "display_data"
    },
    {
     "data": {
      "text/html": [
       "<img src=\"https://api.afp.com/objects/api/medias?id=a1kkIS0nShZdXlcxVgJEXV1EQksZdHAeFnNyEWh0dnZ1A3sedQRzcWkXTFBOXVQqVkYaX0JXEltfIX9GQFxVMUQgFjYsVgxbPVogNTcjFFpBU1UgV1lZUEFRXh5HLCYQVnNgcmI0XzNjQF5cIQkwMC0lUlVCWVNjXFVEXEBVXgUHc3MeDgcAeAJyBHZz.jpg\"/>"
      ],
      "text/plain": [
       "<IPython.core.display.Image object>"
      ]
     },
     "metadata": {},
     "output_type": "display_data"
    },
    {
     "data": {
      "text/html": [
       "<img src=\"https://api.afp.com/objects/api/medias?id=a1kkIS0nShZdXlcxVgJEXV1EQksZdHMUFnNyEWh0dnZ1A3YedQRzcWkXTFBOXVQqVkYaX0JXEltfIX9GQFxVMUQgFjYsVgxbPVogNTcjFFpBU1UgV1lZUEFRXh5HLCYQVnNgcmI0XzNjQF5cIQkwMC0lUlVCWVNjXFVEXEBVXgUHc3MeDgcAeAJyBHZ3.jpg\"/>"
      ],
      "text/plain": [
       "<IPython.core.display.Image object>"
      ]
     },
     "metadata": {},
     "output_type": "display_data"
    },
    {
     "data": {
      "text/html": [
       "<img src=\"https://api.afp.com/objects/api/medias?id=a1kkIS0nShZdXlcxVgJEXV1EQksZdHEaFnNyEWh0dndyeAMedQRzcWkXTFBOXVQqVkYaX0JXEltfIX9GQFxVMUQgFjYsVgxbPVogNTcjFFpBU1UgV1lZUEFRXh5HLCYQVnNgcmI0XzNjQF5cIQkwMC0lUlVCWVNjXFVEXEBVXgUHc3MeDgcAeAJ9AHNx.jpg\"/>"
      ],
      "text/plain": [
       "<IPython.core.display.Image object>"
      ]
     },
     "metadata": {},
     "output_type": "display_data"
    },
    {
     "data": {
      "text/html": [
       "<img src=\"https://api.afp.com/objects/api/medias?id=a1kkIS0nShZdXlcxVgJEXV1EQksZcnYCeHRkHgYOeHJwYh8BdAZ1aBUzUFpGWlcqUgNeRVUPTlFSeClUV1NEMlJjRSohD1pJKlUxNiFrWlVIW10rTUBRRlNDC0lfIX9FeFRDeAcVAGU3XV1VeUU0LCctVVZCXR4gQV1dR1dDEAkAdHEaDAYEcwR1AXE%3D.jpg\"/>"
      ],
      "text/plain": [
       "<IPython.core.display.Image object>"
      ]
     },
     "metadata": {},
     "output_type": "display_data"
    },
    {
     "data": {
      "text/html": [
       "<img src=\"https://api.afp.com/objects/api/medias?id=a1kkIS0nShZdXlcxVgJEXV1EQksZdHAUFnNyEWh0egt9AwUedQRzcWkXTFBOXVQqVkYaX0JXEltfIX9GQFxVMUQgFjYsVgxbPVogNTcjFFpBU1UgV1lZUEFRXh5HLCYQcVwHM0YxQRBjQF5cIQkwMC0lUlVCWVNjXFVEXEBVXgUHc3MeDgcAcwZwAnZx.jpg\"/>"
      ],
      "text/plain": [
       "<IPython.core.display.Image object>"
      ]
     },
     "metadata": {},
     "output_type": "display_data"
    },
    {
     "name": "stdout",
     "output_type": "stream",
     "text": [
      "33 \n",
      " London (CNN) The UK Parliament is expected on Thursday to approve plans that would see lawmakers hold the government to account via a video link, as the country's legislative chamber returns from its Easter recess on Monday.  Proposals for the so-called \"virtual parliament\" will allow Members of Parliament to question government ministers on their handling of the coronavirus pandemic, while also observing social distancing measures.  However, the proposals only allow for limited parliamentary work to take place and are causing alarm among some that MPs will not be adequately capable of holding the government to account. Boris Johnson's Conservative government is facing serious criticism over its handling of the Covid-19 pandemic.  The move also comes as trust between the main opposition Labour Party and the Conservatives is particularly low, following four years of bitter divisions over Brexit.  The proposals will allow MPs to grill ministers on the government's coronavirus response as the UK enters what most experts agree will be its peak of the crisis, but Parliament will still be far from operating as usual. While it will still be possible for votes (known in the UK as \"divisions\") to take place in the House of Commons -- the means by which legislation receives Parliamentary approval -- these will still be restricted to members sat in the chamber itself.  In a letter to MPs, Hoyle said \"I am aware of interest among colleagues in the possibility of using technology to allow Members to participate in divisions without being present on the Estate,\" adding that he had asked parliamentary staff \"to undertake preparatory work as a matter of urgency on a system of remote voting in divisions of the House.\"  JUST WATCHED Tiny Louisiana parish has highest Covid-19 death rate in US Replay More Videos ... MUST WATCH Tiny Louisiana parish has highest Covid-19 death rate in US 03:15  The issue of only a handful of MPs being able to vote on government business is concerning some in opposition.  \"It's vital parliament can do its business of questioning the government and holding it to account -- especially now,\" says Chris Bryant, an influential member of parliament for the Labour Party. \"The government should commit to only bringing forward business that has complete agreement from both sides of the House until there is a temporary means of voting remotely.\"  This view is shared by a Labour Party source, who told CNN that they \"strongly support a fully virtual parliament including the ability to have divisions for the duration of this crisis. This should be delivered as quickly as technologically possible.\"  Votes are not the only problem that a physical absence poses to Parliament. Tom Tugendhat, chairman of the Parliamentary Foreign Affairs Select Committee, says \"the major issue with not being in Parliament is that a lot of our work is done by bumping into each other and working out small problems informally.\"  The move to a virtual parliament in Westminster comes at a time of wider uncertainty about Parliament's future. The building is in desperate need of repair and modernizing. There are currently plans in place to vacate the estate in order to carry out this work, which would include: replacing heating, water and drainage systems and installing technology. One stark example of how badly the work is needed: part of the refurbishment will include replacing the sewage ejector system, which the Parliamentary website says was \"installed in 1888 and is still in use today.\"  Other legislative chambers around the world -- including the devolved administration in Scotland -- have introduced measures allowing lawmakers to carry out their usual work with as little disruption as possible. This varies from agreeing to smaller gatherings of lawmakers in Ireland and Germany to physically distancing despatch boxes in Australia so that politicians can observe social distancing.  However, Westminster is both larger than many of these bodies and more divided. Unlike many European nations, British politicians are not historically good at working across party lines at the highest level, meaning agreements will be harder to reach.  Parliament will return on Monday, where the leader of the House of Commons, Jacob Rees-Mogg, will lay down the government's business for the day. Precisely what happens after that -- and in the coming weeks -- is still up in the air.\n",
      "Sans malus\n"
     ]
    },
    {
     "data": {
      "text/html": [
       "<img src=\"https://api.afp.com/objects/api/medias?id=a1kkIS0nShZdXlcxVgJEXV1EQksZd3IcFnNyEWh0dghzCmYedQRzcWkXTFBOXVQqVkYaX0JXEltfIX9GQFxVMUQgFjYsVgxbPVogNTcjFFpBU1UgV1lZUEFRXh5HLCYQVEpsdXkXQQBjQF5cIQkwMC0lUlVCWVNjXFVEXEBVXgUHc3MeDgcAeQJ1BHBy.jpg\"/>"
      ],
      "text/plain": [
       "<IPython.core.display.Image object>"
      ]
     },
     "metadata": {},
     "output_type": "display_data"
    },
    {
     "data": {
      "text/html": [
       "<img src=\"https://api.afp.com/objects/api/medias?id=a1kkIS0nShZdXlcxVgJEXV1EQksZd3ccFnNyEWh0fAx0ZmMedQRzcWkXTFBOXVQqVkYaX0JXEltfIX9GQFxVMUQgFjYsVgxbPVogNTcjFFpBU1UgV1lZUEFRXh5HLCYQVwAFcHkNSRZjQF5cIQkwMC0lUlVCWVNjXFVEXEBVXgUHc3MeDgcHeAN1AXJ1.jpg\"/>"
      ],
      "text/plain": [
       "<IPython.core.display.Image object>"
      ]
     },
     "metadata": {},
     "output_type": "display_data"
    },
    {
     "data": {
      "text/html": [
       "<img src=\"https://api.afp.com/objects/api/medias?id=a1kkIS0nShZdX1sxTF9RGkJYQkxZNm0cCwobcgNqCHBqAwQAa3UHFRt3dXYcBQpoaFhdVllcQlddayhdXg1XKFN4WzorU0FDIRI0LCB7UkBDV0g2XABXWVddSFZCKCdeWEESMF4hDS13AwB%2BDE0UYzYpVVwQR00sWkZYWl1bC11ONStfXEEJcAF0A3RwAQgEdAR4fQ%3D%3D.jpg\"/>"
      ],
      "text/plain": [
       "<IPython.core.display.Image object>"
      ]
     },
     "metadata": {},
     "output_type": "display_data"
    },
    {
     "data": {
      "text/html": [
       "<img src=\"https://api.afp.com/objects/api/medias?id=a1kkIS0nShZdXlcxVgJEXV1EQksZdnYCeHRkHgYJfnMGfB8BdAZ1aBUzUFpGWlcqUgNeRVUPTlFSeClUV1NEMlJjRSohD1pJKlUxNiFrWlVIW10rTUBRRlNDC0lfIX9DCwMFD388ZWU3XV1VeUU0LCctVVZCXR4gQV1dR1dDEAkAdHEaDAENdQd1CXY%3D.jpg\"/>"
      ],
      "text/plain": [
       "<IPython.core.display.Image object>"
      ]
     },
     "metadata": {},
     "output_type": "display_data"
    },
    {
     "data": {
      "text/html": [
       "<img src=\"https://api.afp.com/objects/api/medias?id=a1kkIS0nShZdX1sxTF9RGkJYQkxZNm0cCwYbcg9qB3pqAwQEa3UHFRt3dXceBQtoaFhdVllcQlddayhdXg1XKFN4WzorU0FDIRI0LCB7UkBDV0g2XABXWVddSFZCKCdeWEESMF4hDS13AwB%2BDE0UYzYpVVwQR00sWkZYWl1bC11ONStfXEEJcAF0A3RwAQgEdARzdw%3D%3D.jpg\"/>"
      ],
      "text/plain": [
       "<IPython.core.display.Image object>"
      ]
     },
     "metadata": {},
     "output_type": "display_data"
    },
    {
     "data": {
      "text/html": [
       "<img src=\"https://api.afp.com/objects/api/medias?id=a1kkIS0nShZdXlcxVgJEXV1EQksZfXQCeHRkHgYJf3EGBh8BdAZ1aBUzUFpGWlcqUgNeRVUPTlFSeClUV1NEMlJjRSohD1pJKlUxNiFrWlVIW10rTUBRRlNDC0lfIX9DCwMFD388ZWU3XV1VeUU0LCctVVZCXR4gQV1dR1dDEAkAdHEaDAENdQd1AXI%3D.jpg\"/>"
      ],
      "text/plain": [
       "<IPython.core.display.Image object>"
      ]
     },
     "metadata": {},
     "output_type": "display_data"
    },
    {
     "name": "stdout",
     "output_type": "stream",
     "text": [
      "malus\n"
     ]
    },
    {
     "data": {
      "text/html": [
       "<img src=\"https://api.afp.com/objects/api/medias?id=a1kkIS0nShZdXlcxVgJEXV1EQksZd3ccFnNyEWh0fAx0ZmMedQRzcWkXTFBOXVQqVkYaX0JXEltfIX9GQFxVMUQgFjYsVgxbPVogNTcjFFpBU1UgV1lZUEFRXh5HLCYQVwAFcHkNSRZjQF5cIQkwMC0lUlVCWVNjXFVEXEBVXgUHc3MeDgcHeAN1AXJ1.jpg\"/>"
      ],
      "text/plain": [
       "<IPython.core.display.Image object>"
      ]
     },
     "metadata": {},
     "output_type": "display_data"
    },
    {
     "data": {
      "text/html": [
       "<img src=\"https://api.afp.com/objects/api/medias?id=a1kkIS0nShZdX1sxTF9RGkJYQkxZNm0cCwobcgNqCHBqAwQAa3UHFRt3dXYcBQpoaFhdVllcQlddayhdXg1XKFN4WzorU0FDIRI0LCB7UkBDV0g2XABXWVddSFZCKCdeWEESMF4hDS13AwB%2BDE0UYzYpVVwQR00sWkZYWl1bC11ONStfXEEJcAF0A3RwAQgEdAR4fQ%3D%3D.jpg\"/>"
      ],
      "text/plain": [
       "<IPython.core.display.Image object>"
      ]
     },
     "metadata": {},
     "output_type": "display_data"
    },
    {
     "data": {
      "text/html": [
       "<img src=\"https://api.afp.com/objects/api/medias?id=a1kkIS0nShZdXlcxVgJEXV1EQksZdnYCeHRkHgYJfnMGfB8BdAZ1aBUzUFpGWlcqUgNeRVUPTlFSeClUV1NEMlJjRSohD1pJKlUxNiFrWlVIW10rTUBRRlNDC0lfIX9DCwMFD388ZWU3XV1VeUU0LCctVVZCXR4gQV1dR1dDEAkAdHEaDAENdQd1CXY%3D.jpg\"/>"
      ],
      "text/plain": [
       "<IPython.core.display.Image object>"
      ]
     },
     "metadata": {},
     "output_type": "display_data"
    },
    {
     "data": {
      "text/html": [
       "<img src=\"https://api.afp.com/objects/api/medias?id=a1kkIS0nShZdX1sxTF9RGkJYQkxZNm0cCwYbcg9qB3pqAwQEa3UHFRt3dXceBQtoaFhdVllcQlddayhdXg1XKFN4WzorU0FDIRI0LCB7UkBDV0g2XABXWVddSFZCKCdeWEESMF4hDS13AwB%2BDE0UYzYpVVwQR00sWkZYWl1bC11ONStfXEEJcAF0A3RwAQgEdARzdw%3D%3D.jpg\"/>"
      ],
      "text/plain": [
       "<IPython.core.display.Image object>"
      ]
     },
     "metadata": {},
     "output_type": "display_data"
    },
    {
     "data": {
      "text/html": [
       "<img src=\"https://api.afp.com/objects/api/medias?id=a1kkIS0nShZdXlcxVgJEXV1EQksZfXQCeHRkHgYJf3EGBh8BdAZ1aBUzUFpGWlcqUgNeRVUPTlFSeClUV1NEMlJjRSohD1pJKlUxNiFrWlVIW10rTUBRRlNDC0lfIX9DCwMFD388ZWU3XV1VeUU0LCctVVZCXR4gQV1dR1dDEAkAdHEaDAENdQd1AXI%3D.jpg\"/>"
      ],
      "text/plain": [
       "<IPython.core.display.Image object>"
      ]
     },
     "metadata": {},
     "output_type": "display_data"
    },
    {
     "data": {
      "text/html": [
       "<img src=\"https://api.afp.com/objects/api/medias?id=a1kkIS0nShZdXlcxVgJEXV1EQksZfHICeHRkHgYJf3EGAh8BdAZ1aBUzUFpGWlcqUgNeRVUPTlFSeClUV1NEMlJjRSohD1pJKlUxNiFrWlVIW10rTUBRRlNDC0lfIX9DCwMFD388ZWU3XV1VeUU0LCctVVZCXR4gQV1dR1dDEAkAdHEaDAENdQd1AXI%3D.jpg\"/>"
      ],
      "text/plain": [
       "<IPython.core.display.Image object>"
      ]
     },
     "metadata": {},
     "output_type": "display_data"
    },
    {
     "name": "stdout",
     "output_type": "stream",
     "text": [
      "35 \n",
      " Copenhagen (CNN) — In Copenhagen, traffic is usually caused by the two-wheel variety of transportation: the bicycle.  Ever since bicycles were imported into Denmark from France in 1869, they have become the main form of transportation in the Scandinavian city. In the 1920s, it wasn't unusual to see both the working class as well as high society pedaling through the streets. But with the opening of the Metro's new M3 Cityring line, commuters have a new way of getting around.  While Copenhagen's Metro has always been rather efficient, many neighborhoods lacked stations, and thus, accessibility.  In addition, a growing population of about 10,000 new residents per year is taxing the buses and trains already in circulation. In a city of 650,000 people, about 200,000 commute on the Metro daily, sometimes in conjunction with a bike during their journey.  Related content These are predicted to be the safest countries in the world to visit in 2020  Greater accessibility  The circular line has 17 new stops, nearly doubling the number of existing stations. DA MARIE ODGAARD/AFP via Getty Images  Cityring, a 15.5-kilometer (approximately 9.63 miles) circular line with 17 new stops — which nearly doubles the number of existing stations — now connects outlying neighborhoods that radiate far from the city center. Residents won't need to rely on their bikes to get around, a boon especially during Copenhagen's hygge-inducing winters.  The impetus for the project was twofold, according to Henrik Ploughmann Olsen, CEO of Copenhagen Metro. \"First of all, it was a question of improving public transport, making it more efficient and of better quality,\" he said. \"But it was also about city development in other areas outside of the city center.\"  Courtesy The Copenhagen Metro  Public squares were constructed, with 150 benches and 800 trees, were installed around the 17 new stations. The plazas not only allow access to the Metro, but will hopefully encourage more commerce and housing.  \"We see that it attracts shops but also offices and service-oriented businesses,\" said Olsen.  Building the line was not without its challenges.  Olsen acknowledged that the eight years of construction impeded traffic and generally disrupted people's daily lives. \"We had the machinery right outside people's windows for quite a substantial number of years,\" he said.  Glass and light are key design elements, and stations were designed to integrate with their surroundings. Reginaldo Sales/Metro Company  Technical issues also challenged tunnel designers. They had to build around older structures with shaky foundations, such as the historic Frederik's Church, a.k.a. Marble Church, at the Marmorkirken station.  Controlling groundwater was also imperative during construction.  \"A lot of the houses in the inner part of the old city center are actually founded on wooden piles from the 17th century or 18th century,\" explained Olsen, \"If you remove the groundwater from those piles, they'll rot.\"  In addition, builders had to deftly maneuver around existing Metro tunnels--but Olsen proudly notes the extension was completed without causing any shutdowns to the current system.  Shiny, new rails  The new M3 line allows Copenhagen to compete on an international level. Reginaldo Sales/Metro Company  The line itself is a thing of beauty; sleek and gleaming like a seal shimmying through water, this shiny new rail line is runs automatically without any conductors.  The system operates 24 hours a day, 365 days a year -- a rare service offered by only a small handful of cities worldwide, including New York City, Chicago, and Melbourne -- and a full rotation around the line takes 24 minutes. Average speed is about 40 kilometers per hour (approximately 25 miles per hour) but when a train hits top speed, it can cruise at 90 kilometer an hour (55 miles per hour).  Unlike older stations, all the new stops are outfitted with two elevators instead of one and the incline of stairs was reduced to make going up and down flights less taxing. For today's iTouch culture, screens by ticket machines supply riders with route information and maps.  Not just easy on the ride, Cityring's stations are easy on the eyes.  Glass and light are key design elements and stations were designed to integrate with their surroundings. At the Frederiksberg Allé station, for example, the green interior color scheme is a segue to the outdoor park that greets riders when they reach street level.  Cleanliness and efficiency are two tenets of the Metro system. Revenue generated from ticket sales is reinvested into maintenance, and quarterly surveys of passengers give Metro operators direction on what's working, what's not and where they need to direct funds.  Related content The Copenhagen artificial ski slope atop a power plant is now open  Bike-friendly  The Cityring doesn't want to compete with bikes, but instead integrate itself into existing transportation infrastructure. \"Metro actually supports the thoughts of the having bikes being either last mile or first mile mode of transportation, so you could use it in combination,\" said Olsen.  Bikes are allowed on the Metro during non-rush hours, and cellars at every station provide storage for the two-wheeled vehicles when not in use. Screens at exit points announce nearby bus and train departures for easy connections.  This shiny new rail line is conductor-less and runs automatically. Reginaldo Sales/Metro Company  While these features have residents excited about the new system, Olsen believes \"the most important thing is that you don't have to look up time table,\" he said. \"You can just go through the station and there'll be a train right after.\" To him, freedom from the shackles of a schedule exemplifies the ease of using the Metro.  The new M3 line — and the expansion of the Metro in general — not only services the city internally, but allows Copenhagen to compete on an international level. Citing Hamburg, Germany, and Stockholm, Sweden as nearby rivals, Olsen hopes to attract both businesses and tourists to Copenhagen via opportunities presented by the Metro.  With the opening of the M3 Cityring, ridership is expected to rise from 65 million to 122 million by 2020, and two extensions to the existing M4 line are due to open over the next five year.  While projections are ambitious, Olsen's definition of success is more modest.\n",
      "Sans malus\n"
     ]
    },
    {
     "data": {
      "text/html": [
       "<img src=\"https://api.afp.com/objects/api/medias?id=a1kkIS0nShZdXlcxVgJEXV1EQksZcnoCeHRkHgYMc3F8eh8BdAZ1aBUzUFpGWlcqUgNeRVUPTlFSeClUV1NEMlJjRSohD1pJKlUxNiFrWlVIW10rTUBRRlNDC0lfIX9XbmpXO05xBmU3XV1VeUU0LCctVVZCXR4gQV1dR1dDEAkAdHEaDAYHeAJyBHc%3D.jpg\"/>"
      ],
      "text/plain": [
       "<IPython.core.display.Image object>"
      ]
     },
     "metadata": {},
     "output_type": "display_data"
    },
    {
     "data": {
      "text/html": [
       "<img src=\"https://api.afp.com/objects/api/medias?id=a1kkIS0nShZdXlcxVgJEXV1EQksZdHoCeHRkHgYMc3EEZB8BdAZ1aBUzUFpGWlcqUgNeRVUPTlFSeClUV1NEMlJjRSohD1pJKlUxNiFrWlVIW10rTUBRRlNDC0lfIX9XbmpXO05xBmU3XV1VeUU0LCctVVZCXR4gQV1dR1dDEAkAdHEaDAYHeAJyA3o%3D.jpg\"/>"
      ],
      "text/plain": [
       "<IPython.core.display.Image object>"
      ]
     },
     "metadata": {},
     "output_type": "display_data"
    },
    {
     "data": {
      "text/html": [
       "<img src=\"https://api.afp.com/objects/api/medias?id=a1kkIS0nShZdXlcxVgJEXV1EQksZd3EYFnNyEWh0eQB3fXoedQRzcWkXTFBOXVQqVkYaX0JXEltfIX9GQFxVMUQgFjYsVgxbPVogNTcjFFpBU1UgV1lZUEFRXh5HLCYQQ2VsIk08BHVjQF5cIQkwMC0lUlVCWVNjXFVEXEBVXgUHc3MeDgcAcg5wBnR0.jpg\"/>"
      ],
      "text/plain": [
       "<IPython.core.display.Image object>"
      ]
     },
     "metadata": {},
     "output_type": "display_data"
    },
    {
     "data": {
      "text/html": [
       "<img src=\"https://api.afp.com/objects/api/medias?id=a1kkIS0nShZdXlcxVgJEXV1EQksZd3cfFnNyEWh0eQB0ZWQedQRzcWkXTFBOXVQqVkYaX0JXEltfIX9GQFxVMUQgFjYsVgxbPVogNTcjFFpBU1UgV1lZUEFRXh5HLCYQQ2VsIk08BHVjQF5cIQkwMC0lUlVCWVNjXFVEXEBVXgUHc3MeDgcAcg5wBnZ0.jpg\"/>"
      ],
      "text/plain": [
       "<IPython.core.display.Image object>"
      ]
     },
     "metadata": {},
     "output_type": "display_data"
    },
    {
     "data": {
      "text/html": [
       "<img src=\"https://api.afp.com/objects/api/medias?id=a1kkIS0nShZdXlcxVgJEXV1EQksZd3YYFnNyEWh0eQB9ZHgedQRzcWkXTFBOXVQqVkYaX0JXEltfIX9GQFxVMUQgFjYsVgxbPVogNTcjFFpBU1UgV1lZUEFRXh5HLCYQW0pDC3kIeStjQF5cIQkwMC0lUlVCWVNjXFVEXEBVXgUHc3MeDgcAcg53Bnpx.jpg\"/>"
      ],
      "text/plain": [
       "<IPython.core.display.Image object>"
      ]
     },
     "metadata": {},
     "output_type": "display_data"
    },
    {
     "data": {
      "text/html": [
       "<img src=\"https://api.afp.com/objects/api/medias?id=a1kkIS0nShZdXlcxVgJEXV1EQksZdHQYFnNyEWh0fAF1AHkedQRzcWkXTFBOXVQqVkYaX0JXEltfIX9GQFxVMUQgFjYsVgxbPVogNTcjFFpBU1UgV1lZUEFRXh5HLCYQaURRIGEcdiZjQF5cIQkwMC0lUlVCWVNjXFVEXEBVXgUHc3MeDgcHeA90AXd3.jpg\"/>"
      ],
      "text/plain": [
       "<IPython.core.display.Image object>"
      ]
     },
     "metadata": {},
     "output_type": "display_data"
    },
    {
     "name": "stdout",
     "output_type": "stream",
     "text": [
      "malus\n"
     ]
    },
    {
     "data": {
      "text/html": [
       "<img src=\"https://api.afp.com/objects/api/medias?id=a1kkIS0nShZdXlcxVgJEXV1EQksZdHYUFnNyEWh0eXB0B2gedQRzcWkXTFBOXVQqVkYaX0JXEltfIX9GQFxVMUQgFjYsVgxbPVogNTcjFFpBU1UgV1lZUEFRXh5HLCYQVQBRJlQ2ADZjQF5cIQkwMC0lUlVCWVNjXFVEXEBVXgUHc3MeDgcAdQZ0BHZ9.jpg\"/>"
      ],
      "text/plain": [
       "<IPython.core.display.Image object>"
      ]
     },
     "metadata": {},
     "output_type": "display_data"
    },
    {
     "data": {
      "text/html": [
       "<img src=\"https://api.afp.com/objects/api/medias?id=a1kkIS0nShZdXlcxVgJEXV1EQksZfXMCeHRkHgYMA3JzBB8BdAZ1aBUzUFpGWlcqUgNeRVUPTlFSeClUV1NEMlJjRSohD1pJKlUxNiFrWlVIW10rTUBRRlNDC0lfIX9BC1dTIkR1RWU3XV1VeUU0LCctVVZCXR4gQV1dR1dDEAkAdHEaDAYAcAZxBHQ%3D.jpg\"/>"
      ],
      "text/plain": [
       "<IPython.core.display.Image object>"
      ]
     },
     "metadata": {},
     "output_type": "display_data"
    },
    {
     "data": {
      "text/html": [
       "<img src=\"https://api.afp.com/objects/api/medias?id=a1kkIS0nShZdX1sxTF9RGkJYQkxZNm0bDR0FdABqAnBzHQUBa3UHFRt3dmkcAH9oaFhdVllcQlddayhdXg1XKFN4WzorU0FDIRI0LCB7UkBDV0g2XABXWVddSFZCKCdeWEESMF4hDRoQeEZoLwULYzYpVVwQR00sWkZYWl1bC11ONStfXEEJcAF0A3RwAwgDdQBycw%3D%3D.jpg\"/>"
      ],
      "text/plain": [
       "<IPython.core.display.Image object>"
      ]
     },
     "metadata": {},
     "output_type": "display_data"
    },
    {
     "data": {
      "text/html": [
       "<img src=\"https://api.afp.com/objects/api/medias?id=a1kkIS0nShZdXlcxVgJEXV1EQksZc3oCeHRkHgYCAHcXex8BdAZ1aBUzUFpGWlcqUgNeRVUPTlFSeClUV1NEMlJjRSohD1pJKlUxNiFrWlVIW10rTUBRRlNDC0lfIX9vYQN9dXw3emU3XV1VeUU0LCctVVZCXR4gQV1dR1dDEAkAdHEaDAYDdwZ3AHE%3D.jpg\"/>"
      ],
      "text/plain": [
       "<IPython.core.display.Image object>"
      ]
     },
     "metadata": {},
     "output_type": "display_data"
    },
    {
     "data": {
      "text/html": [
       "<img src=\"https://api.afp.com/objects/api/medias?id=a1kkIS0nShZdXlcxVgJEXV1EQksZfXICeHRkHgYCAHcDdR8BdAZ1aBUzUFpGWlcqUgNeRVUPTlFSeClUV1NEMlJjRSohD1pJKlUxNiFrWlVIW10rTUBRRlNDC0lfIX9vYQN9dXw3emU3XV1VeUU0LCctVVZCXR4gQV1dR1dDEAkAdHEaDAYDdwZ0CXo%3D.jpg\"/>"
      ],
      "text/plain": [
       "<IPython.core.display.Image object>"
      ]
     },
     "metadata": {},
     "output_type": "display_data"
    },
    {
     "data": {
      "text/html": [
       "<img src=\"https://api.afp.com/objects/api/medias?id=a1kkIS0nShZdXlcxVgJEXV1EQksZdHoeFnNyEWh0e3dzdnUedQRzcWkXTFBOXVQqVkYaX0JXEltfIX9GQFxVMUQgFjYsVgxbPVogNTcjFFpBU1UgV1lZUEFRXh5HLCYQTXxXJlICfytjQF5cIQkwMC0lUlVCWVNjXFVEXEBVXgUHc3MeDgcAcAZwCXd0.jpg\"/>"
      ],
      "text/plain": [
       "<IPython.core.display.Image object>"
      ]
     },
     "metadata": {},
     "output_type": "display_data"
    },
    {
     "name": "stdout",
     "output_type": "stream",
     "text": [
      "38 \n",
      " (CNN) Taylor Swift's much anticipated \"Lover Fest\" tour was canceled due to the coronavirus pandemic, but you'll be able to see her in concert anyway.  ABC announced that it will air a concert special of Swift performing in Paris. \"Taylor Swift City of Lover Concert,\" is set to air on May 17 on the network.  \"Excited to announce the City of Lover Concert! We filmed my show in Paris in September and thought it'd be fun to share it with you,\" Swift announced on social media.  Excited to announce the City of Lover Concert! We filmed my show in Paris in September and thought it'd be fun to share it with you 😄May 17 at 10p ET on @abcnetwork and available the next day on @hulu and @disneyplus! #TaylorSwiftCityOfLover pic.twitter.com/7B3ky0rO5B — Taylor Swift (@taylorswift13) May 8, 2020  The special, which features Swift performing the songs off her latest album, \"Lover,\" was at the L'Olympia Theater last fall. It will air after the \"American Idol\" season finale.  \" allowfullscreen>  So far, it's Swift's only concert performance of the year. Due to the coronavirus pandemic, she canceled her tour and has been quarantining at home.\n",
      "Sans malus\n"
     ]
    },
    {
     "data": {
      "text/html": [
       "<img src=\"https://api.afp.com/objects/api/medias?id=a1kkIS0nShZdXlcxVgJEXV1EQksZdXUCeHRkHgYPYnEHax8BdAZ1aBUzUFpGWlcqUgNeRVUPTlFSeClUV1NEMlJjRSohD1pJKlUxNiFrWlVIW10rTUBRRlNDC0lfIX9VSFgEJWQCAmU3XV1VeUU0LCctVVZCXR4gQV1dR1dDEAkAdHEaDAYFdwFzAHI%3D.jpg\"/>"
      ],
      "text/plain": [
       "<IPython.core.display.Image object>"
      ]
     },
     "metadata": {},
     "output_type": "display_data"
    },
    {
     "data": {
      "text/html": [
       "<img src=\"https://api.afp.com/objects/api/medias?id=a1kkIS0nShZdX1sxTF9RGkJYQkxZNm0eCR0FcgVqAXdqAAUIa3UHFRt3dHwZdX9oaFhdVllcQlddayhdXg1XKFN4WzorU0FDIRI0LCB7UkBDV0g2XABXWVddSFZCKCdeWEESMF4hDXsJW0hZfVYDYzYpVVwQR00sWkZYWl1bC11ONStfXEEJcAF0A3RwAAAFcwR5fQ%3D%3D.jpg\"/>"
      ],
      "text/plain": [
       "<IPython.core.display.Image object>"
      ]
     },
     "metadata": {},
     "output_type": "display_data"
    },
    {
     "data": {
      "text/html": [
       "<img src=\"https://api.afp.com/objects/api/medias?id=a1kkIS0nShZdXlcxVgJEXV1EQksZd3YYFnNyEWh0ehF2c3UedQRzcWkXTFBOXVQqVkYaX0JXEltfIX9GQFxVMUQgFjYsVgxbPVogNTcjFFpBU1UgV1lZUEFRXh5HLCYQQUNecVMWd3FjQF5cIQkwMC0lUlVCWVNjXFVEXEBVXgUHc3MeDgcAcAFzBnN3.jpg\"/>"
      ],
      "text/plain": [
       "<IPython.core.display.Image object>"
      ]
     },
     "metadata": {},
     "output_type": "display_data"
    },
    {
     "data": {
      "text/html": [
       "<img src=\"https://api.afp.com/objects/api/medias?id=a1kkIS0nShZdXlcxVgJEXV1EQksZdHICeHRkHgYOeXYRdh8BdAZ1aBUzUFpGWlcqUgNeRVUPTlFSeClUV1NEMlJjRSohD1pJKlUxNiFrWlVIW10rTUBRRlNDC0lfIX98b1ZTdHpydmU3XV1VeUU0LCctVVZCXR4gQV1dR1dDEAkAdHEaDAYEcg50CXM%3D.jpg\"/>"
      ],
      "text/plain": [
       "<IPython.core.display.Image object>"
      ]
     },
     "metadata": {},
     "output_type": "display_data"
    },
    {
     "data": {
      "text/html": [
       "<img src=\"https://api.afp.com/objects/api/medias?id=a1kkIS0nShZdX1sxTF9RGkJYQkxZNm0YCR0FcAVqAHRqAAMIa3UHFRt3dGgcbw1oaFhdVllcQlddayhdXg1XKFN4WzorU0FDIRI0LCB7UkBDV0g2XABXWVddSFZCKCdeWEESMF4hDTMXUwJxEFImYzYpVVwQR00sWkZYWl1bC11ONStfXEEJcAF0A3RwAAACfQJ3cg%3D%3D.jpg\"/>"
      ],
      "text/plain": [
       "<IPython.core.display.Image object>"
      ]
     },
     "metadata": {},
     "output_type": "display_data"
    },
    {
     "data": {
      "text/html": [
       "<img src=\"https://api.afp.com/objects/api/medias?id=a1kkIS0nShZdX1sxTF9RGkJYQkxZNm0dCx0FdwdqAnJwHQMAa3UHFRt3dGgcb3VoaFhdVllcQlddayhdXg1XKFN4WzorU0FDIRI0LCB7UkBDV0g2XABXWVddSFZCKCdeWEESMF4hDTMXUwJxEFImYzYpVVwQR00sWkZYWl1bC11ONStfXEEJcAF0A3RwAAACfQJ3dg%3D%3D.jpg\"/>"
      ],
      "text/plain": [
       "<IPython.core.display.Image object>"
      ]
     },
     "metadata": {},
     "output_type": "display_data"
    },
    {
     "name": "stdout",
     "output_type": "stream",
     "text": [
      "malus\n"
     ]
    },
    {
     "data": {
      "text/html": [
       "<img src=\"https://api.afp.com/objects/api/medias?id=a1kkIS0nShZdXlcxVgJEXV1EQksZdXUCeHRkHgYPYnEHax8BdAZ1aBUzUFpGWlcqUgNeRVUPTlFSeClUV1NEMlJjRSohD1pJKlUxNiFrWlVIW10rTUBRRlNDC0lfIX9VSFgEJWQCAmU3XV1VeUU0LCctVVZCXR4gQV1dR1dDEAkAdHEaDAYFdwFzAHI%3D.jpg\"/>"
      ],
      "text/plain": [
       "<IPython.core.display.Image object>"
      ]
     },
     "metadata": {},
     "output_type": "display_data"
    },
    {
     "data": {
      "text/html": [
       "<img src=\"https://api.afp.com/objects/api/medias?id=a1kkIS0nShZdXlcxVgJEXV1EQksZd3YYFnNyEWh0ehF2c3UedQRzcWkXTFBOXVQqVkYaX0JXEltfIX9GQFxVMUQgFjYsVgxbPVogNTcjFFpBU1UgV1lZUEFRXh5HLCYQQUNecVMWd3FjQF5cIQkwMC0lUlVCWVNjXFVEXEBVXgUHc3MeDgcAcAFzBnN3.jpg\"/>"
      ],
      "text/plain": [
       "<IPython.core.display.Image object>"
      ]
     },
     "metadata": {},
     "output_type": "display_data"
    },
    {
     "data": {
      "text/html": [
       "<img src=\"https://api.afp.com/objects/api/medias?id=a1kkIS0nShZdX1sxTF9RGkJYQkxZNm0eCR0FcgVqAXdqAAUIa3UHFRt3dHwZdX9oaFhdVllcQlddayhdXg1XKFN4WzorU0FDIRI0LCB7UkBDV0g2XABXWVddSFZCKCdeWEESMF4hDXsJW0hZfVYDYzYpVVwQR00sWkZYWl1bC11ONStfXEEJcAF0A3RwAAAFcwR5fQ%3D%3D.jpg\"/>"
      ],
      "text/plain": [
       "<IPython.core.display.Image object>"
      ]
     },
     "metadata": {},
     "output_type": "display_data"
    },
    {
     "data": {
      "text/html": [
       "<img src=\"https://api.afp.com/objects/api/medias?id=a1kkIS0nShZdXlcxVgJEXV1EQksZdHICeHRkHgYOeXYRdh8BdAZ1aBUzUFpGWlcqUgNeRVUPTlFSeClUV1NEMlJjRSohD1pJKlUxNiFrWlVIW10rTUBRRlNDC0lfIX98b1ZTdHpydmU3XV1VeUU0LCctVVZCXR4gQV1dR1dDEAkAdHEaDAYEcg50CXM%3D.jpg\"/>"
      ],
      "text/plain": [
       "<IPython.core.display.Image object>"
      ]
     },
     "metadata": {},
     "output_type": "display_data"
    },
    {
     "data": {
      "text/html": [
       "<img src=\"https://api.afp.com/objects/api/medias?id=a1kkIS0nShZdX1sxTF9RGkJYQkxZNm0YCR0FcAVqAHRqAAMIa3UHFRt3dGgcbw1oaFhdVllcQlddayhdXg1XKFN4WzorU0FDIRI0LCB7UkBDV0g2XABXWVddSFZCKCdeWEESMF4hDTMXUwJxEFImYzYpVVwQR00sWkZYWl1bC11ONStfXEEJcAF0A3RwAAACfQJ3cg%3D%3D.jpg\"/>"
      ],
      "text/plain": [
       "<IPython.core.display.Image object>"
      ]
     },
     "metadata": {},
     "output_type": "display_data"
    },
    {
     "data": {
      "text/html": [
       "<img src=\"https://api.afp.com/objects/api/medias?id=a1kkIS0nShZdX1sxTF9RGkJYQkxZNm0dCx0FdwdqAnJwHQMAa3UHFRt3dGgcb3VoaFhdVllcQlddayhdXg1XKFN4WzorU0FDIRI0LCB7UkBDV0g2XABXWVddSFZCKCdeWEESMF4hDTMXUwJxEFImYzYpVVwQR00sWkZYWl1bC11ONStfXEEJcAF0A3RwAAACfQJ3dg%3D%3D.jpg\"/>"
      ],
      "text/plain": [
       "<IPython.core.display.Image object>"
      ]
     },
     "metadata": {},
     "output_type": "display_data"
    },
    {
     "name": "stdout",
     "output_type": "stream",
     "text": [
      "39 \n",
      " (CNN) Mark Ruffalo bites into the juiciest of actor buffets in \"I Know This Much is True,\" portraying twin brothers, one of whom is a paranoid schizophrenic. Once you get past the soapy title, this six-episode limited series offers a grim but gripping adaptation of Wally Lamb's book, rife with tormented family history and the struggle to overcome the past.  We meet the more troubled brother, Thomas, in grisly fashion, engaging in an act that will force Dominick, a house painter, to take a more active role in overseeing his care. \"Thank you for being a good brother to me,\" Thomas says pitifully.  For Dominick, the burden of dealing with Thomas has been left to him by their late mother (played by Melissa Leo), and he feels the weight of the obligation. In that respect, the theme bears a considerable resemblance to \"Promise,\" one of the great Hallmark Hall of Fame movies, with James Garner charged with handling his increasingly disturbed brother, played by James Woods.  Lamb's 1998 novel -- an Oprah's book club selection -- and this adaptation by writer/director Derek Cianfrance (\"The Place Beyond the Pines\") contain several additional layers. For starters, there's the whole twin aspect, and questions about what made one brother turn out this way and the other not. In that, Dominick is guided by a psychiatrist (\"The Good Wife's\" Archie Panjabi) despite his resistance, initially telling her, \"There's no use delving into the secrets of the past.\"  The story also reaches beyond this generation's DNA to the family's dark history, with Dominick learning more about that than he ever wanted to. Finally, there's the devastating tragedy he experienced in his own life, one that upended his relationship with his wife (Kathryn Hahn) and has undermined future romances going forward.  Read More\n",
      "Sans malus\n"
     ]
    },
    {
     "data": {
      "text/html": [
       "<img src=\"https://api.afp.com/objects/api/medias?id=a1kkIS0nShZdXlcxVgJEXV1EQksZfXQCeHRkHgYAAHUHeR8BdAZ1aBUzUFpGWlcqUgNeRVUPTlFSeClUV1NEMlJjRSohD1pJKlUxNiFrWlVIW10rTUBRRlNDC0lfIX9%2BUlV2B34JA2U3XV1VeUU0LCctVVZCXR4gQV1dR1dDEAkAdHEaDAcEcQVzCXI%3D.jpg\"/>"
      ],
      "text/plain": [
       "<IPython.core.display.Image object>"
      ]
     },
     "metadata": {},
     "output_type": "display_data"
    },
    {
     "data": {
      "text/html": [
       "<img src=\"https://api.afp.com/objects/api/medias?id=a1kkIS0nShZdXlcxVgJEXV1EQksZdnQCeHRkHgYDenEGdB8BdAZ1aBUzUFpGWlcqUgNeRVUPTlFSeClUV1NEMlJjRSohD1pJKlUxNiFrWlVIW10rTUBRRlNDC0lfIX9IWnYHdFoiWGU3XV1VeUU0LCctVVZCXR4gQV1dR1dDEAkAdHEaDAYMdAF0AXs%3D.jpg\"/>"
      ],
      "text/plain": [
       "<IPython.core.display.Image object>"
      ]
     },
     "metadata": {},
     "output_type": "display_data"
    },
    {
     "data": {
      "text/html": [
       "<img src=\"https://api.afp.com/objects/api/medias?id=a1kkIS0nShZdXlcxVgJEXV1EQksZc3YCeHRkHgYDenEcCx8BdAZ1aBUzUFpGWlcqUgNeRVUPTlFSeClUV1NEMlJjRSohD1pJKlUxNiFrWlVIW10rTUBRRlNDC0lfIX9IWnYHdFoiWGU3XV1VeUU0LCctVVZCXR4gQV1dR1dDEAkAdHEaDAYMdAF0AHo%3D.jpg\"/>"
      ],
      "text/plain": [
       "<IPython.core.display.Image object>"
      ]
     },
     "metadata": {},
     "output_type": "display_data"
    },
    {
     "data": {
      "text/html": [
       "<img src=\"https://api.afp.com/objects/api/medias?id=a1kkIS0nShZdXlcxVgJEXV1EQksZdHACeHRkHgYJeXMNZR8BdAZ1aBUzUFpGWlcqUgNeRVUPTlFSeClUV1NEMlJjRSohD1pJKlUxNiFrWlVIW10rTUBRRlNDC0lfIX8bTmcGFGMkCWU3XV1VeUU0LCctVVZCXR4gQV1dR1dDEAkAdHEaDAENdA9wCHM%3D.jpg\"/>"
      ],
      "text/plain": [
       "<IPython.core.display.Image object>"
      ]
     },
     "metadata": {},
     "output_type": "display_data"
    },
    {
     "data": {
      "text/html": [
       "<img src=\"https://api.afp.com/objects/api/medias?id=a1kkIS0nShZdXlcxVgJEXV1EQksZd3EaFnNyEWh0fAp1dWEedQRzcWkXTFBOXVQqVkYaX0JXEltfIX9GQFxVMUQgFjYsVgxbPVogNTcjFFpBU1UgV1lZUEFRXh5HLCYQD0Vhc2IRUXpjQF5cIQkwMC0lUlVCWVNjXFVEXEBVXgUHc3MeDgcHeAJ9BXRy.jpg\"/>"
      ],
      "text/plain": [
       "<IPython.core.display.Image object>"
      ]
     },
     "metadata": {},
     "output_type": "display_data"
    },
    {
     "data": {
      "text/html": [
       "<img src=\"https://api.afp.com/objects/api/medias?id=a1kkIS0nShZdXlcxVgJEXV1EQksZdHQCeHRkHgYJeXMXdB8BdAZ1aBUzUFpGWlcqUgNeRVUPTlFSeClUV1NEMlJjRSohD1pJKlUxNiFrWlVIW10rTUBRRlNDC0lfIX8bTmcGFGMkCWU3XV1VeUU0LCctVVZCXR4gQV1dR1dDEAkAdHEaDAENdA9wBXY%3D.jpg\"/>"
      ],
      "text/plain": [
       "<IPython.core.display.Image object>"
      ]
     },
     "metadata": {},
     "output_type": "display_data"
    },
    {
     "name": "stdout",
     "output_type": "stream",
     "text": [
      "malus\n"
     ]
    },
    {
     "data": {
      "text/html": [
       "<img src=\"https://api.afp.com/objects/api/medias?id=a1kkIS0nShZdXlcxVgJEXV1EQksZdnQCeHRkHgYDenEGdB8BdAZ1aBUzUFpGWlcqUgNeRVUPTlFSeClUV1NEMlJjRSohD1pJKlUxNiFrWlVIW10rTUBRRlNDC0lfIX9IWnYHdFoiWGU3XV1VeUU0LCctVVZCXR4gQV1dR1dDEAkAdHEaDAYMdAF0AXs%3D.jpg\"/>"
      ],
      "text/plain": [
       "<IPython.core.display.Image object>"
      ]
     },
     "metadata": {},
     "output_type": "display_data"
    },
    {
     "data": {
      "text/html": [
       "<img src=\"https://api.afp.com/objects/api/medias?id=a1kkIS0nShZdXlcxVgJEXV1EQksZc3YCeHRkHgYDenEcCx8BdAZ1aBUzUFpGWlcqUgNeRVUPTlFSeClUV1NEMlJjRSohD1pJKlUxNiFrWlVIW10rTUBRRlNDC0lfIX9IWnYHdFoiWGU3XV1VeUU0LCctVVZCXR4gQV1dR1dDEAkAdHEaDAYMdAF0AHo%3D.jpg\"/>"
      ],
      "text/plain": [
       "<IPython.core.display.Image object>"
      ]
     },
     "metadata": {},
     "output_type": "display_data"
    },
    {
     "data": {
      "text/html": [
       "<img src=\"https://api.afp.com/objects/api/medias?id=a1kkIS0nShZdXlcxVgJEXV1EQksZdHACeHRkHgYJeXMNZR8BdAZ1aBUzUFpGWlcqUgNeRVUPTlFSeClUV1NEMlJjRSohD1pJKlUxNiFrWlVIW10rTUBRRlNDC0lfIX8bTmcGFGMkCWU3XV1VeUU0LCctVVZCXR4gQV1dR1dDEAkAdHEaDAENdA9wCHM%3D.jpg\"/>"
      ],
      "text/plain": [
       "<IPython.core.display.Image object>"
      ]
     },
     "metadata": {},
     "output_type": "display_data"
    },
    {
     "data": {
      "text/html": [
       "<img src=\"https://api.afp.com/objects/api/medias?id=a1kkIS0nShZdXlcxVgJEXV1EQksZd3EaFnNyEWh0fAp1dWEedQRzcWkXTFBOXVQqVkYaX0JXEltfIX9GQFxVMUQgFjYsVgxbPVogNTcjFFpBU1UgV1lZUEFRXh5HLCYQD0Vhc2IRUXpjQF5cIQkwMC0lUlVCWVNjXFVEXEBVXgUHc3MeDgcHeAJ9BXRy.jpg\"/>"
      ],
      "text/plain": [
       "<IPython.core.display.Image object>"
      ]
     },
     "metadata": {},
     "output_type": "display_data"
    },
    {
     "data": {
      "text/html": [
       "<img src=\"https://api.afp.com/objects/api/medias?id=a1kkIS0nShZdXlcxVgJEXV1EQksZdHQCeHRkHgYJeXMXdB8BdAZ1aBUzUFpGWlcqUgNeRVUPTlFSeClUV1NEMlJjRSohD1pJKlUxNiFrWlVIW10rTUBRRlNDC0lfIX8bTmcGFGMkCWU3XV1VeUU0LCctVVZCXR4gQV1dR1dDEAkAdHEaDAENdA9wBXY%3D.jpg\"/>"
      ],
      "text/plain": [
       "<IPython.core.display.Image object>"
      ]
     },
     "metadata": {},
     "output_type": "display_data"
    },
    {
     "data": {
      "text/html": [
       "<img src=\"https://api.afp.com/objects/api/medias?id=a1kkIS0nShZdXlcxVgJEXV1EQksZd3cZFnNyEWh0fAp1amMedQRzcWkXTFBOXVQqVkYaX0JXEltfIX9GQFxVMUQgFjYsVgxbPVogNTcjFFpBU1UgV1lZUEFRXh5HLCYQD0Vhc2IRUXpjQF5cIQkwMC0lUlVCWVNjXFVEXEBVXgUHc3MeDgcHeAJ9BHN1.jpg\"/>"
      ],
      "text/plain": [
       "<IPython.core.display.Image object>"
      ]
     },
     "metadata": {},
     "output_type": "display_data"
    },
    {
     "name": "stdout",
     "output_type": "stream",
     "text": [
      "41 \n",
      " (CNN) The lineup for Sunday's \"The Disney Family Singalong: Volume II\" is looking rather magical.  ABC announced Wednesday that John Legend , Katy Perry, Tituss Burgess, Sabrina Carpenter, Jennifer Hudson , Lang Lang and more stars have been added to the roster for the next edition of the TV event, which is set to air Sunday at 7 p.m. ET on ABC  The first \"Disney Family Singalong,\" which aired last month, notched more than 10 million viewers and featured a buzzy surprise appearance by Beyoncé.  Previously announced performers for the second installment include Chloe x Halle, Billy Eichner, Donald Glover, Idina Menzel, Miguel, and Shakira.  Christina Aguilera, Josh Gad, Derek Hough and Julianne Hough are set to make return appearances.  Read More\n",
      "Sans malus\n"
     ]
    },
    {
     "data": {
      "text/html": [
       "<img src=\"https://api.afp.com/objects/api/medias?id=a1kkIS0nShZdX1sxTF9RGkJYQkxZNm0cCwYbcg9qCHJqAwEDa3UHFRt3dwsfcwBoaFhdVllcQlddayhdXg1XKFN4WzorU0FDIRI0LCB7UkBDV0g2XABXWVddSFZCKCdeWEESMF4hDXsUX1NmInVzYzYpVVwQR00sWkZYWl1bC11ONStfXEEJcAF0A3RwAAECdgNyfA%3D%3D.jpg\"/>"
      ],
      "text/plain": [
       "<IPython.core.display.Image object>"
      ]
     },
     "metadata": {},
     "output_type": "display_data"
    },
    {
     "data": {
      "text/html": [
       "<img src=\"https://api.afp.com/objects/api/medias?id=a1kkIS0nShZdXlcxVgJEXV1EQksZd3YbFnNyEWh0eht9fH4edQRzcWkXTFBOXVQqVkYaX0JXEltfIX9GQFxVMUQgFjYsVgxbPVogNTcjFFpBU1UgV1lZUEFRXh5HLCYQCmVDE1occShjQF5cIQkwMC0lUlVCWVNjXFVEXEBVXgUHc3MeDgcAcAN0AHJw.jpg\"/>"
      ],
      "text/plain": [
       "<IPython.core.display.Image object>"
      ]
     },
     "metadata": {},
     "output_type": "display_data"
    },
    {
     "data": {
      "text/html": [
       "<img src=\"https://api.afp.com/objects/api/medias?id=a1kkIS0nShZdXlcxVgJEXV1EQksZd3YZFnNyEWh0eht9YHYedQRzcWkXTFBOXVQqVkYaX0JXEltfIX9GQFxVMUQgFjYsVgxbPVogNTcjFFpBU1UgV1lZUEFRXh5HLCYQCmVDE1occShjQF5cIQkwMC0lUlVCWVNjXFVEXEBVXgUHc3MeDgcAcAN0AHJw.jpg\"/>"
      ],
      "text/plain": [
       "<IPython.core.display.Image object>"
      ]
     },
     "metadata": {},
     "output_type": "display_data"
    },
    {
     "data": {
      "text/html": [
       "<img src=\"https://api.afp.com/objects/api/medias?id=a1kkIS0nShZdX1sxTF9RGkJYQkxZNm0YDx0FcQFqAXBqAAMCa3UHFRt3dG4bBHxoaFhdVllcQlddayhdXg1XKFN4WzorU0FDIRI0LCB7UkBDV0g2XABXWVddSFZCKCdeWEESMF4hDTANSmhfNHY5YzYpVVwQR00sWkZYWl1bC11ONStfXEEJcAF0A3RwAAEDdA1xdg%3D%3D.jpg\"/>"
      ],
      "text/plain": [
       "<IPython.core.display.Image object>"
      ]
     },
     "metadata": {},
     "output_type": "display_data"
    },
    {
     "data": {
      "text/html": [
       "<img src=\"https://api.afp.com/objects/api/medias?id=a1kkIS0nShZdXlcxVgJEXV1EQksZd3YaFnNyEWh0eARwfmAedQRzcWkXTFBOXVQqVkYaX0JXEltfIX9GQFxVMUQgFjYsVgxbPVogNTcjFFpBU1UgV1lZUEFRXh5HLCYQT1NhGGIyZHBjQF5cIQkwMC0lUlVCWVNjXFVEXEBVXgUHc3MeDgcAdAV2Bnpz.jpg\"/>"
      ],
      "text/plain": [
       "<IPython.core.display.Image object>"
      ]
     },
     "metadata": {},
     "output_type": "display_data"
    },
    {
     "data": {
      "text/html": [
       "<img src=\"https://api.afp.com/objects/api/medias?id=a1kkIS0nShZdXlcxVgJEXV1EQksZd3YaFnNyEWh0eAt2aHoedQRzcWkXTFBOXVQqVkYaX0JXEltfIX9GQFxVMUQgFjYsVgxbPVogNTcjFFpBU1UgV1lZUEFRXh5HLCYQXXd8DlUDU3pjQF5cIQkwMC0lUlVCWVNjXFVEXEBVXgUHc3MeDgcAdAV1AXt3.jpg\"/>"
      ],
      "text/plain": [
       "<IPython.core.display.Image object>"
      ]
     },
     "metadata": {},
     "output_type": "display_data"
    },
    {
     "name": "stdout",
     "output_type": "stream",
     "text": [
      "malus\n"
     ]
    },
    {
     "data": {
      "text/html": [
       "<img src=\"https://api.afp.com/objects/api/medias?id=a1kkIS0nShZdX1sxTF9RGkJYQkxZNm0cCwYbcg9qCHJqAwEDa3UHFRt3dwsfcwBoaFhdVllcQlddayhdXg1XKFN4WzorU0FDIRI0LCB7UkBDV0g2XABXWVddSFZCKCdeWEESMF4hDXsUX1NmInVzYzYpVVwQR00sWkZYWl1bC11ONStfXEEJcAF0A3RwAAECdgNyfA%3D%3D.jpg\"/>"
      ],
      "text/plain": [
       "<IPython.core.display.Image object>"
      ]
     },
     "metadata": {},
     "output_type": "display_data"
    },
    {
     "data": {
      "text/html": [
       "<img src=\"https://api.afp.com/objects/api/medias?id=a1kkIS0nShZdXlcxVgJEXV1EQksZdnQCeHRkHgYDenEGdB8BdAZ1aBUzUFpGWlcqUgNeRVUPTlFSeClUV1NEMlJjRSohD1pJKlUxNiFrWlVIW10rTUBRRlNDC0lfIX9IWnYHdFoiWGU3XV1VeUU0LCctVVZCXR4gQV1dR1dDEAkAdHEaDAYMdAF0AXs%3D.jpg\"/>"
      ],
      "text/plain": [
       "<IPython.core.display.Image object>"
      ]
     },
     "metadata": {},
     "output_type": "display_data"
    },
    {
     "data": {
      "text/html": [
       "<img src=\"https://api.afp.com/objects/api/medias?id=a1kkIS0nShZdXlcxVgJEXV1EQksZc3YCeHRkHgYDenEcCx8BdAZ1aBUzUFpGWlcqUgNeRVUPTlFSeClUV1NEMlJjRSohD1pJKlUxNiFrWlVIW10rTUBRRlNDC0lfIX9IWnYHdFoiWGU3XV1VeUU0LCctVVZCXR4gQV1dR1dDEAkAdHEaDAYMdAF0AHo%3D.jpg\"/>"
      ],
      "text/plain": [
       "<IPython.core.display.Image object>"
      ]
     },
     "metadata": {},
     "output_type": "display_data"
    },
    {
     "data": {
      "text/html": [
       "<img src=\"https://api.afp.com/objects/api/medias?id=a1kkIS0nShZdXlcxVgJEXV1EQksZdHACeHRkHgYJeXMNZR8BdAZ1aBUzUFpGWlcqUgNeRVUPTlFSeClUV1NEMlJjRSohD1pJKlUxNiFrWlVIW10rTUBRRlNDC0lfIX8bTmcGFGMkCWU3XV1VeUU0LCctVVZCXR4gQV1dR1dDEAkAdHEaDAENdA9wCHM%3D.jpg\"/>"
      ],
      "text/plain": [
       "<IPython.core.display.Image object>"
      ]
     },
     "metadata": {},
     "output_type": "display_data"
    },
    {
     "data": {
      "text/html": [
       "<img src=\"https://api.afp.com/objects/api/medias?id=a1kkIS0nShZdXlcxVgJEXV1EQksZd3EaFnNyEWh0fAp1dWEedQRzcWkXTFBOXVQqVkYaX0JXEltfIX9GQFxVMUQgFjYsVgxbPVogNTcjFFpBU1UgV1lZUEFRXh5HLCYQD0Vhc2IRUXpjQF5cIQkwMC0lUlVCWVNjXFVEXEBVXgUHc3MeDgcHeAJ9BXRy.jpg\"/>"
      ],
      "text/plain": [
       "<IPython.core.display.Image object>"
      ]
     },
     "metadata": {},
     "output_type": "display_data"
    },
    {
     "data": {
      "text/html": [
       "<img src=\"https://api.afp.com/objects/api/medias?id=a1kkIS0nShZdXlcxVgJEXV1EQksZdHQCeHRkHgYJeXMXdB8BdAZ1aBUzUFpGWlcqUgNeRVUPTlFSeClUV1NEMlJjRSohD1pJKlUxNiFrWlVIW10rTUBRRlNDC0lfIX8bTmcGFGMkCWU3XV1VeUU0LCctVVZCXR4gQV1dR1dDEAkAdHEaDAENdA9wBXY%3D.jpg\"/>"
      ],
      "text/plain": [
       "<IPython.core.display.Image object>"
      ]
     },
     "metadata": {},
     "output_type": "display_data"
    },
    {
     "name": "stdout",
     "output_type": "stream",
     "text": [
      "42 \n",
      " (CNN) Miranda Lambert has a cure for going stir crazy amid the pandemic.  A road trip.  The country music artist announced on her Instagram page that she had purchased a 2020 Airstream Globetrotter trailer to travel across the country with her husband, Brendan McLoughlin.  \"When people ask me questions about all the traveling I've done, my answer is pretty much the same every time. 'I've been everywhere but I haven't seen much of anything,'\" Lambert wrote on Instagram, alongside a photo of herself and her husband next to the trailer. \"I've been touring for 19 years and most times we just roll in, play our show, and roll to the next town. I've only gotten to spend some real time in a few of the places I've been. After spending these last few months at home (a much needed break and time to nest❤️) I realized something. Just because I can't travel and play shows doesn't mean I can't travel and make music. I have the most amazing travel companion, my husband, and we decided to add a family member.\"  Lambert revealed that she's nicknamed the trailer, \"The Sheriff.\"  Read More\n",
      "Sans malus\n"
     ]
    },
    {
     "data": {
      "text/html": [
       "<img src=\"https://api.afp.com/objects/api/medias?id=a1kkIS0nShZdXlcxVgJEXV1EQksZdHsUFnNyEWh0dhRxdQYedQRzcWkXTFBOXVQqVkYaX0JXEltfIX9GQFxVMUQgFjYsVgxbPVogNTcjFFpBU1UgV1lZUEFRXh5HLCYQUlttAEUgczRjQF5cIQkwMC0lUlVCWVNjXFVEXEBVXgUHc3MeDgcAdg90B3tx.jpg\"/>"
      ],
      "text/plain": [
       "<IPython.core.display.Image object>"
      ]
     },
     "metadata": {},
     "output_type": "display_data"
    },
    {
     "data": {
      "text/html": [
       "<img src=\"https://api.afp.com/objects/api/medias?id=a1kkIS0nShZdXlcxVgJEXV1EQksZd3cZFnNyEWh0dhRxZGAedQRzcWkXTFBOXVQqVkYaX0JXEltfIX9GQFxVMUQgFjYsVgxbPVogNTcjFFpBU1UgV1lZUEFRXh5HLCYQUlttAEUgczRjQF5cIQkwMC0lUlVCWVNjXFVEXEBVXgUHc3MeDgcAdg90B3t3.jpg\"/>"
      ],
      "text/plain": [
       "<IPython.core.display.Image object>"
      ]
     },
     "metadata": {},
     "output_type": "display_data"
    },
    {
     "data": {
      "text/html": [
       "<img src=\"https://api.afp.com/objects/api/medias?id=a1kkIS0nShZdX1sxTF9RGkJYQkxZNm0fCwUbcAV2H3FxAx4AcxsAAxQZCHRuBmAHFHxBXFFbQVdZLmxHSVULIl4hDSg8XFBAN1FnMC0iBFJUWFk1SkgZVl5VQF1YMS9ISlNHZ0YsVH4zfHAGd1IAfWI0VlVIC0kwUE5fWV1fRh5TPTJES1dHfAZzAXByBwMBcgZ3dnc%3D.jpg\"/>"
      ],
      "text/plain": [
       "<IPython.core.display.Image object>"
      ]
     },
     "metadata": {},
     "output_type": "display_data"
    },
    {
     "data": {
      "text/html": [
       "<img src=\"https://api.afp.com/objects/api/medias?id=a1kkIS0nShZdXlcxVgJEXV1EQksZdnQCeHRkHgYDenEGdB8BdAZ1aBUzUFpGWlcqUgNeRVUPTlFSeClUV1NEMlJjRSohD1pJKlUxNiFrWlVIW10rTUBRRlNDC0lfIX9IWnYHdFoiWGU3XV1VeUU0LCctVVZCXR4gQV1dR1dDEAkAdHEaDAYMdAF0AXs%3D.jpg\"/>"
      ],
      "text/plain": [
       "<IPython.core.display.Image object>"
      ]
     },
     "metadata": {},
     "output_type": "display_data"
    },
    {
     "data": {
      "text/html": [
       "<img src=\"https://api.afp.com/objects/api/medias?id=a1kkIS0nShZdXlcxVgJEXV1EQksZc3YCeHRkHgYDenEcCx8BdAZ1aBUzUFpGWlcqUgNeRVUPTlFSeClUV1NEMlJjRSohD1pJKlUxNiFrWlVIW10rTUBRRlNDC0lfIX9IWnYHdFoiWGU3XV1VeUU0LCctVVZCXR4gQV1dR1dDEAkAdHEaDAYMdAF0AHo%3D.jpg\"/>"
      ],
      "text/plain": [
       "<IPython.core.display.Image object>"
      ]
     },
     "metadata": {},
     "output_type": "display_data"
    },
    {
     "data": {
      "text/html": [
       "<img src=\"https://api.afp.com/objects/api/medias?id=a1kkIS0nShZdXlcxVgJEXV1EQksZdHACeHRkHgYJeXMNZR8BdAZ1aBUzUFpGWlcqUgNeRVUPTlFSeClUV1NEMlJjRSohD1pJKlUxNiFrWlVIW10rTUBRRlNDC0lfIX8bTmcGFGMkCWU3XV1VeUU0LCctVVZCXR4gQV1dR1dDEAkAdHEaDAENdA9wCHM%3D.jpg\"/>"
      ],
      "text/plain": [
       "<IPython.core.display.Image object>"
      ]
     },
     "metadata": {},
     "output_type": "display_data"
    },
    {
     "name": "stdout",
     "output_type": "stream",
     "text": [
      "malus\n"
     ]
    },
    {
     "data": {
      "text/html": [
       "<img src=\"https://api.afp.com/objects/api/medias?id=a1kkIS0nShZdXlcxVgJEXV1EQksZdnQCeHRkHgYDenEGdB8BdAZ1aBUzUFpGWlcqUgNeRVUPTlFSeClUV1NEMlJjRSohD1pJKlUxNiFrWlVIW10rTUBRRlNDC0lfIX9IWnYHdFoiWGU3XV1VeUU0LCctVVZCXR4gQV1dR1dDEAkAdHEaDAYMdAF0AXs%3D.jpg\"/>"
      ],
      "text/plain": [
       "<IPython.core.display.Image object>"
      ]
     },
     "metadata": {},
     "output_type": "display_data"
    },
    {
     "data": {
      "text/html": [
       "<img src=\"https://api.afp.com/objects/api/medias?id=a1kkIS0nShZdXlcxVgJEXV1EQksZc3YCeHRkHgYDenEcCx8BdAZ1aBUzUFpGWlcqUgNeRVUPTlFSeClUV1NEMlJjRSohD1pJKlUxNiFrWlVIW10rTUBRRlNDC0lfIX9IWnYHdFoiWGU3XV1VeUU0LCctVVZCXR4gQV1dR1dDEAkAdHEaDAYMdAF0AHo%3D.jpg\"/>"
      ],
      "text/plain": [
       "<IPython.core.display.Image object>"
      ]
     },
     "metadata": {},
     "output_type": "display_data"
    },
    {
     "data": {
      "text/html": [
       "<img src=\"https://api.afp.com/objects/api/medias?id=a1kkIS0nShZdXlcxVgJEXV1EQksZdHACeHRkHgYJeXMNZR8BdAZ1aBUzUFpGWlcqUgNeRVUPTlFSeClUV1NEMlJjRSohD1pJKlUxNiFrWlVIW10rTUBRRlNDC0lfIX8bTmcGFGMkCWU3XV1VeUU0LCctVVZCXR4gQV1dR1dDEAkAdHEaDAENdA9wCHM%3D.jpg\"/>"
      ],
      "text/plain": [
       "<IPython.core.display.Image object>"
      ]
     },
     "metadata": {},
     "output_type": "display_data"
    },
    {
     "data": {
      "text/html": [
       "<img src=\"https://api.afp.com/objects/api/medias?id=a1kkIS0nShZdXlcxVgJEXV1EQksZd3EaFnNyEWh0fAp1dWEedQRzcWkXTFBOXVQqVkYaX0JXEltfIX9GQFxVMUQgFjYsVgxbPVogNTcjFFpBU1UgV1lZUEFRXh5HLCYQD0Vhc2IRUXpjQF5cIQkwMC0lUlVCWVNjXFVEXEBVXgUHc3MeDgcHeAJ9BXRy.jpg\"/>"
      ],
      "text/plain": [
       "<IPython.core.display.Image object>"
      ]
     },
     "metadata": {},
     "output_type": "display_data"
    },
    {
     "data": {
      "text/html": [
       "<img src=\"https://api.afp.com/objects/api/medias?id=a1kkIS0nShZdXlcxVgJEXV1EQksZdHQCeHRkHgYJeXMXdB8BdAZ1aBUzUFpGWlcqUgNeRVUPTlFSeClUV1NEMlJjRSohD1pJKlUxNiFrWlVIW10rTUBRRlNDC0lfIX8bTmcGFGMkCWU3XV1VeUU0LCctVVZCXR4gQV1dR1dDEAkAdHEaDAENdA9wBXY%3D.jpg\"/>"
      ],
      "text/plain": [
       "<IPython.core.display.Image object>"
      ]
     },
     "metadata": {},
     "output_type": "display_data"
    },
    {
     "data": {
      "text/html": [
       "<img src=\"https://api.afp.com/objects/api/medias?id=a1kkIS0nShZdXlcxVgJEXV1EQksZd3cZFnNyEWh0fAp1amMedQRzcWkXTFBOXVQqVkYaX0JXEltfIX9GQFxVMUQgFjYsVgxbPVogNTcjFFpBU1UgV1lZUEFRXh5HLCYQD0Vhc2IRUXpjQF5cIQkwMC0lUlVCWVNjXFVEXEBVXgUHc3MeDgcHeAJ9BHN1.jpg\"/>"
      ],
      "text/plain": [
       "<IPython.core.display.Image object>"
      ]
     },
     "metadata": {},
     "output_type": "display_data"
    },
    {
     "name": "stdout",
     "output_type": "stream",
     "text": [
      "45 \n",
      " It's an idea that intrigues German-born photographer Corinna Kern , who moved into a squatted commercial building for several months in order to document the uncommon lifestyle unfolding behind its walls.  She first visited a squat -- a building occupied by people who don't own it or pay rent -- out of personal interest in April 2013, while she was in London studying for her master's degree.  The notion that this interest could be developed into a wider concept only came along a month or two later, she said. The result is a striking collection of photographs and text titled \"A Place Called Home,\" in which she seeks to challenge common preconceptions about squatters -- and explore the idea that home is more a feeling than a physical place.  Having moved into her new home in a squat in Kentish Town, north London, Kern had to figure out how to coexist in one building with 30 people and three dogs. She also found herself part of a wider alternative community that's both transient and close-knit.  Through the connections she made, she visited six other squats in north and south London. One was in a former fabric warehouse, another in an abandoned garden center, a third in a white-walled former design studio.  \"As the squatting scene is very interconnected, I came to discover how diverse squats can be, both in their visual appearance and emotional vibe,\" she said. \"The unusualness of the different places, which may not comply with the idea of home in the common sense, intrigued me and shaped my project.\"  All the squats Kern visited were in former commercial premises. A law enacted in September 2012 made it illegal to squat in residential properties.  I came to discover how diverse squats can be, both in their visual appearance and emotional vibe. Corinna Kern  With housing costs high in London and affordable options in short supply, squatting can seem an appealing option to some people -- although, as Kern points out, it's not a lifestyle chosen simply because of homelessness or poverty.  \"What might commonly be perceived as a shelter for the homeless or poor is often a conscious choice of an alternative and communal way of living,\" she writes in the text accompanying her images.  \"The squatting lifestyle attracts many individuals on their search for adventure, freedom, friendship and self-discovery. Yet, it demands sacrifices and the ability to change and adapt.\"  The squatters' campaign group SQUASH (Squatters' Action for Secure Homes) says no one knows how many squatters there are nationwide at any one time. But it is clear that tens of thousands of people in the UK have squatted at one time or another, it says.  Social media Follow @CNNPhotos on Twitter to join the conversation about photography.  The Empty Homes Agency, an independent charity group that campaigns for empty homes to be used for those in need, estimates that there are currently 610,000 empty homes in England. About one-third of these homes have been empty for six or more months, it says.  But since it's now illegal to squat in residential properties, empty or not, squatters have turned to London's disused commercial buildings, many of which have been left empty long-term.  When squatters move in, they bring a new life to the space, often surprising in its incongruity. In one of Kern's photographs, taken inside the disused fabric warehouse, a man rests on a shelf used for storing rolls of cloth. He's hard to spot at first among the jumble of multicolored fabric.  Other images show \"The Castle,\" a former five-story office block in central London that is now a home for more than 100 squatters -- and a site for raves. Graffiti covers the walls, and party detritus is scattered across the floor where office workers once walked.  Another of Kern's photographs, taken in a squat in a former cabaret restaurant, shows a young man and woman, semi-clothed and hard at work to repair and alter their surroundings using cloth and wood.  For her project, Kern says, she used only a wide-angle lens to reflect the closeness of her subjects. \"The use of natural light adds to a candid feel,\" she said, adding to the authenticity of the images.  \"I visually tried to convey the very different vibes of the squats that became homes, according to both their residents and the nature of the occupied spaces. Especially for the squat that I stayed at, I focused largely on the communal lifestyle in order to convey a sense of home.\"  Far from encountering resistance as she ventured into people's intimate space, Kern says she made many friends. This was in part because she won people's trust by living among them -- but also because her project aimed to celebrate the positive aspects of their lifestyle rather than reinforce the negative stereotypes of squatters as wasters, tax dodgers or down-and-outs.  \"My fellow squatters knew that I was a photographer documenting the squatting lifestyle, since I was always carrying my camera with me,\" she said.  \"The squatters were very welcoming when I first met them, became my friends, hence the majority reacted positively towards me taking photographs.\"  Despite the privations that come with squatting in buildings that often have no electricity or running water, Kern says she would do it again -- although she wants to try out the many other alternative lifestyles out there first.  From her images and her words, it's clear she found her time in a squat an overwhelmingly rewarding experience.  \"You may not have a shower, but you may gain the most amazing rooftop views,\" she writes. \"You may have to share your room with seven other people, but you may share your happiest moments with them. You may have to move 10 times a year, but the diverse places and people you meet become an integral part of your journey through life, turning it into anything but ordinary.\"\n",
      "Sans malus\n"
     ]
    },
    {
     "data": {
      "text/html": [
       "<img src=\"https://api.afp.com/objects/api/medias?id=a1kkIS0nShZdXlcxVgJEXV1EQksZdnUCeHRkHgYPZ3QfYR8BdAZ1aBUzUFpGWlcqUgNeRVUPTlFSeClUV1NEMlJjRSohD1pJKlUxNiFrWlVIW10rTUBRRlNDC0lfIX9gDHFid34OBGU3XV1VeUU0LCctVVZCXR4gQV1dR1dDEAkAdHEaDAYFdQJ2AXA%3D.jpg\"/>"
      ],
      "text/plain": [
       "<IPython.core.display.Image object>"
      ]
     },
     "metadata": {},
     "output_type": "display_data"
    },
    {
     "data": {
      "text/html": [
       "<img src=\"https://api.afp.com/objects/api/medias?id=a1kkIS0nShZdXlcxVgJEXV1EQksZd3IUFnNyEWh0dxt9A3gedQRzcWkXTFBOXVQqVkYaX0JXEltfIX9GQFxVMUQgFjYsVgxbPVogNTcjFFpBU1UgV1lZUEFRXh5HLCYQaHRXIgcCUzJjQF5cIQkwMC0lUlVCWVNjXFVEXEBVXgUHc3MeDgcAdwd1Bntz.jpg\"/>"
      ],
      "text/plain": [
       "<IPython.core.display.Image object>"
      ]
     },
     "metadata": {},
     "output_type": "display_data"
    },
    {
     "data": {
      "text/html": [
       "<img src=\"https://api.afp.com/objects/api/medias?id=a1kkIS0nShZdXlcxVgJEXV1EQksZdHYeFnNyEWh0dRlzBAUedQRzcWkXTFBOXVQqVkYaX0JXEltfIX9GQFxVMUQgFjYsVgxbPVogNTcjFFpBU1UgV1lZUEFRXh5HLCYQXgFNCGEtR3ZjQF5cIQkwMC0lUlVCWVNjXFVEXEBVXgUHc3MeDgcAeAByBXt9.jpg\"/>"
      ],
      "text/plain": [
       "<IPython.core.display.Image object>"
      ]
     },
     "metadata": {},
     "output_type": "display_data"
    },
    {
     "data": {
      "text/html": [
       "<img src=\"https://api.afp.com/objects/api/medias?id=a1kkIS0nShZdXlcxVgJEXV1EQksZd3IeFnNyEWh0dRlzYgMedQRzcWkXTFBOXVQqVkYaX0JXEltfIX9GQFxVMUQgFjYsVgxbPVogNTcjFFpBU1UgV1lZUEFRXh5HLCYQXgFNCGEtR3ZjQF5cIQkwMC0lUlVCWVNjXFVEXEBVXgUHc3MeDgcAeAByBHZ3.jpg\"/>"
      ],
      "text/plain": [
       "<IPython.core.display.Image object>"
      ]
     },
     "metadata": {},
     "output_type": "display_data"
    },
    {
     "data": {
      "text/html": [
       "<img src=\"https://api.afp.com/objects/api/medias?id=a1kkIS0nShZdXlcxVgJEXV1EQksZfXUCeHRkHgYNCHd9Ch8BdAZ1aBUzUFpGWlcqUgNeRVUPTlFSeClUV1NEMlJjRSohD1pJKlUxNiFrWlVIW10rTUBRRlNDC0lfIX9uCHd%2BBXEVXmU3XV1VeUU0LCctVVZCXR4gQV1dR1dDEAkAdHEaDAYBdA5zAXQ%3D.jpg\"/>"
      ],
      "text/plain": [
       "<IPython.core.display.Image object>"
      ]
     },
     "metadata": {},
     "output_type": "display_data"
    },
    {
     "data": {
      "text/html": [
       "<img src=\"https://api.afp.com/objects/api/medias?id=a1kkIS0nShZdXlcxVgJEXV1EQksZdHEeFnNyEWh0eHtxegQedQRzcWkXTFBOXVQqVkYaX0JXEltfIX9GQFxVMUQgFjYsVgxbPVogNTcjFFpBU1UgV1lZUEFRXh5HLCYQegNxC3MDYC1jQF5cIQkwMC0lUlVCWVNjXFVEXEBVXgUHc3MeDgcAdAJ8BXR1.jpg\"/>"
      ],
      "text/plain": [
       "<IPython.core.display.Image object>"
      ]
     },
     "metadata": {},
     "output_type": "display_data"
    },
    {
     "name": "stdout",
     "output_type": "stream",
     "text": [
      "malus\n"
     ]
    },
    {
     "data": {
      "text/html": [
       "<img src=\"https://api.afp.com/objects/api/medias?id=a1kkIS0nShZdXlcxVgJEXV1EQksZd3IUFnNyEWh0dxt9A3gedQRzcWkXTFBOXVQqVkYaX0JXEltfIX9GQFxVMUQgFjYsVgxbPVogNTcjFFpBU1UgV1lZUEFRXh5HLCYQaHRXIgcCUzJjQF5cIQkwMC0lUlVCWVNjXFVEXEBVXgUHc3MeDgcAdwd1Bntz.jpg\"/>"
      ],
      "text/plain": [
       "<IPython.core.display.Image object>"
      ]
     },
     "metadata": {},
     "output_type": "display_data"
    },
    {
     "data": {
      "text/html": [
       "<img src=\"https://api.afp.com/objects/api/medias?id=a1kkIS0nShZdXlcxVgJEXV1EQksZdnUCeHRkHgYPZ3QfYR8BdAZ1aBUzUFpGWlcqUgNeRVUPTlFSeClUV1NEMlJjRSohD1pJKlUxNiFrWlVIW10rTUBRRlNDC0lfIX9gDHFid34OBGU3XV1VeUU0LCctVVZCXR4gQV1dR1dDEAkAdHEaDAYFdQJ2AXA%3D.jpg\"/>"
      ],
      "text/plain": [
       "<IPython.core.display.Image object>"
      ]
     },
     "metadata": {},
     "output_type": "display_data"
    },
    {
     "data": {
      "text/html": [
       "<img src=\"https://api.afp.com/objects/api/medias?id=a1kkIS0nShZdXlcxVgJEXV1EQksZdXECeHRkHgYPdXYWZh8BdAZ1aBUzUFpGWlcqUgNeRVUPTlFSeClUV1NEMlJjRSohD1pJKlUxNiFrWlVIW10rTUBRRlNDC0lfIX91fH5HEg8NBWU3XV1VeUU0LCctVVZCXR4gQV1dR1dDEAkAdHEaDAYGcw5yAnc%3D.jpg\"/>"
      ],
      "text/plain": [
       "<IPython.core.display.Image object>"
      ]
     },
     "metadata": {},
     "output_type": "display_data"
    },
    {
     "data": {
      "text/html": [
       "<img src=\"https://api.afp.com/objects/api/medias?id=a1kkIS0nShZdX1sxTF9RGkJYQkxZNm0dDh0FdgdqBXFqAQEfBXIRGnUIdA9%2FZhUUTERXXl5fQlMYLzJKBlFdJQouSS0kQkJVYkEoIXktQFdMRksgFE5YUF9VQ0xbIDFMShRFKFN4dAkHfnJYMm5nNysqXARcQ1EmUkFbWlkWSEBGLDBISg8FdwZ2B3Z3AgAEcAJ1.jpg\"/>"
      ],
      "text/plain": [
       "<IPython.core.display.Image object>"
      ]
     },
     "metadata": {},
     "output_type": "display_data"
    },
    {
     "data": {
      "text/html": [
       "<img src=\"https://api.afp.com/objects/api/medias?id=a1kkIS0nShZdXlcxVgJEXV1EQksZc3UCeHRkHgYCAHdyBx8BdAZ1aBUzUFpGWlcqUgNeRVUPTlFSeClUV1NEMlJjRSohD1pJKlUxNiFrWlVIW10rTUBRRlNDC0lfIX9vYQN9dXw3emU3XV1VeUU0LCctVVZCXR4gQV1dR1dDEAkAdHEaDAYDdwZxAXY%3D.jpg\"/>"
      ],
      "text/plain": [
       "<IPython.core.display.Image object>"
      ]
     },
     "metadata": {},
     "output_type": "display_data"
    },
    {
     "data": {
      "text/html": [
       "<img src=\"https://api.afp.com/objects/api/medias?id=a1kkIS0nShZdXlcxVgJEXV1EQksZc3oCeHRkHgYNdnIRAB8BdAZ1aBUzUFpGWlcqUgNeRVUPTlFSeClUV1NEMlJjRSohD1pJKlUxNiFrWlVIW10rTUBRRlNDC0lfIX9sbAV9KXUkY2U3XV1VeUU0LCctVVZCXR4gQV1dR1dDEAkAdHEaDAYBcw90CXU%3D.jpg\"/>"
      ],
      "text/plain": [
       "<IPython.core.display.Image object>"
      ]
     },
     "metadata": {},
     "output_type": "display_data"
    },
    {
     "name": "stdout",
     "output_type": "stream",
     "text": [
      "51 \n",
      " (CNN) As he tended to his goats one afternoon in the Ethiopian highlands some 12 centuries ago, a herder named Kaldi noticed that his bleating charges seemed energized after chewing mysterious red berries.  Intrigued by the strange reaction, Kaldi took the berries to a local monastery, where the monks promptly threw them in the fire disapproving of their apparently magical attributes.  As the berries were roasted by the heat, a heavenly aroma spread, and they were used to make the first coffee.  Or so the legend of coffee goes. What is more certain is that Ethiopia, widely regarded as the cradle of coffee, is a nation devoted to the stimulating beverage. The country is Africa's biggest producer and ranks fifth globally. Last year it exported 190,000 tonnes of coffee beans, earning around $700 million, and in 2016 Ethiopia's capital Addis Ababa will host the 4th World Coffee Conference, a high-level gathering of global experts.  Benan Barwick/CNN Benan Barwick/CNN  Coffee connoisseurs  Read More\n",
      "Sans malus\n"
     ]
    },
    {
     "data": {
      "text/html": [
       "<img src=\"https://api.afp.com/objects/api/medias?id=a1kkIS0nShZdX1sxTF9RGkJYQkxZNm0cAB0DdBhzAmx3AwQfBXIRGnULbgp5YBUUTERXXl5fQlMYLzJKBlFdJQouSS0kQkJVYkEoIXktQFdMRksgFE5YUF9VQ0xbIDFMShRFKFN4Ri8IBwkAKH1nNysqXARcQ1EmUkFbWlkWSEBGLDBISg8FdwZ2B3Z3AgkEcg1y.jpg\"/>"
      ],
      "text/plain": [
       "<IPython.core.display.Image object>"
      ]
     },
     "metadata": {},
     "output_type": "display_data"
    },
    {
     "data": {
      "text/html": [
       "<img src=\"https://api.afp.com/objects/api/medias?id=a1kkIS0nShZdX1sxTF9RGkJYQkxZNm0fDQAbcABzH3J8Cx4DchsAAxQZCHR6AmAVFHxBXFFbQVdZLmxHSVULIl4hDSg8XFBAN1FnMC0iBFJUWFk1SkgZVl5VQF1YMS9ISlNHZ0YsVH4zXnwFfAQtDGI0VlVIC0kwUE5fWV1fRh5TPTJES1dHfAZzAXByBwMAfAB3fHU%3D.jpg\"/>"
      ],
      "text/plain": [
       "<IPython.core.display.Image object>"
      ]
     },
     "metadata": {},
     "output_type": "display_data"
    },
    {
     "data": {
      "text/html": [
       "<img src=\"https://api.afp.com/objects/api/medias?id=a1kkIS0nShZdX1sxTF9RGkJYQkxZNm0dAB0MdBhwAmx3AAQfBXIRGnULbg14fRUUTERXXl5fQlMYLzJKBlFdJQouSS0kQkJVYkEoIXktQFdMRksgFE5YUF9VQ0xbIDFMShRFKFN4Ri8IBwkAKH1nNysqXARcQ1EmUkFbWlkWSEBGLDBISg8FdwZ2B3Z3AgkEcgJ3.jpg\"/>"
      ],
      "text/plain": [
       "<IPython.core.display.Image object>"
      ]
     },
     "metadata": {},
     "output_type": "display_data"
    },
    {
     "data": {
      "text/html": [
       "<img src=\"https://api.afp.com/objects/api/medias?id=a1kkIS0nShZdXlcxVgJEXV1EQksZcXYCeHRkHgYDYnpzYh8BdAZ1aBUzUFpGWlcqUgNeRVUPTlFSeClUV1NEMlJjRSohD1pJKlUxNiFrWlVIW10rTUBRRlNDC0lfIX8dSUpSJm8SUWU3XV1VeUU0LCctVVZCXR4gQV1dR1dDEAkAdHEaDAYMcQ9xAXU%3D.jpg\"/>"
      ],
      "text/plain": [
       "<IPython.core.display.Image object>"
      ]
     },
     "metadata": {},
     "output_type": "display_data"
    },
    {
     "data": {
      "text/html": [
       "<img src=\"https://api.afp.com/objects/api/medias?id=a1kkIS0nShZdXlcxVgJEXV1EQksZdHUeFnNyEWh0dgp1dgQedQRzcWkXTFBOXVQqVkYaX0JXEltfIX9GQFxVMUQgFjYsVgxbPVogNTcjFFpBU1UgV1lZUEFRXh5HLCYQdgNOBXwHVi1jQF5cIQkwMC0lUlVCWVNjXFVEXEBVXgUHc3MeDgcAeQF0CHV3.jpg\"/>"
      ],
      "text/plain": [
       "<IPython.core.display.Image object>"
      ]
     },
     "metadata": {},
     "output_type": "display_data"
    },
    {
     "data": {
      "text/html": [
       "<img src=\"https://api.afp.com/objects/api/medias?id=a1kkIS0nShZdXlcxVgJEXV1EQksZfXQCeHRkHgYDeXMEBR8BdAZ1aBUzUFpGWlcqUgNeRVUPTlFSeClUV1NEMlJjRSohD1pJKlUxNiFrWlVIW10rTUBRRlNDC0lfIX9iCEhwCnUjXmU3XV1VeUU0LCctVVZCXR4gQV1dR1dDEAkAdHEaDAYMdwZ9BXo%3D.jpg\"/>"
      ],
      "text/plain": [
       "<IPython.core.display.Image object>"
      ]
     },
     "metadata": {},
     "output_type": "display_data"
    },
    {
     "name": "stdout",
     "output_type": "stream",
     "text": [
      "malus\n"
     ]
    },
    {
     "data": {
      "text/html": [
       "<img src=\"https://api.afp.com/objects/api/medias?id=a1kkIS0nShZdXlcxVgJEXV1EQksZcXYCeHRkHgYDYnpzYh8BdAZ1aBUzUFpGWlcqUgNeRVUPTlFSeClUV1NEMlJjRSohD1pJKlUxNiFrWlVIW10rTUBRRlNDC0lfIX8dSUpSJm8SUWU3XV1VeUU0LCctVVZCXR4gQV1dR1dDEAkAdHEaDAYMcQ9xAXU%3D.jpg\"/>"
      ],
      "text/plain": [
       "<IPython.core.display.Image object>"
      ]
     },
     "metadata": {},
     "output_type": "display_data"
    },
    {
     "data": {
      "text/html": [
       "<img src=\"https://api.afp.com/objects/api/medias?id=a1kkIS0nShZdXlcxVgJEXV1EQksZd3MeFnNyEWh0dhF8BH4edQRzcWkXTFBOXVQqVkYaX0JXEltfIX9GQFxVMUQgFjYsVgxbPVogNTcjFFpBU1UgV1lZUEFRXh5HLCYQCUJMJ1AdZyJjQF5cIQkwMC0lUlVCWVNjXFVEXEBVXgUHc3MeDgcAeQd9BHJ3.jpg\"/>"
      ],
      "text/plain": [
       "<IPython.core.display.Image object>"
      ]
     },
     "metadata": {},
     "output_type": "display_data"
    },
    {
     "data": {
      "text/html": [
       "<img src=\"https://api.afp.com/objects/api/medias?id=a1kkIS0nShZdXlcxVgJEXV1EQksZdHAaFnNyEWh0dhB0AgQedQRzcWkXTFBOXVQqVkYaX0JXEltfIX9GQFxVMUQgFjYsVgxbPVogNTcjFFpBU1UgV1lZUEFRXh5HLCYQCUJMJ1AdZyJjQF5cIQkwMC0lUlVCWVNjXFVEXEBVXgUHc3MeDgcAeQd9BHN2.jpg\"/>"
      ],
      "text/plain": [
       "<IPython.core.display.Image object>"
      ]
     },
     "metadata": {},
     "output_type": "display_data"
    },
    {
     "data": {
      "text/html": [
       "<img src=\"https://api.afp.com/objects/api/medias?id=a1kkIS0nShZdXlcxVgJEXV1EQksZdHEVFnNyEWh0fHV3AXAedQRzcWkXTFBOXVQqVkYaX0JXEltfIX9GQFxVMUQgFjYsVgxbPVogNTcjFFpBU1UgV1lZUEFRXh5HLCYQXgdWGFh8exRjQF5cIQkwMC0lUlVCWVNjXFVEXEBVXgUHc3MeDgcHeA5xAHd3.jpg\"/>"
      ],
      "text/plain": [
       "<IPython.core.display.Image object>"
      ]
     },
     "metadata": {},
     "output_type": "display_data"
    },
    {
     "data": {
      "text/html": [
       "<img src=\"https://api.afp.com/objects/api/medias?id=a1kkIS0nShZdX1sxTF9RGkJYQkxZNm0cAB0DdBhzAmx3AwQfBXIRGnULbgp5YBUUTERXXl5fQlMYLzJKBlFdJQouSS0kQkJVYkEoIXktQFdMRksgFE5YUF9VQ0xbIDFMShRFKFN4Ri8IBwkAKH1nNysqXARcQ1EmUkFbWlkWSEBGLDBISg8FdwZ2B3Z3AgkEcg1y.jpg\"/>"
      ],
      "text/plain": [
       "<IPython.core.display.Image object>"
      ]
     },
     "metadata": {},
     "output_type": "display_data"
    },
    {
     "data": {
      "text/html": [
       "<img src=\"https://api.afp.com/objects/api/medias?id=a1kkIS0nShZdX1sxTF9RGkJYQkxZNm0fDQAbcABzH3J8Cx4DchsAAxQZCHR6AmAVFHxBXFFbQVdZLmxHSVULIl4hDSg8XFBAN1FnMC0iBFJUWFk1SkgZVl5VQF1YMS9ISlNHZ0YsVH4zXnwFfAQtDGI0VlVIC0kwUE5fWV1fRh5TPTJES1dHfAZzAXByBwMAfAB3fHU%3D.jpg\"/>"
      ],
      "text/plain": [
       "<IPython.core.display.Image object>"
      ]
     },
     "metadata": {},
     "output_type": "display_data"
    },
    {
     "name": "stdout",
     "output_type": "stream",
     "text": [
      "53 \n",
      " Written by Allyssia Alleyne, CNN  Once the go-to brand for Michelle Obama, J. Crew has been a staple of the American fashion landscape for decades but in recent years it lost its footing. Now, with almost 500 stores worldwide currently shuttered by the coronavirus pandemic, J. Crew Group Inc. -- which operates J.Crew and Madewell -- filed for bankruptcy on Monday.  Reporting a $78.8 million net loss during its most recent fiscal year and burdened with more than $1 billion in debt , J. Crew's fall shouldn't come as a surprise. But to see the brand -- a mall mainstay across US -- reduced to this position still comes as a shock.  According to CEO Jan Singer ( formerly chief executive at Victoria's Secret ), the move is part of an \"ongoing process to transform our business with the goal of driving long-term, sustainable growth for J.Crew and further enhancing Madewell's growth momentum.\"  J. Crew Group started as Popular Club Plan in 1947, a door-to-door business that sold inexpensive women's apparel. In 1983 the company relaunched as J. Crew, a catalog-only retailer, and positioned themselves as a cheaper alternative to Ralph Lauren. The first J. Crew store opened in 1989, in Manhattan, selling cheery American prepwear.  But it was about ten years ago that J. Crew really hit its stride -- changing its image from comfortable to chic, and becoming an inescapable part of the fashion landscape, from magazines and style blogs to the everywoman's wardrobe.  Jenna Lyons at the 2015 Met Gala, in New York City.  Under the stewardship of CEO and chairman Mickey Drexler (now chairman of the athletic apparel brand Outdoor Voices) and Jenna Lyons, who took over as creative director in 2008 and was promoted to president two years later, J. Crew came to epitomize a certain type of recession-era elegance.  Inspired by Lyons' own signature mix of casual designs and high-end pieces (she famously wore a feathered ball skirt and a slouchy beige sweater to the 2011 Met Gala), J.Crew sold pastel button-downs and perfectly draped T-shirts; sequinned blazers and oversized costume jewelry; jacquard trousers and distressed jeans.              1 / 7 Seen here in a J. Crew argyle sweater in 2012, Michelle Obama has been a big fan of the American brand. Credit: Alex Wong/Getty Images  Poppy campaigns fronted by Joan Smalls, Sasha Pivovarova, Amber Valletta, Lauren Hutton and other top models provided social media fodder. Lyons' approach was so widely embraced that, in 2013, the New York Times dubbed her \"The woman who dresses America.\" The brand offered a more accessible kind luxury.  First lady Michelle Obama chose a pair of J. Crew pumps for the 2012 Democratic National Convention. Credit: Douglas Graham/CQ Roll Call/Getty Images  Celebrities like Jessica Alba, Blake Lively, Gwyneth Paltrow (a 2012 campaign star) and Reese Witherspoon were often spotted out in their J. Crew best. But their most influential celebrity fan was Michelle Obama.  Mirroring Lyons' high-low sensibility, Obama seemed to have the brand in constant rotation during her term as First Lady -- J. Crew leather gloves were paired with a lime Isabel Toledo ensemble at her husband's 2009 inauguration, a salmon skirt and sweater were worn in the pages of Vogue, pink pumps complemented a brocade dress by Tracy Reese at the 2012 Democratic National Convention.  Michelle Obama at \"The Tonight Show\" in October 2008, wearing J. Crew. Credit: Paul Drinkwater/NBCU Photo Bank/Getty Images  Her influence led to both sold-out stock and stock market boosts: In a 2010 study, New York University professor David Yermack found that J. Crew's stock increased 25% after Obama wore J.Crew on \"The Tonight Show\" in October 2008.  But J. Crew has struggled to maintain that level of covetability in recent years, as once-devoted shoppers bemoaned the brand's increasingly eccentric designs and ever-climbing prices. In 2017, Lyons left the brand and was replaced by Johanna Uurasjarvi the following year. She was quickly replaced by Chris Benz, who was hired in early 2019. Neither was able to reignite interest in J.Crew.  Today, both Lyons' once-profitable eclectic preppiness and the brand's original argyle sweaters and prim chinos seem from a different time. In an era of gender-neutral dressing, streetwear and -- more recently -- lockdown loungewear, it appears trends and shoppers have moved on and J. Crew has not. Unfortunately, irrelevance comes at a high price.\n",
      "Sans malus\n"
     ]
    },
    {
     "data": {
      "text/html": [
       "<img src=\"https://api.afp.com/objects/api/medias?id=a1kkIS0nShZdXlcxVgJEXV1EQksZd3cZFnNyEWh0egVwZmMedQRzcWkXTFBOXVQqVkYaX0JXEltfIX9GQFxVMUQgFjYsVgxbPVogNTcjFFpBU1UgV1lZUEFRXh5HLCYQf1dfNgEUQgZjQF5cIQkwMC0lUlVCWVNjXFVEXEBVXgUHc3MeDgcAcwVzAXN3.jpg\"/>"
      ],
      "text/plain": [
       "<IPython.core.display.Image object>"
      ]
     },
     "metadata": {},
     "output_type": "display_data"
    },
    {
     "data": {
      "text/html": [
       "<img src=\"https://api.afp.com/objects/api/medias?id=a1kkIS0nShZdX1sxTF9RGkJYQkxZNm0VAR0DdRhxBWxzCx5xAmQedAoCDHseG2kwUE5fWV1fRhZcNSUSWltQfFw8XiI1QVQWMV0leC8%2FV1hdRV1oWkFRWFdeWVVTNiNeH0NdJQotYgUcd2VeBRIzKigjBEhYX1suVUJbXhRVVUhfNydeBAMCcARyBXF1AQYBdgA%3D.jpg\"/>"
      ],
      "text/plain": [
       "<IPython.core.display.Image object>"
      ]
     },
     "metadata": {},
     "output_type": "display_data"
    },
    {
     "data": {
      "text/html": [
       "<img src=\"https://api.afp.com/objects/api/medias?id=a1kkIS0nShZdXlcxVgJEXV1EQksZdHMdFnNyEWh0e3dwYgUedQRzcWkXTFBOXVQqVkYaX0JXEltfIX9GQFxVMUQgFjYsVgxbPVogNTcjFFpBU1UgV1lZUEFRXh5HLCYQTXxXJlICfytjQF5cIQkwMC0lUlVCWVNjXFVEXEBVXgUHc3MeDgcAcAZwCXR8.jpg\"/>"
      ],
      "text/plain": [
       "<IPython.core.display.Image object>"
      ]
     },
     "metadata": {},
     "output_type": "display_data"
    },
    {
     "data": {
      "text/html": [
       "<img src=\"https://api.afp.com/objects/api/medias?id=a1kkIS0nShZdXlcxVgJEXV1EQksZd3cYFnNyEWh0fBpzd3sedQRzcWkXTFBOXVQqVkYaX0JXEltfIX9GQFxVMUQgFjYsVgxbPVogNTcjFFpBU1UgV1lZUEFRXh5HLCYQS3FYI30vYgljQF5cIQkwMC0lUlVCWVNjXFVEXEBVXgUHc3MeDgcGcA59AnV0.jpg\"/>"
      ],
      "text/plain": [
       "<IPython.core.display.Image object>"
      ]
     },
     "metadata": {},
     "output_type": "display_data"
    },
    {
     "data": {
      "text/html": [
       "<img src=\"https://api.afp.com/objects/api/medias?id=a1kkIS0nShZdXlcxVgJEXV1EQksZdXICeHRkHgYNY3QVYx8BdAZ1aBUzUFpGWlcqUgNeRVUPTlFSeClUV1NEMlJjRSohD1pJKlUxNiFrWlVIW10rTUBRRlNDC0lfIX9%2FTXZsMFQIUWU3XV1VeUU0LCctVVZCXR4gQV1dR1dDEAkAdHEaDAYAdwF1B3c%3D.jpg\"/>"
      ],
      "text/plain": [
       "<IPython.core.display.Image object>"
      ]
     },
     "metadata": {},
     "output_type": "display_data"
    },
    {
     "data": {
      "text/html": [
       "<img src=\"https://api.afp.com/objects/api/medias?id=a1kkIS0nShZdX1sxTF9RGkJYQkxZNm0fDQQbcAB3H3F1AR4DdBsAAxQZCHdvAG4TFHxBXFFbQVdZLmxHSVULIl4hDSg8XFBAN1FnMC0iBFJUWFk1SkgZVl5VQF1YMS9ISlNHZ0YsVH4tYHdpAWAvBGI0VlVIC0kwUE5fWV1fRh5TPTJES1dHfAZzAXByBwMAdwNzfHE%3D.jpg\"/>"
      ],
      "text/plain": [
       "<IPython.core.display.Image object>"
      ]
     },
     "metadata": {},
     "output_type": "display_data"
    },
    {
     "name": "stdout",
     "output_type": "stream",
     "text": [
      "malus\n"
     ]
    },
    {
     "data": {
      "text/html": [
       "<img src=\"https://api.afp.com/objects/api/medias?id=a1kkIS0nShZdX1sxTF9RGkJYQkxZNm0VAR0DdRhxBWxzCx5xAmQedAoCDHseG2kwUE5fWV1fRhZcNSUSWltQfFw8XiI1QVQWMV0leC8%2FV1hdRV1oWkFRWFdeWVVTNiNeH0NdJQotYgUcd2VeBRIzKigjBEhYX1suVUJbXhRVVUhfNydeBAMCcARyBXF1AQYBdgA%3D.jpg\"/>"
      ],
      "text/plain": [
       "<IPython.core.display.Image object>"
      ]
     },
     "metadata": {},
     "output_type": "display_data"
    },
    {
     "data": {
      "text/html": [
       "<img src=\"https://api.afp.com/objects/api/medias?id=a1kkIS0nShZdXlcxVgJEXV1EQksZd3cZFnNyEWh0egVwZmMedQRzcWkXTFBOXVQqVkYaX0JXEltfIX9GQFxVMUQgFjYsVgxbPVogNTcjFFpBU1UgV1lZUEFRXh5HLCYQf1dfNgEUQgZjQF5cIQkwMC0lUlVCWVNjXFVEXEBVXgUHc3MeDgcAcwVzAXN3.jpg\"/>"
      ],
      "text/plain": [
       "<IPython.core.display.Image object>"
      ]
     },
     "metadata": {},
     "output_type": "display_data"
    },
    {
     "data": {
      "text/html": [
       "<img src=\"https://api.afp.com/objects/api/medias?id=a1kkIS0nShZdXlcxVgJEXV1EQksZdHMdFnNyEWh0e3dwYgUedQRzcWkXTFBOXVQqVkYaX0JXEltfIX9GQFxVMUQgFjYsVgxbPVogNTcjFFpBU1UgV1lZUEFRXh5HLCYQTXxXJlICfytjQF5cIQkwMC0lUlVCWVNjXFVEXEBVXgUHc3MeDgcAcAZwCXR8.jpg\"/>"
      ],
      "text/plain": [
       "<IPython.core.display.Image object>"
      ]
     },
     "metadata": {},
     "output_type": "display_data"
    },
    {
     "data": {
      "text/html": [
       "<img src=\"https://api.afp.com/objects/api/medias?id=a1kkIS0nShZdXlcxVgJEXV1EQksZd3cYFnNyEWh0fBpzd3sedQRzcWkXTFBOXVQqVkYaX0JXEltfIX9GQFxVMUQgFjYsVgxbPVogNTcjFFpBU1UgV1lZUEFRXh5HLCYQS3FYI30vYgljQF5cIQkwMC0lUlVCWVNjXFVEXEBVXgUHc3MeDgcGcA59AnV0.jpg\"/>"
      ],
      "text/plain": [
       "<IPython.core.display.Image object>"
      ]
     },
     "metadata": {},
     "output_type": "display_data"
    },
    {
     "data": {
      "text/html": [
       "<img src=\"https://api.afp.com/objects/api/medias?id=a1kkIS0nShZdXlcxVgJEXV1EQksZdXICeHRkHgYNY3QVYx8BdAZ1aBUzUFpGWlcqUgNeRVUPTlFSeClUV1NEMlJjRSohD1pJKlUxNiFrWlVIW10rTUBRRlNDC0lfIX9%2FTXZsMFQIUWU3XV1VeUU0LCctVVZCXR4gQV1dR1dDEAkAdHEaDAYAdwF1B3c%3D.jpg\"/>"
      ],
      "text/plain": [
       "<IPython.core.display.Image object>"
      ]
     },
     "metadata": {},
     "output_type": "display_data"
    },
    {
     "data": {
      "text/html": [
       "<img src=\"https://api.afp.com/objects/api/medias?id=a1kkIS0nShZdX1sxTF9RGkJYQkxZNm0fDQQbcAB3H3F1AR4DdBsAAxQZCHdvAG4TFHxBXFFbQVdZLmxHSVULIl4hDSg8XFBAN1FnMC0iBFJUWFk1SkgZVl5VQF1YMS9ISlNHZ0YsVH4tYHdpAWAvBGI0VlVIC0kwUE5fWV1fRh5TPTJES1dHfAZzAXByBwMAdwNzfHE%3D.jpg\"/>"
      ],
      "text/plain": [
       "<IPython.core.display.Image object>"
      ]
     },
     "metadata": {},
     "output_type": "display_data"
    },
    {
     "name": "stdout",
     "output_type": "stream",
     "text": [
      "54 \n",
      " Written by Ryan Prior, CNN  As the coronavirus pandemic drastically undermines the economy, arts administrator Deana Haggag finds herself in brand new territory.  Haggag, the president and CEO of United States Artists (USA), told CNN that a few weeks ago it became clear to her that \"most cultural organizations were going to be shut down.\" She set in and just started \"monitoring the layoffs.\"  In the art world, like in many sectors, the job losses were brutal.  \"For many of us, we've never been here,\" Haggag said in a phone interview. \"This is the biggest crisis our country has faced in many of our lifetimes.\"  She set to work behind the scenes to do something about it.  On Wednesday, her organization announced a $10 million collaborative grant program called Artist Relief . USA is working in coalition with six other major arts non-profits including Academy of American Poets, Artadia, Creative Capital, Foundation for Contemporary Arts, MAP Fund and the National YoungArts Foundation.  They're offering $5,000 grants to at least 100 artists per week, from poets to architects to weavers. They're hoping to be able to expand the program to more artists if funds allow.  She was deeply proud of getting so many organizations to agree on something so big so quickly.  \"This is cause for celebration,\" she said. But at the same time, she acknowledged launching the program was bittersweet. \"Reading these applications is gut-wrenching, it's absolutely heart-breaking.\"  She said in the first three hours, the group's portal received 2,200 applications from artists in need, and they expected to receive 10,000 on the first day.  From sound technicians to illustrators to ticket sellers, more than five million Americans are employed in the arts and culture sector, according to the Bureau of Economic Analysis.  And programs like the one Haggag leads can only do so much to address the tidal wave of need.  The arts are indicative of the wider economic situation  April's unemployment numbers showed an historic spike in the number of Americans filing for unemployment. The Department of Labor said that for the week ending March 28, some 6.6 million Americans filed for benefits, a 3,000% spike over the claims numbers from last month. And businesses continue to lay off and furlough workers.  As we enter a global recession, it's worth a look back at how Americans rallied during previous times of economic hardship, and to consider how it might inform our response to our present dilemma.  Federal Art Project WPA (Works Progress Administration) poster advertising an exhibition. Credit: MPI/Getty Images  Active from 1935 to 1943, the Works Progress Administration (WPA) was a New Deal program designed to give Americans paid work during the Great Depression while jobs were scarce.  The program would employ some 8.5 million Americans involved in 1.4 million public works projects, according to the Library of Congress  In addition to the nationwide infrastructure projects, for four of its years of existence the WPA housed Federal Project Number One. That project organized Depression-era work programs for thousands of artists, musicians, writers, theatrical performers and historians.  And its legacy goes beyond getting cultural workers back into employment.                1 / 8 Photographic Print from New York production of \"Macbeth.\" Credit: Library of Congress  The Works Progress Administration helped unemployed artists  The WPA would \"give some of the best writers of the 20th century their first job writing,\" author David A. Taylor told CNN over the phone.  Taylor penned the book \"Soul of a People: The WPA Writers' Project Uncovers Depression America,\" which was also turned into a documentary with the same title, chronicling one aspect of the WPA, the Federal Writers' Project.  That program alone employed as many as 7,500 people during its existence from 1935 to 1939.  The Writers' Project is perhaps best known for its American Guides, a series of locally written travel guides for cities and states.  Those on its payroll included would-be literary luminaries such as Richard Wright, Zora Neale Hurston, Ralph Ellison and Saul Bellow -- who would go on to win the Nobel Prize in Literature.  During her time with the WPA, Hurston used her BA in anthropology to chronicle life histories in the American South. She wrote her classic novel \"Their Eyes Were Watching God,\" published in 1937, while doing her WPA-funded field work in Florida.  Ellisson's 1952 classic \"Invisible Man\" was drawn from character studies from his time interviewing people during his job on the Federal Writers' Project in the late 1930s, Taylor said.  The Federal Writers' Project also preserved histories of African American folklore and life that otherwise wouldn't have been recorded. Some are memorialized in the Slave Narrative Collection at the Library of Congress.  In the film \"Soul of a People,\" Maryemma Graham, a professor of English and African American Studies at the University of Kansas argues that \"the largest single impact on black writing before the civil rights movement was really the WPA, not the Harlem Renaissance.\"  The WPA's Federal Art Project, Federal Theatre Project, Federal Music Project and Historical Records Survey employed Americans across the liberal arts spectrum.  In his early 20s, a pre-Hollywood Orson Welles directed a nationwide WPA-funded theatrical tour of Shakespeare's \"Macbeth,\" with an all African American cast.  Federal Theater Project production of Macbeth Credit: Library of Congress  Under the Federal Art Project, visual artists were often put to work creating murals or posters. Many of their works can be see via the New Deal Art Registry  Before they achieved wider recognition, the program provided a financial backstop for young visual artists such as Jackson Pollock , Mark Rothko and Willem de Kooning, who would go on to become major art-world figures.  The iconic Griffiths Observatory in Los Angeles was built under the WPA.  Taylor pointed to novelist Nelson Algren's summation of the WPA's impact on artists and writers: \"Had it not been for the Project, the suicide rate would have been much higher. It gave new life to people who had thought their lives were over.\"  It employed creative Americans during a crucial time  \"It really built the world that generations experienced after World War II,\" Taylor said over the phone.  He added that if the current social distancing policies drive the economy into a prolonged recession, a larger economic program could be necessary.  \"To the extent that government spends money on infrastructure, it should anticipate who we'll be when this is over,\" he said, emphasizing the need to see these types of programs not as spending, but rather as investments.  Today those necessary programs might include anything from broadband access and the electric grid to voting systems and social media projects.  \"We need to imagine what life will be like when we emerge from social distancing and what we're going to need,\" he said.  And those programs can be tailored by sector to each person's individual skills. Noting a New Deal-era comment from his book, he said, \"There's no sense making a good violinist a bad ditch digger.\"  Members of the Federal Writers' Project contributed to the American Guide series, a set of locally written cultural guides to American cities. Credit: from Archive.org/Perlinger Library/Houghton Mifflin Co.  The recent stimulus is a little different this time -- which could help artists  It's unclear how long or deep a coronavirus-related economic recession could last. But it might not be too early to think about how a new national arts job program might look.  So far, Congress has responded by passing Cares Act, a $2 trillion economic stimulus bill, the largest aid package in US history, and President Donald Trump signed the bill on March 27.  The bill has several major components, including direct stimulus checks to individuals, extension of unemployment benefits, small business grants, and loans to industry.  One key provision for artists was the extension of unemployment benefits for independent contractors who file their taxes on the IRS's 1099 forms. Many independent artists, those likely to be hit hardest by a faltering economy, fit into that tax category and are thereby eligible for benefits.  \"Independent contractors aren't traditionally included in the stimulus,\" Jamie Bennett, the executive director of the non-profit ArtPlace America said over the phone. That's already a big step forward this time, helping everyone from blues guitarists to visual artists to Uber drivers.  \"It was artists who invented the gig economy,\" Bennett said, noting that term's roots refer to jazz musicians playing shows.  Despite some good news around individual stimulus checks being sent as early as mid-April , and expanded unemployment benefits, the arts are uniquely vulnerable to social distancing guidelines.  Zora Neale Hurston worked on her novel \"Their Eyes Were Watching God\" while employed by the Federal Writers' Project. Credit: Collection of the Smithsonian National Museum of African American History and Culture  \"The vast majority of arts and culture is consumed in person with other people,\" Bennett said, explaining that a post-pandemic artistic renaissance will have to be scaled up slowly and carefully. It would start with small theaters or galleries, once public health officials give the green light, and society would only much later get back to filling large arenas for rock concerts and sporting events.  \"We aren't going to flip a switch and have people immediately going back to sitting in a 1,200-seat theater,\" he said. \"It will require an 18-month strategy.\"  In the meantime, arts institutions will need to beef up virtual offerings, and have faith that while valuable, visiting a museum or symphony performance via technologies like virtual reality or film wouldn't replace the joy of visiting those places.  \"I am not someone who ever worries that technology will replace the live experience,\" Bennett said.  Virtual museum tours, unemployment checks, and direct stimulus aid are helpful Band-Aid solutions in the short term. But they're still short of the activist role the government played in actually creating artistic jobs nearly a century ago.  But for now, those measures may be the only thing that artists, and art institutions, have to rely on.  Various government programs can help  The coronavirus recession has different financial roots than the Great Depression, and stimulating the economy can't change the fact that some jobs simply can't be done while the pandemic is uncontrolled. But we can at least rely on public agencies and policies left in the wake of the New Deal, and a patchwork of civil society programs that weren't available in the Depression.  \"The National Endowment for the Arts didn't exist in the 1930s,\" Taylor said. \"We don't have to start from scratch like the Federal Writers' Project did.\"  Taylor said programs such as the American Journalism Project , a program that employs recent college graduates at local newspapers around the country, carry the spirit of the Federal Writers' Project.  A 21st century program from artists \"wouldn't have to look like the big monolithic program the WPA was,\" he said.  One ray of hope: last week, the Getty Trust also announced a $10 million relief fund to be released in amounts ranging from $25,000 to $200,000 by the California Community Foundation. Those grants would prop up small and midsize arts institutions.  Bennett, of ArtPlace America, said that community development block grants would likely be a key way to help agencies and organizations that can employ artists in projects ranging from community to public health campaigns , all vital to holding society together in the face of the pandemic.  Painter Mark Rothko, who became renowned for his color field paintings, created this depiction of a subway entrance during his time employed by the WPA. Credit: from arthive.com  Art can be a balm for the nation in troubled times  Dr. Anthony Fauci, the head of the National Institute of Allergy and Infectious Diseases, and prominent fixture of the coronavirus response, told CNN's Sanjay Gupta he was worried about how this pandemic would affect the nation's psyche.  \"I could hear it in the inflections in my daughters' voices when I speak with them on the phone,\" Fauci said. \"This is going to be imprinted on the personality of our nation for a very long time.\"  \"I think there's going to be some subliminal post-traumatic stress syndrome that we're all going to face,\" Fauci said.  While nearly everyone on the planet is feeling some version of what Fauci's daughter feels, it's unlikely that we can all enter therapy to sort through some of the complex emotions. Artists could help address those traumas in ways that healthcare professionals might not be able to.  \"Art reminds you that you belong to others and helps you build an identity based on shared community,\" Haggag said. \"When we're done with this, we're going to need art and religion and also sports.\"  \"I don't know how we recover from the collective PTSD of this,\" Haggag said. \"I think we need to be together for that.\"  Like so many aspects of the economy, from restaurants to travel to sports, the arts are strained in ways they've scarcely been before. While the situation is dire, it also directly feeds the new forms of creative expression that inevitably must come from social distancing.  Today, keeping expression -- and healing -- alive might entail investments that expand what art means under our current conditions, whether that be writing or video games or virtual reality.  \"One of the things I find fascinating about the human condition is that under any circumstances, human beings will create,\" Bennett said. \"We haven't yet discovered conditions by which they stop being creative.\"\n",
      "Sans malus\n"
     ]
    },
    {
     "data": {
      "text/html": [
       "<img src=\"https://api.afp.com/objects/api/medias?id=a1kkIS0nShZdX1sxTF9RGkJYQkxZNm0fDQYbcABxH3ZzHQMCdxsAAxQZCHRlA20SFHxBXFFbQVdZLmxHSVULIl4hDSg8XFBAN1FnMC0iBFJUWFk1SkgZVl5VQF1YMS9ISlNHZ0YsVH4qfwhHBwwqNmI0VlVIC0kwUE5fWV1fRh5TPTJES1dHfAZzAXByBwMBcQR5c3E%3D.jpg\"/>"
      ],
      "text/plain": [
       "<IPython.core.display.Image object>"
      ]
     },
     "metadata": {},
     "output_type": "display_data"
    },
    {
     "data": {
      "text/html": [
       "<img src=\"https://api.afp.com/objects/api/medias?id=a1kkIS0nShZdX1sxTF9RGkJYQkxZNm0cAQUbcAF2H3FwHQMAfBsAAxQZCHRlAQ4OFHxBXFFbQVdZLmxHSVULIl4hDSg8XFBAN1FnMC0iBFJUWFk1SkgZVl5VQF1YMS9ISlNHZ0YsVH4qfwhHBwwqNmI0VlVIC0kwUE5fWV1fRh5TPTJES1dHfAZzAXByBwMBcQR3cXI%3D.jpg\"/>"
      ],
      "text/plain": [
       "<IPython.core.display.Image object>"
      ]
     },
     "metadata": {},
     "output_type": "display_data"
    },
    {
     "data": {
      "text/html": [
       "<img src=\"https://api.afp.com/objects/api/medias?id=a1kkIS0nShZdX1sxTF9RGkJYQkxZNm0fDQIbcAB9H3V1HQMBfRsAAxQZCHRlAGIWFHxBXFFbQVdZLmxHSVULIl4hDSg8XFBAN1FnMC0iBFJUWFk1SkgZVl5VQF1YMS9ISlNHZ0YsVH4qfwhHBwwqNmI0VlVIC0kwUE5fWV1fRh5TPTJES1dHfAZzAXByBwMBcQR3dXw%3D.jpg\"/>"
      ],
      "text/plain": [
       "<IPython.core.display.Image object>"
      ]
     },
     "metadata": {},
     "output_type": "display_data"
    },
    {
     "data": {
      "text/html": [
       "<img src=\"https://api.afp.com/objects/api/medias?id=a1kkIS0nShZdX1sxTF9RGkJYQkxZNm0fDAIbcAF9H3Z1HQMCfRsAAxQZCHRlAGIVFHxBXFFbQVdZLmxHSVULIl4hDSg8XFBAN1FnMC0iBFJUWFk1SkgZVl5VQF1YMS9ISlNHZ0YsVH4qfwhHBwwqNmI0VlVIC0kwUE5fWV1fRh5TPTJES1dHfAZzAXByBwMBcQR3dXI%3D.jpg\"/>"
      ],
      "text/plain": [
       "<IPython.core.display.Image object>"
      ]
     },
     "metadata": {},
     "output_type": "display_data"
    },
    {
     "data": {
      "text/html": [
       "<img src=\"https://api.afp.com/objects/api/medias?id=a1kkIS0nShZdX1sxTF9RGkJYQkxZNm0fCwUbcAV2H3FxAx4CcAxuBAIWZghgfg4EdQBlQFtTRlRZKikDU0JTflQsVH4uS19RNEckYzEvXQRGT1YkSV5RGFFcSFVTKzZAXEFVMhE0WSd4XXwJM3d5LjdgS1ZBUwU0TERXXl5fQlMQIDpdUEBRMgp0BnJ2BQQCdQFxcnBw.jpg\"/>"
      ],
      "text/plain": [
       "<IPython.core.display.Image object>"
      ]
     },
     "metadata": {},
     "output_type": "display_data"
    },
    {
     "data": {
      "text/html": [
       "<img src=\"https://api.afp.com/objects/api/medias?id=a1kkIS0nShZdXlcxVgJEXV1EQksZdHUYFnNyEWh0dwZ0cQMedQRzcWkXTFBOXVQqVkYaX0JXEltfIX9GQFxVMUQgFjYsVgxbPVogNTcjFFpBU1UgV1lZUEFRXh5HLCYQQX51JWEOfzJjQF5cIQkwMC0lUlVCWVNjXFVEXEBVXgUHc3MeDgcAdw5wBHBy.jpg\"/>"
      ],
      "text/plain": [
       "<IPython.core.display.Image object>"
      ]
     },
     "metadata": {},
     "output_type": "display_data"
    },
    {
     "name": "stdout",
     "output_type": "stream",
     "text": [
      "malus\n"
     ]
    },
    {
     "data": {
      "text/html": [
       "<img src=\"https://api.afp.com/objects/api/medias?id=a1kkIS0nShZdX1sxTF9RGkJYQkxZNm0fCAEbcARyH3FwBx4CdRsAAxQZCHQVAX8dFHxBXFFbQVdZLmxHSVULIl4hDSg8XFBAN1FnMC0iBFJUWFk1SkgZVl5VQF1YMS9ISlNHZ0YsVH5zVnJAfAcZJ2I0VlVIC0kwUE5fWV1fRh5TPTJES1dHfAZzAXByBwMBcwZwfXE%3D.jpg\"/>"
      ],
      "text/plain": [
       "<IPython.core.display.Image object>"
      ]
     },
     "metadata": {},
     "output_type": "display_data"
    },
    {
     "data": {
      "text/html": [
       "<img src=\"https://api.afp.com/objects/api/medias?id=a1kkIS0nShZdXlcxVgJEXV1EQksZdHUYFnNyEWh0dwZ0cQMedQRzcWkXTFBOXVQqVkYaX0JXEltfIX9GQFxVMUQgFjYsVgxbPVogNTcjFFpBU1UgV1lZUEFRXh5HLCYQQX51JWEOfzJjQF5cIQkwMC0lUlVCWVNjXFVEXEBVXgUHc3MeDgcAdw5wBHBy.jpg\"/>"
      ],
      "text/plain": [
       "<IPython.core.display.Image object>"
      ]
     },
     "metadata": {},
     "output_type": "display_data"
    },
    {
     "data": {
      "text/html": [
       "<img src=\"https://api.afp.com/objects/api/medias?id=a1kkIS0nShZdXlcxVgJEXV1EQksZdHICeHRkHgYCaXMNYh8BdAZ1aBUzUFpGWlcqUgNeRVUPTlFSeClUV1NEMlJjRSohD1pJKlUxNiFrWlVIW10rTUBRRlNDC0lfIX98f1FXcXAmQWU3XV1VeUU0LCctVVZCXR4gQV1dR1dDEAkAdHEaDAYCcQdzCHI%3D.jpg\"/>"
      ],
      "text/plain": [
       "<IPython.core.display.Image object>"
      ]
     },
     "metadata": {},
     "output_type": "display_data"
    },
    {
     "data": {
      "text/html": [
       "<img src=\"https://api.afp.com/objects/api/medias?id=a1kkIS0nShZdX1sxTF9RGkJYQkxZNm0fDQYbcABxH3ZzHQMCdxsAAxQZCHRlA20SFHxBXFFbQVdZLmxHSVULIl4hDSg8XFBAN1FnMC0iBFJUWFk1SkgZVl5VQF1YMS9ISlNHZ0YsVH4qfwhHBwwqNmI0VlVIC0kwUE5fWV1fRh5TPTJES1dHfAZzAXByBwMBcQR5c3E%3D.jpg\"/>"
      ],
      "text/plain": [
       "<IPython.core.display.Image object>"
      ]
     },
     "metadata": {},
     "output_type": "display_data"
    },
    {
     "data": {
      "text/html": [
       "<img src=\"https://api.afp.com/objects/api/medias?id=a1kkIS0nShZdX1sxTF9RGkJYQkxZNm0cAQUbcAF2H3FwHQMAfBsAAxQZCHRlAQ4OFHxBXFFbQVdZLmxHSVULIl4hDSg8XFBAN1FnMC0iBFJUWFk1SkgZVl5VQF1YMS9ISlNHZ0YsVH4qfwhHBwwqNmI0VlVIC0kwUE5fWV1fRh5TPTJES1dHfAZzAXByBwMBcQR3cXI%3D.jpg\"/>"
      ],
      "text/plain": [
       "<IPython.core.display.Image object>"
      ]
     },
     "metadata": {},
     "output_type": "display_data"
    },
    {
     "data": {
      "text/html": [
       "<img src=\"https://api.afp.com/objects/api/medias?id=a1kkIS0nShZdX1sxTF9RGkJYQkxZNm0fDQIbcAB9H3V1HQMBfRsAAxQZCHRlAGIWFHxBXFFbQVdZLmxHSVULIl4hDSg8XFBAN1FnMC0iBFJUWFk1SkgZVl5VQF1YMS9ISlNHZ0YsVH4qfwhHBwwqNmI0VlVIC0kwUE5fWV1fRh5TPTJES1dHfAZzAXByBwMBcQR3dXw%3D.jpg\"/>"
      ],
      "text/plain": [
       "<IPython.core.display.Image object>"
      ]
     },
     "metadata": {},
     "output_type": "display_data"
    },
    {
     "name": "stdout",
     "output_type": "stream",
     "text": [
      "55 \n",
      " Written by Matthew Ponsford  Lawns are an American obsession. Since the mass proliferation of suburbs in the 1950s and '60s, these pristine carpets of green turf have been meticulously maintained by suburbanites, with grass length and other aesthetic considerations enforced with bylaws and by homeowner associations.  But for nature, lawns offer little. Their maintenance produces more greenhouse gases than they absorb, and they are biodiversity deserts that have contributed to vanishing insect populations. Residential lawns cover 2% of US land and require more irrigation than any agricultural crop grown in the country. Across California, more than half of household water is used outside of the house.  If attitudes toward lawn care are shifted, however, these grassy green patches represent a gigantic opportunity. In 2005, a NASA satellite study found that American residential lawns take up 49,000 square miles (128,000 square km) -- nearly equal in size to the entire country of Greece.  Yard, by 2.ink Studio, winner of the ASLA 2018 Professional Honor Award in Residential Design Credit: Stephen Miller / ASLA  According to environmental scientists, transforming lawns into miniature modular bio-reserves could not only boost biodiversity, but could cut water and petrol consumption and reduce the use of dangerous lawn chemicals.  Yet the question for many homeowners remains: how?  In Western states such as California, Colorado and Arizona, droughts have led to restrictions on water usage, forcing many to reconsider their thirsty lawns. Some inventive families and landscape architects have transformed yards, producing oases of life for hummingbirds, bees and butterflies, by employing scientific insight, design and imagination.  While many residents across the US may want a traditional patch of green carpet, Jodie Cook , a landscape designer from San Clemente, California, explained over email that West Coast homeowners are growing increasingly aware of how innovative models for lawns can benefit natural ecosystems, while providing a new dimension to the family home.  \"This new garden model is giving people permission to play,\" said Cook, who has redesigned home lawns across Orange County, with an emphasis on \"ecosystem-centric\" design. Ripping up a generic lawn can reveal a canvas for personal creativity -- to plant with food, flowering plants and herbs, or to shape into wildlife habitats that invite in local fauna.  \"It seems to me that they are yearning for an authentic experience of nature close to home,\" said Cook. There is increasing evidence that close contact with natural environments can reduce stress and anxiety, and even help maintain memory as we age.  According to Cook, the families she's worked with have been delighted to reconnect with eclectic natural processes, such as watching rain cascade down water-drainage swales. \"They don't want to travel to a wilderness park to see ecosystem interactions.\"  Nationwide Trend  What Cook sees in California reflects an emerging trend across the country. In Minnesota, homeowners have been offered rebates to replace lawns with flowering plants beloved by bees. Cities and municipalities, such as Montgomery County in Maryland, have also offered to pay families and homeowner associations to design gardens that collect storm water in water features and underground rain barrels.  A contemporary remodel of a suburban ranch home in Portland, Oregon by Samuel H. Williamson Associates Credit: Samuel H. Williamson Associates / shwa.net  Such policies can lead to big changes. Images of intensely irrigated lawns in Phoenix, ringed by the red sand of the Arizona Desert, were once a disturbing case study of America's lawn addiction. But in recent decades, the state has taken action, charging more for water in the summer and banning lawns on new developments. At the turn of the millennium, 80% of Phoenix had green lawns, now only 14% does.  Landscape architects are seeing families change their preferences, according to a recent poll by the National Wildlife Federation's (NWF) Garden for Wildlife initiative, which encourages Americans to design gardens with food, water and shelter for wild animals.  In a 2018 poll by the American Society of Landscape Architects (ASLA), 83% of landscape architects said they were increasingly being asked about native plants, which provide better support for local ecosystems and are more drought-resistant. Last year, NWF surpassed its goal to register a million gardens nationwide to support pollinators.  A graphic patterned garden in Portland, Oregon by Samuel H. Williamson Associates Credit: Samuel H. Williamson Associates / shwa.net  Changing Tastes  Similarly, the nonprofit Green America has launched the Climate Victory Gardens initiative , which encourages people to plant \"regenerative\" food gardens. Inspired by the Home Victory Gardens that grew millions of tons of fresh fruits and vegetables during World War I and II. More than 2,300 families have started farming patches of garden to sequester carbon and increase soil fertility.  These gardens today represent around 3,600 acres. According to Green America, they have the potential over the next 10 years to capture the carbon equivalent to taking 70,000 cars off the road for an entire year.  San Diego-based landscape architect Katie Seidenwurm has documented a number of reasons behind the spike in interest in different types of gardens, including rising water costs and environmental responsibility.  Xeriscape Colorado, a program by non-profit Colorado WaterWise, promotes water-saving approaches to landscaping Credit: Kristen Vance  \"A lot of homeowners are more environmentally aware,\" said Seidenwurm over the phone, and she co-presented an ASLA talk last fall on recent residential garden trends with landscape architect Courtney Skybak , whose home city of Portland, Oregon, is another West Coast centre for experiments in environmental garden design. \"There's certificates that homeowners can get that certify that a front yard is wildlife friendly, or attracts butterflies, or is certified by master gardeners.\"  \"I think homeowners are trying to seek a higher sense of community, and so they want to be in their front yard, interacting with their neighbors,\" she added.  Faced with the choice between a wildlife garden or astroturf -- the latter has also become increasingly popular in drought-hit areas -- Mary Phillips, senior director of NWW, urges people to consider nature. She refers to recent research that shows wildlife gardens can support bee biodiversity comparable to natural parklands and, as a result, a greater number and diversity of birds, especially songbirds.  Yard, by 2.ink Studio, winner of the ASLA 2018 Professional Honor Award in Residential Design Credit: Stephen Miller / ASLA  \"When we share those kinds of stories, that is what's motivating people,\" said Phillips. \"Because they're actually seeing on the ground, visually, these bees and these butterflies and the birds visiting the property, and they see that they can make a significant difference.\"  A Few Simple Rules  Even small changes can make a difference to the environmental impact of lawns. The \"entry-level option,\" according to Philips, for families that still want room for their kids to play, is to inject more wildflowers into the turf. That includes plants that are typically viewed as nuisances.  \"The stuff that people are usually trying to get out of their lawn, we're saying 'No, that's good to have in your lawn!'\" said Philips. \"So reintroduce native violets -- and even dandelions -- certain clovers, low-growing thyme and things that flower, which provide pollinator benefits and are better for the soil.\"  Once a wasteland, Tessa Charnofsky planted hundreds of California native plants and built decks and stairways. \"Within a couple of years, it was transformed into a wildlife paradise, and became a Certified Wildlife Habitat. So many species of bumble bee and sweat bee, butterflies and moths, lizards, migrating birds, birds of pray lived here, dined here, or just passed through.\" Credit: Tessa Charnofsky  The more advanced option means \"taller meadow or prairie-like native plants,\" Phillips said. These types of plants have root systems that better manage storm water runoff, in addition to absorbing more carbon, she explained.  When one home commits to a wildlife-friendly lawn, others often follow. \"(It's) an unspoken message to their neighbors, it is evidence that they care about the environment,\" Cook said. \"In many areas, the first house on the block has set off a domino effect, as others take permission to experiment.\"c  \"Each small garden acts as a stepping stone for birds, pollinators and other wildlife, becoming something much larger, impacting whole watersheds,\" she added.  Pomegranate and Boston Ivy on the wall of a Bel Air home owned by TV writer-producers Amy Lippman and Rodman Flenders, designed by Naomi Sanders Credit: Jennifer Cheung  There are lessons to be learned from landscaping projects both grand and small. \"There are no rules for what a garden should be,\" said LA landscape designer Naomi Sanders . In addition to being a beautiful space, gardens and lawns present opportunities for peaceful refuge, hosting and observing wildlife, learning and exploring, and connecting with neighbors and one's self. \"Perhaps more now than ever, most of us understand the importance of plants and nature and that we function within a larger natural environment.\"  Top photo: a front garden by Naomi Sanders\n",
      "Sans malus\n"
     ]
    },
    {
     "data": {
      "text/html": [
       "<img src=\"https://api.afp.com/objects/api/medias?id=a1kkIS0nShZdXlcxVgJEXV1EQksZdHICeHRkHgYDfHYKfB8BdAZ1aBUzUFpGWlcqUgNeRVUPTlFSeClUV1NEMlJjRSohD1pJKlUxNiFrWlVIW10rTUBRRlNDC0lfIX9hC0RiGGUxAWU3XV1VeUU0LCctVVZCXR4gQV1dR1dDEAkAdHEaDAYMdQJyAnM%3D.jpg\"/>"
      ],
      "text/plain": [
       "<IPython.core.display.Image object>"
      ]
     },
     "metadata": {},
     "output_type": "display_data"
    },
    {
     "data": {
      "text/html": [
       "<img src=\"https://api.afp.com/objects/api/medias?id=a1kkIS0nShZdXlcxVgJEXV1EQksZcnYCeHRkHgYDfXZ1cx8BdAZ1aBUzUFpGWlcqUgNeRVUPTlFSeClUV1NEMlJjRSohD1pJKlUxNiFrWlVIW10rTUBRRlNDC0lfIX98d0J6dQcsZGU3XV1VeUU0LCctVVZCXR4gQV1dR1dDEAkAdHEaDAYMcg5zBXQ%3D.jpg\"/>"
      ],
      "text/plain": [
       "<IPython.core.display.Image object>"
      ]
     },
     "metadata": {},
     "output_type": "display_data"
    },
    {
     "data": {
      "text/html": [
       "<img src=\"https://api.afp.com/objects/api/medias?id=a1kkIS0nShZdXlcxVgJEXV1EQksZdHsaFnNyEWh0dg10ZAgedQRzcWkXTFBOXVQqVkYaX0JXEltfIX9GQFxVMUQgFjYsVgxbPVogNTcjFFpBU1UgV1lZUEFRXh5HLCYQd1t%2FJn4ESgdjQF5cIQkwMC0lUlVCWVNjXFVEXEBVXgUHc3MeDgcAeQRxCXtx.jpg\"/>"
      ],
      "text/plain": [
       "<IPython.core.display.Image object>"
      ]
     },
     "metadata": {},
     "output_type": "display_data"
    },
    {
     "data": {
      "text/html": [
       "<img src=\"https://api.afp.com/objects/api/medias?id=a1kkIS0nShZdXlcxVgJEXV1EQksZdHYcFnNyEWh0enFyfgAedQRzcWkXTFBOXVQqVkYaX0JXEltfIX9GQFxVMUQgFjYsVgxbPVogNTcjFFpBU1UgV1lZUEFRXh5HLCYQaGEFLHMVUjVjQF5cIQkwMC0lUlVCWVNjXFVEXEBVXgUHc3MeDgcAcgZ2CHJy.jpg\"/>"
      ],
      "text/plain": [
       "<IPython.core.display.Image object>"
      ]
     },
     "metadata": {},
     "output_type": "display_data"
    },
    {
     "data": {
      "text/html": [
       "<img src=\"https://api.afp.com/objects/api/medias?id=a1kkIS0nShZdXlcxVgJEXV1EQksZdHEbFnNyEWh0eXZ3dgMedQRzcWkXTFBOXVQqVkYaX0JXEltfIX9GQFxVMUQgFjYsVgxbPVogNTcjFFpBU1UgV1lZUEFRXh5HLCYQfAYDG2UHdi1jQF5cIQkwMC0lUlVCWVNjXFVEXEBVXgUHc3MeDgcAdQdyA3R1.jpg\"/>"
      ],
      "text/plain": [
       "<IPython.core.display.Image object>"
      ]
     },
     "metadata": {},
     "output_type": "display_data"
    },
    {
     "data": {
      "text/html": [
       "<img src=\"https://api.afp.com/objects/api/medias?id=a1kkIS0nShZdXlcxVgJEXV1EQksZcXoCeHRkHgYPYnESBx8BdAZ1aBUzUFpGWlcqUgNeRVUPTlFSeClUV1NEMlJjRSohD1pJKlUxNiFrWlVIW10rTUBRRlNDC0lfIX9VSFgEJWQCAmU3XV1VeUU0LCctVVZCXR4gQV1dR1dDEAkAdHEaDAYFdwFxCHs%3D.jpg\"/>"
      ],
      "text/plain": [
       "<IPython.core.display.Image object>"
      ]
     },
     "metadata": {},
     "output_type": "display_data"
    },
    {
     "name": "stdout",
     "output_type": "stream",
     "text": [
      "malus\n"
     ]
    },
    {
     "data": {
      "text/html": [
       "<img src=\"https://api.afp.com/objects/api/medias?id=a1kkIS0nShZdXlcxVgJEXV1EQksZdHICeHRkHgYDfHYKfB8BdAZ1aBUzUFpGWlcqUgNeRVUPTlFSeClUV1NEMlJjRSohD1pJKlUxNiFrWlVIW10rTUBRRlNDC0lfIX9hC0RiGGUxAWU3XV1VeUU0LCctVVZCXR4gQV1dR1dDEAkAdHEaDAYMdQJyAnM%3D.jpg\"/>"
      ],
      "text/plain": [
       "<IPython.core.display.Image object>"
      ]
     },
     "metadata": {},
     "output_type": "display_data"
    },
    {
     "data": {
      "text/html": [
       "<img src=\"https://api.afp.com/objects/api/medias?id=a1kkIS0nShZdXlcxVgJEXV1EQksZcXoCeHRkHgYPYnESBx8BdAZ1aBUzUFpGWlcqUgNeRVUPTlFSeClUV1NEMlJjRSohD1pJKlUxNiFrWlVIW10rTUBRRlNDC0lfIX9VSFgEJWQCAmU3XV1VeUU0LCctVVZCXR4gQV1dR1dDEAkAdHEaDAYFdwFxCHs%3D.jpg\"/>"
      ],
      "text/plain": [
       "<IPython.core.display.Image object>"
      ]
     },
     "metadata": {},
     "output_type": "display_data"
    },
    {
     "data": {
      "text/html": [
       "<img src=\"https://api.afp.com/objects/api/medias?id=a1kkIS0nShZdXlcxVgJEXV1EQksZcnQCeHRkHgYPBnMBdx8BdAZ1aBUzUFpGWlcqUgNeRVUPTlFSeClUV1NEMlJjRSohD1pJKlUxNiFrWlVIW10rTUBRRlNDC0lfIX9MQHxmNFA1RWU3XV1VeUU0LCctVVZCXR4gQV1dR1dDEAkAdHEaDAYGeA5xB3U%3D.jpg\"/>"
      ],
      "text/plain": [
       "<IPython.core.display.Image object>"
      ]
     },
     "metadata": {},
     "output_type": "display_data"
    },
    {
     "data": {
      "text/html": [
       "<img src=\"https://api.afp.com/objects/api/medias?id=a1kkIS0nShZdXlcxVgJEXV1EQksZcnYCeHRkHgYDfXZ1cx8BdAZ1aBUzUFpGWlcqUgNeRVUPTlFSeClUV1NEMlJjRSohD1pJKlUxNiFrWlVIW10rTUBRRlNDC0lfIX98d0J6dQcsZGU3XV1VeUU0LCctVVZCXR4gQV1dR1dDEAkAdHEaDAYMcg5zBXQ%3D.jpg\"/>"
      ],
      "text/plain": [
       "<IPython.core.display.Image object>"
      ]
     },
     "metadata": {},
     "output_type": "display_data"
    },
    {
     "data": {
      "text/html": [
       "<img src=\"https://api.afp.com/objects/api/medias?id=a1kkIS0nShZdXlcxVgJEXV1EQksZdHsaFnNyEWh0dg10ZAgedQRzcWkXTFBOXVQqVkYaX0JXEltfIX9GQFxVMUQgFjYsVgxbPVogNTcjFFpBU1UgV1lZUEFRXh5HLCYQd1t%2FJn4ESgdjQF5cIQkwMC0lUlVCWVNjXFVEXEBVXgUHc3MeDgcAeQRxCXtx.jpg\"/>"
      ],
      "text/plain": [
       "<IPython.core.display.Image object>"
      ]
     },
     "metadata": {},
     "output_type": "display_data"
    },
    {
     "data": {
      "text/html": [
       "<img src=\"https://api.afp.com/objects/api/medias?id=a1kkIS0nShZdXlcxVgJEXV1EQksZdHYcFnNyEWh0enFyfgAedQRzcWkXTFBOXVQqVkYaX0JXEltfIX9GQFxVMUQgFjYsVgxbPVogNTcjFFpBU1UgV1lZUEFRXh5HLCYQaGEFLHMVUjVjQF5cIQkwMC0lUlVCWVNjXFVEXEBVXgUHc3MeDgcAcgZ2CHJy.jpg\"/>"
      ],
      "text/plain": [
       "<IPython.core.display.Image object>"
      ]
     },
     "metadata": {},
     "output_type": "display_data"
    },
    {
     "name": "stdout",
     "output_type": "stream",
     "text": [
      "61 \n",
      " (CNN) — During the week of April 21, there were just two passenger-carrying 747 jumbo jets flying around the world. The Covid-19 pandemic has made the Queen of the Skies an acutely endangered monarch.  But Her Majesty might just be having the finest moment of her reign.  As the pandemic continues to sweep the globe, it has catastrophically impacted airline operations. Restrictions on domestic and international flying have reduced schedules to a mere fraction of the thousands of flights that operated every day just a couple of months ago.  Related content Five ways Boeing's 747 jumbo jet changed travel  Accelerated retirement  Two-thirds of the world's fleet of jetliners -- almost 17,000 out of 26,000 aircraft -- have been placed in storage or permanently retired from service. The iconic 747, already dwindling in numbers at the world's airlines, has been hard hit by the pandemic, with all but a handful grounded and heading for retirement.  l e v a r t  With the passenger fleet largely idled, cargo that once moved unknowingly under our feet on wide-body passenger jets has to find its way to market some other way.  Airlines have scrambled to take out seats to perform rudimentary conversions of passenger planes to keep them earning money, but it's the freighter fleet that is carrying the heaviest load.  \"When it comes to this pandemic, seeing a 747 Freighter land at an airport is like in an old western, when the cavalry rides in to help the people in distress,\" said Henry Harteveldt, travel industry analyst and founder of Atmosphere Research Group.  \"The 747 is definitely playing a hero's role in moving essential cargo around the world in this crisis.\"  Older versions of the quad-jet jumbo were already facing replacement by more efficient, smaller and newer two-engine wide-bodies from Boeing and Airbus. Airlines including Lufthansa and KLM have accelerated the retirement of their vintage 747s, a couple of years sooner than originally planned.  Just two passenger 747s were found to be roaming the skies during that week in April, out of a small group of 16 planes that were shown to still be \"in service,\" according to Cirium, an aviation data and analytics company. Before the pandemic hit, there were less than 200 of the passenger jumbos.  Related content Chinese airlines offer insanely cheap deals to lure back travelers  But now that the international transport of critical medical goods has become a daily news headline, cargo operators such as Silk Way Airlines, Atlas Air, Air Bridge Cargo and Cargolux -- hardly known to the traveling public before COVID-19 -- are the stars of logistical efforts to support first responders.  And they're all flying the Boeing 747F -- that's \"F\" for Freighter.  Captain Kelly Lepley commands both the 747-8F and 747-400F for UPS Airlines courtesy Kelly Lepley  Moscow-based Air Bridge Cargo (ABC) has 17 747Fs -- four 747-400Fs and 13 newer 747-8Fs. As part of the Volga-Dnepr Group -- known for its massive Ukrainian AN-124 ex-military airlifters -- ABC's 747s are flying 15 hours a day.  An analysis of Flightradar24 tracking data by the aviation industry publication The Air Current found that ABC's operations in March had shot up 51% compared to the previous two months.  \"Air cargo solutions have never been more important than they are now to global health services. Currently, our international teams dispatch multiple flights daily to ensure that vital medical supplies protect those in need,\" said Tatyana Arslanova, executive operating officer for ABC.  She points to the 747-8F's climate-controlled cargo holds as one of the big plane's assets.  \"Its three compartments can have different temperature settings from 4 degrees Celsius to 29 degrees (39 F to 84 F), giving us extra opportunities to transport perishable cargo, such as temperature-sensitive pharmaceuticals and life-saving medical equipment.\"  \"It's a gift that I can give back\"  There are 286 747 Freighters of different models in service, making up about a quarter of the 1,152-aircraft fleet of wide-body, main-deck cargo planes, according to Cirium.  Captain Kelly Lepley commands UPS Airlines' two models of 747s -- the newest 747-8F, and the older 747-400F.  Related content What happens to planes when they are retired?  \"You know that you're carrying lifesaving equipment down below, and you know it's going to make a difference to those who need it on the front lines. It's very humbling, and it's not something that I thought about when I started my aviation career 30 years ago. But now, I feel that it's a gift that I can give back, in a time of crisis,\" said Lepley in an interview with CNN Travel.  UPS has 28 747Fs in its fleet, with an additional 15 747-8Fs on order. As part of the fleet of 261 dedicated cargo aircraft, the airline has pressed its largest freighters into the fight against the pandemic.  A 747 Freigher's nose can swing up, opening the full main deck for loading. Sean Gallup/Getty Images Europe/Getty Images  \"UPS was already well positioned to support efforts in moving critical supplies to areas needing it most,\" said Michelle Polk, spokesperson for UPS. \"With governments and public authorities classifying UPS as an essential service provider, the company is combining the flexibility of its global network to respond to the Coronavirus pandemic.\"  Lepley said that the pandemic has changed the way crews spend their layovers during stops in their multi-day flight schedules.  \"Being a pilot can be a lonely career. We're out on the road a great deal, away from our families. Now, we land, we go to our rooms, and we're not allowed to leave our rooms or socialize. A lot of the countries, at this moment, are fearful of what we can bring in, so to prevent that and to keep us safe, we're required to stay in our rooms.\"  Anchorage, Alaska, where Lepley is based, became the world's busiest airport last weekend according to multiple reports, due to the ongoing influx of cargo freighters that use it as a stop along the way between Asia and North America.  Cargo planes, like all other aircraft, must balance a cargo load and fuel quantity against a plane's maximum payload, which all translates into the distance any flight can reach. Flights from the major cities in China to Anchorage take around 8.5 to 9 hours.  \"We can easily do that and carry a full payload on a 747-8F,\" said Lepley.  Newest version capable of carrying 300,000 pounds of cargo  The newest version of the cargo 747 is based on the passenger model, the 747-8. At just over 250 feet, it's the longest of all the jumbos, with new engines and enhanced aerodynamics.  \"It's just a beautiful airplane to fly. It's a very stable aircraft, very gentle, a graceful airplane,\" said Lepley. \"From the cockpit it's hard to imagine that you're flying something so big until you get off the airplane and look up at it and you say, 'I just flew this thing!'\"  Related content 20 planes for flying buffs -- from Boeing to Airbus  The Boeing 747 was launched over 50 years ago. Boeing  The freighter has a feature that gives the 747 its iconic profile. With the cockpit out of the way on the upper deck, the nose of the plane swings up, opening the full main deck for loading. The plane also has a main deck cargo door at the rear of the fuselage. Between the main deck and the belly cargo hold, a 747-8F can haul over 300,000 pounds of cargo.  A specialty of the Air Bridge Cargo, \"the nose cargo door gives us the opportunity to load off-size cargo,\" explained ABC's Arslanova. \"That enables us to carry extra-long pipes, diesel generators, compressors, pumps and other large and heavy offshore equipment.\"  Over 50 years ago, Boeing expected that the 747 would be but a postscript in aviation history, with passengers soon flying on supersonic jets.  So Joe Sutter, the 747's chief engineer, and his team designed the jumbo to be converted into a freighter, with a main deck width that could handle two rows of eight-foot wide cargo containers and the swing-up nose that gives the 747 its distinctive \"hump.\"  Over 1,500 deliveries later, the Queen of the Skies has displayed remarkable longevity.  \"We knew it would play a role connecting the world 50 years later. We wouldn't have known that we would have this epic pandemic that would ground so much of the world, and affect almost every country,\" said Atmosphere's Harteveldt.\n",
      "Sans malus\n"
     ]
    },
    {
     "data": {
      "text/html": [
       "<img src=\"https://api.afp.com/objects/api/medias?id=a1kkIS0nShZdX1sxTF9RGkJYQkxZNm0fCgcbcAN3H3FxHQMFcRsAAxQZCHZvA3sLFHxBXFFbQVdZLmxHSVULIl4hDSg8XFBAN1FnMC0iBFJUWFk1SkgZVl5VQF1YMS9ISlNHZ0YsVH4cZ3tHHF9wD2I0VlVIC0kwUE5fWV1fRh5TPTJES1dHfAZzAXByBwAJdwVycnE%3D.jpg\"/>"
      ],
      "text/plain": [
       "<IPython.core.display.Image object>"
      ]
     },
     "metadata": {},
     "output_type": "display_data"
    },
    {
     "data": {
      "text/html": [
       "<img src=\"https://api.afp.com/objects/api/medias?id=a1kkIS0nShZdX1sxTF9RGkJYQkxZNm0cAQsbeAFqAnBxHQUFa3UHFRt3dnsYZQloaFhdVllcQlddayhdXg1XKFN4WzorU0FDIRI0LCB7UkBDV0g2XABXWVddSFZCKCdeWEESMF4hDRoQeEZoLwULYzYpVVwQR00sWkZYWl1bC11ONStfXEEJcAF0A3RwAwgDdQd2cQ%3D%3D.jpg\"/>"
      ],
      "text/plain": [
       "<IPython.core.display.Image object>"
      ]
     },
     "metadata": {},
     "output_type": "display_data"
    },
    {
     "data": {
      "text/html": [
       "<img src=\"https://api.afp.com/objects/api/medias?id=a1kkIS0nShZdX1sxTF9RGkJYQkxZNm0fDx0FcA5qAnByHQMFdhsAAxQZCHZvA3wLFHxBXFFbQVdZLmxHSVULIl4hDSg8XFBAN1FnMC0iBFJUWFk1SkgZVl5VQF1YMS9ISlNHZ0YsVH4cZ3tHHF9wD2I0VlVIC0kwUE5fWV1fRh5TPTJES1dHfAZzAXByBwAJdwVycnI%3D.jpg\"/>"
      ],
      "text/plain": [
       "<IPython.core.display.Image object>"
      ]
     },
     "metadata": {},
     "output_type": "display_data"
    },
    {
     "data": {
      "text/html": [
       "<img src=\"https://api.afp.com/objects/api/medias?id=a1kkIS0nShZdX1sxTF9RGkJYQkxZNm0cAQEbeAdqAnpqAAEGa3UHFRt3dmkcdAxoaFhdVllcQlddayhdXg1XKFN4WzorU0FDIRI0LCB7UkBDV0g2XABXWVddSFZCKCdeWEESMF4hDRoQeEZoLwULYzYpVVwQR00sWkZYWl1bC11ONStfXEEJcAF0A3RwAwgDdQd2dA%3D%3D.jpg\"/>"
      ],
      "text/plain": [
       "<IPython.core.display.Image object>"
      ]
     },
     "metadata": {},
     "output_type": "display_data"
    },
    {
     "data": {
      "text/html": [
       "<img src=\"https://api.afp.com/objects/api/medias?id=a1kkIS0nShZdX1sxTF9RGkJYQkxZNm0fCgcbcAN3H3F2AR4AdhsAAxQZCHZ9B3oNFHxBXFFbQVdZLmxHSVULIl4hDSg8XFBAN1FnMC0iBFJUWFk1SkgZVl5VQF1YMS9ISlNHZ0YsVH4cZ3tHHF9wD2I0VlVIC0kwUE5fWV1fRh5TPTJES1dHfAZzAXByBwAJdwVyc3w%3D.jpg\"/>"
      ],
      "text/plain": [
       "<IPython.core.display.Image object>"
      ]
     },
     "metadata": {},
     "output_type": "display_data"
    },
    {
     "data": {
      "text/html": [
       "<img src=\"https://api.afp.com/objects/api/medias?id=a1kkIS0nShZdXlcxVgJEXV1EQksZd3MeFnNyEWh0dRlyB2gedQRzcWkXTFBOXVQqVkYaX0JXEltfIX9GQFxVMUQgFjYsVgxbPVogNTcjFFpBU1UgV1lZUEFRXh5HLCYQXgFNCGEtR3ZjQF5cIQkwMC0lUlVCWVNjXFVEXEBVXgUHc3MeDgcAeAByAHR0.jpg\"/>"
      ],
      "text/plain": [
       "<IPython.core.display.Image object>"
      ]
     },
     "metadata": {},
     "output_type": "display_data"
    },
    {
     "name": "stdout",
     "output_type": "stream",
     "text": [
      "malus\n"
     ]
    },
    {
     "data": {
      "text/html": [
       "<img src=\"https://api.afp.com/objects/api/medias?id=a1kkIS0nShZdX1sxTF9RGkJYQkxZNm0fCgcbcAN3H3FxHQMFcRsAAxQZCHZvA3sLFHxBXFFbQVdZLmxHSVULIl4hDSg8XFBAN1FnMC0iBFJUWFk1SkgZVl5VQF1YMS9ISlNHZ0YsVH4cZ3tHHF9wD2I0VlVIC0kwUE5fWV1fRh5TPTJES1dHfAZzAXByBwAJdwVycnE%3D.jpg\"/>"
      ],
      "text/plain": [
       "<IPython.core.display.Image object>"
      ]
     },
     "metadata": {},
     "output_type": "display_data"
    },
    {
     "data": {
      "text/html": [
       "<img src=\"https://api.afp.com/objects/api/medias?id=a1kkIS0nShZdX1sxTF9RGkJYQkxZNm0cAQsbeAFqAnBxHQUFa3UHFRt3dnsYZQloaFhdVllcQlddayhdXg1XKFN4WzorU0FDIRI0LCB7UkBDV0g2XABXWVddSFZCKCdeWEESMF4hDRoQeEZoLwULYzYpVVwQR00sWkZYWl1bC11ONStfXEEJcAF0A3RwAwgDdQd2cQ%3D%3D.jpg\"/>"
      ],
      "text/plain": [
       "<IPython.core.display.Image object>"
      ]
     },
     "metadata": {},
     "output_type": "display_data"
    },
    {
     "data": {
      "text/html": [
       "<img src=\"https://api.afp.com/objects/api/medias?id=a1kkIS0nShZdXlcxVgJEXV1EQksZd3MeFnNyEWh0dRlyB2gedQRzcWkXTFBOXVQqVkYaX0JXEltfIX9GQFxVMUQgFjYsVgxbPVogNTcjFFpBU1UgV1lZUEFRXh5HLCYQXgFNCGEtR3ZjQF5cIQkwMC0lUlVCWVNjXFVEXEBVXgUHc3MeDgcAeAByAHR0.jpg\"/>"
      ],
      "text/plain": [
       "<IPython.core.display.Image object>"
      ]
     },
     "metadata": {},
     "output_type": "display_data"
    },
    {
     "data": {
      "text/html": [
       "<img src=\"https://api.afp.com/objects/api/medias?id=a1kkIS0nShZdX1sxTF9RGkJYQkxZNm0fDQEbcAJ1H3F3Bx4BdBsAAxQZCHZ8BnYCFHxBXFFbQVdZLmxHSVULIl4hDSg8XFBAN1FnMC0iBFJUWFk1SkgZVl5VQF1YMS9ISlNHZ0YsVH4geGACdUUpMmI0VlVIC0kwUE5fWV1fRh5TPTJES1dHfAZzAXByBwAJdg15cHw%3D.jpg\"/>"
      ],
      "text/plain": [
       "<IPython.core.display.Image object>"
      ]
     },
     "metadata": {},
     "output_type": "display_data"
    },
    {
     "data": {
      "text/html": [
       "<img src=\"https://api.afp.com/objects/api/medias?id=a1kkIS0nShZdXlcxVgJEXV1EQksZdHsCeHRkHgYAanYQZB8BdAZ1aBUzUFpGWlcqUgNeRVUPTlFSeClUV1NEMlJjRSohD1pJKlUxNiFrWlVIW10rTUBRRlNDC0lfIX9KCkt9F18yBWU3XV1VeUU0LCctVVZCXR4gQV1dR1dDEAkAdHEaDAYNdgB1BnQ%3D.jpg\"/>"
      ],
      "text/plain": [
       "<IPython.core.display.Image object>"
      ]
     },
     "metadata": {},
     "output_type": "display_data"
    },
    {
     "data": {
      "text/html": [
       "<img src=\"https://api.afp.com/objects/api/medias?id=a1kkIS0nShZdXlcxVgJEXV1EQksZd3YbFnNyEWh0dRlyeGIedQRzcWkXTFBOXVQqVkYaX0JXEltfIX9GQFxVMUQgFjYsVgxbPVogNTcjFFpBU1UgV1lZUEFRXh5HLCYQXgFNCGEtR3ZjQF5cIQkwMC0lUlVCWVNjXFVEXEBVXgUHc3MeDgcAeAByAHVz.jpg\"/>"
      ],
      "text/plain": [
       "<IPython.core.display.Image object>"
      ]
     },
     "metadata": {},
     "output_type": "display_data"
    },
    {
     "name": "stdout",
     "output_type": "stream",
     "text": [
      "63 \n",
      " (CNN) — Yosemite, Yellowstone, Grand Canyon. These are the stars of the United States' national parks system, and with good reason.  Often called \"America's Best Idea,\" the creation of national parks in the United States launched a worldwide movement to protect the Earth's natural treasures.  be very busy during These headliner national parks would typicallybe very busy during National Park Week , going on now through April 26. (The National Park Service welcomed more than 327 million visitors last year, a 2.9% increase from 2018, and the third highest number since record keeping began in 1904.)  But the coronavirus pandemic has shut down many of the most popular national parks, creating a forced experiment: What happens when animals who make their homes in these protected space have (mostly) free rein of the park grounds?  \"With Yosemite and other parks closed to tourists, wildlife is coming out of hiding, and indeed, even thriving in our absence, reclaiming some of the places that have been dominated by human activity for decades,\" said Beth Pratt, National Wildlife Federation's regional executive director for California.  \"With threats like vehicle collisions or being harassed for a selfie largely eliminated, the coyotes are trotting through Camp Curry hunting mice, and the black bears [are] wandering around a mostly empty Yosemite Village,\" said Pratt, who was vice president/CFO at the nonprofit Yosemite Conservancy for 10 years and still lives near the park.  It shows \"that even in our best protected places on the planet -- our national parks -- wildlife still get impacted by us humans,\" Pratt continued.  \"More than 400 bears have been hit by cars in Yosemite since 1995. That the animals seem to be enjoying this vacation from us is a good reminder that when the parks do reopen, let's be kinder and more respectful to the wildlife who call Yosemite and other parks home.\"  National parks were created during wartime  A herd of bison are seen in Hayden Valley at Yellowstone National Park. Avalon/Universal Images Group Editorial/Getty Images  This isn't the first time the US government has taken measures to protect nature during a human crisis.  President Abraham Lincoln and Congress protected parts of what is now Yosemite during the throes of the Civil War, with the passage and signing of the Yosemite Land Grant of 1864. It didn't become a national park until 1890.  Yellowstone was the world's first national park, created in 1872, and it wasn't controversial because it was so far away from where many people lived at the time.  Related content Reporter does the right thing when a herd of bison approached  Most members of Congress didn't oppose the legislation because they hadn't seen the land, now-retired Yellowstone National Park historian Lee Whittlesey told CNN Travel during a 2016 interview about the 100th anniversary of the National Park Service.  The federal park legislation was just a political answer to a territorial argument. Meant to be a state park, Yellowstone land was in three territories.  \"There was an immediate argument between Montana and Wyoming newspapers about who would get the park,\" Whittlesey said. \"That is why Congress made it a federal park.\"  Lucky us.  Proof that nature is good for us  The view of the South Rim of the Grand Canyon is spectacular. RHONA WISE/AFP/AFP/Getty Images  There's no doubt that fans of the national parks will want to return to hike, picnic, camp and marvel at the views when they reopen. Nature is good for us, and studies back that up.  In a study released in early April, researchers found children who felt connected to nature -- described as feeling pleasure when hearing nature sounds and seeing animals and wildflowers -- engaged in actions that helped other people. They also recycled, saved water and cared for the environment in other ways.  Adults do better in nature, too. People who take walks in nature report less repetitive negative thoughts, according to a 2015 study.  But we need to take care of our natural treasures -- and it's not just the wildlife humans should be more thoughtful of when parks reopen.  When the federal government shut down from December 22, 2018 to January 25, 2019, the gates to many national parks were left open and irresponsible visitors created lasting damage.  Toilets overflowed, trash piled up and there was damage caused at Joshua Tree National Park , among other national parks, during the shutdown.  To be sure, there's only so much maintenance NPS staff can do to repair the more recent damage. They also face a $12 billion maintenance backlog that money, not just time, will heal.  The parks are for us and future generations  Summer in Acadia National Park in Maine is lovely. National Park Service  Conservation and current enjoyment of the parks, as stated in the 1916 legislation establishing the creation of the park service, should be \"in such manner and by such means as will leave them unimpaired for the enjoyment of future generations.\"  The creators of the park service wanted us, as those future generations, to be caretakers -- not exploiters -- of our protected national resources.  It's possible that the closed parks will reopen before parks and their surrounding communities -- which often have limited medical facilities -- have time to hire their seasonal workers, said Phil Francis, chair of the Coalition to Protect America's National Parks.  \"Visitors should consider that if they go to a popular park soon after reopening, they could find very crowded conditions.\"  \"The NPS will certainly appreciate visitors who obey park rules and regulations,\" Francis said. \"If restrooms are closed, please compensate for that before you arrive. Consider public hygiene. \"  \"Take out the trash you generate -- pack it in, pack it out -- and follow leave no trace principles,\" he said. \"If garbage cans are full, take it with you and do not leave your trash beside overflowing garbage cans.  \"Visitors can help by not trashing the park or damaging park facilities and resources.\"  Writer and historian Wallace Stegner called America' national parks \"the best idea we ever had. Absolutely American, absolutely democratic, they reflect us at our best rather than our worst.\"  Let's bring our best selves when we return to visit these national treasures.  Most popular National Parks (62 total)  Great Smoky Mountains is the most popular national park. Shutterstock  Most popular National Park Service sites (419 total)  Golden Gate National Recreation Area is the most popular NPS site. Shutterstock  1. Golden Gate National Recreation Area (CA): 15 million visits  2. Blue Ridge Parkway (NC/VA): 14.9 million visits  4. Gateway National Recreation Area (NY/NJ): 9.4 million visits  5. Lincoln Memorial (DC): 7.8 million visits  6. George Washington Memorial Parkway: 7.5 million visits  7. Lake Mead National Recreation Area (AZ/NV): 7.5 million visits  8. Natchez Trace Parkway (AL/MS/TN): 6.3 million visits\n",
      "Sans malus\n"
     ]
    },
    {
     "data": {
      "text/html": [
       "<img src=\"https://api.afp.com/objects/api/medias?id=a1kkIS0nShZdXlcxVgJEXV1EQksZd3cfFnNyEWh0dRRzemgedQRzcWkXTFBOXVQqVkYaX0JXEltfIX9GQFxVMUQgFjYsVgxbPVogNTcjFFpBU1UgV1lZUEFRXh5HLCYQWl9lFlArRixjQF5cIQkwMC0lUlVCWVNjXFVEXEBVXgUHc3MeDgcAeA9yBXZx.jpg\"/>"
      ],
      "text/plain": [
       "<IPython.core.display.Image object>"
      ]
     },
     "metadata": {},
     "output_type": "display_data"
    },
    {
     "data": {
      "text/html": [
       "<img src=\"https://api.afp.com/objects/api/medias?id=a1kkIS0nShZdXlcxVgJEXV1EQksZcHICeHRkHgYAZ3R2ZR8BdAZ1aBUzUFpGWlcqUgNeRVUPTlFSeClUV1NEMlJjRSohD1pJKlUxNiFrWlVIW10rTUBRRlNDC0lfIX9OVGNjJlkzX2U3XV1VeUU0LCctVVZCXR4gQV1dR1dDEAkAdHEaDAYNeQB2AHM%3D.jpg\"/>"
      ],
      "text/plain": [
       "<IPython.core.display.Image object>"
      ]
     },
     "metadata": {},
     "output_type": "display_data"
    },
    {
     "data": {
      "text/html": [
       "<img src=\"https://api.afp.com/objects/api/medias?id=a1kkIS0nShZdX1sxTF9RGkJYQkxZNm0fDQYbcABxH3ZzHQMCdxsAAxQZCHRlA20SFHxBXFFbQVdZLmxHSVULIl4hDSg8XFBAN1FnMC0iBFJUWFk1SkgZVl5VQF1YMS9ISlNHZ0YsVH4qfwhHBwwqNmI0VlVIC0kwUE5fWV1fRh5TPTJES1dHfAZzAXByBwMBcQR5c3E%3D.jpg\"/>"
      ],
      "text/plain": [
       "<IPython.core.display.Image object>"
      ]
     },
     "metadata": {},
     "output_type": "display_data"
    },
    {
     "data": {
      "text/html": [
       "<img src=\"https://api.afp.com/objects/api/medias?id=a1kkIS0nShZdX1sxTF9RGkJYQkxZNm0cAQUbcAF2H3FwHQMAfBsAAxQZCHRlAQ4OFHxBXFFbQVdZLmxHSVULIl4hDSg8XFBAN1FnMC0iBFJUWFk1SkgZVl5VQF1YMS9ISlNHZ0YsVH4qfwhHBwwqNmI0VlVIC0kwUE5fWV1fRh5TPTJES1dHfAZzAXByBwMBcQR3cXI%3D.jpg\"/>"
      ],
      "text/plain": [
       "<IPython.core.display.Image object>"
      ]
     },
     "metadata": {},
     "output_type": "display_data"
    },
    {
     "data": {
      "text/html": [
       "<img src=\"https://api.afp.com/objects/api/medias?id=a1kkIS0nShZdX1sxTF9RGkJYQkxZNm0fDQIbcAB9H3V1HQMBfRsAAxQZCHRlAGIWFHxBXFFbQVdZLmxHSVULIl4hDSg8XFBAN1FnMC0iBFJUWFk1SkgZVl5VQF1YMS9ISlNHZ0YsVH4qfwhHBwwqNmI0VlVIC0kwUE5fWV1fRh5TPTJES1dHfAZzAXByBwMBcQR3dXw%3D.jpg\"/>"
      ],
      "text/plain": [
       "<IPython.core.display.Image object>"
      ]
     },
     "metadata": {},
     "output_type": "display_data"
    },
    {
     "data": {
      "text/html": [
       "<img src=\"https://api.afp.com/objects/api/medias?id=a1kkIS0nShZdX1sxTF9RGkJYQkxZNm0fDAIbcAF9H3Z1HQMCfRsAAxQZCHRlAGIVFHxBXFFbQVdZLmxHSVULIl4hDSg8XFBAN1FnMC0iBFJUWFk1SkgZVl5VQF1YMS9ISlNHZ0YsVH4qfwhHBwwqNmI0VlVIC0kwUE5fWV1fRh5TPTJES1dHfAZzAXByBwMBcQR3dXI%3D.jpg\"/>"
      ],
      "text/plain": [
       "<IPython.core.display.Image object>"
      ]
     },
     "metadata": {},
     "output_type": "display_data"
    },
    {
     "name": "stdout",
     "output_type": "stream",
     "text": [
      "malus\n"
     ]
    },
    {
     "data": {
      "text/html": [
       "<img src=\"https://api.afp.com/objects/api/medias?id=a1kkIS0nShZdXlcxVgJEXV1EQksZd3cfFnNyEWh0dRRzemgedQRzcWkXTFBOXVQqVkYaX0JXEltfIX9GQFxVMUQgFjYsVgxbPVogNTcjFFpBU1UgV1lZUEFRXh5HLCYQWl9lFlArRixjQF5cIQkwMC0lUlVCWVNjXFVEXEBVXgUHc3MeDgcAeA9yBXZx.jpg\"/>"
      ],
      "text/plain": [
       "<IPython.core.display.Image object>"
      ]
     },
     "metadata": {},
     "output_type": "display_data"
    },
    {
     "data": {
      "text/html": [
       "<img src=\"https://api.afp.com/objects/api/medias?id=a1kkIS0nShZdXlcxVgJEXV1EQksZcHICeHRkHgYAZ3R2ZR8BdAZ1aBUzUFpGWlcqUgNeRVUPTlFSeClUV1NEMlJjRSohD1pJKlUxNiFrWlVIW10rTUBRRlNDC0lfIX9OVGNjJlkzX2U3XV1VeUU0LCctVVZCXR4gQV1dR1dDEAkAdHEaDAYNeQB2AHM%3D.jpg\"/>"
      ],
      "text/plain": [
       "<IPython.core.display.Image object>"
      ]
     },
     "metadata": {},
     "output_type": "display_data"
    },
    {
     "data": {
      "text/html": [
       "<img src=\"https://api.afp.com/objects/api/medias?id=a1kkIS0nShZdXlcxVgJEXV1EQksZc3oCeHRkHgYOCHYEfB8BdAZ1aBUzUFpGWlcqUgNeRVUPTlFSeClUV1NEMlJjRSohD1pJKlUxNiFrWlVIW10rTUBRRlNDC0lfIX8VXEUFAwErXGU3XV1VeUU0LCctVVZCXR4gQV1dR1dDEAkAdHEaDAYFcQV1BXE%3D.jpg\"/>"
      ],
      "text/plain": [
       "<IPython.core.display.Image object>"
      ]
     },
     "metadata": {},
     "output_type": "display_data"
    },
    {
     "data": {
      "text/html": [
       "<img src=\"https://api.afp.com/objects/api/medias?id=a1kkIS0nShZdX1sxTF9RGkJYQkxZNm0fDQYbcABxH3ZzHQMCdxsAAxQZCHRlA20SFHxBXFFbQVdZLmxHSVULIl4hDSg8XFBAN1FnMC0iBFJUWFk1SkgZVl5VQF1YMS9ISlNHZ0YsVH4qfwhHBwwqNmI0VlVIC0kwUE5fWV1fRh5TPTJES1dHfAZzAXByBwMBcQR5c3E%3D.jpg\"/>"
      ],
      "text/plain": [
       "<IPython.core.display.Image object>"
      ]
     },
     "metadata": {},
     "output_type": "display_data"
    },
    {
     "data": {
      "text/html": [
       "<img src=\"https://api.afp.com/objects/api/medias?id=a1kkIS0nShZdX1sxTF9RGkJYQkxZNm0cAQUbcAF2H3FwHQMAfBsAAxQZCHRlAQ4OFHxBXFFbQVdZLmxHSVULIl4hDSg8XFBAN1FnMC0iBFJUWFk1SkgZVl5VQF1YMS9ISlNHZ0YsVH4qfwhHBwwqNmI0VlVIC0kwUE5fWV1fRh5TPTJES1dHfAZzAXByBwMBcQR3cXI%3D.jpg\"/>"
      ],
      "text/plain": [
       "<IPython.core.display.Image object>"
      ]
     },
     "metadata": {},
     "output_type": "display_data"
    },
    {
     "data": {
      "text/html": [
       "<img src=\"https://api.afp.com/objects/api/medias?id=a1kkIS0nShZdX1sxTF9RGkJYQkxZNm0fDQIbcAB9H3V1HQMBfRsAAxQZCHRlAGIWFHxBXFFbQVdZLmxHSVULIl4hDSg8XFBAN1FnMC0iBFJUWFk1SkgZVl5VQF1YMS9ISlNHZ0YsVH4qfwhHBwwqNmI0VlVIC0kwUE5fWV1fRh5TPTJES1dHfAZzAXByBwMBcQR3dXw%3D.jpg\"/>"
      ],
      "text/plain": [
       "<IPython.core.display.Image object>"
      ]
     },
     "metadata": {},
     "output_type": "display_data"
    },
    {
     "name": "stdout",
     "output_type": "stream",
     "text": [
      "68 \n",
      " Macao (CNN) — You can smell it before you see it. The sweet smell of sugar, egg and custard, baking til it's cooked just right. Flaky pastry on the outside, soft custard on the inside, and crispy, burnt, sugar on top.  It's the signature smell of Margaret's Café e Nata -- one of the most popular places to eat in Macao, a former Portuguese colony.  The cafe is especially famous for one thing: the Macanese egg tart. It's a sweet pastry inspired by its Portuguese and Chinese counterparts, made fresh daily by owner Margaret Wong.  If visitors aren't there for a treat from the bakery, chances are they're there to see Wong.  After three decades in the food business, she's a colorful personality who still spends every day working hard at the cafe. She can be spotted working the cash register or bustling about in the kitchen.  A family affair  Margaret's Café e Nata's famous Macanese egg tarts. Maggie Hiufu Wong/CNN  Few people know Macanese egg tarts better than Wong, who began making the dish 30 years ago with her late ex-husband Andrew Stow.  The couple founded their first bakery business, Lord Stow's, in 1989. Today, Lord Stow's is run by their daughter Audrey and Andrew's sister Eileen.  Margaret's Café e Nata, which she subsequently founded in 1992, is entirely run by Wong herself.  Some online reports suggest that Wong founded her cafe to compete with Lord Stow's -- which netizens claim was born as a result of a domestic feud following the couple's divorce.  She wouldn't comment on the rumors, though she spoke openly about the early days of their romance.  Related content Preserving Macao's bamboo tradition through sculptural works  \"We were married three times -- once in Hong Kong, once in England and once in a church,\" she says.  According to Wong, the couple met in a local church, where she played the organ.  \"One day my foster mother was visiting from America, and we bumped into Andrew, who gave me a hug and a kiss and I went all red. He was friends with everybody so I didn't think I was anything special ... but my mother said 'Margaret, I think this is the right one for you.'\"  The two were married in 1988.  Up to 10,000 tarts a day  Macao visitors lineup outside Margaret's Café e Nata. CNN  Together, the couple created their signature egg tart dish, which is now an iconic Macao dish. Purists argue this egg tart tastes nothing like its Portuguese or Chinese counterparts.  According to Wong, that's the point.  \"When we started our bakery, someone asked Andrew to make a pasteis de nata, because they were very popular in Portugal. The first tray came out burnt and wrong, and Andrew wanted to throw them away. I said, hold on, they're edible, so let people just try them. They tried one, and then two, and by the third I said, 'I have to charge you because clearly, it's good!' \"  Related content 50 of the world's best desserts  It's this same recipe, three decades later, that continues to be sold across Macao.  Today, hundreds of tourists and locals alike line up at her cafe for a bite of this now famous pastry.  Wong's cafe alone can make up to 10,000 tarts a day -- all of which are bound to sell out.  \"Sometimes people walk in and say -- can I have just one egg tart -- and I say, not even one bite.\"  'Like the tart, I never change'  Visitors to Margaret's Café e Nata will usually find her in the kitchen or behind the till. CNN  Every single dish sold by the bakery is graced with Wong's magic touch. In addition to egg tarts, other items on the menu include brownies, cakes and croissants. There's also a salad and sandwich bar.  Despite long working hours, and the physically demanding nature of her work, she still spends almost every day bouncing back and forth between the kitchen and the shop.  \"Some of my staff have been working with me for 15 years, they know everything, but still sometimes I have to make sure everything is good -- I'm the boss!\" she says.  Related content 10 foods you can't miss in Macao  She's the boss, but she's also a local celebrity. During our interview Wong is regularly interrupted by friends and fans dropping by to wish her well.  \"I open the shop at 8:30 a.m., and I'm here until we close at 4:30 p.m., and I have an hour for lunch. My friend's say I'm crazy... and I'm exhausted,\" she says with a laugh. \"I say I'm getting old, that's why.\"  Clearly young at heart, Wong abruptly cuts our interview short, informing us she needs to head to a rock 'n' roll dance class -- but leaves us with a taste of wisdom.  \"These days, teenagers, they always want to change their jobs. But for us, we never change. Like the tart, I never change my recipe, I don't want to.\"\n",
      "Sans malus\n"
     ]
    },
    {
     "data": {
      "text/html": [
       "<img src=\"https://api.afp.com/objects/api/medias?id=a1kkIS0nShZdXlcxVgJEXV1EQksZdHseFnNyEWh0endwfXoedQRzcWkXTFBOXVQqVkYaX0JXEltfIX9GQFxVMUQgFjYsVgxbPVogNTcjFFpBU1UgV1lZUEFRXh5HLCYQUUhHAAcoWBFjQF5cIQkwMC0lUlVCWVNjXFVEXEBVXgUHc3MeDgcAcgdzCHJz.jpg\"/>"
      ],
      "text/plain": [
       "<IPython.core.display.Image object>"
      ]
     },
     "metadata": {},
     "output_type": "display_data"
    },
    {
     "data": {
      "text/html": [
       "<img src=\"https://api.afp.com/objects/api/medias?id=a1kkIS0nShZdXlcxVgJEXV1EQksZd3cZFnNyEWh0egVwZmMedQRzcWkXTFBOXVQqVkYaX0JXEltfIX9GQFxVMUQgFjYsVgxbPVogNTcjFFpBU1UgV1lZUEFRXh5HLCYQf1dfNgEUQgZjQF5cIQkwMC0lUlVCWVNjXFVEXEBVXgUHc3MeDgcAcwVzAXN3.jpg\"/>"
      ],
      "text/plain": [
       "<IPython.core.display.Image object>"
      ]
     },
     "metadata": {},
     "output_type": "display_data"
    },
    {
     "data": {
      "text/html": [
       "<img src=\"https://api.afp.com/objects/api/medias?id=a1kkIS0nShZdXlcxVgJEXV1EQksZdHsUFnNyEWh0eQx2C34edQRzcWkXTFBOXVQqVkYaX0JXEltfIX9GQFxVMUQgFjYsVgxbPVogNTcjFFpBU1UgV1lZUEFRXh5HLCYQWAZxEgASYQtjQF5cIQkwMC0lUlVCWVNjXFVEXEBVXgUHc3MeDgcAcgFwCHZ8.jpg\"/>"
      ],
      "text/plain": [
       "<IPython.core.display.Image object>"
      ]
     },
     "metadata": {},
     "output_type": "display_data"
    },
    {
     "data": {
      "text/html": [
       "<img src=\"https://api.afp.com/objects/api/medias?id=a1kkIS0nShZdXlcxVgJEXV1EQksZd3cZFnNyEWh0eg92YXoedQRzcWkXTFBOXVQqVkYaX0JXEltfIX9GQFxVMUQgFjYsVgxbPVogNTcjFFpBU1UgV1lZUEFRXh5HLCYQQUNfck0CagRjQF5cIQkwMC0lUlVCWVNjXFVEXEBVXgUHc3MeDgcAcA5wCHFw.jpg\"/>"
      ],
      "text/plain": [
       "<IPython.core.display.Image object>"
      ]
     },
     "metadata": {},
     "output_type": "display_data"
    },
    {
     "data": {
      "text/html": [
       "<img src=\"https://api.afp.com/objects/api/medias?id=a1kkIS0nShZdX1sxTF9RGkJYQkxZNm0bCx0FdAJqAXRqBgAfBXIRGnUJdQl9ABUUTERXXl5fQlMYLzJKBlFdJQouSS0kQkJVYkEoIXktQFdMRksgFE5YUF9VQ0xbIDFMShRFKFN4AzcBA1RxfQJnNysqXARcQ1EmUkFbWlkWSEBGLDBISg8FdwZ2B3Z0CwIIcQJw.jpg\"/>"
      ],
      "text/plain": [
       "<IPython.core.display.Image object>"
      ]
     },
     "metadata": {},
     "output_type": "display_data"
    },
    {
     "data": {
      "text/html": [
       "<img src=\"https://api.afp.com/objects/api/medias?id=a1kkIS0nShZdX1sxTF9RGkJYQkxZNm0fCx0FcAJqAnFqAAQFa3UHFRt3dnUVfnFoaFhdVllcQlddayhdXg1XKFN4WzorU0FDIRI0LCB7UkBDV0g2XABXWVddSFZCKCdeWEESMF4hDRUmcEVdc2QOYzYpVVwQR00sWkZYWl1bC11ONStfXEEJcAF0A3RwAwgDcwJzdQ%3D%3D.jpg\"/>"
      ],
      "text/plain": [
       "<IPython.core.display.Image object>"
      ]
     },
     "metadata": {},
     "output_type": "display_data"
    },
    {
     "name": "stdout",
     "output_type": "stream",
     "text": [
      "malus\n"
     ]
    },
    {
     "data": {
      "text/html": [
       "<img src=\"https://api.afp.com/objects/api/medias?id=a1kkIS0nShZdXlcxVgJEXV1EQksZdHseFnNyEWh0endwfXoedQRzcWkXTFBOXVQqVkYaX0JXEltfIX9GQFxVMUQgFjYsVgxbPVogNTcjFFpBU1UgV1lZUEFRXh5HLCYQUUhHAAcoWBFjQF5cIQkwMC0lUlVCWVNjXFVEXEBVXgUHc3MeDgcAcgdzCHJz.jpg\"/>"
      ],
      "text/plain": [
       "<IPython.core.display.Image object>"
      ]
     },
     "metadata": {},
     "output_type": "display_data"
    },
    {
     "data": {
      "text/html": [
       "<img src=\"https://api.afp.com/objects/api/medias?id=a1kkIS0nShZdXlcxVgJEXV1EQksZdHMfFnNyEWh0enFyZggedQRzcWkXTFBOXVQqVkYaX0JXEltfIX9GQFxVMUQgFjYsVgxbPVogNTcjFFpBU1UgV1lZUEFRXh5HLCYQaGEFLHMVUjVjQF5cIQkwMC0lUlVCWVNjXFVEXEBVXgUHc3MeDgcAcgZ2CHFx.jpg\"/>"
      ],
      "text/plain": [
       "<IPython.core.display.Image object>"
      ]
     },
     "metadata": {},
     "output_type": "display_data"
    },
    {
     "data": {
      "text/html": [
       "<img src=\"https://api.afp.com/objects/api/medias?id=a1kkIS0nShZdXlcxVgJEXV1EQksZdHEbFnNyEWh0enF9cwIedQRzcWkXTFBOXVQqVkYaX0JXEltfIX9GQFxVMUQgFjYsVgxbPVogNTcjFFpBU1UgV1lZUEFRXh5HLCYQaGEFLHMVUjVjQF5cIQkwMC0lUlVCWVNjXFVEXEBVXgUHc3MeDgcAcgZ2B3Vy.jpg\"/>"
      ],
      "text/plain": [
       "<IPython.core.display.Image object>"
      ]
     },
     "metadata": {},
     "output_type": "display_data"
    },
    {
     "data": {
      "text/html": [
       "<img src=\"https://api.afp.com/objects/api/medias?id=a1kkIS0nShZdXlcxVgJEXV1EQksZdHscFnNyEWh0enBweGEedQRzcWkXTFBOXVQqVkYaX0JXEltfIX9GQFxVMUQgFjYsVgxbPVogNTcjFFpBU1UgV1lZUEFRXh5HLCYQVUtnEWN9QzNjQF5cIQkwMC0lUlVCWVNjXFVEXEBVXgUHc3MeDgcAcgZ1BnV2.jpg\"/>"
      ],
      "text/plain": [
       "<IPython.core.display.Image object>"
      ]
     },
     "metadata": {},
     "output_type": "display_data"
    },
    {
     "data": {
      "text/html": [
       "<img src=\"https://api.afp.com/objects/api/medias?id=a1kkIS0nShZdXlcxVgJEXV1EQksZcHoCeHRkHgYPA3YKdR8BdAZ1aBUzUFpGWlcqUgNeRVUPTlFSeClUV1NEMlJjRSohD1pJKlUxNiFrWlVIW10rTUBRRlNDC0lfIX9BQGFkFQ82QGU3XV1VeUU0LCctVVZCXR4gQV1dR1dDEAkAdHEaDAYHcAdzBHs%3D.jpg\"/>"
      ],
      "text/plain": [
       "<IPython.core.display.Image object>"
      ]
     },
     "metadata": {},
     "output_type": "display_data"
    },
    {
     "data": {
      "text/html": [
       "<img src=\"https://api.afp.com/objects/api/medias?id=a1kkIS0nShZdXlcxVgJEXV1EQksZd3ccFnNyEWh0ehJ2d2MedQRzcWkXTFBOXVQqVkYaX0JXEltfIX9GQFxVMUQgFjYsVgxbPVogNTcjFFpBU1UgV1lZUEFRXh5HLCYQdmR1eH4ffBtjQF5cIQkwMC0lUlVCWVNjXFVEXEBVXgUHc3MeDgcAcAB1BXd0.jpg\"/>"
      ],
      "text/plain": [
       "<IPython.core.display.Image object>"
      ]
     },
     "metadata": {},
     "output_type": "display_data"
    },
    {
     "name": "stdout",
     "output_type": "stream",
     "text": [
      "71 \n",
      " (CNN) With nearly all states partially reopened this week, backlash and frustrations are growing Friday as Americans struggle with ways to combat the deadly coronavirus.  More than 45 states by Sunday will have relaxed restrictions on some combination of businesses, services or parks, hoping to lift economies crushed by a pandemic that has killed at least 77,000 people in the United States and infected over 1.2 million.  In the past week, tensions between two goals -- to keep people healthy and to get people working -- have been increasingly laid bare, with groups asserting one is being emphasized at the cost of the other.  More than two-thirds of Americans -- 68% -- are concerned about their states being reopened too quickly, according to a new poll from Pew Research Center  But after weeks of stay-at-home orders, protesters have taken to the streets for days, demanding states allow businesses to reopen. Even instructionsto wear masks to stop the spread of the virus have become a flashpoint, leading to one alleged killing in Michigan  And the dire financial news continues. The US economy lost 20.5 million jobs in April , the government said Friday -- by far the most sudden and largest decline since it began tracking the data in 1939. That's on top of 870,000 jobs lost in March. The tally for those two months is more than double the US jobs lost during the financial crisis of 2007-2008.  Meanwhile, evidence continued emerging this week that the virus is hitting certain vulnerable communities -- such as those at nursing homes and prisons -- the hardest. And there was more research suggesting African Americans may be dying from Covid-19 at disproportionately high rates.  Experts say relaxed social distancing restrictions now will make death tolls worse than they would have been. One model from the University of Washington projects 134,000 coronavirus deaths nationwide by August, nearly double its previous forecast.  One of the latest states to relax restrictions is California , which had been one of the first states to issue a stay-at-home order. Starting Friday, some retail stores may offer more curbside pickup and potentially delivery, though they should encourage social distancing, officials said.  Rhode Island will lift its stay-at-home order on Saturday, becoming the first state in the Northeast to do so, Gov. Gina Raimondo said.  But things aren't wide open yet. She warned Mother's Day on Sunday \"is absolutely not a time to visit your mom in a nursing home or an assisted living facility.\"  Members of the National Nurses United protest across from the White House on Thursday. The nurses say the shoes represent other nurses who've died from Covid-19.  States are not ready to reopen, experts warn  Health experts warn that states have not met the federal guidelines for reopening , including aggressive testing and tracing, and a downward trajectory of documented cases in a 14-day period. Reopening risks setting off another wave of the pandemic and its effects will not be immediately known, experts have said.  \"It will be at least two to three weeks before we see an increase in the number of infections because it takes time for individuals to infect others and for them to display symptoms,\" data scientist Youyang Gu, whose coronavirus projection model is cited by the Centers for Disease Control and Prevention, said this week  The CDC has created a 17-page draft recommendation on how to reopen the economy, with details beyond what was offered last month -- including specifics for schools and churches. But the Trump administration will not implement it, a senior CDC official said Thursday  On Friday, White House press secretary Kayleigh McEnany said the guidelines were still in the editing process.  \"Those aren't CDC guidelines,\" she told reporters. \"Those are guidelines in draft form that a rogue employee has given you for whatever personal reason they decided to do that.\"  Meanwhile, a new study illustrates how much states' loosened restrictions may increase people's mobility.  After Georgia began letting certain personal-service businesses reopen on April 24, trips to the state from across the nation rose by 13%, or 62,441 trips a day, according to researchers at the University of Maryland  Glimmers of good news appeared in two hotspots.  In Louisiana, hotspot Orleans Parish reported zero Covid-19 related deaths for the second day in a row. The state remains under a stay-at-home order until May 15 and Gov. John Bel Edwards is expected to address when the state will start reopening on Monday.  In New York, Gov. Andrew Cuomo said the hospitalization and death rates are going down and \"I feel that we are for the first time in this engagement, we're actually ahead of the virus.\"  Protesters call for the state to lift stay-at-home orders and reopen the economy in downtown Richmond, Virginia on Wednesday.  Calls to wear masks become a flashpoint  To slow the predicted spread of the virus, some cities are asking people to wear masks in public places. But those guidelines have been met with resistance, leading to confrontations.  In Michigan, two incidents involving masks made headlines nationwide. In one, a Family Dollar security guard was shot dead after he told a woman to wear a face mask, officials said. Police also arrested a man who allegedly wiped his nose on the sleeve of a Dollar Tree employee who asked him to wear a mask.  Protesters have flocked the Michigan Capitol for days, demanding an end to the state of emergency in place through May 28. But Gov. Gretchen Whitmer also relaxed restrictions so some businesses can reopen and the public can participate in outdoor activities like golf and motorized boating.  In Florida's Miami-Dade County, a bus driver says that after she asked a coughing passenger to wear a mask, that person spat on her and fled . In Miami Beach, a man shouted \"this is a false flag, a fake pandemic\" in a grocery store during a profanity-laced tirade this week as a code compliance officer told him he needed a mask to enter.  The city of Stillwater, Oklahoma, revoked an order requiring residents to wear face coverings inside buildings after workers received threats.  Steven Taylor, a clinical psychologist and author of \"The Psychology of Pandemics,\" said people tend to rebel when they're told what to do, even when the measures are to protect them.  \"People value their freedoms,\" he said. \"They may become distressed or indignant or morally outraged when people are trying to encroach on their freedoms.\"  Unmasked protesters in Michigan try to enter the state's House of Representatives chamber but are blocked by masked Michigan State Police.  The virus is hitting hard in some vulnerable communities  As some people rebel against protective measures, the virus continues to hit hard in places where social distancing is not an option.  Thousands of inmates have tested positive for coronavirus in federal and state prisons -- many of whom showed no symptoms. In Ohio, more than 20% of the people infected with coronavirus are prisoners. And in Colorado, the state's largest outbreak is in a correctional facility.  Things are just as bad in nursing homes, where the population is especially vulnerable. In Louisiana, more than 30% of the state's coronavirus deaths are from nursing homes and long-term care facilities. In New Hampshire, they make up nearly 80% of the cases while in Arkansas, almost half of all of the state's cases are in prisons and nursing homes.  Officials in several states have called for more testing in correctional facilities and nursing homes.  \"Nursing homes have been ground zero for Covid-19,\" said Seema Verma, the administrator of the Centers for Medicare and Medicaid Services.  Tavern owner Jenna Aronowitz takes the temperature of bartender Shane Goode before the restaurant opens for sit down meals in Brookhaven, Ga.  It's taken a deadly toll on the black community  America has an inequality problem and the coronavirus crisis is making it worse.  The pandemic is leaving few people untouched, but the toll is far more deadly for African Americans, who are dying at higher numbers.  according to a new study. African Americans make up 13.4% of the American population. But counties with higher black populations account for more than half of all coronavirus cases and almost 60% of deaths,  Disparities, including access to health care, are likely to blame, researchers concluded.  \"Structural factors including health care access, density of households, unemployment, pervasive discrimination and others drive these disparities,\" researchers said. \"Social conditions, structural racism, and other factors elevate risk for Covid-19 diagnoses and deaths in black communities.\"  The study involved scientists from Emory and Johns Hopkins universities, the University of Mississippi Medical Center and Georgetown University.  Of the more than 3,100 counties researchers studied coronavirus cases from late January to mid-April, they found deaths were higher in disproportionally black rural and small metro counties.\n",
      "Sans malus\n"
     ]
    },
    {
     "data": {
      "text/html": [
       "<img src=\"https://api.afp.com/objects/api/medias?id=a1kkIS0nShZdXlcxVgJEXV1EQksZcnQCeHRkHgYDfXYBAh8BdAZ1aBUzUFpGWlcqUgNeRVUPTlFSeClUV1NEMlJjRSohD1pJKlUxNiFrWlVIW10rTUBRRlNDC0lfIX98d0J6dQcsZGU3XV1VeUU0LCctVVZCXR4gQV1dR1dDEAkAdHEaDAYMcg5wBHo%3D.jpg\"/>"
      ],
      "text/plain": [
       "<IPython.core.display.Image object>"
      ]
     },
     "metadata": {},
     "output_type": "display_data"
    },
    {
     "data": {
      "text/html": [
       "<img src=\"https://api.afp.com/objects/api/medias?id=a1kkIS0nShZdX1sxTF9RGkJYQkxZNm0cDgUbeQNqAnF3HQQHa3UHFRt3dgocZXBoaFhdVllcQlddayhdXg1XKFN4WzorU0FDIRI0LCB7UkBDV0g2XABXWVddSFZCKCdeWEESMF4hDQUDaFlaHncwYzYpVVwQR00sWkZYWl1bC11ONStfXEEJcAF0A3RwAwgGcQRxcw%3D%3D.jpg\"/>"
      ],
      "text/plain": [
       "<IPython.core.display.Image object>"
      ]
     },
     "metadata": {},
     "output_type": "display_data"
    },
    {
     "data": {
      "text/html": [
       "<img src=\"https://api.afp.com/objects/api/medias?id=a1kkIS0nShZdX1sxTF9RGkJYQkxZNm0cDgsbeQFqAnFxHQQFa3UHFRt3dgodfGpoaFhdVllcQlddayhdXg1XKFN4WzorU0FDIRI0LCB7UkBDV0g2XABXWVddSFZCKCdeWEESMF4hDQUDaFlaHncwYzYpVVwQR00sWkZYWl1bC11ONStfXEEJcAF0A3RwAwgGcQRxcA%3D%3D.jpg\"/>"
      ],
      "text/plain": [
       "<IPython.core.display.Image object>"
      ]
     },
     "metadata": {},
     "output_type": "display_data"
    },
    {
     "data": {
      "text/html": [
       "<img src=\"https://api.afp.com/objects/api/medias?id=a1kkIS0nShZdXlcxVgJEXV1EQksZdHMUFnNyEWh0dxJwAQEedQRzcWkXTFBOXVQqVkYaX0JXEltfIX9GQFxVMUQgFjYsVgxbPVogNTcjFFpBU1UgV1lZUEFRXh5HLCYQa1pZJlQLQgtjQF5cIQkwMC0lUlVCWVNjXFVEXEBVXgUHc3MeDgcAdwVwBnZ8.jpg\"/>"
      ],
      "text/plain": [
       "<IPython.core.display.Image object>"
      ]
     },
     "metadata": {},
     "output_type": "display_data"
    },
    {
     "data": {
      "text/html": [
       "<img src=\"https://api.afp.com/objects/api/medias?id=a1kkIS0nShZdXlcxVgJEXV1EQksZdXsCeHRkHgYCfnUffx8BdAZ1aBUzUFpGWlcqUgNeRVUPTlFSeClUV1NEMlJjRSohD1pJKlUxNiFrWlVIW10rTUBRRlNDC0lfIX8ZfnNmIH5zc2U3XV1VeUU0LCctVVZCXR4gQV1dR1dDEAkAdHEaDAYCcgNxB3s%3D.jpg\"/>"
      ],
      "text/plain": [
       "<IPython.core.display.Image object>"
      ]
     },
     "metadata": {},
     "output_type": "display_data"
    },
    {
     "data": {
      "text/html": [
       "<img src=\"https://api.afp.com/objects/api/medias?id=a1kkIS0nShZdXlcxVgJEXV1EQksZdHEbFnNyEWh0eAV3AQcedQRzcWkXTFBOXVQqVkYaX0JXEltfIX9GQFxVMUQgFjYsVgxbPVogNTcjFFpBU1UgV1lZUEFRXh5HLCYQeGcDCF8HURBjQF5cIQkwMC0lUlVCWVNjXFVEXEBVXgUHc3MeDgcAdAV9AXt2.jpg\"/>"
      ],
      "text/plain": [
       "<IPython.core.display.Image object>"
      ]
     },
     "metadata": {},
     "output_type": "display_data"
    },
    {
     "name": "stdout",
     "output_type": "stream",
     "text": [
      "malus\n"
     ]
    },
    {
     "data": {
      "text/html": [
       "<img src=\"https://api.afp.com/objects/api/medias?id=a1kkIS0nShZdXlcxVgJEXV1EQksZcnQCeHRkHgYDfXYBAh8BdAZ1aBUzUFpGWlcqUgNeRVUPTlFSeClUV1NEMlJjRSohD1pJKlUxNiFrWlVIW10rTUBRRlNDC0lfIX98d0J6dQcsZGU3XV1VeUU0LCctVVZCXR4gQV1dR1dDEAkAdHEaDAYMcg5wBHo%3D.jpg\"/>"
      ],
      "text/plain": [
       "<IPython.core.display.Image object>"
      ]
     },
     "metadata": {},
     "output_type": "display_data"
    },
    {
     "data": {
      "text/html": [
       "<img src=\"https://api.afp.com/objects/api/medias?id=a1kkIS0nShZdXlcxVgJEXV1EQksZcnACeHRkHgYPcXpycB8BdAZ1aBUzUFpGWlcqUgNeRVUPTlFSeClUV1NEMlJjRSohD1pJKlUxNiFrWlVIW10rTUBRRlNDC0lfIX9CcHAFF2IWVGU3XV1VeUU0LCctVVZCXR4gQV1dR1dDEAkAdHEaDAYGdgB3Bno%3D.jpg\"/>"
      ],
      "text/plain": [
       "<IPython.core.display.Image object>"
      ]
     },
     "metadata": {},
     "output_type": "display_data"
    },
    {
     "data": {
      "text/html": [
       "<img src=\"https://api.afp.com/objects/api/medias?id=a1kkIS0nShZdXlcxVgJEXV1EQksZdHUYFnNyEWh0egJ8BXIedQRzcWkXTFBOXVQqVkYaX0JXEltfIX9GQFxVMUQgFjYsVgxbPVogNTcjFFpBU1UgV1lZUEFRXh5HLCYQVnt2cGEQYydjQF5cIQkwMC0lUlVCWVNjXFVEXEBVXgUHc3MeDgcAcwByAnV0.jpg\"/>"
      ],
      "text/plain": [
       "<IPython.core.display.Image object>"
      ]
     },
     "metadata": {},
     "output_type": "display_data"
    },
    {
     "data": {
      "text/html": [
       "<img src=\"https://api.afp.com/objects/api/medias?id=a1kkIS0nShZdXlcxVgJEXV1EQksZfXICeHRkHgYPcnBwfh8BdAZ1aBUzUFpGWlcqUgNeRVUPTlFSeClUV1NEMlJjRSohD1pJKlUxNiFrWlVIW10rTUBRRlNDC0lfIX9pcgJkA3okAmU3XV1VeUU0LCctVVZCXR4gQV1dR1dDEAkAdHEaDAYGdgN0Bns%3D.jpg\"/>"
      ],
      "text/plain": [
       "<IPython.core.display.Image object>"
      ]
     },
     "metadata": {},
     "output_type": "display_data"
    },
    {
     "data": {
      "text/html": [
       "<img src=\"https://api.afp.com/objects/api/medias?id=a1kkIS0nShZdX1sxTF9RGkJYQkxZNm0cDgUbeQNqAnF3HQQHa3UHFRt3dgocZXBoaFhdVllcQlddayhdXg1XKFN4WzorU0FDIRI0LCB7UkBDV0g2XABXWVddSFZCKCdeWEESMF4hDQUDaFlaHncwYzYpVVwQR00sWkZYWl1bC11ONStfXEEJcAF0A3RwAwgGcQRxcw%3D%3D.jpg\"/>"
      ],
      "text/plain": [
       "<IPython.core.display.Image object>"
      ]
     },
     "metadata": {},
     "output_type": "display_data"
    },
    {
     "data": {
      "text/html": [
       "<img src=\"https://api.afp.com/objects/api/medias?id=a1kkIS0nShZdX1sxTF9RGkJYQkxZNm0cDgsbeQFqAnFxHQQFa3UHFRt3dgodfGpoaFhdVllcQlddayhdXg1XKFN4WzorU0FDIRI0LCB7UkBDV0g2XABXWVddSFZCKCdeWEESMF4hDQUDaFlaHncwYzYpVVwQR00sWkZYWl1bC11ONStfXEEJcAF0A3RwAwgGcQRxcA%3D%3D.jpg\"/>"
      ],
      "text/plain": [
       "<IPython.core.display.Image object>"
      ]
     },
     "metadata": {},
     "output_type": "display_data"
    },
    {
     "name": "stdout",
     "output_type": "stream",
     "text": [
      "72 \n",
      " (CNN) It's National Teacher Appreciation Week, and there's rarely been a more important time to be grateful for their hard work . CNN Chief Medical Correspondent Dr. Sanjay Gupta highlights some teachers' struggles and most creative adaptations to teaching during a pandemic.  You can listen on your favorite podcast app or read the transcript below.  Jimmy Fallon, \"The Tonight Show\" host: Teachers should make a billion dollars, and get more vacation time. They spend their days wrangling all our crazy kids. When they go out, they should get free bottomless wine ...  Dr. Sanjay Gupta: That's Jimmy Fallon singing on \"The Tonight Show\" earlier this week. I think voicing the thoughts of so many families. The song was a nod to National Teacher Appreciation Week, which ends today but should probably go on all year long.  Like schools across the country, the week looked very different compared to years past. Instead of apples on their desks or gift cards from parents, teachers might've received an apple emoji or some money on Venmo.  You know why. It's because 47 states and the District of Columbia have ordered or recommended school closures for the rest of the school year.  Teachers across the country have taken their lessons online to try and weather this pandemic.  So today, we'll highlight some of these teachers' struggles and successes in navigating remote learning.  I'm Dr. Sanjay Gupta, CNN's chief medical correspondent. And this is \"Coronavirus: Fact vs. Fiction.\"  Chris Dier: We had to really try to make everything work in the virtual world. And that's challenging to do because most teachers like myself, we don't sign up for that. We sign up for the interaction.  We sign up for the collaboration, and we sign up for those human moments that you can't really replicate online.  Gupta: That's Chris Dier, 2020 Louisiana Teacher of the Year and the finalist for 2020 National Teacher of the Year.  Dier: I teach at Chalmette High School in Louisiana, right outside of New Orleans.  Gupta: Dier teaches world history to seniors, and AP human geography to freshmen — I didn't know what that was. He said it's sort of like anthropology. He was inspired to teach, partly because of a formative personal experience.  Dier: I was in high school when Hurricane Katrina hit. I was a senior. It was our second week, and it disrupted, you know, the entire region down here.  I was forced to go to Texas. I stayed in hotels and shelters and bounced around different schools. I missed out on a lot of big events that a lot of people look forward to their senior year.  Gupta: Sound familiar? Dier has a pretty good idea of what his current students probably feel.  Dier: It's a time when you're supposed to be celebrating all of your hard work, your dedication, your accomplishments, when your family's supposed to watch you walk across that stage and cheer. So it's — it's a time that you'll never get to redo and you'll never get back.  Gupta: And that's not just a loss for Dier's students. Some of them will be the first in their families to graduate from high school, and the ceremony would've been meaningful to their relatives as well.  Dier has students who are also dreamers; undocumented immigrants who arrived in the United States as children. And he has students who are working essential jobs while they also balance online classes.  Learning online might seem easy enough if you're a student with a computer or the internet, but Dier also has students who didn't have the luxury of these tools.  Dier: So a lot of students who originally didn't have internet when this happened, we were distributing work and packets and, you know, just literally papers when we were distributing food.  But my district personally has been giving Chromebooks out to students who need them and trying to collaborate with local organizations to get hot spots to get kids connected, so I think teachers all across the country are doing everything they can to get kids online and to keep that, that learning going.  Gupta: Esperanza Community School in Phoenix, Arizona, has also handed out Chromebooks and Wi-Fi hot spots to some of its students. But that's not all the school is providing. I think a lot of us forget how intergral schools are to our communities, even if you're not a student there.  Hannah Wysong teaches science and English at Eperanza, mostly to low-income students.  She has helped distribute food boxes and gift cards to grocery stores. But as this pandemic drags on, Wysong and her colleagues are looking ahead to long-term challenges families might face.  Hannah Wysong: Food is available in a lot of places from schools and food banks. But as this has gone on for a couple of months and parents are not working or working less, the next step that we're working on right now is to build a fund for rental assistance.  Gupta: And that's just the creative problem-solving Wysong has been a part of outside the classroom. After students have been set up with food and Wi-Fi is when her real job, and the real connection begins. And these teachers have come up with all kinds of new ways to do that as well.  Wysong: Something that we do normally at our school is have monthly family nights with movies or dinner or games or whatever it might be. And we were really mourning the loss of family night, and we decided to do a virtual dance party.  So we got a local deejay from a radio station, and then we invited all of the families to get on Zoom. There were, I think, between 45 and 50 people on, between families and staff. It's pretty cute to see a bunch of little squares of third graders dancing.  Gupta: Chris Wyckoff, who teaches American history to 11th graders in North Carolina, has taken advantage of our reliance on the internet to send his students some encouragement.  Chris Wyckoff: I've been sending out digital cards to let them know that I still see you. I still see your work. I still see you're working hard.  Gupta: Wyckoff has been proud of how well his students at the Johnston County Career and Technical Leadership Academy have taken to online classes. After all, they could easily just turn their video off and go do something else.  Wyckoff: Online learning, you know, it has its good and its bad even depending on the type of learner you are. And a lot of our students are capable of making the adjustment.  The conditions at home, all of those — the social and emotional atmosphere of home versus the social emotional atmosphere at school, all of those things combine to either create an atmosphere for success or failure for the students.  Gupta: Chris Dineen — this is another Chris — said there were hiccups using video conferencing at first.  Chris Dineen: We had a Zoom bomb the first or second day.  Gupta: But his middle school students at Albuquerque Academy in New Mexico have come around.  Dineen: The students themselves have had to adapt to a totally different style of teaching, and they've actually had to become somewhat more accountable for their own behavior because of course, we can't see them and monitor them in the ways that we normally do.  Gupta: Laurie Abrams finds this challenging, too. She's a special education teacher on Long Island and works with 3- to 5-year-olds who have special needs.  During normal times, her work is incredibly physical and requires personalized interactions with each student. These days, she struggles to get her students to sit still in front of the camera.  Laurie Abrams: All kids do well with a schedule, but especially kids with special needs, listening issues and attending issues. They really need that. They need that routine. And the — you know, it's very hard — it's very hard for them.  Gupta: But, like everyone else, Abrams has come up with ways to make it work. In fact, she borrowed one method of calming her students down from a children's yoga certification course.  Abrams: What I'm doing with my fingers is touching my thumb to my forefinger, middle finger, ring finger and pinkie. And so you have them do that. So it's four touches and then you just say, \"Peace begins with me.\" And they understand that peace means quiet. And then we keep doing it.  And at any time when you feel anxious or that you need to calm down, you can just — you can just move your fingers like that.  Gupta: It's thoughtful. It's innovative. It's what's necessary.  The teachers we spoke to said they've mostly worked out the kinks of remote learning, and they feel optimistic about finishing the year apart from their students.  But in the long run? They're still not so sure.  Abrams: I think these kids are young enough that if it's just four months in the scheme of their long lives, this is not going to make the biggest difference because they didn't have four months of preschool.  I think that in the fall, if kids can't go back to school, if they have to learn online, I think that's going to, you know, really impact this whole generation.  Gupta: This won't surprise you, but Chris Dier, the Louisiana teacher whose own senior year was interrupted by Hurricane Katrina, said this pandemic highlights the need for more investment in education.  Dier: I know a lot of times when the economy starts to tank a bit, the first thing that gets cut is education. And people might say, well, why do we need as much, you know, money for education and budgets when they can do things virtually and whatnot.  But at this time, I feel like that we need more, because we need more counselors, we need more social workers, we need more therapists, we need smaller classes.  And that's how we're gonna get through this.  Gupta: These five teachers said the feedback they've gotten from students and parents has mostly been positive. But during this strange, difficult National Teacher Appreciation Week, it's nice for them to hear that their efforts haven't gone unnoticed.  Get CNN Health's weekly newsletter Sign up here to get The Results Are In with Dr. Sanjay Gupta every Tuesday from the CNN Health team.  So since they can't hug their teachers in person this year, we got some amazing shout-outs from students all over who want their teachers to know that their students are grateful.  Dalton Davis: My name is Dalton Davis. I am 7 years old from Philomath, Oregon, I want to say hi to my first-grade teacher, Mrs. Hobbs, and I miss her.  Mira Singh: Hello, my name is Mira Singh, and I am in seventh grade. I would like to thank all of my amazing teachers.  Aglaia: Hi, my name is Aglaia, and I'm a fourth grader. I want to give a shout-out to my awesome teacher, Mr. Fausto. He is there every day with a smile.  Cassie: Hi, my name is Cassie, I'm from Whittier, California. And thank you to all the teachers, especially my fourth-grade teacher, Mrs. Cudler.  Christa: And I'm Cassie's mom, Christa. I also want to say, on behalf of my 14-year-old son, David, who has autism, we appreciate the special ed teachers like Mrs. Arageen. Thanks.  Emilia Cook: Hi. I'm Emilia Cook, and I am 7 years old. I'm in second grade. I had the best teachers, and I can't wait for the coronavirus to be over so I can go back to school and see them.  Gupta: Thanks so much for sending those in, and thank you to all the teachers who are guiding our kids through this time. I have three daughters in school right now.  I watch them get educated by teachers online, I watch the patience of those teachers and I watch my kids blossom and grow. I can't thank you enough.  I also wanted to give a quick note about next week. I'm going to be talking to experts about what we can expect in the months and years to come, starting with a conversation with my friend and colleague, Fareed Zakaria . You can watch a special edition of Fareed's show, \"GPS,\" this Sunday.  We'll be back Monday. Thanks for listening.  If you have questions, please record them as a voice memo and email them to asksanjay@cnn.com -- we might even include them in our next podcast. You can also head to cnn.com/coronavirus and sign up for our daily newsletter, which features the latest updates on this fast-moving story from CNN journalists around the globe. For a full listing of episodes of \"Coronavirus: Fact vs. Fiction,\" visit the podcast's page here.  ...  \"Coronavirus: Fact vs. Fiction\" is a production of CNN Audio.  Megan Marcus is the executive producer. Felicia Patinkin is the senior producer, along with Nadia Kounang and Amanda Sealy from CNN Health. Raj Makhija is the senior manager of production operations.  This week's episodes were produced by Anne Lagamayo, Zoë Saunders and Zach St. Louis with additional help from Michael Nedelman.  Our associate producers are Rachel Cohn, Emily Liu, Eryn Mathewson and Madeleine Thompson.  Nathan Miller is our engineer, and David Toledo is the team's production assistant.  Special thanks to executive producer of CNN Health Ben Tinker, as well as Ashley Lusk, Courtney Coupe and Daniel Kantor from CNN Audio.\n",
      "Sans malus\n"
     ]
    },
    {
     "data": {
      "text/html": [
       "<img src=\"https://api.afp.com/objects/api/medias?id=a1kkIS0nShZdXlcxVgJEXV1EQksZd3IYFnNyEWh0eRZ1AWkedQRzcWkXTFBOXVQqVkYaX0JXEltfIX9GQFxVMUQgFjYsVgxbPVogNTcjFFpBU1UgV1lZUEFRXh5HLCYQCGRfFU4kdCBjQF5cIQkwMC0lUlVCWVNjXFVEXEBVXgUHc3MeDgcAcgNxA3B8.jpg\"/>"
      ],
      "text/plain": [
       "<IPython.core.display.Image object>"
      ]
     },
     "metadata": {},
     "output_type": "display_data"
    },
    {
     "data": {
      "text/html": [
       "<img src=\"https://api.afp.com/objects/api/medias?id=a1kkIS0nShZdX1sxTF9RGkJYQkxZNm0fDQAbdg5qAXpyHQMBfRsAAxQZCHd9D2ENFHxBXFFbQVdZLmxHSVULIl4hDSg8XFBAN1FnMC0iBFJUWFk1SkgZVl5VQF1YMS9ISlNHZ0YsVH4WalRRDlo3N2I0VlVIC0kwUE5fWV1fRh5TPTJES1dHfAZzAXByBwAJcwJ2cXQ%3D.jpg\"/>"
      ],
      "text/plain": [
       "<IPython.core.display.Image object>"
      ]
     },
     "metadata": {},
     "output_type": "display_data"
    },
    {
     "data": {
      "text/html": [
       "<img src=\"https://api.afp.com/objects/api/medias?id=a1kkIS0nShZdX1sxTF9RGkJYQkxZNm0fDQAbdg5qAXpyHQMBfRsAAxQZCHd9D2kcFHxBXFFbQVdZLmxHSVULIl4hDSg8XFBAN1FnMC0iBFJUWFk1SkgZVl5VQF1YMS9ISlNHZ0YsVH4WalRRDlo3N2I0VlVIC0kwUE5fWV1fRh5TPTJES1dHfAZzAXByBwAJcwJ2dnM%3D.jpg\"/>"
      ],
      "text/plain": [
       "<IPython.core.display.Image object>"
      ]
     },
     "metadata": {},
     "output_type": "display_data"
    },
    {
     "data": {
      "text/html": [
       "<img src=\"https://api.afp.com/objects/api/medias?id=a1kkIS0nShZdX1sxTF9RGkJYQkxZNm0cCAQbdQFqAXtxHQAGdhsAAxQZCHQVAXFxFHxBXFFbQVdZLmxHSVULIl4hDSg8XFBAN1FnMC0iBFJUWFk1SkgZVl5VQF1YMS9ISlNHZ0YsVH5zVnJAfAcZJ2I0VlVIC0kwUE5fWV1fRh5TPTJES1dHfAZzAXByBwMBcwZwfXw%3D.jpg\"/>"
      ],
      "text/plain": [
       "<IPython.core.display.Image object>"
      ]
     },
     "metadata": {},
     "output_type": "display_data"
    },
    {
     "data": {
      "text/html": [
       "<img src=\"https://api.afp.com/objects/api/medias?id=a1kkIS0nShZdX1sxTF9RGkJYQkxZNm0fCh0FeQFqBntqBgcfBXIRGnUIaQB0ZhUUTERXXl5fQlMYLzJKBlFdJQouSS0kQkJVYkEoIXktQFdMRksgFE5YUF9VQ0xbIDFMShRFKFN4YxsgU3teMkZnNysqXARcQ1EmUkFbWlkWSEBGLDBISg8FdwZ2B3Z0CwYGcwBz.jpg\"/>"
      ],
      "text/plain": [
       "<IPython.core.display.Image object>"
      ]
     },
     "metadata": {},
     "output_type": "display_data"
    },
    {
     "data": {
      "text/html": [
       "<img src=\"https://api.afp.com/objects/api/medias?id=a1kkIS0nShZdX1sxTF9RGkJYQkxZNm0YDx0FdQ5qAXJqAQIfBXIRGnUIaAh1BhUUTERXXl5fQlMYLzJKBlFdJQouSS0kQkJVYkEoIXktQFdMRksgFE5YUF9VQ0xbIDFMShRFKFN4YxsgU3teMkZnNysqXARcQ1EmUkFbWlkWSEBGLDBISg8FdwZ2B3Z0CwYGcwd5.jpg\"/>"
      ],
      "text/plain": [
       "<IPython.core.display.Image object>"
      ]
     },
     "metadata": {},
     "output_type": "display_data"
    },
    {
     "name": "stdout",
     "output_type": "stream",
     "text": [
      "malus\n"
     ]
    },
    {
     "data": {
      "text/html": [
       "<img src=\"https://api.afp.com/objects/api/medias?id=a1kkIS0nShZdX1sxTF9RGkJYQkxZNm0fDQAbdg5qAXpyHQMBfRsAAxQZCHd9D2ENFHxBXFFbQVdZLmxHSVULIl4hDSg8XFBAN1FnMC0iBFJUWFk1SkgZVl5VQF1YMS9ISlNHZ0YsVH4WalRRDlo3N2I0VlVIC0kwUE5fWV1fRh5TPTJES1dHfAZzAXByBwAJcwJ2cXQ%3D.jpg\"/>"
      ],
      "text/plain": [
       "<IPython.core.display.Image object>"
      ]
     },
     "metadata": {},
     "output_type": "display_data"
    },
    {
     "data": {
      "text/html": [
       "<img src=\"https://api.afp.com/objects/api/medias?id=a1kkIS0nShZdX1sxTF9RGkJYQkxZNm0fDQAbdg5qAXpyHQMBfRsAAxQZCHd9D2kcFHxBXFFbQVdZLmxHSVULIl4hDSg8XFBAN1FnMC0iBFJUWFk1SkgZVl5VQF1YMS9ISlNHZ0YsVH4WalRRDlo3N2I0VlVIC0kwUE5fWV1fRh5TPTJES1dHfAZzAXByBwAJcwJ2dnM%3D.jpg\"/>"
      ],
      "text/plain": [
       "<IPython.core.display.Image object>"
      ]
     },
     "metadata": {},
     "output_type": "display_data"
    },
    {
     "data": {
      "text/html": [
       "<img src=\"https://api.afp.com/objects/api/medias?id=a1kkIS0nShZdX1sxTF9RGkJYQkxZNm0cCAQbdQFqAXtxHQAGdhsAAxQZCHQVAXFxFHxBXFFbQVdZLmxHSVULIl4hDSg8XFBAN1FnMC0iBFJUWFk1SkgZVl5VQF1YMS9ISlNHZ0YsVH5zVnJAfAcZJ2I0VlVIC0kwUE5fWV1fRh5TPTJES1dHfAZzAXByBwMBcwZwfXw%3D.jpg\"/>"
      ],
      "text/plain": [
       "<IPython.core.display.Image object>"
      ]
     },
     "metadata": {},
     "output_type": "display_data"
    },
    {
     "data": {
      "text/html": [
       "<img src=\"https://api.afp.com/objects/api/medias?id=a1kkIS0nShZdX1sxTF9RGkJYQkxZNm0fCh0FeQFqBntqBgcfBXIRGnUIaQB0ZhUUTERXXl5fQlMYLzJKBlFdJQouSS0kQkJVYkEoIXktQFdMRksgFE5YUF9VQ0xbIDFMShRFKFN4YxsgU3teMkZnNysqXARcQ1EmUkFbWlkWSEBGLDBISg8FdwZ2B3Z0CwYGcwBz.jpg\"/>"
      ],
      "text/plain": [
       "<IPython.core.display.Image object>"
      ]
     },
     "metadata": {},
     "output_type": "display_data"
    },
    {
     "data": {
      "text/html": [
       "<img src=\"https://api.afp.com/objects/api/medias?id=a1kkIS0nShZdX1sxTF9RGkJYQkxZNm0YDx0FdQ5qAXJqAQIfBXIRGnUIaAh1BhUUTERXXl5fQlMYLzJKBlFdJQouSS0kQkJVYkEoIXktQFdMRksgFE5YUF9VQ0xbIDFMShRFKFN4YxsgU3teMkZnNysqXARcQ1EmUkFbWlkWSEBGLDBISg8FdwZ2B3Z0CwYGcwd5.jpg\"/>"
      ],
      "text/plain": [
       "<IPython.core.display.Image object>"
      ]
     },
     "metadata": {},
     "output_type": "display_data"
    },
    {
     "data": {
      "text/html": [
       "<img src=\"https://api.afp.com/objects/api/medias?id=a1kkIS0nShZdXlcxVgJEXV1EQksZdXoCeHRkHgYMf3IIeB8BdAZ1aBUzUFpGWlcqUgNeRVUPTlFSeClUV1NEMlJjRSohD1pJKlUxNiFrWlVIW10rTUBRRlNDC0lfIX9MDXdndmAUeGU3XV1VeUU0LCctVVZCXR4gQV1dR1dDEAkAdHEaDAYHdwF3AnE%3D.jpg\"/>"
      ],
      "text/plain": [
       "<IPython.core.display.Image object>"
      ]
     },
     "metadata": {},
     "output_type": "display_data"
    },
    {
     "name": "stdout",
     "output_type": "stream",
     "text": [
      "74 \n",
      " (CNN) States across the country continued Thursday to work toward reopening as researchers said the novel coronavirus has been deadlier in the United States than the seasonal flu.  California, one of the first states to implement a stay-at-home order , is set to begin loosening some restrictions Friday, though state Health Secretary Dr. Mark Ghaly warned residents, \"It does not mean a return to normal.\"  \"We still know that the virus is alive in California and that your good efforts have helped us suppress it quite a bit, but it is still there spreading,\" he said.  Starting Friday, some retail stores will be able to do more curbside pickup and potentially delivery, though they should continue to encourage social distancing, Ghaly said. Manufacturers should keep workers farther apart for social distancing, and warehouse workers should have sanitation materials and use personal protective equipment during deliveries.  A new study of the fatality rate from coronavirus in the United States puts it at 1.3%, which is greater than the 0.1% fatality rate from the seasonal flu in a typical season.  Anirban Basu, a professor at the University of Washington School of Pharmacy, used publicly available data on virus infections and deaths through April 20.  The study did not include New York City, which has had the highest number of cases and deaths in the country. The numbers of cases and deaths was changing too quickly to include in the study, Basu said.  The figure is preliminary, Basu said, as it's based only on the reported cases and confirmed Covid-19-related deaths.  Ohio Gov. Mike DeWine announced Thursday that outdoor dining will be allowed to begin May 15, with dine-in services able to resume beginning May 21. Personal services such as hair salons, barber shops, spas and nail salons will also be able to open beginning May 15 with some guidelines.  Rhode Island Gov. Gina Raimondo confirmed her statewide stay-at-home order will expire Friday and the state will start the first phase for reopening. But movie theaters, bowling alleys, museums, gyms, salons and barber shops will remain closed.  \"This is not the time for social gatherings,\" Raimondo said. \"The economic devastation in this state and every state around this country is untenable. So I am focused like a laser on work, getting people enabled to work.\"  More than 75,500 people have died of the virus and more than 1.2 million are infected as of Thursday in the United States, according to Johns Hopkins University.  New York hospital systems no longer recommending hydroxychloroquine  One of New York's largest hospital systems stopped recommending hydroxychloroquine as a standard treatment for coronavirus patients last month, one of its top doctors told CNN.  \"We were all very cautious about it to begin with. We did not feel it had a strong evidence base,\" said Dr. Thomas McGinn, deputy physician-in-chief and senior vice president for Northwell Health. \"We were doing it with some hesitation but knowing the FDA, the politicians, the family demands and lack of harm, we were doing it cautiously.\"  Hydroxychloroquine has been used for decades to treat patients with diseases such as malaria, lupus and rheumatoid arthritis. President Donald Trump touted the drug as a \"game-changer\" for Covid-19.  McGinn said the hospital system began recommending the drug toward the end of March for patients who had low levels of blood oxygen saturation and didn't have heart or liver problems. He said his colleagues \"saw no side effects\" when they administered the drug to at least 500 coronavirus patients.  Patients were closely monitored for possible side effects impacting the heart with electrocardiograms.  But after a study of the drug involving hundreds of patients at US Veterans Health Administration health centers showed that patients were no less likely to need mechanical ventilation and had higher death rates compared to those who did not take the drug, McGinn said his team of doctors and administrators decided to stop using it.  Northwell Health is New York state's largest health care provider and private employer, operating 23 hospitals and nearly 800 outpatient facilities across the state, according to its website.  Vaccine approved for phase 2 trial  Potential vaccines to prevent Covid-19 infections are racing through development at unprecedented speeds. Moderna Inc. -- the first vaccine maker to start clinical trails in the United States -- announced Thursday it would soon begin a phase 2 study after getting approval from the US Food and Drug Administration.  Vaccine clinical trials involve three phases , per the US Centers for Disease Control and Prevention. The first examines safety, while the second expands the number of participants. In the third phase, the vaccine is given to even more people and tested for effectiveness.  The President had said a vaccine would be available by December, then appeared this week to back off his claim.  But scientists won't know whether vaccines can prevent infection until April or May next year, said Dr. Mark Mulligan, director of the Vaccine Center at New York University's Langone Health, who is working with Pfizer Inc. on its vaccine trial.  \"We're doing things in months that normally would be done in years,\" Mulligan said.  Phase 2 of Moderna's study will include 600 participants, the company said, up from the 45 volunteers in phase 1 . Participants older than 55 will be enrolled in phase 2, Moderna said.  Moderna -- which has never brought a product to market -- is now finalizing the protocol for the study's phase 3, which could begin in early summer, the company said in a news release.  JUST WATCHED Lead scientist reveals when vaccine may be ready Replay More Videos ... MUST WATCH Lead scientist reveals when vaccine may be ready 02:37  In an investor call Thursday morning, Moderna said the first batches of the vaccine are expected to be manufactured in July, with a goal of manufacturing up to 1 billion doses a year.  There are more than 100 vaccines under development across the globe, according to the World Health Organization.  White House rejects CDC reopening guidelines  The guidance provided more detailed suggestions beyond reopening guidelines the Trump administration put forth last month, including specific suggestions for schools, communities of faith, restaurants and bars, mass transit and employers with vulnerable workers.  Concerns over the President's possible exposure to the coronavirus resurfaced Thursday after CNN learned a member of the US Navy who serves as one of the President's personal valets tested positive for the virus  Valets are members of an elite military unit dedicated to the White House and often work close to the President and the first family. A source told CNN that President Trump was subsequently tested again for the coronavrius by the White House physician.  The President and the vice president tested negative, deputy White House press secretary Hogan Gidley said in a statement.\n",
      "Sans malus\n"
     ]
    },
    {
     "data": {
      "text/html": [
       "<img src=\"https://api.afp.com/objects/api/medias?id=a1kkIS0nShZdXlcxVgJEXV1EQksZdXoCeHRkHgYPd3cQYh8BdAZ1aBUzUFpGWlcqUgNeRVUPTlFSeClUV1NEMlJjRSohD1pJKlUxNiFrWlVIW10rTUBRRlNDC0lfIX99XQZEInMsCGU3XV1VeUU0LCctVVZCXR4gQV1dR1dDEAkAdHEaDAYGcwVxAXM%3D.jpg\"/>"
      ],
      "text/plain": [
       "<IPython.core.display.Image object>"
      ]
     },
     "metadata": {},
     "output_type": "display_data"
    },
    {
     "data": {
      "text/html": [
       "<img src=\"https://api.afp.com/objects/api/medias?id=a1kkIS0nShZdXlcxVgJEXV1EQksZd3YYFnNyEWh0egRxfGMedQRzcWkXTFBOXVQqVkYaX0JXEltfIX9GQFxVMUQgFjYsVgxbPVogNTcjFFpBU1UgV1lZUEFRXh5HLCYQaVYAMVQBWXtjQF5cIQkwMC0lUlVCWVNjXFVEXEBVXgUHc3MeDgcAcwV3A3tw.jpg\"/>"
      ],
      "text/plain": [
       "<IPython.core.display.Image object>"
      ]
     },
     "metadata": {},
     "output_type": "display_data"
    },
    {
     "data": {
      "text/html": [
       "<img src=\"https://api.afp.com/objects/api/medias?id=a1kkIS0nShZdXlcxVgJEXV1EQksZcnQCeHRkHgYDfXYBAh8BdAZ1aBUzUFpGWlcqUgNeRVUPTlFSeClUV1NEMlJjRSohD1pJKlUxNiFrWlVIW10rTUBRRlNDC0lfIX98d0J6dQcsZGU3XV1VeUU0LCctVVZCXR4gQV1dR1dDEAkAdHEaDAYMcg5wBHo%3D.jpg\"/>"
      ],
      "text/plain": [
       "<IPython.core.display.Image object>"
      ]
     },
     "metadata": {},
     "output_type": "display_data"
    },
    {
     "data": {
      "text/html": [
       "<img src=\"https://api.afp.com/objects/api/medias?id=a1kkIS0nShZdX1sxTF9RGkJYQkxZNm0cCgIbcgVqAXR1HQAEfBsAAxQZCHQVA3txFHxBXFFbQVdZLmxHSVULIl4hDSg8XFBAN1FnMC0iBFJUWFk1SkgZVl5VQF1YMS9ISlNHZ0YsVH5zVnJAfAcZJ2I0VlVIC0kwUE5fWV1fRh5TPTJES1dHfAZzAXByBwMBcwZ2cH0%3D.jpg\"/>"
      ],
      "text/plain": [
       "<IPython.core.display.Image object>"
      ]
     },
     "metadata": {},
     "output_type": "display_data"
    },
    {
     "data": {
      "text/html": [
       "<img src=\"https://api.afp.com/objects/api/medias?id=a1kkIS0nShZdX1sxTF9RGkJYQkxZNm0bCx0FcQdqAXRqAAAGa3UHFRt3dWgcdA9oaFhdVllcQlddayhdXg1XKFN4WzorU0FDIRI0LCB7UkBDV0g2XABXWVddSFZCKCdeWEESMF4hDXUhcUEId2wjYzYpVVwQR00sWkZYWl1bC11ONStfXEEJcAF0A3RwAAAHdgNydg%3D%3D.jpg\"/>"
      ],
      "text/plain": [
       "<IPython.core.display.Image object>"
      ]
     },
     "metadata": {},
     "output_type": "display_data"
    },
    {
     "data": {
      "text/html": [
       "<img src=\"https://api.afp.com/objects/api/medias?id=a1kkIS0nShZdX1sxTF9RGkJYQkxZNm0cAAUbcAJ2H3JwHQIHa3UHFRt3dAEYemBoaFhdVllcQlddayhdXg1XKFN4WzorU0FDIRI0LCB7UkBDV0g2XABXWVddSFZCKCdeWEESMF4hDXUhcUEId2wjYzYpVVwQR00sWkZYWl1bC11ONStfXEEJcAF0A3RwAAAHdgNwdw%3D%3D.jpg\"/>"
      ],
      "text/plain": [
       "<IPython.core.display.Image object>"
      ]
     },
     "metadata": {},
     "output_type": "display_data"
    },
    {
     "name": "stdout",
     "output_type": "stream",
     "text": [
      "malus\n"
     ]
    },
    {
     "data": {
      "text/html": [
       "<img src=\"https://api.afp.com/objects/api/medias?id=a1kkIS0nShZdXlcxVgJEXV1EQksZdXoCeHRkHgYPd3cQYh8BdAZ1aBUzUFpGWlcqUgNeRVUPTlFSeClUV1NEMlJjRSohD1pJKlUxNiFrWlVIW10rTUBRRlNDC0lfIX99XQZEInMsCGU3XV1VeUU0LCctVVZCXR4gQV1dR1dDEAkAdHEaDAYGcwVxAXM%3D.jpg\"/>"
      ],
      "text/plain": [
       "<IPython.core.display.Image object>"
      ]
     },
     "metadata": {},
     "output_type": "display_data"
    },
    {
     "data": {
      "text/html": [
       "<img src=\"https://api.afp.com/objects/api/medias?id=a1kkIS0nShZdXlcxVgJEXV1EQksZd3YYFnNyEWh0egRxfGMedQRzcWkXTFBOXVQqVkYaX0JXEltfIX9GQFxVMUQgFjYsVgxbPVogNTcjFFpBU1UgV1lZUEFRXh5HLCYQaVYAMVQBWXtjQF5cIQkwMC0lUlVCWVNjXFVEXEBVXgUHc3MeDgcAcwV3A3tw.jpg\"/>"
      ],
      "text/plain": [
       "<IPython.core.display.Image object>"
      ]
     },
     "metadata": {},
     "output_type": "display_data"
    },
    {
     "data": {
      "text/html": [
       "<img src=\"https://api.afp.com/objects/api/medias?id=a1kkIS0nShZdXlcxVgJEXV1EQksZd3IcFnNyEWh0exFzcQYedQRzcWkXTFBOXVQqVkYaX0JXEltfIX9GQFxVMUQgFjYsVgxbPVogNTcjFFpBU1UgV1lZUEFRXh5HLCYQf1hFeFVydg9jQF5cIQkwMC0lUlVCWVNjXFVEXEBVXgUHc3MeDgcAcQZ8AnNy.jpg\"/>"
      ],
      "text/plain": [
       "<IPython.core.display.Image object>"
      ]
     },
     "metadata": {},
     "output_type": "display_data"
    },
    {
     "data": {
      "text/html": [
       "<img src=\"https://api.afp.com/objects/api/medias?id=a1kkIS0nShZdX1sxTF9RGkJYQkxZNm0fCQsbcAZzH3N2HQMFa3UHFRt3dmMcD3BoaFhdVllcQlddayhdXg1XKFN4WzorU0FDIRI0LCB7UkBDV0g2XABXWVddSFZCKCdeWEESMF4hDSwWWUNmC2IWYzYpVVwQR00sWkZYWl1bC11ONStfXEEJcAF0A3RwAwgBcgRwcQ%3D%3D.jpg\"/>"
      ],
      "text/plain": [
       "<IPython.core.display.Image object>"
      ]
     },
     "metadata": {},
     "output_type": "display_data"
    },
    {
     "data": {
      "text/html": [
       "<img src=\"https://api.afp.com/objects/api/medias?id=a1kkIS0nShZdX1sxTF9RGkJYQkxZNm0fCAsbcAVzH3FxCx4BcRsAAxQZCHZ3BwAdFHxBXFFbQVdZLmxHSVULIl4hDSg8XFBAN1FnMC0iBFJUWFk1SkgZVl5VQF1YMS9ISlNHZ0YsVH4qYVpCEnsXEmI0VlVIC0kwUE5fWV1fRh5TPTJES1dHfAZzAXByBwAJdQJxdHQ%3D.jpg\"/>"
      ],
      "text/plain": [
       "<IPython.core.display.Image object>"
      ]
     },
     "metadata": {},
     "output_type": "display_data"
    },
    {
     "data": {
      "text/html": [
       "<img src=\"https://api.afp.com/objects/api/medias?id=a1kkIS0nShZdXlcxVgJEXV1EQksZcnQCeHRkHgYDfXYBAh8BdAZ1aBUzUFpGWlcqUgNeRVUPTlFSeClUV1NEMlJjRSohD1pJKlUxNiFrWlVIW10rTUBRRlNDC0lfIX98d0J6dQcsZGU3XV1VeUU0LCctVVZCXR4gQV1dR1dDEAkAdHEaDAYMcg5wBHo%3D.jpg\"/>"
      ],
      "text/plain": [
       "<IPython.core.display.Image object>"
      ]
     },
     "metadata": {},
     "output_type": "display_data"
    },
    {
     "name": "stdout",
     "output_type": "stream",
     "text": [
      "75 \n",
      " (CNN) Health care workers on the front lines are risking not only their lives, but also their mental and emotional well-being . CNN Chief Medical Correspondent Dr. Sanjay Gupta speaks with Dr. Steven McDonald, an emergency room doctor at New York-Presbyterian Allen Hospital, about the psychological toll of his everyday reality.  You can listen on your favorite podcast app or read the transcript below.  Jake Tapper, CNN Anchor, \"The Lead\" and \"State of the Union\": Doctors and nurses risking their lives to save you and me and patients.  Dr. Ken Duckworth, chief medical officer, National Alliance of Mental Illness: I do worry about our first responders and health care workers, in terms of the trauma they are exposed to.  Ana Cabrera, CNN Anchor: Even physicians are victims of this unprecedented public emergency.  Dr. Sanjay Gupta: Since the beginning of this pandemic, health care workers have been dealing with this virus head-on, putting their own physical health at risk.  According to a CDC [Centers for Disease Control and Prevention] report released in April, more than 9,0000 health care workers have been infected with the coronavirus. ... And because of the limited data we have, that number is likely higher.  But we shouldn't forget the other risks our health care workers are facing. I'm talking about the emotional and psychological ones.  [Pots and pans banging, people cheering for health care workers]  Gupta: Every night in cities around the world, we celebrate our health care workers. But the thing is, even before this pandemic, their jobs were demanding.  They're in high-stress life-and-death situations with long hours.  So in this episode, I want to talk about the pandemic's psychological cost to the people on the front lines -- and what's being done to help them.  I'm Dr. Sanjay Gupta, CNN's chief medical correspondent. And this is \"Coronavirus: Fact vs. Fiction.\"  Dr. Philip Breen: She was a doctor. Every bit of the word that a doctor should be. She put her life on the line to take care of other people.  Last week, Dr. Breen, a New York City emergency room doctor, died by suicide.  She had actually contracted Covid-19 herself. After recovering she went back to work.  Breen: She was like the fireman who runs into the burning building to save another life and doesn't regard anything about herself.  Gupta: There is so much about this virus that is new and unfamiliar, making everyday life more challenging.  I've heard that from my colleagues.  Every day they wonder: Are they safe? And if their families and loved ones are safe as well.  I recently spoke with Dr. Steven McDonald. He's an ER doctor at the same hospital as Dr. Breen.  He's been on the front line for weeks, taking care of patient after patient ... after patient. New York has been the US' pandemic epicenter, with more than 321,000 people infected and 25,000 deaths.  I asked Dr. McDonald about how he's coping with his everyday reality as well as the loss of a colleague, and how he's taking care of his own mental health.  Gupta: So how is life, Dr. McDonald?  Dr. Steven McDonald: First of all, things are changing day-to-day. I think life a month ago looked very different than only two weeks ago than it does today. Thankfully, emergency department volumes are significantly down.  But also, as you can imagine, the tenor of my department is depressed. We just lost one of our faculty members, one of our physicians. And so there's definitely a pall that's been cast over my department -- in addition to this pandemic.  Gupta: I'm so sorry to hear that. I don't think people always recognize both the physical and psychological toll on frontline workers like yourself. At what point for you did it become something that was personally frightening?  McDonald: As we were approaching the peak, I would walk into the emergency room and it was in a state of chaos. And it was overwhelming to an extent that I had never really seen before. It felt -- I keep describing it as though a caged animal had been kind of let loose, and no one could see it or get it back into the cage.  Gupta: Wow. You know, I've been -- I finished med school in 1993, so I've been doing this for a long time. And typically, you know, the family is there. There's an additional line of support.  But what you're describing is people who are coming in, almost always by themselves because families can't come in. And now they find themselves in a position where they may suddenly die. It's tough. I don't mean to paint it so stark, but it sounds like that is the reality, at least in some of these situations.  Let me ask: How worried were you about contracting the virus yourself?  McDonald: If I'm being honest, you know, early on, I think this was probably mid-March when this was first starting. I had a moment at home by myself, borne out of complete irrationality, where I suddenly was convinced that I was going to die of this. I can't explain to you where that came from. I think it was just maybe having read a couple too many of these cases and having talked to a couple of colleagues who had pronounced young people dead of this.  And I just suddenly was gripped by that conviction. And it was frightening. It was really frightening, just to feel like there's nothing that I can do in this. I have truly no agency over my death in some regard. There's no amount of PPE that will protect me from this. And I know that to be irrational. I know that to not be true, but I was so gripped by it in one moment.  Gupta: I agree with you, and I think that's a really interesting way to put it. You know, we do all the right things, but there are things in life, especially with a microscopic virus that's inexplicable. So you're really putting yourself at risk.  McDonald: Right.  Gupta: Did you ever think about sitting it out? Saying, you know what? It's not worth it.  McDonald: You know, I did have a moment where -- I think it was a Sunday night and I had my first shift in a couple of weeks on the Monday. And I was, to be totally honest with you, I was a wreck. I was a wreck. I was calling family and friends. And I was really upset.  And I was thinking about the number of people who I was going to have to pronounce dead or have to have end-of-life conversations with. And I found it so overwhelming in the abstract on that Sunday night.  I thankfully have a great support network, a great therapist -- and spoke with her a bit and was able to sort of pull myself together and work and be a physician the next day. But that was a difficult 24 hours.  Gupta: You know, Steven, it's always struck me that even within the medical community, there is still a stigma about seeking therapy, seeking mental health support. Yet it's so important, maybe never more important, than it is right now.  Do you sense that stigma? I mean, has it manifested at all in your life?  McDonald: I mean, you know, absolutely. I would say physicians don't talk about mental health issues. I don't know if any job is really that open about this, but I think medicine in general breeds a culture of silence about this.  Gupta: And you do hear about physicians who die by suicide. Compared to the general community, it's typically higher across the board.  There was a lot of news about Dr. Breen lately. And I know you knew her somewhat. When you heard this, were you surprised?  McDonald: Absolutely. I was completely floored. She always -- again, I only knew her in a professional capacity, but she struck me as someone who was so self-possessed and so capable, really tough as nails and able to deal with any situation head-on.  And, you know, I esteem all of my colleagues as being that tough.  Gupta: Has there been anything good that's come out of this for you?  McDonald: So I think there has been incredible camaraderie among physicians. At the peak of this, we had orthopedists and urologists coming down and managing critically ill patients and doing blood draws and doing things that are way below their level of training just to help out, and to see colleagues who were so willing to be part of this effort was really inspiring.  You know, secondly, and I think this remains to be borne out, but one hope that I have: This virus, I think is sort of peeling back the onion skin and showing us at the core of American society, things that really need attention on a federal and legislative level.  So, the inequalities that this is exposing, the problems in the health care system that this is exposing.  And I hope that these are conversations that are started and carry weight and are not forgotten after we beat this thing.  Gupta: Camaraderie as well, you're absolutely right about -- I've seen that in our own hospital. Although it does make me think of this joke that you probably heard: the definition of a double-blind study?  McDonald: No?  Gupta: Two orthopedic surgeons trying to read an EKG.  McDonald: Hahahaha. I love that. I will not be telling that to my orthopedic colleagues, but I love that.  Gupta: I want to ask you about, you know, if there's been a best moment and a worst moment.  McDonald: Yes. Worst moment for me was. ... It was during the peak, and I was coming into a shift. I received sign-out on probably 40 patients who were all critically ill.  And so I was in this awful situation where I was pulled into one room to be with a critical patient who was dying. And then the nurse comes and gets me and says, you also have a critical patient who's dying in this other room.  And so I run through to this other room, and this woman is near death. Her heart has nearly stopped. Her oxygen levels are falling. She's already on a ventilator. She was in her late 80s.  And the team is, the team of residents is looking to me, to ask: What are we going to do when this woman's heart stops, as it appears it's going to in the next 10 seconds, 15 seconds? And this woman had no established advanced directives. And we had made multiple attempts to get in touch with family and were unable to.  And, you know, all the data shows that someone of this age who's already on a ventilator, this person is not going to live no matter what interventions you make. And so, talking to you now, it seems very obvious to not attempt to prolong life. But in that moment, it was very hard for me to make that decision. It was -- there was no clarity about it.  And so, I declined to perform CPR. But then I felt terribly about that in the moment. That was really the lowest moment I've had during this, where I just felt like I ended someone's life without any data.  I guess, in terms of bright spots of this -- so you're familiar, I'm sure, with the 7 o'clock clap for providers and essential workers. And so, after Lorna Breen's passing, I was working that next day. And we did at 7 o'clock go out to the front of the emergency department.  All the doctors who were able and the nurses and everyone, and we just had a hell of a clap for those whom we've lost. And it doesn't in any way redeem what's happened. But it was a really nice moment of camaraderie and to celebrate the accomplishments of those whom we've lost, including Dr. Breen.  Gupta: Wow. Well, I mean, going back to the worst moment for a second, for what it's worth, Steven, that was a tough decision. I'm sorry that obviously left such a mark on you. But from what you described, you know, it was the correct decision.  McDonald: Thank you.  Gupta: Do you worry that you're suffering from post-traumatic stress?  Get CNN Health's weekly newsletter Sign up here to get The Results Are In with Dr. Sanjay Gupta every Tuesday from the CNN Health team.  McDonald: It's hard to say. I mean, I think like post-traumatic stress disorder, when you're in the thick of it, you don't think about it. And it's only once things calm down that you begin to have things like flashbacks or intrusive thoughts.  So far, I've been very fortunate in that I have not had those symptoms, but I can't tell you with any certainty that I won't in the future. And so that is a perpetual source of anxiety and concern.  Gupta: Well, I mean, I will clap harder and cheer even louder after hearing your story about how that made you feel. I mean, it's the least I think that people can do and people really owe you a debt of gratitude. So, thank you very much.  There'll be books written about the sort of work that you've done. I know you're in the midst of it right now, so it's hard to sense that, but thank you.  McDonald: Thank you. Thank you so much.  Gupta: Like Dr. McDonald said, doctors are facing so many challenges right now. There are these long, demanding shifts, the risk of exposure to the virus and the number of patients that are dying, which is unlike anything we have ever dealt with before.  Dr. John Krystal, Yale University professor of psychiatry and neuroscience and Yale-New Haven Hospital chief of psychiatry: You know you think of the first wave of illness being the wave of patients coming in and presenting with illness. But for these health care workers, the stresses are somewhat cumulative.  And so you can think of a second wave of stress coming through for the Covid health care workers.  Gupta: That was Dr. John Krystal. He heads the psychiatry department at both Yale University and Yale-New Haven Hospital. He's been tasked with leading a group that identifies health care providers who are struggling and provides them with support.  Krystal: One kind of support that we have is giving people a place they can drop into any day they want, every day, five days a week. We have what we call stress and resilience town halls. They're open to everybody in the community: staff, trainees, doctors.  The idea was they should connect to deal with the isolation that they're often feeling. They should unload, you know, they should just share what it is that they're going through and then to learn a few skills. And so we teach people relaxation skills, and we teach people sleep hygiene. And so far, I think in our community, over 1,400 people have made use of them.  Gupta: Dr. Krystal and his team also established a buddy system -- pairing health care workers with their peers. And then they dispatched volunteers to provide psychological support to anyone who wants it, over the phone.  But both Dr. Krystal and Dr. McDonald bring up a more deeply rooted issue about the culture of medicine.  Krystal: You know, some of the challenges are that some of the characteristics that we have historically admired most about physicians: They're willing to sacrifice themselves for others, their reluctance to complain about things.  All of those are admirable, wonderful traits, but somehow, we haven't always inculcated in the values of our medical system that self-care is as much a duty and a responsibility as caring for the patient.  And my hope is that this is an opportunity to have broader discussion about that. And to make it OK for more doctors who need help to seek help.  Gupta: This pandemic has really tried and tested the best of us.  But I am thankful that mental health services are available for our doctors and medical workers who need it the most.  A fund was recently set up in honor of Dr. Breen -- it's called the Dr. Lorna Breen Heroes' Fund, and it's there to provide mental health services to medical workers.  It's my sincere hope that the support that's been marshaled to help health care workers in this pandemic will last beyond this moment -- that they'll become a fixture in the way we think about care.  We'll be back tomorrow. Thanks for listening.\n",
      "Sans malus\n"
     ]
    },
    {
     "data": {
      "text/html": [
       "<img src=\"https://api.afp.com/objects/api/medias?id=a1kkIS0nShZdXlcxVgJEXV1EQksZdXICeHRkHgYNY3QVYx8BdAZ1aBUzUFpGWlcqUgNeRVUPTlFSeClUV1NEMlJjRSohD1pJKlUxNiFrWlVIW10rTUBRRlNDC0lfIX9%2FTXZsMFQIUWU3XV1VeUU0LCctVVZCXR4gQV1dR1dDEAkAdHEaDAYAdwF1B3c%3D.jpg\"/>"
      ],
      "text/plain": [
       "<IPython.core.display.Image object>"
      ]
     },
     "metadata": {},
     "output_type": "display_data"
    },
    {
     "data": {
      "text/html": [
       "<img src=\"https://api.afp.com/objects/api/medias?id=a1kkIS0nShZdXlcxVgJEXV1EQksZcXoCeHRkHgYDB3sTYx8BdAZ1aBUzUFpGWlcqUgNeRVUPTlFSeClUV1NEMlJjRSohD1pJKlUxNiFrWlVIW10rTUBRRlNDC0lfIX8aXVp%2FDVovSGU3XV1VeUU0LCctVVZCXR4gQV1dR1dDEAkAdHEaDAYNdQBxBHU%3D.jpg\"/>"
      ],
      "text/plain": [
       "<IPython.core.display.Image object>"
      ]
     },
     "metadata": {},
     "output_type": "display_data"
    },
    {
     "data": {
      "text/html": [
       "<img src=\"https://api.afp.com/objects/api/medias?id=a1kkIS0nShZdXlcxVgJEXV1EQksZd3MeFnNyEWh0dnR9amEedQRzcWkXTFBOXVQqVkYaX0JXEltfIX9GQFxVMUQgFjYsVgxbPVogNTcjFFpBU1UgV1lZUEFRXh5HLCYQDlZcCnsoWjtjQF5cIQkwMC0lUlVCWVNjXFVEXEBVXgUHc3MeDgcAeANyA3t3.jpg\"/>"
      ],
      "text/plain": [
       "<IPython.core.display.Image object>"
      ]
     },
     "metadata": {},
     "output_type": "display_data"
    },
    {
     "data": {
      "text/html": [
       "<img src=\"https://api.afp.com/objects/api/medias?id=a1kkIS0nShZdXlcxVgJEXV1EQksZdHEUFnNyEWh0fBJ2BgYedQRzcWkXTFBOXVQqVkYaX0JXEltfIX9GQFxVMUQgFjYsVgxbPVogNTcjFFpBU1UgV1lZUEFRXh5HLCYQUQRmJHUNfAtjQF5cIQkwMC0lUlVCWVNjXFVEXEBVXgUHc3MeDgcHeAdxBHd3.jpg\"/>"
      ],
      "text/plain": [
       "<IPython.core.display.Image object>"
      ]
     },
     "metadata": {},
     "output_type": "display_data"
    },
    {
     "data": {
      "text/html": [
       "<img src=\"https://api.afp.com/objects/api/medias?id=a1kkIS0nShZdX1sxTF9RGkJYQkxZNm0cCAQbdQFqB3JqCwQfBXIRGnUKbAAbAhUUTERXXl5fQlMYLzJKBlFdJQouSS0kQkJVYkEoIXktQFdMRksgFE5YUF9VQ0xbIDFMShRFKFN4XTMTA1pxKXlnNysqXARcQ1EmUkFbWlkWSEBGLDBISg8FdwZ2B3Z3AwYEcg10.jpg\"/>"
      ],
      "text/plain": [
       "<IPython.core.display.Image object>"
      ]
     },
     "metadata": {},
     "output_type": "display_data"
    },
    {
     "data": {
      "text/html": [
       "<img src=\"https://api.afp.com/objects/api/medias?id=a1kkIS0nShZdX1sxTF9RGkJYQkxZNm0cDAMbcA58H3V0HQkDa3UHFRt3dA4bbwBoaFhdVllcQlddayhdXg1XKFN4WzorU0FDIRI0LCB7UkBDV0g2XABXWVddSFZCKCdeWEESMF4hDS41ZABbBVkMYzYpVVwQR00sWkZYWl1bC11ONStfXEEJcAF0A3RwAAAHcAJ2cg%3D%3D.jpg\"/>"
      ],
      "text/plain": [
       "<IPython.core.display.Image object>"
      ]
     },
     "metadata": {},
     "output_type": "display_data"
    },
    {
     "name": "stdout",
     "output_type": "stream",
     "text": [
      "malus\n"
     ]
    },
    {
     "data": {
      "text/html": [
       "<img src=\"https://api.afp.com/objects/api/medias?id=a1kkIS0nShZdXlcxVgJEXV1EQksZc3oCeHRkHgYOCHYEfB8BdAZ1aBUzUFpGWlcqUgNeRVUPTlFSeClUV1NEMlJjRSohD1pJKlUxNiFrWlVIW10rTUBRRlNDC0lfIX8VXEUFAwErXGU3XV1VeUU0LCctVVZCXR4gQV1dR1dDEAkAdHEaDAYFcQV1BXE%3D.jpg\"/>"
      ],
      "text/plain": [
       "<IPython.core.display.Image object>"
      ]
     },
     "metadata": {},
     "output_type": "display_data"
    },
    {
     "data": {
      "text/html": [
       "<img src=\"https://api.afp.com/objects/api/medias?id=a1kkIS0nShZdXlcxVgJEXV1EQksZcnACeHRkHgYPcXpycB8BdAZ1aBUzUFpGWlcqUgNeRVUPTlFSeClUV1NEMlJjRSohD1pJKlUxNiFrWlVIW10rTUBRRlNDC0lfIX9CcHAFF2IWVGU3XV1VeUU0LCctVVZCXR4gQV1dR1dDEAkAdHEaDAYGdgB3Bno%3D.jpg\"/>"
      ],
      "text/plain": [
       "<IPython.core.display.Image object>"
      ]
     },
     "metadata": {},
     "output_type": "display_data"
    },
    {
     "data": {
      "text/html": [
       "<img src=\"https://api.afp.com/objects/api/medias?id=a1kkIS0nShZdXlcxVgJEXV1EQksZdHUYFnNyEWh0egJ8BXIedQRzcWkXTFBOXVQqVkYaX0JXEltfIX9GQFxVMUQgFjYsVgxbPVogNTcjFFpBU1UgV1lZUEFRXh5HLCYQVnt2cGEQYydjQF5cIQkwMC0lUlVCWVNjXFVEXEBVXgUHc3MeDgcAcwByAnV0.jpg\"/>"
      ],
      "text/plain": [
       "<IPython.core.display.Image object>"
      ]
     },
     "metadata": {},
     "output_type": "display_data"
    },
    {
     "data": {
      "text/html": [
       "<img src=\"https://api.afp.com/objects/api/medias?id=a1kkIS0nShZdXlcxVgJEXV1EQksZfXICeHRkHgYPcnBwfh8BdAZ1aBUzUFpGWlcqUgNeRVUPTlFSeClUV1NEMlJjRSohD1pJKlUxNiFrWlVIW10rTUBRRlNDC0lfIX9pcgJkA3okAmU3XV1VeUU0LCctVVZCXR4gQV1dR1dDEAkAdHEaDAYGdgN0Bns%3D.jpg\"/>"
      ],
      "text/plain": [
       "<IPython.core.display.Image object>"
      ]
     },
     "metadata": {},
     "output_type": "display_data"
    },
    {
     "data": {
      "text/html": [
       "<img src=\"https://api.afp.com/objects/api/medias?id=a1kkIS0nShZdX1sxTF9RGkJYQkxZNm0cAAEbcAJyH3J8HQUBa3UHFRt3dAEadWloaFhdVllcQlddayhdXg1XKFN4WzorU0FDIRI0LCB7UkBDV0g2XABXWVddSFZCKCdeWEESMF4hDXUhcUEId2wjYzYpVVwQR00sWkZYWl1bC11ONStfXEEJcAF0A3RwAAAHdgZ2dw%3D%3D.jpg\"/>"
      ],
      "text/plain": [
       "<IPython.core.display.Image object>"
      ]
     },
     "metadata": {},
     "output_type": "display_data"
    },
    {
     "data": {
      "text/html": [
       "<img src=\"https://api.afp.com/objects/api/medias?id=a1kkIS0nShZdX1sxTF9RGkJYQkxZNm0cAAUbcAJ2H3JwHQIHa3UHFRt3dAEbZX9oaFhdVllcQlddayhdXg1XKFN4WzorU0FDIRI0LCB7UkBDV0g2XABXWVddSFZCKCdeWEESMF4hDXUhcUEId2wjYzYpVVwQR00sWkZYWl1bC11ONStfXEEJcAF0A3RwAAAHdgZ3cg%3D%3D.jpg\"/>"
      ],
      "text/plain": [
       "<IPython.core.display.Image object>"
      ]
     },
     "metadata": {},
     "output_type": "display_data"
    },
    {
     "name": "stdout",
     "output_type": "stream",
     "text": [
      "78 \n",
      " (CNN) Before the Covid-19 pandemic , the nation was in the throes of another public health crisis: the opioid epidemic .  More than 2 million Americans struggle with opioid use disorder, and about 130 Americans on average die every day from an opioid overdose. Opioids account for a majority of drug overdose deaths, the leading cause of accidental death in the US. It's a crisis that's been a priority for officials at the federal, state and local levels for years.  Now, the coronavirus has disrupted all matters of life across the country -- including efforts to combat the nation's opioid problem.  Walk-in clinics and syringe exchange programs have been closed. Community support groups are meeting virtually.  Some who struggle with substance abuse are homeless or incarcerated and can't comply with social distancing guidelines, while those who can are left isolated and at risk. On top of all that, the pandemic is causing massive stress -- a primary driver of relapse.  \"This changing, very strange world that we're living through could serve as a trigger for people to return to drug use,\" said Daliah Heller, director of drug use initiatives at the public health organization Vital Strategies. \"And that brings a great potential for overdose with it.\"  As local officials report spikes in overdose calls and deaths, experts and advocates say they're concerned the coronavirus pandemic is making an already serious problem worse.  Local officials are reporting overdose spikes  County coroners, law enforcement and emergency responders around the country are reporting spikes in overdose calls and deaths -- and they're concerned that's connected to Covid-19.  Franklin County, Ohio, reported 28 non-fatal overdoses from last Friday night to Saturday night. The previous Friday, the county had six overdose deaths, which coroner Anahi Ortiz had described as a \"surge\" in a Facebook post  Sixty-two people died of overdoses in the month of April alone, she wrote. Ortiz wrote in a Facebook post on Sunday that Franklin County had seen a 50% increase in fatal overdoses from January to April 15.Sixty-two people died of overdoses in the month of April alone, she wrote.  Niagara County in New York reported last month that drug overdoses spiked 35% from January 1 to April 6, compared to the same time last year.  And in Jacksonville, Florida, the fire and rescue chief said the city saw a 20% increase in overdose calls from February to March.  It's too soon to determine whether such reports are evidence of a larger trend, said Nora Volkow, director of the National Institute on Drug Abuse.  Federal and state data on fatal and non-fatal overdoses for the past few months are not yet available, while coroners and medical examiners are overwhelmed with cases of Covid-19 and may not have the resources to follow up on overdose deaths, she said.  \"We do not know,\" Volkow said, of whether more people are overdosing in connection with Covid-19. \"In many cases, we will likely never know.\"  But she predicts that some communities will \"absolutely\" see an uptick in overdoses.  Public health services are disrupted  There are a few reasons that experts are concerned about a potential coronavirus-related increase in opioid overdoses.  For one, harm reduction programs across the country have been experiencing reduced capacity given the pandemic, Heller said.  An addiction treatment clinic in Olympia, Washington, operates outside to reduce the risk of Covid-19 infection.  Though many states have defined such services as essential in their stay-at-home orders, some programs have had to restrict access or reduce staffing because of a lack of funding or personal protective equipment for their workers.  Federal agencies have eased some regulations that have mitigated the risks of overdoses and Covid-19 infection, Heller said.  For example, patients receiving medication-assisted treatment for opioid use disorder often have to visit a provider daily for a dose of methadone. But because such visits could expose both patients and health care workers to Covid-19, the Substance Abuse and Mental Health Services Administration (SAMHSA) is temporarily allowing treatment programs to provide patients with two to four weeks' worth of methadone doses to take home.  Meanwhile, the Drug Enforcement Administration (DEA) has also relaxed telehealth restrictions around prescriptions for buprenorphine, another medication-assisted treatment.  Still, for people who lack health insurance or high-speed internet access, there are barriers.  People are engaging risky behaviors  In some communities, services that treat addiction or prevent overdoses, such as needle exchange programs, are on hold -- leading people to engage in risky behaviors.  Jamie Favaro is the founder of Next Distro, a harm reduction organization that provides syringes and the overdose-reversing naloxone online and through the mail. She said her organization is receiving about five times as many requests as usual because people haven't had access to sterile syringes. A significant volume of requests is coming from people in Ohio, Kentucky and West Virginia, she said.  Outreach workers deliver a bag of fresh food and package of Narcan, the opioid reversing medication, to a person staying in a Delaware motel.  Recently, she said, a client in West Virginia requested syringes after sharing a single needle with three other people for a week. The exchange programs in their area were shut down, the client said, and there was nowhere else to get syringes. Other clients have reached out saying they are also reusing syringes or have had needles break off in their skin, she said.  \"I'm very fearful that we're going to see an HIV spike and a Hepatitis C spike, as well as an overdose spike in areas where the needle exchange programs have shut down,\" Favaro said.  More harm reduction programs around the country are beginning to mail syringes and naloxone to people who use opioids, Favaro added. County health departments are ramping up naloxone distribution to protect against overdoses too.  But the coronavirus pandemic presents challenges there as well.  When someone overdoses on opioids, another person generally administers naloxone to reverse those effects. Because of social distancing, Volkow said, it's possible that some individuals may not have anyone else around to administer the life-saving medication.  The drug supply is affected  Another reason people are at heightened risk of opioid overdoses has to do with how Covid-19 has affected the nation's illicit drug supply, experts say.  Illegal drugs are typically smuggled into the US from other countries, but border restrictions brought on by the pandemic could theoretically decrease drug access in some areas, Volkow said.  On the surface, Heller said, that might seem like a good thing. But a limited supply could drive dealers to increase the potency of products to meet demand, mixing powerful, synthetic opioids like fentanyl into drugs and putting those who use them at a greater risk of overdose.  Less access to drugs could also drive users to seek out other, unfamiliar drug sources -- or risk withdrawal.  Stress could drive people to relapse  Finally, the social isolation brought on by the coronavirus pandemic is leaving people especially vulnerable.  Some support groups for people experiencing opioid addiction or for those in recovery are now taking place over Zoom, Volkow said. But the virtual contact often just isn't the same.  \"One of the most powerful interventions is to keep people in treatment is that social network,\" she said. \"Isolation can lead you to seek out some relief, like starting to take drugs.\"  It will be a while before we know the true effects that Covid-19 has had on those who struggle with opioid use disorders, Volkow said. But already, there are many reasons to worry.\n",
      "Sans malus\n"
     ]
    },
    {
     "data": {
      "text/html": [
       "<img src=\"https://api.afp.com/objects/api/medias?id=a1kkIS0nShZdXlcxVgJEXV1EQksZdHUcFnNyEWh0dwt2BnMedQRzcWkXTFBOXVQqVkYaX0JXEltfIX9GQFxVMUQgFjYsVgxbPVogNTcjFFpBU1UgV1lZUEFRXh5HLCYQdgFXBgUJWCxjQF5cIQkwMC0lUlVCWVNjXFVEXEBVXgUHc3MeDgcAdw93CXN0.jpg\"/>"
      ],
      "text/plain": [
       "<IPython.core.display.Image object>"
      ]
     },
     "metadata": {},
     "output_type": "display_data"
    },
    {
     "data": {
      "text/html": [
       "<img src=\"https://api.afp.com/objects/api/medias?id=a1kkIS0nShZdXlcxVgJEXV1EQksZdHMVFnNyEWh0e3pxA30edQRzcWkXTFBOXVQqVkYaX0JXEltfIX9GQFxVMUQgFjYsVgxbPVogNTcjFFpBU1UgV1lZUEFRXh5HLCYQeFhYCFAoeQJjQF5cIQkwMC0lUlVCWVNjXFVEXEBVXgUHc3MeDgcAcQ58AXRw.jpg\"/>"
      ],
      "text/plain": [
       "<IPython.core.display.Image object>"
      ]
     },
     "metadata": {},
     "output_type": "display_data"
    },
    {
     "data": {
      "text/html": [
       "<img src=\"https://api.afp.com/objects/api/medias?id=a1kkIS0nShZdX1sxTF9RGkJYQkxZNm0cAAMbcAJ8H3F2Bh4CdQZuBAIWZghgbw4ACwBlQFtTRlRZKikDU0JTflQsVH4uS19RNEckYzEvXQRGT1YkSV5RGFFcSFVTKzZAXEFVMhE0WSd4U2sAF2UWICVgS1ZBUwU0TERXXl5fQlMQIDpdUEBRMgp0BnJ2BQQCdAN4cnx3.jpg\"/>"
      ],
      "text/plain": [
       "<IPython.core.display.Image object>"
      ]
     },
     "metadata": {},
     "output_type": "display_data"
    },
    {
     "data": {
      "text/html": [
       "<img src=\"https://api.afp.com/objects/api/medias?id=a1kkIS0nShZdXlcxVgJEXV1EQksZd3MYFnNyEWh0eRpyBmQedQRzcWkXTFBOXVQqVkYaX0JXEltfIX9GQFxVMUQgFjYsVgxbPVogNTcjFFpBU1UgV1lZUEFRXh5HLCYQS11gBX0pSi5jQF5cIQkwMC0lUlVCWVNjXFVEXEBVXgUHc3MeDgcAcgV8A3F1.jpg\"/>"
      ],
      "text/plain": [
       "<IPython.core.display.Image object>"
      ]
     },
     "metadata": {},
     "output_type": "display_data"
    },
    {
     "data": {
      "text/html": [
       "<img src=\"https://api.afp.com/objects/api/medias?id=a1kkIS0nShZdXlcxVgJEXV1EQksZd3cdFnNyEWh0eRpzY30edQRzcWkXTFBOXVQqVkYaX0JXEltfIX9GQFxVMUQgFjYsVgxbPVogNTcjFFpBU1UgV1lZUEFRXh5HLCYQS11gBX0pSi5jQF5cIQkwMC0lUlVCWVNjXFVEXEBVXgUHc3MeDgcAcgV8Anp0.jpg\"/>"
      ],
      "text/plain": [
       "<IPython.core.display.Image object>"
      ]
     },
     "metadata": {},
     "output_type": "display_data"
    },
    {
     "data": {
      "text/html": [
       "<img src=\"https://api.afp.com/objects/api/medias?id=a1kkIS0nShZdX1sxTF9RGkJYQkxZNm0cDgsbcAB0H3B2HQMAdhsAAxQZCHQeD38MFHxBXFFbQVdZLmxHSVULIl4hDSg8XFBAN1FnMC0iBFJUWFk1SkgZVl5VQF1YMS9ISlNHZ0YsVH4MW3REHU0ELWI0VlVIC0kwUE5fWV1fRh5TPTJES1dHfAZzAXByBwMBfAB2fXw%3D.jpg\"/>"
      ],
      "text/plain": [
       "<IPython.core.display.Image object>"
      ]
     },
     "metadata": {},
     "output_type": "display_data"
    },
    {
     "name": "stdout",
     "output_type": "stream",
     "text": [
      "malus\n"
     ]
    },
    {
     "data": {
      "text/html": [
       "<img src=\"https://api.afp.com/objects/api/medias?id=a1kkIS0nShZdX1sxTF9RGkJYQkxZNm0cAAEbcAJyH3J8HQUBa3UHFRt3dAEadWloaFhdVllcQlddayhdXg1XKFN4WzorU0FDIRI0LCB7UkBDV0g2XABXWVddSFZCKCdeWEESMF4hDXUhcUEId2wjYzYpVVwQR00sWkZYWl1bC11ONStfXEEJcAF0A3RwAAAHdgZ2dw%3D%3D.jpg\"/>"
      ],
      "text/plain": [
       "<IPython.core.display.Image object>"
      ]
     },
     "metadata": {},
     "output_type": "display_data"
    },
    {
     "data": {
      "text/html": [
       "<img src=\"https://api.afp.com/objects/api/medias?id=a1kkIS0nShZdX1sxTF9RGkJYQkxZNm0cAAUbcAJ2H3JwHQIHa3UHFRt3dAEbZX9oaFhdVllcQlddayhdXg1XKFN4WzorU0FDIRI0LCB7UkBDV0g2XABXWVddSFZCKCdeWEESMF4hDXUhcUEId2wjYzYpVVwQR00sWkZYWl1bC11ONStfXEEJcAF0A3RwAAAHdgZ3cg%3D%3D.jpg\"/>"
      ],
      "text/plain": [
       "<IPython.core.display.Image object>"
      ]
     },
     "metadata": {},
     "output_type": "display_data"
    },
    {
     "data": {
      "text/html": [
       "<img src=\"https://api.afp.com/objects/api/medias?id=a1kkIS0nShZdX1sxTF9RGkJYQkxZNm0fCgAbdw5qAXtyHQMAfRsAAxQZCHd9D2EUFHxBXFFbQVdZLmxHSVULIl4hDSg8XFBAN1FnMC0iBFJUWFk1SkgZVl5VQF1YMS9ISlNHZ0YsVH4WalRRDlo3N2I0VlVIC0kwUE5fWV1fRh5TPTJES1dHfAZzAXByBwAJcwJ2cXU%3D.jpg\"/>"
      ],
      "text/plain": [
       "<IPython.core.display.Image object>"
      ]
     },
     "metadata": {},
     "output_type": "display_data"
    },
    {
     "data": {
      "text/html": [
       "<img src=\"https://api.afp.com/objects/api/medias?id=a1kkIS0nShZdXlcxVgJEXV1EQksZdHUcFnNyEWh0dwt2BnMedQRzcWkXTFBOXVQqVkYaX0JXEltfIX9GQFxVMUQgFjYsVgxbPVogNTcjFFpBU1UgV1lZUEFRXh5HLCYQdgFXBgUJWCxjQF5cIQkwMC0lUlVCWVNjXFVEXEBVXgUHc3MeDgcAdw93CXN0.jpg\"/>"
      ],
      "text/plain": [
       "<IPython.core.display.Image object>"
      ]
     },
     "metadata": {},
     "output_type": "display_data"
    },
    {
     "data": {
      "text/html": [
       "<img src=\"https://api.afp.com/objects/api/medias?id=a1kkIS0nShZdXlcxVgJEXV1EQksZdHMVFnNyEWh0e3pxA30edQRzcWkXTFBOXVQqVkYaX0JXEltfIX9GQFxVMUQgFjYsVgxbPVogNTcjFFpBU1UgV1lZUEFRXh5HLCYQeFhYCFAoeQJjQF5cIQkwMC0lUlVCWVNjXFVEXEBVXgUHc3MeDgcAcQ58AXRw.jpg\"/>"
      ],
      "text/plain": [
       "<IPython.core.display.Image object>"
      ]
     },
     "metadata": {},
     "output_type": "display_data"
    },
    {
     "data": {
      "text/html": [
       "<img src=\"https://api.afp.com/objects/api/medias?id=a1kkIS0nShZdX1sxTF9RGkJYQkxZNm0cAAMbcAJ8H3F2Bh4CdQZuBAIWZghgbw4ACwBlQFtTRlRZKikDU0JTflQsVH4uS19RNEckYzEvXQRGT1YkSV5RGFFcSFVTKzZAXEFVMhE0WSd4U2sAF2UWICVgS1ZBUwU0TERXXl5fQlMQIDpdUEBRMgp0BnJ2BQQCdAN4cnx3.jpg\"/>"
      ],
      "text/plain": [
       "<IPython.core.display.Image object>"
      ]
     },
     "metadata": {},
     "output_type": "display_data"
    },
    {
     "name": "stdout",
     "output_type": "stream",
     "text": [
      "79 \n",
      " The 44-year-old doctor in Palo Alto, California, has an underlying immune deficiency, but has \"never had shortness of breath before,\" she said.  Her test came back negative for coronavirus. But whatever has been plaguing her, Covid-19 or some other respiratory condition, resulted in two trips to the hospital.  She's nervous about her future during the pandemic, and she recently contacted her friends to discuss her own end-of-life decisions, she said. In the past, she's had these kinds of discussions with patients many times.  \"We don't want to want to feel guilty for making those decisions for them. It breaks families apart,\" Mac said. \"It's kind of silly for me not to have prepared with all the things I've seen.\"  Now she feels the need to confront the questions herself, and she's appointing her parents to make decisions on her behalf should she become unable to do so.  Mac's conversations with those close to her parallels those of frontline health workers, patients and their families, and really, anyone who thinks the pandemic could affect them. Many more people have been forced to think about their own mortality sooner than they would have imagined.  On April 30, her 44th birthday, she called an attorney about creating an advance directive and a will. \"I'm planning on moving forward with having that drafted and properly managed,\" Mac said.  These life-or-death decisions are marked by a sea of of medical and legal paperwork. Here's what you need to know in order to start putting your plan in place.  There's a spike in people writing out their wills  \"People know now they need these documents,\" said Renee Fry, founder and CEO of Gentreo, a company that enables people to create and store a number of critical legal documents, including those that appoint health care proxies, delineate advance directives and spell out a last will and testament.  She said that amid the pandemic, the platform has recently seen a 223% increase in the past month in users creating paying memberships.  On top of that, users' age distribution has \"changed dramatically,\" she said. Prior to the pandemic, a typical user creating a will and other documents was between 50 and 67 years old. Now new sign ups come from \"across the age spectrum,\" ranging from ages 28 to 72.  of social distancing, she and her colleagues frequently field questions about whether documents can be witnessed remotely. Many states have In this timeof social distancing, she and her colleagues frequently field questions about whether documents can be witnessed remotely. Many states have emergency orders allowing people to witness documents electronically, or deeming estate planning an essential service.  \"People don't fully appreciate what failure to be plan would mean for them,\" said Mary Kate D'Souza, Gentreo's chief legal officer. \"It can create a legal morass that you're just not prepared for.\"  It's a time to have meaningful conversations with loved ones  The most important thing, experts noted, is that if you're apprehensive about end-of-life planning, you don't have to get everything perfect on the first go. You have every opportunity to come back to these documents as often as you need or want to in order to make adjustments.  It could be at major life milestones, including your wedding, the birth of a child, a divorce or a new diagnosis. It could also be an annual check-in.  \"The joy and meaning and purpose of it is to talk about it with your loved ones,\" said Adam Hayden, a 38-year-old philosopher living with brain cancer. \"This is an act of love.\"  Hayden frequently writes and speaks around the country about the need to confront the most essential end-of-life questions.  At age 34, he was diagnosed with glioblastoma, which carries with it a 15- to 18-month median survival time. Each year since then with his wife and three kids has been a blessing. \"I will happily update my documents each year,\" he said.  For many, end-of-life planning can feel morbid. To ease the awkwardness, the Coda Alliance, a group that seeks to empower people to take ownership of end-of-life conversations, created a \"Go Wish\" card game for families to play together.  Another way to ease into the conversation is with the Five Wishes workbook , which helps structure necessary decisions on one's physical, emotional, mental and spiritual needs.  Appointing a health care proxy  The first step is to appoint a health care proxy, someone who can make decisions or sign documents for you if you become incapacitated.  It's imperative that you have someone you trust who can do those things for you, said Liz Salmi, who herself has been living with brain cancer for 12 years. At age 29, she appointed her boyfriend of one year (now her husband) to be her decision maker while she was being wheeled into an emergency brain surgery.  \"The hardest part is the health care proxy,\" Salmi said. \"When you're young, you don't think about these things. But families can be torn apart by what happens.\"  In appointing your personal proxy, you need someone whose values are aligned with your own. If you want to be taken off a respirator or a feeding tube, you need someone who can strongly advocate that position for you if you reach a point when you can't.  Salmi's advance directive gives concrete examples.  \"CPR won't cure brain cancer,\" she said, so she rules out lifesaving measures in some circumstances. On the other hand, \"If I fall into a frozen lake, I would be OK with CPR.\"  Salmi has worked in the health care field, focusing on palliative care and electronic health records. Coupled with her own experience as a chronic cancer patient, she's spent more than a decade thinking deeply about how to get these questions right.  After examining dozens of examples, Salmi ultimately made her own advance directive and put it on her website for anyone to see. And she pointed to the American Bar Association's website as another resource for finding estate planning forms focused on health care proxies and advance directives.  \"It's not a medical document,\" Salmi said. \"It's a quasi-legal document.\" She recommended that people keep a hard copy and their own electronic copy of their documents, because they don't automatically transfer in electronic health records.  Outside of health care settings, you'll need a power of attorney document, which would enable a friend or loved one to make financial and legal decisions on your behalf.  Beyond managing your bank accounts and property, it's now increasingly important to think about how someone will manage your digital footprint after you die.  \"I want my LinkedIn page deleted,\" Salmi said. And when the time comes, she wants her Facebook page turned into a memorial page.  Creating your advance directive  Your advance directive spells out your wishes on whether doctors should try to resuscitate you or keep you alive if you're at the edge of death. For Covid-19, that might specifically include guidance about ventilators and assistance with breathing. More broadly, that can also address such concerns as artificial nutrition and hydration.  It's impossible to know which health care decisions you or a proxy will be forced to make in the future, especially if you're young and healthy. But Hayden's and Salmi's experiences living near the shadow of death help light the way.  The advance directive is the \"shortest way to guarantee what (someone wants) will happen with their treatment,\" Hayden said.  He explained that legal experts commonly prepare power of attorney documents, rather than medical experts. But based on his years of living through the complex technical aspects of a terminal diagnosis, he advised people creating advance directives now to talk about their documents with their doctors as well.  Get CNN Health's weekly newsletter Sign up here to get The Results Are In with Dr. Sanjay Gupta every Tuesday from the CNN Health team.  \"Even if you think you're providing the support you think you need, it may not be useful in a medical context,\" Hayden said. He appointed his wife as his proxy, but his guidance is that she can make the decisions in partnership with a physician, because the intricacies of brain tumors can't always be predicted in a standard legal contract.  Failing to create a plan not only subverts your own wishes. It can cause pain years after your death in those you love as they fight about the right thing to do. In the absence of a formulated plan, many families are at risk of fracturing on divisive questions about whether or not a family member should receive certain lifesaving treatments or whether doctors should use measures to prolong someone's life.  Facing the decision  Back in Palo Alto, Mac is leveraging her experiences as a physician into making all these decisions for herself, should things go downhill for her.  Prior to entering into biomedical research at Stanford University, she treated patients in a Detroit hospital, where she frequently saw young people who had been in car accidents or who suffered gunshot wounds as a result of gang violence. They hadn't always identified someone to make decisions on their behalf.  \"It's kind of silly of me to not have prepared with all the things I've seen,\" she said. \"I told my parents I need to get this handled.\"  Following her flu and respiratory episodes recently in the emergency room, she's been experiencing new neurological symptoms, including dystonia, a movement disorder. And whether or not her breathing issues were a false negative for Covid-19, she's still worried about her body's inability to create certain immune cells.  As she ventures further into the unknown, though, Mac can have some assurance that others with chronic diseases have had to stare down these demons and learn that the decisions can actually create peace in the midst of this present global chaos.  \"Now is the time to start having these conversations,\" Salmi said. \"Use what's happening in the news as a trigger.\"\n",
      "Sans malus\n"
     ]
    },
    {
     "data": {
      "text/html": [
       "<img src=\"https://api.afp.com/objects/api/medias?id=a1kkIS0nShZdX1sxTF9RGkJYQkxZNm0cCAQbdQFqAXtxHQAGdhsAAxQZCHQVAXFxFHxBXFFbQVdZLmxHSVULIl4hDSg8XFBAN1FnMC0iBFJUWFk1SkgZVl5VQF1YMS9ISlNHZ0YsVH5zVnJAfAcZJ2I0VlVIC0kwUE5fWV1fRh5TPTJES1dHfAZzAXByBwMBcwZwfXw%3D.jpg\"/>"
      ],
      "text/plain": [
       "<IPython.core.display.Image object>"
      ]
     },
     "metadata": {},
     "output_type": "display_data"
    },
    {
     "data": {
      "text/html": [
       "<img src=\"https://api.afp.com/objects/api/medias?id=a1kkIS0nShZdX1sxTF9RGkJYQkxZNm0fCh0FeQFqBntqBgcfBXIRGnUIaQB0ZhUUTERXXl5fQlMYLzJKBlFdJQouSS0kQkJVYkEoIXktQFdMRksgFE5YUF9VQ0xbIDFMShRFKFN4YxsgU3teMkZnNysqXARcQ1EmUkFbWlkWSEBGLDBISg8FdwZ2B3Z0CwYGcwBz.jpg\"/>"
      ],
      "text/plain": [
       "<IPython.core.display.Image object>"
      ]
     },
     "metadata": {},
     "output_type": "display_data"
    },
    {
     "data": {
      "text/html": [
       "<img src=\"https://api.afp.com/objects/api/medias?id=a1kkIS0nShZdX1sxTF9RGkJYQkxZNm0YDx0FdQ5qAXJqAQIfBXIRGnUIaAh1BhUUTERXXl5fQlMYLzJKBlFdJQouSS0kQkJVYkEoIXktQFdMRksgFE5YUF9VQ0xbIDFMShRFKFN4YxsgU3teMkZnNysqXARcQ1EmUkFbWlkWSEBGLDBISg8FdwZ2B3Z0CwYGcwd5.jpg\"/>"
      ],
      "text/plain": [
       "<IPython.core.display.Image object>"
      ]
     },
     "metadata": {},
     "output_type": "display_data"
    },
    {
     "data": {
      "text/html": [
       "<img src=\"https://api.afp.com/objects/api/medias?id=a1kkIS0nShZdXlcxVgJEXV1EQksZdXoCeHRkHgYMf3IIeB8BdAZ1aBUzUFpGWlcqUgNeRVUPTlFSeClUV1NEMlJjRSohD1pJKlUxNiFrWlVIW10rTUBRRlNDC0lfIX9MDXdndmAUeGU3XV1VeUU0LCctVVZCXR4gQV1dR1dDEAkAdHEaDAYHdwF3AnE%3D.jpg\"/>"
      ],
      "text/plain": [
       "<IPython.core.display.Image object>"
      ]
     },
     "metadata": {},
     "output_type": "display_data"
    },
    {
     "data": {
      "text/html": [
       "<img src=\"https://api.afp.com/objects/api/medias?id=a1kkIS0nShZdX1sxTF9RGkJYQkxZNm0cAQsbcAF0H3F2HQUFa3UHFRt3dAEafnpoaFhdVllcQlddayhdXg1XKFN4WzorU0FDIRI0LCB7UkBDV0g2XABXWVddSFZCKCdeWEESMF4hDXUhcUEId2wjYzYpVVwQR00sWkZYWl1bC11ONStfXEEJcAF0A3RwAAAHdgV4dQ%3D%3D.jpg\"/>"
      ],
      "text/plain": [
       "<IPython.core.display.Image object>"
      ]
     },
     "metadata": {},
     "output_type": "display_data"
    },
    {
     "data": {
      "text/html": [
       "<img src=\"https://api.afp.com/objects/api/medias?id=a1kkIS0nShZdX1sxTF9RGkJYQkxZNm0fCQEbcAZ1H3N8HQIBa3UHFRt3dmwabgxoaFhdVllcQlddayhdXg1XKFN4WzorU0FDIRI0LCB7UkBDV0g2XABXWVddSFZCKCdeWEESMF4hDSJxWWJ%2Fd39xYzYpVVwQR00sWkZYWl1bC11ONStfXEEJcAF0A3RwAwgCdQd3dw%3D%3D.jpg\"/>"
      ],
      "text/plain": [
       "<IPython.core.display.Image object>"
      ]
     },
     "metadata": {},
     "output_type": "display_data"
    },
    {
     "name": "stdout",
     "output_type": "stream",
     "text": [
      "malus\n"
     ]
    },
    {
     "data": {
      "text/html": [
       "<img src=\"https://api.afp.com/objects/api/medias?id=a1kkIS0nShZdX1sxTF9RGkJYQkxZNm0fCQEbcAZ1H3N8HQIBa3UHFRt3dmwabgxoaFhdVllcQlddayhdXg1XKFN4WzorU0FDIRI0LCB7UkBDV0g2XABXWVddSFZCKCdeWEESMF4hDSJxWWJ%2Fd39xYzYpVVwQR00sWkZYWl1bC11ONStfXEEJcAF0A3RwAwgCdQd3dw%3D%3D.jpg\"/>"
      ],
      "text/plain": [
       "<IPython.core.display.Image object>"
      ]
     },
     "metadata": {},
     "output_type": "display_data"
    },
    {
     "data": {
      "text/html": [
       "<img src=\"https://api.afp.com/objects/api/medias?id=a1kkIS0nShZdX1sxTF9RGkJYQkxZNm0cCAQbdQFqAXtxHQAGdhsAAxQZCHQVAXFxFHxBXFFbQVdZLmxHSVULIl4hDSg8XFBAN1FnMC0iBFJUWFk1SkgZVl5VQF1YMS9ISlNHZ0YsVH5zVnJAfAcZJ2I0VlVIC0kwUE5fWV1fRh5TPTJES1dHfAZzAXByBwMBcwZwfXw%3D.jpg\"/>"
      ],
      "text/plain": [
       "<IPython.core.display.Image object>"
      ]
     },
     "metadata": {},
     "output_type": "display_data"
    },
    {
     "data": {
      "text/html": [
       "<img src=\"https://api.afp.com/objects/api/medias?id=a1kkIS0nShZdX1sxTF9RGkJYQkxZNm0fCh0FeQFqBntqBgcfBXIRGnUIaQB0ZhUUTERXXl5fQlMYLzJKBlFdJQouSS0kQkJVYkEoIXktQFdMRksgFE5YUF9VQ0xbIDFMShRFKFN4YxsgU3teMkZnNysqXARcQ1EmUkFbWlkWSEBGLDBISg8FdwZ2B3Z0CwYGcwBz.jpg\"/>"
      ],
      "text/plain": [
       "<IPython.core.display.Image object>"
      ]
     },
     "metadata": {},
     "output_type": "display_data"
    },
    {
     "data": {
      "text/html": [
       "<img src=\"https://api.afp.com/objects/api/medias?id=a1kkIS0nShZdX1sxTF9RGkJYQkxZNm0YDx0FdQ5qAXJqAQIfBXIRGnUIaAh1BhUUTERXXl5fQlMYLzJKBlFdJQouSS0kQkJVYkEoIXktQFdMRksgFE5YUF9VQ0xbIDFMShRFKFN4YxsgU3teMkZnNysqXARcQ1EmUkFbWlkWSEBGLDBISg8FdwZ2B3Z0CwYGcwd5.jpg\"/>"
      ],
      "text/plain": [
       "<IPython.core.display.Image object>"
      ]
     },
     "metadata": {},
     "output_type": "display_data"
    },
    {
     "data": {
      "text/html": [
       "<img src=\"https://api.afp.com/objects/api/medias?id=a1kkIS0nShZdXlcxVgJEXV1EQksZdXoCeHRkHgYMf3IIeB8BdAZ1aBUzUFpGWlcqUgNeRVUPTlFSeClUV1NEMlJjRSohD1pJKlUxNiFrWlVIW10rTUBRRlNDC0lfIX9MDXdndmAUeGU3XV1VeUU0LCctVVZCXR4gQV1dR1dDEAkAdHEaDAYHdwF3AnE%3D.jpg\"/>"
      ],
      "text/plain": [
       "<IPython.core.display.Image object>"
      ]
     },
     "metadata": {},
     "output_type": "display_data"
    },
    {
     "data": {
      "text/html": [
       "<img src=\"https://api.afp.com/objects/api/medias?id=a1kkIS0nShZdX1sxTF9RGkJYQkxZNm0cAQsbcAF0H3F2HQUFa3UHFRt3dAEafnpoaFhdVllcQlddayhdXg1XKFN4WzorU0FDIRI0LCB7UkBDV0g2XABXWVddSFZCKCdeWEESMF4hDXUhcUEId2wjYzYpVVwQR00sWkZYWl1bC11ONStfXEEJcAF0A3RwAAAHdgV4dQ%3D%3D.jpg\"/>"
      ],
      "text/plain": [
       "<IPython.core.display.Image object>"
      ]
     },
     "metadata": {},
     "output_type": "display_data"
    },
    {
     "name": "stdout",
     "output_type": "stream",
     "text": [
      "82 \n",
      " (CNN) A New York doctor who's been treating coronavirus patients says she's still reeling days after getting a devastating letter: Her green card application was denied.  \"I'm putting my life on the line every day to do this, and it's just blowing my mind right now that they are not appreciating it or they don't see the value in what I'm offering to do,\" Dr. Julia Iafrate told CNN's Chris Cuomo on Tuesday. \"I'm honestly beside myself. It's like a slap in the face.\"  Iafrate is an assistant professor at Columbia University Medical Center who specializes in sports medicine. But she says she wanted to volunteer to work on the front lines as coronavirus cases spiked in her city.  \"Because I'm a doctor,\" Iafrate said, \"because that's what I do, because I know that I can help.\"  Iafrate, who immigrated to the United States from Canada, says she's lived in the US for 13 years, completing a residency program at the Mayo Clinic and a sports medicine fellowship at the University of Iowa. For almost three years, she's been working at the Columbia University Medical Center. And she's been a team physician for the USA Ski Team and Columbia University Athletics, according to a profile on the medical center's website  Read More\n",
      "Sans malus\n"
     ]
    },
    {
     "data": {
      "text/html": [
       "<img src=\"https://api.afp.com/objects/api/medias?id=a1kkIS0nShZdXlcxVgJEXV1EQksZd3ceFnNyEWh0ehVzeH4edQRzcWkXTFBOXVQqVkYaX0JXEltfIX9GQFxVMUQgFjYsVgxbPVogNTcjFFpBU1UgV1lZUEFRXh5HLCYQDnluKHx9dy9jQF5cIQkwMC0lUlVCWVNjXFVEXEBVXgUHc3MeDgcAcAN9B3d2.jpg\"/>"
      ],
      "text/plain": [
       "<IPython.core.display.Image object>"
      ]
     },
     "metadata": {},
     "output_type": "display_data"
    },
    {
     "data": {
      "text/html": [
       "<img src=\"https://api.afp.com/objects/api/medias?id=a1kkIS0nShZdXlcxVgJEXV1EQksZd3McFnNyEWh0exN9AmMedQRzcWkXTFBOXVQqVkYaX0JXEltfIX9GQFxVMUQgFjYsVgxbPVogNTcjFFpBU1UgV1lZUEFRXh5HLCYQUXNSNg51YHNjQF5cIQkwMC0lUlVCWVNjXFVEXEBVXgUHc3MeDgcAcQV3BXJz.jpg\"/>"
      ],
      "text/plain": [
       "<IPython.core.display.Image object>"
      ]
     },
     "metadata": {},
     "output_type": "display_data"
    },
    {
     "data": {
      "text/html": [
       "<img src=\"https://api.afp.com/objects/api/medias?id=a1kkIS0nShZdX1sxTF9RGkJYQkxZNm0dDh0MdhhwAmx3AAYfBXIRGnUKbQ50dxUUTERXXl5fQlMYLzJKBlFdJQouSS0kQkJVYkEoIXktQFdMRksgFE5YUF9VQ0xbIDFMShRFKFN4BicGQgkDHFZnNysqXARcQ1EmUkFbWlkWSEBGLDBISg8FdwZ2B3Z3AwYCcwR0.jpg\"/>"
      ],
      "text/plain": [
       "<IPython.core.display.Image object>"
      ]
     },
     "metadata": {},
     "output_type": "display_data"
    },
    {
     "data": {
      "text/html": [
       "<img src=\"https://api.afp.com/objects/api/medias?id=a1kkIS0nShZdX1sxTF9RGkJYQkxZNm0cAAMbcAJ8H3F2Bh4CdQZuBAIWZghgbw4ACwBlQFtTRlRZKikDU0JTflQsVH4uS19RNEckYzEvXQRGT1YkSV5RGFFcSFVTKzZAXEFVMhE0WSd4U2sAF2UWICVgS1ZBUwU0TERXXl5fQlMQIDpdUEBRMgp0BnJ2BQQCdAN4cnx3.jpg\"/>"
      ],
      "text/plain": [
       "<IPython.core.display.Image object>"
      ]
     },
     "metadata": {},
     "output_type": "display_data"
    },
    {
     "data": {
      "text/html": [
       "<img src=\"https://api.afp.com/objects/api/medias?id=a1kkIS0nShZdXlcxVgJEXV1EQksZdHoYFnNyEWh0eRB3AXMedQRzcWkXTFBOXVQqVkYaX0JXEltfIX9GQFxVMUQgFjYsVgxbPVogNTcjFFpBU1UgV1lZUEFRXh5HLCYQfUVaBkF8VA9jQF5cIQkwMC0lUlVCWVNjXFVEXEBVXgUHc3MeDgcAcgN9AnJ3.jpg\"/>"
      ],
      "text/plain": [
       "<IPython.core.display.Image object>"
      ]
     },
     "metadata": {},
     "output_type": "display_data"
    },
    {
     "data": {
      "text/html": [
       "<img src=\"https://api.afp.com/objects/api/medias?id=a1kkIS0nShZdXlcxVgJEXV1EQksZdHACeHRkHgYMY3EDdh8BdAZ1aBUzUFpGWlcqUgNeRVUPTlFSeClUV1NEMlJjRSohD1pJKlUxNiFrWlVIW10rTUBRRlNDC0lfIX9pTlxzNw4hfGU3XV1VeUU0LCctVVZCXR4gQV1dR1dDEAkAdHEaDAYHdQ93AHQ%3D.jpg\"/>"
      ],
      "text/plain": [
       "<IPython.core.display.Image object>"
      ]
     },
     "metadata": {},
     "output_type": "display_data"
    },
    {
     "name": "stdout",
     "output_type": "stream",
     "text": [
      "malus\n"
     ]
    },
    {
     "data": {
      "text/html": [
       "<img src=\"https://api.afp.com/objects/api/medias?id=a1kkIS0nShZdX1sxTF9RGkJYQkxZNm0bDx0FdA5qAnJqAAAEa3UHFRt3d38VB25oaFhdVllcQlddayhdXg1XKFN4WzorU0FDIRI0LCB7UkBDV0g2XABXWVddSFZCKCdeWEESMF4hDRsOSAJFfQcYYzYpVVwQR00sWkZYWl1bC11ONStfXEEJcAF0A3RwAAECfQVyfQ%3D%3D.jpg\"/>"
      ],
      "text/plain": [
       "<IPython.core.display.Image object>"
      ]
     },
     "metadata": {},
     "output_type": "display_data"
    },
    {
     "data": {
      "text/html": [
       "<img src=\"https://api.afp.com/objects/api/medias?id=a1kkIS0nShZdX1sxTF9RGkJYQkxZNm0cAAcbcAd3H3FxAh4DcxsAAxQZCHdrDgkfFHxBXFFbQVdZLmxHSVULIl4hDSg8XFBAN1FnMC0iBFJUWFk1SkgZVl5VQF1YMS9ISlNHZ0YsVH4deUsDMQ1yHGI0VlVIC0kwUE5fWV1fRh5TPTJES1dHfAZzAXByBwMAdg1wdnI%3D.jpg\"/>"
      ],
      "text/plain": [
       "<IPython.core.display.Image object>"
      ]
     },
     "metadata": {},
     "output_type": "display_data"
    },
    {
     "data": {
      "text/html": [
       "<img src=\"https://api.afp.com/objects/api/medias?id=a1kkIS0nShZdXlcxVgJEXV1EQksZd3ceFnNyEWh0ehVzeH4edQRzcWkXTFBOXVQqVkYaX0JXEltfIX9GQFxVMUQgFjYsVgxbPVogNTcjFFpBU1UgV1lZUEFRXh5HLCYQDnluKHx9dy9jQF5cIQkwMC0lUlVCWVNjXFVEXEBVXgUHc3MeDgcAcAN9B3d2.jpg\"/>"
      ],
      "text/plain": [
       "<IPython.core.display.Image object>"
      ]
     },
     "metadata": {},
     "output_type": "display_data"
    },
    {
     "data": {
      "text/html": [
       "<img src=\"https://api.afp.com/objects/api/medias?id=a1kkIS0nShZdXlcxVgJEXV1EQksZd3McFnNyEWh0exN9AmMedQRzcWkXTFBOXVQqVkYaX0JXEltfIX9GQFxVMUQgFjYsVgxbPVogNTcjFFpBU1UgV1lZUEFRXh5HLCYQUXNSNg51YHNjQF5cIQkwMC0lUlVCWVNjXFVEXEBVXgUHc3MeDgcAcQV3BXJz.jpg\"/>"
      ],
      "text/plain": [
       "<IPython.core.display.Image object>"
      ]
     },
     "metadata": {},
     "output_type": "display_data"
    },
    {
     "data": {
      "text/html": [
       "<img src=\"https://api.afp.com/objects/api/medias?id=a1kkIS0nShZdX1sxTF9RGkJYQkxZNm0dDh0MdhhwAmx3AAYfBXIRGnUKbQ50dxUUTERXXl5fQlMYLzJKBlFdJQouSS0kQkJVYkEoIXktQFdMRksgFE5YUF9VQ0xbIDFMShRFKFN4BicGQgkDHFZnNysqXARcQ1EmUkFbWlkWSEBGLDBISg8FdwZ2B3Z3AwYCcwR0.jpg\"/>"
      ],
      "text/plain": [
       "<IPython.core.display.Image object>"
      ]
     },
     "metadata": {},
     "output_type": "display_data"
    },
    {
     "data": {
      "text/html": [
       "<img src=\"https://api.afp.com/objects/api/medias?id=a1kkIS0nShZdX1sxTF9RGkJYQkxZNm0cAAMbcAJ8H3F2Bh4CdQZuBAIWZghgbw4ACwBlQFtTRlRZKikDU0JTflQsVH4uS19RNEckYzEvXQRGT1YkSV5RGFFcSFVTKzZAXEFVMhE0WSd4U2sAF2UWICVgS1ZBUwU0TERXXl5fQlMQIDpdUEBRMgp0BnJ2BQQCdAN4cnx3.jpg\"/>"
      ],
      "text/plain": [
       "<IPython.core.display.Image object>"
      ]
     },
     "metadata": {},
     "output_type": "display_data"
    },
    {
     "name": "stdout",
     "output_type": "stream",
     "text": [
      "83 \n",
      " Going anywhere during a pandemic is difficult but getting to medical appointments is even more fraught. Whether you need to get to the pediatrician, dentist, vet, internist or hospital, this five-part series from CNN Science and Wellness has you covered.  (CNN) It was after midnight when Leslie Rowe woke up on April 11. Her 9-year-old son, Zaiden, was in tears, saying he had an intense pain in his groin.  At any other time, said Rowe, who lives in Collierville, Tennessee, she would have headed straight to the emergency room. \"He was crying, he was in pain,\" Rowe said. \"I was scared.\"  But Rowe's family has been practicing strict social distancing since March 13. With close relatives whose preexisting conditions make them especially vulnerable to Covid-19, she's even limiting trips to the grocery store as much as possible.  Rowe called the emergency room at Spence and Becky Wilson Baptist Children's Hospital in Memphis, then decided it was time for Zaiden to go in. While Rowe stayed at home with her toddler, Zaiden's father took him to the children's hospital's emergency room.  Dr. Jennifer Shu, a pediatrician at Georgia's Children's Medical Group , said Rowe made the right call by reaching out to a children's hospital.  \"If you can take them to a children's ER, that's the best way to go,\" Dr. Shu said. \"Coronavirus isn't hitting children as severely as it is adults. At least in our area, that means that children's hospitals are way less busy than the adult hospitals.\"  As Americans adjust to social-distancing during coronavirus, many are wondering how best to care for their children's medical needs.  \"A lot of them are just nervous about going out because they don't want to be exposed to anything,\" Dr. Shu said. \"They're being very cautious, which is great.\"  But Dr. Shu also said that some medical issues require a face-to-face visit and doctors are taking measures to ensure patient safety at offices and hospitals.  For midnight emergencies, routine care, wellness checkups and more, here's what you need to know.  What should you do during a medical emergency?  For urgent issues, Dr. Shu said parents should still call 911 or go straight to the emergency room, preferably at a children's hospital.  In less pressing cases, she suggested starting with a call to a primary care provider, who can help determine next steps.  \"Your primary care doctor is considered your medical 'home,'\" she said. Like other medical providers, many pediatricians are now offering telemedicine via video call or telephone. Even if you end up going to the office or to the emergency room, calling first can help ensure you find the appropriate care.  In the weeks since coronavirus quarantines have begun, Dr. Shu said that one common problem is accidental poisoning  \"Kids are getting into things while parents are trying to work,\" she said. \"The supervision may not be the same during the day, and everyone's a little bit off their routine.\" Poison control is still available by phone and online throughout the coronavirus crisis.  In addition to poison cases, Dr. Shu said her office has seen lots of household injuries. Kids are swallowing coins or falling down inside and outside the house. Some, she said, are getting hurt while riding bicycles and skateboards.  Those injuries are normal, said Dr. Shu, whose own daughter needed an ER visit after falling and cutting her arm three weeks ago.  \"If you're trying to work,\" she said, \"try having a little bit of extra supervision on your children.\"  What if your child has symptoms or is feeling sick?  If your child is experiencing symptoms, Dr. Shu recommended starting with KidsDoc Symptom Checker , a website operated by the American Academy of Pediatrics . There, parents can get reliable info on everything from stomachaches to sprains.  \"Let's say [they have] a minor fever for just a day,\" Dr. Shu said. \"If the child is doing otherwise well, they may be able to manage that fever at home for another day or two.\"  The next step is to call your doctor to see whether the issue can be diagnosed via telehealth or requires an in-office visit. Dr. Shu noted that at her clinic, a telemedicine call followed by an in-office appointment within 24 hours would likely be billed as a single doctor's visit.  Despite the dangers of coronavirus, and the challenges of parenting during quarantine, Dr. Shu said that it also means kids are shielded from some common illnesses.  \"People aren't traveling as much,\" she said. \"They're not mixing germs as much.\"  It's a silver lining to all that social distancing and handwashing: In the time since the quarantine began, Dr. Shu's office has seen far fewer cases of influenza, strep throat, stomach ailments, measles and whooping cough.  Managing vaccines and annual check-ups during coronavirus  With a 4-month-old baby and a 6-year-old at home, Lauren Bachan of San Jose, California, was concerned about the risk of contracting Covid-19 at a doctor's office.  Still, when her baby's regular vaccinations were due, she decided that delaying would be far more dangerous. \"I don't know if she's going to catch Covid,\" said Bachan. \"But if she catches measles she could die.\"  When it comes to children who are 2 years old and under, Dr. Shu agreed that it's essential to attend regular checkups and scheduled vaccinations. The vaccines administered at that age protect against life-threatening diseases including measles, polio and diphtheria.  Not only that, pediatricians use regular visits with children 2 and under to check vision, screen for autism and monitor development of speech and walking. \"It's something we want to get on the radar early so we can intervene if necessary,\" Dr. Shu said.  For some of the CDC-recommended vaccines, children get additional booster shots at 4, 11 and 16 years old, Dr. Shu said. In a situation where seeing a provider is difficult or risky, Dr. Shu said it's perfectly fine to delay some shots.  \"There's a one- or two-year leeway where you can wait a little while,\" she said.  For older kids who don't need vaccines, Dr. Shu said annual checkups can often be postponed as well.  \"Those kids typically come in because they need to get checked out before they go to summer camp or do sports,\" she said. \"Those aren't happening anyway, and we feel that we can delay those.\" If you're considering putting off booster shots or annual checkups, it's still a good idea to check with your health care provider.  What can you expect at the doctor or emergency room?  When Rowe's son, Zaiden, arrived at the emergency room in Memphis, Tennessee, he and his father had their temperatures screened before they got to the front desk.  Both father and son were wearing masks — Leslie Rowe has been working overtime to sew fabric masks for her community. After the temperature screening, they spent a few hours at the hospital making sure Zaiden was okay. All of the providers they interacted with wore masks and gloves.  Those are just some of the measures that hospitals and pediatricians have put in place to protect patients and staff from Covid-19, Dr. Shu said.  Get CNN Health's weekly newsletter Sign up here to get The Results Are In with Dr. Sanjay Gupta every Tuesday from the CNN Health team.  \"We're looking to the CDC (US Centers for Disease Control and Prevention) for guidance on precautions to take in the office to prevent the spread of illness,\" Dr. Shu said.  That guidance includes extra sanitization and maintaining social distancing as patients arrive and wait for providers.  \"Rather than coming to the front desk, they check in from their cars,\" Dr. Shu explained. \"We have rooms that are dedicated to sick people that well people don't ever go in. And we're really limiting the time that they're in the actual office.\"  With those precautions in place, Zaiden got the care he needed then returned home, where he's now recovering with his family.  That meant his mom could get back to sewing masks. So far, she's made 360. \"I just leave them in a basket at my front door for people to pick up,\" she said.  \"They can actually pick them up and drop them off at our local hospital,\" Rowe said. \"Beyond that, I just pray for the people that are in contact with the virus.\"\n",
      "Sans malus\n"
     ]
    },
    {
     "data": {
      "text/html": [
       "<img src=\"https://api.afp.com/objects/api/medias?id=a1kkIS0nShZdX1sxTF9RGkJYQkxZNm0bCx0FdAJqAXRqAQgfBXIRGnUIagodexUUTERXXl5fQlMYLzJKBlFdJQouSS0kQkJVYkEoIXktQFdMRksgFE5YUF9VQ0xbIDFMShRFKFN4fC4EVGFfcwZnNysqXARcQ1EmUkFbWlkWSEBGLDBISg8FdwZ2B3Z0CwYEdg1w.jpg\"/>"
      ],
      "text/plain": [
       "<IPython.core.display.Image object>"
      ]
     },
     "metadata": {},
     "output_type": "display_data"
    },
    {
     "data": {
      "text/html": [
       "<img src=\"https://api.afp.com/objects/api/medias?id=a1kkIS0nShZdXlcxVgJEXV1EQksZcnICeHRkHgYMAHoCdR8BdAZ1aBUzUFpGWlcqUgNeRVUPTlFSeClUV1NEMlJjRSohD1pJKlUxNiFrWlVIW10rTUBRRlNDC0lfIX9EalBReXQOfGU3XV1VeUU0LCctVVZCXR4gQV1dR1dDEAkAdHEaDAYAcAJyAno%3D.jpg\"/>"
      ],
      "text/plain": [
       "<IPython.core.display.Image object>"
      ]
     },
     "metadata": {},
     "output_type": "display_data"
    },
    {
     "data": {
      "text/html": [
       "<img src=\"https://api.afp.com/objects/api/medias?id=a1kkIS0nShZdXlcxVgJEXV1EQksZdHceFnNyEWh0e3dxCmQedQRzcWkXTFBOXVQqVkYaX0JXEltfIX9GQFxVMUQgFjYsVgxbPVogNTcjFFpBU1UgV1lZUEFRXh5HLCYQTXxXJlICfytjQF5cIQkwMC0lUlVCWVNjXFVEXEBVXgUHc3MeDgcAcAZzBnZ2.jpg\"/>"
      ],
      "text/plain": [
       "<IPython.core.display.Image object>"
      ]
     },
     "metadata": {},
     "output_type": "display_data"
    },
    {
     "data": {
      "text/html": [
       "<img src=\"https://api.afp.com/objects/api/medias?id=a1kkIS0nShZdXlcxVgJEXV1EQksZcnACeHRkHgYPcXpycB8BdAZ1aBUzUFpGWlcqUgNeRVUPTlFSeClUV1NEMlJjRSohD1pJKlUxNiFrWlVIW10rTUBRRlNDC0lfIX9CcHAFF2IWVGU3XV1VeUU0LCctVVZCXR4gQV1dR1dDEAkAdHEaDAYGdgB3Bno%3D.jpg\"/>"
      ],
      "text/plain": [
       "<IPython.core.display.Image object>"
      ]
     },
     "metadata": {},
     "output_type": "display_data"
    },
    {
     "data": {
      "text/html": [
       "<img src=\"https://api.afp.com/objects/api/medias?id=a1kkIS0nShZdXlcxVgJEXV1EQksZdHUYFnNyEWh0egJ8BXIedQRzcWkXTFBOXVQqVkYaX0JXEltfIX9GQFxVMUQgFjYsVgxbPVogNTcjFFpBU1UgV1lZUEFRXh5HLCYQVnt2cGEQYydjQF5cIQkwMC0lUlVCWVNjXFVEXEBVXgUHc3MeDgcAcwByAnV0.jpg\"/>"
      ],
      "text/plain": [
       "<IPython.core.display.Image object>"
      ]
     },
     "metadata": {},
     "output_type": "display_data"
    },
    {
     "data": {
      "text/html": [
       "<img src=\"https://api.afp.com/objects/api/medias?id=a1kkIS0nShZdXlcxVgJEXV1EQksZfXICeHRkHgYPcnBwfh8BdAZ1aBUzUFpGWlcqUgNeRVUPTlFSeClUV1NEMlJjRSohD1pJKlUxNiFrWlVIW10rTUBRRlNDC0lfIX9pcgJkA3okAmU3XV1VeUU0LCctVVZCXR4gQV1dR1dDEAkAdHEaDAYGdgN0Bns%3D.jpg\"/>"
      ],
      "text/plain": [
       "<IPython.core.display.Image object>"
      ]
     },
     "metadata": {},
     "output_type": "display_data"
    },
    {
     "name": "stdout",
     "output_type": "stream",
     "text": [
      "malus\n"
     ]
    },
    {
     "data": {
      "text/html": [
       "<img src=\"https://api.afp.com/objects/api/medias?id=a1kkIS0nShZdX1sxTF9RGkJYQkxZNm0cCAQbdQFqAXtxHQAGdhsAAxQZCHQVAXFxFHxBXFFbQVdZLmxHSVULIl4hDSg8XFBAN1FnMC0iBFJUWFk1SkgZVl5VQF1YMS9ISlNHZ0YsVH5zVnJAfAcZJ2I0VlVIC0kwUE5fWV1fRh5TPTJES1dHfAZzAXByBwMBcwZwfXw%3D.jpg\"/>"
      ],
      "text/plain": [
       "<IPython.core.display.Image object>"
      ]
     },
     "metadata": {},
     "output_type": "display_data"
    },
    {
     "data": {
      "text/html": [
       "<img src=\"https://api.afp.com/objects/api/medias?id=a1kkIS0nShZdX1sxTF9RGkJYQkxZNm0fCh0FeQFqBntqBgcfBXIRGnUIaQB0ZhUUTERXXl5fQlMYLzJKBlFdJQouSS0kQkJVYkEoIXktQFdMRksgFE5YUF9VQ0xbIDFMShRFKFN4YxsgU3teMkZnNysqXARcQ1EmUkFbWlkWSEBGLDBISg8FdwZ2B3Z0CwYGcwBz.jpg\"/>"
      ],
      "text/plain": [
       "<IPython.core.display.Image object>"
      ]
     },
     "metadata": {},
     "output_type": "display_data"
    },
    {
     "data": {
      "text/html": [
       "<img src=\"https://api.afp.com/objects/api/medias?id=a1kkIS0nShZdX1sxTF9RGkJYQkxZNm0YDx0FdQ5qAXJqAQIfBXIRGnUIaAh1BhUUTERXXl5fQlMYLzJKBlFdJQouSS0kQkJVYkEoIXktQFdMRksgFE5YUF9VQ0xbIDFMShRFKFN4YxsgU3teMkZnNysqXARcQ1EmUkFbWlkWSEBGLDBISg8FdwZ2B3Z0CwYGcwd5.jpg\"/>"
      ],
      "text/plain": [
       "<IPython.core.display.Image object>"
      ]
     },
     "metadata": {},
     "output_type": "display_data"
    },
    {
     "data": {
      "text/html": [
       "<img src=\"https://api.afp.com/objects/api/medias?id=a1kkIS0nShZdXlcxVgJEXV1EQksZcnACeHRkHgYPcXpycB8BdAZ1aBUzUFpGWlcqUgNeRVUPTlFSeClUV1NEMlJjRSohD1pJKlUxNiFrWlVIW10rTUBRRlNDC0lfIX9CcHAFF2IWVGU3XV1VeUU0LCctVVZCXR4gQV1dR1dDEAkAdHEaDAYGdgB3Bno%3D.jpg\"/>"
      ],
      "text/plain": [
       "<IPython.core.display.Image object>"
      ]
     },
     "metadata": {},
     "output_type": "display_data"
    },
    {
     "data": {
      "text/html": [
       "<img src=\"https://api.afp.com/objects/api/medias?id=a1kkIS0nShZdXlcxVgJEXV1EQksZdHUYFnNyEWh0egJ8BXIedQRzcWkXTFBOXVQqVkYaX0JXEltfIX9GQFxVMUQgFjYsVgxbPVogNTcjFFpBU1UgV1lZUEFRXh5HLCYQVnt2cGEQYydjQF5cIQkwMC0lUlVCWVNjXFVEXEBVXgUHc3MeDgcAcwByAnV0.jpg\"/>"
      ],
      "text/plain": [
       "<IPython.core.display.Image object>"
      ]
     },
     "metadata": {},
     "output_type": "display_data"
    },
    {
     "data": {
      "text/html": [
       "<img src=\"https://api.afp.com/objects/api/medias?id=a1kkIS0nShZdXlcxVgJEXV1EQksZfXICeHRkHgYPcnBwfh8BdAZ1aBUzUFpGWlcqUgNeRVUPTlFSeClUV1NEMlJjRSohD1pJKlUxNiFrWlVIW10rTUBRRlNDC0lfIX9pcgJkA3okAmU3XV1VeUU0LCctVVZCXR4gQV1dR1dDEAkAdHEaDAYGdgN0Bns%3D.jpg\"/>"
      ],
      "text/plain": [
       "<IPython.core.display.Image object>"
      ]
     },
     "metadata": {},
     "output_type": "display_data"
    },
    {
     "name": "stdout",
     "output_type": "stream",
     "text": [
      "84 \n",
      " He advised Americans to cancel social gatherings and wear masks in public.  He warned of a disease resurgence if restrictions were lifted too soon.  He was also born in the 19th century.  Before there was Dr. Anthony Fauci , there was Dr. Thomas Tuttle, a Washington health commissioner who shepherded the state through the devastating 1918 influenza pandemic.  Dr. Thomas Tuttle was a bespectacled physician whose advice for ending the 1918 influenza pandemic closely mirrors the guidance Dr. Anthony Fauci has shared in 2020.  The comparison was first made in April by Crosscut, a nonprofit newsroom that concentrates on the Pacific Northwest, and Forbes  A century separates the two physicians, and they worked under different circumstances: Tuttle was a state official and Fauci is a national advisor on coronavirus. Tuttle communicated his health recommendations via telegram and Fauci appears weekly on TV. And the pandemics of their eras were two very different beasts.  But the two have shared similar advice for ending pandemics -- social distancing, masks and quarantine among them. And it doesn't hurt that the two bespectacled physicians look alike.  He raised the notion of asymptomatic transmission  In battling the 1918 influenza pandemic, Tuttle raised the notion of asymptomatic transmission, though he didn't call it that.  In the Washington Board of Health's Twelfth Biennial Report , published in 1919, Tuttle wrote that a \"carrier\" was a \"person who has been exposed to a disease but who is apparently immune from that disease, and yet will carry with him or her the germs of the disease and transmit them to others.\"  Dr. Anthony Fauci sounded alarms about asymptomatic transmission of the coronavirus in January, two months before it would become a pandemic. Dr. Tuttle drew the same conclusion in 1918.  He noted that among passengers on a steamship traveling from Nome, Alaska, to Seattle, Washington, 150 of them showed signs of influenza. This was despite no reported cases of influenza in Nome -- proof that the vessel must have carried asymptomatic passengers.  Now, community spread is a hallmark of the virus. Fauci said he believed asymptomatic transmission was occurring in January, two months before the coronavirus would become a pandemic.  Asymptomatic transmission is the reason health officials today changed their stance on masks.  He recommended strict rules  Like Fauci, Tuttle asked the public to make fairly drastic changes to weaken the virus's spread -- and that includes social distancing and wearing masks.  \"All public gatherings except those absolutely essential to the maintenance of life and to the prosecution of essential war industries were prohibited,\" Tuttle wrote.  Nurses care for victims of the 1918 influenza pandemic outdoors in canvas tents.  He advised people to wear masks in public and quarantine themselves (to the chagrin of the public, but more on that below), too. In a retrospective, the Centers for Disease Control and Prevention said that these efforts were \"applied unevenly.\"  His strategy for Washington state seemed to work, though: With early intervention and a nascent vaccine, Tuttle wrote that the death rate from influenza in the state was \"as low as any state in the US, if not lower than any other state.\"  He faced pushback  As with Fauci, not every arm of the government -- or the public -- agreed with Tuttle's proposed restrictions.  In a telegram to the US Public Health Service, Tuttle asked how long a period of quarantine should last for patients with the virus.  \"Service does not recommend quarantine against influenza,\" the service responded.  Photos: Dr. Anthony Fauci's career under 6 US presidents Dr. Anthony Fauci has been the United States' top infectious disease expert since 1984. Hide Caption 1 of 14 Photos: Dr. Anthony Fauci's career under 6 US presidents Fauci, right, briefs President Ronald Reagan, far left, and other members of the President's Commission on AIDS in 1987. Hide Caption 2 of 14 Photos: Dr. Anthony Fauci's career under 6 US presidents Fauci, as the chief of AIDS research at the National Institutes of Health, talks with colleagues in his laboratory in 1990. Hide Caption 3 of 14 Photos: Dr. Anthony Fauci's career under 6 US presidents Fauci testifies to a House subcommittee during a 2001 hearing about vaccines for biological weapon defense. Hide Caption 4 of 14 Photos: Dr. Anthony Fauci's career under 6 US presidents Fauci looks over his notes before testifying to a Senate committee about SARS in 2003. Hide Caption 5 of 14 Photos: Dr. Anthony Fauci's career under 6 US presidents Fauci, right, speaks with Health and Human Services Secretary Mike Leavitt at a pandemic planning conference in Washington in 2005. At center is Dr. Julie Gerberding, director of the Centers for Disease Control and Prevention. Hide Caption 6 of 14 Photos: Dr. Anthony Fauci's career under 6 US presidents Fauci speaks to Dr. H. Clifford Lane at the National Institutes of Health in 2007. Hide Caption 7 of 14 Photos: Dr. Anthony Fauci's career under 6 US presidents In 2008, US President George W. Bush presents the Presidential Medal of Freedom to Fauci \"for his determined and aggressive efforts to help others live longer and healthier lives.\" Hide Caption 8 of 14 Photos: Dr. Anthony Fauci's career under 6 US presidents Fauci is seen in the foreground while testifying to the House about an H1N1 vaccine in 2009. Hide Caption 9 of 14 Photos: Dr. Anthony Fauci's career under 6 US presidents Fauci hugs Nina Pham, a Texas nurse who had been infected with Ebola, after she was declared Ebola-free in 2014. Hide Caption 10 of 14 Photos: Dr. Anthony Fauci's career under 6 US presidents Fauci talks with President Barack Obama while Health and Human Services Secretary Sylvia Mathews Burwell looks on in 2014. It was during a tour of the Vaccine Research Center at the National Institutes of Health. Hide Caption 11 of 14 Photos: Dr. Anthony Fauci's career under 6 US presidents In 2016, Fauci listens during a discussion about the Zika virus at the Georgetown University Law Center in Washington. Hide Caption 12 of 14 Photos: Dr. Anthony Fauci's career under 6 US presidents Fauci and President Donald Trump look at coronavirus models during a tour of the National Institutes of Health in March. Hide Caption 13 of 14 Photos: Dr. Anthony Fauci's career under 6 US presidents Fauci displays guidelines to slow the spread of the coronavirus during a White House news conference in March. Hide Caption 14 of 14  In 1918, after about six weeks of social distancing (though it wasn't called that then), Tuttle wrote that restrictions were lifted -- and within two weeks, infection rates quickly grew.  He warned of a resurgence  Despite the progress the state and nation had made in quelling the pandemic, Tuttle warned of a resurgence later in the season. Though the 1918 influenza outbreak began in the fall and peaked in winter, he warned that it could peak again in the following winter after a relatively mild summer.  \"Our fight with this disease is not finished,\" he wrote. \"In fact, we are simply in the midst of it. We must, therefore, be prepared to meet the situation.\"  He turned out to be right -- the pandemic stretched into spring 1919. By its end, at least 50 million people worldwide had died from it, including 675,000 Americans.  The coronavirus death toll in America isn't suspected to near that -- more than 135,000 deaths is the latest figure cited by the White House -- but a US resurgence is all but guaranteed  \"I'm almost certain it will come back, because the virus is so transmissible and it's globally spread,\" Fauci said during an Economic Club of Washington webinar last week.  Fauci predicted the coronavirus will resurge in the US in the fall and winter, just as flu season kicks off. To prepare for it, Americans must be ready to resume stay-at-home orders at a moment's notice.\n",
      "Sans malus\n"
     ]
    },
    {
     "data": {
      "text/html": [
       "<img src=\"https://api.afp.com/objects/api/medias?id=a1kkIS0nShZdX1sxTF9RGkJYQkxZNm0dAR0FcQZqAnJ8HQMEdxsAAxQZCHZmD3oQFHxBXFFbQVdZLmxHSVULIl4hDSg8XFBAN1FnMC0iBFJUWFk1SkgZVl5VQF1YMS9ISlNHZ0YsVH52RnUBIXV4c2I0VlVIC0kwUE5fWV1fRh5TPTJES1dHfAZzAXByBwAJdw11dXA%3D.jpg\"/>"
      ],
      "text/plain": [
       "<IPython.core.display.Image object>"
      ]
     },
     "metadata": {},
     "output_type": "display_data"
    },
    {
     "data": {
      "text/html": [
       "<img src=\"https://api.afp.com/objects/api/medias?id=a1kkIS0nShZdXlcxVgJEXV1EQksZd3IUFnNyEWh0d3N8ZWgedQRzcWkXTFBOXVQqVkYaX0JXEltfIX9GQFxVMUQgFjYsVgxbPVogNTcjFFpBU1UgV1lZUEFRXh5HLCYQfQVBC0UyBQ9jQF5cIQkwMC0lUlVCWVNjXFVEXEBVXgUHc3MeDgcAdgJzBnV3.jpg\"/>"
      ],
      "text/plain": [
       "<IPython.core.display.Image object>"
      ]
     },
     "metadata": {},
     "output_type": "display_data"
    },
    {
     "data": {
      "text/html": [
       "<img src=\"https://api.afp.com/objects/api/medias?id=a1kkIS0nShZdXlcxVgJEXV1EQksZdHYCeHRkHgYJY3AGeh8BdAZ1aBUzUFpGWlcqUgNeRVUPTlFSeClUV1NEMlJjRSohD1pJKlUxNiFrWlVIW10rTUBRRlNDC0lfIX9HbXhcB1t3SmU3XV1VeUU0LCctVVZCXR4gQV1dR1dDEAkAdHEaDAEMeA90CXc%3D.jpg\"/>"
      ],
      "text/plain": [
       "<IPython.core.display.Image object>"
      ]
     },
     "metadata": {},
     "output_type": "display_data"
    },
    {
     "data": {
      "text/html": [
       "<img src=\"https://api.afp.com/objects/api/medias?id=a1kkIS0nShZdX1sxTF9RGkJYQkxZNm0cAAsbcAdzH3FxBh4DcRsAAxQZCHYUD3wQFHxBXFFbQVdZLmxHSVULIl4hDSg8XFBAN1FnMC0iBFJUWFk1SkgZVl5VQF1YMS9ISlNHZ0YsVH4MQUZyBlgtc2I0VlVIC0kwUE5fWV1fRh5TPTJES1dHfAZzAXByBwAJcA1ydXY%3D.jpg\"/>"
      ],
      "text/plain": [
       "<IPython.core.display.Image object>"
      ]
     },
     "metadata": {},
     "output_type": "display_data"
    },
    {
     "data": {
      "text/html": [
       "<img src=\"https://api.afp.com/objects/api/medias?id=a1kkIS0nShZdX1sxTF9RGkJYQkxZNm0fCgsbcANzH3F9HQEEa3UHFRt3dnIUdHNoaFhdVllcQlddayhdXg1XKFN4WzorU0FDIRI0LCB7UkBDV0g2XABXWVddSFZCKCdeWEESMF4hDXAxdgBVBQ13YzYpVVwQR00sWkZYWl1bC11ONStfXEEJcAF0A3RwAwgDfQBxdA%3D%3D.jpg\"/>"
      ],
      "text/plain": [
       "<IPython.core.display.Image object>"
      ]
     },
     "metadata": {},
     "output_type": "display_data"
    },
    {
     "data": {
      "text/html": [
       "<img src=\"https://api.afp.com/objects/api/medias?id=a1kkIS0nShZdXlcxVgJEXV1EQksZd3IaFnNyEWh0dXp0aGgedQRzcWkXTFBOXVQqVkYaX0JXEltfIX9GQFxVMUQgFjYsVgxbPVogNTcjFFpBU1UgV1lZUEFRXh5HLCYQaEhEFXtxZ3djQF5cIQkwMC0lUlVCWVNjXFVEXEBVXgUHc3MeDgcBcQFyCXp3.jpg\"/>"
      ],
      "text/plain": [
       "<IPython.core.display.Image object>"
      ]
     },
     "metadata": {},
     "output_type": "display_data"
    },
    {
     "name": "stdout",
     "output_type": "stream",
     "text": [
      "malus\n"
     ]
    },
    {
     "data": {
      "text/html": [
       "<img src=\"https://api.afp.com/objects/api/medias?id=a1kkIS0nShZdX1sxTF9RGkJYQkxZNm0dAR0FcQZqAnJ8HQMEdxsAAxQZCHZmD3oQFHxBXFFbQVdZLmxHSVULIl4hDSg8XFBAN1FnMC0iBFJUWFk1SkgZVl5VQF1YMS9ISlNHZ0YsVH52RnUBIXV4c2I0VlVIC0kwUE5fWV1fRh5TPTJES1dHfAZzAXByBwAJdw11dXA%3D.jpg\"/>"
      ],
      "text/plain": [
       "<IPython.core.display.Image object>"
      ]
     },
     "metadata": {},
     "output_type": "display_data"
    },
    {
     "data": {
      "text/html": [
       "<img src=\"https://api.afp.com/objects/api/medias?id=a1kkIS0nShZdXlcxVgJEXV1EQksZd3IUFnNyEWh0d3N8ZWgedQRzcWkXTFBOXVQqVkYaX0JXEltfIX9GQFxVMUQgFjYsVgxbPVogNTcjFFpBU1UgV1lZUEFRXh5HLCYQfQVBC0UyBQ9jQF5cIQkwMC0lUlVCWVNjXFVEXEBVXgUHc3MeDgcAdgJzBnV3.jpg\"/>"
      ],
      "text/plain": [
       "<IPython.core.display.Image object>"
      ]
     },
     "metadata": {},
     "output_type": "display_data"
    },
    {
     "data": {
      "text/html": [
       "<img src=\"https://api.afp.com/objects/api/medias?id=a1kkIS0nShZdX1sxTF9RGkJYQkxZNm0cAAsbcAdzH3FxBh4DcRsAAxQZCHYUD3wQFHxBXFFbQVdZLmxHSVULIl4hDSg8XFBAN1FnMC0iBFJUWFk1SkgZVl5VQF1YMS9ISlNHZ0YsVH4MQUZyBlgtc2I0VlVIC0kwUE5fWV1fRh5TPTJES1dHfAZzAXByBwAJcA1ydXY%3D.jpg\"/>"
      ],
      "text/plain": [
       "<IPython.core.display.Image object>"
      ]
     },
     "metadata": {},
     "output_type": "display_data"
    },
    {
     "data": {
      "text/html": [
       "<img src=\"https://api.afp.com/objects/api/medias?id=a1kkIS0nShZdX1sxTF9RGkJYQkxZNm0fCgsbcANzH3F9HQEEa3UHFRt3dnIUdHNoaFhdVllcQlddayhdXg1XKFN4WzorU0FDIRI0LCB7UkBDV0g2XABXWVddSFZCKCdeWEESMF4hDXAxdgBVBQ13YzYpVVwQR00sWkZYWl1bC11ONStfXEEJcAF0A3RwAwgDfQBxdA%3D%3D.jpg\"/>"
      ],
      "text/plain": [
       "<IPython.core.display.Image object>"
      ]
     },
     "metadata": {},
     "output_type": "display_data"
    },
    {
     "data": {
      "text/html": [
       "<img src=\"https://api.afp.com/objects/api/medias?id=a1kkIS0nShZdXlcxVgJEXV1EQksZdHYCeHRkHgYJY3AGeh8BdAZ1aBUzUFpGWlcqUgNeRVUPTlFSeClUV1NEMlJjRSohD1pJKlUxNiFrWlVIW10rTUBRRlNDC0lfIX9HbXhcB1t3SmU3XV1VeUU0LCctVVZCXR4gQV1dR1dDEAkAdHEaDAEMeA90CXc%3D.jpg\"/>"
      ],
      "text/plain": [
       "<IPython.core.display.Image object>"
      ]
     },
     "metadata": {},
     "output_type": "display_data"
    },
    {
     "data": {
      "text/html": [
       "<img src=\"https://api.afp.com/objects/api/medias?id=a1kkIS0nShZdXlcxVgJEXV1EQksZd3EcFnNyEWh0dgdxYHsedQRzcWkXTFBOXVQqVkYaX0JXEltfIX9GQFxVMUQgFjYsVgxbPVogNTcjFFpBU1UgV1lZUEFRXh5HLCYQDnYCK3YtXSJjQF5cIQkwMC0lUlVCWVNjXFVEXEBVXgUHc3MeDgcAeAZzA3B2.jpg\"/>"
      ],
      "text/plain": [
       "<IPython.core.display.Image object>"
      ]
     },
     "metadata": {},
     "output_type": "display_data"
    },
    {
     "name": "stdout",
     "output_type": "stream",
     "text": [
      "85 \n",
      " Ottawa, Canada (CNN) There was a long pause on the phone before Nick Beaton could finish his thoughts on how to best plan the funeral his wife deserves.  \"I'm not sure exactly, I'm not sure now, we're basically waiting until ...\" Beaton said.  And then there was the catch in his voice, it was loud and clear.  \"...until we have Kristen back home.\"  Beaton is remarkably composed as he copes with his grief, now complicated in unimaginable ways by the coronavirus pandemic.  His wife Kristen Beaton was murdered on her way to work as a healthcare worker in rural Nova Scotia two weekends ago. Police say she was a victim of Canada's deadliest mass murder , pulled over by a gunman impersonating an officer.  Over the course of 12 hours between April 18 and 19, the suspect rampaged through this quiet, rural corner of Canada, shooting some people dead and setting fires that killed others.  In all, 22 people lost their lives. Police say the shooter knew and targeted some of his victims; others, like Kristen, were complete strangers.  In normal times, there would have been a wake and a funeral by now for Kristen, meaningful hugs from friends and family. But at the moment, none of that is possible.  With Nova Scotia still on lockdown like much of Canada, gatherings of more than five people are banned. Beaton has decided to put off planning a funeral for the time being.  On Sunday, family, friends and strangers did what they could to help Beaton and his son grieve with a memorial parade retracing the route Kristen took to work that morning. Dozens of cars joined a slow, steady procession, some with balloons, flowers and notes pinned to bumpers and windows.  \"We're not rushing it, we'll do it classy and the best we can with this whole Covid thing we have going on. I mean we won't have full closure, everything's different, right? We won't have full closure until we have something as a family,\" he said.  Beaton spoke to CNN from his home in Nova Scotia while watching his 3-year-old son Dax play in the yard. He says he is trying to stay strong for his wife and son, but some moments are just too much.  \"I tell you I absolutely lost it this morning at home, I had been holding it together. He's got this old cell phone of ours, he said he was going to pick up the phone and call his Mummy,\" Beaton said.  He and Kristen had special plans for this week.  \"She was pregnant with my unborn baby,\" Beaton said, his voice trailing off for a moment. \"I know in my heart what it would be like if she was here right now, we had the whole week planned out because I was off too. We were going to get the spare room ready for the baby.\"  While the tributes have poured in for the victims of the massacre, it is Beaton's plea for what he said was his wife's dying wish that has touched a nerve across the country.  Kristen Beaton posted an image of herself in a mask days before her murder.  \"Kristen up until her last breath only had two surgical masks. Kristen, herself, had two surgical masks a day up until Sunday, that's all she had, nothing changed,\" Beaton said.  As a frontline healthcare worker, Beaton says Kristen worried that without adequate personal protective equipment (PPE), still in short supply in Canada, she would bring the virus back home to her little boy.  But Canada's lack of preparation in protecting the elderly has taken a toll. Elderly residents of care homes make up nearly half of the country's deaths from Covid-19 -- and workers in these facilities are dealing with an acute shortage of PPE.  Canadian government and public health officials have described the global competition for protective equipment like a \"wild west\" where no rules apply. Canada has established its own supply chain in China and is working to produce more domestically. But for healthcare workers like Kristen, who look after vulnerable people in long-term care centers or private homes, there is still a severe shortage of gear.  Beaton says Kristen already believed her life was in danger when she left for work on the morning of the massacre. Her fears were not about a gunman, but an insidious virus that she felt unable to protect her family from.  Canadian politicians say they have heard Beaton's plea loud and clear. Beaton told CNN that the Premier of Nova Scotia said he was proud of him for voicing his concerns and that Kristen would have been proud. He recently spoke to the Prime Minister Justin Trudeau who assured him he was doing everything he could to get PPE to healthcare workers like Kristen.  There is also help from an unlikely source. Canadian actor Ryan Reynolds and hockey Olympian Haley Wickenheiser announced on Twitter that they would work with charities to send PPE to Nova Scotia, in honor of Kristen.  Beaton says the cause deserves a \"big mouth\" like him, and that he feels in some way his wife's passionate plea for protection will change things for healthcare workers throughout Canada and beyond.  \"Kristen just wanted to go to work and be safe just like everyone else,\" Beaton said. \"I want to get Kristen's voice heard while people are listening.\"\n",
      "Sans malus\n"
     ]
    },
    {
     "data": {
      "text/html": [
       "<img src=\"https://api.afp.com/objects/api/medias?id=a1kkIS0nShZdX1sxTF9RGkJYQkxZNm0cCgMbcg9qAXR3HQAAcxsAAxQZCH5%2BBwB0FHxBXFFbQVdZLmxHSVULIl4hDSg8XFBAN1FnMC0iBFJUWFk1SkgZVl5VQF1YMS9ISlNHZ0YsVH48WVNeA30KfGI0VlVIC0kwUE5fWV1fRh5TPTJES1dHfAZzAXByBwUGdgR2dHc%3D.jpg\"/>"
      ],
      "text/plain": [
       "<IPython.core.display.Image object>"
      ]
     },
     "metadata": {},
     "output_type": "display_data"
    },
    {
     "data": {
      "text/html": [
       "<img src=\"https://api.afp.com/objects/api/medias?id=a1kkIS0nShZdXlcxVgJEXV1EQksZc3ICeHRkHgYCYnoKAh8BdAZ1aBUzUFpGWlcqUgNeRVUPTlFSeClUV1NEMlJjRSohD1pJKlUxNiFrWlVIW10rTUBRRlNDC0lfIX9UUlBaBn4OCWU3XV1VeUU0LCctVVZCXR4gQV1dR1dDEAkAdHEaDAYCcwdzB3M%3D.jpg\"/>"
      ],
      "text/plain": [
       "<IPython.core.display.Image object>"
      ]
     },
     "metadata": {},
     "output_type": "display_data"
    },
    {
     "data": {
      "text/html": [
       "<img src=\"https://api.afp.com/objects/api/medias?id=a1kkIS0nShZdXlcxVgJEXV1EQksZdHYCeHRkHgYCY3IQdR8BdAZ1aBUzUFpGWlcqUgNeRVUPTlFSeClUV1NEMlJjRSohD1pJKlUxNiFrWlVIW10rTUBRRlNDC0lfIX9UUlBaBn4OCWU3XV1VeUU0LCctVVZCXR4gQV1dR1dDEAkAdHEaDAYCcwdzBnE%3D.jpg\"/>"
      ],
      "text/plain": [
       "<IPython.core.display.Image object>"
      ]
     },
     "metadata": {},
     "output_type": "display_data"
    },
    {
     "data": {
      "text/html": [
       "<img src=\"https://api.afp.com/objects/api/medias?id=a1kkIS0nShZdX1sxTF9RGkJYQkxZNm0VDh0Edhh0A3NqAwEIa3UHFRt3dwkVAw1oaFhdVllcQlddayhdXg1XKFN4WzorU0FDIRI0LCB7UkBDV0g2XABXWVddSFZCKCdeWEESMF4hDSAnfGFJCXExYzYpVVwQR00sWkZYWl1bC11ONStfXEEJcAF0A3RwAAEHcQ13fA%3D%3D.jpg\"/>"
      ],
      "text/plain": [
       "<IPython.core.display.Image object>"
      ]
     },
     "metadata": {},
     "output_type": "display_data"
    },
    {
     "data": {
      "text/html": [
       "<img src=\"https://api.afp.com/objects/api/medias?id=a1kkIS0nShZdXlcxVgJEXV1EQksZdHoaFnNyEWh0eHtzeXoedQRzcWkXTFBOXVQqVkYaX0JXEltfIX9GQFxVMUQgFjYsVgxbPVogNTcjFFpBU1UgV1lZUEFRXh5HLCYQegNxC3MDYC1jQF5cIQkwMC0lUlVCWVNjXFVEXEBVXgUHc3MeDgcAdAJ9BnJ0.jpg\"/>"
      ],
      "text/plain": [
       "<IPython.core.display.Image object>"
      ]
     },
     "metadata": {},
     "output_type": "display_data"
    },
    {
     "data": {
      "text/html": [
       "<img src=\"https://api.afp.com/objects/api/medias?id=a1kkIS0nShZdX1sxTF9RGkJYQkxZNm0cAAEbcAJyH3F2BB4CdQBuBAIWZghjBg8QaABlQFtTRlRZKikDU0JTflQsVH4uS19RNEckYzEvXQRGT1YkSV5RGFFcSFVTKzZAXEFVMhE0WSd4UVN%2BFE0MADRgS1ZBUwU0TERXXl5fQlMQIDpdUEBRMgp0BnJ2BQQCdAN3dXRx.jpg\"/>"
      ],
      "text/plain": [
       "<IPython.core.display.Image object>"
      ]
     },
     "metadata": {},
     "output_type": "display_data"
    },
    {
     "name": "stdout",
     "output_type": "stream",
     "text": [
      "malus\n"
     ]
    },
    {
     "data": {
      "text/html": [
       "<img src=\"https://api.afp.com/objects/api/medias?id=a1kkIS0nShZdX1sxTF9RGkJYQkxZNm0cAAEbcAJyH3F2BB4CdQBuBAIWZghjBg8QaABlQFtTRlRZKikDU0JTflQsVH4uS19RNEckYzEvXQRGT1YkSV5RGFFcSFVTKzZAXEFVMhE0WSd4UVN%2BFE0MADRgS1ZBUwU0TERXXl5fQlMQIDpdUEBRMgp0BnJ2BQQCdAN3dXRx.jpg\"/>"
      ],
      "text/plain": [
       "<IPython.core.display.Image object>"
      ]
     },
     "metadata": {},
     "output_type": "display_data"
    },
    {
     "data": {
      "text/html": [
       "<img src=\"https://api.afp.com/objects/api/medias?id=a1kkIS0nShZdX1sxTF9RGkJYQkxZNm0cCgMbcg9qAXR3HQAAcxsAAxQZCH5%2BBwB0FHxBXFFbQVdZLmxHSVULIl4hDSg8XFBAN1FnMC0iBFJUWFk1SkgZVl5VQF1YMS9ISlNHZ0YsVH48WVNeA30KfGI0VlVIC0kwUE5fWV1fRh5TPTJES1dHfAZzAXByBwUGdgR2dHc%3D.jpg\"/>"
      ],
      "text/plain": [
       "<IPython.core.display.Image object>"
      ]
     },
     "metadata": {},
     "output_type": "display_data"
    },
    {
     "data": {
      "text/html": [
       "<img src=\"https://api.afp.com/objects/api/medias?id=a1kkIS0nShZdXlcxVgJEXV1EQksZc3ICeHRkHgYCYnoKAh8BdAZ1aBUzUFpGWlcqUgNeRVUPTlFSeClUV1NEMlJjRSohD1pJKlUxNiFrWlVIW10rTUBRRlNDC0lfIX9UUlBaBn4OCWU3XV1VeUU0LCctVVZCXR4gQV1dR1dDEAkAdHEaDAYCcwdzB3M%3D.jpg\"/>"
      ],
      "text/plain": [
       "<IPython.core.display.Image object>"
      ]
     },
     "metadata": {},
     "output_type": "display_data"
    },
    {
     "data": {
      "text/html": [
       "<img src=\"https://api.afp.com/objects/api/medias?id=a1kkIS0nShZdXlcxVgJEXV1EQksZd3ccFnNyEWh0eAh2fnkedQRzcWkXTFBOXVQqVkYaX0JXEltfIX9GQFxVMUQgFjYsVgxbPVogNTcjFFpBU1UgV1lZUEFRXh5HLCYQbGtzLH4odC5jQF5cIQkwMC0lUlVCWVNjXFVEXEBVXgUHc3MeDgcAdAd9AHdy.jpg\"/>"
      ],
      "text/plain": [
       "<IPython.core.display.Image object>"
      ]
     },
     "metadata": {},
     "output_type": "display_data"
    },
    {
     "data": {
      "text/html": [
       "<img src=\"https://api.afp.com/objects/api/medias?id=a1kkIS0nShZdXlcxVgJEXV1EQksZd3ccFnNyEWh0dwt3fmgedQRzcWkXTFBOXVQqVkYaX0JXEltfIX9GQFxVMUQgFjYsVgxbPVogNTcjFFpBU1UgV1lZUEFRXh5HLCYQdgFXBgUJWCxjQF5cIQkwMC0lUlVCWVNjXFVEXEBVXgUHc3MeDgcAdw92AHBz.jpg\"/>"
      ],
      "text/plain": [
       "<IPython.core.display.Image object>"
      ]
     },
     "metadata": {},
     "output_type": "display_data"
    },
    {
     "data": {
      "text/html": [
       "<img src=\"https://api.afp.com/objects/api/medias?id=a1kkIS0nShZdXlcxVgJEXV1EQksZdHYCeHRkHgYCY3IQdR8BdAZ1aBUzUFpGWlcqUgNeRVUPTlFSeClUV1NEMlJjRSohD1pJKlUxNiFrWlVIW10rTUBRRlNDC0lfIX9UUlBaBn4OCWU3XV1VeUU0LCctVVZCXR4gQV1dR1dDEAkAdHEaDAYCcwdzBnE%3D.jpg\"/>"
      ],
      "text/plain": [
       "<IPython.core.display.Image object>"
      ]
     },
     "metadata": {},
     "output_type": "display_data"
    },
    {
     "name": "stdout",
     "output_type": "stream",
     "text": [
      "87 \n",
      " Ottawa (CNN) Canada has a higher coronavirus death rate than previously predicted, even though the country has a growth rates slower that most countries -- including the United States -- according to a new snapshot and updated modeling Tuesday.  The epidemic growth rate was doubling every three days, but now has slowed to doubling every 16, Canadian public health officials say. But Canada is now reporting nearly 3,000 coronavirus deaths, much higher than originally predicted.  \"We are seeing the tragic paradox of the epidemic playing out,\" said Dr. Theresa Tam, Canada's Chief Public Health Officer, during a presentation of the new modeling Tuesday.  \"As the epidemic comes under control, and the growth of cases slows, the severe outcomes and deaths continue to accrue, as Covid-19 takes a heavy toll among highly susceptible populations,\" said Dr. Tam.  Less than two weeks ago, Canadian officials had predicted a case fatality rate of about 2.2%. It now stands at 5.5% with hundreds more deaths possible in the next week alone.  Read More\n",
      "Sans malus\n"
     ]
    },
    {
     "data": {
      "text/html": [
       "<img src=\"https://api.afp.com/objects/api/medias?id=a1kkIS0nShZdX1sxTF9RGkJYQkxZNm0VDx0Fdg5qBHJqAwgCa3UHFRt3dgwffH9oaFhdVllcQlddayhdXg1XKFN4WzorU0FDIRI0LCB7UkBDV0g2XABXWVddSFZCKCdeWEESMF4hDSYPYwMBNVw2YzYpVVwQR00sWkZYWl1bC11ONStfXEEJcAF0A3RwAwgDdAZ4fQ%3D%3D.jpg\"/>"
      ],
      "text/plain": [
       "<IPython.core.display.Image object>"
      ]
     },
     "metadata": {},
     "output_type": "display_data"
    },
    {
     "data": {
      "text/html": [
       "<img src=\"https://api.afp.com/objects/api/medias?id=a1kkIS0nShZdX1sxTF9RGkJYQkxZNm0dAB0FdgVqBXdqAAMFa3UHFRt3dnoUZ2BoaFhdVllcQlddayhdXg1XKFN4WzorU0FDIRI0LCB7UkBDV0g2XABXWVddSFZCKCdeWEESMF4hDSYPYwMBNVw2YzYpVVwQR00sWkZYWl1bC11ONStfXEEJcAF0A3RwAwgDdAZ4cg%3D%3D.jpg\"/>"
      ],
      "text/plain": [
       "<IPython.core.display.Image object>"
      ]
     },
     "metadata": {},
     "output_type": "display_data"
    },
    {
     "data": {
      "text/html": [
       "<img src=\"https://api.afp.com/objects/api/medias?id=a1kkIS0nShZdX1sxTF9RGkJYQkxZNm0bCx0FdAJqAXRqAAAGa3UHFRt3dnEdBW9oaFhdVllcQlddayhdXg1XKFN4WzorU0FDIRI0LCB7UkBDV0g2XABXWVddSFZCKCdeWEESMF4hDXskVnRidwcsYzYpVVwQR00sWkZYWl1bC11ONStfXEEJcAF0A3RwAwgFdgR2cA%3D%3D.jpg\"/>"
      ],
      "text/plain": [
       "<IPython.core.display.Image object>"
      ]
     },
     "metadata": {},
     "output_type": "display_data"
    },
    {
     "data": {
      "text/html": [
       "<img src=\"https://api.afp.com/objects/api/medias?id=a1kkIS0nShZdX1sxTF9RGkJYQkxZNm0dDx0NeBh3AXRqAwcfBXIRGnUJfgBsYBUUTERXXl5fQlMYLzJKBlFdJQouSS0kQkJVYkEoIXktQFdMRksgFE5YUF9VQ0xbIDFMShRFKFN4CCIhd2MDd1lnNysqXARcQ1EmUkFbWlkWSEBGLDBISg8FdwZ2B3Z0CwQCdANw.jpg\"/>"
      ],
      "text/plain": [
       "<IPython.core.display.Image object>"
      ]
     },
     "metadata": {},
     "output_type": "display_data"
    },
    {
     "data": {
      "text/html": [
       "<img src=\"https://api.afp.com/objects/api/medias?id=a1kkIS0nShZdXlcxVgJEXV1EQksZc3ICeHRkHgYCCXMXeB8BdAZ1aBUzUFpGWlcqUgNeRVUPTlFSeClUV1NEMlJjRSohD1pJKlUxNiFrWlVIW10rTUBRRlNDC0lfIX9ZenlQGXY3BWU3XV1VeUU0LCctVVZCXR4gQV1dR1dDEAkAdHEaDAYDcwd1CXM%3D.jpg\"/>"
      ],
      "text/plain": [
       "<IPython.core.display.Image object>"
      ]
     },
     "metadata": {},
     "output_type": "display_data"
    },
    {
     "data": {
      "text/html": [
       "<img src=\"https://api.afp.com/objects/api/medias?id=a1kkIS0nShZdX1sxTF9RGkJYQkxZNm0ZAR0FdQZqAndzHQIDa3UHFRt3c20bfQxoaFhdVllcQlddayhdXg1XKFN4WzorU0FDIRI0LCB7UkBDV0g2XABXWVddSFZCKCdeWEESMF4hDXArSgBVDAUHYzYpVVwQR00sWkZYWl1bC11ONStfXEEJcAF0A3RwBgAFcgRwcA%3D%3D.jpg\"/>"
      ],
      "text/plain": [
       "<IPython.core.display.Image object>"
      ]
     },
     "metadata": {},
     "output_type": "display_data"
    },
    {
     "name": "stdout",
     "output_type": "stream",
     "text": [
      "malus\n"
     ]
    },
    {
     "data": {
      "text/html": [
       "<img src=\"https://api.afp.com/objects/api/medias?id=a1kkIS0nShZdXlcxVgJEXV1EQksZc3ICeHRkHgYCCXMXeB8BdAZ1aBUzUFpGWlcqUgNeRVUPTlFSeClUV1NEMlJjRSohD1pJKlUxNiFrWlVIW10rTUBRRlNDC0lfIX9ZenlQGXY3BWU3XV1VeUU0LCctVVZCXR4gQV1dR1dDEAkAdHEaDAYDcwd1CXM%3D.jpg\"/>"
      ],
      "text/plain": [
       "<IPython.core.display.Image object>"
      ]
     },
     "metadata": {},
     "output_type": "display_data"
    },
    {
     "data": {
      "text/html": [
       "<img src=\"https://api.afp.com/objects/api/medias?id=a1kkIS0nShZdX1sxTF9RGkJYQkxZNm0bCx0FdAJqAXRqAAAGa3UHFRt3dnEdBW9oaFhdVllcQlddayhdXg1XKFN4WzorU0FDIRI0LCB7UkBDV0g2XABXWVddSFZCKCdeWEESMF4hDXskVnRidwcsYzYpVVwQR00sWkZYWl1bC11ONStfXEEJcAF0A3RwAwgFdgR2cA%3D%3D.jpg\"/>"
      ],
      "text/plain": [
       "<IPython.core.display.Image object>"
      ]
     },
     "metadata": {},
     "output_type": "display_data"
    },
    {
     "data": {
      "text/html": [
       "<img src=\"https://api.afp.com/objects/api/medias?id=a1kkIS0nShZdX1sxTF9RGkJYQkxZNm0dDx0NeBh3AXRqAwcfBXIRGnUJfgBsYBUUTERXXl5fQlMYLzJKBlFdJQouSS0kQkJVYkEoIXktQFdMRksgFE5YUF9VQ0xbIDFMShRFKFN4CCIhd2MDd1lnNysqXARcQ1EmUkFbWlkWSEBGLDBISg8FdwZ2B3Z0CwQCdANw.jpg\"/>"
      ],
      "text/plain": [
       "<IPython.core.display.Image object>"
      ]
     },
     "metadata": {},
     "output_type": "display_data"
    },
    {
     "data": {
      "text/html": [
       "<img src=\"https://api.afp.com/objects/api/medias?id=a1kkIS0nShZdXlcxVgJEXV1EQksZd3ccFnNyEWh0eAh2fnkedQRzcWkXTFBOXVQqVkYaX0JXEltfIX9GQFxVMUQgFjYsVgxbPVogNTcjFFpBU1UgV1lZUEFRXh5HLCYQbGtzLH4odC5jQF5cIQkwMC0lUlVCWVNjXFVEXEBVXgUHc3MeDgcAdAd9AHdy.jpg\"/>"
      ],
      "text/plain": [
       "<IPython.core.display.Image object>"
      ]
     },
     "metadata": {},
     "output_type": "display_data"
    },
    {
     "data": {
      "text/html": [
       "<img src=\"https://api.afp.com/objects/api/medias?id=a1kkIS0nShZdXlcxVgJEXV1EQksZd3ccFnNyEWh0dwt3fmgedQRzcWkXTFBOXVQqVkYaX0JXEltfIX9GQFxVMUQgFjYsVgxbPVogNTcjFFpBU1UgV1lZUEFRXh5HLCYQdgFXBgUJWCxjQF5cIQkwMC0lUlVCWVNjXFVEXEBVXgUHc3MeDgcAdw92AHBz.jpg\"/>"
      ],
      "text/plain": [
       "<IPython.core.display.Image object>"
      ]
     },
     "metadata": {},
     "output_type": "display_data"
    },
    {
     "data": {
      "text/html": [
       "<img src=\"https://api.afp.com/objects/api/medias?id=a1kkIS0nShZdX1sxTF9RGkJYQkxZNm0fCQEbcAZ1H3FxCh4DdRsAAxQZCHZqA258FHxBXFFbQVdZLmxHSVULIl4hDSg8XFBAN1FnMC0iBFJUWFk1SkgZVl5VQF1YMS9ISlNHZ0YsVH59U1V1FgdyKGI0VlVIC0kwUE5fWV1fRh5TPTJES1dHfAZzAXByBwAJcQZxcnw%3D.jpg\"/>"
      ],
      "text/plain": [
       "<IPython.core.display.Image object>"
      ]
     },
     "metadata": {},
     "output_type": "display_data"
    },
    {
     "name": "stdout",
     "output_type": "stream",
     "text": [
      "88 \n",
      " A version of this story first appeared in CNN Business' Before the Bell newsletter. Not a subscriber? You can sign up right here  London (CNN Business) The economic devastation wrought by the coronavirus pandemic is about to come into plain view.  What's happening: The jobs report issued by the US government for April, due Friday , is expected to show that layoffs surged last month and unemployment rose to Great Depression levels.  Economists surveyed by Refinitiv predict that the US economy shed 22 million jobs in April, by far the largest number on record. (The US government's monthly jobs data dates back to 1939.) The official unemployment rate could skyrocket to 16%.  Investor attention will focus on details that aren't usually subject to as much discussion. Goldman Sachs, for example, said it will look closely at the number and share of workers on furlough or temporary layoff.  \"If job losses are concentrated in this segment, it would increase the scope for a more rapid labor market recovery when the economy eventually rebounds,\" chief economist Jan Hatzius told clients.  Joseph Brusuelas, chief economist at RSM, said he plans to scrutinize the data on hours worked.  Analysts may need to justify the current valuation of the S&P 500, which has rallied nearly 29% from its low point on March 23, should we see hours notably decreasing, with a good portion of those still employed at \"risk of falling back to working 30 hours per week,\" he said.  For weeks, stock valuations have appeared at odds with the economic realities of the moment — a tension the April jobs report is likely to bring into stark relief. Strategists have pointed to the unprecedented support from central banks as a key factor, with interest rate cuts and massive bond-buying programs easing financial conditions and helping markets recover.  But bad economic news will keep surfacing the question: Have investors gone too far, too fast given the risks that remain?  Ed Yardeni, president of Yardeni Research, told clients that a second wave of infections as countries reopen their fragile economies could force stocks to retest March lows.  \"That's not the scenario we expect,\" he said. \"But in all wars, there are setbacks and lots of uncertainty.\"  Uber sees a crisis that lasts quarters — not years  Uber UBER has seen ride-sharing plummet in recent weeks as the coronavirus pandemic has halted travel. But CEO Dara Khosrowshahi told investors that he's confident the crisis will not disrupt business over the long term.  \"We believe the disruption caused by Covid-19 will impact our timeline by a matter of quarters and not years,\" he said on a call with analysts Thursday.  The details: Rides dropped by 80% globally in April, but there are early signs of recovery, per Khosrowshahi. The company thinks the United States has already hit its low point, noting that bookings rose last week by 14% in New York City, 8% in San Francisco and 11% in Chicago.  Bookings in large cities across Georgia and Texas, which have begun the process of reopening, have jumped 43% and 50% from their lows, respectively. The company expects the recovery to vary by region, with some areas improving while others retreat.  Khosrowshahi said Uber still wants to achieve profitability, but the company has withdrawn its guidance on earnings for the rest of the year. Last quarter, it lost $2.9 billion. In the meantime, it's cutting costs; Uber said earlier this week that will eliminate about 3,700 full-time roles, or roughly 14% of its staff.  Bright spot: Uber Eats has seen an \"enormous\" spike in demand. The question is whether these gains are temporary, or the coronavirus will cause consumers to change their habits for good.  Investor insight: Shares of Uber are up more than 7% in premarket trading, with investors showing some relief after bracing for the worst.  The bankruptcies will keep coming  Another major US retailer has filed for bankruptcy as the coronavirus continues to take its toll on business — and more companies are expected to claim insolvency in the weeks to come.  The latest victim: Neiman Marcus. The company said in a statement Thursday that it entered into a restructuring agreement with creditors that will allow it to \"substantially reduce debt and position the company for long-term growth.\"  Fitch retail analyst David Silverman notes that both Neiman Marcus and J.Crew, which filed for bankruptcy earlier this week, had significant debt loads following leveraged buyouts that became impossible to manage in the current environment.  \"The debt burden ultimately proved insurmountable, particularly given near term operating challenges related to the coronavirus pandemic,\" he told clients Thursday.  JCPenney JCP Hertz HTZ On the radar: Analysts don't think Neiman Marcus will be the last domino to fall.andare also contending with significant debt.  Hertz got an emergency lifeline from its lenders this week after missing a payment on April 27. The car rental company now has until May 22 to develop a new financing strategy.  Up next  Hostess Brands TWNK SeaWorld Entertainment SEAS andreport results before US markets open.  Also today: The US jobs report for April arrives at 8:30 a.m. ET.  Coming next week: How did US retail sales fare in April with states and cities enacting lockdowns across the country?\n",
      "Sans malus\n"
     ]
    },
    {
     "data": {
      "text/html": [
       "<img src=\"https://api.afp.com/objects/api/medias?id=a1kkIS0nShZdXlcxVgJEXV1EQksZdHUYFnNyEWh0dwV9cQQedQRzcWkXTFBOXVQqVkYaX0JXEltfIX9GQFxVMUQgFjYsVgxbPVogNTcjFFpBU1UgV1lZUEFRXh5HLCYQfAAHdG0qYDBjQF5cIQkwMC0lUlVCWVNjXFVEXEBVXgUHc3MeDgcAdw9yB3d1.jpg\"/>"
      ],
      "text/plain": [
       "<IPython.core.display.Image object>"
      ]
     },
     "metadata": {},
     "output_type": "display_data"
    },
    {
     "data": {
      "text/html": [
       "<img src=\"https://api.afp.com/objects/api/medias?id=a1kkIS0nShZdXlcxVgJEXV1EQksZd3ceFnNyEWh0eRlxdGUedQRzcWkXTFBOXVQqVkYaX0JXEltfIX9GQFxVMUQgFjYsVgxbPVogNTcjFFpBU1UgV1lZUEFRXh5HLCYQY1BfCmZ9aBNjQF5cIQkwMC0lUlVCWVNjXFVEXEBVXgUHc3MeDgcAcgVwCXJ1.jpg\"/>"
      ],
      "text/plain": [
       "<IPython.core.display.Image object>"
      ]
     },
     "metadata": {},
     "output_type": "display_data"
    },
    {
     "data": {
      "text/html": [
       "<img src=\"https://api.afp.com/objects/api/medias?id=a1kkIS0nShZdXlcxVgJEXV1EQksZd3cdFnNyEWh0eRlxeGEedQRzcWkXTFBOXVQqVkYaX0JXEltfIX9GQFxVMUQgFjYsVgxbPVogNTcjFFpBU1UgV1lZUEFRXh5HLCYQY1BfCmZ9aBNjQF5cIQkwMC0lUlVCWVNjXFVEXEBVXgUHc3MeDgcAcgVwCXN8.jpg\"/>"
      ],
      "text/plain": [
       "<IPython.core.display.Image object>"
      ]
     },
     "metadata": {},
     "output_type": "display_data"
    },
    {
     "data": {
      "text/html": [
       "<img src=\"https://api.afp.com/objects/api/medias?id=a1kkIS0nShZdXlcxVgJEXV1EQksZdXICeHRkHgYNdHcdYh8BdAZ1aBUzUFpGWlcqUgNeRVUPTlFSeClUV1NEMlJjRSohD1pJKlUxNiFrWlVIW10rTUBRRlNDC0lfIX9CWFxbIwAICGU3XV1VeUU0LCctVVZCXR4gQV1dR1dDEAkAdHEaDAYBcgFxB3Y%3D.jpg\"/>"
      ],
      "text/plain": [
       "<IPython.core.display.Image object>"
      ]
     },
     "metadata": {},
     "output_type": "display_data"
    },
    {
     "data": {
      "text/html": [
       "<img src=\"https://api.afp.com/objects/api/medias?id=a1kkIS0nShZdX1sxTF9RGkJYQkxZNm0ZDR0FcgBqAnZwHQMBa3UHFRt3d2gfDmxoaFhdVllcQlddayhdXg1XKFN4WzorU0FDIRI0LCB7UkBDV0g2XABXWVddSFZCKCdeWEESMF4hDRAdV1B6KkIzYzYpVVwQR00sWkZYWl1bC11ONStfXEEJcAF0A3RwAwgHcgJxcQ%3D%3D.jpg\"/>"
      ],
      "text/plain": [
       "<IPython.core.display.Image object>"
      ]
     },
     "metadata": {},
     "output_type": "display_data"
    },
    {
     "data": {
      "text/html": [
       "<img src=\"https://api.afp.com/objects/api/medias?id=a1kkIS0nShZdX1sxTF9RGkJYQkxZNm0fDQAbdg5qAXpyHQMBfRsAAxQZCHd9B24TFHxBXFFbQVdZLmxHSVULIl4hDSg8XFBAN1FnMC0iBFJUWFk1SkgZVl5VQF1YMS9ISlNHZ0YsVH4xAmtyLn0GLGI0VlVIC0kwUE5fWV1fRh5TPTJES1dHfAZzAXByBwAJcwx3dHM%3D.jpg\"/>"
      ],
      "text/plain": [
       "<IPython.core.display.Image object>"
      ]
     },
     "metadata": {},
     "output_type": "display_data"
    },
    {
     "name": "stdout",
     "output_type": "stream",
     "text": [
      "malus\n"
     ]
    },
    {
     "data": {
      "text/html": [
       "<img src=\"https://api.afp.com/objects/api/medias?id=a1kkIS0nShZdXlcxVgJEXV1EQksZdHUYFnNyEWh0dwV9cQQedQRzcWkXTFBOXVQqVkYaX0JXEltfIX9GQFxVMUQgFjYsVgxbPVogNTcjFFpBU1UgV1lZUEFRXh5HLCYQfAAHdG0qYDBjQF5cIQkwMC0lUlVCWVNjXFVEXEBVXgUHc3MeDgcAdw9yB3d1.jpg\"/>"
      ],
      "text/plain": [
       "<IPython.core.display.Image object>"
      ]
     },
     "metadata": {},
     "output_type": "display_data"
    },
    {
     "data": {
      "text/html": [
       "<img src=\"https://api.afp.com/objects/api/medias?id=a1kkIS0nShZdXlcxVgJEXV1EQksZdXICeHRkHgYNdHcdYh8BdAZ1aBUzUFpGWlcqUgNeRVUPTlFSeClUV1NEMlJjRSohD1pJKlUxNiFrWlVIW10rTUBRRlNDC0lfIX9CWFxbIwAICGU3XV1VeUU0LCctVVZCXR4gQV1dR1dDEAkAdHEaDAYBcgFxB3Y%3D.jpg\"/>"
      ],
      "text/plain": [
       "<IPython.core.display.Image object>"
      ]
     },
     "metadata": {},
     "output_type": "display_data"
    },
    {
     "data": {
      "text/html": [
       "<img src=\"https://api.afp.com/objects/api/medias?id=a1kkIS0nShZdXlcxVgJEXV1EQksZd3ceFnNyEWh0eRlxdGUedQRzcWkXTFBOXVQqVkYaX0JXEltfIX9GQFxVMUQgFjYsVgxbPVogNTcjFFpBU1UgV1lZUEFRXh5HLCYQY1BfCmZ9aBNjQF5cIQkwMC0lUlVCWVNjXFVEXEBVXgUHc3MeDgcAcgVwCXJ1.jpg\"/>"
      ],
      "text/plain": [
       "<IPython.core.display.Image object>"
      ]
     },
     "metadata": {},
     "output_type": "display_data"
    },
    {
     "data": {
      "text/html": [
       "<img src=\"https://api.afp.com/objects/api/medias?id=a1kkIS0nShZdXlcxVgJEXV1EQksZd3cdFnNyEWh0eRlxeGEedQRzcWkXTFBOXVQqVkYaX0JXEltfIX9GQFxVMUQgFjYsVgxbPVogNTcjFFpBU1UgV1lZUEFRXh5HLCYQY1BfCmZ9aBNjQF5cIQkwMC0lUlVCWVNjXFVEXEBVXgUHc3MeDgcAcgVwCXN8.jpg\"/>"
      ],
      "text/plain": [
       "<IPython.core.display.Image object>"
      ]
     },
     "metadata": {},
     "output_type": "display_data"
    },
    {
     "data": {
      "text/html": [
       "<img src=\"https://api.afp.com/objects/api/medias?id=a1kkIS0nShZdX1sxTF9RGkJYQkxZNm0ZDR0FcgBqAnZwHQMBa3UHFRt3d2gfDmxoaFhdVllcQlddayhdXg1XKFN4WzorU0FDIRI0LCB7UkBDV0g2XABXWVddSFZCKCdeWEESMF4hDRAdV1B6KkIzYzYpVVwQR00sWkZYWl1bC11ONStfXEEJcAF0A3RwAwgHcgJxcQ%3D%3D.jpg\"/>"
      ],
      "text/plain": [
       "<IPython.core.display.Image object>"
      ]
     },
     "metadata": {},
     "output_type": "display_data"
    },
    {
     "data": {
      "text/html": [
       "<img src=\"https://api.afp.com/objects/api/medias?id=a1kkIS0nShZdX1sxTF9RGkJYQkxZNm0fDQAbdg5qAXpyHQMBfRsAAxQZCHd9B24TFHxBXFFbQVdZLmxHSVULIl4hDSg8XFBAN1FnMC0iBFJUWFk1SkgZVl5VQF1YMS9ISlNHZ0YsVH4xAmtyLn0GLGI0VlVIC0kwUE5fWV1fRh5TPTJES1dHfAZzAXByBwAJcwx3dHM%3D.jpg\"/>"
      ],
      "text/plain": [
       "<IPython.core.display.Image object>"
      ]
     },
     "metadata": {},
     "output_type": "display_data"
    },
    {
     "name": "stdout",
     "output_type": "stream",
     "text": [
      "89 \n",
      " New York (CNN Business) In a matter of weeks, remdesivir has gone from a shelved, failed hepatitis C treatment to the center of a national effort to treat patients suffering from Covid-19, the illness caused by the novel coronavirus.  The situation has thrust the pharmaceutical company behind the experimental drug,, into the spotlight. The company's stock is up nearly 20% from the start of this year, and investors have begun to wonder about potential returns from remdesivir. At the same time, it has sparked questions from lawmakers and activists about whether — and just how much — a company should be able to profit from a pandemic.  Still, experts caution that it's fartoo early to tell if remdesivir will be an effective treatment for Covid-19, and one worth paying for. Even if it is, there is enough uncertainty surrounding the trajectory of Covid-19 that it will be difficult to determine whether the drug has long term business potential for Gilead.  Gilead CEO Daniel O'Day said on the company's first quarter earnings call this week that \"it's too premature\" to tell what the business model for remdesivir might be.  \"Our focus will be on making sure we come up with a sustainable model that allows us to provide remdesivir to patients around the globe, that is intent on providing access and affordability,\" O'Day said. \"We're just now going through the clinical data, the demand scenarios, the regulatory approvals.\"  Experts say it is important for the company to strike a balance between pricing the drug affordably and making at least enough money to recoup the $1 billion it plans to spend on development costs for remdesivir this year. The price could also be important for incentivizing Gilead and other drug companies to continue developing potentially crucial treatments.  \"They need to have some sort of assurance that they will recoup their investments,\" Piper Sandler analyst Tyler Van Buren said.  There are currently no treatments or vaccines officially approved by the US Food and Drug Administration for Covid-19, the virus that has now infected more than 1.2 million Americans and killed more than 73,500 in the United States.  A promising potential Covid-19 treatment  Earlier this month, the FDA issued an emergency-use authorization for the use of remdesivir to treat hospitalized patients with severe Covid-19, after a government study showed positive preliminary results for the use of the drug. An emergency-use authorization is a lower regulatory bar than full FDA approval.  In late April, Dr. Anthony Fauci announced that the National Institute of Allergy and Infectious Diseases' (NIAID) study showed remdesivir had a \"clear-cut, significant, positive effect in diminishing the time to recovery\" from coronavirus.  The study showed patients who took remdesivir recovered faster than patients who did not. The drug improved recovery time for coronavirus patients to 11 days from 15 and demonstrated numerical benefits to mortality — the number of patients who died of Covid-19 — though there were too few participants to prove at this point that remdesivir reduces mortality with statistical significance.  control group, limiting the conclusions that could be drawn. Gilead also announced topline results from its own Phase 3 trial evaluating remdesivir given to hospitalized patients with severe coronavirus. That study pointed to the potential success of even just a five-day treatment course, though the Gilead-run trial had nocontrol group, limiting the conclusions that could be drawn.  Gilead has donated its existing supply of 1.5 million doses of the drug to the US government to be distributed to Covid-19 patients. O'Day, Gilead's CEO, said on the earnings call the company has been ramping up production since January, and hopes to have enough supply to treat more than 1 million patients by year-end.  The company says it has not yet made a decision about how much it will charge for the drug after the donated supply is depleted.  \"Given the continued uncertainty in the trajectory of the pandemic and in remdesivir clinical data, it's premature to define what the right post-donation business model is to create a sustainable long term supply for global needs,\" CFO Andrew Dickinson said on the call, adding that the company plans to provide an update on its earnings call for the June quarter.  In theory, the drug could be a \"blockbuster\" for the company, even if it were moderately priced, Raymond James analyst Steven Seedhouse said. If the company's reaches its hoped-for treatment of 1 million Covid-19 patients by year's end and more in 2021 even at a price of several hundred dollars per treatment, Gilead could be looking at close to a billion dollars in revenue in a relatively short time period.  But Seedhouse said he's skeptical the company will charge for its work.  though the NIAID study is still gathering evidence on that. It's also unclear just how long demand for the drug will last, given the \"I think it would be public image suicide for them to charge for this drug,\" Seedhouse said, especially because, as of yet, no study has shown with any statistical significance that remdesivir reduces mortality from Covid-19though the NIAID study is still gathering evidence on that. It's also unclear just how long demand for the drug will last, given the race to develop a coronavirus vaccine  Other analysts have taken a similar stance.  \"The company should be commended for its efforts in so quickly addressing this public health emergency,\" JPMorgan analyst Cory Kasimov said in a recent note.\"But we still feel it's unlikely to result in tangible, long-term cash flows,\" JPMorgan analyst Cory Kasimov said in a recent note.  Profiting amid a pandemic  Some lawmakers and activists have called on Congress to intervene to ensure that remdesivir and other potential Covid-19 treatments and vaccines are priced affordably.  \"To beat this pandemic, it's clear we need better laws that regulate drug corporations to ensure that everyone — no matter where they come from or what they look like — can afford Covid-19Reme treatments,\" Minnesota Attorney General Keith Ellison said in a release. \"That's why I'm calling on Congress to take swift action to crack down on pandemic profiteering.\"  drugs or vaccines developed with taxpayer funds.\" Industry experts say such intervention from Congress would be unusual. Advocacy group Lower Drug Prices Now is circulating a petition that calls on Congress to include in a coronavirus relief package ramifications requiring \"fair and reasonable prices for all Covid-19developed with taxpayer funds.\" Industry experts say such intervention from Congress would be unusual.  But running up the cost of remdesivir, if it is proven effective in treating Covid-19, could be deeply harmful to Gilead's image, according to Seedhouse. Preserving the company's reputation, he said, may end up being more valuable than recouping the $1 billion it plans to spend this year on development, research and manufacturing work on remdesivir.  \"This is a company that spends billions every year anyways on research and development that doesn't pan out,\" Seedhouse said. \"Or is it worth more to be the poster child for a responsible biopharma company that's doing the right thing? ... The sentiment and perception of the company matters as much as the EPS they print.\"  Gilead CFO Dickinson stressed that the company wants to keep remdesivir \"both accessible and affordable to governments and patients around the world.\"  Potential pricing models  Experts say it's important to start the conversation about a fair price for remdesivir now, before Gilead's donated supplies run out and ahead of any official approval.  The Institute for Economic and Clinical Review (ICER), an independent nonprofit research organization that analyzes and makes recommendations on fair drug pricing, released a report earlier this month on potential pricing models for remdesivir.  The report details several potential models for pricing remdesivir, which the organization said will be updated as more data becomes available.  The first model, a \"cost recovery\" approach, takes into account the marginal cost of producing additional doses of remdesivir, and the research and development costs put in by the company. The initial analysis sets the company's research and development costs at zero, because the drug was developed as a hepatitis C treatment prior to coronavirus.  That model sets the price of one, 10-day course of remdesivir for one Covid-19 patient at $10.  The second uses an analysis based on \"quality-adjusted life years\" gained by the drug, a model often used for drug pricing that considers how much a medication can lengthen and improve the quality of a person's life.  That model suggests that remdesivir be priced starting at $390 per 10-day course of treatment if the drug is ultimately found to have no mortality reduction benefits, and $4,460 per course of treatment if the drug is found to reduce mortality.  Even that highest price — nearly $4,500 per 10-day treatment — is fairly affordable compared to other, similar types of emergency intervention drugs that reduce mortality, said Van Buren, the Piper Sandler analyst, calling it \"one of the most reasonable price tags you can see on a drug with mortality benefits.\"  For the most part, that amount also would not be paid by patients, but by insurance companies or government insurance programs.  The ICER study is not meant to lay out exact pricing for remdesivir, a decision that will ultimately be up to Gilead, ICER's vice president of communications and outreach David Whitrap said.  \"What we're hoping to do is strike a conversation,\" Whitrap said. \"We think now is the time, before there is a price for this treatment, for the US and the pharmaceutical industry to think about how we want to incentivize and reward this sort of therapy, or any sort of therapy for Covid-19, in a way that accelerates drug development and is also affordable and accessible for patients.\"\n",
      "Sans malus\n"
     ]
    },
    {
     "data": {
      "text/html": [
       "<img src=\"https://api.afp.com/objects/api/medias?id=a1kkIS0nShZdX1sxTF9RGkJYQkxZNm0fDQYbcABxH3ZzHQMCdxsAAxQZCHRlA20SFHxBXFFbQVdZLmxHSVULIl4hDSg8XFBAN1FnMC0iBFJUWFk1SkgZVl5VQF1YMS9ISlNHZ0YsVH4qfwhHBwwqNmI0VlVIC0kwUE5fWV1fRh5TPTJES1dHfAZzAXByBwMBcQR5c3E%3D.jpg\"/>"
      ],
      "text/plain": [
       "<IPython.core.display.Image object>"
      ]
     },
     "metadata": {},
     "output_type": "display_data"
    },
    {
     "data": {
      "text/html": [
       "<img src=\"https://api.afp.com/objects/api/medias?id=a1kkIS0nShZdX1sxTF9RGkJYQkxZNm0cAQUbcAF2H3FwHQMAfBsAAxQZCHRlAQ4OFHxBXFFbQVdZLmxHSVULIl4hDSg8XFBAN1FnMC0iBFJUWFk1SkgZVl5VQF1YMS9ISlNHZ0YsVH4qfwhHBwwqNmI0VlVIC0kwUE5fWV1fRh5TPTJES1dHfAZzAXByBwMBcQR3cXI%3D.jpg\"/>"
      ],
      "text/plain": [
       "<IPython.core.display.Image object>"
      ]
     },
     "metadata": {},
     "output_type": "display_data"
    },
    {
     "data": {
      "text/html": [
       "<img src=\"https://api.afp.com/objects/api/medias?id=a1kkIS0nShZdX1sxTF9RGkJYQkxZNm0fDQIbcAB9H3V1HQMBfRsAAxQZCHRlAGIWFHxBXFFbQVdZLmxHSVULIl4hDSg8XFBAN1FnMC0iBFJUWFk1SkgZVl5VQF1YMS9ISlNHZ0YsVH4qfwhHBwwqNmI0VlVIC0kwUE5fWV1fRh5TPTJES1dHfAZzAXByBwMBcQR3dXw%3D.jpg\"/>"
      ],
      "text/plain": [
       "<IPython.core.display.Image object>"
      ]
     },
     "metadata": {},
     "output_type": "display_data"
    },
    {
     "data": {
      "text/html": [
       "<img src=\"https://api.afp.com/objects/api/medias?id=a1kkIS0nShZdX1sxTF9RGkJYQkxZNm0fDAIbcAF9H3Z1HQMCfRsAAxQZCHRlAGIVFHxBXFFbQVdZLmxHSVULIl4hDSg8XFBAN1FnMC0iBFJUWFk1SkgZVl5VQF1YMS9ISlNHZ0YsVH4qfwhHBwwqNmI0VlVIC0kwUE5fWV1fRh5TPTJES1dHfAZzAXByBwMBcQR3dXI%3D.jpg\"/>"
      ],
      "text/plain": [
       "<IPython.core.display.Image object>"
      ]
     },
     "metadata": {},
     "output_type": "display_data"
    },
    {
     "data": {
      "text/html": [
       "<img src=\"https://api.afp.com/objects/api/medias?id=a1kkIS0nShZdX1sxTF9RGkJYQkxZNm0fCwUbcAV2H3FxAx4CcAxuBAIWZghgfg4EdQBlQFtTRlRZKikDU0JTflQsVH4uS19RNEckYzEvXQRGT1YkSV5RGFFcSFVTKzZAXEFVMhE0WSd4XXwJM3d5LjdgS1ZBUwU0TERXXl5fQlMQIDpdUEBRMgp0BnJ2BQQCdQFxcnBw.jpg\"/>"
      ],
      "text/plain": [
       "<IPython.core.display.Image object>"
      ]
     },
     "metadata": {},
     "output_type": "display_data"
    },
    {
     "data": {
      "text/html": [
       "<img src=\"https://api.afp.com/objects/api/medias?id=a1kkIS0nShZdX1sxTF9RGkJYQkxZNm0bAR0NdRh3A3FqBgYfBXIRGnULcQxjARUUTERXXl5fQlMYLzJKBlFdJQouSS0kQkJVYkEoIXktQFdMRksgFE5YUF9VQ0xbIDFMShRFKFN4Xw58RXIIL0dnNysqXARcQ1EmUkFbWlkWSEBGLDBISg8FdwZ2B3Z3AwQAcgx5.jpg\"/>"
      ],
      "text/plain": [
       "<IPython.core.display.Image object>"
      ]
     },
     "metadata": {},
     "output_type": "display_data"
    },
    {
     "name": "stdout",
     "output_type": "stream",
     "text": [
      "malus\n"
     ]
    },
    {
     "data": {
      "text/html": [
       "<img src=\"https://api.afp.com/objects/api/medias?id=a1kkIS0nShZdXlcxVgJEXV1EQksZdHUYFnNyEWh0dwZ0cQMedQRzcWkXTFBOXVQqVkYaX0JXEltfIX9GQFxVMUQgFjYsVgxbPVogNTcjFFpBU1UgV1lZUEFRXh5HLCYQQX51JWEOfzJjQF5cIQkwMC0lUlVCWVNjXFVEXEBVXgUHc3MeDgcAdw5wBHBy.jpg\"/>"
      ],
      "text/plain": [
       "<IPython.core.display.Image object>"
      ]
     },
     "metadata": {},
     "output_type": "display_data"
    },
    {
     "data": {
      "text/html": [
       "<img src=\"https://api.afp.com/objects/api/medias?id=a1kkIS0nShZdXlcxVgJEXV1EQksZdHseFnNyEWh0eXJ1en4edQRzcWkXTFBOXVQqVkYaX0JXEltfIX9GQFxVMUQgFjYsVgxbPVogNTcjFFpBU1UgV1lZUEFRXh5HLCYQUGFWJA8Gew9jQF5cIQkwMC0lUlVCWVNjXFVEXEBVXgUHc3MeDgcAdQZwBHF8.jpg\"/>"
      ],
      "text/plain": [
       "<IPython.core.display.Image object>"
      ]
     },
     "metadata": {},
     "output_type": "display_data"
    },
    {
     "data": {
      "text/html": [
       "<img src=\"https://api.afp.com/objects/api/medias?id=a1kkIS0nShZdXlcxVgJEXV1EQksZdHICeHRkHgYCaXMNYh8BdAZ1aBUzUFpGWlcqUgNeRVUPTlFSeClUV1NEMlJjRSohD1pJKlUxNiFrWlVIW10rTUBRRlNDC0lfIX98f1FXcXAmQWU3XV1VeUU0LCctVVZCXR4gQV1dR1dDEAkAdHEaDAYCcQdzCHI%3D.jpg\"/>"
      ],
      "text/plain": [
       "<IPython.core.display.Image object>"
      ]
     },
     "metadata": {},
     "output_type": "display_data"
    },
    {
     "data": {
      "text/html": [
       "<img src=\"https://api.afp.com/objects/api/medias?id=a1kkIS0nShZdXlcxVgJEXV1EQksZd3EcFnNyEWh0dwZ0engedQRzcWkXTFBOXVQqVkYaX0JXEltfIX9GQFxVMUQgFjYsVgxbPVogNTcjFFpBU1UgV1lZUEFRXh5HLCYQQX51JWEOfzJjQF5cIQkwMC0lUlVCWVNjXFVEXEBVXgUHc3MeDgcAdw5wA3Rw.jpg\"/>"
      ],
      "text/plain": [
       "<IPython.core.display.Image object>"
      ]
     },
     "metadata": {},
     "output_type": "display_data"
    },
    {
     "data": {
      "text/html": [
       "<img src=\"https://api.afp.com/objects/api/medias?id=a1kkIS0nShZdXlcxVgJEXV1EQksZd3ceFnNyEWh0ehVzeH4edQRzcWkXTFBOXVQqVkYaX0JXEltfIX9GQFxVMUQgFjYsVgxbPVogNTcjFFpBU1UgV1lZUEFRXh5HLCYQDnluKHx9dy9jQF5cIQkwMC0lUlVCWVNjXFVEXEBVXgUHc3MeDgcAcAN9B3d2.jpg\"/>"
      ],
      "text/plain": [
       "<IPython.core.display.Image object>"
      ]
     },
     "metadata": {},
     "output_type": "display_data"
    },
    {
     "data": {
      "text/html": [
       "<img src=\"https://api.afp.com/objects/api/medias?id=a1kkIS0nShZdXlcxVgJEXV1EQksZd3McFnNyEWh0exN9AmMedQRzcWkXTFBOXVQqVkYaX0JXEltfIX9GQFxVMUQgFjYsVgxbPVogNTcjFFpBU1UgV1lZUEFRXh5HLCYQUXNSNg51YHNjQF5cIQkwMC0lUlVCWVNjXFVEXEBVXgUHc3MeDgcAcQV3BXJz.jpg\"/>"
      ],
      "text/plain": [
       "<IPython.core.display.Image object>"
      ]
     },
     "metadata": {},
     "output_type": "display_data"
    },
    {
     "name": "stdout",
     "output_type": "stream",
     "text": [
      "91 \n",
      " London (CNN Business) In India, electric rickshaws are increasingly seen as a way to cut air pollution.  Motorbikes and three-wheel rickshaws are ubiquitous in the country, and India's government announced last year that only electric two and three-wheel vehicles would be allowed by 2025.  Bangalore-based startup Altigreen is among the companies looking to fill this space, as it prepares to hit the market with its debut three wheeler.  Change from the bottom up  Altigreen, founded in 2012, started out retrofitting diesel and petrol cars with electric motors to convert them to hybrids.  The company will launch its first — as yet unnamed — fully electric vehicle \"within the next quarter,\" according to CEO Amitabh Saran.  JUST WATCHED India plans electric vehicle revolution Replay More Videos ... MUST WATCH India plans electric vehicle revolution 01:52  A partner company is producing the car's external framework, while Altigreen supplies the internal components including motor, transmission, display system, and telematics that supply data on driving performance to the user's smartphone.  The startup is confident its model is among the fastest, with a top speed of 53 kilometers per hour (33 miles per hour), and offers faster charging, which is a key consideration for Altigreen's target market.  The company is \"focused on the bottom end of the market,\" says Saran, for customers driving passengers and cargo.  Rather than needing a charging station, Altigreen's three-wheeler can be charged through any ordinary AC power socket in three to four hours, the CEO says.  The vehicle has a higher initial price than non-electric rivals at around 350,000 rupees ($4,700) but Saran is confident it will deliver savings to drivers and fleet managers such as logistics companies.  \"It is justified on pure economics,\" he says. \"Today a three-wheel driver spends 350-400 rupees ($4.70-$5.40) per day on diesel to cover 100 kilometers.\"  \"To do the same with our electric operation will be about 90 cents — a huge saving for someone who potentially earns $8-9 a day.\"  Made in India  India's government has taken steps to incentivize the purchase of electric vehicles by cutting taxes and offering subsidies . Electric vehicles could mitigate the health impact of air pollution , although these vehicles would draw power from a grid largely reliant on coal, which is itself a polluter.  Other companies are also offering electric rickshaws, including Delhi-based Saarthi. Gayam Motor Works of Hyderabad has developed swappable batteries for its vehicles to avoid charging delays. Ride-hailing giant Ola has announced plans to put 1 million electric vehicles on India's streets, including 10,000 electric rickshaws  But Saran acknowledges that it will be challenging to win the trust of Indian motorists. He believes electric vehicles have a poor reputation due to an influx of cheap imports ill-suited to India's \"harsh environment\" of \"high temperatures, poor infrastructure, and potholes.\"  Part of Altigreen's brand identity is that the company's products are almost entirely made in India, apart from a handful of components. Saran says they are tested in Indian conditions and designed for the country's unique challenges.  Altigreen is also looking to develop two and four-wheel vehicles. The company has a target of producing 10,000 vehicles a month within three years.  Like the rest of the world, India has been impacted by the spread of novel coronavirus. The whole country has been placed under lockdown for a minimum of 21 days in an effort to halt its spread.  But at the moment, Saran says the launch of Altigreen's electric three-wheeler remains on track. \"Fleet customers are continuing to ask us for vehicles,\" he says, but he acknowledges the lockdown could have an impact if it lasts beyond three weeks.  The potential for profit in the sector is huge, but Saran says the company is motivated by another ambition, to help the transition to clean fuel that could save many lives by cutting pollution.  \"It drives my team knowing the target is greater than any commercial gain,\" he says.\n",
      "Sans malus\n"
     ]
    },
    {
     "data": {
      "text/html": [
       "<img src=\"https://api.afp.com/objects/api/medias?id=a1kkIS0nShZdXlcxVgJEXV1EQksZdHMCeHRkHgYMaXUQfB8BdAZ1aBUzUFpGWlcqUgNeRVUPTlFSeClUV1NEMlJjRSohD1pJKlUxNiFrWlVIW10rTUBRRlNDC0lfIX9fVmZwC1s%2FXWU3XV1VeUU0LCctVVZCXR4gQV1dR1dDEAkAdHEaDAYHcw52CXI%3D.jpg\"/>"
      ],
      "text/plain": [
       "<IPython.core.display.Image object>"
      ]
     },
     "metadata": {},
     "output_type": "display_data"
    },
    {
     "data": {
      "text/html": [
       "<img src=\"https://api.afp.com/objects/api/medias?id=a1kkIS0nShZdX1sxTF9RGkJYQkxZNm0dDh0MdhhwAGx3AAYfBXIRGnULaQF1fxUUTERXXl5fQlMYLzJKBlFdJQouSS0kQkJVYkEoIXktQFdMRksgFE5YUF9VQ0xbIDFMShRFKFN4ShcsSHVAdV5nNysqXARcQ1EmUkFbWlkWSEBGLDBISg8FdwZ2B3Z3AgYIdwN2.jpg\"/>"
      ],
      "text/plain": [
       "<IPython.core.display.Image object>"
      ]
     },
     "metadata": {},
     "output_type": "display_data"
    },
    {
     "data": {
      "text/html": [
       "<img src=\"https://api.afp.com/objects/api/medias?id=a1kkIS0nShZdXlcxVgJEXV1EQksZdnYCeHRkHgYAdHcMeh8BdAZ1aBUzUFpGWlcqUgNeRVUPTlFSeClUV1NEMlJjRSohD1pJKlUxNiFrWlVIW10rTUBRRlNDC0lfIX8fXwp9dm9yd2U3XV1VeUU0LCctVVZCXR4gQV1dR1dDEAkAdHEaDAcEdAV0Ans%3D.jpg\"/>"
      ],
      "text/plain": [
       "<IPython.core.display.Image object>"
      ]
     },
     "metadata": {},
     "output_type": "display_data"
    },
    {
     "data": {
      "text/html": [
       "<img src=\"https://api.afp.com/objects/api/medias?id=a1kkIS0nShZdXlcxVgJEXV1EQksZdHYdFnNyEWh0dQdxCgAedQRzcWkXTFBOXVQqVkYaX0JXEltfIX9GQFxVMUQgFjYsVgxbPVogNTcjFFpBU1UgV1lZUEFRXh5HLCYQC1QMCAAdBwRjQF5cIQkwMC0lUlVCWVNjXFVEXEBVXgUHc3MeDgcBcQJ3AXFy.jpg\"/>"
      ],
      "text/plain": [
       "<IPython.core.display.Image object>"
      ]
     },
     "metadata": {},
     "output_type": "display_data"
    },
    {
     "data": {
      "text/html": [
       "<img src=\"https://api.afp.com/objects/api/medias?id=a1kkIS0nShZdXlcxVgJEXV1EQksZd3ccFnNyEWh0ew18en0edQRzcWkXTFBOXVQqVkYaX0JXEltfIX9GQFxVMUQgFjYsVgxbPVogNTcjFFpBU1UgV1lZUEFRXh5HLCYQdHtiLEIqYg5jQF5cIQkwMC0lUlVCWVNjXFVEXEBVXgUHc3MeDgcAcQVzAXZ9.jpg\"/>"
      ],
      "text/plain": [
       "<IPython.core.display.Image object>"
      ]
     },
     "metadata": {},
     "output_type": "display_data"
    },
    {
     "data": {
      "text/html": [
       "<img src=\"https://api.afp.com/objects/api/medias?id=a1kkIS0nShZdXlcxVgJEXV1EQksZcXYCeHRkHgYOfnoOCx8BdAZ1aBUzUFpGWlcqUgNeRVUPTlFSeClUV1NEMlJjRSohD1pJKlUxNiFrWlVIW10rTUBRRlNDC0lfIX9gcGRZNFgXfWU3XV1VeUU0LCctVVZCXR4gQV1dR1dDEAkAdHEaDAYEcwF0A3M%3D.jpg\"/>"
      ],
      "text/plain": [
       "<IPython.core.display.Image object>"
      ]
     },
     "metadata": {},
     "output_type": "display_data"
    },
    {
     "name": "stdout",
     "output_type": "stream",
     "text": [
      "malus\n"
     ]
    },
    {
     "data": {
      "text/html": [
       "<img src=\"https://api.afp.com/objects/api/medias?id=a1kkIS0nShZdXlcxVgJEXV1EQksZdHMCeHRkHgYMaXUQfB8BdAZ1aBUzUFpGWlcqUgNeRVUPTlFSeClUV1NEMlJjRSohD1pJKlUxNiFrWlVIW10rTUBRRlNDC0lfIX9fVmZwC1s%2FXWU3XV1VeUU0LCctVVZCXR4gQV1dR1dDEAkAdHEaDAYHcw52CXI%3D.jpg\"/>"
      ],
      "text/plain": [
       "<IPython.core.display.Image object>"
      ]
     },
     "metadata": {},
     "output_type": "display_data"
    },
    {
     "data": {
      "text/html": [
       "<img src=\"https://api.afp.com/objects/api/medias?id=a1kkIS0nShZdX1sxTF9RGkJYQkxZNm0cAAcbcAJwH3F2Ch4CdQJuBAIWZghjBQsWawBlQFtTRlRZKikDU0JTflQsVH4uS19RNEckYzEvXQRGT1YkSV5RGFFcSFVTKzZAXEFVMhE0WSd4fUJHNW4nDydgS1ZBUwU0TERXXl5fQlMQIDpdUEBRMgp0BnJ2BQQCdAJ4fXF1.jpg\"/>"
      ],
      "text/plain": [
       "<IPython.core.display.Image object>"
      ]
     },
     "metadata": {},
     "output_type": "display_data"
    },
    {
     "data": {
      "text/html": [
       "<img src=\"https://api.afp.com/objects/api/medias?id=a1kkIS0nShZdXlcxVgJEXV1EQksZdHICeHRkHgYNencWcx8BdAZ1aBUzUFpGWlcqUgNeRVUPTlFSeClUV1NEMlJjRSohD1pJKlUxNiFrWlVIW10rTUBRRlNDC0lfIX9AblleDm8fc2U3XV1VeUU0LCctVVZCXR4gQV1dR1dDEAkAdHEaDAYBcAV2CHU%3D.jpg\"/>"
      ],
      "text/plain": [
       "<IPython.core.display.Image object>"
      ]
     },
     "metadata": {},
     "output_type": "display_data"
    },
    {
     "data": {
      "text/html": [
       "<img src=\"https://api.afp.com/objects/api/medias?id=a1kkIS0nShZdXlcxVgJEXV1EQksZdHseFnNyEWh0eAlxZwAedQRzcWkXTFBOXVQqVkYaX0JXEltfIX9GQFxVMUQgFjYsVgxbPVogNTcjFFpBU1UgV1lZUEFRXh5HLCYQVGVfK3gdagBjQF5cIQkwMC0lUlVCWVNjXFVEXEBVXgUHc3MeDgcAdAZ3AnZ8.jpg\"/>"
      ],
      "text/plain": [
       "<IPython.core.display.Image object>"
      ]
     },
     "metadata": {},
     "output_type": "display_data"
    },
    {
     "data": {
      "text/html": [
       "<img src=\"https://api.afp.com/objects/api/medias?id=a1kkIS0nShZdXlcxVgJEXV1EQksZdnQCeHRkHgYNenYEcB8BdAZ1aBUzUFpGWlcqUgNeRVUPTlFSeClUV1NEMlJjRSohD1pJKlUxNiFrWlVIW10rTUBRRlNDC0lfIX9AblleDm8fc2U3XV1VeUU0LCctVVZCXR4gQV1dR1dDEAkAdHEaDAYBcAV0AXA%3D.jpg\"/>"
      ],
      "text/plain": [
       "<IPython.core.display.Image object>"
      ]
     },
     "metadata": {},
     "output_type": "display_data"
    },
    {
     "data": {
      "text/html": [
       "<img src=\"https://api.afp.com/objects/api/medias?id=a1kkIS0nShZdX1sxTF9RGkJYQkxZNm0dDh0MdhhwAGx3AAYfBXIRGnULaQF1fxUUTERXXl5fQlMYLzJKBlFdJQouSS0kQkJVYkEoIXktQFdMRksgFE5YUF9VQ0xbIDFMShRFKFN4ShcsSHVAdV5nNysqXARcQ1EmUkFbWlkWSEBGLDBISg8FdwZ2B3Z3AgYIdwN2.jpg\"/>"
      ],
      "text/plain": [
       "<IPython.core.display.Image object>"
      ]
     },
     "metadata": {},
     "output_type": "display_data"
    },
    {
     "name": "stdout",
     "output_type": "stream",
     "text": [
      "95 \n",
      " Once broke, homeless and sleeping on the floor of San Francisco's airport, Hamilton became the first, black queer woman to start her own venture capital firm, Backstage Capital, a fund that invests in underrepresented founders who are women, people of color and LGBTQ. It's a journey, she details in her new book, \"It's About Damn Time: How To Turn Being Underestimated into Your Greatest Advantage.\"  \"I was out there in many ways, raising capital, or trying to raise capital for this fund that didn't exist, and this thesis that I had that the resilient people who were underrepresented and underestimated had resiliency off the charts, that would translate well to ROI [return on investment] in many other ways,\" Hamilton said in a Boss Files interview with CNN's Poppy Harlow  Since launching in 2015, Backstage Capital has successfully invested over $7 million in more than 120 companies led by underrepresented founders — providing seed funding from as little as $25,000 to as much as $100,000.  But now Hamilton, like so many other venture capitalists, is grappling with the new challenges presented by the coronavirus pandemic.  \"The toughest part of it was that we were completely blindsided by it. I was already thinking about so many obstacles and mountains to climb for myself and for the founders that I was representing,\" Hamilton said. \"It did feel like the footing was just knocked from under us.\"  Venture capital is more 'resilient than many may think'  While many businesses and startups have been hit hard by the pandemic, the venture capital industry has had more mixed results, she said.  \"It's more resilient than many may think,\" Hamilton said. \"There are a lot of funds who, for one reason or another, were able to raise [money] right before this happened.\"  According to data by PitchBook and the National Venture Capital Association, 62 venture capital funds raised a total of $21 billion in the United States during the first quarter of 2020. This compares to a total of $51 billion raised for the full year of 2019, signaling that VC firms are in a stronger position to weather the impending economic downturn. And those figures don't include unspent capital. VCs in the United States started the year with roughly $120 million in available but unspent money to invest in startups, according to NVCA.  \"There are more than 200 funds that I know of who are actively investing, and then there are those microfunds like ours, who if they already had trouble raising, this is going to compound that,\" Hamilton said.  Backstage Capital typically invests in 24 to 32 companies per year, but they've had to put investments on hold due to the pandemic, she said. The firm was even set to hit the road in May on a multi-city tour to connect with underrepresented founders, and make potential investments on the spot, but shelter-in-place mandates led to the tour's cancellation.  \"The pause button has been hit for us,\" Hamilton said. \"We hope that in the second half of the year, we can pick back up.\"  For now, Hamilton's firm is concentrating on ways it can add value and support to its portfolio companies during these unprecedented times.  \"After we realized what had just happened to our world, we said, 'What can we do? What do we do now?,'\" Hamilton said.  The firm has been connecting founders with resources ranging from legal expertise to one-on-one support. \"Thankfully, we're remote by design, so that was easier to deal with. What we're doing is just doubling down on our services and our resources, and trying to add value in many other ways that are not capital intensive,\" she said.  'A great time to start a company'  Still, Hamilton believes there are opportunities out there for aspiring entrepreneurs.  \"I think this is a great time to start a company, or to start something to be a solution to people,\" Hamilton said.  She also believes it's a smart time for entrepreneurs to practice bootstrapping and get creative in finding other ways to save capital. The result, she predicts, will be tomorrow's next big businesses.  \"In a few years, you're going to see this emergence of many empires that are individuals who said, 'This is a time where I was stuck at home, or I was stuck in a situation that I don't want to ever have to be in again, and I am shoring myself up with multiple revenue streams. I'm getting creative. I'm going back to the basics,'\" Hamilton said.  As the coronavirus crisis continues, the economy has faced several fatal blows. So far, 33.5 million Americans, roughly 21% of the US labor force , has filed first-time unemployment claims since mid-March. Not to mention, US GDP growth contracted at an annualized rate of 4.8% in the first three months of 2020, its first contraction since 2008.  And while the economic collapse has taken a toll on many Americans' lives, minorities have fared the worst, with African-Americans impacted disproportionately higher in terms of health and finances.  According to a survey by Goldman Sachs published in late April, 40% of black small business owners reported that they have been approved for forgivable loans during the first round of the government's Paycheck Protection Program, or PPP, compared with 52% of small businesses overall. Additionally, 26% of black business owners said they have less than one month of cash reserves on hand, compared with 17% of small business owners overall.  Despite these disparities, Hamilton remains optimistic that there will be more black millionaires and successful entrepreneurs in the years to come.\n",
      "Sans malus\n"
     ]
    },
    {
     "data": {
      "text/html": [
       "<img src=\"https://api.afp.com/objects/api/medias?id=a1kkIS0nShZdXlcxVgJEXV1EQksZdHscFnNyEWh0eXRyYXcedQRzcWkXTFBOXVQqVkYaX0JXEltfIX9GQFxVMUQgFjYsVgxbPVogNTcjFFpBU1UgV1lZUEFRXh5HLCYQawMDdkMCXiRjQF5cIQkwMC0lUlVCWVNjXFVEXEBVXgUHc3MeDgcAdQd2CXt9.jpg\"/>"
      ],
      "text/plain": [
       "<IPython.core.display.Image object>"
      ]
     },
     "metadata": {},
     "output_type": "display_data"
    },
    {
     "data": {
      "text/html": [
       "<img src=\"https://api.afp.com/objects/api/medias?id=a1kkIS0nShZdXlcxVgJEXV1EQksZd3cfFnNyEWh0dRRzemgedQRzcWkXTFBOXVQqVkYaX0JXEltfIX9GQFxVMUQgFjYsVgxbPVogNTcjFFpBU1UgV1lZUEFRXh5HLCYQWl9lFlArRixjQF5cIQkwMC0lUlVCWVNjXFVEXEBVXgUHc3MeDgcAeA9yBXZx.jpg\"/>"
      ],
      "text/plain": [
       "<IPython.core.display.Image object>"
      ]
     },
     "metadata": {},
     "output_type": "display_data"
    },
    {
     "data": {
      "text/html": [
       "<img src=\"https://api.afp.com/objects/api/medias?id=a1kkIS0nShZdXlcxVgJEXV1EQksZcHICeHRkHgYAZ3R2ZR8BdAZ1aBUzUFpGWlcqUgNeRVUPTlFSeClUV1NEMlJjRSohD1pJKlUxNiFrWlVIW10rTUBRRlNDC0lfIX9OVGNjJlkzX2U3XV1VeUU0LCctVVZCXR4gQV1dR1dDEAkAdHEaDAYNeQB2AHM%3D.jpg\"/>"
      ],
      "text/plain": [
       "<IPython.core.display.Image object>"
      ]
     },
     "metadata": {},
     "output_type": "display_data"
    },
    {
     "data": {
      "text/html": [
       "<img src=\"https://api.afp.com/objects/api/medias?id=a1kkIS0nShZdXlcxVgJEXV1EQksZdHsYFnNyEWh0eXRyeGIedQRzcWkXTFBOXVQqVkYaX0JXEltfIX9GQFxVMUQgFjYsVgxbPVogNTcjFFpBU1UgV1lZUEFRXh5HLCYQawMDdkMCXiRjQF5cIQkwMC0lUlVCWVNjXFVEXEBVXgUHc3MeDgcAdQd2CXtz.jpg\"/>"
      ],
      "text/plain": [
       "<IPython.core.display.Image object>"
      ]
     },
     "metadata": {},
     "output_type": "display_data"
    },
    {
     "data": {
      "text/html": [
       "<img src=\"https://api.afp.com/objects/api/medias?id=a1kkIS0nShZdXlcxVgJEXV1EQksZdHECeHRkHgYAYHQRaB8BdAZ1aBUzUFpGWlcqUgNeRVUPTlFSeClUV1NEMlJjRSohD1pJKlUxNiFrWlVIW10rTUBRRlNDC0lfIX8UYwNeBAMwZ2U3XV1VeUU0LCctVVZCXR4gQV1dR1dDEAkAdHEaDAcEcAVxBnY%3D.jpg\"/>"
      ],
      "text/plain": [
       "<IPython.core.display.Image object>"
      ]
     },
     "metadata": {},
     "output_type": "display_data"
    },
    {
     "data": {
      "text/html": [
       "<img src=\"https://api.afp.com/objects/api/medias?id=a1kkIS0nShZdXlcxVgJEXV1EQksZcnICeHRkHgYMAHoCdR8BdAZ1aBUzUFpGWlcqUgNeRVUPTlFSeClUV1NEMlJjRSohD1pJKlUxNiFrWlVIW10rTUBRRlNDC0lfIX9EalBReXQOfGU3XV1VeUU0LCctVVZCXR4gQV1dR1dDEAkAdHEaDAYAcAJyAno%3D.jpg\"/>"
      ],
      "text/plain": [
       "<IPython.core.display.Image object>"
      ]
     },
     "metadata": {},
     "output_type": "display_data"
    },
    {
     "name": "stdout",
     "output_type": "stream",
     "text": [
      "malus\n"
     ]
    },
    {
     "data": {
      "text/html": [
       "<img src=\"https://api.afp.com/objects/api/medias?id=a1kkIS0nShZdX1sxTF9RGkJYQkxZNm0fCAEbcARyH3FwBx4CdRsAAxQZCHQVAX8dFHxBXFFbQVdZLmxHSVULIl4hDSg8XFBAN1FnMC0iBFJUWFk1SkgZVl5VQF1YMS9ISlNHZ0YsVH5zVnJAfAcZJ2I0VlVIC0kwUE5fWV1fRh5TPTJES1dHfAZzAXByBwMBcwZwfXE%3D.jpg\"/>"
      ],
      "text/plain": [
       "<IPython.core.display.Image object>"
      ]
     },
     "metadata": {},
     "output_type": "display_data"
    },
    {
     "data": {
      "text/html": [
       "<img src=\"https://api.afp.com/objects/api/medias?id=a1kkIS0nShZdXlcxVgJEXV1EQksZc3QCeHRkHgYNZ3V0eR8BdAZ1aBUzUFpGWlcqUgNeRVUPTlFSeClUV1NEMlJjRSohD1pJKlUxNiFrWlVIW10rTUBRRlNDC0lfIX9UT0sHCmAheWU3XV1VeUU0LCctVVZCXR4gQV1dR1dDEAkAdHEaDAYAcwRwBXc%3D.jpg\"/>"
      ],
      "text/plain": [
       "<IPython.core.display.Image object>"
      ]
     },
     "metadata": {},
     "output_type": "display_data"
    },
    {
     "data": {
      "text/html": [
       "<img src=\"https://api.afp.com/objects/api/medias?id=a1kkIS0nShZdX1sxTF9RGkJYQkxZNm0fDAMbcAJ9H3F0BR4BfBsAAxQZCHZ9D3sMFHxBXFFbQVdZLmxHSVULIl4hDSg8XFBAN1FnMC0iBFJUWFk1SkgZVl5VQF1YMS9ISlNHZ0YsVH4geGACdUUpMmI0VlVIC0kwUE5fWV1fRh5TPTJES1dHfAZzAXByBwAJdwRzd3E%3D.jpg\"/>"
      ],
      "text/plain": [
       "<IPython.core.display.Image object>"
      ]
     },
     "metadata": {},
     "output_type": "display_data"
    },
    {
     "data": {
      "text/html": [
       "<img src=\"https://api.afp.com/objects/api/medias?id=a1kkIS0nShZdXlcxVgJEXV1EQksZdHscFnNyEWh0eXRyYXcedQRzcWkXTFBOXVQqVkYaX0JXEltfIX9GQFxVMUQgFjYsVgxbPVogNTcjFFpBU1UgV1lZUEFRXh5HLCYQawMDdkMCXiRjQF5cIQkwMC0lUlVCWVNjXFVEXEBVXgUHc3MeDgcAdQd2CXt9.jpg\"/>"
      ],
      "text/plain": [
       "<IPython.core.display.Image object>"
      ]
     },
     "metadata": {},
     "output_type": "display_data"
    },
    {
     "data": {
      "text/html": [
       "<img src=\"https://api.afp.com/objects/api/medias?id=a1kkIS0nShZdXlcxVgJEXV1EQksZd3cfFnNyEWh0dRRzemgedQRzcWkXTFBOXVQqVkYaX0JXEltfIX9GQFxVMUQgFjYsVgxbPVogNTcjFFpBU1UgV1lZUEFRXh5HLCYQWl9lFlArRixjQF5cIQkwMC0lUlVCWVNjXFVEXEBVXgUHc3MeDgcAeA9yBXZx.jpg\"/>"
      ],
      "text/plain": [
       "<IPython.core.display.Image object>"
      ]
     },
     "metadata": {},
     "output_type": "display_data"
    },
    {
     "data": {
      "text/html": [
       "<img src=\"https://api.afp.com/objects/api/medias?id=a1kkIS0nShZdXlcxVgJEXV1EQksZcHICeHRkHgYAZ3R2ZR8BdAZ1aBUzUFpGWlcqUgNeRVUPTlFSeClUV1NEMlJjRSohD1pJKlUxNiFrWlVIW10rTUBRRlNDC0lfIX9OVGNjJlkzX2U3XV1VeUU0LCctVVZCXR4gQV1dR1dDEAkAdHEaDAYNeQB2AHM%3D.jpg\"/>"
      ],
      "text/plain": [
       "<IPython.core.display.Image object>"
      ]
     },
     "metadata": {},
     "output_type": "display_data"
    },
    {
     "name": "stdout",
     "output_type": "stream",
     "text": [
      "96 \n",
      " (CNN) Editor's Note: A version of this story appeared in CNN's Work Transformed newsletter. To get it in your inbox, sign up for free here .  The collapse of the job market came fast and furious.  It wasn't long ago when job seekers were in the driver's seat and enjoying multiple job offers. The labor market was so strong that some candidates weren't even showing up on their first day of work.  Times sure have changed. More than 33 million Americans have filed for initial unemployment benefits since mid-March. And a White House economic adviser recently warned that the jobless rate could spike to between 16% and 20% by June.  The whiplash we're all feeling is real.  Losing your job can be devastating. But mix in the greater economic uncertainty and a pandemic, and the search for a new job can seem overwhelming.  Update your resume. Be clear about what you can do for a company, and detail your accomplishments. Be specific about your past roles and responsibilities.  You also want to highlight your soft skills -- like communication and leadership experience -- as well as transferable skills if you are looking to get hired in a new industry.  Pay attention to the words and phrases used in the hiring company's job description and use them in your resume. Tailoring it for each job you apply for helps get you past resume filters.  Create a spreadsheet to track the jobs you've applied for along with the description. That way when a recruiter calls, you can easily reference how your skills apply to the job opening.  Enhance your repertoire. Take this time to learn new skills, take an online class or volunteer. Those experiences will not only help fill in any gaps on your resume, but they can also be good talking points during an interview to highlight your ambition and willingness to continue to grow professionally.  Learn to sell yourself. With so much in flux right now, employers want to see confidence and adaptability, one expert told me. Be prepared to share real-life examples that prove you are a team player ready to jump in and help navigate your organization through these uncertain times.  Ask for help. You never know where your next job lead will come from. It's difficult to network without face-to-face interactions. But you can call or email people and tell them you are looking for a job, provide details about your experience and what you are looking for to help hone in on worthwhile opportunities.  Former engineers get back to nature  Some job seekers are reinventing themselves during the pandemic. Unemployed workers in Britain, for example, are taking on a new role: farming.  British farmers are facing a shortage of workers to help with this season's harvest, so recently laid-off and furloughed locals are heading to the fields to help.  \"I just wanted to be active, to get involved. Keep me fit, get me out of the house, otherwise we're locked down at home. I enjoy being outside,\" said a furloughed civil engineer.  The recovery's X factor: child care  In addition to getting the unemployed working again, another big step for the economic recovery will be to get people back into their offices.  But here's the reality: Working parents can't go back if they don't have child care.  Many parents have been juggling (some days it feels more like drowning in) professional and child care responsibilities. If daycare centers remain closed and summer camps don't happen, they are going to be left in the lurch if they get called back to work.  That means we could see parents making some tough decisions: Continue to work from home if they can, quit or decide not to get a new job if they were let go. All of these choices have an impact on the economy.  Read this story from CNN's Anneken Tappe about the knock-on effects of the lack of child care and how coronavirus could change the nature of work forever.  Protecting your credit during a pandemic  I know you've got a lot going on right now. But you need to be paying attention to your credit score.  These three digits can have a major impact on your finances, and what you do now can have long-lasting effects.  Even if you don't have any major purchases planned at the moment, you don't want to find yourself in a hole later on.  The first step is checking your credit early and often. And that's pretty easy now that the three major credit reporting agencies are offering free weekly credit reports for the next year.  Here are five tips from CNN's Anna Bahney to help protect your credit score during an economic crisis.  How data collectors are still doing their jobs from home  It's always fun to get an inside look at how people are making their jobs work when they can't be in the office.  Every month we get an important economic indicator: the jobs report. It calculates how many jobs were gained or lost in the previous month, as well as the unemployment rate. It can move stock markets and sway policy. And it takes thousands of government workers to produce.  So when the pandemic took hold in the US, the effort to transition these statisticians and data collectors to work remotely was a big undertaking.  Closets were raided to find equipment and there was a scramble to update software and find cell phones so people could continue to do their jobs during a time when reliable data is vital.  Coffee break  We could all use a little more zen these days, and what's more zen than planting your own garden?  Seed sales have increased during the pandemic as people test out their green thumbs. While there is a practicality to growing your own food, gardening can also bring a calming respite to the chaotic world around us.  And here's some good news: it's not too late to start one of your own.\n",
      "Sans malus\n"
     ]
    },
    {
     "data": {
      "text/html": [
       "<img src=\"https://api.afp.com/objects/api/medias?id=a1kkIS0nShZdXlcxVgJEXV1EQksZdXQCeHRkHgYNc3QQdx8BdAZ1aBUzUFpGWlcqUgNeRVUPTlFSeClUV1NEMlJjRSohD1pJKlUxNiFrWlVIW10rTUBRRlNDC0lfIX9ZWFRHN2QSXGU3XV1VeUU0LCctVVZCXR4gQV1dR1dDEAkAdHEaDAYBdQd8BHQ%3D.jpg\"/>"
      ],
      "text/plain": [
       "<IPython.core.display.Image object>"
      ]
     },
     "metadata": {},
     "output_type": "display_data"
    },
    {
     "data": {
      "text/html": [
       "<img src=\"https://api.afp.com/objects/api/medias?id=a1kkIS0nShZdXlcxVgJEXV1EQksZdHMVFnNyEWh0dxJ9AQEedQRzcWkXTFBOXVQqVkYaX0JXEltfIX9GQFxVMUQgFjYsVgxbPVogNTcjFFpBU1UgV1lZUEFRXh5HLCYQa1pZJlQLQgtjQF5cIQkwMC0lUlVCWVNjXFVEXEBVXgUHc3MeDgcAdwVwAHt8.jpg\"/>"
      ],
      "text/plain": [
       "<IPython.core.display.Image object>"
      ]
     },
     "metadata": {},
     "output_type": "display_data"
    },
    {
     "data": {
      "text/html": [
       "<img src=\"https://api.afp.com/objects/api/medias?id=a1kkIS0nShZdXlcxVgJEXV1EQksZcHACeHRkHgYPZnoNAB8BdAZ1aBUzUFpGWlcqUgNeRVUPTlFSeClUV1NEMlJjRSohD1pJKlUxNiFrWlVIW10rTUBRRlNDC0lfIX8acmhdCg8CXGU3XV1VeUU0LCctVVZCXR4gQV1dR1dDEAkAdHEaDAYFdQ9xCHo%3D.jpg\"/>"
      ],
      "text/plain": [
       "<IPython.core.display.Image object>"
      ]
     },
     "metadata": {},
     "output_type": "display_data"
    },
    {
     "data": {
      "text/html": [
       "<img src=\"https://api.afp.com/objects/api/medias?id=a1kkIS0nShZdXlcxVgJEXV1EQksZdHMCeHRkHgYNdHcfZx8BdAZ1aBUzUFpGWlcqUgNeRVUPTlFSeClUV1NEMlJjRSohD1pJKlUxNiFrWlVIW10rTUBRRlNDC0lfIX9CWFxbIwAICGU3XV1VeUU0LCctVVZCXR4gQV1dR1dDEAkAdHEaDAYBcgFxB3U%3D.jpg\"/>"
      ],
      "text/plain": [
       "<IPython.core.display.Image object>"
      ]
     },
     "metadata": {},
     "output_type": "display_data"
    },
    {
     "data": {
      "text/html": [
       "<img src=\"https://api.afp.com/objects/api/medias?id=a1kkIS0nShZdXlcxVgJEXV1EQksZcnoCeHRkHgYNdHYPAR8BdAZ1aBUzUFpGWlcqUgNeRVUPTlFSeClUV1NEMlJjRSohD1pJKlUxNiFrWlVIW10rTUBRRlNDC0lfIX9CWFxbIwAICGU3XV1VeUU0LCctVVZCXR4gQV1dR1dDEAkAdHEaDAYBcgFxA3c%3D.jpg\"/>"
      ],
      "text/plain": [
       "<IPython.core.display.Image object>"
      ]
     },
     "metadata": {},
     "output_type": "display_data"
    },
    {
     "data": {
      "text/html": [
       "<img src=\"https://api.afp.com/objects/api/medias?id=a1kkIS0nShZdX1sxTF9RGkJYQkxZNm0cAAsbcAdzH3FxAh4DfRsAAxQZCH58DwsRFHxBXFFbQVdZLmxHSVULIl4hDSg8XFBAN1FnMC0iBFJUWFk1SkgZVl5VQF1YMS9ISlNHZ0YsVH4XWlxXJ3ozDWI0VlVIC0kwUE5fWV1fRh5TPTJES1dHfAZzAXByBwUGdgB4d3Q%3D.jpg\"/>"
      ],
      "text/plain": [
       "<IPython.core.display.Image object>"
      ]
     },
     "metadata": {},
     "output_type": "display_data"
    },
    {
     "name": "stdout",
     "output_type": "stream",
     "text": [
      "malus\n"
     ]
    },
    {
     "data": {
      "text/html": [
       "<img src=\"https://api.afp.com/objects/api/medias?id=a1kkIS0nShZdXlcxVgJEXV1EQksZcHACeHRkHgYPZnoNAB8BdAZ1aBUzUFpGWlcqUgNeRVUPTlFSeClUV1NEMlJjRSohD1pJKlUxNiFrWlVIW10rTUBRRlNDC0lfIX8acmhdCg8CXGU3XV1VeUU0LCctVVZCXR4gQV1dR1dDEAkAdHEaDAYFdQ9xCHo%3D.jpg\"/>"
      ],
      "text/plain": [
       "<IPython.core.display.Image object>"
      ]
     },
     "metadata": {},
     "output_type": "display_data"
    },
    {
     "data": {
      "text/html": [
       "<img src=\"https://api.afp.com/objects/api/medias?id=a1kkIS0nShZdXlcxVgJEXV1EQksZdXQCeHRkHgYNc3QQdx8BdAZ1aBUzUFpGWlcqUgNeRVUPTlFSeClUV1NEMlJjRSohD1pJKlUxNiFrWlVIW10rTUBRRlNDC0lfIX9ZWFRHN2QSXGU3XV1VeUU0LCctVVZCXR4gQV1dR1dDEAkAdHEaDAYBdQd8BHQ%3D.jpg\"/>"
      ],
      "text/plain": [
       "<IPython.core.display.Image object>"
      ]
     },
     "metadata": {},
     "output_type": "display_data"
    },
    {
     "data": {
      "text/html": [
       "<img src=\"https://api.afp.com/objects/api/medias?id=a1kkIS0nShZdXlcxVgJEXV1EQksZdHMVFnNyEWh0dxJ9AQEedQRzcWkXTFBOXVQqVkYaX0JXEltfIX9GQFxVMUQgFjYsVgxbPVogNTcjFFpBU1UgV1lZUEFRXh5HLCYQa1pZJlQLQgtjQF5cIQkwMC0lUlVCWVNjXFVEXEBVXgUHc3MeDgcAdwVwAHt8.jpg\"/>"
      ],
      "text/plain": [
       "<IPython.core.display.Image object>"
      ]
     },
     "metadata": {},
     "output_type": "display_data"
    },
    {
     "data": {
      "text/html": [
       "<img src=\"https://api.afp.com/objects/api/medias?id=a1kkIS0nShZdXlcxVgJEXV1EQksZcnoCeHRkHgYNdHYPAR8BdAZ1aBUzUFpGWlcqUgNeRVUPTlFSeClUV1NEMlJjRSohD1pJKlUxNiFrWlVIW10rTUBRRlNDC0lfIX9CWFxbIwAICGU3XV1VeUU0LCctVVZCXR4gQV1dR1dDEAkAdHEaDAYBcgFxA3c%3D.jpg\"/>"
      ],
      "text/plain": [
       "<IPython.core.display.Image object>"
      ]
     },
     "metadata": {},
     "output_type": "display_data"
    },
    {
     "data": {
      "text/html": [
       "<img src=\"https://api.afp.com/objects/api/medias?id=a1kkIS0nShZdXlcxVgJEXV1EQksZdHMCeHRkHgYNdHcfZx8BdAZ1aBUzUFpGWlcqUgNeRVUPTlFSeClUV1NEMlJjRSohD1pJKlUxNiFrWlVIW10rTUBRRlNDC0lfIX9CWFxbIwAICGU3XV1VeUU0LCctVVZCXR4gQV1dR1dDEAkAdHEaDAYBcgFxB3U%3D.jpg\"/>"
      ],
      "text/plain": [
       "<IPython.core.display.Image object>"
      ]
     },
     "metadata": {},
     "output_type": "display_data"
    },
    {
     "data": {
      "text/html": [
       "<img src=\"https://api.afp.com/objects/api/medias?id=a1kkIS0nShZdXlcxVgJEXV1EQksZcnACeHRkHgYPcXpycB8BdAZ1aBUzUFpGWlcqUgNeRVUPTlFSeClUV1NEMlJjRSohD1pJKlUxNiFrWlVIW10rTUBRRlNDC0lfIX9CcHAFF2IWVGU3XV1VeUU0LCctVVZCXR4gQV1dR1dDEAkAdHEaDAYGdgB3Bno%3D.jpg\"/>"
      ],
      "text/plain": [
       "<IPython.core.display.Image object>"
      ]
     },
     "metadata": {},
     "output_type": "display_data"
    },
    {
     "name": "stdout",
     "output_type": "stream",
     "text": [
      "97 \n",
      " Hong Kong (CNN Business) Another week brings another massive injection of cash for India's biggest tech and telecom firm.  US investment firm Vista Equity is pumping nearly 114 billion rupees ($1.5 billion) into Jio Platforms, the digital technology arm of Indian billionaire Mukesh Ambani's sprawling conglomerate Reliance Industries.  Reliance said on Friday that the deal values Jio at about $65 billion.  \"Like our other partners, Vista also shares with us the same vision of continuing to grow and transform the Indian digital ecosystem for the benefit of all Indians,\" Ambani said in a statement.  Facebook FB The investment marks the third marquee cash injection for Ambani's growing tech empire in less than three weeks. invested $5.7 billion in Jio Platforms in late April and private equity firm Silver Lake followed earlier this week with $750 million.  Read More\n",
      "Sans malus\n"
     ]
    },
    {
     "data": {
      "text/html": [
       "<img src=\"https://api.afp.com/objects/api/medias?id=a1kkIS0nShZdXlcxVgJEXV1EQksZdHUaFnNyEWh0d3tyd3cedQRzcWkXTFBOXVQqVkYaX0JXEltfIX9GQFxVMUQgFjYsVgxbPVogNTcjFFpBU1UgV1lZUEFRXh5HLCYQTXF%2FJW8EQnZjQF5cIQkwMC0lUlVCWVNjXFVEXEBVXgUHc3MeDgcAdgZ8CXp8.jpg\"/>"
      ],
      "text/plain": [
       "<IPython.core.display.Image object>"
      ]
     },
     "metadata": {},
     "output_type": "display_data"
    },
    {
     "data": {
      "text/html": [
       "<img src=\"https://api.afp.com/objects/api/medias?id=a1kkIS0nShZdXlcxVgJEXV1EQksZcXQCeHRkHgYCCXIJax8BdAZ1aBUzUFpGWlcqUgNeRVUPTlFSeClUV1NEMlJjRSohD1pJKlUxNiFrWlVIW10rTUBRRlNDC0lfIX9ZenlQGXY3BWU3XV1VeUU0LCctVVZCXR4gQV1dR1dDEAkAdHEaDAYDcA58BHI%3D.jpg\"/>"
      ],
      "text/plain": [
       "<IPython.core.display.Image object>"
      ]
     },
     "metadata": {},
     "output_type": "display_data"
    },
    {
     "data": {
      "text/html": [
       "<img src=\"https://api.afp.com/objects/api/medias?id=a1kkIS0nShZdXlcxVgJEXV1EQksZdHEZFnNyEWh0eXZ0fwYedQRzcWkXTFBOXVQqVkYaX0JXEltfIX9GQFxVMUQgFjYsVgxbPVogNTcjFFpBU1UgV1lZUEFRXh5HLCYQfAYDG2UHdi1jQF5cIQkwMC0lUlVCWVNjXFVEXEBVXgUHc3MeDgcAdQdyB3Vw.jpg\"/>"
      ],
      "text/plain": [
       "<IPython.core.display.Image object>"
      ]
     },
     "metadata": {},
     "output_type": "display_data"
    },
    {
     "data": {
      "text/html": [
       "<img src=\"https://api.afp.com/objects/api/medias?id=a1kkIS0nShZdXlcxVgJEXV1EQksZdHAeFnNyEWh0d3p0cQMedQRzcWkXTFBOXVQqVkYaX0JXEltfIX9GQFxVMUQgFjYsVgxbPVogNTcjFFpBU1UgV1lZUEFRXh5HLCYQTXF%2FJW8EQnZjQF5cIQkwMC0lUlVCWVNjXFVEXEBVXgUHc3MeDgcAdgZ8CXt0.jpg\"/>"
      ],
      "text/plain": [
       "<IPython.core.display.Image object>"
      ]
     },
     "metadata": {},
     "output_type": "display_data"
    },
    {
     "data": {
      "text/html": [
       "<img src=\"https://api.afp.com/objects/api/medias?id=a1kkIS0nShZdXlcxVgJEXV1EQksZcnACeHRkHgYCCXIDfh8BdAZ1aBUzUFpGWlcqUgNeRVUPTlFSeClUV1NEMlJjRSohD1pJKlUxNiFrWlVIW10rTUBRRlNDC0lfIX9ZenlQGXY3BWU3XV1VeUU0LCctVVZCXR4gQV1dR1dDEAkAdHEaDAYDcA58B3Y%3D.jpg\"/>"
      ],
      "text/plain": [
       "<IPython.core.display.Image object>"
      ]
     },
     "metadata": {},
     "output_type": "display_data"
    },
    {
     "data": {
      "text/html": [
       "<img src=\"https://api.afp.com/objects/api/medias?id=a1kkIS0nShZdXlcxVgJEXV1EQksZc3oCeHRkHgYDY3pzeh8BdAZ1aBUzUFpGWlcqUgNeRVUPTlFSeClUV1NEMlJjRSohD1pJKlUxNiFrWlVIW10rTUBRRlNDC0lfIX9jTmFFJVhzQWU3XV1VeUU0LCctVVZCXR4gQV1dR1dDEAkAdHEaDAYMcQRyAXM%3D.jpg\"/>"
      ],
      "text/plain": [
       "<IPython.core.display.Image object>"
      ]
     },
     "metadata": {},
     "output_type": "display_data"
    },
    {
     "name": "stdout",
     "output_type": "stream",
     "text": [
      "malus\n"
     ]
    },
    {
     "data": {
      "text/html": [
       "<img src=\"https://api.afp.com/objects/api/medias?id=a1kkIS0nShZdXlcxVgJEXV1EQksZdHUUFnNyEWh0fAt1BncedQRzcWkXTFBOXVQqVkYaX0JXEltfIX9GQFxVMUQgFjYsVgxbPVogNTcjFFpBU1UgV1lZUEFRXh5HLCYQXH9QDHIxZQRjQF5cIQkwMC0lUlVCWVNjXFVEXEBVXgUHc3MeDgcHeAF3Anp9.jpg\"/>"
      ],
      "text/plain": [
       "<IPython.core.display.Image object>"
      ]
     },
     "metadata": {},
     "output_type": "display_data"
    },
    {
     "data": {
      "text/html": [
       "<img src=\"https://api.afp.com/objects/api/medias?id=a1kkIS0nShZdXlcxVgJEXV1EQksZdXcCeHRkHgYJd3ocZB8BdAZ1aBUzUFpGWlcqUgNeRVUPTlFSeClUV1NEMlJjRSohD1pJKlUxNiFrWlVIW10rTUBRRlNDC0lfIX9IdFZ5BEMQd2U3XV1VeUU0LCctVVZCXR4gQV1dR1dDEAkAdHEaDAENdwV3CXE%3D.jpg\"/>"
      ],
      "text/plain": [
       "<IPython.core.display.Image object>"
      ]
     },
     "metadata": {},
     "output_type": "display_data"
    },
    {
     "data": {
      "text/html": [
       "<img src=\"https://api.afp.com/objects/api/medias?id=a1kkIS0nShZdXlcxVgJEXV1EQksZd3oCeHRkHgYJeHMEZh8BdAZ1aBUzUFpGWlcqUgNeRVUPTlFSeClUV1NEMlJjRSohD1pJKlUxNiFrWlVIW10rTUBRRlNDC0lfIX9IdFZ5BEMQd2U3XV1VeUU0LCctVVZCXR4gQV1dR1dDEAkAdHEaDAENdwV3B3M%3D.jpg\"/>"
      ],
      "text/plain": [
       "<IPython.core.display.Image object>"
      ]
     },
     "metadata": {},
     "output_type": "display_data"
    },
    {
     "data": {
      "text/html": [
       "<img src=\"https://api.afp.com/objects/api/medias?id=a1kkIS0nShZdXlcxVgJEXV1EQksZdHUaFnNyEWh0fAt1C3gedQRzcWkXTFBOXVQqVkYaX0JXEltfIX9GQFxVMUQgFjYsVgxbPVogNTcjFFpBU1UgV1lZUEFRXh5HLCYQXH9QDHIxZQRjQF5cIQkwMC0lUlVCWVNjXFVEXEBVXgUHc3MeDgcHeAF3AnV8.jpg\"/>"
      ],
      "text/plain": [
       "<IPython.core.display.Image object>"
      ]
     },
     "metadata": {},
     "output_type": "display_data"
    },
    {
     "data": {
      "text/html": [
       "<img src=\"https://api.afp.com/objects/api/medias?id=a1kkIS0nShZdXlcxVgJEXV1EQksZfHICeHRkHgYJeHNzdB8BdAZ1aBUzUFpGWlcqUgNeRVUPTlFSeClUV1NEMlJjRSohD1pJKlUxNiFrWlVIW10rTUBRRlNDC0lfIX9IdFZ5BEMQd2U3XV1VeUU0LCctVVZCXR4gQV1dR1dDEAkAdHEaDAENdwV3BnU%3D.jpg\"/>"
      ],
      "text/plain": [
       "<IPython.core.display.Image object>"
      ]
     },
     "metadata": {},
     "output_type": "display_data"
    },
    {
     "data": {
      "text/html": [
       "<img src=\"https://api.afp.com/objects/api/medias?id=a1kkIS0nShZdXlcxVgJEXV1EQksZdHQeFnNyEWh0fAt1BHMedQRzcWkXTFBOXVQqVkYaX0JXEltfIX9GQFxVMUQgFjYsVgxbPVogNTcjFFpBU1UgV1lZUEFRXh5HLCYQXH9QDHIxZQRjQF5cIQkwMC0lUlVCWVNjXFVEXEBVXgUHc3MeDgcHeAF3AnVw.jpg\"/>"
      ],
      "text/plain": [
       "<IPython.core.display.Image object>"
      ]
     },
     "metadata": {},
     "output_type": "display_data"
    }
   ],
   "source": [
    "for l in range(len(v)):    \n",
    "    i=v[l]\n",
    "    \n",
    "    L_malus = [ photos.url_extracted[k[1]] for k in i[1][:6] ] \n",
    "    L_sansmalus= [ photos.url_extracted[k[1]] for k in i[0][:6]] \n",
    "    print(c[l], \"\\n\",df.Article[c[l]])\n",
    "    print('Sans malus')\n",
    "    for i in L_sansmalus :\n",
    "        display(Image(url= i))\n",
    "    \n",
    "    print('malus')\n",
    "    for i in L_malus  :\n",
    "        display(Image(url=i))"
   ]
  },
  {
   "cell_type": "code",
   "execution_count": 65,
   "metadata": {},
   "outputs": [
    {
     "data": {
      "text/plain": [
       "'Relatives pray during the funeral procession for former Khmer Rouge \"Brother Number Two\" Nuon Chea in Pailin on August 9, 2019. Crowds gathered for the funeral of \"Brother Number Two\" Nuon Chea on August 9, paying their final respects to a man considered the chief ideologue of Cambodia\\'s murderous Khmer Rouge regime.'"
      ]
     },
     "execution_count": 65,
     "metadata": {},
     "output_type": "execute_result"
    }
   ],
   "source": [
    "photos.caption[v[21][1][2][1]]"
   ]
  },
  {
   "cell_type": "code",
   "execution_count": 55,
   "metadata": {},
   "outputs": [
    {
     "data": {
      "text/plain": [
       "[1,\n",
       " 2,\n",
       " 3,\n",
       " 4,\n",
       " 7,\n",
       " 8,\n",
       " 9,\n",
       " 10,\n",
       " 11,\n",
       " 12,\n",
       " 13,\n",
       " 14,\n",
       " 16,\n",
       " 17,\n",
       " 19,\n",
       " 20,\n",
       " 21,\n",
       " 23,\n",
       " 24,\n",
       " 26,\n",
       " 27,\n",
       " 28,\n",
       " 29,\n",
       " 30,\n",
       " 31,\n",
       " 33,\n",
       " 34,\n",
       " 35,\n",
       " 36,\n",
       " 37,\n",
       " 38,\n",
       " 39,\n",
       " 40,\n",
       " 41,\n",
       " 42,\n",
       " 43,\n",
       " 44,\n",
       " 45,\n",
       " 46,\n",
       " 47,\n",
       " 48,\n",
       " 49,\n",
       " 50,\n",
       " 51,\n",
       " 53,\n",
       " 54,\n",
       " 55,\n",
       " 56,\n",
       " 57,\n",
       " 58,\n",
       " 59,\n",
       " 60,\n",
       " 61,\n",
       " 62,\n",
       " 63,\n",
       " 65,\n",
       " 67,\n",
       " 68,\n",
       " 69,\n",
       " 70,\n",
       " 71,\n",
       " 72,\n",
       " 73,\n",
       " 75,\n",
       " 76,\n",
       " 77,\n",
       " 78,\n",
       " 79,\n",
       " 80,\n",
       " 81,\n",
       " 82,\n",
       " 83,\n",
       " 84,\n",
       " 85,\n",
       " 86,\n",
       " 87,\n",
       " 88,\n",
       " 89,\n",
       " 90,\n",
       " 91,\n",
       " 92,\n",
       " 93,\n",
       " 94,\n",
       " 95,\n",
       " 96,\n",
       " 97,\n",
       " 98,\n",
       " 99]"
      ]
     },
     "execution_count": 55,
     "metadata": {},
     "output_type": "execute_result"
    }
   ],
   "source": [
    "c"
   ]
  },
  {
   "cell_type": "code",
   "execution_count": 192,
   "metadata": {},
   "outputs": [],
   "source": [
    "article_time= 'Jerusalem (CNN) The mourners gathered by the hundreds, packed tightly on to the evening streets of Bnei Brak. There was no social distancing -- no two meters between them -- as they made their way down the roads of this ultra-Orthodox town near Tel Aviv for the Saturday night funeral of Rabbi Tzvi Shenkar.\\n\\nDespite a police presence, the crowd mingled freely, apparently unconcerned about the government restrictions on large gatherings, or the reason behind them.\\n\\nAs Israel has battled the spread of coronavirus , the government has imposed increasingly tighter restrictions on the public in an attempt to slow the rate of infection. As of Tuesday morning, Israel had 4,831 confirmed cases of coronavirus and 17 deaths as a result of the disease.\\n\\nThough police say the majority of the public has heeded the instructions, the seriousness of the situation seems yet to have fully penetrated the ultra-Orthodox community.\\n\\nMore than a week earlier, an ultra-Orthodox wedding in Bet Shemesh near Jerusalem drew a crowd of 150, police said, in violation of government restrictions which limited weddings to ten people. One of those in attendance was supposed to be in quarantine, police said. He was one of three people arrested for endangering public health.\\n\\n\"With the ultra-religious communities, we are definitely emphasizing police units being inside and dispersing people,\" said police spokesman Micky Rosenfeld. \"We\\'re seeing gatherings of more than ten people which is against the law,\" Rosenfeld said, emphasizing instances of religious schools that have remained open, despite orders to close.\\n\\nIn the ongoing fight against coronavirus, the ultra-Orthodox communities have become the front line. Police officers and SWAT teams have gone into these neighborhoods, warning people of the new restrictions on public gathering and issuing tickets to those who ignore the rules. But too often, the Haredim view civil laws and restrictions as an intrusion into their conservative, strictly religious, lifestyle.\\n\\nIn Mea Shearim, video from Israel police showed officers showered with cries of \"Nazis\" and \"murderers\" as they made their way down the labyrinthine alleys of the insular Jerusalem neighborhood. A medical team from Magen David Adom (MDA), Israel\\'s emergency response service, was pelted with rocks in the same neighborhood while trying to carry out a coronavirus test, a spokesman from MDA said.\\n\\nIsraeli security forces arrest an ultra-Orthodox Jewish man as they close a synagogue in Jerusalem on Monday.\\n\\nInfection rates in ultra-Orthodox communities are markedly higher than the rest of the country. The ultra-Orthodox communities in Bnei Brak, Mea Shearim, and Kiryat Yearim, which lies between Jerusalem and Tel Aviv, have among the highest infection rates in Israel, Rosenfeld said. A spokesman for the mayor of Bnei Brak said health officials had confirmed the town had the single highest infection rate in the entire country.\\n\\nIsrael\\'s ultra-Orthodox, also known as the Haredim, make up just 14% of the country\\'s total population but comprises a disproportionately large number of coronavirus patients. At Tel Hashomer hospital outside Tel Aviv, 60% of the coronavirus patients are ultra-Orthodox, spokesman Steve Walz tells CNN\\n\\nHaredi communities routinely shun modern technology like internet and smart phones. Despite a gradual modernization movement, the community still relies on posters and signs plastered on street corners to spread important messages and news. On one corner in Mea Shearim, a sign implores the community to heed the government\\'s instructions, saying, \"Danger! Responsibility Demands,\" and explains who need to enter self-quarantine. But the sign was ripped apart, with the middle section torn out.\\n\\nA number of signs nearby shared a very different message about a \"Terrible Discovery\" that the \"Corona Epidemic = A Lack of Modesty.\" The poster implored women and girls to dress modestly and adhere to religion according to the demands of Jewish law.\\n\\nA poster with instructions on how to properly sneeze in Jerusalem on Sunday.\\n\\nDespite outward appearances, the ultra-Orthodox community is not homogenous. Instead it is divided into many different factions and groups, each with its own rabbis and leaders. A directive from one rabbi may not hold sway over the followers of a different rabbi. Some of the groups are defiantly opposed to the existence of the state of Israel, believing it makes less likely the arrival of the Messiah. One of the most radical is known as the Jerusalem faction, which regularly organizes protests against the Israeli government. Police say it was this group that held the funeral in Bnei Brak over the weekend.\\n\\nEven so, some leading ultra-Orthodox rabbis have begun to instruct their followers to obey government restrictions. Rabbi Chaim Kanievsky, one of the most prominent Haredi religious leaders, warned on religious media outlets that anyone who doesn\\'t obey the instructions of the Ministry of Health should be turned over to police.\\n\\nIn an extraordinary move, he even allowed ultra-Orthodox Jews to answer their phone on the Sabbath -- when use of technology and electricity are strictly forbidden -- if they\\'re expecting results of a coronavirus test. Kanievsky\\'s intervention was all the more remarkable because in an earlier announcement about the virus he had told his followers to continue their communal study of the Torah, in direct contradiction to government instructions.\\n\\nJews attended a special prayer last Wednesday at the Western Wall for the end of the coronavirus pandemic while keeping a distance of two meters from one another.\\n\\nThe mayor of Bnei Brak, Avraham Rubinstein also warned the ultra-Orthodox community in no uncertain terms to \"Wake Up!\" in a recorded message that went out to residents via telephone. Rubinstein himself is under quarantine from the spread of coronavirus within Bnei Brak.\\n\\nThe phone call itself provides an illustration of one of the most difficult aspects of disseminating a message to the Haredi community -- when an entire population shuns the internet, smart phones and other modern means of communication, spreading urgent news and the latest directives is incredibly challenging.\\n\\n\"Inside these religious communities, they are not online and they are not using communicative systems, such as smart phone and televisions,\" said Micky Rosenfeld. \"They don\\'t exist inside these neighborhoods.\"\\n\\nMayor Rubinstein followed up his recorded warning with an interview Monday morning on a Haredi radio station, saying \"Bnei Brak has done, is doing, and will do, everything to prevent people gathering and to do everything the Ministry of Health instructs.\" But he acknowledged the town had little power to close private religious institutions that refused to comply.\\n\\n\"We\\'re in a war,\" Moti Ravid, head of the Mayanei Hayeshua hospital in Bnei Brak, told public broadcaster Kan on Sunday. \"I warned a month ago that there would be a catastrophe in the city if they did not stop the gatherings and close the synagogues and the yeshivas, and everyone yelled at me, \\'How dare you?\\'\"\\n\\n\"Today, they say, \\'It\\'s a pity we didn\\'t listen to you then.\\'\"\\n\\nIn the face of an epidemic that is decidedly worse in one specific community, the government has contemplated quarantining the ultra-Orthodox neighborhoods.\\n\\nOn Army Radio Sunday morning, Ministry of Health Director-General Moshe Bar Siman Tov said officials were looking into the possibility. \"We are checking this,\" said Siman Tov. \"If we get to the conclusion that this will be an effective step, we will recommend it.\"'\n",
    "article_time = article_time.replace(\"\\n\",\" \")"
   ]
  },
  {
   "cell_type": "code",
   "execution_count": 193,
   "metadata": {},
   "outputs": [
    {
     "name": "stdout",
     "output_type": "stream",
     "text": [
      "Jerusalem (CNN) The mourners gathered by the hundreds, packed tightly on to the evening streets of Bnei Brak. There was no social distancing -- no two meters between them -- as they made their way down the roads of this ultra-Orthodox town near Tel Aviv for the Saturday night funeral of Rabbi Tzvi Shenkar.  Despite a police presence, the crowd mingled freely, apparently unconcerned about the government restrictions on large gatherings, or the reason behind them.  As Israel has battled the spread of coronavirus , the government has imposed increasingly tighter restrictions on the public in an attempt to slow the rate of infection. As of Tuesday morning, Israel had 4,831 confirmed cases of coronavirus and 17 deaths as a result of the disease.  Though police say the majority of the public has heeded the instructions, the seriousness of the situation seems yet to have fully penetrated the ultra-Orthodox community.  More than a week earlier, an ultra-Orthodox wedding in Bet Shemesh near Jerusalem drew a crowd of 150, police said, in violation of government restrictions which limited weddings to ten people. One of those in attendance was supposed to be in quarantine, police said. He was one of three people arrested for endangering public health.  \"With the ultra-religious communities, we are definitely emphasizing police units being inside and dispersing people,\" said police spokesman Micky Rosenfeld. \"We're seeing gatherings of more than ten people which is against the law,\" Rosenfeld said, emphasizing instances of religious schools that have remained open, despite orders to close.  In the ongoing fight against coronavirus, the ultra-Orthodox communities have become the front line. Police officers and SWAT teams have gone into these neighborhoods, warning people of the new restrictions on public gathering and issuing tickets to those who ignore the rules. But too often, the Haredim view civil laws and restrictions as an intrusion into their conservative, strictly religious, lifestyle.  In Mea Shearim, video from Israel police showed officers showered with cries of \"Nazis\" and \"murderers\" as they made their way down the labyrinthine alleys of the insular Jerusalem neighborhood. A medical team from Magen David Adom (MDA), Israel's emergency response service, was pelted with rocks in the same neighborhood while trying to carry out a coronavirus test, a spokesman from MDA said.  Israeli security forces arrest an ultra-Orthodox Jewish man as they close a synagogue in Jerusalem on Monday.  Infection rates in ultra-Orthodox communities are markedly higher than the rest of the country. The ultra-Orthodox communities in Bnei Brak, Mea Shearim, and Kiryat Yearim, which lies between Jerusalem and Tel Aviv, have among the highest infection rates in Israel, Rosenfeld said. A spokesman for the mayor of Bnei Brak said health officials had confirmed the town had the single highest infection rate in the entire country.  Israel's ultra-Orthodox, also known as the Haredim, make up just 14% of the country's total population but comprises a disproportionately large number of coronavirus patients. At Tel Hashomer hospital outside Tel Aviv, 60% of the coronavirus patients are ultra-Orthodox, spokesman Steve Walz tells CNN  Haredi communities routinely shun modern technology like internet and smart phones. Despite a gradual modernization movement, the community still relies on posters and signs plastered on street corners to spread important messages and news. On one corner in Mea Shearim, a sign implores the community to heed the government's instructions, saying, \"Danger! Responsibility Demands,\" and explains who need to enter self-quarantine. But the sign was ripped apart, with the middle section torn out.  A number of signs nearby shared a very different message about a \"Terrible Discovery\" that the \"Corona Epidemic = A Lack of Modesty.\" The poster implored women and girls to dress modestly and adhere to religion according to the demands of Jewish law.  A poster with instructions on how to properly sneeze in Jerusalem on Sunday.  Despite outward appearances, the ultra-Orthodox community is not homogenous. Instead it is divided into many different factions and groups, each with its own rabbis and leaders. A directive from one rabbi may not hold sway over the followers of a different rabbi. Some of the groups are defiantly opposed to the existence of the state of Israel, believing it makes less likely the arrival of the Messiah. One of the most radical is known as the Jerusalem faction, which regularly organizes protests against the Israeli government. Police say it was this group that held the funeral in Bnei Brak over the weekend.  Even so, some leading ultra-Orthodox rabbis have begun to instruct their followers to obey government restrictions. Rabbi Chaim Kanievsky, one of the most prominent Haredi religious leaders, warned on religious media outlets that anyone who doesn't obey the instructions of the Ministry of Health should be turned over to police.  In an extraordinary move, he even allowed ultra-Orthodox Jews to answer their phone on the Sabbath -- when use of technology and electricity are strictly forbidden -- if they're expecting results of a coronavirus test. Kanievsky's intervention was all the more remarkable because in an earlier announcement about the virus he had told his followers to continue their communal study of the Torah, in direct contradiction to government instructions.  Jews attended a special prayer last Wednesday at the Western Wall for the end of the coronavirus pandemic while keeping a distance of two meters from one another.  The mayor of Bnei Brak, Avraham Rubinstein also warned the ultra-Orthodox community in no uncertain terms to \"Wake Up!\" in a recorded message that went out to residents via telephone. Rubinstein himself is under quarantine from the spread of coronavirus within Bnei Brak.  The phone call itself provides an illustration of one of the most difficult aspects of disseminating a message to the Haredi community -- when an entire population shuns the internet, smart phones and other modern means of communication, spreading urgent news and the latest directives is incredibly challenging.  \"Inside these religious communities, they are not online and they are not using communicative systems, such as smart phone and televisions,\" said Micky Rosenfeld. \"They don't exist inside these neighborhoods.\"  Mayor Rubinstein followed up his recorded warning with an interview Monday morning on a Haredi radio station, saying \"Bnei Brak has done, is doing, and will do, everything to prevent people gathering and to do everything the Ministry of Health instructs.\" But he acknowledged the town had little power to close private religious institutions that refused to comply.  \"We're in a war,\" Moti Ravid, head of the Mayanei Hayeshua hospital in Bnei Brak, told public broadcaster Kan on Sunday. \"I warned a month ago that there would be a catastrophe in the city if they did not stop the gatherings and close the synagogues and the yeshivas, and everyone yelled at me, 'How dare you?'\"  \"Today, they say, 'It's a pity we didn't listen to you then.'\"  In the face of an epidemic that is decidedly worse in one specific community, the government has contemplated quarantining the ultra-Orthodox neighborhoods.  On Army Radio Sunday morning, Ministry of Health Director-General Moshe Bar Siman Tov said officials were looking into the possibility. \"We are checking this,\" said Siman Tov. \"If we get to the conclusion that this will be an effective step, we will recommend it.\"\n",
      "Sans malus\n"
     ]
    },
    {
     "data": {
      "text/html": [
       "<img src=\"https://api.afp.com/objects/api/medias?id=a1kkIS0nShZdX1sxTF9RGkJYQkxZNm0cCgsbdQFqAXtxHQgFa3UHFRt3dgEYcw9oaFhdVllcQlddayhdXg1XKFN4WzorU0FDIRI0LCB7UkBDV0g2XABXWVddSFZCKCdeWEESMF4hDRcwYVVYCV4jYzYpVVwQR00sWkZYWl1bC11ONStfXEEJcAF0A3RwAwgGdAxzdw%3D%3D.jpg\"/>"
      ],
      "text/plain": [
       "<IPython.core.display.Image object>"
      ]
     },
     "metadata": {},
     "output_type": "display_data"
    },
    {
     "data": {
      "text/html": [
       "<img src=\"https://api.afp.com/objects/api/medias?id=a1kkIS0nShZdX1sxTF9RGkJYQkxZNm0cDgYbcAZqAXF8HQAAcBsAAxQZCHYVBQ5zFHxBXFFbQVdZLmxHSVULIl4hDSg8XFBAN1FnMC0iBFJUWFk1SkgZVl5VQF1YMS9ISlNHZ0YsVH4RR2JULHkrJ2I0VlVIC0kwUE5fWV1fRh5TPTJES1dHfAZzAXByBwAJcgVydn0%3D.jpg\"/>"
      ],
      "text/plain": [
       "<IPython.core.display.Image object>"
      ]
     },
     "metadata": {},
     "output_type": "display_data"
    },
    {
     "data": {
      "text/html": [
       "<img src=\"https://api.afp.com/objects/api/medias?id=a1kkIS0nShZdX1sxTF9RGkJYQkxZNm0cAAMbeA9qAnBzHQUDa3UHFRt3dgEbc3BoaFhdVllcQlddayhdXg1XKFN4WzorU0FDIRI0LCB7UkBDV0g2XABXWVddSFZCKCdeWEESMF4hDRcwYVVYCV4jYzYpVVwQR00sWkZYWl1bC11ONStfXEEJcAF0A3RwAwgGdAJwdQ%3D%3D.jpg\"/>"
      ],
      "text/plain": [
       "<IPython.core.display.Image object>"
      ]
     },
     "metadata": {},
     "output_type": "display_data"
    },
    {
     "data": {
      "text/html": [
       "<img src=\"https://api.afp.com/objects/api/medias?id=a1kkIS0nShZdX1sxTF9RGkJYQkxZNm0cCwAbcwZwH3RyHQAFchsAAxQZCHYVBQ4GFHxBXFFbQVdZLmxHSVULIl4hDSg8XFBAN1FnMC0iBFJUWFk1SkgZVl5VQF1YMS9ISlNHZ0YsVH4RR2JULHkrJ2I0VlVIC0kwUE5fWV1fRh5TPTJES1dHfAZzAXByBwAJcgVydnY%3D.jpg\"/>"
      ],
      "text/plain": [
       "<IPython.core.display.Image object>"
      ]
     },
     "metadata": {},
     "output_type": "display_data"
    },
    {
     "data": {
      "text/html": [
       "<img src=\"https://api.afp.com/objects/api/medias?id=a1kkIS0nShZdX1sxTF9RGkJYQkxZNm0VCx0FdgJqA3RqAwgGa3UHFRt3dgEff3poaFhdVllcQlddayhdXg1XKFN4WzorU0FDIRI0LCB7UkBDV0g2XABXWVddSFZCKCdeWEESMF4hDRcwYVVYCV4jYzYpVVwQR00sWkZYWl1bC11ONStfXEEJcAF0A3RwAwgGdQdwfA%3D%3D.jpg\"/>"
      ],
      "text/plain": [
       "<IPython.core.display.Image object>"
      ]
     },
     "metadata": {},
     "output_type": "display_data"
    },
    {
     "data": {
      "text/html": [
       "<img src=\"https://api.afp.com/objects/api/medias?id=a1kkIS0nShZdX1sxTF9RGkJYQkxZNm0cCAYbcwdyH3V8HQAGcBsAAxQZCHYVAnRzFHxBXFFbQVdZLmxHSVULIl4hDSg8XFBAN1FnMC0iBFJUWFk1SkgZVl5VQF1YMS9ISlNHZ0YsVH4RR2JULHkrJ2I0VlVIC0kwUE5fWV1fRh5TPTJES1dHfAZzAXByBwAJcgVwdXU%3D.jpg\"/>"
      ],
      "text/plain": [
       "<IPython.core.display.Image object>"
      ]
     },
     "metadata": {},
     "output_type": "display_data"
    },
    {
     "data": {
      "text/html": [
       "<img src=\"https://api.afp.com/objects/api/medias?id=a1kkIS0nShZdX1sxTF9RGkJYQkxZNm0cCAYbcwdyH3V8HQAGcBsAAxQZCHYVAnR3FHxBXFFbQVdZLmxHSVULIl4hDSg8XFBAN1FnMC0iBFJUWFk1SkgZVl5VQF1YMS9ISlNHZ0YsVH4RR2JULHkrJ2I0VlVIC0kwUE5fWV1fRh5TPTJES1dHfAZzAXByBwAJcgVxc3M%3D.jpg\"/>"
      ],
      "text/plain": [
       "<IPython.core.display.Image object>"
      ]
     },
     "metadata": {},
     "output_type": "display_data"
    },
    {
     "data": {
      "text/html": [
       "<img src=\"https://api.afp.com/objects/api/medias?id=a1kkIS0nShZdX1sxTF9RGkJYQkxZNm0bCR0FdARqAXZqAAAIa3UHFRt3dgEZe35oaFhdVllcQlddayhdXg1XKFN4WzorU0FDIRI0LCB7UkBDV0g2XABXWVddSFZCKCdeWEESMF4hDRcwYVVYCV4jYzYpVVwQR00sWkZYWl1bC11ONStfXEEJcAF0A3RwAwgGdQRxcQ%3D%3D.jpg\"/>"
      ],
      "text/plain": [
       "<IPython.core.display.Image object>"
      ]
     },
     "metadata": {},
     "output_type": "display_data"
    },
    {
     "data": {
      "text/html": [
       "<img src=\"https://api.afp.com/objects/api/medias?id=a1kkIS0nShZdX1sxTF9RGkJYQkxZNm0cCAYbcwdyH3V8HQAGcBsAAxQZCHYVA2tyFHxBXFFbQVdZLmxHSVULIl4hDSg8XFBAN1FnMC0iBFJUWFk1SkgZVl5VQF1YMS9ISlNHZ0YsVH4RR2JULHkrJ2I0VlVIC0kwUE5fWV1fRh5TPTJES1dHfAZzAXByBwAJcgR3fHc%3D.jpg\"/>"
      ],
      "text/plain": [
       "<IPython.core.display.Image object>"
      ]
     },
     "metadata": {},
     "output_type": "display_data"
    },
    {
     "data": {
      "text/html": [
       "<img src=\"https://api.afp.com/objects/api/medias?id=a1kkIS0nShZdX1sxTF9RGkJYQkxZNm0YDx0FdQ5qAXJqAAMCa3UHFRt3dgkVZW1oaFhdVllcQlddayhdXg1XKFN4WzorU0FDIRI0LCB7UkBDV0g2XABXWVddSFZCKCdeWEESMF4hDSUVB1RUCloZYzYpVVwQR00sWkZYWl1bC11ONStfXEEJcAF0A3RwAwgGcgN4cQ%3D%3D.jpg\"/>"
      ],
      "text/plain": [
       "<IPython.core.display.Image object>"
      ]
     },
     "metadata": {},
     "output_type": "display_data"
    },
    {
     "name": "stdout",
     "output_type": "stream",
     "text": [
      "\n",
      " Malus\n"
     ]
    },
    {
     "data": {
      "text/html": [
       "<img src=\"https://api.afp.com/objects/api/medias?id=a1kkIS0nShZdX1sxTF9RGkJYQkxZNm0cCgsbdQFqAXtxHQgFa3UHFRt3dgEYcw9oaFhdVllcQlddayhdXg1XKFN4WzorU0FDIRI0LCB7UkBDV0g2XABXWVddSFZCKCdeWEESMF4hDRcwYVVYCV4jYzYpVVwQR00sWkZYWl1bC11ONStfXEEJcAF0A3RwAwgGdAxzdw%3D%3D.jpg\"/>"
      ],
      "text/plain": [
       "<IPython.core.display.Image object>"
      ]
     },
     "metadata": {},
     "output_type": "display_data"
    },
    {
     "data": {
      "text/html": [
       "<img src=\"https://api.afp.com/objects/api/medias?id=a1kkIS0nShZdX1sxTF9RGkJYQkxZNm0cDgYbcAZqAXF8HQAAcBsAAxQZCHYVBQ5zFHxBXFFbQVdZLmxHSVULIl4hDSg8XFBAN1FnMC0iBFJUWFk1SkgZVl5VQF1YMS9ISlNHZ0YsVH4RR2JULHkrJ2I0VlVIC0kwUE5fWV1fRh5TPTJES1dHfAZzAXByBwAJcgVydn0%3D.jpg\"/>"
      ],
      "text/plain": [
       "<IPython.core.display.Image object>"
      ]
     },
     "metadata": {},
     "output_type": "display_data"
    },
    {
     "data": {
      "text/html": [
       "<img src=\"https://api.afp.com/objects/api/medias?id=a1kkIS0nShZdX1sxTF9RGkJYQkxZNm0cAAMbeA9qAnBzHQUDa3UHFRt3dgEbc3BoaFhdVllcQlddayhdXg1XKFN4WzorU0FDIRI0LCB7UkBDV0g2XABXWVddSFZCKCdeWEESMF4hDRcwYVVYCV4jYzYpVVwQR00sWkZYWl1bC11ONStfXEEJcAF0A3RwAwgGdAJwdQ%3D%3D.jpg\"/>"
      ],
      "text/plain": [
       "<IPython.core.display.Image object>"
      ]
     },
     "metadata": {},
     "output_type": "display_data"
    },
    {
     "data": {
      "text/html": [
       "<img src=\"https://api.afp.com/objects/api/medias?id=a1kkIS0nShZdX1sxTF9RGkJYQkxZNm0VCR0FdgRqA3ZqAwgIa3UHFRt3dgEYdH1oaFhdVllcQlddayhdXg1XKFN4WzorU0FDIRI0LCB7UkBDV0g2XABXWVddSFZCKCdeWEESMF4hDRcwYVVYCV4jYzYpVVwQR00sWkZYWl1bC11ONStfXEEJcAF0A3RwAwgGdAx2cg%3D%3D.jpg\"/>"
      ],
      "text/plain": [
       "<IPython.core.display.Image object>"
      ]
     },
     "metadata": {},
     "output_type": "display_data"
    },
    {
     "data": {
      "text/html": [
       "<img src=\"https://api.afp.com/objects/api/medias?id=a1kkIS0nShZdX1sxTF9RGkJYQkxZNm0YDx0FdQ5qAXJqAAMCa3UHFRt3dgkVZW1oaFhdVllcQlddayhdXg1XKFN4WzorU0FDIRI0LCB7UkBDV0g2XABXWVddSFZCKCdeWEESMF4hDSUVB1RUCloZYzYpVVwQR00sWkZYWl1bC11ONStfXEEJcAF0A3RwAwgGcgN4cQ%3D%3D.jpg\"/>"
      ],
      "text/plain": [
       "<IPython.core.display.Image object>"
      ]
     },
     "metadata": {},
     "output_type": "display_data"
    },
    {
     "data": {
      "text/html": [
       "<img src=\"https://api.afp.com/objects/api/medias?id=a1kkIS0nShZdX1sxTF9RGkJYQkxZNm0cDQEbdAdqAXt9HQgBa3UHFRt3dgkVYw5oaFhdVllcQlddayhdXg1XKFN4WzorU0FDIRI0LCB7UkBDV0g2XABXWVddSFZCKCdeWEESMF4hDSUVB1RUCloZYzYpVVwQR00sWkZYWl1bC11ONStfXEEJcAF0A3RwAwgGcgFxfA%3D%3D.jpg\"/>"
      ],
      "text/plain": [
       "<IPython.core.display.Image object>"
      ]
     },
     "metadata": {},
     "output_type": "display_data"
    },
    {
     "data": {
      "text/html": [
       "<img src=\"https://api.afp.com/objects/api/medias?id=a1kkIS0nShZdX1sxTF9RGkJYQkxZNm0YCx0FdQJqAHRqAAMGa3UHFRt3dgkVZW5oaFhdVllcQlddayhdXg1XKFN4WzorU0FDIRI0LCB7UkBDV0g2XABXWVddSFZCKCdeWEESMF4hDSUVB1RUCloZYzYpVVwQR00sWkZYWl1bC11ONStfXEEJcAF0A3RwAwgGcgN4dg%3D%3D.jpg\"/>"
      ],
      "text/plain": [
       "<IPython.core.display.Image object>"
      ]
     },
     "metadata": {},
     "output_type": "display_data"
    },
    {
     "data": {
      "text/html": [
       "<img src=\"https://api.afp.com/objects/api/medias?id=a1kkIS0nShZdX1sxTF9RGkJYQkxZNm0VCx0FdgJqA3RqAwgGa3UHFRt3dgEff3poaFhdVllcQlddayhdXg1XKFN4WzorU0FDIRI0LCB7UkBDV0g2XABXWVddSFZCKCdeWEESMF4hDRcwYVVYCV4jYzYpVVwQR00sWkZYWl1bC11ONStfXEEJcAF0A3RwAwgGdQdwfA%3D%3D.jpg\"/>"
      ],
      "text/plain": [
       "<IPython.core.display.Image object>"
      ]
     },
     "metadata": {},
     "output_type": "display_data"
    },
    {
     "data": {
      "text/html": [
       "<img src=\"https://api.afp.com/objects/api/medias?id=a1kkIS0nShZdX1sxTF9RGkJYQkxZNm0cCAYbcwdyH3V8HQAGcBsAAxQZCHYVA2tyFHxBXFFbQVdZLmxHSVULIl4hDSg8XFBAN1FnMC0iBFJUWFk1SkgZVl5VQF1YMS9ISlNHZ0YsVH4RR2JULHkrJ2I0VlVIC0kwUE5fWV1fRh5TPTJES1dHfAZzAXByBwAJcgR3fHc%3D.jpg\"/>"
      ],
      "text/plain": [
       "<IPython.core.display.Image object>"
      ]
     },
     "metadata": {},
     "output_type": "display_data"
    },
    {
     "data": {
      "text/html": [
       "<img src=\"https://api.afp.com/objects/api/medias?id=a1kkIS0nShZdX1sxTF9RGkJYQkxZNm0cCwAbcwZwH3RyHQAFchsAAxQZCHYVBQ4GFHxBXFFbQVdZLmxHSVULIl4hDSg8XFBAN1FnMC0iBFJUWFk1SkgZVl5VQF1YMS9ISlNHZ0YsVH4RR2JULHkrJ2I0VlVIC0kwUE5fWV1fRh5TPTJES1dHfAZzAXByBwAJcgVydnY%3D.jpg\"/>"
      ],
      "text/plain": [
       "<IPython.core.display.Image object>"
      ]
     },
     "metadata": {},
     "output_type": "display_data"
    },
    {
     "name": "stdout",
     "output_type": "stream",
     "text": [
      "CPU times: user 12.6 s, sys: 1.57 s, total: 14.1 s\n",
      "Wall time: 11.7 s\n"
     ]
    }
   ],
   "source": [
    "%%time\n",
    "nb_photo = 10 \n",
    "result_malus = article_best_images(article_time, True)\n",
    "result_sansmalus =article_best_images(article_time, False)\n",
    "print(article_time)\n",
    "L_malus = [ photos.url_extracted[k[1]] for k in result_malus[:nb_photo] ] \n",
    "L_sansmalus= [ photos.url_extracted[k[1]] for k in result_sansmalus[:nb_photo] ] \n",
    "print('Sans malus')\n",
    "for i in L_sansmalus :\n",
    "    display(Image(url= i))\n",
    "\n",
    "print('\\n Malus')\n",
    "for i in L_malus  :\n",
    "    display(Image(url=i))\n",
    "        "
   ]
  },
  {
   "cell_type": "code",
   "execution_count": 194,
   "metadata": {},
   "outputs": [
    {
     "data": {
      "text/plain": [
       "(2.748826807084824, 11538)"
      ]
     },
     "execution_count": 194,
     "metadata": {},
     "output_type": "execute_result"
    }
   ],
   "source": [
    "result_malus[4]"
   ]
  },
  {
   "cell_type": "code",
   "execution_count": 196,
   "metadata": {},
   "outputs": [
    {
     "data": {
      "text/plain": [
       "'A visitor walks past a photo of a defaced Jewish shop at the Yad Vashem Holocaust memorial center in Jerusalem on January 20, 2020. World leaders are to travel to Israel this week to mark 75 years since the Red Army liberated Auschwitz, the extermination camp where the Nazis killed over a million Jews.'"
      ]
     },
     "execution_count": 196,
     "metadata": {},
     "output_type": "execute_result"
    }
   ],
   "source": [
    "photos.caption[11538]"
   ]
  }
 ],
 "metadata": {
  "hide_input": false,
  "kernelspec": {
   "display_name": "Python 3",
   "language": "python",
   "name": "python3"
  },
  "language_info": {
   "codemirror_mode": {
    "name": "ipython",
    "version": 3
   },
   "file_extension": ".py",
   "mimetype": "text/x-python",
   "name": "python",
   "nbconvert_exporter": "python",
   "pygments_lexer": "ipython3",
   "version": "3.7.3"
  }
 },
 "nbformat": 4,
 "nbformat_minor": 2
}
