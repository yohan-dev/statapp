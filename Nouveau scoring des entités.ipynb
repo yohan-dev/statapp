{
 "cells": [
  {
   "cell_type": "markdown",
   "metadata": {},
   "source": [
    "### <center> Nouveau scoring des entités (et sauvegarde en .csv)"
   ]
  },
  {
   "cell_type": "markdown",
   "metadata": {},
   "source": [
    "#### Importation des modules, chargement des données et des modèles de nlp"
   ]
  },
  {
   "cell_type": "code",
   "execution_count": 11,
   "metadata": {},
   "outputs": [
    {
     "name": "stderr",
     "output_type": "stream",
     "text": [
      "C:\\Users\\THINKPAD\\Anaconda3\\lib\\site-packages\\IPython\\core\\interactiveshell.py:3049: DtypeWarning: Columns (10,15,17,23,24,29,30,37) have mixed types. Specify dtype option on import or set low_memory=False.\n",
      "  interactivity=interactivity, compiler=compiler, result=result)\n"
     ]
    },
    {
     "data": {
      "text/plain": [
       "<spacy.lang.en.English at 0x1541e7c1e48>"
      ]
     },
     "execution_count": 11,
     "metadata": {},
     "output_type": "execute_result"
    }
   ],
   "source": [
    "import spacy\n",
    "import pandas as pd\n",
    "import numpy as np\n",
    "import neuralcoref\n",
    "import ast\n",
    "import random\n",
    "from tqdm import tqdm_notebook\n",
    "\n",
    "data_raw = pd.read_csv('photos.csv',encoding='latin-1')\n",
    "scoring = pd.read_csv('scoring.csv', delimiter = \";\")\n",
    "dict_val = {}\n",
    "\n",
    "for i in range(48):\n",
    "    dict_val[scoring['function'][i]] = scoring['score_norm'][i]\n",
    "\n",
    "nlp=spacy.load(\"en_core_web_md\")\n",
    "neuralcoref.add_to_pipe(nlp,greedyness=0.5)"
   ]
  },
  {
   "cell_type": "markdown",
   "metadata": {},
   "source": [
    "#### Réduction de la base initiale"
   ]
  },
  {
   "cell_type": "code",
   "execution_count": 12,
   "metadata": {},
   "outputs": [
    {
     "name": "stdout",
     "output_type": "stream",
     "text": [
      "360999\n",
      "360723\n",
      "245475\n",
      "154032\n"
     ]
    },
    {
     "data": {
      "text/plain": [
       "154030"
      ]
     },
     "execution_count": 12,
     "metadata": {},
     "output_type": "execute_result"
    }
   ],
   "source": [
    "print(len(data_raw))\n",
    "data_en=data_raw[data_raw['language']=='english']\n",
    "print(len(data_en))\n",
    "data1=data_en.dropna(subset=['event'])\n",
    "print(len(data1))\n",
    "data2=data1.drop_duplicates(subset='caption', keep='first')\n",
    "print(len(data2))\n",
    "df=data2[[(len(descr.split())>10) for descr in data2.caption]]\n",
    "len(df)\n"
   ]
  },
  {
   "cell_type": "markdown",
   "metadata": {},
   "source": [
    "#### Définition de la 2nde base de travail basée sur le lien avec les dépêches\n",
    "\n",
    "On regarde tout d'abord le nombre d'évènements uniques dans la base des dépêches et dans notre base de photos, puis on regarde combien d'évènements sont en commun."
   ]
  },
  {
   "cell_type": "code",
   "execution_count": 13,
   "metadata": {},
   "outputs": [
    {
     "name": "stdout",
     "output_type": "stream",
     "text": [
      "13335\n",
      "16055\n",
      "2979 en commun\n"
     ]
    }
   ],
   "source": [
    "depeches=pd.read_csv('depeches.csv')\n",
    "liste_ev_unique_depeches = []\n",
    "for ev in depeches.event:\n",
    "    for _ev in ev[1:-1].replace(\"'\",\"\").split(', '):\n",
    "        if _ev not in liste_ev_unique_depeches:\n",
    "            liste_ev_unique_depeches.append(_ev)\n",
    "print(len(liste_ev_unique_depeches))\n",
    "\n",
    "liste_ev_unique_photos = []\n",
    "for ev in df.event:\n",
    "    if(type(ev) != float):\n",
    "        for _ev in ev[1:-1].replace(\"'\",\"\").split(', '):\n",
    "            if _ev not in liste_ev_unique_photos:\n",
    "                liste_ev_unique_photos.append(_ev)\n",
    "print(len(liste_ev_unique_photos))\n",
    "\n",
    "ev_in = []\n",
    "for ev in liste_ev_unique_photos:\n",
    "    if(ev in liste_ev_unique_depeches):\n",
    "        ev_in.append(ev)\n",
    "print(len(ev_in), 'en commun')"
   ]
  },
  {
   "cell_type": "markdown",
   "metadata": {},
   "source": [
    "Pour définir la 2nde base de travail, on doit filtrer la 1ère base pour ne conserver que les photos associées à au moins un évènement de la base de dépêches et réciproquement avec la base de dépêches. Mais avant, de faire ce filtre, il faut opérer une transformation sur les évènements pour pouvoir les exploiter."
   ]
  },
  {
   "cell_type": "code",
   "execution_count": 14,
   "metadata": {},
   "outputs": [
    {
     "data": {
      "application/vnd.jupyter.widget-view+json": {
       "model_id": "096ab337055d4b15b25eef4f6ead01c8",
       "version_major": 2,
       "version_minor": 0
      },
      "text/plain": [
       "HBox(children=(IntProgress(value=0, max=154030), HTML(value='')))"
      ]
     },
     "metadata": {},
     "output_type": "display_data"
    },
    {
     "name": "stdout",
     "output_type": "stream",
     "text": [
      "\n"
     ]
    },
    {
     "data": {
      "application/vnd.jupyter.widget-view+json": {
       "model_id": "2ac1111c1fd74a2483ad9a6ff791d0c2",
       "version_major": 2,
       "version_minor": 0
      },
      "text/plain": [
       "HBox(children=(IntProgress(value=0, max=19975), HTML(value='')))"
      ]
     },
     "metadata": {},
     "output_type": "display_data"
    },
    {
     "name": "stdout",
     "output_type": "stream",
     "text": [
      "\n"
     ]
    }
   ],
   "source": [
    "def transfo_event(ev):\n",
    "    res=ev\n",
    "    return res[1:-1].replace(\"'\",\"\").split(', ')\n",
    "\n",
    "def ev_in_depeche(ev_list):\n",
    "    for ev in ev_list:\n",
    "        if ev in liste_ev_unique_depeches:\n",
    "            return True\n",
    "    return False\n",
    "\n",
    "def ev_in_photos(ev_list):\n",
    "    for ev in ev_list:\n",
    "        if ev in liste_ev_unique_photos:\n",
    "            return True\n",
    "    return False\n",
    "\n",
    "df_c=df.copy()\n",
    "df_c.event=df_c.event.apply(transfo_event)\n",
    "df2=df_c.copy()\n",
    "df2=df2[[ev_in_depeche(ev_list) for ev_list in tqdm_notebook(df_c.event)]]\n",
    "len(df2)\n",
    "\n",
    "depeche_c=depeches.copy()\n",
    "depeche_c.event=depeche_c.event.apply(transfo_event)\n",
    "df_depeche=depeche_c.copy()\n",
    "df_depeche=df_depeche[[ev_in_photos(ev_list) for ev_list in tqdm_notebook(depeche_c.event)]]"
   ]
  },
  {
   "cell_type": "markdown",
   "metadata": {},
   "source": [
    "On va dans un 1er temps travailler uniquement sur df2 car elle est moins volumineuse et permet d'utiliser les dépêches pour tester l'efficacité de l'algorithme de similarité (défini dans Tests de similarité)."
   ]
  },
  {
   "cell_type": "markdown",
   "metadata": {},
   "source": [
    "#### Algorithme de scoring des entités\n",
    "On définit d'abord quelques fonctions intermédiaires."
   ]
  },
  {
   "cell_type": "code",
   "execution_count": 15,
   "metadata": {},
   "outputs": [],
   "source": [
    "def dep_ent(ent, doc):\n",
    "    \"\"\" Retourne la fonction grammaticale :  la 'dep', d'une entité. Cette fonction est nécessaire car elle permet d'affecter\n",
    "    une dep à une entité composée de plusieurs mots ayant chacun une dep de base.\n",
    "    Traite aussi le cas particulier des mots étant des conj ou des compound : leur vrai dep et celle du mot auxquels\n",
    "    ils sont associés en tant que conj ou compound.\"\"\"\n",
    "    start= ent.start\n",
    "    end=ent.end\n",
    "    for k in range(start,end):\n",
    "        if doc[k].head.text not in ent.text: \n",
    "            if doc[k].dep_=='conj':     \n",
    "                tok=doc[k]            \n",
    "                while tok.dep_=='conj':\n",
    "                    tok=tok.head      \n",
    "                return(tok.dep_)\n",
    "            \n",
    "            if doc[k].dep_=='compound':   \n",
    "                tok=doc[k]            \n",
    "                while tok.dep_=='compound':\n",
    "                    tok=tok.head      \n",
    "                return(tok.dep_)\n",
    "            return(doc[k].dep_)    \n",
    "    return doc[start].dep_\n",
    "\n",
    "def ent_good_type(ent): #filtre les entités selon leur type\n",
    "    return (ent.label_ == \"PERSON\" or ent.label_ == \"NORP\" or ent.label_ == \"ORG\" or ent.label_ == \"GPE\" or ent.label_ == \"EVENT\" or ent.label_ == \"LOC\")\n",
    "\n",
    "def get_resolved(doc, cluster):\n",
    "    resolved = list(tok.text_with_ws for tok in doc)\n",
    "    for coref in cluster:\n",
    "        if coref.text.lower() != cluster.main.text.lower():\n",
    "            resolved[coref.start] = cluster.main.text + doc[coref.end-1].whitespace_\n",
    "            for i in range(coref.start+1, coref.end):\n",
    "                resolved[i] = \"\"\n",
    "    return ''.join(resolved)\n",
    "\n",
    "def add_to_dic(dic,ent,doc):\n",
    "    if ent.text not in dic.keys():\n",
    "        dic[ent.text]=dict_val[dep_ent(ent,doc)]\n",
    "    else:\n",
    "        dic[ent.text]+=dict_val[dep_ent(ent,doc)]"
   ]
  },
  {
   "cell_type": "markdown",
   "metadata": {},
   "source": [
    "Et maintenant l'algorithme de scoring en lui même:"
   ]
  },
  {
   "cell_type": "code",
   "execution_count": 16,
   "metadata": {},
   "outputs": [],
   "source": [
    "def scores_doc_coref4(doc):\n",
    "    ent_list=[ent for ent in doc.ents if ent_good_type(ent)]\n",
    "    clusters=doc._.coref_clusters\n",
    "    res={}\n",
    "    for ent in ent_list:\n",
    "        if ent._.is_coref:\n",
    "            for cluster in clusters:\n",
    "                if ent in cluster.mentions:\n",
    "                    doc_res=nlp(get_resolved(doc,cluster))\n",
    "                    for ent1 in doc_res.ents:\n",
    "                        if ent1.text==ent.text:\n",
    "                            add_to_dic(res,ent1,doc_res)\n",
    "        else:\n",
    "            flag=0\n",
    "            clust_count=0\n",
    "            for cluster in clusters:\n",
    "                ent_in_cluster=False\n",
    "                for span in cluster.mentions:\n",
    "                    if ent.text in span.text:\n",
    "                        ent_in_cluster=True\n",
    "                        clust_count+=1\n",
    "                        break\n",
    "                if ent_in_cluster and ent.label_ != 'NORP':\n",
    "                    flag=1\n",
    "                    doc_res=nlp(get_resolved(doc,cluster))\n",
    "                    for ent1 in doc_res.ents:\n",
    "                        if ent1.text==ent.text:\n",
    "                            add_to_dic(res,ent1,doc_res)    \n",
    "            if flag==0: \n",
    "                add_to_dic(res,ent,doc)\n",
    "    return res"
   ]
  },
  {
   "cell_type": "markdown",
   "metadata": {},
   "source": [
    "#### Exécution du nlp sur chaque caption de df2 et df_depeche"
   ]
  },
  {
   "cell_type": "code",
   "execution_count": 157,
   "metadata": {},
   "outputs": [
    {
     "data": {
      "application/vnd.jupyter.widget-view+json": {
       "model_id": "1179edfcab85442994dd9268ba27d1f1",
       "version_major": 2,
       "version_minor": 0
      },
      "text/plain": [
       "HBox(children=(IntProgress(value=0, max=49549), HTML(value='')))"
      ]
     },
     "metadata": {},
     "output_type": "display_data"
    }
   ],
   "source": [
    "nlp_list=[]\n",
    "for desc in tqdm_notebook(df2.caption):\n",
    "    nlp_list.append(nlp(desc))"
   ]
  },
  {
   "cell_type": "markdown",
   "metadata": {},
   "source": [
    "#### Calcul du score de chaque caption"
   ]
  },
  {
   "cell_type": "code",
   "execution_count": 162,
   "metadata": {},
   "outputs": [
    {
     "data": {
      "application/vnd.jupyter.widget-view+json": {
       "model_id": "b7b88cde367e4883a92f97312dd5e392",
       "version_major": 2,
       "version_minor": 0
      },
      "text/plain": [
       "HBox(children=(IntProgress(value=0, max=49549), HTML(value='')))"
      ]
     },
     "metadata": {},
     "output_type": "display_data"
    }
   ],
   "source": [
    "score_list = [scores_doc_coref4(doc) for doc in tqdm_notebook(nlp_list)]"
   ]
  },
  {
   "cell_type": "markdown",
   "metadata": {},
   "source": [
    "#### Création du csv\n",
    "On convertit les dictionnaires en str pour pouvoir ensuite les stocker dans un csv."
   ]
  },
  {
   "cell_type": "code",
   "execution_count": 163,
   "metadata": {},
   "outputs": [
    {
     "data": {
      "application/vnd.jupyter.widget-view+json": {
       "model_id": "798af38abf1443cdb2b794a157cd7446",
       "version_major": 2,
       "version_minor": 0
      },
      "text/plain": [
       "HBox(children=(IntProgress(value=0, max=49549), HTML(value='')))"
      ]
     },
     "metadata": {},
     "output_type": "display_data"
    }
   ],
   "source": [
    "score_list_str=[str(dic) for dic in tqdm_notebook(score_list)]"
   ]
  },
  {
   "cell_type": "code",
   "execution_count": 166,
   "metadata": {},
   "outputs": [],
   "source": [
    "df_scores=pd.DataFrame({'description':df2.caption,'scores':score_list_str})\n",
    "df_scores.to_csv(\"scores4.csv\",index=False)"
   ]
  },
  {
   "cell_type": "markdown",
   "metadata": {},
   "source": [
    "### <center> Nouveaux tests de similarité\n",
    "\n",
    "\n",
    "#### Lecture du csv"
   ]
  },
  {
   "cell_type": "code",
   "execution_count": 17,
   "metadata": {},
   "outputs": [
    {
     "data": {
      "text/plain": [
       "{'Portugal': 0.38297872299999997,\n",
       " 'Antonio Costa': 0.46808510600000003,\n",
       " 'the European Council': 0.8297872340000001,\n",
       " 'Charles Michel': 1.0,\n",
       " 'European Council': 0.8297872340000001,\n",
       " 'Brussels': 0.8297872340000001,\n",
       " 'the European Union': 0.8297872340000001,\n",
       " 'EU': 0.46808510600000003,\n",
       " 'Marin': 0.0}"
      ]
     },
     "execution_count": 17,
     "metadata": {},
     "output_type": "execute_result"
    }
   ],
   "source": [
    "df_read=pd.read_csv(\"scores4.csv\")\n",
    "liste_scores4=[]\n",
    "for string in df_read.scores:\n",
    "    liste_scores4.append(ast.literal_eval(string)) \n",
    "liste_scores4[0]"
   ]
  },
  {
   "cell_type": "markdown",
   "metadata": {},
   "source": [
    "#### Score de similarité\n",
    "On commence par définir un score de similarité entre un doc (article ou autre) et la caption d'une image ainsi qu'une fonction intermédiaire utile pour réduire le nombre de comparaison dans l'algorithme final."
   ]
  },
  {
   "cell_type": "code",
   "execution_count": 24,
   "metadata": {},
   "outputs": [],
   "source": [
    "def score_sim4(doc,score_doc,k):\n",
    "    \"\"\"Prend en paramètre un doc, le fichier de scores associés à ce doc et un entier k correspondant à l'indice de la \n",
    "    description avec laquelle on veut comparer le doc. Retourne le score de similarité entre le doc et la description.\n",
    "    Ici on calcule le score avec la méthode neuralcoref1 : on utilise liste_scores1.\n",
    "    Par rapport aux fonctions précédentes, ici on a changé le calcul du score de similarité en \"normalisant\" les scores\n",
    "    du doc et de l'image, au lieu de les diviser par 2 (ce qui était inutile)\"\"\"\n",
    "    res=0\n",
    "    score_image=liste_scores4[k]\n",
    "    max_doc=max(score_doc.values())\n",
    "    max_im=max(score_image.values())\n",
    "    for i in score_doc.keys():\n",
    "        if i in score_image.keys():\n",
    "            if max_doc==0 or max_im==0:\n",
    "                return 0\n",
    "            res += score_doc[i]/max_doc +score_image[i]/max_im\n",
    "    return res\n",
    "\n",
    "def related_descr(doc):\n",
    "    \"\"\"Retourne la liste des indices correspondant aux descriptions ayant au moins 1 entité en commun avec le doc.\n",
    "    Permet d'effectuer moins de comparaison dans la fonction best_image.\"\"\"\n",
    "    index_list=[]\n",
    "    for k in range(len(liste_scores4)):\n",
    "        for ent in doc.ents:\n",
    "            if ent.text in liste_scores4[k].keys():\n",
    "                index_list.append(k)\n",
    "                break\n",
    "    return index_list"
   ]
  },
  {
   "cell_type": "markdown",
   "metadata": {},
   "source": [
    "On définit maintenant l'algorithme final qui doit retourner l'indice de l'image correspondant le mieux au texte selon le score de similarité précédent.\n",
    "On définit aussi un algorithme qui retourne les indices (et scores) des 5 images correspondant le mieux au texte selon le score de similarité précédent."
   ]
  },
  {
   "cell_type": "code",
   "execution_count": 25,
   "metadata": {},
   "outputs": [],
   "source": [
    "def best_image4(doc):\n",
    "    \"\"\"Retourne l'indice de l'image dont la description correspond le plus au doc passé en paramètre.\n",
    "    La correspondance (matching) se fait avec score_sim3.\"\"\"\n",
    "    score_doc=scores_doc_coref4(doc)\n",
    "    best_score=0\n",
    "    best_descr=0\n",
    "    for k in related_descr(doc):\n",
    "        if score_sim4(doc,score_doc,k) > best_score:\n",
    "            best_score=score_sim4(doc,score_doc,k)\n",
    "            best_descr=k\n",
    "    return best_descr\n",
    "\n",
    "def best5_image4(doc):\n",
    "    rel_descr=related_descr(doc)\n",
    "    score_doc=scores_doc_coref4(doc)\n",
    "    best_scores=[(i,score_sim4(doc,score_doc,i)) for i in rel_descr[:5]]\n",
    "    best_scores.sort(key = lambda x : x[1])\n",
    "    for k in rel_descr[5:]:\n",
    "        score_sim=score_sim4(doc,score_doc,k)\n",
    "        if score_sim > best_scores[0][1]:\n",
    "            best_scores.pop(0)\n",
    "            best_scores.append((k,score_sim4(doc,score_doc,k)))\n",
    "            best_scores.sort(key = lambda x : x[1])\n",
    "    return best_scores"
   ]
  },
  {
   "cell_type": "markdown",
   "metadata": {},
   "source": [
    "#### Tests\n"
   ]
  },
  {
   "cell_type": "markdown",
   "metadata": {},
   "source": [
    "df2 df_read df_depeche\n",
    "Ce qu'on doit faire : prendre une dépêche au hasard. Calculer nlp sur sa description, calculer score.\n",
    "Faire une fonction 5_best qui renvoie les 5 meilleures descriptions. On peut faire un test et si l'event de la depeche est dedans on compte juste."
   ]
  },
  {
   "cell_type": "code",
   "execution_count": 27,
   "metadata": {},
   "outputs": [],
   "source": [
    "df2.reset_index(drop=True,inplace=True)\n",
    "df_depeche.reset_index(drop=True,inplace=True)"
   ]
  },
  {
   "cell_type": "code",
   "execution_count": 74,
   "metadata": {},
   "outputs": [],
   "source": [
    "def ev_match(ev_list1,ev_list2):\n",
    "    for ev in ev_list1:\n",
    "        if ev in ev_list2:\n",
    "            return True\n",
    "    return False\n",
    "\n",
    "def test(i):\n",
    "    print('Depeche n°',i,'(events = ',df_depeche.event[i],')\\n',df_depeche.news2[i],'\\n\\n Best 5 images :\\n')\n",
    "    for tup in best5_image4(nlp(df_depeche.news2[i])):\n",
    "        print('photo n°',tup[0],'(events = ',df2.event[tup[0]],')\\n',df_read.description[tup[0]],'\\n')\n",
    "    \n",
    "def perf_score4():\n",
    "    \n",
    "\n",
    "#a=best_image4(nlp(df_depeche.news2[2]))\n",
    "#print('\\n',a)\n",
    "#print(df_read.description[a],df2.event[a])\n",
    "\n",
    "def photo_filter_by_event(event_list):\n",
    "    df3=df2.copy()\n",
    "    df3=df2[[ev_match(ev_list,event_list)  for ev_list in df2.event]]\n",
    "    df3.reset_index(drop=True,inplace=True)\n",
    "    pd.set_option('display.max_colwidth',-1)\n",
    "    display(df3[['caption','event']])\n",
    "    pd.reset_option('display.max_colwidth')\n"
   ]
  },
  {
   "cell_type": "code",
   "execution_count": 50,
   "metadata": {},
   "outputs": [
    {
     "name": "stdout",
     "output_type": "stream",
     "text": [
      "Depeche n° 2 (events =  ['afpevent:FNR78', 'afpevent:FCS97', 'afpevent:FCQ20'] )\n",
      " One of two candidates in Guinea-Bissau's presidential elections said he would be sworn in on Thursday, even though a bitter row over the vote remains unresolved after nearly two months.\n",
      " Umaro Sissoco Embalo made the announcement on social media on Wednesday, referring to a decision in his favour by the country's electoral commission.\n",
      " Embalo, a 47-year-old former general and prime minister, won 53.55 percent of the votes in the December 29 elections, according to the National Electoral Commission.\n",
      " The Supreme Court, responding to a petition filed by the PAIGC, has issued rulings requiring a check of the vote tally sheets.\n",
      " On Tuesday, the election commission confirmed the results that it had announced, while the PAIGC stood by its objections.\n",
      " Guinea-Bissau, a West African state that nurses a reputation for graft and as a transit point for cocaine smuggling, has had a long history of coups and instability since gaining independence from Portugal in 1974.\n",
      " Guinea-Bissau \"cannot afford the luxury of a sumptuous ceremony,\" he said.\n",
      " ... \n",
      "\n",
      " Best 5 images :\n",
      "\n",
      "photo n° 17674 (events =  ['afpevent:FDQ56', 'afpevent:FCS97', 'afpevent:FCU85'] )\n",
      " Supporters of presidential candidate Domingos Simoes Pereira (DSP) from the traditional ruling African Party for the Independence of Guinea-Bissau and Cape Verde (PAIGC) attend a rally at Nino Correa stadium in Bissau, on December 27, 2019, ahead of the December 29 poll. Voters in Guinea-Bissau are being called out to cast their ballots in a presidential runoff on December 29, capping a year of turmoil in the poor, coup-prone West African state. After months of acrimony, people are being asked to choose between two former prime ministers -- Domingos Simoes Pereira, from the traditional ruling PAIGC party, and opposition figure Umaro Sissoco Embalo. / AFP / SEYLLOU \n",
      "\n",
      "photo n° 17286 (events =  ['afpevent:FCS97', 'afpevent:FCQ20', 'afpevent:EAG91'] )\n",
      " Unmarked ballot papers displaying the names of Domingos Simoes Pereira, the presidential candidate for the African Party for the Independence of Guinea and Cape Verde (PAIGC), and Umaro Sissoco Embalo, presidential candidate for Madem, are seen at a polling station during the second round of the presidential election in Bissau, on December 29, 2019. Voters in Guinea-Bissau cast their ballots in a presidential runoff on December 29, 2019, with the hope of ending months of political turmoil in the coup-prone West African state that is one of the world's poorest nations. / AFP / SEYLLOU \n",
      "\n",
      "photo n° 16420 (events =  ['afpevent:FCS97'] )\n",
      " (FILES) In this file photo taken on December 28, 2019 then Madem G-15's vice-president Umaro Sissoco Embalo poses for a photograph in Bissau. Opposition leader Umaro Sissoco Embalo has won presidential elections in the volatile West African state of Guinea-Bissau, picking up 53.55 percent of votes, the National Electoral Commission (CNE) announced on January 1, 2020. / AFP / SEYLLOU \n",
      "\n",
      "photo n° 16136 (events =  ['afpevent:FGF68'] )\n",
      " Then Madem G-15 vice-president Umaro Sissoco Embalo poses for a photograph in Bissau on December 28, 2019. Opposition leader Umaro Sissoco Embalo won the presidential election in the volatile West African state of Guinea-Bissau, the National Electoral Commission (CNE) announced January 1, 2020, but the country's historic ruling PAIGC party cried foul. Embalo won 53.55 percent of votes, according to the provisional results, with PAIGC head Domingos Simoes Pereira on 46.45 percent in the runoff election on December 29, 2019. \n",
      " / AFP / SEYLLOU \n",
      "\n",
      "photo n° 16395 (events =  ['afpevent:FGF68'] )\n",
      " Supporters of newly elected President Umaro Sissoco Embalo celebrate on January 1, 2020 in Bissau after the anouncement of the election results.  Opposition leader Umaro Sissoco Embalo has won presidential elections in the volatile West African state of Guinea-Bissau, picking up 53.55 percent of votes, the National Electoral Commission (CNE) announced on January 1, 2020.\n",
      " / AFP / SEYLLOU \n",
      "\n"
     ]
    }
   ],
   "source": [
    "test(2) #ça marche"
   ]
  },
  {
   "cell_type": "code",
   "execution_count": 51,
   "metadata": {},
   "outputs": [
    {
     "name": "stdout",
     "output_type": "stream",
     "text": [
      "Depeche n° 3 (events =  ['afpevent:FFQ37', 'afpevent:EDU79', 'afpevent:EDZ99'] )\n",
      " Inter Milan's Europa League last-32 second-leg tie against Ludogorets at the San Siro will be played without fans due to the coronavirus outbreak in Italy, UEFA announced on Wednesday.\n",
      " Inter are set to host the Bulgarian outfit on Thursday with the Italian side leading 2-0 after the second leg. \n",
      "\n",
      " Best 5 images :\n",
      "\n",
      "photo n° 7840 (events =  ['afpevent:ELD62', 'afpevent:EKX22', 'afpevent:ELD58'] )\n",
      " Inter Milan's Italian head coach Antonio Conte shouts shouts instructions to his players from the touchline during the Italian Serie A football match Inter Milan vs Cagliari on January 26, 2020 at the San Siro stadium in Milan. / AFP / Miguel MEDINA \n",
      "\n",
      "photo n° 7848 (events =  ['afpevent:ELD62', 'afpevent:EKX22', 'afpevent:ELD58'] )\n",
      " Inter Milan's Italian head coach Antonio Conte reacts as the ball flies across the touchline during the Italian Serie A football match Inter Milan vs Cagliari on January 26, 2020 at the San Siro stadium in Milan. / AFP / Miguel MEDINA \n",
      "\n",
      "photo n° 19039 (events =  ['afpevent:ELD23', 'afpevent:EKX22', 'afpevent:ELD14'] )\n",
      " Inter Milan's Italian midfielder Roberto Gagliardini celebrates after scoring during the Italian Serie A football match Inter Milan vs Genoa on December 21, 2019 at the San Siro stadium in Milan. / AFP / Marco Bertorello \n",
      "\n",
      "photo n° 26325 (events =  ['afpevent:ELC88', 'afpevent:EKX22', 'afpevent:ELC81'] )\n",
      " Inter Milan's Austrian midfielder Valentino Lazaro (R) vies with Spal's Italian forward Gabriel Strefezza during the Italian Serie A football match between Inter Milan and SPAL on December 1, 2019, at the San Siro stadium in Milan.  / AFP / MIGUEL MEDINA \n",
      "\n",
      "photo n° 36460 (events =  ['afpevent:ELC35', 'afpevent:EKX22', 'afpevent:ELC26'] )\n",
      " Inter Milan's Italian forward Antonio Candreva celebrates after opening the scoring during the Italian Serie A football match Inter Milan vs Parma on October 26, 2019 at the San Siro stadium in Milan.  / AFP / Miguel MEDINA \n",
      "\n"
     ]
    }
   ],
   "source": [
    "test(3) #marche pas car l'évènement est trop vague"
   ]
  },
  {
   "cell_type": "code",
   "execution_count": 75,
   "metadata": {},
   "outputs": [
    {
     "data": {
      "text/html": [
       "<div>\n",
       "<style scoped>\n",
       "    .dataframe tbody tr th:only-of-type {\n",
       "        vertical-align: middle;\n",
       "    }\n",
       "\n",
       "    .dataframe tbody tr th {\n",
       "        vertical-align: top;\n",
       "    }\n",
       "\n",
       "    .dataframe thead th {\n",
       "        text-align: right;\n",
       "    }\n",
       "</style>\n",
       "<table border=\"1\" class=\"dataframe\">\n",
       "  <thead>\n",
       "    <tr style=\"text-align: right;\">\n",
       "      <th></th>\n",
       "      <th>caption</th>\n",
       "      <th>event</th>\n",
       "    </tr>\n",
       "  </thead>\n",
       "  <tbody>\n",
       "    <tr>\n",
       "      <th>0</th>\n",
       "      <td>(FILES) In this file photo taken on December 12, 2019 Espanyol's Spanish coach Pablo Machin looks on before the UEFA Europa League Group H football match between Espanyol and CSKA Moscow at the RCDE Stadium in Cornella de Llobregat near Barcelona, on December 12, 2019. Espanyol, who are languishing at the bottom of La Liga, on December 23 fired chief coach Pablo Machin after just over two months in the job, the club said.  / AFP / Josep LAGO</td>\n",
       "      <td>[afpevent:EDZ72, afpevent:EDU79, afpevent:EDZ57]</td>\n",
       "    </tr>\n",
       "    <tr>\n",
       "      <th>1</th>\n",
       "      <td>(From L) UEFA deputy general secretary Giorgio Marchetti, UEFA Europa League ambassador Josephine Henning, UEFA Europa League ambassador Frederic Kanoute, and UEFA head of club competitions Michael Heselschwerdt attend the UEFA Europa League football cup round of 32 draw ceremony on December 16, 2019 in Nyon.   / AFP / Fabrice COFFRINI</td>\n",
       "      <td>[afpevent:FBR56, afpevent:EDZ82, afpevent:EDU79]</td>\n",
       "    </tr>\n",
       "    <tr>\n",
       "      <th>2</th>\n",
       "      <td>An official proceeds to the UEFA Europa League football cup round of 32 draw ceremony on December 16, 2019 in Nyon.   / AFP / Fabrice COFFRINI</td>\n",
       "      <td>[afpevent:FBR56, afpevent:EDZ82, afpevent:EDU79]</td>\n",
       "    </tr>\n",
       "    <tr>\n",
       "      <th>3</th>\n",
       "      <td>UEFA Europa League ambassador Frederic Kanoute proceeds to the UEFA Europa League football cup round of 32 draw ceremony on December 16, 2019 in Nyon.   / AFP / Fabrice COFFRINI</td>\n",
       "      <td>[afpevent:FBR56, afpevent:EDZ82, afpevent:EDU79]</td>\n",
       "    </tr>\n",
       "    <tr>\n",
       "      <th>4</th>\n",
       "      <td>UEFA Europa League ambassador Josephine Henning proceeds to the UEFA Europa League football cup round of 32 draw ceremony on December 16, 2019 in Nyon.   / AFP / Fabrice COFFRINI</td>\n",
       "      <td>[afpevent:FBR56, afpevent:EDZ82, afpevent:EDU79]</td>\n",
       "    </tr>\n",
       "    <tr>\n",
       "      <th>5</th>\n",
       "      <td>An UEFA official removes the UEFA Europa League football cup trophy after the cup's round of 32 draw ceremony on December 16, 2019 in Nyon.   / AFP / Fabrice COFFRINI</td>\n",
       "      <td>[afpevent:FBR56, afpevent:EDZ82, afpevent:EDU79]</td>\n",
       "    </tr>\n",
       "    <tr>\n",
       "      <th>6</th>\n",
       "      <td>The UEFA Europa League football cup trophy is pictured before the cup's round of 32 draw ceremony on December 16, 2019 in Nyon.   / AFP / Fabrice COFFRINI</td>\n",
       "      <td>[afpevent:FBR56, afpevent:EDZ82, afpevent:EDU79]</td>\n",
       "    </tr>\n",
       "    <tr>\n",
       "      <th>7</th>\n",
       "      <td>UEFA Europa League ambassador Josephine Henning holds the slip of AS Roma during the UEFA Europa League football cup round of 32 draw ceremony on December 16, 2019 in Nyon.   / AFP / Fabrice COFFRINI</td>\n",
       "      <td>[afpevent:FBR56, afpevent:EDZ82, afpevent:EDU79]</td>\n",
       "    </tr>\n",
       "    <tr>\n",
       "      <th>8</th>\n",
       "      <td>UEFA Europa League ambassador Josephine Henning holds the slip of FC Shakhtar Donetsk during the UEFA Europa League football cup round of 32 draw ceremony on December 16, 2019 in Nyon.   / AFP / Fabrice COFFRINI</td>\n",
       "      <td>[afpevent:FBR56, afpevent:EDZ82, afpevent:EDU79]</td>\n",
       "    </tr>\n",
       "    <tr>\n",
       "      <th>9</th>\n",
       "      <td>UEFA Europa League ambassador Josephine Henning holds the slip of Rangers FC during the UEFA Europa League football cup round of 32 draw ceremony on December 16, 2019 in Nyon.   / AFP / Fabrice COFFRINI</td>\n",
       "      <td>[afpevent:FBR56, afpevent:EDZ82, afpevent:EDU79]</td>\n",
       "    </tr>\n",
       "    <tr>\n",
       "      <th>10</th>\n",
       "      <td>UEFA Europa League ambassador Josephine Henning holds the slip of VfL Wolfsburg during the UEFA Europa League football cup round of 32 draw ceremony on December 16, 2019 in Nyon.   / AFP / Fabrice COFFRINI</td>\n",
       "      <td>[afpevent:FBR56, afpevent:EDZ82, afpevent:EDU79]</td>\n",
       "    </tr>\n",
       "    <tr>\n",
       "      <th>11</th>\n",
       "      <td>UEFA Europa League ambassador Frederic Kanoute holds the slip of FC Salzburg during the UEFA Europa League football cup round of 32 draw ceremony on December 16, 2019 in Nyon.   / AFP / Fabrice COFFRINI</td>\n",
       "      <td>[afpevent:FBR56, afpevent:EDZ82, afpevent:EDU79]</td>\n",
       "    </tr>\n",
       "    <tr>\n",
       "      <th>12</th>\n",
       "      <td>UEFA Europa League ambassador Frederic Kanoute holds the slip of Malmo FF during the UEFA Europa League football cup round of 32 draw ceremony on December 16, 2019 in Nyon.   / AFP / Fabrice COFFRINI</td>\n",
       "      <td>[afpevent:FBR56, afpevent:EDZ82, afpevent:EDU79]</td>\n",
       "    </tr>\n",
       "    <tr>\n",
       "      <th>13</th>\n",
       "      <td>UEFA Europa League ambassador Frederic Kanoute holds the slip of SL Benfica during the UEFA Europa League football cup round of 32 draw ceremony on December 16, 2019 in Nyon.   / AFP / Fabrice COFFRINI</td>\n",
       "      <td>[afpevent:FBR56, afpevent:EDZ82, afpevent:EDU79]</td>\n",
       "    </tr>\n",
       "    <tr>\n",
       "      <th>14</th>\n",
       "      <td>UEFA Europa League ambassador Frederic Kanoute holds the slip of SC Braga during the UEFA Europa League football cup round of 32 draw ceremony on December 16, 2019 in Nyon.   / AFP / Fabrice COFFRINI</td>\n",
       "      <td>[afpevent:FBR56, afpevent:EDZ82, afpevent:EDU79]</td>\n",
       "    </tr>\n",
       "    <tr>\n",
       "      <th>15</th>\n",
       "      <td>UEFA Europa League ambassador Frederic Kanoute holds the slip of KAA Gent during the UEFA Europa League football cup round of 32 draw ceremony on December 16, 2019 in Nyon.   / AFP / Fabrice COFFRINI</td>\n",
       "      <td>[afpevent:FBR56, afpevent:EDZ82, afpevent:EDU79]</td>\n",
       "    </tr>\n",
       "    <tr>\n",
       "      <th>16</th>\n",
       "      <td>UEFA Europa League ambassador Josephine Henning holds the slip of Eintracht Frankfurt during the UEFA Europa League football cup round of 32 draw ceremony on December 16, 2019 in Nyon.   / AFP / Fabrice COFFRINI</td>\n",
       "      <td>[afpevent:FBR56, afpevent:EDZ82, afpevent:EDU79]</td>\n",
       "    </tr>\n",
       "    <tr>\n",
       "      <th>17</th>\n",
       "      <td>UEFA Europa League ambassador Frederic Kanoute holds the slip of FC Inter Milan during the UEFA Europa League football cup round of 32 draw ceremony on December 16, 2019 in Nyon.   / AFP / Fabrice COFFRINI</td>\n",
       "      <td>[afpevent:FBR56, afpevent:EDZ82, afpevent:EDU79]</td>\n",
       "    </tr>\n",
       "    <tr>\n",
       "      <th>18</th>\n",
       "      <td>The results are displayed on a screen after the UEFA Europa League football cup round of 32 draw ceremony on December 16, 2019 in Nyon.   / AFP / Fabrice COFFRINI</td>\n",
       "      <td>[afpevent:FBR56, afpevent:EDZ82, afpevent:EDU79]</td>\n",
       "    </tr>\n",
       "    <tr>\n",
       "      <th>19</th>\n",
       "      <td>UEFA Europa League ambassador Josephine Henning holds the slip of PFC Lufogorets 1945 during the UEFA Europa League football cup round of 32 draw ceremony on December 16, 2019 in Nyon.   / AFP / Fabrice COFFRINI</td>\n",
       "      <td>[afpevent:FBR56, afpevent:EDZ82, afpevent:EDU79]</td>\n",
       "    </tr>\n",
       "    <tr>\n",
       "      <th>20</th>\n",
       "      <td>UEFA Europa League ambassador Frederic Kanoute holds the slip of Manchester United FC during the UEFA Europa League football cup round of 32 draw ceremony on December 16, 2019 in Nyon.   / AFP / Fabrice COFFRINI</td>\n",
       "      <td>[afpevent:FBR56, afpevent:EDZ82, afpevent:EDU79]</td>\n",
       "    </tr>\n",
       "    <tr>\n",
       "      <th>21</th>\n",
       "      <td>UEFA Europa League ambassador Josephine Henning holds the slip of Club Bruggeduring the UEFA Europa League football cup round of 32 draw ceremony on December 16, 2019 in Nyon.   / AFP / Fabrice COFFRINI</td>\n",
       "      <td>[afpevent:FBR56, afpevent:EDZ82, afpevent:EDU79]</td>\n",
       "    </tr>\n",
       "    <tr>\n",
       "      <th>22</th>\n",
       "      <td>UEFA Europa League ambassador Frederic Kanoute holds the slip of Lask during the UEFA Europa League football cup round of 32 draw ceremony on December 16, 2019 in Nyon.   / AFP / Fabrice COFFRINI</td>\n",
       "      <td>[afpevent:FBR56, afpevent:EDZ82, afpevent:EDU79]</td>\n",
       "    </tr>\n",
       "    <tr>\n",
       "      <th>23</th>\n",
       "      <td>UEFA Europa League ambassador Josephine Henning holds the slip of AZ Alkmaar during the UEFA Europa League football cup round of 32 draw ceremony on December 16, 2019 in Nyon.   / AFP / Fabrice COFFRINI</td>\n",
       "      <td>[afpevent:FBR56, afpevent:EDZ82, afpevent:EDU79]</td>\n",
       "    </tr>\n",
       "    <tr>\n",
       "      <th>24</th>\n",
       "      <td>UEFA Europa League ambassador Frederic Kanoute holds the slip of Arsenal FC during the UEFA Europa League football cup round of 32 draw ceremony on December 16, 2019 in Nyon.   / AFP / Fabrice COFFRINI</td>\n",
       "      <td>[afpevent:FBR56, afpevent:EDZ82, afpevent:EDU79]</td>\n",
       "    </tr>\n",
       "    <tr>\n",
       "      <th>25</th>\n",
       "      <td>UEFA Europa League ambassador Josephine Henning holds the slip of Olympiacos FCduring the UEFA Europa League football cup round of 32 draw ceremony on December 16, 2019 in Nyon.   / AFP / Fabrice COFFRINI</td>\n",
       "      <td>[afpevent:FBR56, afpevent:EDZ82, afpevent:EDU79]</td>\n",
       "    </tr>\n",
       "    <tr>\n",
       "      <th>26</th>\n",
       "      <td>UEFA Europa League ambassador Frederic Kanoute holds the slip of Sevilla FC during the UEFA Europa League football cup round of 32 draw ceremony on December 16, 2019 in Nyon.   / AFP / Fabrice COFFRINI</td>\n",
       "      <td>[afpevent:FBR56, afpevent:EDZ82, afpevent:EDU79]</td>\n",
       "    </tr>\n",
       "    <tr>\n",
       "      <th>27</th>\n",
       "      <td>UEFA Europa League ambassador Josephine Henning holds the slip of CFR 1907 Cluj during the UEFA Europa League football cup round of 32 draw ceremony on December 16, 2019 in Nyon.   / AFP / Fabrice COFFRINI</td>\n",
       "      <td>[afpevent:FBR56, afpevent:EDZ82, afpevent:EDU79]</td>\n",
       "    </tr>\n",
       "    <tr>\n",
       "      <th>28</th>\n",
       "      <td>UEFA Europa League ambassador Josephine Henning holds the slip of Apoel FC during the UEFA Europa League football cup round of 32 draw ceremony on December 16, 2019 in Nyon.   / AFP / Fabrice COFFRINI</td>\n",
       "      <td>[afpevent:FBR56, afpevent:EDZ82, afpevent:EDU79]</td>\n",
       "    </tr>\n",
       "    <tr>\n",
       "      <th>29</th>\n",
       "      <td>UEFA Europa League ambassador Frederic Kanoute holds the slip of FC Basel 1893 during the UEFA Europa League football cup round of 32 draw ceremony on December 16, 2019 in Nyon.   / AFP / Fabrice COFFRINI</td>\n",
       "      <td>[afpevent:FBR56, afpevent:EDZ82, afpevent:EDU79]</td>\n",
       "    </tr>\n",
       "    <tr>\n",
       "      <th>...</th>\n",
       "      <td>...</td>\n",
       "      <td>...</td>\n",
       "    </tr>\n",
       "    <tr>\n",
       "      <th>70</th>\n",
       "      <td>Manchester United fans cheer before the UEFA Europa league group L football match between Partizan Belgrade and Manchester United at the Partizan stadium in Belgrade on October 24, 2019.  / AFP / ANDREJ ISAKOVIC</td>\n",
       "      <td>[afpevent:EDZ06, afpevent:EDU79, afpevent:EDY82]</td>\n",
       "    </tr>\n",
       "    <tr>\n",
       "      <th>71</th>\n",
       "      <td>Manchester United fans cheers before the UEFA Europa league group L football match between Partizan Belgrade and Manchester United at the Partizan stadium in Belgrade on October 24, 2019.  / AFP / ANDREJ ISAKOVIC</td>\n",
       "      <td>[afpevent:EDZ06, afpevent:EDU79, afpevent:EDY82]</td>\n",
       "    </tr>\n",
       "    <tr>\n",
       "      <th>72</th>\n",
       "      <td>Manchester United's English defender Brandon Williams warms up before the UEFA Europa league group L football match between Partizan Belgrade and Manchester United at the Partizan stadium in Belgrade on October 24, 2019.  / AFP / ANDREJ ISAKOVIC</td>\n",
       "      <td>[afpevent:EDZ06, afpevent:EDU79, afpevent:EDY82]</td>\n",
       "    </tr>\n",
       "    <tr>\n",
       "      <th>73</th>\n",
       "      <td>Manchester United's English striker Marcus Rashford warms up before the UEFA Europa league group L football match between Partizan Belgrade and Manchester United at the Partizan stadium in Belgrade on October 24, 2019.  / AFP / ANDREJ ISAKOVIC</td>\n",
       "      <td>[afpevent:EDZ06, afpevent:EDU79, afpevent:EDY82]</td>\n",
       "    </tr>\n",
       "    <tr>\n",
       "      <th>74</th>\n",
       "      <td>Manchester United's Brazilian midfielder Fred (R) warms up with Manchester United's striker Mason Greenwood before the UEFA Europa league group L football match between Partizan Belgrade and Manchester United at the Partizan stadium in Belgrade on October 24, 2019.  / AFP / ANDREJ ISAKOVIC</td>\n",
       "      <td>[afpevent:EDZ06, afpevent:EDU79, afpevent:EDY82]</td>\n",
       "    </tr>\n",
       "    <tr>\n",
       "      <th>75</th>\n",
       "      <td>FC Lugano's head coach Fabio Celestini attends a press conference in Malmo, Sweden, on October 23, 2019, ahead of the UEFA Europa League match against Malmo FF. Sweden OUT\\r\\n / AFP / TT News Agency / Andreas HILLERGREN</td>\n",
       "      <td>[afpevent:EDY85, afpevent:EDU79, afpevent:EDY82]</td>\n",
       "    </tr>\n",
       "    <tr>\n",
       "      <th>76</th>\n",
       "      <td>FC Lugano's goalkeeper Noam Baumann (L) and head coach Fabio Celestini attend a press conference in Malmo, Sweden, on October 23, 2019, ahead of the UEFA Europa League match against FC Lugano. Sweden OUT\\r\\n / AFP / TT News Agency / Andreas HILLERGREN</td>\n",
       "      <td>[afpevent:EDY85, afpevent:EDU79, afpevent:EDY82]</td>\n",
       "    </tr>\n",
       "    <tr>\n",
       "      <th>77</th>\n",
       "      <td>FC Lugano's goalkeeper Noam Baumann attends a press conference in Malmo, Sweden, on October 23, 2019, ahead of the UEFA Europa League match against FC Lugano. Sweden OUT\\r\\n / AFP / TT News Agency / Andreas HILLERGREN</td>\n",
       "      <td>[afpevent:EDY85, afpevent:EDU79, afpevent:EDY82]</td>\n",
       "    </tr>\n",
       "    <tr>\n",
       "      <th>78</th>\n",
       "      <td>Malmö FF's Icelandic midfielder Arnor Traustason (C) attends a training session at the Stadium, in Malmo, Sweden, on October 23, 2019, on the eve of UEFA Europa League Group B football match Malmo FF vs FC Lugano.\\r\\n Sweden OUT\\r\\n / AFP / TT News Agency / Johan NILSSON</td>\n",
       "      <td>[afpevent:EDY85, afpevent:EDU79, afpevent:EDY82]</td>\n",
       "    </tr>\n",
       "    <tr>\n",
       "      <th>79</th>\n",
       "      <td>Malmö FF's German head coach Uwe Rosler attends a training session at the Stadium, in Malmo, Sweden, on October 23, 2019, on the eve of UEFA Europa League Group B football match Malmo FF vs FC Lugano.\\r\\n Sweden OUT\\r\\n / AFP / TT News Agency / Johan NILSSON</td>\n",
       "      <td>[afpevent:EDY85, afpevent:EDU79, afpevent:EDY82]</td>\n",
       "    </tr>\n",
       "    <tr>\n",
       "      <th>80</th>\n",
       "      <td>Malmö FF's Danish midfielder Anders Christiansen (L) attends a training session at the Stadium, in Malmo, Sweden, on October 23, 2019, on the eve of UEFA Europa League Group B football match Malmo FF vs FC Lugano.\\r\\n Sweden OUT\\r\\n / AFP / TT News Agency / Johan NILSSON</td>\n",
       "      <td>[afpevent:EDY85, afpevent:EDU79, afpevent:EDY82]</td>\n",
       "    </tr>\n",
       "    <tr>\n",
       "      <th>81</th>\n",
       "      <td>Malmo FF's head coach Uwe Rosler (L) and defender Eric Larsson smile during a news conference at in Malmo, Sweden, on October 23, 2019, ahead of the UEFA Europa League match against FC Lugano. Sweden OUT\\r\\n / AFP / TT News Agency / Johan NILSSON</td>\n",
       "      <td>[afpevent:EDY85, afpevent:EDU79, afpevent:EDY82]</td>\n",
       "    </tr>\n",
       "    <tr>\n",
       "      <th>82</th>\n",
       "      <td>Malmo FF's head coach Uwe Rosler looks on during a news conference at in Malmo, Sweden, on October 23, 2019, ahead of the UEFA Europa League match against FC Lugano. Sweden OUT\\r\\n / AFP / TT News Agency / Johan NILSSON</td>\n",
       "      <td>[afpevent:EDY85, afpevent:EDU79, afpevent:EDY82]</td>\n",
       "    </tr>\n",
       "    <tr>\n",
       "      <th>83</th>\n",
       "      <td>Malmo FF's head coach Uwe Rosler gestures during a news conference at in Malmo, Sweden, on October 23, 2019, ahead of the UEFA Europa League match against FC Lugano. Sweden OUT\\r\\n / AFP / TT News Agency / Johan NILSSON</td>\n",
       "      <td>[afpevent:EDY85, afpevent:EDU79, afpevent:EDY82]</td>\n",
       "    </tr>\n",
       "    <tr>\n",
       "      <th>84</th>\n",
       "      <td>Dutch Feyenoord's coaches and former players Dirk Kuyt (L) and Jaap Stam (R) attend a training of their team on the eve the Europa League match against FC Porto. Netherlands OUT\\r\\n / AFP / ANP / Jerry Lampen</td>\n",
       "      <td>[afpevent:EDY70, afpevent:EDU79, afpevent:EDY57]</td>\n",
       "    </tr>\n",
       "    <tr>\n",
       "      <th>85</th>\n",
       "      <td>(FILES) In this file photo taken on August 22, 2019 Frankfurt's German goalkeeper Kevin Trapp catches the ball during the UEFA Europa League play offs football match between Strasbourg and Eintracht Frankfurt, at the Meinau stadium in Strasbourg. Eintracht Frankfurt's Germany goalkeeper Kevin Trapp is expected to be out for the rest of the year and needs surgery to repair damaged shoulder ligaments, his Bundesliga club announced on October 1, 2019. / AFP / PATRICK HERTZOG</td>\n",
       "      <td>[afpevent:EDY68, afpevent:EDU79, afpevent:EDY57]</td>\n",
       "    </tr>\n",
       "    <tr>\n",
       "      <th>86</th>\n",
       "      <td>TOPSHOT - AS Roma's Italian defender Leonardo Spinazzola (Top) jumps above Istanbul Basaksehir FK's French forward Enzo Crivelli during the UEFA Europa League Group J football match AS Roma vs Istanbul Basaksehir on September 19, 2019 at the Olympic stadium in Rome. / AFP / Alberto PIZZOLI</td>\n",
       "      <td>[afpevent:EDU79, afpevent:EDY32, afpevent:EDY52]</td>\n",
       "    </tr>\n",
       "    <tr>\n",
       "      <th>87</th>\n",
       "      <td>TOPSHOT - CFR Cluj's Croatian midfielder Damjan Djokovic (L) and Lazio's Serbian midfielder Sergej Milinkovic-Savic vie for the ball during the UEFA Europa League Group E football match CFR Cluj v Lazio in Cluj, northern Romania, on September 19, 2019.   / AFP / Daniel MIHAILESCU</td>\n",
       "      <td>[afpevent:EDU79, afpevent:EDY32, afpevent:EDY41]</td>\n",
       "    </tr>\n",
       "    <tr>\n",
       "      <th>88</th>\n",
       "      <td>TOPSHOT - AS Roma's Italian midfielder Nicolo Zaniolo celebrates after Rome scored its second goal during the UEFA Europa League Group J football match AS Roma vs Istanbul Basaksehir on September 19, 2019 at the Olympic stadium in Rome. / AFP / Alberto PIZZOLI</td>\n",
       "      <td>[afpevent:EDU79, afpevent:EDY32, afpevent:EDY52]</td>\n",
       "    </tr>\n",
       "    <tr>\n",
       "      <th>89</th>\n",
       "      <td>TOPSHOT - (FromL) FC Basel's Swiss midfielder Valentin Stocker, FC Basel's Swiss midfielder Kevin Bua and FC Basel's Swiss midfielder Fabian Frei celebrate after scoring their team's second goal during the UEFA Europa League group C football match between Basel and FK Krasnodar at St Jakob-Park stadium on September 19, 2019 in Basel.  / AFP / Fabrice COFFRINI</td>\n",
       "      <td>[afpevent:EDU79, afpevent:EDY32, afpevent:EDY38]</td>\n",
       "    </tr>\n",
       "    <tr>\n",
       "      <th>90</th>\n",
       "      <td>The pitch is watered ahead of the UEFA Europa League Group G football match between Rangers and Feyenoord at Ibrox Stadium in Glasgow, Scotland on September 19, 2019. / AFP / ANDY BUCHANAN</td>\n",
       "      <td>[afpevent:EDU79, afpevent:EDY32, afpevent:EDY45]</td>\n",
       "    </tr>\n",
       "    <tr>\n",
       "      <th>91</th>\n",
       "      <td>Celtic's supporters cheers prior to the UEFA Europa League Group E football match between Rennes (stade Rennais FC)  and Celtic Glasgow (Celtic FC) at the Roazhon Park stadium in Rennes on September 19, 2019. / AFP / Sebastien SALOM-GOMIS</td>\n",
       "      <td>[afpevent:EDY42, afpevent:EDU79, afpevent:EDY32]</td>\n",
       "    </tr>\n",
       "    <tr>\n",
       "      <th>92</th>\n",
       "      <td>Rennes' French head coach Julien Stephan greets supporters as he arrives at Rennes stadium prior to the UEFA Europa League Group E football match between Rennes (stade Rennais FC)  and Celtic Glasgow (Celtic FC) at the Roazhon Park stadium in Rennes on September 19, 2019. / AFP / Sebastien SALOM-GOMIS</td>\n",
       "      <td>[afpevent:EDY42, afpevent:EDU79, afpevent:EDY32]</td>\n",
       "    </tr>\n",
       "    <tr>\n",
       "      <th>93</th>\n",
       "      <td>AS Saint-Etienne French forward Lois Diony takes part in a training session of French team on September 18, 2019 in Gent, on the eve of the UEFA Europa League group I stage match against Belgian club KAA Gent.  Belgium OUT\\r\\n / AFP / BELGA / Belga / JASPER JACOBS</td>\n",
       "      <td>[afpevent:EDY49, afpevent:EDU79, afpevent:EDY32]</td>\n",
       "    </tr>\n",
       "    <tr>\n",
       "      <th>94</th>\n",
       "      <td>Saint-Etienne's head coach Ghislain Printant looks on during a training session of French team AS Saint-Etienne on September 18, 2019 in Gent, , on the eve of the UEFA Europa League group I stage match against Belgian club KAA Gent.  Belgium OUT\\r\\n / AFP / BELGA / Belga / JASPER JACOBS</td>\n",
       "      <td>[afpevent:EDY49, afpevent:EDU79, afpevent:EDY32]</td>\n",
       "    </tr>\n",
       "    <tr>\n",
       "      <th>95</th>\n",
       "      <td>Saint-Etienne's head coach Ghislain Printant speaks during a press conference of French team AS Saint-Etienne, on September 18, 2019 in Gent, on the eve of the UEFA Europa League group stage match against Belgian club KAA Gent. Belgium OUT\\r\\n / AFP / BELGA / JASPER JACOBS</td>\n",
       "      <td>[afpevent:EDY49, afpevent:EDU79, afpevent:EDY32]</td>\n",
       "    </tr>\n",
       "    <tr>\n",
       "      <th>96</th>\n",
       "      <td>Saint-Etienne's Loic Perrin speaks during a press conference of French team AS Saint-Etienne, on September 18, 2019 in Gent, on the eve of the UEFA Europa League group stage match against Belgian club KAA Gent. Belgium OUT\\r\\n / AFP / BELGA / JASPER JACOBS</td>\n",
       "      <td>[afpevent:EDY49, afpevent:EDU79, afpevent:EDY32]</td>\n",
       "    </tr>\n",
       "    <tr>\n",
       "      <th>97</th>\n",
       "      <td>Gent's French midfielder Elisha Owusu (L) and Gent's Danish head coach Jess Thorup give a press conference in Gent on September 18, 2019 on the ve of their UEFA Europa League Group I football match between KAA Gent and AS Saint-Etienne.  - Belgium OUT\\r\\n / AFP / BELGA / JASPER JACOBS</td>\n",
       "      <td>[afpevent:EDY49, afpevent:EDU79, afpevent:EDY32]</td>\n",
       "    </tr>\n",
       "    <tr>\n",
       "      <th>98</th>\n",
       "      <td>KAA Gent's head coach Jess Thorup attends a press conference on September 18, 2019 in Ghent, one day ahead of the UEFA Europa league group I football match against Saint-Etienne. Belgium OUT\\r\\n / AFP / BELGA / JASPER JACOBS</td>\n",
       "      <td>[afpevent:EDY49, afpevent:EDU79, afpevent:EDY32]</td>\n",
       "    </tr>\n",
       "    <tr>\n",
       "      <th>99</th>\n",
       "      <td>Frankfurt's fans hold a banner as they cheer their team during the UEFA Europa League play offs football match between Strasbourg and Eintracht Frankfurt, at the Meinau stadium in Strasbourg, on August 22, 2019. / AFP / PATRICK HERTZOG</td>\n",
       "      <td>[afpevent:EDY08, afpevent:EDU79, afpevent:EDV16]</td>\n",
       "    </tr>\n",
       "  </tbody>\n",
       "</table>\n",
       "<p>100 rows × 2 columns</p>\n",
       "</div>"
      ],
      "text/plain": [
       "                                                                                                                                                                                                                                                                                                                                                                                                                                                                                         caption  \\\n",
       "0   (FILES) In this file photo taken on December 12, 2019 Espanyol's Spanish coach Pablo Machin looks on before the UEFA Europa League Group H football match between Espanyol and CSKA Moscow at the RCDE Stadium in Cornella de Llobregat near Barcelona, on December 12, 2019. Espanyol, who are languishing at the bottom of La Liga, on December 23 fired chief coach Pablo Machin after just over two months in the job, the club said.  / AFP / Josep LAGO                                  \n",
       "1   (From L) UEFA deputy general secretary Giorgio Marchetti, UEFA Europa League ambassador Josephine Henning, UEFA Europa League ambassador Frederic Kanoute, and UEFA head of club competitions Michael Heselschwerdt attend the UEFA Europa League football cup round of 32 draw ceremony on December 16, 2019 in Nyon.   / AFP / Fabrice COFFRINI                                                                                                                                              \n",
       "2   An official proceeds to the UEFA Europa League football cup round of 32 draw ceremony on December 16, 2019 in Nyon.   / AFP / Fabrice COFFRINI                                                                                                                                                                                                                                                                                                                                                 \n",
       "3   UEFA Europa League ambassador Frederic Kanoute proceeds to the UEFA Europa League football cup round of 32 draw ceremony on December 16, 2019 in Nyon.   / AFP / Fabrice COFFRINI                                                                                                                                                                                                                                                                                                              \n",
       "4   UEFA Europa League ambassador Josephine Henning proceeds to the UEFA Europa League football cup round of 32 draw ceremony on December 16, 2019 in Nyon.   / AFP / Fabrice COFFRINI                                                                                                                                                                                                                                                                                                             \n",
       "5   An UEFA official removes the UEFA Europa League football cup trophy after the cup's round of 32 draw ceremony on December 16, 2019 in Nyon.   / AFP / Fabrice COFFRINI                                                                                                                                                                                                                                                                                                                         \n",
       "6   The UEFA Europa League football cup trophy is pictured before the cup's round of 32 draw ceremony on December 16, 2019 in Nyon.   / AFP / Fabrice COFFRINI                                                                                                                                                                                                                                                                                                                                     \n",
       "7   UEFA Europa League ambassador Josephine Henning holds the slip of AS Roma during the UEFA Europa League football cup round of 32 draw ceremony on December 16, 2019 in Nyon.   / AFP / Fabrice COFFRINI                                                                                                                                                                                                                                                                                        \n",
       "8   UEFA Europa League ambassador Josephine Henning holds the slip of FC Shakhtar Donetsk during the UEFA Europa League football cup round of 32 draw ceremony on December 16, 2019 in Nyon.   / AFP / Fabrice COFFRINI                                                                                                                                                                                                                                                                            \n",
       "9   UEFA Europa League ambassador Josephine Henning holds the slip of Rangers FC during the UEFA Europa League football cup round of 32 draw ceremony on December 16, 2019 in Nyon.   / AFP / Fabrice COFFRINI                                                                                                                                                                                                                                                                                     \n",
       "10  UEFA Europa League ambassador Josephine Henning holds the slip of VfL Wolfsburg during the UEFA Europa League football cup round of 32 draw ceremony on December 16, 2019 in Nyon.   / AFP / Fabrice COFFRINI                                                                                                                                                                                                                                                                                  \n",
       "11  UEFA Europa League ambassador Frederic Kanoute holds the slip of FC Salzburg during the UEFA Europa League football cup round of 32 draw ceremony on December 16, 2019 in Nyon.   / AFP / Fabrice COFFRINI                                                                                                                                                                                                                                                                                     \n",
       "12  UEFA Europa League ambassador Frederic Kanoute holds the slip of Malmo FF during the UEFA Europa League football cup round of 32 draw ceremony on December 16, 2019 in Nyon.   / AFP / Fabrice COFFRINI                                                                                                                                                                                                                                                                                        \n",
       "13  UEFA Europa League ambassador Frederic Kanoute holds the slip of SL Benfica during the UEFA Europa League football cup round of 32 draw ceremony on December 16, 2019 in Nyon.   / AFP / Fabrice COFFRINI                                                                                                                                                                                                                                                                                      \n",
       "14  UEFA Europa League ambassador Frederic Kanoute holds the slip of SC Braga during the UEFA Europa League football cup round of 32 draw ceremony on December 16, 2019 in Nyon.   / AFP / Fabrice COFFRINI                                                                                                                                                                                                                                                                                        \n",
       "15  UEFA Europa League ambassador Frederic Kanoute holds the slip of KAA Gent during the UEFA Europa League football cup round of 32 draw ceremony on December 16, 2019 in Nyon.   / AFP / Fabrice COFFRINI                                                                                                                                                                                                                                                                                        \n",
       "16  UEFA Europa League ambassador Josephine Henning holds the slip of Eintracht Frankfurt during the UEFA Europa League football cup round of 32 draw ceremony on December 16, 2019 in Nyon.   / AFP / Fabrice COFFRINI                                                                                                                                                                                                                                                                            \n",
       "17  UEFA Europa League ambassador Frederic Kanoute holds the slip of FC Inter Milan during the UEFA Europa League football cup round of 32 draw ceremony on December 16, 2019 in Nyon.   / AFP / Fabrice COFFRINI                                                                                                                                                                                                                                                                                  \n",
       "18  The results are displayed on a screen after the UEFA Europa League football cup round of 32 draw ceremony on December 16, 2019 in Nyon.   / AFP / Fabrice COFFRINI                                                                                                                                                                                                                                                                                                                             \n",
       "19  UEFA Europa League ambassador Josephine Henning holds the slip of PFC Lufogorets 1945 during the UEFA Europa League football cup round of 32 draw ceremony on December 16, 2019 in Nyon.   / AFP / Fabrice COFFRINI                                                                                                                                                                                                                                                                            \n",
       "20  UEFA Europa League ambassador Frederic Kanoute holds the slip of Manchester United FC during the UEFA Europa League football cup round of 32 draw ceremony on December 16, 2019 in Nyon.   / AFP / Fabrice COFFRINI                                                                                                                                                                                                                                                                            \n",
       "21  UEFA Europa League ambassador Josephine Henning holds the slip of Club Bruggeduring the UEFA Europa League football cup round of 32 draw ceremony on December 16, 2019 in Nyon.   / AFP / Fabrice COFFRINI                                                                                                                                                                                                                                                                                     \n",
       "22  UEFA Europa League ambassador Frederic Kanoute holds the slip of Lask during the UEFA Europa League football cup round of 32 draw ceremony on December 16, 2019 in Nyon.   / AFP / Fabrice COFFRINI                                                                                                                                                                                                                                                                                            \n",
       "23  UEFA Europa League ambassador Josephine Henning holds the slip of AZ Alkmaar during the UEFA Europa League football cup round of 32 draw ceremony on December 16, 2019 in Nyon.   / AFP / Fabrice COFFRINI                                                                                                                                                                                                                                                                                     \n",
       "24  UEFA Europa League ambassador Frederic Kanoute holds the slip of Arsenal FC during the UEFA Europa League football cup round of 32 draw ceremony on December 16, 2019 in Nyon.   / AFP / Fabrice COFFRINI                                                                                                                                                                                                                                                                                      \n",
       "25  UEFA Europa League ambassador Josephine Henning holds the slip of Olympiacos FCduring the UEFA Europa League football cup round of 32 draw ceremony on December 16, 2019 in Nyon.   / AFP / Fabrice COFFRINI                                                                                                                                                                                                                                                                                   \n",
       "26  UEFA Europa League ambassador Frederic Kanoute holds the slip of Sevilla FC during the UEFA Europa League football cup round of 32 draw ceremony on December 16, 2019 in Nyon.   / AFP / Fabrice COFFRINI                                                                                                                                                                                                                                                                                      \n",
       "27  UEFA Europa League ambassador Josephine Henning holds the slip of CFR 1907 Cluj during the UEFA Europa League football cup round of 32 draw ceremony on December 16, 2019 in Nyon.   / AFP / Fabrice COFFRINI                                                                                                                                                                                                                                                                                  \n",
       "28  UEFA Europa League ambassador Josephine Henning holds the slip of Apoel FC during the UEFA Europa League football cup round of 32 draw ceremony on December 16, 2019 in Nyon.   / AFP / Fabrice COFFRINI                                                                                                                                                                                                                                                                                       \n",
       "29  UEFA Europa League ambassador Frederic Kanoute holds the slip of FC Basel 1893 during the UEFA Europa League football cup round of 32 draw ceremony on December 16, 2019 in Nyon.   / AFP / Fabrice COFFRINI                                                                                                                                                                                                                                                                                   \n",
       "..                                                                                                                                                                                                           ...                                                                                                                                                                                                                                                                                   \n",
       "70  Manchester United fans cheer before the UEFA Europa league group L football match between Partizan Belgrade and Manchester United at the Partizan stadium in Belgrade on October 24, 2019.  / AFP / ANDREJ ISAKOVIC                                                                                                                                                                                                                                                                            \n",
       "71  Manchester United fans cheers before the UEFA Europa league group L football match between Partizan Belgrade and Manchester United at the Partizan stadium in Belgrade on October 24, 2019.  / AFP / ANDREJ ISAKOVIC                                                                                                                                                                                                                                                                           \n",
       "72  Manchester United's English defender Brandon Williams warms up before the UEFA Europa league group L football match between Partizan Belgrade and Manchester United at the Partizan stadium in Belgrade on October 24, 2019.  / AFP / ANDREJ ISAKOVIC                                                                                                                                                                                                                                          \n",
       "73  Manchester United's English striker Marcus Rashford warms up before the UEFA Europa league group L football match between Partizan Belgrade and Manchester United at the Partizan stadium in Belgrade on October 24, 2019.  / AFP / ANDREJ ISAKOVIC                                                                                                                                                                                                                                            \n",
       "74  Manchester United's Brazilian midfielder Fred (R) warms up with Manchester United's striker Mason Greenwood before the UEFA Europa league group L football match between Partizan Belgrade and Manchester United at the Partizan stadium in Belgrade on October 24, 2019.  / AFP / ANDREJ ISAKOVIC                                                                                                                                                                                             \n",
       "75  FC Lugano's head coach Fabio Celestini attends a press conference in Malmo, Sweden, on October 23, 2019, ahead of the UEFA Europa League match against Malmo FF. Sweden OUT\\r\\n / AFP / TT News Agency / Andreas HILLERGREN                                                                                                                                                                                                                                                                    \n",
       "76  FC Lugano's goalkeeper Noam Baumann (L) and head coach Fabio Celestini attend a press conference in Malmo, Sweden, on October 23, 2019, ahead of the UEFA Europa League match against FC Lugano. Sweden OUT\\r\\n / AFP / TT News Agency / Andreas HILLERGREN                                                                                                                                                                                                                                    \n",
       "77  FC Lugano's goalkeeper Noam Baumann attends a press conference in Malmo, Sweden, on October 23, 2019, ahead of the UEFA Europa League match against FC Lugano. Sweden OUT\\r\\n / AFP / TT News Agency / Andreas HILLERGREN                                                                                                                                                                                                                                                                      \n",
       "78  Malmö FF's Icelandic midfielder Arnor Traustason (C) attends a training session at the Stadium, in Malmo, Sweden, on October 23, 2019, on the eve of UEFA Europa League Group B football match Malmo FF vs FC Lugano.\\r\\n Sweden OUT\\r\\n / AFP / TT News Agency / Johan NILSSON                                                                                                                                                                                                                \n",
       "79  Malmö FF's German head coach Uwe Rosler attends a training session at the Stadium, in Malmo, Sweden, on October 23, 2019, on the eve of UEFA Europa League Group B football match Malmo FF vs FC Lugano.\\r\\n Sweden OUT\\r\\n / AFP / TT News Agency / Johan NILSSON                                                                                                                                                                                                                             \n",
       "80  Malmö FF's Danish midfielder Anders Christiansen (L) attends a training session at the Stadium, in Malmo, Sweden, on October 23, 2019, on the eve of UEFA Europa League Group B football match Malmo FF vs FC Lugano.\\r\\n Sweden OUT\\r\\n / AFP / TT News Agency / Johan NILSSON                                                                                                                                                                                                                \n",
       "81  Malmo FF's head coach Uwe Rosler (L) and defender Eric Larsson smile during a news conference at in Malmo, Sweden, on October 23, 2019, ahead of the UEFA Europa League match against FC Lugano. Sweden OUT\\r\\n / AFP / TT News Agency / Johan NILSSON                                                                                                                                                                                                                                         \n",
       "82  Malmo FF's head coach Uwe Rosler looks on during a news conference at in Malmo, Sweden, on October 23, 2019, ahead of the UEFA Europa League match against FC Lugano. Sweden OUT\\r\\n / AFP / TT News Agency / Johan NILSSON                                                                                                                                                                                                                                                                    \n",
       "83  Malmo FF's head coach Uwe Rosler gestures during a news conference at in Malmo, Sweden, on October 23, 2019, ahead of the UEFA Europa League match against FC Lugano. Sweden OUT\\r\\n / AFP / TT News Agency / Johan NILSSON                                                                                                                                                                                                                                                                    \n",
       "84  Dutch Feyenoord's coaches and former players Dirk Kuyt (L) and Jaap Stam (R) attend a training of their team on the eve the Europa League match against FC Porto. Netherlands OUT\\r\\n / AFP / ANP / Jerry Lampen                                                                                                                                                                                                                                                                               \n",
       "85  (FILES) In this file photo taken on August 22, 2019 Frankfurt's German goalkeeper Kevin Trapp catches the ball during the UEFA Europa League play offs football match between Strasbourg and Eintracht Frankfurt, at the Meinau stadium in Strasbourg. Eintracht Frankfurt's Germany goalkeeper Kevin Trapp is expected to be out for the rest of the year and needs surgery to repair damaged shoulder ligaments, his Bundesliga club announced on October 1, 2019. / AFP / PATRICK HERTZOG   \n",
       "86  TOPSHOT - AS Roma's Italian defender Leonardo Spinazzola (Top) jumps above Istanbul Basaksehir FK's French forward Enzo Crivelli during the UEFA Europa League Group J football match AS Roma vs Istanbul Basaksehir on September 19, 2019 at the Olympic stadium in Rome. / AFP / Alberto PIZZOLI                                                                                                                                                                                             \n",
       "87  TOPSHOT - CFR Cluj's Croatian midfielder Damjan Djokovic (L) and Lazio's Serbian midfielder Sergej Milinkovic-Savic vie for the ball during the UEFA Europa League Group E football match CFR Cluj v Lazio in Cluj, northern Romania, on September 19, 2019.   / AFP / Daniel MIHAILESCU                                                                                                                                                                                                       \n",
       "88  TOPSHOT - AS Roma's Italian midfielder Nicolo Zaniolo celebrates after Rome scored its second goal during the UEFA Europa League Group J football match AS Roma vs Istanbul Basaksehir on September 19, 2019 at the Olympic stadium in Rome. / AFP / Alberto PIZZOLI                                                                                                                                                                                                                           \n",
       "89  TOPSHOT - (FromL) FC Basel's Swiss midfielder Valentin Stocker, FC Basel's Swiss midfielder Kevin Bua and FC Basel's Swiss midfielder Fabian Frei celebrate after scoring their team's second goal during the UEFA Europa League group C football match between Basel and FK Krasnodar at St Jakob-Park stadium on September 19, 2019 in Basel.  / AFP / Fabrice COFFRINI                                                                                                                      \n",
       "90  The pitch is watered ahead of the UEFA Europa League Group G football match between Rangers and Feyenoord at Ibrox Stadium in Glasgow, Scotland on September 19, 2019. / AFP / ANDY BUCHANAN                                                                                                                                                                                                                                                                                                   \n",
       "91  Celtic's supporters cheers prior to the UEFA Europa League Group E football match between Rennes (stade Rennais FC)  and Celtic Glasgow (Celtic FC) at the Roazhon Park stadium in Rennes on September 19, 2019. / AFP / Sebastien SALOM-GOMIS                                                                                                                                                                                                                                                 \n",
       "92  Rennes' French head coach Julien Stephan greets supporters as he arrives at Rennes stadium prior to the UEFA Europa League Group E football match between Rennes (stade Rennais FC)  and Celtic Glasgow (Celtic FC) at the Roazhon Park stadium in Rennes on September 19, 2019. / AFP / Sebastien SALOM-GOMIS                                                                                                                                                                                 \n",
       "93  AS Saint-Etienne French forward Lois Diony takes part in a training session of French team on September 18, 2019 in Gent, on the eve of the UEFA Europa League group I stage match against Belgian club KAA Gent.  Belgium OUT\\r\\n / AFP / BELGA / Belga / JASPER JACOBS                                                                                                                                                                                                                       \n",
       "94  Saint-Etienne's head coach Ghislain Printant looks on during a training session of French team AS Saint-Etienne on September 18, 2019 in Gent, , on the eve of the UEFA Europa League group I stage match against Belgian club KAA Gent.  Belgium OUT\\r\\n / AFP / BELGA / Belga / JASPER JACOBS                                                                                                                                                                                                \n",
       "95  Saint-Etienne's head coach Ghislain Printant speaks during a press conference of French team AS Saint-Etienne, on September 18, 2019 in Gent, on the eve of the UEFA Europa League group stage match against Belgian club KAA Gent. Belgium OUT\\r\\n / AFP / BELGA / JASPER JACOBS                                                                                                                                                                                                              \n",
       "96  Saint-Etienne's Loic Perrin speaks during a press conference of French team AS Saint-Etienne, on September 18, 2019 in Gent, on the eve of the UEFA Europa League group stage match against Belgian club KAA Gent. Belgium OUT\\r\\n / AFP / BELGA / JASPER JACOBS                                                                                                                                                                                                                               \n",
       "97  Gent's French midfielder Elisha Owusu (L) and Gent's Danish head coach Jess Thorup give a press conference in Gent on September 18, 2019 on the ve of their UEFA Europa League Group I football match between KAA Gent and AS Saint-Etienne.  - Belgium OUT\\r\\n / AFP / BELGA / JASPER JACOBS                                                                                                                                                                                                  \n",
       "98  KAA Gent's head coach Jess Thorup attends a press conference on September 18, 2019 in Ghent, one day ahead of the UEFA Europa league group I football match against Saint-Etienne. Belgium OUT\\r\\n / AFP / BELGA / JASPER JACOBS                                                                                                                                                                                                                                                               \n",
       "99  Frankfurt's fans hold a banner as they cheer their team during the UEFA Europa League play offs football match between Strasbourg and Eintracht Frankfurt, at the Meinau stadium in Strasbourg, on August 22, 2019. / AFP / PATRICK HERTZOG                                                                                                                                                                                                                                                    \n",
       "\n",
       "                                               event  \n",
       "0   [afpevent:EDZ72, afpevent:EDU79, afpevent:EDZ57]  \n",
       "1   [afpevent:FBR56, afpevent:EDZ82, afpevent:EDU79]  \n",
       "2   [afpevent:FBR56, afpevent:EDZ82, afpevent:EDU79]  \n",
       "3   [afpevent:FBR56, afpevent:EDZ82, afpevent:EDU79]  \n",
       "4   [afpevent:FBR56, afpevent:EDZ82, afpevent:EDU79]  \n",
       "5   [afpevent:FBR56, afpevent:EDZ82, afpevent:EDU79]  \n",
       "6   [afpevent:FBR56, afpevent:EDZ82, afpevent:EDU79]  \n",
       "7   [afpevent:FBR56, afpevent:EDZ82, afpevent:EDU79]  \n",
       "8   [afpevent:FBR56, afpevent:EDZ82, afpevent:EDU79]  \n",
       "9   [afpevent:FBR56, afpevent:EDZ82, afpevent:EDU79]  \n",
       "10  [afpevent:FBR56, afpevent:EDZ82, afpevent:EDU79]  \n",
       "11  [afpevent:FBR56, afpevent:EDZ82, afpevent:EDU79]  \n",
       "12  [afpevent:FBR56, afpevent:EDZ82, afpevent:EDU79]  \n",
       "13  [afpevent:FBR56, afpevent:EDZ82, afpevent:EDU79]  \n",
       "14  [afpevent:FBR56, afpevent:EDZ82, afpevent:EDU79]  \n",
       "15  [afpevent:FBR56, afpevent:EDZ82, afpevent:EDU79]  \n",
       "16  [afpevent:FBR56, afpevent:EDZ82, afpevent:EDU79]  \n",
       "17  [afpevent:FBR56, afpevent:EDZ82, afpevent:EDU79]  \n",
       "18  [afpevent:FBR56, afpevent:EDZ82, afpevent:EDU79]  \n",
       "19  [afpevent:FBR56, afpevent:EDZ82, afpevent:EDU79]  \n",
       "20  [afpevent:FBR56, afpevent:EDZ82, afpevent:EDU79]  \n",
       "21  [afpevent:FBR56, afpevent:EDZ82, afpevent:EDU79]  \n",
       "22  [afpevent:FBR56, afpevent:EDZ82, afpevent:EDU79]  \n",
       "23  [afpevent:FBR56, afpevent:EDZ82, afpevent:EDU79]  \n",
       "24  [afpevent:FBR56, afpevent:EDZ82, afpevent:EDU79]  \n",
       "25  [afpevent:FBR56, afpevent:EDZ82, afpevent:EDU79]  \n",
       "26  [afpevent:FBR56, afpevent:EDZ82, afpevent:EDU79]  \n",
       "27  [afpevent:FBR56, afpevent:EDZ82, afpevent:EDU79]  \n",
       "28  [afpevent:FBR56, afpevent:EDZ82, afpevent:EDU79]  \n",
       "29  [afpevent:FBR56, afpevent:EDZ82, afpevent:EDU79]  \n",
       "..                                               ...  \n",
       "70  [afpevent:EDZ06, afpevent:EDU79, afpevent:EDY82]  \n",
       "71  [afpevent:EDZ06, afpevent:EDU79, afpevent:EDY82]  \n",
       "72  [afpevent:EDZ06, afpevent:EDU79, afpevent:EDY82]  \n",
       "73  [afpevent:EDZ06, afpevent:EDU79, afpevent:EDY82]  \n",
       "74  [afpevent:EDZ06, afpevent:EDU79, afpevent:EDY82]  \n",
       "75  [afpevent:EDY85, afpevent:EDU79, afpevent:EDY82]  \n",
       "76  [afpevent:EDY85, afpevent:EDU79, afpevent:EDY82]  \n",
       "77  [afpevent:EDY85, afpevent:EDU79, afpevent:EDY82]  \n",
       "78  [afpevent:EDY85, afpevent:EDU79, afpevent:EDY82]  \n",
       "79  [afpevent:EDY85, afpevent:EDU79, afpevent:EDY82]  \n",
       "80  [afpevent:EDY85, afpevent:EDU79, afpevent:EDY82]  \n",
       "81  [afpevent:EDY85, afpevent:EDU79, afpevent:EDY82]  \n",
       "82  [afpevent:EDY85, afpevent:EDU79, afpevent:EDY82]  \n",
       "83  [afpevent:EDY85, afpevent:EDU79, afpevent:EDY82]  \n",
       "84  [afpevent:EDY70, afpevent:EDU79, afpevent:EDY57]  \n",
       "85  [afpevent:EDY68, afpevent:EDU79, afpevent:EDY57]  \n",
       "86  [afpevent:EDU79, afpevent:EDY32, afpevent:EDY52]  \n",
       "87  [afpevent:EDU79, afpevent:EDY32, afpevent:EDY41]  \n",
       "88  [afpevent:EDU79, afpevent:EDY32, afpevent:EDY52]  \n",
       "89  [afpevent:EDU79, afpevent:EDY32, afpevent:EDY38]  \n",
       "90  [afpevent:EDU79, afpevent:EDY32, afpevent:EDY45]  \n",
       "91  [afpevent:EDY42, afpevent:EDU79, afpevent:EDY32]  \n",
       "92  [afpevent:EDY42, afpevent:EDU79, afpevent:EDY32]  \n",
       "93  [afpevent:EDY49, afpevent:EDU79, afpevent:EDY32]  \n",
       "94  [afpevent:EDY49, afpevent:EDU79, afpevent:EDY32]  \n",
       "95  [afpevent:EDY49, afpevent:EDU79, afpevent:EDY32]  \n",
       "96  [afpevent:EDY49, afpevent:EDU79, afpevent:EDY32]  \n",
       "97  [afpevent:EDY49, afpevent:EDU79, afpevent:EDY32]  \n",
       "98  [afpevent:EDY49, afpevent:EDU79, afpevent:EDY32]  \n",
       "99  [afpevent:EDY08, afpevent:EDU79, afpevent:EDV16]  \n",
       "\n",
       "[100 rows x 2 columns]"
      ]
     },
     "metadata": {},
     "output_type": "display_data"
    }
   ],
   "source": [
    "photo_filter_by_event(['afpevent:EDU79'])"
   ]
  },
  {
   "cell_type": "code",
   "execution_count": 52,
   "metadata": {},
   "outputs": [
    {
     "name": "stdout",
     "output_type": "stream",
     "text": [
      "Depeche n° 0 (events =  ['afpevent:FHL21'] )\n",
      " Iranian cyberpolice have arrested 24 people accused of online rumour-mongering about the spread of the coronavirus in the country, semi-official news agency ISNA reported on Wednesday.\n",
      " The arrests were carried out after the establishment of a special unit to \"combat rumour-mongers regarding the 'spread of coronavirus in the country',\" he was quoted as saying. \n",
      "\n",
      " Best 5 images :\n",
      "\n",
      "photo n° 13440 (events =  ['afpevent:FHQ48'] )\n",
      " EDITORS NOTE: Graphic content / TOPSHOT - Rescue teams recover debris from a field after a Ukrainian plane carrying 176 passengers crashed near Imam Khomeini airport in the Iranian capital Tehran early in the morning on January 8, 2020, killing everyone on board. The Boeing 737 had left Tehran's international airport bound for Kiev, semi-official news agency ISNA said, adding that 10 ambulances were sent to the crash site. / AFP / - \n",
      "\n",
      "photo n° 13441 (events =  ['afpevent:FHQ24'] )\n",
      " TOPSHOT - People and rescue teams are pictured amid the wreckage after a Ukrainian plane carrying 176 passengers crashed near Imam Khomeini airport in the Iranian capital Tehran early in the morning on January 8, 2020, killing everyone on board. The Boeing 737 had left Tehran's international airport bound for Kiev, semi-official news agency ISNA said, adding that 10 ambulances were sent to the crash site.  / AFP / ISNA / ISNA / Rouhollah VAHDATI \n",
      "\n",
      "photo n° 13458 (events =  ['afpevent:FHQ24'] )\n",
      " People and rescue teams are pictured amid bodies and debris after a Ukrainian plane carrying 176 passengers crashed near Imam Khomeini airport in the Iranian capital Tehran early in the morning on January 8, 2020, killing everyone on board. The Boeing 737 had left Tehran's international airport bound for Kiev, semi-official news agency ISNA said, adding that 10 ambulances were sent to the crash site.  / AFP / ISNA / ISNA / ISNA / Rouhollah VAHDATI \n",
      "\n",
      "photo n° 13459 (events =  ['afpevent:FHQ48'] )\n",
      " EDITORS NOTE: Graphic content / TOPSHOT - Rescue teams recover a body after a Ukrainian plane carrying 176 passengers crashed near Imam Khomeini airport in the Iranian capital Tehran early in the morning on January 8, 2020, killing everyone on board. The Boeing 737 had left Tehran's international airport bound for Kiev, semi-official news agency ISNA said, adding that 10 ambulances were sent to the crash site. / AFP / - \n",
      "\n",
      "photo n° 13442 (events =  ['afpevent:FHQ48'] )\n",
      " EDITORS NOTE: Graphic content / TOPSHOT - An Iranian man holds a phone displaying a list with the names of those killed after a Ukrainian plane carrying 176 passengers crashed near Imam Khomeini airport in the Iranian capital Tehran early in the morning on January 8, 2020, killing everyone on board. The Boeing 737 had left Tehran's international airport bound for Kiev, semi-official news agency ISNA said, adding that 10 ambulances were sent to the crash site. / AFP / ATTA KENARE \n",
      "\n"
     ]
    }
   ],
   "source": [
    "test(0) #marche pas (faudrait que corona soit detecté)"
   ]
  },
  {
   "cell_type": "code",
   "execution_count": 54,
   "metadata": {},
   "outputs": [
    {
     "name": "stdout",
     "output_type": "stream",
     "text": [
      "Depeche n° 1 (events =  ['afpevent:FHL21'] )\n",
      " There are now more new cases of the coronavirus reported each day outside China than inside the hardest-hit country, the World Health Organization said on Wednesday.\n",
      " While new case numbers and deaths are dwindling at the disease epicentre in China, the country remains by far the hardest hit. \n",
      "\n",
      " Best 5 images :\n",
      "\n",
      "photo n° 9587 (events =  ['afpevent:FHL21'] )\n",
      " A passenger wears a face mask on board of a plane at Yangon International Airport on January 21, 2020. China has confirmed human-to-human transmission in the outbreak of a new SARS-like virus as the number of cases soared and authorities January 21 said a fourth person had died, as the World Health Organization said it would consider declaring an international public health emergency over the outbreak.\n",
      " / AFP / Mladen ANTONOV \n",
      "\n",
      "photo n° 9588 (events =  ['afpevent:FHL21'] )\n",
      " Passengers wearing face masks board their flight at Yangon International Airport on January 21, 2020. China has confirmed human-to-human transmission in the outbreak of a new SARS-like virus as the number of cases soared and authorities January 21 said a fourth person had died, as the World Health Organization said it would consider declaring an international public health emergency over the outbreak.\n",
      " / AFP / Mladen ANTONOV \n",
      "\n",
      "photo n° 9589 (events =  ['afpevent:FHL21'] )\n",
      " Passengers wear face masks while waiting to board their plane at Yangon International Airport on January 21, 2020. China has confirmed human-to-human transmission in the outbreak of a new SARS-like virus as the number of cases soared and authorities January 21 said a fourth person had died, as the World Health Organization said it would consider declaring an international public health emergency over the outbreak.\n",
      " / AFP / Mladen ANTONOV \n",
      "\n",
      "photo n° 9590 (events =  ['afpevent:FHL21'] )\n",
      " An airport official wearing a face mask checks the passport of a passenger at Don Mueang International Airport in Bangkok on January 21, 2020. China has confirmed human-to-human transmission in the outbreak of a new SARS-like virus as the number of cases soared and authorities January 21 said a fourth person had died, as the World Health Organization said it would consider declaring an international public health emergency over the outbreak.\n",
      " / AFP / Mladen ANTONOV \n",
      "\n",
      "photo n° 9591 (events =  ['afpevent:FHL21'] )\n",
      " A passenger wears a face mask while waiting to board his flight at Yangon International Airport on January 21, 2020. China has confirmed human-to-human transmission in the outbreak of a new SARS-like virus as the number of cases soared and authorities January 21 said a fourth person had died, as the World Health Organization said it would consider declaring an international public health emergency over the outbreak.\n",
      " / AFP / Mladen ANTONOV \n",
      "\n"
     ]
    }
   ],
   "source": [
    "test(1) #marche"
   ]
  },
  {
   "cell_type": "code",
   "execution_count": 67,
   "metadata": {},
   "outputs": [
    {
     "name": "stdout",
     "output_type": "stream",
     "text": [
      "Depeche n° 5 (events =  ['afpevent:FHL21'] )\n",
      " The novel coronavirus outbreak in China may end up saving one of the world's most trafficked animals after Beijing announced a total ban on the sale and consumption of the pangolin.\n",
      " Beijing implemented similar measures following the SARS outbreak in the early 2000s, but the trade and consumption of wild animals, including bats and snakes, made a comeback.  \n",
      "\n",
      " Best 5 images :\n",
      "\n",
      "photo n° 6508 (events =  ['afpevent:FHL21'] )\n",
      " TOPSHOT - People wear protective masks as they walk outside a shopping mall in Beijing on January 23, 2020. China is halting public transport and closing highway toll stations in two more cities in Hubei province, the epicentre of a deadly virus outbreak, authorities said on January 23. / AFP / NICOLAS ASFOURI \n",
      "\n",
      "photo n° 6522 (events =  ['afpevent:FHL21'] )\n",
      " TOPSHOT - Security personnel wearing protective masks walk in front of the portrait of late communist leader Mao Zedong (C, back) at Tiananmen Gate in Beijing on January 23, 2020. China is halting public transport and closing highway toll stations in two more cities in Hubei province, the epicentre of a deadly virus outbreak, authorities said on January 23. / AFP / NICOLAS ASFOURI \n",
      "\n",
      "photo n° 6693 (events =  ['afpevent:FHL21'] )\n",
      " Travellers are checked by security personnel wearing hazardous material suits at the entrance to the underground train station in Beijing on January 24, 2020, to help stop the spread of a deadly SARS-like virus which originated in the central city of Wuhan. China sealed off millions more people near the epicentre of a virus outbreak on January 24, shutting down public transport in an eighth city in an unprecedented quarantine effort as the death toll from the disease climbed to 25. / AFP / Noel Celis \n",
      "\n",
      "photo n° 8925 (events =  ['afpevent:FHL21'] )\n",
      " People wear protective masks as they walk outside a shopping mall in Beijing on January 23, 2020. China is halting public transport and closing highway toll stations in two more cities in Hubei province, the epicentre of a deadly virus outbreak, authorities said on January 23. / AFP / NICOLAS ASFOURI \n",
      "\n",
      "photo n° 4544 (events =  ['afpevent:FHL21'] )\n",
      " Passengers from China's Hainan Airlines flight HU7925 from Beijing wait for their transportation outside the Abelardo L. Rodriguez International airport as the US-Mexico border is seen on the background, in Tijuana, Mexico, on January 27, 2020. China's capital on Monday recorded its first death from a deadly coronavirus as it struggles to contain a rapidly spreading disease that has sparked global alarm, with countries scrambling to evacuate their citizens from the epicentre of the epidemic. / AFP / Guillermo Arias \n",
      "\n"
     ]
    }
   ],
   "source": [
    "test(5) #bof : faudrait détecter animaux"
   ]
  },
  {
   "cell_type": "code",
   "execution_count": 73,
   "metadata": {},
   "outputs": [],
   "source": [
    "#test(100)"
   ]
  },
  {
   "cell_type": "code",
   "execution_count": 72,
   "metadata": {},
   "outputs": [
    {
     "data": {
      "text/html": [
       "<div>\n",
       "<style scoped>\n",
       "    .dataframe tbody tr th:only-of-type {\n",
       "        vertical-align: middle;\n",
       "    }\n",
       "\n",
       "    .dataframe tbody tr th {\n",
       "        vertical-align: top;\n",
       "    }\n",
       "\n",
       "    .dataframe thead th {\n",
       "        text-align: right;\n",
       "    }\n",
       "</style>\n",
       "<table border=\"1\" class=\"dataframe\">\n",
       "  <thead>\n",
       "    <tr style=\"text-align: right;\">\n",
       "      <th></th>\n",
       "      <th>caption</th>\n",
       "      <th>event</th>\n",
       "    </tr>\n",
       "  </thead>\n",
       "  <tbody>\n",
       "  </tbody>\n",
       "</table>\n",
       "</div>"
      ],
      "text/plain": [
       "Empty DataFrame\n",
       "Columns: [caption, event]\n",
       "Index: []"
      ]
     },
     "metadata": {},
     "output_type": "display_data"
    }
   ],
   "source": [
    "#photo_filter_by_event(['afpevent:FNN22'])"
   ]
  },
  {
   "cell_type": "code",
   "execution_count": null,
   "metadata": {},
   "outputs": [],
   "source": [
    "nlp_depeche=[]\n",
    "for desc in tqdm_notebook(df_depeche.news2):\n",
    "    doc=nlp(desc)\n",
    "    if len(doc.ents)>50:\n",
    "        last_ent=doc.ents[50]\n",
    "        \n",
    "        doc=nlp(doc[:last_ent.end].text)\n",
    "    nlp_depeche.append(doc)\n",
    "\n",
    "len_ent=pd.Series([len(doc.ents) for doc in nlp_depeche])\n",
    "len_ent.quantile(0.875)"
   ]
  },
  {
   "cell_type": "markdown",
   "metadata": {},
   "source": [
    "On commence par créer une liste d'indices à 100 images au hasard dans la base de dpêches, puis on regarde pour chaque dépêche sélectionnée si les 5 meilleurs images données par best5_image4 sont associées au même évènement que la dépêche."
   ]
  },
  {
   "cell_type": "code",
   "execution_count": 79,
   "metadata": {},
   "outputs": [
    {
     "name": "stdout",
     "output_type": "stream",
     "text": [
      "[8946, 6982, 1481, 2147, 5512, 5324, 6439, 8804, 9710, 7428]\n"
     ]
    },
    {
     "data": {
      "application/vnd.jupyter.widget-view+json": {
       "model_id": "880fa46c67384a6b94f737df7fc894c7",
       "version_major": 2,
       "version_minor": 0
      },
      "text/plain": [
       "HBox(children=(IntProgress(value=0, max=10), HTML(value='')))"
      ]
     },
     "metadata": {},
     "output_type": "display_data"
    },
    {
     "name": "stdout",
     "output_type": "stream",
     "text": [
      "0 1\n",
      "1 2\n",
      "2 3\n",
      "3 4\n",
      "3 4\n",
      "3 4\n",
      "3 5\n",
      "4 6\n",
      "4 6\n",
      "5 7\n",
      "50 % \n",
      " 70 %\n"
     ]
    }
   ],
   "source": [
    "rand_ind_list=[]\n",
    "for i in range(10):\n",
    "    num = random.randint(0, df_depeche.shape[0])\n",
    "    while(num in rand_ind_list):\n",
    "        num = random.randint(0, df_depeche.shape[0])\n",
    "    rand_ind_list.append(num)\n",
    "print(rand_ind_list)\n",
    "\n",
    "count=0\n",
    "count2=0\n",
    "#rand_int_list=range(100)\n",
    "for i in tqdm_notebook(rand_ind_list):\n",
    "    best5=best5_image4(nlp(df_depeche.news2[i]))\n",
    "    flag=0\n",
    "    tup_ind=0\n",
    "    for tup in best5:\n",
    "        if ev_match(df2.event[tup[0]],df_depeche.event[i]):\n",
    "            flag=1\n",
    "            if tup_ind==4:\n",
    "                count+=1\n",
    "        tup_ind+=1\n",
    "    count2+=flag\n",
    "    print(count,count2)\n",
    "print(count*10,'% \\n', count2*10,'%')"
   ]
  },
  {
   "cell_type": "code",
   "execution_count": 80,
   "metadata": {},
   "outputs": [
    {
     "name": "stdout",
     "output_type": "stream",
     "text": [
      "Depeche n° 9710 (events =  ['afpevent:FAO84'] )\n",
      " Landlocked Bolivia, in crisis after its president quit amid protests over a disputed election, is among Latin America's poorest countries despite having huge gas reserves. It is home to the region's largest indigenous population.\n",
      " Here are some key facts about the country of 11 million people:\n",
      " Evo Morales became the first indigenous president of Bolivia in 2006 after a landmark election victory broke decades of domination by an elite largely of European or mixed descent.\n",
      " Around 36 indigenous languages are officially recognised -- including Quechua, Aymara and Guarani -- along with an indigenous legal system different to state law.\n",
      " Morales had been the region's longest-serving leader, credited with bringing relative stability to a volatile country.\n",
      " After election on October 20, 2019, the electoral authorities once again declared Morales the winner with 47 percent of ballots. But the result was disputed, leading to weeks of protests in which three people were killed and more than 250 injured.\n",
      " Bolivia has a history of political instability. Since independence in 1825, there have been about 200 coups or attempted coups. Between 1978 and 1982, there were nine different governments. \n",
      " Bolivia's economic growth has outstripped most of its regional neighbours, reaching 4.2 percent in 2018 according to the World Bank.\n",
      " The state also controls telecommunications, pensions, hydroelectric power stations, airports and mining, using much of the money to fund social programmes and public infrastructure.\n",
      " - Mineral-rich but poor -\n",
      " It sits on the region's second-largest gas reserves -- after Venezuela -- and the world's largest reserves of lithium.\n",
      " Bolivia is the world's third biggest cultivator of coca -- which can be used to produce cocaine -- after Colombia and Peru, according to the UN.\n",
      " Bolivia lost its prized route to the Pacific Ocean in a 19th century war with Chile and now sits landlocked, bordered by Brazil, Paraguay, Argentina, Chile and Peru.\n",
      " La Paz is the highest capital city in the world, at 3,900 metres (12,800 feet) above sea level, and the Andes mountain range covers a third of Bolivian territory.\n",
      " Weeks of fires from August to October this year ravaged more than four million hectares (10 million acres) of forest and grassland, killing more than two million wild animals including jaguars and llamas.\n",
      " ... \n",
      "\n",
      " Best 5 images :\n",
      "\n",
      "photo n° 30546 (events =  ['afpevent:FAO93'] )\n",
      " A supporter of Bolivian ex-President Evo Morales demontrates with a cat in La Paz on November 18, 2019. Bolivia's interim president said Sunday she will call new elections soon, as the country struggles with violent unrest a week after the resignation of Evo Morales. / AFP / AIZAR RALDES \n",
      "\n",
      "photo n° 30547 (events =  ['afpevent:FAO93'] )\n",
      " A supporter of Bolivian ex-President Evo Morales holds banner with an image of revolutionary leader Ernesto 'Che' Guevara during a demonstration in La Paz on November 18, 2019. Bolivia's interim president said Sunday she will call new elections soon, as the country struggles with violent unrest a week after the resignation of Evo Morales. / AFP / AIZAR RALDES \n",
      "\n",
      "photo n° 12084 (events =  ['afpevent:FIH18'] )\n",
      " Bolivian Presidency Minister Yerko Nunez answers questions during a press conference in La Paz on January 13, 2020.  Exiled former Bolivia president Evo Morales said he will call for the introduction of popular local militias similar to those in Venezuela if he returns home.  / AFP / AIZAR RALDES \n",
      "\n",
      "photo n° 2672 (events =  ['afpevent:FLY94'] )\n",
      " Aymara indigenous women shop at a street market at La Ceja in El Alto, Bolivia, on February 06, 2020. The Bolivian population is polarized between supporters of former Bolivian President Evo Morales and his Movimiento al Socialismo party, which leads the polls with 26%, and his opponents, with several different presidential candidates for the next election. / AFP / JORGE BERNAL \n",
      "\n",
      "photo n° 2671 (events =  ['afpevent:FLY94'] )\n",
      " View of La Paz as seen from El Alto, Bolivia, on February 06, 2020. The Bolivian population is polarized between supporters of former Bolivian President Evo Morales and his Movimiento al Socialismo party, which leads the polls with 26%, and his opponents, with several different presidential candidates for the next election. / AFP / JORGE BERNAL \n",
      "\n"
     ]
    }
   ],
   "source": [
    "test(9710)"
   ]
  },
  {
   "cell_type": "code",
   "execution_count": 82,
   "metadata": {},
   "outputs": [
    {
     "data": {
      "text/html": [
       "<div>\n",
       "<style scoped>\n",
       "    .dataframe tbody tr th:only-of-type {\n",
       "        vertical-align: middle;\n",
       "    }\n",
       "\n",
       "    .dataframe tbody tr th {\n",
       "        vertical-align: top;\n",
       "    }\n",
       "\n",
       "    .dataframe thead th {\n",
       "        text-align: right;\n",
       "    }\n",
       "</style>\n",
       "<table border=\"1\" class=\"dataframe\">\n",
       "  <thead>\n",
       "    <tr style=\"text-align: right;\">\n",
       "      <th></th>\n",
       "      <th>caption</th>\n",
       "      <th>event</th>\n",
       "    </tr>\n",
       "  </thead>\n",
       "  <tbody>\n",
       "    <tr>\n",
       "      <th>0</th>\n",
       "      <td>TOPSHOT - Handout picture released by the Mexican Foreign Ministry press office showing the Bolivian ex-President Evo Morales leaving Bolivia in an aircraft of the Mexican Air Force bound for Mexico on November 11, 2019.  The Mexican government said Monday that it granted political asylum to Evo Morales, who resigned from the presidency of Bolivia on November 10, considering that \"his life and integrity are in danger,\" said Mexican Foreign Minister Marcelo Ebrard. - RESTRICTED TO EDITORIAL USE - MANDATORY CREDIT \"AFP PHOTO / MEXICO'S FOREIGN MINISTRY / HO\" - NO MARKETING - NO ADVERTISING CAMPAIGNS - DISTRIBUTED AS A SERVICE TO CLIENTS\\r\\n / AFP / Mexican Foreign Ministry / HO / RESTRICTED TO EDITORIAL USE - MANDATORY CREDIT \"AFP PHOTO / MEXICO'S FOREIGN MINISTRY / HO\" - NO MARKETING - NO ADVERTISING CAMPAIGNS - DISTRIBUTED AS A SERVICE TO CLIENTS</td>\n",
       "      <td>[afpevent:FAO84]</td>\n",
       "    </tr>\n",
       "    <tr>\n",
       "      <th>1</th>\n",
       "      <td>TOPSHOT - Grab taken from a handout video released by Bolivia TV showing Bolivian President Evo Morales announcing his resignation on November 10, 2019 in a televised address from Cochabamba, Bolivia, caving in following three weeks of sometimes-violent protests over his disputed re-election after the army and police withdrew their backing. The Organization of American States carried out an audit of the election and on Sunday reported irregularities in just about every aspect that it examined: the technology used, the chain of custody of ballots, the integrity of the count, and statistical projections. - RESTRICTED TO EDITORIAL USE - MANDATORY CREDIT \"AFP PHOTO / BOLIVIA TV / HO\" - NO MARKETING - NO ADVERTISING CAMPAIGNS - DISTRIBUTED AS A SERVICE TO CLIENTS\\r\\n / AFP / Bolivia TV / HO / RESTRICTED TO EDITORIAL USE - MANDATORY CREDIT \"AFP PHOTO / BOLIVIA TV / HO\" - NO MARKETING - NO ADVERTISING CAMPAIGNS - DISTRIBUTED AS A SERVICE TO CLIENTS</td>\n",
       "      <td>[afpevent:FAN57, afpevent:FAO37, afpevent:FAO34, afpevent:FAO84]</td>\n",
       "    </tr>\n",
       "  </tbody>\n",
       "</table>\n",
       "</div>"
      ],
      "text/plain": [
       "                                                                                                                                                                                                                                                                                                                                                                                                                                                                                                                                                                                                                                                                                                                                                                                                                                                                                                                                                                                       caption  \\\n",
       "0  TOPSHOT - Handout picture released by the Mexican Foreign Ministry press office showing the Bolivian ex-President Evo Morales leaving Bolivia in an aircraft of the Mexican Air Force bound for Mexico on November 11, 2019.  The Mexican government said Monday that it granted political asylum to Evo Morales, who resigned from the presidency of Bolivia on November 10, considering that \"his life and integrity are in danger,\" said Mexican Foreign Minister Marcelo Ebrard. - RESTRICTED TO EDITORIAL USE - MANDATORY CREDIT \"AFP PHOTO / MEXICO'S FOREIGN MINISTRY / HO\" - NO MARKETING - NO ADVERTISING CAMPAIGNS - DISTRIBUTED AS A SERVICE TO CLIENTS\\r\\n / AFP / Mexican Foreign Ministry / HO / RESTRICTED TO EDITORIAL USE - MANDATORY CREDIT \"AFP PHOTO / MEXICO'S FOREIGN MINISTRY / HO\" - NO MARKETING - NO ADVERTISING CAMPAIGNS - DISTRIBUTED AS A SERVICE TO CLIENTS                                                                                                    \n",
       "1  TOPSHOT - Grab taken from a handout video released by Bolivia TV showing Bolivian President Evo Morales announcing his resignation on November 10, 2019 in a televised address from Cochabamba, Bolivia, caving in following three weeks of sometimes-violent protests over his disputed re-election after the army and police withdrew their backing. The Organization of American States carried out an audit of the election and on Sunday reported irregularities in just about every aspect that it examined: the technology used, the chain of custody of ballots, the integrity of the count, and statistical projections. - RESTRICTED TO EDITORIAL USE - MANDATORY CREDIT \"AFP PHOTO / BOLIVIA TV / HO\" - NO MARKETING - NO ADVERTISING CAMPAIGNS - DISTRIBUTED AS A SERVICE TO CLIENTS\\r\\n / AFP / Bolivia TV / HO / RESTRICTED TO EDITORIAL USE - MANDATORY CREDIT \"AFP PHOTO / BOLIVIA TV / HO\" - NO MARKETING - NO ADVERTISING CAMPAIGNS - DISTRIBUTED AS A SERVICE TO CLIENTS   \n",
       "\n",
       "                                                              event  \n",
       "0  [afpevent:FAO84]                                                  \n",
       "1  [afpevent:FAN57, afpevent:FAO37, afpevent:FAO34, afpevent:FAO84]  "
      ]
     },
     "metadata": {},
     "output_type": "display_data"
    }
   ],
   "source": [
    "photo_filter_by_event(['afpevent:FAO84'])"
   ]
  },
  {
   "cell_type": "code",
   "execution_count": null,
   "metadata": {},
   "outputs": [],
   "source": []
  }
 ],
 "metadata": {
  "kernelspec": {
   "display_name": "Python 3",
   "language": "python",
   "name": "python3"
  },
  "language_info": {
   "codemirror_mode": {
    "name": "ipython",
    "version": 3
   },
   "file_extension": ".py",
   "mimetype": "text/x-python",
   "name": "python",
   "nbconvert_exporter": "python",
   "pygments_lexer": "ipython3",
   "version": "3.7.3"
  }
 },
 "nbformat": 4,
 "nbformat_minor": 2
}
