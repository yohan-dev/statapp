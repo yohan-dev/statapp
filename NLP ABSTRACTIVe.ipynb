{
 "cells": [
  {
   "cell_type": "markdown",
   "metadata": {},
   "source": [
    "## Méthode avec Pysummarize"
   ]
  },
  {
   "cell_type": "code",
   "execution_count": 2,
   "metadata": {},
   "outputs": [
    {
     "name": "stdout",
     "output_type": "stream",
     "text": [
      "Collecting pysummarization\n",
      "  Downloading pysummarization-1.1.4.tar.gz (57 kB)\n",
      "\u001b[K     |████████████████████████████████| 57 kB 2.3 MB/s eta 0:00:01\n",
      "\u001b[?25hRequirement already satisfied: numpy in /Users/ya/miniconda3/lib/python3.7/site-packages (from pysummarization) (1.16.4)\n",
      "Requirement already satisfied: nltk in /Users/ya/miniconda3/lib/python3.7/site-packages (from pysummarization) (3.2.4)\n",
      "Requirement already satisfied: six in /Users/ya/miniconda3/lib/python3.7/site-packages (from nltk->pysummarization) (1.12.0)\n",
      "Building wheels for collected packages: pysummarization\n",
      "  Building wheel for pysummarization (setup.py) ... \u001b[?25ldone\n",
      "\u001b[?25h  Created wheel for pysummarization: filename=pysummarization-1.1.4-py3-none-any.whl size=58336 sha256=3486def50f7b73343e71df09e45fa10c7ca08496205869107e1eac727cb14382\n",
      "  Stored in directory: /Users/ya/Library/Caches/pip/wheels/59/5a/1f/63dfa7f80c0e9ee2bd611f6492397bde164897ad0478b933e6\n",
      "Successfully built pysummarization\n",
      "Installing collected packages: pysummarization\n",
      "Successfully installed pysummarization-1.1.4\n"
     ]
    }
   ],
   "source": [
    "!pip install pysummarization"
   ]
  },
  {
   "cell_type": "code",
   "execution_count": 3,
   "metadata": {},
   "outputs": [],
   "source": [
    "from pysummarization.nlpbase.auto_abstractor import AutoAbstractor\n",
    "from pysummarization.tokenizabledoc.simple_tokenizer import SimpleTokenizer\n",
    "from pysummarization.abstractabledoc.top_n_rank_abstractor import TopNRankAbstractor"
   ]
  },
  {
   "cell_type": "code",
   "execution_count": 8,
   "metadata": {},
   "outputs": [
    {
     "data": {
      "text/plain": [
       "'Machine learning (ML) is the scientific study of algorithms and statistical models that computer systems use to progressively improve their performance on a specific task. Machine learning algorithms build a mathematical model of sample data, known as \"training data\", in order to make predictions or decisions without being explicitly programmed to perform the task. Machine learning algorithms are used in the applications of email filtering, detection of network intruders, and computer vision, where it is infeasible to develop an algorithm of specific instructions for performing the task. Machine learning is closely related to computational statistics, which focuses on making predictions using computers. The study of mathematical optimization delivers methods, theory and application domains to the field of machine learning. Data mining is a field of study within machine learning, and focuses on exploratory data analysis through unsupervised learning.In its application across business problems, machine learning is also referred to as predictive analytics.'"
      ]
     },
     "execution_count": 8,
     "metadata": {},
     "output_type": "execute_result"
    }
   ],
   "source": [
    "document = \"Natural language generation (NLG) is the natural language processing task of generating natural language from a machine representation system such as a knowledge base or a logical form. Psycholinguists prefer the term language production when such formal representations are interpreted as models for mental representations.\"\n",
    "document\n",
    "document1 =\"\"\"Machine learning (ML) is the scientific study of algorithms and statistical models that computer systems use to progressively improve their performance on a specific task. Machine learning algorithms build a mathematical model of sample data, known as \"training data\", in order to make predictions or decisions without being explicitly programmed to perform the task. Machine learning algorithms are used in the applications of email filtering, detection of network intruders, and computer vision, where it is infeasible to develop an algorithm of specific instructions for performing the task. Machine learning is closely related to computational statistics, which focuses on making predictions using computers. The study of mathematical optimization delivers methods, theory and application domains to the field of machine learning. Data mining is a field of study within machine learning, and focuses on exploratory data analysis through unsupervised learning.In its application across business problems, machine learning is also referred to as predictive analytics.\"\"\"\n",
    "document1"
   ]
  },
  {
   "cell_type": "code",
   "execution_count": 9,
   "metadata": {},
   "outputs": [
    {
     "name": "stdout",
     "output_type": "stream",
     "text": [
      "Machine learning (ML) is the scientific study of algorithms and statistical models that computer systems use to progressively improve their performance on a specific task.\n",
      "\n",
      " Machine learning algorithms build a mathematical model of sample data, known as \"training data\", in order to make predictions or decisions without being explicitly programmed to perform the task.\n",
      "\n",
      " Machine learning algorithms are used in the applications of email filtering, detection of network intruders, and computer vision, where it is infeasible to develop an algorithm of specific instructions for performing the task.\n",
      "\n",
      " Machine learning is closely related to computational statistics, which focuses on making predictions using computers.\n",
      "\n",
      " The study of mathematical optimization delivers methods, theory and application domains to the field of machine learning.\n",
      "\n",
      " Data mining is a field of study within machine learning, and focuses on exploratory data analysis through unsupervised learning.\n",
      "\n",
      "In its application across business problems, machine learning is also referred to as predictive analytics.\n",
      "\n",
      "(0, 24.0)\n",
      "(1, 26.035714285714285)\n",
      "(2, 27.129032258064516)\n",
      "(3, 14.0)\n",
      "(4, 14.0625)\n",
      "(5, 18.0)\n",
      "(6, 13.0)\n"
     ]
    }
   ],
   "source": [
    "# Object of automatic summarization.\n",
    "auto_abstractor = AutoAbstractor()\n",
    "# Set tokenizer.\n",
    "auto_abstractor.tokenizable_doc = SimpleTokenizer()\n",
    "# Set delimiter for making a list of sentence.\n",
    "auto_abstractor.delimiter_list = [\".\", \"\\n\"]\n",
    "# Object of abstracting and filtering document.\n",
    "abstractable_doc = TopNRankAbstractor()\n",
    "# Summarize document.\n",
    "result_dict = auto_abstractor.summarize(document1, abstractable_doc)\n",
    "\n",
    "# Output result.\n",
    "for sentence in result_dict[\"summarize_result\"]:\n",
    "    print(sentence)\n",
    "for sentence in result_dict[\"scoring_data\"]:\n",
    "    print(sentence)"
   ]
  },
  {
   "cell_type": "code",
   "execution_count": 60,
   "metadata": {},
   "outputs": [],
   "source": [
    "from newspaper import Article\n",
    "article = Article('https://www.nytimes.com/2020/02/09/us/politics/sanders-buttigieg-new-hampshire.html')\n",
    "\n",
    "article.download()\n",
    "article.parse()\n",
    "article.nlp()"
   ]
  },
  {
   "cell_type": "code",
   "execution_count": 65,
   "metadata": {},
   "outputs": [],
   "source": [
    "c = Article(\"View of the border fence near wall prototypes at the US-Mexico border in Tijuana, northwestern Mexico, on April 3, 2018. President Donald Trump on Tuesday vowed to deploy the military to secure America's southern border, as a caravan of Central American migrants heads north through Mexico toward the United States\")"
   ]
  },
  {
   "cell_type": "code",
   "execution_count": 70,
   "metadata": {},
   "outputs": [
    {
     "ename": "ArticleException",
     "evalue": "Article `download()` failed with No connection adapters were found for ':/View of the border fence near wall prototypes at the US-Mexico border in Tijuana, northwestern Mexico, on April 3, 2018. President Donald Trump on Tuesday vowed to deploy the military to secure America's southern border, as a caravan of Central American migrants heads north through Mexico toward the United States' on URL :/View of the border fence near wall prototypes at the US-Mexico border in Tijuana, northwestern Mexico, on April 3, 2018. President Donald Trump on Tuesday vowed to deploy the military to secure America's southern border, as a caravan of Central American migrants heads north through Mexico toward the United States",
     "output_type": "error",
     "traceback": [
      "\u001b[0;31m---------------------------------------------------------------------------\u001b[0m",
      "\u001b[0;31mArticleException\u001b[0m                          Traceback (most recent call last)",
      "\u001b[0;32m<ipython-input-70-57583ff7b4ce>\u001b[0m in \u001b[0;36m<module>\u001b[0;34m\u001b[0m\n\u001b[1;32m      1\u001b[0m \u001b[0mc\u001b[0m\u001b[0;34m.\u001b[0m\u001b[0mdownload\u001b[0m\u001b[0;34m(\u001b[0m\u001b[0;34m)\u001b[0m\u001b[0;34m\u001b[0m\u001b[0;34m\u001b[0m\u001b[0m\n\u001b[0;32m----> 2\u001b[0;31m \u001b[0mc\u001b[0m\u001b[0;34m.\u001b[0m\u001b[0mparse\u001b[0m\u001b[0;34m(\u001b[0m\u001b[0;34m)\u001b[0m\u001b[0;34m\u001b[0m\u001b[0;34m\u001b[0m\u001b[0m\n\u001b[0m",
      "\u001b[0;32m~/miniconda3/lib/python3.7/site-packages/newspaper/article.py\u001b[0m in \u001b[0;36mparse\u001b[0;34m(self)\u001b[0m\n\u001b[1;32m    189\u001b[0m \u001b[0;34m\u001b[0m\u001b[0m\n\u001b[1;32m    190\u001b[0m     \u001b[0;32mdef\u001b[0m \u001b[0mparse\u001b[0m\u001b[0;34m(\u001b[0m\u001b[0mself\u001b[0m\u001b[0;34m)\u001b[0m\u001b[0;34m:\u001b[0m\u001b[0;34m\u001b[0m\u001b[0;34m\u001b[0m\u001b[0m\n\u001b[0;32m--> 191\u001b[0;31m         \u001b[0mself\u001b[0m\u001b[0;34m.\u001b[0m\u001b[0mthrow_if_not_downloaded_verbose\u001b[0m\u001b[0;34m(\u001b[0m\u001b[0;34m)\u001b[0m\u001b[0;34m\u001b[0m\u001b[0;34m\u001b[0m\u001b[0m\n\u001b[0m\u001b[1;32m    192\u001b[0m \u001b[0;34m\u001b[0m\u001b[0m\n\u001b[1;32m    193\u001b[0m         \u001b[0mself\u001b[0m\u001b[0;34m.\u001b[0m\u001b[0mdoc\u001b[0m \u001b[0;34m=\u001b[0m \u001b[0mself\u001b[0m\u001b[0;34m.\u001b[0m\u001b[0mconfig\u001b[0m\u001b[0;34m.\u001b[0m\u001b[0mget_parser\u001b[0m\u001b[0;34m(\u001b[0m\u001b[0;34m)\u001b[0m\u001b[0;34m.\u001b[0m\u001b[0mfromstring\u001b[0m\u001b[0;34m(\u001b[0m\u001b[0mself\u001b[0m\u001b[0;34m.\u001b[0m\u001b[0mhtml\u001b[0m\u001b[0;34m)\u001b[0m\u001b[0;34m\u001b[0m\u001b[0;34m\u001b[0m\u001b[0m\n",
      "\u001b[0;32m~/miniconda3/lib/python3.7/site-packages/newspaper/article.py\u001b[0m in \u001b[0;36mthrow_if_not_downloaded_verbose\u001b[0;34m(self)\u001b[0m\n\u001b[1;32m    530\u001b[0m         \u001b[0;32melif\u001b[0m \u001b[0mself\u001b[0m\u001b[0;34m.\u001b[0m\u001b[0mdownload_state\u001b[0m \u001b[0;34m==\u001b[0m \u001b[0mArticleDownloadState\u001b[0m\u001b[0;34m.\u001b[0m\u001b[0mFAILED_RESPONSE\u001b[0m\u001b[0;34m:\u001b[0m\u001b[0;34m\u001b[0m\u001b[0;34m\u001b[0m\u001b[0m\n\u001b[1;32m    531\u001b[0m             raise ArticleException('Article `download()` failed with %s on URL %s' %\n\u001b[0;32m--> 532\u001b[0;31m                   (self.download_exception_msg, self.url))\n\u001b[0m\u001b[1;32m    533\u001b[0m \u001b[0;34m\u001b[0m\u001b[0m\n\u001b[1;32m    534\u001b[0m     \u001b[0;32mdef\u001b[0m \u001b[0mthrow_if_not_parsed_verbose\u001b[0m\u001b[0;34m(\u001b[0m\u001b[0mself\u001b[0m\u001b[0;34m)\u001b[0m\u001b[0;34m:\u001b[0m\u001b[0;34m\u001b[0m\u001b[0;34m\u001b[0m\u001b[0m\n",
      "\u001b[0;31mArticleException\u001b[0m: Article `download()` failed with No connection adapters were found for ':/View of the border fence near wall prototypes at the US-Mexico border in Tijuana, northwestern Mexico, on April 3, 2018. President Donald Trump on Tuesday vowed to deploy the military to secure America's southern border, as a caravan of Central American migrants heads north through Mexico toward the United States' on URL :/View of the border fence near wall prototypes at the US-Mexico border in Tijuana, northwestern Mexico, on April 3, 2018. President Donald Trump on Tuesday vowed to deploy the military to secure America's southern border, as a caravan of Central American migrants heads north through Mexico toward the United States"
     ]
    }
   ],
   "source": [
    "c.download()\n",
    "c.parse()"
   ]
  }
 ],
 "metadata": {
  "hide_input": false,
  "kernelspec": {
   "display_name": "Python 3",
   "language": "python",
   "name": "python3"
  },
  "language_info": {
   "codemirror_mode": {
    "name": "ipython",
    "version": 3
   },
   "file_extension": ".py",
   "mimetype": "text/x-python",
   "name": "python",
   "nbconvert_exporter": "python",
   "pygments_lexer": "ipython3",
   "version": "3.7.3"
  }
 },
 "nbformat": 4,
 "nbformat_minor": 2
}
