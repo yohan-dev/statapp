{
 "cells": [
  {
   "cell_type": "code",
   "execution_count": 1,
   "metadata": {},
   "outputs": [
    {
     "name": "stderr",
     "output_type": "stream",
     "text": [
      "c:\\users\\maison\\appdata\\local\\programs\\python\\python36\\lib\\importlib\\_bootstrap.py:219: RuntimeWarning: spacy.morphology.Morphology size changed, may indicate binary incompatibility. Expected 104 from C header, got 112 from PyObject\n",
      "  return f(*args, **kwds)\n",
      "c:\\users\\maison\\appdata\\local\\programs\\python\\python36\\lib\\importlib\\_bootstrap.py:219: RuntimeWarning: spacy.vocab.Vocab size changed, may indicate binary incompatibility. Expected 96 from C header, got 104 from PyObject\n",
      "  return f(*args, **kwds)\n"
     ]
    }
   ],
   "source": [
    "import spacy\n",
    "import pandas as pd\n",
    "import numpy as np\n",
    "import neuralcoref\n",
    "import ast\n",
    "import random\n",
    "import nltk\n",
    "import string\n",
    "from tqdm import tqdm_notebook"
   ]
  },
  {
   "cell_type": "code",
   "execution_count": 2,
   "metadata": {},
   "outputs": [
    {
     "name": "stderr",
     "output_type": "stream",
     "text": [
      "C:\\Users\\Maison\\AppData\\Roaming\\Python\\Python36\\site-packages\\IPython\\core\\interactiveshell.py:3049: DtypeWarning: Columns (3,21,22,33,35,39,43) have mixed types. Specify dtype option on import or set low_memory=False.\n",
      "  interactivity=interactivity, compiler=compiler, result=result)\n",
      "C:\\Users\\Maison\\AppData\\Roaming\\Python\\Python36\\site-packages\\pandas\\core\\generic.py:5096: SettingWithCopyWarning: \n",
      "A value is trying to be set on a copy of a slice from a DataFrame.\n",
      "Try using .loc[row_indexer,col_indexer] = value instead\n",
      "\n",
      "See the caveats in the documentation: http://pandas.pydata.org/pandas-docs/stable/indexing.html#indexing-view-versus-copy\n",
      "  self[name] = value\n",
      "C:\\Users\\Maison\\AppData\\Roaming\\Python\\Python36\\site-packages\\ipykernel_launcher.py:13: SettingWithCopyWarning: \n",
      "A value is trying to be set on a copy of a slice from a DataFrame\n",
      "\n",
      "See the caveats in the documentation: http://pandas.pydata.org/pandas-docs/stable/indexing.html#indexing-view-versus-copy\n",
      "  del sys.path[0]\n"
     ]
    }
   ],
   "source": [
    "data_raw = pd.read_csv('pictures_sample.csv')\n",
    "data_english = data_raw[data_raw.Language == 'EN']\n",
    "\n",
    "def author_del(text):\n",
    "    text_s = text\n",
    "    while(text_s[-1] != '\\n' and len(text_s) > 1):\n",
    "        text_s = text_s[:-1]\n",
    "    if(len(text_s) <= 1):\n",
    "        return(text)\n",
    "    return(text_s[:-1])\n",
    "\n",
    "data_english.Description = data_english.Description.apply(author_del)\n",
    "data_english.drop_duplicates(subset='Description', keep='first', inplace=True)"
   ]
  },
  {
   "cell_type": "code",
   "execution_count": 3,
   "metadata": {},
   "outputs": [],
   "source": [
    "sw_en = nltk.corpus.stopwords.words('english')\n",
    "sw_en.append(\"'s\")\n",
    "sw_en.append(\"video\")\n",
    "sw_en.append(\"gmt\")\n",
    "sw_en.append(\"pictur\")"
   ]
  },
  {
   "cell_type": "code",
   "execution_count": 4,
   "metadata": {},
   "outputs": [],
   "source": [
    "porter = nltk.stem.PorterStemmer()\n",
    "\n",
    "def list_transform(text):\n",
    "    L = nltk.tokenize.word_tokenize(text.lower())\n",
    "    return([porter.stem(l) for l in L if (porter.stem(l) not in sw_en and l not in sw_en \n",
    "                           and set(l).intersection(string.punctuation) == set())])"
   ]
  },
  {
   "cell_type": "code",
   "execution_count": 5,
   "metadata": {},
   "outputs": [],
   "source": [
    "data_english.Description = data_english.Description.apply(list_transform)"
   ]
  },
  {
   "cell_type": "code",
   "execution_count": 6,
   "metadata": {},
   "outputs": [],
   "source": [
    "def similaire(desc_1, desc_2):\n",
    "    set_desc_1 = set(desc_1)\n",
    "    set_desc_2 = set(desc_2)\n",
    "    intersection = set_desc_1.intersection(set_desc_2)\n",
    "    union = set_desc_1.union(set_desc_2)\n",
    "    return(len(intersection)/len(union))"
   ]
  },
  {
   "cell_type": "code",
   "execution_count": 7,
   "metadata": {
    "scrolled": false
   },
   "outputs": [
    {
     "name": "stdout",
     "output_type": "stream",
     "text": [
      "80467\n"
     ]
    }
   ],
   "source": [
    "void_ev = 0\n",
    "for i in range(data_english.shape[0]):\n",
    "    if(data_english.EventsId[ind[i]] == '[]'):\n",
    "        void_ev += 1\n",
    "print(void_ev)"
   ]
  },
  {
   "cell_type": "code",
   "execution_count": 8,
   "metadata": {},
   "outputs": [
    {
     "name": "stdout",
     "output_type": "stream",
     "text": [
      "2\n"
     ]
    }
   ],
   "source": [
    "void_slug = 0\n",
    "for i in range(data_english.shape[0]):\n",
    "    if(type(data_english.Slug[ind[i]]) == float):\n",
    "        void_slug += 1\n",
    "print(void_slug)"
   ]
  },
  {
   "cell_type": "code",
   "execution_count": 10,
   "metadata": {},
   "outputs": [],
   "source": [
    "data_slug = data_english.dropna(subset = ['Slug'])"
   ]
  },
  {
   "cell_type": "code",
   "execution_count": 11,
   "metadata": {},
   "outputs": [],
   "source": [
    "def Split(text):\n",
    "    if type(text) == float:\n",
    "        return(0)\n",
    "    return(text.split(' - '))\n",
    "\n",
    "data_slug.Slug = data_slug.Slug.apply(Split)"
   ]
  },
  {
   "cell_type": "code",
   "execution_count": 16,
   "metadata": {
    "scrolled": true
   },
   "outputs": [
    {
     "data": {
      "text/plain": [
       "0                   [FRANCE, US, FILM, FESTIVAL, DEAUVILLE]\n",
       "2                      [HONG KONG, CHINA, POLITICS, UNREST]\n",
       "3           [GERMANY, AGRICULTURE, CATTLE, DRIVE, TOPSHOTS]\n",
       "4                 [PALESTINIAN, ISRAEL, CONFLICT, POLITICS]\n",
       "5                            [TURKEY, US, TRADE, DIPLOMACY]\n",
       "6                          [GERMANY, AUTOMOBILE, IAA, SHOW]\n",
       "7                          [GERMANY, AUTOMOBILE, IAA, SHOW]\n",
       "8                       [LEBANON, RELIGION, SHIITE, ASHURA]\n",
       "9                 [BRITAIN, CANADA, LITERATURE, TELEVISION]\n",
       "21                      [LEBANON, RELIGION, SHIITE, ASHURA]\n",
       "22                          [BRITAIN, POLITICS, EU, BREXIT]\n",
       "23                  [SINGAPORE, ZIMBABWE, POLITICS, MUGABE]\n",
       "24                             [RUGBYU, WC, 2019, NZL, TGA]\n",
       "25                          [TENNIS, US Open, 2019, Day 12]\n",
       "26                               [SKOREA, WEATHER, TYPHOON]\n",
       "27                               [FASHION, US, JEREMYSCOTT]\n",
       "29               [US, ENTERTAINMENT, FAWCETT, TEXMEXFIESTA]\n",
       "30               [US, ENTERTAINMENT, FAWCETT, TEXMEXFIESTA]\n",
       "31               [US, ENTERTAINMENT, FAWCETT, TEXMEXFIESTA]\n",
       "32                          [TENNIS, US Open, 2019, Day 12]\n",
       "33                          [TENNIS, US Open, 2019, Day 12]\n",
       "34                          [TENNIS, US Open, 2019, Day 12]\n",
       "35               [US, ENTERTAINMENT, FAWCETT, TEXMEXFIESTA]\n",
       "36               [US, ENTERTAINMENT, FAWCETT, TEXMEXFIESTA]\n",
       "37               [US, ENTERTAINMENT, FAWCETT, TEXMEXFIESTA]\n",
       "38                                  [FASHION, US, RAG&BONE]\n",
       "39                                  [FASHION, US, RAG&BONE]\n",
       "40               [US, ENTERTAINMENT, FAWCETT, TEXMEXFIESTA]\n",
       "41                                 [JAPAN, ACCIDENT, TRAIN]\n",
       "42                        [CYCLING, FRA, TDF2019, POSTCARD]\n",
       "                                ...                        \n",
       "179185                    [FBL, EUR, C1, SHAKHTAR, MANCITY]\n",
       "179186                            [FBL, EUR, C1, PSG, REAL]\n",
       "179200                   [Qatar, aviation, Gulf, diplomacy]\n",
       "179201                   [Qatar, aviation, Gulf, diplomacy]\n",
       "179202                   [FBL, EUR, C1, ATLETICO, JUVENTUS]\n",
       "180423                     [FBL, EUR, C1, DINAMO, ATALANTA]\n",
       "187973                   [FBL, EUR, C1, LEVERKUSEN, MOSCOW]\n",
       "188548    [Germany, Airbus, aviation, espionage, defence...\n",
       "190460     [Israel, Palestinians, conflict, WorldBank, aid]\n",
       "190461                            [FBL, EUR, C1, PSG, REAL]\n",
       "190573                            [FBL, EUR, C1, PSG, REAL]\n",
       "190574                            [FBL, EUR, C1, PSG, REAL]\n",
       "192078      [INDIA, ENTERTAINMENT, CINEMA, BOLLYWOOD, IIFA]\n",
       "195967         [US, ENTERTAINMENT, MUSIC, AUCTION, BB KING]\n",
       "201870    [RAW, COLOMBIA, POLITICS, FASHION, FARC, GUERR...\n",
       "201872    [RAW, FEATURE, AUSTRIA, GERMANY, SOCIAL, POLIT...\n",
       "201873       [US, China, Tibet, India, religion, diplomacy]\n",
       "201874    [RAW, NIGERA, ECONOMY, MIGRATION, SMUGGLING, B...\n",
       "202105                [US, MEXICO, BORDER, POLITICS, TRUMP]\n",
       "203601       [US, China, Tibet, India, religion, diplomacy]\n",
       "208561               [AUSTRIA, POLITICS, VOTE, IMMIGRATION]\n",
       "208562               [AUSTRIA, POLITICS, VOTE, IMMIGRATION]\n",
       "208564               [AUSTRIA, POLITICS, VOTE, IMMIGRATION]\n",
       "208565               [AUSTRIA, POLITICS, VOTE, IMMIGRATION]\n",
       "208566    [RAW, FEATURE, GERMANY, HALLE, HOUSING, PAINTI...\n",
       "208567               [AUSTRIA, POLITICS, VOTE, IMMIGRATION]\n",
       "208896    [RAW, FEATURE, RWANDA, UGANDA, ENVIRONMENT, CL...\n",
       "216551                     [BOLIVIA, CLIMATE CHANGE, WATER]\n",
       "216552                     [BOLIVIA, CLIMATE CHANGE, WATER]\n",
       "216556                     [BOLIVIA, CLIMATE CHANGE, WATER]\n",
       "Name: Slug, Length: 82606, dtype: object"
      ]
     },
     "execution_count": 16,
     "metadata": {},
     "output_type": "execute_result"
    }
   ],
   "source": [
    "ind = list(data_slug.index)\n",
    "data_slug.Slug"
   ]
  },
  {
   "cell_type": "code",
   "execution_count": 27,
   "metadata": {},
   "outputs": [
    {
     "name": "stderr",
     "output_type": "stream",
     "text": [
      "C:\\Users\\Maison\\AppData\\Roaming\\Python\\Python36\\site-packages\\ipykernel_launcher.py:4: TqdmDeprecationWarning: This function will be removed in tqdm==5.0.0\n",
      "Please use `tqdm.notebook.tqdm` instead of `tqdm.tqdm_notebook`\n",
      "  after removing the cwd from sys.path.\n"
     ]
    },
    {
     "data": {
      "application/vnd.jupyter.widget-view+json": {
       "model_id": "94fd62f1758e467db434d02ee9d6bef2",
       "version_major": 2,
       "version_minor": 0
      },
      "text/plain": [
       "HBox(children=(FloatProgress(value=0.0, max=5000.0), HTML(value='')))"
      ]
     },
     "metadata": {},
     "output_type": "display_data"
    },
    {
     "name": "stdout",
     "output_type": "stream",
     "text": [
      "\n"
     ]
    }
   ],
   "source": [
    "n = 5000\n",
    "M = np.zeros((n,n))\n",
    "rand_ind = np.random.choice(ind, size = n, replace=False)\n",
    "for i in tqdm_notebook(range(n)):\n",
    "    for j in range(n):\n",
    "        M[i, j] = similaire(data_slug.Description[rand_ind[i]], data_slug.Description[rand_ind[j]])"
   ]
  },
  {
   "cell_type": "code",
   "execution_count": 28,
   "metadata": {},
   "outputs": [
    {
     "name": "stdout",
     "output_type": "stream",
     "text": [
      "1.0\n"
     ]
    }
   ],
   "source": [
    "score = 0\n",
    "for i in range(n):\n",
    "    M[i, i] = 0\n",
    "    score_text = [(M[i, j], j) for j in range(n)]\n",
    "    score_text = sorted(score_text, reverse = True, key=lambda kv: kv[0])[:10]\n",
    "    for _n in range(10):\n",
    "        if(set(data_slug.Slug[rand_ind[i]]).intersection(set(data_slug.Slug[rand_ind[score_text[_n][1]]])) != set()):\n",
    "            score_i = 1\n",
    "            break\n",
    "    score += score_i\n",
    "print(score/n)"
   ]
  },
  {
   "cell_type": "code",
   "execution_count": 29,
   "metadata": {},
   "outputs": [
    {
     "data": {
      "text/plain": [
       "[(0.11627906976744186, 552),\n",
       " (0.10869565217391304, 941),\n",
       " (0.10588235294117647, 786),\n",
       " (0.10526315789473684, 393),\n",
       " (0.1, 98),\n",
       " (0.09166666666666666, 517),\n",
       " (0.09090909090909091, 312),\n",
       " (0.08791208791208792, 734),\n",
       " (0.08791208791208792, 930),\n",
       " (0.08791208791208792, 948)]"
      ]
     },
     "execution_count": 29,
     "metadata": {},
     "output_type": "execute_result"
    }
   ],
   "source": [
    "sorted([(M[0, j], j) for j in range(1000)], reverse = True, key=lambda kv: kv[0])[:10]"
   ]
  },
  {
   "cell_type": "code",
   "execution_count": 30,
   "metadata": {},
   "outputs": [
    {
     "data": {
      "text/plain": [
       "['new',\n",
       " 'ivorian',\n",
       " 'defens',\n",
       " 'minist',\n",
       " 'uniti',\n",
       " 'govern',\n",
       " 'rene',\n",
       " 'amani',\n",
       " 'r',\n",
       " 'warmli',\n",
       " 'greet',\n",
       " 'predecessor',\n",
       " 'assoa',\n",
       " 'adou',\n",
       " 'l',\n",
       " '12',\n",
       " 'septemb',\n",
       " '2003',\n",
       " 'presidenti',\n",
       " 'palac',\n",
       " 'abidjan',\n",
       " 'amani',\n",
       " 'former',\n",
       " 'head',\n",
       " 'caistab',\n",
       " 'world',\n",
       " 'largest',\n",
       " 'produc',\n",
       " 'whose',\n",
       " 'economi',\n",
       " 'crippl',\n",
       " 'civil',\n",
       " 'war',\n",
       " 'trigger',\n",
       " 'rebellion',\n",
       " 'last',\n",
       " 'septemb',\n",
       " 'uniti',\n",
       " 'govern',\n",
       " 'set',\n",
       " 'deadlock',\n",
       " 'pact',\n",
       " 'end',\n",
       " 'west',\n",
       " 'african',\n",
       " 'countri',\n",
       " 'civil',\n",
       " 'war',\n",
       " 'recent',\n",
       " 'appoint',\n",
       " 'quickli',\n",
       " 'contest',\n",
       " 'former',\n",
       " 'rebel',\n",
       " 'still',\n",
       " 'control',\n",
       " 'north',\n",
       " 'countri',\n",
       " 'could',\n",
       " 'complic',\n",
       " 'next',\n",
       " 'stage',\n",
       " 'peac',\n",
       " 'process',\n",
       " 'afp',\n",
       " 'photo',\n",
       " 'issouf',\n",
       " 'sanogo']"
      ]
     },
     "execution_count": 30,
     "metadata": {},
     "output_type": "execute_result"
    }
   ],
   "source": [
    "data_slug.Description[rand_ind[0]]"
   ]
  },
  {
   "cell_type": "code",
   "execution_count": 31,
   "metadata": {},
   "outputs": [
    {
     "data": {
      "text/plain": [
       "['unidentifi',\n",
       " 'indian',\n",
       " 'child',\n",
       " 'c',\n",
       " 'given',\n",
       " 'oral',\n",
       " 'polio',\n",
       " 'vaccin',\n",
       " 'india',\n",
       " 'health',\n",
       " 'minist',\n",
       " 'sushma',\n",
       " 'swaraj',\n",
       " 'l',\n",
       " 'director',\n",
       " 'gener',\n",
       " 'world',\n",
       " 'health',\n",
       " 'organ',\n",
       " 'lee',\n",
       " 'r',\n",
       " 'look',\n",
       " 'ministri',\n",
       " 'health',\n",
       " 'new',\n",
       " 'delhi',\n",
       " '11',\n",
       " 'septemb',\n",
       " '12',\n",
       " 'million',\n",
       " 'children',\n",
       " 'india',\n",
       " 'vaccin',\n",
       " 'crippl',\n",
       " 'diseas',\n",
       " 'six',\n",
       " 'stage',\n",
       " 'nationwid',\n",
       " 'campaign',\n",
       " 'afp']"
      ]
     },
     "execution_count": 31,
     "metadata": {},
     "output_type": "execute_result"
    }
   ],
   "source": [
    "data_slug.Description[rand_ind[552]]"
   ]
  },
  {
   "cell_type": "code",
   "execution_count": 32,
   "metadata": {},
   "outputs": [
    {
     "data": {
      "text/plain": [
       "0.11627906976744186"
      ]
     },
     "execution_count": 32,
     "metadata": {},
     "output_type": "execute_result"
    }
   ],
   "source": [
    "similaire(data_slug.Description[rand_ind[0]],data_slug.Description[rand_ind[552]])"
   ]
  },
  {
   "cell_type": "code",
   "execution_count": 33,
   "metadata": {},
   "outputs": [
    {
     "name": "stdout",
     "output_type": "stream",
     "text": [
      "['IVORY COAST', 'AMANI', 'ADOU']\n",
      "['INDIA', 'HEALTH', 'WHO', 'POLIO', 'JONG', 'WOOK', 'SWARAJ']\n"
     ]
    }
   ],
   "source": [
    "print(data_slug.Slug[rand_ind[0]])\n",
    "print(data_slug.Slug[rand_ind[552]])"
   ]
  },
  {
   "cell_type": "code",
   "execution_count": 56,
   "metadata": {},
   "outputs": [],
   "source": [
    "def best_10(i):\n",
    "    print(\"Notre image est: \\n\")\n",
    "    display(Image(url = data_slug.PreviewMediumUri[rand_ind[i]]))\n",
    "    score_text = [(M[i, j], j) for j in range(n)]\n",
    "    score_text = sorted(score_text, reverse = True, key=lambda kv: kv[0])[:10]\n",
    "    print(\"Les images associées sont: \\n\")\n",
    "    for _n in range(10):\n",
    "        print(\"Image numéro \", _n+1, \".\", sep = \"\")\n",
    "        display(Image(url = data_slug.PreviewMediumUri[rand_ind[score_text[_n][1]]]))\n",
    "    print(\"La description de notre image est: \\n\")\n",
    "    print(data_raw.Description[rand_ind[i]])\n",
    "    print(\"Pour les images associées: \\n\")\n",
    "    for _n in range(10):\n",
    "        print(\"Image numéro \", _n+1, \".\", sep = \"\")\n",
    "        print(data_raw.Description[rand_ind[score_text[_n][1]]], \"\\n\")\n",
    "    print(\"Les mots-clés de notre image sont: \\n\")\n",
    "    print(data_slug.Slug[rand_ind[i]])\n",
    "    print(\"Pour les images associées: \\n\")\n",
    "    for _n in range(10):\n",
    "        print(\"Image numéro \", _n+1, \".\", sep = \"\")\n",
    "        print(data_slug.Slug[rand_ind[score_text[_n][1]]], \"\\n\")"
   ]
  },
  {
   "cell_type": "code",
   "execution_count": 57,
   "metadata": {
    "scrolled": false
   },
   "outputs": [
    {
     "name": "stdout",
     "output_type": "stream",
     "text": [
      "Notre image est: \n",
      "\n"
     ]
    },
    {
     "data": {
      "text/html": [
       "<img src=\"http://c1.mediaforum.afp.com/CacheServer/Cache.svc/g?hid=16EF71FAFD33E958DDC6C34BF46D4E4D169F2BCBEB010531DBEE20A85C766A606D010CD498EB04989E8F31D4EB865A22\"/>"
      ],
      "text/plain": [
       "<IPython.core.display.Image object>"
      ]
     },
     "metadata": {},
     "output_type": "display_data"
    },
    {
     "name": "stdout",
     "output_type": "stream",
     "text": [
      "Les images associées sont: \n",
      "\n",
      "Image numéro 1.\n"
     ]
    },
    {
     "data": {
      "text/html": [
       "<img src=\"http://c7.mediaforum.afp.com/CacheServer/Cache.svc/g?hid=16EF71FAFD33E958994313CC0E4ECB31089E98C0D75A78A94C3913478A21F81962E329466D19A77BB2AF3A344B2BF312\"/>"
      ],
      "text/plain": [
       "<IPython.core.display.Image object>"
      ]
     },
     "metadata": {},
     "output_type": "display_data"
    },
    {
     "name": "stdout",
     "output_type": "stream",
     "text": [
      "Image numéro 2.\n"
     ]
    },
    {
     "data": {
      "text/html": [
       "<img src=\"http://c1.mediaforum.afp.com/CacheServer/Cache.svc/g?hid=A70F1565DCBC2C9ECF95F6AB91728CAFCDC40BBCCEA1A219CB4F562CF59D5010B17AD7A05EB9702C\"/>"
      ],
      "text/plain": [
       "<IPython.core.display.Image object>"
      ]
     },
     "metadata": {},
     "output_type": "display_data"
    },
    {
     "name": "stdout",
     "output_type": "stream",
     "text": [
      "Image numéro 3.\n"
     ]
    },
    {
     "data": {
      "text/html": [
       "<img src=\"http://c7.mediaforum.afp.com/CacheServer/Cache.svc/g?hid=16EF71FAFD33E958E4B003251A7A760DBD6C7B5976EC8369C6B42367FF7110A21A42985CAED92C9048C33771A6A668AB\"/>"
      ],
      "text/plain": [
       "<IPython.core.display.Image object>"
      ]
     },
     "metadata": {},
     "output_type": "display_data"
    },
    {
     "name": "stdout",
     "output_type": "stream",
     "text": [
      "Image numéro 4.\n"
     ]
    },
    {
     "data": {
      "text/html": [
       "<img src=\"http://c11.mediaforum.afp.com/CacheServer/Cache.svc/g?hid=16EF71FAFD33E958BF6DD26BE0EB4FA0693FECC5B754C9290FDA48AA8DC00BF6B35846A212FDBB9026A88C18D81FDCAA\"/>"
      ],
      "text/plain": [
       "<IPython.core.display.Image object>"
      ]
     },
     "metadata": {},
     "output_type": "display_data"
    },
    {
     "name": "stdout",
     "output_type": "stream",
     "text": [
      "Image numéro 5.\n"
     ]
    },
    {
     "data": {
      "text/html": [
       "<img src=\"http://c11.mediaforum.afp.com/CacheServer/Cache.svc/g?hid=16EF71FAFD33E9582A65E3C3763520B331C4B5C122BD8969AE1D0A26172FE7700F7EBDDC5FADDF6A3BE6E2B382684ACB\"/>"
      ],
      "text/plain": [
       "<IPython.core.display.Image object>"
      ]
     },
     "metadata": {},
     "output_type": "display_data"
    },
    {
     "name": "stdout",
     "output_type": "stream",
     "text": [
      "Image numéro 6.\n"
     ]
    },
    {
     "data": {
      "text/html": [
       "<img src=\"http://c11.mediaforum.afp.com/CacheServer/Cache.svc/g?hid=BB8D6B9A56BD8909E0689BD65567235B7B719F4FF83CAE9643B7CB52EDD34A92F01850B3DC06153F\"/>"
      ],
      "text/plain": [
       "<IPython.core.display.Image object>"
      ]
     },
     "metadata": {},
     "output_type": "display_data"
    },
    {
     "name": "stdout",
     "output_type": "stream",
     "text": [
      "Image numéro 7.\n"
     ]
    },
    {
     "data": {
      "text/html": [
       "<img src=\"http://c6.mediaforum.afp.com/CacheServer/Cache.svc/g?hid=BB8D6B9A56BD8909D5E2BE093F05F1D55A95C9731922EA801FA516C10F1B886A7EF2AEDB9CC5F9F9\"/>"
      ],
      "text/plain": [
       "<IPython.core.display.Image object>"
      ]
     },
     "metadata": {},
     "output_type": "display_data"
    },
    {
     "name": "stdout",
     "output_type": "stream",
     "text": [
      "Image numéro 8.\n"
     ]
    },
    {
     "data": {
      "text/html": [
       "<img src=\"http://c4.mediaforum.afp.com/CacheServer/Cache.svc/g?hid=16EF71FAFD33E9582A65E3C3763520B3B02D8B2D5E3274B8B3962A3409ACD33BEF9FC0606AAB338EDD1EF7ADFE2BD1B9\"/>"
      ],
      "text/plain": [
       "<IPython.core.display.Image object>"
      ]
     },
     "metadata": {},
     "output_type": "display_data"
    },
    {
     "name": "stdout",
     "output_type": "stream",
     "text": [
      "Image numéro 9.\n"
     ]
    },
    {
     "data": {
      "text/html": [
       "<img src=\"http://c11.mediaforum.afp.com/CacheServer/Cache.svc/g?hid=16EF71FAFD33E95888F0263636160FB6C1E0192E6B29B750AC9C2E00440D30A929A5C3FB5926E23A1AFE23D16B647316\"/>"
      ],
      "text/plain": [
       "<IPython.core.display.Image object>"
      ]
     },
     "metadata": {},
     "output_type": "display_data"
    },
    {
     "name": "stdout",
     "output_type": "stream",
     "text": [
      "Image numéro 10.\n"
     ]
    },
    {
     "data": {
      "text/html": [
       "<img src=\"http://c5.mediaforum.afp.com/CacheServer/Cache.svc/g?hid=16EF71FAFD33E958BF6DD26BE0EB4FA0D1B0112455CD8B0C9F73D3D88B8DD2634E2A7940084A05AD206707EAED819C77\"/>"
      ],
      "text/plain": [
       "<IPython.core.display.Image object>"
      ]
     },
     "metadata": {},
     "output_type": "display_data"
    },
    {
     "name": "stdout",
     "output_type": "stream",
     "text": [
      "La description de notre image est: \n",
      "\n",
      "New Ivorian Defense Minister in the unity government, Rene Amani (R), is warmly greeted by his predecessor Assoa Adou (L) 12 September 2003 at the Presidential Palace in Abidjan.  Amani is the former head of Caistab, the world's largest producer whose cocoa-driven economy was crippled by the civil war triggered by a rebellion last September.  The unity government was set up after a six-month deadlock under a pact to end the west African country's civil war.  These recent appointments were quickly contested by former rebels who still control the north of the country and who could complicate the next stage in the peace process.  AFP PHOTO ISSOUF SANOGO.  \n",
      "\n",
      "ISSOUF SANOGO / AFP\n",
      "Pour les images associées: \n",
      "\n",
      "Image numéro 1.\n",
      "Fr L to R, Presidents Olusegun Obasanjo from Nigeria, Blaise Compaore from Burkina Faso, Mathieu Kerekou from Benin, Laurent Gbagbo from Ivory Coast, John Kufuor from Ghana, Gnassingbe Eyadema from Togo and Mamadou Tandja from Niger are seen seated at the table at the opening of a summit of the seven west African leaders to revive the faltering peace process in Ivory Coast, 11 November 2003 in Accra. The summit organized by the Economic Community of West African States (ECOWAS) will review the security situation in the world's top cocoa-producing nation, still divided more than four months after the official end of the 10-month civil war. AFP PHOTO Issouf SANOGO\n",
      "ISSOUF SANOGO / AFP \n",
      "\n",
      "Image numéro 2.\n",
      "An unidentified Indian child (C) is given an Oral Polio Vaccine by India's Health Minister Sushma Swaraj (L) as The Director General of The World Health Organization Lee Jong-Wook (R) looks on at the Ministry of Health in New Delhi, 11 September 2003.   Some 12 million children in India have been vaccinated against the crippling disease in a six stage nationwide campaign.    AFP PHOTO/RAVEENDRAN\n",
      "RAVI RAVEENDRAN / AFP \n",
      "\n",
      "Image numéro 3.\n",
      "A woman sits with her child in the new stadium in Abuja 12 October 2003 before the start of the athletics finals for the African Games. AFP PHOTO ISSOUF SANOGO\n",
      "ISSOUF SANOGO / AFP \n",
      "\n",
      "Image numéro 4.\n",
      "British Prime Minister Tony Blair (L) talks with South African President Thabo Mbeki (R) before the start of the second executive session of the Commonwealth Heads of Government Meeting (CHOGM) , in Abuja, 05 December 2003. 54 heads of state are attending CHOGM sessions. The theme of CHOGM 2003 is Democracy and Development: Partnership for Peace and Prosperity.  AFP PHOTO POOL EPA/NIC BOTHMA\n",
      "NIC BOTHMA / POOL / AFP \n",
      "\n",
      "Image numéro 5.\n",
      "Foreign Minister of Russia Igor Ivanov (R) and EU Chairman and Italian Prime Minister Silvio Berlusconi (L) talk to each other at Villa Madama outside Rome during a break of the 12th European Union-Russia summit. The upcoming summit in Rome will be the last such formal meeting before the EU brings in 10 new members next May, the majority of them Moscow's former communist satellites. AFP PHOTO / PRESIDENTIAL PRESS SERVICE / ITAR-TASS\n",
      "ITAR-TASS / AFP \n",
      "\n",
      "Image numéro 6.\n",
      "The chief of the International Monetary Fund, Christine Lagarde (L) and Ivory Coast first lady Dominique Ouattara (R) are welcomed by girls at the SOS village suburb of Abidjan on January 8, 2013. Lagarde, called for \"a second Ivorian economic miracle\" during a visit to Abidjan as part of an African tour. AFP PHOTO / ISSOUF SANOGO \n",
      "Issouf SANOGO / AFP \n",
      "\n",
      "Image numéro 7.\n",
      "President of the Central African Republic Francois Bozize (R) greets the current president of the African Union and President of Benin Yayi Boni at the airport in Bangui, on December 30, 2012. Rebels in the Central African Republic who have advanced towards the capital Bangui warned they could enter the city even as the head of the African Union prepared to launch peace negotiations. Central African President Francois Bozize also stated today he was open to a national unity government after talks with rebel leaders and that he would not run for president in 2016. AFP PHOTO/ SIA KAMBOU\n",
      "SIA KAMBOU / AFP \n",
      "\n",
      "Image numéro 8.\n",
      "President of Russia Vladimir Putin (2nd R), EU Chairman, Prime Minister of Italy Silvio Berlusconi (R) and EU's Foreign and Security Policy Chief Javier Solana (L) walk during the EU-Russia Summit in Rome, 06 November 2003. The upcoming summit in Rome will be the last such formal meeting before the EU brings in 10 new members next May, the majority of them Moscow's former communist satellites.  AFP PHOTO / PRESIDENTIAL PRESS SERVICE / ITAR-TASS\n",
      "SERGEI VELICHKIN / ITAR-TASS / AFP \n",
      "\n",
      "Image numéro 9.\n",
      "Passers-by walk past a former Liberian soccer player of the year George Weah sport shop 04 September 2003 in the central district of Monrovia.  Weah sport shops, like other outfit businesses, remain closed to avert looting. Almost all public and private establishments, including properties of the University of Liberia, the Ministry of Justice, churches, mosques, the Presidential Executive Mansion, were either vandalized or looted during the war. Meanwhile authorities of the University of Liberia promised rewards for any of its properties recovered from looters. Sporadic fighting has been reported in Liberia since a peace accord was signed in mid-August for the west African country between two rebel movements and the caretaker government led by Moses Blah.           AFP PHOTO/PIUS UTOMI EKPEI\n",
      "PIUS UTOMI EKPEI / AFP \n",
      "\n",
      "Image numéro 10.\n",
      "FIFA deputy General secretary Jerome Champagne (R),greets the drawers, 1996 Olympic gold medallist, US soccer player Brandi Chastain (L) and former Mexican soccer player Jorge Campos, for the draw for the North and Central American and Caribean countries of the preliminary round of the 2006 World Cup in Germany.   AFP PHOTO   FRANCK FIFE\n",
      "FRANCK FIFE / AFP \n",
      "\n",
      "Les mots-clés de notre image sont: \n",
      "\n",
      "['IVORY COAST', 'AMANI', 'ADOU']\n",
      "Pour les images associées: \n",
      "\n",
      "Image numéro 1.\n",
      "['GHANA', 'IVORY COAST', 'ECOWAS', 'KUFUOR', 'GBAGBO'] \n",
      "\n",
      "Image numéro 2.\n",
      "['INDIA', 'HEALTH', 'WHO', 'POLIO', 'JONG', 'WOOK', 'SWARAJ'] \n",
      "\n",
      "Image numéro 3.\n",
      "['GAMES', 'AFRICA', 'VIEW'] \n",
      "\n",
      "Image numéro 4.\n",
      "['NIGERIA', 'CHOGM', 'BLAIR', 'MBEKI'] \n",
      "\n",
      "Image numéro 5.\n",
      "['ITALY', 'RUSSIA', 'EU'] \n",
      "\n",
      "Image numéro 6.\n",
      "['ICOAST', 'POLITICS', 'ECONOMY', 'IMF', 'LAGARDE'] \n",
      "\n",
      "Image numéro 7.\n",
      "['CENTRAFRICA', 'UNREST', 'BOZIZE'] \n",
      "\n",
      "Image numéro 8.\n",
      "['ITALY', 'RUSSIA', 'EU'] \n",
      "\n",
      "Image numéro 9.\n",
      "['LIBERIA', 'WEAH'] \n",
      "\n",
      "Image numéro 10.\n",
      "['FBL', 'WC2006', 'DRAW', 'CONCACAF'] \n",
      "\n"
     ]
    }
   ],
   "source": [
    "best_10(0)"
   ]
  }
 ],
 "metadata": {
  "kernelspec": {
   "display_name": "Python 3",
   "language": "python",
   "name": "python3"
  },
  "language_info": {
   "codemirror_mode": {
    "name": "ipython",
    "version": 3
   },
   "file_extension": ".py",
   "mimetype": "text/x-python",
   "name": "python",
   "nbconvert_exporter": "python",
   "pygments_lexer": "ipython3",
   "version": "3.6.8"
  },
  "latex_envs": {
   "LaTeX_envs_menu_present": true,
   "autoclose": false,
   "autocomplete": true,
   "bibliofile": "biblio.bib",
   "cite_by": "apalike",
   "current_citInitial": 1,
   "eqLabelWithNumbers": true,
   "eqNumInitial": 1,
   "hotkeys": {
    "equation": "Ctrl-E",
    "itemize": "Ctrl-I"
   },
   "labels_anchors": false,
   "latex_user_defs": false,
   "report_style_numbering": false,
   "user_envs_cfg": false
  },
  "varInspector": {
   "cols": {
    "lenName": 16,
    "lenType": 16,
    "lenVar": 40
   },
   "kernels_config": {
    "python": {
     "delete_cmd_postfix": "",
     "delete_cmd_prefix": "del ",
     "library": "var_list.py",
     "varRefreshCmd": "print(var_dic_list())"
    },
    "r": {
     "delete_cmd_postfix": ") ",
     "delete_cmd_prefix": "rm(",
     "library": "var_list.r",
     "varRefreshCmd": "cat(var_dic_list()) "
    }
   },
   "types_to_exclude": [
    "module",
    "function",
    "builtin_function_or_method",
    "instance",
    "_Feature"
   ],
   "window_display": false
  }
 },
 "nbformat": 4,
 "nbformat_minor": 2
}
