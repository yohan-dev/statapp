{
 "cells": [
  {
   "cell_type": "code",
   "execution_count": 1,
   "metadata": {},
   "outputs": [],
   "source": [
    "import time\n",
    "import pandas as pd\n",
    "import spacy\n",
    "import en_core_web_sm\n",
    "from spacy import displacy\n",
    "from collections import Counter\n",
    "\n",
    "from bs4 import BeautifulSoup\n",
    "import requests\n",
    "import re"
   ]
  },
  {
   "cell_type": "code",
   "execution_count": 2,
   "metadata": {},
   "outputs": [
    {
     "name": "stderr",
     "output_type": "stream",
     "text": [
      "c:\\users\\dimit\\appdata\\local\\programs\\python\\python37\\lib\\site-packages\\IPython\\core\\interactiveshell.py:3057: DtypeWarning: Columns (3,21,22,33,35,39,43) have mixed types. Specify dtype option on import or set low_memory=False.\n",
      "  interactivity=interactivity, compiler=compiler, result=result)\n"
     ]
    }
   ],
   "source": [
    "pd.set_option('mode.chained_assignment', None)\n",
    "\n",
    "nlp = en_core_web_sm.load()\n",
    "\n",
    "data_raw = pd.read_csv('pictures_sample.csv')"
   ]
  },
  {
   "cell_type": "code",
   "execution_count": 3,
   "metadata": {},
   "outputs": [],
   "source": [
    "data_english = data_raw[data_raw.Language == 'EN']"
   ]
  },
  {
   "cell_type": "code",
   "execution_count": 4,
   "metadata": {},
   "outputs": [],
   "source": [
    "def author_del(text):\n",
    "    text_s = text\n",
    "    while(text_s[-1] != '\\n' and len(text_s) > 1):\n",
    "        text_s = text_s[:-1]\n",
    "    if(len(text_s) <= 1):\n",
    "        return(text)\n",
    "    return(text_s[:-1])"
   ]
  },
  {
   "cell_type": "code",
   "execution_count": 5,
   "metadata": {},
   "outputs": [],
   "source": [
    "data_english.Description = data_english.Description.apply(author_del)\n",
    "data_english.drop_duplicates(subset='Description', keep='first', inplace=True)"
   ]
  },
  {
   "cell_type": "code",
   "execution_count": 123,
   "metadata": {},
   "outputs": [],
   "source": [
    "class Image_Finder:\n",
    "    def __init__(self, article, data):\n",
    "        self.a = article\n",
    "        self.d = data.copy()\n",
    "        self.nlp = nlp(article)\n",
    "        self.ent_list = []\n",
    "        self.u_ent_list = []\n",
    "        self.u_ent_cut_list = []\n",
    "        for ent in self.nlp.ents:\n",
    "            if(ent.label_ == \"PERSON\" or ent.label_ == \"NORP\" or ent.label_ == \"ORG\" or ent.label_ == \"GPE\" or ent.label_ == \"EVENT\"):\n",
    "                self.ent_list.append(ent.text)\n",
    "        for e in self.ent_list:\n",
    "            if e not in self.u_ent_list:\n",
    "                self.u_ent_list.append(e)\n",
    "        for e in self.u_ent_list:\n",
    "            for e_split in e.split():\n",
    "                if e_split not in self.u_ent_cut_list:\n",
    "                    self.u_ent_cut_list.append(e_split)\n",
    "    def related_data(self):\n",
    "        descs = []\n",
    "        for desc in self.d.Description:\n",
    "            b = False\n",
    "            s = 0\n",
    "            for ent in self.u_ent_cut_list:\n",
    "                if ent.lower() in desc.lower():\n",
    "                    s += 1\n",
    "                    if s >= 0.3*len(self.u_ent_cut_list): \n",
    "                        b = True\n",
    "                        break\n",
    "            descs.append(b)\n",
    "        return(descs)\n",
    "    def reduce_data(self):\n",
    "        descs = self.related_data()\n",
    "        self.d = self.d[descs]\n",
    "    def score_global(self, text):\n",
    "        return(similarity_text(self.nlp, nlp(text)))\n",
    "    def score_local(self, i):\n",
    "        return(self.score_global(self.d.Description[self.d.index[i]]))"
   ]
  },
  {
   "cell_type": "code",
   "execution_count": 161,
   "metadata": {},
   "outputs": [],
   "source": [
    "def find(sentence, word):\n",
    "    f = []\n",
    "    for i in range(len(sentence)):\n",
    "        if str(sentence[i]) == word:\n",
    "            f.append(i)\n",
    "    return(f)\n",
    "\n",
    "def importance_text(s):\n",
    "    L = {}\n",
    "    for ent in s.ents:\n",
    "        m = 0\n",
    "        for e in ent.text.split():\n",
    "            ent_indexes = find(s, e)   \n",
    "            for index in ent_indexes:\n",
    "                p = s[index]\n",
    "                if p.dep_ in dict_val.keys():  \n",
    "                    score = dict_val[p.dep_]\n",
    "                else:\n",
    "                    score = 0\n",
    "                if score > m:\n",
    "                    m = score\n",
    "        if ent.text not in L.keys():\n",
    "            L[ent.text] = m\n",
    "        else:\n",
    "            L[ent.text] += m\n",
    "    return(L)\n",
    "    \n",
    "def similarity_text(s1, s2):\n",
    "    score = 0\n",
    "    i1 = importance_text(s1)\n",
    "    i2 = importance_text(s2)\n",
    "    for i in i1.keys():\n",
    "        if i in i2.keys():\n",
    "            score += (i1[i]+i2[i])/2\n",
    "    return(score)    "
   ]
  },
  {
   "cell_type": "code",
   "execution_count": 125,
   "metadata": {},
   "outputs": [
    {
     "name": "stdout",
     "output_type": "stream",
     "text": [
      "(82608, 54)\n",
      "(149, 54)\n"
     ]
    }
   ],
   "source": [
    "I = Image_Finder(data_english.Description[0], data_english)\n",
    "print(I.d.shape)\n",
    "I.reduce_data()\n",
    "print(I.d.shape)"
   ]
  },
  {
   "cell_type": "code",
   "execution_count": 126,
   "metadata": {},
   "outputs": [
    {
     "data": {
      "text/plain": [
       "['US', 'Sienna', 'Miller', 'Deauville', 'Film', 'Festival', 'France']"
      ]
     },
     "execution_count": 126,
     "metadata": {},
     "output_type": "execute_result"
    }
   ],
   "source": [
    "I.u_ent_cut_list"
   ]
  },
  {
   "cell_type": "code",
   "execution_count": 157,
   "metadata": {},
   "outputs": [
    {
     "name": "stdout",
     "output_type": "stream",
     "text": [
      "2.769172430038452\n"
     ]
    }
   ],
   "source": [
    "scores = []\n",
    "import time\n",
    "t1 = time.time()\n",
    "for i in range(I.d.shape[0]):\n",
    "    scores.append(I.score_local(i))\n",
    "t2 = time.time()\n",
    "print(t2-t1)"
   ]
  },
  {
   "cell_type": "code",
   "execution_count": 136,
   "metadata": {},
   "outputs": [],
   "source": [
    "def desc_sort(L):\n",
    "    M = []\n",
    "    for i in range(len(L)):\n",
    "        M.append((i, L[i]))\n",
    "    dict_M = dict(M)\n",
    "    return(dict(sorted(dict_M.items(), key =lambda t: t[1], reverse = True)))"
   ]
  },
  {
   "cell_type": "code",
   "execution_count": 155,
   "metadata": {},
   "outputs": [
    {
     "name": "stdout",
     "output_type": "stream",
     "text": [
      "US-British actress Sienna Miller poses after unveiling her dedicated beach locker room on the Promenade des Planches at the 45th Deauville US Film Festival in Deauville, western France, on September 11, 2019. \n",
      "US director Neil Burger poses prior to the screening of his film \"Interview with the assassin\" in competition in the Panorama category during the 29th US Film Festival in Deauville, north-western France 10 September 2003. AFP PHOTO MYCHELE DANIAU\n",
      "le réalisateur américain Neil Burger pose, le 10 septembre 2003 à Deauville, avant la projection de son film \"Interview with the assassin\" présenté dans le cadre du Panorama du 29e Festival du cinéma américain. \n"
     ]
    }
   ],
   "source": [
    "sc = desc_sort(scores)\n",
    "print(I.d.loc[I.d.index[list(sc.keys())[0]]].Description)\n",
    "print(I.d.loc[I.d.index[list(sc.keys())[1]]].Description)"
   ]
  },
  {
   "cell_type": "code",
   "execution_count": null,
   "metadata": {},
   "outputs": [],
   "source": [
    "scoring = pd.read_csv('scoring.csv', delimiter = \";\")\n",
    "dict_val = {}\n",
    "for i in range(48):\n",
    "    dict_val[scoring['function'][i]] = scoring['score_norm'][i]"
   ]
  },
  {
   "cell_type": "code",
   "execution_count": 159,
   "metadata": {},
   "outputs": [],
   "source": [
    "import random\n",
    "n = 10\n",
    "r = []\n",
    "for _i in range(n):\n",
    "    num = random.randint(0, data_english.shape[0])\n",
    "    while(num in r):\n",
    "        num = random.randint(0, data_english.shape[0])\n",
    "    r.append(num)"
   ]
  },
  {
   "cell_type": "code",
   "execution_count": 162,
   "metadata": {},
   "outputs": [
    {
     "ename": "KeyError",
     "evalue": "35087",
     "output_type": "error",
     "traceback": [
      "\u001b[1;31m---------------------------------------------------------------------------\u001b[0m",
      "\u001b[1;31mKeyError\u001b[0m                                  Traceback (most recent call last)",
      "\u001b[1;32m<ipython-input-162-74404bc1c424>\u001b[0m in \u001b[0;36m<module>\u001b[1;34m\u001b[0m\n\u001b[0;32m      1\u001b[0m \u001b[0mscore_gl\u001b[0m \u001b[1;33m=\u001b[0m \u001b[1;36m0\u001b[0m\u001b[1;33m\u001b[0m\u001b[1;33m\u001b[0m\u001b[0m\n\u001b[0;32m      2\u001b[0m \u001b[1;32mfor\u001b[0m \u001b[0mj\u001b[0m \u001b[1;32min\u001b[0m \u001b[0mr\u001b[0m\u001b[1;33m:\u001b[0m\u001b[1;33m\u001b[0m\u001b[1;33m\u001b[0m\u001b[0m\n\u001b[1;32m----> 3\u001b[1;33m     \u001b[0mI\u001b[0m \u001b[1;33m=\u001b[0m \u001b[0mImage_Finder\u001b[0m\u001b[1;33m(\u001b[0m\u001b[0mdata_english\u001b[0m\u001b[1;33m.\u001b[0m\u001b[0mDescription\u001b[0m\u001b[1;33m[\u001b[0m\u001b[0mj\u001b[0m\u001b[1;33m]\u001b[0m\u001b[1;33m,\u001b[0m \u001b[0mdata_english\u001b[0m\u001b[1;33m)\u001b[0m\u001b[1;33m\u001b[0m\u001b[1;33m\u001b[0m\u001b[0m\n\u001b[0m\u001b[0;32m      4\u001b[0m     \u001b[0mI\u001b[0m\u001b[1;33m.\u001b[0m\u001b[0mreduce_data\u001b[0m\u001b[1;33m(\u001b[0m\u001b[1;33m)\u001b[0m\u001b[1;33m\u001b[0m\u001b[1;33m\u001b[0m\u001b[0m\n\u001b[0;32m      5\u001b[0m     \u001b[0mscores\u001b[0m \u001b[1;33m=\u001b[0m \u001b[1;33m[\u001b[0m\u001b[1;33m]\u001b[0m\u001b[1;33m\u001b[0m\u001b[1;33m\u001b[0m\u001b[0m\n",
      "\u001b[1;32mc:\\users\\dimit\\appdata\\local\\programs\\python\\python37\\lib\\site-packages\\pandas\\core\\series.py\u001b[0m in \u001b[0;36m__getitem__\u001b[1;34m(self, key)\u001b[0m\n\u001b[0;32m    866\u001b[0m         \u001b[0mkey\u001b[0m \u001b[1;33m=\u001b[0m \u001b[0mcom\u001b[0m\u001b[1;33m.\u001b[0m\u001b[0mapply_if_callable\u001b[0m\u001b[1;33m(\u001b[0m\u001b[0mkey\u001b[0m\u001b[1;33m,\u001b[0m \u001b[0mself\u001b[0m\u001b[1;33m)\u001b[0m\u001b[1;33m\u001b[0m\u001b[1;33m\u001b[0m\u001b[0m\n\u001b[0;32m    867\u001b[0m         \u001b[1;32mtry\u001b[0m\u001b[1;33m:\u001b[0m\u001b[1;33m\u001b[0m\u001b[1;33m\u001b[0m\u001b[0m\n\u001b[1;32m--> 868\u001b[1;33m             \u001b[0mresult\u001b[0m \u001b[1;33m=\u001b[0m \u001b[0mself\u001b[0m\u001b[1;33m.\u001b[0m\u001b[0mindex\u001b[0m\u001b[1;33m.\u001b[0m\u001b[0mget_value\u001b[0m\u001b[1;33m(\u001b[0m\u001b[0mself\u001b[0m\u001b[1;33m,\u001b[0m \u001b[0mkey\u001b[0m\u001b[1;33m)\u001b[0m\u001b[1;33m\u001b[0m\u001b[1;33m\u001b[0m\u001b[0m\n\u001b[0m\u001b[0;32m    869\u001b[0m \u001b[1;33m\u001b[0m\u001b[0m\n\u001b[0;32m    870\u001b[0m             \u001b[1;32mif\u001b[0m \u001b[1;32mnot\u001b[0m \u001b[0mis_scalar\u001b[0m\u001b[1;33m(\u001b[0m\u001b[0mresult\u001b[0m\u001b[1;33m)\u001b[0m\u001b[1;33m:\u001b[0m\u001b[1;33m\u001b[0m\u001b[1;33m\u001b[0m\u001b[0m\n",
      "\u001b[1;32mc:\\users\\dimit\\appdata\\local\\programs\\python\\python37\\lib\\site-packages\\pandas\\core\\indexes\\base.py\u001b[0m in \u001b[0;36mget_value\u001b[1;34m(self, series, key)\u001b[0m\n\u001b[0;32m   4373\u001b[0m         \u001b[1;32mtry\u001b[0m\u001b[1;33m:\u001b[0m\u001b[1;33m\u001b[0m\u001b[1;33m\u001b[0m\u001b[0m\n\u001b[0;32m   4374\u001b[0m             return self._engine.get_value(s, k,\n\u001b[1;32m-> 4375\u001b[1;33m                                           tz=getattr(series.dtype, 'tz', None))\n\u001b[0m\u001b[0;32m   4376\u001b[0m         \u001b[1;32mexcept\u001b[0m \u001b[0mKeyError\u001b[0m \u001b[1;32mas\u001b[0m \u001b[0me1\u001b[0m\u001b[1;33m:\u001b[0m\u001b[1;33m\u001b[0m\u001b[1;33m\u001b[0m\u001b[0m\n\u001b[0;32m   4377\u001b[0m             \u001b[1;32mif\u001b[0m \u001b[0mlen\u001b[0m\u001b[1;33m(\u001b[0m\u001b[0mself\u001b[0m\u001b[1;33m)\u001b[0m \u001b[1;33m>\u001b[0m \u001b[1;36m0\u001b[0m \u001b[1;32mand\u001b[0m \u001b[1;33m(\u001b[0m\u001b[0mself\u001b[0m\u001b[1;33m.\u001b[0m\u001b[0mholds_integer\u001b[0m\u001b[1;33m(\u001b[0m\u001b[1;33m)\u001b[0m \u001b[1;32mor\u001b[0m \u001b[0mself\u001b[0m\u001b[1;33m.\u001b[0m\u001b[0mis_boolean\u001b[0m\u001b[1;33m(\u001b[0m\u001b[1;33m)\u001b[0m\u001b[1;33m)\u001b[0m\u001b[1;33m:\u001b[0m\u001b[1;33m\u001b[0m\u001b[1;33m\u001b[0m\u001b[0m\n",
      "\u001b[1;32mpandas\\_libs\\index.pyx\u001b[0m in \u001b[0;36mpandas._libs.index.IndexEngine.get_value\u001b[1;34m()\u001b[0m\n",
      "\u001b[1;32mpandas\\_libs\\index.pyx\u001b[0m in \u001b[0;36mpandas._libs.index.IndexEngine.get_value\u001b[1;34m()\u001b[0m\n",
      "\u001b[1;32mpandas\\_libs\\index.pyx\u001b[0m in \u001b[0;36mpandas._libs.index.IndexEngine.get_loc\u001b[1;34m()\u001b[0m\n",
      "\u001b[1;32mpandas\\_libs\\hashtable_class_helper.pxi\u001b[0m in \u001b[0;36mpandas._libs.hashtable.Int64HashTable.get_item\u001b[1;34m()\u001b[0m\n",
      "\u001b[1;32mpandas\\_libs\\hashtable_class_helper.pxi\u001b[0m in \u001b[0;36mpandas._libs.hashtable.Int64HashTable.get_item\u001b[1;34m()\u001b[0m\n",
      "\u001b[1;31mKeyError\u001b[0m: 35087"
     ]
    }
   ],
   "source": [
    "score_gl = 0\n",
    "for j in r:\n",
    "    I = Image_Finder(data_english.Description[j], data_english)\n",
    "    I.reduce_data()\n",
    "    scores = []\n",
    "    for i in range(I.d.shape[0]):\n",
    "        scores.append(I.score_local(i))\n",
    "    sc = desc_sort(scores)\n",
    "    if(I.d.loc[I.d.index[list(sc.keys())[0]]].Description == I.a):\n",
    "        score_gl += 1\n",
    "\n",
    "score_gl /= n\n",
    "print(score_gl)"
   ]
  },
  {
   "cell_type": "code",
   "execution_count": 164,
   "metadata": {},
   "outputs": [
    {
     "data": {
      "text/plain": [
       "4"
      ]
     },
     "execution_count": 164,
     "metadata": {},
     "output_type": "execute_result"
    }
   ],
   "source": [
    "score_gl"
   ]
  }
 ],
 "metadata": {
  "kernelspec": {
   "display_name": "Python 3",
   "language": "python",
   "name": "python3"
  },
  "language_info": {
   "codemirror_mode": {
    "name": "ipython",
    "version": 3
   },
   "file_extension": ".py",
   "mimetype": "text/x-python",
   "name": "python",
   "nbconvert_exporter": "python",
   "pygments_lexer": "ipython3",
   "version": "3.7.4"
  },
  "varInspector": {
   "cols": {
    "lenName": 16,
    "lenType": 16,
    "lenVar": 40
   },
   "kernels_config": {
    "python": {
     "delete_cmd_postfix": "",
     "delete_cmd_prefix": "del ",
     "library": "var_list.py",
     "varRefreshCmd": "print(var_dic_list())"
    },
    "r": {
     "delete_cmd_postfix": ") ",
     "delete_cmd_prefix": "rm(",
     "library": "var_list.r",
     "varRefreshCmd": "cat(var_dic_list()) "
    }
   },
   "types_to_exclude": [
    "module",
    "function",
    "builtin_function_or_method",
    "instance",
    "_Feature"
   ],
   "window_display": false
  }
 },
 "nbformat": 4,
 "nbformat_minor": 2
}
