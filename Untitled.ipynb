{
 "cells": [
  {
   "cell_type": "code",
   "execution_count": 1,
   "metadata": {},
   "outputs": [
    {
     "name": "stderr",
     "output_type": "stream",
     "text": [
      "c:\\users\\dimit\\appdata\\local\\programs\\python\\python37\\lib\\site-packages\\IPython\\core\\interactiveshell.py:3057: DtypeWarning: Columns (3,21,22,33,35,39,43) have mixed types. Specify dtype option on import or set low_memory=False.\n",
      "  interactivity=interactivity, compiler=compiler, result=result)\n",
      "c:\\users\\dimit\\appdata\\local\\programs\\python\\python37\\lib\\site-packages\\IPython\\core\\interactiveshell.py:3057: DtypeWarning: Columns (3,21,22,33,35,39,43) have mixed types. Specify dtype option on import or set low_memory=False.\n",
      "  interactivity=interactivity, compiler=compiler, result=result)\n"
     ]
    }
   ],
   "source": [
    "import time\n",
    "import pandas as pd\n",
    "import spacy\n",
    "import en_core_web_sm\n",
    "from spacy import displacy\n",
    "from collections import Counter\n",
    "pd.set_option('mode.chained_assignment', None)\n",
    "\n",
    "nlp = en_core_web_sm.load()\n",
    "\n",
    "data_raw = pd.read_csv('pictures_sample.csv')"
   ]
  },
  {
   "cell_type": "code",
   "execution_count": 7,
   "metadata": {},
   "outputs": [
    {
     "data": {
      "text/plain": [
       "162"
      ]
     },
     "execution_count": 7,
     "metadata": {},
     "output_type": "execute_result"
    },
    {
     "data": {
      "text/plain": [
       "162"
      ]
     },
     "execution_count": 7,
     "metadata": {},
     "output_type": "execute_result"
    }
   ],
   "source": [
    "from bs4 import BeautifulSoup\n",
    "import requests\n",
    "import re\n",
    "\n",
    "def url_to_string(url):\n",
    "    res = requests.get(url)\n",
    "    html = res.text\n",
    "    soup = BeautifulSoup(html, 'html5lib')\n",
    "    for script in soup([\"script\", \"style\", 'aside']):\n",
    "        script.extract()\n",
    "    return \" \".join(re.split(r'[\\n\\t]+', soup.get_text()))\n",
    "\n",
    "ny_bb = url_to_string('https://www.nytimes.com/2018/08/13/us/politics/peter-strzok-fired-fbi.html?hp&action=click&pgtype=Homepage&clickSource=story-heading&module=first-column-region&region=top-news&WT.nav=top-news')\n",
    "article = nlp(ny_bb)\n",
    "len(article.ents)"
   ]
  },
  {
   "cell_type": "markdown",
   "metadata": {},
   "source": [
    "# Nettoyage de la base de données\n",
    "\n",
    "Enlevage des doublons et des données de langue différente de l'anglais puis sélection des articles en rapport."
   ]
  },
  {
   "cell_type": "code",
   "execution_count": 10,
   "metadata": {},
   "outputs": [
    {
     "name": "stdout",
     "output_type": "stream",
     "text": [
      "US-British actress Sienna Miller poses after unveiling her dedicated beach locker room on the Promenade des Planches at the 45th Deauville US Film Festival in Deauville, western France, on September 11, 2019. \n",
      "LOIC VENANCE / AFP\n",
      "(221764, 54)\n",
      "US-British actress Sienna Miller poses after unveiling her dedicated beach locker room on the Promenade des Planches at the 45th Deauville US Film Festival in Deauville, western France, on September 11, 2019. \n",
      "LOIC VENANCE / AFP\n",
      "(221764, 54)\n"
     ]
    }
   ],
   "source": [
    "print(data_raw.Description[0])\n",
    "print(data_raw.shape)"
   ]
  },
  {
   "cell_type": "code",
   "execution_count": 11,
   "metadata": {},
   "outputs": [
    {
     "name": "stdout",
     "output_type": "stream",
     "text": [
      "(179392, 54)\n",
      "(179392, 54)\n"
     ]
    }
   ],
   "source": [
    "data_english = data_raw[data_raw.Language == 'EN']\n",
    "print(data_english.shape)"
   ]
  },
  {
   "cell_type": "code",
   "execution_count": 12,
   "metadata": {},
   "outputs": [],
   "source": [
    "def author_del(text):\n",
    "    text_s = text\n",
    "    while(text_s[-1] != '\\n' and len(text_s) > 1):\n",
    "        text_s = text_s[:-1]\n",
    "    if(len(text_s) <= 1):\n",
    "        return(text)\n",
    "    return(text_s[:-1])"
   ]
  },
  {
   "cell_type": "code",
   "execution_count": 13,
   "metadata": {},
   "outputs": [
    {
     "name": "stdout",
     "output_type": "stream",
     "text": [
      "(82608, 54)\n",
      "(82608, 54)\n"
     ]
    }
   ],
   "source": [
    "data_english.Description = data_english.Description.apply(author_del)\n",
    "data_english.drop_duplicates(subset='Description', keep='first', inplace=True)\n",
    "print(data_english.shape)"
   ]
  },
  {
   "cell_type": "code",
   "execution_count": 14,
   "metadata": {},
   "outputs": [],
   "source": [
    "def contains(text, word_list):\n",
    "    counter = False\n",
    "    for word in word_list:\n",
    "        if(word in text):\n",
    "            counter = True\n",
    "    return(counter)"
   ]
  },
  {
   "cell_type": "code",
   "execution_count": 15,
   "metadata": {},
   "outputs": [],
   "source": [
    "def unique(list):\n",
    "    L = []\n",
    "    for l in list:\n",
    "        if(l not in L):\n",
    "            L.append(l)\n",
    "    return(L)"
   ]
  },
  {
   "cell_type": "code",
   "execution_count": 16,
   "metadata": {},
   "outputs": [
    {
     "name": "stdout",
     "output_type": "stream",
     "text": [
      "['F.B.I.', 'Peter Strzok', 'Texts', 'The New York Times', 'InLog InToday', 'byContinue', 'FiredPeter Strzok', 'Trump', 'The New York TimesBy Adam', 'Michael S. SchmidtAug', '2018WASHINGTON', 'Hillary Clinton', 'Russia', 'Strzok', 'Lisa Page', 'Robert S. Mueller III', 'Office of Professional Responsibility', 'House', 'David Bowdich', 'the Office of Professional Responsibility', 'Bowdich', 'Christopher A. Wray', 'Aitan Goelman', 'Wray', 'Congress', 'Goelman', 'Page', 'Michael E. Horowitz', 'Clinton', 'Horowitz', 'Mueller', 'Anthony D. Weiner', 'Weiner', 'James B. Comey', 'Andrew G. McCabe', 'McCabe', 'Georgetown University', 'Army', 'C.I.A.', 'China', 'the United States', 'ed columnistseditorialsop-ed', 'artsart & designbooksdancemoviesmusicPop Culturetelevisiontheaterwatchingvideo', 'CenterWirecutterLive EventsThe Learning Networktools & servicesN.Y.C.', 'ServiceTerms of SaleSite MapHelpSubscriptions']\n",
      "['F.B.I.', 'Peter Strzok', 'Texts', 'The New York Times', 'InLog InToday', 'byContinue', 'FiredPeter Strzok', 'Trump', 'The New York TimesBy Adam', 'Michael S. SchmidtAug', '2018WASHINGTON', 'Hillary Clinton', 'Russia', 'Strzok', 'Lisa Page', 'Robert S. Mueller III', 'Office of Professional Responsibility', 'House', 'David Bowdich', 'the Office of Professional Responsibility', 'Bowdich', 'Christopher A. Wray', 'Aitan Goelman', 'Wray', 'Congress', 'Goelman', 'Page', 'Michael E. Horowitz', 'Clinton', 'Horowitz', 'Mueller', 'Anthony D. Weiner', 'Weiner', 'James B. Comey', 'Andrew G. McCabe', 'McCabe', 'Georgetown University', 'Army', 'C.I.A.', 'China', 'the United States', 'ed columnistseditorialsop-ed', 'artsart & designbooksdancemoviesmusicPop Culturetelevisiontheaterwatchingvideo', 'CenterWirecutterLive EventsThe Learning Networktools & servicesN.Y.C.', 'ServiceTerms of SaleSite MapHelpSubscriptions']\n"
     ]
    }
   ],
   "source": [
    "important_entities = []\n",
    "\n",
    "for ent in article.ents:\n",
    "    if(ent.label_ == \"PERSON\" or ent.label_ == \"GPE\" or ent.label_ == \"ORG\"):\n",
    "        important_entities.append(ent.text)\n",
    "\n",
    "important_entities = unique(important_entities)\n",
    "print(important_entities)"
   ]
  },
  {
   "cell_type": "code",
   "execution_count": 17,
   "metadata": {},
   "outputs": [],
   "source": [
    "related = [contains(text, important_entities) for text in data_english.Description]"
   ]
  },
  {
   "cell_type": "code",
   "execution_count": 18,
   "metadata": {},
   "outputs": [
    {
     "name": "stdout",
     "output_type": "stream",
     "text": [
      "(8108, 54)\n",
      "(8108, 54)\n"
     ]
    }
   ],
   "source": [
    "reduced_data = data_english[related]\n",
    "print(reduced_data.shape)"
   ]
  },
  {
   "cell_type": "markdown",
   "metadata": {},
   "source": [
    "# Scoring entre le texte et les descriptions\n",
    "\n",
    "### I) Méthode brute, phrase par phrase.\n",
    "\n",
    "On reprend l'article du début."
   ]
  },
  {
   "cell_type": "code",
   "execution_count": 21,
   "metadata": {},
   "outputs": [],
   "source": [
    "sentences = [x for x in article.sents]   "
   ]
  },
  {
   "cell_type": "code",
   "execution_count": 243,
   "metadata": {},
   "outputs": [],
   "source": [
    "def imp(t):\n",
    "    if t == 'SYM':\n",
    "        return(0)\n",
    "    if t == 'PUNCT':\n",
    "        return(0)\n",
    "    if t == 'X':\n",
    "        return(1)\n",
    "    if t == 'CCONJ' or t == 'SCONJ':\n",
    "        return(1)\n",
    "    if t == 'NUM':\n",
    "        return(1)\n",
    "    if t == 'DET':\n",
    "        return(1)\n",
    "    if t == 'PRON':\n",
    "        return(2)\n",
    "    if t == 'ADP':\n",
    "        return(1.5)\n",
    "    if t == 'ADJ':\n",
    "        return(1)\n",
    "    if t == 'VERB':\n",
    "        return(2)\n",
    "    if t == 'NOUN':\n",
    "        return(3)\n",
    "    if t == 'PROPN':\n",
    "        return(3)\n",
    "    if t == 'PART':\n",
    "        return(1.5)\n",
    "    if t == 'ADV':\n",
    "        return(2)\n",
    "    if t == 'SPACE':\n",
    "        return(0)\n",
    "    if t == 'INTJ':\n",
    "        return(0)\n",
    "    else:\n",
    "        return(0)\n",
    "\n",
    "def find(sentence, word):\n",
    "    f = []\n",
    "    for i in range(len(sentence)):\n",
    "        if str(sentence[i]) == word:\n",
    "            f.append(i)\n",
    "    return(f)\n",
    "\n",
    "def importance(s):\n",
    "    L = {}\n",
    "    for ent in s.ents:\n",
    "        m = 0\n",
    "        for e in ent.text.split():\n",
    "            ent_indexes = find(s, e)   \n",
    "            for index in ent_indexes:\n",
    "                p = s[index]\n",
    "                score = imp(p.pos_)\n",
    "                if score > m:\n",
    "                    m = score\n",
    "        if ent.text not in L.keys():\n",
    "            L[ent.text] = m\n",
    "        else:\n",
    "            L[ent.text] += m\n",
    "    return(L)\n",
    "    \n",
    "def similarity(s1, s2):\n",
    "    score = 0\n",
    "    i1 = importance(s1)\n",
    "    i2 = importance(s2)\n",
    "    for i in i1.keys():\n",
    "        if i in i2.keys():\n",
    "            score += (i1[i]+i2[i])/2\n",
    "    return(score)    \n",
    "\n",
    "def sim(desc, art):\n",
    "    score = 0\n",
    "    s1 = [x for x in desc.sents] \n",
    "    for x in s1:\n",
    "        for y in art:\n",
    "            score += similarity(x,y)\n",
    "    return(score)"
   ]
  },
  {
   "cell_type": "code",
   "execution_count": 228,
   "metadata": {},
   "outputs": [],
   "source": [
    "L = [nlp(i) for i in reduced_data.Description]"
   ]
  },
  {
   "cell_type": "code",
   "execution_count": 244,
   "metadata": {},
   "outputs": [],
   "source": [
    "L_score = [sim(i, sentences) for i in L]"
   ]
  },
  {
   "cell_type": "code",
   "execution_count": 247,
   "metadata": {},
   "outputs": [
    {
     "data": {
      "text/plain": [
       "373"
      ]
     },
     "execution_count": 247,
     "metadata": {},
     "output_type": "execute_result"
    },
    {
     "data": {
      "text/plain": [
       "373"
      ]
     },
     "execution_count": 247,
     "metadata": {},
     "output_type": "execute_result"
    }
   ],
   "source": [
    "import numpy as np\n",
    "\n",
    "np.argmax(L_score)"
   ]
  },
  {
   "cell_type": "code",
   "execution_count": 250,
   "metadata": {},
   "outputs": [
    {
     "data": {
      "text/plain": [
       "1934"
      ]
     },
     "execution_count": 250,
     "metadata": {},
     "output_type": "execute_result"
    },
    {
     "data": {
      "text/plain": [
       "1934"
      ]
     },
     "execution_count": 250,
     "metadata": {},
     "output_type": "execute_result"
    }
   ],
   "source": [
    "list(reduced_data.index)[373]"
   ]
  },
  {
   "cell_type": "code",
   "execution_count": 254,
   "metadata": {},
   "outputs": [
    {
     "data": {
      "text/plain": [
       "(Central American,\n",
       " Migrant Viacrucis,\n",
       " the United States,\n",
       " Honduran,\n",
       " Guatemalan,\n",
       " US,\n",
       " Donald Trump,\n",
       " Matias Romero,\n",
       " Oaxaca State,\n",
       " Mexico,\n",
       " April 3, 2018,\n",
       " hundreds,\n",
       " Central Americans,\n",
       " Way of the Cross,\n",
       " Trump,\n",
       " US,\n",
       " Trump,\n",
       " Tuesday,\n",
       " US,\n",
       " the third straight day,\n",
       " Matias Romero,\n",
       " Mexico,\n",
       " more than 3,000 kilometers,\n",
       " 1,800 miles,\n",
       " the United States)"
      ]
     },
     "execution_count": 254,
     "metadata": {},
     "output_type": "execute_result"
    },
    {
     "data": {
      "text/plain": [
       "(Central American,\n",
       " Migrant Viacrucis,\n",
       " the United States,\n",
       " Honduran,\n",
       " Guatemalan,\n",
       " US,\n",
       " Donald Trump,\n",
       " Matias Romero,\n",
       " Oaxaca State,\n",
       " Mexico,\n",
       " April 3, 2018,\n",
       " hundreds,\n",
       " Central Americans,\n",
       " Way of the Cross,\n",
       " Trump,\n",
       " US,\n",
       " Trump,\n",
       " Tuesday,\n",
       " US,\n",
       " the third straight day,\n",
       " Matias Romero,\n",
       " Mexico,\n",
       " more than 3,000 kilometers,\n",
       " 1,800 miles,\n",
       " the United States)"
      ]
     },
     "execution_count": 254,
     "metadata": {},
     "output_type": "execute_result"
    }
   ],
   "source": [
    "nlp(reduced_data.Description[1934]).ents"
   ]
  },
  {
   "cell_type": "code",
   "execution_count": 253,
   "metadata": {},
   "outputs": [
    {
     "data": {
      "text/plain": [
       "(F.B.I.,\n",
       " Peter Strzok,\n",
       " Texts,\n",
       " The New York Times,\n",
       " InLog InToday,\n",
       " Peter Strzok,\n",
       " Texts,\n",
       " byContinue,\n",
       " Peter Strzok,\n",
       " Texts,\n",
       " FiredPeter Strzok,\n",
       " F.B.I.,\n",
       " Trump,\n",
       " The New York TimesBy Adam,\n",
       " Michael S. SchmidtAug,\n",
       " 13,\n",
       " 2018WASHINGTON,\n",
       " Peter Strzok,\n",
       " F.B.I.,\n",
       " Trump,\n",
       " Hillary Clinton,\n",
       " Russia,\n",
       " Strzok,\n",
       " Monday,\n",
       " Trump,\n",
       " 2016,\n",
       " F.B.I.,\n",
       " Lisa Page,\n",
       " Russia,\n",
       " Strzok,\n",
       " 20 years,\n",
       " F.B.I.,\n",
       " the early months,\n",
       " Strzok,\n",
       " F.B.I.,\n",
       " Trump,\n",
       " Strzok,\n",
       " last summer,\n",
       " Robert S. Mueller III,\n",
       " Strzok,\n",
       " Monday,\n",
       " Trump,\n",
       " June,\n",
       " Strzok,\n",
       " F.B.I.,\n",
       " Hillary Clinton,\n",
       " 2016,\n",
       " Strzok,\n",
       " Office of Professional Responsibility,\n",
       " Strzok,\n",
       " 60 days,\n",
       " Strzok,\n",
       " House,\n",
       " July,\n",
       " Strzok,\n",
       " F.B.I.,\n",
       " David Bowdich,\n",
       " the Office of Professional Responsibility,\n",
       " Strzok,\n",
       " F.B.I.,\n",
       " Strzok,\n",
       " Strzok,\n",
       " Trump,\n",
       " F.B.I.,\n",
       " Bowdich,\n",
       " F.B.I.,\n",
       " Christopher A. Wray,\n",
       " Aitan Goelman,\n",
       " Strzok,\n",
       " Wray,\n",
       " Congress,\n",
       " F.B.I.,\n",
       " Goelman,\n",
       " Americans,\n",
       " Goelman,\n",
       " Page,\n",
       " Trump,\n",
       " one,\n",
       " Page,\n",
       " Trump,\n",
       " Strzok,\n",
       " Michael E. Horowitz,\n",
       " Strzok,\n",
       " Strzok,\n",
       " Clinton,\n",
       " just weeks,\n",
       " 2016,\n",
       " Horowitz,\n",
       " Hundreds,\n",
       " over months,\n",
       " Trump,\n",
       " Clinton,\n",
       " Strzok,\n",
       " Trump,\n",
       " Trump,\n",
       " Strzok,\n",
       " Strzok,\n",
       " Strzok,\n",
       " Russia,\n",
       " Trump,\n",
       " Horowitz,\n",
       " Mueller,\n",
       " Strzok,\n",
       " F.B.I.,\n",
       " Page,\n",
       " Mueller,\n",
       " F.B.I.,\n",
       " May,\n",
       " Strzok,\n",
       " F.B.I.,\n",
       " Clinton,\n",
       " Midyear Exam,\n",
       " Anthony D. Weiner,\n",
       " Clinton,\n",
       " Strzok,\n",
       " Trump,\n",
       " Russia,\n",
       " nearly a month,\n",
       " Weiner,\n",
       " Horowitz,\n",
       " Strzok,\n",
       " Clinton,\n",
       " Strzok,\n",
       " Russia,\n",
       " Midyear,\n",
       " Weiner,\n",
       " Strzok,\n",
       " last month,\n",
       " Today,\n",
       " James B. Comey,\n",
       " F.B.I.,\n",
       " Congress,\n",
       " days,\n",
       " Strzok,\n",
       " last month,\n",
       " Strzok,\n",
       " Russia,\n",
       " second,\n",
       " F.B.I.,\n",
       " March,\n",
       " Andrew G. McCabe,\n",
       " McCabe,\n",
       " 48,\n",
       " Georgetown University,\n",
       " Army,\n",
       " F.B.I.,\n",
       " F.B.I.,\n",
       " one,\n",
       " C.I.A.,\n",
       " China,\n",
       " Russian,\n",
       " the United States,\n",
       " ed columnistseditorialsop-ed,\n",
       " Contributorsletterssunday,\n",
       " artsart & designbooksdancemoviesmusicPop Culturetelevisiontheaterwatchingvideo,\n",
       " CenterWirecutterLive EventsThe Learning Networktools & servicesN.Y.C.,\n",
       " ed columnistseditorialsop-ed,\n",
       " Contributorsletterssunday,\n",
       " artsart & designbooksdancemoviesmusicPop Culturetelevisiontheaterwatchingvideo,\n",
       " CenterWirecutterLive EventsThe Learning Networktools & servicesN.Y.C.,\n",
       " The New York Times,\n",
       " ServiceTerms of SaleSite MapHelpSubscriptions)"
      ]
     },
     "execution_count": 253,
     "metadata": {},
     "output_type": "execute_result"
    },
    {
     "data": {
      "text/plain": [
       "(F.B.I.,\n",
       " Peter Strzok,\n",
       " Texts,\n",
       " The New York Times,\n",
       " InLog InToday,\n",
       " Peter Strzok,\n",
       " Texts,\n",
       " byContinue,\n",
       " Peter Strzok,\n",
       " Texts,\n",
       " FiredPeter Strzok,\n",
       " F.B.I.,\n",
       " Trump,\n",
       " The New York TimesBy Adam,\n",
       " Michael S. SchmidtAug,\n",
       " 13,\n",
       " 2018WASHINGTON,\n",
       " Peter Strzok,\n",
       " F.B.I.,\n",
       " Trump,\n",
       " Hillary Clinton,\n",
       " Russia,\n",
       " Strzok,\n",
       " Monday,\n",
       " Trump,\n",
       " 2016,\n",
       " F.B.I.,\n",
       " Lisa Page,\n",
       " Russia,\n",
       " Strzok,\n",
       " 20 years,\n",
       " F.B.I.,\n",
       " the early months,\n",
       " Strzok,\n",
       " F.B.I.,\n",
       " Trump,\n",
       " Strzok,\n",
       " last summer,\n",
       " Robert S. Mueller III,\n",
       " Strzok,\n",
       " Monday,\n",
       " Trump,\n",
       " June,\n",
       " Strzok,\n",
       " F.B.I.,\n",
       " Hillary Clinton,\n",
       " 2016,\n",
       " Strzok,\n",
       " Office of Professional Responsibility,\n",
       " Strzok,\n",
       " 60 days,\n",
       " Strzok,\n",
       " House,\n",
       " July,\n",
       " Strzok,\n",
       " F.B.I.,\n",
       " David Bowdich,\n",
       " the Office of Professional Responsibility,\n",
       " Strzok,\n",
       " F.B.I.,\n",
       " Strzok,\n",
       " Strzok,\n",
       " Trump,\n",
       " F.B.I.,\n",
       " Bowdich,\n",
       " F.B.I.,\n",
       " Christopher A. Wray,\n",
       " Aitan Goelman,\n",
       " Strzok,\n",
       " Wray,\n",
       " Congress,\n",
       " F.B.I.,\n",
       " Goelman,\n",
       " Americans,\n",
       " Goelman,\n",
       " Page,\n",
       " Trump,\n",
       " one,\n",
       " Page,\n",
       " Trump,\n",
       " Strzok,\n",
       " Michael E. Horowitz,\n",
       " Strzok,\n",
       " Strzok,\n",
       " Clinton,\n",
       " just weeks,\n",
       " 2016,\n",
       " Horowitz,\n",
       " Hundreds,\n",
       " over months,\n",
       " Trump,\n",
       " Clinton,\n",
       " Strzok,\n",
       " Trump,\n",
       " Trump,\n",
       " Strzok,\n",
       " Strzok,\n",
       " Strzok,\n",
       " Russia,\n",
       " Trump,\n",
       " Horowitz,\n",
       " Mueller,\n",
       " Strzok,\n",
       " F.B.I.,\n",
       " Page,\n",
       " Mueller,\n",
       " F.B.I.,\n",
       " May,\n",
       " Strzok,\n",
       " F.B.I.,\n",
       " Clinton,\n",
       " Midyear Exam,\n",
       " Anthony D. Weiner,\n",
       " Clinton,\n",
       " Strzok,\n",
       " Trump,\n",
       " Russia,\n",
       " nearly a month,\n",
       " Weiner,\n",
       " Horowitz,\n",
       " Strzok,\n",
       " Clinton,\n",
       " Strzok,\n",
       " Russia,\n",
       " Midyear,\n",
       " Weiner,\n",
       " Strzok,\n",
       " last month,\n",
       " Today,\n",
       " James B. Comey,\n",
       " F.B.I.,\n",
       " Congress,\n",
       " days,\n",
       " Strzok,\n",
       " last month,\n",
       " Strzok,\n",
       " Russia,\n",
       " second,\n",
       " F.B.I.,\n",
       " March,\n",
       " Andrew G. McCabe,\n",
       " McCabe,\n",
       " 48,\n",
       " Georgetown University,\n",
       " Army,\n",
       " F.B.I.,\n",
       " F.B.I.,\n",
       " one,\n",
       " C.I.A.,\n",
       " China,\n",
       " Russian,\n",
       " the United States,\n",
       " ed columnistseditorialsop-ed,\n",
       " Contributorsletterssunday,\n",
       " artsart & designbooksdancemoviesmusicPop Culturetelevisiontheaterwatchingvideo,\n",
       " CenterWirecutterLive EventsThe Learning Networktools & servicesN.Y.C.,\n",
       " ed columnistseditorialsop-ed,\n",
       " Contributorsletterssunday,\n",
       " artsart & designbooksdancemoviesmusicPop Culturetelevisiontheaterwatchingvideo,\n",
       " CenterWirecutterLive EventsThe Learning Networktools & servicesN.Y.C.,\n",
       " The New York Times,\n",
       " ServiceTerms of SaleSite MapHelpSubscriptions)"
      ]
     },
     "execution_count": 253,
     "metadata": {},
     "output_type": "execute_result"
    }
   ],
   "source": [
    "article.ents"
   ]
  }
 ],
 "metadata": {
  "kernelspec": {
   "display_name": "Python 3",
   "language": "python",
   "name": "python3"
  },
  "language_info": {
   "codemirror_mode": {
    "name": "ipython",
    "version": 3
   },
   "file_extension": ".py",
   "mimetype": "text/x-python",
   "name": "python",
   "nbconvert_exporter": "python",
   "pygments_lexer": "ipython3",
   "version": "3.7.4"
  },
  "varInspector": {
   "cols": {
    "lenName": 16,
    "lenType": 16,
    "lenVar": 40
   },
   "kernels_config": {
    "python": {
     "delete_cmd_postfix": "",
     "delete_cmd_prefix": "del ",
     "library": "var_list.py",
     "varRefreshCmd": "print(var_dic_list())"
    },
    "r": {
     "delete_cmd_postfix": ") ",
     "delete_cmd_prefix": "rm(",
     "library": "var_list.r",
     "varRefreshCmd": "cat(var_dic_list()) "
    }
   },
   "types_to_exclude": [
    "module",
    "function",
    "builtin_function_or_method",
    "instance",
    "_Feature"
   ],
   "window_display": false
  }
 },
 "nbformat": 4,
 "nbformat_minor": 2
}
