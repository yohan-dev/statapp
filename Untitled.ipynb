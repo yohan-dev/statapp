{
 "cells": [
  {
   "cell_type": "code",
   "execution_count": null,
   "metadata": {},
   "outputs": [],
   "source": [
    "#dic_list_clean = []\n",
    "#for i in range(photos_treated.shape[0]):\n",
    "#    good_dic = {}\n",
    "#    for key in photos_treated.Ents[i].keys():\n",
    "#        new_list = []\n",
    "#        key_values = photos_treated.Ents[i][key]\n",
    "#        taille = len(photos_treated.Labels[i][key])\n",
    "#        taille_2 = len(key_values)\n",
    "#        taille_rapport = int(taille_2/taille)\n",
    "#        for j in range(taille):\n",
    "#            new_list.append(key_values[j*taille_rapport:(j+1)*taille_rapport])\n",
    "#        good_dic[key] = new_list\n",
    "#    dic_list_clean.append(good_dic)"
   ]
  },
  {
   "cell_type": "code",
   "execution_count": 1,
   "metadata": {},
   "outputs": [
    {
     "name": "stderr",
     "output_type": "stream",
     "text": [
      "c:\\users\\maison\\appdata\\local\\programs\\python\\python36\\lib\\importlib\\_bootstrap.py:219: RuntimeWarning: spacy.morphology.Morphology size changed, may indicate binary incompatibility. Expected 104 from C header, got 112 from PyObject\n",
      "  return f(*args, **kwds)\n",
      "c:\\users\\maison\\appdata\\local\\programs\\python\\python36\\lib\\importlib\\_bootstrap.py:219: RuntimeWarning: spacy.vocab.Vocab size changed, may indicate binary incompatibility. Expected 96 from C header, got 104 from PyObject\n",
      "  return f(*args, **kwds)\n",
      "C:\\Users\\Maison\\AppData\\Roaming\\Python\\Python36\\site-packages\\IPython\\core\\interactiveshell.py:3049: DtypeWarning: Columns (10,15,17,23,24,29,30,37) have mixed types. Specify dtype option on import or set low_memory=False.\n",
      "  interactivity=interactivity, compiler=compiler, result=result)\n"
     ]
    }
   ],
   "source": [
    "import spacy\n",
    "import pandas as pd\n",
    "import numpy as np\n",
    "import neuralcoref\n",
    "import ast\n",
    "import random\n",
    "from tqdm import tqdm_notebook"
   ]
  },
  {
   "cell_type": "code",
   "execution_count": 19,
   "metadata": {},
   "outputs": [
    {
     "name": "stderr",
     "output_type": "stream",
     "text": [
      "C:\\Users\\Maison\\AppData\\Roaming\\Python\\Python36\\site-packages\\IPython\\core\\interactiveshell.py:3049: DtypeWarning: Columns (10,15,17,23,24,29,30,37) have mixed types. Specify dtype option on import or set low_memory=False.\n",
      "  interactivity=interactivity, compiler=compiler, result=result)\n"
     ]
    }
   ],
   "source": [
    "depeches = pd.read_csv(\"depeches.csv\")\n",
    "photos = pd.read_csv(\"photos.csv\",encoding='latin-1')\n",
    "\n",
    "depeches_treated = pd.read_pickle(\"final_dataframe.csv\")\n",
    "photos_treated = pd.read_pickle(\"final_dataframe_photos_1.csv\")"
   ]
  },
  {
   "cell_type": "code",
   "execution_count": 5,
   "metadata": {},
   "outputs": [],
   "source": [
    "scoring = pd.read_csv('scoring.csv', delimiter = \";\")\n",
    "dict_val = {}\n",
    "for i in range(scoring.shape[0]):\n",
    "    dict_val[scoring['function'][i]] = scoring['score_norm'][i]"
   ]
  },
  {
   "cell_type": "code",
   "execution_count": 56,
   "metadata": {},
   "outputs": [],
   "source": [
    "def dep_to_value(dep):\n",
    "    if(dep in dict_val.keys()):\n",
    "        return(dict_val[dep])\n",
    "    else:\n",
    "        return(0)\n",
    "    \n",
    "def dic_to_score(dic):\n",
    "    new_dic = {}\n",
    "    for key in dic.keys():\n",
    "        key_list = dic[key]\n",
    "        score_dep = [[dep_to_value(dep) for dep in l] for l in key_list]\n",
    "        score_dep_max = sum([max(l) for l in score_dep])\n",
    "        new_dic[key] = score_dep_max\n",
    "    return(new_dic)\n",
    "\n",
    "def corefs_to_score(dic):\n",
    "    new_dic = {}\n",
    "    for key in dic.keys():\n",
    "        key_list = dic[key]\n",
    "        if(key_list == []):\n",
    "            score_dep_max = 0\n",
    "        else:\n",
    "            score_dep = [[dep_to_value(dep) for dep in l[1]] for l in key_list]\n",
    "            score_dep_max = sum([max(l) for l in score_dep])\n",
    "        new_dic[key] = score_dep_max\n",
    "    return(new_dic)\n",
    "\n",
    "def dic_to_freq(dic):\n",
    "    new_dic = {}\n",
    "    s = 0\n",
    "    for key in dic.keys():\n",
    "        s += len(dic[key])\n",
    "    for key in dic.keys():\n",
    "        new_dic[key] = len(dic[key])/s\n",
    "    return(new_dic)\n",
    "\n",
    "def dic_to_occ(dic):\n",
    "    new_dic = {}\n",
    "    for key in dic.keys():\n",
    "        new_dic[key] = len(dic[key])\n",
    "    return(new_dic)"
   ]
  },
  {
   "cell_type": "code",
   "execution_count": 21,
   "metadata": {},
   "outputs": [],
   "source": [
    "depeches_treated.Ents = depeches_treated.Ents.apply(dic_to_score)\n",
    "photos_treated.Ents = photos_treated.Ents.apply(dic_to_score)"
   ]
  },
  {
   "cell_type": "code",
   "execution_count": 34,
   "metadata": {},
   "outputs": [],
   "source": [
    "depeches_treated.Corefs = depeches_treated.Corefs.apply(corefs_to_score)\n",
    "photos_treated.Corefs = photos_treated.Corefs.apply(corefs_to_score)"
   ]
  },
  {
   "cell_type": "code",
   "execution_count": 48,
   "metadata": {},
   "outputs": [],
   "source": [
    "depeches_treated['Freqs'] = depeches_treated.Labels.apply(dic_to_freq)\n",
    "photos_treated['Freqs'] = photos_treated.Labels.apply(dic_to_freq)"
   ]
  },
  {
   "cell_type": "code",
   "execution_count": 57,
   "metadata": {},
   "outputs": [],
   "source": [
    "depeches_treated['Occs'] = depeches_treated.Labels.apply(dic_to_occ)\n",
    "photos_treated['Occs'] = photos_treated.Labels.apply(dic_to_occ)"
   ]
  },
  {
   "cell_type": "code",
   "execution_count": 73,
   "metadata": {},
   "outputs": [],
   "source": [
    "def good_ent_type(ent):\n",
    "    if('LAW' in ent or 'QUANTITY' in ent or 'ORDINAL' in ent or \n",
    "       'CARDINAL' in ent or 'MONEY' in ent or 'TIME' in ent or \n",
    "       'PRODUCT' in ent or 'PERCENT' in ent):\n",
    "        return(False)\n",
    "    else:\n",
    "        return(True)"
   ]
  },
  {
   "cell_type": "code",
   "execution_count": 52,
   "metadata": {},
   "outputs": [],
   "source": [
    "hundred_first = [True for _i in range(100000)]\n",
    "for _i in range(100000,photos.shape[0]):\n",
    "    hundred_first.append(False)\n",
    "photos_hundred = photos[hundred_first]"
   ]
  },
  {
   "cell_type": "code",
   "execution_count": 53,
   "metadata": {},
   "outputs": [
    {
     "name": "stdout",
     "output_type": "stream",
     "text": [
      "13335\n",
      "4639\n"
     ]
    }
   ],
   "source": [
    "liste_ev_unique_depeches = []\n",
    "for ev in depeches.event:\n",
    "    for _ev in ev[1:-1].replace(\"'\",\"\").split(', '):\n",
    "        if(_ev not in liste_ev_unique_depeches):\n",
    "            liste_ev_unique_depeches.append(_ev)\n",
    "print(len(liste_ev_unique_depeches))\n",
    "\n",
    "liste_ev_unique_photos_hundred = []\n",
    "for ev in photos_hundred.event:\n",
    "    if(type(ev) != float):\n",
    "        for _ev in ev[1:-1].replace(\"'\",\"\").split(', '):\n",
    "            if(_ev not in liste_ev_unique_photos_hundred):\n",
    "                liste_ev_unique_photos_hundred.append(_ev)\n",
    "print(len(liste_ev_unique_photos_hundred))"
   ]
  },
  {
   "cell_type": "code",
   "execution_count": 54,
   "metadata": {},
   "outputs": [
    {
     "name": "stdout",
     "output_type": "stream",
     "text": [
      "9895\n"
     ]
    }
   ],
   "source": [
    "index_depeches_events = []\n",
    "for ev in depeches.event:\n",
    "    if(set(ev[1:-1].replace(\"'\",\"\").split(', ')).intersection(set(liste_ev_unique_photos_hundred)) != set()):\n",
    "        index_depeches_events.append(True)\n",
    "    else:\n",
    "        index_depeches_events.append(False)\n",
    "print(np.sum(index_depeches_events))"
   ]
  },
  {
   "cell_type": "code",
   "execution_count": 65,
   "metadata": {},
   "outputs": [],
   "source": [
    "depeches_event = depeches[index_depeches_events]\n",
    "depeches_treated_event = depeches_treated[index_depeches_events]"
   ]
  },
  {
   "cell_type": "code",
   "execution_count": 149,
   "metadata": {},
   "outputs": [],
   "source": [
    "def new_score(dic_list, w1 = 1, w2 = 1, w3 = 1):\n",
    "    final_dict = {}\n",
    "    for key in dic_list[0].keys():\n",
    "        score_key = 0\n",
    "        if(good_ent_type(dic_list[0][key])):\n",
    "            score_key = w1*(dic_list[1][key]/dic_list[4][key])+w2*(dic_list[2][key])+w3*(dic_list[3][key])\n",
    "        final_dict[key] = score_key\n",
    "    return(final_dict)"
   ]
  },
  {
   "cell_type": "code",
   "execution_count": 150,
   "metadata": {
    "scrolled": true
   },
   "outputs": [],
   "source": [
    "final_score_depeches = [new_score(depeches_treated_event.iloc[i]) for i in range(depeches_treated_event.shape[0])]\n",
    "final_score_photos = [new_score(photos_treated.iloc[i]) for i in range(photos_treated.shape[0])]"
   ]
  },
  {
   "cell_type": "code",
   "execution_count": 156,
   "metadata": {},
   "outputs": [],
   "source": [
    "def dict_score(d1,d2):\n",
    "    score = 0\n",
    "    for key in d1.keys():\n",
    "        if(key in d2.keys()):\n",
    "            score += d1[key]+d2[key]\n",
    "    return(score)"
   ]
  },
  {
   "cell_type": "code",
   "execution_count": 163,
   "metadata": {},
   "outputs": [],
   "source": [
    "M = np.zeros((9895,100000))"
   ]
  },
  {
   "cell_type": "code",
   "execution_count": 164,
   "metadata": {},
   "outputs": [
    {
     "data": {
      "text/plain": [
       "(9895, 100000)"
      ]
     },
     "execution_count": 164,
     "metadata": {},
     "output_type": "execute_result"
    }
   ],
   "source": [
    "M.shape"
   ]
  },
  {
   "cell_type": "code",
   "execution_count": 167,
   "metadata": {},
   "outputs": [
    {
     "name": "stderr",
     "output_type": "stream",
     "text": [
      "C:\\Users\\Maison\\AppData\\Roaming\\Python\\Python36\\site-packages\\ipykernel_launcher.py:1: TqdmDeprecationWarning: This function will be removed in tqdm==5.0.0\n",
      "Please use `tqdm.notebook.tqdm` instead of `tqdm.tqdm_notebook`\n",
      "  \"\"\"Entry point for launching an IPython kernel.\n"
     ]
    },
    {
     "data": {
      "application/vnd.jupyter.widget-view+json": {
       "model_id": "f8821dea10ad4cad98833702bd7350e6",
       "version_major": 2,
       "version_minor": 0
      },
      "text/plain": [
       "HBox(children=(FloatProgress(value=0.0, max=8145.0), HTML(value='')))"
      ]
     },
     "metadata": {},
     "output_type": "display_data"
    },
    {
     "name": "stdout",
     "output_type": "stream",
     "text": [
      "\n"
     ]
    }
   ],
   "source": [
    "for i in tqdm_notebook(range(1750,9895)):\n",
    "    for j in range(100000):\n",
    "        M[i,j] = dict_score(final_score_depeches[i], final_score_photos[j])"
   ]
  },
  {
   "cell_type": "code",
   "execution_count": 221,
   "metadata": {},
   "outputs": [],
   "source": [
    "def score_dep_pho(i):\n",
    "    score = []\n",
    "    for _i in range(photos_treated.shape[0]):\n",
    "        score.append((_i, new_score(depeches_treated_event.iloc[i], photos_treated.iloc[_i])))\n",
    "    return(score)\n",
    "\n",
    "def best_score(i,n):\n",
    "    L = [(j,M[i,j]) for j in range(100000)]\n",
    "    score = sorted(L, key = lambda tup: tup[1], reverse = True)\n",
    "    return(score[:n])\n",
    "\n",
    "def is_good_event(i,n):\n",
    "    events = depeches_event.iloc[i].event[1:-1].replace(\"'\",\"\").split(', ')\n",
    "    scores = best_score(i, n)\n",
    "    for p in scores:\n",
    "        if(type(photos_hundred.iloc[p[0]].event) != float):\n",
    "            photos_events = photos_hundred.iloc[p[0]].event[1:-1].replace(\"'\",\"\").split(', ')\n",
    "            if set(events).intersection(set(photos_events)) != set():\n",
    "                return(True)\n",
    "    return(False)\n",
    "\n",
    "def global_good_event(i,n):\n",
    "    #rand_ind = [random.randrange(0, depeches_event.shape[0]) for _i in range(i)]\n",
    "    score_global = [is_good_event(_i, n) for _i in tqdm_notebook(range(i))]\n",
    "    return(score_global)"
   ]
  },
  {
   "cell_type": "code",
   "execution_count": 222,
   "metadata": {},
   "outputs": [
    {
     "name": "stderr",
     "output_type": "stream",
     "text": [
      "C:\\Users\\Maison\\AppData\\Roaming\\Python\\Python36\\site-packages\\ipykernel_launcher.py:24: TqdmDeprecationWarning: This function will be removed in tqdm==5.0.0\n",
      "Please use `tqdm.notebook.tqdm` instead of `tqdm.tqdm_notebook`\n"
     ]
    },
    {
     "data": {
      "application/vnd.jupyter.widget-view+json": {
       "model_id": "d7075517b1cb456781a7d98783f0efe8",
       "version_major": 2,
       "version_minor": 0
      },
      "text/plain": [
       "HBox(children=(FloatProgress(value=0.0, max=9895.0), HTML(value='')))"
      ]
     },
     "metadata": {},
     "output_type": "display_data"
    },
    {
     "name": "stdout",
     "output_type": "stream",
     "text": [
      "\n"
     ]
    }
   ],
   "source": [
    "test = global_good_event(9895,10)"
   ]
  },
  {
   "cell_type": "code",
   "execution_count": 223,
   "metadata": {
    "scrolled": true
   },
   "outputs": [
    {
     "name": "stdout",
     "output_type": "stream",
     "text": [
      "0.5291561394643759\n"
     ]
    }
   ],
   "source": [
    "np.mean(test)"
   ]
  },
  {
   "cell_type": "code",
   "execution_count": 225,
   "metadata": {},
   "outputs": [
    {
     "data": {
      "text/plain": [
       "[(50569, 6.218710888823529),\n",
       " (50570, 6.218710888823529),\n",
       " (50504, 6.212174941111111),\n",
       " (50509, 6.212174941111111),\n",
       " (50513, 6.212174941111111),\n",
       " (50537, 6.212174941111111),\n",
       " (50568, 6.212174941111111),\n",
       " (50571, 6.212174941111111),\n",
       " (50572, 6.212174941111111),\n",
       " (50573, 6.212174941111111)]"
      ]
     },
     "execution_count": 225,
     "metadata": {},
     "output_type": "execute_result"
    }
   ],
   "source": [
    "best_score(0,10)"
   ]
  },
  {
   "cell_type": "code",
   "execution_count": 226,
   "metadata": {},
   "outputs": [
    {
     "data": {
      "text/plain": [
       "'A picture shows the burnt entrance of the US embassy in the Iraqi capital Baghdad on January 1, 2020 following a demonstration by supporters of the largely Iranian-trained Hashed al-Shaabi paramilitary force. Thousands of Iraqi supporters of the largely Iranian-trained Hashed al-Shaabi paramilitary force had gathered at the embassy, outraged by US strikes that killed 25 Hashed fighters over the weekend. They marched unimpeded through the checkpoints of the usually high-security Green Zone to the embassy gates, where they broke through a reception area, chanting \"Death to America\" and scribbling pro-Iran graffiti on the walls. / AFP / AHMAD AL-RUBAYE'"
      ]
     },
     "execution_count": 226,
     "metadata": {},
     "output_type": "execute_result"
    }
   ],
   "source": [
    "photos_hundred.iloc[50569].caption"
   ]
  },
  {
   "cell_type": "code",
   "execution_count": 227,
   "metadata": {},
   "outputs": [
    {
     "data": {
      "text/plain": [
       "'Iranian cyberpolice have arrested 24 people accused of online rumour-mongering about the spread of the coronavirus in the country, semi-official news agency ISNA reported on Wednesday.\\n The arrests were carried out after the establishment of a special unit to \"combat rumour-mongers regarding the \\'spread of coronavirus in the country\\',\" he was quoted as saying.'"
      ]
     },
     "execution_count": 227,
     "metadata": {},
     "output_type": "execute_result"
    }
   ],
   "source": [
    "depeches_event.iloc[0].news2"
   ]
  }
 ],
 "metadata": {
  "kernelspec": {
   "display_name": "Python 3",
   "language": "python",
   "name": "python3"
  },
  "language_info": {
   "codemirror_mode": {
    "name": "ipython",
    "version": 3
   },
   "file_extension": ".py",
   "mimetype": "text/x-python",
   "name": "python",
   "nbconvert_exporter": "python",
   "pygments_lexer": "ipython3",
   "version": "3.6.8"
  },
  "varInspector": {
   "cols": {
    "lenName": 16,
    "lenType": 16,
    "lenVar": 40
   },
   "kernels_config": {
    "python": {
     "delete_cmd_postfix": "",
     "delete_cmd_prefix": "del ",
     "library": "var_list.py",
     "varRefreshCmd": "print(var_dic_list())"
    },
    "r": {
     "delete_cmd_postfix": ") ",
     "delete_cmd_prefix": "rm(",
     "library": "var_list.r",
     "varRefreshCmd": "cat(var_dic_list()) "
    }
   },
   "types_to_exclude": [
    "module",
    "function",
    "builtin_function_or_method",
    "instance",
    "_Feature"
   ],
   "window_display": false
  }
 },
 "nbformat": 4,
 "nbformat_minor": 2
}
